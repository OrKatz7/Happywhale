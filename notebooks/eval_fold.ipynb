{
 "cells": [
  {
   "cell_type": "code",
   "execution_count": 1,
   "id": "e8a0ed03-da1c-4e48-890e-940c5e44d191",
   "metadata": {},
   "outputs": [
    {
     "name": "stderr",
     "output_type": "stream",
     "text": [
      "/home/kaor/.local/lib/python3.7/site-packages/albumentations/augmentations/transforms.py:1802: FutureWarning: This class has been deprecated. Please use RandomBrightnessContrast\n",
      "  FutureWarning,\n",
      "/home/kaor/.local/lib/python3.7/site-packages/albumentations/augmentations/transforms.py:1828: FutureWarning: This class has been deprecated. Please use RandomBrightnessContrast\n",
      "  FutureWarning,\n",
      "/home/kaor/.local/lib/python3.7/site-packages/albumentations/augmentations/transforms.py:691: FutureWarning: This class has been deprecated. Please use CoarseDropout\n",
      "  FutureWarning,\n",
      "/home/kaor/.local/lib/python3.7/site-packages/albumentations/augmentations/transforms.py:691: FutureWarning: This class has been deprecated. Please use CoarseDropout\n",
      "  FutureWarning,\n"
     ]
    }
   ],
   "source": [
    "from utils import seed_torch\n",
    "from train import main\n",
    "import train_configs\n",
    "import models"
   ]
  },
  {
   "cell_type": "code",
   "execution_count": 2,
   "id": "aa1953bf-9e25-447e-9cfd-2c1c9c40d810",
   "metadata": {},
   "outputs": [],
   "source": [
    "config1 = train_configs.config16v6samplerAugMixB3.config\n",
    "seed_torch(config1.seed)"
   ]
  },
  {
   "cell_type": "code",
   "execution_count": 4,
   "id": "e414aa6e-180a-4b3c-b4f1-1a48a43239e5",
   "metadata": {},
   "outputs": [],
   "source": [
    "import torch\n",
    "import os\n",
    "import pandas as pd\n",
    "from matplotlib import pyplot as plt\n",
    "import numpy as np\n",
    "from models.eff import get_model\n",
    "from runner import *\n",
    "from post_processing import *\n",
    "from datasets import *\n",
    "import bz2\n",
    "import pickle\n",
    "import _pickle as cPickle\n",
    "\n",
    "def compressed_pickle(title, data):\n",
    "    with bz2.BZ2File(title + '.pbz2', 'w') as f:\n",
    "        cPickle.dump(data, f)\n",
    "        \n",
    "def decompress_pickle(file):\n",
    "     data = bz2.BZ2File(file, 'rb')\n",
    "     data = cPickle.load(data)\n",
    "     return data"
   ]
  },
  {
   "cell_type": "code",
   "execution_count": 5,
   "id": "6be61ad4-7b0b-4896-8e50-35215536ca3b",
   "metadata": {},
   "outputs": [],
   "source": [
    "train = pd.read_csv(config1.kfold_csv)\n",
    "test = pd.read_csv('../../whale/sample_submission.csv')"
   ]
  },
  {
   "cell_type": "code",
   "execution_count": 6,
   "id": "25f982f7-a779-4476-b1a4-fd8f6fe263a1",
   "metadata": {},
   "outputs": [
    {
     "data": {
      "text/plain": [
       "['/sise/liorrk-group/OrDanOfir/output/exp16v6AugmixB4_fold0.pbz2',\n",
       " '/sise/liorrk-group/OrDanOfir/output/exp16v6AugmixB3_fold0.pbz2',\n",
       " '/sise/liorrk-group/OrDanOfir/output/exp16v4sampler_fold0.pbz2',\n",
       " '/sise/liorrk-group/OrDanOfir/output/exp16v6Augmix_fold0.pbz2',\n",
       " '/sise/liorrk-group/OrDanOfir/output/exp16v6sampler_fold0.pbz2',\n",
       " '/sise/liorrk-group/OrDanOfir/output/exp21b6_fold0.pbz2']"
      ]
     },
     "execution_count": 6,
     "metadata": {},
     "output_type": "execute_result"
    }
   ],
   "source": [
    "import glob\n",
    "names = glob.glob(\"/sise/liorrk-group/OrDanOfir/output/*fold0*.pbz2\")\n",
    "names = names[:-2]\n",
    "names"
   ]
  },
  {
   "cell_type": "code",
   "execution_count": 7,
   "id": "77bafcda-cc75-45c6-909f-44ec3b90f99e",
   "metadata": {},
   "outputs": [
    {
     "name": "stderr",
     "output_type": "stream",
     "text": [
      "  0%|          | 0/6 [00:00<?, ?it/s]"
     ]
    },
    {
     "name": "stdout",
     "output_type": "stream",
     "text": [
      "/sise/liorrk-group/OrDanOfir/output/exp16v6AugmixB4_fold0.pbz2\n"
     ]
    },
    {
     "name": "stderr",
     "output_type": "stream",
     "text": [
      " 17%|█▋        | 1/6 [00:09<00:48,  9.70s/it]"
     ]
    },
    {
     "name": "stdout",
     "output_type": "stream",
     "text": [
      "/sise/liorrk-group/OrDanOfir/output/exp16v6AugmixB3_fold0.pbz2\n"
     ]
    },
    {
     "name": "stderr",
     "output_type": "stream",
     "text": [
      " 33%|███▎      | 2/6 [00:19<00:38,  9.70s/it]"
     ]
    },
    {
     "name": "stdout",
     "output_type": "stream",
     "text": [
      "/sise/liorrk-group/OrDanOfir/output/exp16v4sampler_fold0.pbz2\n"
     ]
    },
    {
     "name": "stderr",
     "output_type": "stream",
     "text": [
      " 50%|█████     | 3/6 [00:28<00:29,  9.67s/it]"
     ]
    },
    {
     "name": "stdout",
     "output_type": "stream",
     "text": [
      "/sise/liorrk-group/OrDanOfir/output/exp16v6Augmix_fold0.pbz2\n"
     ]
    },
    {
     "name": "stderr",
     "output_type": "stream",
     "text": [
      " 67%|██████▋   | 4/6 [00:38<00:19,  9.56s/it]"
     ]
    },
    {
     "name": "stdout",
     "output_type": "stream",
     "text": [
      "/sise/liorrk-group/OrDanOfir/output/exp16v6sampler_fold0.pbz2\n"
     ]
    },
    {
     "name": "stderr",
     "output_type": "stream",
     "text": [
      " 83%|████████▎ | 5/6 [00:47<00:09,  9.52s/it]"
     ]
    },
    {
     "name": "stdout",
     "output_type": "stream",
     "text": [
      "/sise/liorrk-group/OrDanOfir/output/exp21b6_fold0.pbz2\n"
     ]
    },
    {
     "name": "stderr",
     "output_type": "stream",
     "text": [
      "100%|██████████| 6/6 [00:57<00:00,  9.54s/it]\n"
     ]
    }
   ],
   "source": [
    "EMB_test = []\n",
    "EMB_val = []\n",
    "for exp in tqdm(names):\n",
    "    print(exp)\n",
    "    data = decompress_pickle(exp)\n",
    "    EMB_test.append(data['emb_test'])\n",
    "    EMB_val.append(data['emb_val'])\n",
    "    targets_val = data['targets_val']\n",
    "    targets_filename = data['targets_filename']\n",
    "emb_test = np.concatenate(EMB_test,-1)\n",
    "emb_val = np.concatenate(EMB_val,-1)"
   ]
  },
  {
   "cell_type": "code",
   "execution_count": 8,
   "id": "daa37119-338c-4c49-90c6-e7a67e1261a7",
   "metadata": {},
   "outputs": [],
   "source": [
    "def map_per_image(label, predictions):\n",
    "    indexes = np.unique(predictions, return_index=True)[1]\n",
    "    predictions = [predictions[index] for index in sorted(indexes)]\n",
    "    t = np.where(np.array(predictions[:5]).astype(int)==label)[0]\n",
    "    if len(t)>0:\n",
    "        return 1 / (t[0] + 1)\n",
    "    else:\n",
    "        return 0.0"
   ]
  },
  {
   "cell_type": "code",
   "execution_count": 9,
   "id": "db1c8c56-416e-4f64-bf03-96cbb7973e61",
   "metadata": {},
   "outputs": [
    {
     "name": "stderr",
     "output_type": "stream",
     "text": [
      "/home/kaor/.conda/envs/openmmlab/lib/python3.7/site-packages/ipykernel_launcher.py:3: FutureWarning: In a future version of pandas all arguments of concat except for the argument 'objs' will be keyword-only\n",
      "  This is separate from the ipykernel package so we can avoid doing imports until\n"
     ]
    }
   ],
   "source": [
    "train = pd.read_csv(config1.kfold_csv)\n",
    "test = pd.read_csv('../../whale/sample_submission.csv')\n",
    "df = pd.concat([train,pd.DataFrame(emb_val)],1)\n",
    "df_train = df[(df.fold!=0) & (df.fold!=-1)]\n",
    "df_val = df[(df.fold==0) | (df.fold==-1)]\n",
    "df_val.reset_index(drop=True,inplace=True)\n",
    "df_train.reset_index(drop=True,inplace=True)\n",
    "targets = df_train['classes'].values"
   ]
  },
  {
   "cell_type": "code",
   "execution_count": 10,
   "id": "a0a7197e-f5d1-49fd-a50d-08ac642aa9a3",
   "metadata": {},
   "outputs": [
    {
     "name": "stderr",
     "output_type": "stream",
     "text": [
      "100%|██████████| 276/276 [00:00<00:00, 536.18it/s]\n",
      "100%|██████████| 276/276 [00:00<00:00, 965.41it/s]\n",
      "100%|██████████| 276/276 [00:00<00:00, 933.94it/s]\n",
      "100%|██████████| 276/276 [00:00<00:00, 943.52it/s]\n",
      "100%|██████████| 276/276 [00:00<00:00, 957.50it/s]\n",
      "100%|██████████| 276/276 [00:00<00:00, 943.93it/s]\n"
     ]
    }
   ],
   "source": [
    "vals_blend = []\n",
    "labels_blend = []\n",
    "inds_blend = []\n",
    "for i in range(len(EMB_test)):    \n",
    "    vals, inds = get_topk_cossim_sub(df_val.values[:,8:].astype(float)[:,i*512:(1+i)*512], df_train.values[:,8:].astype(float)[:,i*512:(1+i)*512], k=1500)\n",
    "    vals = vals.data.cpu().numpy()\n",
    "    inds = inds.data.cpu().numpy()\n",
    "    labels = np.concatenate([targets[inds[:,i]].reshape(-1,1) for i in range(inds.shape[1])], axis=1)\n",
    "    vals_blend.append(vals)\n",
    "    labels_blend.append(labels)\n",
    "    inds_blend.append(inds)"
   ]
  },
  {
   "cell_type": "code",
   "execution_count": 11,
   "id": "16a43bd2-5782-464c-8e8d-51441e64ac40",
   "metadata": {},
   "outputs": [
    {
     "data": {
      "text/plain": [
       "17630"
      ]
     },
     "execution_count": 11,
     "metadata": {},
     "output_type": "execute_result"
    }
   ],
   "source": [
    "len(vals_blend[0])"
   ]
  },
  {
   "cell_type": "code",
   "execution_count": 12,
   "id": "2ecbcfed-bbcd-4d38-83f6-ebd4fabe58ff",
   "metadata": {},
   "outputs": [],
   "source": [
    "rank = np.zeros([len(df_val),16000])\n",
    "score = np.zeros([len(df_val),16000])\n",
    "std_rank = np.zeros([len(df_val),16000])\n",
    "std_score = np.zeros([len(df_val),16000])"
   ]
  },
  {
   "cell_type": "code",
   "execution_count": 13,
   "id": "d2943acb-5965-445d-9e89-da0d6ba7bd97",
   "metadata": {},
   "outputs": [
    {
     "name": "stderr",
     "output_type": "stream",
     "text": [
      "100%|██████████| 6/6 [00:07<00:00,  1.30s/it]\n"
     ]
    }
   ],
   "source": [
    "w = [1]*len(labels_blend)\n",
    "for row in tqdm(range(len(labels_blend))):\n",
    "    for i in range(len(labels_blend[row])):\n",
    "        for j,l in enumerate(labels_blend[row][i][0:50]):\n",
    "            rank[i,l] += 1/(j+1)\n",
    "            score[i,l]+=vals_blend[row][i][j]"
   ]
  },
  {
   "cell_type": "code",
   "execution_count": 14,
   "id": "e3be1ed9-ddbd-4129-9bb8-84e80800c8dd",
   "metadata": {},
   "outputs": [
    {
     "data": {
      "text/plain": [
       "(4733, 4.0222386222023925, 13.00985249876976)"
      ]
     },
     "execution_count": 14,
     "metadata": {},
     "output_type": "execute_result"
    }
   ],
   "source": [
    "i=0\n",
    "rank[i].argmax(),rank[i].max(),score[i].max()"
   ]
  },
  {
   "cell_type": "code",
   "execution_count": 15,
   "id": "d4c59fbe-7d52-41b7-9cb9-22cdaa81061f",
   "metadata": {},
   "outputs": [
    {
     "data": {
      "text/plain": [
       "(17630,)"
      ]
     },
     "execution_count": 15,
     "metadata": {},
     "output_type": "execute_result"
    }
   ],
   "source": [
    "rank.argmax(1).shape"
   ]
  },
  {
   "cell_type": "code",
   "execution_count": 73,
   "id": "fcddb0ec-3d1e-47c3-9dca-3b4bb596cd6d",
   "metadata": {},
   "outputs": [],
   "source": [
    "df_val2 = df_val[df_val.columns[0:8]].copy()"
   ]
  },
  {
   "cell_type": "code",
   "execution_count": 74,
   "id": "5d55873d-7ee1-4cd1-9df8-7ab905323d81",
   "metadata": {},
   "outputs": [],
   "source": [
    "rank2 = rank.argsort(1)\n",
    "rank_max = np.sort(rank,axis=1)\n",
    "score_max = np.sort(score,axis=1)"
   ]
  },
  {
   "cell_type": "code",
   "execution_count": 75,
   "id": "bda0ea7e-30a6-4d1b-a62f-b91215f25eec",
   "metadata": {},
   "outputs": [
    {
     "data": {
      "text/plain": [
       "array([0.04920809, 0.05721493, 0.04086269, ..., 0.04066165, 0.04967054,\n",
       "       0.02944606], dtype=float32)"
      ]
     },
     "execution_count": 75,
     "metadata": {},
     "output_type": "execute_result"
    }
   ],
   "source": [
    "vals_blend = np.array(vals_blend)\n",
    "vals_blend[:,:,0].std(0)"
   ]
  },
  {
   "cell_type": "code",
   "execution_count": 76,
   "id": "e62f586d-abfb-468e-a1c4-3ed10dea4da7",
   "metadata": {
    "tags": []
   },
   "outputs": [],
   "source": [
    "for row in range(5):\n",
    "    df_val2[f'pred{row}'] = rank2[:,-(row+1)]\n",
    "    df_val2[f'rank{row}'] = rank_max[:,-(row+1)]\n",
    "    df_val2[f'score{row}'] = score_max[:,-(row+1)]\n",
    "    df_val2[f'vals_blend{row}'] = vals_blend[:,:,row].std(0)\n",
    "    df_val2[f'vals_mean{row}'] = vals_blend[:,:,row].mean(0)\n",
    "df_val2['score_std'] = score.std(1)\n",
    "df_val2['rank_std'] = rank.std(1)\n",
    "df_val2['score_mean'] = score.mean(1)\n",
    "df_val2['rank_mean'] = rank.mean(1)"
   ]
  },
  {
   "cell_type": "code",
   "execution_count": 77,
   "id": "4386c731-43fa-456d-a4d1-7114283e5633",
   "metadata": {},
   "outputs": [
    {
     "data": {
      "text/plain": [
       "(0.8057811753463927, 1.8903883199005154)"
      ]
     },
     "execution_count": 77,
     "metadata": {},
     "output_type": "execute_result"
    }
   ],
   "source": [
    "6746/(df_val2.fold==0).sum(),df_val2[df_val2.pred0==df_val2.classes]['rank0'].min()"
   ]
  },
  {
   "cell_type": "code",
   "execution_count": 78,
   "id": "3f1968e0-5eb0-4704-aa17-6b5206e6d36a",
   "metadata": {},
   "outputs": [
    {
     "data": {
      "text/plain": [
       "17630"
      ]
     },
     "execution_count": 78,
     "metadata": {},
     "output_type": "execute_result"
    }
   ],
   "source": [
    "df_val3 = df_val2.sample(frac=1.0)\n",
    "len(df_val3)"
   ]
  },
  {
   "cell_type": "code",
   "execution_count": 81,
   "id": "343ddf5d-167e-4278-b2a2-c55d1ece6ce5",
   "metadata": {},
   "outputs": [
    {
     "data": {
      "text/plain": [
       "0.8475753604193971"
      ]
     },
     "execution_count": 81,
     "metadata": {},
     "output_type": "execute_result"
    }
   ],
   "source": [
    "from sklearn.ensemble import RandomForestClassifier,RandomForestRegressor\n",
    "cl = [f'pred{row}' for row in range(5)]\n",
    "cl += [f'rank{row}' for row in range(5)]\n",
    "cl += [f'score{row}' for row in range(5)]\n",
    "cl += [f'vals_blend{row}' for row in range(5)]\n",
    "cl += [f'vals_mean{row}' for row in range(5)]\n",
    "cl +=['score_std','rank_std','score_mean','rank_mean']\n",
    "reg = RandomForestClassifier(max_depth=5, random_state=0).fit(df_val3[cl].values[:10000], df_val3['fold'].values[:10000])\n",
    "reg.score(df_val3[cl].values[10000:], df_val3['fold'].values[10000:])"
   ]
  },
  {
   "cell_type": "code",
   "execution_count": 82,
   "id": "3ed89335-7596-420d-953a-5b0f989167ac",
   "metadata": {},
   "outputs": [
    {
     "data": {
      "text/plain": [
       "0.8623853211009175"
      ]
     },
     "execution_count": 82,
     "metadata": {},
     "output_type": "execute_result"
    }
   ],
   "source": [
    "import lightgbm as lgb\n",
    "from sklearn.metrics import accuracy_score\n",
    "X_train = df_val3[cl].values[:10000]\n",
    "y_train = df_val3['fold'].values[:10000]+1\n",
    "X_test = df_val3[cl].values[10000:]\n",
    "y_test = df_val3['fold'].values[10000:]+1\n",
    "clf = lgb.LGBMClassifier(learning_rate=0.07,max_depth=10,random_state=42)\n",
    "clf.fit(X_train, y_train)\n",
    "y_pred=clf.predict(X_test)\n",
    "accuracy=accuracy_score(y_pred, y_test)\n",
    "accuracy"
   ]
  }
 ],
 "metadata": {
  "kernelspec": {
   "display_name": "Python (mmlabv2)",
   "language": "python",
   "name": "openmmlab"
  },
  "language_info": {
   "codemirror_mode": {
    "name": "ipython",
    "version": 3
   },
   "file_extension": ".py",
   "mimetype": "text/x-python",
   "name": "python",
   "nbconvert_exporter": "python",
   "pygments_lexer": "ipython3",
   "version": "3.7.12"
  }
 },
 "nbformat": 4,
 "nbformat_minor": 5
}
