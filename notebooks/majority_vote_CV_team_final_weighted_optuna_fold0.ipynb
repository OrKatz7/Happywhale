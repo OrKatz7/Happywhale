{
 "cells": [
  {
   "cell_type": "markdown",
   "metadata": {},
   "source": [
    "Majority vote from team's CV"
   ]
  },
  {
   "cell_type": "code",
   "execution_count": 1,
   "metadata": {
    "scrolled": true
   },
   "outputs": [],
   "source": [
    "import numpy as np\n",
    "import matplotlib.pyplot as plt\n",
    "import pandas as pd\n",
    "import json\n",
    "import glob\n",
    "\n",
    "from tqdm import tqdm\n",
    "import seaborn as sns\n",
    "from collections import Counter\n",
    "\n",
    "import cv2"
   ]
  },
  {
   "cell_type": "code",
   "execution_count": 2,
   "metadata": {},
   "outputs": [],
   "source": [
    "import cudf, cuml, cupy\n",
    "from cuml.feature_extraction.text import TfidfVectorizer\n",
    "from cuml.neighbors import NearestNeighbors"
   ]
  },
  {
   "cell_type": "code",
   "execution_count": 3,
   "metadata": {},
   "outputs": [],
   "source": [
    "from collections import Counter\n",
    "from sklearn.metrics import pairwise_distances\n",
    "from sklearn.preprocessing import normalize"
   ]
  },
  {
   "cell_type": "code",
   "execution_count": 4,
   "metadata": {},
   "outputs": [],
   "source": [
    "from collections import defaultdict"
   ]
  },
  {
   "cell_type": "code",
   "execution_count": 5,
   "metadata": {},
   "outputs": [],
   "source": [
    "import bz2\n",
    "import pickle\n",
    "import _pickle as cPickle\n",
    "\n",
    "def compressed_pickle(title, data):\n",
    "    with bz2.BZ2File(title + '.pbz2', 'w') as f:\n",
    "        cPickle.dump(data, f)\n",
    "        \n",
    "def decompress_pickle(file):\n",
    "    data = bz2.BZ2File(file, 'rb')\n",
    "    data = cPickle.load(data)\n",
    "    return data"
   ]
  },
  {
   "cell_type": "code",
   "execution_count": 6,
   "metadata": {},
   "outputs": [],
   "source": [
    "#exps = !ls ../input/whale-21-3-2022/ | grep pbz2 | grep fold4\n",
    "#exps"
   ]
  },
  {
   "cell_type": "code",
   "execution_count": null,
   "metadata": {},
   "outputs": [],
   "source": []
  },
  {
   "cell_type": "code",
   "execution_count": 7,
   "metadata": {},
   "outputs": [],
   "source": [
    "FOLD=0"
   ]
  },
  {
   "cell_type": "code",
   "execution_count": 8,
   "metadata": {},
   "outputs": [],
   "source": [
    "exps_all = [\n",
    "    [\n",
    "         'exp16v6Augmix_fold0.pbz2',\n",
    "         'exp16v4sampler_fold0.pbz2',\n",
    "         'exp16v6AugMixNew4_fold0.pbz2',\n",
    "         'exp16v6AugMixNew4_fold0_tta.pbz2',\n",
    "         'exp16v6AugmixB3_fold0.pbz2',\n",
    "         'exp16v6AugmixB4Step2_fold0.pbz2',\n",
    "         'exp16v6AugmixB4Step2_fold0_remove_background.pbz2',\n",
    "         'exp16v6AugmixB4_fold0.pbz2',\n",
    "         'exp16v6AugmixB4_fold0_remove_background.pbz2',\n",
    "         'exp16v6AugmixFullB4_fold0.pbz2',\n",
    "         'exp16v6sampler_fold0.pbz2',\n",
    "         'exp21b6_fold0.pbz2',\n",
    "         'exp21b6_fold0_remove_background.pbz2'\n",
    "    ],\n",
    "    [\n",
    "         'exp16v6Augmix_fold1.pbz2',\n",
    "         'exp16v6AugMixNew4_fold1.pbz2',\n",
    "         'exp16v6AugMixNew4_fold1_tta.pbz2',\n",
    "         'exp16v6AugmixB3_fold1.pbz2',\n",
    "         'exp16v6AugmixB4Step2_fold1.pbz2',\n",
    "         'exp16v6AugmixB4Step2_fold1_remove_background.pbz2',\n",
    "         'exp16v6AugmixB4_fold1.pbz2',\n",
    "         'exp21b6_fold1_remove_background.pbz2'\n",
    "    ],\n",
    "    [\n",
    "         'exp16v6Augmix_fold2.pbz2',\n",
    "         'exp16v6AugMixNew4_fold2.pbz2',\n",
    "         'exp16v6AugMixNew4_fold2_tta.pbz2',\n",
    "         'exp16v6AugmixB3_fold2.pbz2',\n",
    "         'exp16v6AugmixB4Full_fold2.pbz2',\n",
    "         'exp16v6AugmixB4Step2_fold2.pbz2',\n",
    "         'exp16v6AugmixB4_fold2.pbz2',\n",
    "         'exp16v6AugmixB4_fold2_remove_background.pbz2',\n",
    "         'exp21b6_fold2_remove_background.pbz2'\n",
    "    ],\n",
    "    [\n",
    "         'exp16v6Augmix_fold3.pbz2',\n",
    "         'exp16v6AugMix1536_fold3.pbz2',\n",
    "         'exp16v6AugmixB3_fold3.pbz2',\n",
    "         'exp16v6AugmixB4Full_fold3.pbz2',\n",
    "         'exp16v6AugmixB4Step2_fold3.pbz2',\n",
    "         'exp16v6AugmixB4_fold3_remove_background.pbz2',\n",
    "         'exp21b6_fold3_remove_background.pbz2'\n",
    "    ],\n",
    "    [\n",
    "         'exp16v6Augmix_fold4.pbz2',\n",
    "         'exp16v6AugMix1536_fold4.pbz2',\n",
    "         'exp16v6AugmixB3_fold4.pbz2',\n",
    "         'exp16v6AugmixB4Step2_fold4.pbz2',\n",
    "         'exp16v6AugmixB4_fold4_remove_background.pbz2',\n",
    "    ]\n",
    "]"
   ]
  },
  {
   "cell_type": "code",
   "execution_count": 9,
   "metadata": {},
   "outputs": [],
   "source": [
    "exps = exps_all[FOLD]"
   ]
  },
  {
   "cell_type": "code",
   "execution_count": 10,
   "metadata": {
    "scrolled": false
   },
   "outputs": [
    {
     "data": {
      "text/plain": [
       "(51033, 8)"
      ]
     },
     "execution_count": 10,
     "metadata": {},
     "output_type": "execute_result"
    }
   ],
   "source": [
    "fold2 = pd.read_csv(\"/kaggle/happywhale/input/whale-21-3-2022/fold2.csv\")\n",
    "fold2.shape"
   ]
  },
  {
   "cell_type": "code",
   "execution_count": 11,
   "metadata": {},
   "outputs": [],
   "source": [
    "valid = fold2.query(\"fold == @FOLD\").reset_index()\n",
    "train = fold2.query(\"fold != @FOLD\").reset_index()"
   ]
  },
  {
   "cell_type": "code",
   "execution_count": 12,
   "metadata": {},
   "outputs": [],
   "source": [
    "valid_ind = (fold2.fold == FOLD).values\n",
    "train_ind = (fold2.fold != FOLD).values"
   ]
  },
  {
   "cell_type": "code",
   "execution_count": null,
   "metadata": {},
   "outputs": [],
   "source": []
  },
  {
   "cell_type": "code",
   "execution_count": 13,
   "metadata": {},
   "outputs": [],
   "source": [
    "train_inddividual_id_lis = train[\"individual_id\"].values\n",
    "valid_inddividual_id_lis = valid[\"individual_id\"].values\n",
    "\n",
    "def get_result_each(files):\n",
    "    DIRNAME =\"../input/whale-21-3-2022/\"\n",
    "      \n",
    "    ret = []\n",
    "        \n",
    "    for fname in files:\n",
    "        print(fname)\n",
    "        data = decompress_pickle(DIRNAME + fname  )\n",
    "        \n",
    "        train_emb = data[\"emb_val\"]#[new_index,:]\n",
    "        \n",
    "        train_emb=normalize(train_emb)\n",
    "        \n",
    "        valid_preds = train_emb[valid_ind]\n",
    "        train_preds = train_emb[train_ind]\n",
    "        \n",
    "        \n",
    "        distances = pairwise_distances(valid_preds,train_preds)\n",
    "                \n",
    "        K=1000\n",
    "        predicted_positions = np.argpartition(distances, K, axis=1)[:, :K]\n",
    "\n",
    "        all_pred_lis = []\n",
    "        for i in tqdm(range(predicted_positions.shape[0])):\n",
    "            nearest = [(train_inddividual_id_lis[j], distances[i, j]) for j in predicted_positions[i]]\n",
    "            nearest.sort(key=lambda x: x[1])\n",
    "\n",
    "            prediction = [index_id for index_id, d in nearest]\n",
    "\n",
    "            done = set()\n",
    "            pred_list = []\n",
    "            for pred_id in prediction:\n",
    "                if pred_id in done:\n",
    "                    continue\n",
    "                done.add(pred_id)\n",
    "                pred_list.append(pred_id)\n",
    "                if len(pred_list)==20:\n",
    "                    break\n",
    "\n",
    "            all_pred_lis.append(pred_list)\n",
    "        \n",
    "        ret.append(all_pred_lis)\n",
    "        \n",
    "    return ret\n",
    "    "
   ]
  },
  {
   "cell_type": "markdown",
   "metadata": {},
   "source": [
    "### get result for each model"
   ]
  },
  {
   "cell_type": "code",
   "execution_count": 14,
   "metadata": {
    "scrolled": false
   },
   "outputs": [
    {
     "name": "stdout",
     "output_type": "stream",
     "text": [
      "exp16v6Augmix_fold0.pbz2\n"
     ]
    },
    {
     "name": "stderr",
     "output_type": "stream",
     "text": [
      "100%|██████████| 8372/8372 [00:07<00:00, 1118.06it/s]\n"
     ]
    },
    {
     "name": "stdout",
     "output_type": "stream",
     "text": [
      "exp16v4sampler_fold0.pbz2\n"
     ]
    },
    {
     "name": "stderr",
     "output_type": "stream",
     "text": [
      "100%|██████████| 8372/8372 [00:07<00:00, 1130.66it/s]\n"
     ]
    },
    {
     "name": "stdout",
     "output_type": "stream",
     "text": [
      "exp16v6AugMixNew4_fold0.pbz2\n"
     ]
    },
    {
     "name": "stderr",
     "output_type": "stream",
     "text": [
      "100%|██████████| 8372/8372 [00:07<00:00, 1128.55it/s]\n"
     ]
    },
    {
     "name": "stdout",
     "output_type": "stream",
     "text": [
      "exp16v6AugMixNew4_fold0_tta.pbz2\n"
     ]
    },
    {
     "name": "stderr",
     "output_type": "stream",
     "text": [
      "100%|██████████| 8372/8372 [00:07<00:00, 1127.69it/s]\n"
     ]
    },
    {
     "name": "stdout",
     "output_type": "stream",
     "text": [
      "exp16v6AugmixB3_fold0.pbz2\n"
     ]
    },
    {
     "name": "stderr",
     "output_type": "stream",
     "text": [
      "100%|██████████| 8372/8372 [00:07<00:00, 1113.90it/s]\n"
     ]
    },
    {
     "name": "stdout",
     "output_type": "stream",
     "text": [
      "exp16v6AugmixB4Step2_fold0.pbz2\n"
     ]
    },
    {
     "name": "stderr",
     "output_type": "stream",
     "text": [
      "100%|██████████| 8372/8372 [00:07<00:00, 1121.15it/s]\n"
     ]
    },
    {
     "name": "stdout",
     "output_type": "stream",
     "text": [
      "exp16v6AugmixB4Step2_fold0_remove_background.pbz2\n"
     ]
    },
    {
     "name": "stderr",
     "output_type": "stream",
     "text": [
      "100%|██████████| 8372/8372 [00:07<00:00, 1101.98it/s]\n"
     ]
    },
    {
     "name": "stdout",
     "output_type": "stream",
     "text": [
      "exp16v6AugmixB4_fold0.pbz2\n"
     ]
    },
    {
     "name": "stderr",
     "output_type": "stream",
     "text": [
      "100%|██████████| 8372/8372 [00:07<00:00, 1126.71it/s]\n"
     ]
    },
    {
     "name": "stdout",
     "output_type": "stream",
     "text": [
      "exp16v6AugmixB4_fold0_remove_background.pbz2\n"
     ]
    },
    {
     "name": "stderr",
     "output_type": "stream",
     "text": [
      "100%|██████████| 8372/8372 [00:07<00:00, 1099.07it/s]\n"
     ]
    },
    {
     "name": "stdout",
     "output_type": "stream",
     "text": [
      "exp16v6AugmixFullB4_fold0.pbz2\n"
     ]
    },
    {
     "name": "stderr",
     "output_type": "stream",
     "text": [
      "100%|██████████| 8372/8372 [00:07<00:00, 1115.58it/s]\n"
     ]
    },
    {
     "name": "stdout",
     "output_type": "stream",
     "text": [
      "exp16v6sampler_fold0.pbz2\n"
     ]
    },
    {
     "name": "stderr",
     "output_type": "stream",
     "text": [
      "100%|██████████| 8372/8372 [00:07<00:00, 1125.07it/s]\n"
     ]
    },
    {
     "name": "stdout",
     "output_type": "stream",
     "text": [
      "exp21b6_fold0.pbz2\n"
     ]
    },
    {
     "name": "stderr",
     "output_type": "stream",
     "text": [
      "100%|██████████| 8372/8372 [00:07<00:00, 1073.93it/s]\n"
     ]
    },
    {
     "name": "stdout",
     "output_type": "stream",
     "text": [
      "exp21b6_fold0_remove_background.pbz2\n"
     ]
    },
    {
     "name": "stderr",
     "output_type": "stream",
     "text": [
      "100%|██████████| 8372/8372 [00:07<00:00, 1123.12it/s]\n"
     ]
    }
   ],
   "source": [
    "ret = get_result_each(exps)"
   ]
  },
  {
   "cell_type": "code",
   "execution_count": 15,
   "metadata": {},
   "outputs": [
    {
     "data": {
      "text/plain": [
       "(13, 8372, 20)"
      ]
     },
     "execution_count": 15,
     "metadata": {},
     "output_type": "execute_result"
    }
   ],
   "source": [
    "len(ret),len(ret[0]),len(ret[0][0])"
   ]
  },
  {
   "cell_type": "code",
   "execution_count": null,
   "metadata": {},
   "outputs": [],
   "source": []
  },
  {
   "cell_type": "code",
   "execution_count": 16,
   "metadata": {},
   "outputs": [],
   "source": [
    "def get_score(weights):\n",
    "    \n",
    "    #train_emb\n",
    "    vote_result = defaultdict(lambda:defaultdict(int))\n",
    "    \n",
    "    for preds, w in zip(ret, weights):\n",
    "        for i in range(len(preds)):\n",
    "            \n",
    "            for j,p in enumerate(preds[i]):\n",
    "                vote_result[i][p] += (w / (j+1))\n",
    "        \n",
    "        \n",
    "    score_lis = []\n",
    "    pred_ids = []\n",
    "\n",
    "    for i in range(len(ret[0])):\n",
    "        pred_list = np.array(sorted(vote_result[i].items(), key=lambda item: item[1])[::-1])[:5,0].tolist()\n",
    "\n",
    "        if valid_inddividual_id_lis[i] in pred_list:\n",
    "            s = 1/(pred_list.index(valid_inddividual_id_lis[i]) + 1)\n",
    "            score_lis.append(s)\n",
    "        else:\n",
    "            score_lis.append(0)\n",
    "    \n",
    "    return np.mean(score_lis)"
   ]
  },
  {
   "cell_type": "code",
   "execution_count": null,
   "metadata": {},
   "outputs": [],
   "source": []
  },
  {
   "cell_type": "code",
   "execution_count": 17,
   "metadata": {},
   "outputs": [
    {
     "data": {
      "text/plain": [
       "0.8566431756649148"
      ]
     },
     "execution_count": 17,
     "metadata": {},
     "output_type": "execute_result"
    }
   ],
   "source": [
    "# un-weighted result\n",
    "get_score([1] * len(exps))"
   ]
  },
  {
   "cell_type": "code",
   "execution_count": null,
   "metadata": {},
   "outputs": [],
   "source": []
  },
  {
   "cell_type": "markdown",
   "metadata": {},
   "source": [
    "optimize by optuna"
   ]
  },
  {
   "cell_type": "code",
   "execution_count": 18,
   "metadata": {},
   "outputs": [],
   "source": [
    "import optuna"
   ]
  },
  {
   "cell_type": "code",
   "execution_count": 19,
   "metadata": {},
   "outputs": [],
   "source": [
    "def objective_wrapper(exps):\n",
    "    def objective(trial):\n",
    "\n",
    "        weights = [1]\n",
    "        for i in range(len(exps)-1):\n",
    "            w=trial.suggest_uniform(exps[i+1], 0, 4)\n",
    "            weights.append(w)\n",
    "        \n",
    "        \n",
    "        score_lis = get_score(weights)\n",
    "        score = np.mean(score_lis)\n",
    "        return score\n",
    "    \n",
    "    return objective\n"
   ]
  },
  {
   "cell_type": "code",
   "execution_count": 20,
   "metadata": {
    "scrolled": true
   },
   "outputs": [
    {
     "name": "stderr",
     "output_type": "stream",
     "text": [
      "\u001b[32m[I 2022-04-17 07:47:35,619]\u001b[0m A new study created in memory with name: no-name-d3e0a303-9e5c-443d-9213-4aaa6a007fcc\u001b[0m\n",
      "\u001b[32m[I 2022-04-17 07:47:37,356]\u001b[0m Trial 0 finished with value: 0.8521798853320592 and parameters: {'exp16v4sampler_fold0.pbz2': 1.096956826159703, 'exp16v6AugMixNew4_fold0.pbz2': 1.4615008605815847, 'exp16v6AugMixNew4_fold0_tta.pbz2': 1.1194721687089766, 'exp16v6AugmixB3_fold0.pbz2': 0.14839600045579182, 'exp16v6AugmixB4Step2_fold0.pbz2': 1.82365549002064, 'exp16v6AugmixB4Step2_fold0_remove_background.pbz2': 0.6339617162691802, 'exp16v6AugmixB4_fold0.pbz2': 2.7735038813328634, 'exp16v6AugmixB4_fold0_remove_background.pbz2': 2.0210212101657508, 'exp16v6AugmixFullB4_fold0.pbz2': 0.8738583848190067, 'exp16v6sampler_fold0.pbz2': 3.188557229022204, 'exp21b6_fold0.pbz2': 0.5973621085337286, 'exp21b6_fold0_remove_background.pbz2': 1.2507966322681119}. Best is trial 0 with value: 0.8521798853320592.\u001b[0m\n",
      "\u001b[32m[I 2022-04-17 07:47:39,071]\u001b[0m Trial 1 finished with value: 0.8559862239210065 and parameters: {'exp16v4sampler_fold0.pbz2': 1.608086164627402, 'exp16v6AugMixNew4_fold0.pbz2': 2.3663008743492635, 'exp16v6AugMixNew4_fold0_tta.pbz2': 3.0094616771216045, 'exp16v6AugmixB3_fold0.pbz2': 1.3944960425979205, 'exp16v6AugmixB4Step2_fold0.pbz2': 0.32966193964002555, 'exp16v6AugmixB4Step2_fold0_remove_background.pbz2': 3.7732950078055723, 'exp16v6AugmixB4_fold0.pbz2': 2.8216866289517424, 'exp16v6AugmixB4_fold0_remove_background.pbz2': 0.192114599557355, 'exp16v6AugmixFullB4_fold0.pbz2': 0.4998332748196903, 'exp16v6sampler_fold0.pbz2': 1.129138889499191, 'exp21b6_fold0.pbz2': 1.1897821498660748, 'exp21b6_fold0_remove_background.pbz2': 2.3569580367874328}. Best is trial 1 with value: 0.8559862239210065.\u001b[0m\n",
      "\u001b[32m[I 2022-04-17 07:47:40,780]\u001b[0m Trial 2 finished with value: 0.8635093167701863 and parameters: {'exp16v4sampler_fold0.pbz2': 2.029009265851603, 'exp16v6AugMixNew4_fold0.pbz2': 3.6515346770010924, 'exp16v6AugMixNew4_fold0_tta.pbz2': 3.76432083544758, 'exp16v6AugmixB3_fold0.pbz2': 3.379182458140235, 'exp16v6AugmixB4Step2_fold0.pbz2': 1.8131426343574013, 'exp16v6AugmixB4Step2_fold0_remove_background.pbz2': 1.7876488831406654, 'exp16v6AugmixB4_fold0.pbz2': 2.1972807916718913, 'exp16v6AugmixB4_fold0_remove_background.pbz2': 1.6337424281555597, 'exp16v6AugmixFullB4_fold0.pbz2': 2.820925604386942, 'exp16v6sampler_fold0.pbz2': 0.9571488471418093, 'exp21b6_fold0.pbz2': 2.1343015810222563, 'exp21b6_fold0_remove_background.pbz2': 0.5813918178553115}. Best is trial 2 with value: 0.8635093167701863.\u001b[0m\n",
      "\u001b[32m[I 2022-04-17 07:47:42,499]\u001b[0m Trial 3 finished with value: 0.8575867972607103 and parameters: {'exp16v4sampler_fold0.pbz2': 3.2901140683702934, 'exp16v6AugMixNew4_fold0.pbz2': 1.974120489233964, 'exp16v6AugMixNew4_fold0_tta.pbz2': 3.892883540956769, 'exp16v6AugmixB3_fold0.pbz2': 3.888699201054263, 'exp16v6AugmixB4Step2_fold0.pbz2': 2.1530430996180754, 'exp16v6AugmixB4Step2_fold0_remove_background.pbz2': 3.6503891296666904, 'exp16v6AugmixB4_fold0.pbz2': 2.4873407359775808, 'exp16v6AugmixB4_fold0_remove_background.pbz2': 1.7811898144219653, 'exp16v6AugmixFullB4_fold0.pbz2': 3.414870885081384, 'exp16v6sampler_fold0.pbz2': 3.6606994152297605, 'exp21b6_fold0.pbz2': 3.8533026074459182, 'exp21b6_fold0_remove_background.pbz2': 3.4631978030562762}. Best is trial 2 with value: 0.8635093167701863.\u001b[0m\n",
      "\u001b[32m[I 2022-04-17 07:47:44,207]\u001b[0m Trial 4 finished with value: 0.8594262621436535 and parameters: {'exp16v4sampler_fold0.pbz2': 1.0788969679630322, 'exp16v6AugMixNew4_fold0.pbz2': 3.865689839457365, 'exp16v6AugMixNew4_fold0_tta.pbz2': 2.792602814003873, 'exp16v6AugmixB3_fold0.pbz2': 2.4405937875824244, 'exp16v6AugmixB4Step2_fold0.pbz2': 3.2617338726369147, 'exp16v6AugmixB4Step2_fold0_remove_background.pbz2': 1.402785530960922, 'exp16v6AugmixB4_fold0.pbz2': 2.5272405007720025, 'exp16v6AugmixB4_fold0_remove_background.pbz2': 2.8366854138902386, 'exp16v6AugmixFullB4_fold0.pbz2': 1.9508600887886738, 'exp16v6sampler_fold0.pbz2': 3.6779902306766767, 'exp21b6_fold0.pbz2': 0.10301085649852126, 'exp21b6_fold0_remove_background.pbz2': 1.7826482488133641}. Best is trial 2 with value: 0.8635093167701863.\u001b[0m\n",
      "\u001b[32m[I 2022-04-17 07:47:45,922]\u001b[0m Trial 5 finished with value: 0.8524426660296226 and parameters: {'exp16v4sampler_fold0.pbz2': 3.311079422833656, 'exp16v6AugMixNew4_fold0.pbz2': 1.0347619032592852, 'exp16v6AugMixNew4_fold0_tta.pbz2': 1.007801460740167, 'exp16v6AugmixB3_fold0.pbz2': 0.2464916235112562, 'exp16v6AugmixB4Step2_fold0.pbz2': 0.2841832065811358, 'exp16v6AugmixB4Step2_fold0_remove_background.pbz2': 3.844893611957126, 'exp16v6AugmixB4_fold0.pbz2': 2.402933650912118, 'exp16v6AugmixB4_fold0_remove_background.pbz2': 2.9442264946867405, 'exp16v6AugmixFullB4_fold0.pbz2': 2.1704798803751997, 'exp16v6sampler_fold0.pbz2': 1.586685734868941, 'exp21b6_fold0.pbz2': 1.1497980475380127, 'exp21b6_fold0_remove_background.pbz2': 3.4525357134682078}. Best is trial 2 with value: 0.8635093167701863.\u001b[0m\n",
      "\u001b[32m[I 2022-04-17 07:47:47,636]\u001b[0m Trial 6 finished with value: 0.8607700270743749 and parameters: {'exp16v4sampler_fold0.pbz2': 1.3206503194381805, 'exp16v6AugMixNew4_fold0.pbz2': 3.5476315864929053, 'exp16v6AugMixNew4_fold0_tta.pbz2': 3.26393255423946, 'exp16v6AugmixB3_fold0.pbz2': 0.4201159035150983, 'exp16v6AugmixB4Step2_fold0.pbz2': 3.8025592896223435, 'exp16v6AugmixB4Step2_fold0_remove_background.pbz2': 2.816206082885039, 'exp16v6AugmixB4_fold0.pbz2': 0.8768602514802035, 'exp16v6AugmixB4_fold0_remove_background.pbz2': 2.349139486292322, 'exp16v6AugmixFullB4_fold0.pbz2': 2.877223240094167, 'exp16v6sampler_fold0.pbz2': 3.9604254665204137, 'exp21b6_fold0.pbz2': 2.3039358656063604, 'exp21b6_fold0_remove_background.pbz2': 3.067514621427881}. Best is trial 2 with value: 0.8635093167701863.\u001b[0m\n",
      "\u001b[32m[I 2022-04-17 07:47:49,382]\u001b[0m Trial 7 finished with value: 0.8593645484949833 and parameters: {'exp16v4sampler_fold0.pbz2': 3.9773597803413328, 'exp16v6AugMixNew4_fold0.pbz2': 1.4441881594041508, 'exp16v6AugMixNew4_fold0_tta.pbz2': 1.4408632713940768, 'exp16v6AugmixB3_fold0.pbz2': 0.9267183585459287, 'exp16v6AugmixB4Step2_fold0.pbz2': 2.720551508976628, 'exp16v6AugmixB4Step2_fold0_remove_background.pbz2': 1.4321312174788163, 'exp16v6AugmixB4_fold0.pbz2': 0.5249365982981287, 'exp16v6AugmixB4_fold0_remove_background.pbz2': 2.338487669605974, 'exp16v6AugmixFullB4_fold0.pbz2': 3.871890003089634, 'exp16v6sampler_fold0.pbz2': 2.2052418241709475, 'exp21b6_fold0.pbz2': 1.1110191925601325, 'exp21b6_fold0_remove_background.pbz2': 3.3761452355289543}. Best is trial 2 with value: 0.8635093167701863.\u001b[0m\n",
      "\u001b[32m[I 2022-04-17 07:47:51,095]\u001b[0m Trial 8 finished with value: 0.8583771301162605 and parameters: {'exp16v4sampler_fold0.pbz2': 3.8810972897147384, 'exp16v6AugMixNew4_fold0.pbz2': 2.2264137782451563, 'exp16v6AugMixNew4_fold0_tta.pbz2': 1.1932063752285256, 'exp16v6AugmixB3_fold0.pbz2': 2.513697529481024, 'exp16v6AugmixB4Step2_fold0.pbz2': 1.5079672376945772, 'exp16v6AugmixB4Step2_fold0_remove_background.pbz2': 1.6674801541639805, 'exp16v6AugmixB4_fold0.pbz2': 1.1523388901356713, 'exp16v6AugmixB4_fold0_remove_background.pbz2': 3.2339727265237226, 'exp16v6AugmixFullB4_fold0.pbz2': 3.428279200031609, 'exp16v6sampler_fold0.pbz2': 0.26379238748818823, 'exp21b6_fold0.pbz2': 2.796761847525502, 'exp21b6_fold0_remove_background.pbz2': 1.6883075805908003}. Best is trial 2 with value: 0.8635093167701863.\u001b[0m\n",
      "\u001b[32m[I 2022-04-17 07:47:52,814]\u001b[0m Trial 9 finished with value: 0.8527830864787387 and parameters: {'exp16v4sampler_fold0.pbz2': 2.2212464465859107, 'exp16v6AugMixNew4_fold0.pbz2': 1.5259334972577316, 'exp16v6AugMixNew4_fold0_tta.pbz2': 2.0368192629323465, 'exp16v6AugmixB3_fold0.pbz2': 2.111759314669786, 'exp16v6AugmixB4Step2_fold0.pbz2': 2.709645544364568, 'exp16v6AugmixB4Step2_fold0_remove_background.pbz2': 1.3706470347657502, 'exp16v6AugmixB4_fold0.pbz2': 3.101524540921984, 'exp16v6AugmixB4_fold0_remove_background.pbz2': 1.8891784643027258, 'exp16v6AugmixFullB4_fold0.pbz2': 1.4536037844912961, 'exp16v6sampler_fold0.pbz2': 0.01828996907996583, 'exp21b6_fold0.pbz2': 3.882649790844141, 'exp21b6_fold0_remove_background.pbz2': 2.487843566565718}. Best is trial 2 with value: 0.8635093167701863.\u001b[0m\n"
     ]
    },
    {
     "name": "stderr",
     "output_type": "stream",
     "text": [
      "\u001b[32m[I 2022-04-17 07:47:54,550]\u001b[0m Trial 10 finished with value: 0.8463011626055104 and parameters: {'exp16v4sampler_fold0.pbz2': 0.17871160087958127, 'exp16v6AugMixNew4_fold0.pbz2': 0.014880499804251102, 'exp16v6AugMixNew4_fold0_tta.pbz2': 0.14626434108870012, 'exp16v6AugmixB3_fold0.pbz2': 3.6990204358311716, 'exp16v6AugmixB4Step2_fold0.pbz2': 0.9497801018511124, 'exp16v6AugmixB4Step2_fold0_remove_background.pbz2': 0.19825041040072167, 'exp16v6AugmixB4_fold0.pbz2': 3.956896414343239, 'exp16v6AugmixB4_fold0_remove_background.pbz2': 0.6769156212360656, 'exp16v6AugmixFullB4_fold0.pbz2': 2.6330836944916616, 'exp16v6sampler_fold0.pbz2': 0.8822789948711682, 'exp21b6_fold0.pbz2': 2.928710505099719, 'exp21b6_fold0_remove_background.pbz2': 0.11476746758931111}. Best is trial 2 with value: 0.8635093167701863.\u001b[0m\n",
      "\u001b[32m[I 2022-04-17 07:47:56,288]\u001b[0m Trial 11 finished with value: 0.8613811912724957 and parameters: {'exp16v4sampler_fold0.pbz2': 2.267242292219125, 'exp16v6AugMixNew4_fold0.pbz2': 3.8743120687799975, 'exp16v6AugMixNew4_fold0_tta.pbz2': 3.88020532054563, 'exp16v6AugmixB3_fold0.pbz2': 3.2272463055291727, 'exp16v6AugmixB4Step2_fold0.pbz2': 3.7905157044332327, 'exp16v6AugmixB4Step2_fold0_remove_background.pbz2': 2.7133350449179168, 'exp16v6AugmixB4_fold0.pbz2': 1.5249931771328609, 'exp16v6AugmixB4_fold0_remove_background.pbz2': 1.155424802034037, 'exp16v6AugmixFullB4_fold0.pbz2': 2.798689748928512, 'exp16v6sampler_fold0.pbz2': 2.244675797741413, 'exp21b6_fold0.pbz2': 2.338748192021664, 'exp21b6_fold0_remove_background.pbz2': 0.4274746292385937}. Best is trial 2 with value: 0.8635093167701863.\u001b[0m\n",
      "\u001b[32m[I 2022-04-17 07:47:58,151]\u001b[0m Trial 12 finished with value: 0.8605968307055264 and parameters: {'exp16v4sampler_fold0.pbz2': 2.359905220649972, 'exp16v6AugMixNew4_fold0.pbz2': 3.189201953358454, 'exp16v6AugMixNew4_fold0_tta.pbz2': 3.9682050509776143, 'exp16v6AugmixB3_fold0.pbz2': 2.979026485399373, 'exp16v6AugmixB4Step2_fold0.pbz2': 3.9849106052634413, 'exp16v6AugmixB4Step2_fold0_remove_background.pbz2': 2.5827431087924047, 'exp16v6AugmixB4_fold0.pbz2': 1.5354616590007542, 'exp16v6AugmixB4_fold0_remove_background.pbz2': 1.1836985709220924, 'exp16v6AugmixFullB4_fold0.pbz2': 2.754152536669357, 'exp16v6sampler_fold0.pbz2': 2.4445140596318997, 'exp21b6_fold0.pbz2': 1.8961791938232189, 'exp21b6_fold0_remove_background.pbz2': 0.07169127177212409}. Best is trial 2 with value: 0.8635093167701863.\u001b[0m\n",
      "\u001b[32m[I 2022-04-17 07:47:59,907]\u001b[0m Trial 13 finished with value: 0.8610606784519829 and parameters: {'exp16v4sampler_fold0.pbz2': 2.4317308120811827, 'exp16v6AugMixNew4_fold0.pbz2': 3.1149683553333167, 'exp16v6AugMixNew4_fold0_tta.pbz2': 3.515941421982635, 'exp16v6AugmixB3_fold0.pbz2': 3.207557374105066, 'exp16v6AugmixB4Step2_fold0.pbz2': 1.0956890742888241, 'exp16v6AugmixB4Step2_fold0_remove_background.pbz2': 2.3924413353723017, 'exp16v6AugmixB4_fold0.pbz2': 1.70703879132741, 'exp16v6AugmixB4_fold0_remove_background.pbz2': 1.2375560588784256, 'exp16v6AugmixFullB4_fold0.pbz2': 1.9777712417552422, 'exp16v6sampler_fold0.pbz2': 2.7081485601954864, 'exp21b6_fold0.pbz2': 1.9642370999122125, 'exp21b6_fold0_remove_background.pbz2': 0.7991408551312553}. Best is trial 2 with value: 0.8635093167701863.\u001b[0m\n",
      "\u001b[32m[I 2022-04-17 07:48:01,658]\u001b[0m Trial 14 finished with value: 0.8627289377289377 and parameters: {'exp16v4sampler_fold0.pbz2': 2.8634333726322927, 'exp16v6AugMixNew4_fold0.pbz2': 3.9860830191419057, 'exp16v6AugMixNew4_fold0_tta.pbz2': 2.4065290881239827, 'exp16v6AugmixB3_fold0.pbz2': 3.2706740037379745, 'exp16v6AugmixB4Step2_fold0.pbz2': 2.3973936433666005, 'exp16v6AugmixB4Step2_fold0_remove_background.pbz2': 3.023601359241508, 'exp16v6AugmixB4_fold0.pbz2': 0.2235351545345532, 'exp16v6AugmixB4_fold0_remove_background.pbz2': 0.8675569295867667, 'exp16v6AugmixFullB4_fold0.pbz2': 3.2152558319956945, 'exp16v6sampler_fold0.pbz2': 1.6250586735594275, 'exp21b6_fold0.pbz2': 2.8969125170019674, 'exp21b6_fold0_remove_background.pbz2': 0.6736141380486743}. Best is trial 2 with value: 0.8635093167701863.\u001b[0m\n",
      "\u001b[32m[I 2022-04-17 07:48:03,396]\u001b[0m Trial 15 finished with value: 0.8637760789934703 and parameters: {'exp16v4sampler_fold0.pbz2': 2.946264469372629, 'exp16v6AugMixNew4_fold0.pbz2': 2.933009995535192, 'exp16v6AugMixNew4_fold0_tta.pbz2': 2.4127734926759636, 'exp16v6AugmixB3_fold0.pbz2': 1.5166127181914755, 'exp16v6AugmixB4Step2_fold0.pbz2': 2.210024010539852, 'exp16v6AugmixB4Step2_fold0_remove_background.pbz2': 3.1322886345739374, 'exp16v6AugmixB4_fold0.pbz2': 0.0053881624624927404, 'exp16v6AugmixB4_fold0_remove_background.pbz2': 0.07187657727707741, 'exp16v6AugmixFullB4_fold0.pbz2': 3.456161843026679, 'exp16v6sampler_fold0.pbz2': 1.5632158845353141, 'exp21b6_fold0.pbz2': 3.2190803591560413, 'exp21b6_fold0_remove_background.pbz2': 0.9413185392802964}. Best is trial 15 with value: 0.8637760789934703.\u001b[0m\n",
      "\u001b[32m[I 2022-04-17 07:48:05,129]\u001b[0m Trial 16 finished with value: 0.8611084567606306 and parameters: {'exp16v4sampler_fold0.pbz2': 2.827250244282233, 'exp16v6AugMixNew4_fold0.pbz2': 2.860995123713102, 'exp16v6AugMixNew4_fold0_tta.pbz2': 2.312860874220589, 'exp16v6AugmixB3_fold0.pbz2': 1.455163956833125, 'exp16v6AugmixB4Step2_fold0.pbz2': 1.4793281652647545, 'exp16v6AugmixB4Step2_fold0_remove_background.pbz2': 2.1840598649115863, 'exp16v6AugmixB4_fold0.pbz2': 3.4737166002818642, 'exp16v6AugmixB4_fold0_remove_background.pbz2': 3.918487029900456, 'exp16v6AugmixFullB4_fold0.pbz2': 3.949454720987047, 'exp16v6sampler_fold0.pbz2': 0.6660497125265862, 'exp21b6_fold0.pbz2': 3.3675674840396863, 'exp21b6_fold0_remove_background.pbz2': 1.1961453003313784}. Best is trial 15 with value: 0.8637760789934703.\u001b[0m\n",
      "\u001b[32m[I 2022-04-17 07:48:06,875]\u001b[0m Trial 17 finished with value: 0.857839624143972 and parameters: {'exp16v4sampler_fold0.pbz2': 1.7888857853928126, 'exp16v6AugMixNew4_fold0.pbz2': 2.6784636157856347, 'exp16v6AugMixNew4_fold0_tta.pbz2': 2.676898279446319, 'exp16v6AugmixB3_fold0.pbz2': 1.6244234214717093, 'exp16v6AugmixB4Step2_fold0.pbz2': 2.9067299358556467, 'exp16v6AugmixB4Step2_fold0_remove_background.pbz2': 3.322694515796692, 'exp16v6AugmixB4_fold0.pbz2': 2.1311971565965373, 'exp16v6AugmixB4_fold0_remove_background.pbz2': 0.12599242198172567, 'exp16v6AugmixFullB4_fold0.pbz2': 2.356827290951939, 'exp16v6sampler_fold0.pbz2': 1.258537474829454, 'exp21b6_fold0.pbz2': 3.322845608600404, 'exp21b6_fold0_remove_background.pbz2': 1.246360873350981}. Best is trial 15 with value: 0.8637760789934703.\u001b[0m\n",
      "\u001b[32m[I 2022-04-17 07:48:08,617]\u001b[0m Trial 18 finished with value: 0.8640468227424749 and parameters: {'exp16v4sampler_fold0.pbz2': 0.5767693209620224, 'exp16v6AugMixNew4_fold0.pbz2': 3.3706401007698368, 'exp16v6AugMixNew4_fold0_tta.pbz2': 1.7257604488386924, 'exp16v6AugmixB3_fold0.pbz2': 1.0716573213657505, 'exp16v6AugmixB4Step2_fold0.pbz2': 1.846757887520562, 'exp16v6AugmixB4Step2_fold0_remove_background.pbz2': 0.9254978825740303, 'exp16v6AugmixB4_fold0.pbz2': 0.12752768435505463, 'exp16v6AugmixB4_fold0_remove_background.pbz2': 0.5939862842444197, 'exp16v6AugmixFullB4_fold0.pbz2': 1.520548100245515, 'exp16v6sampler_fold0.pbz2': 1.6672555552666966, 'exp21b6_fold0.pbz2': 1.599183236657496, 'exp21b6_fold0_remove_background.pbz2': 0.8174306708582111}. Best is trial 18 with value: 0.8640468227424749.\u001b[0m\n",
      "\u001b[32m[I 2022-04-17 07:48:10,401]\u001b[0m Trial 19 finished with value: 0.8649327122153209 and parameters: {'exp16v4sampler_fold0.pbz2': 0.23984982541963001, 'exp16v6AugMixNew4_fold0.pbz2': 3.280882820829461, 'exp16v6AugMixNew4_fold0_tta.pbz2': 1.7762985968307052, 'exp16v6AugmixB3_fold0.pbz2': 0.8683117674478179, 'exp16v6AugmixB4Step2_fold0.pbz2': 0.8238099890748798, 'exp16v6AugmixB4Step2_fold0_remove_background.pbz2': 0.9050062195838794, 'exp16v6AugmixB4_fold0.pbz2': 0.08878997903228508, 'exp16v6AugmixB4_fold0_remove_background.pbz2': 0.5362521333572715, 'exp16v6AugmixFullB4_fold0.pbz2': 1.4017225865156167, 'exp16v6sampler_fold0.pbz2': 1.835879151215607, 'exp21b6_fold0.pbz2': 1.3923630044120947, 'exp21b6_fold0_remove_background.pbz2': 1.058550146319815}. Best is trial 19 with value: 0.8649327122153209.\u001b[0m\n",
      "\u001b[32m[I 2022-04-17 07:48:12,138]\u001b[0m Trial 20 finished with value: 0.8631489886924669 and parameters: {'exp16v4sampler_fold0.pbz2': 0.11534721079973836, 'exp16v6AugMixNew4_fold0.pbz2': 3.2339417245030146, 'exp16v6AugMixNew4_fold0_tta.pbz2': 1.6797199112449341, 'exp16v6AugmixB3_fold0.pbz2': 0.7864124905217291, 'exp16v6AugmixB4Step2_fold0.pbz2': 0.7741427495126709, 'exp16v6AugmixB4Step2_fold0_remove_background.pbz2': 0.8585750265608654, 'exp16v6AugmixB4_fold0.pbz2': 0.6773604127376223, 'exp16v6AugmixB4_fold0_remove_background.pbz2': 0.5483291837910482, 'exp16v6AugmixFullB4_fold0.pbz2': 1.1933017481233594, 'exp16v6sampler_fold0.pbz2': 2.687926237033067, 'exp21b6_fold0.pbz2': 1.6356848243886166, 'exp21b6_fold0_remove_background.pbz2': 1.548800663849511}. Best is trial 19 with value: 0.8649327122153209.\u001b[0m\n"
     ]
    },
    {
     "name": "stderr",
     "output_type": "stream",
     "text": [
      "\u001b[32m[I 2022-04-17 07:48:13,883]\u001b[0m Trial 21 finished with value: 0.8578794394011785 and parameters: {'exp16v4sampler_fold0.pbz2': 0.5838401395678581, 'exp16v6AugMixNew4_fold0.pbz2': 2.7507159863314437, 'exp16v6AugMixNew4_fold0_tta.pbz2': 1.8238344022757063, 'exp16v6AugmixB3_fold0.pbz2': 1.0126720669735365, 'exp16v6AugmixB4Step2_fold0.pbz2': 2.2192346502316918, 'exp16v6AugmixB4Step2_fold0_remove_background.pbz2': 0.9193023681788239, 'exp16v6AugmixB4_fold0.pbz2': 0.0671968106049956, 'exp16v6AugmixB4_fold0_remove_background.pbz2': 0.40636085625171925, 'exp16v6AugmixFullB4_fold0.pbz2': 0.016149263918445067, 'exp16v6sampler_fold0.pbz2': 1.7512015720878986, 'exp21b6_fold0.pbz2': 1.4669526304401612, 'exp21b6_fold0_remove_background.pbz2': 0.9929234081371587}. Best is trial 19 with value: 0.8649327122153209.\u001b[0m\n",
      "\u001b[32m[I 2022-04-17 07:48:15,622]\u001b[0m Trial 22 finished with value: 0.8641105271540054 and parameters: {'exp16v4sampler_fold0.pbz2': 0.6492230447642708, 'exp16v6AugMixNew4_fold0.pbz2': 3.391500876563504, 'exp16v6AugMixNew4_fold0_tta.pbz2': 2.1063496004801294, 'exp16v6AugmixB3_fold0.pbz2': 1.7482328127323115, 'exp16v6AugmixB4Step2_fold0.pbz2': 1.459303891347195, 'exp16v6AugmixB4Step2_fold0_remove_background.pbz2': 0.23878227485681291, 'exp16v6AugmixB4_fold0.pbz2': 0.2966106208021274, 'exp16v6AugmixB4_fold0_remove_background.pbz2': 0.022836835178477233, 'exp16v6AugmixFullB4_fold0.pbz2': 1.6000974078288068, 'exp16v6sampler_fold0.pbz2': 1.8344696189980638, 'exp21b6_fold0.pbz2': 0.7812718154539604, 'exp21b6_fold0_remove_background.pbz2': 2.1298117370141485}. Best is trial 19 with value: 0.8649327122153209.\u001b[0m\n",
      "\u001b[32m[I 2022-04-17 07:48:17,371]\u001b[0m Trial 23 finished with value: 0.862808568243351 and parameters: {'exp16v4sampler_fold0.pbz2': 0.709641728235367, 'exp16v6AugMixNew4_fold0.pbz2': 3.403730737016385, 'exp16v6AugMixNew4_fold0_tta.pbz2': 0.23633748211723282, 'exp16v6AugmixB3_fold0.pbz2': 1.9239916615991466, 'exp16v6AugmixB4Step2_fold0.pbz2': 1.3074657521584476, 'exp16v6AugmixB4Step2_fold0_remove_background.pbz2': 0.00509756315177079, 'exp16v6AugmixB4_fold0.pbz2': 0.48215653644694045, 'exp16v6AugmixB4_fold0_remove_background.pbz2': 0.965701659543312, 'exp16v6AugmixFullB4_fold0.pbz2': 1.6976451829081567, 'exp16v6sampler_fold0.pbz2': 1.8995992431052575, 'exp21b6_fold0.pbz2': 0.6473478739376923, 'exp21b6_fold0_remove_background.pbz2': 2.2756290236831673}. Best is trial 19 with value: 0.8649327122153209.\u001b[0m\n",
      "\u001b[32m[I 2022-04-17 07:48:19,112]\u001b[0m Trial 24 finished with value: 0.8626572702659658 and parameters: {'exp16v4sampler_fold0.pbz2': 0.5385797701307262, 'exp16v6AugMixNew4_fold0.pbz2': 3.546057254975896, 'exp16v6AugMixNew4_fold0_tta.pbz2': 0.658103095798664, 'exp16v6AugmixB3_fold0.pbz2': 0.6167099410837298, 'exp16v6AugmixB4Step2_fold0.pbz2': 0.7111916650886978, 'exp16v6AugmixB4Step2_fold0_remove_background.pbz2': 0.4291393242313965, 'exp16v6AugmixB4_fold0.pbz2': 1.0579489403564344, 'exp16v6AugmixB4_fold0_remove_background.pbz2': 0.42350517902764667, 'exp16v6AugmixFullB4_fold0.pbz2': 1.1483839533810598, 'exp16v6sampler_fold0.pbz2': 2.0058102335681034, 'exp21b6_fold0.pbz2': 0.6921326159110501, 'exp21b6_fold0_remove_background.pbz2': 2.059344180419927}. Best is trial 19 with value: 0.8649327122153209.\u001b[0m\n",
      "\u001b[32m[I 2022-04-17 07:48:20,860]\u001b[0m Trial 25 finished with value: 0.8647933588150979 and parameters: {'exp16v4sampler_fold0.pbz2': 0.3216871164550861, 'exp16v6AugMixNew4_fold0.pbz2': 2.3893332814107606, 'exp16v6AugMixNew4_fold0_tta.pbz2': 2.0828666429530873, 'exp16v6AugmixB3_fold0.pbz2': 1.1534593635423955, 'exp16v6AugmixB4Step2_fold0.pbz2': 0.065672675203857, 'exp16v6AugmixB4Step2_fold0_remove_background.pbz2': 1.071679504195827, 'exp16v6AugmixB4_fold0.pbz2': 0.4437644128009955, 'exp16v6AugmixB4_fold0_remove_background.pbz2': 0.0056635782628227105, 'exp16v6AugmixFullB4_fold0.pbz2': 1.5398605152172675, 'exp16v6sampler_fold0.pbz2': 1.3910822557364668, 'exp21b6_fold0.pbz2': 0.05241137058006051, 'exp21b6_fold0_remove_background.pbz2': 2.700630690788506}. Best is trial 19 with value: 0.8649327122153209.\u001b[0m\n",
      "\u001b[32m[I 2022-04-17 07:48:22,603]\u001b[0m Trial 26 finished with value: 0.860897435897436 and parameters: {'exp16v4sampler_fold0.pbz2': 0.03373842811709832, 'exp16v6AugMixNew4_fold0.pbz2': 2.459231659905538, 'exp16v6AugMixNew4_fold0_tta.pbz2': 2.071962051782472, 'exp16v6AugmixB3_fold0.pbz2': 1.2081847707876778, 'exp16v6AugmixB4Step2_fold0.pbz2': 0.05456862953055446, 'exp16v6AugmixB4Step2_fold0_remove_background.pbz2': 0.5035368399671254, 'exp16v6AugmixB4_fold0.pbz2': 0.3986618884609765, 'exp16v6AugmixB4_fold0_remove_background.pbz2': 0.12301688554063812, 'exp16v6AugmixFullB4_fold0.pbz2': 0.8071965844070148, 'exp16v6sampler_fold0.pbz2': 1.2959765460841726, 'exp21b6_fold0.pbz2': 0.12049308550620919, 'exp21b6_fold0_remove_background.pbz2': 2.8957033090715054}. Best is trial 19 with value: 0.8649327122153209.\u001b[0m\n",
      "\u001b[32m[I 2022-04-17 07:48:24,348]\u001b[0m Trial 27 finished with value: 0.8616379996814779 and parameters: {'exp16v4sampler_fold0.pbz2': 0.891777630766217, 'exp16v6AugMixNew4_fold0.pbz2': 1.9638359799243192, 'exp16v6AugMixNew4_fold0_tta.pbz2': 1.5061338150004553, 'exp16v6AugmixB3_fold0.pbz2': 1.90123747415223, 'exp16v6AugmixB4Step2_fold0.pbz2': 0.529131346256979, 'exp16v6AugmixB4Step2_fold0_remove_background.pbz2': 1.004943770020471, 'exp16v6AugmixB4_fold0.pbz2': 0.828680412474996, 'exp16v6AugmixB4_fold0_remove_background.pbz2': 1.390256871697476, 'exp16v6AugmixFullB4_fold0.pbz2': 1.69802928228751, 'exp16v6sampler_fold0.pbz2': 0.5652620854014833, 'exp21b6_fold0.pbz2': 0.46551956147813156, 'exp21b6_fold0_remove_background.pbz2': 2.8711562485036586}. Best is trial 19 with value: 0.8649327122153209.\u001b[0m\n",
      "\u001b[32m[I 2022-04-17 07:48:26,095]\u001b[0m Trial 28 finished with value: 0.8524247491638797 and parameters: {'exp16v4sampler_fold0.pbz2': 0.39523614733680235, 'exp16v6AugMixNew4_fold0.pbz2': 0.8317225481366113, 'exp16v6AugMixNew4_fold0_tta.pbz2': 2.1818779714859806, 'exp16v6AugmixB3_fold0.pbz2': 0.5437634494132985, 'exp16v6AugmixB4Step2_fold0.pbz2': 0.018327242833268365, 'exp16v6AugmixB4Step2_fold0_remove_background.pbz2': 1.2012974910769005, 'exp16v6AugmixB4_fold0.pbz2': 1.078133405876682, 'exp16v6AugmixB4_fold0_remove_background.pbz2': 0.018133817463228175, 'exp16v6AugmixFullB4_fold0.pbz2': 0.46429259551500723, 'exp16v6sampler_fold0.pbz2': 2.8084442795916393, 'exp21b6_fold0.pbz2': 0.9646994876315114, 'exp21b6_fold0_remove_background.pbz2': 3.9643842488194942}. Best is trial 19 with value: 0.8649327122153209.\u001b[0m\n",
      "\u001b[32m[I 2022-04-17 07:48:27,834]\u001b[0m Trial 29 finished with value: 0.8608476668259277 and parameters: {'exp16v4sampler_fold0.pbz2': 1.3835153354435543, 'exp16v6AugMixNew4_fold0.pbz2': 2.5144844156539374, 'exp16v6AugMixNew4_fold0_tta.pbz2': 1.2588349692959007, 'exp16v6AugmixB3_fold0.pbz2': 0.06716414616367883, 'exp16v6AugmixB4Step2_fold0.pbz2': 1.1839020491889505, 'exp16v6AugmixB4Step2_fold0_remove_background.pbz2': 0.6122852080207901, 'exp16v6AugmixB4_fold0.pbz2': 1.3273314074803686, 'exp16v6AugmixB4_fold0_remove_background.pbz2': 0.8283657541145762, 'exp16v6AugmixFullB4_fold0.pbz2': 0.9353162229785381, 'exp16v6sampler_fold0.pbz2': 1.3681686157461281, 'exp21b6_fold0.pbz2': 0.493934794976808, 'exp21b6_fold0_remove_background.pbz2': 2.5727443026923513}. Best is trial 19 with value: 0.8649327122153209.\u001b[0m\n",
      "\u001b[32m[I 2022-04-17 07:48:29,578]\u001b[0m Trial 30 finished with value: 0.8614289695811435 and parameters: {'exp16v4sampler_fold0.pbz2': 0.9276585834333985, 'exp16v6AugMixNew4_fold0.pbz2': 1.6950730935525022, 'exp16v6AugMixNew4_fold0_tta.pbz2': 2.627669870962224, 'exp16v6AugmixB3_fold0.pbz2': 2.3814051665292064, 'exp16v6AugmixB4Step2_fold0.pbz2': 0.616387064101124, 'exp16v6AugmixB4Step2_fold0_remove_background.pbz2': 0.3331049100534503, 'exp16v6AugmixB4_fold0.pbz2': 0.36706878493745615, 'exp16v6AugmixB4_fold0_remove_background.pbz2': 0.34289541029542103, 'exp16v6AugmixFullB4_fold0.pbz2': 1.258080263844814, 'exp16v6sampler_fold0.pbz2': 2.036805855704298, 'exp21b6_fold0.pbz2': 0.2781251180943817, 'exp21b6_fold0_remove_background.pbz2': 1.9258381790261305}. Best is trial 19 with value: 0.8649327122153209.\u001b[0m\n",
      "\u001b[32m[I 2022-04-17 07:48:31,363]\u001b[0m Trial 31 finished with value: 0.8642518713170887 and parameters: {'exp16v4sampler_fold0.pbz2': 0.3181473456860189, 'exp16v6AugMixNew4_fold0.pbz2': 3.026278610203696, 'exp16v6AugMixNew4_fold0_tta.pbz2': 1.8165798652796852, 'exp16v6AugmixB3_fold0.pbz2': 1.188916588311553, 'exp16v6AugmixB4Step2_fold0.pbz2': 1.708862711199944, 'exp16v6AugmixB4Step2_fold0_remove_background.pbz2': 0.7535274789453574, 'exp16v6AugmixB4_fold0.pbz2': 0.1727105806349817, 'exp16v6AugmixB4_fold0_remove_background.pbz2': 0.7074176946490809, 'exp16v6AugmixFullB4_fold0.pbz2': 1.598129194424576, 'exp16v6sampler_fold0.pbz2': 1.846450748770572, 'exp21b6_fold0.pbz2': 1.533419858143176, 'exp21b6_fold0_remove_background.pbz2': 1.4537894207398407}. Best is trial 19 with value: 0.8649327122153209.\u001b[0m\n"
     ]
    },
    {
     "name": "stderr",
     "output_type": "stream",
     "text": [
      "\u001b[32m[I 2022-04-17 07:48:33,100]\u001b[0m Trial 32 finished with value: 0.8636546424589903 and parameters: {'exp16v4sampler_fold0.pbz2': 0.3407673662153969, 'exp16v6AugMixNew4_fold0.pbz2': 2.953968190915034, 'exp16v6AugMixNew4_fold0_tta.pbz2': 1.9199134454725246, 'exp16v6AugmixB3_fold0.pbz2': 1.2983424740973346, 'exp16v6AugmixB4Step2_fold0.pbz2': 1.628669099295181, 'exp16v6AugmixB4Step2_fold0_remove_background.pbz2': 0.6859104282363303, 'exp16v6AugmixB4_fold0.pbz2': 0.679336502547828, 'exp16v6AugmixB4_fold0_remove_background.pbz2': 0.3119424240515104, 'exp16v6AugmixFullB4_fold0.pbz2': 1.621233837143361, 'exp16v6sampler_fold0.pbz2': 2.425537831008569, 'exp21b6_fold0.pbz2': 0.907480372392464, 'exp21b6_fold0_remove_background.pbz2': 1.4355893501127541}. Best is trial 19 with value: 0.8649327122153209.\u001b[0m\n",
      "\u001b[32m[I 2022-04-17 07:48:34,843]\u001b[0m Trial 33 finished with value: 0.8584069915591656 and parameters: {'exp16v4sampler_fold0.pbz2': 0.30074966551689475, 'exp16v6AugMixNew4_fold0.pbz2': 2.155507875852053, 'exp16v6AugMixNew4_fold0_tta.pbz2': 0.8651959802378875, 'exp16v6AugmixB3_fold0.pbz2': 1.6698589305913702, 'exp16v6AugmixB4Step2_fold0.pbz2': 0.3301210142844751, 'exp16v6AugmixB4Step2_fold0_remove_background.pbz2': 0.08489842786736002, 'exp16v6AugmixB4_fold0.pbz2': 0.29072908419602705, 'exp16v6AugmixB4_fold0_remove_background.pbz2': 0.7281524243454909, 'exp16v6AugmixFullB4_fold0.pbz2': 0.7794536086352346, 'exp16v6sampler_fold0.pbz2': 1.074864801208708, 'exp21b6_fold0.pbz2': 1.367953408088399, 'exp21b6_fold0_remove_background.pbz2': 2.0721145658287754}. Best is trial 19 with value: 0.8649327122153209.\u001b[0m\n",
      "\u001b[32m[I 2022-04-17 07:48:36,585]\u001b[0m Trial 34 finished with value: 0.8629538939321548 and parameters: {'exp16v4sampler_fold0.pbz2': 0.7893358981301837, 'exp16v6AugMixNew4_fold0.pbz2': 2.562528845967166, 'exp16v6AugMixNew4_fold0_tta.pbz2': 1.4889725716064868, 'exp16v6AugmixB3_fold0.pbz2': 1.2401830587588216, 'exp16v6AugmixB4Step2_fold0.pbz2': 0.931196937732955, 'exp16v6AugmixB4Step2_fold0_remove_background.pbz2': 1.861995261702708, 'exp16v6AugmixB4_fold0.pbz2': 0.6659272964801562, 'exp16v6AugmixB4_fold0_remove_background.pbz2': 1.4917912802595175, 'exp16v6AugmixFullB4_fold0.pbz2': 1.8307908104001056, 'exp16v6sampler_fold0.pbz2': 1.4345215467605672, 'exp21b6_fold0.pbz2': 0.9051014262141713, 'exp21b6_fold0_remove_background.pbz2': 2.210286018161151}. Best is trial 19 with value: 0.8649327122153209.\u001b[0m\n",
      "\u001b[32m[I 2022-04-17 07:48:38,323]\u001b[0m Trial 35 finished with value: 0.8652193820672082 and parameters: {'exp16v4sampler_fold0.pbz2': 1.2864432693283048, 'exp16v6AugMixNew4_fold0.pbz2': 3.6727119533970423, 'exp16v6AugMixNew4_fold0_tta.pbz2': 2.9597455444077516, 'exp16v6AugmixB3_fold0.pbz2': 0.7381964204800378, 'exp16v6AugmixB4Step2_fold0.pbz2': 1.7586839890372366, 'exp16v6AugmixB4Step2_fold0_remove_background.pbz2': 1.1994972510170792, 'exp16v6AugmixB4_fold0.pbz2': 0.24383611923315138, 'exp16v6AugmixB4_fold0_remove_background.pbz2': 0.3389709869231812, 'exp16v6AugmixFullB4_fold0.pbz2': 2.3534452635527607, 'exp16v6sampler_fold0.pbz2': 1.8602483442719338, 'exp21b6_fold0.pbz2': 1.7304064705152222, 'exp21b6_fold0_remove_background.pbz2': 2.5791016519093373}. Best is trial 35 with value: 0.8652193820672082.\u001b[0m\n",
      "\u001b[32m[I 2022-04-17 07:48:40,057]\u001b[0m Trial 36 finished with value: 0.8655000796305145 and parameters: {'exp16v4sampler_fold0.pbz2': 1.1629359870465397, 'exp16v6AugMixNew4_fold0.pbz2': 3.738303223845685, 'exp16v6AugMixNew4_fold0_tta.pbz2': 2.9236450194208436, 'exp16v6AugmixB3_fold0.pbz2': 0.7683291691042429, 'exp16v6AugmixB4Step2_fold0.pbz2': 0.35984873214000546, 'exp16v6AugmixB4Step2_fold0_remove_background.pbz2': 1.194244921252715, 'exp16v6AugmixB4_fold0.pbz2': 0.04114003595008159, 'exp16v6AugmixB4_fold0_remove_background.pbz2': 1.0566419627082921, 'exp16v6AugmixFullB4_fold0.pbz2': 2.2544405672845422, 'exp16v6sampler_fold0.pbz2': 2.9068662885210346, 'exp21b6_fold0.pbz2': 1.8297423190056572, 'exp21b6_fold0_remove_background.pbz2': 2.6538365951404814}. Best is trial 36 with value: 0.8655000796305145.\u001b[0m\n",
      "\u001b[32m[I 2022-04-17 07:48:41,822]\u001b[0m Trial 37 finished with value: 0.8648351648351649 and parameters: {'exp16v4sampler_fold0.pbz2': 1.2358756263735253, 'exp16v6AugMixNew4_fold0.pbz2': 3.6617564189860285, 'exp16v6AugMixNew4_fold0_tta.pbz2': 3.092580995530329, 'exp16v6AugmixB3_fold0.pbz2': 0.26850655787993943, 'exp16v6AugmixB4Step2_fold0.pbz2': 0.42423844518206777, 'exp16v6AugmixB4Step2_fold0_remove_background.pbz2': 1.1689409505858819, 'exp16v6AugmixB4_fold0.pbz2': 0.023593685477149635, 'exp16v6AugmixB4_fold0_remove_background.pbz2': 0.9759036809901909, 'exp16v6AugmixFullB4_fold0.pbz2': 2.2760499321742205, 'exp16v6sampler_fold0.pbz2': 3.564507938758301, 'exp21b6_fold0.pbz2': 2.4010498433029452, 'exp21b6_fold0_remove_background.pbz2': 2.6862422565899324}. Best is trial 36 with value: 0.8655000796305145.\u001b[0m\n",
      "\u001b[32m[I 2022-04-17 07:48:43,581]\u001b[0m Trial 38 finished with value: 0.8634754738015606 and parameters: {'exp16v4sampler_fold0.pbz2': 1.2952661693492373, 'exp16v6AugMixNew4_fold0.pbz2': 3.7230148989176004, 'exp16v6AugMixNew4_fold0_tta.pbz2': 3.007665099925278, 'exp16v6AugmixB3_fold0.pbz2': 0.35331629835649164, 'exp16v6AugmixB4Step2_fold0.pbz2': 0.40358160521908854, 'exp16v6AugmixB4Step2_fold0_remove_background.pbz2': 1.5524082175980207, 'exp16v6AugmixB4_fold0.pbz2': 0.8538380211745205, 'exp16v6AugmixB4_fold0_remove_background.pbz2': 1.6334567716178028, 'exp16v6AugmixFullB4_fold0.pbz2': 2.272806023421467, 'exp16v6sampler_fold0.pbz2': 3.2593600577497113, 'exp21b6_fold0.pbz2': 2.51967361043855, 'exp21b6_fold0_remove_background.pbz2': 3.2926826410342924}. Best is trial 36 with value: 0.8655000796305145.\u001b[0m\n",
      "\u001b[32m[I 2022-04-17 07:48:45,325]\u001b[0m Trial 39 finished with value: 0.8639910813823857 and parameters: {'exp16v4sampler_fold0.pbz2': 1.639923198747158, 'exp16v6AugMixNew4_fold0.pbz2': 3.670216297018056, 'exp16v6AugMixNew4_fold0_tta.pbz2': 3.3964292969892473, 'exp16v6AugmixB3_fold0.pbz2': 0.7562602794472754, 'exp16v6AugmixB4Step2_fold0.pbz2': 0.8964632676454088, 'exp16v6AugmixB4Step2_fold0_remove_background.pbz2': 1.2419624867197099, 'exp16v6AugmixB4_fold0.pbz2': 0.019300813412958598, 'exp16v6AugmixB4_fold0_remove_background.pbz2': 2.1993221323929957, 'exp16v6AugmixFullB4_fold0.pbz2': 2.4371446033872406, 'exp16v6sampler_fold0.pbz2': 3.3679230787994077, 'exp21b6_fold0.pbz2': 1.8130805137485975, 'exp21b6_fold0_remove_background.pbz2': 3.1323976385896604}. Best is trial 36 with value: 0.8655000796305145.\u001b[0m\n",
      "\u001b[32m[I 2022-04-17 07:48:47,065]\u001b[0m Trial 40 finished with value: 0.8632266284440199 and parameters: {'exp16v4sampler_fold0.pbz2': 1.14022282299422, 'exp16v6AugMixNew4_fold0.pbz2': 3.773134103255579, 'exp16v6AugMixNew4_fold0_tta.pbz2': 3.1261819278002108, 'exp16v6AugmixB3_fold0.pbz2': 0.18872304927155925, 'exp16v6AugmixB4Step2_fold0.pbz2': 0.24388577884592663, 'exp16v6AugmixB4Step2_fold0_remove_background.pbz2': 1.9854375272855267, 'exp16v6AugmixB4_fold0.pbz2': 1.8614182810353581, 'exp16v6AugmixB4_fold0_remove_background.pbz2': 1.0179670486496302, 'exp16v6AugmixFullB4_fold0.pbz2': 2.0539272719982473, 'exp16v6sampler_fold0.pbz2': 3.044365835297203, 'exp21b6_fold0.pbz2': 2.1567479132178526, 'exp21b6_fold0_remove_background.pbz2': 3.6769588877213195}. Best is trial 36 with value: 0.8655000796305145.\u001b[0m\n",
      "\u001b[32m[I 2022-04-17 07:48:48,810]\u001b[0m Trial 41 finished with value: 0.8644688644688645 and parameters: {'exp16v4sampler_fold0.pbz2': 1.5751808163585317, 'exp16v6AugMixNew4_fold0.pbz2': 3.5081900730747124, 'exp16v6AugMixNew4_fold0_tta.pbz2': 2.9049974352500194, 'exp16v6AugmixB3_fold0.pbz2': 0.7806989091662639, 'exp16v6AugmixB4Step2_fold0.pbz2': 0.13897702161523456, 'exp16v6AugmixB4Step2_fold0_remove_background.pbz2': 1.11697444066094, 'exp16v6AugmixB4_fold0.pbz2': 0.5338413057495556, 'exp16v6AugmixB4_fold0_remove_background.pbz2': 0.4922751848141441, 'exp16v6AugmixFullB4_fold0.pbz2': 2.5705785061322777, 'exp16v6sampler_fold0.pbz2': 3.5694931932488756, 'exp21b6_fold0.pbz2': 2.501925494622335, 'exp21b6_fold0_remove_background.pbz2': 2.6897101007258737}. Best is trial 36 with value: 0.8655000796305145.\u001b[0m\n",
      "\u001b[32m[I 2022-04-17 07:48:50,554]\u001b[0m Trial 42 finished with value: 0.867015050167224 and parameters: {'exp16v4sampler_fold0.pbz2': 1.1048389143465047, 'exp16v6AugMixNew4_fold0.pbz2': 3.9903090395426783, 'exp16v6AugMixNew4_fold0_tta.pbz2': 3.6263205926796958, 'exp16v6AugmixB3_fold0.pbz2': 0.5175617388048441, 'exp16v6AugmixB4Step2_fold0.pbz2': 0.6060792160237478, 'exp16v6AugmixB4Step2_fold0_remove_background.pbz2': 1.67684598908696, 'exp16v6AugmixB4_fold0.pbz2': 0.004297000725113284, 'exp16v6AugmixB4_fold0_remove_background.pbz2': 0.30562637882937466, 'exp16v6AugmixFullB4_fold0.pbz2': 3.0157447602133813, 'exp16v6sampler_fold0.pbz2': 3.8895855999331634, 'exp21b6_fold0.pbz2': 1.2849054889049505, 'exp21b6_fold0_remove_background.pbz2': 2.4490082086655924}. Best is trial 42 with value: 0.867015050167224.\u001b[0m\n"
     ]
    },
    {
     "name": "stderr",
     "output_type": "stream",
     "text": [
      "\u001b[32m[I 2022-04-17 07:48:52,310]\u001b[0m Trial 43 finished with value: 0.8675505653766523 and parameters: {'exp16v4sampler_fold0.pbz2': 1.0909614477892304, 'exp16v6AugMixNew4_fold0.pbz2': 3.966578884589196, 'exp16v6AugMixNew4_fold0_tta.pbz2': 3.5688239384689515, 'exp16v6AugmixB3_fold0.pbz2': 0.4446982026837117, 'exp16v6AugmixB4Step2_fold0.pbz2': 0.4796689134543429, 'exp16v6AugmixB4Step2_fold0_remove_background.pbz2': 1.6822627739799478, 'exp16v6AugmixB4_fold0.pbz2': 0.012634383812262208, 'exp16v6AugmixB4_fold0_remove_background.pbz2': 0.3067752083225166, 'exp16v6AugmixFullB4_fold0.pbz2': 3.1974814392662703, 'exp16v6sampler_fold0.pbz2': 3.9705267136530353, 'exp21b6_fold0.pbz2': 1.2389194360396094, 'exp21b6_fold0_remove_background.pbz2': 2.4050549599353666}. Best is trial 43 with value: 0.8675505653766523.\u001b[0m\n",
      "\u001b[32m[I 2022-04-17 07:48:54,058]\u001b[0m Trial 44 finished with value: 0.8661152253543557 and parameters: {'exp16v4sampler_fold0.pbz2': 1.9450478119746126, 'exp16v6AugMixNew4_fold0.pbz2': 3.901054538107794, 'exp16v6AugMixNew4_fold0_tta.pbz2': 3.7076218400660066, 'exp16v6AugmixB3_fold0.pbz2': 0.47944881059401534, 'exp16v6AugmixB4Step2_fold0.pbz2': 0.5516209426629987, 'exp16v6AugmixB4Step2_fold0_remove_background.pbz2': 1.584360224718324, 'exp16v6AugmixB4_fold0.pbz2': 0.28221382211631707, 'exp16v6AugmixB4_fold0_remove_background.pbz2': 0.27325975297604, 'exp16v6AugmixFullB4_fold0.pbz2': 3.067966402135526, 'exp16v6sampler_fold0.pbz2': 3.9280641271221994, 'exp21b6_fold0.pbz2': 1.327668406626977, 'exp21b6_fold0_remove_background.pbz2': 2.449803530848485}. Best is trial 43 with value: 0.8675505653766523.\u001b[0m\n",
      "\u001b[32m[I 2022-04-17 07:48:55,816]\u001b[0m Trial 45 finished with value: 0.8657728141423794 and parameters: {'exp16v4sampler_fold0.pbz2': 1.9504767679117343, 'exp16v6AugMixNew4_fold0.pbz2': 3.997900659626201, 'exp16v6AugMixNew4_fold0_tta.pbz2': 3.6030417043467784, 'exp16v6AugmixB3_fold0.pbz2': 0.008199632812513902, 'exp16v6AugmixB4Step2_fold0.pbz2': 0.5564016348112606, 'exp16v6AugmixB4Step2_fold0_remove_background.pbz2': 1.590396719321004, 'exp16v6AugmixB4_fold0.pbz2': 2.7330169704583973, 'exp16v6AugmixB4_fold0_remove_background.pbz2': 0.2583075534939721, 'exp16v6AugmixFullB4_fold0.pbz2': 3.1700554707675934, 'exp16v6sampler_fold0.pbz2': 3.9177281002443687, 'exp21b6_fold0.pbz2': 1.2095808466504476, 'exp21b6_fold0_remove_background.pbz2': 2.4316390338387204}. Best is trial 43 with value: 0.8675505653766523.\u001b[0m\n",
      "\u001b[32m[I 2022-04-17 07:48:57,561]\u001b[0m Trial 46 finished with value: 0.8654542920847268 and parameters: {'exp16v4sampler_fold0.pbz2': 1.74836676108039, 'exp16v6AugMixNew4_fold0.pbz2': 3.9618075451937274, 'exp16v6AugMixNew4_fold0_tta.pbz2': 3.6512143564947, 'exp16v6AugmixB3_fold0.pbz2': 0.021186029976166986, 'exp16v6AugmixB4Step2_fold0.pbz2': 0.5468424835309654, 'exp16v6AugmixB4Step2_fold0_remove_background.pbz2': 1.6926024539973448, 'exp16v6AugmixB4_fold0.pbz2': 2.8170567157701187, 'exp16v6AugmixB4_fold0_remove_background.pbz2': 0.2251199959841541, 'exp16v6AugmixFullB4_fold0.pbz2': 3.0821524955519277, 'exp16v6sampler_fold0.pbz2': 3.9982587366764384, 'exp21b6_fold0.pbz2': 1.1160681439442264, 'exp21b6_fold0_remove_background.pbz2': 2.356239033654316}. Best is trial 43 with value: 0.8675505653766523.\u001b[0m\n",
      "\u001b[32m[I 2022-04-17 07:48:59,305]\u001b[0m Trial 47 finished with value: 0.8651039178213091 and parameters: {'exp16v4sampler_fold0.pbz2': 2.0079867180351587, 'exp16v6AugMixNew4_fold0.pbz2': 3.996238604352092, 'exp16v6AugMixNew4_fold0_tta.pbz2': 3.7155362710189697, 'exp16v6AugmixB3_fold0.pbz2': 0.44033812133736944, 'exp16v6AugmixB4Step2_fold0.pbz2': 1.1172981794253056, 'exp16v6AugmixB4Step2_fold0_remove_background.pbz2': 2.1647136024775278, 'exp16v6AugmixB4_fold0.pbz2': 2.5973500061730093, 'exp16v6AugmixB4_fold0_remove_background.pbz2': 2.5862715065675435, 'exp16v6AugmixFullB4_fold0.pbz2': 3.501841126260987, 'exp16v6sampler_fold0.pbz2': 3.779200174331249, 'exp21b6_fold0.pbz2': 1.2978578823046394, 'exp21b6_fold0_remove_background.pbz2': 1.877982781805121}. Best is trial 43 with value: 0.8675505653766523.\u001b[0m\n",
      "\u001b[32m[I 2022-04-17 07:49:01,051]\u001b[0m Trial 48 finished with value: 0.8665392578436057 and parameters: {'exp16v4sampler_fold0.pbz2': 1.490871892269703, 'exp16v6AugMixNew4_fold0.pbz2': 3.8349684362080776, 'exp16v6AugMixNew4_fold0_tta.pbz2': 3.3309648058157597, 'exp16v6AugmixB3_fold0.pbz2': 0.5154914007950044, 'exp16v6AugmixB4Step2_fold0.pbz2': 0.2545184577693034, 'exp16v6AugmixB4Step2_fold0_remove_background.pbz2': 1.5057075679089895, 'exp16v6AugmixB4_fold0.pbz2': 3.6376605770663284, 'exp16v6AugmixB4_fold0_remove_background.pbz2': 0.7788363136104274, 'exp16v6AugmixFullB4_fold0.pbz2': 3.7129420094079046, 'exp16v6sampler_fold0.pbz2': 3.8198458555150983, 'exp21b6_fold0.pbz2': 1.2158461981864574, 'exp21b6_fold0_remove_background.pbz2': 2.4599742970997904}. Best is trial 43 with value: 0.8675505653766523.\u001b[0m\n",
      "\u001b[32m[I 2022-04-17 07:49:02,832]\u001b[0m Trial 49 finished with value: 0.8663640707118968 and parameters: {'exp16v4sampler_fold0.pbz2': 2.536933717570398, 'exp16v6AugMixNew4_fold0.pbz2': 3.863135273717229, 'exp16v6AugMixNew4_fold0_tta.pbz2': 3.3260998971564515, 'exp16v6AugmixB3_fold0.pbz2': 0.44426878285849053, 'exp16v6AugmixB4Step2_fold0.pbz2': 0.6024091218395665, 'exp16v6AugmixB4Step2_fold0_remove_background.pbz2': 1.4575178946322236, 'exp16v6AugmixB4_fold0.pbz2': 3.1505316046949203, 'exp16v6AugmixB4_fold0_remove_background.pbz2': 0.20126321950754625, 'exp16v6AugmixFullB4_fold0.pbz2': 3.6779265274394657, 'exp16v6sampler_fold0.pbz2': 3.7604109127770897, 'exp21b6_fold0.pbz2': 1.197621078415101, 'exp21b6_fold0_remove_background.pbz2': 2.441704431097427}. Best is trial 43 with value: 0.8675505653766523.\u001b[0m\n",
      "\u001b[32m[I 2022-04-17 07:49:04,573]\u001b[0m Trial 50 finished with value: 0.865261188087275 and parameters: {'exp16v4sampler_fold0.pbz2': 2.6499538015974333, 'exp16v6AugMixNew4_fold0.pbz2': 3.851845267180385, 'exp16v6AugMixNew4_fold0_tta.pbz2': 3.3551800668608363, 'exp16v6AugmixB3_fold0.pbz2': 0.5109095863848706, 'exp16v6AugmixB4Step2_fold0.pbz2': 0.6763903338969736, 'exp16v6AugmixB4Step2_fold0_remove_background.pbz2': 1.8247528847284882, 'exp16v6AugmixB4_fold0.pbz2': 3.8040925752653076, 'exp16v6AugmixB4_fold0_remove_background.pbz2': 0.8367497369915818, 'exp16v6AugmixFullB4_fold0.pbz2': 3.7681710301177564, 'exp16v6sampler_fold0.pbz2': 3.787983781891712, 'exp21b6_fold0.pbz2': 1.0107292542060373, 'exp21b6_fold0_remove_background.pbz2': 2.967564181482781}. Best is trial 43 with value: 0.8675505653766523.\u001b[0m\n",
      "\u001b[32m[I 2022-04-17 07:49:06,318]\u001b[0m Trial 51 finished with value: 0.8664456919891702 and parameters: {'exp16v4sampler_fold0.pbz2': 2.1509006870091683, 'exp16v6AugMixNew4_fold0.pbz2': 3.8460350216688233, 'exp16v6AugMixNew4_fold0_tta.pbz2': 3.5771344807838714, 'exp16v6AugmixB3_fold0.pbz2': 0.23116717391245883, 'exp16v6AugmixB4Step2_fold0.pbz2': 0.24625742585024563, 'exp16v6AugmixB4Step2_fold0_remove_background.pbz2': 1.5598083760322685, 'exp16v6AugmixB4_fold0.pbz2': 3.029905921118429, 'exp16v6AugmixB4_fold0_remove_background.pbz2': 0.2286888514142459, 'exp16v6AugmixFullB4_fold0.pbz2': 3.6834936327593963, 'exp16v6sampler_fold0.pbz2': 3.4554375935432295, 'exp21b6_fold0.pbz2': 1.0625629029607586, 'exp21b6_fold0_remove_background.pbz2': 2.4224348201330232}. Best is trial 43 with value: 0.8675505653766523.\u001b[0m\n",
      "\u001b[32m[I 2022-04-17 07:49:08,065]\u001b[0m Trial 52 finished with value: 0.8669035674470458 and parameters: {'exp16v4sampler_fold0.pbz2': 2.1463163300434838, 'exp16v6AugMixNew4_fold0.pbz2': 3.5245642820793743, 'exp16v6AugMixNew4_fold0_tta.pbz2': 3.804420137867284, 'exp16v6AugmixB3_fold0.pbz2': 0.2614789460765815, 'exp16v6AugmixB4Step2_fold0.pbz2': 0.1731503470750461, 'exp16v6AugmixB4Step2_fold0_remove_background.pbz2': 1.4270450209403893, 'exp16v6AugmixB4_fold0.pbz2': 3.225992949044341, 'exp16v6AugmixB4_fold0_remove_background.pbz2': 0.2583276585733791, 'exp16v6AugmixFullB4_fold0.pbz2': 3.5988225845118365, 'exp16v6sampler_fold0.pbz2': 3.3993659098409847, 'exp21b6_fold0.pbz2': 1.2371437996807213, 'exp21b6_fold0_remove_background.pbz2': 2.3636012319700814}. Best is trial 43 with value: 0.8675505653766523.\u001b[0m\n",
      "\u001b[32m[I 2022-04-17 07:49:09,804]\u001b[0m Trial 53 finished with value: 0.8662924032489249 and parameters: {'exp16v4sampler_fold0.pbz2': 2.6245215226747396, 'exp16v6AugMixNew4_fold0.pbz2': 3.5447711257732792, 'exp16v6AugMixNew4_fold0_tta.pbz2': 3.8722611619354086, 'exp16v6AugmixB3_fold0.pbz2': 0.2517700080815487, 'exp16v6AugmixB4Step2_fold0.pbz2': 0.18017929469469335, 'exp16v6AugmixB4Step2_fold0_remove_background.pbz2': 1.431254532733805, 'exp16v6AugmixB4_fold0.pbz2': 3.1626848142374597, 'exp16v6AugmixB4_fold0_remove_background.pbz2': 0.631574541630888, 'exp16v6AugmixFullB4_fold0.pbz2': 3.6890246997439475, 'exp16v6sampler_fold0.pbz2': 3.437885328220165, 'exp21b6_fold0.pbz2': 1.154938378373995, 'exp21b6_fold0_remove_background.pbz2': 1.7001081376968354}. Best is trial 43 with value: 0.8675505653766523.\u001b[0m\n"
     ]
    },
    {
     "name": "stderr",
     "output_type": "stream",
     "text": [
      "\u001b[32m[I 2022-04-17 07:49:11,550]\u001b[0m Trial 54 finished with value: 0.8664357381748686 and parameters: {'exp16v4sampler_fold0.pbz2': 2.1476151962611985, 'exp16v6AugMixNew4_fold0.pbz2': 3.4769469613920716, 'exp16v6AugMixNew4_fold0_tta.pbz2': 3.2824377578252952, 'exp16v6AugmixB3_fold0.pbz2': 0.31566157559315616, 'exp16v6AugmixB4Step2_fold0.pbz2': 0.19585058531605415, 'exp16v6AugmixB4Step2_fold0_remove_background.pbz2': 2.0402235132733257, 'exp16v6AugmixB4_fold0.pbz2': 3.107293113768154, 'exp16v6AugmixB4_fold0_remove_background.pbz2': 0.20244240696572924, 'exp16v6AugmixFullB4_fold0.pbz2': 3.571030005606041, 'exp16v6sampler_fold0.pbz2': 3.1567944803283616, 'exp21b6_fold0.pbz2': 0.7782203425693877, 'exp21b6_fold0_remove_background.pbz2': 2.2739336071516707}. Best is trial 43 with value: 0.8675505653766523.\u001b[0m\n",
      "\u001b[32m[I 2022-04-17 07:49:13,318]\u001b[0m Trial 55 finished with value: 0.8653487816531295 and parameters: {'exp16v4sampler_fold0.pbz2': 1.5540049987049904, 'exp16v6AugMixNew4_fold0.pbz2': 3.2180286772307705, 'exp16v6AugMixNew4_fold0_tta.pbz2': 3.4927691734842083, 'exp16v6AugmixB3_fold0.pbz2': 0.6468775471037386, 'exp16v6AugmixB4Step2_fold0.pbz2': 0.23548043645181624, 'exp16v6AugmixB4Step2_fold0_remove_background.pbz2': 2.315958972656498, 'exp16v6AugmixB4_fold0.pbz2': 3.4323957249452364, 'exp16v6AugmixB4_fold0_remove_background.pbz2': 0.476765123606689, 'exp16v6AugmixFullB4_fold0.pbz2': 3.2950926461085204, 'exp16v6sampler_fold0.pbz2': 3.1300576801849136, 'exp21b6_fold0.pbz2': 0.8577505212485476, 'exp21b6_fold0_remove_background.pbz2': 2.260786952945508}. Best is trial 43 with value: 0.8675505653766523.\u001b[0m\n",
      "\u001b[32m[I 2022-04-17 07:49:15,061]\u001b[0m Trial 56 finished with value: 0.8665949992036949 and parameters: {'exp16v4sampler_fold0.pbz2': 2.1815316368558197, 'exp16v6AugMixNew4_fold0.pbz2': 3.488184540674033, 'exp16v6AugMixNew4_fold0_tta.pbz2': 3.198258950966373, 'exp16v6AugmixB3_fold0.pbz2': 0.970519016588909, 'exp16v6AugmixB4Step2_fold0.pbz2': 0.23892530771512666, 'exp16v6AugmixB4Step2_fold0_remove_background.pbz2': 1.7883244567599585, 'exp16v6AugmixB4_fold0.pbz2': 3.4339917530728865, 'exp16v6AugmixB4_fold0_remove_background.pbz2': 0.716045131188292, 'exp16v6AugmixFullB4_fold0.pbz2': 3.989988409140218, 'exp16v6sampler_fold0.pbz2': 3.427253212017257, 'exp21b6_fold0.pbz2': 0.7316591376360203, 'exp21b6_fold0_remove_background.pbz2': 1.8497320173048888}. Best is trial 43 with value: 0.8675505653766523.\u001b[0m\n",
      "\u001b[32m[I 2022-04-17 07:49:16,810]\u001b[0m Trial 57 finished with value: 0.8635789934702978 and parameters: {'exp16v4sampler_fold0.pbz2': 2.191826029397161, 'exp16v6AugMixNew4_fold0.pbz2': 0.960425577901092, 'exp16v6AugMixNew4_fold0_tta.pbz2': 3.9945725294582, 'exp16v6AugmixB3_fold0.pbz2': 0.9797106526996405, 'exp16v6AugmixB4Step2_fold0.pbz2': 0.37121089291439113, 'exp16v6AugmixB4Step2_fold0_remove_background.pbz2': 1.7384493585630214, 'exp16v6AugmixB4_fold0.pbz2': 3.554190265958479, 'exp16v6AugmixB4_fold0_remove_background.pbz2': 3.4836732039065166, 'exp16v6AugmixFullB4_fold0.pbz2': 3.9699451635153817, 'exp16v6sampler_fold0.pbz2': 3.454183886814073, 'exp21b6_fold0.pbz2': 0.4919143322469567, 'exp21b6_fold0_remove_background.pbz2': 1.813831439517545}. Best is trial 43 with value: 0.8675505653766523.\u001b[0m\n",
      "\u001b[32m[I 2022-04-17 07:49:18,553]\u001b[0m Trial 58 finished with value: 0.8662346711259755 and parameters: {'exp16v4sampler_fold0.pbz2': 1.415328980036588, 'exp16v6AugMixNew4_fold0.pbz2': 3.306588676232148, 'exp16v6AugMixNew4_fold0_tta.pbz2': 3.847697635947094, 'exp16v6AugmixB3_fold0.pbz2': 0.20273853538855893, 'exp16v6AugmixB4Step2_fold0.pbz2': 1.0040360747655046, 'exp16v6AugmixB4Step2_fold0_remove_background.pbz2': 1.9112118463153729, 'exp16v6AugmixB4_fold0.pbz2': 3.305984980778588, 'exp16v6AugmixB4_fold0_remove_background.pbz2': 1.3140039420032643, 'exp16v6AugmixFullB4_fold0.pbz2': 3.812933340573891, 'exp16v6sampler_fold0.pbz2': 3.6520487906314676, 'exp21b6_fold0.pbz2': 1.0240350301286782, 'exp21b6_fold0_remove_background.pbz2': 2.009939910212503}. Best is trial 43 with value: 0.8675505653766523.\u001b[0m\n",
      "\u001b[32m[I 2022-04-17 07:49:20,293]\u001b[0m Trial 59 finished with value: 0.8654204491161013 and parameters: {'exp16v4sampler_fold0.pbz2': 1.8438341816000576, 'exp16v6AugMixNew4_fold0.pbz2': 3.1211874334716736, 'exp16v6AugMixNew4_fold0_tta.pbz2': 3.47513572372286, 'exp16v6AugmixB3_fold0.pbz2': 0.5905799335457336, 'exp16v6AugmixB4Step2_fold0.pbz2': 0.012821981304171837, 'exp16v6AugmixB4Step2_fold0_remove_background.pbz2': 1.3597740870700321, 'exp16v6AugmixB4_fold0.pbz2': 3.663029728592754, 'exp16v6AugmixB4_fold0_remove_background.pbz2': 0.6465214581280949, 'exp16v6AugmixFullB4_fold0.pbz2': 3.3267845540775576, 'exp16v6sampler_fold0.pbz2': 3.317396630594169, 'exp21b6_fold0.pbz2': 2.094604238991293, 'exp21b6_fold0_remove_background.pbz2': 2.8262517464345613}. Best is trial 43 with value: 0.8675505653766523.\u001b[0m\n",
      "\u001b[32m[I 2022-04-17 07:49:22,033]\u001b[0m Trial 60 finished with value: 0.8637103838190795 and parameters: {'exp16v4sampler_fold0.pbz2': 2.360642218056226, 'exp16v6AugMixNew4_fold0.pbz2': 3.7982400660214, 'exp16v6AugMixNew4_fold0_tta.pbz2': 3.19191231685471, 'exp16v6AugmixB3_fold0.pbz2': 0.9066478428520499, 'exp16v6AugmixB4Step2_fold0.pbz2': 0.45380635946027914, 'exp16v6AugmixB4Step2_fold0_remove_background.pbz2': 2.5085244979628607, 'exp16v6AugmixB4_fold0.pbz2': 2.9632434874769205, 'exp16v6AugmixB4_fold0_remove_background.pbz2': 0.8194844595708097, 'exp16v6AugmixFullB4_fold0.pbz2': 2.9636814109531833, 'exp16v6sampler_fold0.pbz2': 3.5695152808146435, 'exp21b6_fold0.pbz2': 1.666639695233181, 'exp21b6_fold0_remove_background.pbz2': 1.57660092560061}. Best is trial 43 with value: 0.8675505653766523.\u001b[0m\n",
      "\u001b[32m[I 2022-04-17 07:49:23,784]\u001b[0m Trial 61 finished with value: 0.8667522694696608 and parameters: {'exp16v4sampler_fold0.pbz2': 2.155150409308855, 'exp16v6AugMixNew4_fold0.pbz2': 3.4909604445757823, 'exp16v6AugMixNew4_fold0_tta.pbz2': 3.2529097996850607, 'exp16v6AugmixB3_fold0.pbz2': 0.35361400642279683, 'exp16v6AugmixB4Step2_fold0.pbz2': 0.18788101308375904, 'exp16v6AugmixB4Step2_fold0_remove_background.pbz2': 2.0700748275329497, 'exp16v6AugmixB4_fold0.pbz2': 2.340014136587614, 'exp16v6AugmixB4_fold0_remove_background.pbz2': 0.43157172449215897, 'exp16v6AugmixFullB4_fold0.pbz2': 3.563523390452166, 'exp16v6sampler_fold0.pbz2': 3.1547032242274486, 'exp21b6_fold0.pbz2': 0.7400593238210375, 'exp21b6_fold0_remove_background.pbz2': 2.190044773065465}. Best is trial 43 with value: 0.8675505653766523.\u001b[0m\n",
      "\u001b[32m[I 2022-04-17 07:49:25,528]\u001b[0m Trial 62 finished with value: 0.8659499920369486 and parameters: {'exp16v4sampler_fold0.pbz2': 2.0966935220473073, 'exp16v6AugMixNew4_fold0.pbz2': 3.4159428075184928, 'exp16v6AugMixNew4_fold0_tta.pbz2': 3.60558063849033, 'exp16v6AugmixB3_fold0.pbz2': 0.186256572639787, 'exp16v6AugmixB4Step2_fold0.pbz2': 0.7724256427560108, 'exp16v6AugmixB4Step2_fold0_remove_background.pbz2': 2.1215988485666912, 'exp16v6AugmixB4_fold0.pbz2': 2.2657378020174623, 'exp16v6AugmixB4_fold0_remove_background.pbz2': 0.463918332084306, 'exp16v6AugmixFullB4_fold0.pbz2': 3.5681583906269605, 'exp16v6sampler_fold0.pbz2': 3.8466463797151547, 'exp21b6_fold0.pbz2': 0.6095755473658053, 'exp21b6_fold0_remove_background.pbz2': 2.153322768521017}. Best is trial 43 with value: 0.8675505653766523.\u001b[0m\n",
      "\u001b[32m[I 2022-04-17 07:49:27,274]\u001b[0m Trial 63 finished with value: 0.8670289855072465 and parameters: {'exp16v4sampler_fold0.pbz2': 1.021514252933596, 'exp16v6AugMixNew4_fold0.pbz2': 3.518037687031651, 'exp16v6AugMixNew4_fold0_tta.pbz2': 3.7744827038135664, 'exp16v6AugmixB3_fold0.pbz2': 0.357760693867129, 'exp16v6AugmixB4Step2_fold0.pbz2': 0.2911829319217924, 'exp16v6AugmixB4Step2_fold0_remove_background.pbz2': 1.7633857195575375, 'exp16v6AugmixB4_fold0.pbz2': 3.982088325131344, 'exp16v6AugmixB4_fold0_remove_background.pbz2': 0.6110540781637128, 'exp16v6AugmixFullB4_fold0.pbz2': 3.999416924279714, 'exp16v6sampler_fold0.pbz2': 3.6553623587869324, 'exp21b6_fold0.pbz2': 1.4712593844348572, 'exp21b6_fold0_remove_background.pbz2': 1.9537608636023727}. Best is trial 43 with value: 0.8675505653766523.\u001b[0m\n",
      "\u001b[32m[I 2022-04-17 07:49:29,018]\u001b[0m Trial 64 finished with value: 0.8642140468227425 and parameters: {'exp16v4sampler_fold0.pbz2': 1.0384757545599184, 'exp16v6AugMixNew4_fold0.pbz2': 0.03627481971265745, 'exp16v6AugMixNew4_fold0_tta.pbz2': 3.836774417353226, 'exp16v6AugmixB3_fold0.pbz2': 0.40813915560134384, 'exp16v6AugmixB4Step2_fold0.pbz2': 0.13422395598755968, 'exp16v6AugmixB4Step2_fold0_remove_background.pbz2': 2.276133995242117, 'exp16v6AugmixB4_fold0.pbz2': 3.686818955900045, 'exp16v6AugmixB4_fold0_remove_background.pbz2': 0.5451958043353022, 'exp16v6AugmixFullB4_fold0.pbz2': 3.9887712798715085, 'exp16v6sampler_fold0.pbz2': 3.70975062880381, 'exp21b6_fold0.pbz2': 0.32108501582048005, 'exp21b6_fold0_remove_background.pbz2': 1.9402713559886802}. Best is trial 43 with value: 0.8675505653766523.\u001b[0m\n"
     ]
    },
    {
     "name": "stderr",
     "output_type": "stream",
     "text": [
      "\u001b[32m[I 2022-04-17 07:49:30,764]\u001b[0m Trial 65 finished with value: 0.8628006051919095 and parameters: {'exp16v4sampler_fold0.pbz2': 3.2538775502051136, 'exp16v6AugMixNew4_fold0.pbz2': 3.569695386012411, 'exp16v6AugMixNew4_fold0_tta.pbz2': 3.4300446900724735, 'exp16v6AugmixB3_fold0.pbz2': 0.0978949984039755, 'exp16v6AugmixB4Step2_fold0.pbz2': 3.5291248699659024, 'exp16v6AugmixB4Step2_fold0_remove_background.pbz2': 1.7969911562318956, 'exp16v6AugmixB4_fold0.pbz2': 3.9436127427159198, 'exp16v6AugmixB4_fold0_remove_background.pbz2': 0.7032286892767152, 'exp16v6AugmixFullB4_fold0.pbz2': 3.8715557743163633, 'exp16v6sampler_fold0.pbz2': 3.0188485863095815, 'exp21b6_fold0.pbz2': 1.4231971193289763, 'exp21b6_fold0_remove_background.pbz2': 1.7174894730555463}. Best is trial 43 with value: 0.8675505653766523.\u001b[0m\n",
      "\u001b[32m[I 2022-04-17 07:49:32,511]\u001b[0m Trial 66 finished with value: 0.865934065934066 and parameters: {'exp16v4sampler_fold0.pbz2': 0.8487518748618855, 'exp16v6AugMixNew4_fold0.pbz2': 3.6052938305076223, 'exp16v6AugMixNew4_fold0_tta.pbz2': 2.6663676650121664, 'exp16v6AugmixB3_fold0.pbz2': 0.6477187648977042, 'exp16v6AugmixB4Step2_fold0.pbz2': 0.31303113716323255, 'exp16v6AugmixB4Step2_fold0_remove_background.pbz2': 1.3318595898563066, 'exp16v6AugmixB4_fold0.pbz2': 3.983196812752814, 'exp16v6AugmixB4_fold0_remove_background.pbz2': 0.410189964937687, 'exp16v6AugmixFullB4_fold0.pbz2': 3.4224059416424293, 'exp16v6sampler_fold0.pbz2': 3.5918741736356905, 'exp21b6_fold0.pbz2': 1.3025639378685512, 'exp21b6_fold0_remove_background.pbz2': 2.086277638250516}. Best is trial 43 with value: 0.8675505653766523.\u001b[0m\n",
      "\u001b[32m[I 2022-04-17 07:49:34,296]\u001b[0m Trial 67 finished with value: 0.864174231565536 and parameters: {'exp16v4sampler_fold0.pbz2': 1.4758922335479243, 'exp16v6AugMixNew4_fold0.pbz2': 3.0984129576616652, 'exp16v6AugMixNew4_fold0_tta.pbz2': 3.208786352920713, 'exp16v6AugmixB3_fold0.pbz2': 1.074210740177683, 'exp16v6AugmixB4Step2_fold0.pbz2': 0.713362967797134, 'exp16v6AugmixB4Step2_fold0_remove_background.pbz2': 1.9719886580696138, 'exp16v6AugmixB4_fold0.pbz2': 3.340229970103144, 'exp16v6AugmixB4_fold0_remove_background.pbz2': 1.124683164479594, 'exp16v6AugmixFullB4_fold0.pbz2': 3.3290822676140572, 'exp16v6sampler_fold0.pbz2': 3.8556438891001235, 'exp21b6_fold0.pbz2': 0.7069279939302322, 'exp21b6_fold0_remove_background.pbz2': 2.3071632930142925}. Best is trial 43 with value: 0.8675505653766523.\u001b[0m\n",
      "\u001b[32m[I 2022-04-17 07:49:36,040]\u001b[0m Trial 68 finished with value: 0.8650402134097788 and parameters: {'exp16v4sampler_fold0.pbz2': 1.040946419147036, 'exp16v6AugMixNew4_fold0.pbz2': 2.75922303864567, 'exp16v6AugMixNew4_fold0_tta.pbz2': 3.7642055455692964, 'exp16v6AugmixB3_fold0.pbz2': 2.842606770315517, 'exp16v6AugmixB4Step2_fold0.pbz2': 0.006389489428062167, 'exp16v6AugmixB4Step2_fold0_remove_background.pbz2': 1.6752078177833867, 'exp16v6AugmixB4_fold0.pbz2': 3.8028006338851053, 'exp16v6AugmixB4_fold0_remove_background.pbz2': 0.8532948503036689, 'exp16v6AugmixFullB4_fold0.pbz2': 3.589654686240988, 'exp16v6sampler_fold0.pbz2': 3.25371963957611, 'exp21b6_fold0.pbz2': 1.5020729815009217, 'exp21b6_fold0_remove_background.pbz2': 2.7855721360701566}. Best is trial 43 with value: 0.8675505653766523.\u001b[0m\n",
      "\u001b[32m[I 2022-04-17 07:49:37,784]\u001b[0m Trial 69 finished with value: 0.8640886287625417 and parameters: {'exp16v4sampler_fold0.pbz2': 1.823054095479844, 'exp16v6AugMixNew4_fold0.pbz2': 3.3320323083140875, 'exp16v6AugMixNew4_fold0_tta.pbz2': 2.844239814033001, 'exp16v6AugmixB3_fold0.pbz2': 3.6737200976730398, 'exp16v6AugmixB4Step2_fold0.pbz2': 0.4007258307299708, 'exp16v6AugmixB4Step2_fold0_remove_background.pbz2': 2.512700913144972, 'exp16v6AugmixB4_fold0.pbz2': 3.5907082143550118, 'exp16v6AugmixB4_fold0_remove_background.pbz2': 0.0761634768228675, 'exp16v6AugmixFullB4_fold0.pbz2': 3.848424298715346, 'exp16v6sampler_fold0.pbz2': 2.592560578327113, 'exp21b6_fold0.pbz2': 0.8125917401393103, 'exp21b6_fold0_remove_background.pbz2': 2.525081073932445}. Best is trial 43 with value: 0.8675505653766523.\u001b[0m\n",
      "\u001b[32m[I 2022-04-17 07:49:39,523]\u001b[0m Trial 70 finished with value: 0.8617096671444497 and parameters: {'exp16v4sampler_fold0.pbz2': 2.307331185612193, 'exp16v6AugMixNew4_fold0.pbz2': 3.4603031723985875, 'exp16v6AugMixNew4_fold0_tta.pbz2': 3.9624516261646154, 'exp16v6AugmixB3_fold0.pbz2': 0.34078067617203417, 'exp16v6AugmixB4Step2_fold0.pbz2': 2.9826079031959383, 'exp16v6AugmixB4Step2_fold0_remove_background.pbz2': 2.0947210101875915, 'exp16v6AugmixB4_fold0.pbz2': 3.845567598196151, 'exp16v6AugmixB4_fold0_remove_background.pbz2': 1.9106286789504188, 'exp16v6AugmixFullB4_fold0.pbz2': 3.21184581667793, 'exp16v6sampler_fold0.pbz2': 3.986310516376932, 'exp21b6_fold0.pbz2': 1.241637397526615, 'exp21b6_fold0_remove_background.pbz2': 1.8436115926385463}. Best is trial 43 with value: 0.8675505653766523.\u001b[0m\n",
      "\u001b[32m[I 2022-04-17 07:49:41,270]\u001b[0m Trial 71 finished with value: 0.8665054148749802 and parameters: {'exp16v4sampler_fold0.pbz2': 2.440867801836479, 'exp16v6AugMixNew4_fold0.pbz2': 3.800015857493791, 'exp16v6AugMixNew4_fold0_tta.pbz2': 3.551887724611642, 'exp16v6AugmixB3_fold0.pbz2': 0.1369194090189924, 'exp16v6AugmixB4Step2_fold0.pbz2': 0.22886178208570607, 'exp16v6AugmixB4Step2_fold0_remove_background.pbz2': 1.5588269726588013, 'exp16v6AugmixB4_fold0.pbz2': 2.9848199248109832, 'exp16v6AugmixB4_fold0_remove_background.pbz2': 0.15952564783589354, 'exp16v6AugmixFullB4_fold0.pbz2': 3.7123257232469538, 'exp16v6sampler_fold0.pbz2': 3.508646056124731, 'exp21b6_fold0.pbz2': 1.0013343799565533, 'exp21b6_fold0_remove_background.pbz2': 2.1792385409721033}. Best is trial 43 with value: 0.8675505653766523.\u001b[0m\n",
      "\u001b[32m[I 2022-04-17 07:49:43,010]\u001b[0m Trial 72 finished with value: 0.8662406434145564 and parameters: {'exp16v4sampler_fold0.pbz2': 2.538482560703542, 'exp16v6AugMixNew4_fold0.pbz2': 3.7195612896097345, 'exp16v6AugMixNew4_fold0_tta.pbz2': 3.4589041908538785, 'exp16v6AugmixB3_fold0.pbz2': 0.5825263469879949, 'exp16v6AugmixB4Step2_fold0.pbz2': 0.12179594392257129, 'exp16v6AugmixB4Step2_fold0_remove_background.pbz2': 1.4725140978346092, 'exp16v6AugmixB4_fold0.pbz2': 3.3684234773275903, 'exp16v6AugmixB4_fold0_remove_background.pbz2': 0.3984648327279498, 'exp16v6AugmixFullB4_fold0.pbz2': 3.735209808264444, 'exp16v6sampler_fold0.pbz2': 3.6808661001932403, 'exp21b6_fold0.pbz2': 1.5878290616837671, 'exp21b6_fold0_remove_background.pbz2': 2.1780686220083685}. Best is trial 43 with value: 0.8675505653766523.\u001b[0m\n",
      "\u001b[32m[I 2022-04-17 07:49:44,775]\u001b[0m Trial 73 finished with value: 0.8656752667622233 and parameters: {'exp16v4sampler_fold0.pbz2': 2.7800193745092403, 'exp16v6AugMixNew4_fold0.pbz2': 3.605774822241198, 'exp16v6AugMixNew4_fold0_tta.pbz2': 3.7445113597349424, 'exp16v6AugmixB3_fold0.pbz2': 0.3689545739569743, 'exp16v6AugmixB4Step2_fold0.pbz2': 0.4824725968937585, 'exp16v6AugmixB4Step2_fold0_remove_background.pbz2': 1.8881495526392778, 'exp16v6AugmixB4_fold0.pbz2': 2.694954053646045, 'exp16v6AugmixB4_fold0_remove_background.pbz2': 0.10427704808525373, 'exp16v6AugmixFullB4_fold0.pbz2': 3.4985872221238727, 'exp16v6sampler_fold0.pbz2': 3.492578176335558, 'exp21b6_fold0.pbz2': 0.3634460617736138, 'exp21b6_fold0_remove_background.pbz2': 1.9978005200673004}. Best is trial 43 with value: 0.8675505653766523.\u001b[0m\n",
      "\u001b[32m[I 2022-04-17 07:49:46,517]\u001b[0m Trial 74 finished with value: 0.8643195572543398 and parameters: {'exp16v4sampler_fold0.pbz2': 2.9740774826544008, 'exp16v6AugMixNew4_fold0.pbz2': 3.7958386105504656, 'exp16v6AugMixNew4_fold0_tta.pbz2': 3.141897171759262, 'exp16v6AugmixB3_fold0.pbz2': 0.11846015661216092, 'exp16v6AugmixB4Step2_fold0.pbz2': 0.8396146793460444, 'exp16v6AugmixB4Step2_fold0_remove_background.pbz2': 1.7375447848163357, 'exp16v6AugmixB4_fold0.pbz2': 2.3688581625885625, 'exp16v6AugmixB4_fold0_remove_background.pbz2': 0.5430221427439155, 'exp16v6AugmixFullB4_fold0.pbz2': 2.8920307827752585, 'exp16v6sampler_fold0.pbz2': 3.316358159618371, 'exp21b6_fold0.pbz2': 0.9955669124233839, 'exp21b6_fold0_remove_background.pbz2': 2.5612125181827397}. Best is trial 43 with value: 0.8675505653766523.\u001b[0m\n",
      "\u001b[32m[I 2022-04-17 07:49:48,257]\u001b[0m Trial 75 finished with value: 0.8670767638158943 and parameters: {'exp16v4sampler_fold0.pbz2': 1.6923776142149896, 'exp16v6AugMixNew4_fold0.pbz2': 3.910050572559134, 'exp16v6AugMixNew4_fold0_tta.pbz2': 3.3057889463785495, 'exp16v6AugmixB3_fold0.pbz2': 0.6808180168521352, 'exp16v6AugmixB4Step2_fold0.pbz2': 0.30680579270556485, 'exp16v6AugmixB4Step2_fold0_remove_background.pbz2': 1.279841522381782, 'exp16v6AugmixB4_fold0.pbz2': 3.246798775740903, 'exp16v6AugmixB4_fold0_remove_background.pbz2': 0.32003096173844886, 'exp16v6AugmixFullB4_fold0.pbz2': 3.8911660839736895, 'exp16v6sampler_fold0.pbz2': 3.672880969771924, 'exp21b6_fold0.pbz2': 0.5692091959374945, 'exp21b6_fold0_remove_background.pbz2': 1.6157127443495036}. Best is trial 43 with value: 0.8675505653766523.\u001b[0m\n"
     ]
    },
    {
     "name": "stderr",
     "output_type": "stream",
     "text": [
      "\u001b[32m[I 2022-04-17 07:49:49,998]\u001b[0m Trial 76 finished with value: 0.8671404682274247 and parameters: {'exp16v4sampler_fold0.pbz2': 1.6515741813502738, 'exp16v6AugMixNew4_fold0.pbz2': 3.229904374136443, 'exp16v6AugMixNew4_fold0_tta.pbz2': 3.052879638751341, 'exp16v6AugmixB3_fold0.pbz2': 0.8884368900257216, 'exp16v6AugmixB4Step2_fold0.pbz2': 0.31145719113929127, 'exp16v6AugmixB4Step2_fold0_remove_background.pbz2': 1.009739239739388, 'exp16v6AugmixB4_fold0.pbz2': 1.9349610669677428, 'exp16v6AugmixB4_fold0_remove_background.pbz2': 0.34150256273076546, 'exp16v6AugmixFullB4_fold0.pbz2': 3.9156784539436327, 'exp16v6sampler_fold0.pbz2': 3.6785191971731184, 'exp21b6_fold0.pbz2': 3.7388921144844467, 'exp21b6_fold0_remove_background.pbz2': 1.331246845312362}. Best is trial 43 with value: 0.8675505653766523.\u001b[0m\n",
      "\u001b[32m[I 2022-04-17 07:49:51,742]\u001b[0m Trial 77 finished with value: 0.8649088230609969 and parameters: {'exp16v4sampler_fold0.pbz2': 1.7046047789289624, 'exp16v6AugMixNew4_fold0.pbz2': 3.2795376151224516, 'exp16v6AugMixNew4_fold0_tta.pbz2': 2.7750323665529124, 'exp16v6AugmixB3_fold0.pbz2': 1.3826478846612944, 'exp16v6AugmixB4Step2_fold0.pbz2': 2.435886790762535, 'exp16v6AugmixB4Step2_fold0_remove_background.pbz2': 1.2798454450161216, 'exp16v6AugmixB4_fold0.pbz2': 2.002895745703225, 'exp16v6AugmixB4_fold0_remove_background.pbz2': 0.3697556165993766, 'exp16v6AugmixFullB4_fold0.pbz2': 3.9176187419088615, 'exp16v6sampler_fold0.pbz2': 3.6566690147223806, 'exp21b6_fold0.pbz2': 3.65917599932845, 'exp21b6_fold0_remove_background.pbz2': 1.3102983449531724}. Best is trial 43 with value: 0.8675505653766523.\u001b[0m\n",
      "\u001b[32m[I 2022-04-17 07:49:53,492]\u001b[0m Trial 78 finished with value: 0.868665392578436 and parameters: {'exp16v4sampler_fold0.pbz2': 2.029258745458931, 'exp16v6AugMixNew4_fold0.pbz2': 2.851717376162183, 'exp16v6AugMixNew4_fold0_tta.pbz2': 3.0864935338146235, 'exp16v6AugmixB3_fold0.pbz2': 0.8573648616689434, 'exp16v6AugmixB4Step2_fold0.pbz2': 0.6696226159712257, 'exp16v6AugmixB4Step2_fold0_remove_background.pbz2': 1.061361709635084, 'exp16v6AugmixB4_fold0.pbz2': 1.6262338160487273, 'exp16v6AugmixB4_fold0_remove_background.pbz2': 0.6048493908752689, 'exp16v6AugmixFullB4_fold0.pbz2': 3.859514283484921, 'exp16v6sampler_fold0.pbz2': 2.9298574935727295, 'exp21b6_fold0.pbz2': 0.2429221418543407, 'exp21b6_fold0_remove_background.pbz2': 1.535045375352675}. Best is trial 78 with value: 0.868665392578436.\u001b[0m\n",
      "\u001b[32m[I 2022-04-17 07:49:55,265]\u001b[0m Trial 79 finished with value: 0.8651198439241917 and parameters: {'exp16v4sampler_fold0.pbz2': 1.911779632962469, 'exp16v6AugMixNew4_fold0.pbz2': 2.8510361190059683, 'exp16v6AugMixNew4_fold0_tta.pbz2': 2.5172672225491084, 'exp16v6AugmixB3_fold0.pbz2': 0.6758820864210071, 'exp16v6AugmixB4Step2_fold0.pbz2': 0.6492150948251181, 'exp16v6AugmixB4Step2_fold0_remove_background.pbz2': 3.9716078889994293, 'exp16v6AugmixB4_fold0.pbz2': 1.5900962953573061, 'exp16v6AugmixB4_fold0_remove_background.pbz2': 0.5954754978325933, 'exp16v6AugmixFullB4_fold0.pbz2': 3.838748284215831, 'exp16v6sampler_fold0.pbz2': 2.944531885035013, 'exp21b6_fold0.pbz2': 0.004170376722698266, 'exp21b6_fold0_remove_background.pbz2': 1.5626512787998177}. Best is trial 78 with value: 0.868665392578436.\u001b[0m\n",
      "\u001b[32m[I 2022-04-17 07:49:57,006]\u001b[0m Trial 80 finished with value: 0.866947364229973 and parameters: {'exp16v4sampler_fold0.pbz2': 0.4813754638491924, 'exp16v6AugMixNew4_fold0.pbz2': 3.0119050436432078, 'exp16v6AugMixNew4_fold0_tta.pbz2': 3.1054305126231556, 'exp16v6AugmixB3_fold0.pbz2': 0.8839173130641707, 'exp16v6AugmixB4Step2_fold0.pbz2': 0.9892993099995647, 'exp16v6AugmixB4Step2_fold0_remove_background.pbz2': 0.7887192517046792, 'exp16v6AugmixB4_fold0.pbz2': 1.9066096907633612, 'exp16v6AugmixB4_fold0_remove_background.pbz2': 0.9245157837252952, 'exp16v6AugmixFullB4_fold0.pbz2': 3.3642265925659904, 'exp16v6sampler_fold0.pbz2': 3.1871379466370224, 'exp21b6_fold0.pbz2': 0.11601706757885655, 'exp21b6_fold0_remove_background.pbz2': 1.3891331271093563}. Best is trial 78 with value: 0.868665392578436.\u001b[0m\n",
      "\u001b[32m[I 2022-04-17 07:49:58,748]\u001b[0m Trial 81 finished with value: 0.8678292721770983 and parameters: {'exp16v4sampler_fold0.pbz2': 0.9676412743497957, 'exp16v6AugMixNew4_fold0.pbz2': 3.0021492614392242, 'exp16v6AugMixNew4_fold0_tta.pbz2': 3.0076688330741748, 'exp16v6AugmixB3_fold0.pbz2': 0.8795633981183548, 'exp16v6AugmixB4Step2_fold0.pbz2': 0.5088376084601592, 'exp16v6AugmixB4Step2_fold0_remove_background.pbz2': 0.7903965613887911, 'exp16v6AugmixB4_fold0.pbz2': 1.771610465414315, 'exp16v6AugmixB4_fold0_remove_background.pbz2': 0.3109511532825746, 'exp16v6AugmixFullB4_fold0.pbz2': 3.5920884472264056, 'exp16v6sampler_fold0.pbz2': 3.199220545320582, 'exp21b6_fold0.pbz2': 0.17455978709883468, 'exp21b6_fold0_remove_background.pbz2': 1.1301845641942068}. Best is trial 78 with value: 0.868665392578436.\u001b[0m\n",
      "\u001b[32m[I 2022-04-17 07:50:00,488]\u001b[0m Trial 82 finished with value: 0.8673913043478261 and parameters: {'exp16v4sampler_fold0.pbz2': 0.4592345679072488, 'exp16v6AugMixNew4_fold0.pbz2': 3.0045082966108554, 'exp16v6AugMixNew4_fold0_tta.pbz2': 3.0888386647760373, 'exp16v6AugmixB3_fold0.pbz2': 0.8347087597005791, 'exp16v6AugmixB4Step2_fold0.pbz2': 1.299826041968266, 'exp16v6AugmixB4Step2_fold0_remove_background.pbz2': 0.81777071625954, 'exp16v6AugmixB4_fold0.pbz2': 1.8309438917761451, 'exp16v6AugmixB4_fold0_remove_background.pbz2': 0.32154137448804765, 'exp16v6AugmixFullB4_fold0.pbz2': 3.404048619380323, 'exp16v6sampler_fold0.pbz2': 2.793814962467417, 'exp21b6_fold0.pbz2': 0.20898690190043, 'exp21b6_fold0_remove_background.pbz2': 1.3216728371200308}. Best is trial 78 with value: 0.868665392578436.\u001b[0m\n",
      "\u001b[32m[I 2022-04-17 07:50:02,234]\u001b[0m Trial 83 finished with value: 0.8673654244306418 and parameters: {'exp16v4sampler_fold0.pbz2': 0.5010881975826886, 'exp16v6AugMixNew4_fold0.pbz2': 2.623528968258109, 'exp16v6AugMixNew4_fold0_tta.pbz2': 3.0404265142875033, 'exp16v6AugmixB3_fold0.pbz2': 0.8292306518061168, 'exp16v6AugmixB4Step2_fold0.pbz2': 1.2927597637812842, 'exp16v6AugmixB4Step2_fold0_remove_background.pbz2': 0.7556683768159499, 'exp16v6AugmixB4_fold0.pbz2': 1.7577625720986878, 'exp16v6AugmixB4_fold0_remove_background.pbz2': 0.9182910805814543, 'exp16v6AugmixFullB4_fold0.pbz2': 3.398558952303103, 'exp16v6sampler_fold0.pbz2': 2.2737315721183453, 'exp21b6_fold0.pbz2': 0.17785437626732306, 'exp21b6_fold0_remove_background.pbz2': 1.1103197805342286}. Best is trial 78 with value: 0.868665392578436.\u001b[0m\n",
      "\u001b[32m[I 2022-04-17 07:50:03,980]\u001b[0m Trial 84 finished with value: 0.8676720019111324 and parameters: {'exp16v4sampler_fold0.pbz2': 0.7281734379151779, 'exp16v6AugMixNew4_fold0.pbz2': 2.5866519551459333, 'exp16v6AugMixNew4_fold0_tta.pbz2': 2.7781121713796675, 'exp16v6AugmixB3_fold0.pbz2': 1.0747529037629893, 'exp16v6AugmixB4Step2_fold0.pbz2': 1.2854718539457974, 'exp16v6AugmixB4Step2_fold0_remove_background.pbz2': 1.021332877387874, 'exp16v6AugmixB4_fold0.pbz2': 1.3018347416914144, 'exp16v6AugmixB4_fold0_remove_background.pbz2': 0.30971547545526407, 'exp16v6AugmixFullB4_fold0.pbz2': 3.133763859031015, 'exp16v6sampler_fold0.pbz2': 2.458472566392776, 'exp21b6_fold0.pbz2': 0.16821258211329196, 'exp21b6_fold0_remove_background.pbz2': 1.119759988625851}. Best is trial 78 with value: 0.868665392578436.\u001b[0m\n",
      "\u001b[32m[I 2022-04-17 07:50:05,746]\u001b[0m Trial 85 finished with value: 0.8673236184105749 and parameters: {'exp16v4sampler_fold0.pbz2': 0.7690086112714665, 'exp16v6AugMixNew4_fold0.pbz2': 2.6067164861671763, 'exp16v6AugMixNew4_fold0_tta.pbz2': 3.0120439669680747, 'exp16v6AugmixB3_fold0.pbz2': 1.070669910539557, 'exp16v6AugmixB4Step2_fold0.pbz2': 1.328102382201366, 'exp16v6AugmixB4Step2_fold0_remove_background.pbz2': 1.0156070033719988, 'exp16v6AugmixB4_fold0.pbz2': 1.4226932964548764, 'exp16v6AugmixB4_fold0_remove_background.pbz2': 0.5970786862481109, 'exp16v6AugmixFullB4_fold0.pbz2': 3.2004608715907747, 'exp16v6sampler_fold0.pbz2': 2.2621757451565943, 'exp21b6_fold0.pbz2': 0.21772273334948267, 'exp21b6_fold0_remove_background.pbz2': 1.1054055868430952}. Best is trial 78 with value: 0.868665392578436.\u001b[0m\n",
      "\u001b[32m[I 2022-04-17 07:50:07,492]\u001b[0m Trial 86 finished with value: 0.866668657429527 and parameters: {'exp16v4sampler_fold0.pbz2': 0.7465965480696646, 'exp16v6AugMixNew4_fold0.pbz2': 2.2558224988510385, 'exp16v6AugMixNew4_fold0_tta.pbz2': 2.7859403906449325, 'exp16v6AugmixB3_fold0.pbz2': 1.0865407441153003, 'exp16v6AugmixB4Step2_fold0.pbz2': 1.331523572842436, 'exp16v6AugmixB4Step2_fold0_remove_background.pbz2': 1.033251438097555, 'exp16v6AugmixB4_fold0.pbz2': 1.3205906407245784, 'exp16v6AugmixB4_fold0_remove_background.pbz2': 0.10743144797627882, 'exp16v6AugmixFullB4_fold0.pbz2': 2.7083321140526206, 'exp16v6sampler_fold0.pbz2': 2.346954043159205, 'exp21b6_fold0.pbz2': 0.24943334804552253, 'exp21b6_fold0_remove_background.pbz2': 1.025359410163984}. Best is trial 78 with value: 0.868665392578436.\u001b[0m\n"
     ]
    },
    {
     "name": "stderr",
     "output_type": "stream",
     "text": [
      "\u001b[32m[I 2022-04-17 07:50:09,244]\u001b[0m Trial 87 finished with value: 0.866819955406912 and parameters: {'exp16v4sampler_fold0.pbz2': 0.17708737710688122, 'exp16v6AugMixNew4_fold0.pbz2': 2.6174622700832586, 'exp16v6AugMixNew4_fold0_tta.pbz2': 3.0663484992333023, 'exp16v6AugmixB3_fold0.pbz2': 1.3067727071824835, 'exp16v6AugmixB4Step2_fold0.pbz2': 1.9036931544749192, 'exp16v6AugmixB4Step2_fold0_remove_background.pbz2': 0.5797187846408686, 'exp16v6AugmixB4_fold0.pbz2': 1.677975064895895, 'exp16v6AugmixB4_fold0_remove_background.pbz2': 0.3240777453773631, 'exp16v6AugmixFullB4_fold0.pbz2': 3.1511996919496283, 'exp16v6sampler_fold0.pbz2': 2.151296111641805, 'exp21b6_fold0.pbz2': 0.1838314060366724, 'exp21b6_fold0_remove_background.pbz2': 1.1670557571518616}. Best is trial 78 with value: 0.868665392578436.\u001b[0m\n",
      "\u001b[32m[I 2022-04-17 07:50:10,997]\u001b[0m Trial 88 finished with value: 0.8683568243350852 and parameters: {'exp16v4sampler_fold0.pbz2': 0.6485628124993694, 'exp16v6AugMixNew4_fold0.pbz2': 2.757407089118767, 'exp16v6AugMixNew4_fold0_tta.pbz2': 2.577156555273507, 'exp16v6AugmixB3_fold0.pbz2': 0.8545231570329448, 'exp16v6AugmixB4Step2_fold0.pbz2': 1.2773105180429598, 'exp16v6AugmixB4Step2_fold0_remove_background.pbz2': 0.9525781348159407, 'exp16v6AugmixB4_fold0.pbz2': 1.4035157189182756, 'exp16v6AugmixB4_fold0_remove_background.pbz2': 0.46673424622693027, 'exp16v6AugmixFullB4_fold0.pbz2': 3.2606087991842183, 'exp16v6sampler_fold0.pbz2': 2.6789298124540464, 'exp21b6_fold0.pbz2': 0.4666075192012963, 'exp21b6_fold0_remove_background.pbz2': 0.8927905626947924}. Best is trial 78 with value: 0.868665392578436.\u001b[0m\n",
      "\u001b[32m[I 2022-04-17 07:50:12,748]\u001b[0m Trial 89 finished with value: 0.8666646759038064 and parameters: {'exp16v4sampler_fold0.pbz2': 0.6637858088948746, 'exp16v6AugMixNew4_fold0.pbz2': 2.724499049967311, 'exp16v6AugMixNew4_fold0_tta.pbz2': 2.5466272867309456, 'exp16v6AugmixB3_fold0.pbz2': 1.462679905488696, 'exp16v6AugmixB4Step2_fold0.pbz2': 1.2769265545349835, 'exp16v6AugmixB4Step2_fold0_remove_background.pbz2': 0.9486313568838481, 'exp16v6AugmixB4_fold0.pbz2': 1.428781380855982, 'exp16v6AugmixB4_fold0_remove_background.pbz2': 0.02200331272088496, 'exp16v6AugmixFullB4_fold0.pbz2': 2.854591587406663, 'exp16v6sampler_fold0.pbz2': 2.656705219082503, 'exp21b6_fold0.pbz2': 0.4079053593661095, 'exp21b6_fold0_remove_background.pbz2': 0.7905948759975625}. Best is trial 78 with value: 0.868665392578436.\u001b[0m\n",
      "\u001b[32m[I 2022-04-17 07:50:14,489]\u001b[0m Trial 90 finished with value: 0.867608297499602 and parameters: {'exp16v4sampler_fold0.pbz2': 0.47355565817571627, 'exp16v6AugMixNew4_fold0.pbz2': 2.40489958660685, 'exp16v6AugMixNew4_fold0_tta.pbz2': 2.26119193518482, 'exp16v6AugmixB3_fold0.pbz2': 0.8172334491196716, 'exp16v6AugmixB4Step2_fold0.pbz2': 1.5819809755966345, 'exp16v6AugmixB4Step2_fold0_remove_background.pbz2': 0.8196133311426812, 'exp16v6AugmixB4_fold0.pbz2': 1.7827461419362742, 'exp16v6AugmixB4_fold0_remove_background.pbz2': 0.506129043650743, 'exp16v6AugmixFullB4_fold0.pbz2': 3.2387458832975047, 'exp16v6sampler_fold0.pbz2': 2.533018097358685, 'exp21b6_fold0.pbz2': 0.2102389835779812, 'exp21b6_fold0_remove_background.pbz2': 0.4654843810960194}. Best is trial 78 with value: 0.868665392578436.\u001b[0m\n",
      "\u001b[32m[I 2022-04-17 07:50:16,245]\u001b[0m Trial 91 finished with value: 0.8674470457079153 and parameters: {'exp16v4sampler_fold0.pbz2': 0.42543450254437454, 'exp16v6AugMixNew4_fold0.pbz2': 2.4480593498219956, 'exp16v6AugMixNew4_fold0_tta.pbz2': 2.323736130649833, 'exp16v6AugmixB3_fold0.pbz2': 0.8234310782202054, 'exp16v6AugmixB4Step2_fold0.pbz2': 1.5414510827598198, 'exp16v6AugmixB4Step2_fold0_remove_background.pbz2': 0.8046632194819966, 'exp16v6AugmixB4_fold0.pbz2': 1.7948435050001583, 'exp16v6AugmixB4_fold0_remove_background.pbz2': 0.5232158039676194, 'exp16v6AugmixFullB4_fold0.pbz2': 3.225081102948594, 'exp16v6sampler_fold0.pbz2': 2.585592553625449, 'exp21b6_fold0.pbz2': 0.21919065227064297, 'exp21b6_fold0_remove_background.pbz2': 0.5216598184538939}. Best is trial 78 with value: 0.868665392578436.\u001b[0m\n",
      "\u001b[32m[I 2022-04-17 07:50:17,993]\u001b[0m Trial 92 finished with value: 0.8675027870680044 and parameters: {'exp16v4sampler_fold0.pbz2': 0.4395008182378932, 'exp16v6AugMixNew4_fold0.pbz2': 2.4249648861758883, 'exp16v6AugMixNew4_fold0_tta.pbz2': 2.2359226177458176, 'exp16v6AugmixB3_fold0.pbz2': 0.8592111855037797, 'exp16v6AugmixB4Step2_fold0.pbz2': 1.6194270902360357, 'exp16v6AugmixB4Step2_fold0_remove_background.pbz2': 0.8149553464077852, 'exp16v6AugmixB4_fold0.pbz2': 1.7927698696277898, 'exp16v6AugmixB4_fold0_remove_background.pbz2': 0.49115832999436143, 'exp16v6AugmixFullB4_fold0.pbz2': 3.2846186384816436, 'exp16v6sampler_fold0.pbz2': 2.5198931464961865, 'exp21b6_fold0.pbz2': 0.2066947516317181, 'exp21b6_fold0_remove_background.pbz2': 0.31012358479450386}. Best is trial 78 with value: 0.868665392578436.\u001b[0m\n",
      "\u001b[32m[I 2022-04-17 07:50:19,734]\u001b[0m Trial 93 finished with value: 0.8670807453416148 and parameters: {'exp16v4sampler_fold0.pbz2': 0.4475758311452415, 'exp16v6AugMixNew4_fold0.pbz2': 2.387119219294229, 'exp16v6AugMixNew4_fold0_tta.pbz2': 2.3126897639200066, 'exp16v6AugmixB3_fold0.pbz2': 0.8267237932307606, 'exp16v6AugmixB4Step2_fold0.pbz2': 1.5567780844055883, 'exp16v6AugmixB4Step2_fold0_remove_background.pbz2': 0.7899167060367218, 'exp16v6AugmixB4_fold0.pbz2': 1.772404972475841, 'exp16v6AugmixB4_fold0_remove_background.pbz2': 0.4879625934739353, 'exp16v6AugmixFullB4_fold0.pbz2': 3.0932202760446112, 'exp16v6sampler_fold0.pbz2': 2.8172972664393607, 'exp21b6_fold0.pbz2': 0.10837077637559045, 'exp21b6_fold0_remove_background.pbz2': 0.47975289784686964}. Best is trial 78 with value: 0.868665392578436.\u001b[0m\n",
      "\u001b[32m[I 2022-04-17 07:50:21,480]\u001b[0m Trial 94 finished with value: 0.8663760152890588 and parameters: {'exp16v4sampler_fold0.pbz2': 0.0053669824180168635, 'exp16v6AugMixNew4_fold0.pbz2': 2.0349980287899596, 'exp16v6AugMixNew4_fold0_tta.pbz2': 2.232818297966923, 'exp16v6AugmixB3_fold0.pbz2': 1.1458275854223703, 'exp16v6AugmixB4Step2_fold0.pbz2': 1.9940347481624952, 'exp16v6AugmixB4Step2_fold0_remove_background.pbz2': 0.6756891875888549, 'exp16v6AugmixB4_fold0.pbz2': 2.0872819696430924, 'exp16v6AugmixB4_fold0_remove_background.pbz2': 0.7293479822974366, 'exp16v6AugmixFullB4_fold0.pbz2': 3.4478565687508214, 'exp16v6sampler_fold0.pbz2': 2.526314034943067, 'exp21b6_fold0.pbz2': 0.40513789472035727, 'exp21b6_fold0_remove_background.pbz2': 0.3945370637840901}. Best is trial 78 with value: 0.868665392578436.\u001b[0m\n",
      "\u001b[32m[I 2022-04-17 07:50:23,222]\u001b[0m Trial 95 finished with value: 0.8677456601369644 and parameters: {'exp16v4sampler_fold0.pbz2': 0.5727849187417867, 'exp16v6AugMixNew4_fold0.pbz2': 2.474224300576939, 'exp16v6AugMixNew4_fold0_tta.pbz2': 2.42792799839501, 'exp16v6AugmixB3_fold0.pbz2': 0.8108965521430669, 'exp16v6AugmixB4Step2_fold0.pbz2': 1.4406533368749512, 'exp16v6AugmixB4Step2_fold0_remove_background.pbz2': 0.48820495576752776, 'exp16v6AugmixB4_fold0.pbz2': 1.7795747717097548, 'exp16v6AugmixB4_fold0_remove_background.pbz2': 0.1750202051482117, 'exp16v6AugmixFullB4_fold0.pbz2': 3.2353408971493187, 'exp16v6sampler_fold0.pbz2': 2.800001580168599, 'exp21b6_fold0.pbz2': 0.20468528216911921, 'exp21b6_fold0_remove_background.pbz2': 0.26932390591817224}. Best is trial 78 with value: 0.868665392578436.\u001b[0m\n",
      "\u001b[32m[I 2022-04-17 07:50:24,965]\u001b[0m Trial 96 finished with value: 0.8686992355470616 and parameters: {'exp16v4sampler_fold0.pbz2': 0.61494519628237, 'exp16v6AugMixNew4_fold0.pbz2': 2.484200926809346, 'exp16v6AugMixNew4_fold0_tta.pbz2': 1.9529214114516693, 'exp16v6AugmixB3_fold0.pbz2': 0.9892277712941935, 'exp16v6AugmixB4Step2_fold0.pbz2': 1.4283565415577935, 'exp16v6AugmixB4Step2_fold0_remove_background.pbz2': 0.5219222057968834, 'exp16v6AugmixB4_fold0.pbz2': 1.2196448205696013, 'exp16v6AugmixB4_fold0_remove_background.pbz2': 0.17708864672522084, 'exp16v6AugmixFullB4_fold0.pbz2': 3.275798843693841, 'exp16v6sampler_fold0.pbz2': 2.800761258154749, 'exp21b6_fold0.pbz2': 0.02241706549918762, 'exp21b6_fold0_remove_background.pbz2': 0.1411332063794502}. Best is trial 96 with value: 0.8686992355470616.\u001b[0m\n",
      "\u001b[32m[I 2022-04-17 07:50:26,776]\u001b[0m Trial 97 finished with value: 0.8684543717152413 and parameters: {'exp16v4sampler_fold0.pbz2': 0.5721152743890016, 'exp16v6AugMixNew4_fold0.pbz2': 2.201430589083805, 'exp16v6AugMixNew4_fold0_tta.pbz2': 1.9099706997655987, 'exp16v6AugmixB3_fold0.pbz2': 0.723395008072796, 'exp16v6AugmixB4Step2_fold0.pbz2': 1.632656030854135, 'exp16v6AugmixB4Step2_fold0_remove_background.pbz2': 0.41849615718698596, 'exp16v6AugmixB4_fold0.pbz2': 1.155848907406385, 'exp16v6AugmixB4_fold0_remove_background.pbz2': 0.19308896950496723, 'exp16v6AugmixFullB4_fold0.pbz2': 2.959987113294845, 'exp16v6sampler_fold0.pbz2': 2.51088418502823, 'exp21b6_fold0.pbz2': 0.005641966211589161, 'exp21b6_fold0_remove_background.pbz2': 0.1741563402555527}. Best is trial 96 with value: 0.8686992355470616.\u001b[0m\n"
     ]
    },
    {
     "name": "stderr",
     "output_type": "stream",
     "text": [
      "\u001b[32m[I 2022-04-17 07:50:28,524]\u001b[0m Trial 98 finished with value: 0.8681736741519349 and parameters: {'exp16v4sampler_fold0.pbz2': 0.5739523450182661, 'exp16v6AugMixNew4_fold0.pbz2': 2.2943638981865915, 'exp16v6AugMixNew4_fold0_tta.pbz2': 1.9398923304642894, 'exp16v6AugmixB3_fold0.pbz2': 0.9473426323226444, 'exp16v6AugmixB4Step2_fold0.pbz2': 1.6798419458145464, 'exp16v6AugmixB4Step2_fold0_remove_background.pbz2': 0.3684783795605598, 'exp16v6AugmixB4_fold0.pbz2': 1.17819143177016, 'exp16v6AugmixB4_fold0_remove_background.pbz2': 0.1378375819202567, 'exp16v6AugmixFullB4_fold0.pbz2': 2.968816745507298, 'exp16v6sampler_fold0.pbz2': 2.4438940003130707, 'exp21b6_fold0.pbz2': 0.04543466176185046, 'exp21b6_fold0_remove_background.pbz2': 0.1484690242095651}. Best is trial 96 with value: 0.8686992355470616.\u001b[0m\n",
      "\u001b[32m[I 2022-04-17 07:50:30,275]\u001b[0m Trial 99 finished with value: 0.8687052078356426 and parameters: {'exp16v4sampler_fold0.pbz2': 0.6179370627587352, 'exp16v6AugMixNew4_fold0.pbz2': 1.8088363603973305, 'exp16v6AugMixNew4_fold0_tta.pbz2': 1.9746087407340729, 'exp16v6AugmixB3_fold0.pbz2': 0.7303297888175504, 'exp16v6AugmixB4Step2_fold0.pbz2': 1.4240435037272479, 'exp16v6AugmixB4Step2_fold0_remove_background.pbz2': 0.4011057377245675, 'exp16v6AugmixB4_fold0.pbz2': 1.217948373415103, 'exp16v6AugmixB4_fold0_remove_background.pbz2': 0.1499619553126223, 'exp16v6AugmixFullB4_fold0.pbz2': 2.965352506331247, 'exp16v6sampler_fold0.pbz2': 2.4215961766401546, 'exp21b6_fold0.pbz2': 0.00334402147308438, 'exp21b6_fold0_remove_background.pbz2': 0.17713084907151408}. Best is trial 99 with value: 0.8687052078356426.\u001b[0m\n",
      "\u001b[32m[I 2022-04-17 07:50:32,026]\u001b[0m Trial 100 finished with value: 0.8684444179009396 and parameters: {'exp16v4sampler_fold0.pbz2': 0.565545769695974, 'exp16v6AugMixNew4_fold0.pbz2': 1.8640957720386844, 'exp16v6AugMixNew4_fold0_tta.pbz2': 1.990832119039579, 'exp16v6AugmixB3_fold0.pbz2': 1.0010742829212966, 'exp16v6AugmixB4Step2_fold0.pbz2': 1.4316248909299025, 'exp16v6AugmixB4Step2_fold0_remove_background.pbz2': 0.43613356068327286, 'exp16v6AugmixB4_fold0.pbz2': 0.9731268392110108, 'exp16v6AugmixB4_fold0_remove_background.pbz2': 0.1637499186569104, 'exp16v6AugmixFullB4_fold0.pbz2': 2.9614399417996458, 'exp16v6sampler_fold0.pbz2': 2.4334010823355037, 'exp21b6_fold0.pbz2': 0.012575609292137496, 'exp21b6_fold0_remove_background.pbz2': 0.009194022834386917}. Best is trial 99 with value: 0.8687052078356426.\u001b[0m\n",
      "\u001b[32m[I 2022-04-17 07:50:33,781]\u001b[0m Trial 101 finished with value: 0.8679089026915113 and parameters: {'exp16v4sampler_fold0.pbz2': 0.6128384526836389, 'exp16v6AugMixNew4_fold0.pbz2': 1.8211427872325532, 'exp16v6AugMixNew4_fold0_tta.pbz2': 1.9235323275062195, 'exp16v6AugmixB3_fold0.pbz2': 0.9946833109004749, 'exp16v6AugmixB4Step2_fold0.pbz2': 1.4158447484658203, 'exp16v6AugmixB4Step2_fold0_remove_background.pbz2': 0.35480734861065355, 'exp16v6AugmixB4_fold0.pbz2': 1.1889950309839539, 'exp16v6AugmixB4_fold0_remove_background.pbz2': 0.004008468024289447, 'exp16v6AugmixFullB4_fold0.pbz2': 2.9756478218273186, 'exp16v6sampler_fold0.pbz2': 2.7178106816408, 'exp21b6_fold0.pbz2': 0.02975608876979402, 'exp21b6_fold0_remove_background.pbz2': 0.007478702648150648}. Best is trial 99 with value: 0.8687052078356426.\u001b[0m\n",
      "\u001b[32m[I 2022-04-17 07:50:35,536]\u001b[0m Trial 102 finished with value: 0.867154403567447 and parameters: {'exp16v4sampler_fold0.pbz2': 0.6218611871753406, 'exp16v6AugMixNew4_fold0.pbz2': 1.752038290067452, 'exp16v6AugMixNew4_fold0_tta.pbz2': 1.9912220958083262, 'exp16v6AugmixB3_fold0.pbz2': 0.9478274998423046, 'exp16v6AugmixB4Step2_fold0.pbz2': 1.4186319265539586, 'exp16v6AugmixB4Step2_fold0_remove_background.pbz2': 0.35855224039596606, 'exp16v6AugmixB4_fold0.pbz2': 1.1928873079561169, 'exp16v6AugmixB4_fold0_remove_background.pbz2': 0.13913767028534077, 'exp16v6AugmixFullB4_fold0.pbz2': 2.566993969278, 'exp16v6sampler_fold0.pbz2': 2.4079170803171768, 'exp21b6_fold0.pbz2': 0.023781130959074283, 'exp21b6_fold0_remove_background.pbz2': 0.1388962365560438}. Best is trial 99 with value: 0.8687052078356426.\u001b[0m\n",
      "\u001b[32m[I 2022-04-17 07:50:37,316]\u001b[0m Trial 103 finished with value: 0.8667721770982639 and parameters: {'exp16v4sampler_fold0.pbz2': 0.9422374385376544, 'exp16v6AugMixNew4_fold0.pbz2': 1.7586135769470448, 'exp16v6AugMixNew4_fold0_tta.pbz2': 1.5939482934227212, 'exp16v6AugmixB3_fold0.pbz2': 1.2213015574898494, 'exp16v6AugmixB4Step2_fold0.pbz2': 1.7177671501448344, 'exp16v6AugmixB4Step2_fold0_remove_background.pbz2': 0.21925338211707207, 'exp16v6AugmixB4_fold0.pbz2': 0.9698809448779578, 'exp16v6AugmixB4_fold0_remove_background.pbz2': 0.1524001412532757, 'exp16v6AugmixFullB4_fold0.pbz2': 2.964292870150292, 'exp16v6sampler_fold0.pbz2': 2.7561473371911154, 'exp21b6_fold0.pbz2': 0.001161551661655047, 'exp21b6_fold0_remove_background.pbz2': 0.010031098980121278}. Best is trial 99 with value: 0.8687052078356426.\u001b[0m\n",
      "\u001b[32m[I 2022-04-17 07:50:39,064]\u001b[0m Trial 104 finished with value: 0.867998487020226 and parameters: {'exp16v4sampler_fold0.pbz2': 0.561033234681834, 'exp16v6AugMixNew4_fold0.pbz2': 2.2692942719308435, 'exp16v6AugMixNew4_fold0_tta.pbz2': 1.917651695685529, 'exp16v6AugmixB3_fold0.pbz2': 1.0258450242125787, 'exp16v6AugmixB4Step2_fold0.pbz2': 1.119535468528943, 'exp16v6AugmixB4Step2_fold0_remove_background.pbz2': 0.4640407148326383, 'exp16v6AugmixB4_fold0.pbz2': 1.2522113462260074, 'exp16v6AugmixB4_fold0_remove_background.pbz2': 0.046945139150879375, 'exp16v6AugmixFullB4_fold0.pbz2': 2.796011646374649, 'exp16v6sampler_fold0.pbz2': 2.8869293680713994, 'exp21b6_fold0.pbz2': 0.31796999855890673, 'exp21b6_fold0_remove_background.pbz2': 0.19620074559504302}. Best is trial 99 with value: 0.8687052078356426.\u001b[0m\n",
      "\u001b[32m[I 2022-04-17 07:50:40,833]\u001b[0m Trial 105 finished with value: 0.8675366300366301 and parameters: {'exp16v4sampler_fold0.pbz2': 0.5894584572802207, 'exp16v6AugMixNew4_fold0.pbz2': 2.2405415357423886, 'exp16v6AugMixNew4_fold0_tta.pbz2': 1.9036641368186638, 'exp16v6AugmixB3_fold0.pbz2': 1.0097933714949439, 'exp16v6AugmixB4Step2_fold0.pbz2': 1.1423751030751408, 'exp16v6AugmixB4Step2_fold0_remove_background.pbz2': 0.5197465332218282, 'exp16v6AugmixB4_fold0.pbz2': 1.230112429843499, 'exp16v6AugmixB4_fold0_remove_background.pbz2': 0.0008143964031441242, 'exp16v6AugmixFullB4_fold0.pbz2': 2.7213633178355257, 'exp16v6sampler_fold0.pbz2': 2.886501129112872, 'exp21b6_fold0.pbz2': 0.30878093709271137, 'exp21b6_fold0_remove_background.pbz2': 0.1999622108867305}. Best is trial 99 with value: 0.8687052078356426.\u001b[0m\n",
      "\u001b[32m[I 2022-04-17 07:50:42,591]\u001b[0m Trial 106 finished with value: 0.8687032170727823 and parameters: {'exp16v4sampler_fold0.pbz2': 0.26039017831425726, 'exp16v6AugMixNew4_fold0.pbz2': 2.064850886152133, 'exp16v6AugMixNew4_fold0_tta.pbz2': 1.671900015491989, 'exp16v6AugmixB3_fold0.pbz2': 0.7203605992900586, 'exp16v6AugmixB4Step2_fold0.pbz2': 1.391115207228404, 'exp16v6AugmixB4Step2_fold0_remove_background.pbz2': 0.4204681109378454, 'exp16v6AugmixB4_fold0.pbz2': 1.059963744243945, 'exp16v6AugmixB4_fold0_remove_background.pbz2': 0.2033885047352481, 'exp16v6AugmixFullB4_fold0.pbz2': 2.7980873706730556, 'exp16v6sampler_fold0.pbz2': 2.1171599170453197, 'exp21b6_fold0.pbz2': 0.08739703223504337, 'exp21b6_fold0_remove_background.pbz2': 0.23184623785123182}. Best is trial 99 with value: 0.8687052078356426.\u001b[0m\n",
      "\u001b[32m[I 2022-04-17 07:50:44,345]\u001b[0m Trial 107 finished with value: 0.8677277432712216 and parameters: {'exp16v4sampler_fold0.pbz2': 0.23622869112759515, 'exp16v6AugMixNew4_fold0.pbz2': 1.9368251394020417, 'exp16v6AugMixNew4_fold0_tta.pbz2': 1.3446870157843471, 'exp16v6AugmixB3_fold0.pbz2': 0.7349273619511407, 'exp16v6AugmixB4Step2_fold0.pbz2': 1.814012332868479, 'exp16v6AugmixB4Step2_fold0_remove_background.pbz2': 0.06793339927747971, 'exp16v6AugmixB4_fold0.pbz2': 1.070662775489518, 'exp16v6AugmixB4_fold0_remove_background.pbz2': 0.05996832735873109, 'exp16v6AugmixFullB4_fold0.pbz2': 2.598409087984274, 'exp16v6sampler_fold0.pbz2': 2.1153248541903213, 'exp21b6_fold0.pbz2': 0.0832976775711061, 'exp21b6_fold0_remove_background.pbz2': 0.010767246181356188}. Best is trial 99 with value: 0.8687052078356426.\u001b[0m\n",
      "\u001b[32m[I 2022-04-17 07:50:46,096]\u001b[0m Trial 108 finished with value: 0.8679686255773212 and parameters: {'exp16v4sampler_fold0.pbz2': 0.36840273136462987, 'exp16v6AugMixNew4_fold0.pbz2': 1.5345238221947513, 'exp16v6AugMixNew4_fold0_tta.pbz2': 1.6930292364576687, 'exp16v6AugmixB3_fold0.pbz2': 1.3017499556480185, 'exp16v6AugmixB4Step2_fold0.pbz2': 1.075122404156377, 'exp16v6AugmixB4Step2_fold0_remove_background.pbz2': 0.3598748316438865, 'exp16v6AugmixB4_fold0.pbz2': 0.7633961392919346, 'exp16v6AugmixB4_fold0_remove_background.pbz2': 0.24344531800350144, 'exp16v6AugmixFullB4_fold0.pbz2': 2.9554635140178025, 'exp16v6sampler_fold0.pbz2': 2.6912093719256465, 'exp21b6_fold0.pbz2': 0.5471355922614469, 'exp21b6_fold0_remove_background.pbz2': 0.15493223753391402}. Best is trial 99 with value: 0.8687052078356426.\u001b[0m\n"
     ]
    },
    {
     "name": "stderr",
     "output_type": "stream",
     "text": [
      "\u001b[32m[I 2022-04-17 07:50:47,866]\u001b[0m Trial 109 finished with value: 0.8675007963051441 and parameters: {'exp16v4sampler_fold0.pbz2': 0.12513400692159848, 'exp16v6AugMixNew4_fold0.pbz2': 1.2716079930783861, 'exp16v6AugMixNew4_fold0_tta.pbz2': 1.7176986959737328, 'exp16v6AugmixB3_fold0.pbz2': 1.3056486714423634, 'exp16v6AugmixB4Step2_fold0.pbz2': 1.1815042541882437, 'exp16v6AugmixB4Step2_fold0_remove_background.pbz2': 0.33001301345279727, 'exp16v6AugmixB4_fold0.pbz2': 0.9640374467235749, 'exp16v6AugmixB4_fold0_remove_background.pbz2': 0.20823708983390352, 'exp16v6AugmixFullB4_fold0.pbz2': 2.7871397629953596, 'exp16v6sampler_fold0.pbz2': 2.7004747279884715, 'exp21b6_fold0.pbz2': 0.5659077990136843, 'exp21b6_fold0_remove_background.pbz2': 0.11663361882916115}. Best is trial 99 with value: 0.8687052078356426.\u001b[0m\n",
      "\u001b[32m[I 2022-04-17 07:50:49,617]\u001b[0m Trial 110 finished with value: 0.8678392259914 and parameters: {'exp16v4sampler_fold0.pbz2': 0.8274638483016743, 'exp16v6AugMixNew4_fold0.pbz2': 1.5254512235774087, 'exp16v6AugMixNew4_fold0_tta.pbz2': 1.5921968001770925, 'exp16v6AugmixB3_fold0.pbz2': 0.9541455269177499, 'exp16v6AugmixB4Step2_fold0.pbz2': 1.3974092700931182, 'exp16v6AugmixB4Step2_fold0_remove_background.pbz2': 0.13393192445382485, 'exp16v6AugmixB4_fold0.pbz2': 0.7497174566180489, 'exp16v6AugmixB4_fold0_remove_background.pbz2': 0.08742170839823867, 'exp16v6AugmixFullB4_fold0.pbz2': 2.888708045449308, 'exp16v6sampler_fold0.pbz2': 2.3750100784932187, 'exp21b6_fold0.pbz2': 0.4629032861240638, 'exp21b6_fold0_remove_background.pbz2': 0.6155298590705802}. Best is trial 99 with value: 0.8687052078356426.\u001b[0m\n",
      "\u001b[32m[I 2022-04-17 07:50:51,362]\u001b[0m Trial 111 finished with value: 0.868701226309922 and parameters: {'exp16v4sampler_fold0.pbz2': 0.339822613676797, 'exp16v6AugMixNew4_fold0.pbz2': 1.4525532904813279, 'exp16v6AugMixNew4_fold0_tta.pbz2': 1.587834858769467, 'exp16v6AugmixB3_fold0.pbz2': 1.0016657114150693, 'exp16v6AugmixB4Step2_fold0.pbz2': 1.0757911120298815, 'exp16v6AugmixB4Step2_fold0_remove_background.pbz2': 0.15014092481940045, 'exp16v6AugmixB4_fold0.pbz2': 1.138056193298103, 'exp16v6AugmixB4_fold0_remove_background.pbz2': 0.08470879221795893, 'exp16v6AugmixFullB4_fold0.pbz2': 2.926461222526173, 'exp16v6sampler_fold0.pbz2': 2.3783721183935773, 'exp21b6_fold0.pbz2': 0.4421407006620546, 'exp21b6_fold0_remove_background.pbz2': 0.6175970821599703}. Best is trial 99 with value: 0.8687052078356426.\u001b[0m\n",
      "\u001b[32m[I 2022-04-17 07:50:53,110]\u001b[0m Trial 112 finished with value: 0.8673694059563624 and parameters: {'exp16v4sampler_fold0.pbz2': 0.3688646144789098, 'exp16v6AugMixNew4_fold0.pbz2': 2.1137134693948743, 'exp16v6AugMixNew4_fold0_tta.pbz2': 1.8788354757054249, 'exp16v6AugmixB3_fold0.pbz2': 1.1446329575052452, 'exp16v6AugmixB4Step2_fold0.pbz2': 1.0739350359753466, 'exp16v6AugmixB4Step2_fold0_remove_background.pbz2': 0.27507110668016144, 'exp16v6AugmixB4_fold0.pbz2': 1.1315582351026534, 'exp16v6AugmixB4_fold0_remove_background.pbz2': 0.19603341557088272, 'exp16v6AugmixFullB4_fold0.pbz2': 2.6480457798841184, 'exp16v6sampler_fold0.pbz2': 2.9994307120127357, 'exp21b6_fold0.pbz2': 0.3119020275625738, 'exp21b6_fold0_remove_background.pbz2': 0.3724615962678936}. Best is trial 99 with value: 0.8687052078356426.\u001b[0m\n",
      "\u001b[32m[I 2022-04-17 07:50:54,853]\u001b[0m Trial 113 finished with value: 0.8675764452938366 and parameters: {'exp16v4sampler_fold0.pbz2': 0.30227010257404, 'exp16v6AugMixNew4_fold0.pbz2': 1.837021693120329, 'exp16v6AugMixNew4_fold0_tta.pbz2': 2.1302511310701937, 'exp16v6AugmixB3_fold0.pbz2': 1.5798819933360935, 'exp16v6AugmixB4Step2_fold0.pbz2': 1.6685033409085752, 'exp16v6AugmixB4Step2_fold0_remove_background.pbz2': 0.4093638310025522, 'exp16v6AugmixB4_fold0.pbz2': 0.9777054095224853, 'exp16v6AugmixB4_fold0_remove_background.pbz2': 0.04277146452810937, 'exp16v6AugmixFullB4_fold0.pbz2': 2.912977745070556, 'exp16v6sampler_fold0.pbz2': 2.3134847848253446, 'exp21b6_fold0.pbz2': 0.09826862165083317, 'exp21b6_fold0_remove_background.pbz2': 0.18299173337161972}. Best is trial 99 with value: 0.8687052078356426.\u001b[0m\n",
      "\u001b[32m[I 2022-04-17 07:50:56,603]\u001b[0m Trial 114 finished with value: 0.8689241917502786 and parameters: {'exp16v4sampler_fold0.pbz2': 0.23388903522994037, 'exp16v6AugMixNew4_fold0.pbz2': 1.607319380992983, 'exp16v6AugMixNew4_fold0_tta.pbz2': 1.9965419913633276, 'exp16v6AugmixB3_fold0.pbz2': 0.7061770517886008, 'exp16v6AugmixB4Step2_fold0.pbz2': 1.0605797242425306, 'exp16v6AugmixB4Step2_fold0_remove_background.pbz2': 0.6003547705309942, 'exp16v6AugmixB4_fold0.pbz2': 1.2534654247793389, 'exp16v6AugmixB4_fold0_remove_background.pbz2': 0.0038127732606338394, 'exp16v6AugmixFullB4_fold0.pbz2': 3.0192003824430844, 'exp16v6sampler_fold0.pbz2': 2.617031492916551, 'exp21b6_fold0.pbz2': 0.36092390230588867, 'exp21b6_fold0_remove_background.pbz2': 0.28136833449248555}. Best is trial 114 with value: 0.8689241917502786.\u001b[0m\n",
      "\u001b[32m[I 2022-04-17 07:50:58,363]\u001b[0m Trial 115 finished with value: 0.8666308329351807 and parameters: {'exp16v4sampler_fold0.pbz2': 0.2366698270338331, 'exp16v6AugMixNew4_fold0.pbz2': 1.3609073399059541, 'exp16v6AugMixNew4_fold0_tta.pbz2': 1.7787138815535966, 'exp16v6AugmixB3_fold0.pbz2': 0.6625995103277857, 'exp16v6AugmixB4Step2_fold0.pbz2': 1.2310353106714198, 'exp16v6AugmixB4Step2_fold0_remove_background.pbz2': 0.6178809503145435, 'exp16v6AugmixB4_fold0.pbz2': 1.4418244327543017, 'exp16v6AugmixB4_fold0_remove_background.pbz2': 0.2509282554953738, 'exp16v6AugmixFullB4_fold0.pbz2': 2.4544598798182, 'exp16v6sampler_fold0.pbz2': 2.065896412957807, 'exp21b6_fold0.pbz2': 0.39092212290214956, 'exp21b6_fold0_remove_background.pbz2': 0.2642068055527914}. Best is trial 114 with value: 0.8689241917502786.\u001b[0m\n",
      "\u001b[32m[I 2022-04-17 07:51:00,112]\u001b[0m Trial 116 finished with value: 0.8695930880713488 and parameters: {'exp16v4sampler_fold0.pbz2': 0.06140902172895549, 'exp16v6AugMixNew4_fold0.pbz2': 1.6473862682052176, 'exp16v6AugMixNew4_fold0_tta.pbz2': 1.6444616019909288, 'exp16v6AugmixB3_fold0.pbz2': 0.7337664473708727, 'exp16v6AugmixB4Step2_fold0.pbz2': 1.0628053038393839, 'exp16v6AugmixB4Step2_fold0_remove_background.pbz2': 0.4380912008467968, 'exp16v6AugmixB4_fold0.pbz2': 0.878047041493482, 'exp16v6AugmixB4_fold0_remove_background.pbz2': 0.1263772748604438, 'exp16v6AugmixFullB4_fold0.pbz2': 3.0224939721222603, 'exp16v6sampler_fold0.pbz2': 1.945205086589569, 'exp21b6_fold0.pbz2': 0.5231479240933179, 'exp21b6_fold0_remove_background.pbz2': 0.3552693828511062}. Best is trial 116 with value: 0.8695930880713488.\u001b[0m\n",
      "\u001b[32m[I 2022-04-17 07:51:01,866]\u001b[0m Trial 117 finished with value: 0.869017757604714 and parameters: {'exp16v4sampler_fold0.pbz2': 0.0754642187920562, 'exp16v6AugMixNew4_fold0.pbz2': 1.6354972818479563, 'exp16v6AugMixNew4_fold0_tta.pbz2': 2.000164029356061, 'exp16v6AugmixB3_fold0.pbz2': 0.6896614937586498, 'exp16v6AugmixB4Step2_fold0.pbz2': 0.9050090498961616, 'exp16v6AugmixB4Step2_fold0_remove_background.pbz2': 0.4689473226235699, 'exp16v6AugmixB4_fold0.pbz2': 1.5133815181197132, 'exp16v6AugmixB4_fold0_remove_background.pbz2': 0.11848861790450646, 'exp16v6AugmixFullB4_fold0.pbz2': 2.8431875660156236, 'exp16v6sampler_fold0.pbz2': 1.9755434212888585, 'exp21b6_fold0.pbz2': 0.32182799578813587, 'exp21b6_fold0_remove_background.pbz2': 0.6623420819989259}. Best is trial 116 with value: 0.8695930880713488.\u001b[0m\n",
      "\u001b[32m[I 2022-04-17 07:51:03,616]\u001b[0m Trial 118 finished with value: 0.8676063067367414 and parameters: {'exp16v4sampler_fold0.pbz2': 0.08253649350498289, 'exp16v6AugMixNew4_fold0.pbz2': 1.62366701886314, 'exp16v6AugMixNew4_fold0_tta.pbz2': 2.0469044786147954, 'exp16v6AugmixB3_fold0.pbz2': 2.1161011386272746, 'exp16v6AugmixB4Step2_fold0.pbz2': 0.841878327983391, 'exp16v6AugmixB4Step2_fold0_remove_background.pbz2': 0.000619835289534354, 'exp16v6AugmixB4_fold0.pbz2': 1.5275389410421853, 'exp16v6AugmixB4_fold0_remove_background.pbz2': 0.13643815537759874, 'exp16v6AugmixFullB4_fold0.pbz2': 3.0526246906322134, 'exp16v6sampler_fold0.pbz2': 2.1974382985033407, 'exp21b6_fold0.pbz2': 0.6506332385121587, 'exp21b6_fold0_remove_background.pbz2': 0.6960046278333949}. Best is trial 116 with value: 0.8695930880713488.\u001b[0m\n",
      "\u001b[32m[I 2022-04-17 07:51:05,368]\u001b[0m Trial 119 finished with value: 0.8676978818283166 and parameters: {'exp16v4sampler_fold0.pbz2': 0.11916373282745871, 'exp16v6AugMixNew4_fold0.pbz2': 1.2068444464904404, 'exp16v6AugMixNew4_fold0_tta.pbz2': 1.0338810412925008, 'exp16v6AugmixB3_fold0.pbz2': 0.7225504009643667, 'exp16v6AugmixB4Step2_fold0.pbz2': 1.4864157659132247, 'exp16v6AugmixB4Step2_fold0_remove_background.pbz2': 0.1691402923986851, 'exp16v6AugmixB4_fold0.pbz2': 0.885998457573679, 'exp16v6AugmixB4_fold0_remove_background.pbz2': 0.38410735254671186, 'exp16v6AugmixFullB4_fold0.pbz2': 3.0328299858595558, 'exp16v6sampler_fold0.pbz2': 2.461246548038899, 'exp21b6_fold0.pbz2': 0.4840485789572355, 'exp21b6_fold0_remove_background.pbz2': 0.5815614331222473}. Best is trial 116 with value: 0.8695930880713488.\u001b[0m\n"
     ]
    },
    {
     "name": "stderr",
     "output_type": "stream",
     "text": [
      "\u001b[32m[I 2022-04-17 07:51:07,118]\u001b[0m Trial 120 finished with value: 0.869284519827998 and parameters: {'exp16v4sampler_fold0.pbz2': 0.1943952809615413, 'exp16v6AugMixNew4_fold0.pbz2': 1.9265684703931063, 'exp16v6AugMixNew4_fold0_tta.pbz2': 1.4257639554308574, 'exp16v6AugmixB3_fold0.pbz2': 0.5817991967238851, 'exp16v6AugmixB4Step2_fold0.pbz2': 0.9115408814179735, 'exp16v6AugmixB4Step2_fold0_remove_background.pbz2': 0.539246147527268, 'exp16v6AugmixB4_fold0.pbz2': 1.1362751734442322, 'exp16v6AugmixB4_fold0_remove_background.pbz2': 0.1480451528683219, 'exp16v6AugmixFullB4_fold0.pbz2': 2.8423827643959347, 'exp16v6sampler_fold0.pbz2': 1.962211256974499, 'exp21b6_fold0.pbz2': 0.40630445973481055, 'exp21b6_fold0_remove_background.pbz2': 0.7096104646730395}. Best is trial 116 with value: 0.8695930880713488.\u001b[0m\n",
      "\u001b[32m[I 2022-04-17 07:51:08,914]\u001b[0m Trial 121 finished with value: 0.8659898072941551 and parameters: {'exp16v4sampler_fold0.pbz2': 0.19296404738835132, 'exp16v6AugMixNew4_fold0.pbz2': 1.924014851953262, 'exp16v6AugMixNew4_fold0_tta.pbz2': 1.4407953097403783, 'exp16v6AugmixB3_fold0.pbz2': 0.5471530108525701, 'exp16v6AugmixB4Step2_fold0.pbz2': 1.0194012547250977, 'exp16v6AugmixB4Step2_fold0_remove_background.pbz2': 0.5313150667362259, 'exp16v6AugmixB4_fold0.pbz2': 1.122444605320978, 'exp16v6AugmixB4_fold0_remove_background.pbz2': 2.9616644263073284, 'exp16v6AugmixFullB4_fold0.pbz2': 2.8327560843063777, 'exp16v6sampler_fold0.pbz2': 1.9805415970608824, 'exp21b6_fold0.pbz2': 0.08833110278916226, 'exp21b6_fold0_remove_background.pbz2': 0.8606105657287034}. Best is trial 116 with value: 0.8695930880713488.\u001b[0m\n",
      "\u001b[32m[I 2022-04-17 07:51:10,667]\u001b[0m Trial 122 finished with value: 0.8693940117853162 and parameters: {'exp16v4sampler_fold0.pbz2': 0.2894084208231829, 'exp16v6AugMixNew4_fold0.pbz2': 2.061183621694597, 'exp16v6AugMixNew4_fold0_tta.pbz2': 1.5817164062455105, 'exp16v6AugmixB3_fold0.pbz2': 0.5672101120082285, 'exp16v6AugmixB4Step2_fold0.pbz2': 0.9215380752068945, 'exp16v6AugmixB4Step2_fold0_remove_background.pbz2': 0.2824084607608886, 'exp16v6AugmixB4_fold0.pbz2': 1.0344301442057522, 'exp16v6AugmixB4_fold0_remove_background.pbz2': 0.13792491145492272, 'exp16v6AugmixFullB4_fold0.pbz2': 2.7503453261662885, 'exp16v6sampler_fold0.pbz2': 1.7828806800607588, 'exp21b6_fold0.pbz2': 0.42793413408876224, 'exp21b6_fold0_remove_background.pbz2': 0.35785884539836665}. Best is trial 116 with value: 0.8695930880713488.\u001b[0m\n",
      "\u001b[32m[I 2022-04-17 07:51:12,427]\u001b[0m Trial 123 finished with value: 0.8681358496575888 and parameters: {'exp16v4sampler_fold0.pbz2': 0.042364501396227244, 'exp16v6AugMixNew4_fold0.pbz2': 2.0821942439985963, 'exp16v6AugMixNew4_fold0_tta.pbz2': 1.5900086956244253, 'exp16v6AugmixB3_fold0.pbz2': 0.5683194709658405, 'exp16v6AugmixB4Step2_fold0.pbz2': 0.8586247920135125, 'exp16v6AugmixB4Step2_fold0_remove_background.pbz2': 0.6737489965112953, 'exp16v6AugmixB4_fold0.pbz2': 1.633381433474279, 'exp16v6AugmixB4_fold0_remove_background.pbz2': 0.2099974008172827, 'exp16v6AugmixFullB4_fold0.pbz2': 2.5223175942507634, 'exp16v6sampler_fold0.pbz2': 1.6707429842531245, 'exp21b6_fold0.pbz2': 0.3978540469911656, 'exp21b6_fold0_remove_background.pbz2': 0.7302911279182078}. Best is trial 116 with value: 0.8695930880713488.\u001b[0m\n",
      "\u001b[32m[I 2022-04-17 07:51:14,184]\u001b[0m Trial 124 finished with value: 0.8690914158305463 and parameters: {'exp16v4sampler_fold0.pbz2': 0.3026502841403718, 'exp16v6AugMixNew4_fold0.pbz2': 1.6315185146367372, 'exp16v6AugMixNew4_fold0_tta.pbz2': 1.3485223687087986, 'exp16v6AugmixB3_fold0.pbz2': 0.6028500454091872, 'exp16v6AugmixB4Step2_fold0.pbz2': 0.9601106503038501, 'exp16v6AugmixB4Step2_fold0_remove_background.pbz2': 0.282606512989084, 'exp16v6AugmixB4_fold0.pbz2': 1.3752294241970688, 'exp16v6AugmixB4_fold0_remove_background.pbz2': 0.41936623430106246, 'exp16v6AugmixFullB4_fold0.pbz2': 2.683153451923605, 'exp16v6sampler_fold0.pbz2': 1.5670954722849593, 'exp21b6_fold0.pbz2': 0.4728484143541628, 'exp21b6_fold0_remove_background.pbz2': 0.3678481995543255}. Best is trial 116 with value: 0.8695930880713488.\u001b[0m\n",
      "\u001b[32m[I 2022-04-17 07:51:15,945]\u001b[0m Trial 125 finished with value: 0.8689460901417423 and parameters: {'exp16v4sampler_fold0.pbz2': 0.2882265960431205, 'exp16v6AugMixNew4_fold0.pbz2': 1.6321692094318667, 'exp16v6AugMixNew4_fold0_tta.pbz2': 1.1472698286044194, 'exp16v6AugmixB3_fold0.pbz2': 0.703259892035152, 'exp16v6AugmixB4Step2_fold0.pbz2': 0.9518397982998603, 'exp16v6AugmixB4Step2_fold0_remove_background.pbz2': 0.24776877275028408, 'exp16v6AugmixB4_fold0.pbz2': 1.0340960975270204, 'exp16v6AugmixB4_fold0_remove_background.pbz2': 0.09398682458450527, 'exp16v6AugmixFullB4_fold0.pbz2': 2.635854978661603, 'exp16v6sampler_fold0.pbz2': 1.9309297859332435, 'exp21b6_fold0.pbz2': 0.3152569589220213, 'exp21b6_fold0_remove_background.pbz2': 0.3353594728515771}. Best is trial 116 with value: 0.8695930880713488.\u001b[0m\n",
      "\u001b[32m[I 2022-04-17 07:51:17,700]\u001b[0m Trial 126 finished with value: 0.8696329033285554 and parameters: {'exp16v4sampler_fold0.pbz2': 0.28556169460306235, 'exp16v6AugMixNew4_fold0.pbz2': 1.645247843005076, 'exp16v6AugMixNew4_fold0_tta.pbz2': 1.1931791772160771, 'exp16v6AugmixB3_fold0.pbz2': 0.4812496854900767, 'exp16v6AugmixB4Step2_fold0.pbz2': 0.9401205828964969, 'exp16v6AugmixB4Step2_fold0_remove_background.pbz2': 0.23686113022569633, 'exp16v6AugmixB4_fold0.pbz2': 1.039150983788039, 'exp16v6AugmixB4_fold0_remove_background.pbz2': 0.09121314564025863, 'exp16v6AugmixFullB4_fold0.pbz2': 2.669706680226212, 'exp16v6sampler_fold0.pbz2': 1.7535317434797273, 'exp21b6_fold0.pbz2': 0.28423432835577805, 'exp21b6_fold0_remove_background.pbz2': 0.354590386821401}. Best is trial 126 with value: 0.8696329033285554.\u001b[0m\n",
      "\u001b[32m[I 2022-04-17 07:51:19,483]\u001b[0m Trial 127 finished with value: 0.8699036470775601 and parameters: {'exp16v4sampler_fold0.pbz2': 0.28112085456256786, 'exp16v6AugMixNew4_fold0.pbz2': 1.5963039227402882, 'exp16v6AugMixNew4_fold0_tta.pbz2': 1.2342106676895321, 'exp16v6AugmixB3_fold0.pbz2': 0.6075040332740659, 'exp16v6AugmixB4Step2_fold0.pbz2': 0.9300780035141594, 'exp16v6AugmixB4Step2_fold0_remove_background.pbz2': 0.27151893276389655, 'exp16v6AugmixB4_fold0.pbz2': 0.5879582812124439, 'exp16v6AugmixB4_fold0_remove_background.pbz2': 0.07243778211538765, 'exp16v6AugmixFullB4_fold0.pbz2': 2.7300532240815927, 'exp16v6sampler_fold0.pbz2': 1.4790283053087812, 'exp21b6_fold0.pbz2': 0.30028913364884824, 'exp21b6_fold0_remove_background.pbz2': 0.33904640618305915}. Best is trial 127 with value: 0.8699036470775601.\u001b[0m\n",
      "\u001b[32m[I 2022-04-17 07:51:21,231]\u001b[0m Trial 128 finished with value: 0.8704869405956362 and parameters: {'exp16v4sampler_fold0.pbz2': 0.2647038121502998, 'exp16v6AugMixNew4_fold0.pbz2': 1.6423730488266253, 'exp16v6AugMixNew4_fold0_tta.pbz2': 1.2260255419032973, 'exp16v6AugmixB3_fold0.pbz2': 0.49178838283538284, 'exp16v6AugmixB4Step2_fold0.pbz2': 0.9368366983527606, 'exp16v6AugmixB4Step2_fold0_remove_background.pbz2': 0.2535682755309834, 'exp16v6AugmixB4_fold0.pbz2': 0.5541311614632063, 'exp16v6AugmixB4_fold0_remove_background.pbz2': 0.09236177404871573, 'exp16v6AugmixFullB4_fold0.pbz2': 2.6911880507772077, 'exp16v6sampler_fold0.pbz2': 1.507125481911181, 'exp21b6_fold0.pbz2': 0.6089416346992212, 'exp21b6_fold0_remove_background.pbz2': 0.3478358247606509}. Best is trial 128 with value: 0.8704869405956362.\u001b[0m\n",
      "\u001b[32m[I 2022-04-17 07:51:22,984]\u001b[0m Trial 129 finished with value: 0.8705426819557254 and parameters: {'exp16v4sampler_fold0.pbz2': 0.2712146815617704, 'exp16v6AugMixNew4_fold0.pbz2': 1.6364444772363216, 'exp16v6AugMixNew4_fold0_tta.pbz2': 1.203921106907997, 'exp16v6AugmixB3_fold0.pbz2': 0.43388203712278056, 'exp16v6AugmixB4Step2_fold0.pbz2': 0.9237962470476683, 'exp16v6AugmixB4Step2_fold0_remove_background.pbz2': 0.25939678581803943, 'exp16v6AugmixB4_fold0.pbz2': 0.6318756869551432, 'exp16v6AugmixB4_fold0_remove_background.pbz2': 0.0693388364816985, 'exp16v6AugmixFullB4_fold0.pbz2': 2.6710786326457177, 'exp16v6sampler_fold0.pbz2': 1.4882100322692955, 'exp21b6_fold0.pbz2': 0.6085307918646385, 'exp21b6_fold0_remove_background.pbz2': 0.34625425155065925}. Best is trial 129 with value: 0.8705426819557254.\u001b[0m\n",
      "\u001b[32m[I 2022-04-17 07:51:24,741]\u001b[0m Trial 130 finished with value: 0.8707118967988534 and parameters: {'exp16v4sampler_fold0.pbz2': 0.16718634658220757, 'exp16v6AugMixNew4_fold0.pbz2': 1.6327089773281156, 'exp16v6AugMixNew4_fold0_tta.pbz2': 1.189954276746918, 'exp16v6AugmixB3_fold0.pbz2': 0.48931429016773953, 'exp16v6AugmixB4Step2_fold0.pbz2': 0.9483583854425226, 'exp16v6AugmixB4Step2_fold0_remove_background.pbz2': 0.07899635121859339, 'exp16v6AugmixB4_fold0.pbz2': 0.6098100234842007, 'exp16v6AugmixB4_fold0_remove_background.pbz2': 0.08486919462777018, 'exp16v6AugmixFullB4_fold0.pbz2': 2.667395342618769, 'exp16v6sampler_fold0.pbz2': 1.5689875091440222, 'exp21b6_fold0.pbz2': 0.6404113894412906, 'exp21b6_fold0_remove_background.pbz2': 0.3398791944295166}. Best is trial 130 with value: 0.8707118967988534.\u001b[0m\n"
     ]
    },
    {
     "name": "stderr",
     "output_type": "stream",
     "text": [
      "\u001b[32m[I 2022-04-17 07:51:26,502]\u001b[0m Trial 131 finished with value: 0.8703913839783405 and parameters: {'exp16v4sampler_fold0.pbz2': 0.1544911004005768, 'exp16v6AugMixNew4_fold0.pbz2': 1.6196458041019455, 'exp16v6AugMixNew4_fold0_tta.pbz2': 1.1936182757492464, 'exp16v6AugmixB3_fold0.pbz2': 0.46933814828871373, 'exp16v6AugmixB4Step2_fold0.pbz2': 0.9215217613728317, 'exp16v6AugmixB4Step2_fold0_remove_background.pbz2': 0.2320673984515742, 'exp16v6AugmixB4_fold0.pbz2': 0.5662807476230503, 'exp16v6AugmixB4_fold0_remove_background.pbz2': 0.016837352624701304, 'exp16v6AugmixFullB4_fold0.pbz2': 2.6570212025750806, 'exp16v6sampler_fold0.pbz2': 1.4982217751755553, 'exp21b6_fold0.pbz2': 0.6333119201653875, 'exp21b6_fold0_remove_background.pbz2': 0.34085194342705827}. Best is trial 130 with value: 0.8707118967988534.\u001b[0m\n",
      "\u001b[32m[I 2022-04-17 07:51:28,269]\u001b[0m Trial 132 finished with value: 0.8705048574613792 and parameters: {'exp16v4sampler_fold0.pbz2': 0.16263298213793204, 'exp16v6AugMixNew4_fold0.pbz2': 1.6392920875534314, 'exp16v6AugMixNew4_fold0_tta.pbz2': 1.163805563312095, 'exp16v6AugmixB3_fold0.pbz2': 0.46986486717508674, 'exp16v6AugmixB4Step2_fold0.pbz2': 0.9236266064936465, 'exp16v6AugmixB4Step2_fold0_remove_background.pbz2': 0.2688810539792091, 'exp16v6AugmixB4_fold0.pbz2': 0.5776880637253565, 'exp16v6AugmixB4_fold0_remove_background.pbz2': 0.0007121532374877448, 'exp16v6AugmixFullB4_fold0.pbz2': 2.6708897348958716, 'exp16v6sampler_fold0.pbz2': 1.4831424696895132, 'exp21b6_fold0.pbz2': 0.6087551154833223, 'exp21b6_fold0_remove_background.pbz2': 0.384572493539355}. Best is trial 130 with value: 0.8707118967988534.\u001b[0m\n",
      "\u001b[32m[I 2022-04-17 07:51:30,058]\u001b[0m Trial 133 finished with value: 0.8701803631151457 and parameters: {'exp16v4sampler_fold0.pbz2': 0.16056713362413694, 'exp16v6AugMixNew4_fold0.pbz2': 1.6207373976034354, 'exp16v6AugMixNew4_fold0_tta.pbz2': 1.211722635952703, 'exp16v6AugmixB3_fold0.pbz2': 0.46700371770643556, 'exp16v6AugmixB4Step2_fold0.pbz2': 0.9481117339515458, 'exp16v6AugmixB4Step2_fold0_remove_background.pbz2': 0.2543672637433038, 'exp16v6AugmixB4_fold0.pbz2': 0.559154911449355, 'exp16v6AugmixB4_fold0_remove_background.pbz2': 0.0040980449147116765, 'exp16v6AugmixFullB4_fold0.pbz2': 2.3979434392039316, 'exp16v6sampler_fold0.pbz2': 1.468201562602492, 'exp21b6_fold0.pbz2': 0.6493455531338159, 'exp21b6_fold0_remove_background.pbz2': 0.406662290872628}. Best is trial 130 with value: 0.8707118967988534.\u001b[0m\n",
      "\u001b[32m[I 2022-04-17 07:51:31,813]\u001b[0m Trial 134 finished with value: 0.8700031852205764 and parameters: {'exp16v4sampler_fold0.pbz2': 0.1516421998439797, 'exp16v6AugMixNew4_fold0.pbz2': 1.6692983158606816, 'exp16v6AugMixNew4_fold0_tta.pbz2': 1.1887292402992657, 'exp16v6AugmixB3_fold0.pbz2': 0.48754703983794556, 'exp16v6AugmixB4Step2_fold0.pbz2': 0.939603746573179, 'exp16v6AugmixB4Step2_fold0_remove_background.pbz2': 0.2763629053776787, 'exp16v6AugmixB4_fold0.pbz2': 0.51301720402173, 'exp16v6AugmixB4_fold0_remove_background.pbz2': 0.07979859440264078, 'exp16v6AugmixFullB4_fold0.pbz2': 2.3729256386810635, 'exp16v6sampler_fold0.pbz2': 1.4907846471947768, 'exp21b6_fold0.pbz2': 0.6638265989644636, 'exp21b6_fold0_remove_background.pbz2': 0.36353779015272286}. Best is trial 130 with value: 0.8707118967988534.\u001b[0m\n",
      "\u001b[32m[I 2022-04-17 07:51:33,577]\u001b[0m Trial 135 finished with value: 0.869501512979774 and parameters: {'exp16v4sampler_fold0.pbz2': 0.15168152389917916, 'exp16v6AugMixNew4_fold0.pbz2': 1.6855841576726325, 'exp16v6AugMixNew4_fold0_tta.pbz2': 0.8427029187910664, 'exp16v6AugmixB3_fold0.pbz2': 0.4421579759316393, 'exp16v6AugmixB4Step2_fold0.pbz2': 0.9009959661952995, 'exp16v6AugmixB4Step2_fold0_remove_background.pbz2': 0.08791699217702356, 'exp16v6AugmixB4_fold0.pbz2': 0.5585859989721782, 'exp16v6AugmixB4_fold0_remove_background.pbz2': 0.006636984489720943, 'exp16v6AugmixFullB4_fold0.pbz2': 2.1624883999077125, 'exp16v6sampler_fold0.pbz2': 1.4981975411070063, 'exp21b6_fold0.pbz2': 0.8656845526096251, 'exp21b6_fold0_remove_background.pbz2': 0.40303949165409697}. Best is trial 130 with value: 0.8707118967988534.\u001b[0m\n",
      "\u001b[32m[I 2022-04-17 07:51:35,356]\u001b[0m Trial 136 finished with value: 0.8702460582895366 and parameters: {'exp16v4sampler_fold0.pbz2': 0.1501071587182308, 'exp16v6AugMixNew4_fold0.pbz2': 1.7224175261733188, 'exp16v6AugMixNew4_fold0_tta.pbz2': 0.786546899050252, 'exp16v6AugmixB3_fold0.pbz2': 0.4525039344976495, 'exp16v6AugmixB4Step2_fold0.pbz2': 0.7646698266738693, 'exp16v6AugmixB4Step2_fold0_remove_background.pbz2': 0.1033110002632611, 'exp16v6AugmixB4_fold0.pbz2': 0.5713252818585869, 'exp16v6AugmixB4_fold0_remove_background.pbz2': 0.00862582348103548, 'exp16v6AugmixFullB4_fold0.pbz2': 2.1626293103918446, 'exp16v6sampler_fold0.pbz2': 1.4999677064876509, 'exp21b6_fold0.pbz2': 0.6558068743736204, 'exp21b6_fold0_remove_background.pbz2': 0.5302221512394687}. Best is trial 130 with value: 0.8707118967988534.\u001b[0m\n",
      "\u001b[32m[I 2022-04-17 07:51:37,117]\u001b[0m Trial 137 finished with value: 0.869338270425227 and parameters: {'exp16v4sampler_fold0.pbz2': 0.15844560926265364, 'exp16v6AugMixNew4_fold0.pbz2': 1.397124836710916, 'exp16v6AugMixNew4_fold0_tta.pbz2': 0.802803007712509, 'exp16v6AugmixB3_fold0.pbz2': 0.4703469863396008, 'exp16v6AugmixB4Step2_fold0.pbz2': 0.7627126889012696, 'exp16v6AugmixB4Step2_fold0_remove_background.pbz2': 0.06749891627541904, 'exp16v6AugmixB4_fold0.pbz2': 0.5905251541388739, 'exp16v6AugmixB4_fold0_remove_background.pbz2': 0.02087459699065572, 'exp16v6AugmixFullB4_fold0.pbz2': 2.005332513640622, 'exp16v6sampler_fold0.pbz2': 1.4869134187270285, 'exp21b6_fold0.pbz2': 0.8724283573953782, 'exp21b6_fold0_remove_background.pbz2': 0.5065925317545249}. Best is trial 130 with value: 0.8707118967988534.\u001b[0m\n",
      "\u001b[32m[I 2022-04-17 07:51:38,872]\u001b[0m Trial 138 finished with value: 0.869829988851728 and parameters: {'exp16v4sampler_fold0.pbz2': 0.1373468973174426, 'exp16v6AugMixNew4_fold0.pbz2': 1.3610004937989122, 'exp16v6AugMixNew4_fold0_tta.pbz2': 0.7995778038161006, 'exp16v6AugmixB3_fold0.pbz2': 0.43813909955073493, 'exp16v6AugmixB4Step2_fold0.pbz2': 0.7671917555416163, 'exp16v6AugmixB4Step2_fold0_remove_background.pbz2': 0.07729074468859781, 'exp16v6AugmixB4_fold0.pbz2': 0.5816435916140482, 'exp16v6AugmixB4_fold0_remove_background.pbz2': 0.006556789406774677, 'exp16v6AugmixFullB4_fold0.pbz2': 2.0321183044215374, 'exp16v6sampler_fold0.pbz2': 1.1726878019727405, 'exp21b6_fold0.pbz2': 0.8753101469384668, 'exp21b6_fold0_remove_background.pbz2': 0.5307420753845633}. Best is trial 130 with value: 0.8707118967988534.\u001b[0m\n",
      "\u001b[32m[I 2022-04-17 07:51:40,629]\u001b[0m Trial 139 finished with value: 0.8700907787864309 and parameters: {'exp16v4sampler_fold0.pbz2': 0.005769595528021476, 'exp16v6AugMixNew4_fold0.pbz2': 1.5248987170639565, 'exp16v6AugMixNew4_fold0_tta.pbz2': 0.4302439824498928, 'exp16v6AugmixB3_fold0.pbz2': 0.42117355141785656, 'exp16v6AugmixB4Step2_fold0.pbz2': 0.7768196876331067, 'exp16v6AugmixB4Step2_fold0_remove_background.pbz2': 0.13915941572121215, 'exp16v6AugmixB4_fold0.pbz2': 0.46467619528469883, 'exp16v6AugmixB4_fold0_remove_background.pbz2': 0.0611226841245415, 'exp16v6AugmixFullB4_fold0.pbz2': 2.1286321559410726, 'exp16v6sampler_fold0.pbz2': 1.2122735852040094, 'exp21b6_fold0.pbz2': 0.6691158250091171, 'exp21b6_fold0_remove_background.pbz2': 0.4536423697693209}. Best is trial 130 with value: 0.8707118967988534.\u001b[0m\n",
      "\u001b[32m[I 2022-04-17 07:51:42,394]\u001b[0m Trial 140 finished with value: 0.8706402293358815 and parameters: {'exp16v4sampler_fold0.pbz2': 0.003550647269480789, 'exp16v6AugMixNew4_fold0.pbz2': 1.5237765751742922, 'exp16v6AugMixNew4_fold0_tta.pbz2': 0.895459462353369, 'exp16v6AugmixB3_fold0.pbz2': 0.40505808801189674, 'exp16v6AugmixB4Step2_fold0.pbz2': 0.7686583495728609, 'exp16v6AugmixB4Step2_fold0_remove_background.pbz2': 0.10180162199440038, 'exp16v6AugmixB4_fold0.pbz2': 0.3999237737658543, 'exp16v6AugmixB4_fold0_remove_background.pbz2': 0.00662631208434647, 'exp16v6AugmixFullB4_fold0.pbz2': 2.1305289360544992, 'exp16v6sampler_fold0.pbz2': 1.1832888241818185, 'exp21b6_fold0.pbz2': 0.6861971049628732, 'exp21b6_fold0_remove_background.pbz2': 0.4597518106678842}. Best is trial 130 with value: 0.8707118967988534.\u001b[0m\n"
     ]
    },
    {
     "name": "stderr",
     "output_type": "stream",
     "text": [
      "\u001b[32m[I 2022-04-17 07:51:44,163]\u001b[0m Trial 141 finished with value: 0.8707517120560598 and parameters: {'exp16v4sampler_fold0.pbz2': 0.031918441228517905, 'exp16v6AugMixNew4_fold0.pbz2': 1.5259076650315049, 'exp16v6AugMixNew4_fold0_tta.pbz2': 0.5251492639840339, 'exp16v6AugmixB3_fold0.pbz2': 0.2820520920993817, 'exp16v6AugmixB4Step2_fold0.pbz2': 0.7888521344376733, 'exp16v6AugmixB4Step2_fold0_remove_background.pbz2': 0.0931967349004231, 'exp16v6AugmixB4_fold0.pbz2': 0.4310950227168099, 'exp16v6AugmixB4_fold0_remove_background.pbz2': 0.0009187437168701323, 'exp16v6AugmixFullB4_fold0.pbz2': 2.0687944910416314, 'exp16v6sampler_fold0.pbz2': 1.220202596379448, 'exp21b6_fold0.pbz2': 0.6542294882308916, 'exp21b6_fold0_remove_background.pbz2': 0.46033507791354583}. Best is trial 141 with value: 0.8707517120560598.\u001b[0m\n",
      "\u001b[32m[I 2022-04-17 07:51:45,927]\u001b[0m Trial 142 finished with value: 0.8698498964803313 and parameters: {'exp16v4sampler_fold0.pbz2': 0.05177914164214539, 'exp16v6AugMixNew4_fold0.pbz2': 1.5278002371214887, 'exp16v6AugMixNew4_fold0_tta.pbz2': 0.43932616344433423, 'exp16v6AugmixB3_fold0.pbz2': 0.30942764848725207, 'exp16v6AugmixB4Step2_fold0.pbz2': 0.7680003943392745, 'exp16v6AugmixB4Step2_fold0_remove_background.pbz2': 0.179245807361531, 'exp16v6AugmixB4_fold0.pbz2': 0.3805805588210496, 'exp16v6AugmixB4_fold0_remove_background.pbz2': 0.0005970298262263779, 'exp16v6AugmixFullB4_fold0.pbz2': 1.8521134819294973, 'exp16v6sampler_fold0.pbz2': 1.2473042751057406, 'exp21b6_fold0.pbz2': 0.6749865722775943, 'exp21b6_fold0_remove_background.pbz2': 0.5345814180158889}. Best is trial 141 with value: 0.8707517120560598.\u001b[0m\n",
      "\u001b[32m[I 2022-04-17 07:51:47,681]\u001b[0m Trial 143 finished with value: 0.8692247969421882 and parameters: {'exp16v4sampler_fold0.pbz2': 0.01070822306675831, 'exp16v6AugMixNew4_fold0.pbz2': 1.5212831573251238, 'exp16v6AugMixNew4_fold0_tta.pbz2': 0.49329372597474735, 'exp16v6AugmixB3_fold0.pbz2': 0.2879753598927294, 'exp16v6AugmixB4Step2_fold0.pbz2': 0.7636958452191481, 'exp16v6AugmixB4Step2_fold0_remove_background.pbz2': 0.1902819280824123, 'exp16v6AugmixB4_fold0.pbz2': 0.39753582986921865, 'exp16v6AugmixB4_fold0_remove_background.pbz2': 0.2526286183912298, 'exp16v6AugmixFullB4_fold0.pbz2': 1.8841042714256002, 'exp16v6sampler_fold0.pbz2': 1.1832789942478432, 'exp21b6_fold0.pbz2': 0.6393024827610568, 'exp21b6_fold0_remove_background.pbz2': 0.5531599408302538}. Best is trial 141 with value: 0.8707517120560598.\u001b[0m\n",
      "\u001b[32m[I 2022-04-17 07:51:49,433]\u001b[0m Trial 144 finished with value: 0.8709089823220258 and parameters: {'exp16v4sampler_fold0.pbz2': 0.10075973175513465, 'exp16v6AugMixNew4_fold0.pbz2': 1.3157883747742785, 'exp16v6AugMixNew4_fold0_tta.pbz2': 0.4858525672364373, 'exp16v6AugmixB3_fold0.pbz2': 0.3865282322795467, 'exp16v6AugmixB4Step2_fold0.pbz2': 0.7298004803449591, 'exp16v6AugmixB4Step2_fold0_remove_background.pbz2': 0.0011297448093540163, 'exp16v6AugmixB4_fold0.pbz2': 0.48180550783643894, 'exp16v6AugmixB4_fold0_remove_background.pbz2': 0.0697045622490746, 'exp16v6AugmixFullB4_fold0.pbz2': 2.1605408630345417, 'exp16v6sampler_fold0.pbz2': 0.9093488005260153, 'exp21b6_fold0.pbz2': 0.7765913713839906, 'exp21b6_fold0_remove_background.pbz2': 0.4516544804409394}. Best is trial 144 with value: 0.8709089823220258.\u001b[0m\n",
      "\u001b[32m[I 2022-04-17 07:51:51,271]\u001b[0m Trial 145 finished with value: 0.8704769867813347 and parameters: {'exp16v4sampler_fold0.pbz2': 0.11195409093573072, 'exp16v6AugMixNew4_fold0.pbz2': 1.2708756628302116, 'exp16v6AugMixNew4_fold0_tta.pbz2': 0.45845903322971837, 'exp16v6AugmixB3_fold0.pbz2': 0.3915744853585331, 'exp16v6AugmixB4Step2_fold0.pbz2': 0.7169728421070385, 'exp16v6AugmixB4Step2_fold0_remove_background.pbz2': 0.030056190780728437, 'exp16v6AugmixB4_fold0.pbz2': 0.4430115484552656, 'exp16v6AugmixB4_fold0_remove_background.pbz2': 0.0001588746181304879, 'exp16v6AugmixFullB4_fold0.pbz2': 2.1046791840025514, 'exp16v6sampler_fold0.pbz2': 1.0047379293714143, 'exp21b6_fold0.pbz2': 0.7881805380561799, 'exp21b6_fold0_remove_background.pbz2': 0.4352758350319797}. Best is trial 144 with value: 0.8709089823220258.\u001b[0m\n",
      "\u001b[32m[I 2022-04-17 07:51:53,024]\u001b[0m Trial 146 finished with value: 0.8703834209268992 and parameters: {'exp16v4sampler_fold0.pbz2': 0.07816893798931263, 'exp16v6AugMixNew4_fold0.pbz2': 1.2011039652161366, 'exp16v6AugMixNew4_fold0_tta.pbz2': 0.3567878295115572, 'exp16v6AugmixB3_fold0.pbz2': 0.29647656593362354, 'exp16v6AugmixB4Step2_fold0.pbz2': 0.7084609575633737, 'exp16v6AugmixB4Step2_fold0_remove_background.pbz2': 0.037404329894779154, 'exp16v6AugmixB4_fold0.pbz2': 0.3441040793772309, 'exp16v6AugmixB4_fold0_remove_background.pbz2': 0.2767688468069327, 'exp16v6AugmixFullB4_fold0.pbz2': 2.1393864059584757, 'exp16v6sampler_fold0.pbz2': 0.9055531817405782, 'exp21b6_fold0.pbz2': 0.7738414367712412, 'exp21b6_fold0_remove_background.pbz2': 0.45852965512624566}. Best is trial 144 with value: 0.8709089823220258.\u001b[0m\n",
      "\u001b[32m[I 2022-04-17 07:51:54,796]\u001b[0m Trial 147 finished with value: 0.8663461538461539 and parameters: {'exp16v4sampler_fold0.pbz2': 0.005151062786595814, 'exp16v6AugMixNew4_fold0.pbz2': 1.177146855387714, 'exp16v6AugMixNew4_fold0_tta.pbz2': 0.03903634690652508, 'exp16v6AugmixB3_fold0.pbz2': 0.22091146546744428, 'exp16v6AugmixB4Step2_fold0.pbz2': 0.615925766650399, 'exp16v6AugmixB4Step2_fold0_remove_background.pbz2': 0.015493197032008021, 'exp16v6AugmixB4_fold0.pbz2': 0.17718224137707028, 'exp16v6AugmixB4_fold0_remove_background.pbz2': 1.6705505574700592, 'exp16v6AugmixFullB4_fold0.pbz2': 2.1481465311439303, 'exp16v6sampler_fold0.pbz2': 0.8894969044295938, 'exp21b6_fold0.pbz2': 0.7855630348813385, 'exp21b6_fold0_remove_background.pbz2': 0.4429997020005968}. Best is trial 144 with value: 0.8709089823220258.\u001b[0m\n",
      "\u001b[32m[I 2022-04-17 07:51:56,548]\u001b[0m Trial 148 finished with value: 0.8698140627488454 and parameters: {'exp16v4sampler_fold0.pbz2': 0.11388908882184381, 'exp16v6AugMixNew4_fold0.pbz2': 1.105247963117372, 'exp16v6AugMixNew4_fold0_tta.pbz2': 0.32682689566889633, 'exp16v6AugmixB3_fold0.pbz2': 0.39049507346015905, 'exp16v6AugmixB4Step2_fold0.pbz2': 0.6645741916062388, 'exp16v6AugmixB4Step2_fold0_remove_background.pbz2': 0.0016813789294120515, 'exp16v6AugmixB4_fold0.pbz2': 0.46765266721664145, 'exp16v6AugmixB4_fold0_remove_background.pbz2': 0.27428253021595284, 'exp16v6AugmixFullB4_fold0.pbz2': 2.2312630539680303, 'exp16v6sampler_fold0.pbz2': 1.0374389185052826, 'exp21b6_fold0.pbz2': 0.7294133697727186, 'exp21b6_fold0_remove_background.pbz2': 0.4602103762457853}. Best is trial 144 with value: 0.8709089823220258.\u001b[0m\n",
      "\u001b[32m[I 2022-04-17 07:51:58,298]\u001b[0m Trial 149 finished with value: 0.8715360726230292 and parameters: {'exp16v4sampler_fold0.pbz2': 0.18324696342748883, 'exp16v6AugMixNew4_fold0.pbz2': 0.9401242469371447, 'exp16v6AugMixNew4_fold0_tta.pbz2': 0.6644063537736292, 'exp16v6AugmixB3_fold0.pbz2': 0.1626001970228471, 'exp16v6AugmixB4Step2_fold0.pbz2': 0.6921214779982734, 'exp16v6AugmixB4Step2_fold0_remove_background.pbz2': 0.10843876264566758, 'exp16v6AugmixB4_fold0.pbz2': 0.31072842462504724, 'exp16v6AugmixB4_fold0_remove_background.pbz2': 0.08345941225482527, 'exp16v6AugmixFullB4_fold0.pbz2': 2.392914485644236, 'exp16v6sampler_fold0.pbz2': 0.7085560248541085, 'exp21b6_fold0.pbz2': 0.8070710457493987, 'exp21b6_fold0_remove_background.pbz2': 0.28835546888492014}. Best is trial 149 with value: 0.8715360726230292.\u001b[0m\n",
      "\u001b[32m[I 2022-04-17 07:52:00,066]\u001b[0m Trial 150 finished with value: 0.8548275999362956 and parameters: {'exp16v4sampler_fold0.pbz2': 0.16205550203248514, 'exp16v6AugMixNew4_fold0.pbz2': 0.7580163470453425, 'exp16v6AugMixNew4_fold0_tta.pbz2': 0.672052470956514, 'exp16v6AugmixB3_fold0.pbz2': 0.07917360849846639, 'exp16v6AugmixB4Step2_fold0.pbz2': 0.7086193697648432, 'exp16v6AugmixB4Step2_fold0_remove_background.pbz2': 0.12833031845851925, 'exp16v6AugmixB4_fold0.pbz2': 0.3016291127280895, 'exp16v6AugmixB4_fold0_remove_background.pbz2': 3.6417229601651666, 'exp16v6AugmixFullB4_fold0.pbz2': 2.361274678264676, 'exp16v6sampler_fold0.pbz2': 0.5437392510135486, 'exp21b6_fold0.pbz2': 0.9437594330043878, 'exp21b6_fold0_remove_background.pbz2': 0.7785098969731509}. Best is trial 149 with value: 0.8715360726230292.\u001b[0m\n"
     ]
    },
    {
     "name": "stderr",
     "output_type": "stream",
     "text": [
      "\u001b[32m[I 2022-04-17 07:52:01,842]\u001b[0m Trial 151 finished with value: 0.8709627329192546 and parameters: {'exp16v4sampler_fold0.pbz2': 0.20392630216423557, 'exp16v6AugMixNew4_fold0.pbz2': 0.908192269283888, 'exp16v6AugMixNew4_fold0_tta.pbz2': 1.0323857061770136, 'exp16v6AugmixB3_fold0.pbz2': 0.15191608255913508, 'exp16v6AugmixB4Step2_fold0.pbz2': 0.8176634063846745, 'exp16v6AugmixB4Step2_fold0_remove_background.pbz2': 0.12505112253661727, 'exp16v6AugmixB4_fold0.pbz2': 0.651517127091944, 'exp16v6AugmixB4_fold0_remove_background.pbz2': 0.07930450297486698, 'exp16v6AugmixFullB4_fold0.pbz2': 2.351757147739716, 'exp16v6sampler_fold0.pbz2': 1.3491473519963801, 'exp21b6_fold0.pbz2': 0.6043477033898164, 'exp21b6_fold0_remove_background.pbz2': 0.2844536712827269}. Best is trial 149 with value: 0.8715360726230292.\u001b[0m\n",
      "\u001b[32m[I 2022-04-17 07:52:03,594]\u001b[0m Trial 152 finished with value: 0.8665551839464883 and parameters: {'exp16v4sampler_fold0.pbz2': 0.19086230504460183, 'exp16v6AugMixNew4_fold0.pbz2': 0.9480504378133146, 'exp16v6AugMixNew4_fold0_tta.pbz2': 1.010033922958768, 'exp16v6AugmixB3_fold0.pbz2': 0.1684932662107631, 'exp16v6AugmixB4Step2_fold0.pbz2': 0.5642128144270276, 'exp16v6AugmixB4Step2_fold0_remove_background.pbz2': 0.12540699007233094, 'exp16v6AugmixB4_fold0.pbz2': 0.6777408750778118, 'exp16v6AugmixB4_fold0_remove_background.pbz2': 2.13176845231935, 'exp16v6AugmixFullB4_fold0.pbz2': 2.3439129084383703, 'exp16v6sampler_fold0.pbz2': 1.3548198575729056, 'exp21b6_fold0.pbz2': 0.7785277269685353, 'exp21b6_fold0_remove_background.pbz2': 0.4445830673272647}. Best is trial 149 with value: 0.8715360726230292.\u001b[0m\n",
      "\u001b[32m[I 2022-04-17 07:52:05,375]\u001b[0m Trial 153 finished with value: 0.8711160216595 and parameters: {'exp16v4sampler_fold0.pbz2': 0.09406359610930747, 'exp16v6AugMixNew4_fold0.pbz2': 1.2936745151567683, 'exp16v6AugMixNew4_fold0_tta.pbz2': 0.6397879652503404, 'exp16v6AugmixB3_fold0.pbz2': 0.27460633719961836, 'exp16v6AugmixB4Step2_fold0.pbz2': 0.8475923323978618, 'exp16v6AugmixB4Step2_fold0_remove_background.pbz2': 0.1912264772153049, 'exp16v6AugmixB4_fold0.pbz2': 0.48739739205229715, 'exp16v6AugmixB4_fold0_remove_background.pbz2': 0.07269344921116264, 'exp16v6AugmixFullB4_fold0.pbz2': 2.4626014657453834, 'exp16v6sampler_fold0.pbz2': 0.8140244765124396, 'exp21b6_fold0.pbz2': 0.6036518775998118, 'exp21b6_fold0_remove_background.pbz2': 0.2657982933505797}. Best is trial 149 with value: 0.8715360726230292.\u001b[0m\n",
      "\u001b[32m[I 2022-04-17 07:52:07,133]\u001b[0m Trial 154 finished with value: 0.8714186176142698 and parameters: {'exp16v4sampler_fold0.pbz2': 0.07750342518021976, 'exp16v6AugMixNew4_fold0.pbz2': 1.2888271228490276, 'exp16v6AugMixNew4_fold0_tta.pbz2': 0.6854510330673054, 'exp16v6AugmixB3_fold0.pbz2': 0.018526898442134232, 'exp16v6AugmixB4Step2_fold0.pbz2': 0.8249868233025334, 'exp16v6AugmixB4Step2_fold0_remove_background.pbz2': 0.06572946909993119, 'exp16v6AugmixB4_fold0.pbz2': 0.30746261473719133, 'exp16v6AugmixB4_fold0_remove_background.pbz2': 0.2551397334382806, 'exp16v6AugmixFullB4_fold0.pbz2': 2.471063288845425, 'exp16v6sampler_fold0.pbz2': 0.6132616153730183, 'exp21b6_fold0.pbz2': 0.5951444450624854, 'exp21b6_fold0_remove_background.pbz2': 0.23997352626022056}. Best is trial 149 with value: 0.8715360726230292.\u001b[0m\n",
      "\u001b[32m[I 2022-04-17 07:52:08,892]\u001b[0m Trial 155 finished with value: 0.8712912087912089 and parameters: {'exp16v4sampler_fold0.pbz2': 0.08940588926167672, 'exp16v6AugMixNew4_fold0.pbz2': 0.7557779651707308, 'exp16v6AugMixNew4_fold0_tta.pbz2': 0.6087879022440429, 'exp16v6AugmixB3_fold0.pbz2': 0.04582586136657016, 'exp16v6AugmixB4Step2_fold0.pbz2': 0.8277351628985454, 'exp16v6AugmixB4Step2_fold0_remove_background.pbz2': 0.0002567883668117138, 'exp16v6AugmixB4_fold0.pbz2': 0.3122922324056146, 'exp16v6AugmixB4_fold0_remove_background.pbz2': 0.30555594822590215, 'exp16v6AugmixFullB4_fold0.pbz2': 2.4929256264647814, 'exp16v6sampler_fold0.pbz2': 0.7318937540116217, 'exp21b6_fold0.pbz2': 0.5654795756232701, 'exp21b6_fold0_remove_background.pbz2': 0.5800050677104431}. Best is trial 149 with value: 0.8715360726230292.\u001b[0m\n",
      "\u001b[32m[I 2022-04-17 07:52:10,643]\u001b[0m Trial 156 finished with value: 0.8708651855390985 and parameters: {'exp16v4sampler_fold0.pbz2': 0.098972912435853, 'exp16v6AugMixNew4_fold0.pbz2': 0.7799901467645424, 'exp16v6AugMixNew4_fold0_tta.pbz2': 0.5793924354332631, 'exp16v6AugmixB3_fold0.pbz2': 0.037601716951089825, 'exp16v6AugmixB4Step2_fold0.pbz2': 0.8461143038012789, 'exp16v6AugmixB4Step2_fold0_remove_background.pbz2': 0.0459277933709339, 'exp16v6AugmixB4_fold0.pbz2': 0.30071851534587574, 'exp16v6AugmixB4_fold0_remove_background.pbz2': 0.27550920539622387, 'exp16v6AugmixFullB4_fold0.pbz2': 2.495722734304237, 'exp16v6sampler_fold0.pbz2': 0.7034548262915036, 'exp21b6_fold0.pbz2': 0.5661563645586012, 'exp21b6_fold0_remove_background.pbz2': 0.2525360101066808}. Best is trial 149 with value: 0.8715360726230292.\u001b[0m\n",
      "\u001b[32m[I 2022-04-17 07:52:12,441]\u001b[0m Trial 157 finished with value: 0.8707596751075013 and parameters: {'exp16v4sampler_fold0.pbz2': 0.0858692481218313, 'exp16v6AugMixNew4_fold0.pbz2': 0.5303996175106167, 'exp16v6AugMixNew4_fold0_tta.pbz2': 0.6797562058192502, 'exp16v6AugmixB3_fold0.pbz2': 0.015233374938694217, 'exp16v6AugmixB4Step2_fold0.pbz2': 0.844981711175745, 'exp16v6AugmixB4Step2_fold0_remove_background.pbz2': 0.011469084429370027, 'exp16v6AugmixB4_fold0.pbz2': 0.31784452752154746, 'exp16v6AugmixB4_fold0_remove_background.pbz2': 0.35061306276450466, 'exp16v6AugmixFullB4_fold0.pbz2': 2.477032690639983, 'exp16v6sampler_fold0.pbz2': 0.7170493761572304, 'exp21b6_fold0.pbz2': 0.5956316725384719, 'exp21b6_fold0_remove_background.pbz2': 0.2802927680865668}. Best is trial 149 with value: 0.8715360726230292.\u001b[0m\n",
      "\u001b[32m[I 2022-04-17 07:52:14,190]\u001b[0m Trial 158 finished with value: 0.8708970377448639 and parameters: {'exp16v4sampler_fold0.pbz2': 0.37582510202616154, 'exp16v6AugMixNew4_fold0.pbz2': 0.686833128382387, 'exp16v6AugMixNew4_fold0_tta.pbz2': 0.5893502125859892, 'exp16v6AugmixB3_fold0.pbz2': 0.003277083622929153, 'exp16v6AugmixB4Step2_fold0.pbz2': 0.8516206900401612, 'exp16v6AugmixB4Step2_fold0_remove_background.pbz2': 0.005297461183969843, 'exp16v6AugmixB4_fold0.pbz2': 0.22689956204373118, 'exp16v6AugmixB4_fold0_remove_background.pbz2': 0.3888836504457827, 'exp16v6AugmixFullB4_fold0.pbz2': 2.497282431226741, 'exp16v6sampler_fold0.pbz2': 0.7864723530855806, 'exp21b6_fold0.pbz2': 0.5763306955804925, 'exp21b6_fold0_remove_background.pbz2': 0.2927962905109095}. Best is trial 149 with value: 0.8715360726230292.\u001b[0m\n",
      "\u001b[32m[I 2022-04-17 07:52:15,945]\u001b[0m Trial 159 finished with value: 0.8711598184424272 and parameters: {'exp16v4sampler_fold0.pbz2': 0.3916912168859003, 'exp16v6AugMixNew4_fold0.pbz2': 0.5843361678741765, 'exp16v6AugMixNew4_fold0_tta.pbz2': 0.5724177037668462, 'exp16v6AugmixB3_fold0.pbz2': 0.008211807973651055, 'exp16v6AugmixB4Step2_fold0.pbz2': 0.8276615376155402, 'exp16v6AugmixB4Step2_fold0_remove_background.pbz2': 0.009718955778292156, 'exp16v6AugmixB4_fold0.pbz2': 0.11398603179556757, 'exp16v6AugmixB4_fold0_remove_background.pbz2': 0.37870386780204457, 'exp16v6AugmixFullB4_fold0.pbz2': 2.474418152550387, 'exp16v6sampler_fold0.pbz2': 0.747524442020421, 'exp21b6_fold0.pbz2': 0.806700808616635, 'exp21b6_fold0_remove_background.pbz2': 0.24862741042161476}. Best is trial 149 with value: 0.8715360726230292.\u001b[0m\n",
      "\u001b[32m[I 2022-04-17 07:52:17,705]\u001b[0m Trial 160 finished with value: 0.8708054626532887 and parameters: {'exp16v4sampler_fold0.pbz2': 0.397948168362513, 'exp16v6AugMixNew4_fold0.pbz2': 0.6000090252573451, 'exp16v6AugMixNew4_fold0_tta.pbz2': 0.6525823575155483, 'exp16v6AugmixB3_fold0.pbz2': 0.019663008198251952, 'exp16v6AugmixB4Step2_fold0.pbz2': 0.8396063901267253, 'exp16v6AugmixB4Step2_fold0_remove_background.pbz2': 0.1720041919207944, 'exp16v6AugmixB4_fold0.pbz2': 0.11021396545473322, 'exp16v6AugmixB4_fold0_remove_background.pbz2': 0.37779223936140227, 'exp16v6AugmixFullB4_fold0.pbz2': 2.2659097737775857, 'exp16v6sampler_fold0.pbz2': 0.7770423206263156, 'exp21b6_fold0.pbz2': 0.5563682240061819, 'exp21b6_fold0_remove_background.pbz2': 0.2732405817088205}. Best is trial 149 with value: 0.8715360726230292.\u001b[0m\n"
     ]
    },
    {
     "name": "stderr",
     "output_type": "stream",
     "text": [
      "\u001b[32m[I 2022-04-17 07:52:19,462]\u001b[0m Trial 161 finished with value: 0.8706103678929766 and parameters: {'exp16v4sampler_fold0.pbz2': 0.37571835125584463, 'exp16v6AugMixNew4_fold0.pbz2': 0.6289311615792971, 'exp16v6AugMixNew4_fold0_tta.pbz2': 0.6037615110229487, 'exp16v6AugmixB3_fold0.pbz2': 0.03935584443512531, 'exp16v6AugmixB4Step2_fold0.pbz2': 0.8349309262085559, 'exp16v6AugmixB4Step2_fold0_remove_background.pbz2': 0.1755954765703051, 'exp16v6AugmixB4_fold0.pbz2': 0.22335583608422926, 'exp16v6AugmixB4_fold0_remove_background.pbz2': 0.39476550946027006, 'exp16v6AugmixFullB4_fold0.pbz2': 2.5123750443509607, 'exp16v6sampler_fold0.pbz2': 0.7255395073965136, 'exp21b6_fold0.pbz2': 0.5450992502942124, 'exp21b6_fold0_remove_background.pbz2': 0.2672668053688936}. Best is trial 149 with value: 0.8715360726230292.\u001b[0m\n",
      "\u001b[32m[I 2022-04-17 07:52:21,217]\u001b[0m Trial 162 finished with value: 0.8703316610925307 and parameters: {'exp16v4sampler_fold0.pbz2': 0.3900776359233401, 'exp16v6AugMixNew4_fold0.pbz2': 0.5810472888991608, 'exp16v6AugMixNew4_fold0_tta.pbz2': 0.5778347811285841, 'exp16v6AugmixB3_fold0.pbz2': 0.00381666787210113, 'exp16v6AugmixB4Step2_fold0.pbz2': 0.8113659017487441, 'exp16v6AugmixB4Step2_fold0_remove_background.pbz2': 0.16159839800251816, 'exp16v6AugmixB4_fold0.pbz2': 0.11212407014679682, 'exp16v6AugmixB4_fold0_remove_background.pbz2': 0.3654022160285526, 'exp16v6AugmixFullB4_fold0.pbz2': 2.4855769317871, 'exp16v6sampler_fold0.pbz2': 0.6906735128759905, 'exp21b6_fold0.pbz2': 0.5593785959617575, 'exp21b6_fold0_remove_background.pbz2': 0.28315241828957516}. Best is trial 149 with value: 0.8715360726230292.\u001b[0m\n",
      "\u001b[32m[I 2022-04-17 07:52:23,003]\u001b[0m Trial 163 finished with value: 0.8704949036470776 and parameters: {'exp16v4sampler_fold0.pbz2': 0.37048286971115385, 'exp16v6AugMixNew4_fold0.pbz2': 0.513534108195717, 'exp16v6AugMixNew4_fold0_tta.pbz2': 0.6634703122064586, 'exp16v6AugmixB3_fold0.pbz2': 0.07560851240126676, 'exp16v6AugmixB4Step2_fold0.pbz2': 0.8353003939491784, 'exp16v6AugmixB4Step2_fold0_remove_background.pbz2': 0.08358582247931105, 'exp16v6AugmixB4_fold0.pbz2': 0.21603316527750716, 'exp16v6AugmixB4_fold0_remove_background.pbz2': 0.40270164410955717, 'exp16v6AugmixFullB4_fold0.pbz2': 2.253246842268797, 'exp16v6sampler_fold0.pbz2': 0.7560134232807767, 'exp21b6_fold0.pbz2': 0.5589176471260848, 'exp21b6_fold0_remove_background.pbz2': 0.0770248268334971}. Best is trial 149 with value: 0.8715360726230292.\u001b[0m\n",
      "\u001b[32m[I 2022-04-17 07:52:24,768]\u001b[0m Trial 164 finished with value: 0.8706541646759038 and parameters: {'exp16v4sampler_fold0.pbz2': 0.23088676633860955, 'exp16v6AugMixNew4_fold0.pbz2': 0.517736064479228, 'exp16v6AugMixNew4_fold0_tta.pbz2': 0.9247432582907639, 'exp16v6AugmixB3_fold0.pbz2': 0.1473817478128478, 'exp16v6AugmixB4Step2_fold0.pbz2': 0.581556731535198, 'exp16v6AugmixB4Step2_fold0_remove_background.pbz2': 0.00473008512884014, 'exp16v6AugmixB4_fold0.pbz2': 0.26034607916742614, 'exp16v6AugmixB4_fold0_remove_background.pbz2': 0.2771627962315176, 'exp16v6AugmixFullB4_fold0.pbz2': 2.5121110284640262, 'exp16v6sampler_fold0.pbz2': 0.4512687935779519, 'exp21b6_fold0.pbz2': 0.55850157646763, 'exp21b6_fold0_remove_background.pbz2': 0.24988583266397318}. Best is trial 149 with value: 0.8715360726230292.\u001b[0m\n",
      "\u001b[32m[I 2022-04-17 07:52:26,547]\u001b[0m Trial 165 finished with value: 0.8706083771301163 and parameters: {'exp16v4sampler_fold0.pbz2': 0.4202033723626137, 'exp16v6AugMixNew4_fold0.pbz2': 0.5292163257660356, 'exp16v6AugMixNew4_fold0_tta.pbz2': 0.5608380798344721, 'exp16v6AugmixB3_fold0.pbz2': 0.1455865207923412, 'exp16v6AugmixB4Step2_fold0.pbz2': 0.6545636588262602, 'exp16v6AugmixB4Step2_fold0_remove_background.pbz2': 0.007759192760008332, 'exp16v6AugmixB4_fold0.pbz2': 0.2531203531675509, 'exp16v6AugmixB4_fold0_remove_background.pbz2': 0.32737597795193935, 'exp16v6AugmixFullB4_fold0.pbz2': 2.482018070289076, 'exp16v6sampler_fold0.pbz2': 0.35774660500375116, 'exp21b6_fold0.pbz2': 0.742561508577398, 'exp21b6_fold0_remove_background.pbz2': 0.25881031720542885}. Best is trial 149 with value: 0.8715360726230292.\u001b[0m\n",
      "\u001b[32m[I 2022-04-17 07:52:28,305]\u001b[0m Trial 166 finished with value: 0.8563067367415194 and parameters: {'exp16v4sampler_fold0.pbz2': 0.38705213313073095, 'exp16v6AugMixNew4_fold0.pbz2': 0.5280895287844016, 'exp16v6AugMixNew4_fold0_tta.pbz2': 0.5656436132424284, 'exp16v6AugmixB3_fold0.pbz2': 0.13512336099501143, 'exp16v6AugmixB4Step2_fold0.pbz2': 0.6062910310855757, 'exp16v6AugmixB4Step2_fold0_remove_background.pbz2': 3.367212381646453, 'exp16v6AugmixB4_fold0.pbz2': 0.22577358022557698, 'exp16v6AugmixB4_fold0_remove_background.pbz2': 0.3594571890404348, 'exp16v6AugmixFullB4_fold0.pbz2': 2.522108526606193, 'exp16v6sampler_fold0.pbz2': 0.3891383486913041, 'exp21b6_fold0.pbz2': 0.5130460066235487, 'exp21b6_fold0_remove_background.pbz2': 0.224382954380079}. Best is trial 149 with value: 0.8715360726230292.\u001b[0m\n",
      "\u001b[32m[I 2022-04-17 07:52:30,070]\u001b[0m Trial 167 finished with value: 0.8713310240484153 and parameters: {'exp16v4sampler_fold0.pbz2': 0.41762385532680735, 'exp16v6AugMixNew4_fold0.pbz2': 0.3716410861785632, 'exp16v6AugMixNew4_fold0_tta.pbz2': 0.9134560314172508, 'exp16v6AugmixB3_fold0.pbz2': 0.025346165515662242, 'exp16v6AugmixB4Step2_fold0.pbz2': 0.647251906375345, 'exp16v6AugmixB4Step2_fold0_remove_background.pbz2': 0.0020490085260337493, 'exp16v6AugmixB4_fold0.pbz2': 0.14080011676927917, 'exp16v6AugmixB4_fold0_remove_background.pbz2': 0.41688644830446697, 'exp16v6AugmixFullB4_fold0.pbz2': 2.29650074445989, 'exp16v6sampler_fold0.pbz2': 0.8018649751765351, 'exp21b6_fold0.pbz2': 0.7101846182996281, 'exp21b6_fold0_remove_background.pbz2': 0.24125430305284482}. Best is trial 149 with value: 0.8715360726230292.\u001b[0m\n",
      "\u001b[32m[I 2022-04-17 07:52:31,830]\u001b[0m Trial 168 finished with value: 0.8710562987736901 and parameters: {'exp16v4sampler_fold0.pbz2': 0.0647578102244611, 'exp16v6AugMixNew4_fold0.pbz2': 0.37059094469535353, 'exp16v6AugMixNew4_fold0_tta.pbz2': 0.9382468023640576, 'exp16v6AugmixB3_fold0.pbz2': 0.0015676958366056867, 'exp16v6AugmixB4Step2_fold0.pbz2': 0.47692012680500284, 'exp16v6AugmixB4Step2_fold0_remove_background.pbz2': 0.11131099995924129, 'exp16v6AugmixB4_fold0.pbz2': 0.1207385237445893, 'exp16v6AugmixB4_fold0_remove_background.pbz2': 0.42887993312019423, 'exp16v6AugmixFullB4_fold0.pbz2': 2.344058847523441, 'exp16v6sampler_fold0.pbz2': 0.7973706050682374, 'exp21b6_fold0.pbz2': 0.7150740239466149, 'exp21b6_fold0_remove_background.pbz2': 0.2554877520612258}. Best is trial 149 with value: 0.8715360726230292.\u001b[0m\n",
      "\u001b[32m[I 2022-04-17 07:52:33,607]\u001b[0m Trial 169 finished with value: 0.8709965758878803 and parameters: {'exp16v4sampler_fold0.pbz2': 0.0034151874107747233, 'exp16v6AugMixNew4_fold0.pbz2': 0.3430558494923031, 'exp16v6AugMixNew4_fold0_tta.pbz2': 0.9251997083357044, 'exp16v6AugmixB3_fold0.pbz2': 0.019613913616757624, 'exp16v6AugmixB4Step2_fold0.pbz2': 0.5354650704784291, 'exp16v6AugmixB4Step2_fold0_remove_background.pbz2': 0.010064968470070067, 'exp16v6AugmixB4_fold0.pbz2': 0.10104258448433256, 'exp16v6AugmixB4_fold0_remove_background.pbz2': 0.4738981140790217, 'exp16v6AugmixFullB4_fold0.pbz2': 2.318168277931432, 'exp16v6sampler_fold0.pbz2': 0.8083702785458041, 'exp21b6_fold0.pbz2': 0.931173401341788, 'exp21b6_fold0_remove_background.pbz2': 0.10534563916922984}. Best is trial 149 with value: 0.8715360726230292.\u001b[0m\n",
      "\u001b[32m[I 2022-04-17 07:52:35,365]\u001b[0m Trial 170 finished with value: 0.8703276795668101 and parameters: {'exp16v4sampler_fold0.pbz2': 0.07425100145537475, 'exp16v6AugMixNew4_fold0.pbz2': 0.23568565975689448, 'exp16v6AugMixNew4_fold0_tta.pbz2': 0.9240390388959632, 'exp16v6AugmixB3_fold0.pbz2': 0.0024876195946113636, 'exp16v6AugmixB4Step2_fold0.pbz2': 0.4628150122305172, 'exp16v6AugmixB4Step2_fold0_remove_background.pbz2': 0.022658988289163337, 'exp16v6AugmixB4_fold0.pbz2': 0.10611646031844651, 'exp16v6AugmixB4_fold0_remove_background.pbz2': 0.4715390030633352, 'exp16v6AugmixFullB4_fold0.pbz2': 2.2517392645644008, 'exp16v6sampler_fold0.pbz2': 0.8092589116097825, 'exp21b6_fold0.pbz2': 1.0800720775140813, 'exp21b6_fold0_remove_background.pbz2': 0.052792261396594375}. Best is trial 149 with value: 0.8715360726230292.\u001b[0m\n"
     ]
    },
    {
     "name": "stderr",
     "output_type": "stream",
     "text": [
      "\u001b[32m[I 2022-04-17 07:52:37,118]\u001b[0m Trial 171 finished with value: 0.8704590699155916 and parameters: {'exp16v4sampler_fold0.pbz2': 0.21118573849709227, 'exp16v6AugMixNew4_fold0.pbz2': 0.37397717649257395, 'exp16v6AugMixNew4_fold0_tta.pbz2': 0.7295318229486052, 'exp16v6AugmixB3_fold0.pbz2': 0.21617649446279225, 'exp16v6AugmixB4Step2_fold0.pbz2': 0.5124432997267303, 'exp16v6AugmixB4Step2_fold0_remove_background.pbz2': 0.10167887501179154, 'exp16v6AugmixB4_fold0.pbz2': 0.11523501476193218, 'exp16v6AugmixB4_fold0_remove_background.pbz2': 0.5586256992745866, 'exp16v6AugmixFullB4_fold0.pbz2': 2.296939288403612, 'exp16v6sampler_fold0.pbz2': 0.5899279332591162, 'exp21b6_fold0.pbz2': 0.8221916378477853, 'exp21b6_fold0_remove_background.pbz2': 0.096813968431502}. Best is trial 149 with value: 0.8715360726230292.\u001b[0m\n"
     ]
    },
    {
     "name": "stdout",
     "output_type": "stream",
     "text": [
      "CPU times: user 5min 1s, sys: 984 ms, total: 5min 2s\n",
      "Wall time: 5min 1s\n"
     ]
    }
   ],
   "source": [
    "%%time\n",
    "\n",
    "study = optuna.create_study(direction='maximize')\n",
    "study.optimize(objective_wrapper(exps), timeout=300)"
   ]
  },
  {
   "cell_type": "code",
   "execution_count": 21,
   "metadata": {},
   "outputs": [
    {
     "data": {
      "text/html": [
       "<div>\n",
       "<style scoped>\n",
       "    .dataframe tbody tr th:only-of-type {\n",
       "        vertical-align: middle;\n",
       "    }\n",
       "\n",
       "    .dataframe tbody tr th {\n",
       "        vertical-align: top;\n",
       "    }\n",
       "\n",
       "    .dataframe thead th {\n",
       "        text-align: right;\n",
       "    }\n",
       "</style>\n",
       "<table border=\"1\" class=\"dataframe\">\n",
       "  <thead>\n",
       "    <tr style=\"text-align: right;\">\n",
       "      <th></th>\n",
       "      <th>number</th>\n",
       "      <th>value</th>\n",
       "      <th>datetime_start</th>\n",
       "      <th>datetime_complete</th>\n",
       "      <th>duration</th>\n",
       "      <th>params_exp16v4sampler_fold0.pbz2</th>\n",
       "      <th>params_exp16v6AugMixNew4_fold0.pbz2</th>\n",
       "      <th>params_exp16v6AugMixNew4_fold0_tta.pbz2</th>\n",
       "      <th>params_exp16v6AugmixB3_fold0.pbz2</th>\n",
       "      <th>params_exp16v6AugmixB4Step2_fold0.pbz2</th>\n",
       "      <th>params_exp16v6AugmixB4Step2_fold0_remove_background.pbz2</th>\n",
       "      <th>params_exp16v6AugmixB4_fold0.pbz2</th>\n",
       "      <th>params_exp16v6AugmixB4_fold0_remove_background.pbz2</th>\n",
       "      <th>params_exp16v6AugmixFullB4_fold0.pbz2</th>\n",
       "      <th>params_exp16v6sampler_fold0.pbz2</th>\n",
       "      <th>params_exp21b6_fold0.pbz2</th>\n",
       "      <th>params_exp21b6_fold0_remove_background.pbz2</th>\n",
       "      <th>state</th>\n",
       "    </tr>\n",
       "  </thead>\n",
       "  <tbody>\n",
       "    <tr>\n",
       "      <th>10</th>\n",
       "      <td>10</td>\n",
       "      <td>0.846301</td>\n",
       "      <td>2022-04-17 07:47:52.815587</td>\n",
       "      <td>2022-04-17 07:47:54.549774</td>\n",
       "      <td>0 days 00:00:01.734187</td>\n",
       "      <td>0.178712</td>\n",
       "      <td>0.014880</td>\n",
       "      <td>0.146264</td>\n",
       "      <td>3.699020</td>\n",
       "      <td>0.949780</td>\n",
       "      <td>0.198250</td>\n",
       "      <td>3.956896</td>\n",
       "      <td>0.676916</td>\n",
       "      <td>2.633084</td>\n",
       "      <td>0.882279</td>\n",
       "      <td>2.928711</td>\n",
       "      <td>0.114767</td>\n",
       "      <td>COMPLETE</td>\n",
       "    </tr>\n",
       "    <tr>\n",
       "      <th>0</th>\n",
       "      <td>0</td>\n",
       "      <td>0.852180</td>\n",
       "      <td>2022-04-17 07:47:35.621763</td>\n",
       "      <td>2022-04-17 07:47:37.356027</td>\n",
       "      <td>0 days 00:00:01.734264</td>\n",
       "      <td>1.096957</td>\n",
       "      <td>1.461501</td>\n",
       "      <td>1.119472</td>\n",
       "      <td>0.148396</td>\n",
       "      <td>1.823655</td>\n",
       "      <td>0.633962</td>\n",
       "      <td>2.773504</td>\n",
       "      <td>2.021021</td>\n",
       "      <td>0.873858</td>\n",
       "      <td>3.188557</td>\n",
       "      <td>0.597362</td>\n",
       "      <td>1.250797</td>\n",
       "      <td>COMPLETE</td>\n",
       "    </tr>\n",
       "    <tr>\n",
       "      <th>28</th>\n",
       "      <td>28</td>\n",
       "      <td>0.852425</td>\n",
       "      <td>2022-04-17 07:48:24.349086</td>\n",
       "      <td>2022-04-17 07:48:26.094618</td>\n",
       "      <td>0 days 00:00:01.745532</td>\n",
       "      <td>0.395236</td>\n",
       "      <td>0.831723</td>\n",
       "      <td>2.181878</td>\n",
       "      <td>0.543763</td>\n",
       "      <td>0.018327</td>\n",
       "      <td>1.201297</td>\n",
       "      <td>1.078133</td>\n",
       "      <td>0.018134</td>\n",
       "      <td>0.464293</td>\n",
       "      <td>2.808444</td>\n",
       "      <td>0.964699</td>\n",
       "      <td>3.964384</td>\n",
       "      <td>COMPLETE</td>\n",
       "    </tr>\n",
       "    <tr>\n",
       "      <th>5</th>\n",
       "      <td>5</td>\n",
       "      <td>0.852443</td>\n",
       "      <td>2022-04-17 07:47:44.208943</td>\n",
       "      <td>2022-04-17 07:47:45.922115</td>\n",
       "      <td>0 days 00:00:01.713172</td>\n",
       "      <td>3.311079</td>\n",
       "      <td>1.034762</td>\n",
       "      <td>1.007801</td>\n",
       "      <td>0.246492</td>\n",
       "      <td>0.284183</td>\n",
       "      <td>3.844894</td>\n",
       "      <td>2.402934</td>\n",
       "      <td>2.944226</td>\n",
       "      <td>2.170480</td>\n",
       "      <td>1.586686</td>\n",
       "      <td>1.149798</td>\n",
       "      <td>3.452536</td>\n",
       "      <td>COMPLETE</td>\n",
       "    </tr>\n",
       "    <tr>\n",
       "      <th>9</th>\n",
       "      <td>9</td>\n",
       "      <td>0.852783</td>\n",
       "      <td>2022-04-17 07:47:51.096287</td>\n",
       "      <td>2022-04-17 07:47:52.814024</td>\n",
       "      <td>0 days 00:00:01.717737</td>\n",
       "      <td>2.221246</td>\n",
       "      <td>1.525933</td>\n",
       "      <td>2.036819</td>\n",
       "      <td>2.111759</td>\n",
       "      <td>2.709646</td>\n",
       "      <td>1.370647</td>\n",
       "      <td>3.101525</td>\n",
       "      <td>1.889178</td>\n",
       "      <td>1.453604</td>\n",
       "      <td>0.018290</td>\n",
       "      <td>3.882650</td>\n",
       "      <td>2.487844</td>\n",
       "      <td>COMPLETE</td>\n",
       "    </tr>\n",
       "    <tr>\n",
       "      <th>...</th>\n",
       "      <td>...</td>\n",
       "      <td>...</td>\n",
       "      <td>...</td>\n",
       "      <td>...</td>\n",
       "      <td>...</td>\n",
       "      <td>...</td>\n",
       "      <td>...</td>\n",
       "      <td>...</td>\n",
       "      <td>...</td>\n",
       "      <td>...</td>\n",
       "      <td>...</td>\n",
       "      <td>...</td>\n",
       "      <td>...</td>\n",
       "      <td>...</td>\n",
       "      <td>...</td>\n",
       "      <td>...</td>\n",
       "      <td>...</td>\n",
       "      <td>...</td>\n",
       "    </tr>\n",
       "    <tr>\n",
       "      <th>159</th>\n",
       "      <td>159</td>\n",
       "      <td>0.871160</td>\n",
       "      <td>2022-04-17 07:52:14.191772</td>\n",
       "      <td>2022-04-17 07:52:15.944801</td>\n",
       "      <td>0 days 00:00:01.753029</td>\n",
       "      <td>0.391691</td>\n",
       "      <td>0.584336</td>\n",
       "      <td>0.572418</td>\n",
       "      <td>0.008212</td>\n",
       "      <td>0.827662</td>\n",
       "      <td>0.009719</td>\n",
       "      <td>0.113986</td>\n",
       "      <td>0.378704</td>\n",
       "      <td>2.474418</td>\n",
       "      <td>0.747524</td>\n",
       "      <td>0.806701</td>\n",
       "      <td>0.248627</td>\n",
       "      <td>COMPLETE</td>\n",
       "    </tr>\n",
       "    <tr>\n",
       "      <th>155</th>\n",
       "      <td>155</td>\n",
       "      <td>0.871291</td>\n",
       "      <td>2022-04-17 07:52:07.134260</td>\n",
       "      <td>2022-04-17 07:52:08.891950</td>\n",
       "      <td>0 days 00:00:01.757690</td>\n",
       "      <td>0.089406</td>\n",
       "      <td>0.755778</td>\n",
       "      <td>0.608788</td>\n",
       "      <td>0.045826</td>\n",
       "      <td>0.827735</td>\n",
       "      <td>0.000257</td>\n",
       "      <td>0.312292</td>\n",
       "      <td>0.305556</td>\n",
       "      <td>2.492926</td>\n",
       "      <td>0.731894</td>\n",
       "      <td>0.565480</td>\n",
       "      <td>0.580005</td>\n",
       "      <td>COMPLETE</td>\n",
       "    </tr>\n",
       "    <tr>\n",
       "      <th>167</th>\n",
       "      <td>167</td>\n",
       "      <td>0.871331</td>\n",
       "      <td>2022-04-17 07:52:28.306437</td>\n",
       "      <td>2022-04-17 07:52:30.069739</td>\n",
       "      <td>0 days 00:00:01.763302</td>\n",
       "      <td>0.417624</td>\n",
       "      <td>0.371641</td>\n",
       "      <td>0.913456</td>\n",
       "      <td>0.025346</td>\n",
       "      <td>0.647252</td>\n",
       "      <td>0.002049</td>\n",
       "      <td>0.140800</td>\n",
       "      <td>0.416886</td>\n",
       "      <td>2.296501</td>\n",
       "      <td>0.801865</td>\n",
       "      <td>0.710185</td>\n",
       "      <td>0.241254</td>\n",
       "      <td>COMPLETE</td>\n",
       "    </tr>\n",
       "    <tr>\n",
       "      <th>154</th>\n",
       "      <td>154</td>\n",
       "      <td>0.871419</td>\n",
       "      <td>2022-04-17 07:52:05.377091</td>\n",
       "      <td>2022-04-17 07:52:07.132565</td>\n",
       "      <td>0 days 00:00:01.755474</td>\n",
       "      <td>0.077503</td>\n",
       "      <td>1.288827</td>\n",
       "      <td>0.685451</td>\n",
       "      <td>0.018527</td>\n",
       "      <td>0.824987</td>\n",
       "      <td>0.065729</td>\n",
       "      <td>0.307463</td>\n",
       "      <td>0.255140</td>\n",
       "      <td>2.471063</td>\n",
       "      <td>0.613262</td>\n",
       "      <td>0.595144</td>\n",
       "      <td>0.239974</td>\n",
       "      <td>COMPLETE</td>\n",
       "    </tr>\n",
       "    <tr>\n",
       "      <th>149</th>\n",
       "      <td>149</td>\n",
       "      <td>0.871536</td>\n",
       "      <td>2022-04-17 07:51:56.549662</td>\n",
       "      <td>2022-04-17 07:51:58.298281</td>\n",
       "      <td>0 days 00:00:01.748619</td>\n",
       "      <td>0.183247</td>\n",
       "      <td>0.940124</td>\n",
       "      <td>0.664406</td>\n",
       "      <td>0.162600</td>\n",
       "      <td>0.692121</td>\n",
       "      <td>0.108439</td>\n",
       "      <td>0.310728</td>\n",
       "      <td>0.083459</td>\n",
       "      <td>2.392914</td>\n",
       "      <td>0.708556</td>\n",
       "      <td>0.807071</td>\n",
       "      <td>0.288355</td>\n",
       "      <td>COMPLETE</td>\n",
       "    </tr>\n",
       "  </tbody>\n",
       "</table>\n",
       "<p>172 rows × 18 columns</p>\n",
       "</div>"
      ],
      "text/plain": [
       "     number     value             datetime_start          datetime_complete  \\\n",
       "10       10  0.846301 2022-04-17 07:47:52.815587 2022-04-17 07:47:54.549774   \n",
       "0         0  0.852180 2022-04-17 07:47:35.621763 2022-04-17 07:47:37.356027   \n",
       "28       28  0.852425 2022-04-17 07:48:24.349086 2022-04-17 07:48:26.094618   \n",
       "5         5  0.852443 2022-04-17 07:47:44.208943 2022-04-17 07:47:45.922115   \n",
       "9         9  0.852783 2022-04-17 07:47:51.096287 2022-04-17 07:47:52.814024   \n",
       "..      ...       ...                        ...                        ...   \n",
       "159     159  0.871160 2022-04-17 07:52:14.191772 2022-04-17 07:52:15.944801   \n",
       "155     155  0.871291 2022-04-17 07:52:07.134260 2022-04-17 07:52:08.891950   \n",
       "167     167  0.871331 2022-04-17 07:52:28.306437 2022-04-17 07:52:30.069739   \n",
       "154     154  0.871419 2022-04-17 07:52:05.377091 2022-04-17 07:52:07.132565   \n",
       "149     149  0.871536 2022-04-17 07:51:56.549662 2022-04-17 07:51:58.298281   \n",
       "\n",
       "                  duration  params_exp16v4sampler_fold0.pbz2  \\\n",
       "10  0 days 00:00:01.734187                          0.178712   \n",
       "0   0 days 00:00:01.734264                          1.096957   \n",
       "28  0 days 00:00:01.745532                          0.395236   \n",
       "5   0 days 00:00:01.713172                          3.311079   \n",
       "9   0 days 00:00:01.717737                          2.221246   \n",
       "..                     ...                               ...   \n",
       "159 0 days 00:00:01.753029                          0.391691   \n",
       "155 0 days 00:00:01.757690                          0.089406   \n",
       "167 0 days 00:00:01.763302                          0.417624   \n",
       "154 0 days 00:00:01.755474                          0.077503   \n",
       "149 0 days 00:00:01.748619                          0.183247   \n",
       "\n",
       "     params_exp16v6AugMixNew4_fold0.pbz2  \\\n",
       "10                              0.014880   \n",
       "0                               1.461501   \n",
       "28                              0.831723   \n",
       "5                               1.034762   \n",
       "9                               1.525933   \n",
       "..                                   ...   \n",
       "159                             0.584336   \n",
       "155                             0.755778   \n",
       "167                             0.371641   \n",
       "154                             1.288827   \n",
       "149                             0.940124   \n",
       "\n",
       "     params_exp16v6AugMixNew4_fold0_tta.pbz2  \\\n",
       "10                                  0.146264   \n",
       "0                                   1.119472   \n",
       "28                                  2.181878   \n",
       "5                                   1.007801   \n",
       "9                                   2.036819   \n",
       "..                                       ...   \n",
       "159                                 0.572418   \n",
       "155                                 0.608788   \n",
       "167                                 0.913456   \n",
       "154                                 0.685451   \n",
       "149                                 0.664406   \n",
       "\n",
       "     params_exp16v6AugmixB3_fold0.pbz2  \\\n",
       "10                            3.699020   \n",
       "0                             0.148396   \n",
       "28                            0.543763   \n",
       "5                             0.246492   \n",
       "9                             2.111759   \n",
       "..                                 ...   \n",
       "159                           0.008212   \n",
       "155                           0.045826   \n",
       "167                           0.025346   \n",
       "154                           0.018527   \n",
       "149                           0.162600   \n",
       "\n",
       "     params_exp16v6AugmixB4Step2_fold0.pbz2  \\\n",
       "10                                 0.949780   \n",
       "0                                  1.823655   \n",
       "28                                 0.018327   \n",
       "5                                  0.284183   \n",
       "9                                  2.709646   \n",
       "..                                      ...   \n",
       "159                                0.827662   \n",
       "155                                0.827735   \n",
       "167                                0.647252   \n",
       "154                                0.824987   \n",
       "149                                0.692121   \n",
       "\n",
       "     params_exp16v6AugmixB4Step2_fold0_remove_background.pbz2  \\\n",
       "10                                            0.198250          \n",
       "0                                             0.633962          \n",
       "28                                            1.201297          \n",
       "5                                             3.844894          \n",
       "9                                             1.370647          \n",
       "..                                                 ...          \n",
       "159                                           0.009719          \n",
       "155                                           0.000257          \n",
       "167                                           0.002049          \n",
       "154                                           0.065729          \n",
       "149                                           0.108439          \n",
       "\n",
       "     params_exp16v6AugmixB4_fold0.pbz2  \\\n",
       "10                            3.956896   \n",
       "0                             2.773504   \n",
       "28                            1.078133   \n",
       "5                             2.402934   \n",
       "9                             3.101525   \n",
       "..                                 ...   \n",
       "159                           0.113986   \n",
       "155                           0.312292   \n",
       "167                           0.140800   \n",
       "154                           0.307463   \n",
       "149                           0.310728   \n",
       "\n",
       "     params_exp16v6AugmixB4_fold0_remove_background.pbz2  \\\n",
       "10                                            0.676916     \n",
       "0                                             2.021021     \n",
       "28                                            0.018134     \n",
       "5                                             2.944226     \n",
       "9                                             1.889178     \n",
       "..                                                 ...     \n",
       "159                                           0.378704     \n",
       "155                                           0.305556     \n",
       "167                                           0.416886     \n",
       "154                                           0.255140     \n",
       "149                                           0.083459     \n",
       "\n",
       "     params_exp16v6AugmixFullB4_fold0.pbz2  params_exp16v6sampler_fold0.pbz2  \\\n",
       "10                                2.633084                          0.882279   \n",
       "0                                 0.873858                          3.188557   \n",
       "28                                0.464293                          2.808444   \n",
       "5                                 2.170480                          1.586686   \n",
       "9                                 1.453604                          0.018290   \n",
       "..                                     ...                               ...   \n",
       "159                               2.474418                          0.747524   \n",
       "155                               2.492926                          0.731894   \n",
       "167                               2.296501                          0.801865   \n",
       "154                               2.471063                          0.613262   \n",
       "149                               2.392914                          0.708556   \n",
       "\n",
       "     params_exp21b6_fold0.pbz2  params_exp21b6_fold0_remove_background.pbz2  \\\n",
       "10                    2.928711                                     0.114767   \n",
       "0                     0.597362                                     1.250797   \n",
       "28                    0.964699                                     3.964384   \n",
       "5                     1.149798                                     3.452536   \n",
       "9                     3.882650                                     2.487844   \n",
       "..                         ...                                          ...   \n",
       "159                   0.806701                                     0.248627   \n",
       "155                   0.565480                                     0.580005   \n",
       "167                   0.710185                                     0.241254   \n",
       "154                   0.595144                                     0.239974   \n",
       "149                   0.807071                                     0.288355   \n",
       "\n",
       "        state  \n",
       "10   COMPLETE  \n",
       "0    COMPLETE  \n",
       "28   COMPLETE  \n",
       "5    COMPLETE  \n",
       "9    COMPLETE  \n",
       "..        ...  \n",
       "159  COMPLETE  \n",
       "155  COMPLETE  \n",
       "167  COMPLETE  \n",
       "154  COMPLETE  \n",
       "149  COMPLETE  \n",
       "\n",
       "[172 rows x 18 columns]"
      ]
     },
     "execution_count": 21,
     "metadata": {},
     "output_type": "execute_result"
    }
   ],
   "source": [
    "study.trials_dataframe().sort_values(\"value\")"
   ]
  },
  {
   "cell_type": "code",
   "execution_count": 22,
   "metadata": {},
   "outputs": [
    {
     "data": {
      "text/plain": [
       "{'exp16v4sampler_fold0.pbz2': 0.18324696342748883,\n",
       " 'exp16v6AugMixNew4_fold0.pbz2': 0.9401242469371447,\n",
       " 'exp16v6AugMixNew4_fold0_tta.pbz2': 0.6644063537736292,\n",
       " 'exp16v6AugmixB3_fold0.pbz2': 0.1626001970228471,\n",
       " 'exp16v6AugmixB4Step2_fold0.pbz2': 0.6921214779982734,\n",
       " 'exp16v6AugmixB4Step2_fold0_remove_background.pbz2': 0.10843876264566758,\n",
       " 'exp16v6AugmixB4_fold0.pbz2': 0.31072842462504724,\n",
       " 'exp16v6AugmixB4_fold0_remove_background.pbz2': 0.08345941225482527,\n",
       " 'exp16v6AugmixFullB4_fold0.pbz2': 2.392914485644236,\n",
       " 'exp16v6sampler_fold0.pbz2': 0.7085560248541085,\n",
       " 'exp21b6_fold0.pbz2': 0.8070710457493987,\n",
       " 'exp21b6_fold0_remove_background.pbz2': 0.28835546888492014}"
      ]
     },
     "execution_count": 22,
     "metadata": {},
     "output_type": "execute_result"
    }
   ],
   "source": [
    "study.best_params"
   ]
  },
  {
   "cell_type": "code",
   "execution_count": 23,
   "metadata": {},
   "outputs": [],
   "source": [
    "best_weights = list(study.best_params.values())"
   ]
  },
  {
   "cell_type": "code",
   "execution_count": 24,
   "metadata": {},
   "outputs": [
    {
     "data": {
      "text/plain": [
       "0.8715360726230292"
      ]
     },
     "execution_count": 24,
     "metadata": {},
     "output_type": "execute_result"
    }
   ],
   "source": [
    "# weighted result\n",
    "get_score([1] + best_weights)"
   ]
  },
  {
   "cell_type": "code",
   "execution_count": 25,
   "metadata": {},
   "outputs": [
    {
     "data": {
      "text/plain": [
       "0.8566431756649148"
      ]
     },
     "execution_count": 25,
     "metadata": {},
     "output_type": "execute_result"
    }
   ],
   "source": [
    "# un-weighted result\n",
    "get_score([1] * len(exps))"
   ]
  }
 ],
 "metadata": {
  "kernelspec": {
   "display_name": "Python 3 (ipykernel)",
   "language": "python",
   "name": "python3"
  },
  "language_info": {
   "codemirror_mode": {
    "name": "ipython",
    "version": 3
   },
   "file_extension": ".py",
   "mimetype": "text/x-python",
   "name": "python",
   "nbconvert_exporter": "python",
   "pygments_lexer": "ipython3",
   "version": "3.7.12"
  }
 },
 "nbformat": 4,
 "nbformat_minor": 4
}
