{
 "cells": [
  {
   "cell_type": "markdown",
   "metadata": {},
   "source": [
    "Majority vote from team's CV"
   ]
  },
  {
   "cell_type": "code",
   "execution_count": 1,
   "metadata": {
    "scrolled": true
   },
   "outputs": [],
   "source": [
    "import numpy as np\n",
    "import matplotlib.pyplot as plt\n",
    "import pandas as pd\n",
    "import json\n",
    "import glob\n",
    "\n",
    "from tqdm import tqdm\n",
    "import seaborn as sns\n",
    "from collections import Counter\n",
    "\n",
    "import cv2"
   ]
  },
  {
   "cell_type": "code",
   "execution_count": 2,
   "metadata": {},
   "outputs": [],
   "source": [
    "import cudf, cuml, cupy\n",
    "from cuml.feature_extraction.text import TfidfVectorizer\n",
    "from cuml.neighbors import NearestNeighbors"
   ]
  },
  {
   "cell_type": "code",
   "execution_count": 3,
   "metadata": {},
   "outputs": [],
   "source": [
    "from collections import Counter\n",
    "from sklearn.metrics import pairwise_distances\n",
    "from sklearn.preprocessing import normalize"
   ]
  },
  {
   "cell_type": "code",
   "execution_count": 4,
   "metadata": {},
   "outputs": [],
   "source": [
    "from collections import defaultdict"
   ]
  },
  {
   "cell_type": "code",
   "execution_count": 5,
   "metadata": {},
   "outputs": [],
   "source": [
    "import bz2\n",
    "import pickle\n",
    "import _pickle as cPickle\n",
    "\n",
    "def compressed_pickle(title, data):\n",
    "    with bz2.BZ2File(title + '.pbz2', 'w') as f:\n",
    "        cPickle.dump(data, f)\n",
    "        \n",
    "def decompress_pickle(file):\n",
    "    data = bz2.BZ2File(file, 'rb')\n",
    "    data = cPickle.load(data)\n",
    "    return data"
   ]
  },
  {
   "cell_type": "code",
   "execution_count": 6,
   "metadata": {},
   "outputs": [],
   "source": [
    "#exps = !ls ../input/whale-21-3-2022/ | grep pbz2 | grep fold4\n",
    "#exps"
   ]
  },
  {
   "cell_type": "code",
   "execution_count": null,
   "metadata": {},
   "outputs": [],
   "source": []
  },
  {
   "cell_type": "code",
   "execution_count": 7,
   "metadata": {},
   "outputs": [],
   "source": [
    "FOLD=2"
   ]
  },
  {
   "cell_type": "code",
   "execution_count": 8,
   "metadata": {},
   "outputs": [],
   "source": [
    "exps_all = [\n",
    "    [\n",
    "         'exp16v6Augmix_fold0.pbz2',\n",
    "         'exp16v4sampler_fold0.pbz2',\n",
    "         'exp16v6AugMixNew4_fold0.pbz2',\n",
    "         'exp16v6AugMixNew4_fold0_tta.pbz2',\n",
    "         'exp16v6AugmixB3_fold0.pbz2',\n",
    "         'exp16v6AugmixB4Step2_fold0.pbz2',\n",
    "         'exp16v6AugmixB4Step2_fold0_remove_background.pbz2',\n",
    "         'exp16v6AugmixB4_fold0.pbz2',\n",
    "         'exp16v6AugmixB4_fold0_remove_background.pbz2',\n",
    "         'exp16v6AugmixFullB4_fold0.pbz2',\n",
    "         'exp16v6sampler_fold0.pbz2',\n",
    "         'exp21b6_fold0.pbz2',\n",
    "         'exp21b6_fold0_remove_background.pbz2'\n",
    "    ],\n",
    "    [\n",
    "         'exp16v6Augmix_fold1.pbz2',\n",
    "         'exp16v6AugMixNew4_fold1.pbz2',\n",
    "         'exp16v6AugMixNew4_fold1_tta.pbz2',\n",
    "         'exp16v6AugmixB3_fold1.pbz2',\n",
    "         'exp16v6AugmixB4Step2_fold1.pbz2',\n",
    "         'exp16v6AugmixB4Step2_fold1_remove_background.pbz2',\n",
    "         'exp16v6AugmixB4_fold1.pbz2',\n",
    "         'exp21b6_fold1_remove_background.pbz2'\n",
    "    ],\n",
    "    [\n",
    "         'exp16v6Augmix_fold2.pbz2',\n",
    "         'exp16v6AugMixNew4_fold2.pbz2',\n",
    "         'exp16v6AugMixNew4_fold2_tta.pbz2',\n",
    "         'exp16v6AugmixB3_fold2.pbz2',\n",
    "         'exp16v6AugmixB4Full_fold2.pbz2',\n",
    "         'exp16v6AugmixB4Step2_fold2.pbz2',\n",
    "         'exp16v6AugmixB4_fold2.pbz2',\n",
    "         'exp16v6AugmixB4_fold2_remove_background.pbz2',\n",
    "         'exp21b6_fold2_remove_background.pbz2'\n",
    "    ],\n",
    "    [\n",
    "         'exp16v6Augmix_fold3.pbz2',\n",
    "         'exp16v6AugMix1536_fold3.pbz2',\n",
    "         'exp16v6AugmixB3_fold3.pbz2',\n",
    "         'exp16v6AugmixB4Full_fold3.pbz2',\n",
    "         'exp16v6AugmixB4Step2_fold3.pbz2',\n",
    "         'exp16v6AugmixB4_fold3_remove_background.pbz2',\n",
    "         'exp21b6_fold3_remove_background.pbz2'\n",
    "    ],\n",
    "    [\n",
    "         'exp16v6Augmix_fold4.pbz2',\n",
    "         'exp16v6AugMix1536_fold4.pbz2',\n",
    "         'exp16v6AugmixB3_fold4.pbz2',\n",
    "         'exp16v6AugmixB4Step2_fold4.pbz2',\n",
    "         'exp16v6AugmixB4_fold4_remove_background.pbz2',\n",
    "    ]\n",
    "]"
   ]
  },
  {
   "cell_type": "code",
   "execution_count": 9,
   "metadata": {},
   "outputs": [],
   "source": [
    "exps = exps_all[FOLD]"
   ]
  },
  {
   "cell_type": "code",
   "execution_count": 10,
   "metadata": {
    "scrolled": false
   },
   "outputs": [
    {
     "data": {
      "text/plain": [
       "(51033, 8)"
      ]
     },
     "execution_count": 10,
     "metadata": {},
     "output_type": "execute_result"
    }
   ],
   "source": [
    "fold2 = pd.read_csv(\"/kaggle/happywhale/input/whale-21-3-2022/fold2.csv\")\n",
    "fold2.shape"
   ]
  },
  {
   "cell_type": "code",
   "execution_count": 11,
   "metadata": {},
   "outputs": [],
   "source": [
    "valid = fold2.query(\"fold == @FOLD\").reset_index()\n",
    "train = fold2.query(\"fold != @FOLD\").reset_index()"
   ]
  },
  {
   "cell_type": "code",
   "execution_count": 12,
   "metadata": {},
   "outputs": [],
   "source": [
    "valid_ind = (fold2.fold == FOLD).values\n",
    "train_ind = (fold2.fold != FOLD).values"
   ]
  },
  {
   "cell_type": "code",
   "execution_count": null,
   "metadata": {},
   "outputs": [],
   "source": []
  },
  {
   "cell_type": "code",
   "execution_count": 13,
   "metadata": {},
   "outputs": [],
   "source": [
    "train_inddividual_id_lis = train[\"individual_id\"].values\n",
    "valid_inddividual_id_lis = valid[\"individual_id\"].values\n",
    "\n",
    "def get_result_each(files):\n",
    "    DIRNAME =\"../input/whale-21-3-2022/\"\n",
    "      \n",
    "    ret = []\n",
    "        \n",
    "    for fname in files:\n",
    "        print(fname)\n",
    "        data = decompress_pickle(DIRNAME + fname  )\n",
    "        \n",
    "        train_emb = data[\"emb_val\"]#[new_index,:]\n",
    "        \n",
    "        train_emb=normalize(train_emb)\n",
    "        \n",
    "        valid_preds = train_emb[valid_ind]\n",
    "        train_preds = train_emb[train_ind]\n",
    "        \n",
    "        \n",
    "        distances = pairwise_distances(valid_preds,train_preds)\n",
    "                \n",
    "        K=1000\n",
    "        predicted_positions = np.argpartition(distances, K, axis=1)[:, :K]\n",
    "\n",
    "        all_pred_lis = []\n",
    "        for i in tqdm(range(predicted_positions.shape[0])):\n",
    "            nearest = [(train_inddividual_id_lis[j], distances[i, j]) for j in predicted_positions[i]]\n",
    "            nearest.sort(key=lambda x: x[1])\n",
    "\n",
    "            prediction = [index_id for index_id, d in nearest]\n",
    "\n",
    "            done = set()\n",
    "            pred_list = []\n",
    "            for pred_id in prediction:\n",
    "                if pred_id in done:\n",
    "                    continue\n",
    "                done.add(pred_id)\n",
    "                pred_list.append(pred_id)\n",
    "                if len(pred_list)==20:\n",
    "                    break\n",
    "\n",
    "            all_pred_lis.append(pred_list)\n",
    "        \n",
    "        ret.append(all_pred_lis)\n",
    "        \n",
    "    return ret\n",
    "    "
   ]
  },
  {
   "cell_type": "markdown",
   "metadata": {},
   "source": [
    "### get result for each model"
   ]
  },
  {
   "cell_type": "code",
   "execution_count": 14,
   "metadata": {
    "scrolled": false
   },
   "outputs": [
    {
     "name": "stdout",
     "output_type": "stream",
     "text": [
      "exp16v6Augmix_fold2.pbz2\n"
     ]
    },
    {
     "name": "stderr",
     "output_type": "stream",
     "text": [
      "100%|██████████| 8289/8289 [00:07<00:00, 1123.48it/s]\n"
     ]
    },
    {
     "name": "stdout",
     "output_type": "stream",
     "text": [
      "exp16v6AugMixNew4_fold2.pbz2\n"
     ]
    },
    {
     "name": "stderr",
     "output_type": "stream",
     "text": [
      "100%|██████████| 8289/8289 [00:07<00:00, 1121.48it/s]\n"
     ]
    },
    {
     "name": "stdout",
     "output_type": "stream",
     "text": [
      "exp16v6AugMixNew4_fold2_tta.pbz2\n"
     ]
    },
    {
     "name": "stderr",
     "output_type": "stream",
     "text": [
      "100%|██████████| 8289/8289 [00:07<00:00, 1130.11it/s]\n"
     ]
    },
    {
     "name": "stdout",
     "output_type": "stream",
     "text": [
      "exp16v6AugmixB3_fold2.pbz2\n"
     ]
    },
    {
     "name": "stderr",
     "output_type": "stream",
     "text": [
      "100%|██████████| 8289/8289 [00:07<00:00, 1116.35it/s]\n"
     ]
    },
    {
     "name": "stdout",
     "output_type": "stream",
     "text": [
      "exp16v6AugmixB4Full_fold2.pbz2\n"
     ]
    },
    {
     "name": "stderr",
     "output_type": "stream",
     "text": [
      "100%|██████████| 8289/8289 [00:07<00:00, 1104.65it/s]\n"
     ]
    },
    {
     "name": "stdout",
     "output_type": "stream",
     "text": [
      "exp16v6AugmixB4Step2_fold2.pbz2\n"
     ]
    },
    {
     "name": "stderr",
     "output_type": "stream",
     "text": [
      "100%|██████████| 8289/8289 [00:07<00:00, 1097.06it/s]\n"
     ]
    },
    {
     "name": "stdout",
     "output_type": "stream",
     "text": [
      "exp16v6AugmixB4_fold2.pbz2\n"
     ]
    },
    {
     "name": "stderr",
     "output_type": "stream",
     "text": [
      "100%|██████████| 8289/8289 [00:07<00:00, 1100.41it/s]\n"
     ]
    },
    {
     "name": "stdout",
     "output_type": "stream",
     "text": [
      "exp16v6AugmixB4_fold2_remove_background.pbz2\n"
     ]
    },
    {
     "name": "stderr",
     "output_type": "stream",
     "text": [
      "100%|██████████| 8289/8289 [00:07<00:00, 1102.85it/s]\n"
     ]
    },
    {
     "name": "stdout",
     "output_type": "stream",
     "text": [
      "exp21b6_fold2_remove_background.pbz2\n"
     ]
    },
    {
     "name": "stderr",
     "output_type": "stream",
     "text": [
      "100%|██████████| 8289/8289 [00:07<00:00, 1110.83it/s]\n"
     ]
    }
   ],
   "source": [
    "ret = get_result_each(exps)"
   ]
  },
  {
   "cell_type": "code",
   "execution_count": 15,
   "metadata": {},
   "outputs": [
    {
     "data": {
      "text/plain": [
       "(9, 8289, 20)"
      ]
     },
     "execution_count": 15,
     "metadata": {},
     "output_type": "execute_result"
    }
   ],
   "source": [
    "len(ret),len(ret[0]),len(ret[0][0])"
   ]
  },
  {
   "cell_type": "code",
   "execution_count": null,
   "metadata": {},
   "outputs": [],
   "source": []
  },
  {
   "cell_type": "code",
   "execution_count": 16,
   "metadata": {},
   "outputs": [],
   "source": [
    "def get_score(weights):\n",
    "    \n",
    "    #train_emb\n",
    "    vote_result = defaultdict(lambda:defaultdict(int))\n",
    "    \n",
    "    for preds, w in zip(ret, weights):\n",
    "        for i in range(len(preds)):\n",
    "            \n",
    "            for j,p in enumerate(preds[i]):\n",
    "                vote_result[i][p] += (w / (j+1))\n",
    "        \n",
    "        \n",
    "    score_lis = []\n",
    "    pred_ids = []\n",
    "\n",
    "    for i in range(len(ret[0])):\n",
    "        pred_list = np.array(sorted(vote_result[i].items(), key=lambda item: item[1])[::-1])[:5,0].tolist()\n",
    "\n",
    "        if valid_inddividual_id_lis[i] in pred_list:\n",
    "            s = 1/(pred_list.index(valid_inddividual_id_lis[i]) + 1)\n",
    "            score_lis.append(s)\n",
    "        else:\n",
    "            score_lis.append(0)\n",
    "    \n",
    "    return np.mean(score_lis)"
   ]
  },
  {
   "cell_type": "code",
   "execution_count": null,
   "metadata": {},
   "outputs": [],
   "source": []
  },
  {
   "cell_type": "code",
   "execution_count": 17,
   "metadata": {},
   "outputs": [
    {
     "data": {
      "text/plain": [
       "0.8584469377086097"
      ]
     },
     "execution_count": 17,
     "metadata": {},
     "output_type": "execute_result"
    }
   ],
   "source": [
    "# un-weighted result\n",
    "get_score([1] * len(exps))"
   ]
  },
  {
   "cell_type": "code",
   "execution_count": null,
   "metadata": {},
   "outputs": [],
   "source": []
  },
  {
   "cell_type": "markdown",
   "metadata": {},
   "source": [
    "optimize by optuna"
   ]
  },
  {
   "cell_type": "code",
   "execution_count": 18,
   "metadata": {},
   "outputs": [],
   "source": [
    "import optuna"
   ]
  },
  {
   "cell_type": "code",
   "execution_count": 19,
   "metadata": {},
   "outputs": [],
   "source": [
    "def objective_wrapper(exps):\n",
    "    def objective(trial):\n",
    "\n",
    "        weights = [1]\n",
    "        for i in range(len(exps)-1):\n",
    "            w=trial.suggest_uniform(exps[i+1], 0, 4)\n",
    "            weights.append(w)\n",
    "        \n",
    "        \n",
    "        score_lis = get_score(weights)\n",
    "        score = np.mean(score_lis)\n",
    "        return score\n",
    "    \n",
    "    return objective\n"
   ]
  },
  {
   "cell_type": "code",
   "execution_count": 20,
   "metadata": {
    "scrolled": true
   },
   "outputs": [
    {
     "name": "stderr",
     "output_type": "stream",
     "text": [
      "\u001b[32m[I 2022-04-17 07:26:22,117]\u001b[0m A new study created in memory with name: no-name-af852a21-0949-45f4-8cb5-57de2c3704a3\u001b[0m\n",
      "\u001b[32m[I 2022-04-17 07:26:23,438]\u001b[0m Trial 0 finished with value: 0.8434974062009893 and parameters: {'exp16v6AugMixNew4_fold2.pbz2': 0.9708093049270907, 'exp16v6AugMixNew4_fold2_tta.pbz2': 1.0720344101103727, 'exp16v6AugmixB3_fold2.pbz2': 2.8141159313934283, 'exp16v6AugmixB4Full_fold2.pbz2': 0.734587314371423, 'exp16v6AugmixB4Step2_fold2.pbz2': 0.17848969621414668, 'exp16v6AugmixB4_fold2.pbz2': 2.283816140975054, 'exp16v6AugmixB4_fold2_remove_background.pbz2': 0.32316176190871637, 'exp21b6_fold2_remove_background.pbz2': 3.6137071281879423}. Best is trial 0 with value: 0.8434974062009893.\u001b[0m\n",
      "\u001b[32m[I 2022-04-17 07:26:24,744]\u001b[0m Trial 1 finished with value: 0.8612438171070094 and parameters: {'exp16v6AugMixNew4_fold2.pbz2': 3.735075352084775, 'exp16v6AugMixNew4_fold2_tta.pbz2': 2.7550521498154787, 'exp16v6AugmixB3_fold2.pbz2': 3.955541409961016, 'exp16v6AugmixB4Full_fold2.pbz2': 3.6220565970967207, 'exp16v6AugmixB4Step2_fold2.pbz2': 1.30138575087343, 'exp16v6AugmixB4_fold2.pbz2': 1.348819344669553, 'exp16v6AugmixB4_fold2_remove_background.pbz2': 3.526750268127859, 'exp21b6_fold2_remove_background.pbz2': 3.957769786539538}. Best is trial 1 with value: 0.8612438171070094.\u001b[0m\n",
      "\u001b[32m[I 2022-04-17 07:26:26,076]\u001b[0m Trial 2 finished with value: 0.8533015643221942 and parameters: {'exp16v6AugMixNew4_fold2.pbz2': 1.7583208916244608, 'exp16v6AugMixNew4_fold2_tta.pbz2': 2.9521085101275952, 'exp16v6AugmixB3_fold2.pbz2': 1.5749801882352599, 'exp16v6AugmixB4Full_fold2.pbz2': 0.13425908607511516, 'exp16v6AugmixB4Step2_fold2.pbz2': 2.1807763317132602, 'exp16v6AugmixB4_fold2.pbz2': 1.7435785387287597, 'exp16v6AugmixB4_fold2_remove_background.pbz2': 1.1946962415769717, 'exp21b6_fold2_remove_background.pbz2': 3.6947636442108713}. Best is trial 1 with value: 0.8612438171070094.\u001b[0m\n",
      "\u001b[32m[I 2022-04-17 07:26:27,387]\u001b[0m Trial 3 finished with value: 0.8580809908714361 and parameters: {'exp16v6AugMixNew4_fold2.pbz2': 0.2860962308419315, 'exp16v6AugMixNew4_fold2_tta.pbz2': 1.8428629718796001, 'exp16v6AugmixB3_fold2.pbz2': 0.43371739796745734, 'exp16v6AugmixB4Full_fold2.pbz2': 1.4430005372851897, 'exp16v6AugmixB4Step2_fold2.pbz2': 1.9397928969130378, 'exp16v6AugmixB4_fold2.pbz2': 1.8546343990025829, 'exp16v6AugmixB4_fold2_remove_background.pbz2': 0.05585175552309929, 'exp21b6_fold2_remove_background.pbz2': 2.270695113909125}. Best is trial 1 with value: 0.8612438171070094.\u001b[0m\n",
      "\u001b[32m[I 2022-04-17 07:26:28,698]\u001b[0m Trial 4 finished with value: 0.8525817348292919 and parameters: {'exp16v6AugMixNew4_fold2.pbz2': 0.993337159334271, 'exp16v6AugMixNew4_fold2_tta.pbz2': 1.0973954408059372, 'exp16v6AugmixB3_fold2.pbz2': 2.994419124143293, 'exp16v6AugmixB4Full_fold2.pbz2': 1.8515284840580084, 'exp16v6AugmixB4Step2_fold2.pbz2': 1.2209140114125834, 'exp16v6AugmixB4_fold2.pbz2': 0.0017483702201976925, 'exp16v6AugmixB4_fold2_remove_background.pbz2': 3.2772704742181475, 'exp21b6_fold2_remove_background.pbz2': 2.0000923170489506}. Best is trial 1 with value: 0.8612438171070094.\u001b[0m\n",
      "\u001b[32m[I 2022-04-17 07:26:29,999]\u001b[0m Trial 5 finished with value: 0.8466079543169663 and parameters: {'exp16v6AugMixNew4_fold2.pbz2': 0.439621583414882, 'exp16v6AugMixNew4_fold2_tta.pbz2': 1.1495496463594321, 'exp16v6AugmixB3_fold2.pbz2': 2.670389069111196, 'exp16v6AugmixB4Full_fold2.pbz2': 2.8686543446235677, 'exp16v6AugmixB4Step2_fold2.pbz2': 3.5169525346778467, 'exp16v6AugmixB4_fold2.pbz2': 3.747947139928124, 'exp16v6AugmixB4_fold2_remove_background.pbz2': 3.09498111461979, 'exp21b6_fold2_remove_background.pbz2': 2.387525558468469}. Best is trial 1 with value: 0.8612438171070094.\u001b[0m\n",
      "\u001b[32m[I 2022-04-17 07:26:31,452]\u001b[0m Trial 6 finished with value: 0.859892628785137 and parameters: {'exp16v6AugMixNew4_fold2.pbz2': 0.1484715717112879, 'exp16v6AugMixNew4_fold2_tta.pbz2': 3.351783046613593, 'exp16v6AugmixB3_fold2.pbz2': 0.0059226369536973245, 'exp16v6AugmixB4Full_fold2.pbz2': 1.5118596089857679, 'exp16v6AugmixB4Step2_fold2.pbz2': 0.870759254738855, 'exp16v6AugmixB4_fold2.pbz2': 1.0310005498332915, 'exp16v6AugmixB4_fold2_remove_background.pbz2': 2.2554520328175185, 'exp21b6_fold2_remove_background.pbz2': 2.921638524763679}. Best is trial 1 with value: 0.8612438171070094.\u001b[0m\n",
      "\u001b[32m[I 2022-04-17 07:26:32,764]\u001b[0m Trial 7 finished with value: 0.8448124019785257 and parameters: {'exp16v6AugMixNew4_fold2.pbz2': 2.111369720362066, 'exp16v6AugMixNew4_fold2_tta.pbz2': 0.8463104195737339, 'exp16v6AugmixB3_fold2.pbz2': 2.27734153105284, 'exp16v6AugmixB4Full_fold2.pbz2': 0.2348496128503874, 'exp16v6AugmixB4Step2_fold2.pbz2': 3.1739740204581586, 'exp16v6AugmixB4_fold2.pbz2': 3.9535365352497274, 'exp16v6AugmixB4_fold2_remove_background.pbz2': 1.7535182157206446, 'exp21b6_fold2_remove_background.pbz2': 1.4411022725233806}. Best is trial 1 with value: 0.8612438171070094.\u001b[0m\n",
      "\u001b[32m[I 2022-04-17 07:26:34,080]\u001b[0m Trial 8 finished with value: 0.8540053082398359 and parameters: {'exp16v6AugMixNew4_fold2.pbz2': 2.10268617915391, 'exp16v6AugMixNew4_fold2_tta.pbz2': 0.38968348106268147, 'exp16v6AugmixB3_fold2.pbz2': 0.15549448354997164, 'exp16v6AugmixB4Full_fold2.pbz2': 0.902790126676642, 'exp16v6AugmixB4Step2_fold2.pbz2': 1.3436698620301843, 'exp16v6AugmixB4_fold2.pbz2': 0.12888266661809045, 'exp16v6AugmixB4_fold2_remove_background.pbz2': 3.2873662386521594, 'exp21b6_fold2_remove_background.pbz2': 0.9633467061003977}. Best is trial 1 with value: 0.8612438171070094.\u001b[0m\n",
      "\u001b[32m[I 2022-04-17 07:26:35,393]\u001b[0m Trial 9 finished with value: 0.8586841999437006 and parameters: {'exp16v6AugMixNew4_fold2.pbz2': 0.983079619223747, 'exp16v6AugMixNew4_fold2_tta.pbz2': 2.2473658751257113, 'exp16v6AugmixB3_fold2.pbz2': 1.2985358832957297, 'exp16v6AugmixB4Full_fold2.pbz2': 1.481664184766195, 'exp16v6AugmixB4Step2_fold2.pbz2': 0.34639179035408363, 'exp16v6AugmixB4_fold2.pbz2': 0.7560609907179474, 'exp16v6AugmixB4_fold2_remove_background.pbz2': 2.2559168143281916, 'exp21b6_fold2_remove_background.pbz2': 2.824567812223754}. Best is trial 1 with value: 0.8612438171070094.\u001b[0m\n",
      "\u001b[32m[I 2022-04-17 07:26:36,716]\u001b[0m Trial 10 finished with value: 0.8615192825833434 and parameters: {'exp16v6AugMixNew4_fold2.pbz2': 3.9117912089004054, 'exp16v6AugMixNew4_fold2_tta.pbz2': 2.589038463074418, 'exp16v6AugmixB3_fold2.pbz2': 3.686790204471621, 'exp16v6AugmixB4Full_fold2.pbz2': 3.9197244836789, 'exp16v6AugmixB4Step2_fold2.pbz2': 2.291726796520722, 'exp16v6AugmixB4_fold2.pbz2': 2.9149485632575027, 'exp16v6AugmixB4_fold2_remove_background.pbz2': 3.997044030114586, 'exp21b6_fold2_remove_background.pbz2': 0.27458720831288197}. Best is trial 10 with value: 0.8615192825833434.\u001b[0m\n",
      "\u001b[32m[I 2022-04-17 07:26:38,037]\u001b[0m Trial 11 finished with value: 0.8625648449752684 and parameters: {'exp16v6AugMixNew4_fold2.pbz2': 3.9615733598891483, 'exp16v6AugMixNew4_fold2_tta.pbz2': 3.9208546872619623, 'exp16v6AugmixB3_fold2.pbz2': 3.9711287384680487, 'exp16v6AugmixB4Full_fold2.pbz2': 3.368388608086774, 'exp16v6AugmixB4Step2_fold2.pbz2': 2.560976563525964, 'exp16v6AugmixB4_fold2.pbz2': 2.9301796335470325, 'exp16v6AugmixB4_fold2_remove_background.pbz2': 3.9386892979201598, 'exp21b6_fold2_remove_background.pbz2': 0.0548113091607732}. Best is trial 11 with value: 0.8625648449752684.\u001b[0m\n",
      "\u001b[32m[I 2022-04-17 07:26:39,370]\u001b[0m Trial 12 finished with value: 0.8635842683073954 and parameters: {'exp16v6AugMixNew4_fold2.pbz2': 3.9748427461088207, 'exp16v6AugMixNew4_fold2_tta.pbz2': 3.9986787586464922, 'exp16v6AugmixB3_fold2.pbz2': 3.989399183072485, 'exp16v6AugmixB4Full_fold2.pbz2': 3.958198458184799, 'exp16v6AugmixB4Step2_fold2.pbz2': 2.7314872361248783, 'exp16v6AugmixB4_fold2.pbz2': 2.9005759217660625, 'exp16v6AugmixB4_fold2_remove_background.pbz2': 3.9371907905538572, 'exp21b6_fold2_remove_background.pbz2': 0.004013152076439708}. Best is trial 12 with value: 0.8635842683073954.\u001b[0m\n",
      "\u001b[32m[I 2022-04-17 07:26:40,699]\u001b[0m Trial 13 finished with value: 0.8602324365625126 and parameters: {'exp16v6AugMixNew4_fold2.pbz2': 3.1920118072706924, 'exp16v6AugMixNew4_fold2_tta.pbz2': 3.859003472856743, 'exp16v6AugmixB3_fold2.pbz2': 3.366552017347462, 'exp16v6AugmixB4Full_fold2.pbz2': 3.0219506132036855, 'exp16v6AugmixB4Step2_fold2.pbz2': 2.9009509645062304, 'exp16v6AugmixB4_fold2.pbz2': 2.9465108668047764, 'exp16v6AugmixB4_fold2_remove_background.pbz2': 3.9657554649160622, 'exp21b6_fold2_remove_background.pbz2': 0.01819230734064972}. Best is trial 12 with value: 0.8635842683073954.\u001b[0m\n"
     ]
    },
    {
     "name": "stderr",
     "output_type": "stream",
     "text": [
      "\u001b[32m[I 2022-04-17 07:26:42,031]\u001b[0m Trial 14 finished with value: 0.8625487594000081 and parameters: {'exp16v6AugMixNew4_fold2.pbz2': 3.1476124182065934, 'exp16v6AugMixNew4_fold2_tta.pbz2': 3.9397647487473106, 'exp16v6AugmixB3_fold2.pbz2': 3.4215466664186582, 'exp16v6AugmixB4Full_fold2.pbz2': 2.9668927244745853, 'exp16v6AugmixB4Step2_fold2.pbz2': 2.7792413314979125, 'exp16v6AugmixB4_fold2.pbz2': 2.8610138523615722, 'exp16v6AugmixB4_fold2_remove_background.pbz2': 2.7791674634550008, 'exp21b6_fold2_remove_background.pbz2': 0.7498263423614198}. Best is trial 12 with value: 0.8635842683073954.\u001b[0m\n",
      "\u001b[32m[I 2022-04-17 07:26:43,361]\u001b[0m Trial 15 finished with value: 0.8608778702698355 and parameters: {'exp16v6AugMixNew4_fold2.pbz2': 3.156432990979086, 'exp16v6AugMixNew4_fold2_tta.pbz2': 3.3895072250911698, 'exp16v6AugmixB3_fold2.pbz2': 3.973419297271662, 'exp16v6AugmixB4Full_fold2.pbz2': 3.4659720385779593, 'exp16v6AugmixB4Step2_fold2.pbz2': 3.714388839136966, 'exp16v6AugmixB4_fold2.pbz2': 3.3842215127588258, 'exp16v6AugmixB4_fold2_remove_background.pbz2': 2.710191882784781, 'exp21b6_fold2_remove_background.pbz2': 0.6424374916279803}. Best is trial 12 with value: 0.8635842683073954.\u001b[0m\n",
      "\u001b[32m[I 2022-04-17 07:26:44,693]\u001b[0m Trial 16 finished with value: 0.8586580608839024 and parameters: {'exp16v6AugMixNew4_fold2.pbz2': 2.731451002407407, 'exp16v6AugMixNew4_fold2_tta.pbz2': 3.481938150206119, 'exp16v6AugmixB3_fold2.pbz2': 3.3460582690952414, 'exp16v6AugmixB4Full_fold2.pbz2': 2.4881637924505213, 'exp16v6AugmixB4Step2_fold2.pbz2': 2.6527668264012707, 'exp16v6AugmixB4_fold2.pbz2': 2.2217196166861997, 'exp16v6AugmixB4_fold2_remove_background.pbz2': 3.772665344982012, 'exp21b6_fold2_remove_background.pbz2': 1.4105746669501713}. Best is trial 12 with value: 0.8635842683073954.\u001b[0m\n",
      "\u001b[32m[I 2022-04-17 07:26:46,024]\u001b[0m Trial 17 finished with value: 0.8661378533799815 and parameters: {'exp16v6AugMixNew4_fold2.pbz2': 3.624384586133349, 'exp16v6AugMixNew4_fold2_tta.pbz2': 1.7882366676400248, 'exp16v6AugmixB3_fold2.pbz2': 2.286880789767303, 'exp16v6AugmixB4Full_fold2.pbz2': 3.9802073097417505, 'exp16v6AugmixB4Step2_fold2.pbz2': 1.90286421237052, 'exp16v6AugmixB4_fold2.pbz2': 2.6195245241318847, 'exp16v6AugmixB4_fold2_remove_background.pbz2': 1.591323057506353, 'exp21b6_fold2_remove_background.pbz2': 1.2136601422543296}. Best is trial 17 with value: 0.8661378533799815.\u001b[0m\n",
      "\u001b[32m[I 2022-04-17 07:26:47,353]\u001b[0m Trial 18 finished with value: 0.8679193308400692 and parameters: {'exp16v6AugMixNew4_fold2.pbz2': 3.545039774784218, 'exp16v6AugMixNew4_fold2_tta.pbz2': 1.65993335906489, 'exp16v6AugmixB3_fold2.pbz2': 0.9604064164775543, 'exp16v6AugmixB4Full_fold2.pbz2': 3.9411728254696428, 'exp16v6AugmixB4Step2_fold2.pbz2': 1.726901385493536, 'exp16v6AugmixB4_fold2.pbz2': 2.5094601171258923, 'exp16v6AugmixB4_fold2_remove_background.pbz2': 1.1234742753779021, 'exp21b6_fold2_remove_background.pbz2': 1.3587169540557136}. Best is trial 18 with value: 0.8679193308400692.\u001b[0m\n",
      "\u001b[32m[I 2022-04-17 07:26:48,687]\u001b[0m Trial 19 finished with value: 0.863696867334218 and parameters: {'exp16v6AugMixNew4_fold2.pbz2': 2.510719185695255, 'exp16v6AugMixNew4_fold2_tta.pbz2': 1.617463505723393, 'exp16v6AugmixB3_fold2.pbz2': 1.0158108136867847, 'exp16v6AugmixB4Full_fold2.pbz2': 2.347329097789552, 'exp16v6AugmixB4Step2_fold2.pbz2': 1.7108168725039454, 'exp16v6AugmixB4_fold2.pbz2': 2.4943328920571193, 'exp16v6AugmixB4_fold2_remove_background.pbz2': 1.216631859476709, 'exp21b6_fold2_remove_background.pbz2': 1.4603577190357186}. Best is trial 18 with value: 0.8679193308400692.\u001b[0m\n",
      "\u001b[32m[I 2022-04-17 07:26:50,018]\u001b[0m Trial 20 finished with value: 0.8661237785016287 and parameters: {'exp16v6AugMixNew4_fold2.pbz2': 3.464899335653971, 'exp16v6AugMixNew4_fold2_tta.pbz2': 1.576758714237754, 'exp16v6AugmixB3_fold2.pbz2': 2.0018845402782093, 'exp16v6AugmixB4Full_fold2.pbz2': 3.997194550317607, 'exp16v6AugmixB4Step2_fold2.pbz2': 0.6160554519135752, 'exp16v6AugmixB4_fold2.pbz2': 3.347219730277307, 'exp16v6AugmixB4_fold2_remove_background.pbz2': 0.8031740388090219, 'exp21b6_fold2_remove_background.pbz2': 1.1692351074960228}. Best is trial 18 with value: 0.8679193308400692.\u001b[0m\n",
      "\u001b[32m[I 2022-04-17 07:26:51,349]\u001b[0m Trial 21 finished with value: 0.8660232436562514 and parameters: {'exp16v6AugMixNew4_fold2.pbz2': 3.4751121000386562, 'exp16v6AugMixNew4_fold2_tta.pbz2': 1.5632936327065812, 'exp16v6AugmixB3_fold2.pbz2': 2.0034293608513822, 'exp16v6AugmixB4Full_fold2.pbz2': 3.9565795826605505, 'exp16v6AugmixB4Step2_fold2.pbz2': 0.6311965111170381, 'exp16v6AugmixB4_fold2.pbz2': 3.4397886789970684, 'exp16v6AugmixB4_fold2_remove_background.pbz2': 0.8279877452791313, 'exp21b6_fold2_remove_background.pbz2': 1.0964122306197983}. Best is trial 18 with value: 0.8679193308400692.\u001b[0m\n",
      "\u001b[32m[I 2022-04-17 07:26:52,674]\u001b[0m Trial 22 finished with value: 0.8646157558209676 and parameters: {'exp16v6AugMixNew4_fold2.pbz2': 3.5151320632887755, 'exp16v6AugMixNew4_fold2_tta.pbz2': 2.195459234747071, 'exp16v6AugmixB3_fold2.pbz2': 1.7972218684366066, 'exp16v6AugmixB4Full_fold2.pbz2': 3.284404888619658, 'exp16v6AugmixB4Step2_fold2.pbz2': 1.720414843011798, 'exp16v6AugmixB4_fold2.pbz2': 3.3736589564763206, 'exp16v6AugmixB4_fold2_remove_background.pbz2': 1.5661556704882225, 'exp21b6_fold2_remove_background.pbz2': 1.7484746615159201}. Best is trial 18 with value: 0.8679193308400692.\u001b[0m\n",
      "\u001b[32m[I 2022-04-17 07:26:54,004]\u001b[0m Trial 23 finished with value: 0.8677323360276673 and parameters: {'exp16v6AugMixNew4_fold2.pbz2': 2.735328978934065, 'exp16v6AugMixNew4_fold2_tta.pbz2': 1.5709137122838983, 'exp16v6AugmixB3_fold2.pbz2': 0.9253788734246404, 'exp16v6AugmixB4Full_fold2.pbz2': 3.6919792076732367, 'exp16v6AugmixB4Step2_fold2.pbz2': 0.7661998710051807, 'exp16v6AugmixB4_fold2.pbz2': 2.452025797974367, 'exp16v6AugmixB4_fold2_remove_background.pbz2': 0.7093828827756625, 'exp21b6_fold2_remove_background.pbz2': 1.1538822382622915}. Best is trial 18 with value: 0.8679193308400692.\u001b[0m\n",
      "\u001b[32m[I 2022-04-17 07:26:55,328]\u001b[0m Trial 24 finished with value: 0.8658603772067399 and parameters: {'exp16v6AugMixNew4_fold2.pbz2': 2.78123391620845, 'exp16v6AugMixNew4_fold2_tta.pbz2': 0.009867973640625749, 'exp16v6AugmixB3_fold2.pbz2': 0.7501081707548259, 'exp16v6AugmixB4Full_fold2.pbz2': 3.653328893562446, 'exp16v6AugmixB4Step2_fold2.pbz2': 1.611121285661547, 'exp16v6AugmixB4_fold2.pbz2': 2.4861913298595897, 'exp16v6AugmixB4_fold2_remove_background.pbz2': 0.6116377299788162, 'exp21b6_fold2_remove_background.pbz2': 0.5054461328596984}. Best is trial 18 with value: 0.8679193308400692.\u001b[0m\n",
      "\u001b[32m[I 2022-04-17 07:26:56,653]\u001b[0m Trial 25 finished with value: 0.8664595648851892 and parameters: {'exp16v6AugMixNew4_fold2.pbz2': 2.4488912471157116, 'exp16v6AugMixNew4_fold2_tta.pbz2': 2.047618041822891, 'exp16v6AugmixB3_fold2.pbz2': 1.1757494711027747, 'exp16v6AugmixB4Full_fold2.pbz2': 2.4722587126722635, 'exp16v6AugmixB4Step2_fold2.pbz2': 0.9758655048139467, 'exp16v6AugmixB4_fold2.pbz2': 1.6883344412693968, 'exp16v6AugmixB4_fold2_remove_background.pbz2': 1.3385507492328736, 'exp21b6_fold2_remove_background.pbz2': 1.7963051708929667}. Best is trial 18 with value: 0.8679193308400692.\u001b[0m\n",
      "\u001b[32m[I 2022-04-17 07:26:57,984]\u001b[0m Trial 26 finished with value: 0.8663509872521816 and parameters: {'exp16v6AugMixNew4_fold2.pbz2': 1.669507553833837, 'exp16v6AugMixNew4_fold2_tta.pbz2': 2.233940198171292, 'exp16v6AugmixB3_fold2.pbz2': 0.8880405513960373, 'exp16v6AugmixB4Full_fold2.pbz2': 2.5158959002667096, 'exp16v6AugmixB4Step2_fold2.pbz2': 1.036618233963725, 'exp16v6AugmixB4_fold2.pbz2': 1.5692191348376894, 'exp16v6AugmixB4_fold2_remove_background.pbz2': 1.159122723897405, 'exp21b6_fold2_remove_background.pbz2': 1.7507742086499485}. Best is trial 18 with value: 0.8679193308400692.\u001b[0m\n",
      "\u001b[32m[I 2022-04-17 07:26:59,313]\u001b[0m Trial 27 finished with value: 0.8668818112357742 and parameters: {'exp16v6AugMixNew4_fold2.pbz2': 2.4541318736212974, 'exp16v6AugMixNew4_fold2_tta.pbz2': 1.3636568579592798, 'exp16v6AugmixB3_fold2.pbz2': 1.3045919441663925, 'exp16v6AugmixB4Full_fold2.pbz2': 2.8007738092577577, 'exp16v6AugmixB4Step2_fold2.pbz2': 0.7094706013250782, 'exp16v6AugmixB4_fold2.pbz2': 2.1025400815015303, 'exp16v6AugmixB4_fold2_remove_background.pbz2': 0.5178217499600478, 'exp21b6_fold2_remove_background.pbz2': 1.83236187367932}. Best is trial 18 with value: 0.8679193308400692.\u001b[0m\n"
     ]
    },
    {
     "name": "stderr",
     "output_type": "stream",
     "text": [
      "\u001b[32m[I 2022-04-17 07:27:00,648]\u001b[0m Trial 28 finished with value: 0.8662303454377287 and parameters: {'exp16v6AugMixNew4_fold2.pbz2': 2.9455647739743953, 'exp16v6AugMixNew4_fold2_tta.pbz2': 0.6129349809120046, 'exp16v6AugmixB3_fold2.pbz2': 0.5924413736099018, 'exp16v6AugmixB4Full_fold2.pbz2': 3.159822766909959, 'exp16v6AugmixB4Step2_fold2.pbz2': 0.03271612594392981, 'exp16v6AugmixB4_fold2.pbz2': 2.0434787987208316, 'exp16v6AugmixB4_fold2_remove_background.pbz2': 0.49953717493743677, 'exp21b6_fold2_remove_background.pbz2': 2.2814838583665717}. Best is trial 18 with value: 0.8679193308400692.\u001b[0m\n",
      "\u001b[32m[I 2022-04-17 07:27:01,972]\u001b[0m Trial 29 finished with value: 0.8669361000522782 and parameters: {'exp16v6AugMixNew4_fold2.pbz2': 2.378577529020476, 'exp16v6AugMixNew4_fold2_tta.pbz2': 1.2956652198413707, 'exp16v6AugmixB3_fold2.pbz2': 1.5194980358246413, 'exp16v6AugmixB4Full_fold2.pbz2': 3.6697012998987057, 'exp16v6AugmixB4Step2_fold2.pbz2': 0.2876663100674042, 'exp16v6AugmixB4_fold2.pbz2': 2.089252506679771, 'exp16v6AugmixB4_fold2_remove_background.pbz2': 0.015833660688597817, 'exp21b6_fold2_remove_background.pbz2': 2.731762978971506}. Best is trial 18 with value: 0.8679193308400692.\u001b[0m\n",
      "\u001b[32m[I 2022-04-17 07:27:03,428]\u001b[0m Trial 30 finished with value: 0.8643764828889693 and parameters: {'exp16v6AugMixNew4_fold2.pbz2': 1.672277071067478, 'exp16v6AugMixNew4_fold2_tta.pbz2': 0.8499147308313821, 'exp16v6AugmixB3_fold2.pbz2': 1.5361599992793844, 'exp16v6AugmixB4Full_fold2.pbz2': 3.5783747293311707, 'exp16v6AugmixB4Step2_fold2.pbz2': 0.33074319438504807, 'exp16v6AugmixB4_fold2.pbz2': 1.2639552332543427, 'exp16v6AugmixB4_fold2_remove_background.pbz2': 0.12511690158605243, 'exp21b6_fold2_remove_background.pbz2': 3.0422339124138436}. Best is trial 18 with value: 0.8679193308400692.\u001b[0m\n",
      "\u001b[32m[I 2022-04-17 07:27:04,755]\u001b[0m Trial 31 finished with value: 0.8676700044235333 and parameters: {'exp16v6AugMixNew4_fold2.pbz2': 2.397434951116807, 'exp16v6AugMixNew4_fold2_tta.pbz2': 1.294709860304357, 'exp16v6AugmixB3_fold2.pbz2': 1.283316981706935, 'exp16v6AugmixB4Full_fold2.pbz2': 3.693597953167676, 'exp16v6AugmixB4Step2_fold2.pbz2': 0.6427897522785471, 'exp16v6AugmixB4_fold2.pbz2': 2.1750184622871336, 'exp16v6AugmixB4_fold2_remove_background.pbz2': 0.3155901243182182, 'exp21b6_fold2_remove_background.pbz2': 2.6172338617368003}. Best is trial 18 with value: 0.8679193308400692.\u001b[0m\n",
      "\u001b[32m[I 2022-04-17 07:27:06,078]\u001b[0m Trial 32 finished with value: 0.8643664294044318 and parameters: {'exp16v6AugMixNew4_fold2.pbz2': 1.3519094801487865, 'exp16v6AugMixNew4_fold2_tta.pbz2': 1.2142546241280237, 'exp16v6AugmixB3_fold2.pbz2': 0.3576057156271013, 'exp16v6AugmixB4Full_fold2.pbz2': 3.6456914962989675, 'exp16v6AugmixB4Step2_fold2.pbz2': 0.4268239121725863, 'exp16v6AugmixB4_fold2.pbz2': 2.365846585136072, 'exp16v6AugmixB4_fold2_remove_background.pbz2': 0.25489308787617604, 'exp21b6_fold2_remove_background.pbz2': 3.2854728755908917}. Best is trial 18 with value: 0.8679193308400692.\u001b[0m\n",
      "\u001b[32m[I 2022-04-17 07:27:07,410]\u001b[0m Trial 33 finished with value: 0.8644528893714563 and parameters: {'exp16v6AugMixNew4_fold2.pbz2': 1.9175838388976088, 'exp16v6AugMixNew4_fold2_tta.pbz2': 1.3684652314313621, 'exp16v6AugmixB3_fold2.pbz2': 1.6923585942979131, 'exp16v6AugmixB4Full_fold2.pbz2': 3.64925236641233, 'exp16v6AugmixB4Step2_fold2.pbz2': 0.07269099623997649, 'exp16v6AugmixB4_fold2.pbz2': 2.6678419409912753, 'exp16v6AugmixB4_fold2_remove_background.pbz2': 0.9283696108878249, 'exp21b6_fold2_remove_background.pbz2': 2.5967182379831115}. Best is trial 18 with value: 0.8679193308400692.\u001b[0m\n",
      "\u001b[32m[I 2022-04-17 07:27:08,738]\u001b[0m Trial 34 finished with value: 0.8648530180560583 and parameters: {'exp16v6AugMixNew4_fold2.pbz2': 2.2027329195303125, 'exp16v6AugMixNew4_fold2_tta.pbz2': 0.8440082257146113, 'exp16v6AugmixB3_fold2.pbz2': 1.0827357340373855, 'exp16v6AugmixB4Full_fold2.pbz2': 3.1486133900254414, 'exp16v6AugmixB4Step2_fold2.pbz2': 1.3748538884079884, 'exp16v6AugmixB4_fold2.pbz2': 1.8545278718871647, 'exp16v6AugmixB4_fold2_remove_background.pbz2': 0.014834251315336172, 'exp21b6_fold2_remove_background.pbz2': 3.390822067349668}. Best is trial 18 with value: 0.8679193308400692.\u001b[0m\n",
      "\u001b[32m[I 2022-04-17 07:27:10,069]\u001b[0m Trial 35 finished with value: 0.8670004423533196 and parameters: {'exp16v6AugMixNew4_fold2.pbz2': 2.7521758162482315, 'exp16v6AugMixNew4_fold2_tta.pbz2': 1.8469955076682019, 'exp16v6AugmixB3_fold2.pbz2': 0.7423427385785182, 'exp16v6AugmixB4Full_fold2.pbz2': 3.7727320269991895, 'exp16v6AugmixB4Step2_fold2.pbz2': 0.4600117207414897, 'exp16v6AugmixB4_fold2.pbz2': 2.244008868470302, 'exp16v6AugmixB4_fold2_remove_background.pbz2': 0.5253490786427537, 'exp21b6_fold2_remove_background.pbz2': 2.057047197896246}. Best is trial 18 with value: 0.8679193308400692.\u001b[0m\n",
      "\u001b[32m[I 2022-04-17 07:27:11,399]\u001b[0m Trial 36 finished with value: 0.8669240358708329 and parameters: {'exp16v6AugMixNew4_fold2.pbz2': 2.741705757647542, 'exp16v6AugMixNew4_fold2_tta.pbz2': 2.4442378607557673, 'exp16v6AugmixB3_fold2.pbz2': 0.7435497292781962, 'exp16v6AugmixB4Full_fold2.pbz2': 3.3768237439583815, 'exp16v6AugmixB4Step2_fold2.pbz2': 1.176946095123533, 'exp16v6AugmixB4_fold2.pbz2': 2.3348826361670483, 'exp16v6AugmixB4_fold2_remove_background.pbz2': 0.389192964167957, 'exp21b6_fold2_remove_background.pbz2': 2.0153461892375435}. Best is trial 18 with value: 0.8679193308400692.\u001b[0m\n",
      "\u001b[32m[I 2022-04-17 07:27:12,734]\u001b[0m Trial 37 finished with value: 0.8614448867977641 and parameters: {'exp16v6AugMixNew4_fold2.pbz2': 3.008697164498382, 'exp16v6AugMixNew4_fold2_tta.pbz2': 1.8471233075815483, 'exp16v6AugmixB3_fold2.pbz2': 0.36718341015358946, 'exp16v6AugmixB4Full_fold2.pbz2': 2.112102079830131, 'exp16v6AugmixB4Step2_fold2.pbz2': 0.7693426414951705, 'exp16v6AugmixB4_fold2.pbz2': 1.5649961021529535, 'exp16v6AugmixB4_fold2_remove_background.pbz2': 0.9514428124500014, 'exp21b6_fold2_remove_background.pbz2': 3.9712045729325505}. Best is trial 18 with value: 0.8679193308400692.\u001b[0m\n",
      "\u001b[32m[I 2022-04-17 07:27:14,082]\u001b[0m Trial 38 finished with value: 0.8655547512767925 and parameters: {'exp16v6AugMixNew4_fold2.pbz2': 3.2947969591729285, 'exp16v6AugMixNew4_fold2_tta.pbz2': 1.9872950088879509, 'exp16v6AugmixB3_fold2.pbz2': 0.5745408248273457, 'exp16v6AugmixB4Full_fold2.pbz2': 3.7426252200690735, 'exp16v6AugmixB4Step2_fold2.pbz2': 0.5439822101199749, 'exp16v6AugmixB4_fold2.pbz2': 1.8788397114821695, 'exp16v6AugmixB4_fold2_remove_background.pbz2': 0.6842730334307463, 'exp21b6_fold2_remove_background.pbz2': 2.4701880267791445}. Best is trial 18 with value: 0.8679193308400692.\u001b[0m\n",
      "\u001b[32m[I 2022-04-17 07:27:15,427]\u001b[0m Trial 39 finished with value: 0.8596915590943821 and parameters: {'exp16v6AugMixNew4_fold2.pbz2': 1.4152894407493426, 'exp16v6AugMixNew4_fold2_tta.pbz2': 1.0096438274285016, 'exp16v6AugmixB3_fold2.pbz2': 0.8993306828083962, 'exp16v6AugmixB4Full_fold2.pbz2': 2.8045472532859916, 'exp16v6AugmixB4Step2_fold2.pbz2': 2.2365391534818704, 'exp16v6AugmixB4_fold2.pbz2': 3.1510593113677827, 'exp16v6AugmixB4_fold2_remove_background.pbz2': 0.2821140333840507, 'exp21b6_fold2_remove_background.pbz2': 1.531003595454528}. Best is trial 18 with value: 0.8679193308400692.\u001b[0m\n",
      "\u001b[32m[I 2022-04-17 07:27:16,754]\u001b[0m Trial 40 finished with value: 0.8585193227972816 and parameters: {'exp16v6AugMixNew4_fold2.pbz2': 2.9156988341133987, 'exp16v6AugMixNew4_fold2_tta.pbz2': 1.7029332943993658, 'exp16v6AugmixB3_fold2.pbz2': 1.348715837252539, 'exp16v6AugmixB4Full_fold2.pbz2': 0.8425008895855406, 'exp16v6AugmixB4Step2_fold2.pbz2': 1.413708862409279, 'exp16v6AugmixB4_fold2.pbz2': 1.3863986075425132, 'exp16v6AugmixB4_fold2_remove_background.pbz2': 1.9810844263490972, 'exp21b6_fold2_remove_background.pbz2': 2.1775721628352187}. Best is trial 18 with value: 0.8679193308400692.\u001b[0m\n",
      "\u001b[32m[I 2022-04-17 07:27:18,081]\u001b[0m Trial 41 finished with value: 0.8672296618007802 and parameters: {'exp16v6AugMixNew4_fold2.pbz2': 2.3091910535921376, 'exp16v6AugMixNew4_fold2_tta.pbz2': 1.3808740315713757, 'exp16v6AugmixB3_fold2.pbz2': 1.5363266864185765, 'exp16v6AugmixB4Full_fold2.pbz2': 3.7711730165934174, 'exp16v6AugmixB4Step2_fold2.pbz2': 0.260933322214704, 'exp16v6AugmixB4_fold2.pbz2': 2.13658353576353, 'exp16v6AugmixB4_fold2_remove_background.pbz2': 0.32666720886946193, 'exp21b6_fold2_remove_background.pbz2': 2.671836829508668}. Best is trial 18 with value: 0.8679193308400692.\u001b[0m\n"
     ]
    },
    {
     "name": "stderr",
     "output_type": "stream",
     "text": [
      "\u001b[32m[I 2022-04-17 07:27:19,410]\u001b[0m Trial 42 finished with value: 0.8656452326376322 and parameters: {'exp16v6AugMixNew4_fold2.pbz2': 2.262422715766788, 'exp16v6AugMixNew4_fold2_tta.pbz2': 1.4221559215086563, 'exp16v6AugmixB3_fold2.pbz2': 1.1518169019359825, 'exp16v6AugmixB4Full_fold2.pbz2': 3.7990847580046876, 'exp16v6AugmixB4Step2_fold2.pbz2': 0.1832375435722079, 'exp16v6AugmixB4_fold2.pbz2': 2.215544837174834, 'exp16v6AugmixB4_fold2_remove_background.pbz2': 1.0549005635474782, 'exp21b6_fold2_remove_background.pbz2': 3.05303558448017}. Best is trial 18 with value: 0.8679193308400692.\u001b[0m\n",
      "\u001b[32m[I 2022-04-17 07:27:20,766]\u001b[0m Trial 43 finished with value: 0.8668456186914385 and parameters: {'exp16v6AugMixNew4_fold2.pbz2': 2.6041219258363304, 'exp16v6AugMixNew4_fold2_tta.pbz2': 2.903978197952867, 'exp16v6AugmixB3_fold2.pbz2': 0.8548225607477443, 'exp16v6AugmixB4Full_fold2.pbz2': 3.470812582581323, 'exp16v6AugmixB4Step2_fold2.pbz2': 0.8993468074731816, 'exp16v6AugmixB4_fold2.pbz2': 2.688837882698156, 'exp16v6AugmixB4_fold2_remove_background.pbz2': 0.6789011499364512, 'exp21b6_fold2_remove_background.pbz2': 2.0920432202405816}. Best is trial 18 with value: 0.8679193308400692.\u001b[0m\n",
      "\u001b[32m[I 2022-04-17 07:27:22,091]\u001b[0m Trial 44 finished with value: 0.859936864117103 and parameters: {'exp16v6AugMixNew4_fold2.pbz2': 1.910172201667562, 'exp16v6AugMixNew4_fold2_tta.pbz2': 1.936417236719217, 'exp16v6AugmixB3_fold2.pbz2': 0.13934733088627815, 'exp16v6AugmixB4Full_fold2.pbz2': 1.1026898545930908, 'exp16v6AugmixB4Step2_fold2.pbz2': 0.44536918101157796, 'exp16v6AugmixB4_fold2.pbz2': 2.467154264649579, 'exp16v6AugmixB4_fold2_remove_background.pbz2': 0.28637151040760545, 'exp21b6_fold2_remove_background.pbz2': 2.495592773862862}. Best is trial 18 with value: 0.8679193308400692.\u001b[0m\n",
      "\u001b[32m[I 2022-04-17 07:27:23,421]\u001b[0m Trial 45 finished with value: 0.8642417661961637 and parameters: {'exp16v6AugMixNew4_fold2.pbz2': 0.6281825790471611, 'exp16v6AugMixNew4_fold2_tta.pbz2': 0.9965819259318225, 'exp16v6AugmixB3_fold2.pbz2': 1.3361394233535133, 'exp16v6AugmixB4Full_fold2.pbz2': 3.214207514859532, 'exp16v6AugmixB4Step2_fold2.pbz2': 1.137143345968602, 'exp16v6AugmixB4_fold2.pbz2': 1.8547657588445265, 'exp16v6AugmixB4_fold2_remove_background.pbz2': 0.4916768716588642, 'exp21b6_fold2_remove_background.pbz2': 0.9212538446420067}. Best is trial 18 with value: 0.8679193308400692.\u001b[0m\n",
      "\u001b[32m[I 2022-04-17 07:27:24,749]\u001b[0m Trial 46 finished with value: 0.8663429444645515 and parameters: {'exp16v6AugMixNew4_fold2.pbz2': 3.776600464440602, 'exp16v6AugMixNew4_fold2_tta.pbz2': 2.4333742967705714, 'exp16v6AugmixB3_fold2.pbz2': 1.8110526239560691, 'exp16v6AugmixB4Full_fold2.pbz2': 3.8123822780643346, 'exp16v6AugmixB4Step2_fold2.pbz2': 0.787849747559557, 'exp16v6AugmixB4_fold2.pbz2': 2.2510877901481137, 'exp16v6AugmixB4_fold2_remove_background.pbz2': 1.3665108780486803, 'exp21b6_fold2_remove_background.pbz2': 2.7461306388765765}. Best is trial 18 with value: 0.8679193308400692.\u001b[0m\n",
      "\u001b[32m[I 2022-04-17 07:27:26,076]\u001b[0m Trial 47 finished with value: 0.8555414806772027 and parameters: {'exp16v6AugMixNew4_fold2.pbz2': 2.625578761068387, 'exp16v6AugMixNew4_fold2_tta.pbz2': 0.6346124212174173, 'exp16v6AugmixB3_fold2.pbz2': 0.6046607589301147, 'exp16v6AugmixB4Full_fold2.pbz2': 0.4798763123552998, 'exp16v6AugmixB4Step2_fold2.pbz2': 0.203157392131049, 'exp16v6AugmixB4_fold2.pbz2': 1.9822457548419716, 'exp16v6AugmixB4_fold2_remove_background.pbz2': 0.7491887811083704, 'exp21b6_fold2_remove_background.pbz2': 2.271616425944178}. Best is trial 18 with value: 0.8679193308400692.\u001b[0m\n",
      "\u001b[32m[I 2022-04-17 07:27:27,402]\u001b[0m Trial 48 finished with value: 0.8650902802911491 and parameters: {'exp16v6AugMixNew4_fold2.pbz2': 2.2987780877236377, 'exp16v6AugMixNew4_fold2_tta.pbz2': 1.4794258951252504, 'exp16v6AugmixB3_fold2.pbz2': 2.229669474439451, 'exp16v6AugmixB4Full_fold2.pbz2': 3.4677000959641857, 'exp16v6AugmixB4Step2_fold2.pbz2': 0.5122020810993216, 'exp16v6AugmixB4_fold2.pbz2': 0.4908300990184147, 'exp16v6AugmixB4_fold2_remove_background.pbz2': 0.18246919136227674, 'exp21b6_fold2_remove_background.pbz2': 1.561219604007307}. Best is trial 18 with value: 0.8679193308400692.\u001b[0m\n",
      "\u001b[32m[I 2022-04-17 07:27:28,733]\u001b[0m Trial 49 finished with value: 0.8669823460811518 and parameters: {'exp16v6AugMixNew4_fold2.pbz2': 2.142375234238841, 'exp16v6AugMixNew4_fold2_tta.pbz2': 1.199671567058986, 'exp16v6AugmixB3_fold2.pbz2': 1.4217211261097866, 'exp16v6AugmixB4Full_fold2.pbz2': 3.8414463135115575, 'exp16v6AugmixB4Step2_fold2.pbz2': 0.02745482184034176, 'exp16v6AugmixB4_fold2.pbz2': 2.7706629764634583, 'exp16v6AugmixB4_fold2_remove_background.pbz2': 0.42126789124633823, 'exp21b6_fold2_remove_background.pbz2': 1.2714291635139254}. Best is trial 18 with value: 0.8679193308400692.\u001b[0m\n",
      "\u001b[32m[I 2022-04-17 07:27:30,057]\u001b[0m Trial 50 finished with value: 0.8666224313347006 and parameters: {'exp16v6AugMixNew4_fold2.pbz2': 3.3364703863680725, 'exp16v6AugMixNew4_fold2_tta.pbz2': 1.7449676996913013, 'exp16v6AugmixB3_fold2.pbz2': 0.9978718117715972, 'exp16v6AugmixB4Full_fold2.pbz2': 3.4922611811498, 'exp16v6AugmixB4Step2_fold2.pbz2': 0.8739523954449355, 'exp16v6AugmixB4_fold2.pbz2': 3.099591117534388, 'exp16v6AugmixB4_fold2_remove_background.pbz2': 0.9821666543552408, 'exp21b6_fold2_remove_background.pbz2': 1.9606574014051477}. Best is trial 18 with value: 0.8679193308400692.\u001b[0m\n",
      "\u001b[32m[I 2022-04-17 07:27:31,423]\u001b[0m Trial 51 finished with value: 0.8666686773635743 and parameters: {'exp16v6AugMixNew4_fold2.pbz2': 2.097211554466164, 'exp16v6AugMixNew4_fold2_tta.pbz2': 1.2648744543054318, 'exp16v6AugmixB3_fold2.pbz2': 1.430010644443502, 'exp16v6AugmixB4Full_fold2.pbz2': 3.8086564586230924, 'exp16v6AugmixB4Step2_fold2.pbz2': 0.03644018248065872, 'exp16v6AugmixB4_fold2.pbz2': 2.7029221963131174, 'exp16v6AugmixB4_fold2_remove_background.pbz2': 0.40953024867056054, 'exp21b6_fold2_remove_background.pbz2': 0.9217103761185338}. Best is trial 18 with value: 0.8679193308400692.\u001b[0m\n",
      "\u001b[32m[I 2022-04-17 07:27:32,749]\u001b[0m Trial 52 finished with value: 0.8667470945429686 and parameters: {'exp16v6AugMixNew4_fold2.pbz2': 2.0026691659495373, 'exp16v6AugMixNew4_fold2_tta.pbz2': 1.1033383685397837, 'exp16v6AugmixB3_fold2.pbz2': 1.680082510814754, 'exp16v6AugmixB4Full_fold2.pbz2': 3.8220357956471327, 'exp16v6AugmixB4Step2_fold2.pbz2': 0.2577239835411462, 'exp16v6AugmixB4_fold2.pbz2': 2.518800056743881, 'exp16v6AugmixB4_fold2_remove_background.pbz2': 0.5889931955492469, 'exp21b6_fold2_remove_background.pbz2': 1.3348327952621069}. Best is trial 18 with value: 0.8679193308400692.\u001b[0m\n",
      "\u001b[32m[I 2022-04-17 07:27:34,082]\u001b[0m Trial 53 finished with value: 0.8670527204729159 and parameters: {'exp16v6AugMixNew4_fold2.pbz2': 3.0599322693854805, 'exp16v6AugMixNew4_fold2_tta.pbz2': 1.6931623392780009, 'exp16v6AugmixB3_fold2.pbz2': 1.1743156565577038, 'exp16v6AugmixB4Full_fold2.pbz2': 3.3067496339314193, 'exp16v6AugmixB4Step2_fold2.pbz2': 2.030736232020466, 'exp16v6AugmixB4_fold2.pbz2': 2.84593379126111, 'exp16v6AugmixB4_fold2_remove_background.pbz2': 0.37173107953144763, 'exp21b6_fold2_remove_background.pbz2': 1.6137204737513482}. Best is trial 18 with value: 0.8679193308400692.\u001b[0m\n",
      "\u001b[32m[I 2022-04-17 07:27:35,409]\u001b[0m Trial 54 finished with value: 0.8662946877387703 and parameters: {'exp16v6AugMixNew4_fold2.pbz2': 3.078315512640301, 'exp16v6AugMixNew4_fold2_tta.pbz2': 1.5435153666798895, 'exp16v6AugmixB3_fold2.pbz2': 1.2130327929351425, 'exp16v6AugmixB4Full_fold2.pbz2': 3.3218855636186415, 'exp16v6AugmixB4Step2_fold2.pbz2': 2.414773750130853, 'exp16v6AugmixB4_fold2.pbz2': 3.1243876033488363, 'exp16v6AugmixB4_fold2_remove_background.pbz2': 0.17707898290945798, 'exp21b6_fold2_remove_background.pbz2': 1.6514758875456206}. Best is trial 18 with value: 0.8679193308400692.\u001b[0m\n",
      "\u001b[32m[I 2022-04-17 07:27:36,870]\u001b[0m Trial 55 finished with value: 0.8666284634254232 and parameters: {'exp16v6AugMixNew4_fold2.pbz2': 2.832030399432968, 'exp16v6AugMixNew4_fold2_tta.pbz2': 2.0826941289258927, 'exp16v6AugmixB3_fold2.pbz2': 0.7414363693022537, 'exp16v6AugmixB4Full_fold2.pbz2': 3.0979035118651055, 'exp16v6AugmixB4Step2_fold2.pbz2': 2.0344310011915505, 'exp16v6AugmixB4_fold2.pbz2': 2.3583532902542608, 'exp16v6AugmixB4_fold2_remove_background.pbz2': 0.861741082498027, 'exp21b6_fold2_remove_background.pbz2': 1.1056579762950467}. Best is trial 18 with value: 0.8679193308400692.\u001b[0m\n"
     ]
    },
    {
     "name": "stderr",
     "output_type": "stream",
     "text": [
      "\u001b[32m[I 2022-04-17 07:27:38,217]\u001b[0m Trial 56 finished with value: 0.8591567137169742 and parameters: {'exp16v6AugMixNew4_fold2.pbz2': 3.708564310929766, 'exp16v6AugMixNew4_fold2_tta.pbz2': 1.8687527424328672, 'exp16v6AugmixB3_fold2.pbz2': 1.0614261226272785, 'exp16v6AugmixB4Full_fold2.pbz2': 1.7462025959419532, 'exp16v6AugmixB4Step2_fold2.pbz2': 2.080163650017245, 'exp16v6AugmixB4_fold2.pbz2': 3.703210860645207, 'exp16v6AugmixB4_fold2_remove_background.pbz2': 0.6524602607919043, 'exp21b6_fold2_remove_background.pbz2': 3.7716614985875436}. Best is trial 18 with value: 0.8679193308400692.\u001b[0m\n",
      "\u001b[32m[I 2022-04-17 07:27:39,542]\u001b[0m Trial 57 finished with value: 0.8638516909960993 and parameters: {'exp16v6AugMixNew4_fold2.pbz2': 2.592266788376955, 'exp16v6AugMixNew4_fold2_tta.pbz2': 1.686172024350981, 'exp16v6AugmixB3_fold2.pbz2': 0.47115928790676165, 'exp16v6AugmixB4Full_fold2.pbz2': 3.5363081216716408, 'exp16v6AugmixB4Step2_fold2.pbz2': 1.5452707838815078, 'exp16v6AugmixB4_fold2.pbz2': 2.576662705736832, 'exp16v6AugmixB4_fold2_remove_background.pbz2': 2.424835120439974, 'exp21b6_fold2_remove_background.pbz2': 0.7672684205954734}. Best is trial 18 with value: 0.8679193308400692.\u001b[0m\n",
      "\u001b[32m[I 2022-04-17 07:27:40,885]\u001b[0m Trial 58 finished with value: 0.8673704105843084 and parameters: {'exp16v6AugMixNew4_fold2.pbz2': 3.2095172142254094, 'exp16v6AugMixNew4_fold2_tta.pbz2': 2.1151066458972188, 'exp16v6AugmixB3_fold2.pbz2': 0.23327745486604812, 'exp16v6AugmixB4Full_fold2.pbz2': 3.979485393101785, 'exp16v6AugmixB4Step2_fold2.pbz2': 1.857224150034859, 'exp16v6AugmixB4_fold2.pbz2': 2.8450471115713474, 'exp16v6AugmixB4_fold2_remove_background.pbz2': 1.137525970946625, 'exp21b6_fold2_remove_background.pbz2': 1.8914107009103724}. Best is trial 18 with value: 0.8679193308400692.\u001b[0m\n",
      "\u001b[32m[I 2022-04-17 07:27:42,256]\u001b[0m Trial 59 finished with value: 0.8660916073511079 and parameters: {'exp16v6AugMixNew4_fold2.pbz2': 3.2695091524730016, 'exp16v6AugMixNew4_fold2_tta.pbz2': 2.390489702479533, 'exp16v6AugmixB3_fold2.pbz2': 1.82465546233256, 'exp16v6AugmixB4Full_fold2.pbz2': 3.98920160423372, 'exp16v6AugmixB4Step2_fold2.pbz2': 1.8405084330741377, 'exp16v6AugmixB4_fold2.pbz2': 2.8523726506523417, 'exp16v6AugmixB4_fold2_remove_background.pbz2': 1.8158806426387257, 'exp21b6_fold2_remove_background.pbz2': 1.6320150905609663}. Best is trial 18 with value: 0.8679193308400692.\u001b[0m\n",
      "\u001b[32m[I 2022-04-17 07:27:43,591]\u001b[0m Trial 60 finished with value: 0.8639441830538465 and parameters: {'exp16v6AugMixNew4_fold2.pbz2': 3.4116196785281363, 'exp16v6AugMixNew4_fold2_tta.pbz2': 2.105386146320991, 'exp16v6AugmixB3_fold2.pbz2': 0.16957360272525723, 'exp16v6AugmixB4Full_fold2.pbz2': 2.9597343485525767, 'exp16v6AugmixB4Step2_fold2.pbz2': 2.4250712885872647, 'exp16v6AugmixB4_fold2.pbz2': 2.9995457828069956, 'exp16v6AugmixB4_fold2_remove_background.pbz2': 1.433476767036263, 'exp21b6_fold2_remove_background.pbz2': 2.9555681512275807}. Best is trial 18 with value: 0.8679193308400692.\u001b[0m\n",
      "\u001b[32m[I 2022-04-17 07:27:44,921]\u001b[0m Trial 61 finished with value: 0.8663932118872401 and parameters: {'exp16v6AugMixNew4_fold2.pbz2': 3.119276657863954, 'exp16v6AugMixNew4_fold2_tta.pbz2': 2.6679314382698727, 'exp16v6AugmixB3_fold2.pbz2': 0.28281724164407573, 'exp16v6AugmixB4Full_fold2.pbz2': 3.7099636656940445, 'exp16v6AugmixB4Step2_fold2.pbz2': 1.5743852650907932, 'exp16v6AugmixB4_fold2.pbz2': 2.168649252334011, 'exp16v6AugmixB4_fold2_remove_background.pbz2': 1.1453092522321566, 'exp21b6_fold2_remove_background.pbz2': 2.6412282615285414}. Best is trial 18 with value: 0.8679193308400692.\u001b[0m\n",
      "\u001b[32m[I 2022-04-17 07:27:46,248]\u001b[0m Trial 62 finished with value: 0.8665641211243817 and parameters: {'exp16v6AugMixNew4_fold2.pbz2': 2.8612787948025926, 'exp16v6AugMixNew4_fold2_tta.pbz2': 1.4628438861769193, 'exp16v6AugmixB3_fold2.pbz2': 0.045684619434782525, 'exp16v6AugmixB4Full_fold2.pbz2': 3.8911481496521567, 'exp16v6AugmixB4Step2_fold2.pbz2': 3.3245163043539496, 'exp16v6AugmixB4_fold2.pbz2': 2.408910108459268, 'exp16v6AugmixB4_fold2_remove_background.pbz2': 0.8203432984809185, 'exp21b6_fold2_remove_background.pbz2': 1.866584360955568}. Best is trial 18 with value: 0.8679193308400692.\u001b[0m\n",
      "\u001b[32m[I 2022-04-17 07:27:47,580]\u001b[0m Trial 63 finished with value: 0.8677041862709616 and parameters: {'exp16v6AugMixNew4_fold2.pbz2': 2.745324081137581, 'exp16v6AugMixNew4_fold2_tta.pbz2': 1.6198604281233087, 'exp16v6AugmixB3_fold2.pbz2': 0.9531571332433474, 'exp16v6AugmixB4Full_fold2.pbz2': 3.32287265011478, 'exp16v6AugmixB4Step2_fold2.pbz2': 1.8704649481147193, 'exp16v6AugmixB4_fold2.pbz2': 1.9976080688037354, 'exp16v6AugmixB4_fold2_remove_background.pbz2': 0.32912122184276643, 'exp21b6_fold2_remove_background.pbz2': 2.4210127239469794}. Best is trial 18 with value: 0.8679193308400692.\u001b[0m\n",
      "\u001b[32m[I 2022-04-17 07:27:48,911]\u001b[0m Trial 64 finished with value: 0.8666847629388347 and parameters: {'exp16v6AugMixNew4_fold2.pbz2': 3.6118304172873863, 'exp16v6AugMixNew4_fold2_tta.pbz2': 1.6134285626147864, 'exp16v6AugmixB3_fold2.pbz2': 0.9643138156965618, 'exp16v6AugmixB4Full_fold2.pbz2': 3.322190130606374, 'exp16v6AugmixB4Step2_fold2.pbz2': 1.7844040689998246, 'exp16v6AugmixB4_fold2.pbz2': 1.7469425871687063, 'exp16v6AugmixB4_fold2_remove_background.pbz2': 0.354399701076664, 'exp21b6_fold2_remove_background.pbz2': 2.4115612307776857}. Best is trial 18 with value: 0.8679193308400692.\u001b[0m\n",
      "\u001b[32m[I 2022-04-17 07:27:50,239]\u001b[0m Trial 65 finished with value: 0.8644267503116579 and parameters: {'exp16v6AugMixNew4_fold2.pbz2': 2.5423862977712397, 'exp16v6AugMixNew4_fold2_tta.pbz2': 1.7174842220259259, 'exp16v6AugmixB3_fold2.pbz2': 1.2343597682612895, 'exp16v6AugmixB4Full_fold2.pbz2': 2.6944673917004596, 'exp16v6AugmixB4Step2_fold2.pbz2': 1.924937884391748, 'exp16v6AugmixB4_fold2.pbz2': 1.973552892639014, 'exp16v6AugmixB4_fold2_remove_background.pbz2': 0.10419694647831576, 'exp21b6_fold2_remove_background.pbz2': 3.2053065969680503}. Best is trial 18 with value: 0.8679193308400692.\u001b[0m\n",
      "\u001b[32m[I 2022-04-17 07:27:51,572]\u001b[0m Trial 66 finished with value: 0.8661700245305022 and parameters: {'exp16v6AugMixNew4_fold2.pbz2': 2.370457249307094, 'exp16v6AugMixNew4_fold2_tta.pbz2': 2.318871992060396, 'exp16v6AugmixB3_fold2.pbz2': 1.6238133848310874, 'exp16v6AugmixB4Full_fold2.pbz2': 3.585962637643044, 'exp16v6AugmixB4Step2_fold2.pbz2': 2.1193919277296445, 'exp16v6AugmixB4_fold2.pbz2': 2.7623935991370834, 'exp16v6AugmixB4_fold2_remove_background.pbz2': 1.0686541351262329, 'exp21b6_fold2_remove_background.pbz2': 1.4462908339664635}. Best is trial 18 with value: 0.8679193308400692.\u001b[0m\n",
      "\u001b[32m[I 2022-04-17 07:27:52,912]\u001b[0m Trial 67 finished with value: 0.8645634777013713 and parameters: {'exp16v6AugMixNew4_fold2.pbz2': 3.0103140979807135, 'exp16v6AugMixNew4_fold2_tta.pbz2': 1.3124249761588584, 'exp16v6AugmixB3_fold2.pbz2': 1.4612372130939417, 'exp16v6AugmixB4Full_fold2.pbz2': 3.441374106552576, 'exp16v6AugmixB4Step2_fold2.pbz2': 1.4611218700511723, 'exp16v6AugmixB4_fold2.pbz2': 2.5767639693453135, 'exp16v6AugmixB4_fold2_remove_background.pbz2': 1.3006508294661256, 'exp21b6_fold2_remove_background.pbz2': 2.3362308582684785}. Best is trial 18 with value: 0.8679193308400692.\u001b[0m\n",
      "\u001b[32m[I 2022-04-17 07:27:54,239]\u001b[0m Trial 68 finished with value: 0.862050106566936 and parameters: {'exp16v6AugMixNew4_fold2.pbz2': 3.8559945204934793, 'exp16v6AugMixNew4_fold2_tta.pbz2': 0.9101706312248545, 'exp16v6AugmixB3_fold2.pbz2': 1.1056684931553913, 'exp16v6AugmixB4Full_fold2.pbz2': 3.258812328138041, 'exp16v6AugmixB4Step2_fold2.pbz2': 3.023644198248984, 'exp16v6AugmixB4_fold2.pbz2': 3.033871267619212, 'exp16v6AugmixB4_fold2_remove_background.pbz2': 1.594426305779442, 'exp21b6_fold2_remove_background.pbz2': 2.1893576464009747}. Best is trial 18 with value: 0.8679193308400692.\u001b[0m\n",
      "\u001b[32m[I 2022-04-17 07:27:55,562]\u001b[0m Trial 69 finished with value: 0.8669039289017573 and parameters: {'exp16v6AugMixNew4_fold2.pbz2': 3.1823288706885124, 'exp16v6AugMixNew4_fold2_tta.pbz2': 1.9841785553742601, 'exp16v6AugmixB3_fold2.pbz2': 0.5266563938687755, 'exp16v6AugmixB4Full_fold2.pbz2': 3.6080765929554937, 'exp16v6AugmixB4Step2_fold2.pbz2': 2.300754537994758, 'exp16v6AugmixB4_fold2.pbz2': 1.6502249163999276, 'exp16v6AugmixB4_fold2_remove_background.pbz2': 0.23440567476331797, 'exp21b6_fold2_remove_background.pbz2': 2.889742386194084}. Best is trial 18 with value: 0.8679193308400692.\u001b[0m\n"
     ]
    },
    {
     "name": "stderr",
     "output_type": "stream",
     "text": [
      "\u001b[32m[I 2022-04-17 07:27:56,889]\u001b[0m Trial 70 finished with value: 0.866224313347006 and parameters: {'exp16v6AugMixNew4_fold2.pbz2': 2.6560176704746934, 'exp16v6AugMixNew4_fold2_tta.pbz2': 1.528685217403399, 'exp16v6AugmixB3_fold2.pbz2': 2.8009701847497617, 'exp16v6AugmixB4Full_fold2.pbz2': 3.88818904239755, 'exp16v6AugmixB4Step2_fold2.pbz2': 1.9754703870167187, 'exp16v6AugmixB4_fold2.pbz2': 2.1306250854494477, 'exp16v6AugmixB4_fold2_remove_background.pbz2': 0.7268465497633729, 'exp21b6_fold2_remove_background.pbz2': 1.884271331332857}. Best is trial 18 with value: 0.8679193308400692.\u001b[0m\n",
      "\u001b[32m[I 2022-04-17 07:27:58,214]\u001b[0m Trial 71 finished with value: 0.8666204206377931 and parameters: {'exp16v6AugMixNew4_fold2.pbz2': 2.9612927860254614, 'exp16v6AugMixNew4_fold2_tta.pbz2': 1.824044866868554, 'exp16v6AugmixB3_fold2.pbz2': 0.7123595755112514, 'exp16v6AugmixB4Full_fold2.pbz2': 3.723380131736141, 'exp16v6AugmixB4Step2_fold2.pbz2': 0.6472664257935328, 'exp16v6AugmixB4_fold2.pbz2': 2.2763308435633234, 'exp16v6AugmixB4_fold2_remove_background.pbz2': 0.5398479816075454, 'exp21b6_fold2_remove_background.pbz2': 2.558173930782799}. Best is trial 18 with value: 0.8679193308400692.\u001b[0m\n",
      "\u001b[32m[I 2022-04-17 07:27:59,543]\u001b[0m Trial 72 finished with value: 0.8673925282502916 and parameters: {'exp16v6AugMixNew4_fold2.pbz2': 2.753989741077619, 'exp16v6AugMixNew4_fold2_tta.pbz2': 2.1266711608553, 'exp16v6AugmixB3_fold2.pbz2': 0.865928478430576, 'exp16v6AugmixB4Full_fold2.pbz2': 3.6995250332176894, 'exp16v6AugmixB4Step2_fold2.pbz2': 1.0845926127816872, 'exp16v6AugmixB4_fold2.pbz2': 2.3211300673273607, 'exp16v6AugmixB4_fold2_remove_background.pbz2': 0.4793141056845767, 'exp21b6_fold2_remove_background.pbz2': 2.1180542968089955}. Best is trial 18 with value: 0.8679193308400692.\u001b[0m\n",
      "\u001b[32m[I 2022-04-17 07:28:00,868]\u001b[0m Trial 73 finished with value: 0.8680198656854466 and parameters: {'exp16v6AugMixNew4_fold2.pbz2': 2.4439947304937224, 'exp16v6AugMixNew4_fold2_tta.pbz2': 2.2076974998899486, 'exp16v6AugmixB3_fold2.pbz2': 0.8804137091310763, 'exp16v6AugmixB4Full_fold2.pbz2': 3.9791792332017306, 'exp16v6AugmixB4Step2_fold2.pbz2': 1.7022005308244739, 'exp16v6AugmixB4_fold2.pbz2': 2.8595703846001284, 'exp16v6AugmixB4_fold2_remove_background.pbz2': 0.4011168618322354, 'exp21b6_fold2_remove_background.pbz2': 2.1742873123463724}. Best is trial 73 with value: 0.8680198656854466.\u001b[0m\n",
      "\u001b[32m[I 2022-04-17 07:28:02,196]\u001b[0m Trial 74 finished with value: 0.8679454698998672 and parameters: {'exp16v6AugMixNew4_fold2.pbz2': 2.4085176841870775, 'exp16v6AugMixNew4_fold2_tta.pbz2': 2.125377580509416, 'exp16v6AugmixB3_fold2.pbz2': 0.8731660130607324, 'exp16v6AugmixB4Full_fold2.pbz2': 3.5936352933794558, 'exp16v6AugmixB4Step2_fold2.pbz2': 1.2848865532712903, 'exp16v6AugmixB4_fold2.pbz2': 2.4326690961245294, 'exp16v6AugmixB4_fold2_remove_background.pbz2': 0.00947695692263184, 'exp21b6_fold2_remove_background.pbz2': 2.1662886795848837}. Best is trial 73 with value: 0.8680198656854466.\u001b[0m\n",
      "\u001b[32m[I 2022-04-17 07:28:03,523]\u001b[0m Trial 75 finished with value: 0.8675895765472312 and parameters: {'exp16v6AugMixNew4_fold2.pbz2': 2.4527769813182525, 'exp16v6AugMixNew4_fold2_tta.pbz2': 2.5547250196493434, 'exp16v6AugmixB3_fold2.pbz2': 0.851085797297774, 'exp16v6AugmixB4Full_fold2.pbz2': 3.948505708785063, 'exp16v6AugmixB4Step2_fold2.pbz2': 1.278346238697385, 'exp16v6AugmixB4_fold2.pbz2': 3.1929454927258423, 'exp16v6AugmixB4_fold2_remove_background.pbz2': 0.08906042556262439, 'exp21b6_fold2_remove_background.pbz2': 2.1628596578691353}. Best is trial 73 with value: 0.8680198656854466.\u001b[0m\n",
      "\u001b[32m[I 2022-04-17 07:28:04,853]\u001b[0m Trial 76 finished with value: 0.8673080789801746 and parameters: {'exp16v6AugMixNew4_fold2.pbz2': 2.4560636099793545, 'exp16v6AugMixNew4_fold2_tta.pbz2': 2.759192587140535, 'exp16v6AugmixB3_fold2.pbz2': 0.8598894514123807, 'exp16v6AugmixB4Full_fold2.pbz2': 3.609333064525339, 'exp16v6AugmixB4Step2_fold2.pbz2': 1.2666499089239855, 'exp16v6AugmixB4_fold2.pbz2': 3.3161263441062654, 'exp16v6AugmixB4_fold2_remove_background.pbz2': 0.06813989979607854, 'exp21b6_fold2_remove_background.pbz2': 2.335332426121174}. Best is trial 73 with value: 0.8680198656854466.\u001b[0m\n",
      "\u001b[32m[I 2022-04-17 07:28:06,185]\u001b[0m Trial 77 finished with value: 0.8676458760606426 and parameters: {'exp16v6AugMixNew4_fold2.pbz2': 2.4056207225209136, 'exp16v6AugMixNew4_fold2_tta.pbz2': 2.5432987663804236, 'exp16v6AugmixB3_fold2.pbz2': 0.6685820340094708, 'exp16v6AugmixB4Full_fold2.pbz2': 3.8751329567907393, 'exp16v6AugmixB4Step2_fold2.pbz2': 1.6771333092584997, 'exp16v6AugmixB4_fold2.pbz2': 3.6241278489868884, 'exp16v6AugmixB4_fold2_remove_background.pbz2': 0.17508383824427218, 'exp21b6_fold2_remove_background.pbz2': 2.1213662170513015}. Best is trial 73 with value: 0.8680198656854466.\u001b[0m\n",
      "\u001b[32m[I 2022-04-17 07:28:07,522]\u001b[0m Trial 78 finished with value: 0.8676498974544576 and parameters: {'exp16v6AugMixNew4_fold2.pbz2': 1.8761271415813208, 'exp16v6AugMixNew4_fold2_tta.pbz2': 2.4884780256842673, 'exp16v6AugmixB3_fold2.pbz2': 0.667238168269436, 'exp16v6AugmixB4Full_fold2.pbz2': 3.9284340318765114, 'exp16v6AugmixB4Step2_fold2.pbz2': 1.6566621624267612, 'exp16v6AugmixB4_fold2.pbz2': 3.60814341291031, 'exp16v6AugmixB4_fold2_remove_background.pbz2': 0.02818973495856636, 'exp21b6_fold2_remove_background.pbz2': 2.1884227394431495}. Best is trial 73 with value: 0.8680198656854466.\u001b[0m\n",
      "\u001b[32m[I 2022-04-17 07:28:08,852]\u001b[0m Trial 79 finished with value: 0.8658583665098323 and parameters: {'exp16v6AugMixNew4_fold2.pbz2': 1.7600547975193779, 'exp16v6AugMixNew4_fold2_tta.pbz2': 2.9918108037434585, 'exp16v6AugmixB3_fold2.pbz2': 0.3783392833971203, 'exp16v6AugmixB4Full_fold2.pbz2': 3.4147298896086866, 'exp16v6AugmixB4Step2_fold2.pbz2': 1.6278417968494414, 'exp16v6AugmixB4_fold2.pbz2': 3.921956246751669, 'exp16v6AugmixB4_fold2_remove_background.pbz2': 0.007300959657185135, 'exp21b6_fold2_remove_background.pbz2': 2.430227665322035}. Best is trial 73 with value: 0.8680198656854466.\u001b[0m\n",
      "\u001b[32m[I 2022-04-17 07:28:10,182]\u001b[0m Trial 80 finished with value: 0.8676438653637352 and parameters: {'exp16v6AugMixNew4_fold2.pbz2': 1.4042217622859, 'exp16v6AugMixNew4_fold2_tta.pbz2': 2.532720424423049, 'exp16v6AugmixB3_fold2.pbz2': 0.6701251590506409, 'exp16v6AugmixB4Full_fold2.pbz2': 3.8845305461761854, 'exp16v6AugmixB4Step2_fold2.pbz2': 1.6948290182991748, 'exp16v6AugmixB4_fold2.pbz2': 3.2431672973495758, 'exp16v6AugmixB4_fold2_remove_background.pbz2': 0.2093282369634819, 'exp21b6_fold2_remove_background.pbz2': 0.45495325956618093}. Best is trial 73 with value: 0.8680198656854466.\u001b[0m\n",
      "\u001b[32m[I 2022-04-17 07:28:11,515]\u001b[0m Trial 81 finished with value: 0.8668255117223631 and parameters: {'exp16v6AugMixNew4_fold2.pbz2': 1.2722689875639464, 'exp16v6AugMixNew4_fold2_tta.pbz2': 2.570283781693853, 'exp16v6AugmixB3_fold2.pbz2': 0.6779676206796625, 'exp16v6AugmixB4Full_fold2.pbz2': 3.8620993921317472, 'exp16v6AugmixB4Step2_fold2.pbz2': 1.7480372547041645, 'exp16v6AugmixB4_fold2.pbz2': 3.5760383375170317, 'exp16v6AugmixB4_fold2_remove_background.pbz2': 0.32964364673092195, 'exp21b6_fold2_remove_background.pbz2': 0.6650570181046809}. Best is trial 73 with value: 0.8680198656854466.\u001b[0m\n",
      "\u001b[32m[I 2022-04-17 07:28:12,857]\u001b[0m Trial 82 finished with value: 0.866968271202799 and parameters: {'exp16v6AugMixNew4_fold2.pbz2': 1.5456387793190536, 'exp16v6AugMixNew4_fold2_tta.pbz2': 3.0841509824542546, 'exp16v6AugmixB3_fold2.pbz2': 0.6420218553038144, 'exp16v6AugmixB4Full_fold2.pbz2': 3.703488206564675, 'exp16v6AugmixB4Step2_fold2.pbz2': 1.6574335067959507, 'exp16v6AugmixB4_fold2.pbz2': 3.667757537973435, 'exp16v6AugmixB4_fold2_remove_background.pbz2': 0.19684420918713164, 'exp21b6_fold2_remove_background.pbz2': 2.1888837057260218}. Best is trial 73 with value: 0.8680198656854466.\u001b[0m\n",
      "\u001b[32m[I 2022-04-17 07:28:14,183]\u001b[0m Trial 83 finished with value: 0.865596975911851 and parameters: {'exp16v6AugMixNew4_fold2.pbz2': 1.2166411525070937, 'exp16v6AugMixNew4_fold2_tta.pbz2': 2.248566902879858, 'exp16v6AugmixB3_fold2.pbz2': 0.48868704419637377, 'exp16v6AugmixB4Full_fold2.pbz2': 3.5478425118517487, 'exp16v6AugmixB4Step2_fold2.pbz2': 1.501075779645465, 'exp16v6AugmixB4_fold2.pbz2': 3.5464849822190647, 'exp16v6AugmixB4_fold2_remove_background.pbz2': 0.16471696814890213, 'exp21b6_fold2_remove_background.pbz2': 1.9772476746987564}. Best is trial 73 with value: 0.8680198656854466.\u001b[0m\n"
     ]
    },
    {
     "name": "stderr",
     "output_type": "stream",
     "text": [
      "\u001b[32m[I 2022-04-17 07:28:15,515]\u001b[0m Trial 84 finished with value: 0.8665480355491213 and parameters: {'exp16v6AugMixNew4_fold2.pbz2': 1.8543643718486649, 'exp16v6AugMixNew4_fold2_tta.pbz2': 2.318924884796491, 'exp16v6AugmixB3_fold2.pbz2': 0.9658072375545377, 'exp16v6AugmixB4Full_fold2.pbz2': 3.876652466377086, 'exp16v6AugmixB4Step2_fold2.pbz2': 1.4175744834870823, 'exp16v6AugmixB4_fold2.pbz2': 3.842431713853841, 'exp16v6AugmixB4_fold2_remove_background.pbz2': 0.42651889575738927, 'exp21b6_fold2_remove_background.pbz2': 0.49517245136644017}. Best is trial 73 with value: 0.8680198656854466.\u001b[0m\n",
      "\u001b[32m[I 2022-04-17 07:28:16,848]\u001b[0m Trial 85 finished with value: 0.8673161217678047 and parameters: {'exp16v6AugMixNew4_fold2.pbz2': 2.1900231407158652, 'exp16v6AugMixNew4_fold2_tta.pbz2': 2.705035987154658, 'exp16v6AugmixB3_fold2.pbz2': 0.7818309491660399, 'exp16v6AugmixB4Full_fold2.pbz2': 3.9051075080361506, 'exp16v6AugmixB4Step2_fold2.pbz2': 1.7081875251944765, 'exp16v6AugmixB4_fold2.pbz2': 3.488441888073267, 'exp16v6AugmixB4_fold2_remove_background.pbz2': 0.23521084041395168, 'exp21b6_fold2_remove_background.pbz2': 0.2232410492667778}. Best is trial 73 with value: 0.8680198656854466.\u001b[0m\n",
      "\u001b[32m[I 2022-04-17 07:28:18,182]\u001b[0m Trial 86 finished with value: 0.866411308159408 and parameters: {'exp16v6AugMixNew4_fold2.pbz2': 0.8124956001549853, 'exp16v6AugMixNew4_fold2_tta.pbz2': 2.8261569781216136, 'exp16v6AugmixB3_fold2.pbz2': 1.0245463308728704, 'exp16v6AugmixB4Full_fold2.pbz2': 3.7543446385693686, 'exp16v6AugmixB4Step2_fold2.pbz2': 1.81901760146183, 'exp16v6AugmixB4_fold2.pbz2': 3.793786723310303, 'exp16v6AugmixB4_fold2_remove_background.pbz2': 0.0063478488623937845, 'exp21b6_fold2_remove_background.pbz2': 0.3519827707421908}. Best is trial 73 with value: 0.8680198656854466.\u001b[0m\n",
      "\u001b[32m[I 2022-04-17 07:28:19,518]\u001b[0m Trial 87 finished with value: 0.8609502553585072 and parameters: {'exp16v6AugMixNew4_fold2.pbz2': 2.0321671843481117, 'exp16v6AugMixNew4_fold2_tta.pbz2': 2.5073127716790586, 'exp16v6AugmixB3_fold2.pbz2': 0.6021513809746737, 'exp16v6AugmixB4Full_fold2.pbz2': 1.2481742047833722, 'exp16v6AugmixB4Step2_fold2.pbz2': 1.0147200702491004, 'exp16v6AugmixB4_fold2.pbz2': 3.599804255229758, 'exp16v6AugmixB4_fold2_remove_background.pbz2': 0.13566385100550482, 'exp21b6_fold2_remove_background.pbz2': 1.7642101857287624}. Best is trial 73 with value: 0.8680198656854466.\u001b[0m\n",
      "\u001b[32m[I 2022-04-17 07:28:20,855]\u001b[0m Trial 88 finished with value: 0.8668777898419593 and parameters: {'exp16v6AugMixNew4_fold2.pbz2': 1.1124202286963345, 'exp16v6AugMixNew4_fold2_tta.pbz2': 3.108612867911918, 'exp16v6AugmixB3_fold2.pbz2': 0.9392369324478018, 'exp16v6AugmixB4Full_fold2.pbz2': 3.992215304709883, 'exp16v6AugmixB4Step2_fold2.pbz2': 1.3717349428151004, 'exp16v6AugmixB4_fold2.pbz2': 3.3011786658426736, 'exp16v6AugmixB4_fold2_remove_background.pbz2': 0.5867667326899176, 'exp21b6_fold2_remove_background.pbz2': 2.515579133017276}. Best is trial 73 with value: 0.8680198656854466.\u001b[0m\n",
      "\u001b[32m[I 2022-04-17 07:28:22,187]\u001b[0m Trial 89 finished with value: 0.8656753930912455 and parameters: {'exp16v6AugMixNew4_fold2.pbz2': 1.5521641068630085, 'exp16v6AugMixNew4_fold2_tta.pbz2': 2.305603306260181, 'exp16v6AugmixB3_fold2.pbz2': 0.814922492506926, 'exp16v6AugmixB4Full_fold2.pbz2': 3.537507110387971, 'exp16v6AugmixB4Step2_fold2.pbz2': 1.9128354757436787, 'exp16v6AugmixB4_fold2.pbz2': 3.2220114905068855, 'exp16v6AugmixB4_fold2_remove_background.pbz2': 0.2917570731088073, 'exp21b6_fold2_remove_background.pbz2': 2.2669275493815966}. Best is trial 73 with value: 0.8680198656854466.\u001b[0m\n",
      "\u001b[32m[I 2022-04-17 07:28:23,555]\u001b[0m Trial 90 finished with value: 0.8603892709213012 and parameters: {'exp16v6AugMixNew4_fold2.pbz2': 2.301383977263346, 'exp16v6AugMixNew4_fold2_tta.pbz2': 2.208992216269291, 'exp16v6AugmixB3_fold2.pbz2': 1.2638211175606022, 'exp16v6AugmixB4Full_fold2.pbz2': 3.389227544335005, 'exp16v6AugmixB4Step2_fold2.pbz2': 1.1800697993158802, 'exp16v6AugmixB4_fold2.pbz2': 3.418572052551941, 'exp16v6AugmixB4_fold2_remove_background.pbz2': 2.977615562605176, 'exp21b6_fold2_remove_background.pbz2': 2.0007696484906523}. Best is trial 73 with value: 0.8680198656854466.\u001b[0m\n",
      "\u001b[32m[I 2022-04-17 07:28:24,888]\u001b[0m Trial 91 finished with value: 0.8675372984276349 and parameters: {'exp16v6AugMixNew4_fold2.pbz2': 2.4252805083597755, 'exp16v6AugMixNew4_fold2_tta.pbz2': 2.5615107723307413, 'exp16v6AugmixB3_fold2.pbz2': 0.6645402002616053, 'exp16v6AugmixB4Full_fold2.pbz2': 3.899313386273295, 'exp16v6AugmixB4Step2_fold2.pbz2': 1.5529470053507717, 'exp16v6AugmixB4_fold2.pbz2': 3.218587186049264, 'exp16v6AugmixB4_fold2_remove_background.pbz2': 0.08155698325600781, 'exp21b6_fold2_remove_background.pbz2': 2.1414047654535078}. Best is trial 73 with value: 0.8680198656854466.\u001b[0m\n",
      "\u001b[32m[I 2022-04-17 07:28:26,223]\u001b[0m Trial 92 finished with value: 0.8678750955081032 and parameters: {'exp16v6AugMixNew4_fold2.pbz2': 2.682835814641984, 'exp16v6AugMixNew4_fold2_tta.pbz2': 1.925272455457771, 'exp16v6AugmixB3_fold2.pbz2': 0.5298198838499208, 'exp16v6AugmixB4Full_fold2.pbz2': 3.998077777666873, 'exp16v6AugmixB4Step2_fold2.pbz2': 1.2760008244572156, 'exp16v6AugmixB4_fold2.pbz2': 2.4333633864494946, 'exp16v6AugmixB4_fold2_remove_background.pbz2': 0.1147918423813431, 'exp21b6_fold2_remove_background.pbz2': 2.2447691694635057}. Best is trial 73 with value: 0.8680198656854466.\u001b[0m\n",
      "\u001b[32m[I 2022-04-17 07:28:27,559]\u001b[0m Trial 93 finished with value: 0.8676378332730125 and parameters: {'exp16v6AugMixNew4_fold2.pbz2': 2.6779552219845573, 'exp16v6AugMixNew4_fold2_tta.pbz2': 1.8901078506729747, 'exp16v6AugmixB3_fold2.pbz2': 0.5417066979889527, 'exp16v6AugmixB4Full_fold2.pbz2': 3.6712149404885035, 'exp16v6AugmixB4Step2_fold2.pbz2': 1.6454726533957205, 'exp16v6AugmixB4_fold2.pbz2': 2.444450785709605, 'exp16v6AugmixB4_fold2_remove_background.pbz2': 0.3254733826576687, 'exp21b6_fold2_remove_background.pbz2': 2.3575948968287253}. Best is trial 73 with value: 0.8680198656854466.\u001b[0m\n",
      "\u001b[32m[I 2022-04-17 07:28:28,892]\u001b[0m Trial 94 finished with value: 0.8675212128523747 and parameters: {'exp16v6AugMixNew4_fold2.pbz2': 2.5437938002743223, 'exp16v6AugMixNew4_fold2_tta.pbz2': 2.009978138956165, 'exp16v6AugmixB3_fold2.pbz2': 0.43613616194444843, 'exp16v6AugmixB4Full_fold2.pbz2': 3.7934336118010443, 'exp16v6AugmixB4Step2_fold2.pbz2': 0.938501623305622, 'exp16v6AugmixB4_fold2.pbz2': 2.007087190552687, 'exp16v6AugmixB4_fold2_remove_background.pbz2': 0.4580444172214402, 'exp21b6_fold2_remove_background.pbz2': 1.0181908976087626}. Best is trial 73 with value: 0.8680198656854466.\u001b[0m\n",
      "\u001b[32m[I 2022-04-17 07:28:30,361]\u001b[0m Trial 95 finished with value: 0.8673543250090483 and parameters: {'exp16v6AugMixNew4_fold2.pbz2': 2.0987941353091677, 'exp16v6AugMixNew4_fold2_tta.pbz2': 2.4358336851662914, 'exp16v6AugmixB3_fold2.pbz2': 1.104664500505136, 'exp16v6AugmixB4Full_fold2.pbz2': 3.6156920206197944, 'exp16v6AugmixB4Step2_fold2.pbz2': 1.356104120734281, 'exp16v6AugmixB4_fold2.pbz2': 2.5904264986313663, 'exp16v6AugmixB4_fold2_remove_background.pbz2': 0.2087349157766069, 'exp21b6_fold2_remove_background.pbz2': 0.14587375719023643}. Best is trial 73 with value: 0.8680198656854466.\u001b[0m\n",
      "\u001b[32m[I 2022-04-17 07:28:31,694]\u001b[0m Trial 96 finished with value: 0.865098323078779 and parameters: {'exp16v6AugMixNew4_fold2.pbz2': 2.239648685432971, 'exp16v6AugMixNew4_fold2_tta.pbz2': 2.6524273244697016, 'exp16v6AugmixB3_fold2.pbz2': 3.1249330111543925, 'exp16v6AugmixB4Full_fold2.pbz2': 3.7743729544117453, 'exp16v6AugmixB4Step2_fold2.pbz2': 2.186254626402105, 'exp16v6AugmixB4_fold2.pbz2': 2.487050605973017, 'exp16v6AugmixB4_fold2_remove_background.pbz2': 0.6009547829339967, 'exp21b6_fold2_remove_background.pbz2': 2.068824310280927}. Best is trial 73 with value: 0.8680198656854466.\u001b[0m\n",
      "\u001b[32m[I 2022-04-17 07:28:33,028]\u001b[0m Trial 97 finished with value: 0.8645413600353882 and parameters: {'exp16v6AugMixNew4_fold2.pbz2': 2.343949315129755, 'exp16v6AugMixNew4_fold2_tta.pbz2': 1.6194106602300085, 'exp16v6AugmixB3_fold2.pbz2': 0.2744489392051628, 'exp16v6AugmixB4Full_fold2.pbz2': 2.1497398811049617, 'exp16v6AugmixB4Step2_fold2.pbz2': 0.7907506987281421, 'exp16v6AugmixB4_fold2.pbz2': 2.6649814933432845, 'exp16v6AugmixB4_fold2_remove_background.pbz2': 0.2513941637998437, 'exp21b6_fold2_remove_background.pbz2': 2.2782003037194514}. Best is trial 73 with value: 0.8680198656854466.\u001b[0m\n"
     ]
    },
    {
     "name": "stderr",
     "output_type": "stream",
     "text": [
      "\u001b[32m[I 2022-04-17 07:28:34,365]\u001b[0m Trial 98 finished with value: 0.8662343668315439 and parameters: {'exp16v6AugMixNew4_fold2.pbz2': 2.8978838372222238, 'exp16v6AugMixNew4_fold2_tta.pbz2': 1.9479952616256568, 'exp16v6AugmixB3_fold2.pbz2': 2.440926394668006, 'exp16v6AugmixB4Full_fold2.pbz2': 3.9986430974574403, 'exp16v6AugmixB4Step2_fold2.pbz2': 1.7685292164180555, 'exp16v6AugmixB4_fold2.pbz2': 2.7735456350461147, 'exp16v6AugmixB4_fold2_remove_background.pbz2': 0.390813641521067, 'exp21b6_fold2_remove_background.pbz2': 2.778812205981322}. Best is trial 73 with value: 0.8680198656854466.\u001b[0m\n",
      "\u001b[32m[I 2022-04-17 07:28:35,696]\u001b[0m Trial 99 finished with value: 0.8648369324807978 and parameters: {'exp16v6AugMixNew4_fold2.pbz2': 2.802021692387303, 'exp16v6AugMixNew4_fold2_tta.pbz2': 2.172330221691628, 'exp16v6AugmixB3_fold2.pbz2': 3.8463792497921854, 'exp16v6AugmixB4Full_fold2.pbz2': 3.82253768763149, 'exp16v6AugmixB4Step2_fold2.pbz2': 1.4873037064481616, 'exp16v6AugmixB4_fold2.pbz2': 1.9305483296536279, 'exp16v6AugmixB4_fold2_remove_background.pbz2': 0.13150560240179052, 'exp21b6_fold2_remove_background.pbz2': 2.544879405089766}. Best is trial 73 with value: 0.8680198656854466.\u001b[0m\n",
      "\u001b[32m[I 2022-04-17 07:28:37,034]\u001b[0m Trial 100 finished with value: 0.8605843085213334 and parameters: {'exp16v6AugMixNew4_fold2.pbz2': 2.6922618636173548, 'exp16v6AugMixNew4_fold2_tta.pbz2': 1.7923496719450718, 'exp16v6AugmixB3_fold2.pbz2': 0.3789266292633631, 'exp16v6AugmixB4Full_fold2.pbz2': 3.5181027829203124, 'exp16v6AugmixB4Step2_fold2.pbz2': 1.102169874094618, 'exp16v6AugmixB4_fold2.pbz2': 3.0314508256040438, 'exp16v6AugmixB4_fold2_remove_background.pbz2': 3.5176685957238814, 'exp21b6_fold2_remove_background.pbz2': 0.8263138807949248}. Best is trial 73 with value: 0.8680198656854466.\u001b[0m\n",
      "\u001b[32m[I 2022-04-17 07:28:38,373]\u001b[0m Trial 101 finished with value: 0.8676539188482728 and parameters: {'exp16v6AugMixNew4_fold2.pbz2': 2.6562194759391313, 'exp16v6AugMixNew4_fold2_tta.pbz2': 1.9207315746117966, 'exp16v6AugmixB3_fold2.pbz2': 0.5509276167581448, 'exp16v6AugmixB4Full_fold2.pbz2': 3.631033840135507, 'exp16v6AugmixB4Step2_fold2.pbz2': 1.6688352047174349, 'exp16v6AugmixB4_fold2.pbz2': 2.3984346616539725, 'exp16v6AugmixB4_fold2_remove_background.pbz2': 0.31682872488612, 'exp21b6_fold2_remove_background.pbz2': 2.389246466126614}. Best is trial 73 with value: 0.8680198656854466.\u001b[0m\n",
      "\u001b[32m[I 2022-04-17 07:28:39,714]\u001b[0m Trial 102 finished with value: 0.8631580005629951 and parameters: {'exp16v6AugMixNew4_fold2.pbz2': 0.1198026690046492, 'exp16v6AugMixNew4_fold2_tta.pbz2': 1.9238100201717006, 'exp16v6AugmixB3_fold2.pbz2': 0.7731557608415187, 'exp16v6AugmixB4Full_fold2.pbz2': 3.6472201955576913, 'exp16v6AugmixB4Step2_fold2.pbz2': 1.6842016298404425, 'exp16v6AugmixB4_fold2.pbz2': 2.0673763914154515, 'exp16v6AugmixB4_fold2_remove_background.pbz2': 0.5434360470360271, 'exp21b6_fold2_remove_background.pbz2': 2.6842478706887105}. Best is trial 73 with value: 0.8680198656854466.\u001b[0m\n",
      "\u001b[32m[I 2022-04-17 07:28:41,051]\u001b[0m Trial 103 finished with value: 0.8672437366791329 and parameters: {'exp16v6AugMixNew4_fold2.pbz2': 2.564139834364507, 'exp16v6AugMixNew4_fold2_tta.pbz2': 2.3879229650327614, 'exp16v6AugmixB3_fold2.pbz2': 0.5805923004954916, 'exp16v6AugmixB4Full_fold2.pbz2': 3.923349992132647, 'exp16v6AugmixB4Step2_fold2.pbz2': 1.2366573870644568, 'exp16v6AugmixB4_fold2.pbz2': 2.2004547890696093, 'exp16v6AugmixB4_fold2_remove_background.pbz2': 0.006052546318499444, 'exp21b6_fold2_remove_background.pbz2': 2.428038848041803}. Best is trial 73 with value: 0.8680198656854466.\u001b[0m\n",
      "\u001b[32m[I 2022-04-17 07:28:42,390]\u001b[0m Trial 104 finished with value: 0.8675755016688785 and parameters: {'exp16v6AugMixNew4_fold2.pbz2': 2.498766422174903, 'exp16v6AugMixNew4_fold2_tta.pbz2': 2.0291300123772786, 'exp16v6AugmixB3_fold2.pbz2': 0.947364085325323, 'exp16v6AugmixB4Full_fold2.pbz2': 3.7326806228334446, 'exp16v6AugmixB4Step2_fold2.pbz2': 1.9733747373439712, 'exp16v6AugmixB4_fold2.pbz2': 2.3954988972238738, 'exp16v6AugmixB4_fold2_remove_background.pbz2': 0.29646394392209646, 'exp21b6_fold2_remove_background.pbz2': 2.608827739251605}. Best is trial 73 with value: 0.8680198656854466.\u001b[0m\n",
      "\u001b[32m[I 2022-04-17 07:28:43,730]\u001b[0m Trial 105 finished with value: 0.8643945791611372 and parameters: {'exp16v6AugMixNew4_fold2.pbz2': 1.9271086955015337, 'exp16v6AugMixNew4_fold2_tta.pbz2': 1.437418361197185, 'exp16v6AugmixB3_fold2.pbz2': 0.5056007371126207, 'exp16v6AugmixB4Full_fold2.pbz2': 3.837713828315073, 'exp16v6AugmixB4Step2_fold2.pbz2': 3.920404537657265, 'exp16v6AugmixB4_fold2.pbz2': 2.2790465314553834, 'exp16v6AugmixB4_fold2_remove_background.pbz2': 0.14598029466799994, 'exp21b6_fold2_remove_background.pbz2': 2.23781447919554}. Best is trial 73 with value: 0.8680198656854466.\u001b[0m\n",
      "\u001b[32m[I 2022-04-17 07:28:45,063]\u001b[0m Trial 106 finished with value: 0.8670587525636386 and parameters: {'exp16v6AugMixNew4_fold2.pbz2': 2.1698951387218104, 'exp16v6AugMixNew4_fold2_tta.pbz2': 1.650831501125102, 'exp16v6AugmixB3_fold2.pbz2': 0.7000278182200004, 'exp16v6AugmixB4Full_fold2.pbz2': 3.20176574897536, 'exp16v6AugmixB4Step2_fold2.pbz2': 1.8620610828281388, 'exp16v6AugmixB4_fold2.pbz2': 2.5074681305912323, 'exp16v6AugmixB4_fold2_remove_background.pbz2': 0.44717125292670834, 'exp21b6_fold2_remove_background.pbz2': 1.9324429580899758}. Best is trial 73 with value: 0.8680198656854466.\u001b[0m\n",
      "\u001b[32m[I 2022-04-17 07:28:46,399]\u001b[0m Trial 107 finished with value: 0.8671150520770499 and parameters: {'exp16v6AugMixNew4_fold2.pbz2': 2.6362256396543806, 'exp16v6AugMixNew4_fold2_tta.pbz2': 1.7654481974500265, 'exp16v6AugmixB3_fold2.pbz2': 1.0284075401295472, 'exp16v6AugmixB4Full_fold2.pbz2': 3.467829441039501, 'exp16v6AugmixB4Step2_fold2.pbz2': 1.5938913959380634, 'exp16v6AugmixB4_fold2.pbz2': 2.969556163167118, 'exp16v6AugmixB4_fold2_remove_background.pbz2': 0.3409999676492843, 'exp21b6_fold2_remove_background.pbz2': 2.0643300081362788}. Best is trial 73 with value: 0.8680198656854466.\u001b[0m\n",
      "\u001b[32m[I 2022-04-17 07:28:47,735]\u001b[0m Trial 108 finished with value: 0.8666425383037761 and parameters: {'exp16v6AugMixNew4_fold2.pbz2': 2.4170432555163712, 'exp16v6AugMixNew4_fold2_tta.pbz2': 1.1509887949466453, 'exp16v6AugmixB3_fold2.pbz2': 0.8067151405692321, 'exp16v6AugmixB4Full_fold2.pbz2': 3.9297408090390427, 'exp16v6AugmixB4Step2_fold2.pbz2': 1.4652104713921088, 'exp16v6AugmixB4_fold2.pbz2': 2.6329569240159936, 'exp16v6AugmixB4_fold2_remove_background.pbz2': 0.6677773117188306, 'exp21b6_fold2_remove_background.pbz2': 2.3613607634512666}. Best is trial 73 with value: 0.8680198656854466.\u001b[0m\n",
      "\u001b[32m[I 2022-04-17 07:28:49,074]\u001b[0m Trial 109 finished with value: 0.8681525716813449 and parameters: {'exp16v6AugMixNew4_fold2.pbz2': 2.800698553404202, 'exp16v6AugMixNew4_fold2_tta.pbz2': 1.505728969331567, 'exp16v6AugmixB3_fold2.pbz2': 1.1464354641052845, 'exp16v6AugmixB4Full_fold2.pbz2': 3.5804070282750695, 'exp16v6AugmixB4Step2_fold2.pbz2': 1.3184415011222634, 'exp16v6AugmixB4_fold2.pbz2': 2.4114993120832278, 'exp16v6AugmixB4_fold2_remove_background.pbz2': 0.08077727876329, 'exp21b6_fold2_remove_background.pbz2': 1.7061033532003127}. Best is trial 109 with value: 0.8681525716813449.\u001b[0m\n",
      "\u001b[32m[I 2022-04-17 07:28:50,402]\u001b[0m Trial 110 finished with value: 0.8678248280854145 and parameters: {'exp16v6AugMixNew4_fold2.pbz2': 2.9816922385669984, 'exp16v6AugMixNew4_fold2_tta.pbz2': 1.514423855004259, 'exp16v6AugmixB3_fold2.pbz2': 1.1421335375111652, 'exp16v6AugmixB4Full_fold2.pbz2': 3.3711549042354636, 'exp16v6AugmixB4Step2_fold2.pbz2': 1.035282472685456, 'exp16v6AugmixB4_fold2.pbz2': 1.7766847278862616, 'exp16v6AugmixB4_fold2_remove_background.pbz2': 0.7608306315998676, 'exp21b6_fold2_remove_background.pbz2': 1.2490642726381347}. Best is trial 109 with value: 0.8681525716813449.\u001b[0m\n",
      "\u001b[32m[I 2022-04-17 07:28:51,737]\u001b[0m Trial 111 finished with value: 0.8676217476977521 and parameters: {'exp16v6AugMixNew4_fold2.pbz2': 2.8599707266237115, 'exp16v6AugMixNew4_fold2_tta.pbz2': 1.5229384043810001, 'exp16v6AugmixB3_fold2.pbz2': 1.33627046447834, 'exp16v6AugmixB4Full_fold2.pbz2': 3.081806979021874, 'exp16v6AugmixB4Step2_fold2.pbz2': 0.8287084411030532, 'exp16v6AugmixB4_fold2.pbz2': 1.8114322999743027, 'exp16v6AugmixB4_fold2_remove_background.pbz2': 0.7514056344571414, 'exp21b6_fold2_remove_background.pbz2': 1.2934004396577554}. Best is trial 109 with value: 0.8681525716813449.\u001b[0m\n"
     ]
    },
    {
     "name": "stderr",
     "output_type": "stream",
     "text": [
      "\u001b[32m[I 2022-04-17 07:28:53,067]\u001b[0m Trial 112 finished with value: 0.8674146459162747 and parameters: {'exp16v6AugMixNew4_fold2.pbz2': 2.7520806879981183, 'exp16v6AugMixNew4_fold2_tta.pbz2': 1.3233932933822075, 'exp16v6AugmixB3_fold2.pbz2': 1.197150360800599, 'exp16v6AugmixB4Full_fold2.pbz2': 3.4040652971535375, 'exp16v6AugmixB4Step2_fold2.pbz2': 0.6459579068671266, 'exp16v6AugmixB4_fold2.pbz2': 1.5905127034478164, 'exp16v6AugmixB4_fold2_remove_background.pbz2': 0.9036683762482136, 'exp21b6_fold2_remove_background.pbz2': 1.4164253393247546}. Best is trial 109 with value: 0.8681525716813449.\u001b[0m\n",
      "\u001b[32m[I 2022-04-17 07:28:54,434]\u001b[0m Trial 113 finished with value: 0.8678911810833635 and parameters: {'exp16v6AugMixNew4_fold2.pbz2': 2.8185416777044314, 'exp16v6AugMixNew4_fold2_tta.pbz2': 1.3974806649944753, 'exp16v6AugmixB3_fold2.pbz2': 1.1266480322248553, 'exp16v6AugmixB4Full_fold2.pbz2': 3.563880483042964, 'exp16v6AugmixB4Step2_fold2.pbz2': 1.0297610877123757, 'exp16v6AugmixB4_fold2.pbz2': 2.344405558291709, 'exp16v6AugmixB4_fold2_remove_background.pbz2': 0.07443040516446375, 'exp21b6_fold2_remove_background.pbz2': 1.1819985565371098}. Best is trial 109 with value: 0.8681525716813449.\u001b[0m\n",
      "\u001b[32m[I 2022-04-17 07:28:55,765]\u001b[0m Trial 114 finished with value: 0.8675694695781558 and parameters: {'exp16v6AugMixNew4_fold2.pbz2': 2.9929849907073534, 'exp16v6AugMixNew4_fold2_tta.pbz2': 1.209341149241427, 'exp16v6AugmixB3_fold2.pbz2': 1.127824320248996, 'exp16v6AugmixB4Full_fold2.pbz2': 3.3331611017786367, 'exp16v6AugmixB4Step2_fold2.pbz2': 0.9937710993096969, 'exp16v6AugmixB4_fold2.pbz2': 2.393818486426628, 'exp16v6AugmixB4_fold2_remove_background.pbz2': 0.5309181465012893, 'exp21b6_fold2_remove_background.pbz2': 1.1827279968582902}. Best is trial 109 with value: 0.8681525716813449.\u001b[0m\n",
      "\u001b[32m[I 2022-04-17 07:28:57,095]\u001b[0m Trial 115 finished with value: 0.8679253629307918 and parameters: {'exp16v6AugMixNew4_fold2.pbz2': 2.8193771356078647, 'exp16v6AugMixNew4_fold2_tta.pbz2': 1.4369784233810097, 'exp16v6AugmixB3_fold2.pbz2': 1.4022256332384468, 'exp16v6AugmixB4Full_fold2.pbz2': 3.5594529051401116, 'exp16v6AugmixB4Step2_fold2.pbz2': 1.1850736017786616, 'exp16v6AugmixB4_fold2.pbz2': 2.0999487159856662, 'exp16v6AugmixB4_fold2_remove_background.pbz2': 0.073401840100912, 'exp21b6_fold2_remove_background.pbz2': 1.3513869355095256}. Best is trial 109 with value: 0.8681525716813449.\u001b[0m\n",
      "\u001b[32m[I 2022-04-17 07:28:58,429]\u001b[0m Trial 116 finished with value: 0.8680238870792617 and parameters: {'exp16v6AugMixNew4_fold2.pbz2': 2.821231571480201, 'exp16v6AugMixNew4_fold2_tta.pbz2': 1.4122066950538665, 'exp16v6AugmixB3_fold2.pbz2': 1.445164485371941, 'exp16v6AugmixB4Full_fold2.pbz2': 3.5660750948333484, 'exp16v6AugmixB4Step2_fold2.pbz2': 1.3121719377793228, 'exp16v6AugmixB4_fold2.pbz2': 1.4211246867821838, 'exp16v6AugmixB4_fold2_remove_background.pbz2': 1.0264905070843509, 'exp21b6_fold2_remove_background.pbz2': 1.0863127151861427}. Best is trial 109 with value: 0.8681525716813449.\u001b[0m\n",
      "\u001b[32m[I 2022-04-17 07:28:59,767]\u001b[0m Trial 117 finished with value: 0.867702175574054 and parameters: {'exp16v6AugMixNew4_fold2.pbz2': 2.9382093750119056, 'exp16v6AugMixNew4_fold2_tta.pbz2': 1.3888919336441714, 'exp16v6AugmixB3_fold2.pbz2': 1.2793340687057912, 'exp16v6AugmixB4Full_fold2.pbz2': 3.2274138421011522, 'exp16v6AugmixB4Step2_fold2.pbz2': 1.072400834877827, 'exp16v6AugmixB4_fold2.pbz2': 1.3660062191324818, 'exp16v6AugmixB4_fold2_remove_background.pbz2': 1.2391744247663194, 'exp21b6_fold2_remove_background.pbz2': 1.2877046321934218}. Best is trial 109 with value: 0.8681525716813449.\u001b[0m\n",
      "\u001b[32m[I 2022-04-17 07:29:01,099]\u001b[0m Trial 118 finished with value: 0.8671472232275708 and parameters: {'exp16v6AugMixNew4_fold2.pbz2': 3.0502173148847804, 'exp16v6AugMixNew4_fold2_tta.pbz2': 1.441198478132395, 'exp16v6AugmixB3_fold2.pbz2': 1.3921245935535667, 'exp16v6AugmixB4Full_fold2.pbz2': 3.0028668716319054, 'exp16v6AugmixB4Step2_fold2.pbz2': 1.1550408474194298, 'exp16v6AugmixB4_fold2.pbz2': 1.3144996208406108, 'exp16v6AugmixB4_fold2_remove_background.pbz2': 1.0354038559667271, 'exp21b6_fold2_remove_background.pbz2': 1.0683281010131234}. Best is trial 109 with value: 0.8681525716813449.\u001b[0m\n",
      "\u001b[32m[I 2022-04-17 07:29:02,434]\u001b[0m Trial 119 finished with value: 0.8677383681183899 and parameters: {'exp16v6AugMixNew4_fold2.pbz2': 2.945878725944327, 'exp16v6AugMixNew4_fold2_tta.pbz2': 1.3749730927594848, 'exp16v6AugmixB3_fold2.pbz2': 1.5971426397310637, 'exp16v6AugmixB4Full_fold2.pbz2': 3.261478254165622, 'exp16v6AugmixB4Step2_fold2.pbz2': 1.3000017307321818, 'exp16v6AugmixB4_fold2.pbz2': 1.1359315251526652, 'exp16v6AugmixB4_fold2_remove_background.pbz2': 0.8234020462772769, 'exp21b6_fold2_remove_background.pbz2': 1.3748742077605915}. Best is trial 109 with value: 0.8681525716813449.\u001b[0m\n",
      "\u001b[32m[I 2022-04-17 07:29:03,773]\u001b[0m Trial 120 finished with value: 0.8672598222543935 and parameters: {'exp16v6AugMixNew4_fold2.pbz2': 2.827024435234336, 'exp16v6AugMixNew4_fold2_tta.pbz2': 1.5602915323488276, 'exp16v6AugmixB3_fold2.pbz2': 1.8715465098854858, 'exp16v6AugmixB4Full_fold2.pbz2': 3.1371115499704993, 'exp16v6AugmixB4Step2_fold2.pbz2': 1.2656255831523948, 'exp16v6AugmixB4_fold2.pbz2': 1.0328615318990544, 'exp16v6AugmixB4_fold2_remove_background.pbz2': 0.81699127646731, 'exp21b6_fold2_remove_background.pbz2': 1.3573739424621307}. Best is trial 109 with value: 0.8681525716813449.\u001b[0m\n",
      "\u001b[32m[I 2022-04-17 07:29:05,282]\u001b[0m Trial 121 finished with value: 0.8675473519121728 and parameters: {'exp16v6AugMixNew4_fold2.pbz2': 2.942151406152489, 'exp16v6AugMixNew4_fold2_tta.pbz2': 1.252378625448329, 'exp16v6AugmixB3_fold2.pbz2': 1.4657910021945395, 'exp16v6AugmixB4Full_fold2.pbz2': 3.216598273899998, 'exp16v6AugmixB4Step2_fold2.pbz2': 1.097767412954397, 'exp16v6AugmixB4_fold2.pbz2': 1.4770109922157366, 'exp16v6AugmixB4_fold2_remove_background.pbz2': 1.2021884840596315, 'exp21b6_fold2_remove_background.pbz2': 1.2461801300678794}. Best is trial 109 with value: 0.8681525716813449.\u001b[0m\n",
      "\u001b[32m[I 2022-04-17 07:29:06,617]\u001b[0m Trial 122 finished with value: 0.8673281859492501 and parameters: {'exp16v6AugMixNew4_fold2.pbz2': 3.154562441046198, 'exp16v6AugMixNew4_fold2_tta.pbz2': 1.3761501583878957, 'exp16v6AugmixB3_fold2.pbz2': 1.6283066269453277, 'exp16v6AugmixB4Full_fold2.pbz2': 3.29267476314886, 'exp16v6AugmixB4Step2_fold2.pbz2': 0.9121189539057427, 'exp16v6AugmixB4_fold2.pbz2': 1.1829430378952575, 'exp16v6AugmixB4_fold2_remove_background.pbz2': 0.9947181560844143, 'exp21b6_fold2_remove_background.pbz2': 1.5392219254358115}. Best is trial 109 with value: 0.8681525716813449.\u001b[0m\n",
      "\u001b[32m[I 2022-04-17 07:29:07,956]\u001b[0m Trial 123 finished with value: 0.8661298105923514 and parameters: {'exp16v6AugMixNew4_fold2.pbz2': 2.7781407162220852, 'exp16v6AugMixNew4_fold2_tta.pbz2': 1.060165037472934, 'exp16v6AugmixB3_fold2.pbz2': 1.2345492932410704, 'exp16v6AugmixB4Full_fold2.pbz2': 3.436441879988949, 'exp16v6AugmixB4Step2_fold2.pbz2': 1.307797552567783, 'exp16v6AugmixB4_fold2.pbz2': 2.133952536880127, 'exp16v6AugmixB4_fold2_remove_background.pbz2': 1.4927409172636468, 'exp21b6_fold2_remove_background.pbz2': 1.205288598803308}. Best is trial 109 with value: 0.8681525716813449.\u001b[0m\n",
      "\u001b[32m[I 2022-04-17 07:29:09,295]\u001b[0m Trial 124 finished with value: 0.8674830096111312 and parameters: {'exp16v6AugMixNew4_fold2.pbz2': 2.906892253554869, 'exp16v6AugMixNew4_fold2_tta.pbz2': 1.5239175107322278, 'exp16v6AugmixB3_fold2.pbz2': 1.2798432694476123, 'exp16v6AugmixB4Full_fold2.pbz2': 3.556732547600509, 'exp16v6AugmixB4Step2_fold2.pbz2': 1.056499178867651, 'exp16v6AugmixB4_fold2.pbz2': 0.7721707761898298, 'exp16v6AugmixB4_fold2_remove_background.pbz2': 1.288277056373721, 'exp21b6_fold2_remove_background.pbz2': 0.9493003332680734}. Best is trial 109 with value: 0.8681525716813449.\u001b[0m\n",
      "\u001b[32m[I 2022-04-17 07:29:10,635]\u001b[0m Trial 125 finished with value: 0.8662343668315438 and parameters: {'exp16v6AugMixNew4_fold2.pbz2': 3.3728651192507386, 'exp16v6AugMixNew4_fold2_tta.pbz2': 1.6331762957635088, 'exp16v6AugmixB3_fold2.pbz2': 1.5190449842331724, 'exp16v6AugmixB4Full_fold2.pbz2': 2.921938715147781, 'exp16v6AugmixB4Step2_fold2.pbz2': 1.1980851588834558, 'exp16v6AugmixB4_fold2.pbz2': 1.0767487037337076, 'exp16v6AugmixB4_fold2_remove_background.pbz2': 0.95501617357555, 'exp21b6_fold2_remove_background.pbz2': 1.127761609924329}. Best is trial 109 with value: 0.8681525716813449.\u001b[0m\n"
     ]
    },
    {
     "name": "stderr",
     "output_type": "stream",
     "text": [
      "\u001b[32m[I 2022-04-17 07:29:11,978]\u001b[0m Trial 126 finished with value: 0.8672296618007801 and parameters: {'exp16v6AugMixNew4_fold2.pbz2': 2.702928561769973, 'exp16v6AugMixNew4_fold2_tta.pbz2': 1.3825885686356365, 'exp16v6AugmixB3_fold2.pbz2': 1.1583016255237268, 'exp16v6AugmixB4Full_fold2.pbz2': 3.0711767673240367, 'exp16v6AugmixB4Step2_fold2.pbz2': 0.7448107893296368, 'exp16v6AugmixB4_fold2.pbz2': 1.212277996547582, 'exp16v6AugmixB4_fold2_remove_background.pbz2': 0.9106631560736388, 'exp21b6_fold2_remove_background.pbz2': 1.4784302784062433}. Best is trial 109 with value: 0.8681525716813449.\u001b[0m\n",
      "\u001b[32m[I 2022-04-17 07:29:13,313]\u001b[0m Trial 127 finished with value: 0.8656955000603209 and parameters: {'exp16v6AugMixNew4_fold2.pbz2': 3.2663121781471265, 'exp16v6AugMixNew4_fold2_tta.pbz2': 1.7165666566568176, 'exp16v6AugmixB3_fold2.pbz2': 1.031160177367857, 'exp16v6AugmixB4Full_fold2.pbz2': 3.3498140234193103, 'exp16v6AugmixB4Step2_fold2.pbz2': 1.3280413066869976, 'exp16v6AugmixB4_fold2.pbz2': 0.8926462366451972, 'exp16v6AugmixB4_fold2_remove_background.pbz2': 0.7295861558038345, 'exp21b6_fold2_remove_background.pbz2': 0.863949969578864}. Best is trial 109 with value: 0.8681525716813449.\u001b[0m\n",
      "\u001b[32m[I 2022-04-17 07:29:14,652]\u001b[0m Trial 128 finished with value: 0.8670004423533196 and parameters: {'exp16v6AugMixNew4_fold2.pbz2': 3.072166885403588, 'exp16v6AugMixNew4_fold2_tta.pbz2': 1.4838970430106202, 'exp16v6AugmixB3_fold2.pbz2': 1.3764091286562794, 'exp16v6AugmixB4Full_fold2.pbz2': 2.6823879097880816, 'exp16v6AugmixB4Step2_fold2.pbz2': 1.0417895986689598, 'exp16v6AugmixB4_fold2.pbz2': 1.5018594653401136, 'exp16v6AugmixB4_fold2_remove_background.pbz2': 1.091693510889625, 'exp21b6_fold2_remove_background.pbz2': 1.356070344390651}. Best is trial 109 with value: 0.8681525716813449.\u001b[0m\n",
      "\u001b[32m[I 2022-04-17 07:29:16,025]\u001b[0m Trial 129 finished with value: 0.8675272449430973 and parameters: {'exp16v6AugMixNew4_fold2.pbz2': 2.960171036665726, 'exp16v6AugMixNew4_fold2_tta.pbz2': 1.2659149351905739, 'exp16v6AugmixB3_fold2.pbz2': 0.8979719944833284, 'exp16v6AugmixB4Full_fold2.pbz2': 3.5012566474842526, 'exp16v6AugmixB4Step2_fold2.pbz2': 0.950143285834527, 'exp16v6AugmixB4_fold2.pbz2': 1.4252192702598392, 'exp16v6AugmixB4_fold2_remove_background.pbz2': 0.8503635687046985, 'exp21b6_fold2_remove_background.pbz2': 1.6266588676349074}. Best is trial 109 with value: 0.8681525716813449.\u001b[0m\n",
      "\u001b[32m[I 2022-04-17 07:29:17,377]\u001b[0m Trial 130 finished with value: 0.8673462822214181 and parameters: {'exp16v6AugMixNew4_fold2.pbz2': 2.8379909843590703, 'exp16v6AugMixNew4_fold2_tta.pbz2': 1.1421714715219156, 'exp16v6AugmixB3_fold2.pbz2': 1.1068104075794203, 'exp16v6AugmixB4Full_fold2.pbz2': 3.281453261850887, 'exp16v6AugmixB4Step2_fold2.pbz2': 1.412793076802054, 'exp16v6AugmixB4_fold2.pbz2': 1.7211428089944536, 'exp16v6AugmixB4_fold2_remove_background.pbz2': 1.2608866731568598, 'exp21b6_fold2_remove_background.pbz2': 1.2957004539301216}. Best is trial 109 with value: 0.8681525716813449.\u001b[0m\n",
      "\u001b[32m[I 2022-04-17 07:29:18,711]\u001b[0m Trial 131 finished with value: 0.8674045924317368 and parameters: {'exp16v6AugMixNew4_fold2.pbz2': 2.551174904994413, 'exp16v6AugMixNew4_fold2_tta.pbz2': 1.3714541563911817, 'exp16v6AugmixB3_fold2.pbz2': 1.739393850325102, 'exp16v6AugmixB4Full_fold2.pbz2': 3.6883545337971695, 'exp16v6AugmixB4Step2_fold2.pbz2': 0.5470485071265725, 'exp16v6AugmixB4_fold2.pbz2': 1.910107626421042, 'exp16v6AugmixB4_fold2_remove_background.pbz2': 0.0715005675239426, 'exp21b6_fold2_remove_background.pbz2': 1.0346668855521677}. Best is trial 109 with value: 0.8681525716813449.\u001b[0m\n",
      "\u001b[32m[I 2022-04-17 07:29:20,047]\u001b[0m Trial 132 finished with value: 0.8675835444565086 and parameters: {'exp16v6AugMixNew4_fold2.pbz2': 2.732235610417709, 'exp16v6AugMixNew4_fold2_tta.pbz2': 1.5830484545264705, 'exp16v6AugmixB3_fold2.pbz2': 1.3111654355185216, 'exp16v6AugmixB4Full_fold2.pbz2': 3.57609884517013, 'exp16v6AugmixB4Step2_fold2.pbz2': 0.8700667030942688, 'exp16v6AugmixB4_fold2.pbz2': 2.2828899003273366, 'exp16v6AugmixB4_fold2_remove_background.pbz2': 0.1080774705924388, 'exp21b6_fold2_remove_background.pbz2': 1.1522705180153745}. Best is trial 109 with value: 0.8681525716813449.\u001b[0m\n",
      "\u001b[32m[I 2022-04-17 07:29:21,384]\u001b[0m Trial 133 finished with value: 0.8510274661197571 and parameters: {'exp16v6AugMixNew4_fold2.pbz2': 2.6065970581352125, 'exp16v6AugMixNew4_fold2_tta.pbz2': 1.3147662261316357, 'exp16v6AugmixB3_fold2.pbz2': 1.4634346372943527, 'exp16v6AugmixB4Full_fold2.pbz2': 0.15254105077709368, 'exp16v6AugmixB4Step2_fold2.pbz2': 1.2019962093431018, 'exp16v6AugmixB4_fold2.pbz2': 2.0254322822388913, 'exp16v6AugmixB4_fold2_remove_background.pbz2': 2.3569810277309413, 'exp21b6_fold2_remove_background.pbz2': 1.509675732539048}. Best is trial 109 with value: 0.8681525716813449.\u001b[0m\n",
      "\u001b[32m[I 2022-04-17 07:29:22,721]\u001b[0m Trial 134 finished with value: 0.867760485784373 and parameters: {'exp16v6AugMixNew4_fold2.pbz2': 2.8981275721629918, 'exp16v6AugMixNew4_fold2_tta.pbz2': 1.4541441721533526, 'exp16v6AugmixB3_fold2.pbz2': 1.6079486200849686, 'exp16v6AugmixB4Full_fold2.pbz2': 3.400947101460885, 'exp16v6AugmixB4Step2_fold2.pbz2': 1.1354309380056127, 'exp16v6AugmixB4_fold2.pbz2': 1.8172762699070724, 'exp16v6AugmixB4_fold2_remove_background.pbz2': 0.6543654026936363, 'exp21b6_fold2_remove_background.pbz2': 1.3572245073634732}. Best is trial 109 with value: 0.8681525716813449.\u001b[0m\n",
      "\u001b[32m[I 2022-04-17 07:29:24,054]\u001b[0m Trial 135 finished with value: 0.8670145172316727 and parameters: {'exp16v6AugMixNew4_fold2.pbz2': 3.552592722685313, 'exp16v6AugMixNew4_fold2_tta.pbz2': 1.4293558996411313, 'exp16v6AugmixB3_fold2.pbz2': 1.5687211369284404, 'exp16v6AugmixB4Full_fold2.pbz2': 3.4059914221962675, 'exp16v6AugmixB4Step2_fold2.pbz2': 1.1377335156529247, 'exp16v6AugmixB4_fold2.pbz2': 1.7961974709630888, 'exp16v6AugmixB4_fold2_remove_background.pbz2': 0.6752033153521226, 'exp21b6_fold2_remove_background.pbz2': 1.3946129963507277}. Best is trial 109 with value: 0.8681525716813449.\u001b[0m\n",
      "\u001b[32m[I 2022-04-17 07:29:25,408]\u001b[0m Trial 136 finished with value: 0.8669863674749668 and parameters: {'exp16v6AugMixNew4_fold2.pbz2': 3.1291711133004427, 'exp16v6AugMixNew4_fold2_tta.pbz2': 1.779577914657193, 'exp16v6AugmixB3_fold2.pbz2': 1.8976143728429544, 'exp16v6AugmixB4Full_fold2.pbz2': 3.2214112487935394, 'exp16v6AugmixB4Step2_fold2.pbz2': 1.3122441239545146, 'exp16v6AugmixB4_fold2.pbz2': 1.30515074088251, 'exp16v6AugmixB4_fold2_remove_background.pbz2': 0.8447061827491879, 'exp21b6_fold2_remove_background.pbz2': 1.6834655291109286}. Best is trial 109 with value: 0.8681525716813449.\u001b[0m\n",
      "\u001b[32m[I 2022-04-17 07:29:26,785]\u001b[0m Trial 137 finished with value: 0.863839626814654 and parameters: {'exp16v6AugMixNew4_fold2.pbz2': 2.8838677893196367, 'exp16v6AugMixNew4_fold2_tta.pbz2': 3.6894205367368085, 'exp16v6AugmixB3_fold2.pbz2': 2.0496587330357112, 'exp16v6AugmixB4Full_fold2.pbz2': 3.448760993802903, 'exp16v6AugmixB4Step2_fold2.pbz2': 1.0296674293300527, 'exp16v6AugmixB4_fold2.pbz2': 1.1622836667211742, 'exp16v6AugmixB4_fold2_remove_background.pbz2': 0.5935438633123516, 'exp21b6_fold2_remove_background.pbz2': 1.232957080730395}. Best is trial 109 with value: 0.8681525716813449.\u001b[0m\n",
      "\u001b[32m[I 2022-04-17 07:29:28,117]\u001b[0m Trial 138 finished with value: 0.8594663610407367 and parameters: {'exp16v6AugMixNew4_fold2.pbz2': 3.222192476121765, 'exp16v6AugMixNew4_fold2_tta.pbz2': 1.692932855846062, 'exp16v6AugmixB3_fold2.pbz2': 1.6739440039175015, 'exp16v6AugmixB4Full_fold2.pbz2': 0.599261308887167, 'exp16v6AugmixB4Step2_fold2.pbz2': 1.200264250832791, 'exp16v6AugmixB4_fold2.pbz2': 2.542640313372747, 'exp16v6AugmixB4_fold2_remove_background.pbz2': 0.7496430010924438, 'exp21b6_fold2_remove_background.pbz2': 1.0778919877040591}. Best is trial 109 with value: 0.8681525716813449.\u001b[0m\n",
      "\u001b[32m[I 2022-04-17 07:29:29,455]\u001b[0m Trial 139 finished with value: 0.8631680540475329 and parameters: {'exp16v6AugMixNew4_fold2.pbz2': 3.023561596381252, 'exp16v6AugMixNew4_fold2_tta.pbz2': 1.4831581542776306, 'exp16v6AugmixB3_fold2.pbz2': 1.0290182336746938, 'exp16v6AugmixB4Full_fold2.pbz2': 1.708180959285662, 'exp16v6AugmixB4Step2_fold2.pbz2': 1.3531628554808206, 'exp16v6AugmixB4_fold2.pbz2': 1.6561117290168803, 'exp16v6AugmixB4_fold2_remove_background.pbz2': 1.6845626690247113, 'exp21b6_fold2_remove_background.pbz2': 1.7051574689135958}. Best is trial 109 with value: 0.8681525716813449.\u001b[0m\n"
     ]
    },
    {
     "name": "stderr",
     "output_type": "stream",
     "text": [
      "\u001b[32m[I 2022-04-17 07:29:30,791]\u001b[0m Trial 140 finished with value: 0.8663409337676439 and parameters: {'exp16v6AugMixNew4_fold2.pbz2': 2.7655687520342207, 'exp16v6AugMixNew4_fold2_tta.pbz2': 1.5896226731904322, 'exp16v6AugmixB3_fold2.pbz2': 1.2017274708896588, 'exp16v6AugmixB4Full_fold2.pbz2': 3.521967120772438, 'exp16v6AugmixB4Step2_fold2.pbz2': 1.5077183859832197, 'exp16v6AugmixB4_fold2.pbz2': 2.088335548307715, 'exp16v6AugmixB4_fold2_remove_background.pbz2': 1.9418881538171293, 'exp21b6_fold2_remove_background.pbz2': 0.9730621378079038}. Best is trial 109 with value: 0.8681525716813449.\u001b[0m\n",
      "\u001b[32m[I 2022-04-17 07:29:32,126]\u001b[0m Trial 141 finished with value: 0.867657940242088 and parameters: {'exp16v6AugMixNew4_fold2.pbz2': 2.4956019578051727, 'exp16v6AugMixNew4_fold2_tta.pbz2': 1.1920373052259303, 'exp16v6AugmixB3_fold2.pbz2': 1.292065399517007, 'exp16v6AugmixB4Full_fold2.pbz2': 3.7598559450268394, 'exp16v6AugmixB4Step2_fold2.pbz2': 0.6914535034660355, 'exp16v6AugmixB4_fold2.pbz2': 2.19799016838327, 'exp16v6AugmixB4_fold2_remove_background.pbz2': 0.39387631385391075, 'exp21b6_fold2_remove_background.pbz2': 1.3234374224843044}. Best is trial 109 with value: 0.8681525716813449.\u001b[0m\n",
      "\u001b[32m[I 2022-04-17 07:29:33,457]\u001b[0m Trial 142 finished with value: 0.8674488277637029 and parameters: {'exp16v6AugMixNew4_fold2.pbz2': 2.9299715505073367, 'exp16v6AugMixNew4_fold2_tta.pbz2': 1.338313192716826, 'exp16v6AugmixB3_fold2.pbz2': 1.373844557594345, 'exp16v6AugmixB4Full_fold2.pbz2': 3.6217643033489004, 'exp16v6AugmixB4Step2_fold2.pbz2': 0.9860533938034841, 'exp16v6AugmixB4_fold2.pbz2': 2.349407777067169, 'exp16v6AugmixB4_fold2_remove_background.pbz2': 1.1363553748882373, 'exp21b6_fold2_remove_background.pbz2': 1.1763003646738703}. Best is trial 109 with value: 0.8681525716813449.\u001b[0m\n",
      "\u001b[32m[I 2022-04-17 07:29:34,788]\u001b[0m Trial 143 finished with value: 0.8681143684401014 and parameters: {'exp16v6AugMixNew4_fold2.pbz2': 2.667030219208792, 'exp16v6AugMixNew4_fold2_tta.pbz2': 1.448308433202477, 'exp16v6AugmixB3_fold2.pbz2': 0.9337347098761601, 'exp16v6AugmixB4Full_fold2.pbz2': 3.6833165513887707, 'exp16v6AugmixB4Step2_fold2.pbz2': 1.0916175917494555, 'exp16v6AugmixB4_fold2.pbz2': 2.72684856066216, 'exp16v6AugmixB4_fold2_remove_background.pbz2': 0.17749797220331032, 'exp21b6_fold2_remove_background.pbz2': 1.424921020890776}. Best is trial 109 with value: 0.8681525716813449.\u001b[0m\n",
      "\u001b[32m[I 2022-04-17 07:29:36,120]\u001b[0m Trial 144 finished with value: 0.8615775927936622 and parameters: {'exp16v6AugMixNew4_fold2.pbz2': 0.01523297156004122, 'exp16v6AugMixNew4_fold2_tta.pbz2': 1.4879670689659652, 'exp16v6AugmixB3_fold2.pbz2': 0.9523302238977003, 'exp16v6AugmixB4Full_fold2.pbz2': 3.16570037727724, 'exp16v6AugmixB4Step2_fold2.pbz2': 1.1139496161465903, 'exp16v6AugmixB4_fold2.pbz2': 2.7342696060097906, 'exp16v6AugmixB4_fold2_remove_background.pbz2': 0.23517883929970074, 'exp21b6_fold2_remove_background.pbz2': 1.5731883199496979}. Best is trial 109 with value: 0.8681525716813449.\u001b[0m\n",
      "\u001b[32m[I 2022-04-17 07:29:37,488]\u001b[0m Trial 145 finished with value: 0.8678992238709937 and parameters: {'exp16v6AugMixNew4_fold2.pbz2': 2.834447571775901, 'exp16v6AugMixNew4_fold2_tta.pbz2': 1.6355092610982411, 'exp16v6AugmixB3_fold2.pbz2': 1.0814772230049405, 'exp16v6AugmixB4Full_fold2.pbz2': 3.384898216717301, 'exp16v6AugmixB4Step2_fold2.pbz2': 1.2303181399426413, 'exp16v6AugmixB4_fold2.pbz2': 2.5786314882143877, 'exp16v6AugmixB4_fold2_remove_background.pbz2': 0.11480768573655314, 'exp21b6_fold2_remove_background.pbz2': 1.262793021914725}. Best is trial 109 with value: 0.8681525716813449.\u001b[0m\n",
      "\u001b[32m[I 2022-04-17 07:29:38,814]\u001b[0m Trial 146 finished with value: 0.8681947963164032 and parameters: {'exp16v6AugMixNew4_fold2.pbz2': 2.6756091601532392, 'exp16v6AugMixNew4_fold2_tta.pbz2': 1.826213813434022, 'exp16v6AugmixB3_fold2.pbz2': 1.0859612921907815, 'exp16v6AugmixB4Full_fold2.pbz2': 3.681805225768535, 'exp16v6AugmixB4Step2_fold2.pbz2': 1.2703046678978214, 'exp16v6AugmixB4_fold2.pbz2': 2.621402960195066, 'exp16v6AugmixB4_fold2_remove_background.pbz2': 0.11120963000366885, 'exp21b6_fold2_remove_background.pbz2': 1.439882589015209}. Best is trial 146 with value: 0.8681947963164032.\u001b[0m\n",
      "\u001b[32m[I 2022-04-17 07:29:40,145]\u001b[0m Trial 147 finished with value: 0.8683998874009732 and parameters: {'exp16v6AugMixNew4_fold2.pbz2': 2.604455501106629, 'exp16v6AugMixNew4_fold2_tta.pbz2': 1.8746443951443175, 'exp16v6AugmixB3_fold2.pbz2': 1.0801567989449796, 'exp16v6AugmixB4Full_fold2.pbz2': 3.6930610029679545, 'exp16v6AugmixB4Step2_fold2.pbz2': 1.4142842272039835, 'exp16v6AugmixB4_fold2.pbz2': 2.617242165810437, 'exp16v6AugmixB4_fold2_remove_background.pbz2': 0.07633279039831238, 'exp21b6_fold2_remove_background.pbz2': 1.4442154977119959}. Best is trial 147 with value: 0.8683998874009732.\u001b[0m\n",
      "\u001b[32m[I 2022-04-17 07:29:41,475]\u001b[0m Trial 148 finished with value: 0.8681545823782524 and parameters: {'exp16v6AugMixNew4_fold2.pbz2': 2.651535214531876, 'exp16v6AugMixNew4_fold2_tta.pbz2': 1.8503675767613519, 'exp16v6AugmixB3_fold2.pbz2': 1.101873771515725, 'exp16v6AugmixB4Full_fold2.pbz2': 3.6696015918461122, 'exp16v6AugmixB4Step2_fold2.pbz2': 1.4178549372395564, 'exp16v6AugmixB4_fold2.pbz2': 2.631768003283672, 'exp16v6AugmixB4_fold2_remove_background.pbz2': 0.09891821976847567, 'exp21b6_fold2_remove_background.pbz2': 1.430393394928121}. Best is trial 147 with value: 0.8683998874009732.\u001b[0m\n",
      "\u001b[32m[I 2022-04-17 07:29:42,800]\u001b[0m Trial 149 finished with value: 0.8684059194916959 and parameters: {'exp16v6AugMixNew4_fold2.pbz2': 2.621884412622844, 'exp16v6AugMixNew4_fold2_tta.pbz2': 1.8465186878668565, 'exp16v6AugmixB3_fold2.pbz2': 1.121218996515094, 'exp16v6AugmixB4Full_fold2.pbz2': 3.6892978554078915, 'exp16v6AugmixB4Step2_fold2.pbz2': 1.3843990322832544, 'exp16v6AugmixB4_fold2.pbz2': 2.624478776447264, 'exp16v6AugmixB4_fold2_remove_background.pbz2': 0.06375811474679627, 'exp21b6_fold2_remove_background.pbz2': 1.4554123511434014}. Best is trial 149 with value: 0.8684059194916959.\u001b[0m\n",
      "\u001b[32m[I 2022-04-17 07:29:44,131]\u001b[0m Trial 150 finished with value: 0.8680339405637995 and parameters: {'exp16v6AugMixNew4_fold2.pbz2': 2.595576950627466, 'exp16v6AugMixNew4_fold2_tta.pbz2': 1.8549338449988555, 'exp16v6AugmixB3_fold2.pbz2': 1.0873481023647193, 'exp16v6AugmixB4Full_fold2.pbz2': 3.7321279089121235, 'exp16v6AugmixB4Step2_fold2.pbz2': 1.4251980152742907, 'exp16v6AugmixB4_fold2.pbz2': 2.906835706935501, 'exp16v6AugmixB4_fold2_remove_background.pbz2': 0.06391133310074348, 'exp21b6_fold2_remove_background.pbz2': 1.456637575100619}. Best is trial 149 with value: 0.8684059194916959.\u001b[0m\n",
      "\u001b[32m[I 2022-04-17 07:29:45,463]\u001b[0m Trial 151 finished with value: 0.8682088711947562 and parameters: {'exp16v6AugMixNew4_fold2.pbz2': 2.6209562186764064, 'exp16v6AugMixNew4_fold2_tta.pbz2': 1.8629480897090898, 'exp16v6AugmixB3_fold2.pbz2': 1.0516800396793027, 'exp16v6AugmixB4Full_fold2.pbz2': 3.7355742045272127, 'exp16v6AugmixB4Step2_fold2.pbz2': 1.446405323730684, 'exp16v6AugmixB4_fold2.pbz2': 2.8743865725831492, 'exp16v6AugmixB4_fold2_remove_background.pbz2': 0.0013360181877695998, 'exp21b6_fold2_remove_background.pbz2': 1.8017052135651077}. Best is trial 149 with value: 0.8684059194916959.\u001b[0m\n",
      "\u001b[32m[I 2022-04-17 07:29:46,802]\u001b[0m Trial 152 finished with value: 0.8680560582297825 and parameters: {'exp16v6AugMixNew4_fold2.pbz2': 2.607677048206182, 'exp16v6AugMixNew4_fold2_tta.pbz2': 1.834898735515591, 'exp16v6AugmixB3_fold2.pbz2': 1.063094484952158, 'exp16v6AugmixB4Full_fold2.pbz2': 3.778654409202825, 'exp16v6AugmixB4Step2_fold2.pbz2': 1.4383297055589086, 'exp16v6AugmixB4_fold2.pbz2': 2.8257507978703016, 'exp16v6AugmixB4_fold2_remove_background.pbz2': 0.007669439350126428, 'exp21b6_fold2_remove_background.pbz2': 1.4772707192593155}. Best is trial 149 with value: 0.8684059194916959.\u001b[0m\n",
      "\u001b[32m[I 2022-04-17 07:29:48,176]\u001b[0m Trial 153 finished with value: 0.868200828407126 and parameters: {'exp16v6AugMixNew4_fold2.pbz2': 2.566735308063151, 'exp16v6AugMixNew4_fold2_tta.pbz2': 1.8476716238063642, 'exp16v6AugmixB3_fold2.pbz2': 1.051346912060196, 'exp16v6AugmixB4Full_fold2.pbz2': 3.7580722086876457, 'exp16v6AugmixB4Step2_fold2.pbz2': 1.4349283706856113, 'exp16v6AugmixB4_fold2.pbz2': 2.8790479204965367, 'exp16v6AugmixB4_fold2_remove_background.pbz2': 0.00031869297502408467, 'exp21b6_fold2_remove_background.pbz2': 1.7834596085833536}. Best is trial 149 with value: 0.8684059194916959.\u001b[0m\n"
     ]
    },
    {
     "name": "stderr",
     "output_type": "stream",
     "text": [
      "\u001b[32m[I 2022-04-17 07:29:49,510]\u001b[0m Trial 154 finished with value: 0.8680500261390599 and parameters: {'exp16v6AugMixNew4_fold2.pbz2': 2.5876476649047464, 'exp16v6AugMixNew4_fold2_tta.pbz2': 1.8439778059885714, 'exp16v6AugmixB3_fold2.pbz2': 1.0629721592416237, 'exp16v6AugmixB4Full_fold2.pbz2': 3.727254765950621, 'exp16v6AugmixB4Step2_fold2.pbz2': 1.4467199383072649, 'exp16v6AugmixB4_fold2.pbz2': 2.8110360215353674, 'exp16v6AugmixB4_fold2_remove_background.pbz2': 0.017606627568810887, 'exp21b6_fold2_remove_background.pbz2': 1.4699794442185998}. Best is trial 149 with value: 0.8684059194916959.\u001b[0m\n",
      "\u001b[32m[I 2022-04-17 07:29:50,849]\u001b[0m Trial 155 finished with value: 0.8677685285720032 and parameters: {'exp16v6AugMixNew4_fold2.pbz2': 2.587692316509869, 'exp16v6AugMixNew4_fold2_tta.pbz2': 1.8257993856490622, 'exp16v6AugmixB3_fold2.pbz2': 0.8841597048436588, 'exp16v6AugmixB4Full_fold2.pbz2': 3.7740676652294645, 'exp16v6AugmixB4Step2_fold2.pbz2': 1.4259810970447584, 'exp16v6AugmixB4_fold2.pbz2': 2.9088755863586324, 'exp16v6AugmixB4_fold2_remove_background.pbz2': 0.03781801312872638, 'exp21b6_fold2_remove_background.pbz2': 1.8215913131085482}. Best is trial 149 with value: 0.8684059194916959.\u001b[0m\n",
      "\u001b[32m[I 2022-04-17 07:29:52,190]\u001b[0m Trial 156 finished with value: 0.8681947963164032 and parameters: {'exp16v6AugMixNew4_fold2.pbz2': 2.478133307642423, 'exp16v6AugMixNew4_fold2_tta.pbz2': 2.0612070285172597, 'exp16v6AugmixB3_fold2.pbz2': 1.0020575343908964, 'exp16v6AugmixB4Full_fold2.pbz2': 3.6913571791660083, 'exp16v6AugmixB4Step2_fold2.pbz2': 1.5510228705292184, 'exp16v6AugmixB4_fold2.pbz2': 2.8271153364665498, 'exp16v6AugmixB4_fold2_remove_background.pbz2': 0.0116481479926831, 'exp21b6_fold2_remove_background.pbz2': 1.4547746773619425}. Best is trial 149 with value: 0.8684059194916959.\u001b[0m\n",
      "\u001b[32m[I 2022-04-17 07:29:53,530]\u001b[0m Trial 157 finished with value: 0.8682329995576468 and parameters: {'exp16v6AugMixNew4_fold2.pbz2': 2.510388007048244, 'exp16v6AugMixNew4_fold2_tta.pbz2': 2.154255860798375, 'exp16v6AugmixB3_fold2.pbz2': 1.0181990707222628, 'exp16v6AugmixB4Full_fold2.pbz2': 3.678802695563176, 'exp16v6AugmixB4Step2_fold2.pbz2': 1.551601432100635, 'exp16v6AugmixB4_fold2.pbz2': 2.811741530020538, 'exp16v6AugmixB4_fold2_remove_background.pbz2': 0.002542696698154781, 'exp21b6_fold2_remove_background.pbz2': 1.7305190662117362}. Best is trial 149 with value: 0.8684059194916959.\u001b[0m\n",
      "\u001b[32m[I 2022-04-17 07:29:54,865]\u001b[0m Trial 158 finished with value: 0.8683858125226204 and parameters: {'exp16v6AugMixNew4_fold2.pbz2': 2.510746766247511, 'exp16v6AugMixNew4_fold2_tta.pbz2': 2.0482980908984265, 'exp16v6AugmixB3_fold2.pbz2': 0.9964777069296141, 'exp16v6AugmixB4Full_fold2.pbz2': 3.7144406045971614, 'exp16v6AugmixB4Step2_fold2.pbz2': 1.5384992910554762, 'exp16v6AugmixB4_fold2.pbz2': 2.8294277411906785, 'exp16v6AugmixB4_fold2_remove_background.pbz2': 0.019286563053139152, 'exp21b6_fold2_remove_background.pbz2': 1.758800761494737}. Best is trial 149 with value: 0.8684059194916959.\u001b[0m\n",
      "\u001b[32m[I 2022-04-17 07:29:56,204]\u001b[0m Trial 159 finished with value: 0.868395866007158 and parameters: {'exp16v6AugMixNew4_fold2.pbz2': 2.472076268587663, 'exp16v6AugMixNew4_fold2_tta.pbz2': 2.061370000657418, 'exp16v6AugmixB3_fold2.pbz2': 0.9969930008738189, 'exp16v6AugmixB4Full_fold2.pbz2': 3.6840336079265947, 'exp16v6AugmixB4Step2_fold2.pbz2': 1.537326083965311, 'exp16v6AugmixB4_fold2.pbz2': 2.8061236626600365, 'exp16v6AugmixB4_fold2_remove_background.pbz2': 0.003838205216499309, 'exp21b6_fold2_remove_background.pbz2': 1.714344958010725}. Best is trial 149 with value: 0.8684059194916959.\u001b[0m\n",
      "\u001b[32m[I 2022-04-17 07:29:57,533]\u001b[0m Trial 160 finished with value: 0.868076165198858 and parameters: {'exp16v6AugMixNew4_fold2.pbz2': 2.520592006642681, 'exp16v6AugMixNew4_fold2_tta.pbz2': 2.0511800358894856, 'exp16v6AugmixB3_fold2.pbz2': 1.0347898478252993, 'exp16v6AugmixB4Full_fold2.pbz2': 3.6970503774712977, 'exp16v6AugmixB4Step2_fold2.pbz2': 1.5485080267279392, 'exp16v6AugmixB4_fold2.pbz2': 2.807083595491937, 'exp16v6AugmixB4_fold2_remove_background.pbz2': 0.18183187971014725, 'exp21b6_fold2_remove_background.pbz2': 1.7427125251843978}. Best is trial 149 with value: 0.8684059194916959.\u001b[0m\n",
      "\u001b[32m[I 2022-04-17 07:29:59,044]\u001b[0m Trial 161 finished with value: 0.8683194595246713 and parameters: {'exp16v6AugMixNew4_fold2.pbz2': 2.5221948356583375, 'exp16v6AugMixNew4_fold2_tta.pbz2': 2.0375855406742898, 'exp16v6AugmixB3_fold2.pbz2': 1.0342116923929727, 'exp16v6AugmixB4Full_fold2.pbz2': 3.7062958939668804, 'exp16v6AugmixB4Step2_fold2.pbz2': 1.5343443789334419, 'exp16v6AugmixB4_fold2.pbz2': 2.8208864683568944, 'exp16v6AugmixB4_fold2_remove_background.pbz2': 0.0069239428057723505, 'exp21b6_fold2_remove_background.pbz2': 1.7451428238043358}. Best is trial 149 with value: 0.8684059194916959.\u001b[0m\n",
      "\u001b[32m[I 2022-04-17 07:30:00,382]\u001b[0m Trial 162 finished with value: 0.8682591386174449 and parameters: {'exp16v6AugMixNew4_fold2.pbz2': 2.4983967375866705, 'exp16v6AugMixNew4_fold2_tta.pbz2': 2.059634452783188, 'exp16v6AugmixB3_fold2.pbz2': 1.0174441340266815, 'exp16v6AugmixB4Full_fold2.pbz2': 3.711882129618052, 'exp16v6AugmixB4Step2_fold2.pbz2': 1.5325768864826774, 'exp16v6AugmixB4_fold2.pbz2': 2.8199684453563396, 'exp16v6AugmixB4_fold2_remove_background.pbz2': 0.00742136097241812, 'exp21b6_fold2_remove_background.pbz2': 1.8122111998792183}. Best is trial 149 with value: 0.8684059194916959.\u001b[0m\n",
      "\u001b[32m[I 2022-04-17 07:30:01,719]\u001b[0m Trial 163 finished with value: 0.8680681224112278 and parameters: {'exp16v6AugMixNew4_fold2.pbz2': 2.340436411147029, 'exp16v6AugMixNew4_fold2_tta.pbz2': 2.0563561574385183, 'exp16v6AugmixB3_fold2.pbz2': 1.0061915568009365, 'exp16v6AugmixB4Full_fold2.pbz2': 3.6817004554256036, 'exp16v6AugmixB4Step2_fold2.pbz2': 1.555273490348322, 'exp16v6AugmixB4_fold2.pbz2': 2.795309776634177, 'exp16v6AugmixB4_fold2_remove_background.pbz2': 0.1875971652750389, 'exp21b6_fold2_remove_background.pbz2': 1.761929473477974}. Best is trial 149 with value: 0.8684059194916959.\u001b[0m\n",
      "\u001b[32m[I 2022-04-17 07:30:03,054]\u001b[0m Trial 164 finished with value: 0.8680902400772108 and parameters: {'exp16v6AugMixNew4_fold2.pbz2': 2.349072351083666, 'exp16v6AugMixNew4_fold2_tta.pbz2': 2.0456065276780566, 'exp16v6AugmixB3_fold2.pbz2': 0.9895364740639306, 'exp16v6AugmixB4Full_fold2.pbz2': 3.6520197979122306, 'exp16v6AugmixB4Step2_fold2.pbz2': 1.5686625964776564, 'exp16v6AugmixB4_fold2.pbz2': 2.692618074605021, 'exp16v6AugmixB4_fold2_remove_background.pbz2': 0.18641113062687759, 'exp21b6_fold2_remove_background.pbz2': 1.7513794991695035}. Best is trial 149 with value: 0.8684059194916959.\u001b[0m\n",
      "\u001b[32m[I 2022-04-17 07:30:04,399]\u001b[0m Trial 165 finished with value: 0.8679997587163711 and parameters: {'exp16v6AugMixNew4_fold2.pbz2': 2.3362187613742087, 'exp16v6AugMixNew4_fold2_tta.pbz2': 2.045571703602466, 'exp16v6AugmixB3_fold2.pbz2': 0.9793091242094001, 'exp16v6AugmixB4Full_fold2.pbz2': 3.6569254906810182, 'exp16v6AugmixB4Step2_fold2.pbz2': 1.5638810767086955, 'exp16v6AugmixB4_fold2.pbz2': 2.7031006294698936, 'exp16v6AugmixB4_fold2_remove_background.pbz2': 0.1791502981106215, 'exp21b6_fold2_remove_background.pbz2': 1.7692596575587276}. Best is trial 149 with value: 0.8684059194916959.\u001b[0m\n",
      "\u001b[32m[I 2022-04-17 07:30:05,738]\u001b[0m Trial 166 finished with value: 0.8678469457513975 and parameters: {'exp16v6AugMixNew4_fold2.pbz2': 2.475144564438256, 'exp16v6AugMixNew4_fold2_tta.pbz2': 2.08042194490829, 'exp16v6AugmixB3_fold2.pbz2': 0.9823671747790039, 'exp16v6AugmixB4Full_fold2.pbz2': 3.6612783554175525, 'exp16v6AugmixB4Step2_fold2.pbz2': 1.5540357802983025, 'exp16v6AugmixB4_fold2.pbz2': 3.089315544426387, 'exp16v6AugmixB4_fold2_remove_background.pbz2': 0.1812651296871756, 'exp21b6_fold2_remove_background.pbz2': 1.727807710162171}. Best is trial 149 with value: 0.8684059194916959.\u001b[0m\n",
      "\u001b[32m[I 2022-04-17 07:30:07,079]\u001b[0m Trial 167 finished with value: 0.8682993525555959 and parameters: {'exp16v6AugMixNew4_fold2.pbz2': 2.2718172602287163, 'exp16v6AugMixNew4_fold2_tta.pbz2': 1.9951965154233906, 'exp16v6AugmixB3_fold2.pbz2': 0.8207379990826652, 'exp16v6AugmixB4Full_fold2.pbz2': 3.8511231965878046, 'exp16v6AugmixB4Step2_fold2.pbz2': 1.514718953357023, 'exp16v6AugmixB4_fold2.pbz2': 2.737327890524538, 'exp16v6AugmixB4_fold2_remove_background.pbz2': 0.25995405949456196, 'exp21b6_fold2_remove_background.pbz2': 1.8359229326992275}. Best is trial 149 with value: 0.8684059194916959.\u001b[0m\n"
     ]
    },
    {
     "name": "stderr",
     "output_type": "stream",
     "text": [
      "\u001b[32m[I 2022-04-17 07:30:08,419]\u001b[0m Trial 168 finished with value: 0.8682712027988901 and parameters: {'exp16v6AugMixNew4_fold2.pbz2': 2.2268930630617407, 'exp16v6AugMixNew4_fold2_tta.pbz2': 2.1573109797843526, 'exp16v6AugmixB3_fold2.pbz2': 0.8263480992583504, 'exp16v6AugmixB4Full_fold2.pbz2': 3.838960010555714, 'exp16v6AugmixB4Step2_fold2.pbz2': 1.4958414714108688, 'exp16v6AugmixB4_fold2.pbz2': 2.9711793004134552, 'exp16v6AugmixB4_fold2_remove_background.pbz2': 0.2558727152580005, 'exp21b6_fold2_remove_background.pbz2': 1.8566144590337343}. Best is trial 149 with value: 0.8684059194916959.\u001b[0m\n",
      "\u001b[32m[I 2022-04-17 07:30:09,756]\u001b[0m Trial 169 finished with value: 0.8681043149555636 and parameters: {'exp16v6AugMixNew4_fold2.pbz2': 2.383518899134864, 'exp16v6AugMixNew4_fold2_tta.pbz2': 2.164044696400975, 'exp16v6AugmixB3_fold2.pbz2': 0.8930642398769638, 'exp16v6AugmixB4Full_fold2.pbz2': 3.832806281668414, 'exp16v6AugmixB4Step2_fold2.pbz2': 1.5165232211083288, 'exp16v6AugmixB4_fold2.pbz2': 2.9550253905024757, 'exp16v6AugmixB4_fold2_remove_background.pbz2': 0.2608771416559627, 'exp21b6_fold2_remove_background.pbz2': 1.852524762728193}. Best is trial 149 with value: 0.8684059194916959.\u001b[0m\n",
      "\u001b[32m[I 2022-04-17 07:30:11,094]\u001b[0m Trial 170 finished with value: 0.8680520368359673 and parameters: {'exp16v6AugMixNew4_fold2.pbz2': 2.240672977984172, 'exp16v6AugMixNew4_fold2_tta.pbz2': 2.177750312683568, 'exp16v6AugmixB3_fold2.pbz2': 0.8061816261814434, 'exp16v6AugmixB4Full_fold2.pbz2': 3.817914369386676, 'exp16v6AugmixB4Step2_fold2.pbz2': 1.5108902419029735, 'exp16v6AugmixB4_fold2.pbz2': 3.011950093562792, 'exp16v6AugmixB4_fold2_remove_background.pbz2': 0.25735496148987724, 'exp21b6_fold2_remove_background.pbz2': 1.9256491572488057}. Best is trial 149 with value: 0.8684059194916959.\u001b[0m\n",
      "\u001b[32m[I 2022-04-17 07:30:12,431]\u001b[0m Trial 171 finished with value: 0.8685285720030563 and parameters: {'exp16v6AugMixNew4_fold2.pbz2': 2.274841190444406, 'exp16v6AugMixNew4_fold2_tta.pbz2': 1.9874194808827848, 'exp16v6AugmixB3_fold2.pbz2': 0.9078046440232901, 'exp16v6AugmixB4Full_fold2.pbz2': 3.83963696553753, 'exp16v6AugmixB4Step2_fold2.pbz2': 1.3873173988698406, 'exp16v6AugmixB4_fold2.pbz2': 2.661834941064202, 'exp16v6AugmixB4_fold2_remove_background.pbz2': 0.10976281702035702, 'exp21b6_fold2_remove_background.pbz2': 1.8535272484419756}. Best is trial 171 with value: 0.8685285720030563.\u001b[0m\n",
      "\u001b[32m[I 2022-04-17 07:30:13,769]\u001b[0m Trial 172 finished with value: 0.8677544536936502 and parameters: {'exp16v6AugMixNew4_fold2.pbz2': 2.498489051204456, 'exp16v6AugMixNew4_fold2_tta.pbz2': 1.9675588875223775, 'exp16v6AugmixB3_fold2.pbz2': 0.8208297359018069, 'exp16v6AugmixB4Full_fold2.pbz2': 3.8449443864692863, 'exp16v6AugmixB4Step2_fold2.pbz2': 1.381890175823004, 'exp16v6AugmixB4_fold2.pbz2': 2.9390885809575784, 'exp16v6AugmixB4_fold2_remove_background.pbz2': 0.10607866157026859, 'exp21b6_fold2_remove_background.pbz2': 1.843917096161971}. Best is trial 171 with value: 0.8685285720030563.\u001b[0m\n",
      "\u001b[32m[I 2022-04-17 07:30:15,107]\u001b[0m Trial 173 finished with value: 0.8684662403989222 and parameters: {'exp16v6AugMixNew4_fold2.pbz2': 2.2607336339024244, 'exp16v6AugMixNew4_fold2_tta.pbz2': 2.2425373068499463, 'exp16v6AugmixB3_fold2.pbz2': 0.8981502738720402, 'exp16v6AugmixB4Full_fold2.pbz2': 3.8366731451434557, 'exp16v6AugmixB4Step2_fold2.pbz2': 1.4741129715790076, 'exp16v6AugmixB4_fold2.pbz2': 2.6448037844667613, 'exp16v6AugmixB4_fold2_remove_background.pbz2': 0.10824251359368792, 'exp21b6_fold2_remove_background.pbz2': 1.6247766375595347}. Best is trial 171 with value: 0.8685285720030563.\u001b[0m\n",
      "\u001b[32m[I 2022-04-17 07:30:16,445]\u001b[0m Trial 174 finished with value: 0.8684984115494431 and parameters: {'exp16v6AugMixNew4_fold2.pbz2': 2.0532702916506294, 'exp16v6AugMixNew4_fold2_tta.pbz2': 2.2851091901530207, 'exp16v6AugmixB3_fold2.pbz2': 0.7410923465443118, 'exp16v6AugmixB4Full_fold2.pbz2': 3.7747265107108223, 'exp16v6AugmixB4Step2_fold2.pbz2': 1.403442209247914, 'exp16v6AugmixB4_fold2.pbz2': 2.6441310380097827, 'exp16v6AugmixB4_fold2_remove_background.pbz2': 0.11690728580684537, 'exp21b6_fold2_remove_background.pbz2': 1.6215136781857868}. Best is trial 171 with value: 0.8685285720030563.\u001b[0m\n",
      "\u001b[32m[I 2022-04-17 07:30:17,773]\u001b[0m Trial 175 finished with value: 0.8686532352113243 and parameters: {'exp16v6AugMixNew4_fold2.pbz2': 2.103331794200196, 'exp16v6AugMixNew4_fold2_tta.pbz2': 2.2841640252377866, 'exp16v6AugmixB3_fold2.pbz2': 0.7524743192618641, 'exp16v6AugmixB4Full_fold2.pbz2': 3.87627265873661, 'exp16v6AugmixB4Step2_fold2.pbz2': 1.3936829772003567, 'exp16v6AugmixB4_fold2.pbz2': 2.6664695466657116, 'exp16v6AugmixB4_fold2_remove_background.pbz2': 0.010052183919887492, 'exp21b6_fold2_remove_background.pbz2': 1.6208447250536286}. Best is trial 175 with value: 0.8686532352113243.\u001b[0m\n",
      "\u001b[32m[I 2022-04-17 07:30:19,105]\u001b[0m Trial 176 finished with value: 0.868365705553545 and parameters: {'exp16v6AugMixNew4_fold2.pbz2': 2.1057652779580307, 'exp16v6AugMixNew4_fold2_tta.pbz2': 2.286608208153493, 'exp16v6AugmixB3_fold2.pbz2': 0.8273545753169556, 'exp16v6AugmixB4Full_fold2.pbz2': 3.8881799777288224, 'exp16v6AugmixB4Step2_fold2.pbz2': 1.6133578354765767, 'exp16v6AugmixB4_fold2.pbz2': 2.6380073984118586, 'exp16v6AugmixB4_fold2_remove_background.pbz2': 0.0030556676361043417, 'exp21b6_fold2_remove_background.pbz2': 1.6071242042795897}. Best is trial 175 with value: 0.8686532352113243.\u001b[0m\n",
      "\u001b[32m[I 2022-04-17 07:30:20,438]\u001b[0m Trial 177 finished with value: 0.8684903687618128 and parameters: {'exp16v6AugMixNew4_fold2.pbz2': 2.033330992203734, 'exp16v6AugMixNew4_fold2_tta.pbz2': 2.2897126301944533, 'exp16v6AugmixB3_fold2.pbz2': 0.7465622846210827, 'exp16v6AugmixB4Full_fold2.pbz2': 3.8716474505747036, 'exp16v6AugmixB4Step2_fold2.pbz2': 1.6101811560526198, 'exp16v6AugmixB4_fold2.pbz2': 2.662583332640757, 'exp16v6AugmixB4_fold2_remove_background.pbz2': 0.0020542212490644775, 'exp21b6_fold2_remove_background.pbz2': 1.6320098459838734}. Best is trial 175 with value: 0.8686532352113243.\u001b[0m\n",
      "\u001b[32m[I 2022-04-17 07:30:21,769]\u001b[0m Trial 178 finished with value: 0.8683073953432259 and parameters: {'exp16v6AugMixNew4_fold2.pbz2': 2.091752073403121, 'exp16v6AugMixNew4_fold2_tta.pbz2': 2.2996327376985657, 'exp16v6AugmixB3_fold2.pbz2': 0.7234702625927827, 'exp16v6AugmixB4Full_fold2.pbz2': 3.909162732493909, 'exp16v6AugmixB4Step2_fold2.pbz2': 1.6197292197590671, 'exp16v6AugmixB4_fold2.pbz2': 2.8657262205208367, 'exp16v6AugmixB4_fold2_remove_background.pbz2': 0.003395864607717701, 'exp21b6_fold2_remove_background.pbz2': 1.645113423486225}. Best is trial 175 with value: 0.8686532352113243.\u001b[0m\n",
      "\u001b[32m[I 2022-04-17 07:30:23,102]\u001b[0m Trial 179 finished with value: 0.8685446575783167 and parameters: {'exp16v6AugMixNew4_fold2.pbz2': 2.029205754406268, 'exp16v6AugMixNew4_fold2_tta.pbz2': 2.2799130489146724, 'exp16v6AugmixB3_fold2.pbz2': 0.7314612848160258, 'exp16v6AugmixB4Full_fold2.pbz2': 3.8249530715028994, 'exp16v6AugmixB4Step2_fold2.pbz2': 1.6133885481461603, 'exp16v6AugmixB4_fold2.pbz2': 3.071137274242267, 'exp16v6AugmixB4_fold2_remove_background.pbz2': 0.0201685171260232, 'exp21b6_fold2_remove_background.pbz2': 1.5849431361023925}. Best is trial 175 with value: 0.8686532352113243.\u001b[0m\n",
      "\u001b[32m[I 2022-04-17 07:30:24,439]\u001b[0m Trial 180 finished with value: 0.8685788394257449 and parameters: {'exp16v6AugMixNew4_fold2.pbz2': 2.1155632667316335, 'exp16v6AugMixNew4_fold2_tta.pbz2': 2.2733247714361315, 'exp16v6AugmixB3_fold2.pbz2': 0.7320965423413524, 'exp16v6AugmixB4Full_fold2.pbz2': 3.8981268932159066, 'exp16v6AugmixB4Step2_fold2.pbz2': 1.7509158594305014, 'exp16v6AugmixB4_fold2.pbz2': 3.0741622891698808, 'exp16v6AugmixB4_fold2_remove_background.pbz2': 0.01153541069923231, 'exp21b6_fold2_remove_background.pbz2': 1.541589933160618}. Best is trial 175 with value: 0.8686532352113243.\u001b[0m\n",
      "\u001b[32m[I 2022-04-17 07:30:25,780]\u001b[0m Trial 181 finished with value: 0.8683335344030241 and parameters: {'exp16v6AugMixNew4_fold2.pbz2': 2.0308994167895356, 'exp16v6AugMixNew4_fold2_tta.pbz2': 2.3069972067643154, 'exp16v6AugmixB3_fold2.pbz2': 0.7144184156684241, 'exp16v6AugmixB4Full_fold2.pbz2': 3.9054291373148007, 'exp16v6AugmixB4Step2_fold2.pbz2': 1.7706865989389033, 'exp16v6AugmixB4_fold2.pbz2': 3.1029928122620367, 'exp16v6AugmixB4_fold2_remove_background.pbz2': 0.013250499699748975, 'exp21b6_fold2_remove_background.pbz2': 1.6133494990147146}. Best is trial 175 with value: 0.8686532352113243.\u001b[0m\n"
     ]
    },
    {
     "name": "stderr",
     "output_type": "stream",
     "text": [
      "\u001b[32m[I 2022-04-17 07:30:27,114]\u001b[0m Trial 182 finished with value: 0.8685848715164676 and parameters: {'exp16v6AugMixNew4_fold2.pbz2': 2.030986323090327, 'exp16v6AugMixNew4_fold2_tta.pbz2': 2.298996532296508, 'exp16v6AugmixB3_fold2.pbz2': 0.7389981063822092, 'exp16v6AugmixB4Full_fold2.pbz2': 3.914749311719629, 'exp16v6AugmixB4Step2_fold2.pbz2': 1.77664185373741, 'exp16v6AugmixB4_fold2.pbz2': 3.10330129595609, 'exp16v6AugmixB4_fold2_remove_background.pbz2': 0.13708971421017155, 'exp21b6_fold2_remove_background.pbz2': 1.6017276546626564}. Best is trial 175 with value: 0.8686532352113243.\u001b[0m\n",
      "\u001b[32m[I 2022-04-17 07:30:28,469]\u001b[0m Trial 183 finished with value: 0.8684622190051073 and parameters: {'exp16v6AugMixNew4_fold2.pbz2': 2.035679025989087, 'exp16v6AugMixNew4_fold2_tta.pbz2': 2.2935358808147535, 'exp16v6AugmixB3_fold2.pbz2': 0.7299829853130679, 'exp16v6AugmixB4Full_fold2.pbz2': 3.9099062357173024, 'exp16v6AugmixB4Step2_fold2.pbz2': 1.624334289739544, 'exp16v6AugmixB4_fold2.pbz2': 3.0999955074969563, 'exp16v6AugmixB4_fold2_remove_background.pbz2': 0.11785784321260681, 'exp21b6_fold2_remove_background.pbz2': 1.5888629641553593}. Best is trial 175 with value: 0.8686532352113243.\u001b[0m\n",
      "\u001b[32m[I 2022-04-17 07:30:29,842]\u001b[0m Trial 184 finished with value: 0.8685024329432581 and parameters: {'exp16v6AugMixNew4_fold2.pbz2': 2.0067537516271776, 'exp16v6AugMixNew4_fold2_tta.pbz2': 2.3012044385376322, 'exp16v6AugmixB3_fold2.pbz2': 0.7479013238124592, 'exp16v6AugmixB4Full_fold2.pbz2': 3.913572611431578, 'exp16v6AugmixB4Step2_fold2.pbz2': 1.7901393595031054, 'exp16v6AugmixB4_fold2.pbz2': 3.062403895683351, 'exp16v6AugmixB4_fold2_remove_background.pbz2': 0.11512639915059995, 'exp21b6_fold2_remove_background.pbz2': 1.6078856478695605}. Best is trial 175 with value: 0.8686532352113243.\u001b[0m\n",
      "\u001b[32m[I 2022-04-17 07:30:31,180]\u001b[0m Trial 185 finished with value: 0.8682611493143523 and parameters: {'exp16v6AugMixNew4_fold2.pbz2': 2.0284117426491917, 'exp16v6AugMixNew4_fold2_tta.pbz2': 2.286829590946644, 'exp16v6AugmixB3_fold2.pbz2': 0.7501801813558181, 'exp16v6AugmixB4Full_fold2.pbz2': 3.9080248965456366, 'exp16v6AugmixB4Step2_fold2.pbz2': 1.7956250925949655, 'exp16v6AugmixB4_fold2.pbz2': 3.161185428124053, 'exp16v6AugmixB4_fold2_remove_background.pbz2': 0.14405859091052908, 'exp21b6_fold2_remove_background.pbz2': 1.6074449387440324}. Best is trial 175 with value: 0.8686532352113243.\u001b[0m\n",
      "\u001b[32m[I 2022-04-17 07:30:32,521]\u001b[0m Trial 186 finished with value: 0.868325491615394 and parameters: {'exp16v6AugMixNew4_fold2.pbz2': 2.085904596539295, 'exp16v6AugMixNew4_fold2_tta.pbz2': 2.3558613255051584, 'exp16v6AugmixB3_fold2.pbz2': 0.7239493829743835, 'exp16v6AugmixB4Full_fold2.pbz2': 3.9233961752249837, 'exp16v6AugmixB4Step2_fold2.pbz2': 1.7516492900436407, 'exp16v6AugmixB4_fold2.pbz2': 2.692984671017992, 'exp16v6AugmixB4_fold2_remove_background.pbz2': 0.09866387295501765, 'exp21b6_fold2_remove_background.pbz2': 1.580705090028044}. Best is trial 175 with value: 0.8686532352113243.\u001b[0m\n",
      "\u001b[32m[I 2022-04-17 07:30:33,985]\u001b[0m Trial 187 finished with value: 0.8685888929102827 and parameters: {'exp16v6AugMixNew4_fold2.pbz2': 1.9643908094028242, 'exp16v6AugMixNew4_fold2_tta.pbz2': 2.37809884332298, 'exp16v6AugmixB3_fold2.pbz2': 0.7230678956590858, 'exp16v6AugmixB4Full_fold2.pbz2': 3.9390836510904346, 'exp16v6AugmixB4Step2_fold2.pbz2': 1.7948600129359757, 'exp16v6AugmixB4_fold2.pbz2': 3.0933355508558376, 'exp16v6AugmixB4_fold2_remove_background.pbz2': 0.10073649229734116, 'exp21b6_fold2_remove_background.pbz2': 1.571369592384938}. Best is trial 175 with value: 0.8686532352113243.\u001b[0m\n",
      "\u001b[32m[I 2022-04-17 07:30:35,353]\u001b[0m Trial 188 finished with value: 0.868432058551494 and parameters: {'exp16v6AugMixNew4_fold2.pbz2': 1.962733906780395, 'exp16v6AugMixNew4_fold2_tta.pbz2': 2.370615563272527, 'exp16v6AugmixB3_fold2.pbz2': 0.6087270984717115, 'exp16v6AugmixB4Full_fold2.pbz2': 3.9732873836534255, 'exp16v6AugmixB4Step2_fold2.pbz2': 1.7680868176933393, 'exp16v6AugmixB4_fold2.pbz2': 3.094326055789207, 'exp16v6AugmixB4_fold2_remove_background.pbz2': 0.09576426067945899, 'exp21b6_fold2_remove_background.pbz2': 1.5595046805657455}. Best is trial 175 with value: 0.8686532352113243.\u001b[0m\n",
      "\u001b[32m[I 2022-04-17 07:30:36,693]\u001b[0m Trial 189 finished with value: 0.868311416737041 and parameters: {'exp16v6AugMixNew4_fold2.pbz2': 1.9394920348447988, 'exp16v6AugMixNew4_fold2_tta.pbz2': 2.381755984647698, 'exp16v6AugmixB3_fold2.pbz2': 0.631787956704658, 'exp16v6AugmixB4Full_fold2.pbz2': 3.9930926230126262, 'exp16v6AugmixB4Step2_fold2.pbz2': 1.7631578481628267, 'exp16v6AugmixB4_fold2.pbz2': 3.102026828907439, 'exp16v6AugmixB4_fold2_remove_background.pbz2': 0.11648564663388727, 'exp21b6_fold2_remove_background.pbz2': 1.5560518936527028}. Best is trial 175 with value: 0.8686532352113243.\u001b[0m\n",
      "\u001b[32m[I 2022-04-17 07:30:38,028]\u001b[0m Trial 190 finished with value: 0.8680460047452447 and parameters: {'exp16v6AugMixNew4_fold2.pbz2': 1.7978708403952388, 'exp16v6AugMixNew4_fold2_tta.pbz2': 2.3688706866263733, 'exp16v6AugmixB3_fold2.pbz2': 0.7142008494970868, 'exp16v6AugmixB4Full_fold2.pbz2': 3.9153929261453007, 'exp16v6AugmixB4Step2_fold2.pbz2': 1.9354115962891603, 'exp16v6AugmixB4_fold2.pbz2': 3.264477876982086, 'exp16v6AugmixB4_fold2_remove_background.pbz2': 0.12844427577836548, 'exp21b6_fold2_remove_background.pbz2': 1.6020924660335356}. Best is trial 175 with value: 0.8686532352113243.\u001b[0m\n",
      "\u001b[32m[I 2022-04-17 07:30:39,366]\u001b[0m Trial 191 finished with value: 0.8683254916153941 and parameters: {'exp16v6AugMixNew4_fold2.pbz2': 1.9915907968948385, 'exp16v6AugMixNew4_fold2_tta.pbz2': 2.457392205623959, 'exp16v6AugmixB3_fold2.pbz2': 0.6085143748953884, 'exp16v6AugmixB4Full_fold2.pbz2': 3.9956766241394233, 'exp16v6AugmixB4Step2_fold2.pbz2': 1.8227014652871696, 'exp16v6AugmixB4_fold2.pbz2': 3.09801451601778, 'exp16v6AugmixB4_fold2_remove_background.pbz2': 0.11200225540377298, 'exp21b6_fold2_remove_background.pbz2': 1.5546983235039347}. Best is trial 175 with value: 0.8686532352113243.\u001b[0m\n",
      "\u001b[32m[I 2022-04-17 07:30:40,752]\u001b[0m Trial 192 finished with value: 0.8683717376442676 and parameters: {'exp16v6AugMixNew4_fold2.pbz2': 2.0044331449823187, 'exp16v6AugMixNew4_fold2_tta.pbz2': 2.453380012750428, 'exp16v6AugmixB3_fold2.pbz2': 0.605190206088176, 'exp16v6AugmixB4Full_fold2.pbz2': 3.999652065666043, 'exp16v6AugmixB4Step2_fold2.pbz2': 1.8344331390926407, 'exp16v6AugmixB4_fold2.pbz2': 3.044080340455628, 'exp16v6AugmixB4_fold2_remove_background.pbz2': 0.09833273297411846, 'exp21b6_fold2_remove_background.pbz2': 1.5676599515402736}. Best is trial 175 with value: 0.8686532352113243.\u001b[0m\n",
      "\u001b[32m[I 2022-04-17 07:30:42,090]\u001b[0m Trial 193 finished with value: 0.8682691921019826 and parameters: {'exp16v6AugMixNew4_fold2.pbz2': 1.9880363866897242, 'exp16v6AugMixNew4_fold2_tta.pbz2': 2.434717821522359, 'exp16v6AugmixB3_fold2.pbz2': 0.5779406457194967, 'exp16v6AugmixB4Full_fold2.pbz2': 3.9551324389885125, 'exp16v6AugmixB4Step2_fold2.pbz2': 1.8062856578904478, 'exp16v6AugmixB4_fold2.pbz2': 3.092607364071596, 'exp16v6AugmixB4_fold2_remove_background.pbz2': 0.19271794808473464, 'exp21b6_fold2_remove_background.pbz2': 1.6315340290532034}. Best is trial 175 with value: 0.8686532352113243.\u001b[0m\n",
      "\u001b[32m[I 2022-04-17 07:30:43,431]\u001b[0m Trial 194 finished with value: 0.868494390155628 and parameters: {'exp16v6AugMixNew4_fold2.pbz2': 1.8535215958096098, 'exp16v6AugMixNew4_fold2_tta.pbz2': 2.241342463297529, 'exp16v6AugmixB3_fold2.pbz2': 0.6251356678974713, 'exp16v6AugmixB4Full_fold2.pbz2': 3.976604992953437, 'exp16v6AugmixB4Step2_fold2.pbz2': 1.8805530127752546, 'exp16v6AugmixB4_fold2.pbz2': 3.0571520777207257, 'exp16v6AugmixB4_fold2_remove_background.pbz2': 0.09267878810552428, 'exp21b6_fold2_remove_background.pbz2': 1.517095076344971}. Best is trial 175 with value: 0.8686532352113243.\u001b[0m\n",
      "\u001b[32m[I 2022-04-17 07:30:44,769]\u001b[0m Trial 195 finished with value: 0.8678006997225239 and parameters: {'exp16v6AugMixNew4_fold2.pbz2': 1.8472184503928826, 'exp16v6AugMixNew4_fold2_tta.pbz2': 2.229959561186451, 'exp16v6AugmixB3_fold2.pbz2': 0.468940534483786, 'exp16v6AugmixB4Full_fold2.pbz2': 3.8678840845121454, 'exp16v6AugmixB4Step2_fold2.pbz2': 2.044249584652442, 'exp16v6AugmixB4_fold2.pbz2': 3.1867254815852797, 'exp16v6AugmixB4_fold2_remove_background.pbz2': 0.23559278770917932, 'exp21b6_fold2_remove_background.pbz2': 1.67312104600012}. Best is trial 175 with value: 0.8686532352113243.\u001b[0m\n"
     ]
    },
    {
     "name": "stderr",
     "output_type": "stream",
     "text": [
      "\u001b[32m[I 2022-04-17 07:30:46,106]\u001b[0m Trial 196 finished with value: 0.8683355450999316 and parameters: {'exp16v6AugMixNew4_fold2.pbz2': 1.6615260528870528, 'exp16v6AugMixNew4_fold2_tta.pbz2': 2.275725559266025, 'exp16v6AugmixB3_fold2.pbz2': 0.6585161171503586, 'exp16v6AugmixB4Full_fold2.pbz2': 3.8255060139321944, 'exp16v6AugmixB4Step2_fold2.pbz2': 1.9236640662092184, 'exp16v6AugmixB4_fold2.pbz2': 3.054953222148149, 'exp16v6AugmixB4_fold2_remove_background.pbz2': 0.08805497884647923, 'exp21b6_fold2_remove_background.pbz2': 1.5202324857733507}. Best is trial 175 with value: 0.8686532352113243.\u001b[0m\n",
      "\u001b[32m[I 2022-04-17 07:30:47,461]\u001b[0m Trial 197 finished with value: 0.8684742831865525 and parameters: {'exp16v6AugMixNew4_fold2.pbz2': 1.7308488666012525, 'exp16v6AugMixNew4_fold2_tta.pbz2': 2.2486154132845297, 'exp16v6AugmixB3_fold2.pbz2': 0.625565068736295, 'exp16v6AugmixB4Full_fold2.pbz2': 3.819217342934073, 'exp16v6AugmixB4Step2_fold2.pbz2': 1.8859280235974385, 'exp16v6AugmixB4_fold2.pbz2': 3.0336628383662134, 'exp16v6AugmixB4_fold2_remove_background.pbz2': 0.09452460455829813, 'exp21b6_fold2_remove_background.pbz2': 1.5255606480751394}. Best is trial 175 with value: 0.8686532352113243.\u001b[0m\n",
      "\u001b[32m[I 2022-04-17 07:30:48,799]\u001b[0m Trial 198 finished with value: 0.8678228173885069 and parameters: {'exp16v6AugMixNew4_fold2.pbz2': 2.155937392409511, 'exp16v6AugMixNew4_fold2_tta.pbz2': 2.2727158795923867, 'exp16v6AugmixB3_fold2.pbz2': 0.4337439182286288, 'exp16v6AugmixB4Full_fold2.pbz2': 3.9871484660656695, 'exp16v6AugmixB4Step2_fold2.pbz2': 1.666691162771947, 'exp16v6AugmixB4_fold2.pbz2': 3.3540728547144325, 'exp16v6AugmixB4_fold2_remove_background.pbz2': 0.314827154519533, 'exp21b6_fold2_remove_background.pbz2': 1.6665038844954183}. Best is trial 175 with value: 0.8686532352113243.\u001b[0m\n",
      "\u001b[32m[I 2022-04-17 07:30:50,133]\u001b[0m Trial 199 finished with value: 0.8685165078216109 and parameters: {'exp16v6AugMixNew4_fold2.pbz2': 1.930286056105082, 'exp16v6AugMixNew4_fold2_tta.pbz2': 2.233109825242999, 'exp16v6AugmixB3_fold2.pbz2': 0.7667313647940794, 'exp16v6AugmixB4Full_fold2.pbz2': 3.817925135377808, 'exp16v6AugmixB4Step2_fold2.pbz2': 1.8643972859627918, 'exp16v6AugmixB4_fold2.pbz2': 3.0189505955980893, 'exp16v6AugmixB4_fold2_remove_background.pbz2': 0.1562739458316349, 'exp21b6_fold2_remove_background.pbz2': 1.5287012361824386}. Best is trial 175 with value: 0.8686532352113243.\u001b[0m\n",
      "\u001b[32m[I 2022-04-17 07:30:51,499]\u001b[0m Trial 200 finished with value: 0.8682691921019825 and parameters: {'exp16v6AugMixNew4_fold2.pbz2': 1.703216156735166, 'exp16v6AugMixNew4_fold2_tta.pbz2': 2.4948365650038378, 'exp16v6AugmixB3_fold2.pbz2': 0.5805945627853931, 'exp16v6AugmixB4Full_fold2.pbz2': 3.790038754248717, 'exp16v6AugmixB4Step2_fold2.pbz2': 1.992056268360372, 'exp16v6AugmixB4_fold2.pbz2': 3.014010768612295, 'exp16v6AugmixB4_fold2_remove_background.pbz2': 0.17077962270728728, 'exp21b6_fold2_remove_background.pbz2': 1.5217503483169141}. Best is trial 175 with value: 0.8686532352113243.\u001b[0m\n",
      "\u001b[32m[I 2022-04-17 07:30:52,834]\u001b[0m Trial 201 finished with value: 0.8682350102545543 and parameters: {'exp16v6AugMixNew4_fold2.pbz2': 1.9185686670144455, 'exp16v6AugMixNew4_fold2_tta.pbz2': 2.2265120903654143, 'exp16v6AugmixB3_fold2.pbz2': 0.7732585402459046, 'exp16v6AugmixB4Full_fold2.pbz2': 3.869519133544224, 'exp16v6AugmixB4Step2_fold2.pbz2': 1.846108128090572, 'exp16v6AugmixB4_fold2.pbz2': 3.2251670071963034, 'exp16v6AugmixB4_fold2_remove_background.pbz2': 0.09558265958175387, 'exp21b6_fold2_remove_background.pbz2': 1.5439026303243888}. Best is trial 175 with value: 0.8686532352113243.\u001b[0m\n",
      "\u001b[32m[I 2022-04-17 07:30:54,173]\u001b[0m Trial 202 finished with value: 0.8678730848111956 and parameters: {'exp16v6AugMixNew4_fold2.pbz2': 1.8166250883066888, 'exp16v6AugMixNew4_fold2_tta.pbz2': 2.3791735816715813, 'exp16v6AugmixB3_fold2.pbz2': 0.7908210096963209, 'exp16v6AugmixB4Full_fold2.pbz2': 3.824154874977386, 'exp16v6AugmixB4Step2_fold2.pbz2': 2.1072236703147684, 'exp16v6AugmixB4_fold2.pbz2': 3.158390072711917, 'exp16v6AugmixB4_fold2_remove_background.pbz2': 0.1637412227117553, 'exp21b6_fold2_remove_background.pbz2': 1.6672417757175533}. Best is trial 175 with value: 0.8686532352113243.\u001b[0m\n",
      "\u001b[32m[I 2022-04-17 07:30:55,512]\u001b[0m Trial 203 finished with value: 0.8684843366710903 and parameters: {'exp16v6AugMixNew4_fold2.pbz2': 2.1332870706388714, 'exp16v6AugMixNew4_fold2_tta.pbz2': 2.234384692049743, 'exp16v6AugmixB3_fold2.pbz2': 0.6457784103790625, 'exp16v6AugmixB4Full_fold2.pbz2': 3.9249620705048702, 'exp16v6AugmixB4Step2_fold2.pbz2': 1.7144907628492272, 'exp16v6AugmixB4_fold2.pbz2': 3.0268750996102924, 'exp16v6AugmixB4_fold2_remove_background.pbz2': 0.23283256831491805, 'exp21b6_fold2_remove_background.pbz2': 1.534021433900359}. Best is trial 175 with value: 0.8686532352113243.\u001b[0m\n",
      "\u001b[32m[I 2022-04-17 07:30:56,851]\u001b[0m Trial 204 finished with value: 0.8685506896690394 and parameters: {'exp16v6AugMixNew4_fold2.pbz2': 1.967591880210639, 'exp16v6AugMixNew4_fold2_tta.pbz2': 2.2156065302634507, 'exp16v6AugmixB3_fold2.pbz2': 0.6367571855610711, 'exp16v6AugmixB4Full_fold2.pbz2': 3.939641434591625, 'exp16v6AugmixB4Step2_fold2.pbz2': 1.8806672434282496, 'exp16v6AugmixB4_fold2.pbz2': 3.016770709041335, 'exp16v6AugmixB4_fold2_remove_background.pbz2': 0.2567535581035989, 'exp21b6_fold2_remove_background.pbz2': 1.5206263485119842}. Best is trial 175 with value: 0.8686532352113243.\u001b[0m\n",
      "\u001b[32m[I 2022-04-17 07:30:58,186]\u001b[0m Trial 205 finished with value: 0.8683275023123015 and parameters: {'exp16v6AugMixNew4_fold2.pbz2': 1.9143715348648056, 'exp16v6AugMixNew4_fold2_tta.pbz2': 2.1872489050153776, 'exp16v6AugmixB3_fold2.pbz2': 0.6702536335349393, 'exp16v6AugmixB4Full_fold2.pbz2': 3.8209120960776595, 'exp16v6AugmixB4Step2_fold2.pbz2': 1.7181269668349706, 'exp16v6AugmixB4_fold2.pbz2': 2.9812891940892485, 'exp16v6AugmixB4_fold2_remove_background.pbz2': 0.28210527984832, 'exp21b6_fold2_remove_background.pbz2': 1.5028907478220193}. Best is trial 175 with value: 0.8686532352113243.\u001b[0m\n",
      "\u001b[32m[I 2022-04-17 07:30:59,519]\u001b[0m Trial 206 finished with value: 0.8681807214380504 and parameters: {'exp16v6AugMixNew4_fold2.pbz2': 1.7451262609786231, 'exp16v6AugMixNew4_fold2_tta.pbz2': 2.2259430915834004, 'exp16v6AugmixB3_fold2.pbz2': 0.525847143025279, 'exp16v6AugmixB4Full_fold2.pbz2': 3.9266314330680268, 'exp16v6AugmixB4Step2_fold2.pbz2': 1.9019553926595907, 'exp16v6AugmixB4_fold2.pbz2': 3.161812467427098, 'exp16v6AugmixB4_fold2_remove_background.pbz2': 0.21575925754222197, 'exp21b6_fold2_remove_background.pbz2': 1.683372223001436}. Best is trial 175 with value: 0.8686532352113243.\u001b[0m\n",
      "\u001b[32m[I 2022-04-17 07:31:00,859]\u001b[0m Trial 207 finished with value: 0.8677403788152974 and parameters: {'exp16v6AugMixNew4_fold2.pbz2': 2.170662322423086, 'exp16v6AugMixNew4_fold2_tta.pbz2': 2.3647138795065774, 'exp16v6AugmixB3_fold2.pbz2': 0.7470596444011233, 'exp16v6AugmixB4Full_fold2.pbz2': 3.771877282478309, 'exp16v6AugmixB4Step2_fold2.pbz2': 1.6457774841790418, 'exp16v6AugmixB4_fold2.pbz2': 3.2755281603385162, 'exp16v6AugmixB4_fold2_remove_background.pbz2': 0.36014140971854064, 'exp21b6_fold2_remove_background.pbz2': 1.5074934642227125}. Best is trial 175 with value: 0.8686532352113243.\u001b[0m\n",
      "\u001b[32m[I 2022-04-17 07:31:02,214]\u001b[0m Trial 208 finished with value: 0.8684441227329392 and parameters: {'exp16v6AugMixNew4_fold2.pbz2': 2.0601377125846416, 'exp16v6AugMixNew4_fold2_tta.pbz2': 2.1553830748272835, 'exp16v6AugmixB3_fold2.pbz2': 0.6895845739336386, 'exp16v6AugmixB4Full_fold2.pbz2': 3.91851844667991, 'exp16v6AugmixB4Step2_fold2.pbz2': 1.6988721113205574, 'exp16v6AugmixB4_fold2.pbz2': 2.9456130075766365, 'exp16v6AugmixB4_fold2_remove_background.pbz2': 0.23455710438855415, 'exp21b6_fold2_remove_background.pbz2': 1.6492302751770376}. Best is trial 175 with value: 0.8686532352113243.\u001b[0m\n",
      "\u001b[32m[I 2022-04-17 07:31:03,551]\u001b[0m Trial 209 finished with value: 0.8682993525555959 and parameters: {'exp16v6AugMixNew4_fold2.pbz2': 2.109162013650305, 'exp16v6AugMixNew4_fold2_tta.pbz2': 2.2449799468537197, 'exp16v6AugmixB3_fold2.pbz2': 0.6374921417028494, 'exp16v6AugmixB4Full_fold2.pbz2': 3.9170576003895685, 'exp16v6AugmixB4Step2_fold2.pbz2': 1.7210092392645069, 'exp16v6AugmixB4_fold2.pbz2': 3.01267471220884, 'exp16v6AugmixB4_fold2_remove_background.pbz2': 0.2694950236457372, 'exp21b6_fold2_remove_background.pbz2': 1.428826234220005}. Best is trial 175 with value: 0.8686532352113243.\u001b[0m\n"
     ]
    },
    {
     "name": "stderr",
     "output_type": "stream",
     "text": [
      "\u001b[32m[I 2022-04-17 07:31:04,887]\u001b[0m Trial 210 finished with value: 0.8686391603329714 and parameters: {'exp16v6AugMixNew4_fold2.pbz2': 1.9659676731832865, 'exp16v6AugMixNew4_fold2_tta.pbz2': 2.128463749109179, 'exp16v6AugmixB3_fold2.pbz2': 0.7109203345511653, 'exp16v6AugmixB4Full_fold2.pbz2': 3.8593086353313177, 'exp16v6AugmixB4Step2_fold2.pbz2': 1.8874664525875076, 'exp16v6AugmixB4_fold2.pbz2': 2.9438505183283827, 'exp16v6AugmixB4_fold2_remove_background.pbz2': 0.1610251468174565, 'exp21b6_fold2_remove_background.pbz2': 1.5852622101692213}. Best is trial 175 with value: 0.8686532352113243.\u001b[0m\n",
      "\u001b[32m[I 2022-04-17 07:31:06,228]\u001b[0m Trial 211 finished with value: 0.8687718663288696 and parameters: {'exp16v6AugMixNew4_fold2.pbz2': 1.9741011458608575, 'exp16v6AugMixNew4_fold2_tta.pbz2': 2.142945591433017, 'exp16v6AugmixB3_fold2.pbz2': 0.6797818704300601, 'exp16v6AugmixB4Full_fold2.pbz2': 3.9964604130617207, 'exp16v6AugmixB4Step2_fold2.pbz2': 1.8954797907800192, 'exp16v6AugmixB4_fold2.pbz2': 2.9474486633265937, 'exp16v6AugmixB4_fold2_remove_background.pbz2': 0.1576716329922889, 'exp21b6_fold2_remove_background.pbz2': 1.585196642019381}. Best is trial 211 with value: 0.8687718663288696.\u001b[0m\n",
      "\u001b[32m[I 2022-04-17 07:31:07,557]\u001b[0m Trial 212 finished with value: 0.8685225399123336 and parameters: {'exp16v6AugMixNew4_fold2.pbz2': 1.9605733754794668, 'exp16v6AugMixNew4_fold2_tta.pbz2': 2.1262520841043884, 'exp16v6AugmixB3_fold2.pbz2': 0.6760828872384237, 'exp16v6AugmixB4Full_fold2.pbz2': 3.9863185609394747, 'exp16v6AugmixB4Step2_fold2.pbz2': 1.9805803244542646, 'exp16v6AugmixB4_fold2.pbz2': 2.9547489731259047, 'exp16v6AugmixB4_fold2_remove_background.pbz2': 0.19861681510370022, 'exp21b6_fold2_remove_background.pbz2': 1.5692145863457794}. Best is trial 211 with value: 0.8687718663288696.\u001b[0m\n",
      "\u001b[32m[I 2022-04-17 07:31:08,893]\u001b[0m Trial 213 finished with value: 0.8685366147906866 and parameters: {'exp16v6AugMixNew4_fold2.pbz2': 1.9498353544451252, 'exp16v6AugMixNew4_fold2_tta.pbz2': 2.1239369330932676, 'exp16v6AugmixB3_fold2.pbz2': 0.5330451753797364, 'exp16v6AugmixB4Full_fold2.pbz2': 3.9410482444351453, 'exp16v6AugmixB4Step2_fold2.pbz2': 2.00592745727916, 'exp16v6AugmixB4_fold2.pbz2': 2.9338315565870436, 'exp16v6AugmixB4_fold2_remove_background.pbz2': 0.21021081774107767, 'exp21b6_fold2_remove_background.pbz2': 1.5775953107963105}. Best is trial 211 with value: 0.8687718663288696.\u001b[0m\n",
      "\u001b[32m[I 2022-04-17 07:31:10,231]\u001b[0m Trial 214 finished with value: 0.8683817911288052 and parameters: {'exp16v6AugMixNew4_fold2.pbz2': 1.9447851229626034, 'exp16v6AugMixNew4_fold2_tta.pbz2': 2.1461916362840805, 'exp16v6AugmixB3_fold2.pbz2': 0.4774909826332544, 'exp16v6AugmixB4Full_fold2.pbz2': 3.982911660020332, 'exp16v6AugmixB4Step2_fold2.pbz2': 2.005410573400689, 'exp16v6AugmixB4_fold2.pbz2': 2.940190673926051, 'exp16v6AugmixB4_fold2_remove_background.pbz2': 0.29831784265724526, 'exp21b6_fold2_remove_background.pbz2': 1.6063029208511184}. Best is trial 211 with value: 0.8687718663288696.\u001b[0m\n",
      "\u001b[32m[I 2022-04-17 07:31:11,591]\u001b[0m Trial 215 finished with value: 0.8682933204648731 and parameters: {'exp16v6AugMixNew4_fold2.pbz2': 1.8483170440361318, 'exp16v6AugMixNew4_fold2_tta.pbz2': 2.3410882806602844, 'exp16v6AugmixB3_fold2.pbz2': 0.34261726621298927, 'exp16v6AugmixB4Full_fold2.pbz2': 3.9229365360066897, 'exp16v6AugmixB4Step2_fold2.pbz2': 2.1534099197511396, 'exp16v6AugmixB4_fold2.pbz2': 3.041675145477554, 'exp16v6AugmixB4_fold2_remove_background.pbz2': 0.21232083932238344, 'exp21b6_fold2_remove_background.pbz2': 1.5584793830584616}. Best is trial 211 with value: 0.8687718663288696.\u001b[0m\n",
      "\u001b[32m[I 2022-04-17 07:31:12,929]\u001b[0m Trial 216 finished with value: 0.8681545823782523 and parameters: {'exp16v6AugMixNew4_fold2.pbz2': 2.061569672105817, 'exp16v6AugMixNew4_fold2_tta.pbz2': 2.1478510098946417, 'exp16v6AugmixB3_fold2.pbz2': 0.6516702752462891, 'exp16v6AugmixB4Full_fold2.pbz2': 3.8639454326708234, 'exp16v6AugmixB4Step2_fold2.pbz2': 1.8951379383255953, 'exp16v6AugmixB4_fold2.pbz2': 2.9472160860518604, 'exp16v6AugmixB4_fold2_remove_background.pbz2': 0.3630233710500579, 'exp21b6_fold2_remove_background.pbz2': 1.6395327916646254}. Best is trial 211 with value: 0.8687718663288696.\u001b[0m\n",
      "\u001b[32m[I 2022-04-17 07:31:14,294]\u001b[0m Trial 217 finished with value: 0.8682651707081674 and parameters: {'exp16v6AugMixNew4_fold2.pbz2': 1.9661476863808172, 'exp16v6AugMixNew4_fold2_tta.pbz2': 2.249073703167506, 'exp16v6AugmixB3_fold2.pbz2': 0.581598667472677, 'exp16v6AugmixB4Full_fold2.pbz2': 3.937338199321123, 'exp16v6AugmixB4Step2_fold2.pbz2': 1.9575269570365217, 'exp16v6AugmixB4_fold2.pbz2': 3.1215572359111423, 'exp16v6AugmixB4_fold2_remove_background.pbz2': 0.16927013864750642, 'exp21b6_fold2_remove_background.pbz2': 1.521907662512579}. Best is trial 211 with value: 0.8687718663288696.\u001b[0m\n",
      "\u001b[32m[I 2022-04-17 07:31:15,681]\u001b[0m Trial 218 finished with value: 0.8680339405637993 and parameters: {'exp16v6AugMixNew4_fold2.pbz2': 1.625179870663744, 'exp16v6AugMixNew4_fold2_tta.pbz2': 2.2061360681105993, 'exp16v6AugmixB3_fold2.pbz2': 0.7303256017901539, 'exp16v6AugmixB4Full_fold2.pbz2': 3.832782576137545, 'exp16v6AugmixB4Step2_fold2.pbz2': 1.901101952030778, 'exp16v6AugmixB4_fold2.pbz2': 3.030250979602776, 'exp16v6AugmixB4_fold2_remove_background.pbz2': 0.23385965178699908, 'exp21b6_fold2_remove_background.pbz2': 1.6542928803889696}. Best is trial 211 with value: 0.8687718663288696.\u001b[0m\n",
      "\u001b[32m[I 2022-04-17 07:31:17,109]\u001b[0m Trial 219 finished with value: 0.8621707483813891 and parameters: {'exp16v6AugMixNew4_fold2.pbz2': 1.868430570873727, 'exp16v6AugMixNew4_fold2_tta.pbz2': 2.332427132326499, 'exp16v6AugmixB3_fold2.pbz2': 0.48797270145409294, 'exp16v6AugmixB4Full_fold2.pbz2': 3.99682449657691, 'exp16v6AugmixB4Step2_fold2.pbz2': 2.0795835032837293, 'exp16v6AugmixB4_fold2.pbz2': 3.166824386153232, 'exp16v6AugmixB4_fold2_remove_background.pbz2': 2.5865837890121135, 'exp21b6_fold2_remove_background.pbz2': 1.5261728451061167}. Best is trial 211 with value: 0.8687718663288696.\u001b[0m\n",
      "\u001b[32m[I 2022-04-17 07:31:18,520]\u001b[0m Trial 220 finished with value: 0.8684260264607713 and parameters: {'exp16v6AugMixNew4_fold2.pbz2': 2.016052336326844, 'exp16v6AugMixNew4_fold2_tta.pbz2': 2.117725834045277, 'exp16v6AugmixB3_fold2.pbz2': 0.660843619042379, 'exp16v6AugmixB4Full_fold2.pbz2': 3.8890373387278983, 'exp16v6AugmixB4Step2_fold2.pbz2': 2.010914246744054, 'exp16v6AugmixB4_fold2.pbz2': 2.964583756812768, 'exp16v6AugmixB4_fold2_remove_background.pbz2': 0.15477972146563945, 'exp21b6_fold2_remove_background.pbz2': 1.6003864499203815}. Best is trial 211 with value: 0.8687718663288696.\u001b[0m\n",
      "\u001b[32m[I 2022-04-17 07:31:19,908]\u001b[0m Trial 221 finished with value: 0.868454176217477 and parameters: {'exp16v6AugMixNew4_fold2.pbz2': 2.038666968882552, 'exp16v6AugMixNew4_fold2_tta.pbz2': 2.129502319620209, 'exp16v6AugmixB3_fold2.pbz2': 0.6867176465238777, 'exp16v6AugmixB4Full_fold2.pbz2': 3.889591508974723, 'exp16v6AugmixB4Step2_fold2.pbz2': 2.0502840885642923, 'exp16v6AugmixB4_fold2.pbz2': 2.9393072862831433, 'exp16v6AugmixB4_fold2_remove_background.pbz2': 0.14316556005609007, 'exp21b6_fold2_remove_background.pbz2': 1.618165872639735}. Best is trial 211 with value: 0.8687718663288696.\u001b[0m\n",
      "\u001b[32m[I 2022-04-17 07:31:21,275]\u001b[0m Trial 222 finished with value: 0.8683214702215788 and parameters: {'exp16v6AugMixNew4_fold2.pbz2': 2.163852954730768, 'exp16v6AugMixNew4_fold2_tta.pbz2': 2.3981671067606247, 'exp16v6AugmixB3_fold2.pbz2': 0.5424515366616209, 'exp16v6AugmixB4Full_fold2.pbz2': 3.9973807301970363, 'exp16v6AugmixB4Step2_fold2.pbz2': 1.8625449083888166, 'exp16v6AugmixB4_fold2.pbz2': 2.9177323015774284, 'exp16v6AugmixB4_fold2_remove_background.pbz2': 0.15344656377138766, 'exp21b6_fold2_remove_background.pbz2': 1.6765042069985818}. Best is trial 211 with value: 0.8687718663288696.\u001b[0m\n",
      "\u001b[32m[I 2022-04-17 07:31:22,618]\u001b[0m Trial 223 finished with value: 0.8678509671452126 and parameters: {'exp16v6AugMixNew4_fold2.pbz2': 2.0852104629343726, 'exp16v6AugMixNew4_fold2_tta.pbz2': 2.2195624089505777, 'exp16v6AugmixB3_fold2.pbz2': 0.6787294180270154, 'exp16v6AugmixB4Full_fold2.pbz2': 3.806207854885538, 'exp16v6AugmixB4Step2_fold2.pbz2': 2.24405210153034, 'exp16v6AugmixB4_fold2.pbz2': 3.0282898109872227, 'exp16v6AugmixB4_fold2_remove_background.pbz2': 0.3234929308626381, 'exp21b6_fold2_remove_background.pbz2': 1.5173892780805809}. Best is trial 211 with value: 0.8687718663288696.\u001b[0m\n"
     ]
    },
    {
     "name": "stdout",
     "output_type": "stream",
     "text": [
      "CPU times: user 5min, sys: 1.09 s, total: 5min 1s\n",
      "Wall time: 5min\n"
     ]
    }
   ],
   "source": [
    "%%time\n",
    "\n",
    "study = optuna.create_study(direction='maximize')\n",
    "study.optimize(objective_wrapper(exps), timeout=300)"
   ]
  },
  {
   "cell_type": "code",
   "execution_count": 21,
   "metadata": {},
   "outputs": [
    {
     "data": {
      "text/html": [
       "<div>\n",
       "<style scoped>\n",
       "    .dataframe tbody tr th:only-of-type {\n",
       "        vertical-align: middle;\n",
       "    }\n",
       "\n",
       "    .dataframe tbody tr th {\n",
       "        vertical-align: top;\n",
       "    }\n",
       "\n",
       "    .dataframe thead th {\n",
       "        text-align: right;\n",
       "    }\n",
       "</style>\n",
       "<table border=\"1\" class=\"dataframe\">\n",
       "  <thead>\n",
       "    <tr style=\"text-align: right;\">\n",
       "      <th></th>\n",
       "      <th>number</th>\n",
       "      <th>value</th>\n",
       "      <th>datetime_start</th>\n",
       "      <th>datetime_complete</th>\n",
       "      <th>duration</th>\n",
       "      <th>params_exp16v6AugMixNew4_fold2.pbz2</th>\n",
       "      <th>params_exp16v6AugMixNew4_fold2_tta.pbz2</th>\n",
       "      <th>params_exp16v6AugmixB3_fold2.pbz2</th>\n",
       "      <th>params_exp16v6AugmixB4Full_fold2.pbz2</th>\n",
       "      <th>params_exp16v6AugmixB4Step2_fold2.pbz2</th>\n",
       "      <th>params_exp16v6AugmixB4_fold2.pbz2</th>\n",
       "      <th>params_exp16v6AugmixB4_fold2_remove_background.pbz2</th>\n",
       "      <th>params_exp21b6_fold2_remove_background.pbz2</th>\n",
       "      <th>state</th>\n",
       "    </tr>\n",
       "  </thead>\n",
       "  <tbody>\n",
       "    <tr>\n",
       "      <th>0</th>\n",
       "      <td>0</td>\n",
       "      <td>0.843497</td>\n",
       "      <td>2022-04-17 07:26:22.120764</td>\n",
       "      <td>2022-04-17 07:26:23.437901</td>\n",
       "      <td>0 days 00:00:01.317137</td>\n",
       "      <td>0.970809</td>\n",
       "      <td>1.072034</td>\n",
       "      <td>2.814116</td>\n",
       "      <td>0.734587</td>\n",
       "      <td>0.178490</td>\n",
       "      <td>2.283816</td>\n",
       "      <td>0.323162</td>\n",
       "      <td>3.613707</td>\n",
       "      <td>COMPLETE</td>\n",
       "    </tr>\n",
       "    <tr>\n",
       "      <th>7</th>\n",
       "      <td>7</td>\n",
       "      <td>0.844812</td>\n",
       "      <td>2022-04-17 07:26:31.453249</td>\n",
       "      <td>2022-04-17 07:26:32.764296</td>\n",
       "      <td>0 days 00:00:01.311047</td>\n",
       "      <td>2.111370</td>\n",
       "      <td>0.846310</td>\n",
       "      <td>2.277342</td>\n",
       "      <td>0.234850</td>\n",
       "      <td>3.173974</td>\n",
       "      <td>3.953537</td>\n",
       "      <td>1.753518</td>\n",
       "      <td>1.441102</td>\n",
       "      <td>COMPLETE</td>\n",
       "    </tr>\n",
       "    <tr>\n",
       "      <th>5</th>\n",
       "      <td>5</td>\n",
       "      <td>0.846608</td>\n",
       "      <td>2022-04-17 07:26:28.700016</td>\n",
       "      <td>2022-04-17 07:26:29.998710</td>\n",
       "      <td>0 days 00:00:01.298694</td>\n",
       "      <td>0.439622</td>\n",
       "      <td>1.149550</td>\n",
       "      <td>2.670389</td>\n",
       "      <td>2.868654</td>\n",
       "      <td>3.516953</td>\n",
       "      <td>3.747947</td>\n",
       "      <td>3.094981</td>\n",
       "      <td>2.387526</td>\n",
       "      <td>COMPLETE</td>\n",
       "    </tr>\n",
       "    <tr>\n",
       "      <th>133</th>\n",
       "      <td>133</td>\n",
       "      <td>0.851027</td>\n",
       "      <td>2022-04-17 07:29:20.048538</td>\n",
       "      <td>2022-04-17 07:29:21.383782</td>\n",
       "      <td>0 days 00:00:01.335244</td>\n",
       "      <td>2.606597</td>\n",
       "      <td>1.314766</td>\n",
       "      <td>1.463435</td>\n",
       "      <td>0.152541</td>\n",
       "      <td>1.201996</td>\n",
       "      <td>2.025432</td>\n",
       "      <td>2.356981</td>\n",
       "      <td>1.509676</td>\n",
       "      <td>COMPLETE</td>\n",
       "    </tr>\n",
       "    <tr>\n",
       "      <th>4</th>\n",
       "      <td>4</td>\n",
       "      <td>0.852582</td>\n",
       "      <td>2022-04-17 07:26:27.388785</td>\n",
       "      <td>2022-04-17 07:26:28.698526</td>\n",
       "      <td>0 days 00:00:01.309741</td>\n",
       "      <td>0.993337</td>\n",
       "      <td>1.097395</td>\n",
       "      <td>2.994419</td>\n",
       "      <td>1.851528</td>\n",
       "      <td>1.220914</td>\n",
       "      <td>0.001748</td>\n",
       "      <td>3.277270</td>\n",
       "      <td>2.000092</td>\n",
       "      <td>COMPLETE</td>\n",
       "    </tr>\n",
       "    <tr>\n",
       "      <th>...</th>\n",
       "      <td>...</td>\n",
       "      <td>...</td>\n",
       "      <td>...</td>\n",
       "      <td>...</td>\n",
       "      <td>...</td>\n",
       "      <td>...</td>\n",
       "      <td>...</td>\n",
       "      <td>...</td>\n",
       "      <td>...</td>\n",
       "      <td>...</td>\n",
       "      <td>...</td>\n",
       "      <td>...</td>\n",
       "      <td>...</td>\n",
       "      <td>...</td>\n",
       "    </tr>\n",
       "    <tr>\n",
       "      <th>182</th>\n",
       "      <td>182</td>\n",
       "      <td>0.868585</td>\n",
       "      <td>2022-04-17 07:30:25.781326</td>\n",
       "      <td>2022-04-17 07:30:27.114137</td>\n",
       "      <td>0 days 00:00:01.332811</td>\n",
       "      <td>2.030986</td>\n",
       "      <td>2.298997</td>\n",
       "      <td>0.738998</td>\n",
       "      <td>3.914749</td>\n",
       "      <td>1.776642</td>\n",
       "      <td>3.103301</td>\n",
       "      <td>0.137090</td>\n",
       "      <td>1.601728</td>\n",
       "      <td>COMPLETE</td>\n",
       "    </tr>\n",
       "    <tr>\n",
       "      <th>187</th>\n",
       "      <td>187</td>\n",
       "      <td>0.868589</td>\n",
       "      <td>2022-04-17 07:30:32.522178</td>\n",
       "      <td>2022-04-17 07:30:33.984710</td>\n",
       "      <td>0 days 00:00:01.462532</td>\n",
       "      <td>1.964391</td>\n",
       "      <td>2.378099</td>\n",
       "      <td>0.723068</td>\n",
       "      <td>3.939084</td>\n",
       "      <td>1.794860</td>\n",
       "      <td>3.093336</td>\n",
       "      <td>0.100736</td>\n",
       "      <td>1.571370</td>\n",
       "      <td>COMPLETE</td>\n",
       "    </tr>\n",
       "    <tr>\n",
       "      <th>210</th>\n",
       "      <td>210</td>\n",
       "      <td>0.868639</td>\n",
       "      <td>2022-04-17 07:31:03.552579</td>\n",
       "      <td>2022-04-17 07:31:04.886826</td>\n",
       "      <td>0 days 00:00:01.334247</td>\n",
       "      <td>1.965968</td>\n",
       "      <td>2.128464</td>\n",
       "      <td>0.710920</td>\n",
       "      <td>3.859309</td>\n",
       "      <td>1.887466</td>\n",
       "      <td>2.943851</td>\n",
       "      <td>0.161025</td>\n",
       "      <td>1.585262</td>\n",
       "      <td>COMPLETE</td>\n",
       "    </tr>\n",
       "    <tr>\n",
       "      <th>175</th>\n",
       "      <td>175</td>\n",
       "      <td>0.868653</td>\n",
       "      <td>2022-04-17 07:30:16.446762</td>\n",
       "      <td>2022-04-17 07:30:17.773384</td>\n",
       "      <td>0 days 00:00:01.326622</td>\n",
       "      <td>2.103332</td>\n",
       "      <td>2.284164</td>\n",
       "      <td>0.752474</td>\n",
       "      <td>3.876273</td>\n",
       "      <td>1.393683</td>\n",
       "      <td>2.666470</td>\n",
       "      <td>0.010052</td>\n",
       "      <td>1.620845</td>\n",
       "      <td>COMPLETE</td>\n",
       "    </tr>\n",
       "    <tr>\n",
       "      <th>211</th>\n",
       "      <td>211</td>\n",
       "      <td>0.868772</td>\n",
       "      <td>2022-04-17 07:31:04.888566</td>\n",
       "      <td>2022-04-17 07:31:06.227771</td>\n",
       "      <td>0 days 00:00:01.339205</td>\n",
       "      <td>1.974101</td>\n",
       "      <td>2.142946</td>\n",
       "      <td>0.679782</td>\n",
       "      <td>3.996460</td>\n",
       "      <td>1.895480</td>\n",
       "      <td>2.947449</td>\n",
       "      <td>0.157672</td>\n",
       "      <td>1.585197</td>\n",
       "      <td>COMPLETE</td>\n",
       "    </tr>\n",
       "  </tbody>\n",
       "</table>\n",
       "<p>224 rows × 14 columns</p>\n",
       "</div>"
      ],
      "text/plain": [
       "     number     value             datetime_start          datetime_complete  \\\n",
       "0         0  0.843497 2022-04-17 07:26:22.120764 2022-04-17 07:26:23.437901   \n",
       "7         7  0.844812 2022-04-17 07:26:31.453249 2022-04-17 07:26:32.764296   \n",
       "5         5  0.846608 2022-04-17 07:26:28.700016 2022-04-17 07:26:29.998710   \n",
       "133     133  0.851027 2022-04-17 07:29:20.048538 2022-04-17 07:29:21.383782   \n",
       "4         4  0.852582 2022-04-17 07:26:27.388785 2022-04-17 07:26:28.698526   \n",
       "..      ...       ...                        ...                        ...   \n",
       "182     182  0.868585 2022-04-17 07:30:25.781326 2022-04-17 07:30:27.114137   \n",
       "187     187  0.868589 2022-04-17 07:30:32.522178 2022-04-17 07:30:33.984710   \n",
       "210     210  0.868639 2022-04-17 07:31:03.552579 2022-04-17 07:31:04.886826   \n",
       "175     175  0.868653 2022-04-17 07:30:16.446762 2022-04-17 07:30:17.773384   \n",
       "211     211  0.868772 2022-04-17 07:31:04.888566 2022-04-17 07:31:06.227771   \n",
       "\n",
       "                  duration  params_exp16v6AugMixNew4_fold2.pbz2  \\\n",
       "0   0 days 00:00:01.317137                             0.970809   \n",
       "7   0 days 00:00:01.311047                             2.111370   \n",
       "5   0 days 00:00:01.298694                             0.439622   \n",
       "133 0 days 00:00:01.335244                             2.606597   \n",
       "4   0 days 00:00:01.309741                             0.993337   \n",
       "..                     ...                                  ...   \n",
       "182 0 days 00:00:01.332811                             2.030986   \n",
       "187 0 days 00:00:01.462532                             1.964391   \n",
       "210 0 days 00:00:01.334247                             1.965968   \n",
       "175 0 days 00:00:01.326622                             2.103332   \n",
       "211 0 days 00:00:01.339205                             1.974101   \n",
       "\n",
       "     params_exp16v6AugMixNew4_fold2_tta.pbz2  \\\n",
       "0                                   1.072034   \n",
       "7                                   0.846310   \n",
       "5                                   1.149550   \n",
       "133                                 1.314766   \n",
       "4                                   1.097395   \n",
       "..                                       ...   \n",
       "182                                 2.298997   \n",
       "187                                 2.378099   \n",
       "210                                 2.128464   \n",
       "175                                 2.284164   \n",
       "211                                 2.142946   \n",
       "\n",
       "     params_exp16v6AugmixB3_fold2.pbz2  params_exp16v6AugmixB4Full_fold2.pbz2  \\\n",
       "0                             2.814116                               0.734587   \n",
       "7                             2.277342                               0.234850   \n",
       "5                             2.670389                               2.868654   \n",
       "133                           1.463435                               0.152541   \n",
       "4                             2.994419                               1.851528   \n",
       "..                                 ...                                    ...   \n",
       "182                           0.738998                               3.914749   \n",
       "187                           0.723068                               3.939084   \n",
       "210                           0.710920                               3.859309   \n",
       "175                           0.752474                               3.876273   \n",
       "211                           0.679782                               3.996460   \n",
       "\n",
       "     params_exp16v6AugmixB4Step2_fold2.pbz2  \\\n",
       "0                                  0.178490   \n",
       "7                                  3.173974   \n",
       "5                                  3.516953   \n",
       "133                                1.201996   \n",
       "4                                  1.220914   \n",
       "..                                      ...   \n",
       "182                                1.776642   \n",
       "187                                1.794860   \n",
       "210                                1.887466   \n",
       "175                                1.393683   \n",
       "211                                1.895480   \n",
       "\n",
       "     params_exp16v6AugmixB4_fold2.pbz2  \\\n",
       "0                             2.283816   \n",
       "7                             3.953537   \n",
       "5                             3.747947   \n",
       "133                           2.025432   \n",
       "4                             0.001748   \n",
       "..                                 ...   \n",
       "182                           3.103301   \n",
       "187                           3.093336   \n",
       "210                           2.943851   \n",
       "175                           2.666470   \n",
       "211                           2.947449   \n",
       "\n",
       "     params_exp16v6AugmixB4_fold2_remove_background.pbz2  \\\n",
       "0                                             0.323162     \n",
       "7                                             1.753518     \n",
       "5                                             3.094981     \n",
       "133                                           2.356981     \n",
       "4                                             3.277270     \n",
       "..                                                 ...     \n",
       "182                                           0.137090     \n",
       "187                                           0.100736     \n",
       "210                                           0.161025     \n",
       "175                                           0.010052     \n",
       "211                                           0.157672     \n",
       "\n",
       "     params_exp21b6_fold2_remove_background.pbz2     state  \n",
       "0                                       3.613707  COMPLETE  \n",
       "7                                       1.441102  COMPLETE  \n",
       "5                                       2.387526  COMPLETE  \n",
       "133                                     1.509676  COMPLETE  \n",
       "4                                       2.000092  COMPLETE  \n",
       "..                                           ...       ...  \n",
       "182                                     1.601728  COMPLETE  \n",
       "187                                     1.571370  COMPLETE  \n",
       "210                                     1.585262  COMPLETE  \n",
       "175                                     1.620845  COMPLETE  \n",
       "211                                     1.585197  COMPLETE  \n",
       "\n",
       "[224 rows x 14 columns]"
      ]
     },
     "execution_count": 21,
     "metadata": {},
     "output_type": "execute_result"
    }
   ],
   "source": [
    "study.trials_dataframe().sort_values(\"value\")"
   ]
  },
  {
   "cell_type": "code",
   "execution_count": 22,
   "metadata": {},
   "outputs": [
    {
     "data": {
      "text/plain": [
       "{'exp16v6AugMixNew4_fold2.pbz2': 1.9741011458608575,\n",
       " 'exp16v6AugMixNew4_fold2_tta.pbz2': 2.142945591433017,\n",
       " 'exp16v6AugmixB3_fold2.pbz2': 0.6797818704300601,\n",
       " 'exp16v6AugmixB4Full_fold2.pbz2': 3.9964604130617207,\n",
       " 'exp16v6AugmixB4Step2_fold2.pbz2': 1.8954797907800192,\n",
       " 'exp16v6AugmixB4_fold2.pbz2': 2.9474486633265937,\n",
       " 'exp16v6AugmixB4_fold2_remove_background.pbz2': 0.1576716329922889,\n",
       " 'exp21b6_fold2_remove_background.pbz2': 1.585196642019381}"
      ]
     },
     "execution_count": 22,
     "metadata": {},
     "output_type": "execute_result"
    }
   ],
   "source": [
    "study.best_params"
   ]
  },
  {
   "cell_type": "code",
   "execution_count": 23,
   "metadata": {},
   "outputs": [],
   "source": [
    "best_weights = list(study.best_params.values())"
   ]
  },
  {
   "cell_type": "code",
   "execution_count": 24,
   "metadata": {},
   "outputs": [
    {
     "data": {
      "text/plain": [
       "0.8687718663288696"
      ]
     },
     "execution_count": 24,
     "metadata": {},
     "output_type": "execute_result"
    }
   ],
   "source": [
    "# weighted result\n",
    "get_score([1] + best_weights)"
   ]
  },
  {
   "cell_type": "code",
   "execution_count": 25,
   "metadata": {},
   "outputs": [
    {
     "data": {
      "text/plain": [
       "0.8584469377086097"
      ]
     },
     "execution_count": 25,
     "metadata": {},
     "output_type": "execute_result"
    }
   ],
   "source": [
    "# un-weighted result\n",
    "get_score([1] * len(exps))"
   ]
  }
 ],
 "metadata": {
  "kernelspec": {
   "display_name": "Python 3 (ipykernel)",
   "language": "python",
   "name": "python3"
  },
  "language_info": {
   "codemirror_mode": {
    "name": "ipython",
    "version": 3
   },
   "file_extension": ".py",
   "mimetype": "text/x-python",
   "name": "python",
   "nbconvert_exporter": "python",
   "pygments_lexer": "ipython3",
   "version": "3.7.12"
  }
 },
 "nbformat": 4,
 "nbformat_minor": 4
}
