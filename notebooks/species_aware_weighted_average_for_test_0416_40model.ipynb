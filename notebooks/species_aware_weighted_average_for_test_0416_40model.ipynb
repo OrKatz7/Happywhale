{
 "cells": [
  {
   "cell_type": "code",
   "execution_count": 1,
   "metadata": {
    "scrolled": true
   },
   "outputs": [],
   "source": [
    "import numpy as np\n",
    "import matplotlib.pyplot as plt\n",
    "import pandas as pd\n",
    "import json\n",
    "import glob\n",
    "\n",
    "from tqdm import tqdm\n",
    "import seaborn as sns\n",
    "from collections import Counter\n",
    "\n",
    "import cv2"
   ]
  },
  {
   "cell_type": "code",
   "execution_count": 2,
   "metadata": {},
   "outputs": [],
   "source": [
    "from glob import glob\n",
    "from sklearn.model_selection import GroupKFold, StratifiedKFold\n",
    "from skimage import io\n",
    "import torch\n",
    "from torch import nn\n",
    "import os\n",
    "from datetime import datetime\n",
    "import time\n",
    "import random\n",
    "import cv2\n",
    "import torchvision\n",
    "from torchvision import transforms\n",
    "import pandas as pd\n",
    "import numpy as np\n",
    "from tqdm import tqdm\n",
    "\n",
    "import matplotlib.pyplot as plt\n",
    "from torch.utils.data import Dataset,DataLoader\n",
    "from torch.utils.data.sampler import SequentialSampler, RandomSampler\n",
    "from torch.cuda.amp import autocast, GradScaler\n",
    "from torch.nn.modules.loss import _WeightedLoss\n",
    "import torch.nn.functional as F\n",
    "\n",
    "#import timm\n",
    "\n",
    "import sklearn\n",
    "import warnings\n",
    "import joblib\n",
    "from sklearn.metrics import roc_auc_score, log_loss\n",
    "from sklearn import metrics\n",
    "import warnings\n",
    "import cv2\n",
    "#from efficientnet_pytorch import EfficientNet\n",
    "from scipy.ndimage.interpolation import zoom"
   ]
  },
  {
   "cell_type": "code",
   "execution_count": 3,
   "metadata": {},
   "outputs": [],
   "source": [
    "import cudf, cuml, cupy\n",
    "from cuml.feature_extraction.text import TfidfVectorizer\n",
    "from cuml.neighbors import NearestNeighbors"
   ]
  },
  {
   "cell_type": "code",
   "execution_count": 4,
   "metadata": {
    "scrolled": true
   },
   "outputs": [
    {
     "data": {
      "text/plain": [
       "(51033, 3)"
      ]
     },
     "execution_count": 4,
     "metadata": {},
     "output_type": "execute_result"
    }
   ],
   "source": [
    "train = pd.read_csv(\"/kaggle/happywhale/input/train.csv\")\n",
    "train.shape"
   ]
  },
  {
   "cell_type": "code",
   "execution_count": 5,
   "metadata": {},
   "outputs": [],
   "source": [
    "train.species.replace({\"globis\": \"short_finned_pilot_whale\",\n",
    "                          \"pilot_whale\": \"short_finned_pilot_whale\",\n",
    "                          \"kiler_whale\": \"killer_whale\",\n",
    "                          \"bottlenose_dolpin\": \"bottlenose_dolphin\"}, inplace=True)"
   ]
  },
  {
   "cell_type": "code",
   "execution_count": 6,
   "metadata": {},
   "outputs": [],
   "source": [
    "from sklearn.preprocessing import normalize\n",
    "from scipy.spatial import distance"
   ]
  },
  {
   "cell_type": "code",
   "execution_count": 7,
   "metadata": {},
   "outputs": [],
   "source": [
    "import pickle\n",
    "\n",
    "def load_emb(exp_names,pickle_name):\n",
    "    # train/valid   train_all/test\n",
    "    emb_lis = []\n",
    "    for exp in exp_names:\n",
    "        with open(exp + '/' + pickle_name + '.pickle', 'rb') as f:\n",
    "            valid_preds = pickle.load(f)\n",
    "        emb_lis.append(valid_preds)\n",
    "    \n",
    "    return normalize(np.concatenate(emb_lis,axis=1))\n",
    "        "
   ]
  },
  {
   "cell_type": "code",
   "execution_count": 8,
   "metadata": {},
   "outputs": [],
   "source": [
    "import pickle\n",
    "\n",
    "def load_emb_weighted(exp_names,pickle_name,weights):\n",
    "    # train/valid   train_all/test\n",
    "    emb_lis = []\n",
    "    for exp,w in zip(exp_names,weights):\n",
    "        with open(exp + '/' + pickle_name + '.pickle', 'rb') as f:\n",
    "            valid_preds = pickle.load(f)\n",
    "        valid_preds *= w\n",
    "        emb_lis.append(valid_preds)\n",
    "    \n",
    "    return normalize(np.concatenate(emb_lis,axis=1))\n",
    "        "
   ]
  },
  {
   "cell_type": "code",
   "execution_count": 9,
   "metadata": {},
   "outputs": [],
   "source": [
    "exps = [\n",
    "    \"aws_exp000\",\"aws_exp001\",\"aws_exp002\",\"aws_exp003\",\"aws_exp004\", # backfin\n",
    "    \"exp093\",\"exp098\",\"exp099\",\"exp100\",\"exp101\", # fullbody\n",
    "    \"aws_exp006\",\"aws_exp007\",\"aws_exp008\",\"aws_exp009\",\"aws_exp010\", # ensemble\n",
    "    \"aws_exp022\",\"aws_exp023\",\"aws_exp024\",\"aws_exp025\",\"aws_exp026\", # backfin_ensemble_species\n",
    "    \"exp113\",\"exp114\",\"exp115\",\"exp116\",\"exp117\", # new_ensemble\n",
    "    \n",
    "    \"aws_exp028\",\"aws_exp029\",\"aws_exp030\",\"aws_exp031\",\"aws_exp032\", # backfin_ensemble_species_long\n",
    "    \"exp118\",\"exp119\",\"exp120\",\"exp121\",\"exp122\", # new_ensemble_900600\n",
    "    \"exp047\",\"exp050\",\"exp051\",\"exp052\",\"exp054\", # backfin_croped\n",
    "    \n",
    "]"
   ]
  },
  {
   "cell_type": "code",
   "execution_count": 10,
   "metadata": {},
   "outputs": [],
   "source": [
    "assert(len(exps) == len(set(exps)))"
   ]
  },
  {
   "cell_type": "code",
   "execution_count": 11,
   "metadata": {},
   "outputs": [],
   "source": [
    "def get_map(valid_preds, train_preds,valid_df,train_df):\n",
    "\n",
    "    distances = cuml.metrics.pairwise_distances(valid_preds,train_preds)\n",
    "\n",
    "    K=min(1000,len(train_df)-1)\n",
    "    predicted_positions = np.argpartition(distances, K, axis=1)[:, :K]\n",
    "\n",
    "    score_lis = []\n",
    "    pred_ids = []\n",
    "    corredt_ids  = []\n",
    "    hit_species=defaultdict(int)\n",
    "    count_species=defaultdict(int)\n",
    "\n",
    "    train_inddividual_id_lis = train_df[\"individual_id\"].values\n",
    "    valid_inddividual_id_lis = valid_df[\"individual_id\"].values\n",
    "\n",
    "    rank_lis=[]\n",
    "\n",
    "    for i in tqdm(range(predicted_positions.shape[0])):\n",
    "        nearest = [(train_inddividual_id_lis[j], distances[i, j]) for j in predicted_positions[i]]\n",
    "        nearest.sort(key=lambda x: x[1])\n",
    "\n",
    "        prediction = [index_id for index_id, d in nearest]\n",
    "\n",
    "        done = set()\n",
    "        pred_list = []\n",
    "        for pred_id in prediction:\n",
    "            if pred_id in done:\n",
    "                continue\n",
    "            done.add(pred_id)\n",
    "            pred_list.append(pred_id)\n",
    "            if len(pred_list)==5:\n",
    "                break\n",
    "        pred_ids.append(pred_list)\n",
    "\n",
    "        if valid_inddividual_id_lis[i] in pred_list:\n",
    "            s = 1/(pred_list.index(valid_inddividual_id_lis[i]) + 1)\n",
    "            score_lis.append(s)\n",
    "            rank_lis.append(pred_list.index(valid_inddividual_id_lis[i]))\n",
    "        else:\n",
    "            score_lis.append(0)\n",
    "            rank_lis.append(5)\n",
    "\n",
    "        \n",
    "    return score_lis"
   ]
  },
  {
   "cell_type": "code",
   "execution_count": 12,
   "metadata": {},
   "outputs": [],
   "source": [
    "def get_score(species,exps,weights):\n",
    "    train_preds = load_emb_weighted(exps,\"train\",weights)\n",
    "    valid_preds = load_emb_weighted(exps,\"valid\",weights)\n",
    "    \n",
    "    species_train_df = train_df.query(\"species in @species\")\n",
    "    species_valid_df = valid_df_for_train.query(\"species in @species\")\n",
    "\n",
    "    train_preds = train_preds[species_train_df.index]\n",
    "    valid_preds = valid_preds[species_valid_df.index]\n",
    "    \n",
    "    return get_map(valid_preds,train_preds,species_valid_df,species_train_df)"
   ]
  },
  {
   "cell_type": "code",
   "execution_count": 13,
   "metadata": {},
   "outputs": [],
   "source": [
    "result_df_4 = pd.read_csv(\"species_aware_weighted_average_0416_fold_4_final.csv\")\n",
    "result_df_3 = pd.read_csv(\"species_aware_weighted_average_0416_fold_3_final.csv\")\n",
    "result_df_2 = pd.read_csv(\"species_aware_weighted_average_0416_fold_2_final.csv\")\n",
    "result_df_1 = pd.read_csv(\"species_aware_weighted_average_0416_fold_1_final.csv\")\n",
    "result_df_0 = pd.read_csv(\"species_aware_weighted_average_0416_fold_0_final.csv\")"
   ]
  },
  {
   "cell_type": "code",
   "execution_count": 14,
   "metadata": {},
   "outputs": [
    {
     "name": "stdout",
     "output_type": "stream",
     "text": [
      "(13, 10)\n",
      "(13, 10)\n"
     ]
    }
   ],
   "source": [
    "print(result_df_3.shape)\n",
    "print(result_df_4.shape)"
   ]
  },
  {
   "cell_type": "code",
   "execution_count": 15,
   "metadata": {
    "scrolled": true
   },
   "outputs": [
    {
     "data": {
      "text/html": [
       "<div>\n",
       "<style scoped>\n",
       "    .dataframe tbody tr th:only-of-type {\n",
       "        vertical-align: middle;\n",
       "    }\n",
       "\n",
       "    .dataframe tbody tr th {\n",
       "        vertical-align: top;\n",
       "    }\n",
       "\n",
       "    .dataframe thead th {\n",
       "        text-align: right;\n",
       "    }\n",
       "</style>\n",
       "<table border=\"1\" class=\"dataframe\">\n",
       "  <thead>\n",
       "    <tr style=\"text-align: right;\">\n",
       "      <th></th>\n",
       "      <th>species</th>\n",
       "      <th>backfin</th>\n",
       "      <th>fullbody</th>\n",
       "      <th>ensemble</th>\n",
       "      <th>backfin_ensemble_spe</th>\n",
       "      <th>new_ensemble</th>\n",
       "      <th>backfin_ensemble_spe_new</th>\n",
       "      <th>new_ensemble_900600</th>\n",
       "      <th>backfin_croped</th>\n",
       "      <th>best</th>\n",
       "    </tr>\n",
       "  </thead>\n",
       "  <tbody>\n",
       "    <tr>\n",
       "      <th>0</th>\n",
       "      <td>blue_whale</td>\n",
       "      <td>1</td>\n",
       "      <td>2.793458</td>\n",
       "      <td>0.323647</td>\n",
       "      <td>0.805659</td>\n",
       "      <td>1.962065</td>\n",
       "      <td>0.805659</td>\n",
       "      <td>1.962065</td>\n",
       "      <td>2.653752</td>\n",
       "      <td>0.589443</td>\n",
       "    </tr>\n",
       "    <tr>\n",
       "      <th>1</th>\n",
       "      <td>beluga</td>\n",
       "      <td>1</td>\n",
       "      <td>3.926540</td>\n",
       "      <td>2.426636</td>\n",
       "      <td>3.075337</td>\n",
       "      <td>3.032417</td>\n",
       "      <td>3.075337</td>\n",
       "      <td>3.032417</td>\n",
       "      <td>1.914637</td>\n",
       "      <td>0.767939</td>\n",
       "    </tr>\n",
       "    <tr>\n",
       "      <th>2</th>\n",
       "      <td>gray_whale</td>\n",
       "      <td>1</td>\n",
       "      <td>3.089329</td>\n",
       "      <td>1.263204</td>\n",
       "      <td>2.682844</td>\n",
       "      <td>0.861244</td>\n",
       "      <td>2.682844</td>\n",
       "      <td>0.861244</td>\n",
       "      <td>2.297280</td>\n",
       "      <td>0.822330</td>\n",
       "    </tr>\n",
       "    <tr>\n",
       "      <th>3</th>\n",
       "      <td>dusky_dolphin</td>\n",
       "      <td>1</td>\n",
       "      <td>0.836969</td>\n",
       "      <td>0.288020</td>\n",
       "      <td>2.616178</td>\n",
       "      <td>2.955244</td>\n",
       "      <td>2.616178</td>\n",
       "      <td>2.955244</td>\n",
       "      <td>2.591753</td>\n",
       "      <td>0.861358</td>\n",
       "    </tr>\n",
       "    <tr>\n",
       "      <th>4</th>\n",
       "      <td>fin_whale</td>\n",
       "      <td>1</td>\n",
       "      <td>3.943746</td>\n",
       "      <td>1.877433</td>\n",
       "      <td>2.341293</td>\n",
       "      <td>1.959678</td>\n",
       "      <td>2.341293</td>\n",
       "      <td>1.959678</td>\n",
       "      <td>2.946659</td>\n",
       "      <td>0.907728</td>\n",
       "    </tr>\n",
       "  </tbody>\n",
       "</table>\n",
       "</div>"
      ],
      "text/plain": [
       "         species  backfin  fullbody  ensemble  backfin_ensemble_spe  \\\n",
       "0     blue_whale        1  2.793458  0.323647              0.805659   \n",
       "1         beluga        1  3.926540  2.426636              3.075337   \n",
       "2     gray_whale        1  3.089329  1.263204              2.682844   \n",
       "3  dusky_dolphin        1  0.836969  0.288020              2.616178   \n",
       "4      fin_whale        1  3.943746  1.877433              2.341293   \n",
       "\n",
       "   new_ensemble  backfin_ensemble_spe_new  new_ensemble_900600  \\\n",
       "0      1.962065                  0.805659             1.962065   \n",
       "1      3.032417                  3.075337             3.032417   \n",
       "2      0.861244                  2.682844             0.861244   \n",
       "3      2.955244                  2.616178             2.955244   \n",
       "4      1.959678                  2.341293             1.959678   \n",
       "\n",
       "   backfin_croped      best  \n",
       "0        2.653752  0.589443  \n",
       "1        1.914637  0.767939  \n",
       "2        2.297280  0.822330  \n",
       "3        2.591753  0.861358  \n",
       "4        2.946659  0.907728  "
      ]
     },
     "execution_count": 15,
     "metadata": {},
     "output_type": "execute_result"
    }
   ],
   "source": [
    "result_df_3.head()"
   ]
  },
  {
   "cell_type": "code",
   "execution_count": 16,
   "metadata": {},
   "outputs": [],
   "source": [
    "result_df = pd.DataFrame()\n",
    "\n",
    "result_df[\"species\"]  = result_df_0[\"species\"]\n",
    "result_df[\"backfin\"]  = 1\n",
    "\n",
    "keys=[\"fullbody\",\"ensemble\",\"backfin_ensemble_spe\",\"new_ensemble\",\"backfin_ensemble_spe_new\",\"new_ensemble_900600\",\"backfin_croped\"]\n",
    "for key in keys:\n",
    "    result_df[key] = (result_df_4[key] + result_df_3[key] + result_df_2[key] + result_df_1[key] + result_df_0[key] )/5\n"
   ]
  },
  {
   "cell_type": "code",
   "execution_count": 17,
   "metadata": {},
   "outputs": [
    {
     "data": {
      "text/html": [
       "<div>\n",
       "<style scoped>\n",
       "    .dataframe tbody tr th:only-of-type {\n",
       "        vertical-align: middle;\n",
       "    }\n",
       "\n",
       "    .dataframe tbody tr th {\n",
       "        vertical-align: top;\n",
       "    }\n",
       "\n",
       "    .dataframe thead th {\n",
       "        text-align: right;\n",
       "    }\n",
       "</style>\n",
       "<table border=\"1\" class=\"dataframe\">\n",
       "  <thead>\n",
       "    <tr style=\"text-align: right;\">\n",
       "      <th></th>\n",
       "      <th>species</th>\n",
       "      <th>backfin</th>\n",
       "      <th>fullbody</th>\n",
       "      <th>ensemble</th>\n",
       "      <th>backfin_ensemble_spe</th>\n",
       "      <th>new_ensemble</th>\n",
       "      <th>backfin_ensemble_spe_new</th>\n",
       "      <th>new_ensemble_900600</th>\n",
       "      <th>backfin_croped</th>\n",
       "    </tr>\n",
       "  </thead>\n",
       "  <tbody>\n",
       "    <tr>\n",
       "      <th>0</th>\n",
       "      <td>blue_whale</td>\n",
       "      <td>1</td>\n",
       "      <td>3.282420</td>\n",
       "      <td>0.332993</td>\n",
       "      <td>1.008228</td>\n",
       "      <td>2.603367</td>\n",
       "      <td>1.008228</td>\n",
       "      <td>2.603367</td>\n",
       "      <td>3.209371</td>\n",
       "    </tr>\n",
       "    <tr>\n",
       "      <th>1</th>\n",
       "      <td>beluga</td>\n",
       "      <td>1</td>\n",
       "      <td>3.604818</td>\n",
       "      <td>2.121889</td>\n",
       "      <td>1.380604</td>\n",
       "      <td>2.525593</td>\n",
       "      <td>1.380604</td>\n",
       "      <td>2.525593</td>\n",
       "      <td>1.756786</td>\n",
       "    </tr>\n",
       "    <tr>\n",
       "      <th>2</th>\n",
       "      <td>gray_whale</td>\n",
       "      <td>1</td>\n",
       "      <td>3.115138</td>\n",
       "      <td>2.582002</td>\n",
       "      <td>1.414420</td>\n",
       "      <td>2.383957</td>\n",
       "      <td>1.414420</td>\n",
       "      <td>2.383957</td>\n",
       "      <td>2.842479</td>\n",
       "    </tr>\n",
       "    <tr>\n",
       "      <th>3</th>\n",
       "      <td>dusky_dolphin</td>\n",
       "      <td>1</td>\n",
       "      <td>0.942475</td>\n",
       "      <td>0.849297</td>\n",
       "      <td>2.424276</td>\n",
       "      <td>2.911747</td>\n",
       "      <td>2.424276</td>\n",
       "      <td>2.911747</td>\n",
       "      <td>1.165269</td>\n",
       "    </tr>\n",
       "    <tr>\n",
       "      <th>4</th>\n",
       "      <td>fin_whale</td>\n",
       "      <td>1</td>\n",
       "      <td>2.426497</td>\n",
       "      <td>1.823028</td>\n",
       "      <td>2.565163</td>\n",
       "      <td>1.778826</td>\n",
       "      <td>2.565163</td>\n",
       "      <td>1.778826</td>\n",
       "      <td>2.153464</td>\n",
       "    </tr>\n",
       "    <tr>\n",
       "      <th>5</th>\n",
       "      <td>humpback_whale</td>\n",
       "      <td>1</td>\n",
       "      <td>3.629925</td>\n",
       "      <td>1.834447</td>\n",
       "      <td>2.293998</td>\n",
       "      <td>1.607656</td>\n",
       "      <td>2.293998</td>\n",
       "      <td>1.607656</td>\n",
       "      <td>2.938796</td>\n",
       "    </tr>\n",
       "    <tr>\n",
       "      <th>6</th>\n",
       "      <td>spinner_dolphin</td>\n",
       "      <td>1</td>\n",
       "      <td>0.988060</td>\n",
       "      <td>1.278206</td>\n",
       "      <td>1.998314</td>\n",
       "      <td>1.567223</td>\n",
       "      <td>1.998314</td>\n",
       "      <td>1.567223</td>\n",
       "      <td>1.777158</td>\n",
       "    </tr>\n",
       "    <tr>\n",
       "      <th>7</th>\n",
       "      <td>melon_headed_whale</td>\n",
       "      <td>1</td>\n",
       "      <td>1.885502</td>\n",
       "      <td>0.593717</td>\n",
       "      <td>2.707340</td>\n",
       "      <td>1.751863</td>\n",
       "      <td>2.707340</td>\n",
       "      <td>1.751863</td>\n",
       "      <td>2.130405</td>\n",
       "    </tr>\n",
       "    <tr>\n",
       "      <th>8</th>\n",
       "      <td>killer_whale</td>\n",
       "      <td>1</td>\n",
       "      <td>2.679921</td>\n",
       "      <td>1.935781</td>\n",
       "      <td>3.134198</td>\n",
       "      <td>1.527681</td>\n",
       "      <td>3.134198</td>\n",
       "      <td>1.527681</td>\n",
       "      <td>2.431447</td>\n",
       "    </tr>\n",
       "    <tr>\n",
       "      <th>9</th>\n",
       "      <td>minke_whale</td>\n",
       "      <td>1</td>\n",
       "      <td>1.982170</td>\n",
       "      <td>2.153529</td>\n",
       "      <td>3.358722</td>\n",
       "      <td>1.751322</td>\n",
       "      <td>3.358722</td>\n",
       "      <td>1.751322</td>\n",
       "      <td>2.362938</td>\n",
       "    </tr>\n",
       "    <tr>\n",
       "      <th>10</th>\n",
       "      <td>bottlenose_dolphin</td>\n",
       "      <td>1</td>\n",
       "      <td>2.687735</td>\n",
       "      <td>2.081428</td>\n",
       "      <td>2.511630</td>\n",
       "      <td>1.235368</td>\n",
       "      <td>2.511630</td>\n",
       "      <td>1.235368</td>\n",
       "      <td>2.783028</td>\n",
       "    </tr>\n",
       "    <tr>\n",
       "      <th>11</th>\n",
       "      <td>false_killer_whale</td>\n",
       "      <td>1</td>\n",
       "      <td>2.829670</td>\n",
       "      <td>1.945442</td>\n",
       "      <td>2.006431</td>\n",
       "      <td>1.924317</td>\n",
       "      <td>2.006431</td>\n",
       "      <td>1.924317</td>\n",
       "      <td>1.943486</td>\n",
       "    </tr>\n",
       "    <tr>\n",
       "      <th>12</th>\n",
       "      <td>minor</td>\n",
       "      <td>1</td>\n",
       "      <td>2.698208</td>\n",
       "      <td>1.633966</td>\n",
       "      <td>2.365898</td>\n",
       "      <td>1.787459</td>\n",
       "      <td>2.365898</td>\n",
       "      <td>1.787459</td>\n",
       "      <td>1.897737</td>\n",
       "    </tr>\n",
       "  </tbody>\n",
       "</table>\n",
       "</div>"
      ],
      "text/plain": [
       "               species  backfin  fullbody  ensemble  backfin_ensemble_spe  \\\n",
       "0           blue_whale        1  3.282420  0.332993              1.008228   \n",
       "1               beluga        1  3.604818  2.121889              1.380604   \n",
       "2           gray_whale        1  3.115138  2.582002              1.414420   \n",
       "3        dusky_dolphin        1  0.942475  0.849297              2.424276   \n",
       "4            fin_whale        1  2.426497  1.823028              2.565163   \n",
       "5       humpback_whale        1  3.629925  1.834447              2.293998   \n",
       "6      spinner_dolphin        1  0.988060  1.278206              1.998314   \n",
       "7   melon_headed_whale        1  1.885502  0.593717              2.707340   \n",
       "8         killer_whale        1  2.679921  1.935781              3.134198   \n",
       "9          minke_whale        1  1.982170  2.153529              3.358722   \n",
       "10  bottlenose_dolphin        1  2.687735  2.081428              2.511630   \n",
       "11  false_killer_whale        1  2.829670  1.945442              2.006431   \n",
       "12               minor        1  2.698208  1.633966              2.365898   \n",
       "\n",
       "    new_ensemble  backfin_ensemble_spe_new  new_ensemble_900600  \\\n",
       "0       2.603367                  1.008228             2.603367   \n",
       "1       2.525593                  1.380604             2.525593   \n",
       "2       2.383957                  1.414420             2.383957   \n",
       "3       2.911747                  2.424276             2.911747   \n",
       "4       1.778826                  2.565163             1.778826   \n",
       "5       1.607656                  2.293998             1.607656   \n",
       "6       1.567223                  1.998314             1.567223   \n",
       "7       1.751863                  2.707340             1.751863   \n",
       "8       1.527681                  3.134198             1.527681   \n",
       "9       1.751322                  3.358722             1.751322   \n",
       "10      1.235368                  2.511630             1.235368   \n",
       "11      1.924317                  2.006431             1.924317   \n",
       "12      1.787459                  2.365898             1.787459   \n",
       "\n",
       "    backfin_croped  \n",
       "0         3.209371  \n",
       "1         1.756786  \n",
       "2         2.842479  \n",
       "3         1.165269  \n",
       "4         2.153464  \n",
       "5         2.938796  \n",
       "6         1.777158  \n",
       "7         2.130405  \n",
       "8         2.431447  \n",
       "9         2.362938  \n",
       "10        2.783028  \n",
       "11        1.943486  \n",
       "12        1.897737  "
      ]
     },
     "execution_count": 17,
     "metadata": {},
     "output_type": "execute_result"
    }
   ],
   "source": [
    "result_df"
   ]
  },
  {
   "cell_type": "markdown",
   "metadata": {},
   "source": [
    "### test"
   ]
  },
  {
   "cell_type": "code",
   "execution_count": 18,
   "metadata": {
    "scrolled": true
   },
   "outputs": [
    {
     "data": {
      "text/plain": [
       "(27956, 2)"
      ]
     },
     "execution_count": 18,
     "metadata": {},
     "output_type": "execute_result"
    }
   ],
   "source": [
    "test_df =pd.read_csv(\"../input/sample_submission.csv\")\n",
    "test_df.shape"
   ]
  },
  {
   "cell_type": "code",
   "execution_count": 19,
   "metadata": {},
   "outputs": [],
   "source": [
    "test_preds      = load_emb(exps,\"test\")\n",
    "train_all_preds = load_emb(exps,\"train_all\")"
   ]
  },
  {
   "cell_type": "code",
   "execution_count": 20,
   "metadata": {},
   "outputs": [
    {
     "name": "stdout",
     "output_type": "stream",
     "text": [
      "(27956, 20480)\n",
      "(51033, 20480)\n"
     ]
    }
   ],
   "source": [
    "print(test_preds.shape)\n",
    "print(train_all_preds.shape)"
   ]
  },
  {
   "cell_type": "code",
   "execution_count": null,
   "metadata": {},
   "outputs": [],
   "source": []
  },
  {
   "cell_type": "code",
   "execution_count": null,
   "metadata": {},
   "outputs": [],
   "source": []
  },
  {
   "cell_type": "code",
   "execution_count": null,
   "metadata": {},
   "outputs": [],
   "source": []
  },
  {
   "cell_type": "code",
   "execution_count": null,
   "metadata": {},
   "outputs": [],
   "source": []
  },
  {
   "cell_type": "markdown",
   "metadata": {},
   "source": [
    "### predict nearest species"
   ]
  },
  {
   "cell_type": "code",
   "execution_count": 21,
   "metadata": {},
   "outputs": [],
   "source": [
    "from sklearn.metrics import pairwise_distances"
   ]
  },
  {
   "cell_type": "code",
   "execution_count": 22,
   "metadata": {},
   "outputs": [
    {
     "name": "stdout",
     "output_type": "stream",
     "text": [
      "CPU times: user 26min 45s, sys: 2min 54s, total: 29min 39s\n",
      "Wall time: 2min 6s\n"
     ]
    }
   ],
   "source": [
    "%%time\n",
    "\n",
    "#distances = cuml.metrics.pairwise_distances(test_preds,train_all_preds)\n",
    "distances = pairwise_distances(test_preds,train_all_preds)"
   ]
  },
  {
   "cell_type": "code",
   "execution_count": 23,
   "metadata": {},
   "outputs": [
    {
     "name": "stdout",
     "output_type": "stream",
     "text": [
      "CPU times: user 3.54 s, sys: 1.08 s, total: 4.63 s\n",
      "Wall time: 4.62 s\n"
     ]
    }
   ],
   "source": [
    "%%time\n",
    "\n",
    "K=1\n",
    "predicted_positions = np.argpartition(distances, K, axis=1)[:, :K]"
   ]
  },
  {
   "cell_type": "code",
   "execution_count": 24,
   "metadata": {},
   "outputs": [
    {
     "data": {
      "text/plain": [
       "(27956, 1)"
      ]
     },
     "execution_count": 24,
     "metadata": {},
     "output_type": "execute_result"
    }
   ],
   "source": [
    "predicted_positions.shape"
   ]
  },
  {
   "cell_type": "code",
   "execution_count": 25,
   "metadata": {},
   "outputs": [],
   "source": [
    "train_species_lis = train.species.values\n",
    "test_pred_species = []\n",
    "\n",
    "\n",
    "for i in range(len(predicted_positions)):\n",
    "    train_species = train_species_lis[predicted_positions[i]][0]\n",
    "    test_pred_species.append(train_species)"
   ]
  },
  {
   "cell_type": "code",
   "execution_count": 26,
   "metadata": {},
   "outputs": [],
   "source": [
    "test_df[\"species\"] = test_pred_species"
   ]
  },
  {
   "cell_type": "code",
   "execution_count": 27,
   "metadata": {},
   "outputs": [
    {
     "data": {
      "text/plain": [
       "Counter({'gray_whale': 643,\n",
       "         'false_killer_whale': 1775,\n",
       "         'beluga': 4324,\n",
       "         'humpback_whale': 4567,\n",
       "         'dusky_dolphin': 2260,\n",
       "         'melon_headed_whale': 1122,\n",
       "         'bottlenose_dolphin': 4423,\n",
       "         'spinner_dolphin': 1314,\n",
       "         'cuviers_beaked_whale': 371,\n",
       "         'southern_right_whale': 660,\n",
       "         'blue_whale': 1168,\n",
       "         'killer_whale': 1564,\n",
       "         'pygmy_killer_whale': 56,\n",
       "         'fin_whale': 830,\n",
       "         'long_finned_pilot_whale': 196,\n",
       "         'sei_whale': 282,\n",
       "         'pantropic_spotted_dolphin': 86,\n",
       "         'minke_whale': 558,\n",
       "         'common_dolphin': 193,\n",
       "         'spotted_dolphin': 355,\n",
       "         'short_finned_pilot_whale': 830,\n",
       "         'white_sided_dolphin': 151,\n",
       "         'brydes_whale': 101,\n",
       "         'commersons_dolphin': 78,\n",
       "         'rough_toothed_dolphin': 43,\n",
       "         'frasiers_dolphin': 6})"
      ]
     },
     "execution_count": 27,
     "metadata": {},
     "output_type": "execute_result"
    }
   ],
   "source": [
    "Counter(test_pred_species)"
   ]
  },
  {
   "cell_type": "code",
   "execution_count": 28,
   "metadata": {},
   "outputs": [
    {
     "data": {
      "text/html": [
       "<div>\n",
       "<style scoped>\n",
       "    .dataframe tbody tr th:only-of-type {\n",
       "        vertical-align: middle;\n",
       "    }\n",
       "\n",
       "    .dataframe tbody tr th {\n",
       "        vertical-align: top;\n",
       "    }\n",
       "\n",
       "    .dataframe thead th {\n",
       "        text-align: right;\n",
       "    }\n",
       "</style>\n",
       "<table border=\"1\" class=\"dataframe\">\n",
       "  <thead>\n",
       "    <tr style=\"text-align: right;\">\n",
       "      <th></th>\n",
       "      <th>image</th>\n",
       "      <th>predictions</th>\n",
       "      <th>species</th>\n",
       "    </tr>\n",
       "  </thead>\n",
       "  <tbody>\n",
       "    <tr>\n",
       "      <th>0</th>\n",
       "      <td>000110707af0ba.jpg</td>\n",
       "      <td>37c7aba965a5 114207cab555 a6e325d8e924 19fbb96...</td>\n",
       "      <td>gray_whale</td>\n",
       "    </tr>\n",
       "    <tr>\n",
       "      <th>1</th>\n",
       "      <td>0006287ec424cb.jpg</td>\n",
       "      <td>37c7aba965a5 114207cab555 a6e325d8e924 19fbb96...</td>\n",
       "      <td>false_killer_whale</td>\n",
       "    </tr>\n",
       "    <tr>\n",
       "      <th>2</th>\n",
       "      <td>000809ecb2ccad.jpg</td>\n",
       "      <td>37c7aba965a5 114207cab555 a6e325d8e924 19fbb96...</td>\n",
       "      <td>beluga</td>\n",
       "    </tr>\n",
       "    <tr>\n",
       "      <th>3</th>\n",
       "      <td>00098d1376dab2.jpg</td>\n",
       "      <td>37c7aba965a5 114207cab555 a6e325d8e924 19fbb96...</td>\n",
       "      <td>humpback_whale</td>\n",
       "    </tr>\n",
       "    <tr>\n",
       "      <th>4</th>\n",
       "      <td>000b8d89c738bd.jpg</td>\n",
       "      <td>37c7aba965a5 114207cab555 a6e325d8e924 19fbb96...</td>\n",
       "      <td>dusky_dolphin</td>\n",
       "    </tr>\n",
       "  </tbody>\n",
       "</table>\n",
       "</div>"
      ],
      "text/plain": [
       "                image                                        predictions  \\\n",
       "0  000110707af0ba.jpg  37c7aba965a5 114207cab555 a6e325d8e924 19fbb96...   \n",
       "1  0006287ec424cb.jpg  37c7aba965a5 114207cab555 a6e325d8e924 19fbb96...   \n",
       "2  000809ecb2ccad.jpg  37c7aba965a5 114207cab555 a6e325d8e924 19fbb96...   \n",
       "3  00098d1376dab2.jpg  37c7aba965a5 114207cab555 a6e325d8e924 19fbb96...   \n",
       "4  000b8d89c738bd.jpg  37c7aba965a5 114207cab555 a6e325d8e924 19fbb96...   \n",
       "\n",
       "              species  \n",
       "0          gray_whale  \n",
       "1  false_killer_whale  \n",
       "2              beluga  \n",
       "3      humpback_whale  \n",
       "4       dusky_dolphin  "
      ]
     },
     "execution_count": 28,
     "metadata": {},
     "output_type": "execute_result"
    }
   ],
   "source": [
    "test_df.head()"
   ]
  },
  {
   "cell_type": "code",
   "execution_count": null,
   "metadata": {},
   "outputs": [],
   "source": []
  },
  {
   "cell_type": "markdown",
   "metadata": {},
   "source": [
    "### weighted"
   ]
  },
  {
   "cell_type": "code",
   "execution_count": 29,
   "metadata": {},
   "outputs": [
    {
     "data": {
      "text/plain": [
       "13"
      ]
     },
     "execution_count": 29,
     "metadata": {},
     "output_type": "execute_result"
    }
   ],
   "source": [
    "species_count_valid_df = pd.read_csv(\"species_count_valid_df.csv\")\n",
    "species_count_valid_df.shape\n",
    "minor_species = species_count_valid_df[species_count_valid_df[\"count\"] <= 100].species.values\n",
    "len(minor_species)"
   ]
  },
  {
   "cell_type": "code",
   "execution_count": 30,
   "metadata": {},
   "outputs": [],
   "source": [
    "test_preds      = load_emb(exps,\"test\")\n",
    "train_all_preds = load_emb(exps,\"train_all\")"
   ]
  },
  {
   "cell_type": "code",
   "execution_count": 31,
   "metadata": {},
   "outputs": [
    {
     "name": "stdout",
     "output_type": "stream",
     "text": [
      "(27956, 20480)\n",
      "(51033, 20480)\n"
     ]
    }
   ],
   "source": [
    "print(test_preds.shape)\n",
    "print(train_all_preds.shape)"
   ]
  },
  {
   "cell_type": "code",
   "execution_count": 32,
   "metadata": {},
   "outputs": [],
   "source": [
    "emb_all_len = train_all_preds.shape[1]\n",
    "fold_emb_len = 512*5"
   ]
  },
  {
   "cell_type": "code",
   "execution_count": null,
   "metadata": {},
   "outputs": [],
   "source": []
  },
  {
   "cell_type": "code",
   "execution_count": 33,
   "metadata": {},
   "outputs": [
    {
     "data": {
      "text/html": [
       "<div>\n",
       "<style scoped>\n",
       "    .dataframe tbody tr th:only-of-type {\n",
       "        vertical-align: middle;\n",
       "    }\n",
       "\n",
       "    .dataframe tbody tr th {\n",
       "        vertical-align: top;\n",
       "    }\n",
       "\n",
       "    .dataframe thead th {\n",
       "        text-align: right;\n",
       "    }\n",
       "</style>\n",
       "<table border=\"1\" class=\"dataframe\">\n",
       "  <thead>\n",
       "    <tr style=\"text-align: right;\">\n",
       "      <th></th>\n",
       "      <th>species</th>\n",
       "      <th>backfin</th>\n",
       "      <th>fullbody</th>\n",
       "      <th>ensemble</th>\n",
       "      <th>backfin_ensemble_spe</th>\n",
       "      <th>new_ensemble</th>\n",
       "      <th>backfin_ensemble_spe_new</th>\n",
       "      <th>new_ensemble_900600</th>\n",
       "      <th>backfin_croped</th>\n",
       "    </tr>\n",
       "  </thead>\n",
       "  <tbody>\n",
       "    <tr>\n",
       "      <th>0</th>\n",
       "      <td>blue_whale</td>\n",
       "      <td>1</td>\n",
       "      <td>3.282420</td>\n",
       "      <td>0.332993</td>\n",
       "      <td>1.008228</td>\n",
       "      <td>2.603367</td>\n",
       "      <td>1.008228</td>\n",
       "      <td>2.603367</td>\n",
       "      <td>3.209371</td>\n",
       "    </tr>\n",
       "    <tr>\n",
       "      <th>1</th>\n",
       "      <td>beluga</td>\n",
       "      <td>1</td>\n",
       "      <td>3.604818</td>\n",
       "      <td>2.121889</td>\n",
       "      <td>1.380604</td>\n",
       "      <td>2.525593</td>\n",
       "      <td>1.380604</td>\n",
       "      <td>2.525593</td>\n",
       "      <td>1.756786</td>\n",
       "    </tr>\n",
       "    <tr>\n",
       "      <th>2</th>\n",
       "      <td>gray_whale</td>\n",
       "      <td>1</td>\n",
       "      <td>3.115138</td>\n",
       "      <td>2.582002</td>\n",
       "      <td>1.414420</td>\n",
       "      <td>2.383957</td>\n",
       "      <td>1.414420</td>\n",
       "      <td>2.383957</td>\n",
       "      <td>2.842479</td>\n",
       "    </tr>\n",
       "    <tr>\n",
       "      <th>3</th>\n",
       "      <td>dusky_dolphin</td>\n",
       "      <td>1</td>\n",
       "      <td>0.942475</td>\n",
       "      <td>0.849297</td>\n",
       "      <td>2.424276</td>\n",
       "      <td>2.911747</td>\n",
       "      <td>2.424276</td>\n",
       "      <td>2.911747</td>\n",
       "      <td>1.165269</td>\n",
       "    </tr>\n",
       "    <tr>\n",
       "      <th>4</th>\n",
       "      <td>fin_whale</td>\n",
       "      <td>1</td>\n",
       "      <td>2.426497</td>\n",
       "      <td>1.823028</td>\n",
       "      <td>2.565163</td>\n",
       "      <td>1.778826</td>\n",
       "      <td>2.565163</td>\n",
       "      <td>1.778826</td>\n",
       "      <td>2.153464</td>\n",
       "    </tr>\n",
       "    <tr>\n",
       "      <th>5</th>\n",
       "      <td>humpback_whale</td>\n",
       "      <td>1</td>\n",
       "      <td>3.629925</td>\n",
       "      <td>1.834447</td>\n",
       "      <td>2.293998</td>\n",
       "      <td>1.607656</td>\n",
       "      <td>2.293998</td>\n",
       "      <td>1.607656</td>\n",
       "      <td>2.938796</td>\n",
       "    </tr>\n",
       "    <tr>\n",
       "      <th>6</th>\n",
       "      <td>spinner_dolphin</td>\n",
       "      <td>1</td>\n",
       "      <td>0.988060</td>\n",
       "      <td>1.278206</td>\n",
       "      <td>1.998314</td>\n",
       "      <td>1.567223</td>\n",
       "      <td>1.998314</td>\n",
       "      <td>1.567223</td>\n",
       "      <td>1.777158</td>\n",
       "    </tr>\n",
       "    <tr>\n",
       "      <th>7</th>\n",
       "      <td>melon_headed_whale</td>\n",
       "      <td>1</td>\n",
       "      <td>1.885502</td>\n",
       "      <td>0.593717</td>\n",
       "      <td>2.707340</td>\n",
       "      <td>1.751863</td>\n",
       "      <td>2.707340</td>\n",
       "      <td>1.751863</td>\n",
       "      <td>2.130405</td>\n",
       "    </tr>\n",
       "    <tr>\n",
       "      <th>8</th>\n",
       "      <td>killer_whale</td>\n",
       "      <td>1</td>\n",
       "      <td>2.679921</td>\n",
       "      <td>1.935781</td>\n",
       "      <td>3.134198</td>\n",
       "      <td>1.527681</td>\n",
       "      <td>3.134198</td>\n",
       "      <td>1.527681</td>\n",
       "      <td>2.431447</td>\n",
       "    </tr>\n",
       "    <tr>\n",
       "      <th>9</th>\n",
       "      <td>minke_whale</td>\n",
       "      <td>1</td>\n",
       "      <td>1.982170</td>\n",
       "      <td>2.153529</td>\n",
       "      <td>3.358722</td>\n",
       "      <td>1.751322</td>\n",
       "      <td>3.358722</td>\n",
       "      <td>1.751322</td>\n",
       "      <td>2.362938</td>\n",
       "    </tr>\n",
       "    <tr>\n",
       "      <th>10</th>\n",
       "      <td>bottlenose_dolphin</td>\n",
       "      <td>1</td>\n",
       "      <td>2.687735</td>\n",
       "      <td>2.081428</td>\n",
       "      <td>2.511630</td>\n",
       "      <td>1.235368</td>\n",
       "      <td>2.511630</td>\n",
       "      <td>1.235368</td>\n",
       "      <td>2.783028</td>\n",
       "    </tr>\n",
       "    <tr>\n",
       "      <th>11</th>\n",
       "      <td>false_killer_whale</td>\n",
       "      <td>1</td>\n",
       "      <td>2.829670</td>\n",
       "      <td>1.945442</td>\n",
       "      <td>2.006431</td>\n",
       "      <td>1.924317</td>\n",
       "      <td>2.006431</td>\n",
       "      <td>1.924317</td>\n",
       "      <td>1.943486</td>\n",
       "    </tr>\n",
       "    <tr>\n",
       "      <th>12</th>\n",
       "      <td>minor</td>\n",
       "      <td>1</td>\n",
       "      <td>2.698208</td>\n",
       "      <td>1.633966</td>\n",
       "      <td>2.365898</td>\n",
       "      <td>1.787459</td>\n",
       "      <td>2.365898</td>\n",
       "      <td>1.787459</td>\n",
       "      <td>1.897737</td>\n",
       "    </tr>\n",
       "  </tbody>\n",
       "</table>\n",
       "</div>"
      ],
      "text/plain": [
       "               species  backfin  fullbody  ensemble  backfin_ensemble_spe  \\\n",
       "0           blue_whale        1  3.282420  0.332993              1.008228   \n",
       "1               beluga        1  3.604818  2.121889              1.380604   \n",
       "2           gray_whale        1  3.115138  2.582002              1.414420   \n",
       "3        dusky_dolphin        1  0.942475  0.849297              2.424276   \n",
       "4            fin_whale        1  2.426497  1.823028              2.565163   \n",
       "5       humpback_whale        1  3.629925  1.834447              2.293998   \n",
       "6      spinner_dolphin        1  0.988060  1.278206              1.998314   \n",
       "7   melon_headed_whale        1  1.885502  0.593717              2.707340   \n",
       "8         killer_whale        1  2.679921  1.935781              3.134198   \n",
       "9          minke_whale        1  1.982170  2.153529              3.358722   \n",
       "10  bottlenose_dolphin        1  2.687735  2.081428              2.511630   \n",
       "11  false_killer_whale        1  2.829670  1.945442              2.006431   \n",
       "12               minor        1  2.698208  1.633966              2.365898   \n",
       "\n",
       "    new_ensemble  backfin_ensemble_spe_new  new_ensemble_900600  \\\n",
       "0       2.603367                  1.008228             2.603367   \n",
       "1       2.525593                  1.380604             2.525593   \n",
       "2       2.383957                  1.414420             2.383957   \n",
       "3       2.911747                  2.424276             2.911747   \n",
       "4       1.778826                  2.565163             1.778826   \n",
       "5       1.607656                  2.293998             1.607656   \n",
       "6       1.567223                  1.998314             1.567223   \n",
       "7       1.751863                  2.707340             1.751863   \n",
       "8       1.527681                  3.134198             1.527681   \n",
       "9       1.751322                  3.358722             1.751322   \n",
       "10      1.235368                  2.511630             1.235368   \n",
       "11      1.924317                  2.006431             1.924317   \n",
       "12      1.787459                  2.365898             1.787459   \n",
       "\n",
       "    backfin_croped  \n",
       "0         3.209371  \n",
       "1         1.756786  \n",
       "2         2.842479  \n",
       "3         1.165269  \n",
       "4         2.153464  \n",
       "5         2.938796  \n",
       "6         1.777158  \n",
       "7         2.130405  \n",
       "8         2.431447  \n",
       "9         2.362938  \n",
       "10        2.783028  \n",
       "11        1.943486  \n",
       "12        1.897737  "
      ]
     },
     "execution_count": 33,
     "metadata": {},
     "output_type": "execute_result"
    }
   ],
   "source": [
    "result_df"
   ]
  },
  {
   "cell_type": "code",
   "execution_count": 34,
   "metadata": {},
   "outputs": [],
   "source": [
    "spe_lis = list(set(result_df.species))\n",
    "\n",
    "for spe in  spe_lis:\n",
    "   # print(spe)\n",
    "    if spe in minor_species or spe==\"frasiers_dolphin\":\n",
    "        #weight = np.array([1] * emb_all_len)       \n",
    "        continue\n",
    "\n",
    "    backfin=1\n",
    "    fullbody=result_df.query(\"species == @spe\").iloc[0].fullbody\n",
    "    ensemble=result_df.query(\"species == @spe\").iloc[0].ensemble\n",
    "    backfin_ensemble=result_df.query(\"species == @spe\").iloc[0].backfin_ensemble_spe\n",
    "    new_ensemble=result_df.query(\"species == @spe\").iloc[0].new_ensemble\n",
    "    \n",
    "    backfin_ensemble_spe_new=result_df.query(\"species == @spe\").iloc[0].backfin_ensemble_spe_new\n",
    "    new_ensemble_900600=result_df.query(\"species == @spe\").iloc[0].new_ensemble_900600\n",
    "    backfin_croped=result_df.query(\"species == @spe\").iloc[0].backfin_croped\n",
    "    \n",
    "    weight=(\n",
    "        [backfin] * fold_emb_len + \n",
    "        [fullbody] * fold_emb_len + \n",
    "        [ensemble] * fold_emb_len  + \n",
    "        [backfin_ensemble] * fold_emb_len +\n",
    "        [new_ensemble] * fold_emb_len +\n",
    "        \n",
    "        [backfin_ensemble_spe_new] * fold_emb_len +\n",
    "        [new_ensemble_900600] * fold_emb_len +\n",
    "        [backfin_croped] * fold_emb_len \n",
    "    )\n",
    "    \n",
    "    train_ind = train.query(\"species == @spe\").index\n",
    "    test_ind = test_df.query(\"species == @spe\").index\n",
    "    \n",
    "    train_all_preds[train_ind] *= weight\n",
    "    test_preds[test_ind] *= weight"
   ]
  },
  {
   "cell_type": "code",
   "execution_count": 35,
   "metadata": {},
   "outputs": [],
   "source": [
    "train_all_preds=normalize(train_all_preds)\n",
    "test_preds=normalize(test_preds)"
   ]
  },
  {
   "cell_type": "code",
   "execution_count": 36,
   "metadata": {},
   "outputs": [
    {
     "data": {
      "text/plain": [
       "((51033, 20480), (27956, 20480))"
      ]
     },
     "execution_count": 36,
     "metadata": {},
     "output_type": "execute_result"
    }
   ],
   "source": [
    "train_all_preds.shape, test_preds.shape"
   ]
  },
  {
   "cell_type": "code",
   "execution_count": null,
   "metadata": {},
   "outputs": [],
   "source": []
  },
  {
   "cell_type": "code",
   "execution_count": 37,
   "metadata": {},
   "outputs": [
    {
     "name": "stdout",
     "output_type": "stream",
     "text": [
      "CPU times: user 26min 47s, sys: 3min 9s, total: 29min 57s\n",
      "Wall time: 2min 8s\n"
     ]
    }
   ],
   "source": [
    "%%time\n",
    "\n",
    "distances = pairwise_distances(test_preds,train_all_preds)\n",
    "\n",
    "#distances = cuml.metrics.pairwise_distances(test_preds,train_all_preds)"
   ]
  },
  {
   "cell_type": "code",
   "execution_count": 38,
   "metadata": {
    "scrolled": true
   },
   "outputs": [
    {
     "name": "stdout",
     "output_type": "stream",
     "text": [
      "CPU times: user 10.8 s, sys: 992 ms, total: 11.7 s\n",
      "Wall time: 11.7 s\n"
     ]
    }
   ],
   "source": [
    "%%time\n",
    "\n",
    "K=1000\n",
    "predicted_positions = np.argpartition(distances, K, axis=1)[:, :K]"
   ]
  },
  {
   "cell_type": "code",
   "execution_count": 39,
   "metadata": {},
   "outputs": [
    {
     "data": {
      "text/plain": [
       "[<matplotlib.lines.Line2D at 0x7f4aaf7b3050>]"
      ]
     },
     "execution_count": 39,
     "metadata": {},
     "output_type": "execute_result"
    },
    {
     "data": {
      "image/png": "[encoded data removed]",
      "text/plain": [
       "<Figure size 432x288 with 1 Axes>"
      ]
     },
     "metadata": {
      "needs_background": "light"
     },
     "output_type": "display_data"
    }
   ],
   "source": [
    "plt.plot(distances[0])"
   ]
  },
  {
   "cell_type": "code",
   "execution_count": null,
   "metadata": {},
   "outputs": [],
   "source": []
  },
  {
   "cell_type": "code",
   "execution_count": 40,
   "metadata": {
    "scrolled": true
   },
   "outputs": [
    {
     "name": "stderr",
     "output_type": "stream",
     "text": [
      "100%|██████████| 27956/27956 [00:26<00:00, 1036.32it/s]\n"
     ]
    }
   ],
   "source": [
    "sub_pred_lis = []\n",
    "\n",
    "train_inddividual_id_lis = train[\"individual_id\"].values\n",
    "\n",
    "\n",
    "for i in tqdm(range(predicted_positions.shape[0])):\n",
    "    nearest = [(train_inddividual_id_lis[j], distances[i, j]) for j in predicted_positions[i]]\n",
    "    nearest.sort(key=lambda x: x[1])\n",
    "\n",
    "    prediction = [index_id for index_id, d in nearest]\n",
    "    \n",
    "    done = set()\n",
    "    pred_list = []\n",
    "    for pred_id in prediction:\n",
    "        if pred_id in done:\n",
    "            continue\n",
    "        done.add(pred_id)\n",
    "        pred_list.append(pred_id)\n",
    "        if len(pred_list)==10:\n",
    "            break    \n",
    "\n",
    "            \n",
    "    sub_pred_lis.append(pred_list)"
   ]
  },
  {
   "cell_type": "code",
   "execution_count": 41,
   "metadata": {},
   "outputs": [],
   "source": [
    "pred_lis_joined = []\n",
    "for preds in sub_pred_lis:\n",
    "    pred_lis_joined.append(\" \".join(preds))"
   ]
  },
  {
   "cell_type": "code",
   "execution_count": 42,
   "metadata": {},
   "outputs": [],
   "source": [
    "test_df[\"predictions\"] = pred_lis_joined"
   ]
  },
  {
   "cell_type": "code",
   "execution_count": 43,
   "metadata": {},
   "outputs": [],
   "source": [
    "#test_df[[\"image\",\"predictions\"]].to_csv(\"submission_weighted_\" +\"_\".join(exps)+ \".csv\",index=None)"
   ]
  },
  {
   "cell_type": "code",
   "execution_count": 44,
   "metadata": {
    "scrolled": false
   },
   "outputs": [
    {
     "data": {
      "text/html": [
       "<div>\n",
       "<style scoped>\n",
       "    .dataframe tbody tr th:only-of-type {\n",
       "        vertical-align: middle;\n",
       "    }\n",
       "\n",
       "    .dataframe tbody tr th {\n",
       "        vertical-align: top;\n",
       "    }\n",
       "\n",
       "    .dataframe thead th {\n",
       "        text-align: right;\n",
       "    }\n",
       "</style>\n",
       "<table border=\"1\" class=\"dataframe\">\n",
       "  <thead>\n",
       "    <tr style=\"text-align: right;\">\n",
       "      <th></th>\n",
       "      <th>image</th>\n",
       "      <th>predictions</th>\n",
       "      <th>species</th>\n",
       "    </tr>\n",
       "  </thead>\n",
       "  <tbody>\n",
       "    <tr>\n",
       "      <th>0</th>\n",
       "      <td>000110707af0ba.jpg</td>\n",
       "      <td>fbe2b15b5481 574bd81ec992 6d1cc6d00dca 19a3c80...</td>\n",
       "      <td>gray_whale</td>\n",
       "    </tr>\n",
       "    <tr>\n",
       "      <th>1</th>\n",
       "      <td>0006287ec424cb.jpg</td>\n",
       "      <td>1424c7fec826 c3b7d902e73c f0efb5bcc5d3 5325e39...</td>\n",
       "      <td>false_killer_whale</td>\n",
       "    </tr>\n",
       "    <tr>\n",
       "      <th>2</th>\n",
       "      <td>000809ecb2ccad.jpg</td>\n",
       "      <td>1ce3ba6a3c29 82f26bb1adae 463280e75202 b8125d9...</td>\n",
       "      <td>beluga</td>\n",
       "    </tr>\n",
       "    <tr>\n",
       "      <th>3</th>\n",
       "      <td>00098d1376dab2.jpg</td>\n",
       "      <td>c4274d90be60 2781acdf5508 8b7c29052b93 2f2e8ad...</td>\n",
       "      <td>humpback_whale</td>\n",
       "    </tr>\n",
       "    <tr>\n",
       "      <th>4</th>\n",
       "      <td>000b8d89c738bd.jpg</td>\n",
       "      <td>cf500d3874bc d4d2cd407a48 56637d420170 ef2bf7f...</td>\n",
       "      <td>dusky_dolphin</td>\n",
       "    </tr>\n",
       "    <tr>\n",
       "      <th>...</th>\n",
       "      <td>...</td>\n",
       "      <td>...</td>\n",
       "      <td>...</td>\n",
       "    </tr>\n",
       "    <tr>\n",
       "      <th>27951</th>\n",
       "      <td>fff6ff1989b5cd.jpg</td>\n",
       "      <td>734573d54bef 843297d1983b ec0aa394b7e5 5b64c9d...</td>\n",
       "      <td>spinner_dolphin</td>\n",
       "    </tr>\n",
       "    <tr>\n",
       "      <th>27952</th>\n",
       "      <td>fff8fd932b42cb.jpg</td>\n",
       "      <td>539541f81a32 b7bd57892597 4dbb6ebf48a2 1a455af...</td>\n",
       "      <td>dusky_dolphin</td>\n",
       "    </tr>\n",
       "    <tr>\n",
       "      <th>27953</th>\n",
       "      <td>fff96371332c16.jpg</td>\n",
       "      <td>2fad3a13934d dc4082105594 8949de1830d1 fd983ad...</td>\n",
       "      <td>beluga</td>\n",
       "    </tr>\n",
       "    <tr>\n",
       "      <th>27954</th>\n",
       "      <td>fffc1c4d3eabc7.jpg</td>\n",
       "      <td>a8fe10f7b3e0 e7f9e93184b9 a3c1d585d138 fd53cdc...</td>\n",
       "      <td>cuviers_beaked_whale</td>\n",
       "    </tr>\n",
       "    <tr>\n",
       "      <th>27955</th>\n",
       "      <td>fffc50be10c175.jpg</td>\n",
       "      <td>32a8f92d7809 64bb5df01cdf 6063cf5f5c18 3ce8642...</td>\n",
       "      <td>short_finned_pilot_whale</td>\n",
       "    </tr>\n",
       "  </tbody>\n",
       "</table>\n",
       "<p>27956 rows × 3 columns</p>\n",
       "</div>"
      ],
      "text/plain": [
       "                    image                                        predictions  \\\n",
       "0      000110707af0ba.jpg  fbe2b15b5481 574bd81ec992 6d1cc6d00dca 19a3c80...   \n",
       "1      0006287ec424cb.jpg  1424c7fec826 c3b7d902e73c f0efb5bcc5d3 5325e39...   \n",
       "2      000809ecb2ccad.jpg  1ce3ba6a3c29 82f26bb1adae 463280e75202 b8125d9...   \n",
       "3      00098d1376dab2.jpg  c4274d90be60 2781acdf5508 8b7c29052b93 2f2e8ad...   \n",
       "4      000b8d89c738bd.jpg  cf500d3874bc d4d2cd407a48 56637d420170 ef2bf7f...   \n",
       "...                   ...                                                ...   \n",
       "27951  fff6ff1989b5cd.jpg  734573d54bef 843297d1983b ec0aa394b7e5 5b64c9d...   \n",
       "27952  fff8fd932b42cb.jpg  539541f81a32 b7bd57892597 4dbb6ebf48a2 1a455af...   \n",
       "27953  fff96371332c16.jpg  2fad3a13934d dc4082105594 8949de1830d1 fd983ad...   \n",
       "27954  fffc1c4d3eabc7.jpg  a8fe10f7b3e0 e7f9e93184b9 a3c1d585d138 fd53cdc...   \n",
       "27955  fffc50be10c175.jpg  32a8f92d7809 64bb5df01cdf 6063cf5f5c18 3ce8642...   \n",
       "\n",
       "                        species  \n",
       "0                    gray_whale  \n",
       "1            false_killer_whale  \n",
       "2                        beluga  \n",
       "3                humpback_whale  \n",
       "4                 dusky_dolphin  \n",
       "...                         ...  \n",
       "27951           spinner_dolphin  \n",
       "27952             dusky_dolphin  \n",
       "27953                    beluga  \n",
       "27954      cuviers_beaked_whale  \n",
       "27955  short_finned_pilot_whale  \n",
       "\n",
       "[27956 rows x 3 columns]"
      ]
     },
     "execution_count": 44,
     "metadata": {},
     "output_type": "execute_result"
    }
   ],
   "source": [
    "test_df"
   ]
  },
  {
   "cell_type": "code",
   "execution_count": null,
   "metadata": {},
   "outputs": [],
   "source": []
  },
  {
   "cell_type": "code",
   "execution_count": null,
   "metadata": {},
   "outputs": [],
   "source": []
  },
  {
   "cell_type": "markdown",
   "metadata": {},
   "source": [
    "### set new_individual_cnt"
   ]
  },
  {
   "cell_type": "code",
   "execution_count": 45,
   "metadata": {},
   "outputs": [],
   "source": [
    "#test_new_ind_cnt_df = pd.read_csv(\"../input/test_new_ind_ratio_0328.csv\")\n",
    "test_new_ind_cnt_df = pd.read_csv(\"../input/test_new_ind_ratio_0402.csv\")"
   ]
  },
  {
   "cell_type": "code",
   "execution_count": 46,
   "metadata": {},
   "outputs": [],
   "source": [
    "spe_lis = test_new_ind_cnt_df.species.values"
   ]
  },
  {
   "cell_type": "code",
   "execution_count": 47,
   "metadata": {},
   "outputs": [
    {
     "data": {
      "text/html": [
       "<div>\n",
       "<style scoped>\n",
       "    .dataframe tbody tr th:only-of-type {\n",
       "        vertical-align: middle;\n",
       "    }\n",
       "\n",
       "    .dataframe tbody tr th {\n",
       "        vertical-align: top;\n",
       "    }\n",
       "\n",
       "    .dataframe thead th {\n",
       "        text-align: right;\n",
       "    }\n",
       "</style>\n",
       "<table border=\"1\" class=\"dataframe\">\n",
       "  <thead>\n",
       "    <tr style=\"text-align: right;\">\n",
       "      <th></th>\n",
       "      <th>species</th>\n",
       "      <th>test_new_ind_ratio</th>\n",
       "    </tr>\n",
       "  </thead>\n",
       "  <tbody>\n",
       "    <tr>\n",
       "      <th>0</th>\n",
       "      <td>humpback_whale</td>\n",
       "      <td>0.097941</td>\n",
       "    </tr>\n",
       "    <tr>\n",
       "      <th>1</th>\n",
       "      <td>bottlenose_dolphin</td>\n",
       "      <td>0.025106</td>\n",
       "    </tr>\n",
       "    <tr>\n",
       "      <th>2</th>\n",
       "      <td>beluga</td>\n",
       "      <td>0.006468</td>\n",
       "    </tr>\n",
       "    <tr>\n",
       "      <th>3</th>\n",
       "      <td>dusky_dolphin</td>\n",
       "      <td>0.523474</td>\n",
       "    </tr>\n",
       "    <tr>\n",
       "      <th>4</th>\n",
       "      <td>false_killer_whale</td>\n",
       "      <td>0.015609</td>\n",
       "    </tr>\n",
       "    <tr>\n",
       "      <th>5</th>\n",
       "      <td>killer_whale</td>\n",
       "      <td>0.017829</td>\n",
       "    </tr>\n",
       "    <tr>\n",
       "      <th>6</th>\n",
       "      <td>spinner_dolphin</td>\n",
       "      <td>0.064464</td>\n",
       "    </tr>\n",
       "    <tr>\n",
       "      <th>7</th>\n",
       "      <td>blue_whale</td>\n",
       "      <td>0.048034</td>\n",
       "    </tr>\n",
       "    <tr>\n",
       "      <th>8</th>\n",
       "      <td>melon_headed_whale</td>\n",
       "      <td>0.376427</td>\n",
       "    </tr>\n",
       "    <tr>\n",
       "      <th>9</th>\n",
       "      <td>fin_whale</td>\n",
       "      <td>0.101046</td>\n",
       "    </tr>\n",
       "    <tr>\n",
       "      <th>10</th>\n",
       "      <td>short_finned_pilot_whale</td>\n",
       "      <td>0.033927</td>\n",
       "    </tr>\n",
       "    <tr>\n",
       "      <th>11</th>\n",
       "      <td>southern_right_whale</td>\n",
       "      <td>0.084459</td>\n",
       "    </tr>\n",
       "    <tr>\n",
       "      <th>12</th>\n",
       "      <td>gray_whale</td>\n",
       "      <td>0.050000</td>\n",
       "    </tr>\n",
       "    <tr>\n",
       "      <th>13</th>\n",
       "      <td>minke_whale</td>\n",
       "      <td>0.255073</td>\n",
       "    </tr>\n",
       "    <tr>\n",
       "      <th>14</th>\n",
       "      <td>cuviers_beaked_whale</td>\n",
       "      <td>0.373743</td>\n",
       "    </tr>\n",
       "    <tr>\n",
       "      <th>15</th>\n",
       "      <td>spotted_dolphin</td>\n",
       "      <td>0.233616</td>\n",
       "    </tr>\n",
       "    <tr>\n",
       "      <th>16</th>\n",
       "      <td>sei_whale</td>\n",
       "      <td>0.100000</td>\n",
       "    </tr>\n",
       "    <tr>\n",
       "      <th>17</th>\n",
       "      <td>common_dolphin</td>\n",
       "      <td>0.100000</td>\n",
       "    </tr>\n",
       "    <tr>\n",
       "      <th>18</th>\n",
       "      <td>long_finned_pilot_whale</td>\n",
       "      <td>0.100000</td>\n",
       "    </tr>\n",
       "    <tr>\n",
       "      <th>19</th>\n",
       "      <td>white_sided_dolphin</td>\n",
       "      <td>0.187624</td>\n",
       "    </tr>\n",
       "    <tr>\n",
       "      <th>20</th>\n",
       "      <td>brydes_whale</td>\n",
       "      <td>0.100000</td>\n",
       "    </tr>\n",
       "    <tr>\n",
       "      <th>21</th>\n",
       "      <td>pantropic_spotted_dolphin</td>\n",
       "      <td>0.100000</td>\n",
       "    </tr>\n",
       "    <tr>\n",
       "      <th>22</th>\n",
       "      <td>commersons_dolphin</td>\n",
       "      <td>0.100000</td>\n",
       "    </tr>\n",
       "    <tr>\n",
       "      <th>23</th>\n",
       "      <td>pygmy_killer_whale</td>\n",
       "      <td>0.100000</td>\n",
       "    </tr>\n",
       "    <tr>\n",
       "      <th>24</th>\n",
       "      <td>rough_toothed_dolphin</td>\n",
       "      <td>0.100000</td>\n",
       "    </tr>\n",
       "    <tr>\n",
       "      <th>25</th>\n",
       "      <td>frasiers_dolphin</td>\n",
       "      <td>0.100000</td>\n",
       "    </tr>\n",
       "  </tbody>\n",
       "</table>\n",
       "</div>"
      ],
      "text/plain": [
       "                      species  test_new_ind_ratio\n",
       "0              humpback_whale            0.097941\n",
       "1          bottlenose_dolphin            0.025106\n",
       "2                      beluga            0.006468\n",
       "3               dusky_dolphin            0.523474\n",
       "4          false_killer_whale            0.015609\n",
       "5                killer_whale            0.017829\n",
       "6             spinner_dolphin            0.064464\n",
       "7                  blue_whale            0.048034\n",
       "8          melon_headed_whale            0.376427\n",
       "9                   fin_whale            0.101046\n",
       "10   short_finned_pilot_whale            0.033927\n",
       "11       southern_right_whale            0.084459\n",
       "12                 gray_whale            0.050000\n",
       "13                minke_whale            0.255073\n",
       "14       cuviers_beaked_whale            0.373743\n",
       "15            spotted_dolphin            0.233616\n",
       "16                  sei_whale            0.100000\n",
       "17             common_dolphin            0.100000\n",
       "18    long_finned_pilot_whale            0.100000\n",
       "19        white_sided_dolphin            0.187624\n",
       "20               brydes_whale            0.100000\n",
       "21  pantropic_spotted_dolphin            0.100000\n",
       "22         commersons_dolphin            0.100000\n",
       "23         pygmy_killer_whale            0.100000\n",
       "24      rough_toothed_dolphin            0.100000\n",
       "25           frasiers_dolphin            0.100000"
      ]
     },
     "execution_count": 47,
     "metadata": {},
     "output_type": "execute_result"
    }
   ],
   "source": [
    "test_new_ind_cnt_df"
   ]
  },
  {
   "cell_type": "code",
   "execution_count": 48,
   "metadata": {},
   "outputs": [],
   "source": [
    "def get_thr(spe,ratio_target_df,top1=True,multiplier=1.0):\n",
    "    spe_ind_lis = test_df.query(\"species == @spe\").index.values\n",
    "    sub_pred_lis=[]\n",
    "    \n",
    "    for i in spe_ind_lis:\n",
    "        nearest = [(train_inddividual_id_lis[j], distances[i, j]) for j in predicted_positions[i]]\n",
    "        nearest.sort(key=lambda x: x[1])\n",
    "\n",
    "        prediction = [index_id for index_id, d in nearest]\n",
    "        dists = [d for index_id, d in nearest]\n",
    "\n",
    "        done = set()\n",
    "        dist_list = []\n",
    "        for pred_id,dist in zip(prediction,dists):\n",
    "            if pred_id in done:\n",
    "                continue\n",
    "            done.add(pred_id)\n",
    "            dist_list.append(dist)\n",
    "            if len(dist_list)==5:\n",
    "                break    \n",
    "\n",
    "\n",
    "        sub_pred_lis.append(dist_list)\n",
    "    \n",
    "    \n",
    "    \n",
    "    ratio_target = multiplier * ratio_target_df.query(\"species == @spe\").iloc[0][\"test_new_ind_ratio\"]\n",
    "    \n",
    "    return binary(sub_pred_lis,ratio_target,top1)"
   ]
  },
  {
   "cell_type": "code",
   "execution_count": 49,
   "metadata": {},
   "outputs": [],
   "source": [
    "def solve(sub_pred_lis,mid,target_ratio):\n",
    "    ratio_lis = []\n",
    "    for i in range(len(sub_pred_lis)):\n",
    "        ratio = 0\n",
    "        for j in range(5):\n",
    "            if sub_pred_lis[i][j] > mid: # j is new_ind\n",
    "                ratio = 1/(j+1)\n",
    "                break\n",
    "        \n",
    "        ratio_lis.append(ratio)\n",
    "    return np.mean(ratio_lis) < target_ratio\n",
    "\n",
    "def solve_top1(sub_pred_lis,mid,target_ratio):\n",
    "    ratio_lis = []\n",
    "    for i in range(len(sub_pred_lis)):\n",
    "        ratio = 0\n",
    "        for j in range(5):\n",
    "            if sub_pred_lis[i][0] > mid: \n",
    "                ratio = 1\n",
    "                break\n",
    "        \n",
    "        ratio_lis.append(ratio)\n",
    "    return np.mean(ratio_lis) < target_ratio\n",
    "\n",
    "def binary(sub_pred_lis,target_ratio,top1):\n",
    "    ok=2\n",
    "    ng=0\n",
    "    cnt=0\n",
    "    while cnt<100:\n",
    "        cnt+=1\n",
    "        mid = (ok+ng)/2\n",
    "        #ret = solve(sub_pred_lis,mid,target_ratio)\n",
    "        if top1:\n",
    "            ret = solve_top1(sub_pred_lis,mid,target_ratio)\n",
    "        else:\n",
    "            ret = solve(sub_pred_lis,mid,target_ratio)\n",
    "            \n",
    "        if ret:\n",
    "            ok=mid\n",
    "        else:\n",
    "            ng=mid\n",
    "    return ok"
   ]
  },
  {
   "cell_type": "code",
   "execution_count": 50,
   "metadata": {},
   "outputs": [
    {
     "data": {
      "text/plain": [
       "1.223181128501892"
      ]
     },
     "execution_count": 50,
     "metadata": {},
     "output_type": "execute_result"
    }
   ],
   "source": [
    "get_thr(\"beluga\",test_new_ind_cnt_df,top1=True,multiplier=0.5)"
   ]
  },
  {
   "cell_type": "code",
   "execution_count": 51,
   "metadata": {},
   "outputs": [],
   "source": [
    "MULTIPLIER=1.3"
   ]
  },
  {
   "cell_type": "code",
   "execution_count": 52,
   "metadata": {},
   "outputs": [
    {
     "name": "stderr",
     "output_type": "stream",
     "text": [
      "100%|██████████| 26/26 [00:47<00:00,  1.83s/it]\n"
     ]
    }
   ],
   "source": [
    "thr_lis_top1 = []\n",
    "for spe in tqdm(spe_lis):\n",
    "    thr = get_thr(spe,test_new_ind_cnt_df,top1=True,multiplier=MULTIPLIER)\n",
    "    thr_lis_top1.append(thr)"
   ]
  },
  {
   "cell_type": "code",
   "execution_count": null,
   "metadata": {},
   "outputs": [],
   "source": []
  },
  {
   "cell_type": "code",
   "execution_count": 53,
   "metadata": {},
   "outputs": [],
   "source": [
    "thr_df = pd.DataFrame()\n",
    "thr_df[\"species\"] = spe_lis\n",
    "thr_df[\"thr\"] = thr_lis_top1\n"
   ]
  },
  {
   "cell_type": "code",
   "execution_count": 54,
   "metadata": {},
   "outputs": [
    {
     "data": {
      "text/html": [
       "<div>\n",
       "<style scoped>\n",
       "    .dataframe tbody tr th:only-of-type {\n",
       "        vertical-align: middle;\n",
       "    }\n",
       "\n",
       "    .dataframe tbody tr th {\n",
       "        vertical-align: top;\n",
       "    }\n",
       "\n",
       "    .dataframe thead th {\n",
       "        text-align: right;\n",
       "    }\n",
       "</style>\n",
       "<table border=\"1\" class=\"dataframe\">\n",
       "  <thead>\n",
       "    <tr style=\"text-align: right;\">\n",
       "      <th></th>\n",
       "      <th>species</th>\n",
       "      <th>thr</th>\n",
       "    </tr>\n",
       "  </thead>\n",
       "  <tbody>\n",
       "    <tr>\n",
       "      <th>0</th>\n",
       "      <td>humpback_whale</td>\n",
       "      <td>1.181594</td>\n",
       "    </tr>\n",
       "    <tr>\n",
       "      <th>1</th>\n",
       "      <td>bottlenose_dolphin</td>\n",
       "      <td>1.142259</td>\n",
       "    </tr>\n",
       "    <tr>\n",
       "      <th>2</th>\n",
       "      <td>beluga</td>\n",
       "      <td>1.203657</td>\n",
       "    </tr>\n",
       "    <tr>\n",
       "      <th>3</th>\n",
       "      <td>dusky_dolphin</td>\n",
       "      <td>0.999866</td>\n",
       "    </tr>\n",
       "    <tr>\n",
       "      <th>4</th>\n",
       "      <td>false_killer_whale</td>\n",
       "      <td>1.126398</td>\n",
       "    </tr>\n",
       "    <tr>\n",
       "      <th>5</th>\n",
       "      <td>killer_whale</td>\n",
       "      <td>1.179332</td>\n",
       "    </tr>\n",
       "    <tr>\n",
       "      <th>6</th>\n",
       "      <td>spinner_dolphin</td>\n",
       "      <td>1.131939</td>\n",
       "    </tr>\n",
       "    <tr>\n",
       "      <th>7</th>\n",
       "      <td>blue_whale</td>\n",
       "      <td>1.199804</td>\n",
       "    </tr>\n",
       "    <tr>\n",
       "      <th>8</th>\n",
       "      <td>melon_headed_whale</td>\n",
       "      <td>1.017151</td>\n",
       "    </tr>\n",
       "    <tr>\n",
       "      <th>9</th>\n",
       "      <td>fin_whale</td>\n",
       "      <td>1.132193</td>\n",
       "    </tr>\n",
       "    <tr>\n",
       "      <th>10</th>\n",
       "      <td>short_finned_pilot_whale</td>\n",
       "      <td>1.165175</td>\n",
       "    </tr>\n",
       "    <tr>\n",
       "      <th>11</th>\n",
       "      <td>southern_right_whale</td>\n",
       "      <td>1.185106</td>\n",
       "    </tr>\n",
       "    <tr>\n",
       "      <th>12</th>\n",
       "      <td>gray_whale</td>\n",
       "      <td>1.172112</td>\n",
       "    </tr>\n",
       "    <tr>\n",
       "      <th>13</th>\n",
       "      <td>minke_whale</td>\n",
       "      <td>0.930465</td>\n",
       "    </tr>\n",
       "    <tr>\n",
       "      <th>14</th>\n",
       "      <td>cuviers_beaked_whale</td>\n",
       "      <td>1.053073</td>\n",
       "    </tr>\n",
       "    <tr>\n",
       "      <th>15</th>\n",
       "      <td>spotted_dolphin</td>\n",
       "      <td>1.040857</td>\n",
       "    </tr>\n",
       "    <tr>\n",
       "      <th>16</th>\n",
       "      <td>sei_whale</td>\n",
       "      <td>1.066195</td>\n",
       "    </tr>\n",
       "    <tr>\n",
       "      <th>17</th>\n",
       "      <td>common_dolphin</td>\n",
       "      <td>1.042472</td>\n",
       "    </tr>\n",
       "    <tr>\n",
       "      <th>18</th>\n",
       "      <td>long_finned_pilot_whale</td>\n",
       "      <td>1.019922</td>\n",
       "    </tr>\n",
       "    <tr>\n",
       "      <th>19</th>\n",
       "      <td>white_sided_dolphin</td>\n",
       "      <td>1.068134</td>\n",
       "    </tr>\n",
       "    <tr>\n",
       "      <th>20</th>\n",
       "      <td>brydes_whale</td>\n",
       "      <td>1.074525</td>\n",
       "    </tr>\n",
       "    <tr>\n",
       "      <th>21</th>\n",
       "      <td>pantropic_spotted_dolphin</td>\n",
       "      <td>1.056703</td>\n",
       "    </tr>\n",
       "    <tr>\n",
       "      <th>22</th>\n",
       "      <td>commersons_dolphin</td>\n",
       "      <td>1.069425</td>\n",
       "    </tr>\n",
       "    <tr>\n",
       "      <th>23</th>\n",
       "      <td>pygmy_killer_whale</td>\n",
       "      <td>1.141715</td>\n",
       "    </tr>\n",
       "    <tr>\n",
       "      <th>24</th>\n",
       "      <td>rough_toothed_dolphin</td>\n",
       "      <td>1.063246</td>\n",
       "    </tr>\n",
       "    <tr>\n",
       "      <th>25</th>\n",
       "      <td>frasiers_dolphin</td>\n",
       "      <td>1.222449</td>\n",
       "    </tr>\n",
       "  </tbody>\n",
       "</table>\n",
       "</div>"
      ],
      "text/plain": [
       "                      species       thr\n",
       "0              humpback_whale  1.181594\n",
       "1          bottlenose_dolphin  1.142259\n",
       "2                      beluga  1.203657\n",
       "3               dusky_dolphin  0.999866\n",
       "4          false_killer_whale  1.126398\n",
       "5                killer_whale  1.179332\n",
       "6             spinner_dolphin  1.131939\n",
       "7                  blue_whale  1.199804\n",
       "8          melon_headed_whale  1.017151\n",
       "9                   fin_whale  1.132193\n",
       "10   short_finned_pilot_whale  1.165175\n",
       "11       southern_right_whale  1.185106\n",
       "12                 gray_whale  1.172112\n",
       "13                minke_whale  0.930465\n",
       "14       cuviers_beaked_whale  1.053073\n",
       "15            spotted_dolphin  1.040857\n",
       "16                  sei_whale  1.066195\n",
       "17             common_dolphin  1.042472\n",
       "18    long_finned_pilot_whale  1.019922\n",
       "19        white_sided_dolphin  1.068134\n",
       "20               brydes_whale  1.074525\n",
       "21  pantropic_spotted_dolphin  1.056703\n",
       "22         commersons_dolphin  1.069425\n",
       "23         pygmy_killer_whale  1.141715\n",
       "24      rough_toothed_dolphin  1.063246\n",
       "25           frasiers_dolphin  1.222449"
      ]
     },
     "execution_count": 54,
     "metadata": {},
     "output_type": "execute_result"
    }
   ],
   "source": [
    "thr_df"
   ]
  },
  {
   "cell_type": "code",
   "execution_count": 62,
   "metadata": {},
   "outputs": [
    {
     "name": "stderr",
     "output_type": "stream",
     "text": [
      "100%|██████████| 27956/27956 [01:03<00:00, 441.65it/s]\n"
     ]
    }
   ],
   "source": [
    "sub_pred_lis = []\n",
    "\n",
    "train_inddividual_id_lis = train[\"individual_id\"].values\n",
    "new_ind_1_cnt=0\n",
    "\n",
    "new_ind_index_lis = [] # 1, 0.5 ,0.33, 0.25, 0.2\n",
    "\n",
    "for i in tqdm(range(predicted_positions.shape[0])):\n",
    "    nearest = [(train_inddividual_id_lis[j], distances[i, j]) for j in predicted_positions[i]]\n",
    "    \n",
    "    nearest.sort(key=lambda x: x[1])\n",
    "    \n",
    "    spe = test_pred_species[i]\n",
    "    new_individual_thr = thr_df.query(\"species == @spe\").iloc[0].thr\n",
    "\n",
    "    done = set()\n",
    "    pred_list = []\n",
    "    new_ind_ind = 0\n",
    "    for pred_id, score in nearest:\n",
    "        if score > new_individual_thr and not \"new_individual\" in done:\n",
    "            pred_list.append(\"new_individual\")\n",
    "            done.add(\"new_individual\")\n",
    "            new_ind_index_lis.append(1/len(pred_list))\n",
    "            \n",
    "        if pred_id in done:\n",
    "            continue\n",
    "        done.add(pred_id)\n",
    "        pred_list.append(pred_id)\n",
    "        if len(pred_list)>=10:\n",
    "            break    \n",
    "\n",
    "    if pred_list[0]==\"new_individual\":\n",
    "        new_ind_1_cnt+=1\n",
    "    sub_pred_lis.append(pred_list)"
   ]
  },
  {
   "cell_type": "code",
   "execution_count": 63,
   "metadata": {},
   "outputs": [
    {
     "data": {
      "text/plain": [
       "0.1430462154814709"
      ]
     },
     "execution_count": 63,
     "metadata": {},
     "output_type": "execute_result"
    }
   ],
   "source": [
    "new_ind_1_cnt/len(test_df)"
   ]
  },
  {
   "cell_type": "code",
   "execution_count": 64,
   "metadata": {},
   "outputs": [
    {
     "data": {
      "text/plain": [
       "0.4662808345783406"
      ]
     },
     "execution_count": 64,
     "metadata": {},
     "output_type": "execute_result"
    }
   ],
   "source": [
    "np.mean(new_ind_index_lis)"
   ]
  },
  {
   "cell_type": "code",
   "execution_count": 65,
   "metadata": {},
   "outputs": [],
   "source": [
    "pred_lis_joined = []\n",
    "for preds in sub_pred_lis:\n",
    "    pred_lis_joined.append(\" \".join(preds))"
   ]
  },
  {
   "cell_type": "code",
   "execution_count": 66,
   "metadata": {},
   "outputs": [],
   "source": [
    "test_df[\"predictions\"] = pred_lis_joined"
   ]
  },
  {
   "cell_type": "code",
   "execution_count": 67,
   "metadata": {},
   "outputs": [],
   "source": [
    "test_df[[\"image\",\"predictions\"]].to_csv(\"submission_multi_\" +str(MULTIPLIER)+\"_s_shohei_40models.csv\",index=None)"
   ]
  },
  {
   "cell_type": "code",
   "execution_count": 68,
   "metadata": {},
   "outputs": [
    {
     "data": {
      "text/html": [
       "<div>\n",
       "<style scoped>\n",
       "    .dataframe tbody tr th:only-of-type {\n",
       "        vertical-align: middle;\n",
       "    }\n",
       "\n",
       "    .dataframe tbody tr th {\n",
       "        vertical-align: top;\n",
       "    }\n",
       "\n",
       "    .dataframe thead th {\n",
       "        text-align: right;\n",
       "    }\n",
       "</style>\n",
       "<table border=\"1\" class=\"dataframe\">\n",
       "  <thead>\n",
       "    <tr style=\"text-align: right;\">\n",
       "      <th></th>\n",
       "      <th>image</th>\n",
       "      <th>predictions</th>\n",
       "      <th>species</th>\n",
       "    </tr>\n",
       "  </thead>\n",
       "  <tbody>\n",
       "    <tr>\n",
       "      <th>0</th>\n",
       "      <td>000110707af0ba.jpg</td>\n",
       "      <td>fbe2b15b5481 new_individual 574bd81ec992 6d1cc...</td>\n",
       "      <td>gray_whale</td>\n",
       "    </tr>\n",
       "    <tr>\n",
       "      <th>1</th>\n",
       "      <td>0006287ec424cb.jpg</td>\n",
       "      <td>1424c7fec826 new_individual c3b7d902e73c f0efb...</td>\n",
       "      <td>false_killer_whale</td>\n",
       "    </tr>\n",
       "    <tr>\n",
       "      <th>2</th>\n",
       "      <td>000809ecb2ccad.jpg</td>\n",
       "      <td>1ce3ba6a3c29 82f26bb1adae 463280e75202 b8125d9...</td>\n",
       "      <td>beluga</td>\n",
       "    </tr>\n",
       "    <tr>\n",
       "      <th>3</th>\n",
       "      <td>00098d1376dab2.jpg</td>\n",
       "      <td>c4274d90be60 2781acdf5508 8b7c29052b93 new_ind...</td>\n",
       "      <td>humpback_whale</td>\n",
       "    </tr>\n",
       "    <tr>\n",
       "      <th>4</th>\n",
       "      <td>000b8d89c738bd.jpg</td>\n",
       "      <td>cf500d3874bc new_individual d4d2cd407a48 56637...</td>\n",
       "      <td>dusky_dolphin</td>\n",
       "    </tr>\n",
       "    <tr>\n",
       "      <th>...</th>\n",
       "      <td>...</td>\n",
       "      <td>...</td>\n",
       "      <td>...</td>\n",
       "    </tr>\n",
       "    <tr>\n",
       "      <th>27951</th>\n",
       "      <td>fff6ff1989b5cd.jpg</td>\n",
       "      <td>734573d54bef 843297d1983b new_individual ec0aa...</td>\n",
       "      <td>spinner_dolphin</td>\n",
       "    </tr>\n",
       "    <tr>\n",
       "      <th>27952</th>\n",
       "      <td>fff8fd932b42cb.jpg</td>\n",
       "      <td>new_individual 539541f81a32 b7bd57892597 4dbb6...</td>\n",
       "      <td>dusky_dolphin</td>\n",
       "    </tr>\n",
       "    <tr>\n",
       "      <th>27953</th>\n",
       "      <td>fff96371332c16.jpg</td>\n",
       "      <td>2fad3a13934d dc4082105594 8949de1830d1 fd983ad...</td>\n",
       "      <td>beluga</td>\n",
       "    </tr>\n",
       "    <tr>\n",
       "      <th>27954</th>\n",
       "      <td>fffc1c4d3eabc7.jpg</td>\n",
       "      <td>new_individual a8fe10f7b3e0 e7f9e93184b9 a3c1d...</td>\n",
       "      <td>cuviers_beaked_whale</td>\n",
       "    </tr>\n",
       "    <tr>\n",
       "      <th>27955</th>\n",
       "      <td>fffc50be10c175.jpg</td>\n",
       "      <td>32a8f92d7809 64bb5df01cdf new_individual 6063c...</td>\n",
       "      <td>short_finned_pilot_whale</td>\n",
       "    </tr>\n",
       "  </tbody>\n",
       "</table>\n",
       "<p>27956 rows × 3 columns</p>\n",
       "</div>"
      ],
      "text/plain": [
       "                    image                                        predictions  \\\n",
       "0      000110707af0ba.jpg  fbe2b15b5481 new_individual 574bd81ec992 6d1cc...   \n",
       "1      0006287ec424cb.jpg  1424c7fec826 new_individual c3b7d902e73c f0efb...   \n",
       "2      000809ecb2ccad.jpg  1ce3ba6a3c29 82f26bb1adae 463280e75202 b8125d9...   \n",
       "3      00098d1376dab2.jpg  c4274d90be60 2781acdf5508 8b7c29052b93 new_ind...   \n",
       "4      000b8d89c738bd.jpg  cf500d3874bc new_individual d4d2cd407a48 56637...   \n",
       "...                   ...                                                ...   \n",
       "27951  fff6ff1989b5cd.jpg  734573d54bef 843297d1983b new_individual ec0aa...   \n",
       "27952  fff8fd932b42cb.jpg  new_individual 539541f81a32 b7bd57892597 4dbb6...   \n",
       "27953  fff96371332c16.jpg  2fad3a13934d dc4082105594 8949de1830d1 fd983ad...   \n",
       "27954  fffc1c4d3eabc7.jpg  new_individual a8fe10f7b3e0 e7f9e93184b9 a3c1d...   \n",
       "27955  fffc50be10c175.jpg  32a8f92d7809 64bb5df01cdf new_individual 6063c...   \n",
       "\n",
       "                        species  \n",
       "0                    gray_whale  \n",
       "1            false_killer_whale  \n",
       "2                        beluga  \n",
       "3                humpback_whale  \n",
       "4                 dusky_dolphin  \n",
       "...                         ...  \n",
       "27951           spinner_dolphin  \n",
       "27952             dusky_dolphin  \n",
       "27953                    beluga  \n",
       "27954      cuviers_beaked_whale  \n",
       "27955  short_finned_pilot_whale  \n",
       "\n",
       "[27956 rows x 3 columns]"
      ]
     },
     "execution_count": 68,
     "metadata": {},
     "output_type": "execute_result"
    }
   ],
   "source": [
    "test_df"
   ]
  },
  {
   "cell_type": "code",
   "execution_count": null,
   "metadata": {},
   "outputs": [],
   "source": []
  }
 ],
 "metadata": {
  "kernelspec": {
   "display_name": "Python 3 (ipykernel)",
   "language": "python",
   "name": "python3"
  },
  "language_info": {
   "codemirror_mode": {
    "name": "ipython",
    "version": 3
   },
   "file_extension": ".py",
   "mimetype": "text/x-python",
   "name": "python",
   "nbconvert_exporter": "python",
   "pygments_lexer": "ipython3",
   "version": "3.7.12"
  }
 },
 "nbformat": 4,
 "nbformat_minor": 4
}
