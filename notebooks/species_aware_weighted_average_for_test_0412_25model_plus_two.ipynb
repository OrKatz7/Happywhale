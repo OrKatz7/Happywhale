{
 "cells": [
  {
   "cell_type": "markdown",
   "metadata": {},
   "source": [
    "s_shohei's 25 model(LB 0.852)  \n",
    "plus  \n",
    "exp16v6AugmixFullB4_fold0.pbz2, exp16v6AugmixB4Step2_fold0.pbz2"
   ]
  },
  {
   "cell_type": "code",
   "execution_count": 1,
   "metadata": {
    "scrolled": true
   },
   "outputs": [],
   "source": [
    "import numpy as np\n",
    "import matplotlib.pyplot as plt\n",
    "import pandas as pd\n",
    "import json\n",
    "import glob\n",
    "\n",
    "from tqdm import tqdm\n",
    "import seaborn as sns\n",
    "from collections import Counter\n",
    "\n",
    "import cv2"
   ]
  },
  {
   "cell_type": "code",
   "execution_count": 2,
   "metadata": {},
   "outputs": [],
   "source": [
    "from glob import glob\n",
    "from sklearn.model_selection import GroupKFold, StratifiedKFold\n",
    "from skimage import io\n",
    "import torch\n",
    "from torch import nn\n",
    "import os\n",
    "from datetime import datetime\n",
    "import time\n",
    "import random\n",
    "import cv2\n",
    "import torchvision\n",
    "from torchvision import transforms\n",
    "import pandas as pd\n",
    "import numpy as np\n",
    "from tqdm import tqdm\n",
    "\n",
    "import matplotlib.pyplot as plt\n",
    "from torch.utils.data import Dataset,DataLoader\n",
    "from torch.utils.data.sampler import SequentialSampler, RandomSampler\n",
    "from torch.cuda.amp import autocast, GradScaler\n",
    "from torch.nn.modules.loss import _WeightedLoss\n",
    "import torch.nn.functional as F\n",
    "\n",
    "#import timm\n",
    "\n",
    "import sklearn\n",
    "import warnings\n",
    "import joblib\n",
    "from sklearn.metrics import roc_auc_score, log_loss\n",
    "from sklearn import metrics\n",
    "import warnings\n",
    "import cv2\n",
    "#from efficientnet_pytorch import EfficientNet\n",
    "from scipy.ndimage.interpolation import zoom"
   ]
  },
  {
   "cell_type": "code",
   "execution_count": 3,
   "metadata": {},
   "outputs": [],
   "source": [
    "import cudf, cuml, cupy\n",
    "from cuml.feature_extraction.text import TfidfVectorizer\n",
    "from cuml.neighbors import NearestNeighbors"
   ]
  },
  {
   "cell_type": "code",
   "execution_count": 4,
   "metadata": {
    "scrolled": true
   },
   "outputs": [
    {
     "data": {
      "text/plain": [
       "(51033, 3)"
      ]
     },
     "execution_count": 4,
     "metadata": {},
     "output_type": "execute_result"
    }
   ],
   "source": [
    "train = pd.read_csv(\"/kaggle/happywhale/input/train.csv\")\n",
    "train.shape"
   ]
  },
  {
   "cell_type": "code",
   "execution_count": 5,
   "metadata": {},
   "outputs": [],
   "source": [
    "train.species.replace({\"globis\": \"short_finned_pilot_whale\",\n",
    "                          \"pilot_whale\": \"short_finned_pilot_whale\",\n",
    "                          \"kiler_whale\": \"killer_whale\",\n",
    "                          \"bottlenose_dolpin\": \"bottlenose_dolphin\"}, inplace=True)"
   ]
  },
  {
   "cell_type": "code",
   "execution_count": 6,
   "metadata": {},
   "outputs": [],
   "source": [
    "from sklearn.preprocessing import normalize\n",
    "from scipy.spatial import distance"
   ]
  },
  {
   "cell_type": "code",
   "execution_count": 7,
   "metadata": {},
   "outputs": [],
   "source": [
    "import pickle\n",
    "\n",
    "def load_emb(exp_names,pickle_name):\n",
    "    # train/valid   train_all/test\n",
    "    emb_lis = []\n",
    "    for exp in exp_names:\n",
    "        with open(exp + '/' + pickle_name + '.pickle', 'rb') as f:\n",
    "            valid_preds = pickle.load(f)\n",
    "        emb_lis.append(valid_preds)\n",
    "    \n",
    "    return normalize(np.concatenate(emb_lis,axis=1))\n",
    "        "
   ]
  },
  {
   "cell_type": "code",
   "execution_count": 8,
   "metadata": {},
   "outputs": [],
   "source": [
    "import pickle\n",
    "\n",
    "def load_emb_weighted(exp_names,pickle_name,weights):\n",
    "    # train/valid   train_all/test\n",
    "    emb_lis = []\n",
    "    for exp,w in zip(exp_names,weights):\n",
    "        with open(exp + '/' + pickle_name + '.pickle', 'rb') as f:\n",
    "            valid_preds = pickle.load(f)\n",
    "        valid_preds *= w\n",
    "        emb_lis.append(valid_preds)\n",
    "    \n",
    "    return normalize(np.concatenate(emb_lis,axis=1))\n",
    "        "
   ]
  },
  {
   "cell_type": "code",
   "execution_count": 9,
   "metadata": {},
   "outputs": [],
   "source": [
    "exps = [\n",
    "    \"aws_exp000\",\"aws_exp001\",\"aws_exp002\",\"aws_exp003\",\"aws_exp004\", # backfin\n",
    "    \"exp093\",\"exp098\",\"exp099\",\"exp100\",\"exp101\", # fullbody\n",
    "    \"aws_exp006\",\"aws_exp007\",\"aws_exp008\",\"aws_exp009\",\"aws_exp010\", # ensemble\n",
    "    \"aws_exp022\",\"aws_exp023\",\"aws_exp024\",\"aws_exp025\",\"aws_exp026\", # backfin_ensemble_species\n",
    "    \"exp113\",\"exp114\",\"exp115\",\"exp116\",\"exp117\", # backfin_ensemble_species\n",
    "]\n"
   ]
  },
  {
   "cell_type": "code",
   "execution_count": null,
   "metadata": {},
   "outputs": [],
   "source": []
  },
  {
   "cell_type": "code",
   "execution_count": 10,
   "metadata": {},
   "outputs": [],
   "source": [
    "def get_map(valid_preds, train_preds,valid_df,train_df):\n",
    "\n",
    "    distances = cuml.metrics.pairwise_distances(valid_preds,train_preds)\n",
    "\n",
    "    K=min(1000,len(train_df)-1)\n",
    "    \n",
    "    predicted_positions1 = np.argpartition(distances[:10000], K, axis=1)[:, :K]\n",
    "    predicted_positions2 = np.argpartition(distances[10000:20000], K, axis=1)[:, :K]\n",
    "    predicted_positions3 = np.argpartition(distances[20000:], K, axis=1)[:, :K]\n",
    "\n",
    "    predicted_positions = np.vstack([predicted_positions1,predicted_positions2,predicted_positions3])\n",
    "\n",
    "    #predicted_positions = np.argpartition(distances, K, axis=1)[:, :K]\n",
    "\n",
    "    score_lis = []\n",
    "    pred_ids = []\n",
    "    corredt_ids  = []\n",
    "    hit_species=defaultdict(int)\n",
    "    count_species=defaultdict(int)\n",
    "\n",
    "    train_inddividual_id_lis = train_df[\"individual_id\"].values\n",
    "    valid_inddividual_id_lis = valid_df[\"individual_id\"].values\n",
    "\n",
    "    rank_lis=[]\n",
    "\n",
    "    for i in tqdm(range(predicted_positions.shape[0])):\n",
    "        nearest = [(train_inddividual_id_lis[j], distances[i, j]) for j in predicted_positions[i]]\n",
    "        nearest.sort(key=lambda x: x[1])\n",
    "\n",
    "        prediction = [index_id for index_id, d in nearest]\n",
    "\n",
    "        done = set()\n",
    "        pred_list = []\n",
    "        for pred_id in prediction:\n",
    "            if pred_id in done:\n",
    "                continue\n",
    "            done.add(pred_id)\n",
    "            pred_list.append(pred_id)\n",
    "            if len(pred_list)==5:\n",
    "                break\n",
    "        pred_ids.append(pred_list)\n",
    "\n",
    "        if valid_inddividual_id_lis[i] in pred_list:\n",
    "            s = 1/(pred_list.index(valid_inddividual_id_lis[i]) + 1)\n",
    "            score_lis.append(s)\n",
    "            rank_lis.append(pred_list.index(valid_inddividual_id_lis[i]))\n",
    "        else:\n",
    "            score_lis.append(0)\n",
    "            rank_lis.append(5)\n",
    "\n",
    "        \n",
    "    return score_lis"
   ]
  },
  {
   "cell_type": "code",
   "execution_count": 11,
   "metadata": {},
   "outputs": [],
   "source": [
    "def get_score(species,exps,weights):\n",
    "    train_preds = load_emb_weighted(exps,\"train\",weights)\n",
    "    valid_preds = load_emb_weighted(exps,\"valid\",weights)\n",
    "    \n",
    "    species_train_df = train_df.query(\"species in @species\")\n",
    "    species_valid_df = valid_df_for_train.query(\"species in @species\")\n",
    "\n",
    "    train_preds = train_preds[species_train_df.index]\n",
    "    valid_preds = valid_preds[species_valid_df.index]\n",
    "    \n",
    "    return get_map(valid_preds,train_preds,species_valid_df,species_train_df)"
   ]
  },
  {
   "cell_type": "code",
   "execution_count": 12,
   "metadata": {},
   "outputs": [],
   "source": [
    "result_df_4 = pd.read_csv(\"species_aware_weighted_average_0412_fold_4.csv\")\n",
    "result_df_3 = pd.read_csv(\"species_aware_weighted_average_0412_fold_3.csv\")\n",
    "result_df_2 = pd.read_csv(\"species_aware_weighted_average_0412_fold_2.csv\")\n",
    "result_df_1 = pd.read_csv(\"species_aware_weighted_average_0412_fold_1.csv\")\n",
    "result_df_0 = pd.read_csv(\"species_aware_weighted_average_0412_fold_0.csv\")"
   ]
  },
  {
   "cell_type": "code",
   "execution_count": 13,
   "metadata": {},
   "outputs": [
    {
     "name": "stdout",
     "output_type": "stream",
     "text": [
      "(13, 7)\n",
      "(13, 7)\n"
     ]
    }
   ],
   "source": [
    "print(result_df_3.shape)\n",
    "print(result_df_4.shape)"
   ]
  },
  {
   "cell_type": "code",
   "execution_count": 14,
   "metadata": {
    "scrolled": true
   },
   "outputs": [
    {
     "data": {
      "text/html": [
       "<div>\n",
       "<style scoped>\n",
       "    .dataframe tbody tr th:only-of-type {\n",
       "        vertical-align: middle;\n",
       "    }\n",
       "\n",
       "    .dataframe tbody tr th {\n",
       "        vertical-align: top;\n",
       "    }\n",
       "\n",
       "    .dataframe thead th {\n",
       "        text-align: right;\n",
       "    }\n",
       "</style>\n",
       "<table border=\"1\" class=\"dataframe\">\n",
       "  <thead>\n",
       "    <tr style=\"text-align: right;\">\n",
       "      <th></th>\n",
       "      <th>species</th>\n",
       "      <th>backfin</th>\n",
       "      <th>fullbody</th>\n",
       "      <th>ensemble</th>\n",
       "      <th>backfin_ensemble_spe</th>\n",
       "      <th>new_ensemble</th>\n",
       "      <th>best</th>\n",
       "    </tr>\n",
       "  </thead>\n",
       "  <tbody>\n",
       "    <tr>\n",
       "      <th>0</th>\n",
       "      <td>blue_whale</td>\n",
       "      <td>1</td>\n",
       "      <td>1.448609</td>\n",
       "      <td>0.341557</td>\n",
       "      <td>1.006448</td>\n",
       "      <td>1.447328</td>\n",
       "      <td>0.571188</td>\n",
       "    </tr>\n",
       "    <tr>\n",
       "      <th>1</th>\n",
       "      <td>beluga</td>\n",
       "      <td>1</td>\n",
       "      <td>2.883271</td>\n",
       "      <td>0.896506</td>\n",
       "      <td>2.431231</td>\n",
       "      <td>1.902612</td>\n",
       "      <td>0.757180</td>\n",
       "    </tr>\n",
       "    <tr>\n",
       "      <th>2</th>\n",
       "      <td>gray_whale</td>\n",
       "      <td>1</td>\n",
       "      <td>1.018433</td>\n",
       "      <td>1.310710</td>\n",
       "      <td>0.782552</td>\n",
       "      <td>0.350088</td>\n",
       "      <td>0.814401</td>\n",
       "    </tr>\n",
       "    <tr>\n",
       "      <th>3</th>\n",
       "      <td>dusky_dolphin</td>\n",
       "      <td>1</td>\n",
       "      <td>0.388732</td>\n",
       "      <td>1.889072</td>\n",
       "      <td>2.931238</td>\n",
       "      <td>3.295085</td>\n",
       "      <td>0.857407</td>\n",
       "    </tr>\n",
       "    <tr>\n",
       "      <th>4</th>\n",
       "      <td>fin_whale</td>\n",
       "      <td>1</td>\n",
       "      <td>0.677467</td>\n",
       "      <td>0.115190</td>\n",
       "      <td>3.603850</td>\n",
       "      <td>2.869709</td>\n",
       "      <td>0.901676</td>\n",
       "    </tr>\n",
       "  </tbody>\n",
       "</table>\n",
       "</div>"
      ],
      "text/plain": [
       "         species  backfin  fullbody  ensemble  backfin_ensemble_spe  \\\n",
       "0     blue_whale        1  1.448609  0.341557              1.006448   \n",
       "1         beluga        1  2.883271  0.896506              2.431231   \n",
       "2     gray_whale        1  1.018433  1.310710              0.782552   \n",
       "3  dusky_dolphin        1  0.388732  1.889072              2.931238   \n",
       "4      fin_whale        1  0.677467  0.115190              3.603850   \n",
       "\n",
       "   new_ensemble      best  \n",
       "0      1.447328  0.571188  \n",
       "1      1.902612  0.757180  \n",
       "2      0.350088  0.814401  \n",
       "3      3.295085  0.857407  \n",
       "4      2.869709  0.901676  "
      ]
     },
     "execution_count": 14,
     "metadata": {},
     "output_type": "execute_result"
    }
   ],
   "source": [
    "result_df_3.head()"
   ]
  },
  {
   "cell_type": "code",
   "execution_count": 15,
   "metadata": {},
   "outputs": [],
   "source": [
    "result_df = pd.DataFrame()\n",
    "\n",
    "result_df[\"species\"]  = result_df_0[\"species\"]\n",
    "result_df[\"backfin\"]  = 1\n",
    "\n",
    "keys=[\"fullbody\",\"ensemble\",\"backfin_ensemble_spe\",\"new_ensemble\"]\n",
    "for key in keys:\n",
    "    result_df[key] = (result_df_4[key] + result_df_3[key] + result_df_2[key] + result_df_1[key] + result_df_0[key] )/5\n"
   ]
  },
  {
   "cell_type": "code",
   "execution_count": 16,
   "metadata": {},
   "outputs": [
    {
     "data": {
      "text/html": [
       "<div>\n",
       "<style scoped>\n",
       "    .dataframe tbody tr th:only-of-type {\n",
       "        vertical-align: middle;\n",
       "    }\n",
       "\n",
       "    .dataframe tbody tr th {\n",
       "        vertical-align: top;\n",
       "    }\n",
       "\n",
       "    .dataframe thead th {\n",
       "        text-align: right;\n",
       "    }\n",
       "</style>\n",
       "<table border=\"1\" class=\"dataframe\">\n",
       "  <thead>\n",
       "    <tr style=\"text-align: right;\">\n",
       "      <th></th>\n",
       "      <th>species</th>\n",
       "      <th>backfin</th>\n",
       "      <th>fullbody</th>\n",
       "      <th>ensemble</th>\n",
       "      <th>backfin_ensemble_spe</th>\n",
       "      <th>new_ensemble</th>\n",
       "    </tr>\n",
       "  </thead>\n",
       "  <tbody>\n",
       "    <tr>\n",
       "      <th>0</th>\n",
       "      <td>blue_whale</td>\n",
       "      <td>1</td>\n",
       "      <td>1.069776</td>\n",
       "      <td>0.185081</td>\n",
       "      <td>0.867783</td>\n",
       "      <td>1.131265</td>\n",
       "    </tr>\n",
       "    <tr>\n",
       "      <th>1</th>\n",
       "      <td>beluga</td>\n",
       "      <td>1</td>\n",
       "      <td>2.990780</td>\n",
       "      <td>1.773756</td>\n",
       "      <td>2.168997</td>\n",
       "      <td>2.361880</td>\n",
       "    </tr>\n",
       "    <tr>\n",
       "      <th>2</th>\n",
       "      <td>gray_whale</td>\n",
       "      <td>1</td>\n",
       "      <td>2.032142</td>\n",
       "      <td>1.346269</td>\n",
       "      <td>1.524954</td>\n",
       "      <td>1.721391</td>\n",
       "    </tr>\n",
       "    <tr>\n",
       "      <th>3</th>\n",
       "      <td>dusky_dolphin</td>\n",
       "      <td>1</td>\n",
       "      <td>1.048403</td>\n",
       "      <td>0.950759</td>\n",
       "      <td>3.275147</td>\n",
       "      <td>3.358033</td>\n",
       "    </tr>\n",
       "    <tr>\n",
       "      <th>4</th>\n",
       "      <td>fin_whale</td>\n",
       "      <td>1</td>\n",
       "      <td>1.553202</td>\n",
       "      <td>1.134629</td>\n",
       "      <td>2.910681</td>\n",
       "      <td>2.210159</td>\n",
       "    </tr>\n",
       "    <tr>\n",
       "      <th>5</th>\n",
       "      <td>humpback_whale</td>\n",
       "      <td>1</td>\n",
       "      <td>2.732145</td>\n",
       "      <td>1.664278</td>\n",
       "      <td>2.609273</td>\n",
       "      <td>2.023797</td>\n",
       "    </tr>\n",
       "    <tr>\n",
       "      <th>6</th>\n",
       "      <td>spinner_dolphin</td>\n",
       "      <td>1</td>\n",
       "      <td>0.905278</td>\n",
       "      <td>0.590603</td>\n",
       "      <td>3.174531</td>\n",
       "      <td>1.018131</td>\n",
       "    </tr>\n",
       "    <tr>\n",
       "      <th>7</th>\n",
       "      <td>melon_headed_whale</td>\n",
       "      <td>1</td>\n",
       "      <td>1.359618</td>\n",
       "      <td>0.740341</td>\n",
       "      <td>2.574882</td>\n",
       "      <td>0.881058</td>\n",
       "    </tr>\n",
       "    <tr>\n",
       "      <th>8</th>\n",
       "      <td>killer_whale</td>\n",
       "      <td>1</td>\n",
       "      <td>1.625401</td>\n",
       "      <td>1.936309</td>\n",
       "      <td>2.447644</td>\n",
       "      <td>1.186435</td>\n",
       "    </tr>\n",
       "    <tr>\n",
       "      <th>9</th>\n",
       "      <td>minke_whale</td>\n",
       "      <td>1</td>\n",
       "      <td>1.687557</td>\n",
       "      <td>2.132576</td>\n",
       "      <td>3.308487</td>\n",
       "      <td>2.723951</td>\n",
       "    </tr>\n",
       "    <tr>\n",
       "      <th>10</th>\n",
       "      <td>bottlenose_dolphin</td>\n",
       "      <td>1</td>\n",
       "      <td>2.954470</td>\n",
       "      <td>2.612414</td>\n",
       "      <td>3.571037</td>\n",
       "      <td>2.405821</td>\n",
       "    </tr>\n",
       "    <tr>\n",
       "      <th>11</th>\n",
       "      <td>false_killer_whale</td>\n",
       "      <td>1</td>\n",
       "      <td>2.513285</td>\n",
       "      <td>1.475902</td>\n",
       "      <td>2.510154</td>\n",
       "      <td>2.290523</td>\n",
       "    </tr>\n",
       "    <tr>\n",
       "      <th>12</th>\n",
       "      <td>minor</td>\n",
       "      <td>1</td>\n",
       "      <td>2.466108</td>\n",
       "      <td>1.759774</td>\n",
       "      <td>2.950652</td>\n",
       "      <td>2.206868</td>\n",
       "    </tr>\n",
       "  </tbody>\n",
       "</table>\n",
       "</div>"
      ],
      "text/plain": [
       "               species  backfin  fullbody  ensemble  backfin_ensemble_spe  \\\n",
       "0           blue_whale        1  1.069776  0.185081              0.867783   \n",
       "1               beluga        1  2.990780  1.773756              2.168997   \n",
       "2           gray_whale        1  2.032142  1.346269              1.524954   \n",
       "3        dusky_dolphin        1  1.048403  0.950759              3.275147   \n",
       "4            fin_whale        1  1.553202  1.134629              2.910681   \n",
       "5       humpback_whale        1  2.732145  1.664278              2.609273   \n",
       "6      spinner_dolphin        1  0.905278  0.590603              3.174531   \n",
       "7   melon_headed_whale        1  1.359618  0.740341              2.574882   \n",
       "8         killer_whale        1  1.625401  1.936309              2.447644   \n",
       "9          minke_whale        1  1.687557  2.132576              3.308487   \n",
       "10  bottlenose_dolphin        1  2.954470  2.612414              3.571037   \n",
       "11  false_killer_whale        1  2.513285  1.475902              2.510154   \n",
       "12               minor        1  2.466108  1.759774              2.950652   \n",
       "\n",
       "    new_ensemble  \n",
       "0       1.131265  \n",
       "1       2.361880  \n",
       "2       1.721391  \n",
       "3       3.358033  \n",
       "4       2.210159  \n",
       "5       2.023797  \n",
       "6       1.018131  \n",
       "7       0.881058  \n",
       "8       1.186435  \n",
       "9       2.723951  \n",
       "10      2.405821  \n",
       "11      2.290523  \n",
       "12      2.206868  "
      ]
     },
     "execution_count": 16,
     "metadata": {},
     "output_type": "execute_result"
    }
   ],
   "source": [
    "result_df"
   ]
  },
  {
   "cell_type": "markdown",
   "metadata": {},
   "source": [
    "### test"
   ]
  },
  {
   "cell_type": "code",
   "execution_count": 17,
   "metadata": {
    "scrolled": true
   },
   "outputs": [
    {
     "data": {
      "text/plain": [
       "(27956, 2)"
      ]
     },
     "execution_count": 17,
     "metadata": {},
     "output_type": "execute_result"
    }
   ],
   "source": [
    "test_df =pd.read_csv(\"../input/sample_submission.csv\")\n",
    "test_df.shape"
   ]
  },
  {
   "cell_type": "code",
   "execution_count": 18,
   "metadata": {},
   "outputs": [],
   "source": [
    "test_preds      = load_emb(exps,\"test\")\n",
    "train_all_preds = load_emb(exps,\"train_all\")"
   ]
  },
  {
   "cell_type": "code",
   "execution_count": 19,
   "metadata": {},
   "outputs": [
    {
     "name": "stdout",
     "output_type": "stream",
     "text": [
      "(27956, 12800)\n",
      "(51033, 12800)\n"
     ]
    }
   ],
   "source": [
    "print(test_preds.shape)\n",
    "print(train_all_preds.shape)"
   ]
  },
  {
   "cell_type": "markdown",
   "metadata": {},
   "source": [
    "### predict nearest species"
   ]
  },
  {
   "cell_type": "code",
   "execution_count": 20,
   "metadata": {},
   "outputs": [
    {
     "name": "stdout",
     "output_type": "stream",
     "text": [
      "CPU times: user 9.59 s, sys: 3.47 s, total: 13.1 s\n",
      "Wall time: 13.3 s\n"
     ]
    }
   ],
   "source": [
    "%%time\n",
    "\n",
    "distances = cuml.metrics.pairwise_distances(test_preds,train_all_preds)\n",
    "#distances = pairwise_distances(test_preds,train_all_preds)"
   ]
  },
  {
   "cell_type": "code",
   "execution_count": 21,
   "metadata": {},
   "outputs": [
    {
     "name": "stdout",
     "output_type": "stream",
     "text": [
      "CPU times: user 3.51 s, sys: 1.12 s, total: 4.62 s\n",
      "Wall time: 4.62 s\n"
     ]
    },
    {
     "data": {
      "text/plain": [
       "(27956, 1)"
      ]
     },
     "execution_count": 21,
     "metadata": {},
     "output_type": "execute_result"
    }
   ],
   "source": [
    "\n",
    "%%time\n",
    "\n",
    "K=1\n",
    "predicted_positions1 = np.argpartition(distances[:10000], K, axis=1)[:, :K]\n",
    "predicted_positions2 = np.argpartition(distances[10000:20000], K, axis=1)[:, :K]\n",
    "predicted_positions3 = np.argpartition(distances[20000:], K, axis=1)[:, :K]\n",
    "\n",
    "predicted_positions = np.vstack([predicted_positions1,predicted_positions2,predicted_positions3])\n",
    "predicted_positions.shape"
   ]
  },
  {
   "cell_type": "code",
   "execution_count": 22,
   "metadata": {},
   "outputs": [
    {
     "data": {
      "text/plain": [
       "(27956, 1)"
      ]
     },
     "execution_count": 22,
     "metadata": {},
     "output_type": "execute_result"
    }
   ],
   "source": [
    "predicted_positions.shape"
   ]
  },
  {
   "cell_type": "code",
   "execution_count": 23,
   "metadata": {},
   "outputs": [],
   "source": [
    "train_species_lis = train.species.values\n",
    "test_pred_species = []\n",
    "\n",
    "\n",
    "for i in range(len(predicted_positions)):\n",
    "    train_species = train_species_lis[predicted_positions[i]][0]\n",
    "    test_pred_species.append(train_species)"
   ]
  },
  {
   "cell_type": "code",
   "execution_count": 24,
   "metadata": {},
   "outputs": [],
   "source": [
    "test_df[\"species\"] = test_pred_species"
   ]
  },
  {
   "cell_type": "code",
   "execution_count": 25,
   "metadata": {},
   "outputs": [
    {
     "data": {
      "text/plain": [
       "Counter({'gray_whale': 644,\n",
       "         'false_killer_whale': 1784,\n",
       "         'beluga': 4322,\n",
       "         'humpback_whale': 4570,\n",
       "         'dusky_dolphin': 2255,\n",
       "         'melon_headed_whale': 1128,\n",
       "         'bottlenose_dolphin': 4419,\n",
       "         'spinner_dolphin': 1313,\n",
       "         'cuviers_beaked_whale': 372,\n",
       "         'southern_right_whale': 660,\n",
       "         'blue_whale': 1171,\n",
       "         'killer_whale': 1559,\n",
       "         'pygmy_killer_whale': 55,\n",
       "         'fin_whale': 828,\n",
       "         'long_finned_pilot_whale': 199,\n",
       "         'sei_whale': 279,\n",
       "         'pantropic_spotted_dolphin': 92,\n",
       "         'common_dolphin': 195,\n",
       "         'minke_whale': 555,\n",
       "         'spotted_dolphin': 353,\n",
       "         'short_finned_pilot_whale': 822,\n",
       "         'white_sided_dolphin': 153,\n",
       "         'brydes_whale': 102,\n",
       "         'commersons_dolphin': 78,\n",
       "         'rough_toothed_dolphin': 44,\n",
       "         'frasiers_dolphin': 4})"
      ]
     },
     "execution_count": 25,
     "metadata": {},
     "output_type": "execute_result"
    }
   ],
   "source": [
    "Counter(test_pred_species)"
   ]
  },
  {
   "cell_type": "code",
   "execution_count": 26,
   "metadata": {},
   "outputs": [
    {
     "data": {
      "text/html": [
       "<div>\n",
       "<style scoped>\n",
       "    .dataframe tbody tr th:only-of-type {\n",
       "        vertical-align: middle;\n",
       "    }\n",
       "\n",
       "    .dataframe tbody tr th {\n",
       "        vertical-align: top;\n",
       "    }\n",
       "\n",
       "    .dataframe thead th {\n",
       "        text-align: right;\n",
       "    }\n",
       "</style>\n",
       "<table border=\"1\" class=\"dataframe\">\n",
       "  <thead>\n",
       "    <tr style=\"text-align: right;\">\n",
       "      <th></th>\n",
       "      <th>image</th>\n",
       "      <th>predictions</th>\n",
       "      <th>species</th>\n",
       "    </tr>\n",
       "  </thead>\n",
       "  <tbody>\n",
       "    <tr>\n",
       "      <th>0</th>\n",
       "      <td>000110707af0ba.jpg</td>\n",
       "      <td>37c7aba965a5 114207cab555 a6e325d8e924 19fbb96...</td>\n",
       "      <td>gray_whale</td>\n",
       "    </tr>\n",
       "    <tr>\n",
       "      <th>1</th>\n",
       "      <td>0006287ec424cb.jpg</td>\n",
       "      <td>37c7aba965a5 114207cab555 a6e325d8e924 19fbb96...</td>\n",
       "      <td>false_killer_whale</td>\n",
       "    </tr>\n",
       "    <tr>\n",
       "      <th>2</th>\n",
       "      <td>000809ecb2ccad.jpg</td>\n",
       "      <td>37c7aba965a5 114207cab555 a6e325d8e924 19fbb96...</td>\n",
       "      <td>beluga</td>\n",
       "    </tr>\n",
       "    <tr>\n",
       "      <th>3</th>\n",
       "      <td>00098d1376dab2.jpg</td>\n",
       "      <td>37c7aba965a5 114207cab555 a6e325d8e924 19fbb96...</td>\n",
       "      <td>humpback_whale</td>\n",
       "    </tr>\n",
       "    <tr>\n",
       "      <th>4</th>\n",
       "      <td>000b8d89c738bd.jpg</td>\n",
       "      <td>37c7aba965a5 114207cab555 a6e325d8e924 19fbb96...</td>\n",
       "      <td>dusky_dolphin</td>\n",
       "    </tr>\n",
       "  </tbody>\n",
       "</table>\n",
       "</div>"
      ],
      "text/plain": [
       "                image                                        predictions  \\\n",
       "0  000110707af0ba.jpg  37c7aba965a5 114207cab555 a6e325d8e924 19fbb96...   \n",
       "1  0006287ec424cb.jpg  37c7aba965a5 114207cab555 a6e325d8e924 19fbb96...   \n",
       "2  000809ecb2ccad.jpg  37c7aba965a5 114207cab555 a6e325d8e924 19fbb96...   \n",
       "3  00098d1376dab2.jpg  37c7aba965a5 114207cab555 a6e325d8e924 19fbb96...   \n",
       "4  000b8d89c738bd.jpg  37c7aba965a5 114207cab555 a6e325d8e924 19fbb96...   \n",
       "\n",
       "              species  \n",
       "0          gray_whale  \n",
       "1  false_killer_whale  \n",
       "2              beluga  \n",
       "3      humpback_whale  \n",
       "4       dusky_dolphin  "
      ]
     },
     "execution_count": 26,
     "metadata": {},
     "output_type": "execute_result"
    }
   ],
   "source": [
    "test_df.head()"
   ]
  },
  {
   "cell_type": "code",
   "execution_count": null,
   "metadata": {},
   "outputs": [],
   "source": []
  },
  {
   "cell_type": "markdown",
   "metadata": {},
   "source": [
    "### weighted"
   ]
  },
  {
   "cell_type": "code",
   "execution_count": 27,
   "metadata": {},
   "outputs": [
    {
     "data": {
      "text/plain": [
       "13"
      ]
     },
     "execution_count": 27,
     "metadata": {},
     "output_type": "execute_result"
    }
   ],
   "source": [
    "species_count_valid_df = pd.read_csv(\"species_count_valid_df.csv\")\n",
    "species_count_valid_df.shape\n",
    "minor_species = species_count_valid_df[species_count_valid_df[\"count\"] <= 100].species.values\n",
    "len(minor_species)"
   ]
  },
  {
   "cell_type": "code",
   "execution_count": 28,
   "metadata": {},
   "outputs": [],
   "source": [
    "test_preds      = load_emb(exps,\"test\")\n",
    "train_all_preds = load_emb(exps,\"train_all\")"
   ]
  },
  {
   "cell_type": "code",
   "execution_count": 29,
   "metadata": {},
   "outputs": [
    {
     "name": "stdout",
     "output_type": "stream",
     "text": [
      "(27956, 12800)\n",
      "(51033, 12800)\n"
     ]
    }
   ],
   "source": [
    "print(test_preds.shape)\n",
    "print(train_all_preds.shape)"
   ]
  },
  {
   "cell_type": "code",
   "execution_count": 30,
   "metadata": {},
   "outputs": [],
   "source": [
    "emb_all_len = train_all_preds.shape[1]\n",
    "fold_emb_len = 512*5"
   ]
  },
  {
   "cell_type": "code",
   "execution_count": null,
   "metadata": {},
   "outputs": [],
   "source": []
  },
  {
   "cell_type": "code",
   "execution_count": 31,
   "metadata": {},
   "outputs": [
    {
     "data": {
      "text/html": [
       "<div>\n",
       "<style scoped>\n",
       "    .dataframe tbody tr th:only-of-type {\n",
       "        vertical-align: middle;\n",
       "    }\n",
       "\n",
       "    .dataframe tbody tr th {\n",
       "        vertical-align: top;\n",
       "    }\n",
       "\n",
       "    .dataframe thead th {\n",
       "        text-align: right;\n",
       "    }\n",
       "</style>\n",
       "<table border=\"1\" class=\"dataframe\">\n",
       "  <thead>\n",
       "    <tr style=\"text-align: right;\">\n",
       "      <th></th>\n",
       "      <th>species</th>\n",
       "      <th>backfin</th>\n",
       "      <th>fullbody</th>\n",
       "      <th>ensemble</th>\n",
       "      <th>backfin_ensemble_spe</th>\n",
       "      <th>new_ensemble</th>\n",
       "    </tr>\n",
       "  </thead>\n",
       "  <tbody>\n",
       "    <tr>\n",
       "      <th>0</th>\n",
       "      <td>blue_whale</td>\n",
       "      <td>1</td>\n",
       "      <td>1.069776</td>\n",
       "      <td>0.185081</td>\n",
       "      <td>0.867783</td>\n",
       "      <td>1.131265</td>\n",
       "    </tr>\n",
       "    <tr>\n",
       "      <th>1</th>\n",
       "      <td>beluga</td>\n",
       "      <td>1</td>\n",
       "      <td>2.990780</td>\n",
       "      <td>1.773756</td>\n",
       "      <td>2.168997</td>\n",
       "      <td>2.361880</td>\n",
       "    </tr>\n",
       "    <tr>\n",
       "      <th>2</th>\n",
       "      <td>gray_whale</td>\n",
       "      <td>1</td>\n",
       "      <td>2.032142</td>\n",
       "      <td>1.346269</td>\n",
       "      <td>1.524954</td>\n",
       "      <td>1.721391</td>\n",
       "    </tr>\n",
       "    <tr>\n",
       "      <th>3</th>\n",
       "      <td>dusky_dolphin</td>\n",
       "      <td>1</td>\n",
       "      <td>1.048403</td>\n",
       "      <td>0.950759</td>\n",
       "      <td>3.275147</td>\n",
       "      <td>3.358033</td>\n",
       "    </tr>\n",
       "    <tr>\n",
       "      <th>4</th>\n",
       "      <td>fin_whale</td>\n",
       "      <td>1</td>\n",
       "      <td>1.553202</td>\n",
       "      <td>1.134629</td>\n",
       "      <td>2.910681</td>\n",
       "      <td>2.210159</td>\n",
       "    </tr>\n",
       "    <tr>\n",
       "      <th>5</th>\n",
       "      <td>humpback_whale</td>\n",
       "      <td>1</td>\n",
       "      <td>2.732145</td>\n",
       "      <td>1.664278</td>\n",
       "      <td>2.609273</td>\n",
       "      <td>2.023797</td>\n",
       "    </tr>\n",
       "    <tr>\n",
       "      <th>6</th>\n",
       "      <td>spinner_dolphin</td>\n",
       "      <td>1</td>\n",
       "      <td>0.905278</td>\n",
       "      <td>0.590603</td>\n",
       "      <td>3.174531</td>\n",
       "      <td>1.018131</td>\n",
       "    </tr>\n",
       "    <tr>\n",
       "      <th>7</th>\n",
       "      <td>melon_headed_whale</td>\n",
       "      <td>1</td>\n",
       "      <td>1.359618</td>\n",
       "      <td>0.740341</td>\n",
       "      <td>2.574882</td>\n",
       "      <td>0.881058</td>\n",
       "    </tr>\n",
       "    <tr>\n",
       "      <th>8</th>\n",
       "      <td>killer_whale</td>\n",
       "      <td>1</td>\n",
       "      <td>1.625401</td>\n",
       "      <td>1.936309</td>\n",
       "      <td>2.447644</td>\n",
       "      <td>1.186435</td>\n",
       "    </tr>\n",
       "    <tr>\n",
       "      <th>9</th>\n",
       "      <td>minke_whale</td>\n",
       "      <td>1</td>\n",
       "      <td>1.687557</td>\n",
       "      <td>2.132576</td>\n",
       "      <td>3.308487</td>\n",
       "      <td>2.723951</td>\n",
       "    </tr>\n",
       "    <tr>\n",
       "      <th>10</th>\n",
       "      <td>bottlenose_dolphin</td>\n",
       "      <td>1</td>\n",
       "      <td>2.954470</td>\n",
       "      <td>2.612414</td>\n",
       "      <td>3.571037</td>\n",
       "      <td>2.405821</td>\n",
       "    </tr>\n",
       "    <tr>\n",
       "      <th>11</th>\n",
       "      <td>false_killer_whale</td>\n",
       "      <td>1</td>\n",
       "      <td>2.513285</td>\n",
       "      <td>1.475902</td>\n",
       "      <td>2.510154</td>\n",
       "      <td>2.290523</td>\n",
       "    </tr>\n",
       "    <tr>\n",
       "      <th>12</th>\n",
       "      <td>minor</td>\n",
       "      <td>1</td>\n",
       "      <td>2.466108</td>\n",
       "      <td>1.759774</td>\n",
       "      <td>2.950652</td>\n",
       "      <td>2.206868</td>\n",
       "    </tr>\n",
       "  </tbody>\n",
       "</table>\n",
       "</div>"
      ],
      "text/plain": [
       "               species  backfin  fullbody  ensemble  backfin_ensemble_spe  \\\n",
       "0           blue_whale        1  1.069776  0.185081              0.867783   \n",
       "1               beluga        1  2.990780  1.773756              2.168997   \n",
       "2           gray_whale        1  2.032142  1.346269              1.524954   \n",
       "3        dusky_dolphin        1  1.048403  0.950759              3.275147   \n",
       "4            fin_whale        1  1.553202  1.134629              2.910681   \n",
       "5       humpback_whale        1  2.732145  1.664278              2.609273   \n",
       "6      spinner_dolphin        1  0.905278  0.590603              3.174531   \n",
       "7   melon_headed_whale        1  1.359618  0.740341              2.574882   \n",
       "8         killer_whale        1  1.625401  1.936309              2.447644   \n",
       "9          minke_whale        1  1.687557  2.132576              3.308487   \n",
       "10  bottlenose_dolphin        1  2.954470  2.612414              3.571037   \n",
       "11  false_killer_whale        1  2.513285  1.475902              2.510154   \n",
       "12               minor        1  2.466108  1.759774              2.950652   \n",
       "\n",
       "    new_ensemble  \n",
       "0       1.131265  \n",
       "1       2.361880  \n",
       "2       1.721391  \n",
       "3       3.358033  \n",
       "4       2.210159  \n",
       "5       2.023797  \n",
       "6       1.018131  \n",
       "7       0.881058  \n",
       "8       1.186435  \n",
       "9       2.723951  \n",
       "10      2.405821  \n",
       "11      2.290523  \n",
       "12      2.206868  "
      ]
     },
     "execution_count": 31,
     "metadata": {},
     "output_type": "execute_result"
    }
   ],
   "source": [
    "result_df"
   ]
  },
  {
   "cell_type": "code",
   "execution_count": 32,
   "metadata": {},
   "outputs": [],
   "source": [
    "spe_lis = list(set(result_df.species))\n",
    "\n",
    "for spe in  spe_lis:\n",
    "   # print(spe)\n",
    "    if spe in minor_species or spe==\"frasiers_dolphin\":\n",
    "        #weight = np.array([1] * emb_all_len)       \n",
    "        continue\n",
    "\n",
    "    backfin=1\n",
    "    fullbody=result_df.query(\"species == @spe\").iloc[0].fullbody\n",
    "    ensemble=result_df.query(\"species == @spe\").iloc[0].ensemble\n",
    "    backfin_ensemble=result_df.query(\"species == @spe\").iloc[0].backfin_ensemble_spe\n",
    "    new_ensemble=result_df.query(\"species == @spe\").iloc[0].new_ensemble\n",
    "    \n",
    "    weight=(\n",
    "        [backfin] * fold_emb_len + \n",
    "        [fullbody] * fold_emb_len + \n",
    "        [ensemble] * fold_emb_len  + \n",
    "        [backfin_ensemble] * fold_emb_len +\n",
    "        [new_ensemble] * fold_emb_len \n",
    "    )\n",
    "    \n",
    "    train_ind = train.query(\"species == @spe\").index\n",
    "    test_ind = test_df.query(\"species == @spe\").index\n",
    "    \n",
    "    train_all_preds[train_ind] *= weight\n",
    "    test_preds[test_ind] *= weight"
   ]
  },
  {
   "cell_type": "code",
   "execution_count": 33,
   "metadata": {},
   "outputs": [],
   "source": [
    "train_all_preds=normalize(train_all_preds)\n",
    "test_preds=normalize(test_preds)"
   ]
  },
  {
   "cell_type": "code",
   "execution_count": 34,
   "metadata": {},
   "outputs": [
    {
     "data": {
      "text/plain": [
       "((51033, 12800), (27956, 12800))"
      ]
     },
     "execution_count": 34,
     "metadata": {},
     "output_type": "execute_result"
    }
   ],
   "source": [
    "train_all_preds.shape, test_preds.shape"
   ]
  },
  {
   "cell_type": "code",
   "execution_count": null,
   "metadata": {},
   "outputs": [],
   "source": []
  },
  {
   "cell_type": "code",
   "execution_count": 35,
   "metadata": {},
   "outputs": [
    {
     "name": "stdout",
     "output_type": "stream",
     "text": [
      "CPU times: user 5.67 s, sys: 964 ms, total: 6.64 s\n",
      "Wall time: 6.64 s\n"
     ]
    }
   ],
   "source": [
    "%%time\n",
    "\n",
    "#distances = pairwise_distances(test_preds,train_all_preds)\n",
    "\n",
    "distances = cuml.metrics.pairwise_distances(test_preds,train_all_preds)"
   ]
  },
  {
   "cell_type": "code",
   "execution_count": 36,
   "metadata": {
    "scrolled": true
   },
   "outputs": [
    {
     "name": "stdout",
     "output_type": "stream",
     "text": [
      "CPU times: user 10.5 s, sys: 1.16 s, total: 11.7 s\n",
      "Wall time: 11.7 s\n"
     ]
    },
    {
     "data": {
      "text/plain": [
       "(27956, 1000)"
      ]
     },
     "execution_count": 36,
     "metadata": {},
     "output_type": "execute_result"
    }
   ],
   "source": [
    "%%time\n",
    "\n",
    "K=1000\n",
    "predicted_positions1 = np.argpartition(distances[:10000], K, axis=1)[:, :K]\n",
    "predicted_positions2 = np.argpartition(distances[10000:20000], K, axis=1)[:, :K]\n",
    "predicted_positions3 = np.argpartition(distances[20000:], K, axis=1)[:, :K]\n",
    "\n",
    "predicted_positions = np.vstack([predicted_positions1,predicted_positions2,predicted_positions3])\n",
    "predicted_positions.shape"
   ]
  },
  {
   "cell_type": "code",
   "execution_count": null,
   "metadata": {},
   "outputs": [],
   "source": []
  },
  {
   "cell_type": "code",
   "execution_count": 37,
   "metadata": {},
   "outputs": [
    {
     "data": {
      "text/plain": [
       "[<matplotlib.lines.Line2D at 0x7f38309b8a50>]"
      ]
     },
     "execution_count": 37,
     "metadata": {},
     "output_type": "execute_result"
    },
    {
     "data": {
      "image/png": "[encoded data removed]",
      "text/plain": [
       "<Figure size 432x288 with 1 Axes>"
      ]
     },
     "metadata": {
      "needs_background": "light"
     },
     "output_type": "display_data"
    }
   ],
   "source": [
    "plt.plot(distances[0])"
   ]
  },
  {
   "cell_type": "code",
   "execution_count": null,
   "metadata": {},
   "outputs": [],
   "source": []
  },
  {
   "cell_type": "code",
   "execution_count": 38,
   "metadata": {
    "scrolled": true
   },
   "outputs": [
    {
     "name": "stderr",
     "output_type": "stream",
     "text": [
      "100%|██████████| 27956/27956 [00:26<00:00, 1037.31it/s]\n"
     ]
    }
   ],
   "source": [
    "sub_pred_lis = []\n",
    "\n",
    "train_inddividual_id_lis = train[\"individual_id\"].values\n",
    "\n",
    "\n",
    "for i in tqdm(range(predicted_positions.shape[0])):\n",
    "    nearest = [(train_inddividual_id_lis[j], distances[i, j]) for j in predicted_positions[i]]\n",
    "    nearest.sort(key=lambda x: x[1])\n",
    "\n",
    "    prediction = [index_id for index_id, d in nearest]\n",
    "    \n",
    "    done = set()\n",
    "    pred_list = []\n",
    "    for pred_id in prediction:\n",
    "        if pred_id in done:\n",
    "            continue\n",
    "        done.add(pred_id)\n",
    "        pred_list.append(pred_id)\n",
    "        if len(pred_list)==5:\n",
    "            break    \n",
    "\n",
    "            \n",
    "    sub_pred_lis.append(pred_list)"
   ]
  },
  {
   "cell_type": "code",
   "execution_count": 39,
   "metadata": {},
   "outputs": [],
   "source": [
    "pred_lis_joined = []\n",
    "for preds in sub_pred_lis:\n",
    "    pred_lis_joined.append(\" \".join(preds))"
   ]
  },
  {
   "cell_type": "code",
   "execution_count": 40,
   "metadata": {},
   "outputs": [],
   "source": [
    "test_df[\"predictions\"] = pred_lis_joined"
   ]
  },
  {
   "cell_type": "code",
   "execution_count": 41,
   "metadata": {
    "scrolled": false
   },
   "outputs": [
    {
     "data": {
      "text/html": [
       "<div>\n",
       "<style scoped>\n",
       "    .dataframe tbody tr th:only-of-type {\n",
       "        vertical-align: middle;\n",
       "    }\n",
       "\n",
       "    .dataframe tbody tr th {\n",
       "        vertical-align: top;\n",
       "    }\n",
       "\n",
       "    .dataframe thead th {\n",
       "        text-align: right;\n",
       "    }\n",
       "</style>\n",
       "<table border=\"1\" class=\"dataframe\">\n",
       "  <thead>\n",
       "    <tr style=\"text-align: right;\">\n",
       "      <th></th>\n",
       "      <th>image</th>\n",
       "      <th>predictions</th>\n",
       "      <th>species</th>\n",
       "    </tr>\n",
       "  </thead>\n",
       "  <tbody>\n",
       "    <tr>\n",
       "      <th>0</th>\n",
       "      <td>000110707af0ba.jpg</td>\n",
       "      <td>fbe2b15b5481 574bd81ec992 5ec416e8a0a1 6d1cc6d...</td>\n",
       "      <td>gray_whale</td>\n",
       "    </tr>\n",
       "    <tr>\n",
       "      <th>1</th>\n",
       "      <td>0006287ec424cb.jpg</td>\n",
       "      <td>1424c7fec826 c3b7d902e73c 8870c00f2eda f0efb5b...</td>\n",
       "      <td>false_killer_whale</td>\n",
       "    </tr>\n",
       "    <tr>\n",
       "      <th>2</th>\n",
       "      <td>000809ecb2ccad.jpg</td>\n",
       "      <td>1ce3ba6a3c29 82f26bb1adae b8125d90d68e 463280e...</td>\n",
       "      <td>beluga</td>\n",
       "    </tr>\n",
       "    <tr>\n",
       "      <th>3</th>\n",
       "      <td>00098d1376dab2.jpg</td>\n",
       "      <td>c4274d90be60 8b7c29052b93 2781acdf5508 164b7f7...</td>\n",
       "      <td>humpback_whale</td>\n",
       "    </tr>\n",
       "    <tr>\n",
       "      <th>4</th>\n",
       "      <td>000b8d89c738bd.jpg</td>\n",
       "      <td>cf500d3874bc d4d2cd407a48 56637d420170 ef2bf7f...</td>\n",
       "      <td>dusky_dolphin</td>\n",
       "    </tr>\n",
       "    <tr>\n",
       "      <th>...</th>\n",
       "      <td>...</td>\n",
       "      <td>...</td>\n",
       "      <td>...</td>\n",
       "    </tr>\n",
       "    <tr>\n",
       "      <th>27951</th>\n",
       "      <td>fff6ff1989b5cd.jpg</td>\n",
       "      <td>734573d54bef 843297d1983b 5b64c9d54738 ec0aa39...</td>\n",
       "      <td>spinner_dolphin</td>\n",
       "    </tr>\n",
       "    <tr>\n",
       "      <th>27952</th>\n",
       "      <td>fff8fd932b42cb.jpg</td>\n",
       "      <td>539541f81a32 b7bd57892597 a4ef1971dfc1 06e2161...</td>\n",
       "      <td>dusky_dolphin</td>\n",
       "    </tr>\n",
       "    <tr>\n",
       "      <th>27953</th>\n",
       "      <td>fff96371332c16.jpg</td>\n",
       "      <td>2fad3a13934d dc4082105594 8949de1830d1 fd983ad...</td>\n",
       "      <td>beluga</td>\n",
       "    </tr>\n",
       "    <tr>\n",
       "      <th>27954</th>\n",
       "      <td>fffc1c4d3eabc7.jpg</td>\n",
       "      <td>a8fe10f7b3e0 e7f9e93184b9 d85f2d5186cb c42293a...</td>\n",
       "      <td>cuviers_beaked_whale</td>\n",
       "    </tr>\n",
       "    <tr>\n",
       "      <th>27955</th>\n",
       "      <td>fffc50be10c175.jpg</td>\n",
       "      <td>32a8f92d7809 64bb5df01cdf 3ce86421dc8b 4587a87...</td>\n",
       "      <td>short_finned_pilot_whale</td>\n",
       "    </tr>\n",
       "  </tbody>\n",
       "</table>\n",
       "<p>27956 rows × 3 columns</p>\n",
       "</div>"
      ],
      "text/plain": [
       "                    image                                        predictions  \\\n",
       "0      000110707af0ba.jpg  fbe2b15b5481 574bd81ec992 5ec416e8a0a1 6d1cc6d...   \n",
       "1      0006287ec424cb.jpg  1424c7fec826 c3b7d902e73c 8870c00f2eda f0efb5b...   \n",
       "2      000809ecb2ccad.jpg  1ce3ba6a3c29 82f26bb1adae b8125d90d68e 463280e...   \n",
       "3      00098d1376dab2.jpg  c4274d90be60 8b7c29052b93 2781acdf5508 164b7f7...   \n",
       "4      000b8d89c738bd.jpg  cf500d3874bc d4d2cd407a48 56637d420170 ef2bf7f...   \n",
       "...                   ...                                                ...   \n",
       "27951  fff6ff1989b5cd.jpg  734573d54bef 843297d1983b 5b64c9d54738 ec0aa39...   \n",
       "27952  fff8fd932b42cb.jpg  539541f81a32 b7bd57892597 a4ef1971dfc1 06e2161...   \n",
       "27953  fff96371332c16.jpg  2fad3a13934d dc4082105594 8949de1830d1 fd983ad...   \n",
       "27954  fffc1c4d3eabc7.jpg  a8fe10f7b3e0 e7f9e93184b9 d85f2d5186cb c42293a...   \n",
       "27955  fffc50be10c175.jpg  32a8f92d7809 64bb5df01cdf 3ce86421dc8b 4587a87...   \n",
       "\n",
       "                        species  \n",
       "0                    gray_whale  \n",
       "1            false_killer_whale  \n",
       "2                        beluga  \n",
       "3                humpback_whale  \n",
       "4                 dusky_dolphin  \n",
       "...                         ...  \n",
       "27951           spinner_dolphin  \n",
       "27952             dusky_dolphin  \n",
       "27953                    beluga  \n",
       "27954      cuviers_beaked_whale  \n",
       "27955  short_finned_pilot_whale  \n",
       "\n",
       "[27956 rows x 3 columns]"
      ]
     },
     "execution_count": 41,
     "metadata": {},
     "output_type": "execute_result"
    }
   ],
   "source": [
    "test_df"
   ]
  },
  {
   "cell_type": "code",
   "execution_count": null,
   "metadata": {},
   "outputs": [],
   "source": []
  },
  {
   "cell_type": "code",
   "execution_count": null,
   "metadata": {},
   "outputs": [],
   "source": []
  },
  {
   "cell_type": "markdown",
   "metadata": {},
   "source": [
    "### ensemble"
   ]
  },
  {
   "cell_type": "code",
   "execution_count": 42,
   "metadata": {},
   "outputs": [],
   "source": [
    "import bz2\n",
    "import pickle\n",
    "import _pickle as cPickle\n",
    "\n",
    "def compressed_pickle(title, data):\n",
    "    with bz2.BZ2File(title + '.pbz2', 'w') as f:\n",
    "        cPickle.dump(data, f)\n",
    "        \n",
    "def decompress_pickle(file):\n",
    "    data = bz2.BZ2File(file, 'rb')\n",
    "    data = cPickle.load(data)\n",
    "    return data"
   ]
  },
  {
   "cell_type": "code",
   "execution_count": 43,
   "metadata": {},
   "outputs": [],
   "source": [
    "team_files = [\n",
    "    \"exp16v6AugmixFullB4_fold0.pbz2\",\n",
    "    \"exp16v6AugmixB4Step2_fold0.pbz2\",\n",
    "]"
   ]
  },
  {
   "cell_type": "code",
   "execution_count": 44,
   "metadata": {},
   "outputs": [],
   "source": [
    "#exp16v6AugmixFullB4_fold0.pbz2, exp16v6AugmixB4Step2_fold0.pbz2"
   ]
  },
  {
   "cell_type": "code",
   "execution_count": 45,
   "metadata": {},
   "outputs": [
    {
     "data": {
      "text/plain": [
       "(51033, 8)"
      ]
     },
     "execution_count": 45,
     "metadata": {},
     "output_type": "execute_result"
    }
   ],
   "source": [
    "fold2 = pd.read_csv(\"/kaggle/happywhale/input/whale-21-3-2022/fold2.csv\")\n",
    "fold2.shape"
   ]
  },
  {
   "cell_type": "code",
   "execution_count": 46,
   "metadata": {},
   "outputs": [],
   "source": [
    "fold2_dict=dict()\n",
    "\n",
    "fold2_images = fold2.image.values\n",
    "\n",
    "for i in range(len(fold2)):\n",
    "    fold2_dict[fold2_images[i]] = i\n",
    "\n",
    "new_index = []\n",
    "org_train_image=train.image.values\n",
    "\n",
    "for i in range(len(train)):\n",
    "    new_index.append(fold2_dict[org_train_image[i]])\n",
    "    "
   ]
  },
  {
   "cell_type": "code",
   "execution_count": 47,
   "metadata": {},
   "outputs": [],
   "source": [
    "def get_embeddings(files):\n",
    "    \n",
    "    DIRNAME =\"../input/whale-21-3-2022/\"\n",
    "\n",
    "    train_emb_lis = []\n",
    "    test_emb_lis  = []\n",
    "    \n",
    "    for fname in files:\n",
    "        print(fname)\n",
    "        data = decompress_pickle(DIRNAME + fname)\n",
    "        \n",
    "        train_emb = data[\"emb_val\"][new_index,:]\n",
    "        test_emb  = data[\"emb_test\"]\n",
    "\n",
    "        train_emb=normalize(train_emb)\n",
    "        test_emb=normalize(test_emb)\n",
    "        \n",
    "        train_emb_lis.append(train_emb)\n",
    "        test_emb_lis.append(test_emb)\n",
    "        \n",
    "        print(\"    \",train_emb.shape,test_emb.shape)\n",
    "    \n",
    "    ret_train = normalize(np.concatenate(train_emb_lis,axis=1))\n",
    "    ret_test  = normalize(np.concatenate(test_emb_lis,axis=1))\n",
    "        \n",
    "    return ret_train,ret_test\n",
    "    "
   ]
  },
  {
   "cell_type": "code",
   "execution_count": 48,
   "metadata": {},
   "outputs": [
    {
     "name": "stdout",
     "output_type": "stream",
     "text": [
      "exp16v6AugmixFullB4_fold0.pbz2\n",
      "     (51033, 1024) (27956, 1024)\n",
      "exp16v6AugmixB4Step2_fold0.pbz2\n",
      "     (51033, 512) (27956, 512)\n"
     ]
    }
   ],
   "source": [
    "train_emb,test_emb = get_embeddings(team_files)"
   ]
  },
  {
   "cell_type": "code",
   "execution_count": 49,
   "metadata": {},
   "outputs": [
    {
     "data": {
      "text/plain": [
       "((51033, 1536), (27956, 1536))"
      ]
     },
     "execution_count": 49,
     "metadata": {},
     "output_type": "execute_result"
    }
   ],
   "source": [
    "train_emb.shape,test_emb.shape"
   ]
  },
  {
   "cell_type": "code",
   "execution_count": null,
   "metadata": {},
   "outputs": [],
   "source": []
  },
  {
   "cell_type": "code",
   "execution_count": 50,
   "metadata": {},
   "outputs": [
    {
     "data": {
      "text/plain": [
       "[<matplotlib.lines.Line2D at 0x7f37c38822d0>]"
      ]
     },
     "execution_count": 50,
     "metadata": {},
     "output_type": "execute_result"
    },
    {
     "data": {
      "image/png": "[encoded data removed]",
      "text/plain": [
       "<Figure size 432x288 with 1 Axes>"
      ]
     },
     "metadata": {
      "needs_background": "light"
     },
     "output_type": "display_data"
    }
   ],
   "source": [
    "plt.plot(distances[0])"
   ]
  },
  {
   "cell_type": "code",
   "execution_count": 51,
   "metadata": {},
   "outputs": [
    {
     "name": "stdout",
     "output_type": "stream",
     "text": [
      "CPU times: user 1.62 s, sys: 741 ms, total: 2.36 s\n",
      "Wall time: 2.36 s\n"
     ]
    }
   ],
   "source": [
    "%%time\n",
    "\n",
    "new_distances = cuml.metrics.pairwise_distances(test_emb,train_emb)"
   ]
  },
  {
   "cell_type": "code",
   "execution_count": 52,
   "metadata": {},
   "outputs": [
    {
     "data": {
      "text/plain": [
       "[<matplotlib.lines.Line2D at 0x7f37c3865f90>]"
      ]
     },
     "execution_count": 52,
     "metadata": {},
     "output_type": "execute_result"
    },
    {
     "data": {
      "image/png": "[encoded data removed]",
      "text/plain": [
       "<Figure size 432x288 with 1 Axes>"
      ]
     },
     "metadata": {
      "needs_background": "light"
     },
     "output_type": "display_data"
    }
   ],
   "source": [
    "plt.plot(new_distances[0])"
   ]
  },
  {
   "cell_type": "code",
   "execution_count": null,
   "metadata": {},
   "outputs": [],
   "source": []
  },
  {
   "cell_type": "code",
   "execution_count": null,
   "metadata": {},
   "outputs": [],
   "source": []
  },
  {
   "cell_type": "code",
   "execution_count": 53,
   "metadata": {},
   "outputs": [
    {
     "data": {
      "text/plain": [
       "((51033, 12800), (27956, 12800))"
      ]
     },
     "execution_count": 53,
     "metadata": {},
     "output_type": "execute_result"
    }
   ],
   "source": [
    "train_all_preds.shape,test_preds.shape"
   ]
  },
  {
   "cell_type": "code",
   "execution_count": 54,
   "metadata": {},
   "outputs": [
    {
     "data": {
      "text/plain": [
       "((51033, 1536), (27956, 1536))"
      ]
     },
     "execution_count": 54,
     "metadata": {},
     "output_type": "execute_result"
    }
   ],
   "source": [
    "train_emb.shape,test_emb.shape"
   ]
  },
  {
   "cell_type": "code",
   "execution_count": null,
   "metadata": {},
   "outputs": [],
   "source": []
  },
  {
   "cell_type": "code",
   "execution_count": 55,
   "metadata": {},
   "outputs": [],
   "source": [
    "new_train_emb = np.hstack([train_all_preds,train_emb])\n",
    "new_test_emb = np.hstack([test_preds,test_emb])"
   ]
  },
  {
   "cell_type": "code",
   "execution_count": 56,
   "metadata": {},
   "outputs": [],
   "source": [
    "new_train_emb = normalize(new_train_emb,axis=1)\n",
    "new_test_emb = normalize(new_test_emb,axis=1)"
   ]
  },
  {
   "cell_type": "code",
   "execution_count": 57,
   "metadata": {},
   "outputs": [
    {
     "data": {
      "text/plain": [
       "((51033, 14336), (27956, 14336))"
      ]
     },
     "execution_count": 57,
     "metadata": {},
     "output_type": "execute_result"
    }
   ],
   "source": [
    "new_train_emb.shape,new_test_emb.shape"
   ]
  },
  {
   "cell_type": "code",
   "execution_count": null,
   "metadata": {},
   "outputs": [],
   "source": []
  },
  {
   "cell_type": "code",
   "execution_count": 58,
   "metadata": {
    "scrolled": true
   },
   "outputs": [
    {
     "name": "stdout",
     "output_type": "stream",
     "text": [
      "CPU times: user 7.46 s, sys: 5.57 s, total: 13 s\n",
      "Wall time: 16.2 s\n"
     ]
    }
   ],
   "source": [
    "%%time\n",
    "\n",
    "distances = cuml.metrics.pairwise_distances(new_test_emb,new_train_emb)"
   ]
  },
  {
   "cell_type": "code",
   "execution_count": 59,
   "metadata": {
    "scrolled": true
   },
   "outputs": [
    {
     "name": "stdout",
     "output_type": "stream",
     "text": [
      "CPU times: user 12.1 s, sys: 5.42 s, total: 17.5 s\n",
      "Wall time: 23.2 s\n"
     ]
    }
   ],
   "source": [
    "%%time\n",
    "\n",
    "K=1000\n",
    "predicted_positions1 = np.argpartition(distances[:10000], K, axis=1)[:, :K]\n",
    "predicted_positions2 = np.argpartition(distances[10000:20000], K, axis=1)[:, :K]\n",
    "predicted_positions3 = np.argpartition(distances[20000:], K, axis=1)[:, :K]"
   ]
  },
  {
   "cell_type": "code",
   "execution_count": 60,
   "metadata": {},
   "outputs": [
    {
     "data": {
      "text/plain": [
       "(27956, 1000)"
      ]
     },
     "execution_count": 60,
     "metadata": {},
     "output_type": "execute_result"
    }
   ],
   "source": [
    "predicted_positions = np.vstack([predicted_positions1,predicted_positions2,predicted_positions3])\n",
    "predicted_positions.shape"
   ]
  },
  {
   "cell_type": "code",
   "execution_count": null,
   "metadata": {},
   "outputs": [],
   "source": []
  },
  {
   "cell_type": "code",
   "execution_count": 61,
   "metadata": {},
   "outputs": [
    {
     "data": {
      "text/plain": [
       "[<matplotlib.lines.Line2D at 0x7f37c37f24d0>]"
      ]
     },
     "execution_count": 61,
     "metadata": {},
     "output_type": "execute_result"
    },
    {
     "data": {
      "image/png": "[encoded data removed]",
      "text/plain": [
       "<Figure size 432x288 with 1 Axes>"
      ]
     },
     "metadata": {
      "needs_background": "light"
     },
     "output_type": "display_data"
    }
   ],
   "source": [
    "plt.plot(distances[0])"
   ]
  },
  {
   "cell_type": "code",
   "execution_count": null,
   "metadata": {},
   "outputs": [],
   "source": []
  },
  {
   "cell_type": "code",
   "execution_count": null,
   "metadata": {},
   "outputs": [],
   "source": []
  },
  {
   "cell_type": "code",
   "execution_count": null,
   "metadata": {},
   "outputs": [],
   "source": []
  },
  {
   "cell_type": "markdown",
   "metadata": {},
   "source": [
    "### set new_individual_cnt"
   ]
  },
  {
   "cell_type": "code",
   "execution_count": 62,
   "metadata": {},
   "outputs": [],
   "source": [
    "test_new_ind_cnt_df = pd.read_csv(\"../input/test_new_ind_ratio_0402.csv\")"
   ]
  },
  {
   "cell_type": "code",
   "execution_count": 63,
   "metadata": {},
   "outputs": [],
   "source": [
    "spe_lis = test_new_ind_cnt_df.species.values"
   ]
  },
  {
   "cell_type": "code",
   "execution_count": 64,
   "metadata": {},
   "outputs": [
    {
     "data": {
      "text/html": [
       "<div>\n",
       "<style scoped>\n",
       "    .dataframe tbody tr th:only-of-type {\n",
       "        vertical-align: middle;\n",
       "    }\n",
       "\n",
       "    .dataframe tbody tr th {\n",
       "        vertical-align: top;\n",
       "    }\n",
       "\n",
       "    .dataframe thead th {\n",
       "        text-align: right;\n",
       "    }\n",
       "</style>\n",
       "<table border=\"1\" class=\"dataframe\">\n",
       "  <thead>\n",
       "    <tr style=\"text-align: right;\">\n",
       "      <th></th>\n",
       "      <th>species</th>\n",
       "      <th>test_new_ind_ratio</th>\n",
       "    </tr>\n",
       "  </thead>\n",
       "  <tbody>\n",
       "    <tr>\n",
       "      <th>0</th>\n",
       "      <td>humpback_whale</td>\n",
       "      <td>0.097941</td>\n",
       "    </tr>\n",
       "    <tr>\n",
       "      <th>1</th>\n",
       "      <td>bottlenose_dolphin</td>\n",
       "      <td>0.025106</td>\n",
       "    </tr>\n",
       "    <tr>\n",
       "      <th>2</th>\n",
       "      <td>beluga</td>\n",
       "      <td>0.006468</td>\n",
       "    </tr>\n",
       "    <tr>\n",
       "      <th>3</th>\n",
       "      <td>dusky_dolphin</td>\n",
       "      <td>0.523474</td>\n",
       "    </tr>\n",
       "    <tr>\n",
       "      <th>4</th>\n",
       "      <td>false_killer_whale</td>\n",
       "      <td>0.015609</td>\n",
       "    </tr>\n",
       "    <tr>\n",
       "      <th>5</th>\n",
       "      <td>killer_whale</td>\n",
       "      <td>0.017829</td>\n",
       "    </tr>\n",
       "    <tr>\n",
       "      <th>6</th>\n",
       "      <td>spinner_dolphin</td>\n",
       "      <td>0.064464</td>\n",
       "    </tr>\n",
       "    <tr>\n",
       "      <th>7</th>\n",
       "      <td>blue_whale</td>\n",
       "      <td>0.048034</td>\n",
       "    </tr>\n",
       "    <tr>\n",
       "      <th>8</th>\n",
       "      <td>melon_headed_whale</td>\n",
       "      <td>0.376427</td>\n",
       "    </tr>\n",
       "    <tr>\n",
       "      <th>9</th>\n",
       "      <td>fin_whale</td>\n",
       "      <td>0.101046</td>\n",
       "    </tr>\n",
       "    <tr>\n",
       "      <th>10</th>\n",
       "      <td>short_finned_pilot_whale</td>\n",
       "      <td>0.033927</td>\n",
       "    </tr>\n",
       "    <tr>\n",
       "      <th>11</th>\n",
       "      <td>southern_right_whale</td>\n",
       "      <td>0.084459</td>\n",
       "    </tr>\n",
       "    <tr>\n",
       "      <th>12</th>\n",
       "      <td>gray_whale</td>\n",
       "      <td>0.050000</td>\n",
       "    </tr>\n",
       "    <tr>\n",
       "      <th>13</th>\n",
       "      <td>minke_whale</td>\n",
       "      <td>0.255073</td>\n",
       "    </tr>\n",
       "    <tr>\n",
       "      <th>14</th>\n",
       "      <td>cuviers_beaked_whale</td>\n",
       "      <td>0.373743</td>\n",
       "    </tr>\n",
       "    <tr>\n",
       "      <th>15</th>\n",
       "      <td>spotted_dolphin</td>\n",
       "      <td>0.233616</td>\n",
       "    </tr>\n",
       "    <tr>\n",
       "      <th>16</th>\n",
       "      <td>sei_whale</td>\n",
       "      <td>0.100000</td>\n",
       "    </tr>\n",
       "    <tr>\n",
       "      <th>17</th>\n",
       "      <td>common_dolphin</td>\n",
       "      <td>0.100000</td>\n",
       "    </tr>\n",
       "    <tr>\n",
       "      <th>18</th>\n",
       "      <td>long_finned_pilot_whale</td>\n",
       "      <td>0.100000</td>\n",
       "    </tr>\n",
       "    <tr>\n",
       "      <th>19</th>\n",
       "      <td>white_sided_dolphin</td>\n",
       "      <td>0.187624</td>\n",
       "    </tr>\n",
       "    <tr>\n",
       "      <th>20</th>\n",
       "      <td>brydes_whale</td>\n",
       "      <td>0.100000</td>\n",
       "    </tr>\n",
       "    <tr>\n",
       "      <th>21</th>\n",
       "      <td>pantropic_spotted_dolphin</td>\n",
       "      <td>0.100000</td>\n",
       "    </tr>\n",
       "    <tr>\n",
       "      <th>22</th>\n",
       "      <td>commersons_dolphin</td>\n",
       "      <td>0.100000</td>\n",
       "    </tr>\n",
       "    <tr>\n",
       "      <th>23</th>\n",
       "      <td>pygmy_killer_whale</td>\n",
       "      <td>0.100000</td>\n",
       "    </tr>\n",
       "    <tr>\n",
       "      <th>24</th>\n",
       "      <td>rough_toothed_dolphin</td>\n",
       "      <td>0.100000</td>\n",
       "    </tr>\n",
       "    <tr>\n",
       "      <th>25</th>\n",
       "      <td>frasiers_dolphin</td>\n",
       "      <td>0.100000</td>\n",
       "    </tr>\n",
       "  </tbody>\n",
       "</table>\n",
       "</div>"
      ],
      "text/plain": [
       "                      species  test_new_ind_ratio\n",
       "0              humpback_whale            0.097941\n",
       "1          bottlenose_dolphin            0.025106\n",
       "2                      beluga            0.006468\n",
       "3               dusky_dolphin            0.523474\n",
       "4          false_killer_whale            0.015609\n",
       "5                killer_whale            0.017829\n",
       "6             spinner_dolphin            0.064464\n",
       "7                  blue_whale            0.048034\n",
       "8          melon_headed_whale            0.376427\n",
       "9                   fin_whale            0.101046\n",
       "10   short_finned_pilot_whale            0.033927\n",
       "11       southern_right_whale            0.084459\n",
       "12                 gray_whale            0.050000\n",
       "13                minke_whale            0.255073\n",
       "14       cuviers_beaked_whale            0.373743\n",
       "15            spotted_dolphin            0.233616\n",
       "16                  sei_whale            0.100000\n",
       "17             common_dolphin            0.100000\n",
       "18    long_finned_pilot_whale            0.100000\n",
       "19        white_sided_dolphin            0.187624\n",
       "20               brydes_whale            0.100000\n",
       "21  pantropic_spotted_dolphin            0.100000\n",
       "22         commersons_dolphin            0.100000\n",
       "23         pygmy_killer_whale            0.100000\n",
       "24      rough_toothed_dolphin            0.100000\n",
       "25           frasiers_dolphin            0.100000"
      ]
     },
     "execution_count": 64,
     "metadata": {},
     "output_type": "execute_result"
    }
   ],
   "source": [
    "test_new_ind_cnt_df"
   ]
  },
  {
   "cell_type": "code",
   "execution_count": 65,
   "metadata": {},
   "outputs": [],
   "source": [
    "def get_thr(spe,ratio_target_df,top1=True,multiplier=1.0):\n",
    "    spe_ind_lis = test_df.query(\"species == @spe\").index.values\n",
    "    sub_pred_lis=[]\n",
    "    \n",
    "    for i in spe_ind_lis:\n",
    "        nearest = [(train_inddividual_id_lis[j], distances[i, j]) for j in predicted_positions[i]]\n",
    "        nearest.sort(key=lambda x: x[1])\n",
    "\n",
    "        prediction = [index_id for index_id, d in nearest]\n",
    "        dists = [d for index_id, d in nearest]\n",
    "\n",
    "        done = set()\n",
    "        dist_list = []\n",
    "        for pred_id,dist in zip(prediction,dists):\n",
    "            if pred_id in done:\n",
    "                continue\n",
    "            done.add(pred_id)\n",
    "            dist_list.append(dist)\n",
    "            if len(dist_list)==5:\n",
    "                break    \n",
    "\n",
    "\n",
    "        sub_pred_lis.append(dist_list)\n",
    "    \n",
    "    \n",
    "    \n",
    "    ratio_target = multiplier * ratio_target_df.query(\"species == @spe\").iloc[0][\"test_new_ind_ratio\"]\n",
    "    \n",
    "    return binary(sub_pred_lis,ratio_target,top1)"
   ]
  },
  {
   "cell_type": "code",
   "execution_count": 66,
   "metadata": {},
   "outputs": [],
   "source": [
    "def solve(sub_pred_lis,mid,target_ratio):\n",
    "    ratio_lis = []\n",
    "    for i in range(len(sub_pred_lis)):\n",
    "        ratio = 0\n",
    "        for j in range(5):\n",
    "            if sub_pred_lis[i][j] > mid: # j is new_ind\n",
    "                ratio = 1/(j+1)\n",
    "                break\n",
    "        \n",
    "        ratio_lis.append(ratio)\n",
    "    return np.mean(ratio_lis) < target_ratio\n",
    "\n",
    "def solve_top1(sub_pred_lis,mid,target_ratio):\n",
    "    ratio_lis = []\n",
    "    for i in range(len(sub_pred_lis)):\n",
    "        ratio = 0\n",
    "        for j in range(5):\n",
    "            if sub_pred_lis[i][0] > mid: \n",
    "                ratio = 1\n",
    "                break\n",
    "        \n",
    "        ratio_lis.append(ratio)\n",
    "    return np.mean(ratio_lis) < target_ratio\n",
    "\n",
    "def binary(sub_pred_lis,target_ratio,top1):\n",
    "    ok=2\n",
    "    ng=0\n",
    "    cnt=0\n",
    "    while cnt<100:\n",
    "        cnt+=1\n",
    "        mid = (ok+ng)/2\n",
    "        #ret = solve(sub_pred_lis,mid,target_ratio)\n",
    "        if top1:\n",
    "            ret = solve_top1(sub_pred_lis,mid,target_ratio)\n",
    "        else:\n",
    "            ret = solve(sub_pred_lis,mid,target_ratio)\n",
    "            \n",
    "        if ret:\n",
    "            ok=mid\n",
    "        else:\n",
    "            ng=mid\n",
    "    return ok"
   ]
  },
  {
   "cell_type": "code",
   "execution_count": 67,
   "metadata": {},
   "outputs": [
    {
     "data": {
      "text/plain": [
       "1.1965739727020264"
      ]
     },
     "execution_count": 67,
     "metadata": {},
     "output_type": "execute_result"
    }
   ],
   "source": [
    "get_thr(\"beluga\",test_new_ind_cnt_df,top1=True,multiplier=0.5)"
   ]
  },
  {
   "cell_type": "code",
   "execution_count": 68,
   "metadata": {},
   "outputs": [],
   "source": [
    "MULTIPLIER=1.3"
   ]
  },
  {
   "cell_type": "code",
   "execution_count": 69,
   "metadata": {},
   "outputs": [
    {
     "name": "stderr",
     "output_type": "stream",
     "text": [
      "100%|██████████| 26/26 [00:47<00:00,  1.84s/it]\n"
     ]
    }
   ],
   "source": [
    "thr_lis_top1 = []\n",
    "for spe in tqdm(spe_lis):\n",
    "    thr = get_thr(spe,test_new_ind_cnt_df,top1=True,multiplier=MULTIPLIER)\n",
    "    thr_lis_top1.append(thr)"
   ]
  },
  {
   "cell_type": "code",
   "execution_count": null,
   "metadata": {},
   "outputs": [],
   "source": []
  },
  {
   "cell_type": "code",
   "execution_count": 70,
   "metadata": {},
   "outputs": [],
   "source": [
    "thr_df = pd.DataFrame()\n",
    "thr_df[\"species\"] = spe_lis\n",
    "thr_df[\"thr\"] = thr_lis_top1\n"
   ]
  },
  {
   "cell_type": "code",
   "execution_count": 71,
   "metadata": {},
   "outputs": [
    {
     "data": {
      "text/html": [
       "<div>\n",
       "<style scoped>\n",
       "    .dataframe tbody tr th:only-of-type {\n",
       "        vertical-align: middle;\n",
       "    }\n",
       "\n",
       "    .dataframe tbody tr th {\n",
       "        vertical-align: top;\n",
       "    }\n",
       "\n",
       "    .dataframe thead th {\n",
       "        text-align: right;\n",
       "    }\n",
       "</style>\n",
       "<table border=\"1\" class=\"dataframe\">\n",
       "  <thead>\n",
       "    <tr style=\"text-align: right;\">\n",
       "      <th></th>\n",
       "      <th>species</th>\n",
       "      <th>thr</th>\n",
       "    </tr>\n",
       "  </thead>\n",
       "  <tbody>\n",
       "    <tr>\n",
       "      <th>0</th>\n",
       "      <td>humpback_whale</td>\n",
       "      <td>1.137064</td>\n",
       "    </tr>\n",
       "    <tr>\n",
       "      <th>1</th>\n",
       "      <td>bottlenose_dolphin</td>\n",
       "      <td>1.089284</td>\n",
       "    </tr>\n",
       "    <tr>\n",
       "      <th>2</th>\n",
       "      <td>beluga</td>\n",
       "      <td>1.178797</td>\n",
       "    </tr>\n",
       "    <tr>\n",
       "      <th>3</th>\n",
       "      <td>dusky_dolphin</td>\n",
       "      <td>0.899564</td>\n",
       "    </tr>\n",
       "    <tr>\n",
       "      <th>4</th>\n",
       "      <td>false_killer_whale</td>\n",
       "      <td>1.095145</td>\n",
       "    </tr>\n",
       "    <tr>\n",
       "      <th>5</th>\n",
       "      <td>killer_whale</td>\n",
       "      <td>1.132069</td>\n",
       "    </tr>\n",
       "    <tr>\n",
       "      <th>6</th>\n",
       "      <td>spinner_dolphin</td>\n",
       "      <td>1.071078</td>\n",
       "    </tr>\n",
       "    <tr>\n",
       "      <th>7</th>\n",
       "      <td>blue_whale</td>\n",
       "      <td>1.160154</td>\n",
       "    </tr>\n",
       "    <tr>\n",
       "      <th>8</th>\n",
       "      <td>melon_headed_whale</td>\n",
       "      <td>0.957806</td>\n",
       "    </tr>\n",
       "    <tr>\n",
       "      <th>9</th>\n",
       "      <td>fin_whale</td>\n",
       "      <td>1.082911</td>\n",
       "    </tr>\n",
       "    <tr>\n",
       "      <th>10</th>\n",
       "      <td>short_finned_pilot_whale</td>\n",
       "      <td>1.111102</td>\n",
       "    </tr>\n",
       "    <tr>\n",
       "      <th>11</th>\n",
       "      <td>southern_right_whale</td>\n",
       "      <td>1.115154</td>\n",
       "    </tr>\n",
       "    <tr>\n",
       "      <th>12</th>\n",
       "      <td>gray_whale</td>\n",
       "      <td>1.122379</td>\n",
       "    </tr>\n",
       "    <tr>\n",
       "      <th>13</th>\n",
       "      <td>minke_whale</td>\n",
       "      <td>0.911537</td>\n",
       "    </tr>\n",
       "    <tr>\n",
       "      <th>14</th>\n",
       "      <td>cuviers_beaked_whale</td>\n",
       "      <td>1.008933</td>\n",
       "    </tr>\n",
       "    <tr>\n",
       "      <th>15</th>\n",
       "      <td>spotted_dolphin</td>\n",
       "      <td>0.982388</td>\n",
       "    </tr>\n",
       "    <tr>\n",
       "      <th>16</th>\n",
       "      <td>sei_whale</td>\n",
       "      <td>1.009288</td>\n",
       "    </tr>\n",
       "    <tr>\n",
       "      <th>17</th>\n",
       "      <td>common_dolphin</td>\n",
       "      <td>1.006740</td>\n",
       "    </tr>\n",
       "    <tr>\n",
       "      <th>18</th>\n",
       "      <td>long_finned_pilot_whale</td>\n",
       "      <td>0.996787</td>\n",
       "    </tr>\n",
       "    <tr>\n",
       "      <th>19</th>\n",
       "      <td>white_sided_dolphin</td>\n",
       "      <td>0.976899</td>\n",
       "    </tr>\n",
       "    <tr>\n",
       "      <th>20</th>\n",
       "      <td>brydes_whale</td>\n",
       "      <td>1.054510</td>\n",
       "    </tr>\n",
       "    <tr>\n",
       "      <th>21</th>\n",
       "      <td>pantropic_spotted_dolphin</td>\n",
       "      <td>1.065797</td>\n",
       "    </tr>\n",
       "    <tr>\n",
       "      <th>22</th>\n",
       "      <td>commersons_dolphin</td>\n",
       "      <td>0.978270</td>\n",
       "    </tr>\n",
       "    <tr>\n",
       "      <th>23</th>\n",
       "      <td>pygmy_killer_whale</td>\n",
       "      <td>1.106255</td>\n",
       "    </tr>\n",
       "    <tr>\n",
       "      <th>24</th>\n",
       "      <td>rough_toothed_dolphin</td>\n",
       "      <td>1.050908</td>\n",
       "    </tr>\n",
       "    <tr>\n",
       "      <th>25</th>\n",
       "      <td>frasiers_dolphin</td>\n",
       "      <td>1.205953</td>\n",
       "    </tr>\n",
       "  </tbody>\n",
       "</table>\n",
       "</div>"
      ],
      "text/plain": [
       "                      species       thr\n",
       "0              humpback_whale  1.137064\n",
       "1          bottlenose_dolphin  1.089284\n",
       "2                      beluga  1.178797\n",
       "3               dusky_dolphin  0.899564\n",
       "4          false_killer_whale  1.095145\n",
       "5                killer_whale  1.132069\n",
       "6             spinner_dolphin  1.071078\n",
       "7                  blue_whale  1.160154\n",
       "8          melon_headed_whale  0.957806\n",
       "9                   fin_whale  1.082911\n",
       "10   short_finned_pilot_whale  1.111102\n",
       "11       southern_right_whale  1.115154\n",
       "12                 gray_whale  1.122379\n",
       "13                minke_whale  0.911537\n",
       "14       cuviers_beaked_whale  1.008933\n",
       "15            spotted_dolphin  0.982388\n",
       "16                  sei_whale  1.009288\n",
       "17             common_dolphin  1.006740\n",
       "18    long_finned_pilot_whale  0.996787\n",
       "19        white_sided_dolphin  0.976899\n",
       "20               brydes_whale  1.054510\n",
       "21  pantropic_spotted_dolphin  1.065797\n",
       "22         commersons_dolphin  0.978270\n",
       "23         pygmy_killer_whale  1.106255\n",
       "24      rough_toothed_dolphin  1.050908\n",
       "25           frasiers_dolphin  1.205953"
      ]
     },
     "execution_count": 71,
     "metadata": {},
     "output_type": "execute_result"
    }
   ],
   "source": [
    "thr_df"
   ]
  },
  {
   "cell_type": "code",
   "execution_count": 72,
   "metadata": {},
   "outputs": [
    {
     "name": "stderr",
     "output_type": "stream",
     "text": [
      "100%|██████████| 27956/27956 [01:01<00:00, 451.57it/s]\n"
     ]
    }
   ],
   "source": [
    "sub_pred_lis = []\n",
    "\n",
    "train_inddividual_id_lis = train[\"individual_id\"].values\n",
    "new_ind_1_cnt=0\n",
    "\n",
    "new_ind_index_lis = [] # 1, 0.5 ,0.33, 0.25, 0.2\n",
    "\n",
    "for i in tqdm(range(predicted_positions.shape[0])):\n",
    "    nearest = [(train_inddividual_id_lis[j], distances[i, j]) for j in predicted_positions[i]]\n",
    "    \n",
    "    nearest.sort(key=lambda x: x[1])\n",
    "    \n",
    "    spe = test_pred_species[i]\n",
    "    new_individual_thr = thr_df.query(\"species == @spe\").iloc[0].thr\n",
    "\n",
    "    done = set()\n",
    "    pred_list = []\n",
    "    new_ind_ind = 0\n",
    "    for pred_id, score in nearest:\n",
    "        if score > new_individual_thr and not \"new_individual\" in done:\n",
    "            pred_list.append(\"new_individual\")\n",
    "            done.add(\"new_individual\")\n",
    "            new_ind_index_lis.append(1/len(pred_list))\n",
    "            \n",
    "        if pred_id in done:\n",
    "            continue\n",
    "        done.add(pred_id)\n",
    "        pred_list.append(pred_id)\n",
    "        if len(pred_list)>=5:\n",
    "            break    \n",
    "\n",
    "    if pred_list[0]==\"new_individual\":\n",
    "        new_ind_1_cnt+=1\n",
    "    sub_pred_lis.append(pred_list[:5])"
   ]
  },
  {
   "cell_type": "code",
   "execution_count": 73,
   "metadata": {},
   "outputs": [
    {
     "data": {
      "text/plain": [
       "0.1430104449849764"
      ]
     },
     "execution_count": 73,
     "metadata": {},
     "output_type": "execute_result"
    }
   ],
   "source": [
    "new_ind_1_cnt/len(test_df)"
   ]
  },
  {
   "cell_type": "code",
   "execution_count": 74,
   "metadata": {},
   "outputs": [
    {
     "data": {
      "text/plain": [
       "0.5141502864558604"
      ]
     },
     "execution_count": 74,
     "metadata": {},
     "output_type": "execute_result"
    }
   ],
   "source": [
    "np.mean(new_ind_index_lis)"
   ]
  },
  {
   "cell_type": "code",
   "execution_count": 75,
   "metadata": {},
   "outputs": [],
   "source": [
    "pred_lis_joined = []\n",
    "for preds in sub_pred_lis:\n",
    "    pred_lis_joined.append(\" \".join(preds))"
   ]
  },
  {
   "cell_type": "code",
   "execution_count": 76,
   "metadata": {},
   "outputs": [],
   "source": [
    "test_df[\"predictions\"] = pred_lis_joined"
   ]
  },
  {
   "cell_type": "code",
   "execution_count": 77,
   "metadata": {},
   "outputs": [],
   "source": [
    "test_df[[\"image\",\"predictions\"]].to_csv(\"submission_multi_\" +str(MULTIPLIER)+\".csv\",index=None)"
   ]
  },
  {
   "cell_type": "code",
   "execution_count": 78,
   "metadata": {},
   "outputs": [
    {
     "data": {
      "text/html": [
       "<div>\n",
       "<style scoped>\n",
       "    .dataframe tbody tr th:only-of-type {\n",
       "        vertical-align: middle;\n",
       "    }\n",
       "\n",
       "    .dataframe tbody tr th {\n",
       "        vertical-align: top;\n",
       "    }\n",
       "\n",
       "    .dataframe thead th {\n",
       "        text-align: right;\n",
       "    }\n",
       "</style>\n",
       "<table border=\"1\" class=\"dataframe\">\n",
       "  <thead>\n",
       "    <tr style=\"text-align: right;\">\n",
       "      <th></th>\n",
       "      <th>image</th>\n",
       "      <th>predictions</th>\n",
       "      <th>species</th>\n",
       "    </tr>\n",
       "  </thead>\n",
       "  <tbody>\n",
       "    <tr>\n",
       "      <th>0</th>\n",
       "      <td>000110707af0ba.jpg</td>\n",
       "      <td>fbe2b15b5481 new_individual 6d1cc6d00dca c2650...</td>\n",
       "      <td>gray_whale</td>\n",
       "    </tr>\n",
       "    <tr>\n",
       "      <th>1</th>\n",
       "      <td>0006287ec424cb.jpg</td>\n",
       "      <td>1424c7fec826 new_individual c3b7d902e73c f0efb...</td>\n",
       "      <td>false_killer_whale</td>\n",
       "    </tr>\n",
       "    <tr>\n",
       "      <th>2</th>\n",
       "      <td>000809ecb2ccad.jpg</td>\n",
       "      <td>1ce3ba6a3c29 82f26bb1adae d3cedf439859 25ab36d...</td>\n",
       "      <td>beluga</td>\n",
       "    </tr>\n",
       "    <tr>\n",
       "      <th>3</th>\n",
       "      <td>00098d1376dab2.jpg</td>\n",
       "      <td>c4274d90be60 164b7f79dcb7 2781acdf5508 e2faa6a...</td>\n",
       "      <td>humpback_whale</td>\n",
       "    </tr>\n",
       "    <tr>\n",
       "      <th>4</th>\n",
       "      <td>000b8d89c738bd.jpg</td>\n",
       "      <td>cf500d3874bc new_individual d4d2cd407a48 56637...</td>\n",
       "      <td>dusky_dolphin</td>\n",
       "    </tr>\n",
       "    <tr>\n",
       "      <th>...</th>\n",
       "      <td>...</td>\n",
       "      <td>...</td>\n",
       "      <td>...</td>\n",
       "    </tr>\n",
       "    <tr>\n",
       "      <th>27951</th>\n",
       "      <td>fff6ff1989b5cd.jpg</td>\n",
       "      <td>734573d54bef 843297d1983b new_individual e716e...</td>\n",
       "      <td>spinner_dolphin</td>\n",
       "    </tr>\n",
       "    <tr>\n",
       "      <th>27952</th>\n",
       "      <td>fff8fd932b42cb.jpg</td>\n",
       "      <td>new_individual 539541f81a32 d02966ca2974 06e21...</td>\n",
       "      <td>dusky_dolphin</td>\n",
       "    </tr>\n",
       "    <tr>\n",
       "      <th>27953</th>\n",
       "      <td>fff96371332c16.jpg</td>\n",
       "      <td>8949de1830d1 dc4082105594 2fad3a13934d 9d86367...</td>\n",
       "      <td>beluga</td>\n",
       "    </tr>\n",
       "    <tr>\n",
       "      <th>27954</th>\n",
       "      <td>fffc1c4d3eabc7.jpg</td>\n",
       "      <td>new_individual a8fe10f7b3e0 e7f9e93184b9 fd53c...</td>\n",
       "      <td>cuviers_beaked_whale</td>\n",
       "    </tr>\n",
       "    <tr>\n",
       "      <th>27955</th>\n",
       "      <td>fffc50be10c175.jpg</td>\n",
       "      <td>32a8f92d7809 4587a8786179 new_individual 64bb5...</td>\n",
       "      <td>short_finned_pilot_whale</td>\n",
       "    </tr>\n",
       "  </tbody>\n",
       "</table>\n",
       "<p>27956 rows × 3 columns</p>\n",
       "</div>"
      ],
      "text/plain": [
       "                    image                                        predictions  \\\n",
       "0      000110707af0ba.jpg  fbe2b15b5481 new_individual 6d1cc6d00dca c2650...   \n",
       "1      0006287ec424cb.jpg  1424c7fec826 new_individual c3b7d902e73c f0efb...   \n",
       "2      000809ecb2ccad.jpg  1ce3ba6a3c29 82f26bb1adae d3cedf439859 25ab36d...   \n",
       "3      00098d1376dab2.jpg  c4274d90be60 164b7f79dcb7 2781acdf5508 e2faa6a...   \n",
       "4      000b8d89c738bd.jpg  cf500d3874bc new_individual d4d2cd407a48 56637...   \n",
       "...                   ...                                                ...   \n",
       "27951  fff6ff1989b5cd.jpg  734573d54bef 843297d1983b new_individual e716e...   \n",
       "27952  fff8fd932b42cb.jpg  new_individual 539541f81a32 d02966ca2974 06e21...   \n",
       "27953  fff96371332c16.jpg  8949de1830d1 dc4082105594 2fad3a13934d 9d86367...   \n",
       "27954  fffc1c4d3eabc7.jpg  new_individual a8fe10f7b3e0 e7f9e93184b9 fd53c...   \n",
       "27955  fffc50be10c175.jpg  32a8f92d7809 4587a8786179 new_individual 64bb5...   \n",
       "\n",
       "                        species  \n",
       "0                    gray_whale  \n",
       "1            false_killer_whale  \n",
       "2                        beluga  \n",
       "3                humpback_whale  \n",
       "4                 dusky_dolphin  \n",
       "...                         ...  \n",
       "27951           spinner_dolphin  \n",
       "27952             dusky_dolphin  \n",
       "27953                    beluga  \n",
       "27954      cuviers_beaked_whale  \n",
       "27955  short_finned_pilot_whale  \n",
       "\n",
       "[27956 rows x 3 columns]"
      ]
     },
     "execution_count": 78,
     "metadata": {},
     "output_type": "execute_result"
    }
   ],
   "source": [
    "test_df"
   ]
  },
  {
   "cell_type": "code",
   "execution_count": null,
   "metadata": {},
   "outputs": [],
   "source": []
  }
 ],
 "metadata": {
  "kernelspec": {
   "display_name": "Python 3 (ipykernel)",
   "language": "python",
   "name": "python3"
  },
  "language_info": {
   "codemirror_mode": {
    "name": "ipython",
    "version": 3
   },
   "file_extension": ".py",
   "mimetype": "text/x-python",
   "name": "python",
   "nbconvert_exporter": "python",
   "pygments_lexer": "ipython3",
   "version": "3.7.12"
  }
 },
 "nbformat": 4,
 "nbformat_minor": 4
}
