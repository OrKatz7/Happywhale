{
 "cells": [
  {
   "cell_type": "code",
   "execution_count": 1,
   "id": "79ecddec-f0c3-4004-84a8-378a5fe7c25f",
   "metadata": {},
   "outputs": [],
   "source": [
    "import pandas as pd\n",
    "import numpy as np"
   ]
  },
  {
   "cell_type": "code",
   "execution_count": 2,
   "id": "5a932d60-5919-4068-89e7-ab3a0fa0b482",
   "metadata": {},
   "outputs": [],
   "source": [
    "df = pd.read_csv('/home/kaor/whale_code/csv/fold.csv')"
   ]
  },
  {
   "cell_type": "code",
   "execution_count": 3,
   "id": "b8885494-3872-4d0a-881c-796f5393a7f2",
   "metadata": {},
   "outputs": [],
   "source": [
    "df_species = df.groupby('species').count()[['image']]\n",
    "df_individual_id = df.groupby('individual_id').count()[['image']]\n",
    "df_species.columns = ['count_species']\n",
    "df_individual_id.columns = ['count_individual_id']\n",
    "df = df.merge(df_species,on='species')\n",
    "df = df.merge(df_individual_id,on='individual_id')\n",
    "df.to_csv('/home/kaor/whale_code/csv/fold2.csv',index=False)"
   ]
  },
  {
   "cell_type": "code",
   "execution_count": null,
   "id": "4a1b04f7-1d7b-4811-9084-42c5eb05e3b7",
   "metadata": {},
   "outputs": [],
   "source": []
  },
  {
   "cell_type": "code",
   "execution_count": null,
   "id": "72675bc2-b795-465d-8f6c-8085e7e4db9c",
   "metadata": {},
   "outputs": [],
   "source": []
  },
  {
   "cell_type": "code",
   "execution_count": 4,
   "id": "af078088-d3a0-4162-9364-cfdfdacc6a5f",
   "metadata": {},
   "outputs": [
    {
     "data": {
      "text/plain": [
       "1350"
      ]
     },
     "execution_count": 4,
     "metadata": {},
     "output_type": "execute_result"
    }
   ],
   "source": [
    "len(list(set(df[df.count_individual_id>5].individual_id)))"
   ]
  },
  {
   "cell_type": "code",
   "execution_count": null,
   "id": "f6d68c3b-3d30-45c9-9bbb-2456770d6dd3",
   "metadata": {},
   "outputs": [],
   "source": []
  }
 ],
 "metadata": {
  "kernelspec": {
   "display_name": "Python (mmlabv2)",
   "language": "python",
   "name": "openmmlab"
  },
  "language_info": {
   "codemirror_mode": {
    "name": "ipython",
    "version": 3
   },
   "file_extension": ".py",
   "mimetype": "text/x-python",
   "name": "python",
   "nbconvert_exporter": "python",
   "pygments_lexer": "ipython3",
   "version": "3.7.12"
  }
 },
 "nbformat": 4,
 "nbformat_minor": 5
}
