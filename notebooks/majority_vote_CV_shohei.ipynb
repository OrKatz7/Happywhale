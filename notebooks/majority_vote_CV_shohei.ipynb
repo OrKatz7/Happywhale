{
 "cells": [
  {
   "cell_type": "markdown",
   "metadata": {},
   "source": [
    "Majority vote from s_shohei's CV"
   ]
  },
  {
   "cell_type": "code",
   "execution_count": 1,
   "metadata": {
    "scrolled": true
   },
   "outputs": [],
   "source": [
    "import numpy as np\n",
    "import matplotlib.pyplot as plt\n",
    "import pandas as pd\n",
    "import json\n",
    "import glob\n",
    "\n",
    "from tqdm import tqdm\n",
    "import seaborn as sns\n",
    "from collections import Counter\n",
    "\n",
    "import cv2"
   ]
  },
  {
   "cell_type": "code",
   "execution_count": 2,
   "metadata": {},
   "outputs": [],
   "source": [
    "import cudf, cuml, cupy\n",
    "from cuml.feature_extraction.text import TfidfVectorizer\n",
    "from cuml.neighbors import NearestNeighbors"
   ]
  },
  {
   "cell_type": "code",
   "execution_count": 3,
   "metadata": {},
   "outputs": [],
   "source": [
    "from collections import Counter\n",
    "from sklearn.metrics import pairwise_distances\n",
    "from sklearn.preprocessing import normalize"
   ]
  },
  {
   "cell_type": "code",
   "execution_count": 4,
   "metadata": {
    "scrolled": false
   },
   "outputs": [
    {
     "data": {
      "text/plain": [
       "(51033, 3)"
      ]
     },
     "execution_count": 4,
     "metadata": {},
     "output_type": "execute_result"
    }
   ],
   "source": [
    "train = pd.read_csv(\"/kaggle/happywhale/input/train.csv\")\n",
    "train.shape"
   ]
  },
  {
   "cell_type": "code",
   "execution_count": 5,
   "metadata": {},
   "outputs": [],
   "source": [
    "train.species.replace({\"globis\": \"short_finned_pilot_whale\",\n",
    "                          \"pilot_whale\": \"short_finned_pilot_whale\",\n",
    "                          \"kiler_whale\": \"killer_whale\",\n",
    "                          \"bottlenose_dolpin\": \"bottlenose_dolphin\"}, inplace=True)"
   ]
  },
  {
   "cell_type": "code",
   "execution_count": 6,
   "metadata": {},
   "outputs": [],
   "source": [
    "FOLD=4"
   ]
  },
  {
   "cell_type": "code",
   "execution_count": 7,
   "metadata": {},
   "outputs": [],
   "source": [
    "fold_lis = []\n",
    "for i in range(len(train)):\n",
    "    fold_lis.append(i%5)\n",
    "    \n",
    "train[\"fold\"] = fold_lis"
   ]
  },
  {
   "cell_type": "code",
   "execution_count": 8,
   "metadata": {},
   "outputs": [],
   "source": [
    "all_only_val_set = set()\n",
    "\n",
    "for fold in range(5):\n",
    "    tr = train[train.fold!=fold]\n",
    "    val = train[train.fold==fold]\n",
    "\n",
    "    train_id_set = set(tr.individual_id)\n",
    "    val_id_set = set(val.individual_id)\n",
    "\n",
    "    only_val_set = val_id_set- train_id_set\n",
    "\n",
    "    for val_id in list(only_val_set):\n",
    "        all_only_val_set.add(str(fold) +\"_\"+ val_id)"
   ]
  },
  {
   "cell_type": "code",
   "execution_count": 9,
   "metadata": {},
   "outputs": [],
   "source": [
    "train_df = train[train.fold!=FOLD].copy()\n",
    "valid_df = train[train.fold==FOLD].copy()\n",
    "\n",
    "train_df = train_df.reset_index(drop=True)\n",
    "valid_df = valid_df.reset_index(drop=True)"
   ]
  },
  {
   "cell_type": "code",
   "execution_count": 10,
   "metadata": {},
   "outputs": [],
   "source": [
    "use_val_id_during_traing = []\n",
    "\n",
    "for val_id in valid_df.individual_id.values:\n",
    "\n",
    "    if str(FOLD) + \"_\" + val_id in all_only_val_set:\n",
    "        use_val_id_during_traing.append(False)\n",
    "    else:\n",
    "        use_val_id_during_traing.append(True)\n",
    "\n",
    "\n",
    "valid_df[\"use_in_train\"] = use_val_id_during_traing"
   ]
  },
  {
   "cell_type": "code",
   "execution_count": 11,
   "metadata": {},
   "outputs": [],
   "source": [
    "from collections import defaultdict\n",
    "d = defaultdict(lambda: -1)\n",
    "now=0\n",
    "\n",
    "new_label_group = []\n",
    "\n",
    "for i,row in train_df.iterrows():\n",
    "    if d[row[\"individual_id\"]]==-1:\n",
    "        d[row[\"individual_id\"]]=now\n",
    "        now+=1\n",
    "    \n",
    "    new_label_group.append(d[row[\"individual_id\"]])"
   ]
  },
  {
   "cell_type": "code",
   "execution_count": 12,
   "metadata": {},
   "outputs": [],
   "source": [
    "train_df[\"new_individual_id\"]  = new_label_group"
   ]
  },
  {
   "cell_type": "code",
   "execution_count": 13,
   "metadata": {},
   "outputs": [],
   "source": [
    "valid_df_for_train = valid_df[valid_df.use_in_train].copy()\n",
    "valid_df_for_train = valid_df_for_train.reset_index(drop=True)"
   ]
  },
  {
   "cell_type": "code",
   "execution_count": 14,
   "metadata": {},
   "outputs": [],
   "source": [
    "new_individual_id_lis = []\n",
    "\n",
    "\n",
    "for val_id in valid_df_for_train.individual_id.values:\n",
    "    new_individual_id_lis.append(d[val_id])"
   ]
  },
  {
   "cell_type": "code",
   "execution_count": 15,
   "metadata": {},
   "outputs": [],
   "source": [
    "valid_df_for_train[\"new_individual_id\"] = new_individual_id_lis"
   ]
  },
  {
   "cell_type": "code",
   "execution_count": null,
   "metadata": {},
   "outputs": [],
   "source": []
  },
  {
   "cell_type": "code",
   "execution_count": 16,
   "metadata": {},
   "outputs": [],
   "source": [
    "from sklearn.preprocessing import normalize\n",
    "from scipy.spatial import distance"
   ]
  },
  {
   "cell_type": "code",
   "execution_count": 17,
   "metadata": {},
   "outputs": [],
   "source": [
    "import pickle\n",
    "\n",
    "def load_emb(exp_names,pickle_name):\n",
    "    # train/valid   train_all/test\n",
    "\n",
    "    max_len=10**10\n",
    "    emb_lis = []\n",
    "    for exp in exp_names:\n",
    "        with open(exp + '/' + pickle_name + '.pickle', 'rb') as f:\n",
    "            valid_preds = pickle.load(f)\n",
    "        emb_lis.append(valid_preds)\n",
    "        max_len = min(max_len,len(valid_preds))\n",
    "    \n",
    "    \n",
    "    new_emb_lis = []\n",
    "    for emb in emb_lis:\n",
    "        new_emb_lis.append(emb[:max_len])\n",
    "    return normalize(np.concatenate(new_emb_lis,axis=1))\n",
    "        "
   ]
  },
  {
   "cell_type": "code",
   "execution_count": 18,
   "metadata": {},
   "outputs": [],
   "source": [
    "exps_all = [\n",
    "    [\"aws_exp004\",\"exp101\",\"aws_exp010\",\"aws_exp026\",\"exp117\"], # 0 \n",
    "    [\"aws_exp003\",\"exp100\",\"aws_exp009\",\"aws_exp025\",\"exp116\"], # 1\n",
    "    [\"aws_exp002\",\"exp099\",\"aws_exp008\",\"aws_exp024\",\"exp115\"], # 2\n",
    "    [\"aws_exp001\",\"exp098\",\"aws_exp007\",\"aws_exp023\",\"exp114\"], # 3\n",
    "    [\"aws_exp000\",\"exp093\",\"aws_exp006\",\"aws_exp022\",\"exp113\"], # 4\n",
    "]\n",
    "    \n",
    "exps = exps_all[FOLD]\n",
    "    # backfin, fullbody, ensemble, backfin_ensemble_species"
   ]
  },
  {
   "cell_type": "code",
   "execution_count": null,
   "metadata": {},
   "outputs": [],
   "source": []
  },
  {
   "cell_type": "markdown",
   "metadata": {},
   "source": [
    "### concat result"
   ]
  },
  {
   "cell_type": "code",
   "execution_count": 19,
   "metadata": {},
   "outputs": [],
   "source": [
    "train_preds = load_emb(exps,\"train\")\n",
    "valid_preds = load_emb(exps,\"valid\")"
   ]
  },
  {
   "cell_type": "code",
   "execution_count": 20,
   "metadata": {
    "scrolled": true
   },
   "outputs": [
    {
     "data": {
      "text/plain": [
       "((40827, 2560), (8041, 2560))"
      ]
     },
     "execution_count": 20,
     "metadata": {},
     "output_type": "execute_result"
    }
   ],
   "source": [
    "train_preds.shape,valid_preds.shape"
   ]
  },
  {
   "cell_type": "code",
   "execution_count": 21,
   "metadata": {},
   "outputs": [
    {
     "name": "stdout",
     "output_type": "stream",
     "text": [
      "CPU times: user 56 s, sys: 43.4 s, total: 1min 39s\n",
      "Wall time: 8.78 s\n"
     ]
    }
   ],
   "source": [
    "%%time\n",
    "\n",
    "distances = pairwise_distances(valid_preds,train_preds)"
   ]
  },
  {
   "cell_type": "code",
   "execution_count": 22,
   "metadata": {
    "scrolled": true
   },
   "outputs": [
    {
     "name": "stdout",
     "output_type": "stream",
     "text": [
      "CPU times: user 2.58 s, sys: 278 ms, total: 2.86 s\n",
      "Wall time: 2.86 s\n"
     ]
    }
   ],
   "source": [
    "%%time\n",
    "\n",
    "K=1000\n",
    "predicted_positions = np.argpartition(distances, K, axis=1)[:, :K]"
   ]
  },
  {
   "cell_type": "code",
   "execution_count": 23,
   "metadata": {},
   "outputs": [
    {
     "name": "stderr",
     "output_type": "stream",
     "text": [
      "100%|██████████| 8041/8041 [00:08<00:00, 932.17it/s]\n"
     ]
    }
   ],
   "source": [
    "score_lis = []\n",
    "pred_ids = []\n",
    "\n",
    "hit_species=defaultdict(int)\n",
    "count_species=defaultdict(int)\n",
    "\n",
    "train_inddividual_id_lis = train_df[\"individual_id\"].values\n",
    "valid_inddividual_id_lis = valid_df_for_train[\"individual_id\"].values\n",
    "\n",
    "valid_species_lis =  valid_df_for_train[\"species\"].values\n",
    "\n",
    "rank_lis=[]\n",
    "\n",
    "for i in tqdm(range(predicted_positions.shape[0])):\n",
    "    nearest = [(train_inddividual_id_lis[j], distances[i, j]) for j in predicted_positions[i]]\n",
    "    nearest.sort(key=lambda x: x[1])\n",
    "\n",
    "    prediction = [index_id for index_id, d in nearest]\n",
    "    \n",
    "    done = set()\n",
    "    pred_list = []\n",
    "    for pred_id in prediction:\n",
    "        if pred_id in done:\n",
    "            continue\n",
    "        done.add(pred_id)\n",
    "        pred_list.append(pred_id)\n",
    "        if len(pred_list)==5:\n",
    "            break\n",
    "    pred_ids.append(pred_list)\n",
    "    \n",
    "    if valid_inddividual_id_lis[i] in pred_list:\n",
    "        s = 1/(pred_list.index(valid_inddividual_id_lis[i]) + 1)\n",
    "        score_lis.append(s)\n",
    "        hit_species[valid_species_lis[i]]+=s\n",
    "        rank_lis.append(pred_list.index(valid_inddividual_id_lis[i]))\n",
    "    else:\n",
    "        score_lis.append(0)\n",
    "        rank_lis.append(5)\n",
    "    \n",
    "    count_species[valid_species_lis[i]]+=1"
   ]
  },
  {
   "cell_type": "code",
   "execution_count": 24,
   "metadata": {},
   "outputs": [
    {
     "data": {
      "text/plain": [
       "0.8603366082162252"
      ]
     },
     "execution_count": 24,
     "metadata": {},
     "output_type": "execute_result"
    }
   ],
   "source": [
    "np.mean(score_lis)"
   ]
  },
  {
   "cell_type": "code",
   "execution_count": 25,
   "metadata": {},
   "outputs": [],
   "source": [
    "spe_lis = []\n",
    "score_lis = []\n",
    "count_lis = []\n",
    "\n",
    "for k,v in hit_species.items():\n",
    "    count = count_species[k]\n",
    "    score = v/count\n",
    "    \n",
    "    spe_lis.append(k)\n",
    "    score_lis.append(score)\n",
    "    count_lis.append(count)"
   ]
  },
  {
   "cell_type": "code",
   "execution_count": 26,
   "metadata": {},
   "outputs": [],
   "source": [
    "tmp = list(zip(spe_lis, score_lis, count_lis))\n",
    "original_df = pd.DataFrame(tmp, columns=['species','score',\"count\"])"
   ]
  },
  {
   "cell_type": "code",
   "execution_count": null,
   "metadata": {},
   "outputs": [],
   "source": []
  },
  {
   "cell_type": "markdown",
   "metadata": {},
   "source": [
    "### majoriy vote result"
   ]
  },
  {
   "cell_type": "code",
   "execution_count": 27,
   "metadata": {},
   "outputs": [],
   "source": [
    "def do_vote(exps,vote_result):\n",
    "    train_preds = load_emb(exps,\"train\")\n",
    "    valid_preds = load_emb(exps,\"valid\")\n",
    "    \n",
    "    distances = pairwise_distances(valid_preds,train_preds)\n",
    "    \n",
    "    predicted_positions = np.argpartition(distances, K, axis=1)[:, :K]\n",
    "    \n",
    "    for i in tqdm(range(predicted_positions.shape[0])):\n",
    "        nearest = [(train_inddividual_id_lis[j], distances[i, j]) for j in predicted_positions[i]]\n",
    "        nearest.sort(key=lambda x: x[1])\n",
    "\n",
    "        prediction = [index_id for index_id, d in nearest]\n",
    "        \n",
    "        done = set()\n",
    "        pred_list = []\n",
    "        for pred_id in prediction:\n",
    "            if pred_id in done:\n",
    "                continue\n",
    "            done.add(pred_id)\n",
    "            pred_list.append(pred_id)\n",
    "            if len(pred_list)==20:\n",
    "                break\n",
    "\n",
    "        for j,p in enumerate(pred_list):\n",
    "            vote_result[i][p] += 1/(j+1)\n",
    "        "
   ]
  },
  {
   "cell_type": "code",
   "execution_count": 28,
   "metadata": {},
   "outputs": [
    {
     "name": "stderr",
     "output_type": "stream",
     "text": [
      "100%|██████████| 8041/8041 [00:08<00:00, 943.56it/s]\n",
      "100%|██████████| 8041/8041 [00:08<00:00, 935.41it/s]\n",
      "100%|██████████| 8041/8041 [00:08<00:00, 920.38it/s]\n",
      "100%|██████████| 8041/8041 [00:08<00:00, 921.53it/s]\n",
      "100%|██████████| 8041/8041 [00:08<00:00, 928.85it/s]\n"
     ]
    }
   ],
   "source": [
    "vote_result = defaultdict(lambda:defaultdict(int))\n",
    "for i in range(len(exps)):\n",
    "    do_vote([exps[i]],vote_result)"
   ]
  },
  {
   "cell_type": "code",
   "execution_count": null,
   "metadata": {},
   "outputs": [],
   "source": []
  },
  {
   "cell_type": "code",
   "execution_count": 29,
   "metadata": {},
   "outputs": [],
   "source": [
    "score_lis = []\n",
    "pred_ids = []\n",
    "corredt_ids  = []\n",
    "hit_species=defaultdict(int)\n",
    "count_species=defaultdict(int)\n",
    "\n",
    "for i in range(len(valid_df_for_train)):\n",
    "    pred_list = np.array(sorted(vote_result[i].items(), key=lambda item: item[1])[::-1])[:5,0].tolist()\n",
    "    \n",
    "    if valid_inddividual_id_lis[i] in pred_list:\n",
    "        s = 1/(pred_list.index(valid_inddividual_id_lis[i]) + 1)\n",
    "        score_lis.append(s)\n",
    "        hit_species[valid_species_lis[i]]+=s\n",
    "    else:\n",
    "        score_lis.append(0)\n",
    "    \n",
    "    count_species[valid_species_lis[i]]+=1"
   ]
  },
  {
   "cell_type": "code",
   "execution_count": 30,
   "metadata": {},
   "outputs": [
    {
     "data": {
      "text/plain": [
       "0.8528271773825808"
      ]
     },
     "execution_count": 30,
     "metadata": {},
     "output_type": "execute_result"
    }
   ],
   "source": [
    "np.mean(score_lis)"
   ]
  },
  {
   "cell_type": "code",
   "execution_count": 31,
   "metadata": {},
   "outputs": [],
   "source": [
    "spe_lis = []\n",
    "score_lis = []\n",
    "count_lis = []\n",
    "\n",
    "for k,v in hit_species.items():\n",
    "    count = count_species[k]\n",
    "    score = v/count\n",
    "    \n",
    "    spe_lis.append(k)\n",
    "    score_lis.append(score)\n",
    "    count_lis.append(count)"
   ]
  },
  {
   "cell_type": "code",
   "execution_count": 32,
   "metadata": {},
   "outputs": [],
   "source": [
    "tmp = list(zip(spe_lis, score_lis, count_lis))\n",
    "vote_df = pd.DataFrame(tmp, columns=['species','score',\"count\"])"
   ]
  },
  {
   "cell_type": "code",
   "execution_count": null,
   "metadata": {},
   "outputs": [],
   "source": []
  },
  {
   "cell_type": "code",
   "execution_count": null,
   "metadata": {},
   "outputs": [],
   "source": []
  },
  {
   "cell_type": "code",
   "execution_count": 33,
   "metadata": {},
   "outputs": [],
   "source": [
    "merged_df = pd.merge(original_df,vote_df,on=[\"species\",\"count\"],suffixes=[\"_concat\",\"_vote\"])\n",
    "merged_df[\"diff\"] = merged_df[\"score_concat\"] - merged_df[\"score_vote\"] "
   ]
  },
  {
   "cell_type": "code",
   "execution_count": 34,
   "metadata": {},
   "outputs": [
    {
     "data": {
      "text/html": [
       "<div>\n",
       "<style scoped>\n",
       "    .dataframe tbody tr th:only-of-type {\n",
       "        vertical-align: middle;\n",
       "    }\n",
       "\n",
       "    .dataframe tbody tr th {\n",
       "        vertical-align: top;\n",
       "    }\n",
       "\n",
       "    .dataframe thead th {\n",
       "        text-align: right;\n",
       "    }\n",
       "</style>\n",
       "<table border=\"1\" class=\"dataframe\">\n",
       "  <thead>\n",
       "    <tr style=\"text-align: right;\">\n",
       "      <th></th>\n",
       "      <th>species</th>\n",
       "      <th>score_concat</th>\n",
       "      <th>count</th>\n",
       "      <th>score_vote</th>\n",
       "      <th>diff</th>\n",
       "    </tr>\n",
       "  </thead>\n",
       "  <tbody>\n",
       "    <tr>\n",
       "      <th>0</th>\n",
       "      <td>humpback_whale</td>\n",
       "      <td>0.866028</td>\n",
       "      <td>1044</td>\n",
       "      <td>0.858110</td>\n",
       "      <td>0.007918</td>\n",
       "    </tr>\n",
       "    <tr>\n",
       "      <th>1</th>\n",
       "      <td>bottlenose_dolphin</td>\n",
       "      <td>0.975196</td>\n",
       "      <td>2124</td>\n",
       "      <td>0.971288</td>\n",
       "      <td>0.003908</td>\n",
       "    </tr>\n",
       "    <tr>\n",
       "      <th>2</th>\n",
       "      <td>minke_whale</td>\n",
       "      <td>0.932195</td>\n",
       "      <td>322</td>\n",
       "      <td>0.931418</td>\n",
       "      <td>0.000776</td>\n",
       "    </tr>\n",
       "    <tr>\n",
       "      <th>3</th>\n",
       "      <td>false_killer_whale</td>\n",
       "      <td>0.992611</td>\n",
       "      <td>609</td>\n",
       "      <td>0.992611</td>\n",
       "      <td>0.000000</td>\n",
       "    </tr>\n",
       "    <tr>\n",
       "      <th>4</th>\n",
       "      <td>beluga</td>\n",
       "      <td>0.751809</td>\n",
       "      <td>1382</td>\n",
       "      <td>0.739689</td>\n",
       "      <td>0.012120</td>\n",
       "    </tr>\n",
       "    <tr>\n",
       "      <th>5</th>\n",
       "      <td>blue_whale</td>\n",
       "      <td>0.548128</td>\n",
       "      <td>730</td>\n",
       "      <td>0.528995</td>\n",
       "      <td>0.019132</td>\n",
       "    </tr>\n",
       "    <tr>\n",
       "      <th>6</th>\n",
       "      <td>long_finned_pilot_whale</td>\n",
       "      <td>0.967742</td>\n",
       "      <td>31</td>\n",
       "      <td>0.967742</td>\n",
       "      <td>0.000000</td>\n",
       "    </tr>\n",
       "    <tr>\n",
       "      <th>7</th>\n",
       "      <td>killer_whale</td>\n",
       "      <td>0.933555</td>\n",
       "      <td>451</td>\n",
       "      <td>0.926275</td>\n",
       "      <td>0.007280</td>\n",
       "    </tr>\n",
       "    <tr>\n",
       "      <th>8</th>\n",
       "      <td>spinner_dolphin</td>\n",
       "      <td>0.940855</td>\n",
       "      <td>226</td>\n",
       "      <td>0.936209</td>\n",
       "      <td>0.004646</td>\n",
       "    </tr>\n",
       "    <tr>\n",
       "      <th>9</th>\n",
       "      <td>common_dolphin</td>\n",
       "      <td>0.830357</td>\n",
       "      <td>56</td>\n",
       "      <td>0.857143</td>\n",
       "      <td>-0.026786</td>\n",
       "    </tr>\n",
       "    <tr>\n",
       "      <th>10</th>\n",
       "      <td>dusky_dolphin</td>\n",
       "      <td>0.873109</td>\n",
       "      <td>119</td>\n",
       "      <td>0.848319</td>\n",
       "      <td>0.024790</td>\n",
       "    </tr>\n",
       "    <tr>\n",
       "      <th>11</th>\n",
       "      <td>gray_whale</td>\n",
       "      <td>0.789469</td>\n",
       "      <td>201</td>\n",
       "      <td>0.781095</td>\n",
       "      <td>0.008375</td>\n",
       "    </tr>\n",
       "    <tr>\n",
       "      <th>12</th>\n",
       "      <td>fin_whale</td>\n",
       "      <td>0.863930</td>\n",
       "      <td>201</td>\n",
       "      <td>0.848756</td>\n",
       "      <td>0.015174</td>\n",
       "    </tr>\n",
       "    <tr>\n",
       "      <th>13</th>\n",
       "      <td>southern_right_whale</td>\n",
       "      <td>0.525862</td>\n",
       "      <td>87</td>\n",
       "      <td>0.515134</td>\n",
       "      <td>0.010728</td>\n",
       "    </tr>\n",
       "    <tr>\n",
       "      <th>14</th>\n",
       "      <td>sei_whale</td>\n",
       "      <td>0.859649</td>\n",
       "      <td>57</td>\n",
       "      <td>0.850877</td>\n",
       "      <td>0.008772</td>\n",
       "    </tr>\n",
       "    <tr>\n",
       "      <th>15</th>\n",
       "      <td>melon_headed_whale</td>\n",
       "      <td>0.929612</td>\n",
       "      <td>103</td>\n",
       "      <td>0.932039</td>\n",
       "      <td>-0.002427</td>\n",
       "    </tr>\n",
       "    <tr>\n",
       "      <th>16</th>\n",
       "      <td>cuviers_beaked_whale</td>\n",
       "      <td>0.785714</td>\n",
       "      <td>49</td>\n",
       "      <td>0.775510</td>\n",
       "      <td>0.010204</td>\n",
       "    </tr>\n",
       "    <tr>\n",
       "      <th>17</th>\n",
       "      <td>brydes_whale</td>\n",
       "      <td>0.961538</td>\n",
       "      <td>26</td>\n",
       "      <td>0.961538</td>\n",
       "      <td>0.000000</td>\n",
       "    </tr>\n",
       "    <tr>\n",
       "      <th>18</th>\n",
       "      <td>spotted_dolphin</td>\n",
       "      <td>0.901408</td>\n",
       "      <td>71</td>\n",
       "      <td>0.903756</td>\n",
       "      <td>-0.002347</td>\n",
       "    </tr>\n",
       "    <tr>\n",
       "      <th>19</th>\n",
       "      <td>short_finned_pilot_whale</td>\n",
       "      <td>0.955405</td>\n",
       "      <td>74</td>\n",
       "      <td>0.945946</td>\n",
       "      <td>0.009459</td>\n",
       "    </tr>\n",
       "    <tr>\n",
       "      <th>20</th>\n",
       "      <td>pantropic_spotted_dolphin</td>\n",
       "      <td>0.777193</td>\n",
       "      <td>38</td>\n",
       "      <td>0.756579</td>\n",
       "      <td>0.020614</td>\n",
       "    </tr>\n",
       "    <tr>\n",
       "      <th>21</th>\n",
       "      <td>pygmy_killer_whale</td>\n",
       "      <td>0.923077</td>\n",
       "      <td>13</td>\n",
       "      <td>0.923077</td>\n",
       "      <td>0.000000</td>\n",
       "    </tr>\n",
       "    <tr>\n",
       "      <th>22</th>\n",
       "      <td>white_sided_dolphin</td>\n",
       "      <td>0.828431</td>\n",
       "      <td>17</td>\n",
       "      <td>0.867647</td>\n",
       "      <td>-0.039216</td>\n",
       "    </tr>\n",
       "    <tr>\n",
       "      <th>23</th>\n",
       "      <td>commersons_dolphin</td>\n",
       "      <td>1.000000</td>\n",
       "      <td>4</td>\n",
       "      <td>1.000000</td>\n",
       "      <td>0.000000</td>\n",
       "    </tr>\n",
       "    <tr>\n",
       "      <th>24</th>\n",
       "      <td>rough_toothed_dolphin</td>\n",
       "      <td>0.666667</td>\n",
       "      <td>6</td>\n",
       "      <td>0.666667</td>\n",
       "      <td>0.000000</td>\n",
       "    </tr>\n",
       "  </tbody>\n",
       "</table>\n",
       "</div>"
      ],
      "text/plain": [
       "                      species  score_concat  count  score_vote      diff\n",
       "0              humpback_whale      0.866028   1044    0.858110  0.007918\n",
       "1          bottlenose_dolphin      0.975196   2124    0.971288  0.003908\n",
       "2                 minke_whale      0.932195    322    0.931418  0.000776\n",
       "3          false_killer_whale      0.992611    609    0.992611  0.000000\n",
       "4                      beluga      0.751809   1382    0.739689  0.012120\n",
       "5                  blue_whale      0.548128    730    0.528995  0.019132\n",
       "6     long_finned_pilot_whale      0.967742     31    0.967742  0.000000\n",
       "7                killer_whale      0.933555    451    0.926275  0.007280\n",
       "8             spinner_dolphin      0.940855    226    0.936209  0.004646\n",
       "9              common_dolphin      0.830357     56    0.857143 -0.026786\n",
       "10              dusky_dolphin      0.873109    119    0.848319  0.024790\n",
       "11                 gray_whale      0.789469    201    0.781095  0.008375\n",
       "12                  fin_whale      0.863930    201    0.848756  0.015174\n",
       "13       southern_right_whale      0.525862     87    0.515134  0.010728\n",
       "14                  sei_whale      0.859649     57    0.850877  0.008772\n",
       "15         melon_headed_whale      0.929612    103    0.932039 -0.002427\n",
       "16       cuviers_beaked_whale      0.785714     49    0.775510  0.010204\n",
       "17               brydes_whale      0.961538     26    0.961538  0.000000\n",
       "18            spotted_dolphin      0.901408     71    0.903756 -0.002347\n",
       "19   short_finned_pilot_whale      0.955405     74    0.945946  0.009459\n",
       "20  pantropic_spotted_dolphin      0.777193     38    0.756579  0.020614\n",
       "21         pygmy_killer_whale      0.923077     13    0.923077  0.000000\n",
       "22        white_sided_dolphin      0.828431     17    0.867647 -0.039216\n",
       "23         commersons_dolphin      1.000000      4    1.000000  0.000000\n",
       "24      rough_toothed_dolphin      0.666667      6    0.666667  0.000000"
      ]
     },
     "execution_count": 34,
     "metadata": {},
     "output_type": "execute_result"
    }
   ],
   "source": [
    "merged_df"
   ]
  },
  {
   "cell_type": "code",
   "execution_count": 35,
   "metadata": {},
   "outputs": [
    {
     "data": {
      "text/html": [
       "<div>\n",
       "<style scoped>\n",
       "    .dataframe tbody tr th:only-of-type {\n",
       "        vertical-align: middle;\n",
       "    }\n",
       "\n",
       "    .dataframe tbody tr th {\n",
       "        vertical-align: top;\n",
       "    }\n",
       "\n",
       "    .dataframe thead th {\n",
       "        text-align: right;\n",
       "    }\n",
       "</style>\n",
       "<table border=\"1\" class=\"dataframe\">\n",
       "  <thead>\n",
       "    <tr style=\"text-align: right;\">\n",
       "      <th></th>\n",
       "      <th>species</th>\n",
       "      <th>score_concat</th>\n",
       "      <th>count</th>\n",
       "      <th>score_vote</th>\n",
       "      <th>diff</th>\n",
       "    </tr>\n",
       "  </thead>\n",
       "  <tbody>\n",
       "    <tr>\n",
       "      <th>0</th>\n",
       "      <td>humpback_whale</td>\n",
       "      <td>0.866028</td>\n",
       "      <td>1044</td>\n",
       "      <td>0.858110</td>\n",
       "      <td>0.007918</td>\n",
       "    </tr>\n",
       "    <tr>\n",
       "      <th>1</th>\n",
       "      <td>bottlenose_dolphin</td>\n",
       "      <td>0.975196</td>\n",
       "      <td>2124</td>\n",
       "      <td>0.971288</td>\n",
       "      <td>0.003908</td>\n",
       "    </tr>\n",
       "    <tr>\n",
       "      <th>2</th>\n",
       "      <td>minke_whale</td>\n",
       "      <td>0.932195</td>\n",
       "      <td>322</td>\n",
       "      <td>0.931418</td>\n",
       "      <td>0.000776</td>\n",
       "    </tr>\n",
       "    <tr>\n",
       "      <th>3</th>\n",
       "      <td>false_killer_whale</td>\n",
       "      <td>0.992611</td>\n",
       "      <td>609</td>\n",
       "      <td>0.992611</td>\n",
       "      <td>0.000000</td>\n",
       "    </tr>\n",
       "    <tr>\n",
       "      <th>4</th>\n",
       "      <td>beluga</td>\n",
       "      <td>0.751809</td>\n",
       "      <td>1382</td>\n",
       "      <td>0.739689</td>\n",
       "      <td>0.012120</td>\n",
       "    </tr>\n",
       "    <tr>\n",
       "      <th>5</th>\n",
       "      <td>blue_whale</td>\n",
       "      <td>0.548128</td>\n",
       "      <td>730</td>\n",
       "      <td>0.528995</td>\n",
       "      <td>0.019132</td>\n",
       "    </tr>\n",
       "    <tr>\n",
       "      <th>7</th>\n",
       "      <td>killer_whale</td>\n",
       "      <td>0.933555</td>\n",
       "      <td>451</td>\n",
       "      <td>0.926275</td>\n",
       "      <td>0.007280</td>\n",
       "    </tr>\n",
       "    <tr>\n",
       "      <th>8</th>\n",
       "      <td>spinner_dolphin</td>\n",
       "      <td>0.940855</td>\n",
       "      <td>226</td>\n",
       "      <td>0.936209</td>\n",
       "      <td>0.004646</td>\n",
       "    </tr>\n",
       "    <tr>\n",
       "      <th>10</th>\n",
       "      <td>dusky_dolphin</td>\n",
       "      <td>0.873109</td>\n",
       "      <td>119</td>\n",
       "      <td>0.848319</td>\n",
       "      <td>0.024790</td>\n",
       "    </tr>\n",
       "    <tr>\n",
       "      <th>11</th>\n",
       "      <td>gray_whale</td>\n",
       "      <td>0.789469</td>\n",
       "      <td>201</td>\n",
       "      <td>0.781095</td>\n",
       "      <td>0.008375</td>\n",
       "    </tr>\n",
       "    <tr>\n",
       "      <th>12</th>\n",
       "      <td>fin_whale</td>\n",
       "      <td>0.863930</td>\n",
       "      <td>201</td>\n",
       "      <td>0.848756</td>\n",
       "      <td>0.015174</td>\n",
       "    </tr>\n",
       "    <tr>\n",
       "      <th>15</th>\n",
       "      <td>melon_headed_whale</td>\n",
       "      <td>0.929612</td>\n",
       "      <td>103</td>\n",
       "      <td>0.932039</td>\n",
       "      <td>-0.002427</td>\n",
       "    </tr>\n",
       "  </tbody>\n",
       "</table>\n",
       "</div>"
      ],
      "text/plain": [
       "               species  score_concat  count  score_vote      diff\n",
       "0       humpback_whale      0.866028   1044    0.858110  0.007918\n",
       "1   bottlenose_dolphin      0.975196   2124    0.971288  0.003908\n",
       "2          minke_whale      0.932195    322    0.931418  0.000776\n",
       "3   false_killer_whale      0.992611    609    0.992611  0.000000\n",
       "4               beluga      0.751809   1382    0.739689  0.012120\n",
       "5           blue_whale      0.548128    730    0.528995  0.019132\n",
       "7         killer_whale      0.933555    451    0.926275  0.007280\n",
       "8      spinner_dolphin      0.940855    226    0.936209  0.004646\n",
       "10       dusky_dolphin      0.873109    119    0.848319  0.024790\n",
       "11          gray_whale      0.789469    201    0.781095  0.008375\n",
       "12           fin_whale      0.863930    201    0.848756  0.015174\n",
       "15  melon_headed_whale      0.929612    103    0.932039 -0.002427"
      ]
     },
     "execution_count": 35,
     "metadata": {},
     "output_type": "execute_result"
    }
   ],
   "source": [
    "merged_df.query(\"count > 100\")"
   ]
  },
  {
   "cell_type": "code",
   "execution_count": null,
   "metadata": {},
   "outputs": [],
   "source": []
  }
 ],
 "metadata": {
  "kernelspec": {
   "display_name": "Python 3 (ipykernel)",
   "language": "python",
   "name": "python3"
  },
  "language_info": {
   "codemirror_mode": {
    "name": "ipython",
    "version": 3
   },
   "file_extension": ".py",
   "mimetype": "text/x-python",
   "name": "python",
   "nbconvert_exporter": "python",
   "pygments_lexer": "ipython3",
   "version": "3.7.12"
  }
 },
 "nbformat": 4,
 "nbformat_minor": 4
}
