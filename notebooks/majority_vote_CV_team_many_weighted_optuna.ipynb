{
 "cells": [
  {
   "cell_type": "markdown",
   "metadata": {},
   "source": [
    "Majority vote from team's CV"
   ]
  },
  {
   "cell_type": "code",
   "execution_count": 1,
   "metadata": {
    "scrolled": true
   },
   "outputs": [],
   "source": [
    "import numpy as np\n",
    "import matplotlib.pyplot as plt\n",
    "import pandas as pd\n",
    "import json\n",
    "import glob\n",
    "\n",
    "from tqdm import tqdm\n",
    "import seaborn as sns\n",
    "from collections import Counter\n",
    "\n",
    "import cv2"
   ]
  },
  {
   "cell_type": "code",
   "execution_count": 2,
   "metadata": {},
   "outputs": [],
   "source": [
    "import cudf, cuml, cupy\n",
    "from cuml.feature_extraction.text import TfidfVectorizer\n",
    "from cuml.neighbors import NearestNeighbors"
   ]
  },
  {
   "cell_type": "code",
   "execution_count": 3,
   "metadata": {},
   "outputs": [],
   "source": [
    "from collections import Counter\n",
    "from sklearn.metrics import pairwise_distances\n",
    "from sklearn.preprocessing import normalize"
   ]
  },
  {
   "cell_type": "code",
   "execution_count": 4,
   "metadata": {},
   "outputs": [],
   "source": [
    "from collections import defaultdict"
   ]
  },
  {
   "cell_type": "code",
   "execution_count": 5,
   "metadata": {},
   "outputs": [],
   "source": [
    "import bz2\n",
    "import pickle\n",
    "import _pickle as cPickle\n",
    "\n",
    "def compressed_pickle(title, data):\n",
    "    with bz2.BZ2File(title + '.pbz2', 'w') as f:\n",
    "        cPickle.dump(data, f)\n",
    "        \n",
    "def decompress_pickle(file):\n",
    "    data = bz2.BZ2File(file, 'rb')\n",
    "    data = cPickle.load(data)\n",
    "    return data"
   ]
  },
  {
   "cell_type": "code",
   "execution_count": null,
   "metadata": {},
   "outputs": [],
   "source": []
  },
  {
   "cell_type": "code",
   "execution_count": 6,
   "metadata": {},
   "outputs": [],
   "source": [
    "d={\n",
    "    \"exp16v4sampler_fold0\": 0.8045250039815257,\n",
    "    \"exp16v6AugmixFullB4_fold0\": 0.845,\n",
    "    \"exp16v6AugmixB4Step2_fold0\": 0.8076166587036152,\n",
    "    \"exp16v6AugmixB4Step2_fold0_remove_background\": 0.8076166587036152,\n",
    "    \"exp16v6AugmixB4_fold0\": 0.808689679885332,\n",
    "    \"exp16v6Augmix_fold0\": 0.8142837235228539,\n",
    "    \"exp16v6sampler_fold0\": 0.8119127249562033,\n",
    "    \"exp21b6_fold0\": 0.7997491638795986,}"
   ]
  },
  {
   "cell_type": "code",
   "execution_count": 7,
   "metadata": {
    "scrolled": true
   },
   "outputs": [
    {
     "data": {
      "text/plain": [
       "['exp16v4sampler_fold0',\n",
       " 'exp16v6AugmixFullB4_fold0',\n",
       " 'exp16v6AugmixB4Step2_fold0',\n",
       " 'exp16v6AugmixB4Step2_fold0_remove_background',\n",
       " 'exp16v6AugmixB4_fold0',\n",
       " 'exp16v6Augmix_fold0',\n",
       " 'exp16v6sampler_fold0',\n",
       " 'exp21b6_fold0']"
      ]
     },
     "execution_count": 7,
     "metadata": {},
     "output_type": "execute_result"
    }
   ],
   "source": [
    "exps = list(d.keys())\n",
    "exps"
   ]
  },
  {
   "cell_type": "code",
   "execution_count": 8,
   "metadata": {},
   "outputs": [],
   "source": [
    "weights = list(d.values())"
   ]
  },
  {
   "cell_type": "code",
   "execution_count": 9,
   "metadata": {},
   "outputs": [
    {
     "data": {
      "text/plain": [
       "[0.8045250039815257,\n",
       " 0.845,\n",
       " 0.8076166587036152,\n",
       " 0.8076166587036152,\n",
       " 0.808689679885332,\n",
       " 0.8142837235228539,\n",
       " 0.8119127249562033,\n",
       " 0.7997491638795986]"
      ]
     },
     "execution_count": 9,
     "metadata": {},
     "output_type": "execute_result"
    }
   ],
   "source": [
    "weights"
   ]
  },
  {
   "cell_type": "code",
   "execution_count": 10,
   "metadata": {},
   "outputs": [],
   "source": [
    "FOLD=0"
   ]
  },
  {
   "cell_type": "code",
   "execution_count": 11,
   "metadata": {
    "scrolled": false
   },
   "outputs": [
    {
     "data": {
      "text/plain": [
       "(51033, 8)"
      ]
     },
     "execution_count": 11,
     "metadata": {},
     "output_type": "execute_result"
    }
   ],
   "source": [
    "fold2 = pd.read_csv(\"/kaggle/happywhale/input/whale-21-3-2022/fold2.csv\")\n",
    "fold2.shape"
   ]
  },
  {
   "cell_type": "code",
   "execution_count": 12,
   "metadata": {},
   "outputs": [],
   "source": [
    "valid = fold2.query(\"fold == @FOLD\").reset_index()\n",
    "train = fold2.query(\"fold != @FOLD\").reset_index()"
   ]
  },
  {
   "cell_type": "code",
   "execution_count": 13,
   "metadata": {},
   "outputs": [],
   "source": [
    "valid_ind = (fold2.fold == FOLD).values\n",
    "train_ind = (fold2.fold != FOLD).values"
   ]
  },
  {
   "cell_type": "code",
   "execution_count": null,
   "metadata": {},
   "outputs": [],
   "source": []
  },
  {
   "cell_type": "code",
   "execution_count": 14,
   "metadata": {},
   "outputs": [],
   "source": [
    "train_inddividual_id_lis = train[\"individual_id\"].values\n",
    "valid_inddividual_id_lis = valid[\"individual_id\"].values\n",
    "\n",
    "def get_result_each(files):\n",
    "    DIRNAME =\"../input/whale-21-3-2022/\"\n",
    "      \n",
    "    ret = []\n",
    "        \n",
    "    for fname in files:\n",
    "        print(fname)\n",
    "        data = decompress_pickle(DIRNAME + fname + \".pbz2\")\n",
    "        \n",
    "        train_emb = data[\"emb_val\"]#[new_index,:]\n",
    "        \n",
    "        train_emb=normalize(train_emb)\n",
    "        \n",
    "        valid_preds = train_emb[valid_ind]\n",
    "        train_preds = train_emb[train_ind]\n",
    "        \n",
    "        \n",
    "        distances = pairwise_distances(valid_preds,train_preds)\n",
    "                \n",
    "        K=1000\n",
    "        predicted_positions = np.argpartition(distances, K, axis=1)[:, :K]\n",
    "\n",
    "        all_pred_lis = []\n",
    "        for i in tqdm(range(predicted_positions.shape[0])):\n",
    "            nearest = [(train_inddividual_id_lis[j], distances[i, j]) for j in predicted_positions[i]]\n",
    "            nearest.sort(key=lambda x: x[1])\n",
    "\n",
    "            prediction = [index_id for index_id, d in nearest]\n",
    "\n",
    "            done = set()\n",
    "            pred_list = []\n",
    "            for pred_id in prediction:\n",
    "                if pred_id in done:\n",
    "                    continue\n",
    "                done.add(pred_id)\n",
    "                pred_list.append(pred_id)\n",
    "                if len(pred_list)==20:\n",
    "                    break\n",
    "\n",
    "            all_pred_lis.append(pred_list)\n",
    "        \n",
    "        ret.append(all_pred_lis)\n",
    "        \n",
    "    return ret\n",
    "    "
   ]
  },
  {
   "cell_type": "markdown",
   "metadata": {},
   "source": [
    "### get result for each model"
   ]
  },
  {
   "cell_type": "code",
   "execution_count": 15,
   "metadata": {
    "scrolled": false
   },
   "outputs": [
    {
     "name": "stdout",
     "output_type": "stream",
     "text": [
      "exp16v4sampler_fold0\n"
     ]
    },
    {
     "name": "stderr",
     "output_type": "stream",
     "text": [
      "100%|██████████| 8372/8372 [00:08<00:00, 998.19it/s] \n"
     ]
    },
    {
     "name": "stdout",
     "output_type": "stream",
     "text": [
      "exp16v6AugmixFullB4_fold0\n"
     ]
    },
    {
     "name": "stderr",
     "output_type": "stream",
     "text": [
      "100%|██████████| 8372/8372 [00:08<00:00, 1004.01it/s]\n"
     ]
    },
    {
     "name": "stdout",
     "output_type": "stream",
     "text": [
      "exp16v6AugmixB4Step2_fold0\n"
     ]
    },
    {
     "name": "stderr",
     "output_type": "stream",
     "text": [
      "100%|██████████| 8372/8372 [00:08<00:00, 992.96it/s] \n"
     ]
    },
    {
     "name": "stdout",
     "output_type": "stream",
     "text": [
      "exp16v6AugmixB4Step2_fold0_remove_background\n"
     ]
    },
    {
     "name": "stderr",
     "output_type": "stream",
     "text": [
      "100%|██████████| 8372/8372 [00:08<00:00, 987.29it/s] \n"
     ]
    },
    {
     "name": "stdout",
     "output_type": "stream",
     "text": [
      "exp16v6AugmixB4_fold0\n"
     ]
    },
    {
     "name": "stderr",
     "output_type": "stream",
     "text": [
      "100%|██████████| 8372/8372 [00:08<00:00, 996.72it/s] \n"
     ]
    },
    {
     "name": "stdout",
     "output_type": "stream",
     "text": [
      "exp16v6Augmix_fold0\n"
     ]
    },
    {
     "name": "stderr",
     "output_type": "stream",
     "text": [
      "100%|██████████| 8372/8372 [00:08<00:00, 1003.82it/s]\n"
     ]
    },
    {
     "name": "stdout",
     "output_type": "stream",
     "text": [
      "exp16v6sampler_fold0\n"
     ]
    },
    {
     "name": "stderr",
     "output_type": "stream",
     "text": [
      "100%|██████████| 8372/8372 [00:08<00:00, 981.05it/s] \n"
     ]
    },
    {
     "name": "stdout",
     "output_type": "stream",
     "text": [
      "exp21b6_fold0\n"
     ]
    },
    {
     "name": "stderr",
     "output_type": "stream",
     "text": [
      "100%|██████████| 8372/8372 [00:08<00:00, 1000.57it/s]\n"
     ]
    }
   ],
   "source": [
    "ret = get_result_each(exps)"
   ]
  },
  {
   "cell_type": "code",
   "execution_count": 16,
   "metadata": {},
   "outputs": [
    {
     "data": {
      "text/plain": [
       "(8, 8372, 20)"
      ]
     },
     "execution_count": 16,
     "metadata": {},
     "output_type": "execute_result"
    }
   ],
   "source": [
    "len(ret),len(ret[0]),len(ret[0][0])"
   ]
  },
  {
   "cell_type": "code",
   "execution_count": null,
   "metadata": {},
   "outputs": [],
   "source": []
  },
  {
   "cell_type": "code",
   "execution_count": 17,
   "metadata": {},
   "outputs": [],
   "source": [
    "def get_score(weights):\n",
    "    \n",
    "    #train_emb\n",
    "    vote_result = defaultdict(lambda:defaultdict(int))\n",
    "    \n",
    "    for preds, w in zip(ret, weights):\n",
    "        for i in range(len(preds)):\n",
    "            \n",
    "            for j,p in enumerate(preds[i]):\n",
    "                vote_result[i][p] += (w / (j+1))\n",
    "        \n",
    "        \n",
    "    score_lis = []\n",
    "    pred_ids = []\n",
    "\n",
    "    for i in range(len(ret[0])):\n",
    "        pred_list = np.array(sorted(vote_result[i].items(), key=lambda item: item[1])[::-1])[:5,0].tolist()\n",
    "\n",
    "        if valid_inddividual_id_lis[i] in pred_list:\n",
    "            s = 1/(pred_list.index(valid_inddividual_id_lis[i]) + 1)\n",
    "            score_lis.append(s)\n",
    "        else:\n",
    "            score_lis.append(0)\n",
    "    \n",
    "    return np.mean(score_lis)"
   ]
  },
  {
   "cell_type": "code",
   "execution_count": null,
   "metadata": {},
   "outputs": [],
   "source": []
  },
  {
   "cell_type": "code",
   "execution_count": null,
   "metadata": {},
   "outputs": [],
   "source": []
  },
  {
   "cell_type": "code",
   "execution_count": 18,
   "metadata": {
    "scrolled": true
   },
   "outputs": [
    {
     "data": {
      "text/plain": [
       "0.8485985029463291"
      ]
     },
     "execution_count": 18,
     "metadata": {},
     "output_type": "execute_result"
    }
   ],
   "source": [
    "# un-weighted result\n",
    "get_score([1,1,1,1,1,1,1,1])"
   ]
  },
  {
   "cell_type": "code",
   "execution_count": 19,
   "metadata": {},
   "outputs": [
    {
     "data": {
      "text/plain": [
       "array([0.64726048, 0.714025  , 0.65224467, 0.65224467, 0.653979  ,\n",
       "       0.66305798, 0.65920227, 0.63959873])"
      ]
     },
     "execution_count": 19,
     "metadata": {},
     "output_type": "execute_result"
    }
   ],
   "source": [
    "square_weights= np.array(weights) ** 2\n",
    "square_weights"
   ]
  },
  {
   "cell_type": "code",
   "execution_count": 20,
   "metadata": {
    "scrolled": true
   },
   "outputs": [
    {
     "data": {
      "text/plain": [
       "0.8494286510590858"
      ]
     },
     "execution_count": 20,
     "metadata": {},
     "output_type": "execute_result"
    }
   ],
   "source": [
    "# current weighted result\n",
    "get_score(square_weights)"
   ]
  },
  {
   "cell_type": "code",
   "execution_count": null,
   "metadata": {},
   "outputs": [],
   "source": []
  },
  {
   "cell_type": "code",
   "execution_count": null,
   "metadata": {},
   "outputs": [],
   "source": []
  },
  {
   "cell_type": "markdown",
   "metadata": {},
   "source": [
    "optimize by optuna"
   ]
  },
  {
   "cell_type": "code",
   "execution_count": 21,
   "metadata": {},
   "outputs": [],
   "source": [
    "import optuna"
   ]
  },
  {
   "cell_type": "code",
   "execution_count": 22,
   "metadata": {},
   "outputs": [],
   "source": [
    "def objective(trial):\n",
    "    w1=1 # exp16v4sampler_fold0\n",
    "    w2=trial.suggest_uniform('exp16v6AugmixFullB4_fold0', 0, 4)\n",
    "    w3=trial.suggest_uniform('exp16v6AugmixB4Step2_fold0', 0, 4)\n",
    "    w4=trial.suggest_uniform('exp16v6AugmixB4Step2_fold0_remove_background', 0, 4)\n",
    "    w5=trial.suggest_uniform('exp16v6AugmixB4_fold0', 0, 4)\n",
    "    w6=trial.suggest_uniform('exp16v6Augmix_fold0', 0, 4)\n",
    "    w7=trial.suggest_uniform('exp16v6sampler_fold0', 0, 4)\n",
    "    w8=trial.suggest_uniform('exp21b6_fold0', 0, 4)\n",
    "\n",
    "    result = get_score([w1,w2,w3,w4,w5,w6,w7,w8])\n",
    "    \n",
    "    return result"
   ]
  },
  {
   "cell_type": "code",
   "execution_count": 23,
   "metadata": {},
   "outputs": [],
   "source": [
    "optuna.logging.set_verbosity(optuna.logging.CRITICAL)"
   ]
  },
  {
   "cell_type": "code",
   "execution_count": 24,
   "metadata": {
    "scrolled": true
   },
   "outputs": [
    {
     "name": "stdout",
     "output_type": "stream",
     "text": [
      "CPU times: user 5min, sys: 1.02 s, total: 5min 2s\n",
      "Wall time: 5min\n"
     ]
    }
   ],
   "source": [
    "%%time\n",
    "\n",
    "study = optuna.create_study(direction='maximize')\n",
    "study.optimize(objective, timeout=300)"
   ]
  },
  {
   "cell_type": "code",
   "execution_count": 26,
   "metadata": {},
   "outputs": [
    {
     "data": {
      "text/html": [
       "<div>\n",
       "<style scoped>\n",
       "    .dataframe tbody tr th:only-of-type {\n",
       "        vertical-align: middle;\n",
       "    }\n",
       "\n",
       "    .dataframe tbody tr th {\n",
       "        vertical-align: top;\n",
       "    }\n",
       "\n",
       "    .dataframe thead th {\n",
       "        text-align: right;\n",
       "    }\n",
       "</style>\n",
       "<table border=\"1\" class=\"dataframe\">\n",
       "  <thead>\n",
       "    <tr style=\"text-align: right;\">\n",
       "      <th></th>\n",
       "      <th>number</th>\n",
       "      <th>value</th>\n",
       "      <th>datetime_start</th>\n",
       "      <th>datetime_complete</th>\n",
       "      <th>duration</th>\n",
       "      <th>params_exp16v6AugmixB4Step2_fold0</th>\n",
       "      <th>params_exp16v6AugmixB4Step2_fold0_remove_background</th>\n",
       "      <th>params_exp16v6AugmixB4_fold0</th>\n",
       "      <th>params_exp16v6AugmixFullB4_fold0</th>\n",
       "      <th>params_exp16v6Augmix_fold0</th>\n",
       "      <th>params_exp16v6sampler_fold0</th>\n",
       "      <th>params_exp21b6_fold0</th>\n",
       "      <th>state</th>\n",
       "    </tr>\n",
       "  </thead>\n",
       "  <tbody>\n",
       "    <tr>\n",
       "      <th>12</th>\n",
       "      <td>12</td>\n",
       "      <td>0.837888</td>\n",
       "      <td>2022-04-14 10:39:35.787712</td>\n",
       "      <td>2022-04-14 10:39:37.139674</td>\n",
       "      <td>0 days 00:00:01.351962</td>\n",
       "      <td>0.084647</td>\n",
       "      <td>0.099079</td>\n",
       "      <td>0.750099</td>\n",
       "      <td>0.032923</td>\n",
       "      <td>2.456566</td>\n",
       "      <td>0.943456</td>\n",
       "      <td>0.128483</td>\n",
       "      <td>COMPLETE</td>\n",
       "    </tr>\n",
       "    <tr>\n",
       "      <th>60</th>\n",
       "      <td>60</td>\n",
       "      <td>0.841346</td>\n",
       "      <td>2022-04-14 10:40:40.768276</td>\n",
       "      <td>2022-04-14 10:40:42.122046</td>\n",
       "      <td>0 days 00:00:01.353770</td>\n",
       "      <td>0.711353</td>\n",
       "      <td>1.613619</td>\n",
       "      <td>0.122017</td>\n",
       "      <td>0.352236</td>\n",
       "      <td>0.938728</td>\n",
       "      <td>0.553158</td>\n",
       "      <td>0.675886</td>\n",
       "      <td>COMPLETE</td>\n",
       "    </tr>\n",
       "    <tr>\n",
       "      <th>6</th>\n",
       "      <td>6</td>\n",
       "      <td>0.841472</td>\n",
       "      <td>2022-04-14 10:39:27.774516</td>\n",
       "      <td>2022-04-14 10:39:29.103371</td>\n",
       "      <td>0 days 00:00:01.328855</td>\n",
       "      <td>2.955323</td>\n",
       "      <td>0.272507</td>\n",
       "      <td>2.322118</td>\n",
       "      <td>0.677254</td>\n",
       "      <td>1.340452</td>\n",
       "      <td>1.027816</td>\n",
       "      <td>3.648354</td>\n",
       "      <td>COMPLETE</td>\n",
       "    </tr>\n",
       "    <tr>\n",
       "      <th>220</th>\n",
       "      <td>220</td>\n",
       "      <td>0.841951</td>\n",
       "      <td>2022-04-14 10:44:15.186656</td>\n",
       "      <td>2022-04-14 10:44:16.555970</td>\n",
       "      <td>0 days 00:00:01.369314</td>\n",
       "      <td>0.468293</td>\n",
       "      <td>0.233640</td>\n",
       "      <td>0.273210</td>\n",
       "      <td>0.020262</td>\n",
       "      <td>1.153548</td>\n",
       "      <td>1.030179</td>\n",
       "      <td>1.146683</td>\n",
       "      <td>COMPLETE</td>\n",
       "    </tr>\n",
       "    <tr>\n",
       "      <th>9</th>\n",
       "      <td>9</td>\n",
       "      <td>0.844394</td>\n",
       "      <td>2022-04-14 10:39:31.761399</td>\n",
       "      <td>2022-04-14 10:39:33.088843</td>\n",
       "      <td>0 days 00:00:01.327444</td>\n",
       "      <td>3.928293</td>\n",
       "      <td>0.690110</td>\n",
       "      <td>3.264435</td>\n",
       "      <td>2.043607</td>\n",
       "      <td>1.416588</td>\n",
       "      <td>2.033151</td>\n",
       "      <td>3.312023</td>\n",
       "      <td>COMPLETE</td>\n",
       "    </tr>\n",
       "    <tr>\n",
       "      <th>...</th>\n",
       "      <td>...</td>\n",
       "      <td>...</td>\n",
       "      <td>...</td>\n",
       "      <td>...</td>\n",
       "      <td>...</td>\n",
       "      <td>...</td>\n",
       "      <td>...</td>\n",
       "      <td>...</td>\n",
       "      <td>...</td>\n",
       "      <td>...</td>\n",
       "      <td>...</td>\n",
       "      <td>...</td>\n",
       "      <td>...</td>\n",
       "    </tr>\n",
       "    <tr>\n",
       "      <th>176</th>\n",
       "      <td>176</td>\n",
       "      <td>0.866529</td>\n",
       "      <td>2022-04-14 10:43:16.390586</td>\n",
       "      <td>2022-04-14 10:43:17.724527</td>\n",
       "      <td>0 days 00:00:01.333941</td>\n",
       "      <td>0.501546</td>\n",
       "      <td>0.025801</td>\n",
       "      <td>0.371485</td>\n",
       "      <td>3.683933</td>\n",
       "      <td>1.165693</td>\n",
       "      <td>1.067964</td>\n",
       "      <td>1.480508</td>\n",
       "      <td>COMPLETE</td>\n",
       "    </tr>\n",
       "    <tr>\n",
       "      <th>156</th>\n",
       "      <td>156</td>\n",
       "      <td>0.866549</td>\n",
       "      <td>2022-04-14 10:42:49.548612</td>\n",
       "      <td>2022-04-14 10:42:50.871360</td>\n",
       "      <td>0 days 00:00:01.322748</td>\n",
       "      <td>0.167212</td>\n",
       "      <td>0.172105</td>\n",
       "      <td>0.753264</td>\n",
       "      <td>3.882390</td>\n",
       "      <td>1.258520</td>\n",
       "      <td>1.467853</td>\n",
       "      <td>1.676132</td>\n",
       "      <td>COMPLETE</td>\n",
       "    </tr>\n",
       "    <tr>\n",
       "      <th>174</th>\n",
       "      <td>174</td>\n",
       "      <td>0.866553</td>\n",
       "      <td>2022-04-14 10:43:13.710877</td>\n",
       "      <td>2022-04-14 10:43:15.048891</td>\n",
       "      <td>0 days 00:00:01.338014</td>\n",
       "      <td>0.469135</td>\n",
       "      <td>0.018991</td>\n",
       "      <td>0.394244</td>\n",
       "      <td>3.581148</td>\n",
       "      <td>1.193448</td>\n",
       "      <td>1.006749</td>\n",
       "      <td>1.471483</td>\n",
       "      <td>COMPLETE</td>\n",
       "    </tr>\n",
       "    <tr>\n",
       "      <th>222</th>\n",
       "      <td>222</td>\n",
       "      <td>0.866597</td>\n",
       "      <td>2022-04-14 10:44:17.890017</td>\n",
       "      <td>2022-04-14 10:44:19.220022</td>\n",
       "      <td>0 days 00:00:01.330005</td>\n",
       "      <td>0.476479</td>\n",
       "      <td>0.121882</td>\n",
       "      <td>0.350760</td>\n",
       "      <td>3.586031</td>\n",
       "      <td>1.083781</td>\n",
       "      <td>1.111681</td>\n",
       "      <td>1.421671</td>\n",
       "      <td>COMPLETE</td>\n",
       "    </tr>\n",
       "    <tr>\n",
       "      <th>223</th>\n",
       "      <td>223</td>\n",
       "      <td>0.866633</td>\n",
       "      <td>2022-04-14 10:44:19.220217</td>\n",
       "      <td>2022-04-14 10:44:20.553034</td>\n",
       "      <td>0 days 00:00:01.332817</td>\n",
       "      <td>0.571967</td>\n",
       "      <td>0.086679</td>\n",
       "      <td>0.348565</td>\n",
       "      <td>3.566005</td>\n",
       "      <td>1.061286</td>\n",
       "      <td>1.113370</td>\n",
       "      <td>1.428674</td>\n",
       "      <td>COMPLETE</td>\n",
       "    </tr>\n",
       "  </tbody>\n",
       "</table>\n",
       "<p>224 rows × 13 columns</p>\n",
       "</div>"
      ],
      "text/plain": [
       "     number     value             datetime_start          datetime_complete  \\\n",
       "12       12  0.837888 2022-04-14 10:39:35.787712 2022-04-14 10:39:37.139674   \n",
       "60       60  0.841346 2022-04-14 10:40:40.768276 2022-04-14 10:40:42.122046   \n",
       "6         6  0.841472 2022-04-14 10:39:27.774516 2022-04-14 10:39:29.103371   \n",
       "220     220  0.841951 2022-04-14 10:44:15.186656 2022-04-14 10:44:16.555970   \n",
       "9         9  0.844394 2022-04-14 10:39:31.761399 2022-04-14 10:39:33.088843   \n",
       "..      ...       ...                        ...                        ...   \n",
       "176     176  0.866529 2022-04-14 10:43:16.390586 2022-04-14 10:43:17.724527   \n",
       "156     156  0.866549 2022-04-14 10:42:49.548612 2022-04-14 10:42:50.871360   \n",
       "174     174  0.866553 2022-04-14 10:43:13.710877 2022-04-14 10:43:15.048891   \n",
       "222     222  0.866597 2022-04-14 10:44:17.890017 2022-04-14 10:44:19.220022   \n",
       "223     223  0.866633 2022-04-14 10:44:19.220217 2022-04-14 10:44:20.553034   \n",
       "\n",
       "                  duration  params_exp16v6AugmixB4Step2_fold0  \\\n",
       "12  0 days 00:00:01.351962                           0.084647   \n",
       "60  0 days 00:00:01.353770                           0.711353   \n",
       "6   0 days 00:00:01.328855                           2.955323   \n",
       "220 0 days 00:00:01.369314                           0.468293   \n",
       "9   0 days 00:00:01.327444                           3.928293   \n",
       "..                     ...                                ...   \n",
       "176 0 days 00:00:01.333941                           0.501546   \n",
       "156 0 days 00:00:01.322748                           0.167212   \n",
       "174 0 days 00:00:01.338014                           0.469135   \n",
       "222 0 days 00:00:01.330005                           0.476479   \n",
       "223 0 days 00:00:01.332817                           0.571967   \n",
       "\n",
       "     params_exp16v6AugmixB4Step2_fold0_remove_background  \\\n",
       "12                                            0.099079     \n",
       "60                                            1.613619     \n",
       "6                                             0.272507     \n",
       "220                                           0.233640     \n",
       "9                                             0.690110     \n",
       "..                                                 ...     \n",
       "176                                           0.025801     \n",
       "156                                           0.172105     \n",
       "174                                           0.018991     \n",
       "222                                           0.121882     \n",
       "223                                           0.086679     \n",
       "\n",
       "     params_exp16v6AugmixB4_fold0  params_exp16v6AugmixFullB4_fold0  \\\n",
       "12                       0.750099                          0.032923   \n",
       "60                       0.122017                          0.352236   \n",
       "6                        2.322118                          0.677254   \n",
       "220                      0.273210                          0.020262   \n",
       "9                        3.264435                          2.043607   \n",
       "..                            ...                               ...   \n",
       "176                      0.371485                          3.683933   \n",
       "156                      0.753264                          3.882390   \n",
       "174                      0.394244                          3.581148   \n",
       "222                      0.350760                          3.586031   \n",
       "223                      0.348565                          3.566005   \n",
       "\n",
       "     params_exp16v6Augmix_fold0  params_exp16v6sampler_fold0  \\\n",
       "12                     2.456566                     0.943456   \n",
       "60                     0.938728                     0.553158   \n",
       "6                      1.340452                     1.027816   \n",
       "220                    1.153548                     1.030179   \n",
       "9                      1.416588                     2.033151   \n",
       "..                          ...                          ...   \n",
       "176                    1.165693                     1.067964   \n",
       "156                    1.258520                     1.467853   \n",
       "174                    1.193448                     1.006749   \n",
       "222                    1.083781                     1.111681   \n",
       "223                    1.061286                     1.113370   \n",
       "\n",
       "     params_exp21b6_fold0     state  \n",
       "12               0.128483  COMPLETE  \n",
       "60               0.675886  COMPLETE  \n",
       "6                3.648354  COMPLETE  \n",
       "220              1.146683  COMPLETE  \n",
       "9                3.312023  COMPLETE  \n",
       "..                    ...       ...  \n",
       "176              1.480508  COMPLETE  \n",
       "156              1.676132  COMPLETE  \n",
       "174              1.471483  COMPLETE  \n",
       "222              1.421671  COMPLETE  \n",
       "223              1.428674  COMPLETE  \n",
       "\n",
       "[224 rows x 13 columns]"
      ]
     },
     "execution_count": 26,
     "metadata": {},
     "output_type": "execute_result"
    }
   ],
   "source": [
    "study.trials_dataframe().sort_values(\"value\")"
   ]
  },
  {
   "cell_type": "code",
   "execution_count": 31,
   "metadata": {},
   "outputs": [
    {
     "data": {
      "text/plain": [
       "{'exp16v6AugmixFullB4_fold0': 3.566004627617216,\n",
       " 'exp16v6AugmixB4Step2_fold0': 0.5719668582219408,\n",
       " 'exp16v6AugmixB4Step2_fold0_remove_background': 0.08667861670876892,\n",
       " 'exp16v6AugmixB4_fold0': 0.3485647134305221,\n",
       " 'exp16v6Augmix_fold0': 1.0612858569221244,\n",
       " 'exp16v6sampler_fold0': 1.1133698495346793,\n",
       " 'exp21b6_fold0': 1.4286739060092204}"
      ]
     },
     "execution_count": 31,
     "metadata": {},
     "output_type": "execute_result"
    }
   ],
   "source": [
    "study.best_params"
   ]
  },
  {
   "cell_type": "code",
   "execution_count": 32,
   "metadata": {},
   "outputs": [],
   "source": [
    "best_weights = list(study.best_params.values())"
   ]
  },
  {
   "cell_type": "code",
   "execution_count": 34,
   "metadata": {},
   "outputs": [
    {
     "data": {
      "text/plain": [
       "0.8666328236980411"
      ]
     },
     "execution_count": 34,
     "metadata": {},
     "output_type": "execute_result"
    }
   ],
   "source": [
    "get_score([1] + best_weights)"
   ]
  },
  {
   "cell_type": "code",
   "execution_count": null,
   "metadata": {},
   "outputs": [],
   "source": []
  }
 ],
 "metadata": {
  "kernelspec": {
   "display_name": "Python 3 (ipykernel)",
   "language": "python",
   "name": "python3"
  },
  "language_info": {
   "codemirror_mode": {
    "name": "ipython",
    "version": 3
   },
   "file_extension": ".py",
   "mimetype": "text/x-python",
   "name": "python",
   "nbconvert_exporter": "python",
   "pygments_lexer": "ipython3",
   "version": "3.7.12"
  }
 },
 "nbformat": 4,
 "nbformat_minor": 4
}
