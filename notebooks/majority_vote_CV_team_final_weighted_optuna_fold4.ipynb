{
 "cells": [
  {
   "cell_type": "markdown",
   "metadata": {},
   "source": [
    "Majority vote from team's CV"
   ]
  },
  {
   "cell_type": "code",
   "execution_count": 1,
   "metadata": {
    "scrolled": true
   },
   "outputs": [],
   "source": [
    "import numpy as np\n",
    "import matplotlib.pyplot as plt\n",
    "import pandas as pd\n",
    "import json\n",
    "import glob\n",
    "\n",
    "from tqdm import tqdm\n",
    "import seaborn as sns\n",
    "from collections import Counter\n",
    "\n",
    "import cv2"
   ]
  },
  {
   "cell_type": "code",
   "execution_count": 2,
   "metadata": {},
   "outputs": [],
   "source": [
    "import cudf, cuml, cupy\n",
    "from cuml.feature_extraction.text import TfidfVectorizer\n",
    "from cuml.neighbors import NearestNeighbors"
   ]
  },
  {
   "cell_type": "code",
   "execution_count": 3,
   "metadata": {},
   "outputs": [],
   "source": [
    "from collections import Counter\n",
    "from sklearn.metrics import pairwise_distances\n",
    "from sklearn.preprocessing import normalize"
   ]
  },
  {
   "cell_type": "code",
   "execution_count": 4,
   "metadata": {},
   "outputs": [],
   "source": [
    "from collections import defaultdict"
   ]
  },
  {
   "cell_type": "code",
   "execution_count": 5,
   "metadata": {},
   "outputs": [],
   "source": [
    "import bz2\n",
    "import pickle\n",
    "import _pickle as cPickle\n",
    "\n",
    "def compressed_pickle(title, data):\n",
    "    with bz2.BZ2File(title + '.pbz2', 'w') as f:\n",
    "        cPickle.dump(data, f)\n",
    "        \n",
    "def decompress_pickle(file):\n",
    "    data = bz2.BZ2File(file, 'rb')\n",
    "    data = cPickle.load(data)\n",
    "    return data"
   ]
  },
  {
   "cell_type": "code",
   "execution_count": 7,
   "metadata": {},
   "outputs": [],
   "source": [
    "#exps = !ls ../input/whale-21-3-2022/ | grep pbz2 | grep $fold\n",
    "#exps"
   ]
  },
  {
   "cell_type": "code",
   "execution_count": 8,
   "metadata": {},
   "outputs": [
    {
     "data": {
      "text/plain": [
       "['exp16v6AugMix1536_fold4.pbz2',\n",
       " 'exp16v6AugmixB3_fold4.pbz2',\n",
       " 'exp16v6AugmixB4Step2_fold4.pbz2',\n",
       " 'exp16v6AugmixB4_fold4_remove_background.pbz2',\n",
       " 'exp16v6Augmix_fold4.pbz2']"
      ]
     },
     "execution_count": 8,
     "metadata": {},
     "output_type": "execute_result"
    }
   ],
   "source": []
  },
  {
   "cell_type": "code",
   "execution_count": 9,
   "metadata": {},
   "outputs": [],
   "source": [
    "FOLD=4"
   ]
  },
  {
   "cell_type": "code",
   "execution_count": 10,
   "metadata": {},
   "outputs": [],
   "source": [
    "exps_all = [\n",
    "    [\n",
    "         'exp16v6Augmix_fold0.pbz2',\n",
    "         'exp16v4sampler_fold0.pbz2',\n",
    "         'exp16v6AugMixNew4_fold0.pbz2',\n",
    "         'exp16v6AugMixNew4_fold0_tta.pbz2',\n",
    "         'exp16v6AugmixB3_fold0.pbz2',\n",
    "         'exp16v6AugmixB4Step2_fold0.pbz2',\n",
    "         'exp16v6AugmixB4Step2_fold0_remove_background.pbz2',\n",
    "         'exp16v6AugmixB4_fold0.pbz2',\n",
    "         'exp16v6AugmixB4_fold0_remove_background.pbz2',\n",
    "         'exp16v6AugmixFullB4_fold0.pbz2',\n",
    "         'exp16v6sampler_fold0.pbz2',\n",
    "         'exp21b6_fold0.pbz2',\n",
    "         'exp21b6_fold0_remove_background.pbz2'\n",
    "    ],\n",
    "    [\n",
    "         'exp16v6Augmix_fold1.pbz2',\n",
    "         'exp16v6AugMixNew4_fold1.pbz2',\n",
    "         'exp16v6AugMixNew4_fold1_tta.pbz2',\n",
    "         'exp16v6AugmixB3_fold1.pbz2',\n",
    "         'exp16v6AugmixB4Step2_fold1.pbz2',\n",
    "         'exp16v6AugmixB4Step2_fold1_remove_background.pbz2',\n",
    "         'exp16v6AugmixB4_fold1.pbz2',\n",
    "         'exp21b6_fold1_remove_background.pbz2'\n",
    "    ],\n",
    "    [\n",
    "         'exp16v6Augmix_fold2.pbz2',\n",
    "         'exp16v6AugMixNew4_fold2.pbz2',\n",
    "         'exp16v6AugMixNew4_fold2_tta.pbz2',\n",
    "         'exp16v6AugmixB3_fold2.pbz2',\n",
    "         'exp16v6AugmixB4Full_fold2.pbz2',\n",
    "         'exp16v6AugmixB4Step2_fold2.pbz2',\n",
    "         'exp16v6AugmixB4_fold2.pbz2',\n",
    "         'exp16v6AugmixB4_fold2_remove_background.pbz2',\n",
    "         'exp21b6_fold2_remove_background.pbz2'\n",
    "    ],\n",
    "    [\n",
    "         'exp16v6Augmix_fold3.pbz2',\n",
    "         'exp16v6AugMix1536_fold3.pbz2',\n",
    "         'exp16v6AugmixB3_fold3.pbz2',\n",
    "         'exp16v6AugmixB4Full_fold3.pbz2',\n",
    "         'exp16v6AugmixB4Step2_fold3.pbz2',\n",
    "         'exp16v6AugmixB4_fold3_remove_background.pbz2',\n",
    "         'exp21b6_fold3_remove_background.pbz2'\n",
    "    ],\n",
    "    [\n",
    "         'exp16v6Augmix_fold4.pbz2',\n",
    "         'exp16v6AugMix1536_fold4.pbz2',\n",
    "         'exp16v6AugmixB3_fold4.pbz2',\n",
    "         'exp16v6AugmixB4Step2_fold4.pbz2',\n",
    "         'exp16v6AugmixB4_fold4_remove_background.pbz2',\n",
    "    ]\n",
    "]"
   ]
  },
  {
   "cell_type": "code",
   "execution_count": 11,
   "metadata": {},
   "outputs": [],
   "source": [
    "exps = exps_all[FOLD]"
   ]
  },
  {
   "cell_type": "code",
   "execution_count": 12,
   "metadata": {
    "scrolled": false
   },
   "outputs": [
    {
     "data": {
      "text/plain": [
       "(51033, 8)"
      ]
     },
     "execution_count": 12,
     "metadata": {},
     "output_type": "execute_result"
    }
   ],
   "source": [
    "fold2 = pd.read_csv(\"/kaggle/happywhale/input/whale-21-3-2022/fold2.csv\")\n",
    "fold2.shape"
   ]
  },
  {
   "cell_type": "code",
   "execution_count": 13,
   "metadata": {},
   "outputs": [],
   "source": [
    "valid = fold2.query(\"fold == @FOLD\").reset_index()\n",
    "train = fold2.query(\"fold != @FOLD\").reset_index()"
   ]
  },
  {
   "cell_type": "code",
   "execution_count": 14,
   "metadata": {},
   "outputs": [],
   "source": [
    "valid_ind = (fold2.fold == FOLD).values\n",
    "train_ind = (fold2.fold != FOLD).values"
   ]
  },
  {
   "cell_type": "code",
   "execution_count": null,
   "metadata": {},
   "outputs": [],
   "source": []
  },
  {
   "cell_type": "code",
   "execution_count": 15,
   "metadata": {},
   "outputs": [],
   "source": [
    "train_inddividual_id_lis = train[\"individual_id\"].values\n",
    "valid_inddividual_id_lis = valid[\"individual_id\"].values\n",
    "\n",
    "def get_result_each(files):\n",
    "    DIRNAME =\"../input/whale-21-3-2022/\"\n",
    "      \n",
    "    ret = []\n",
    "        \n",
    "    for fname in files:\n",
    "        print(fname)\n",
    "        data = decompress_pickle(DIRNAME + fname  )\n",
    "        \n",
    "        train_emb = data[\"emb_val\"]#[new_index,:]\n",
    "        \n",
    "        train_emb=normalize(train_emb)\n",
    "        \n",
    "        valid_preds = train_emb[valid_ind]\n",
    "        train_preds = train_emb[train_ind]\n",
    "        \n",
    "        \n",
    "        distances = pairwise_distances(valid_preds,train_preds)\n",
    "                \n",
    "        K=1000\n",
    "        predicted_positions = np.argpartition(distances, K, axis=1)[:, :K]\n",
    "\n",
    "        all_pred_lis = []\n",
    "        for i in tqdm(range(predicted_positions.shape[0])):\n",
    "            nearest = [(train_inddividual_id_lis[j], distances[i, j]) for j in predicted_positions[i]]\n",
    "            nearest.sort(key=lambda x: x[1])\n",
    "\n",
    "            prediction = [index_id for index_id, d in nearest]\n",
    "\n",
    "            done = set()\n",
    "            pred_list = []\n",
    "            for pred_id in prediction:\n",
    "                if pred_id in done:\n",
    "                    continue\n",
    "                done.add(pred_id)\n",
    "                pred_list.append(pred_id)\n",
    "                if len(pred_list)==20:\n",
    "                    break\n",
    "\n",
    "            all_pred_lis.append(pred_list)\n",
    "        \n",
    "        ret.append(all_pred_lis)\n",
    "        \n",
    "    return ret\n",
    "    "
   ]
  },
  {
   "cell_type": "markdown",
   "metadata": {},
   "source": [
    "### get result for each model"
   ]
  },
  {
   "cell_type": "code",
   "execution_count": 16,
   "metadata": {
    "scrolled": false
   },
   "outputs": [
    {
     "name": "stdout",
     "output_type": "stream",
     "text": [
      "exp16v6Augmix_fold4.pbz2\n"
     ]
    },
    {
     "name": "stderr",
     "output_type": "stream",
     "text": [
      "100%|██████████| 8421/8421 [00:07<00:00, 1124.55it/s]\n"
     ]
    },
    {
     "name": "stdout",
     "output_type": "stream",
     "text": [
      "exp16v6AugMix1536_fold4.pbz2\n"
     ]
    },
    {
     "name": "stderr",
     "output_type": "stream",
     "text": [
      "100%|██████████| 8421/8421 [00:08<00:00, 1046.63it/s]\n"
     ]
    },
    {
     "name": "stdout",
     "output_type": "stream",
     "text": [
      "exp16v6AugmixB3_fold4.pbz2\n"
     ]
    },
    {
     "name": "stderr",
     "output_type": "stream",
     "text": [
      "100%|██████████| 8421/8421 [00:07<00:00, 1120.59it/s]\n"
     ]
    },
    {
     "name": "stdout",
     "output_type": "stream",
     "text": [
      "exp16v6AugmixB4Step2_fold4.pbz2\n"
     ]
    },
    {
     "name": "stderr",
     "output_type": "stream",
     "text": [
      "100%|██████████| 8421/8421 [00:07<00:00, 1115.51it/s]\n"
     ]
    },
    {
     "name": "stdout",
     "output_type": "stream",
     "text": [
      "exp16v6AugmixB4_fold4_remove_background.pbz2\n"
     ]
    },
    {
     "name": "stderr",
     "output_type": "stream",
     "text": [
      "100%|██████████| 8421/8421 [00:07<00:00, 1117.60it/s]\n"
     ]
    }
   ],
   "source": [
    "ret = get_result_each(exps)"
   ]
  },
  {
   "cell_type": "code",
   "execution_count": 17,
   "metadata": {},
   "outputs": [
    {
     "data": {
      "text/plain": [
       "(5, 8421, 20)"
      ]
     },
     "execution_count": 17,
     "metadata": {},
     "output_type": "execute_result"
    }
   ],
   "source": [
    "len(ret),len(ret[0]),len(ret[0][0])"
   ]
  },
  {
   "cell_type": "code",
   "execution_count": null,
   "metadata": {},
   "outputs": [],
   "source": []
  },
  {
   "cell_type": "code",
   "execution_count": 18,
   "metadata": {},
   "outputs": [],
   "source": [
    "def get_score(weights):\n",
    "    \n",
    "    #train_emb\n",
    "    vote_result = defaultdict(lambda:defaultdict(int))\n",
    "    \n",
    "    for preds, w in zip(ret, weights):\n",
    "        for i in range(len(preds)):\n",
    "            \n",
    "            for j,p in enumerate(preds[i]):\n",
    "                vote_result[i][p] += (w / (j+1))\n",
    "        \n",
    "        \n",
    "    score_lis = []\n",
    "    pred_ids = []\n",
    "\n",
    "    for i in range(len(ret[0])):\n",
    "        pred_list = np.array(sorted(vote_result[i].items(), key=lambda item: item[1])[::-1])[:5,0].tolist()\n",
    "\n",
    "        if valid_inddividual_id_lis[i] in pred_list:\n",
    "            s = 1/(pred_list.index(valid_inddividual_id_lis[i]) + 1)\n",
    "            score_lis.append(s)\n",
    "        else:\n",
    "            score_lis.append(0)\n",
    "    \n",
    "    return np.mean(score_lis)"
   ]
  },
  {
   "cell_type": "code",
   "execution_count": null,
   "metadata": {},
   "outputs": [],
   "source": []
  },
  {
   "cell_type": "code",
   "execution_count": 19,
   "metadata": {},
   "outputs": [
    {
     "data": {
      "text/plain": [
       "0.8379942999643747"
      ]
     },
     "execution_count": 19,
     "metadata": {},
     "output_type": "execute_result"
    }
   ],
   "source": [
    "# un-weighted result\n",
    "get_score([1] * len(exps))"
   ]
  },
  {
   "cell_type": "code",
   "execution_count": null,
   "metadata": {},
   "outputs": [],
   "source": []
  },
  {
   "cell_type": "markdown",
   "metadata": {},
   "source": [
    "optimize by optuna"
   ]
  },
  {
   "cell_type": "code",
   "execution_count": 21,
   "metadata": {},
   "outputs": [],
   "source": [
    "import optuna"
   ]
  },
  {
   "cell_type": "code",
   "execution_count": 27,
   "metadata": {},
   "outputs": [],
   "source": [
    "def objective_wrapper(exps):\n",
    "    def objective(trial):\n",
    "\n",
    "        weights = [1]\n",
    "        for i in range(len(exps)-1):\n",
    "            w=trial.suggest_uniform(exps[i+1], 0, 4)\n",
    "            weights.append(w)\n",
    "        \n",
    "        \n",
    "        score_lis = get_score(weights)\n",
    "        score = np.mean(score_lis)\n",
    "        return score\n",
    "    \n",
    "    return objective\n"
   ]
  },
  {
   "cell_type": "code",
   "execution_count": 33,
   "metadata": {
    "scrolled": true
   },
   "outputs": [
    {
     "name": "stderr",
     "output_type": "stream",
     "text": [
      "\u001b[32m[I 2022-04-17 07:05:05,514]\u001b[0m A new study created in memory with name: no-name-279432b7-0c1c-4874-8351-46ff31f29c3e\u001b[0m\n",
      "\u001b[32m[I 2022-04-17 07:05:06,629]\u001b[0m Trial 0 finished with value: 0.8426552665954162 and parameters: {'exp16v6AugMix1536_fold4.pbz2': 3.3702205109147405, 'exp16v6AugmixB3_fold4.pbz2': 2.8982103314019345, 'exp16v6AugmixB4Step2_fold4.pbz2': 3.178416478749965, 'exp16v6AugmixB4_fold4_remove_background.pbz2': 0.09842233843025916}. Best is trial 0 with value: 0.8426552665954162.\u001b[0m\n",
      "\u001b[32m[I 2022-04-17 07:05:07,598]\u001b[0m Trial 1 finished with value: 0.8149150932193325 and parameters: {'exp16v6AugMix1536_fold4.pbz2': 0.06397475381760742, 'exp16v6AugmixB3_fold4.pbz2': 3.336295069268839, 'exp16v6AugmixB4Step2_fold4.pbz2': 0.09559487702252545, 'exp16v6AugmixB4_fold4_remove_background.pbz2': 3.8313821782092097}. Best is trial 0 with value: 0.8426552665954162.\u001b[0m\n",
      "\u001b[32m[I 2022-04-17 07:05:08,571]\u001b[0m Trial 2 finished with value: 0.8427502671891699 and parameters: {'exp16v6AugMix1536_fold4.pbz2': 2.611458442648429, 'exp16v6AugmixB3_fold4.pbz2': 0.010419567308206812, 'exp16v6AugmixB4Step2_fold4.pbz2': 1.2260662663503572, 'exp16v6AugmixB4_fold4_remove_background.pbz2': 2.5150857971987475}. Best is trial 2 with value: 0.8427502671891699.\u001b[0m\n",
      "\u001b[32m[I 2022-04-17 07:05:09,524]\u001b[0m Trial 3 finished with value: 0.8363713731544156 and parameters: {'exp16v6AugMix1536_fold4.pbz2': 3.0909806026649114, 'exp16v6AugmixB3_fold4.pbz2': 3.45801879502267, 'exp16v6AugmixB4Step2_fold4.pbz2': 2.4158176086100616, 'exp16v6AugmixB4_fold4_remove_background.pbz2': 3.666631547289469}. Best is trial 2 with value: 0.8427502671891699.\u001b[0m\n",
      "\u001b[32m[I 2022-04-17 07:05:10,512]\u001b[0m Trial 4 finished with value: 0.8413272374619006 and parameters: {'exp16v6AugMix1536_fold4.pbz2': 3.254894114015317, 'exp16v6AugmixB3_fold4.pbz2': 3.0780445200598545, 'exp16v6AugmixB4Step2_fold4.pbz2': 0.4331892869810221, 'exp16v6AugmixB4_fold4_remove_background.pbz2': 0.2487684616649326}. Best is trial 2 with value: 0.8427502671891699.\u001b[0m\n",
      "\u001b[32m[I 2022-04-17 07:05:11,470]\u001b[0m Trial 5 finished with value: 0.829396746229664 and parameters: {'exp16v6AugMix1536_fold4.pbz2': 0.6148652222291471, 'exp16v6AugmixB3_fold4.pbz2': 1.1509097461268762, 'exp16v6AugmixB4Step2_fold4.pbz2': 1.7433537311506404, 'exp16v6AugmixB4_fold4_remove_background.pbz2': 1.4132850623654991}. Best is trial 2 with value: 0.8427502671891699.\u001b[0m\n",
      "\u001b[32m[I 2022-04-17 07:05:12,428]\u001b[0m Trial 6 finished with value: 0.8426592249534892 and parameters: {'exp16v6AugMix1536_fold4.pbz2': 3.5295439908425057, 'exp16v6AugmixB3_fold4.pbz2': 3.2516028338279126, 'exp16v6AugmixB4Step2_fold4.pbz2': 0.7452825356185828, 'exp16v6AugmixB4_fold4_remove_background.pbz2': 2.0714160993974526}. Best is trial 2 with value: 0.8427502671891699.\u001b[0m\n",
      "\u001b[32m[I 2022-04-17 07:05:13,385]\u001b[0m Trial 7 finished with value: 0.8348355302220639 and parameters: {'exp16v6AugMix1536_fold4.pbz2': 3.07361731194225, 'exp16v6AugmixB3_fold4.pbz2': 0.5475560656051557, 'exp16v6AugmixB4Step2_fold4.pbz2': 3.4775380325442953, 'exp16v6AugmixB4_fold4_remove_background.pbz2': 3.908723501469459}. Best is trial 2 with value: 0.8427502671891699.\u001b[0m\n",
      "\u001b[32m[I 2022-04-17 07:05:14,343]\u001b[0m Trial 8 finished with value: 0.8292582036971065 and parameters: {'exp16v6AugMix1536_fold4.pbz2': 1.3372479657018452, 'exp16v6AugmixB3_fold4.pbz2': 1.4394633546459148, 'exp16v6AugmixB4Step2_fold4.pbz2': 3.544874346332171, 'exp16v6AugmixB4_fold4_remove_background.pbz2': 1.8903800715868635}. Best is trial 2 with value: 0.8427502671891699.\u001b[0m\n",
      "\u001b[32m[I 2022-04-17 07:05:15,300]\u001b[0m Trial 9 finished with value: 0.8475398804575862 and parameters: {'exp16v6AugMix1536_fold4.pbz2': 2.0941814318238747, 'exp16v6AugmixB3_fold4.pbz2': 1.1082880351567148, 'exp16v6AugmixB4Step2_fold4.pbz2': 1.1207703071444066, 'exp16v6AugmixB4_fold4_remove_background.pbz2': 0.151805397424567}. Best is trial 9 with value: 0.8475398804575862.\u001b[0m\n",
      "\u001b[32m[I 2022-04-17 07:05:16,273]\u001b[0m Trial 10 finished with value: 0.8382456557020148 and parameters: {'exp16v6AugMix1536_fold4.pbz2': 1.9056540276649288, 'exp16v6AugmixB3_fold4.pbz2': 2.290688855040526, 'exp16v6AugmixB4Step2_fold4.pbz2': 2.2812922876501665, 'exp16v6AugmixB4_fold4_remove_background.pbz2': 0.8801893813220277}. Best is trial 9 with value: 0.8475398804575862.\u001b[0m\n",
      "\u001b[32m[I 2022-04-17 07:05:17,235]\u001b[0m Trial 11 finished with value: 0.8388275343387562 and parameters: {'exp16v6AugMix1536_fold4.pbz2': 2.217984673077678, 'exp16v6AugmixB3_fold4.pbz2': 0.1682861017140724, 'exp16v6AugmixB4Step2_fold4.pbz2': 1.2475320153511598, 'exp16v6AugmixB4_fold4_remove_background.pbz2': 2.749634437003999}. Best is trial 9 with value: 0.8475398804575862.\u001b[0m\n",
      "\u001b[32m[I 2022-04-17 07:05:18,196]\u001b[0m Trial 12 finished with value: 0.839894311839449 and parameters: {'exp16v6AugMix1536_fold4.pbz2': 2.4108858225257257, 'exp16v6AugmixB3_fold4.pbz2': 1.062314789864382, 'exp16v6AugmixB4Step2_fold4.pbz2': 1.261891842967544, 'exp16v6AugmixB4_fold4_remove_background.pbz2': 2.9421628895222645}. Best is trial 9 with value: 0.8475398804575862.\u001b[0m\n",
      "\u001b[32m[I 2022-04-17 07:05:19,161]\u001b[0m Trial 13 finished with value: 0.8327158294739341 and parameters: {'exp16v6AugMix1536_fold4.pbz2': 1.5449308666224177, 'exp16v6AugmixB3_fold4.pbz2': 0.019927210678315856, 'exp16v6AugmixB4Step2_fold4.pbz2': 1.2257740069669723, 'exp16v6AugmixB4_fold4_remove_background.pbz2': 2.7426985960510297}. Best is trial 9 with value: 0.8475398804575862.\u001b[0m\n",
      "\u001b[32m[I 2022-04-17 07:05:20,249]\u001b[0m Trial 14 finished with value: 0.8461584134900844 and parameters: {'exp16v6AugMix1536_fold4.pbz2': 2.6590806566943486, 'exp16v6AugmixB3_fold4.pbz2': 1.8549471785087002, 'exp16v6AugmixB4Step2_fold4.pbz2': 1.7725765167751792, 'exp16v6AugmixB4_fold4_remove_background.pbz2': 0.9272360752548021}. Best is trial 9 with value: 0.8475398804575862.\u001b[0m\n",
      "\u001b[32m[I 2022-04-17 07:05:21,250]\u001b[0m Trial 15 finished with value: 0.8308079008827138 and parameters: {'exp16v6AugMix1536_fold4.pbz2': 1.1625723631379756, 'exp16v6AugmixB3_fold4.pbz2': 1.9803065637785233, 'exp16v6AugmixB4Step2_fold4.pbz2': 2.870191500787304, 'exp16v6AugmixB4_fold4_remove_background.pbz2': 0.6204647497625941}. Best is trial 9 with value: 0.8475398804575862.\u001b[0m\n",
      "\u001b[32m[I 2022-04-17 07:05:22,211]\u001b[0m Trial 16 finished with value: 0.8492399952499703 and parameters: {'exp16v6AugMix1536_fold4.pbz2': 3.905523620148523, 'exp16v6AugmixB3_fold4.pbz2': 1.9167156586813727, 'exp16v6AugmixB4Step2_fold4.pbz2': 1.9358006427543624, 'exp16v6AugmixB4_fold4_remove_background.pbz2': 1.0925401432464592}. Best is trial 16 with value: 0.8492399952499703.\u001b[0m\n",
      "\u001b[32m[I 2022-04-17 07:05:23,169]\u001b[0m Trial 17 finished with value: 0.8456180976131101 and parameters: {'exp16v6AugMix1536_fold4.pbz2': 3.8337431250189384, 'exp16v6AugmixB3_fold4.pbz2': 2.5260901863347036, 'exp16v6AugmixB4Step2_fold4.pbz2': 2.7400741833461306, 'exp16v6AugmixB4_fold4_remove_background.pbz2': 1.3582880793822936}. Best is trial 16 with value: 0.8492399952499703.\u001b[0m\n",
      "\u001b[32m[I 2022-04-17 07:05:24,155]\u001b[0m Trial 18 finished with value: 0.8491390571191071 and parameters: {'exp16v6AugMix1536_fold4.pbz2': 3.873367317268503, 'exp16v6AugmixB3_fold4.pbz2': 1.5328528613852268, 'exp16v6AugmixB4Step2_fold4.pbz2': 2.0288275288146576, 'exp16v6AugmixB4_fold4_remove_background.pbz2': 0.48546441473337376}. Best is trial 16 with value: 0.8492399952499703.\u001b[0m\n",
      "\u001b[32m[I 2022-04-17 07:05:25,114]\u001b[0m Trial 19 finished with value: 0.8487075960891421 and parameters: {'exp16v6AugMix1536_fold4.pbz2': 3.9841048155321945, 'exp16v6AugmixB3_fold4.pbz2': 1.6698875136147127, 'exp16v6AugmixB4Step2_fold4.pbz2': 2.1499831992837537, 'exp16v6AugmixB4_fold4_remove_background.pbz2': 1.2976954709600337}. Best is trial 16 with value: 0.8492399952499703.\u001b[0m\n",
      "\u001b[32m[I 2022-04-17 07:05:26,072]\u001b[0m Trial 20 finished with value: 0.8412183826148915 and parameters: {'exp16v6AugMix1536_fold4.pbz2': 3.7214745794702835, 'exp16v6AugmixB3_fold4.pbz2': 3.8785531479382898, 'exp16v6AugmixB4Step2_fold4.pbz2': 1.8001529182941491, 'exp16v6AugmixB4_fold4_remove_background.pbz2': 0.6804910976519633}. Best is trial 16 with value: 0.8492399952499703.\u001b[0m\n",
      "\u001b[32m[I 2022-04-17 07:05:27,033]\u001b[0m Trial 21 finished with value: 0.8491034318964493 and parameters: {'exp16v6AugMix1536_fold4.pbz2': 3.9574036135633373, 'exp16v6AugmixB3_fold4.pbz2': 1.6481117437792878, 'exp16v6AugmixB4Step2_fold4.pbz2': 2.095609727425707, 'exp16v6AugmixB4_fold4_remove_background.pbz2': 1.2215268512083948}. Best is trial 16 with value: 0.8492399952499703.\u001b[0m\n"
     ]
    },
    {
     "name": "stderr",
     "output_type": "stream",
     "text": [
      "\u001b[32m[I 2022-04-17 07:05:27,995]\u001b[0m Trial 22 finished with value: 0.8425187032418952 and parameters: {'exp16v6AugMix1536_fold4.pbz2': 3.9242350129011974, 'exp16v6AugmixB3_fold4.pbz2': 1.4757253068696086, 'exp16v6AugmixB4Step2_fold4.pbz2': 3.971577713847811, 'exp16v6AugmixB4_fold4_remove_background.pbz2': 1.762588344864822}. Best is trial 16 with value: 0.8492399952499703.\u001b[0m\n",
      "\u001b[32m[I 2022-04-17 07:05:28,972]\u001b[0m Trial 23 finished with value: 0.8430926651624906 and parameters: {'exp16v6AugMix1536_fold4.pbz2': 2.8675571789853134, 'exp16v6AugmixB3_fold4.pbz2': 2.2146593733367137, 'exp16v6AugmixB4Step2_fold4.pbz2': 2.5682285276760433, 'exp16v6AugmixB4_fold4_remove_background.pbz2': 1.095200203522669}. Best is trial 16 with value: 0.8492399952499703.\u001b[0m\n",
      "\u001b[32m[I 2022-04-17 07:05:29,934]\u001b[0m Trial 24 finished with value: 0.8486779084035942 and parameters: {'exp16v6AugMix1536_fold4.pbz2': 3.5852460107825945, 'exp16v6AugmixB3_fold4.pbz2': 0.6872213982468249, 'exp16v6AugmixB4Step2_fold4.pbz2': 1.998429245879706, 'exp16v6AugmixB4_fold4_remove_background.pbz2': 0.5129453427712294}. Best is trial 16 with value: 0.8492399952499703.\u001b[0m\n",
      "\u001b[32m[I 2022-04-17 07:05:30,893]\u001b[0m Trial 25 finished with value: 0.846308831096861 and parameters: {'exp16v6AugMix1536_fold4.pbz2': 3.4786784880993764, 'exp16v6AugmixB3_fold4.pbz2': 2.5369829329405373, 'exp16v6AugmixB4Step2_fold4.pbz2': 1.6150113829222295, 'exp16v6AugmixB4_fold4_remove_background.pbz2': 1.6453055826358762}. Best is trial 16 with value: 0.8492399952499703.\u001b[0m\n",
      "\u001b[32m[I 2022-04-17 07:05:31,892]\u001b[0m Trial 26 finished with value: 0.8439357954320548 and parameters: {'exp16v6AugMix1536_fold4.pbz2': 2.913050083377306, 'exp16v6AugmixB3_fold4.pbz2': 1.3815319078705557, 'exp16v6AugmixB4Step2_fold4.pbz2': 2.0508094145237497, 'exp16v6AugmixB4_fold4_remove_background.pbz2': 2.166107922764099}. Best is trial 16 with value: 0.8492399952499703.\u001b[0m\n",
      "\u001b[32m[I 2022-04-17 07:05:32,854]\u001b[0m Trial 27 finished with value: 0.8485433242291098 and parameters: {'exp16v6AugMix1536_fold4.pbz2': 3.6921313770073816, 'exp16v6AugmixB3_fold4.pbz2': 2.270540077004154, 'exp16v6AugmixB4Step2_fold4.pbz2': 1.4815175915891543, 'exp16v6AugmixB4_fold4_remove_background.pbz2': 0.483542730253284}. Best is trial 16 with value: 0.8492399952499703.\u001b[0m\n",
      "\u001b[32m[I 2022-04-17 07:05:33,936]\u001b[0m Trial 28 finished with value: 0.8434667300003958 and parameters: {'exp16v6AugMix1536_fold4.pbz2': 3.3174556299069087, 'exp16v6AugmixB3_fold4.pbz2': 1.7206298496869918, 'exp16v6AugmixB4Step2_fold4.pbz2': 2.9906593907697845, 'exp16v6AugmixB4_fold4_remove_background.pbz2': 1.07617332998638}. Best is trial 16 with value: 0.8492399952499703.\u001b[0m\n",
      "\u001b[32m[I 2022-04-17 07:05:34,891]\u001b[0m Trial 29 finished with value: 0.8471400862922059 and parameters: {'exp16v6AugMix1536_fold4.pbz2': 3.9934720222350246, 'exp16v6AugmixB3_fold4.pbz2': 2.6322100783686357, 'exp16v6AugmixB4Step2_fold4.pbz2': 2.544064442380956, 'exp16v6AugmixB4_fold4_remove_background.pbz2': 0.08053777125606731}. Best is trial 16 with value: 0.8492399952499703.\u001b[0m\n",
      "\u001b[32m[I 2022-04-17 07:05:35,845]\u001b[0m Trial 30 finished with value: 0.8434825634326881 and parameters: {'exp16v6AugMix1536_fold4.pbz2': 3.38633932901832, 'exp16v6AugmixB3_fold4.pbz2': 0.8159075924114884, 'exp16v6AugmixB4Step2_fold4.pbz2': 3.2695091483933956, 'exp16v6AugmixB4_fold4_remove_background.pbz2': 1.61777627762278}. Best is trial 16 with value: 0.8492399952499703.\u001b[0m\n",
      "\u001b[32m[I 2022-04-17 07:05:36,802]\u001b[0m Trial 31 finished with value: 0.848806555040969 and parameters: {'exp16v6AugMix1536_fold4.pbz2': 3.9227727738588416, 'exp16v6AugmixB3_fold4.pbz2': 1.6958271676276704, 'exp16v6AugmixB4Step2_fold4.pbz2': 2.1495373210005244, 'exp16v6AugmixB4_fold4_remove_background.pbz2': 1.134666445507818}. Best is trial 16 with value: 0.8492399952499703.\u001b[0m\n",
      "\u001b[32m[I 2022-04-17 07:05:37,761]\u001b[0m Trial 32 finished with value: 0.8487590547440921 and parameters: {'exp16v6AugMix1536_fold4.pbz2': 3.637674153955892, 'exp16v6AugmixB3_fold4.pbz2': 2.0261689382556014, 'exp16v6AugmixB4Step2_fold4.pbz2': 1.9651851602730128, 'exp16v6AugmixB4_fold4_remove_background.pbz2': 0.7856991093450989}. Best is trial 16 with value: 0.8492399952499703.\u001b[0m\n",
      "\u001b[32m[I 2022-04-17 07:05:38,720]\u001b[0m Trial 33 finished with value: 0.8468432094367258 and parameters: {'exp16v6AugMix1536_fold4.pbz2': 3.2403355458888345, 'exp16v6AugmixB3_fold4.pbz2': 1.6849530198422389, 'exp16v6AugmixB4Step2_fold4.pbz2': 2.26982946025809, 'exp16v6AugmixB4_fold4_remove_background.pbz2': 1.18181532368848}. Best is trial 16 with value: 0.8492399952499703.\u001b[0m\n",
      "\u001b[32m[I 2022-04-17 07:05:39,678]\u001b[0m Trial 34 finished with value: 0.8473973795669556 and parameters: {'exp16v6AugMix1536_fold4.pbz2': 3.777730680550401, 'exp16v6AugmixB3_fold4.pbz2': 2.7967833676437444, 'exp16v6AugmixB4Step2_fold4.pbz2': 1.532837914953424, 'exp16v6AugmixB4_fold4_remove_background.pbz2': 0.3986164398945701}. Best is trial 16 with value: 0.8492399952499703.\u001b[0m\n",
      "\u001b[32m[I 2022-04-17 07:05:40,655]\u001b[0m Trial 35 finished with value: 0.8278945493409333 and parameters: {'exp16v6AugMix1536_fold4.pbz2': 0.352617670851052, 'exp16v6AugmixB3_fold4.pbz2': 1.3305368036243355, 'exp16v6AugmixB4Step2_fold4.pbz2': 0.8952446925316155, 'exp16v6AugmixB4_fold4_remove_background.pbz2': 0.9061622460080453}. Best is trial 16 with value: 0.8492399952499703.\u001b[0m\n",
      "\u001b[32m[I 2022-04-17 07:05:41,611]\u001b[0m Trial 36 finished with value: 0.8438506907334837 and parameters: {'exp16v6AugMix1536_fold4.pbz2': 3.1180978957059136, 'exp16v6AugmixB3_fold4.pbz2': 2.103490314585896, 'exp16v6AugmixB4Step2_fold4.pbz2': 2.409074585584923, 'exp16v6AugmixB4_fold4_remove_background.pbz2': 1.509740857530774}. Best is trial 16 with value: 0.8492399952499703.\u001b[0m\n",
      "\u001b[32m[I 2022-04-17 07:05:42,627]\u001b[0m Trial 37 finished with value: 0.8484423860982465 and parameters: {'exp16v6AugMix1536_fold4.pbz2': 3.550905728124357, 'exp16v6AugmixB3_fold4.pbz2': 1.6277507213394657, 'exp16v6AugmixB4Step2_fold4.pbz2': 0.023928744214810393, 'exp16v6AugmixB4_fold4_remove_background.pbz2': 2.2983854942696804}. Best is trial 16 with value: 0.8492399952499703.\u001b[0m\n",
      "\u001b[32m[I 2022-04-17 07:05:43,583]\u001b[0m Trial 38 finished with value: 0.8446087163044769 and parameters: {'exp16v6AugMix1536_fold4.pbz2': 2.6345841790205116, 'exp16v6AugmixB3_fold4.pbz2': 0.9419154129818427, 'exp16v6AugmixB4Step2_fold4.pbz2': 2.530994220534928, 'exp16v6AugmixB4_fold4_remove_background.pbz2': 0.2503123544743655}. Best is trial 16 with value: 0.8492399952499703.\u001b[0m\n",
      "\u001b[32m[I 2022-04-17 07:05:44,547]\u001b[0m Trial 39 finished with value: 0.8498832284368443 and parameters: {'exp16v6AugMix1536_fold4.pbz2': 3.8024784672071075, 'exp16v6AugmixB3_fold4.pbz2': 1.2202955410276277, 'exp16v6AugmixB4Step2_fold4.pbz2': 1.8719331820146135, 'exp16v6AugmixB4_fold4_remove_background.pbz2': 1.1586220939197036}. Best is trial 39 with value: 0.8498832284368443.\u001b[0m\n",
      "\u001b[32m[I 2022-04-17 07:05:45,506]\u001b[0m Trial 40 finished with value: 0.8483968649804061 and parameters: {'exp16v6AugMix1536_fold4.pbz2': 2.9087684662422806, 'exp16v6AugmixB3_fold4.pbz2': 1.2395403114089532, 'exp16v6AugmixB4Step2_fold4.pbz2': 0.28629422504253865, 'exp16v6AugmixB4_fold4_remove_background.pbz2': 1.8968179418460513}. Best is trial 39 with value: 0.8498832284368443.\u001b[0m\n",
      "\u001b[32m[I 2022-04-17 07:05:46,461]\u001b[0m Trial 41 finished with value: 0.8489193682460514 and parameters: {'exp16v6AugMix1536_fold4.pbz2': 3.791312397762675, 'exp16v6AugmixB3_fold4.pbz2': 1.923459656737986, 'exp16v6AugmixB4Step2_fold4.pbz2': 1.8769736291330612, 'exp16v6AugmixB4_fold4_remove_background.pbz2': 1.1590382901561231}. Best is trial 39 with value: 0.8498832284368443.\u001b[0m\n",
      "\u001b[32m[I 2022-04-17 07:05:47,417]\u001b[0m Trial 42 finished with value: 0.8478387364921031 and parameters: {'exp16v6AugMix1536_fold4.pbz2': 3.4177831167964796, 'exp16v6AugmixB3_fold4.pbz2': 1.928958398221384, 'exp16v6AugmixB4Step2_fold4.pbz2': 1.880322940986546, 'exp16v6AugmixB4_fold4_remove_background.pbz2': 1.3342511473740237}. Best is trial 39 with value: 0.8498832284368443.\u001b[0m\n",
      "\u001b[32m[I 2022-04-17 07:05:48,385]\u001b[0m Trial 43 finished with value: 0.8487174919843248 and parameters: {'exp16v6AugMix1536_fold4.pbz2': 3.782523084348454, 'exp16v6AugmixB3_fold4.pbz2': 2.3498354859008574, 'exp16v6AugmixB4Step2_fold4.pbz2': 1.468729386730829, 'exp16v6AugmixB4_fold4_remove_background.pbz2': 0.7132942427556672}. Best is trial 39 with value: 0.8498832284368443.\u001b[0m\n"
     ]
    },
    {
     "name": "stderr",
     "output_type": "stream",
     "text": [
      "\u001b[32m[I 2022-04-17 07:05:49,344]\u001b[0m Trial 44 finished with value: 0.8486205122115347 and parameters: {'exp16v6AugMix1536_fold4.pbz2': 3.171639551456522, 'exp16v6AugmixB3_fold4.pbz2': 1.4976422073575169, 'exp16v6AugmixB4Step2_fold4.pbz2': 1.6768992060132606, 'exp16v6AugmixB4_fold4_remove_background.pbz2': 0.32805648866090165}. Best is trial 39 with value: 0.8498832284368443.\u001b[0m\n",
      "\u001b[32m[I 2022-04-17 07:05:50,306]\u001b[0m Trial 45 finished with value: 0.8405771286070539 and parameters: {'exp16v6AugMix1536_fold4.pbz2': 3.5787592431356545, 'exp16v6AugmixB3_fold4.pbz2': 0.42889339992985454, 'exp16v6AugmixB4Step2_fold4.pbz2': 2.3433274669006177, 'exp16v6AugmixB4_fold4_remove_background.pbz2': 3.6199115940561697}. Best is trial 39 with value: 0.8498832284368443.\u001b[0m\n",
      "\u001b[32m[I 2022-04-17 07:05:51,265]\u001b[0m Trial 46 finished with value: 0.8500415627597673 and parameters: {'exp16v6AugMix1536_fold4.pbz2': 3.7770746832956807, 'exp16v6AugmixB3_fold4.pbz2': 1.1597543004107114, 'exp16v6AugmixB4Step2_fold4.pbz2': 1.3952593387580885, 'exp16v6AugmixB4_fold4_remove_background.pbz2': 0.9881593141178522}. Best is trial 46 with value: 0.8500415627597673.\u001b[0m\n",
      "\u001b[32m[I 2022-04-17 07:05:52,226]\u001b[0m Trial 47 finished with value: 0.8494834342714642 and parameters: {'exp16v6AugMix1536_fold4.pbz2': 3.998076017451248, 'exp16v6AugmixB3_fold4.pbz2': 1.0660699530866902, 'exp16v6AugmixB4Step2_fold4.pbz2': 0.8341321232919537, 'exp16v6AugmixB4_fold4_remove_background.pbz2': 0.8606636038878218}. Best is trial 46 with value: 0.8500415627597673.\u001b[0m\n",
      "\u001b[32m[I 2022-04-17 07:05:53,219]\u001b[0m Trial 48 finished with value: 0.8466353956378894 and parameters: {'exp16v6AugMix1536_fold4.pbz2': 1.8087407418425525, 'exp16v6AugmixB3_fold4.pbz2': 1.0189300726639807, 'exp16v6AugmixB4Step2_fold4.pbz2': 0.8780682904167887, 'exp16v6AugmixB4_fold4_remove_background.pbz2': 0.022320867255410548}. Best is trial 46 with value: 0.8500415627597673.\u001b[0m\n",
      "\u001b[32m[I 2022-04-17 07:05:54,179]\u001b[0m Trial 49 finished with value: 0.8483078019237621 and parameters: {'exp16v6AugMix1536_fold4.pbz2': 3.43244998796411, 'exp16v6AugmixB3_fold4.pbz2': 0.40581992772770703, 'exp16v6AugmixB4Step2_fold4.pbz2': 0.5967091182688165, 'exp16v6AugmixB4_fold4_remove_background.pbz2': 0.9002266779458821}. Best is trial 46 with value: 0.8500415627597673.\u001b[0m\n",
      "\u001b[32m[I 2022-04-17 07:05:55,136]\u001b[0m Trial 50 finished with value: 0.8381090923484938 and parameters: {'exp16v6AugMix1536_fold4.pbz2': 0.9434408183735021, 'exp16v6AugmixB3_fold4.pbz2': 0.8479355076093249, 'exp16v6AugmixB4Step2_fold4.pbz2': 1.055652851412375, 'exp16v6AugmixB4_fold4_remove_background.pbz2': 0.9484882303078427}. Best is trial 46 with value: 0.8500415627597673.\u001b[0m\n",
      "\u001b[32m[I 2022-04-17 07:05:56,093]\u001b[0m Trial 51 finished with value: 0.8496576020266793 and parameters: {'exp16v6AugMix1536_fold4.pbz2': 3.970896052856309, 'exp16v6AugmixB3_fold4.pbz2': 1.194651397261733, 'exp16v6AugmixB4Step2_fold4.pbz2': 1.3931333699610926, 'exp16v6AugmixB4_fold4_remove_background.pbz2': 0.6007558756244834}. Best is trial 46 with value: 0.8500415627597673.\u001b[0m\n",
      "\u001b[32m[I 2022-04-17 07:05:57,051]\u001b[0m Trial 52 finished with value: 0.8493904128567471 and parameters: {'exp16v6AugMix1536_fold4.pbz2': 3.6830547664307387, 'exp16v6AugmixB3_fold4.pbz2': 1.18807298058327, 'exp16v6AugmixB4Step2_fold4.pbz2': 1.371675358381835, 'exp16v6AugmixB4_fold4_remove_background.pbz2': 0.5227538465249498}. Best is trial 46 with value: 0.8500415627597673.\u001b[0m\n",
      "\u001b[32m[I 2022-04-17 07:05:58,010]\u001b[0m Trial 53 finished with value: 0.8495863515813641 and parameters: {'exp16v6AugMix1536_fold4.pbz2': 3.678318529502114, 'exp16v6AugmixB3_fold4.pbz2': 1.1882865510141942, 'exp16v6AugmixB4Step2_fold4.pbz2': 1.2715884430741644, 'exp16v6AugmixB4_fold4_remove_background.pbz2': 0.5769556099394654}. Best is trial 46 with value: 0.8500415627597673.\u001b[0m\n",
      "\u001b[32m[I 2022-04-17 07:05:58,968]\u001b[0m Trial 54 finished with value: 0.8498317697818945 and parameters: {'exp16v6AugMix1536_fold4.pbz2': 3.6609183111808363, 'exp16v6AugmixB3_fold4.pbz2': 1.1872793844608005, 'exp16v6AugmixB4Step2_fold4.pbz2': 1.044547234220506, 'exp16v6AugmixB4_fold4_remove_background.pbz2': 0.7088032217049491}. Best is trial 46 with value: 0.8500415627597673.\u001b[0m\n",
      "\u001b[32m[I 2022-04-17 07:05:59,933]\u001b[0m Trial 55 finished with value: 0.8490955151803031 and parameters: {'exp16v6AugMix1536_fold4.pbz2': 3.292917788694766, 'exp16v6AugmixB3_fold4.pbz2': 0.6594909398069511, 'exp16v6AugmixB4Step2_fold4.pbz2': 0.6501251873694159, 'exp16v6AugmixB4_fold4_remove_background.pbz2': 0.7236534701016184}. Best is trial 46 with value: 0.8500415627597673.\u001b[0m\n",
      "\u001b[32m[I 2022-04-17 07:06:00,894]\u001b[0m Trial 56 finished with value: 0.8486977001939595 and parameters: {'exp16v6AugMix1536_fold4.pbz2': 3.045015544587428, 'exp16v6AugmixB3_fold4.pbz2': 1.2447092853393311, 'exp16v6AugmixB4Step2_fold4.pbz2': 1.0653666896393517, 'exp16v6AugmixB4_fold4_remove_background.pbz2': 0.2350814993211382}. Best is trial 46 with value: 0.8500415627597673.\u001b[0m\n",
      "\u001b[32m[I 2022-04-17 07:06:01,855]\u001b[0m Trial 57 finished with value: 0.8485532201242924 and parameters: {'exp16v6AugMix1536_fold4.pbz2': 2.4647921442352425, 'exp16v6AugmixB3_fold4.pbz2': 1.0307035407718477, 'exp16v6AugmixB4Step2_fold4.pbz2': 1.2987906697061353, 'exp16v6AugmixB4_fold4_remove_background.pbz2': 0.6186756313153787}. Best is trial 46 with value: 0.8500415627597673.\u001b[0m\n",
      "\u001b[32m[I 2022-04-17 07:06:02,815]\u001b[0m Trial 58 finished with value: 0.8483968649804061 and parameters: {'exp16v6AugMix1536_fold4.pbz2': 3.4960054160420286, 'exp16v6AugmixB3_fold4.pbz2': 0.850803747783795, 'exp16v6AugmixB4Step2_fold4.pbz2': 0.3536954189283442, 'exp16v6AugmixB4_fold4_remove_background.pbz2': 0.8086579344629007}. Best is trial 46 with value: 0.8500415627597673.\u001b[0m\n",
      "\u001b[32m[I 2022-04-17 07:06:03,809]\u001b[0m Trial 59 finished with value: 0.8491192653287416 and parameters: {'exp16v6AugMix1536_fold4.pbz2': 3.6899639586146424, 'exp16v6AugmixB3_fold4.pbz2': 0.6876807850201452, 'exp16v6AugmixB4Step2_fold4.pbz2': 0.9041653917221453, 'exp16v6AugmixB4_fold4_remove_background.pbz2': 1.004824908852196}. Best is trial 46 with value: 0.8500415627597673.\u001b[0m\n",
      "\u001b[32m[I 2022-04-17 07:06:04,770]\u001b[0m Trial 60 finished with value: 0.8498139571705656 and parameters: {'exp16v6AugMix1536_fold4.pbz2': 3.8403121520999646, 'exp16v6AugmixB3_fold4.pbz2': 0.21710666513821986, 'exp16v6AugmixB4Step2_fold4.pbz2': 1.1966829088717592, 'exp16v6AugmixB4_fold4_remove_background.pbz2': 1.446821083555283}. Best is trial 46 with value: 0.8500415627597673.\u001b[0m\n",
      "\u001b[32m[I 2022-04-17 07:06:05,749]\u001b[0m Trial 61 finished with value: 0.8496180184459486 and parameters: {'exp16v6AugMix1536_fold4.pbz2': 3.807173481869121, 'exp16v6AugmixB3_fold4.pbz2': 0.2824627537021944, 'exp16v6AugmixB4Step2_fold4.pbz2': 1.159943462667139, 'exp16v6AugmixB4_fold4_remove_background.pbz2': 1.4349002037654421}. Best is trial 46 with value: 0.8500415627597673.\u001b[0m\n",
      "\u001b[32m[I 2022-04-17 07:06:06,708]\u001b[0m Trial 62 finished with value: 0.8493686418873452 and parameters: {'exp16v6AugMix1536_fold4.pbz2': 3.8236121876496045, 'exp16v6AugmixB3_fold4.pbz2': 0.10440266741031101, 'exp16v6AugmixB4Step2_fold4.pbz2': 1.203512210398865, 'exp16v6AugmixB4_fold4_remove_background.pbz2': 1.4556834098410667}. Best is trial 46 with value: 0.8500415627597673.\u001b[0m\n",
      "\u001b[32m[I 2022-04-17 07:06:07,668]\u001b[0m Trial 63 finished with value: 0.8492993706210663 and parameters: {'exp16v6AugMix1536_fold4.pbz2': 3.596594354094516, 'exp16v6AugmixB3_fold4.pbz2': 0.34981758402004975, 'exp16v6AugmixB4Step2_fold4.pbz2': 1.0334185916673189, 'exp16v6AugmixB4_fold4_remove_background.pbz2': 1.5603716793300675}. Best is trial 46 with value: 0.8500415627597673.\u001b[0m\n",
      "\u001b[32m[I 2022-04-17 07:06:08,627]\u001b[0m Trial 64 finished with value: 0.8491509321933263 and parameters: {'exp16v6AugMix1536_fold4.pbz2': 3.8216642669285377, 'exp16v6AugmixB3_fold4.pbz2': 0.19761100543573057, 'exp16v6AugmixB4Step2_fold4.pbz2': 1.4307347406546536, 'exp16v6AugmixB4_fold4_remove_background.pbz2': 1.7350541057417297}. Best is trial 46 with value: 0.8500415627597673.\u001b[0m\n",
      "\u001b[32m[I 2022-04-17 07:06:09,587]\u001b[0m Trial 65 finished with value: 0.8492340577128608 and parameters: {'exp16v6AugMix1536_fold4.pbz2': 3.37603438311963, 'exp16v6AugmixB3_fold4.pbz2': 0.549904133430657, 'exp16v6AugmixB4Step2_fold4.pbz2': 1.1602058230148027, 'exp16v6AugmixB4_fold4_remove_background.pbz2': 1.2682963061116501}. Best is trial 46 with value: 0.8500415627597673.\u001b[0m\n"
     ]
    },
    {
     "name": "stderr",
     "output_type": "stream",
     "text": [
      "\u001b[32m[I 2022-04-17 07:06:10,547]\u001b[0m Trial 66 finished with value: 0.848576970272731 and parameters: {'exp16v6AugMix1536_fold4.pbz2': 3.6946270640749352, 'exp16v6AugmixB3_fold4.pbz2': 0.25817182939490113, 'exp16v6AugmixB4Step2_fold4.pbz2': 1.6250475287966006, 'exp16v6AugmixB4_fold4_remove_background.pbz2': 0.5664451197785341}. Best is trial 46 with value: 0.8500415627597673.\u001b[0m\n",
      "\u001b[32m[I 2022-04-17 07:06:11,510]\u001b[0m Trial 67 finished with value: 0.8488857222024305 and parameters: {'exp16v6AugMix1536_fold4.pbz2': 3.4964631965128214, 'exp16v6AugmixB3_fold4.pbz2': 0.555690384442413, 'exp16v6AugmixB4Step2_fold4.pbz2': 1.3457735578892016, 'exp16v6AugmixB4_fold4_remove_background.pbz2': 1.4072466148976093}. Best is trial 46 with value: 0.8500415627597673.\u001b[0m\n",
      "\u001b[32m[I 2022-04-17 07:06:12,472]\u001b[0m Trial 68 finished with value: 0.8465779994458298 and parameters: {'exp16v6AugMix1536_fold4.pbz2': 3.878297974618885, 'exp16v6AugmixB3_fold4.pbz2': 0.029854603317218897, 'exp16v6AugmixB4Step2_fold4.pbz2': 0.730170746351998, 'exp16v6AugmixB4_fold4_remove_background.pbz2': 0.4186264816689479}. Best is trial 46 with value: 0.8500415627597673.\u001b[0m\n",
      "\u001b[32m[I 2022-04-17 07:06:13,432]\u001b[0m Trial 69 finished with value: 0.8491311404029609 and parameters: {'exp16v6AugMix1536_fold4.pbz2': 3.2326363710579074, 'exp16v6AugmixB3_fold4.pbz2': 1.3360737557529492, 'exp16v6AugmixB4Step2_fold4.pbz2': 0.9820950710275181, 'exp16v6AugmixB4_fold4_remove_background.pbz2': 1.8850594902976963}. Best is trial 46 with value: 0.8500415627597673.\u001b[0m\n",
      "\u001b[32m[I 2022-04-17 07:06:14,421]\u001b[0m Trial 70 finished with value: 0.848947076752563 and parameters: {'exp16v6AugMix1536_fold4.pbz2': 3.9978698450780303, 'exp16v6AugmixB3_fold4.pbz2': 0.7476904258287755, 'exp16v6AugmixB4Step2_fold4.pbz2': 1.7343837916684175, 'exp16v6AugmixB4_fold4_remove_background.pbz2': 1.2538201415911203}. Best is trial 46 with value: 0.8500415627597673.\u001b[0m\n",
      "\u001b[32m[I 2022-04-17 07:06:15,379]\u001b[0m Trial 71 finished with value: 0.848636345643827 and parameters: {'exp16v6AugMix1536_fold4.pbz2': 3.9980184226749405, 'exp16v6AugmixB3_fold4.pbz2': 1.0967078793635283, 'exp16v6AugmixB4Step2_fold4.pbz2': 0.5719173463582107, 'exp16v6AugmixB4_fold4_remove_background.pbz2': 0.8186265368541475}. Best is trial 46 with value: 0.8500415627597673.\u001b[0m\n",
      "\u001b[32m[I 2022-04-17 07:06:16,365]\u001b[0m Trial 72 finished with value: 0.8492696829355183 and parameters: {'exp16v6AugMix1536_fold4.pbz2': 3.8664560037145375, 'exp16v6AugmixB3_fold4.pbz2': 0.9368826708181007, 'exp16v6AugmixB4Step2_fold4.pbz2': 0.8050587381495522, 'exp16v6AugmixB4_fold4_remove_background.pbz2': 1.0219444589967304}. Best is trial 46 with value: 0.8500415627597673.\u001b[0m\n",
      "\u001b[32m[I 2022-04-17 07:06:17,322]\u001b[0m Trial 73 finished with value: 0.8496952064283736 and parameters: {'exp16v6AugMix1536_fold4.pbz2': 3.6302768651708743, 'exp16v6AugmixB3_fold4.pbz2': 1.3558983287311794, 'exp16v6AugmixB4Step2_fold4.pbz2': 1.564183682870911, 'exp16v6AugmixB4_fold4_remove_background.pbz2': 0.6534926243200659}. Best is trial 46 with value: 0.8500415627597673.\u001b[0m\n",
      "\u001b[32m[I 2022-04-17 07:06:18,278]\u001b[0m Trial 74 finished with value: 0.8496101017298024 and parameters: {'exp16v6AugMix1536_fold4.pbz2': 3.61637889251161, 'exp16v6AugmixB3_fold4.pbz2': 1.4294786688911734, 'exp16v6AugmixB4Step2_fold4.pbz2': 1.5799256244269757, 'exp16v6AugmixB4_fold4_remove_background.pbz2': 0.6779130651016599}. Best is trial 46 with value: 0.8500415627597673.\u001b[0m\n",
      "\u001b[32m[I 2022-04-17 07:06:19,239]\u001b[0m Trial 75 finished with value: 0.8492637453984088 and parameters: {'exp16v6AugMix1536_fold4.pbz2': 3.5650713708667565, 'exp16v6AugmixB3_fold4.pbz2': 1.5346083324302102, 'exp16v6AugmixB4Step2_fold4.pbz2': 1.550913312484216, 'exp16v6AugmixB4_fold4_remove_background.pbz2': 0.7007536432790211}. Best is trial 46 with value: 0.8500415627597673.\u001b[0m\n",
      "\u001b[32m[I 2022-04-17 07:06:20,197]\u001b[0m Trial 76 finished with value: 0.8492954122629932 and parameters: {'exp16v6AugMix1536_fold4.pbz2': 3.7490415977884846, 'exp16v6AugmixB3_fold4.pbz2': 1.7875540315921195, 'exp16v6AugmixB4Step2_fold4.pbz2': 1.8153723188790316, 'exp16v6AugmixB4_fold4_remove_background.pbz2': 1.0409652535029197}. Best is trial 46 with value: 0.8500415627597673.\u001b[0m\n",
      "\u001b[32m[I 2022-04-17 07:06:21,160]\u001b[0m Trial 77 finished with value: 0.848580928630804 and parameters: {'exp16v6AugMix1536_fold4.pbz2': 3.0280193203803867, 'exp16v6AugmixB3_fold4.pbz2': 1.369692025920397, 'exp16v6AugmixB4Step2_fold4.pbz2': 1.5761332157014354, 'exp16v6AugmixB4_fold4_remove_background.pbz2': 0.18635931005915685}. Best is trial 46 with value: 0.8500415627597673.\u001b[0m\n",
      "\u001b[32m[I 2022-04-17 07:06:22,121]\u001b[0m Trial 78 finished with value: 0.8436270435023552 and parameters: {'exp16v6AugMix1536_fold4.pbz2': 3.3334572091252426, 'exp16v6AugmixB3_fold4.pbz2': 3.1561360773460603, 'exp16v6AugmixB4Step2_fold4.pbz2': 1.165832127575282, 'exp16v6AugmixB4_fold4_remove_background.pbz2': 0.3681997825387857}. Best is trial 46 with value: 0.8500415627597673.\u001b[0m\n",
      "\u001b[32m[I 2022-04-17 07:06:23,080]\u001b[0m Trial 79 finished with value: 0.8415469263349562 and parameters: {'exp16v6AugMix1536_fold4.pbz2': 3.5056796458239563, 'exp16v6AugmixB3_fold4.pbz2': 3.5505984634112577, 'exp16v6AugmixB4Step2_fold4.pbz2': 1.4089304176811503, 'exp16v6AugmixB4_fold4_remove_background.pbz2': 1.3639756511788363}. Best is trial 46 with value: 0.8500415627597673.\u001b[0m\n",
      "\u001b[32m[I 2022-04-17 07:06:24,038]\u001b[0m Trial 80 finished with value: 0.8496318726992044 and parameters: {'exp16v6AugMix1536_fold4.pbz2': 3.8463842745866783, 'exp16v6AugmixB3_fold4.pbz2': 1.546885040336795, 'exp16v6AugmixB4Step2_fold4.pbz2': 1.7332857828428612, 'exp16v6AugmixB4_fold4_remove_background.pbz2': 1.1377920767831244}. Best is trial 46 with value: 0.8500415627597673.\u001b[0m\n",
      "\u001b[32m[I 2022-04-17 07:06:25,007]\u001b[0m Trial 81 finished with value: 0.8498139571705656 and parameters: {'exp16v6AugMix1536_fold4.pbz2': 3.883670159774814, 'exp16v6AugmixB3_fold4.pbz2': 1.5633740434166639, 'exp16v6AugmixB4Step2_fold4.pbz2': 1.689363098384399, 'exp16v6AugmixB4_fold4_remove_background.pbz2': 1.1545282499003087}. Best is trial 46 with value: 0.8500415627597673.\u001b[0m\n",
      "\u001b[32m[I 2022-04-17 07:06:25,990]\u001b[0m Trial 82 finished with value: 0.8497466650833234 and parameters: {'exp16v6AugMix1536_fold4.pbz2': 3.839156916224416, 'exp16v6AugmixB3_fold4.pbz2': 1.5818139947015182, 'exp16v6AugmixB4Step2_fold4.pbz2': 1.7049842217777507, 'exp16v6AugmixB4_fold4_remove_background.pbz2': 1.150694114022257}. Best is trial 46 with value: 0.8500415627597673.\u001b[0m\n",
      "\u001b[32m[I 2022-04-17 07:06:26,951]\u001b[0m Trial 83 finished with value: 0.8498317697818945 and parameters: {'exp16v6AugMix1536_fold4.pbz2': 3.9057297164702947, 'exp16v6AugmixB3_fold4.pbz2': 1.5218480179565912, 'exp16v6AugmixB4Step2_fold4.pbz2': 1.7267680604017255, 'exp16v6AugmixB4_fold4_remove_background.pbz2': 1.1716513514807807}. Best is trial 46 with value: 0.8500415627597673.\u001b[0m\n",
      "\u001b[32m[I 2022-04-17 07:06:27,909]\u001b[0m Trial 84 finished with value: 0.8485749910936943 and parameters: {'exp16v6AugMix1536_fold4.pbz2': 3.7112505125316693, 'exp16v6AugmixB3_fold4.pbz2': 1.774046165771748, 'exp16v6AugmixB4Step2_fold4.pbz2': 2.178980049494498, 'exp16v6AugmixB4_fold4_remove_background.pbz2': 0.961423901950952}. Best is trial 46 with value: 0.8500415627597673.\u001b[0m\n",
      "\u001b[32m[I 2022-04-17 07:06:28,868]\u001b[0m Trial 85 finished with value: 0.8499861457467441 and parameters: {'exp16v6AugMix1536_fold4.pbz2': 3.915397716422967, 'exp16v6AugmixB3_fold4.pbz2': 1.293518865059729, 'exp16v6AugmixB4Step2_fold4.pbz2': 1.806842200572603, 'exp16v6AugmixB4_fold4_remove_background.pbz2': 1.1020105184079667}. Best is trial 46 with value: 0.8500415627597673.\u001b[0m\n",
      "\u001b[32m[I 2022-04-17 07:06:29,827]\u001b[0m Trial 86 finished with value: 0.8495527055377429 and parameters: {'exp16v6AugMix1536_fold4.pbz2': 3.901536245115932, 'exp16v6AugmixB3_fold4.pbz2': 1.5855293576178147, 'exp16v6AugmixB4Step2_fold4.pbz2': 1.9148233702106603, 'exp16v6AugmixB4_fold4_remove_background.pbz2': 1.1968931494948665}. Best is trial 46 with value: 0.8500415627597673.\u001b[0m\n",
      "\u001b[32m[I 2022-04-17 07:06:30,785]\u001b[0m Trial 87 finished with value: 0.8417092190159522 and parameters: {'exp16v6AugMix1536_fold4.pbz2': 2.1834743961078944, 'exp16v6AugmixB3_fold4.pbz2': 1.4416454032691877, 'exp16v6AugmixB4Step2_fold4.pbz2': 2.038309682190763, 'exp16v6AugmixB4_fold4_remove_background.pbz2': 1.641771298268358}. Best is trial 46 with value: 0.8500415627597673.\u001b[0m\n"
     ]
    },
    {
     "name": "stderr",
     "output_type": "stream",
     "text": [
      "\u001b[32m[I 2022-04-17 07:06:31,742]\u001b[0m Trial 88 finished with value: 0.8404346277164233 and parameters: {'exp16v6AugMix1536_fold4.pbz2': 1.5547472870664842, 'exp16v6AugmixB3_fold4.pbz2': 0.9391025992382808, 'exp16v6AugmixB4Step2_fold4.pbz2': 1.655205367778712, 'exp16v6AugmixB4_fold4_remove_background.pbz2': 1.0852628780195361}. Best is trial 46 with value: 0.8500415627597673.\u001b[0m\n",
      "\u001b[32m[I 2022-04-17 07:06:32,700]\u001b[0m Trial 89 finished with value: 0.8502137513359458 and parameters: {'exp16v6AugMix1536_fold4.pbz2': 3.6257893277134863, 'exp16v6AugmixB3_fold4.pbz2': 1.2813683701459224, 'exp16v6AugmixB4Step2_fold4.pbz2': 1.4974392792316293, 'exp16v6AugmixB4_fold4_remove_background.pbz2': 1.2682582757389622}. Best is trial 89 with value: 0.8502137513359458.\u001b[0m\n",
      "\u001b[32m[I 2022-04-17 07:06:33,660]\u001b[0m Trial 90 finished with value: 0.8496773938170448 and parameters: {'exp16v6AugMix1536_fold4.pbz2': 3.8933653903859478, 'exp16v6AugmixB3_fold4.pbz2': 1.2733701444707073, 'exp16v6AugmixB4Step2_fold4.pbz2': 1.8134059584027542, 'exp16v6AugmixB4_fold4_remove_background.pbz2': 1.3326809574521676}. Best is trial 89 with value: 0.8502137513359458.\u001b[0m\n",
      "\u001b[32m[I 2022-04-17 07:06:34,631]\u001b[0m Trial 91 finished with value: 0.8226517040731504 and parameters: {'exp16v6AugMix1536_fold4.pbz2': 0.013843644258406895, 'exp16v6AugmixB3_fold4.pbz2': 1.2980120858545052, 'exp16v6AugmixB4Step2_fold4.pbz2': 1.478918831599023, 'exp16v6AugmixB4_fold4_remove_background.pbz2': 1.5066456916643778}. Best is trial 89 with value: 0.8502137513359458.\u001b[0m\n",
      "\u001b[32m[I 2022-04-17 07:06:35,616]\u001b[0m Trial 92 finished with value: 0.8493468709179433 and parameters: {'exp16v6AugMix1536_fold4.pbz2': 3.762462679009628, 'exp16v6AugmixB3_fold4.pbz2': 1.8167651370558333, 'exp16v6AugmixB4Step2_fold4.pbz2': 1.728117077746626, 'exp16v6AugmixB4_fold4_remove_background.pbz2': 1.2106738572815954}. Best is trial 89 with value: 0.8502137513359458.\u001b[0m\n",
      "\u001b[32m[I 2022-04-17 07:06:36,580]\u001b[0m Trial 93 finished with value: 0.8482167596880813 and parameters: {'exp16v6AugMix1536_fold4.pbz2': 3.397524309235734, 'exp16v6AugmixB3_fold4.pbz2': 2.088073039894576, 'exp16v6AugmixB4Step2_fold4.pbz2': 1.8335397076235647, 'exp16v6AugmixB4_fold4_remove_background.pbz2': 0.8910722226804862}. Best is trial 89 with value: 0.8502137513359458.\u001b[0m\n",
      "\u001b[32m[I 2022-04-17 07:06:37,538]\u001b[0m Trial 94 finished with value: 0.8488421802636268 and parameters: {'exp16v6AugMix1536_fold4.pbz2': 3.5901116249822786, 'exp16v6AugmixB3_fold4.pbz2': 1.621150810176947, 'exp16v6AugmixB4Step2_fold4.pbz2': 1.925901971347348, 'exp16v6AugmixB4_fold4_remove_background.pbz2': 0.9906591383932104}. Best is trial 89 with value: 0.8502137513359458.\u001b[0m\n",
      "\u001b[32m[I 2022-04-17 07:06:38,498]\u001b[0m Trial 95 finished with value: 0.8482365514784468 and parameters: {'exp16v6AugMix1536_fold4.pbz2': 2.7591147829757245, 'exp16v6AugmixB3_fold4.pbz2': 1.4326036673845344, 'exp16v6AugmixB4Step2_fold4.pbz2': 1.297923073204175, 'exp16v6AugmixB4_fold4_remove_background.pbz2': 1.2904173886129695}. Best is trial 89 with value: 0.8502137513359458.\u001b[0m\n",
      "\u001b[32m[I 2022-04-17 07:06:39,456]\u001b[0m Trial 96 finished with value: 0.8499010410481732 and parameters: {'exp16v6AugMix1536_fold4.pbz2': 3.744334032228085, 'exp16v6AugmixB3_fold4.pbz2': 1.1456769992056548, 'exp16v6AugmixB4Step2_fold4.pbz2': 1.5051061314250624, 'exp16v6AugmixB4_fold4_remove_background.pbz2': 1.1084185821412764}. Best is trial 89 with value: 0.8502137513359458.\u001b[0m\n",
      "\u001b[32m[I 2022-04-17 07:06:40,415]\u001b[0m Trial 97 finished with value: 0.8497704152317619 and parameters: {'exp16v6AugMix1536_fold4.pbz2': 3.772852558886391, 'exp16v6AugmixB3_fold4.pbz2': 1.1441553619027662, 'exp16v6AugmixB4Step2_fold4.pbz2': 1.4929700886099546, 'exp16v6AugmixB4_fold4_remove_background.pbz2': 1.1234219156883898}. Best is trial 89 with value: 0.8502137513359458.\u001b[0m\n",
      "\u001b[32m[I 2022-04-17 07:06:41,372]\u001b[0m Trial 98 finished with value: 0.8499208328385385 and parameters: {'exp16v6AugMix1536_fold4.pbz2': 3.7408206372667294, 'exp16v6AugmixB3_fold4.pbz2': 1.1465459764686305, 'exp16v6AugmixB4Step2_fold4.pbz2': 1.480190782842387, 'exp16v6AugmixB4_fold4_remove_background.pbz2': 0.7949686755358599}. Best is trial 89 with value: 0.8502137513359458.\u001b[0m\n",
      "\u001b[32m[I 2022-04-17 07:06:42,333]\u001b[0m Trial 99 finished with value: 0.8499544788821597 and parameters: {'exp16v6AugMix1536_fold4.pbz2': 3.4599845962661857, 'exp16v6AugmixB3_fold4.pbz2': 1.001790984114819, 'exp16v6AugmixB4Step2_fold4.pbz2': 1.2771953530278228, 'exp16v6AugmixB4_fold4_remove_background.pbz2': 0.8386771576521086}. Best is trial 89 with value: 0.8502137513359458.\u001b[0m\n",
      "\u001b[32m[I 2022-04-17 07:06:43,291]\u001b[0m Trial 100 finished with value: 0.8498179155286387 and parameters: {'exp16v6AugMix1536_fold4.pbz2': 3.485435675480381, 'exp16v6AugmixB3_fold4.pbz2': 1.0019998200916158, 'exp16v6AugmixB4Step2_fold4.pbz2': 0.9661360967144934, 'exp16v6AugmixB4_fold4_remove_background.pbz2': 0.8030823695269824}. Best is trial 89 with value: 0.8502137513359458.\u001b[0m\n",
      "\u001b[32m[I 2022-04-17 07:06:44,255]\u001b[0m Trial 101 finished with value: 0.8497704152317619 and parameters: {'exp16v6AugMix1536_fold4.pbz2': 3.477360118619442, 'exp16v6AugmixB3_fold4.pbz2': 0.9927036157339094, 'exp16v6AugmixB4Step2_fold4.pbz2': 0.9877707094141138, 'exp16v6AugmixB4_fold4_remove_background.pbz2': 0.7721420361918032}. Best is trial 89 with value: 0.8502137513359458.\u001b[0m\n",
      "\u001b[32m[I 2022-04-17 07:06:45,277]\u001b[0m Trial 102 finished with value: 0.8498753117206982 and parameters: {'exp16v6AugMix1536_fold4.pbz2': 3.6550987393896652, 'exp16v6AugmixB3_fold4.pbz2': 1.1143515592032056, 'exp16v6AugmixB4Step2_fold4.pbz2': 1.3587695801649513, 'exp16v6AugmixB4_fold4_remove_background.pbz2': 0.8595774124026904}. Best is trial 89 with value: 0.8502137513359458.\u001b[0m\n",
      "\u001b[32m[I 2022-04-17 07:06:46,252]\u001b[0m Trial 103 finished with value: 0.8497941653802004 and parameters: {'exp16v6AugMix1536_fold4.pbz2': 3.154557046133247, 'exp16v6AugmixB3_fold4.pbz2': 1.1228149301906607, 'exp16v6AugmixB4Step2_fold4.pbz2': 1.3188095626120564, 'exp16v6AugmixB4_fold4_remove_background.pbz2': 0.865181061508263}. Best is trial 89 with value: 0.8502137513359458.\u001b[0m\n",
      "\u001b[32m[I 2022-04-17 07:06:47,209]\u001b[0m Trial 104 finished with value: 0.8497644776946522 and parameters: {'exp16v6AugMix1536_fold4.pbz2': 3.26095062602913, 'exp16v6AugmixB3_fold4.pbz2': 0.86721127452884, 'exp16v6AugmixB4Step2_fold4.pbz2': 1.2475524421168562, 'exp16v6AugmixB4_fold4_remove_background.pbz2': 0.7612604237574887}. Best is trial 89 with value: 0.8502137513359458.\u001b[0m\n",
      "\u001b[32m[I 2022-04-17 07:06:48,168]\u001b[0m Trial 105 finished with value: 0.8496298935201677 and parameters: {'exp16v6AugMix1536_fold4.pbz2': 3.678715600467683, 'exp16v6AugmixB3_fold4.pbz2': 0.7783482468127552, 'exp16v6AugmixB4Step2_fold4.pbz2': 1.3950281759770995, 'exp16v6AugmixB4_fold4_remove_background.pbz2': 0.9352096488728413}. Best is trial 89 with value: 0.8502137513359458.\u001b[0m\n",
      "\u001b[32m[I 2022-04-17 07:06:49,122]\u001b[0m Trial 106 finished with value: 0.8449689268891264 and parameters: {'exp16v6AugMix1536_fold4.pbz2': 3.4300522818561525, 'exp16v6AugmixB3_fold4.pbz2': 1.2154890774215186, 'exp16v6AugmixB4Step2_fold4.pbz2': 1.133145502944426, 'exp16v6AugmixB4_fold4_remove_background.pbz2': 3.2025585051564556}. Best is trial 89 with value: 0.8502137513359458.\u001b[0m\n",
      "\u001b[32m[I 2022-04-17 07:06:50,109]\u001b[0m Trial 107 finished with value: 0.8497288524719946 and parameters: {'exp16v6AugMix1536_fold4.pbz2': 3.6322538615202733, 'exp16v6AugmixB3_fold4.pbz2': 1.0011536847335285, 'exp16v6AugmixB4Step2_fold4.pbz2': 1.0783134964441274, 'exp16v6AugmixB4_fold4_remove_background.pbz2': 1.0472956875824408}. Best is trial 89 with value: 0.8502137513359458.\u001b[0m\n",
      "\u001b[32m[I 2022-04-17 07:06:51,069]\u001b[0m Trial 108 finished with value: 0.8495982266555833 and parameters: {'exp16v6AugMix1536_fold4.pbz2': 3.5150660216267937, 'exp16v6AugmixB3_fold4.pbz2': 1.0632249208650544, 'exp16v6AugmixB4Step2_fold4.pbz2': 1.5141889590758837, 'exp16v6AugmixB4_fold4_remove_background.pbz2': 0.8368387806140738}. Best is trial 89 with value: 0.8502137513359458.\u001b[0m\n",
      "\u001b[32m[I 2022-04-17 07:06:52,028]\u001b[0m Trial 109 finished with value: 0.8494022879309663 and parameters: {'exp16v6AugMix1536_fold4.pbz2': 3.7245913128090824, 'exp16v6AugmixB3_fold4.pbz2': 1.2607120977807433, 'exp16v6AugmixB4Step2_fold4.pbz2': 0.9188688238537794, 'exp16v6AugmixB4_fold4_remove_background.pbz2': 0.46395436137896917}. Best is trial 89 with value: 0.8502137513359458.\u001b[0m\n"
     ]
    },
    {
     "name": "stderr",
     "output_type": "stream",
     "text": [
      "\u001b[32m[I 2022-04-17 07:06:52,982]\u001b[0m Trial 110 finished with value: 0.8484780113209041 and parameters: {'exp16v6AugMix1536_fold4.pbz2': 3.3298339549402747, 'exp16v6AugmixB3_fold4.pbz2': 0.9175028559935564, 'exp16v6AugmixB4Step2_fold4.pbz2': 2.1217606808580776, 'exp16v6AugmixB4_fold4_remove_background.pbz2': 0.9604417995718518}. Best is trial 89 with value: 0.8502137513359458.\u001b[0m\n",
      "\u001b[32m[I 2022-04-17 07:06:53,942]\u001b[0m Trial 111 finished with value: 0.8499030202272098 and parameters: {'exp16v6AugMix1536_fold4.pbz2': 3.9406897361178688, 'exp16v6AugmixB3_fold4.pbz2': 1.160243812734836, 'exp16v6AugmixB4Step2_fold4.pbz2': 1.2254581886141442, 'exp16v6AugmixB4_fold4_remove_background.pbz2': 1.254019919029992}. Best is trial 89 with value: 0.8502137513359458.\u001b[0m\n",
      "\u001b[32m[I 2022-04-17 07:06:54,900]\u001b[0m Trial 112 finished with value: 0.8496754146380082 and parameters: {'exp16v6AugMix1536_fold4.pbz2': 3.9270693174820477, 'exp16v6AugmixB3_fold4.pbz2': 1.1285497155527922, 'exp16v6AugmixB4Step2_fold4.pbz2': 1.3638220535124532, 'exp16v6AugmixB4_fold4_remove_background.pbz2': 0.7630452210316372}. Best is trial 89 with value: 0.8502137513359458.\u001b[0m\n",
      "\u001b[32m[I 2022-04-17 07:06:55,894]\u001b[0m Trial 113 finished with value: 0.8208269010014646 and parameters: {'exp16v6AugMix1536_fold4.pbz2': 0.17065934232582003, 'exp16v6AugmixB3_fold4.pbz2': 1.1908713470133383, 'exp16v6AugmixB4Step2_fold4.pbz2': 1.4387182111394938, 'exp16v6AugmixB4_fold4_remove_background.pbz2': 2.523520578002354}. Best is trial 89 with value: 0.8502137513359458.\u001b[0m\n",
      "\u001b[32m[I 2022-04-17 07:06:56,851]\u001b[0m Trial 114 finished with value: 0.8499643747773424 and parameters: {'exp16v6AugMix1536_fold4.pbz2': 3.556199057753121, 'exp16v6AugmixB3_fold4.pbz2': 1.073992960490119, 'exp16v6AugmixB4Step2_fold4.pbz2': 1.2258916176317203, 'exp16v6AugmixB4_fold4_remove_background.pbz2': 1.067600681851588}. Best is trial 89 with value: 0.8502137513359458.\u001b[0m\n",
      "\u001b[32m[I 2022-04-17 07:06:57,814]\u001b[0m Trial 115 finished with value: 0.8502117721569094 and parameters: {'exp16v6AugMix1536_fold4.pbz2': 3.7588700772126606, 'exp16v6AugmixB3_fold4.pbz2': 1.312908960958383, 'exp16v6AugmixB4Step2_fold4.pbz2': 1.6347055826934056, 'exp16v6AugmixB4_fold4_remove_background.pbz2': 1.2458914962801853}. Best is trial 89 with value: 0.8502137513359458.\u001b[0m\n",
      "\u001b[32m[I 2022-04-17 07:06:58,769]\u001b[0m Trial 116 finished with value: 0.8501306258164113 and parameters: {'exp16v6AugMix1536_fold4.pbz2': 3.7533333997396348, 'exp16v6AugmixB3_fold4.pbz2': 1.3310455154277936, 'exp16v6AugmixB4Step2_fold4.pbz2': 1.263624722159574, 'exp16v6AugmixB4_fold4_remove_background.pbz2': 1.2841428918649174}. Best is trial 89 with value: 0.8502137513359458.\u001b[0m\n",
      "\u001b[32m[I 2022-04-17 07:06:59,730]\u001b[0m Trial 117 finished with value: 0.8501721885761786 and parameters: {'exp16v6AugMix1536_fold4.pbz2': 3.73818873390032, 'exp16v6AugmixB3_fold4.pbz2': 1.3037960915290694, 'exp16v6AugmixB4Step2_fold4.pbz2': 1.6123157769217766, 'exp16v6AugmixB4_fold4_remove_background.pbz2': 1.273049653922881}. Best is trial 89 with value: 0.8502137513359458.\u001b[0m\n",
      "\u001b[32m[I 2022-04-17 07:07:00,686]\u001b[0m Trial 118 finished with value: 0.8500870838776076 and parameters: {'exp16v6AugMix1536_fold4.pbz2': 3.7760016403740018, 'exp16v6AugmixB3_fold4.pbz2': 1.3219651309769238, 'exp16v6AugmixB4Step2_fold4.pbz2': 1.6382291118297374, 'exp16v6AugmixB4_fold4_remove_background.pbz2': 1.372109124173472}. Best is trial 89 with value: 0.8502137513359458.\u001b[0m\n",
      "\u001b[32m[I 2022-04-17 07:07:01,646]\u001b[0m Trial 119 finished with value: 0.85005145865495 and parameters: {'exp16v6AugMix1536_fold4.pbz2': 3.7528655908146575, 'exp16v6AugmixB3_fold4.pbz2': 1.3886377974553001, 'exp16v6AugmixB4Step2_fold4.pbz2': 1.2511541046203656, 'exp16v6AugmixB4_fold4_remove_background.pbz2': 1.5649360006795825}. Best is trial 89 with value: 0.8502137513359458.\u001b[0m\n",
      "\u001b[32m[I 2022-04-17 07:07:02,622]\u001b[0m Trial 120 finished with value: 0.8499742706725251 and parameters: {'exp16v6AugMix1536_fold4.pbz2': 3.5718159361048514, 'exp16v6AugmixB3_fold4.pbz2': 1.3578983531203614, 'exp16v6AugmixB4Step2_fold4.pbz2': 1.2336376681570411, 'exp16v6AugmixB4_fold4_remove_background.pbz2': 1.5149782348537533}. Best is trial 89 with value: 0.8502137513359458.\u001b[0m\n",
      "\u001b[32m[I 2022-04-17 07:07:03,579]\u001b[0m Trial 121 finished with value: 0.8499524997031231 and parameters: {'exp16v6AugMix1536_fold4.pbz2': 3.580179426150752, 'exp16v6AugmixB3_fold4.pbz2': 1.371849347627737, 'exp16v6AugmixB4Step2_fold4.pbz2': 1.2171460141511372, 'exp16v6AugmixB4_fold4_remove_background.pbz2': 1.5145237492970807}. Best is trial 89 with value: 0.8502137513359458.\u001b[0m\n",
      "\u001b[32m[I 2022-04-17 07:07:04,539]\u001b[0m Trial 122 finished with value: 0.8495942682975102 and parameters: {'exp16v6AugMix1536_fold4.pbz2': 3.5444908477357755, 'exp16v6AugmixB3_fold4.pbz2': 1.3623316049754095, 'exp16v6AugmixB4Step2_fold4.pbz2': 1.2885643151125394, 'exp16v6AugmixB4_fold4_remove_background.pbz2': 1.7413819497085867}. Best is trial 89 with value: 0.8502137513359458.\u001b[0m\n",
      "\u001b[32m[I 2022-04-17 07:07:05,497]\u001b[0m Trial 123 finished with value: 0.8489134307089419 and parameters: {'exp16v6AugMix1536_fold4.pbz2': 3.555032664766628, 'exp16v6AugmixB3_fold4.pbz2': 1.4609406899865425, 'exp16v6AugmixB4Step2_fold4.pbz2': 1.642695202612989, 'exp16v6AugmixB4_fold4_remove_background.pbz2': 1.5585722534692372}. Best is trial 89 with value: 0.8502137513359458.\u001b[0m\n",
      "\u001b[32m[I 2022-04-17 07:07:06,488]\u001b[0m Trial 124 finished with value: 0.8502375014843843 and parameters: {'exp16v6AugMix1536_fold4.pbz2': 3.4364061583878662, 'exp16v6AugmixB3_fold4.pbz2': 1.28777508534405, 'exp16v6AugmixB4Step2_fold4.pbz2': 1.1183466320506779, 'exp16v6AugmixB4_fold4_remove_background.pbz2': 1.3835800776497365}. Best is trial 124 with value: 0.8502375014843843.\u001b[0m\n",
      "\u001b[32m[I 2022-04-17 07:07:07,446]\u001b[0m Trial 125 finished with value: 0.8498515615722598 and parameters: {'exp16v6AugMix1536_fold4.pbz2': 3.4229326939984293, 'exp16v6AugmixB3_fold4.pbz2': 1.3088488449827778, 'exp16v6AugmixB4Step2_fold4.pbz2': 1.1490437896188772, 'exp16v6AugmixB4_fold4_remove_background.pbz2': 1.403075438249997}. Best is trial 124 with value: 0.8502375014843843.\u001b[0m\n",
      "\u001b[32m[I 2022-04-17 07:07:08,403]\u001b[0m Trial 126 finished with value: 0.8493409333808336 and parameters: {'exp16v6AugMix1536_fold4.pbz2': 3.221260681113873, 'exp16v6AugmixB3_fold4.pbz2': 1.4344730593483321, 'exp16v6AugmixB4Step2_fold4.pbz2': 1.095738193364499, 'exp16v6AugmixB4_fold4_remove_background.pbz2': 1.5148282244183315}. Best is trial 124 with value: 0.8502375014843843.\u001b[0m\n",
      "\u001b[32m[I 2022-04-17 07:07:09,365]\u001b[0m Trial 127 finished with value: 0.8500098958951827 and parameters: {'exp16v6AugMix1536_fold4.pbz2': 3.5847095558872955, 'exp16v6AugmixB3_fold4.pbz2': 1.2921690697105166, 'exp16v6AugmixB4Step2_fold4.pbz2': 1.2488145101702162, 'exp16v6AugmixB4_fold4_remove_background.pbz2': 1.6737860032047214}. Best is trial 124 with value: 0.8502375014843843.\u001b[0m\n",
      "\u001b[32m[I 2022-04-17 07:07:10,326]\u001b[0m Trial 128 finished with value: 0.8473281083006768 and parameters: {'exp16v6AugMix1536_fold4.pbz2': 3.3742933115332114, 'exp16v6AugmixB3_fold4.pbz2': 1.285404514391683, 'exp16v6AugmixB4Step2_fold4.pbz2': 1.598730705431706, 'exp16v6AugmixB4_fold4_remove_background.pbz2': 2.0160163559305326}. Best is trial 124 with value: 0.8502375014843843.\u001b[0m\n",
      "\u001b[32m[I 2022-04-17 07:07:11,284]\u001b[0m Trial 129 finished with value: 0.8426513082373431 and parameters: {'exp16v6AugMix1536_fold4.pbz2': 3.655636960800916, 'exp16v6AugmixB3_fold4.pbz2': 1.4760438303697254, 'exp16v6AugmixB4Step2_fold4.pbz2': 3.6386790833703095, 'exp16v6AugmixB4_fold4_remove_background.pbz2': 1.6402194884584729}. Best is trial 124 with value: 0.8502375014843843.\u001b[0m\n",
      "\u001b[32m[I 2022-04-17 07:07:12,247]\u001b[0m Trial 130 finished with value: 0.8498871867949175 and parameters: {'exp16v6AugMix1536_fold4.pbz2': 3.7964673983623136, 'exp16v6AugmixB3_fold4.pbz2': 1.3146811398037408, 'exp16v6AugmixB4Step2_fold4.pbz2': 1.2863184283500422, 'exp16v6AugmixB4_fold4_remove_background.pbz2': 1.3238788285774477}. Best is trial 124 with value: 0.8502375014843843.\u001b[0m\n",
      "\u001b[32m[I 2022-04-17 07:07:13,206]\u001b[0m Trial 131 finished with value: 0.8280034041879429 and parameters: {'exp16v6AugMix1536_fold4.pbz2': 0.7059925812877292, 'exp16v6AugmixB3_fold4.pbz2': 1.7028309775804313, 'exp16v6AugmixB4Step2_fold4.pbz2': 1.2025856526169174, 'exp16v6AugmixB4_fold4_remove_background.pbz2': 1.9038887023184299}. Best is trial 124 with value: 0.8502375014843843.\u001b[0m\n"
     ]
    },
    {
     "name": "stderr",
     "output_type": "stream",
     "text": [
      "\u001b[32m[I 2022-04-17 07:07:14,163]\u001b[0m Trial 132 finished with value: 0.8490638483157186 and parameters: {'exp16v6AugMix1536_fold4.pbz2': 3.5268713665814984, 'exp16v6AugmixB3_fold4.pbz2': 1.3881607380338226, 'exp16v6AugmixB4Step2_fold4.pbz2': 1.4021735883824444, 'exp16v6AugmixB4_fold4_remove_background.pbz2': 1.6962760156375591}. Best is trial 124 with value: 0.8502375014843843.\u001b[0m\n",
      "\u001b[32m[I 2022-04-17 07:07:15,121]\u001b[0m Trial 133 finished with value: 0.849910936943356 and parameters: {'exp16v6AugMix1536_fold4.pbz2': 3.6110921331757893, 'exp16v6AugmixB3_fold4.pbz2': 1.2486945760417743, 'exp16v6AugmixB4Step2_fold4.pbz2': 1.226098266127297, 'exp16v6AugmixB4_fold4_remove_background.pbz2': 1.5705333227172447}. Best is trial 124 with value: 0.8502375014843843.\u001b[0m\n",
      "\u001b[32m[I 2022-04-17 07:07:16,081]\u001b[0m Trial 134 finished with value: 0.8500079167161462 and parameters: {'exp16v6AugMix1536_fold4.pbz2': 3.445899305604578, 'exp16v6AugmixB3_fold4.pbz2': 1.3755602677241439, 'exp16v6AugmixB4Step2_fold4.pbz2': 1.0224716437743988, 'exp16v6AugmixB4_fold4_remove_background.pbz2': 1.4224083755963859}. Best is trial 124 with value: 0.8502375014843843.\u001b[0m\n",
      "\u001b[32m[I 2022-04-17 07:07:17,073]\u001b[0m Trial 135 finished with value: 0.8497229149348849 and parameters: {'exp16v6AugMix1536_fold4.pbz2': 3.306764954592779, 'exp16v6AugmixB3_fold4.pbz2': 1.028676650304961, 'exp16v6AugmixB4Step2_fold4.pbz2': 1.0441782089048128, 'exp16v6AugmixB4_fold4_remove_background.pbz2': 1.4031569413377223}. Best is trial 124 with value: 0.8502375014843843.\u001b[0m\n",
      "\u001b[32m[I 2022-04-17 07:07:18,030]\u001b[0m Trial 136 finished with value: 0.8495922891184737 and parameters: {'exp16v6AugMix1536_fold4.pbz2': 3.462261082441706, 'exp16v6AugmixB3_fold4.pbz2': 1.6569194488974666, 'exp16v6AugmixB4Step2_fold4.pbz2': 0.9629701096868704, 'exp16v6AugmixB4_fold4_remove_background.pbz2': 1.7853180390550072}. Best is trial 124 with value: 0.8502375014843843.\u001b[0m\n",
      "\u001b[32m[I 2022-04-17 07:07:18,991]\u001b[0m Trial 137 finished with value: 0.8499228120175751 and parameters: {'exp16v6AugMix1536_fold4.pbz2': 3.7209620977422544, 'exp16v6AugmixB3_fold4.pbz2': 1.4878326952991423, 'exp16v6AugmixB4Step2_fold4.pbz2': 0.7674024406864317, 'exp16v6AugmixB4_fold4_remove_background.pbz2': 1.2805488231514193}. Best is trial 124 with value: 0.8502375014843843.\u001b[0m\n",
      "\u001b[32m[I 2022-04-17 07:07:19,947]\u001b[0m Trial 138 finished with value: 0.8499465621660136 and parameters: {'exp16v6AugMix1536_fold4.pbz2': 3.815240195351906, 'exp16v6AugmixB3_fold4.pbz2': 1.264596302760279, 'exp16v6AugmixB4Step2_fold4.pbz2': 1.1234819630408996, 'exp16v6AugmixB4_fold4_remove_background.pbz2': 1.826154817651355}. Best is trial 124 with value: 0.8502375014843843.\u001b[0m\n",
      "\u001b[32m[I 2022-04-17 07:07:20,913]\u001b[0m Trial 139 finished with value: 0.8428076633812295 and parameters: {'exp16v6AugMix1536_fold4.pbz2': 2.004147988067458, 'exp16v6AugmixB3_fold4.pbz2': 1.0725390632003697, 'exp16v6AugmixB4Step2_fold4.pbz2': 1.555882653793259, 'exp16v6AugmixB4_fold4_remove_background.pbz2': 1.477467669866284}. Best is trial 124 with value: 0.8502375014843843.\u001b[0m\n",
      "\u001b[32m[I 2022-04-17 07:07:21,869]\u001b[0m Trial 140 finished with value: 0.8495230178521949 and parameters: {'exp16v6AugMix1536_fold4.pbz2': 3.053939058199776, 'exp16v6AugmixB3_fold4.pbz2': 1.386155399497837, 'exp16v6AugmixB4Step2_fold4.pbz2': 0.8674357839898745, 'exp16v6AugmixB4_fold4_remove_background.pbz2': 1.3602088422075749}. Best is trial 124 with value: 0.8502375014843843.\u001b[0m\n",
      "\u001b[32m[I 2022-04-17 07:07:22,851]\u001b[0m Trial 141 finished with value: 0.8499366662708309 and parameters: {'exp16v6AugMix1536_fold4.pbz2': 3.6378448941714887, 'exp16v6AugmixB3_fold4.pbz2': 1.3526970515014076, 'exp16v6AugmixB4Step2_fold4.pbz2': 1.261942852422916, 'exp16v6AugmixB4_fold4_remove_background.pbz2': 1.576847709978907}. Best is trial 124 with value: 0.8502375014843843.\u001b[0m\n",
      "\u001b[32m[I 2022-04-17 07:07:23,810]\u001b[0m Trial 142 finished with value: 0.8499901041048173 and parameters: {'exp16v6AugMix1536_fold4.pbz2': 3.5695078323292972, 'exp16v6AugmixB3_fold4.pbz2': 1.2197781559591183, 'exp16v6AugmixB4Step2_fold4.pbz2': 1.33718858597139, 'exp16v6AugmixB4_fold4_remove_background.pbz2': 1.476411687977107}. Best is trial 124 with value: 0.8502375014843843.\u001b[0m\n",
      "\u001b[32m[I 2022-04-17 07:07:24,776]\u001b[0m Trial 143 finished with value: 0.8501504176067767 and parameters: {'exp16v6AugMix1536_fold4.pbz2': 3.43808854177624, 'exp16v6AugmixB3_fold4.pbz2': 1.220281151418839, 'exp16v6AugmixB4Step2_fold4.pbz2': 1.3682284151918518, 'exp16v6AugmixB4_fold4_remove_background.pbz2': 1.2516657966151015}. Best is trial 124 with value: 0.8502375014843843.\u001b[0m\n",
      "\u001b[32m[I 2022-04-17 07:07:25,737]\u001b[0m Trial 144 finished with value: 0.8458714325297867 and parameters: {'exp16v6AugMix1536_fold4.pbz2': 2.3672714320292316, 'exp16v6AugmixB3_fold4.pbz2': 1.21123079825143, 'exp16v6AugmixB4Step2_fold4.pbz2': 1.421215153119757, 'exp16v6AugmixB4_fold4_remove_background.pbz2': 1.2124277620715358}. Best is trial 124 with value: 0.8502375014843843.\u001b[0m\n",
      "\u001b[32m[I 2022-04-17 07:07:26,699]\u001b[0m Trial 145 finished with value: 0.8492578078612992 and parameters: {'exp16v6AugMix1536_fold4.pbz2': 3.3553883456503324, 'exp16v6AugmixB3_fold4.pbz2': 1.2999763586563051, 'exp16v6AugmixB4Step2_fold4.pbz2': 1.3494352103660823, 'exp16v6AugmixB4_fold4_remove_background.pbz2': 1.4431456992717844}. Best is trial 124 with value: 0.8502375014843843.\u001b[0m\n",
      "\u001b[32m[I 2022-04-17 07:07:27,694]\u001b[0m Trial 146 finished with value: 0.8492993706210663 and parameters: {'exp16v6AugMix1536_fold4.pbz2': 3.7424570016975722, 'exp16v6AugmixB3_fold4.pbz2': 1.531231294284821, 'exp16v6AugmixB4Step2_fold4.pbz2': 1.6444481103709032, 'exp16v6AugmixB4_fold4_remove_background.pbz2': 1.3519180548952285}. Best is trial 124 with value: 0.8502375014843843.\u001b[0m\n",
      "\u001b[32m[I 2022-04-17 07:07:28,660]\u001b[0m Trial 147 finished with value: 0.8501504176067767 and parameters: {'exp16v6AugMix1536_fold4.pbz2': 3.609262028873633, 'exp16v6AugmixB3_fold4.pbz2': 1.224850576748334, 'exp16v6AugmixB4Step2_fold4.pbz2': 1.4787937167187943, 'exp16v6AugmixB4_fold4_remove_background.pbz2': 1.267173582500115}. Best is trial 124 with value: 0.8502375014843843.\u001b[0m\n",
      "\u001b[32m[I 2022-04-17 07:07:29,622]\u001b[0m Trial 148 finished with value: 0.8502691683489689 and parameters: {'exp16v6AugMix1536_fold4.pbz2': 3.855384240474231, 'exp16v6AugmixB3_fold4.pbz2': 1.4320311550213192, 'exp16v6AugmixB4Step2_fold4.pbz2': 1.4789727674915991, 'exp16v6AugmixB4_fold4_remove_background.pbz2': 1.2446868101692887}. Best is trial 148 with value: 0.8502691683489689.\u001b[0m\n",
      "\u001b[32m[I 2022-04-17 07:07:30,582]\u001b[0m Trial 149 finished with value: 0.850055417013023 and parameters: {'exp16v6AugMix1536_fold4.pbz2': 3.99615513352546, 'exp16v6AugmixB3_fold4.pbz2': 1.426319135285528, 'exp16v6AugmixB4Step2_fold4.pbz2': 1.78844408741173, 'exp16v6AugmixB4_fold4_remove_background.pbz2': 1.2815484903003829}. Best is trial 148 with value: 0.8502691683489689.\u001b[0m\n",
      "\u001b[32m[I 2022-04-17 07:07:31,559]\u001b[0m Trial 150 finished with value: 0.8501761469342516 and parameters: {'exp16v6AugMix1536_fold4.pbz2': 3.986007078764353, 'exp16v6AugmixB3_fold4.pbz2': 1.600118939482328, 'exp16v6AugmixB4Step2_fold4.pbz2': 1.5297436867819016, 'exp16v6AugmixB4_fold4_remove_background.pbz2': 1.2685977389031233}. Best is trial 148 with value: 0.8502691683489689.\u001b[0m\n",
      "\u001b[32m[I 2022-04-17 07:07:32,543]\u001b[0m Trial 151 finished with value: 0.8502988560345169 and parameters: {'exp16v6AugMix1536_fold4.pbz2': 3.9702293854969852, 'exp16v6AugmixB3_fold4.pbz2': 1.451743235869599, 'exp16v6AugmixB4Step2_fold4.pbz2': 1.5354879939280688, 'exp16v6AugmixB4_fold4_remove_background.pbz2': 1.2711800879242732}. Best is trial 151 with value: 0.8502988560345169.\u001b[0m\n",
      "\u001b[32m[I 2022-04-17 07:07:33,504]\u001b[0m Trial 152 finished with value: 0.8501068756679729 and parameters: {'exp16v6AugMix1536_fold4.pbz2': 3.984858108615358, 'exp16v6AugmixB3_fold4.pbz2': 1.5829114937689048, 'exp16v6AugmixB4Step2_fold4.pbz2': 1.5214561204294357, 'exp16v6AugmixB4_fold4_remove_background.pbz2': 1.2634759846521677}. Best is trial 151 with value: 0.8502988560345169.\u001b[0m\n",
      "\u001b[32m[I 2022-04-17 07:07:34,473]\u001b[0m Trial 153 finished with value: 0.8501464592487036 and parameters: {'exp16v6AugMix1536_fold4.pbz2': 3.990100431882737, 'exp16v6AugmixB3_fold4.pbz2': 1.6158323998180588, 'exp16v6AugmixB4Step2_fold4.pbz2': 1.4952280509904536, 'exp16v6AugmixB4_fold4_remove_background.pbz2': 1.318820141213572}. Best is trial 151 with value: 0.8502988560345169.\u001b[0m\n"
     ]
    },
    {
     "name": "stderr",
     "output_type": "stream",
     "text": [
      "\u001b[32m[I 2022-04-17 07:07:35,434]\u001b[0m Trial 154 finished with value: 0.8501959387246171 and parameters: {'exp16v6AugMix1536_fold4.pbz2': 3.998100509590752, 'exp16v6AugmixB3_fold4.pbz2': 1.6257849558261355, 'exp16v6AugmixB4Step2_fold4.pbz2': 1.5409946912727914, 'exp16v6AugmixB4_fold4_remove_background.pbz2': 1.2688994775514932}. Best is trial 151 with value: 0.8502988560345169.\u001b[0m\n",
      "\u001b[32m[I 2022-04-17 07:07:36,402]\u001b[0m Trial 155 finished with value: 0.849756560978506 and parameters: {'exp16v6AugMix1536_fold4.pbz2': 3.9791634026708045, 'exp16v6AugmixB3_fold4.pbz2': 1.891178736100553, 'exp16v6AugmixB4Step2_fold4.pbz2': 1.6005976263677149, 'exp16v6AugmixB4_fold4_remove_background.pbz2': 1.267751218620871}. Best is trial 151 with value: 0.8502988560345169.\u001b[0m\n",
      "\u001b[32m[I 2022-04-17 07:07:37,391]\u001b[0m Trial 156 finished with value: 0.8498891659739539 and parameters: {'exp16v6AugMix1536_fold4.pbz2': 3.9940650670168805, 'exp16v6AugmixB3_fold4.pbz2': 1.7145282136144506, 'exp16v6AugmixB4Step2_fold4.pbz2': 1.7690438437714977, 'exp16v6AugmixB4_fold4_remove_background.pbz2': 1.2228894831534332}. Best is trial 151 with value: 0.8502988560345169.\u001b[0m\n",
      "\u001b[32m[I 2022-04-17 07:07:38,390]\u001b[0m Trial 157 finished with value: 0.8500395835807307 and parameters: {'exp16v6AugMix1536_fold4.pbz2': 3.8826663731487265, 'exp16v6AugmixB3_fold4.pbz2': 1.6325554811639402, 'exp16v6AugmixB4Step2_fold4.pbz2': 1.5508982618820195, 'exp16v6AugmixB4_fold4_remove_background.pbz2': 1.3031177236597147}. Best is trial 151 with value: 0.8502988560345169.\u001b[0m\n",
      "\u001b[32m[I 2022-04-17 07:07:39,350]\u001b[0m Trial 158 finished with value: 0.8499683331354155 and parameters: {'exp16v6AugMix1536_fold4.pbz2': 3.849680867765618, 'exp16v6AugmixB3_fold4.pbz2': 1.765434120023415, 'exp16v6AugmixB4Step2_fold4.pbz2': 1.4749964083439748, 'exp16v6AugmixB4_fold4_remove_background.pbz2': 1.340187362253074}. Best is trial 151 with value: 0.8502988560345169.\u001b[0m\n",
      "\u001b[32m[I 2022-04-17 07:07:40,313]\u001b[0m Trial 159 finished with value: 0.8501385425325576 and parameters: {'exp16v6AugMix1536_fold4.pbz2': 3.9329551325201293, 'exp16v6AugmixB3_fold4.pbz2': 1.5710528921406828, 'exp16v6AugmixB4Step2_fold4.pbz2': 1.6510607820335448, 'exp16v6AugmixB4_fold4_remove_background.pbz2': 1.1989946954433324}. Best is trial 151 with value: 0.8502988560345169.\u001b[0m\n",
      "\u001b[32m[I 2022-04-17 07:07:41,270]\u001b[0m Trial 160 finished with value: 0.8499069785852829 and parameters: {'exp16v6AugMix1536_fold4.pbz2': 3.922250676921763, 'exp16v6AugmixB3_fold4.pbz2': 1.5692517912137112, 'exp16v6AugmixB4Step2_fold4.pbz2': 1.6734603197546871, 'exp16v6AugmixB4_fold4_remove_background.pbz2': 1.2116932145756945}. Best is trial 151 with value: 0.8502988560345169.\u001b[0m\n",
      "\u001b[32m[I 2022-04-17 07:07:42,230]\u001b[0m Trial 161 finished with value: 0.850140521711594 and parameters: {'exp16v6AugMix1536_fold4.pbz2': 3.94435893182301, 'exp16v6AugmixB3_fold4.pbz2': 1.4956755142101095, 'exp16v6AugmixB4Step2_fold4.pbz2': 1.5078950812161602, 'exp16v6AugmixB4_fold4_remove_background.pbz2': 1.2642897989747188}. Best is trial 151 with value: 0.8502988560345169.\u001b[0m\n",
      "\u001b[32m[I 2022-04-17 07:07:43,186]\u001b[0m Trial 162 finished with value: 0.8501959387246171 and parameters: {'exp16v6AugMix1536_fold4.pbz2': 3.9863094501008556, 'exp16v6AugmixB3_fold4.pbz2': 1.4853641708169163, 'exp16v6AugmixB4Step2_fold4.pbz2': 1.5429459746561938, 'exp16v6AugmixB4_fold4_remove_background.pbz2': 1.1597488738247814}. Best is trial 151 with value: 0.8502988560345169.\u001b[0m\n",
      "\u001b[32m[I 2022-04-17 07:07:44,145]\u001b[0m Trial 163 finished with value: 0.8499663539563789 and parameters: {'exp16v6AugMix1536_fold4.pbz2': 3.8496570775748546, 'exp16v6AugmixB3_fold4.pbz2': 1.629948629714212, 'exp16v6AugmixB4Step2_fold4.pbz2': 1.517343751465306, 'exp16v6AugmixB4_fold4_remove_background.pbz2': 1.1622593485383261}. Best is trial 151 with value: 0.8502988560345169.\u001b[0m\n",
      "\u001b[32m[I 2022-04-17 07:07:45,103]\u001b[0m Trial 164 finished with value: 0.8502355223053478 and parameters: {'exp16v6AugMix1536_fold4.pbz2': 3.920266128787527, 'exp16v6AugmixB3_fold4.pbz2': 1.5119475867423746, 'exp16v6AugmixB4Step2_fold4.pbz2': 1.6188212705139666, 'exp16v6AugmixB4_fold4_remove_background.pbz2': 1.056797421902703}. Best is trial 151 with value: 0.8502988560345169.\u001b[0m\n",
      "\u001b[32m[I 2022-04-17 07:07:46,067]\u001b[0m Trial 165 finished with value: 0.8501603135019594 and parameters: {'exp16v6AugMix1536_fold4.pbz2': 3.9302404043944543, 'exp16v6AugmixB3_fold4.pbz2': 1.5023818782637213, 'exp16v6AugmixB4Step2_fold4.pbz2': 1.4714967373991885, 'exp16v6AugmixB4_fold4_remove_background.pbz2': 1.070371721249519}. Best is trial 151 with value: 0.8502988560345169.\u001b[0m\n",
      "\u001b[32m[I 2022-04-17 07:07:47,028]\u001b[0m Trial 166 finished with value: 0.8501207299212288 and parameters: {'exp16v6AugMix1536_fold4.pbz2': 3.9227634576268335, 'exp16v6AugmixB3_fold4.pbz2': 1.5473117878961657, 'exp16v6AugmixB4Step2_fold4.pbz2': 1.476050612474031, 'exp16v6AugmixB4_fold4_remove_background.pbz2': 1.07809396703764}. Best is trial 151 with value: 0.8502988560345169.\u001b[0m\n",
      "\u001b[32m[I 2022-04-17 07:07:47,991]\u001b[0m Trial 167 finished with value: 0.8496397894153505 and parameters: {'exp16v6AugMix1536_fold4.pbz2': 3.870445675072338, 'exp16v6AugmixB3_fold4.pbz2': 1.8558312027728388, 'exp16v6AugmixB4Step2_fold4.pbz2': 1.5797758161993871, 'exp16v6AugmixB4_fold4_remove_background.pbz2': 1.0151065255384872}. Best is trial 151 with value: 0.8502988560345169.\u001b[0m\n",
      "\u001b[32m[I 2022-04-17 07:07:49,012]\u001b[0m Trial 168 finished with value: 0.8501187507421921 and parameters: {'exp16v6AugMix1536_fold4.pbz2': 3.9148053284624553, 'exp16v6AugmixB3_fold4.pbz2': 1.5034832067831825, 'exp16v6AugmixB4Step2_fold4.pbz2': 1.4211865831962367, 'exp16v6AugmixB4_fold4_remove_background.pbz2': 1.158606101578713}. Best is trial 151 with value: 0.8502988560345169.\u001b[0m\n",
      "\u001b[32m[I 2022-04-17 07:07:49,974]\u001b[0m Trial 169 finished with value: 0.8498693741835888 and parameters: {'exp16v6AugMix1536_fold4.pbz2': 3.83985272589116, 'exp16v6AugmixB3_fold4.pbz2': 1.725475440417519, 'exp16v6AugmixB4Step2_fold4.pbz2': 1.6973065707787536, 'exp16v6AugmixB4_fold4_remove_background.pbz2': 1.0856274017577343}. Best is trial 151 with value: 0.8502988560345169.\u001b[0m\n",
      "\u001b[32m[I 2022-04-17 07:07:50,932]\u001b[0m Trial 170 finished with value: 0.8501979179036535 and parameters: {'exp16v6AugMix1536_fold4.pbz2': 3.995213801784331, 'exp16v6AugmixB3_fold4.pbz2': 1.6590242043661392, 'exp16v6AugmixB4Step2_fold4.pbz2': 1.453196564147945, 'exp16v6AugmixB4_fold4_remove_background.pbz2': 1.2273964655413379}. Best is trial 151 with value: 0.8502988560345169.\u001b[0m\n",
      "\u001b[32m[I 2022-04-17 07:07:51,893]\u001b[0m Trial 171 finished with value: 0.8500653129082058 and parameters: {'exp16v6AugMix1536_fold4.pbz2': 3.9995085386801787, 'exp16v6AugmixB3_fold4.pbz2': 1.4783174104811432, 'exp16v6AugmixB4Step2_fold4.pbz2': 1.4551327050770344, 'exp16v6AugmixB4_fold4_remove_background.pbz2': 1.2154261102439228}. Best is trial 151 with value: 0.8502988560345169.\u001b[0m\n",
      "\u001b[32m[I 2022-04-17 07:07:52,849]\u001b[0m Trial 172 finished with value: 0.849833748960931 and parameters: {'exp16v6AugMix1536_fold4.pbz2': 3.9117699686691743, 'exp16v6AugmixB3_fold4.pbz2': 1.6770160539829948, 'exp16v6AugmixB4Step2_fold4.pbz2': 1.60453027805776, 'exp16v6AugmixB4_fold4_remove_background.pbz2': 1.150917596213239}. Best is trial 151 with value: 0.8502988560345169.\u001b[0m\n",
      "\u001b[32m[I 2022-04-17 07:07:53,832]\u001b[0m Trial 173 finished with value: 0.8501761469342517 and parameters: {'exp16v6AugMix1536_fold4.pbz2': 3.817252586147197, 'exp16v6AugmixB3_fold4.pbz2': 1.4800853622927754, 'exp16v6AugmixB4Step2_fold4.pbz2': 1.5359646158039442, 'exp16v6AugmixB4_fold4_remove_background.pbz2': 1.0068814538281086}. Best is trial 151 with value: 0.8502988560345169.\u001b[0m\n",
      "\u001b[32m[I 2022-04-17 07:07:54,806]\u001b[0m Trial 174 finished with value: 0.8496061433717295 and parameters: {'exp16v6AugMix1536_fold4.pbz2': 3.8196951964101555, 'exp16v6AugmixB3_fold4.pbz2': 1.6294215123785543, 'exp16v6AugmixB4Step2_fold4.pbz2': 1.7023762068118056, 'exp16v6AugmixB4_fold4_remove_background.pbz2': 1.0320385815678008}. Best is trial 151 with value: 0.8502988560345169.\u001b[0m\n",
      "\u001b[32m[I 2022-04-17 07:07:55,768]\u001b[0m Trial 175 finished with value: 0.8496477061314968 and parameters: {'exp16v6AugMix1536_fold4.pbz2': 3.997510653183712, 'exp16v6AugmixB3_fold4.pbz2': 2.0165704937198035, 'exp16v6AugmixB4Step2_fold4.pbz2': 1.541523049902397, 'exp16v6AugmixB4_fold4_remove_background.pbz2': 0.963633823683808}. Best is trial 151 with value: 0.8502988560345169.\u001b[0m\n"
     ]
    },
    {
     "name": "stderr",
     "output_type": "stream",
     "text": [
      "\u001b[32m[I 2022-04-17 07:07:56,727]\u001b[0m Trial 176 finished with value: 0.8500395835807307 and parameters: {'exp16v6AugMix1536_fold4.pbz2': 3.9102007550347775, 'exp16v6AugmixB3_fold4.pbz2': 1.796434225226708, 'exp16v6AugmixB4Step2_fold4.pbz2': 1.6304946256497341, 'exp16v6AugmixB4_fold4_remove_background.pbz2': 1.1196920312075958}. Best is trial 151 with value: 0.8502988560345169.\u001b[0m\n",
      "\u001b[32m[I 2022-04-17 07:07:57,691]\u001b[0m Trial 177 finished with value: 0.8501029173099 and parameters: {'exp16v6AugMix1536_fold4.pbz2': 3.819854138146945, 'exp16v6AugmixB3_fold4.pbz2': 1.480059596789027, 'exp16v6AugmixB4Step2_fold4.pbz2': 1.4338270991767883, 'exp16v6AugmixB4_fold4_remove_background.pbz2': 1.223139434713459}. Best is trial 151 with value: 0.8502988560345169.\u001b[0m\n",
      "\u001b[32m[I 2022-04-17 07:07:58,651]\u001b[0m Trial 178 finished with value: 0.8495863515813641 and parameters: {'exp16v6AugMix1536_fold4.pbz2': 3.9239264334576793, 'exp16v6AugmixB3_fold4.pbz2': 1.5715923551935926, 'exp16v6AugmixB4Step2_fold4.pbz2': 1.8496398788384862, 'exp16v6AugmixB4_fold4_remove_background.pbz2': 1.333457997857279}. Best is trial 151 with value: 0.8502988560345169.\u001b[0m\n",
      "\u001b[32m[I 2022-04-17 07:07:59,648]\u001b[0m Trial 179 finished with value: 0.8502414598424574 and parameters: {'exp16v6AugMix1536_fold4.pbz2': 3.7000598453564635, 'exp16v6AugmixB3_fold4.pbz2': 1.4475489055606425, 'exp16v6AugmixB4Step2_fold4.pbz2': 1.3708864602061337, 'exp16v6AugmixB4_fold4_remove_background.pbz2': 1.0409204814025523}. Best is trial 151 with value: 0.8502988560345169.\u001b[0m\n",
      "\u001b[32m[I 2022-04-17 07:08:00,607]\u001b[0m Trial 180 finished with value: 0.8501583343229229 and parameters: {'exp16v6AugMix1536_fold4.pbz2': 3.7773833679108644, 'exp16v6AugmixB3_fold4.pbz2': 1.4479947211963473, 'exp16v6AugmixB4Step2_fold4.pbz2': 1.3713372645095725, 'exp16v6AugmixB4_fold4_remove_background.pbz2': 1.0147692586150938}. Best is trial 151 with value: 0.8502988560345169.\u001b[0m\n",
      "\u001b[32m[I 2022-04-17 07:08:01,702]\u001b[0m Trial 181 finished with value: 0.8500989589518267 and parameters: {'exp16v6AugMix1536_fold4.pbz2': 3.7105909387093083, 'exp16v6AugmixB3_fold4.pbz2': 1.4504233096300498, 'exp16v6AugmixB4Step2_fold4.pbz2': 1.3841206061935445, 'exp16v6AugmixB4_fold4_remove_background.pbz2': 0.9995475802868785}. Best is trial 151 with value: 0.8502988560345169.\u001b[0m\n",
      "\u001b[32m[I 2022-04-17 07:08:02,662]\u001b[0m Trial 182 finished with value: 0.8501464592487037 and parameters: {'exp16v6AugMix1536_fold4.pbz2': 3.7936659601551677, 'exp16v6AugmixB3_fold4.pbz2': 1.4337117059162143, 'exp16v6AugmixB4Step2_fold4.pbz2': 1.483984227979905, 'exp16v6AugmixB4_fold4_remove_background.pbz2': 1.087297547461011}. Best is trial 151 with value: 0.8502988560345169.\u001b[0m\n",
      "\u001b[32m[I 2022-04-17 07:08:03,624]\u001b[0m Trial 183 finished with value: 0.8502553140957132 and parameters: {'exp16v6AugMix1536_fold4.pbz2': 3.6947759709755847, 'exp16v6AugmixB3_fold4.pbz2': 1.4248563000186611, 'exp16v6AugmixB4Step2_fold4.pbz2': 1.3374260677488325, 'exp16v6AugmixB4_fold4_remove_background.pbz2': 0.9161596568626318}. Best is trial 151 with value: 0.8502988560345169.\u001b[0m\n",
      "\u001b[32m[I 2022-04-17 07:08:04,583]\u001b[0m Trial 184 finished with value: 0.8502335431263112 and parameters: {'exp16v6AugMix1536_fold4.pbz2': 3.678704885081528, 'exp16v6AugmixB3_fold4.pbz2': 1.42349722679265, 'exp16v6AugmixB4Step2_fold4.pbz2': 1.3484939107708882, 'exp16v6AugmixB4_fold4_remove_background.pbz2': 0.9040265356712721}. Best is trial 151 with value: 0.8502988560345169.\u001b[0m\n",
      "\u001b[32m[I 2022-04-17 07:08:05,545]\u001b[0m Trial 185 finished with value: 0.850162292680996 and parameters: {'exp16v6AugMix1536_fold4.pbz2': 3.6948510753362607, 'exp16v6AugmixB3_fold4.pbz2': 1.4336953511155044, 'exp16v6AugmixB4Step2_fold4.pbz2': 1.364769184090611, 'exp16v6AugmixB4_fold4_remove_background.pbz2': 0.9164788158630662}. Best is trial 151 with value: 0.8502988560345169.\u001b[0m\n",
      "\u001b[32m[I 2022-04-17 07:08:06,507]\u001b[0m Trial 186 finished with value: 0.8500514586549499 and parameters: {'exp16v6AugMix1536_fold4.pbz2': 3.646802340934724, 'exp16v6AugmixB3_fold4.pbz2': 1.5015821199188006, 'exp16v6AugmixB4Step2_fold4.pbz2': 1.3704779061856445, 'exp16v6AugmixB4_fold4_remove_background.pbz2': 0.9142345548138077}. Best is trial 151 with value: 0.8502988560345169.\u001b[0m\n",
      "\u001b[32m[I 2022-04-17 07:08:07,469]\u001b[0m Trial 187 finished with value: 0.8502711475280054 and parameters: {'exp16v6AugMix1536_fold4.pbz2': 3.700991210902918, 'exp16v6AugmixB3_fold4.pbz2': 1.4175855434685534, 'exp16v6AugmixB4Step2_fold4.pbz2': 1.4256174283107494, 'exp16v6AugmixB4_fold4_remove_background.pbz2': 0.9237522369237867}. Best is trial 151 with value: 0.8502988560345169.\u001b[0m\n",
      "\u001b[32m[I 2022-04-17 07:08:08,430]\u001b[0m Trial 188 finished with value: 0.8501880220084709 and parameters: {'exp16v6AugMix1536_fold4.pbz2': 3.6963232204929755, 'exp16v6AugmixB3_fold4.pbz2': 1.4209159346284905, 'exp16v6AugmixB4Step2_fold4.pbz2': 1.3220294714667535, 'exp16v6AugmixB4_fold4_remove_background.pbz2': 0.9206398170385748}. Best is trial 151 with value: 0.8502988560345169.\u001b[0m\n",
      "\u001b[32m[I 2022-04-17 07:08:09,389]\u001b[0m Trial 189 finished with value: 0.8498278114238215 and parameters: {'exp16v6AugMix1536_fold4.pbz2': 3.698734856721257, 'exp16v6AugmixB3_fold4.pbz2': 1.390486732395518, 'exp16v6AugmixB4Step2_fold4.pbz2': 1.33355731368183, 'exp16v6AugmixB4_fold4_remove_background.pbz2': 0.8838369144355868}. Best is trial 151 with value: 0.8502988560345169.\u001b[0m\n",
      "\u001b[32m[I 2022-04-17 07:08:10,374]\u001b[0m Trial 190 finished with value: 0.8497110398606659 and parameters: {'exp16v6AugMix1536_fold4.pbz2': 3.6828444681763224, 'exp16v6AugmixB3_fold4.pbz2': 1.5410732770135485, 'exp16v6AugmixB4Step2_fold4.pbz2': 1.5687265967162975, 'exp16v6AugmixB4_fold4_remove_background.pbz2': 0.9405762392107305}. Best is trial 151 with value: 0.8502988560345169.\u001b[0m\n",
      "\u001b[32m[I 2022-04-17 07:08:11,334]\u001b[0m Trial 191 finished with value: 0.850162292680996 and parameters: {'exp16v6AugMix1536_fold4.pbz2': 3.788185824075478, 'exp16v6AugmixB3_fold4.pbz2': 1.441016175962304, 'exp16v6AugmixB4Step2_fold4.pbz2': 1.4140406141431874, 'exp16v6AugmixB4_fold4_remove_background.pbz2': 1.011825212905951}. Best is trial 151 with value: 0.8502988560345169.\u001b[0m\n",
      "\u001b[32m[I 2022-04-17 07:08:12,297]\u001b[0m Trial 192 finished with value: 0.8498990618691368 and parameters: {'exp16v6AugMix1536_fold4.pbz2': 3.839488739432538, 'exp16v6AugmixB3_fold4.pbz2': 1.3999797193561974, 'exp16v6AugmixB4Step2_fold4.pbz2': 1.413614268790431, 'exp16v6AugmixB4_fold4_remove_background.pbz2': 0.9352392418875147}. Best is trial 151 with value: 0.8502988560345169.\u001b[0m\n",
      "\u001b[32m[I 2022-04-17 07:08:13,258]\u001b[0m Trial 193 finished with value: 0.8501721885761786 and parameters: {'exp16v6AugMix1536_fold4.pbz2': 3.7237013171921935, 'exp16v6AugmixB3_fold4.pbz2': 1.686571460551872, 'exp16v6AugmixB4Step2_fold4.pbz2': 1.318369971231842, 'exp16v6AugmixB4_fold4_remove_background.pbz2': 1.0284162916935184}. Best is trial 151 with value: 0.8502988560345169.\u001b[0m\n",
      "\u001b[32m[I 2022-04-17 07:08:14,216]\u001b[0m Trial 194 finished with value: 0.8499683331354155 and parameters: {'exp16v6AugMix1536_fold4.pbz2': 3.7085988635103426, 'exp16v6AugmixB3_fold4.pbz2': 1.6929026329619024, 'exp16v6AugmixB4Step2_fold4.pbz2': 1.3339195962097554, 'exp16v6AugmixB4_fold4_remove_background.pbz2': 0.9860889424999867}. Best is trial 151 with value: 0.8502988560345169.\u001b[0m\n",
      "\u001b[32m[I 2022-04-17 07:08:15,174]\u001b[0m Trial 195 finished with value: 0.8503978149863436 and parameters: {'exp16v6AugMix1536_fold4.pbz2': 3.749609148813997, 'exp16v6AugmixB3_fold4.pbz2': 1.6395781914996392, 'exp16v6AugmixB4Step2_fold4.pbz2': 1.3102841113747108, 'exp16v6AugmixB4_fold4_remove_background.pbz2': 0.8596531409327473}. Best is trial 195 with value: 0.8503978149863436.\u001b[0m\n",
      "\u001b[32m[I 2022-04-17 07:08:16,135]\u001b[0m Trial 196 finished with value: 0.8497169773977754 and parameters: {'exp16v6AugMix1536_fold4.pbz2': 3.7792519976237853, 'exp16v6AugmixB3_fold4.pbz2': 1.749275622383298, 'exp16v6AugmixB4Step2_fold4.pbz2': 1.567497350482413, 'exp16v6AugmixB4_fold4_remove_background.pbz2': 0.8627989560277088}. Best is trial 195 with value: 0.8503978149863436.\u001b[0m\n",
      "\u001b[32m[I 2022-04-17 07:08:17,097]\u001b[0m Trial 197 finished with value: 0.8495606222538892 and parameters: {'exp16v6AugMix1536_fold4.pbz2': 3.676055862645233, 'exp16v6AugmixB3_fold4.pbz2': 1.6414676413622127, 'exp16v6AugmixB4Step2_fold4.pbz2': 1.3323910189245196, 'exp16v6AugmixB4_fold4_remove_background.pbz2': 0.6740315258834337}. Best is trial 195 with value: 0.8503978149863436.\u001b[0m\n"
     ]
    },
    {
     "name": "stderr",
     "output_type": "stream",
     "text": [
      "\u001b[32m[I 2022-04-17 07:08:18,057]\u001b[0m Trial 198 finished with value: 0.8502790642441515 and parameters: {'exp16v6AugMix1536_fold4.pbz2': 3.8451308880639736, 'exp16v6AugmixB3_fold4.pbz2': 1.580771511994955, 'exp16v6AugmixB4Step2_fold4.pbz2': 1.1738501533324097, 'exp16v6AugmixB4_fold4_remove_background.pbz2': 1.0529640546110852}. Best is trial 195 with value: 0.8503978149863436.\u001b[0m\n",
      "\u001b[32m[I 2022-04-17 07:08:19,019]\u001b[0m Trial 199 finished with value: 0.8503958358073072 and parameters: {'exp16v6AugMix1536_fold4.pbz2': 3.856664920265667, 'exp16v6AugmixB3_fold4.pbz2': 1.9638493948275586, 'exp16v6AugmixB4Step2_fold4.pbz2': 1.1745372090625412, 'exp16v6AugmixB4_fold4_remove_background.pbz2': 1.1225642796357709}. Best is trial 195 with value: 0.8503978149863436.\u001b[0m\n",
      "\u001b[32m[I 2022-04-17 07:08:19,975]\u001b[0m Trial 200 finished with value: 0.8505462534140839 and parameters: {'exp16v6AugMix1536_fold4.pbz2': 3.8531962403787077, 'exp16v6AugmixB3_fold4.pbz2': 1.8464843545063592, 'exp16v6AugmixB4Step2_fold4.pbz2': 1.1305250561657934, 'exp16v6AugmixB4_fold4_remove_background.pbz2': 1.106594354864968}. Best is trial 200 with value: 0.8505462534140839.\u001b[0m\n",
      "\u001b[32m[I 2022-04-17 07:08:20,937]\u001b[0m Trial 201 finished with value: 0.8503008352135535 and parameters: {'exp16v6AugMix1536_fold4.pbz2': 3.8531890655102163, 'exp16v6AugmixB3_fold4.pbz2': 1.9843408202510295, 'exp16v6AugmixB4Step2_fold4.pbz2': 1.1381576956822816, 'exp16v6AugmixB4_fold4_remove_background.pbz2': 1.0890979706634558}. Best is trial 200 with value: 0.8505462534140839.\u001b[0m\n",
      "\u001b[32m[I 2022-04-17 07:08:21,904]\u001b[0m Trial 202 finished with value: 0.8499406246289039 and parameters: {'exp16v6AugMix1536_fold4.pbz2': 3.8688672905795234, 'exp16v6AugmixB3_fold4.pbz2': 2.1417591573092216, 'exp16v6AugmixB4Step2_fold4.pbz2': 1.175455507575101, 'exp16v6AugmixB4_fold4_remove_background.pbz2': 1.1292747685210756}. Best is trial 200 with value: 0.8505462534140839.\u001b[0m\n",
      "\u001b[32m[I 2022-04-17 07:08:22,866]\u001b[0m Trial 203 finished with value: 0.850336460436211 and parameters: {'exp16v6AugMix1536_fold4.pbz2': 3.844642335532825, 'exp16v6AugmixB3_fold4.pbz2': 1.9347152840136486, 'exp16v6AugmixB4Step2_fold4.pbz2': 1.0615357349909031, 'exp16v6AugmixB4_fold4_remove_background.pbz2': 1.0861160040020468}. Best is trial 200 with value: 0.8505462534140839.\u001b[0m\n",
      "\u001b[32m[I 2022-04-17 07:08:23,825]\u001b[0m Trial 204 finished with value: 0.8504928155800974 and parameters: {'exp16v6AugMix1536_fold4.pbz2': 3.835891199586931, 'exp16v6AugmixB3_fold4.pbz2': 1.968900890907863, 'exp16v6AugmixB4Step2_fold4.pbz2': 1.105268113633869, 'exp16v6AugmixB4_fold4_remove_background.pbz2': 1.0842070536328903}. Best is trial 200 with value: 0.8505462534140839.\u001b[0m\n",
      "\u001b[32m[I 2022-04-17 07:08:24,797]\u001b[0m Trial 205 finished with value: 0.8504651070735859 and parameters: {'exp16v6AugMix1536_fold4.pbz2': 3.8670740463689617, 'exp16v6AugmixB3_fold4.pbz2': 1.9729706697801377, 'exp16v6AugmixB4Step2_fold4.pbz2': 1.092614654004775, 'exp16v6AugmixB4_fold4_remove_background.pbz2': 1.1163470969251725}. Best is trial 200 with value: 0.8505462534140839.\u001b[0m\n",
      "\u001b[32m[I 2022-04-17 07:08:25,754]\u001b[0m Trial 206 finished with value: 0.8503641689427226 and parameters: {'exp16v6AugMix1536_fold4.pbz2': 3.8290415915858524, 'exp16v6AugmixB3_fold4.pbz2': 1.9926475117550166, 'exp16v6AugmixB4Step2_fold4.pbz2': 1.0840975328413096, 'exp16v6AugmixB4_fold4_remove_background.pbz2': 1.1288795649909154}. Best is trial 200 with value: 0.8505462534140839.\u001b[0m\n",
      "\u001b[32m[I 2022-04-17 07:08:26,713]\u001b[0m Trial 207 finished with value: 0.8504552111784032 and parameters: {'exp16v6AugMix1536_fold4.pbz2': 3.8593058958543978, 'exp16v6AugmixB3_fold4.pbz2': 1.9868023232642673, 'exp16v6AugmixB4Step2_fold4.pbz2': 1.1125439193224191, 'exp16v6AugmixB4_fold4_remove_background.pbz2': 1.0970594805430387}. Best is trial 200 with value: 0.8505462534140839.\u001b[0m\n",
      "\u001b[32m[I 2022-04-17 07:08:27,676]\u001b[0m Trial 208 finished with value: 0.8503859399121244 and parameters: {'exp16v6AugMix1536_fold4.pbz2': 3.8336554541289956, 'exp16v6AugmixB3_fold4.pbz2': 1.9688566071060276, 'exp16v6AugmixB4Step2_fold4.pbz2': 1.0701678986882266, 'exp16v6AugmixB4_fold4_remove_background.pbz2': 1.081168171048558}. Best is trial 200 with value: 0.8505462534140839.\u001b[0m\n",
      "\u001b[32m[I 2022-04-17 07:08:28,637]\u001b[0m Trial 209 finished with value: 0.850524482444682 and parameters: {'exp16v6AugMix1536_fold4.pbz2': 3.849564838371643, 'exp16v6AugmixB3_fold4.pbz2': 1.960260813983855, 'exp16v6AugmixB4Step2_fold4.pbz2': 1.1207658481202387, 'exp16v6AugmixB4_fold4_remove_background.pbz2': 1.0859340013661936}. Best is trial 200 with value: 0.8505462534140839.\u001b[0m\n",
      "\u001b[32m[I 2022-04-17 07:08:29,593]\u001b[0m Trial 210 finished with value: 0.850494794759134 and parameters: {'exp16v6AugMix1536_fold4.pbz2': 3.854902628923398, 'exp16v6AugmixB3_fold4.pbz2': 1.9583132690286704, 'exp16v6AugmixB4Step2_fold4.pbz2': 1.0916926755466365, 'exp16v6AugmixB4_fold4_remove_background.pbz2': 1.0848717596694155}. Best is trial 200 with value: 0.8505462534140839.\u001b[0m\n",
      "\u001b[32m[I 2022-04-17 07:08:30,575]\u001b[0m Trial 211 finished with value: 0.8503384396152476 and parameters: {'exp16v6AugMix1536_fold4.pbz2': 3.8378067223683097, 'exp16v6AugmixB3_fold4.pbz2': 1.9562329556618994, 'exp16v6AugmixB4Step2_fold4.pbz2': 1.05431731196521, 'exp16v6AugmixB4_fold4_remove_background.pbz2': 1.0774600120068658}. Best is trial 200 with value: 0.8505462534140839.\u001b[0m\n",
      "\u001b[32m[I 2022-04-17 07:08:31,532]\u001b[0m Trial 212 finished with value: 0.8503800023750149 and parameters: {'exp16v6AugMix1536_fold4.pbz2': 3.8488292855175485, 'exp16v6AugmixB3_fold4.pbz2': 1.9799448314017776, 'exp16v6AugmixB4Step2_fold4.pbz2': 1.0818365259525362, 'exp16v6AugmixB4_fold4_remove_background.pbz2': 1.0761622156428647}. Best is trial 200 with value: 0.8505462534140839.\u001b[0m\n",
      "\u001b[32m[I 2022-04-17 07:08:32,493]\u001b[0m Trial 213 finished with value: 0.8503463563313938 and parameters: {'exp16v6AugMix1536_fold4.pbz2': 3.8489606777683862, 'exp16v6AugmixB3_fold4.pbz2': 2.0145707291632613, 'exp16v6AugmixB4Step2_fold4.pbz2': 1.0900116785355705, 'exp16v6AugmixB4_fold4_remove_background.pbz2': 1.0866075795336347}. Best is trial 200 with value: 0.8505462534140839.\u001b[0m\n",
      "\u001b[32m[I 2022-04-17 07:08:33,460]\u001b[0m Trial 214 finished with value: 0.8504037525234531 and parameters: {'exp16v6AugMix1536_fold4.pbz2': 3.8440903520658205, 'exp16v6AugmixB3_fold4.pbz2': 1.9766489231211948, 'exp16v6AugmixB4Step2_fold4.pbz2': 1.087518230130212, 'exp16v6AugmixB4_fold4_remove_background.pbz2': 1.0907163959531188}. Best is trial 200 with value: 0.8505462534140839.\u001b[0m\n",
      "\u001b[32m[I 2022-04-17 07:08:34,425]\u001b[0m Trial 215 finished with value: 0.8504453152832205 and parameters: {'exp16v6AugMix1536_fold4.pbz2': 3.8547313909599756, 'exp16v6AugmixB3_fold4.pbz2': 1.9635829215184226, 'exp16v6AugmixB4Step2_fold4.pbz2': 1.06633194197413, 'exp16v6AugmixB4_fold4_remove_background.pbz2': 1.120629475719138}. Best is trial 200 with value: 0.8505462534140839.\u001b[0m\n",
      "\u001b[32m[I 2022-04-17 07:08:35,384]\u001b[0m Trial 216 finished with value: 0.8504354193880378 and parameters: {'exp16v6AugMix1536_fold4.pbz2': 3.856034176579716, 'exp16v6AugmixB3_fold4.pbz2': 1.9748265577253985, 'exp16v6AugmixB4Step2_fold4.pbz2': 1.0611837237838613, 'exp16v6AugmixB4_fold4_remove_background.pbz2': 1.1085091788084322}. Best is trial 200 with value: 0.8505462534140839.\u001b[0m\n",
      "\u001b[32m[I 2022-04-17 07:08:36,346]\u001b[0m Trial 217 finished with value: 0.8501603135019594 and parameters: {'exp16v6AugMix1536_fold4.pbz2': 3.8516090924405697, 'exp16v6AugmixB3_fold4.pbz2': 1.9564684733204996, 'exp16v6AugmixB4Step2_fold4.pbz2': 0.9584525265490866, 'exp16v6AugmixB4_fold4_remove_background.pbz2': 1.095987178448302}. Best is trial 200 with value: 0.8505462534140839.\u001b[0m\n",
      "\u001b[32m[I 2022-04-17 07:08:37,308]\u001b[0m Trial 218 finished with value: 0.8502493765586034 and parameters: {'exp16v6AugMix1536_fold4.pbz2': 3.8518384281628633, 'exp16v6AugmixB3_fold4.pbz2': 2.0716880555919874, 'exp16v6AugmixB4Step2_fold4.pbz2': 1.0298770144462022, 'exp16v6AugmixB4_fold4_remove_background.pbz2': 1.1399863288209937}. Best is trial 200 with value: 0.8505462534140839.\u001b[0m\n",
      "\u001b[32m[I 2022-04-17 07:08:38,272]\u001b[0m Trial 219 finished with value: 0.8492795788307009 and parameters: {'exp16v6AugMix1536_fold4.pbz2': 3.8361641304950114, 'exp16v6AugmixB3_fold4.pbz2': 2.1972863463416914, 'exp16v6AugmixB4Step2_fold4.pbz2': 1.0953297162215843, 'exp16v6AugmixB4_fold4_remove_background.pbz2': 1.1061903258693462}. Best is trial 200 with value: 0.8505462534140839.\u001b[0m\n"
     ]
    },
    {
     "name": "stderr",
     "output_type": "stream",
     "text": [
      "\u001b[32m[I 2022-04-17 07:08:39,232]\u001b[0m Trial 220 finished with value: 0.8499782290305983 and parameters: {'exp16v6AugMix1536_fold4.pbz2': 3.8651813067113334, 'exp16v6AugmixB3_fold4.pbz2': 1.9906004995383333, 'exp16v6AugmixB4Step2_fold4.pbz2': 0.8983003573871406, 'exp16v6AugmixB4_fold4_remove_background.pbz2': 1.071088214960444}. Best is trial 200 with value: 0.8505462534140839.\u001b[0m\n",
      "\u001b[32m[I 2022-04-17 07:08:40,192]\u001b[0m Trial 221 finished with value: 0.8500376044016942 and parameters: {'exp16v6AugMix1536_fold4.pbz2': 3.780370187491715, 'exp16v6AugmixB3_fold4.pbz2': 1.9113270421195927, 'exp16v6AugmixB4Step2_fold4.pbz2': 1.049622243624612, 'exp16v6AugmixB4_fold4_remove_background.pbz2': 0.9749277019840094}. Best is trial 200 with value: 0.8505462534140839.\u001b[0m\n",
      "\u001b[32m[I 2022-04-17 07:08:41,185]\u001b[0m Trial 222 finished with value: 0.8502177096940189 and parameters: {'exp16v6AugMix1536_fold4.pbz2': 3.872105860177364, 'exp16v6AugmixB3_fold4.pbz2': 2.0373114390172358, 'exp16v6AugmixB4Step2_fold4.pbz2': 1.1139875771734888, 'exp16v6AugmixB4_fold4_remove_background.pbz2': 1.1427073720132106}. Best is trial 200 with value: 0.8505462534140839.\u001b[0m\n",
      "\u001b[32m[I 2022-04-17 07:08:42,162]\u001b[0m Trial 223 finished with value: 0.8496952064283736 and parameters: {'exp16v6AugMix1536_fold4.pbz2': 3.795244849106001, 'exp16v6AugmixB3_fold4.pbz2': 2.134618325387734, 'exp16v6AugmixB4Step2_fold4.pbz2': 0.9801370290407959, 'exp16v6AugmixB4_fold4_remove_background.pbz2': 1.0707807189112888}. Best is trial 200 with value: 0.8505462534140839.\u001b[0m\n",
      "\u001b[32m[I 2022-04-17 07:08:43,126]\u001b[0m Trial 224 finished with value: 0.8500633337291692 and parameters: {'exp16v6AugMix1536_fold4.pbz2': 3.868225294527952, 'exp16v6AugmixB3_fold4.pbz2': 1.9464477081413043, 'exp16v6AugmixB4Step2_fold4.pbz2': 1.079499084522792, 'exp16v6AugmixB4_fold4_remove_background.pbz2': 0.9682498823206}. Best is trial 200 with value: 0.8505462534140839.\u001b[0m\n",
      "\u001b[32m[I 2022-04-17 07:08:44,091]\u001b[0m Trial 225 finished with value: 0.8488718679491747 and parameters: {'exp16v6AugMix1536_fold4.pbz2': 3.783778496167169, 'exp16v6AugmixB3_fold4.pbz2': 2.33515591050037, 'exp16v6AugmixB4Step2_fold4.pbz2': 1.148543069201546, 'exp16v6AugmixB4_fold4_remove_background.pbz2': 1.1673049132233166}. Best is trial 200 with value: 0.8505462534140839.\u001b[0m\n",
      "\u001b[32m[I 2022-04-17 07:08:45,053]\u001b[0m Trial 226 finished with value: 0.8495032260618296 and parameters: {'exp16v6AugMix1536_fold4.pbz2': 3.8873883089192174, 'exp16v6AugmixB3_fold4.pbz2': 1.9034232630157557, 'exp16v6AugmixB4Step2_fold4.pbz2': 0.9824894674112677, 'exp16v6AugmixB4_fold4_remove_background.pbz2': 0.8517808686487539}. Best is trial 200 with value: 0.8505462534140839.\u001b[0m\n",
      "\u001b[32m[I 2022-04-17 07:08:46,015]\u001b[0m Trial 227 finished with value: 0.8379527372046076 and parameters: {'exp16v6AugMix1536_fold4.pbz2': 1.6332482758245748, 'exp16v6AugmixB3_fold4.pbz2': 2.026749848094956, 'exp16v6AugmixB4Step2_fold4.pbz2': 0.8080012666391594, 'exp16v6AugmixB4_fold4_remove_background.pbz2': 1.0483378382462814}. Best is trial 200 with value: 0.8505462534140839.\u001b[0m\n",
      "\u001b[32m[I 2022-04-17 07:08:46,977]\u001b[0m Trial 228 finished with value: 0.8503582314056128 and parameters: {'exp16v6AugMix1536_fold4.pbz2': 3.801832335813969, 'exp16v6AugmixB3_fold4.pbz2': 1.8432966204831187, 'exp16v6AugmixB4Step2_fold4.pbz2': 1.1486256055627893, 'exp16v6AugmixB4_fold4_remove_background.pbz2': 1.1456871468987835}. Best is trial 200 with value: 0.8505462534140839.\u001b[0m\n",
      "\u001b[32m[I 2022-04-17 07:08:47,940]\u001b[0m Trial 229 finished with value: 0.8502177096940189 and parameters: {'exp16v6AugMix1536_fold4.pbz2': 3.778115669474649, 'exp16v6AugmixB3_fold4.pbz2': 1.8475573486492596, 'exp16v6AugmixB4Step2_fold4.pbz2': 1.1468821004606746, 'exp16v6AugmixB4_fold4_remove_background.pbz2': 1.147111993024373}. Best is trial 200 with value: 0.8505462534140839.\u001b[0m\n",
      "\u001b[32m[I 2022-04-17 07:08:48,917]\u001b[0m Trial 230 finished with value: 0.8496298935201678 and parameters: {'exp16v6AugMix1536_fold4.pbz2': 3.8943729092434736, 'exp16v6AugmixB3_fold4.pbz2': 2.1978970510630496, 'exp16v6AugmixB4Step2_fold4.pbz2': 1.0535192321158893, 'exp16v6AugmixB4_fold4_remove_background.pbz2': 1.120815625257178}. Best is trial 200 with value: 0.8505462534140839.\u001b[0m\n",
      "\u001b[32m[I 2022-04-17 07:08:49,879]\u001b[0m Trial 231 finished with value: 0.8501484384277401 and parameters: {'exp16v6AugMix1536_fold4.pbz2': 3.810216319043319, 'exp16v6AugmixB3_fold4.pbz2': 1.9985936926899048, 'exp16v6AugmixB4Step2_fold4.pbz2': 1.144922346238164, 'exp16v6AugmixB4_fold4_remove_background.pbz2': 0.9796106410792927}. Best is trial 200 with value: 0.8505462534140839.\u001b[0m\n",
      "\u001b[32m[I 2022-04-17 07:08:50,838]\u001b[0m Trial 232 finished with value: 0.8500593753710961 and parameters: {'exp16v6AugMix1536_fold4.pbz2': 3.884056731109273, 'exp16v6AugmixB3_fold4.pbz2': 2.1127663185011434, 'exp16v6AugmixB4Step2_fold4.pbz2': 0.9382987509577427, 'exp16v6AugmixB4_fold4_remove_background.pbz2': 1.0832499091537846}. Best is trial 200 with value: 0.8505462534140839.\u001b[0m\n",
      "\u001b[32m[I 2022-04-17 07:08:51,835]\u001b[0m Trial 233 finished with value: 0.8500930214147172 and parameters: {'exp16v6AugMix1536_fold4.pbz2': 3.773590540315837, 'exp16v6AugmixB3_fold4.pbz2': 1.8541021313234494, 'exp16v6AugmixB4Step2_fold4.pbz2': 1.0219914770137295, 'exp16v6AugmixB4_fold4_remove_background.pbz2': 1.0188951356217975}. Best is trial 200 with value: 0.8505462534140839.\u001b[0m\n",
      "\u001b[32m[I 2022-04-17 07:08:52,794]\u001b[0m Trial 234 finished with value: 0.8502177096940189 and parameters: {'exp16v6AugMix1536_fold4.pbz2': 3.842957104612918, 'exp16v6AugmixB3_fold4.pbz2': 1.9475036067560338, 'exp16v6AugmixB4Step2_fold4.pbz2': 1.1693075371137676, 'exp16v6AugmixB4_fold4_remove_background.pbz2': 1.18087437451229}. Best is trial 200 with value: 0.8505462534140839.\u001b[0m\n",
      "\u001b[32m[I 2022-04-17 07:08:53,754]\u001b[0m Trial 235 finished with value: 0.8498179155286387 and parameters: {'exp16v6AugMix1536_fold4.pbz2': 3.894987856249572, 'exp16v6AugmixB3_fold4.pbz2': 2.0739528289605076, 'exp16v6AugmixB4Step2_fold4.pbz2': 1.0786542565886603, 'exp16v6AugmixB4_fold4_remove_background.pbz2': 0.9457103905834616}. Best is trial 200 with value: 0.8505462534140839.\u001b[0m\n",
      "\u001b[32m[I 2022-04-17 07:08:54,711]\u001b[0m Trial 236 finished with value: 0.8500059375371096 and parameters: {'exp16v6AugMix1536_fold4.pbz2': 3.7651338736330957, 'exp16v6AugmixB3_fold4.pbz2': 1.9712251947690065, 'exp16v6AugmixB4Step2_fold4.pbz2': 1.167893563799533, 'exp16v6AugmixB4_fold4_remove_background.pbz2': 1.0909047279602648}. Best is trial 200 with value: 0.8505462534140839.\u001b[0m\n",
      "\u001b[32m[I 2022-04-17 07:08:55,693]\u001b[0m Trial 237 finished with value: 0.843474646716542 and parameters: {'exp16v6AugMix1536_fold4.pbz2': 3.932905872306585, 'exp16v6AugmixB3_fold4.pbz2': 1.8477332501787114, 'exp16v6AugmixB4Step2_fold4.pbz2': 0.8542330372010495, 'exp16v6AugmixB4_fold4_remove_background.pbz2': 3.8087656912057417}. Best is trial 200 with value: 0.8505462534140839.\u001b[0m\n",
      "\u001b[32m[I 2022-04-17 07:08:56,655]\u001b[0m Trial 238 finished with value: 0.8498099988124925 and parameters: {'exp16v6AugMix1536_fold4.pbz2': 3.8194452482413035, 'exp16v6AugmixB3_fold4.pbz2': 1.9160737727019113, 'exp16v6AugmixB4Step2_fold4.pbz2': 1.0194933103189783, 'exp16v6AugmixB4_fold4_remove_background.pbz2': 0.8048075927746442}. Best is trial 200 with value: 0.8505462534140839.\u001b[0m\n",
      "\u001b[32m[I 2022-04-17 07:08:57,614]\u001b[0m Trial 239 finished with value: 0.8497526026204331 and parameters: {'exp16v6AugMix1536_fold4.pbz2': 3.7584490194990687, 'exp16v6AugmixB3_fold4.pbz2': 2.0680239170674666, 'exp16v6AugmixB4Step2_fold4.pbz2': 1.0927371192906465, 'exp16v6AugmixB4_fold4_remove_background.pbz2': 1.1643227014539907}. Best is trial 200 with value: 0.8505462534140839.\u001b[0m\n",
      "\u001b[32m[I 2022-04-17 07:08:58,575]\u001b[0m Trial 240 finished with value: 0.850306772750663 and parameters: {'exp16v6AugMix1536_fold4.pbz2': 3.9192622734916474, 'exp16v6AugmixB3_fold4.pbz2': 1.9970795681690185, 'exp16v6AugmixB4Step2_fold4.pbz2': 1.2049929594222053, 'exp16v6AugmixB4_fold4_remove_background.pbz2': 1.0263108842342816}. Best is trial 200 with value: 0.8505462534140839.\u001b[0m\n",
      "\u001b[32m[I 2022-04-17 07:08:59,543]\u001b[0m Trial 241 finished with value: 0.8503087519296996 and parameters: {'exp16v6AugMix1536_fold4.pbz2': 3.902590206521995, 'exp16v6AugmixB3_fold4.pbz2': 1.9933016294202541, 'exp16v6AugmixB4Step2_fold4.pbz2': 1.2048930403329892, 'exp16v6AugmixB4_fold4_remove_background.pbz2': 1.0374883551014504}. Best is trial 200 with value: 0.8505462534140839.\u001b[0m\n"
     ]
    },
    {
     "name": "stderr",
     "output_type": "stream",
     "text": [
      "\u001b[32m[I 2022-04-17 07:09:00,504]\u001b[0m Trial 242 finished with value: 0.8503661481217591 and parameters: {'exp16v6AugMix1536_fold4.pbz2': 3.915458163945765, 'exp16v6AugmixB3_fold4.pbz2': 1.9973175817048612, 'exp16v6AugmixB4Step2_fold4.pbz2': 1.2057823439968185, 'exp16v6AugmixB4_fold4_remove_background.pbz2': 1.0297005754165631}. Best is trial 200 with value: 0.8505462534140839.\u001b[0m\n",
      "\u001b[32m[I 2022-04-17 07:09:01,467]\u001b[0m Trial 243 finished with value: 0.8503582314056128 and parameters: {'exp16v6AugMix1536_fold4.pbz2': 3.9291264926794067, 'exp16v6AugmixB3_fold4.pbz2': 2.0177462220060383, 'exp16v6AugmixB4Step2_fold4.pbz2': 1.1907722222409827, 'exp16v6AugmixB4_fold4_remove_background.pbz2': 1.0345046209218167}. Best is trial 200 with value: 0.8505462534140839.\u001b[0m\n",
      "\u001b[32m[I 2022-04-17 07:09:02,466]\u001b[0m Trial 244 finished with value: 0.8492558286822626 and parameters: {'exp16v6AugMix1536_fold4.pbz2': 3.9280344766417223, 'exp16v6AugmixB3_fold4.pbz2': 2.2490487357076603, 'exp16v6AugmixB4Step2_fold4.pbz2': 1.2001290761428924, 'exp16v6AugmixB4_fold4_remove_background.pbz2': 1.0322985328133352}. Best is trial 200 with value: 0.8505462534140839.\u001b[0m\n",
      "\u001b[32m[I 2022-04-17 07:09:03,431]\u001b[0m Trial 245 finished with value: 0.8502968768554803 and parameters: {'exp16v6AugMix1536_fold4.pbz2': 3.904741754876881, 'exp16v6AugmixB3_fold4.pbz2': 1.9935768690941063, 'exp16v6AugmixB4Step2_fold4.pbz2': 1.0961484597366076, 'exp16v6AugmixB4_fold4_remove_background.pbz2': 1.0680369026326102}. Best is trial 200 with value: 0.8505462534140839.\u001b[0m\n",
      "\u001b[32m[I 2022-04-17 07:09:04,395]\u001b[0m Trial 246 finished with value: 0.8332561453509085 and parameters: {'exp16v6AugMix1536_fold4.pbz2': 1.1378998888448293, 'exp16v6AugmixB3_fold4.pbz2': 1.9964387991223667, 'exp16v6AugmixB4Step2_fold4.pbz2': 0.934924322742545, 'exp16v6AugmixB4_fold4_remove_background.pbz2': 1.1160820483066969}. Best is trial 200 with value: 0.8505462534140839.\u001b[0m\n",
      "\u001b[32m[I 2022-04-17 07:09:05,358]\u001b[0m Trial 247 finished with value: 0.8497803111269445 and parameters: {'exp16v6AugMix1536_fold4.pbz2': 3.929685281463155, 'exp16v6AugmixB3_fold4.pbz2': 2.1659581014657463, 'exp16v6AugmixB4Step2_fold4.pbz2': 1.080701775948389, 'exp16v6AugmixB4_fold4_remove_background.pbz2': 1.0244507712505098}. Best is trial 200 with value: 0.8505462534140839.\u001b[0m\n",
      "\u001b[32m[I 2022-04-17 07:09:06,321]\u001b[0m Trial 248 finished with value: 0.8503859399121244 and parameters: {'exp16v6AugMix1536_fold4.pbz2': 3.9279793262534595, 'exp16v6AugmixB3_fold4.pbz2': 2.0428536293388393, 'exp16v6AugmixB4Step2_fold4.pbz2': 0.9989804643661718, 'exp16v6AugmixB4_fold4_remove_background.pbz2': 1.1722312547760274}. Best is trial 200 with value: 0.8505462534140839.\u001b[0m\n",
      "\u001b[32m[I 2022-04-17 07:09:07,284]\u001b[0m Trial 249 finished with value: 0.8504096900605629 and parameters: {'exp16v6AugMix1536_fold4.pbz2': 3.924650512381403, 'exp16v6AugmixB3_fold4.pbz2': 2.0771028973156085, 'exp16v6AugmixB4Step2_fold4.pbz2': 0.9965403110901856, 'exp16v6AugmixB4_fold4_remove_background.pbz2': 1.1803093370495237}. Best is trial 200 with value: 0.8505462534140839.\u001b[0m\n",
      "\u001b[32m[I 2022-04-17 07:09:08,248]\u001b[0m Trial 250 finished with value: 0.8503226061829554 and parameters: {'exp16v6AugMix1536_fold4.pbz2': 3.9136103326124125, 'exp16v6AugmixB3_fold4.pbz2': 2.088904800401859, 'exp16v6AugmixB4Step2_fold4.pbz2': 0.9730197357812673, 'exp16v6AugmixB4_fold4_remove_background.pbz2': 1.169214957184602}. Best is trial 200 with value: 0.8505462534140839.\u001b[0m\n",
      "\u001b[32m[I 2022-04-17 07:09:09,212]\u001b[0m Trial 251 finished with value: 0.8501998970826901 and parameters: {'exp16v6AugMix1536_fold4.pbz2': 3.9231357123705988, 'exp16v6AugmixB3_fold4.pbz2': 2.0767562144883387, 'exp16v6AugmixB4Step2_fold4.pbz2': 0.9080337891441637, 'exp16v6AugmixB4_fold4_remove_background.pbz2': 1.1866635130022538}. Best is trial 200 with value: 0.8505462534140839.\u001b[0m\n",
      "\u001b[32m[I 2022-04-17 07:09:10,174]\u001b[0m Trial 252 finished with value: 0.8504631278945494 and parameters: {'exp16v6AugMix1536_fold4.pbz2': 3.928420531106823, 'exp16v6AugmixB3_fold4.pbz2': 1.8716724562803364, 'exp16v6AugmixB4Step2_fold4.pbz2': 0.9995529887066685, 'exp16v6AugmixB4_fold4_remove_background.pbz2': 1.1692174017157753}. Best is trial 200 with value: 0.8505462534140839.\u001b[0m\n",
      "\u001b[32m[I 2022-04-17 07:09:11,141]\u001b[0m Trial 253 finished with value: 0.8497822903059812 and parameters: {'exp16v6AugMix1536_fold4.pbz2': 3.8155096679502183, 'exp16v6AugmixB3_fold4.pbz2': 1.8751718737635803, 'exp16v6AugmixB4Step2_fold4.pbz2': 0.6746510786065933, 'exp16v6AugmixB4_fold4_remove_background.pbz2': 1.1572873930170613}. Best is trial 200 with value: 0.8505462534140839.\u001b[0m\n",
      "\u001b[32m[I 2022-04-17 07:09:12,107]\u001b[0m Trial 254 finished with value: 0.850324585361992 and parameters: {'exp16v6AugMix1536_fold4.pbz2': 3.9455765612388713, 'exp16v6AugmixB3_fold4.pbz2': 1.8180056557521853, 'exp16v6AugmixB4Step2_fold4.pbz2': 1.0022474160615675, 'exp16v6AugmixB4_fold4_remove_background.pbz2': 1.1867281303869373}. Best is trial 200 with value: 0.8505462534140839.\u001b[0m\n",
      "\u001b[32m[I 2022-04-17 07:09:13,105]\u001b[0m Trial 255 finished with value: 0.8503542730475399 and parameters: {'exp16v6AugMix1536_fold4.pbz2': 3.9704716180222452, 'exp16v6AugmixB3_fold4.pbz2': 1.834376244045849, 'exp16v6AugmixB4Step2_fold4.pbz2': 1.0024160522353796, 'exp16v6AugmixB4_fold4_remove_background.pbz2': 1.2002890268278026}. Best is trial 200 with value: 0.8505462534140839.\u001b[0m\n",
      "\u001b[32m[I 2022-04-17 07:09:14,068]\u001b[0m Trial 256 finished with value: 0.8499604164192692 and parameters: {'exp16v6AugMix1536_fold4.pbz2': 3.9700937777652547, 'exp16v6AugmixB3_fold4.pbz2': 1.8069664830443601, 'exp16v6AugmixB4Step2_fold4.pbz2': 0.8512060366591221, 'exp16v6AugmixB4_fold4_remove_background.pbz2': 1.2034864788325634}. Best is trial 200 with value: 0.8505462534140839.\u001b[0m\n",
      "\u001b[32m[I 2022-04-17 07:09:15,033]\u001b[0m Trial 257 finished with value: 0.8461821636385226 and parameters: {'exp16v6AugMix1536_fold4.pbz2': 3.9926874505174976, 'exp16v6AugmixB3_fold4.pbz2': 1.9090313253720153, 'exp16v6AugmixB4Step2_fold4.pbz2': 1.0116441661327173, 'exp16v6AugmixB4_fold4_remove_background.pbz2': 3.1970015167067807}. Best is trial 200 with value: 0.8505462534140839.\u001b[0m\n",
      "\u001b[32m[I 2022-04-17 07:09:16,122]\u001b[0m Trial 258 finished with value: 0.850358231405613 and parameters: {'exp16v6AugMix1536_fold4.pbz2': 3.8115853770277406, 'exp16v6AugmixB3_fold4.pbz2': 1.8778250898677562, 'exp16v6AugmixB4Step2_fold4.pbz2': 1.0227820463724098, 'exp16v6AugmixB4_fold4_remove_background.pbz2': 1.1836404678125645}. Best is trial 200 with value: 0.8505462534140839.\u001b[0m\n",
      "\u001b[32m[I 2022-04-17 07:09:17,087]\u001b[0m Trial 259 finished with value: 0.8486897834778133 and parameters: {'exp16v6AugMix1536_fold4.pbz2': 3.778665620437526, 'exp16v6AugmixB3_fold4.pbz2': 1.8932175913115359, 'exp16v6AugmixB4Step2_fold4.pbz2': 0.9359883809855516, 'exp16v6AugmixB4_fold4_remove_background.pbz2': 2.3528209030775242}. Best is trial 200 with value: 0.8505462534140839.\u001b[0m\n",
      "\u001b[32m[I 2022-04-17 07:09:18,080]\u001b[0m Trial 260 finished with value: 0.8498357281399674 and parameters: {'exp16v6AugMix1536_fold4.pbz2': 3.8302572287868024, 'exp16v6AugmixB3_fold4.pbz2': 2.1251271127379434, 'exp16v6AugmixB4Step2_fold4.pbz2': 1.0423162839885063, 'exp16v6AugmixB4_fold4_remove_background.pbz2': 1.1132140575186642}. Best is trial 200 with value: 0.8505462534140839.\u001b[0m\n",
      "\u001b[32m[I 2022-04-17 07:09:19,064]\u001b[0m Trial 261 finished with value: 0.8503265645410284 and parameters: {'exp16v6AugMix1536_fold4.pbz2': 3.7836492392161736, 'exp16v6AugmixB3_fold4.pbz2': 1.8106566972449585, 'exp16v6AugmixB4Step2_fold4.pbz2': 1.0855388495575458, 'exp16v6AugmixB4_fold4_remove_background.pbz2': 1.205738788921701}. Best is trial 200 with value: 0.8505462534140839.\u001b[0m\n",
      "\u001b[32m[I 2022-04-17 07:09:20,029]\u001b[0m Trial 262 finished with value: 0.8496219768040217 and parameters: {'exp16v6AugMix1536_fold4.pbz2': 3.8565038500471887, 'exp16v6AugmixB3_fold4.pbz2': 1.9206412269474367, 'exp16v6AugmixB4Step2_fold4.pbz2': 0.8920416667725786, 'exp16v6AugmixB4_fold4_remove_background.pbz2': 0.9714627114739667}. Best is trial 200 with value: 0.8505462534140839.\u001b[0m\n",
      "\u001b[32m[I 2022-04-17 07:09:21,002]\u001b[0m Trial 263 finished with value: 0.8498871867949174 and parameters: {'exp16v6AugMix1536_fold4.pbz2': 3.7483505379539905, 'exp16v6AugmixB3_fold4.pbz2': 2.0404193219683444, 'exp16v6AugmixB4Step2_fold4.pbz2': 0.9898280979458581, 'exp16v6AugmixB4_fold4_remove_background.pbz2': 1.1091924385176215}. Best is trial 200 with value: 0.8505462534140839.\u001b[0m\n"
     ]
    },
    {
     "name": "stderr",
     "output_type": "stream",
     "text": [
      "\u001b[32m[I 2022-04-17 07:09:21,968]\u001b[0m Trial 264 finished with value: 0.8505106281914263 and parameters: {'exp16v6AugMix1536_fold4.pbz2': 3.8277342798561698, 'exp16v6AugmixB3_fold4.pbz2': 1.9421986344963793, 'exp16v6AugmixB4Step2_fold4.pbz2': 1.0510625303611574, 'exp16v6AugmixB4_fold4_remove_background.pbz2': 1.1845034097613663}. Best is trial 200 with value: 0.8505462534140839.\u001b[0m\n",
      "\u001b[32m[I 2022-04-17 07:09:22,946]\u001b[0m Trial 265 finished with value: 0.849168744804655 and parameters: {'exp16v6AugMix1536_fold4.pbz2': 3.7608757516070277, 'exp16v6AugmixB3_fold4.pbz2': 2.231937086536539, 'exp16v6AugmixB4Step2_fold4.pbz2': 1.0992421824484384, 'exp16v6AugmixB4_fold4_remove_background.pbz2': 1.2032209054081497}. Best is trial 200 with value: 0.8505462534140839.\u001b[0m\n",
      "\u001b[32m[I 2022-04-17 07:09:23,910]\u001b[0m Trial 266 finished with value: 0.8462692475161303 and parameters: {'exp16v6AugMix1536_fold4.pbz2': 2.5395368002994627, 'exp16v6AugmixB3_fold4.pbz2': 1.8538536930889564, 'exp16v6AugmixB4Step2_fold4.pbz2': 0.7501304781078795, 'exp16v6AugmixB4_fold4_remove_background.pbz2': 1.1933414840083512}. Best is trial 200 with value: 0.8505462534140839.\u001b[0m\n",
      "\u001b[32m[I 2022-04-17 07:09:24,879]\u001b[0m Trial 267 finished with value: 0.8499267703756482 and parameters: {'exp16v6AugMix1536_fold4.pbz2': 3.99859644345673, 'exp16v6AugmixB3_fold4.pbz2': 2.1354212603909435, 'exp16v6AugmixB4Step2_fold4.pbz2': 0.949845894411374, 'exp16v6AugmixB4_fold4_remove_background.pbz2': 0.9792171233487601}. Best is trial 200 with value: 0.8505462534140839.\u001b[0m\n",
      "\u001b[32m[I 2022-04-17 07:09:25,846]\u001b[0m Trial 268 finished with value: 0.8499762498515616 and parameters: {'exp16v6AugMix1536_fold4.pbz2': 3.8601363699425177, 'exp16v6AugmixB3_fold4.pbz2': 2.0418561036061815, 'exp16v6AugmixB4Step2_fold4.pbz2': 0.8441853178813746, 'exp16v6AugmixB4_fold4_remove_background.pbz2': 1.1323517528828144}. Best is trial 200 with value: 0.8505462534140839.\u001b[0m\n",
      "\u001b[32m[I 2022-04-17 07:09:26,810]\u001b[0m Trial 269 finished with value: 0.8500930214147172 and parameters: {'exp16v6AugMix1536_fold4.pbz2': 3.724596448394151, 'exp16v6AugmixB3_fold4.pbz2': 1.777103780863662, 'exp16v6AugmixB4Step2_fold4.pbz2': 1.1346923831289297, 'exp16v6AugmixB4_fold4_remove_background.pbz2': 1.3149194378704605}. Best is trial 200 with value: 0.8505462534140839.\u001b[0m\n",
      "\u001b[32m[I 2022-04-17 07:09:27,775]\u001b[0m Trial 270 finished with value: 0.8503404187942841 and parameters: {'exp16v6AugMix1536_fold4.pbz2': 3.9030557199643625, 'exp16v6AugmixB3_fold4.pbz2': 1.9351771280940797, 'exp16v6AugmixB4Step2_fold4.pbz2': 0.983203226961942, 'exp16v6AugmixB4_fold4_remove_background.pbz2': 1.225336103304105}. Best is trial 200 with value: 0.8505462534140839.\u001b[0m\n",
      "\u001b[32m[I 2022-04-17 07:09:28,739]\u001b[0m Trial 271 finished with value: 0.8504947947591339 and parameters: {'exp16v6AugMix1536_fold4.pbz2': 3.924875805915169, 'exp16v6AugmixB3_fold4.pbz2': 1.8784219593285862, 'exp16v6AugmixB4Step2_fold4.pbz2': 0.9853567170882725, 'exp16v6AugmixB4_fold4_remove_background.pbz2': 1.2211035009087396}. Best is trial 200 with value: 0.8505462534140839.\u001b[0m\n",
      "\u001b[32m[I 2022-04-17 07:09:29,701]\u001b[0m Trial 272 finished with value: 0.85035427304754 and parameters: {'exp16v6AugMix1536_fold4.pbz2': 3.9325536465231385, 'exp16v6AugmixB3_fold4.pbz2': 1.8693029303921405, 'exp16v6AugmixB4Step2_fold4.pbz2': 1.218877555659628, 'exp16v6AugmixB4_fold4_remove_background.pbz2': 1.3104205116608092}. Best is trial 200 with value: 0.8505462534140839.\u001b[0m\n",
      "\u001b[32m[I 2022-04-17 07:09:30,664]\u001b[0m Trial 273 finished with value: 0.8504077108815264 and parameters: {'exp16v6AugMix1536_fold4.pbz2': 3.997128257872642, 'exp16v6AugmixB3_fold4.pbz2': 1.7700850816637803, 'exp16v6AugmixB4Step2_fold4.pbz2': 1.2432060642590925, 'exp16v6AugmixB4_fold4_remove_background.pbz2': 1.3388728469462103}. Best is trial 200 with value: 0.8505462534140839.\u001b[0m\n",
      "\u001b[32m[I 2022-04-17 07:09:31,625]\u001b[0m Trial 274 finished with value: 0.8503325020781379 and parameters: {'exp16v6AugMix1536_fold4.pbz2': 3.9940960887067747, 'exp16v6AugmixB3_fold4.pbz2': 1.8828298210833083, 'exp16v6AugmixB4Step2_fold4.pbz2': 1.2425453141814298, 'exp16v6AugmixB4_fold4_remove_background.pbz2': 1.3718787929187484}. Best is trial 200 with value: 0.8505462534140839.\u001b[0m\n",
      "\u001b[32m[I 2022-04-17 07:09:32,590]\u001b[0m Trial 275 finished with value: 0.8503978149863437 and parameters: {'exp16v6AugMix1536_fold4.pbz2': 3.92718689081758, 'exp16v6AugmixB3_fold4.pbz2': 1.8113474281408672, 'exp16v6AugmixB4Step2_fold4.pbz2': 1.2249923406711332, 'exp16v6AugmixB4_fold4_remove_background.pbz2': 1.3240441974501285}. Best is trial 200 with value: 0.8505462534140839.\u001b[0m\n",
      "\u001b[32m[I 2022-04-17 07:09:33,582]\u001b[0m Trial 276 finished with value: 0.8504334402090014 and parameters: {'exp16v6AugMix1536_fold4.pbz2': 3.8035555736693945, 'exp16v6AugmixB3_fold4.pbz2': 1.776212669747014, 'exp16v6AugmixB4Step2_fold4.pbz2': 1.1648080902612254, 'exp16v6AugmixB4_fold4_remove_background.pbz2': 1.2859422021890394}. Best is trial 200 with value: 0.8505462534140839.\u001b[0m\n",
      "\u001b[32m[I 2022-04-17 07:09:34,547]\u001b[0m Trial 277 finished with value: 0.8471598780825713 and parameters: {'exp16v6AugMix1536_fold4.pbz2': 2.719501603242845, 'exp16v6AugmixB3_fold4.pbz2': 1.7521729091824922, 'exp16v6AugmixB4Step2_fold4.pbz2': 1.2363779547369715, 'exp16v6AugmixB4_fold4_remove_background.pbz2': 1.3017725228476809}. Best is trial 200 with value: 0.8505462534140839.\u001b[0m\n",
      "\u001b[32m[I 2022-04-17 07:09:35,514]\u001b[0m Trial 278 finished with value: 0.8498871867949174 and parameters: {'exp16v6AugMix1536_fold4.pbz2': 3.632391364056425, 'exp16v6AugmixB3_fold4.pbz2': 1.767390673810734, 'exp16v6AugmixB4Step2_fold4.pbz2': 1.1189747315579508, 'exp16v6AugmixB4_fold4_remove_background.pbz2': 1.399644945261588}. Best is trial 200 with value: 0.8505462534140839.\u001b[0m\n",
      "\u001b[32m[I 2022-04-17 07:09:36,480]\u001b[0m Trial 279 finished with value: 0.850387919091161 and parameters: {'exp16v6AugMix1536_fold4.pbz2': 3.7775069482842802, 'exp16v6AugmixB3_fold4.pbz2': 1.7819406843740424, 'exp16v6AugmixB4Step2_fold4.pbz2': 0.8940052048057547, 'exp16v6AugmixB4_fold4_remove_background.pbz2': 1.240879515534007}. Best is trial 200 with value: 0.8505462534140839.\u001b[0m\n",
      "\u001b[32m[I 2022-04-17 07:09:37,463]\u001b[0m Trial 280 finished with value: 0.8503602105846496 and parameters: {'exp16v6AugMix1536_fold4.pbz2': 3.750687128071031, 'exp16v6AugmixB3_fold4.pbz2': 1.7542411935550426, 'exp16v6AugmixB4Step2_fold4.pbz2': 0.786864935139026, 'exp16v6AugmixB4_fold4_remove_background.pbz2': 1.365686908899205}. Best is trial 200 with value: 0.8505462534140839.\u001b[0m\n",
      "\u001b[32m[I 2022-04-17 07:09:38,424]\u001b[0m Trial 281 finished with value: 0.8499742706725251 and parameters: {'exp16v6AugMix1536_fold4.pbz2': 3.709940721584683, 'exp16v6AugmixB3_fold4.pbz2': 1.7245549486406655, 'exp16v6AugmixB4Step2_fold4.pbz2': 0.5941014734847823, 'exp16v6AugmixB4_fold4_remove_background.pbz2': 1.386395025214518}. Best is trial 200 with value: 0.8505462534140839.\u001b[0m\n",
      "\u001b[32m[I 2022-04-17 07:09:39,390]\u001b[0m Trial 282 finished with value: 0.8500732296243518 and parameters: {'exp16v6AugMix1536_fold4.pbz2': 3.660606183239305, 'exp16v6AugmixB3_fold4.pbz2': 1.7945969701290256, 'exp16v6AugmixB4Step2_fold4.pbz2': 0.7773534205993021, 'exp16v6AugmixB4_fold4_remove_background.pbz2': 1.3404407610086464}. Best is trial 200 with value: 0.8505462534140839.\u001b[0m\n",
      "\u001b[32m[I 2022-04-17 07:09:40,352]\u001b[0m Trial 283 finished with value: 0.8498198947076753 and parameters: {'exp16v6AugMix1536_fold4.pbz2': 3.7471849934957726, 'exp16v6AugmixB3_fold4.pbz2': 2.092037715003213, 'exp16v6AugmixB4Step2_fold4.pbz2': 0.858752066096671, 'exp16v6AugmixB4_fold4_remove_background.pbz2': 1.2511528607694762}. Best is trial 200 with value: 0.8505462534140839.\u001b[0m\n",
      "\u001b[32m[I 2022-04-17 07:09:41,334]\u001b[0m Trial 284 finished with value: 0.8502790642441515 and parameters: {'exp16v6AugMix1536_fold4.pbz2': 3.8701116756494867, 'exp16v6AugmixB3_fold4.pbz2': 1.9650213966422059, 'exp16v6AugmixB4Step2_fold4.pbz2': 0.9109148266895218, 'exp16v6AugmixB4_fold4_remove_background.pbz2': 1.3228454955962365}. Best is trial 200 with value: 0.8505462534140839.\u001b[0m\n",
      "\u001b[32m[I 2022-04-17 07:09:42,299]\u001b[0m Trial 285 finished with value: 0.8502394806634208 and parameters: {'exp16v6AugMix1536_fold4.pbz2': 3.9980466565006254, 'exp16v6AugmixB3_fold4.pbz2': 1.768010163607987, 'exp16v6AugmixB4Step2_fold4.pbz2': 0.8086204629625673, 'exp16v6AugmixB4_fold4_remove_background.pbz2': 1.428870650865717}. Best is trial 200 with value: 0.8505462534140839.\u001b[0m\n"
     ]
    },
    {
     "name": "stderr",
     "output_type": "stream",
     "text": [
      "\u001b[32m[I 2022-04-17 07:09:43,264]\u001b[0m Trial 286 finished with value: 0.8492597870403356 and parameters: {'exp16v6AugMix1536_fold4.pbz2': 3.7720702815076206, 'exp16v6AugmixB3_fold4.pbz2': 2.2957630065509567, 'exp16v6AugmixB4Step2_fold4.pbz2': 0.6998745925156672, 'exp16v6AugmixB4_fold4_remove_background.pbz2': 1.2452099863754762}. Best is trial 200 with value: 0.8505462534140839.\u001b[0m\n",
      "\u001b[32m[I 2022-04-17 07:09:44,285]\u001b[0m Trial 287 finished with value: 0.8265764161026007 and parameters: {'exp16v6AugMix1536_fold4.pbz2': 0.5505454040785753, 'exp16v6AugmixB3_fold4.pbz2': 1.9335137764479136, 'exp16v6AugmixB4Step2_fold4.pbz2': 0.9364286350478522, 'exp16v6AugmixB4_fold4_remove_background.pbz2': 1.2413825085018002}. Best is trial 200 with value: 0.8505462534140839.\u001b[0m\n",
      "\u001b[32m[I 2022-04-17 07:09:45,250]\u001b[0m Trial 288 finished with value: 0.8484740529628311 and parameters: {'exp16v6AugMix1536_fold4.pbz2': 3.8809491484482774, 'exp16v6AugmixB3_fold4.pbz2': 2.156678746896956, 'exp16v6AugmixB4Step2_fold4.pbz2': 0.25532249960479025, 'exp16v6AugmixB4_fold4_remove_background.pbz2': 1.3575606358227805}. Best is trial 200 with value: 0.8505462534140839.\u001b[0m\n",
      "\u001b[32m[I 2022-04-17 07:09:46,213]\u001b[0m Trial 289 finished with value: 0.8497862486640541 and parameters: {'exp16v6AugMix1536_fold4.pbz2': 3.826856630908185, 'exp16v6AugmixB3_fold4.pbz2': 2.0854473736725576, 'exp16v6AugmixB4Step2_fold4.pbz2': 1.1256452949782407, 'exp16v6AugmixB4_fold4_remove_background.pbz2': 1.2893278052926829}. Best is trial 200 with value: 0.8505462534140839.\u001b[0m\n",
      "\u001b[32m[I 2022-04-17 07:09:47,191]\u001b[0m Trial 290 finished with value: 0.8502652099908957 and parameters: {'exp16v6AugMix1536_fold4.pbz2': 3.720144150813241, 'exp16v6AugmixB3_fold4.pbz2': 1.919511597604937, 'exp16v6AugmixB4Step2_fold4.pbz2': 1.0525669715308266, 'exp16v6AugmixB4_fold4_remove_background.pbz2': 1.148755199201154}. Best is trial 200 with value: 0.8505462534140839.\u001b[0m\n",
      "\u001b[32m[I 2022-04-17 07:09:48,180]\u001b[0m Trial 291 finished with value: 0.8496437477734237 and parameters: {'exp16v6AugMix1536_fold4.pbz2': 3.6252652514398043, 'exp16v6AugmixB3_fold4.pbz2': 1.8091835028205716, 'exp16v6AugmixB4Step2_fold4.pbz2': 1.2367831074669642, 'exp16v6AugmixB4_fold4_remove_background.pbz2': 1.1256676256002962}. Best is trial 200 with value: 0.8505462534140839.\u001b[0m\n",
      "\u001b[32m[I 2022-04-17 07:09:49,144]\u001b[0m Trial 292 finished with value: 0.8499465621660135 and parameters: {'exp16v6AugMix1536_fold4.pbz2': 3.9076608993917112, 'exp16v6AugmixB3_fold4.pbz2': 2.037146880269705, 'exp16v6AugmixB4Step2_fold4.pbz2': 0.9018510161595857, 'exp16v6AugmixB4_fold4_remove_background.pbz2': 1.456066194173131}. Best is trial 200 with value: 0.8505462534140839.\u001b[0m\n",
      "\u001b[32m[I 2022-04-17 07:09:50,109]\u001b[0m Trial 293 finished with value: 0.8427680798004987 and parameters: {'exp16v6AugMix1536_fold4.pbz2': 1.8385102449668593, 'exp16v6AugmixB3_fold4.pbz2': 1.7231391711890391, 'exp16v6AugmixB4Step2_fold4.pbz2': 0.5220901864837306, 'exp16v6AugmixB4_fold4_remove_background.pbz2': 0.9889597411478867}. Best is trial 200 with value: 0.8505462534140839.\u001b[0m\n",
      "\u001b[32m[I 2022-04-17 07:09:51,076]\u001b[0m Trial 294 finished with value: 0.8501622926809959 and parameters: {'exp16v6AugMix1536_fold4.pbz2': 3.80631300534188, 'exp16v6AugmixB3_fold4.pbz2': 1.9570520950368027, 'exp16v6AugmixB4Step2_fold4.pbz2': 1.157224675570654, 'exp16v6AugmixB4_fold4_remove_background.pbz2': 1.2456274762377129}. Best is trial 200 with value: 0.8505462534140839.\u001b[0m\n",
      "\u001b[32m[I 2022-04-17 07:09:52,036]\u001b[0m Trial 295 finished with value: 0.8497090606816293 and parameters: {'exp16v6AugMix1536_fold4.pbz2': 3.909203445346036, 'exp16v6AugmixB3_fold4.pbz2': 1.8557890914506667, 'exp16v6AugmixB4Step2_fold4.pbz2': 1.0180359695239547, 'exp16v6AugmixB4_fold4_remove_background.pbz2': 0.8560743649348135}. Best is trial 200 with value: 0.8505462534140839.\u001b[0m\n",
      "\u001b[32m[I 2022-04-17 07:09:53,010]\u001b[0m Trial 296 finished with value: 0.842894747258837 and parameters: {'exp16v6AugMix1536_fold4.pbz2': 3.7488739780623144, 'exp16v6AugmixB3_fold4.pbz2': 3.672804104573387, 'exp16v6AugmixB4Step2_fold4.pbz2': 1.2642045919612492, 'exp16v6AugmixB4_fold4_remove_background.pbz2': 1.1540261060374606}. Best is trial 200 with value: 0.8505462534140839.\u001b[0m\n",
      "\u001b[32m[I 2022-04-17 07:09:53,975]\u001b[0m Trial 297 finished with value: 0.850247397379567 and parameters: {'exp16v6AugMix1536_fold4.pbz2': 3.846076014001482, 'exp16v6AugmixB3_fold4.pbz2': 2.032385331634219, 'exp16v6AugmixB4Step2_fold4.pbz2': 1.0425577327926507, 'exp16v6AugmixB4_fold4_remove_background.pbz2': 1.0834345533628362}. Best is trial 200 with value: 0.8505462534140839.\u001b[0m\n",
      "\u001b[32m[I 2022-04-17 07:09:55,005]\u001b[0m Trial 298 finished with value: 0.8462811225903496 and parameters: {'exp16v6AugMix1536_fold4.pbz2': 3.9963339223743217, 'exp16v6AugmixB3_fold4.pbz2': 2.4364060715434794, 'exp16v6AugmixB4Step2_fold4.pbz2': 2.8804610730719196, 'exp16v6AugmixB4_fold4_remove_background.pbz2': 1.2318486982375727}. Best is trial 200 with value: 0.8505462534140839.\u001b[0m\n",
      "\u001b[32m[I 2022-04-17 07:09:55,969]\u001b[0m Trial 299 finished with value: 0.8496576020266794 and parameters: {'exp16v6AugMix1536_fold4.pbz2': 3.910603220941379, 'exp16v6AugmixB3_fold4.pbz2': 2.169390427302014, 'exp16v6AugmixB4Step2_fold4.pbz2': 1.1623308329491393, 'exp16v6AugmixB4_fold4_remove_background.pbz2': 1.0142210833005965}. Best is trial 200 with value: 0.8505462534140839.\u001b[0m\n",
      "\u001b[32m[I 2022-04-17 07:09:56,934]\u001b[0m Trial 300 finished with value: 0.8500237501484385 and parameters: {'exp16v6AugMix1536_fold4.pbz2': 3.697364573534089, 'exp16v6AugmixB3_fold4.pbz2': 1.9447473270049755, 'exp16v6AugmixB4Step2_fold4.pbz2': 0.9572252045888595, 'exp16v6AugmixB4_fold4_remove_background.pbz2': 1.3203529888299503}. Best is trial 200 with value: 0.8505462534140839.\u001b[0m\n",
      "\u001b[32m[I 2022-04-17 07:09:57,897]\u001b[0m Trial 301 finished with value: 0.8495507263587064 and parameters: {'exp16v6AugMix1536_fold4.pbz2': 3.8183089229756595, 'exp16v6AugmixB3_fold4.pbz2': 1.77146329229012, 'exp16v6AugmixB4Step2_fold4.pbz2': 0.8095989810256946, 'exp16v6AugmixB4_fold4_remove_background.pbz2': 0.9293368010016476}. Best is trial 200 with value: 0.8505462534140839.\u001b[0m\n",
      "\u001b[32m[I 2022-04-17 07:09:58,856]\u001b[0m Trial 302 finished with value: 0.8504275026718916 and parameters: {'exp16v6AugMix1536_fold4.pbz2': 3.903284390540128, 'exp16v6AugmixB3_fold4.pbz2': 1.8779477545416532, 'exp16v6AugmixB4Step2_fold4.pbz2': 1.1031480059988046, 'exp16v6AugmixB4_fold4_remove_background.pbz2': 1.139173955324901}. Best is trial 200 with value: 0.8505462534140839.\u001b[0m\n",
      "\u001b[32m[I 2022-04-17 07:09:59,821]\u001b[0m Trial 303 finished with value: 0.8504571903574397 and parameters: {'exp16v6AugMix1536_fold4.pbz2': 3.895656950664127, 'exp16v6AugmixB3_fold4.pbz2': 1.8830929447562643, 'exp16v6AugmixB4Step2_fold4.pbz2': 1.1030918553434246, 'exp16v6AugmixB4_fold4_remove_background.pbz2': 1.1099184015868682}. Best is trial 200 with value: 0.8505462534140839.\u001b[0m\n",
      "\u001b[32m[I 2022-04-17 07:10:00,783]\u001b[0m Trial 304 finished with value: 0.8504195859557456 and parameters: {'exp16v6AugMix1536_fold4.pbz2': 3.9995452417021125, 'exp16v6AugmixB3_fold4.pbz2': 1.8787453468109114, 'exp16v6AugmixB4Step2_fold4.pbz2': 1.1656995083148631, 'exp16v6AugmixB4_fold4_remove_background.pbz2': 1.051818478462581}. Best is trial 200 with value: 0.8505462534140839.\u001b[0m\n",
      "\u001b[32m[I 2022-04-17 07:10:01,747]\u001b[0m Trial 305 finished with value: 0.8506056287851799 and parameters: {'exp16v6AugMix1536_fold4.pbz2': 3.939976169388798, 'exp16v6AugmixB3_fold4.pbz2': 1.8657933946604268, 'exp16v6AugmixB4Step2_fold4.pbz2': 1.1010188935628786, 'exp16v6AugmixB4_fold4_remove_background.pbz2': 1.1909781255471734}. Best is trial 305 with value: 0.8506056287851799.\u001b[0m\n",
      "\u001b[32m[I 2022-04-17 07:10:02,741]\u001b[0m Trial 306 finished with value: 0.8455052844080274 and parameters: {'exp16v6AugMix1536_fold4.pbz2': 3.9414699926532326, 'exp16v6AugmixB3_fold4.pbz2': 1.866762488942327, 'exp16v6AugmixB4Step2_fold4.pbz2': 3.2065798180028464, 'exp16v6AugmixB4_fold4_remove_background.pbz2': 1.1996475796607757}. Best is trial 305 with value: 0.8506056287851799.\u001b[0m\n",
      "\u001b[32m[I 2022-04-17 07:10:03,727]\u001b[0m Trial 307 finished with value: 0.85050271147528 and parameters: {'exp16v6AugMix1536_fold4.pbz2': 3.988301558536756, 'exp16v6AugmixB3_fold4.pbz2': 1.8336882601130537, 'exp16v6AugmixB4Step2_fold4.pbz2': 1.1372233204615874, 'exp16v6AugmixB4_fold4_remove_background.pbz2': 1.1689339866874189}. Best is trial 305 with value: 0.8506056287851799.\u001b[0m\n"
     ]
    },
    {
     "name": "stderr",
     "output_type": "stream",
     "text": [
      "\u001b[32m[I 2022-04-17 07:10:04,692]\u001b[0m Trial 308 finished with value: 0.850387919091161 and parameters: {'exp16v6AugMix1536_fold4.pbz2': 3.9634374592462724, 'exp16v6AugmixB3_fold4.pbz2': 1.8323283984332142, 'exp16v6AugmixB4Step2_fold4.pbz2': 1.2777079333876908, 'exp16v6AugmixB4_fold4_remove_background.pbz2': 1.123465739147828}. Best is trial 305 with value: 0.8506056287851799.\u001b[0m\n",
      "\u001b[32m[I 2022-04-17 07:10:05,696]\u001b[0m Trial 309 finished with value: 0.8505779202786685 and parameters: {'exp16v6AugMix1536_fold4.pbz2': 3.996183937203543, 'exp16v6AugmixB3_fold4.pbz2': 1.8193517637126337, 'exp16v6AugmixB4Step2_fold4.pbz2': 1.1785772888370318, 'exp16v6AugmixB4_fold4_remove_background.pbz2': 1.2035596932311565}. Best is trial 305 with value: 0.8506056287851799.\u001b[0m\n"
     ]
    },
    {
     "name": "stdout",
     "output_type": "stream",
     "text": [
      "CPU times: user 5min, sys: 1.45 s, total: 5min 1s\n",
      "Wall time: 5min\n"
     ]
    }
   ],
   "source": [
    "%%time\n",
    "\n",
    "study = optuna.create_study(direction='maximize')\n",
    "study.optimize(objective_wrapper(exps), timeout=300)"
   ]
  },
  {
   "cell_type": "code",
   "execution_count": 34,
   "metadata": {},
   "outputs": [
    {
     "data": {
      "text/html": [
       "<div>\n",
       "<style scoped>\n",
       "    .dataframe tbody tr th:only-of-type {\n",
       "        vertical-align: middle;\n",
       "    }\n",
       "\n",
       "    .dataframe tbody tr th {\n",
       "        vertical-align: top;\n",
       "    }\n",
       "\n",
       "    .dataframe thead th {\n",
       "        text-align: right;\n",
       "    }\n",
       "</style>\n",
       "<table border=\"1\" class=\"dataframe\">\n",
       "  <thead>\n",
       "    <tr style=\"text-align: right;\">\n",
       "      <th></th>\n",
       "      <th>number</th>\n",
       "      <th>value</th>\n",
       "      <th>datetime_start</th>\n",
       "      <th>datetime_complete</th>\n",
       "      <th>duration</th>\n",
       "      <th>params_exp16v6AugMix1536_fold4.pbz2</th>\n",
       "      <th>params_exp16v6AugmixB3_fold4.pbz2</th>\n",
       "      <th>params_exp16v6AugmixB4Step2_fold4.pbz2</th>\n",
       "      <th>params_exp16v6AugmixB4_fold4_remove_background.pbz2</th>\n",
       "      <th>state</th>\n",
       "    </tr>\n",
       "  </thead>\n",
       "  <tbody>\n",
       "    <tr>\n",
       "      <th>1</th>\n",
       "      <td>1</td>\n",
       "      <td>0.814915</td>\n",
       "      <td>2022-04-17 07:05:06.630533</td>\n",
       "      <td>2022-04-17 07:05:07.598466</td>\n",
       "      <td>0 days 00:00:00.967933</td>\n",
       "      <td>0.063975</td>\n",
       "      <td>3.336295</td>\n",
       "      <td>0.095595</td>\n",
       "      <td>3.831382</td>\n",
       "      <td>COMPLETE</td>\n",
       "    </tr>\n",
       "    <tr>\n",
       "      <th>113</th>\n",
       "      <td>113</td>\n",
       "      <td>0.820827</td>\n",
       "      <td>2022-04-17 07:06:54.901880</td>\n",
       "      <td>2022-04-17 07:06:55.893739</td>\n",
       "      <td>0 days 00:00:00.991859</td>\n",
       "      <td>0.170659</td>\n",
       "      <td>1.190871</td>\n",
       "      <td>1.438718</td>\n",
       "      <td>2.523521</td>\n",
       "      <td>COMPLETE</td>\n",
       "    </tr>\n",
       "    <tr>\n",
       "      <th>91</th>\n",
       "      <td>91</td>\n",
       "      <td>0.822652</td>\n",
       "      <td>2022-04-17 07:06:33.661667</td>\n",
       "      <td>2022-04-17 07:06:34.630850</td>\n",
       "      <td>0 days 00:00:00.969183</td>\n",
       "      <td>0.013844</td>\n",
       "      <td>1.298012</td>\n",
       "      <td>1.478919</td>\n",
       "      <td>1.506646</td>\n",
       "      <td>COMPLETE</td>\n",
       "    </tr>\n",
       "    <tr>\n",
       "      <th>287</th>\n",
       "      <td>287</td>\n",
       "      <td>0.826576</td>\n",
       "      <td>2022-04-17 07:09:43.265563</td>\n",
       "      <td>2022-04-17 07:09:44.285311</td>\n",
       "      <td>0 days 00:00:01.019748</td>\n",
       "      <td>0.550545</td>\n",
       "      <td>1.933514</td>\n",
       "      <td>0.936429</td>\n",
       "      <td>1.241383</td>\n",
       "      <td>COMPLETE</td>\n",
       "    </tr>\n",
       "    <tr>\n",
       "      <th>35</th>\n",
       "      <td>35</td>\n",
       "      <td>0.827895</td>\n",
       "      <td>2022-04-17 07:05:39.679864</td>\n",
       "      <td>2022-04-17 07:05:40.655439</td>\n",
       "      <td>0 days 00:00:00.975575</td>\n",
       "      <td>0.352618</td>\n",
       "      <td>1.330537</td>\n",
       "      <td>0.895245</td>\n",
       "      <td>0.906162</td>\n",
       "      <td>COMPLETE</td>\n",
       "    </tr>\n",
       "    <tr>\n",
       "      <th>...</th>\n",
       "      <td>...</td>\n",
       "      <td>...</td>\n",
       "      <td>...</td>\n",
       "      <td>...</td>\n",
       "      <td>...</td>\n",
       "      <td>...</td>\n",
       "      <td>...</td>\n",
       "      <td>...</td>\n",
       "      <td>...</td>\n",
       "      <td>...</td>\n",
       "    </tr>\n",
       "    <tr>\n",
       "      <th>264</th>\n",
       "      <td>264</td>\n",
       "      <td>0.850511</td>\n",
       "      <td>2022-04-17 07:09:21.003847</td>\n",
       "      <td>2022-04-17 07:09:21.968314</td>\n",
       "      <td>0 days 00:00:00.964467</td>\n",
       "      <td>3.827734</td>\n",
       "      <td>1.942199</td>\n",
       "      <td>1.051063</td>\n",
       "      <td>1.184503</td>\n",
       "      <td>COMPLETE</td>\n",
       "    </tr>\n",
       "    <tr>\n",
       "      <th>209</th>\n",
       "      <td>209</td>\n",
       "      <td>0.850524</td>\n",
       "      <td>2022-04-17 07:08:27.677807</td>\n",
       "      <td>2022-04-17 07:08:28.637280</td>\n",
       "      <td>0 days 00:00:00.959473</td>\n",
       "      <td>3.849565</td>\n",
       "      <td>1.960261</td>\n",
       "      <td>1.120766</td>\n",
       "      <td>1.085934</td>\n",
       "      <td>COMPLETE</td>\n",
       "    </tr>\n",
       "    <tr>\n",
       "      <th>200</th>\n",
       "      <td>200</td>\n",
       "      <td>0.850546</td>\n",
       "      <td>2022-04-17 07:08:19.020569</td>\n",
       "      <td>2022-04-17 07:08:19.974932</td>\n",
       "      <td>0 days 00:00:00.954363</td>\n",
       "      <td>3.853196</td>\n",
       "      <td>1.846484</td>\n",
       "      <td>1.130525</td>\n",
       "      <td>1.106594</td>\n",
       "      <td>COMPLETE</td>\n",
       "    </tr>\n",
       "    <tr>\n",
       "      <th>309</th>\n",
       "      <td>309</td>\n",
       "      <td>0.850578</td>\n",
       "      <td>2022-04-17 07:10:04.693651</td>\n",
       "      <td>2022-04-17 07:10:05.696422</td>\n",
       "      <td>0 days 00:00:01.002771</td>\n",
       "      <td>3.996184</td>\n",
       "      <td>1.819352</td>\n",
       "      <td>1.178577</td>\n",
       "      <td>1.203560</td>\n",
       "      <td>COMPLETE</td>\n",
       "    </tr>\n",
       "    <tr>\n",
       "      <th>305</th>\n",
       "      <td>305</td>\n",
       "      <td>0.850606</td>\n",
       "      <td>2022-04-17 07:10:00.784750</td>\n",
       "      <td>2022-04-17 07:10:01.747240</td>\n",
       "      <td>0 days 00:00:00.962490</td>\n",
       "      <td>3.939976</td>\n",
       "      <td>1.865793</td>\n",
       "      <td>1.101019</td>\n",
       "      <td>1.190978</td>\n",
       "      <td>COMPLETE</td>\n",
       "    </tr>\n",
       "  </tbody>\n",
       "</table>\n",
       "<p>310 rows × 10 columns</p>\n",
       "</div>"
      ],
      "text/plain": [
       "     number     value             datetime_start          datetime_complete  \\\n",
       "1         1  0.814915 2022-04-17 07:05:06.630533 2022-04-17 07:05:07.598466   \n",
       "113     113  0.820827 2022-04-17 07:06:54.901880 2022-04-17 07:06:55.893739   \n",
       "91       91  0.822652 2022-04-17 07:06:33.661667 2022-04-17 07:06:34.630850   \n",
       "287     287  0.826576 2022-04-17 07:09:43.265563 2022-04-17 07:09:44.285311   \n",
       "35       35  0.827895 2022-04-17 07:05:39.679864 2022-04-17 07:05:40.655439   \n",
       "..      ...       ...                        ...                        ...   \n",
       "264     264  0.850511 2022-04-17 07:09:21.003847 2022-04-17 07:09:21.968314   \n",
       "209     209  0.850524 2022-04-17 07:08:27.677807 2022-04-17 07:08:28.637280   \n",
       "200     200  0.850546 2022-04-17 07:08:19.020569 2022-04-17 07:08:19.974932   \n",
       "309     309  0.850578 2022-04-17 07:10:04.693651 2022-04-17 07:10:05.696422   \n",
       "305     305  0.850606 2022-04-17 07:10:00.784750 2022-04-17 07:10:01.747240   \n",
       "\n",
       "                  duration  params_exp16v6AugMix1536_fold4.pbz2  \\\n",
       "1   0 days 00:00:00.967933                             0.063975   \n",
       "113 0 days 00:00:00.991859                             0.170659   \n",
       "91  0 days 00:00:00.969183                             0.013844   \n",
       "287 0 days 00:00:01.019748                             0.550545   \n",
       "35  0 days 00:00:00.975575                             0.352618   \n",
       "..                     ...                                  ...   \n",
       "264 0 days 00:00:00.964467                             3.827734   \n",
       "209 0 days 00:00:00.959473                             3.849565   \n",
       "200 0 days 00:00:00.954363                             3.853196   \n",
       "309 0 days 00:00:01.002771                             3.996184   \n",
       "305 0 days 00:00:00.962490                             3.939976   \n",
       "\n",
       "     params_exp16v6AugmixB3_fold4.pbz2  \\\n",
       "1                             3.336295   \n",
       "113                           1.190871   \n",
       "91                            1.298012   \n",
       "287                           1.933514   \n",
       "35                            1.330537   \n",
       "..                                 ...   \n",
       "264                           1.942199   \n",
       "209                           1.960261   \n",
       "200                           1.846484   \n",
       "309                           1.819352   \n",
       "305                           1.865793   \n",
       "\n",
       "     params_exp16v6AugmixB4Step2_fold4.pbz2  \\\n",
       "1                                  0.095595   \n",
       "113                                1.438718   \n",
       "91                                 1.478919   \n",
       "287                                0.936429   \n",
       "35                                 0.895245   \n",
       "..                                      ...   \n",
       "264                                1.051063   \n",
       "209                                1.120766   \n",
       "200                                1.130525   \n",
       "309                                1.178577   \n",
       "305                                1.101019   \n",
       "\n",
       "     params_exp16v6AugmixB4_fold4_remove_background.pbz2     state  \n",
       "1                                             3.831382    COMPLETE  \n",
       "113                                           2.523521    COMPLETE  \n",
       "91                                            1.506646    COMPLETE  \n",
       "287                                           1.241383    COMPLETE  \n",
       "35                                            0.906162    COMPLETE  \n",
       "..                                                 ...         ...  \n",
       "264                                           1.184503    COMPLETE  \n",
       "209                                           1.085934    COMPLETE  \n",
       "200                                           1.106594    COMPLETE  \n",
       "309                                           1.203560    COMPLETE  \n",
       "305                                           1.190978    COMPLETE  \n",
       "\n",
       "[310 rows x 10 columns]"
      ]
     },
     "execution_count": 34,
     "metadata": {},
     "output_type": "execute_result"
    }
   ],
   "source": [
    "study.trials_dataframe().sort_values(\"value\")"
   ]
  },
  {
   "cell_type": "code",
   "execution_count": 35,
   "metadata": {},
   "outputs": [
    {
     "data": {
      "text/plain": [
       "{'exp16v6AugMix1536_fold4.pbz2': 3.939976169388798,\n",
       " 'exp16v6AugmixB3_fold4.pbz2': 1.8657933946604268,\n",
       " 'exp16v6AugmixB4Step2_fold4.pbz2': 1.1010188935628786,\n",
       " 'exp16v6AugmixB4_fold4_remove_background.pbz2': 1.1909781255471734}"
      ]
     },
     "execution_count": 35,
     "metadata": {},
     "output_type": "execute_result"
    }
   ],
   "source": [
    "study.best_params"
   ]
  },
  {
   "cell_type": "code",
   "execution_count": 36,
   "metadata": {},
   "outputs": [],
   "source": [
    "best_weights = list(study.best_params.values())"
   ]
  },
  {
   "cell_type": "code",
   "execution_count": 38,
   "metadata": {},
   "outputs": [
    {
     "data": {
      "text/plain": [
       "0.8506056287851799"
      ]
     },
     "execution_count": 38,
     "metadata": {},
     "output_type": "execute_result"
    }
   ],
   "source": [
    "# weighted result\n",
    "get_score([1] + best_weights)"
   ]
  },
  {
   "cell_type": "code",
   "execution_count": 39,
   "metadata": {},
   "outputs": [
    {
     "data": {
      "text/plain": [
       "0.8379942999643747"
      ]
     },
     "execution_count": 39,
     "metadata": {},
     "output_type": "execute_result"
    }
   ],
   "source": [
    "# un-weighted result\n",
    "get_score([1] * len(exps))"
   ]
  }
 ],
 "metadata": {
  "kernelspec": {
   "display_name": "Python 3 (ipykernel)",
   "language": "python",
   "name": "python3"
  },
  "language_info": {
   "codemirror_mode": {
    "name": "ipython",
    "version": 3
   },
   "file_extension": ".py",
   "mimetype": "text/x-python",
   "name": "python",
   "nbconvert_exporter": "python",
   "pygments_lexer": "ipython3",
   "version": "3.7.12"
  }
 },
 "nbformat": 4,
 "nbformat_minor": 4
}
