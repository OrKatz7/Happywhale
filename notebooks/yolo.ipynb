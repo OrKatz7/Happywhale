{
 "cells": [
  {
   "cell_type": "code",
   "execution_count": 1,
   "id": "a699378b-abda-4609-ab53-6309ef49d870",
   "metadata": {},
   "outputs": [
    {
     "name": "stderr",
     "output_type": "stream",
     "text": [
      "/home/kaor/.local/lib/python3.7/site-packages/tqdm/std.py:668: FutureWarning: The Panel class is removed from pandas. Accessing it from the top-level namespace will also be removed in the next version\n",
      "  from pandas import Panel\n"
     ]
    }
   ],
   "source": [
    "import numpy as np\n",
    "from tqdm.notebook import tqdm\n",
    "\n",
    "tqdm.pandas()\n",
    "import pandas as pd\n",
    "import os\n",
    "import cv2\n",
    "import matplotlib.pyplot as plt\n",
    "import glob\n",
    "import shutil\n",
    "\n",
    "from joblib import Parallel, delayed"
   ]
  },
  {
   "cell_type": "code",
   "execution_count": 2,
   "id": "13c960af-3a9e-415b-bad3-50245d86a0e8",
   "metadata": {},
   "outputs": [],
   "source": [
    "# !git clone https://github.com/ultralytics/yolov5"
   ]
  },
  {
   "cell_type": "code",
   "execution_count": 3,
   "id": "73922d1d-b9d1-4a17-88be-40d9a6278da4",
   "metadata": {},
   "outputs": [
    {
     "data": {
      "text/plain": [
       "['/home/kaor/whale/yolo/images/cf4f3fe6605328.jpg',\n",
       " '/home/kaor/whale/yolo/images/de84b48e1d0aaf.jpg',\n",
       " '/home/kaor/whale/yolo/images/dcf21bf0ffe7e9.jpg',\n",
       " '/home/kaor/whale/yolo/images/fc769209af8ca4.jpg',\n",
       " '/home/kaor/whale/yolo/images/4895e2b46aa757.jpg']"
      ]
     },
     "execution_count": 3,
     "metadata": {},
     "output_type": "execute_result"
    }
   ],
   "source": [
    "df = pd.read_csv(\"~/whale/subset_1_df.csv\")\n",
    "df['image_path'] = \"/home/kaor/whale/yolo/images/\"+df['image']\n",
    "df['image_r_path'] = \"/home/kaor/whale/train_images/\"+df['image']\n",
    "train_files = list(df.image_path)\n",
    "train_files[0:5]"
   ]
  },
  {
   "cell_type": "code",
   "execution_count": 4,
   "id": "f76f3df9-b774-4c19-a3e9-8debd91cff9e",
   "metadata": {},
   "outputs": [],
   "source": [
    "# !mkdir /home/kaor/whale/yolo/\n",
    "# !mkdir /home/kaor/whale/yolo/images/\n",
    "# !mkdir /home/kaor/whale/yolo/labels/"
   ]
  },
  {
   "cell_type": "code",
   "execution_count": 5,
   "id": "18fb695a-52b9-4131-b5e1-a479b5be79ca",
   "metadata": {},
   "outputs": [],
   "source": [
    "# !cp -r /home/kaor/whale/yolo_annotations/yolo_annotations/*.txt /home/kaor/whale/yolo/labels/"
   ]
  },
  {
   "cell_type": "code",
   "execution_count": 6,
   "id": "d3376045-3aee-44f2-92db-65bfe892b3f0",
   "metadata": {},
   "outputs": [],
   "source": [
    "# !ls /home/kaor/whale/train_images/cf4f3fe6605328.jpg"
   ]
  },
  {
   "cell_type": "code",
   "execution_count": 7,
   "id": "11854e53-2c10-4f36-8b08-3c0365ea22b4",
   "metadata": {},
   "outputs": [],
   "source": [
    "# for i,row in df.iterrows():\n",
    "#     shutil.copy(str(row['image_r_path']),str(row['image_path']))"
   ]
  },
  {
   "cell_type": "code",
   "execution_count": 8,
   "id": "f988a3d0-0533-4a9f-81ce-86747a765e3b",
   "metadata": {},
   "outputs": [],
   "source": [
    "# !ls /home/kaor/whale/yolo/images/"
   ]
  },
  {
   "cell_type": "code",
   "execution_count": 9,
   "id": "48ffa624-be4a-4c1b-95ae-53330df6cb99",
   "metadata": {},
   "outputs": [
    {
     "data": {
      "text/plain": [
       "0    256\n",
       "5    255\n",
       "4    255\n",
       "3    255\n",
       "2    255\n",
       "1    255\n",
       "Name: fold, dtype: int64"
      ]
     },
     "execution_count": 9,
     "metadata": {},
     "output_type": "execute_result"
    }
   ],
   "source": [
    "from sklearn.model_selection import KFold\n",
    "kf = KFold(n_splits=6, random_state=42, shuffle=True)\n",
    "df = df.reset_index(drop=True)\n",
    "df['fold'] = -1\n",
    "for fold, (train_idx, val_idx) in enumerate(kf.split(df)):\n",
    "    df.loc[val_idx, 'fold'] = fold\n",
    "df.fold.value_counts()"
   ]
  },
  {
   "cell_type": "code",
   "execution_count": 10,
   "id": "feb1b3be-f5f0-4412-a4b3-7f7db07409ed",
   "metadata": {},
   "outputs": [
    {
     "data": {
      "text/plain": [
       "(1275, 256)"
      ]
     },
     "execution_count": 10,
     "metadata": {},
     "output_type": "execute_result"
    }
   ],
   "source": [
    "FOLD = 1\n",
    "train_files = []\n",
    "val_files   = []\n",
    "train_df = df.query(\"fold!=@FOLD\")\n",
    "valid_df = df.query(\"fold==@FOLD\")\n",
    "train_files += list(train_df.image_path.unique())\n",
    "val_files += list(valid_df.image_path.unique())\n",
    "len(train_files), len(val_files)"
   ]
  },
  {
   "cell_type": "code",
   "execution_count": 11,
   "id": "be4328e9-2c94-4688-a0f0-3dd72edcbbfa",
   "metadata": {},
   "outputs": [
    {
     "name": "stdout",
     "output_type": "stream",
     "text": [
      "ls: cannot access /home/kaor/whale/yolo/labels/cf4f3fe6605328.txt: No such file or directory\n"
     ]
    }
   ],
   "source": [
    "!ls /home/kaor/whale/yolo/labels/cf4f3fe6605328.txt"
   ]
  },
  {
   "cell_type": "code",
   "execution_count": 12,
   "id": "e7d506c9-e28d-4556-998f-b1a3023f4ee0",
   "metadata": {},
   "outputs": [
    {
     "name": "stdout",
     "output_type": "stream",
     "text": [
      "/home/kaor/whale/yolo/images/cf4f3fe6605328.jpg\n",
      "/home/kaor/whale/yolo/images/9a8b39b1b6d472.jpg\n",
      "/home/kaor/whale/yolo/images/9c96a72250084c.jpg\n",
      "/home/kaor/whale/yolo/images/60de2ea6b649a8.jpg\n",
      "/home/kaor/whale/yolo/images/abe8de4c14ddbc.jpg\n",
      "/home/kaor/whale/yolo/images/a6d9a9d4a8a444.jpg\n",
      "/home/kaor/whale/yolo/images/dda4bba985a0f0.jpg\n",
      "/home/kaor/whale/yolo/images/dd46ff0597c1aa.jpg\n",
      "/home/kaor/whale/yolo/images/aa16947ce5316e.jpg\n",
      "/home/kaor/whale/yolo/images/a8e7f0347b7c62.jpg\n",
      "/home/kaor/whale/yolo/images/baf82000789858.jpg\n",
      "/home/kaor/whale/yolo/images/ebc7e212d6e505.jpg\n",
      "/home/kaor/whale/yolo/images/8c5221ff535f10.jpg\n",
      "/home/kaor/whale/yolo/images/b58f4f1d9f6247.jpg\n",
      "/home/kaor/whale/yolo/images/f8ec1df54bba10.jpg\n",
      "/home/kaor/whale/yolo/images/af64d05f30daca.jpg\n",
      "/home/kaor/whale/yolo/images/fdf98dfb01d768.jpg\n",
      "/home/kaor/whale/yolo/images/c45d288419aba6.jpg\n",
      "\n",
      "yaml:\n",
      "names:\n",
      "- whale\n",
      "nc: 1\n",
      "path: /home/kaor/whale/yolo\n",
      "train: /home/kaor/whale/yolo/train.txt\n",
      "val: /home/kaor/whale/yolo/val.txt\n",
      "\n"
     ]
    }
   ],
   "source": [
    "import yaml\n",
    "\n",
    "cwd = '/home/kaor/whale/yolo'\n",
    "\n",
    "with open(os.path.join( cwd , 'train.txt'), 'w') as f:\n",
    "    for path in train_df.image_path.tolist():\n",
    "        if os.path.exists(path.replace(\"images\",\"labels\").replace(\"jpg\",\"txt\")):\n",
    "            f.write(path+'\\n')\n",
    "        else:\n",
    "            print(path)\n",
    "            \n",
    "with open(os.path.join(cwd , 'val.txt'), 'w') as f:\n",
    "    for path in valid_df.image_path.tolist():\n",
    "        if os.path.exists(path.replace(\"images\",\"labels\").replace(\"jpg\",\"txt\")):\n",
    "            f.write(path+'\\n')\n",
    "        else:\n",
    "            print(path)\n",
    "\n",
    "data = dict(\n",
    "    path  = cwd,\n",
    "    train =  os.path.join( cwd , 'train.txt') ,\n",
    "    val   =  os.path.join( cwd , 'val.txt' ),\n",
    "    nc    = 1,\n",
    "    names = ['whale'],\n",
    "    )\n",
    "\n",
    "with open(os.path.join( cwd , 'happywhale.yaml'), 'w') as outfile:\n",
    "    yaml.dump(data, outfile, default_flow_style=False)\n",
    "\n",
    "f = open(os.path.join( cwd , 'happywhale.yaml'), 'r')\n",
    "print('\\nyaml:')\n",
    "print(f.read())"
   ]
  },
  {
   "cell_type": "code",
   "execution_count": 13,
   "id": "1a93b6a9-ec62-408f-ae2d-4d431c6de284",
   "metadata": {},
   "outputs": [],
   "source": [
    "import sys\n",
    "sys.path.append(\"./yolov5\")"
   ]
  },
  {
   "cell_type": "code",
   "execution_count": 14,
   "id": "ec6d7464-4c49-4c7e-ac8e-73bfe2576e50",
   "metadata": {},
   "outputs": [],
   "source": [
    "DIM = 768\n",
    "BATCH = 8\n",
    "EPOCHS = 10\n",
    "MODEL = \"yolov5l\""
   ]
  },
  {
   "cell_type": "code",
   "execution_count": 15,
   "id": "3cf6ba63-144b-4fd1-bca8-accbae0308b3",
   "metadata": {},
   "outputs": [
    {
     "name": "stdout",
     "output_type": "stream",
     "text": [
      "\u001b[34m\u001b[1mtrain: \u001b[0mweights=yolov5l.pt, cfg=, data=/home/kaor/whale/yolo/happywhale.yaml, hyp=yolov5/data/hyps/hyp.scratch-low.yaml, epochs=10, batch_size=8, imgsz=768, rect=False, resume=False, nosave=False, noval=False, noautoanchor=False, evolve=None, bucket=, cache=ram, image_weights=False, device=, multi_scale=False, single_cls=False, optimizer=SGD, sync_bn=False, workers=8, project=yolov5/runs/train, name=exp, exist_ok=False, quad=False, cos_lr=False, label_smoothing=0.0, patience=100, freeze=[0], save_period=-1, local_rank=-1, entity=None, upload_dataset=False, bbox_interval=-1, artifact_alias=latest\n",
      "\u001b[34m\u001b[1mgithub: \u001b[0mup to date with https://github.com/ultralytics/yolov5 ✅\n",
      "\u001b[31m\u001b[1mrequirements:\u001b[0m matplotlib>=3.2.2 not found and is required by YOLOv5, attempting auto-update...\n",
      "Requirement already satisfied: matplotlib>=3.2.2 in /sise/home/kaor/.conda/envs/kaor2/lib/python3.9/site-packages (3.5.0)\n",
      "Requirement already satisfied: fonttools>=4.22.0 in /sise/home/kaor/.conda/envs/kaor2/lib/python3.9/site-packages (from matplotlib>=3.2.2) (4.28.3)\n",
      "Requirement already satisfied: pillow>=6.2.0 in /sise/home/kaor/.conda/envs/kaor2/lib/python3.9/site-packages (from matplotlib>=3.2.2) (9.0.1)\n",
      "Requirement already satisfied: python-dateutil>=2.7 in /sise/home/kaor/.conda/envs/kaor2/lib/python3.9/site-packages (from matplotlib>=3.2.2) (2.8.2)\n",
      "Requirement already satisfied: pyparsing>=2.2.1 in /sise/home/kaor/.conda/envs/kaor2/lib/python3.9/site-packages (from matplotlib>=3.2.2) (3.0.5)\n",
      "Requirement already satisfied: numpy>=1.17 in /sise/home/kaor/.conda/envs/kaor2/lib/python3.9/site-packages (from matplotlib>=3.2.2) (1.21.2)\n",
      "Requirement already satisfied: packaging>=20.0 in /sise/home/kaor/.conda/envs/kaor2/lib/python3.9/site-packages (from matplotlib>=3.2.2) (21.0)\n",
      "Requirement already satisfied: kiwisolver>=1.0.1 in /sise/home/kaor/.conda/envs/kaor2/lib/python3.9/site-packages (from matplotlib>=3.2.2) (1.3.2)\n",
      "Requirement already satisfied: setuptools-scm>=4 in /sise/home/kaor/.conda/envs/kaor2/lib/python3.9/site-packages (from matplotlib>=3.2.2) (6.3.2)\n",
      "Requirement already satisfied: cycler>=0.10 in /sise/home/kaor/.conda/envs/kaor2/lib/python3.9/site-packages (from matplotlib>=3.2.2) (0.11.0)\n",
      "Requirement already satisfied: six>=1.5 in /sise/home/kaor/.conda/envs/kaor2/lib/python3.9/site-packages (from python-dateutil>=2.7->matplotlib>=3.2.2) (1.16.0)\n",
      "Requirement already satisfied: setuptools in /sise/home/kaor/.conda/envs/kaor2/lib/python3.9/site-packages (from setuptools-scm>=4->matplotlib>=3.2.2) (58.5.3)\n",
      "Requirement already satisfied: tomli>=1.0.0 in /sise/home/kaor/.conda/envs/kaor2/lib/python3.9/site-packages (from setuptools-scm>=4->matplotlib>=3.2.2) (1.2.2)\n",
      "\n",
      "\u001b[31m\u001b[1mrequirements:\u001b[0m pandas>=1.1.4 not found and is required by YOLOv5, attempting auto-update...\n",
      "Requirement already satisfied: pandas>=1.1.4 in /sise/home/kaor/.conda/envs/kaor2/lib/python3.9/site-packages (1.3.4)\n",
      "Requirement already satisfied: pytz>=2017.3 in /sise/home/kaor/.conda/envs/kaor2/lib/python3.9/site-packages (from pandas>=1.1.4) (2021.3)\n",
      "Requirement already satisfied: python-dateutil>=2.7.3 in /sise/home/kaor/.conda/envs/kaor2/lib/python3.9/site-packages (from pandas>=1.1.4) (2.8.2)\n",
      "Requirement already satisfied: numpy>=1.17.3 in /sise/home/kaor/.conda/envs/kaor2/lib/python3.9/site-packages (from pandas>=1.1.4) (1.21.2)\n",
      "Requirement already satisfied: six>=1.5 in /sise/home/kaor/.conda/envs/kaor2/lib/python3.9/site-packages (from python-dateutil>=2.7.3->pandas>=1.1.4) (1.16.0)\n",
      "\n",
      "\u001b[31m\u001b[1mrequirements:\u001b[0m 2 packages updated per /sise/home/kaor/whale_code/yolo/yolov5/requirements.txt\n",
      "\u001b[31m\u001b[1mrequirements:\u001b[0m ⚠️ \u001b[1mRestart runtime or rerun command for updates to take effect\u001b[0m\n",
      "\n",
      "YOLOv5 🚀 2022-2-25 torch 1.7.1+cu110 CUDA:0 (NVIDIA GeForce RTX 3090, 24268MiB)\n",
      "\n",
      "\u001b[34m\u001b[1mhyperparameters: \u001b[0mlr0=0.01, lrf=0.01, momentum=0.937, weight_decay=0.0005, warmup_epochs=3.0, warmup_momentum=0.8, warmup_bias_lr=0.1, box=0.05, cls=0.5, cls_pw=1.0, obj=1.0, obj_pw=1.0, iou_t=0.2, anchor_t=4.0, fl_gamma=0.0, hsv_h=0.015, hsv_s=0.7, hsv_v=0.4, degrees=0.0, translate=0.1, scale=0.5, shear=0.0, perspective=0.0, flipud=0.0, fliplr=0.5, mosaic=1.0, mixup=0.0, copy_paste=0.0\n",
      "\u001b[34m\u001b[1mWeights & Biases: \u001b[0mrun 'pip install wandb' to automatically track and visualize YOLOv5 🚀 runs (RECOMMENDED)\n",
      "\u001b[34m\u001b[1mTensorBoard: \u001b[0mStart with 'tensorboard --logdir yolov5/runs/train', view at http://localhost:6006/\n",
      "Overriding model.yaml nc=80 with nc=1\n",
      "\n",
      "                 from  n    params  module                                  arguments                     \n",
      "  0                -1  1      7040  models.common.Conv                      [3, 64, 6, 2, 2]              \n",
      "  1                -1  1     73984  models.common.Conv                      [64, 128, 3, 2]               \n",
      "  2                -1  3    156928  models.common.C3                        [128, 128, 3]                 \n",
      "  3                -1  1    295424  models.common.Conv                      [128, 256, 3, 2]              \n",
      "  4                -1  6   1118208  models.common.C3                        [256, 256, 6]                 \n",
      "  5                -1  1   1180672  models.common.Conv                      [256, 512, 3, 2]              \n",
      "  6                -1  9   6433792  models.common.C3                        [512, 512, 9]                 \n",
      "  7                -1  1   4720640  models.common.Conv                      [512, 1024, 3, 2]             \n",
      "  8                -1  3   9971712  models.common.C3                        [1024, 1024, 3]               \n",
      "  9                -1  1   2624512  models.common.SPPF                      [1024, 1024, 5]               \n",
      " 10                -1  1    525312  models.common.Conv                      [1024, 512, 1, 1]             \n",
      " 11                -1  1         0  torch.nn.modules.upsampling.Upsample    [None, 2, 'nearest']          \n",
      " 12           [-1, 6]  1         0  models.common.Concat                    [1]                           \n",
      " 13                -1  3   2757632  models.common.C3                        [1024, 512, 3, False]         \n",
      " 14                -1  1    131584  models.common.Conv                      [512, 256, 1, 1]              \n",
      " 15                -1  1         0  torch.nn.modules.upsampling.Upsample    [None, 2, 'nearest']          \n",
      " 16           [-1, 4]  1         0  models.common.Concat                    [1]                           \n",
      " 17                -1  3    690688  models.common.C3                        [512, 256, 3, False]          \n",
      " 18                -1  1    590336  models.common.Conv                      [256, 256, 3, 2]              \n",
      " 19          [-1, 14]  1         0  models.common.Concat                    [1]                           \n",
      " 20                -1  3   2495488  models.common.C3                        [512, 512, 3, False]          \n",
      " 21                -1  1   2360320  models.common.Conv                      [512, 512, 3, 2]              \n",
      " 22          [-1, 10]  1         0  models.common.Concat                    [1]                           \n",
      " 23                -1  3   9971712  models.common.C3                        [1024, 1024, 3, False]        \n",
      " 24      [17, 20, 23]  1     32310  models.yolo.Detect                      [1, [[10, 13, 16, 30, 33, 23], [30, 61, 62, 45, 59, 119], [116, 90, 156, 198, 373, 326]], [256, 512, 1024]]\n",
      "Model Summary: 468 layers, 46138294 parameters, 46138294 gradients\n",
      "\n",
      "Transferred 607/613 items from yolov5l.pt\n",
      "Scaled weight_decay = 0.0005\n",
      "\u001b[34m\u001b[1moptimizer:\u001b[0m SGD with parameter groups 101 weight (no decay), 104 weight, 104 bias\n",
      "\u001b[34m\u001b[1malbumentations: \u001b[0mBlur(always_apply=False, p=0.01, blur_limit=(3, 7)), MedianBlur(always_apply=False, p=0.01, blur_limit=(3, 7)), ToGray(always_apply=False, p=0.01), CLAHE(always_apply=False, p=0.01, clip_limit=(1, 4.0), tile_grid_size=(8, 8))\n",
      "\u001b[34m\u001b[1mtrain: \u001b[0mScanning '/home/kaor/whale/yolo/train.cache' images and labels... 1262 fo\u001b[0m\n",
      "\u001b[34m\u001b[1mtrain: \u001b[0mCaching images (1.3GB ram): 100%|████| 1262/1262 [00:16<00:00, 75.18it/s]\u001b[0m\n",
      "\u001b[34m\u001b[1mval: \u001b[0mScanning '/home/kaor/whale/yolo/val.cache' images and labels... 251 found, \u001b[0m\n",
      "\u001b[34m\u001b[1mval: \u001b[0mCaching images (0.3GB ram): 100%|████████| 251/251 [00:04<00:00, 52.00it/s]\u001b[0m\n",
      "Plotting labels to yolov5/runs/train/exp2/labels.jpg... \n",
      "Format 'jpg' is not supported (supported formats: eps, pdf, pgf, png, ps, raw, rgba, svg, svgz)\n",
      "\n",
      "\u001b[34m\u001b[1mAutoAnchor: \u001b[0m2.24 anchors/target, 0.974 Best Possible Recall (BPR). Anchors are a poor fit to dataset ⚠️, attempting to improve...\n",
      "\u001b[34m\u001b[1mAutoAnchor: \u001b[0mWARNING: Extremely small objects found. 1 of 1261 labels are < 3 pixels in size.\n",
      "\u001b[34m\u001b[1mAutoAnchor: \u001b[0mRunning kmeans for 9 anchors on 1261 points...\n",
      "\u001b[34m\u001b[1mAutoAnchor: \u001b[0mEvolving anchors with Genetic Algorithm: fitness = 0.7993: 100%|█| 1\u001b[0m\n",
      "\u001b[34m\u001b[1mAutoAnchor: \u001b[0mthr=0.25: 0.9992 best possible recall, 6.26 anchors past thr\n",
      "\u001b[34m\u001b[1mAutoAnchor: \u001b[0mn=9, img_size=768, metric_all=0.404/0.799-mean/best, past_thr=0.510-mean: 106,45, 187,86, 304,115, 645,94, 669,145, 416,236, 658,246, 621,420, 686,652\n",
      "\u001b[34m\u001b[1mAutoAnchor: \u001b[0mNew anchors saved to model. Update model *.yaml to use these anchors in the future.\n",
      "Image sizes 768 train, 768 val\n",
      "Using 8 dataloader workers\n",
      "Logging results to \u001b[1myolov5/runs/train/exp2\u001b[0m\n",
      "Starting training for 10 epochs...\n",
      "\n",
      "     Epoch   gpu_mem       box       obj       cls    labels  img_size\n",
      "       0/9     7.07G   0.07068    0.0443         0        18       768: 100%|███\n",
      "               Class     Images     Labels          P          R     mAP@.5 mAP@\n",
      "                 all        251        251      0.549      0.685      0.534       0.18\n",
      "\n",
      "     Epoch   gpu_mem       box       obj       cls    labels  img_size\n",
      "       1/9     8.52G   0.05237   0.03491         0        14       768: 100%|███\n",
      "               Class     Images     Labels          P          R     mAP@.5 mAP@\n",
      "                 all        251        251      0.727      0.618      0.632      0.168\n",
      "\n",
      "     Epoch   gpu_mem       box       obj       cls    labels  img_size\n",
      "       2/9     8.52G   0.05166   0.02962         0        10       768: 100%|███\n",
      "               Class     Images     Labels          P          R     mAP@.5 mAP@\n",
      "                 all        251        251      0.824      0.769      0.851      0.329\n",
      "\n",
      "     Epoch   gpu_mem       box       obj       cls    labels  img_size\n",
      "       3/9     8.52G   0.04279   0.02866         0        19       768: 100%|███\n",
      "               Class     Images     Labels          P          R     mAP@.5 mAP@\n",
      "                 all        251        251      0.862      0.849      0.893       0.45\n",
      "\n",
      "     Epoch   gpu_mem       box       obj       cls    labels  img_size\n",
      "       4/9     8.52G   0.03697   0.02667         0        14       768: 100%|███\n",
      "               Class     Images     Labels          P          R     mAP@.5 mAP@\n",
      "                 all        251        251      0.851      0.777      0.836        0.4\n",
      "\n",
      "     Epoch   gpu_mem       box       obj       cls    labels  img_size\n",
      "       5/9     8.52G   0.03132   0.02617         0        16       768: 100%|███\n",
      "               Class     Images     Labels          P          R     mAP@.5 mAP@\n",
      "                 all        251        251      0.913       0.88      0.922      0.513\n",
      "\n",
      "     Epoch   gpu_mem       box       obj       cls    labels  img_size\n",
      "       6/9     8.52G   0.02737   0.02509         0        15       768: 100%|███\n",
      "               Class     Images     Labels          P          R     mAP@.5 mAP@\n",
      "                 all        251        251      0.892      0.924      0.929      0.577\n",
      "\n",
      "     Epoch   gpu_mem       box       obj       cls    labels  img_size\n",
      "       7/9     8.52G   0.02426   0.02493         0        20       768: 100%|███\n",
      "               Class     Images     Labels          P          R     mAP@.5 mAP@\n",
      "                 all        251        251      0.913       0.88      0.939      0.608\n",
      "\n",
      "     Epoch   gpu_mem       box       obj       cls    labels  img_size\n",
      "       8/9     8.52G   0.02204   0.02466         0        20       768: 100%|███\n",
      "               Class     Images     Labels          P          R     mAP@.5 mAP@\n",
      "                 all        251        251      0.851      0.932      0.923      0.606\n",
      "\n",
      "     Epoch   gpu_mem       box       obj       cls    labels  img_size\n",
      "       9/9     8.52G   0.02089   0.02408         0        18       768: 100%|███\n",
      "               Class     Images     Labels          P          R     mAP@.5 mAP@\n",
      "                 all        251        251      0.923      0.912      0.946      0.652\n",
      "\n",
      "10 epochs completed in 0.216 hours.\n",
      "Optimizer stripped from yolov5/runs/train/exp2/weights/last.pt, 93.0MB\n",
      "Optimizer stripped from yolov5/runs/train/exp2/weights/best.pt, 93.0MB\n",
      "\n",
      "Validating yolov5/runs/train/exp2/weights/best.pt...\n",
      "Fusing layers... \n",
      "Model Summary: 367 layers, 46108278 parameters, 0 gradients\n",
      "               Class     Images     Labels          P          R     mAP@.5 mAP@\n",
      "                 all        251        251      0.923      0.912      0.946      0.653\n",
      "Results saved to \u001b[1myolov5/runs/train/exp2\u001b[0m\n"
     ]
    }
   ],
   "source": [
    "!~/.conda/envs/openmmlab/bin/python yolov5/train.py --img {DIM}\\\n",
    "--batch {BATCH}\\\n",
    "--epochs {EPOCHS}\\\n",
    "--data /home/kaor/whale/yolo/happywhale.yaml\\\n",
    "--weights {MODEL}.pt --cache"
   ]
  },
  {
   "cell_type": "code",
   "execution_count": 19,
   "id": "a7cf35cd-72c8-4001-aa86-8cad29c78aa0",
   "metadata": {},
   "outputs": [
    {
     "name": "stderr",
     "output_type": "stream",
     "text": [
      "Using cache found in /home/kaor/.cache/torch/hub/ultralytics_yolov5_master\n"
     ]
    },
    {
     "name": "stdout",
     "output_type": "stream",
     "text": [
      "\u001b[31m\u001b[1mrequirements:\u001b[0m matplotlib>=3.2.2 not found and is required by YOLOv5, attempting auto-update...\n",
      "Requirement already satisfied: matplotlib>=3.2.2 in /sise/home/kaor/.conda/envs/kaor2/lib/python3.9/site-packages (3.5.0)\n",
      "Requirement already satisfied: pillow>=6.2.0 in /sise/home/kaor/.conda/envs/kaor2/lib/python3.9/site-packages (from matplotlib>=3.2.2) (9.0.1)\n",
      "Requirement already satisfied: python-dateutil>=2.7 in /sise/home/kaor/.conda/envs/kaor2/lib/python3.9/site-packages (from matplotlib>=3.2.2) (2.8.2)\n",
      "Requirement already satisfied: numpy>=1.17 in /sise/home/kaor/.conda/envs/kaor2/lib/python3.9/site-packages (from matplotlib>=3.2.2) (1.21.2)\n",
      "Requirement already satisfied: pyparsing>=2.2.1 in /sise/home/kaor/.conda/envs/kaor2/lib/python3.9/site-packages (from matplotlib>=3.2.2) (3.0.5)\n",
      "Requirement already satisfied: fonttools>=4.22.0 in /sise/home/kaor/.conda/envs/kaor2/lib/python3.9/site-packages (from matplotlib>=3.2.2) (4.28.3)\n",
      "Requirement already satisfied: kiwisolver>=1.0.1 in /sise/home/kaor/.conda/envs/kaor2/lib/python3.9/site-packages (from matplotlib>=3.2.2) (1.3.2)\n",
      "Requirement already satisfied: packaging>=20.0 in /sise/home/kaor/.conda/envs/kaor2/lib/python3.9/site-packages (from matplotlib>=3.2.2) (21.0)\n",
      "Requirement already satisfied: cycler>=0.10 in /sise/home/kaor/.conda/envs/kaor2/lib/python3.9/site-packages (from matplotlib>=3.2.2) (0.11.0)\n",
      "Requirement already satisfied: setuptools-scm>=4 in /sise/home/kaor/.conda/envs/kaor2/lib/python3.9/site-packages (from matplotlib>=3.2.2) (6.3.2)\n",
      "Requirement already satisfied: six>=1.5 in /sise/home/kaor/.conda/envs/kaor2/lib/python3.9/site-packages (from python-dateutil>=2.7->matplotlib>=3.2.2) (1.16.0)\n",
      "Requirement already satisfied: setuptools in /sise/home/kaor/.conda/envs/kaor2/lib/python3.9/site-packages (from setuptools-scm>=4->matplotlib>=3.2.2) (58.5.3)\n",
      "Requirement already satisfied: tomli>=1.0.0 in /sise/home/kaor/.conda/envs/kaor2/lib/python3.9/site-packages (from setuptools-scm>=4->matplotlib>=3.2.2) (1.2.2)\n",
      "\n",
      "\u001b[31m\u001b[1mrequirements:\u001b[0m pandas>=1.1.4 not found and is required by YOLOv5, attempting auto-update...\n"
     ]
    },
    {
     "name": "stderr",
     "output_type": "stream",
     "text": [
      "YOLOv5 🚀 2021-12-20 torch 1.7.1+cu110 CUDA:0 (NVIDIA GeForce RTX 3090, 24268MiB)\n",
      "\n"
     ]
    },
    {
     "name": "stdout",
     "output_type": "stream",
     "text": [
      "Requirement already satisfied: pandas>=1.1.4 in /sise/home/kaor/.conda/envs/kaor2/lib/python3.9/site-packages (1.3.4)\n",
      "Requirement already satisfied: pytz>=2017.3 in /sise/home/kaor/.conda/envs/kaor2/lib/python3.9/site-packages (from pandas>=1.1.4) (2021.3)\n",
      "Requirement already satisfied: numpy>=1.17.3 in /sise/home/kaor/.conda/envs/kaor2/lib/python3.9/site-packages (from pandas>=1.1.4) (1.21.2)\n",
      "Requirement already satisfied: python-dateutil>=2.7.3 in /sise/home/kaor/.conda/envs/kaor2/lib/python3.9/site-packages (from pandas>=1.1.4) (2.8.2)\n",
      "Requirement already satisfied: six>=1.5 in /sise/home/kaor/.conda/envs/kaor2/lib/python3.9/site-packages (from python-dateutil>=2.7.3->pandas>=1.1.4) (1.16.0)\n",
      "\n",
      "\u001b[31m\u001b[1mrequirements:\u001b[0m 2 packages updated per /sise/home/kaor/.cache/torch/hub/ultralytics_yolov5_master/requirements.txt\n",
      "\u001b[31m\u001b[1mrequirements:\u001b[0m ⚠️ \u001b[1mRestart runtime or rerun command for updates to take effect\u001b[0m\n",
      "\n"
     ]
    },
    {
     "name": "stderr",
     "output_type": "stream",
     "text": [
      "Fusing layers... \n",
      "Model Summary: 367 layers, 46108278 parameters, 0 gradients\n",
      "Adding AutoShape... \n"
     ]
    }
   ],
   "source": [
    "import torch\n",
    "\n",
    "# Model\n",
    "model = torch.hub.load('ultralytics/yolov5','custom',path = 'yolov5/runs/train/exp2/weights/best.pt',)  # or yolov5m, yolov5l, yolov5x, custom"
   ]
  },
  {
   "cell_type": "code",
   "execution_count": 103,
   "id": "103da08d-9daa-4823-9aa3-c63be057b174",
   "metadata": {},
   "outputs": [],
   "source": [
    "model.conf = 0.05"
   ]
  },
  {
   "cell_type": "code",
   "execution_count": null,
   "id": "53157972-34d8-44f7-9294-d28954b3d9cb",
   "metadata": {},
   "outputs": [
    {
     "name": "stderr",
     "output_type": "stream",
     "text": [
      " 13%|█▎        | 6571/51033 [17:23<2:37:56,  4.69it/s]"
     ]
    }
   ],
   "source": [
    "%matplotlib inline\n",
    "from tqdm import tqdm\n",
    "r = glob.glob(\"/home/kaor/whale/train_images/*jpg\")\n",
    "df_list = []\n",
    "# for z in range(30,40):\n",
    "#     # plt.figure(figsize=[20,20])\n",
    "#     # s = 1\n",
    "if True:\n",
    "    for i in tqdm(range(0,len(r))):\n",
    "        # plt.subplot(3,3,s)\n",
    "        # s+=1\n",
    "        img= cv2.imread(r[i])[:,:,::-1]\n",
    "        res = model(img)\n",
    "        if res.xyxy[0].shape[0] != 0:\n",
    "            d_f = res.pandas().xyxy[0]\n",
    "            d_f['image'] = r[i].split(\"/\")[-1]\n",
    "            df_list.append(d_f)\n",
    "pd.concat(df_list).to_csv(\"train_bbox.csv\",index=False)\n",
    "    #     img = cv2.imread(r[i])\n",
    "    #     if res.xyxy[0].shape[0] != 0:\n",
    "    #         for row in res.pandas().xyxy[0].values:\n",
    "    #             x0,y0,x1,y1,c,cl,n = row\n",
    "    #             img = cv2.rectangle(img,(int(x0),int(y0)),(int(x1),int(y1)),(255,0,0),int(max(img.shape[0],img.shape[1])/60))\n",
    "    #             break\n",
    "    #     plt.imshow(img[:,:,::-1])\n",
    "    # plt.show()"
   ]
  },
  {
   "cell_type": "code",
   "execution_count": null,
   "id": "84844e52-846b-4c77-ae3e-9c7000297326",
   "metadata": {},
   "outputs": [],
   "source": [
    "r = glob.glob(\"/home/kaor/whale/test_images/*jpg\")\n",
    "df_list = []\n",
    "if True:\n",
    "    for i in tqdm(range(0,len(r))):\n",
    "        img= cv2.imread(r[i])[:,:,::-1]\n",
    "        res = model(img)\n",
    "        if res.xyxy[0].shape[0] != 0:\n",
    "            d_f = res.pandas().xyxy[0]\n",
    "            d_f['image'] = r[i].split(\"/\")[-1]\n",
    "            df_list.append(d_f)\n",
    "pd.concat(df_list).to_csv(\"test_bbox.csv\",index=False)"
   ]
  },
  {
   "cell_type": "code",
   "execution_count": null,
   "id": "e6bc9de6-670b-4e73-a270-2b50978453fa",
   "metadata": {},
   "outputs": [],
   "source": []
  }
 ],
 "metadata": {
  "kernelspec": {
   "display_name": "Python 3 (ipykernel)",
   "language": "python",
   "name": "python3"
  },
  "language_info": {
   "codemirror_mode": {
    "name": "ipython",
    "version": 3
   },
   "file_extension": ".py",
   "mimetype": "text/x-python",
   "name": "python",
   "nbconvert_exporter": "python",
   "pygments_lexer": "ipython3",
   "version": "3.7.12"
  }
 },
 "nbformat": 4,
 "nbformat_minor": 5
}
