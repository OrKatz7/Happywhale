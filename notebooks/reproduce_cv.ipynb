{
 "cells": [
  {
   "cell_type": "code",
   "execution_count": 1,
   "metadata": {
    "scrolled": true
   },
   "outputs": [],
   "source": [
    "import numpy as np\n",
    "import matplotlib.pyplot as plt\n",
    "import pandas as pd\n",
    "\n",
    "from tqdm import tqdm\n",
    "\n",
    "from collections import Counter\n",
    "from sklearn.metrics import pairwise_distances\n",
    "from sklearn.preprocessing import normalize\n",
    "\n",
    "from collections import defaultdict"
   ]
  },
  {
   "cell_type": "code",
   "execution_count": 2,
   "metadata": {},
   "outputs": [],
   "source": [
    "import bz2\n",
    "import pickle\n",
    "import _pickle as cPickle\n",
    "\n",
    "def compressed_pickle(title, data):\n",
    "    with bz2.BZ2File(title + '.pbz2', 'w') as f:\n",
    "        cPickle.dump(data, f)\n",
    "        \n",
    "def decompress_pickle(file):\n",
    "    data = bz2.BZ2File(file, 'rb')\n",
    "    data = cPickle.load(data)\n",
    "    return data"
   ]
  },
  {
   "cell_type": "code",
   "execution_count": 3,
   "metadata": {},
   "outputs": [],
   "source": [
    "team_files = [\n",
    "    \"exp16v6AugmixFullB4_fold0.pbz2\",\n",
    "]"
   ]
  },
  {
   "cell_type": "code",
   "execution_count": 4,
   "metadata": {},
   "outputs": [],
   "source": [
    "FOLD=0"
   ]
  },
  {
   "cell_type": "code",
   "execution_count": null,
   "metadata": {},
   "outputs": [],
   "source": []
  },
  {
   "cell_type": "code",
   "execution_count": 5,
   "metadata": {},
   "outputs": [
    {
     "data": {
      "text/plain": [
       "(51033, 8)"
      ]
     },
     "execution_count": 5,
     "metadata": {},
     "output_type": "execute_result"
    }
   ],
   "source": [
    "fold2 = pd.read_csv(\"/kaggle/happywhale/input/whale-21-3-2022/fold2.csv\")\n",
    "fold2.shape"
   ]
  },
  {
   "cell_type": "code",
   "execution_count": 6,
   "metadata": {},
   "outputs": [
    {
     "data": {
      "text/plain": [
       "Counter({-1: 9258, 1: 8319, 2: 8289, 3: 8374, 4: 8421, 0: 8372})"
      ]
     },
     "execution_count": 6,
     "metadata": {},
     "output_type": "execute_result"
    }
   ],
   "source": [
    "Counter(fold2.fold)"
   ]
  },
  {
   "cell_type": "code",
   "execution_count": 7,
   "metadata": {},
   "outputs": [],
   "source": [
    "valid = fold2.query(\"fold == @FOLD\").reset_index()\n",
    "train = fold2.query(\"fold != @FOLD\").reset_index()"
   ]
  },
  {
   "cell_type": "code",
   "execution_count": 8,
   "metadata": {},
   "outputs": [
    {
     "data": {
      "text/plain": [
       "((8372, 9), (42661, 9))"
      ]
     },
     "execution_count": 8,
     "metadata": {},
     "output_type": "execute_result"
    }
   ],
   "source": [
    "valid.shape,train.shape"
   ]
  },
  {
   "cell_type": "code",
   "execution_count": 9,
   "metadata": {},
   "outputs": [],
   "source": [
    "valid_ind = (fold2.fold == FOLD).values\n",
    "train_ind = (fold2.fold != FOLD).values"
   ]
  },
  {
   "cell_type": "code",
   "execution_count": null,
   "metadata": {},
   "outputs": [],
   "source": []
  },
  {
   "cell_type": "code",
   "execution_count": 10,
   "metadata": {},
   "outputs": [],
   "source": [
    "def get_embeddings(files):\n",
    "    DIRNAME =\"../input/whale-21-3-2022/\"\n",
    "  \n",
    "    train_emb_lis = []\n",
    "    test_emb_lis  = []\n",
    "    \n",
    "    for fname in files:\n",
    "        print(fname)\n",
    "        data = decompress_pickle(DIRNAME + fname)\n",
    "        \n",
    "        train_emb = data[\"emb_val\"]#[new_index,:]\n",
    "        test_emb  = data[\"emb_test\"]\n",
    "\n",
    "        train_emb_lis.append(train_emb)\n",
    "        test_emb_lis.append(test_emb)\n",
    "        \n",
    "        print(\"    \",train_emb.shape,test_emb.shape)\n",
    "    \n",
    "    ret_train = np.concatenate(train_emb_lis,axis=1)\n",
    "    ret_test  = np.concatenate(test_emb_lis,axis=1)\n",
    "        \n",
    "    return ret_train,ret_test\n",
    "    "
   ]
  },
  {
   "cell_type": "code",
   "execution_count": 11,
   "metadata": {},
   "outputs": [],
   "source": [
    "def get_valid_score(distances):\n",
    "    \n",
    "    K=1000\n",
    "    predicted_positions = np.argpartition(distances, K, axis=1)[:, :K]\n",
    "\n",
    "    \n",
    "    score_lis = []\n",
    "\n",
    "    train_inddividual_id_lis = train[\"individual_id\"].values\n",
    "    valid_inddividual_id_lis = valid[\"individual_id\"].values\n",
    "\n",
    "    for i in tqdm(range(predicted_positions.shape[0])):\n",
    "        nearest = [(train_inddividual_id_lis[j], distances[i, j]) for j in predicted_positions[i]]\n",
    "        nearest.sort(key=lambda x: x[1])\n",
    "\n",
    "        prediction = [index_id for index_id, d in nearest]\n",
    "\n",
    "        done = set()\n",
    "        pred_list = []\n",
    "        for pred_id in prediction:\n",
    "            if pred_id in done:\n",
    "                continue\n",
    "            done.add(pred_id)\n",
    "            pred_list.append(pred_id)\n",
    "            if len(pred_list)==5:\n",
    "                break\n",
    "\n",
    "        if valid_inddividual_id_lis[i] in pred_list:\n",
    "            s = 1/(pred_list.index(valid_inddividual_id_lis[i]) + 1)\n",
    "            score_lis.append(s)\n",
    "        else:\n",
    "            score_lis.append(0)    \n",
    "            \n",
    "    return score_lis"
   ]
  },
  {
   "cell_type": "code",
   "execution_count": null,
   "metadata": {},
   "outputs": [],
   "source": []
  },
  {
   "cell_type": "code",
   "execution_count": null,
   "metadata": {},
   "outputs": [],
   "source": []
  },
  {
   "cell_type": "markdown",
   "metadata": {},
   "source": [
    "### euclidean distance with normalize"
   ]
  },
  {
   "cell_type": "code",
   "execution_count": 12,
   "metadata": {},
   "outputs": [
    {
     "name": "stdout",
     "output_type": "stream",
     "text": [
      "exp16v6AugmixFullB4_fold0.pbz2\n",
      "     (51033, 1024) (27956, 1024)\n"
     ]
    }
   ],
   "source": [
    "# this returns unnormalized embeddings\n",
    "train_emb, _ = get_embeddings(team_files)"
   ]
  },
  {
   "cell_type": "code",
   "execution_count": 13,
   "metadata": {},
   "outputs": [
    {
     "data": {
      "text/plain": [
       "(51033, 1024)"
      ]
     },
     "execution_count": 13,
     "metadata": {},
     "output_type": "execute_result"
    }
   ],
   "source": [
    "train_emb.shape"
   ]
  },
  {
   "cell_type": "code",
   "execution_count": 14,
   "metadata": {},
   "outputs": [],
   "source": [
    "train_emb=normalize(train_emb)"
   ]
  },
  {
   "cell_type": "code",
   "execution_count": 15,
   "metadata": {},
   "outputs": [],
   "source": [
    "valid_embeddings = train_emb[valid_ind]\n",
    "train_embeddings = train_emb[train_ind]"
   ]
  },
  {
   "cell_type": "code",
   "execution_count": 16,
   "metadata": {},
   "outputs": [],
   "source": [
    "distances = pairwise_distances(valid_embeddings,train_embeddings)"
   ]
  },
  {
   "cell_type": "code",
   "execution_count": 17,
   "metadata": {},
   "outputs": [
    {
     "name": "stderr",
     "output_type": "stream",
     "text": [
      "100%|██████████| 8372/8372 [00:07<00:00, 1138.70it/s]\n"
     ]
    }
   ],
   "source": [
    "score_lis = get_valid_score(distances)"
   ]
  },
  {
   "cell_type": "code",
   "execution_count": 18,
   "metadata": {},
   "outputs": [
    {
     "data": {
      "text/plain": [
       "0.8401596591813983"
      ]
     },
     "execution_count": 18,
     "metadata": {},
     "output_type": "execute_result"
    }
   ],
   "source": [
    "np.mean(score_lis)"
   ]
  },
  {
   "cell_type": "code",
   "execution_count": 19,
   "metadata": {
    "scrolled": false
   },
   "outputs": [
    {
     "data": {
      "text/plain": [
       "Counter({1.0: 6764,\n",
       "         0: 930,\n",
       "         0.5: 367,\n",
       "         0.2: 77,\n",
       "         0.25: 85,\n",
       "         0.3333333333333333: 149})"
      ]
     },
     "execution_count": 19,
     "metadata": {},
     "output_type": "execute_result"
    }
   ],
   "source": [
    "Counter(score_lis)"
   ]
  },
  {
   "cell_type": "code",
   "execution_count": null,
   "metadata": {},
   "outputs": [],
   "source": []
  },
  {
   "cell_type": "markdown",
   "metadata": {},
   "source": [
    "## cosine similarity WITHOUT normalize"
   ]
  },
  {
   "cell_type": "code",
   "execution_count": 20,
   "metadata": {},
   "outputs": [],
   "source": [
    "def cos_sim(v1, v2):\n",
    "    return np.dot(v1, v2) / (np.linalg.norm(v1) * np.linalg.norm(v2))"
   ]
  },
  {
   "cell_type": "code",
   "execution_count": 21,
   "metadata": {
    "scrolled": true
   },
   "outputs": [
    {
     "name": "stdout",
     "output_type": "stream",
     "text": [
      "exp16v6AugmixFullB4_fold0.pbz2\n",
      "     (51033, 1024) (27956, 1024)\n"
     ]
    }
   ],
   "source": [
    "# this returns unnormalized embeddings\n",
    "train_emb, _ = get_embeddings(team_files)"
   ]
  },
  {
   "cell_type": "code",
   "execution_count": 22,
   "metadata": {},
   "outputs": [],
   "source": [
    "valid_embeddings = train_emb[valid_ind]\n",
    "train_embeddings = train_emb[train_ind]"
   ]
  },
  {
   "cell_type": "code",
   "execution_count": 23,
   "metadata": {},
   "outputs": [
    {
     "data": {
      "text/plain": [
       "((8372, 1024), (42661, 1024))"
      ]
     },
     "execution_count": 23,
     "metadata": {},
     "output_type": "execute_result"
    }
   ],
   "source": [
    "valid_embeddings.shape,train_embeddings.shape"
   ]
  },
  {
   "cell_type": "code",
   "execution_count": 24,
   "metadata": {},
   "outputs": [],
   "source": [
    "distances = cos_sim(valid_embeddings,train_embeddings.T)"
   ]
  },
  {
   "cell_type": "code",
   "execution_count": 25,
   "metadata": {},
   "outputs": [],
   "source": [
    "# i want distances to be smaller is near\n",
    "distances= -distances"
   ]
  },
  {
   "cell_type": "code",
   "execution_count": 26,
   "metadata": {},
   "outputs": [
    {
     "name": "stderr",
     "output_type": "stream",
     "text": [
      "100%|██████████| 8372/8372 [00:07<00:00, 1120.22it/s]\n"
     ]
    }
   ],
   "source": [
    "score_lis = get_valid_score(distances)"
   ]
  },
  {
   "cell_type": "code",
   "execution_count": 27,
   "metadata": {
    "scrolled": true
   },
   "outputs": [
    {
     "data": {
      "text/plain": [
       "0.7861562350692786"
      ]
     },
     "execution_count": 27,
     "metadata": {},
     "output_type": "execute_result"
    }
   ],
   "source": [
    "np.mean(score_lis)"
   ]
  },
  {
   "cell_type": "code",
   "execution_count": 28,
   "metadata": {
    "scrolled": true
   },
   "outputs": [
    {
     "data": {
      "text/plain": [
       "Counter({0.5: 463,\n",
       "         1.0: 6219,\n",
       "         0: 1220,\n",
       "         0.25: 128,\n",
       "         0.2: 111,\n",
       "         0.3333333333333333: 231})"
      ]
     },
     "execution_count": 28,
     "metadata": {},
     "output_type": "execute_result"
    }
   ],
   "source": [
    "Counter(score_lis)"
   ]
  },
  {
   "cell_type": "code",
   "execution_count": null,
   "metadata": {},
   "outputs": [],
   "source": []
  },
  {
   "cell_type": "markdown",
   "metadata": {},
   "source": [
    "## cosine similarity WITH normalize"
   ]
  },
  {
   "cell_type": "code",
   "execution_count": 29,
   "metadata": {},
   "outputs": [],
   "source": [
    "def cos_sim(v1, v2):\n",
    "    return np.dot(v1, v2) / (np.linalg.norm(v1) * np.linalg.norm(v2))"
   ]
  },
  {
   "cell_type": "code",
   "execution_count": 30,
   "metadata": {
    "scrolled": true
   },
   "outputs": [
    {
     "name": "stdout",
     "output_type": "stream",
     "text": [
      "exp16v6AugmixFullB4_fold0.pbz2\n",
      "     (51033, 1024) (27956, 1024)\n"
     ]
    }
   ],
   "source": [
    "# this returns unnormalized embeddings\n",
    "train_emb, _ = get_embeddings(team_files)"
   ]
  },
  {
   "cell_type": "code",
   "execution_count": 31,
   "metadata": {},
   "outputs": [],
   "source": [
    "train_emb=normalize(train_emb)"
   ]
  },
  {
   "cell_type": "code",
   "execution_count": 32,
   "metadata": {},
   "outputs": [],
   "source": [
    "valid_embeddings = train_emb[valid_ind]\n",
    "train_embeddings = train_emb[train_ind]"
   ]
  },
  {
   "cell_type": "code",
   "execution_count": 33,
   "metadata": {},
   "outputs": [
    {
     "data": {
      "text/plain": [
       "((8372, 1024), (42661, 1024))"
      ]
     },
     "execution_count": 33,
     "metadata": {},
     "output_type": "execute_result"
    }
   ],
   "source": [
    "valid_embeddings.shape,train_embeddings.shape"
   ]
  },
  {
   "cell_type": "code",
   "execution_count": 34,
   "metadata": {},
   "outputs": [],
   "source": [
    "distances = cos_sim(valid_embeddings,train_embeddings.T)"
   ]
  },
  {
   "cell_type": "code",
   "execution_count": 35,
   "metadata": {},
   "outputs": [],
   "source": [
    "# i want distances to be smaller is near\n",
    "distances= -distances"
   ]
  },
  {
   "cell_type": "code",
   "execution_count": 36,
   "metadata": {},
   "outputs": [
    {
     "name": "stderr",
     "output_type": "stream",
     "text": [
      "100%|██████████| 8372/8372 [00:07<00:00, 1135.25it/s]\n"
     ]
    }
   ],
   "source": [
    "score_lis = get_valid_score(distances)"
   ]
  },
  {
   "cell_type": "code",
   "execution_count": 37,
   "metadata": {
    "scrolled": true
   },
   "outputs": [
    {
     "data": {
      "text/plain": [
       "0.8401596591813983"
      ]
     },
     "execution_count": 37,
     "metadata": {},
     "output_type": "execute_result"
    }
   ],
   "source": [
    "np.mean(score_lis)"
   ]
  },
  {
   "cell_type": "code",
   "execution_count": 38,
   "metadata": {
    "scrolled": true
   },
   "outputs": [
    {
     "data": {
      "text/plain": [
       "Counter({1.0: 6764,\n",
       "         0: 930,\n",
       "         0.5: 367,\n",
       "         0.2: 77,\n",
       "         0.25: 85,\n",
       "         0.3333333333333333: 149})"
      ]
     },
     "execution_count": 38,
     "metadata": {},
     "output_type": "execute_result"
    }
   ],
   "source": [
    "Counter(score_lis)"
   ]
  },
  {
   "cell_type": "code",
   "execution_count": null,
   "metadata": {},
   "outputs": [],
   "source": []
  }
 ],
 "metadata": {
  "kernelspec": {
   "display_name": "Python 3 (ipykernel)",
   "language": "python",
   "name": "python3"
  },
  "language_info": {
   "codemirror_mode": {
    "name": "ipython",
    "version": 3
   },
   "file_extension": ".py",
   "mimetype": "text/x-python",
   "name": "python",
   "nbconvert_exporter": "python",
   "pygments_lexer": "ipython3",
   "version": "3.7.12"
  }
 },
 "nbformat": 4,
 "nbformat_minor": 4
}
