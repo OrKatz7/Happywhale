{
 "cells": [
  {
   "cell_type": "code",
   "execution_count": 79,
   "metadata": {
    "scrolled": true
   },
   "outputs": [],
   "source": [
    "import numpy as np\n",
    "import matplotlib.pyplot as plt\n",
    "import pandas as pd\n",
    "import json\n",
    "import glob\n",
    "\n",
    "from tqdm import tqdm\n",
    "import seaborn as sns\n",
    "from collections import Counter\n",
    "\n",
    "import cv2"
   ]
  },
  {
   "cell_type": "code",
   "execution_count": 80,
   "metadata": {},
   "outputs": [],
   "source": [
    "from glob import glob\n",
    "from sklearn.model_selection import GroupKFold, StratifiedKFold\n",
    "from skimage import io\n",
    "import torch\n",
    "from torch import nn\n",
    "import os\n",
    "from datetime import datetime\n",
    "import time\n",
    "import random\n",
    "import cv2\n",
    "import torchvision\n",
    "from torchvision import transforms\n",
    "import pandas as pd\n",
    "import numpy as np\n",
    "from tqdm import tqdm\n",
    "\n",
    "import matplotlib.pyplot as plt\n",
    "from torch.utils.data import Dataset,DataLoader\n",
    "from torch.utils.data.sampler import SequentialSampler, RandomSampler\n",
    "from torch.cuda.amp import autocast, GradScaler\n",
    "from torch.nn.modules.loss import _WeightedLoss\n",
    "import torch.nn.functional as F\n",
    "\n",
    "#import timm\n",
    "\n",
    "import sklearn\n",
    "import warnings\n",
    "import joblib\n",
    "from sklearn.metrics import roc_auc_score, log_loss\n",
    "from sklearn import metrics\n",
    "import warnings\n",
    "import cv2\n",
    "#from efficientnet_pytorch import EfficientNet\n",
    "from scipy.ndimage.interpolation import zoom"
   ]
  },
  {
   "cell_type": "code",
   "execution_count": 81,
   "metadata": {},
   "outputs": [],
   "source": [
    "import cudf, cuml, cupy\n",
    "from cuml.feature_extraction.text import TfidfVectorizer\n",
    "from cuml.neighbors import NearestNeighbors"
   ]
  },
  {
   "cell_type": "code",
   "execution_count": 82,
   "metadata": {
    "scrolled": false
   },
   "outputs": [
    {
     "data": {
      "text/plain": [
       "(51033, 3)"
      ]
     },
     "execution_count": 82,
     "metadata": {},
     "output_type": "execute_result"
    }
   ],
   "source": [
    "train = pd.read_csv(\"/kaggle/happywhale/input/train.csv\")\n",
    "train.shape"
   ]
  },
  {
   "cell_type": "code",
   "execution_count": 83,
   "metadata": {},
   "outputs": [],
   "source": [
    "train.species.replace({\"globis\": \"short_finned_pilot_whale\",\n",
    "                          \"pilot_whale\": \"short_finned_pilot_whale\",\n",
    "                          \"kiler_whale\": \"killer_whale\",\n",
    "                          \"bottlenose_dolpin\": \"bottlenose_dolphin\"}, inplace=True)"
   ]
  },
  {
   "cell_type": "code",
   "execution_count": 84,
   "metadata": {},
   "outputs": [],
   "source": [
    "from sklearn.preprocessing import normalize\n",
    "from scipy.spatial import distance"
   ]
  },
  {
   "cell_type": "code",
   "execution_count": 85,
   "metadata": {},
   "outputs": [],
   "source": [
    "import pickle\n",
    "\n",
    "def load_emb(exp_names,pickle_name):\n",
    "    # train/valid   train_all/test\n",
    "    emb_lis = []\n",
    "    for exp in exp_names:\n",
    "        with open(exp + '/' + pickle_name + '.pickle', 'rb') as f:\n",
    "            valid_preds = pickle.load(f)\n",
    "        emb_lis.append(valid_preds)\n",
    "    \n",
    "    return normalize(np.concatenate(emb_lis,axis=1))\n",
    "        "
   ]
  },
  {
   "cell_type": "code",
   "execution_count": 86,
   "metadata": {},
   "outputs": [],
   "source": [
    "import pickle\n",
    "\n",
    "def load_emb_weighted(exp_names,pickle_name,weights):\n",
    "    # train/valid   train_all/test\n",
    "    emb_lis = []\n",
    "    for exp,w in zip(exp_names,weights):\n",
    "        with open(exp + '/' + pickle_name + '.pickle', 'rb') as f:\n",
    "            valid_preds = pickle.load(f)\n",
    "        valid_preds *= w\n",
    "        emb_lis.append(valid_preds)\n",
    "    \n",
    "    return normalize(np.concatenate(emb_lis,axis=1))\n",
    "        "
   ]
  },
  {
   "cell_type": "code",
   "execution_count": 87,
   "metadata": {},
   "outputs": [],
   "source": [
    "exps = [\n",
    "    \"aws_exp000\",\"aws_exp001\",\"aws_exp002\",\"aws_exp003\",\"aws_exp004\", # backfin\n",
    "    \"exp093\",\"exp098\",\"exp099\",\"exp100\",\"exp101\", # fullbody\n",
    "    \"aws_exp006\",\"aws_exp007\",\"aws_exp008\",\"aws_exp009\",\"aws_exp010\", # ensemble\n",
    "    \"aws_exp022\",\"aws_exp023\",\"aws_exp024\",\"aws_exp025\",\"aws_exp026\", # backfin_ensemble_species\n",
    "]\n"
   ]
  },
  {
   "cell_type": "code",
   "execution_count": null,
   "metadata": {},
   "outputs": [],
   "source": []
  },
  {
   "cell_type": "code",
   "execution_count": 88,
   "metadata": {},
   "outputs": [],
   "source": [
    "def get_map(valid_preds, train_preds,valid_df,train_df):\n",
    "\n",
    "    distances = cuml.metrics.pairwise_distances(valid_preds,train_preds)\n",
    "\n",
    "    K=min(1000,len(train_df)-1)\n",
    "    predicted_positions = np.argpartition(distances, K, axis=1)[:, :K]\n",
    "\n",
    "    score_lis = []\n",
    "    pred_ids = []\n",
    "    corredt_ids  = []\n",
    "    hit_species=defaultdict(int)\n",
    "    count_species=defaultdict(int)\n",
    "\n",
    "    train_inddividual_id_lis = train_df[\"individual_id\"].values\n",
    "    valid_inddividual_id_lis = valid_df[\"individual_id\"].values\n",
    "\n",
    "    rank_lis=[]\n",
    "\n",
    "    for i in tqdm(range(predicted_positions.shape[0])):\n",
    "        nearest = [(train_inddividual_id_lis[j], distances[i, j]) for j in predicted_positions[i]]\n",
    "        nearest.sort(key=lambda x: x[1])\n",
    "\n",
    "        prediction = [index_id for index_id, d in nearest]\n",
    "\n",
    "        done = set()\n",
    "        pred_list = []\n",
    "        for pred_id in prediction:\n",
    "            if pred_id in done:\n",
    "                continue\n",
    "            done.add(pred_id)\n",
    "            pred_list.append(pred_id)\n",
    "            if len(pred_list)==5:\n",
    "                break\n",
    "        pred_ids.append(pred_list)\n",
    "\n",
    "        if valid_inddividual_id_lis[i] in pred_list:\n",
    "            s = 1/(pred_list.index(valid_inddividual_id_lis[i]) + 1)\n",
    "            score_lis.append(s)\n",
    "            rank_lis.append(pred_list.index(valid_inddividual_id_lis[i]))\n",
    "        else:\n",
    "            score_lis.append(0)\n",
    "            rank_lis.append(5)\n",
    "\n",
    "        \n",
    "    return score_lis"
   ]
  },
  {
   "cell_type": "code",
   "execution_count": 89,
   "metadata": {},
   "outputs": [],
   "source": [
    "def get_score(species,exps,weights):\n",
    "    train_preds = load_emb_weighted(exps,\"train\",weights)\n",
    "    valid_preds = load_emb_weighted(exps,\"valid\",weights)\n",
    "    \n",
    "    species_train_df = train_df.query(\"species in @species\")\n",
    "    species_valid_df = valid_df_for_train.query(\"species in @species\")\n",
    "\n",
    "    train_preds = train_preds[species_train_df.index]\n",
    "    valid_preds = valid_preds[species_valid_df.index]\n",
    "    \n",
    "    return get_map(valid_preds,train_preds,species_valid_df,species_train_df)"
   ]
  },
  {
   "cell_type": "code",
   "execution_count": 90,
   "metadata": {},
   "outputs": [],
   "source": [
    "result_df_4 = pd.read_csv(\"species_aware_weighted_average_0410_fold_4.csv\")\n",
    "result_df_3 = pd.read_csv(\"species_aware_weighted_average_0410_fold_3.csv\")\n",
    "result_df_2 = pd.read_csv(\"species_aware_weighted_average_0410_fold_2.csv\")\n",
    "result_df_1 = pd.read_csv(\"species_aware_weighted_average_0410_fold_1.csv\")\n",
    "result_df_0 = pd.read_csv(\"species_aware_weighted_average_0410_fold_0.csv\")"
   ]
  },
  {
   "cell_type": "code",
   "execution_count": 91,
   "metadata": {},
   "outputs": [
    {
     "name": "stdout",
     "output_type": "stream",
     "text": [
      "(13, 6)\n",
      "(13, 6)\n"
     ]
    }
   ],
   "source": [
    "print(result_df_3.shape)\n",
    "print(result_df_4.shape)"
   ]
  },
  {
   "cell_type": "code",
   "execution_count": 92,
   "metadata": {},
   "outputs": [
    {
     "data": {
      "text/html": [
       "<div>\n",
       "<style scoped>\n",
       "    .dataframe tbody tr th:only-of-type {\n",
       "        vertical-align: middle;\n",
       "    }\n",
       "\n",
       "    .dataframe tbody tr th {\n",
       "        vertical-align: top;\n",
       "    }\n",
       "\n",
       "    .dataframe thead th {\n",
       "        text-align: right;\n",
       "    }\n",
       "</style>\n",
       "<table border=\"1\" class=\"dataframe\">\n",
       "  <thead>\n",
       "    <tr style=\"text-align: right;\">\n",
       "      <th></th>\n",
       "      <th>species</th>\n",
       "      <th>backfin</th>\n",
       "      <th>fullbody</th>\n",
       "      <th>ensemble</th>\n",
       "      <th>backfin_ensemble_spe</th>\n",
       "      <th>best</th>\n",
       "    </tr>\n",
       "  </thead>\n",
       "  <tbody>\n",
       "    <tr>\n",
       "      <th>0</th>\n",
       "      <td>blue_whale</td>\n",
       "      <td>1</td>\n",
       "      <td>1.465360</td>\n",
       "      <td>0.168429</td>\n",
       "      <td>0.935920</td>\n",
       "      <td>0.555499</td>\n",
       "    </tr>\n",
       "    <tr>\n",
       "      <th>1</th>\n",
       "      <td>beluga</td>\n",
       "      <td>1</td>\n",
       "      <td>2.596000</td>\n",
       "      <td>1.372231</td>\n",
       "      <td>2.232109</td>\n",
       "      <td>0.749679</td>\n",
       "    </tr>\n",
       "    <tr>\n",
       "      <th>2</th>\n",
       "      <td>gray_whale</td>\n",
       "      <td>1</td>\n",
       "      <td>1.064472</td>\n",
       "      <td>1.384008</td>\n",
       "      <td>0.976345</td>\n",
       "      <td>0.814644</td>\n",
       "    </tr>\n",
       "    <tr>\n",
       "      <th>3</th>\n",
       "      <td>dusky_dolphin</td>\n",
       "      <td>1</td>\n",
       "      <td>0.073506</td>\n",
       "      <td>2.683978</td>\n",
       "      <td>3.160473</td>\n",
       "      <td>0.846173</td>\n",
       "    </tr>\n",
       "    <tr>\n",
       "      <th>4</th>\n",
       "      <td>fin_whale</td>\n",
       "      <td>1</td>\n",
       "      <td>2.784410</td>\n",
       "      <td>1.687675</td>\n",
       "      <td>1.855458</td>\n",
       "      <td>0.899628</td>\n",
       "    </tr>\n",
       "  </tbody>\n",
       "</table>\n",
       "</div>"
      ],
      "text/plain": [
       "         species  backfin  fullbody  ensemble  backfin_ensemble_spe      best\n",
       "0     blue_whale        1  1.465360  0.168429              0.935920  0.555499\n",
       "1         beluga        1  2.596000  1.372231              2.232109  0.749679\n",
       "2     gray_whale        1  1.064472  1.384008              0.976345  0.814644\n",
       "3  dusky_dolphin        1  0.073506  2.683978              3.160473  0.846173\n",
       "4      fin_whale        1  2.784410  1.687675              1.855458  0.899628"
      ]
     },
     "execution_count": 92,
     "metadata": {},
     "output_type": "execute_result"
    }
   ],
   "source": [
    "result_df_3.head()"
   ]
  },
  {
   "cell_type": "code",
   "execution_count": 93,
   "metadata": {},
   "outputs": [],
   "source": [
    "result_df = pd.DataFrame()\n",
    "\n",
    "result_df[\"species\"]  = result_df_0[\"species\"]\n",
    "result_df[\"backfin\"]  = 1\n",
    "\n",
    "keys=[\"fullbody\",\"ensemble\",\"backfin_ensemble_spe\"]\n",
    "for key in keys:\n",
    "    result_df[key] = (result_df_4[key] + result_df_3[key] + result_df_2[key] + result_df_1[key] + result_df_0[key] )/5\n"
   ]
  },
  {
   "cell_type": "code",
   "execution_count": 94,
   "metadata": {
    "scrolled": false
   },
   "outputs": [
    {
     "data": {
      "text/html": [
       "<div>\n",
       "<style scoped>\n",
       "    .dataframe tbody tr th:only-of-type {\n",
       "        vertical-align: middle;\n",
       "    }\n",
       "\n",
       "    .dataframe tbody tr th {\n",
       "        vertical-align: top;\n",
       "    }\n",
       "\n",
       "    .dataframe thead th {\n",
       "        text-align: right;\n",
       "    }\n",
       "</style>\n",
       "<table border=\"1\" class=\"dataframe\">\n",
       "  <thead>\n",
       "    <tr style=\"text-align: right;\">\n",
       "      <th></th>\n",
       "      <th>species</th>\n",
       "      <th>backfin</th>\n",
       "      <th>fullbody</th>\n",
       "      <th>ensemble</th>\n",
       "      <th>backfin_ensemble_spe</th>\n",
       "    </tr>\n",
       "  </thead>\n",
       "  <tbody>\n",
       "    <tr>\n",
       "      <th>0</th>\n",
       "      <td>blue_whale</td>\n",
       "      <td>1</td>\n",
       "      <td>1.226488</td>\n",
       "      <td>0.273253</td>\n",
       "      <td>1.051474</td>\n",
       "    </tr>\n",
       "    <tr>\n",
       "      <th>1</th>\n",
       "      <td>beluga</td>\n",
       "      <td>1</td>\n",
       "      <td>2.990707</td>\n",
       "      <td>1.761358</td>\n",
       "      <td>2.541736</td>\n",
       "    </tr>\n",
       "    <tr>\n",
       "      <th>2</th>\n",
       "      <td>gray_whale</td>\n",
       "      <td>1</td>\n",
       "      <td>2.299246</td>\n",
       "      <td>1.937649</td>\n",
       "      <td>1.513071</td>\n",
       "    </tr>\n",
       "    <tr>\n",
       "      <th>3</th>\n",
       "      <td>dusky_dolphin</td>\n",
       "      <td>1</td>\n",
       "      <td>1.349014</td>\n",
       "      <td>2.078466</td>\n",
       "      <td>2.662497</td>\n",
       "    </tr>\n",
       "    <tr>\n",
       "      <th>4</th>\n",
       "      <td>fin_whale</td>\n",
       "      <td>1</td>\n",
       "      <td>1.990634</td>\n",
       "      <td>1.931170</td>\n",
       "      <td>2.722879</td>\n",
       "    </tr>\n",
       "    <tr>\n",
       "      <th>5</th>\n",
       "      <td>humpback_whale</td>\n",
       "      <td>1</td>\n",
       "      <td>1.473838</td>\n",
       "      <td>1.200309</td>\n",
       "      <td>1.280695</td>\n",
       "    </tr>\n",
       "    <tr>\n",
       "      <th>6</th>\n",
       "      <td>spinner_dolphin</td>\n",
       "      <td>1</td>\n",
       "      <td>1.768820</td>\n",
       "      <td>1.174592</td>\n",
       "      <td>3.141465</td>\n",
       "    </tr>\n",
       "    <tr>\n",
       "      <th>7</th>\n",
       "      <td>melon_headed_whale</td>\n",
       "      <td>1</td>\n",
       "      <td>1.690318</td>\n",
       "      <td>0.616334</td>\n",
       "      <td>2.103005</td>\n",
       "    </tr>\n",
       "    <tr>\n",
       "      <th>8</th>\n",
       "      <td>killer_whale</td>\n",
       "      <td>1</td>\n",
       "      <td>0.880743</td>\n",
       "      <td>1.452757</td>\n",
       "      <td>1.350579</td>\n",
       "    </tr>\n",
       "    <tr>\n",
       "      <th>9</th>\n",
       "      <td>minke_whale</td>\n",
       "      <td>1</td>\n",
       "      <td>1.389732</td>\n",
       "      <td>1.905574</td>\n",
       "      <td>2.565786</td>\n",
       "    </tr>\n",
       "    <tr>\n",
       "      <th>10</th>\n",
       "      <td>bottlenose_dolphin</td>\n",
       "      <td>1</td>\n",
       "      <td>1.363794</td>\n",
       "      <td>1.222732</td>\n",
       "      <td>1.624325</td>\n",
       "    </tr>\n",
       "    <tr>\n",
       "      <th>11</th>\n",
       "      <td>false_killer_whale</td>\n",
       "      <td>1</td>\n",
       "      <td>1.745437</td>\n",
       "      <td>1.074346</td>\n",
       "      <td>1.532323</td>\n",
       "    </tr>\n",
       "    <tr>\n",
       "      <th>12</th>\n",
       "      <td>minor</td>\n",
       "      <td>1</td>\n",
       "      <td>2.375968</td>\n",
       "      <td>2.286051</td>\n",
       "      <td>3.076123</td>\n",
       "    </tr>\n",
       "  </tbody>\n",
       "</table>\n",
       "</div>"
      ],
      "text/plain": [
       "               species  backfin  fullbody  ensemble  backfin_ensemble_spe\n",
       "0           blue_whale        1  1.226488  0.273253              1.051474\n",
       "1               beluga        1  2.990707  1.761358              2.541736\n",
       "2           gray_whale        1  2.299246  1.937649              1.513071\n",
       "3        dusky_dolphin        1  1.349014  2.078466              2.662497\n",
       "4            fin_whale        1  1.990634  1.931170              2.722879\n",
       "5       humpback_whale        1  1.473838  1.200309              1.280695\n",
       "6      spinner_dolphin        1  1.768820  1.174592              3.141465\n",
       "7   melon_headed_whale        1  1.690318  0.616334              2.103005\n",
       "8         killer_whale        1  0.880743  1.452757              1.350579\n",
       "9          minke_whale        1  1.389732  1.905574              2.565786\n",
       "10  bottlenose_dolphin        1  1.363794  1.222732              1.624325\n",
       "11  false_killer_whale        1  1.745437  1.074346              1.532323\n",
       "12               minor        1  2.375968  2.286051              3.076123"
      ]
     },
     "execution_count": 94,
     "metadata": {},
     "output_type": "execute_result"
    }
   ],
   "source": [
    "result_df"
   ]
  },
  {
   "cell_type": "markdown",
   "metadata": {},
   "source": [
    "### test"
   ]
  },
  {
   "cell_type": "code",
   "execution_count": 95,
   "metadata": {
    "scrolled": true
   },
   "outputs": [
    {
     "data": {
      "text/plain": [
       "(27956, 2)"
      ]
     },
     "execution_count": 95,
     "metadata": {},
     "output_type": "execute_result"
    }
   ],
   "source": [
    "test_df =pd.read_csv(\"../input/sample_submission.csv\")\n",
    "test_df.shape"
   ]
  },
  {
   "cell_type": "code",
   "execution_count": 96,
   "metadata": {},
   "outputs": [],
   "source": [
    "test_preds      = load_emb(exps,\"test\")\n",
    "train_all_preds = load_emb(exps,\"train_all\")"
   ]
  },
  {
   "cell_type": "code",
   "execution_count": 97,
   "metadata": {},
   "outputs": [
    {
     "name": "stdout",
     "output_type": "stream",
     "text": [
      "(27956, 10240)\n",
      "(51033, 10240)\n"
     ]
    }
   ],
   "source": [
    "print(test_preds.shape)\n",
    "print(train_all_preds.shape)"
   ]
  },
  {
   "cell_type": "markdown",
   "metadata": {},
   "source": [
    "### predict nearest species"
   ]
  },
  {
   "cell_type": "code",
   "execution_count": 98,
   "metadata": {},
   "outputs": [],
   "source": [
    "from sklearn.metrics import pairwise_distances"
   ]
  },
  {
   "cell_type": "code",
   "execution_count": 99,
   "metadata": {},
   "outputs": [
    {
     "name": "stdout",
     "output_type": "stream",
     "text": [
      "CPU times: user 14min 11s, sys: 5min 48s, total: 20min\n",
      "Wall time: 1min 42s\n"
     ]
    }
   ],
   "source": [
    "%%time\n",
    "\n",
    "distances = pairwise_distances(test_preds,train_all_preds)"
   ]
  },
  {
   "cell_type": "code",
   "execution_count": 100,
   "metadata": {},
   "outputs": [
    {
     "name": "stdout",
     "output_type": "stream",
     "text": [
      "CPU times: user 4.19 s, sys: 5.8 s, total: 9.99 s\n",
      "Wall time: 10 s\n"
     ]
    }
   ],
   "source": [
    "%%time\n",
    "\n",
    "K=1\n",
    "predicted_positions = np.argpartition(distances, K, axis=1)[:, :K]"
   ]
  },
  {
   "cell_type": "code",
   "execution_count": 101,
   "metadata": {},
   "outputs": [
    {
     "data": {
      "text/plain": [
       "(27956, 1)"
      ]
     },
     "execution_count": 101,
     "metadata": {},
     "output_type": "execute_result"
    }
   ],
   "source": [
    "predicted_positions.shape"
   ]
  },
  {
   "cell_type": "code",
   "execution_count": 102,
   "metadata": {},
   "outputs": [],
   "source": [
    "train_species_lis = train.species.values\n",
    "test_pred_species = []\n",
    "\n",
    "\n",
    "for i in range(len(predicted_positions)):\n",
    "    train_species = train_species_lis[predicted_positions[i]][0]\n",
    "    test_pred_species.append(train_species)"
   ]
  },
  {
   "cell_type": "code",
   "execution_count": 103,
   "metadata": {},
   "outputs": [],
   "source": [
    "test_df[\"species\"] = test_pred_species"
   ]
  },
  {
   "cell_type": "code",
   "execution_count": 104,
   "metadata": {},
   "outputs": [
    {
     "data": {
      "text/plain": [
       "Counter({'gray_whale': 647,\n",
       "         'false_killer_whale': 1782,\n",
       "         'beluga': 4324,\n",
       "         'humpback_whale': 4569,\n",
       "         'dusky_dolphin': 2256,\n",
       "         'melon_headed_whale': 1119,\n",
       "         'bottlenose_dolphin': 4416,\n",
       "         'spinner_dolphin': 1313,\n",
       "         'cuviers_beaked_whale': 371,\n",
       "         'southern_right_whale': 659,\n",
       "         'blue_whale': 1166,\n",
       "         'killer_whale': 1560,\n",
       "         'pygmy_killer_whale': 52,\n",
       "         'fin_whale': 832,\n",
       "         'long_finned_pilot_whale': 193,\n",
       "         'sei_whale': 279,\n",
       "         'pantropic_spotted_dolphin': 91,\n",
       "         'minke_whale': 557,\n",
       "         'common_dolphin': 194,\n",
       "         'spotted_dolphin': 360,\n",
       "         'short_finned_pilot_whale': 837,\n",
       "         'white_sided_dolphin': 153,\n",
       "         'brydes_whale': 100,\n",
       "         'commersons_dolphin': 80,\n",
       "         'frasiers_dolphin': 4,\n",
       "         'rough_toothed_dolphin': 42})"
      ]
     },
     "execution_count": 104,
     "metadata": {},
     "output_type": "execute_result"
    }
   ],
   "source": [
    "Counter(test_pred_species)"
   ]
  },
  {
   "cell_type": "code",
   "execution_count": 105,
   "metadata": {},
   "outputs": [
    {
     "data": {
      "text/html": [
       "<div>\n",
       "<style scoped>\n",
       "    .dataframe tbody tr th:only-of-type {\n",
       "        vertical-align: middle;\n",
       "    }\n",
       "\n",
       "    .dataframe tbody tr th {\n",
       "        vertical-align: top;\n",
       "    }\n",
       "\n",
       "    .dataframe thead th {\n",
       "        text-align: right;\n",
       "    }\n",
       "</style>\n",
       "<table border=\"1\" class=\"dataframe\">\n",
       "  <thead>\n",
       "    <tr style=\"text-align: right;\">\n",
       "      <th></th>\n",
       "      <th>image</th>\n",
       "      <th>predictions</th>\n",
       "      <th>species</th>\n",
       "    </tr>\n",
       "  </thead>\n",
       "  <tbody>\n",
       "    <tr>\n",
       "      <th>0</th>\n",
       "      <td>000110707af0ba.jpg</td>\n",
       "      <td>37c7aba965a5 114207cab555 a6e325d8e924 19fbb96...</td>\n",
       "      <td>gray_whale</td>\n",
       "    </tr>\n",
       "    <tr>\n",
       "      <th>1</th>\n",
       "      <td>0006287ec424cb.jpg</td>\n",
       "      <td>37c7aba965a5 114207cab555 a6e325d8e924 19fbb96...</td>\n",
       "      <td>false_killer_whale</td>\n",
       "    </tr>\n",
       "    <tr>\n",
       "      <th>2</th>\n",
       "      <td>000809ecb2ccad.jpg</td>\n",
       "      <td>37c7aba965a5 114207cab555 a6e325d8e924 19fbb96...</td>\n",
       "      <td>beluga</td>\n",
       "    </tr>\n",
       "    <tr>\n",
       "      <th>3</th>\n",
       "      <td>00098d1376dab2.jpg</td>\n",
       "      <td>37c7aba965a5 114207cab555 a6e325d8e924 19fbb96...</td>\n",
       "      <td>humpback_whale</td>\n",
       "    </tr>\n",
       "    <tr>\n",
       "      <th>4</th>\n",
       "      <td>000b8d89c738bd.jpg</td>\n",
       "      <td>37c7aba965a5 114207cab555 a6e325d8e924 19fbb96...</td>\n",
       "      <td>dusky_dolphin</td>\n",
       "    </tr>\n",
       "  </tbody>\n",
       "</table>\n",
       "</div>"
      ],
      "text/plain": [
       "                image                                        predictions  \\\n",
       "0  000110707af0ba.jpg  37c7aba965a5 114207cab555 a6e325d8e924 19fbb96...   \n",
       "1  0006287ec424cb.jpg  37c7aba965a5 114207cab555 a6e325d8e924 19fbb96...   \n",
       "2  000809ecb2ccad.jpg  37c7aba965a5 114207cab555 a6e325d8e924 19fbb96...   \n",
       "3  00098d1376dab2.jpg  37c7aba965a5 114207cab555 a6e325d8e924 19fbb96...   \n",
       "4  000b8d89c738bd.jpg  37c7aba965a5 114207cab555 a6e325d8e924 19fbb96...   \n",
       "\n",
       "              species  \n",
       "0          gray_whale  \n",
       "1  false_killer_whale  \n",
       "2              beluga  \n",
       "3      humpback_whale  \n",
       "4       dusky_dolphin  "
      ]
     },
     "execution_count": 105,
     "metadata": {},
     "output_type": "execute_result"
    }
   ],
   "source": [
    "test_df.head()"
   ]
  },
  {
   "cell_type": "code",
   "execution_count": null,
   "metadata": {},
   "outputs": [],
   "source": []
  },
  {
   "cell_type": "markdown",
   "metadata": {},
   "source": [
    "### weighted"
   ]
  },
  {
   "cell_type": "code",
   "execution_count": 106,
   "metadata": {},
   "outputs": [
    {
     "data": {
      "text/plain": [
       "13"
      ]
     },
     "execution_count": 106,
     "metadata": {},
     "output_type": "execute_result"
    }
   ],
   "source": [
    "species_count_valid_df = pd.read_csv(\"species_count_valid_df.csv\")\n",
    "species_count_valid_df.shape\n",
    "minor_species = species_count_valid_df[species_count_valid_df[\"count\"] <= 100].species.values\n",
    "len(minor_species)"
   ]
  },
  {
   "cell_type": "code",
   "execution_count": 107,
   "metadata": {},
   "outputs": [],
   "source": [
    "test_preds      = load_emb(exps,\"test\")\n",
    "train_all_preds = load_emb(exps,\"train_all\")"
   ]
  },
  {
   "cell_type": "code",
   "execution_count": 108,
   "metadata": {},
   "outputs": [
    {
     "name": "stdout",
     "output_type": "stream",
     "text": [
      "(27956, 10240)\n",
      "(51033, 10240)\n"
     ]
    }
   ],
   "source": [
    "print(test_preds.shape)\n",
    "print(train_all_preds.shape)"
   ]
  },
  {
   "cell_type": "code",
   "execution_count": 109,
   "metadata": {},
   "outputs": [],
   "source": [
    "emb_all_len = train_all_preds.shape[1]\n",
    "fold_emb_len = 512*5"
   ]
  },
  {
   "cell_type": "code",
   "execution_count": null,
   "metadata": {},
   "outputs": [],
   "source": []
  },
  {
   "cell_type": "code",
   "execution_count": 110,
   "metadata": {},
   "outputs": [
    {
     "data": {
      "text/html": [
       "<div>\n",
       "<style scoped>\n",
       "    .dataframe tbody tr th:only-of-type {\n",
       "        vertical-align: middle;\n",
       "    }\n",
       "\n",
       "    .dataframe tbody tr th {\n",
       "        vertical-align: top;\n",
       "    }\n",
       "\n",
       "    .dataframe thead th {\n",
       "        text-align: right;\n",
       "    }\n",
       "</style>\n",
       "<table border=\"1\" class=\"dataframe\">\n",
       "  <thead>\n",
       "    <tr style=\"text-align: right;\">\n",
       "      <th></th>\n",
       "      <th>species</th>\n",
       "      <th>backfin</th>\n",
       "      <th>fullbody</th>\n",
       "      <th>ensemble</th>\n",
       "      <th>backfin_ensemble_spe</th>\n",
       "    </tr>\n",
       "  </thead>\n",
       "  <tbody>\n",
       "    <tr>\n",
       "      <th>0</th>\n",
       "      <td>blue_whale</td>\n",
       "      <td>1</td>\n",
       "      <td>1.226488</td>\n",
       "      <td>0.273253</td>\n",
       "      <td>1.051474</td>\n",
       "    </tr>\n",
       "    <tr>\n",
       "      <th>1</th>\n",
       "      <td>beluga</td>\n",
       "      <td>1</td>\n",
       "      <td>2.990707</td>\n",
       "      <td>1.761358</td>\n",
       "      <td>2.541736</td>\n",
       "    </tr>\n",
       "    <tr>\n",
       "      <th>2</th>\n",
       "      <td>gray_whale</td>\n",
       "      <td>1</td>\n",
       "      <td>2.299246</td>\n",
       "      <td>1.937649</td>\n",
       "      <td>1.513071</td>\n",
       "    </tr>\n",
       "    <tr>\n",
       "      <th>3</th>\n",
       "      <td>dusky_dolphin</td>\n",
       "      <td>1</td>\n",
       "      <td>1.349014</td>\n",
       "      <td>2.078466</td>\n",
       "      <td>2.662497</td>\n",
       "    </tr>\n",
       "    <tr>\n",
       "      <th>4</th>\n",
       "      <td>fin_whale</td>\n",
       "      <td>1</td>\n",
       "      <td>1.990634</td>\n",
       "      <td>1.931170</td>\n",
       "      <td>2.722879</td>\n",
       "    </tr>\n",
       "    <tr>\n",
       "      <th>5</th>\n",
       "      <td>humpback_whale</td>\n",
       "      <td>1</td>\n",
       "      <td>1.473838</td>\n",
       "      <td>1.200309</td>\n",
       "      <td>1.280695</td>\n",
       "    </tr>\n",
       "    <tr>\n",
       "      <th>6</th>\n",
       "      <td>spinner_dolphin</td>\n",
       "      <td>1</td>\n",
       "      <td>1.768820</td>\n",
       "      <td>1.174592</td>\n",
       "      <td>3.141465</td>\n",
       "    </tr>\n",
       "    <tr>\n",
       "      <th>7</th>\n",
       "      <td>melon_headed_whale</td>\n",
       "      <td>1</td>\n",
       "      <td>1.690318</td>\n",
       "      <td>0.616334</td>\n",
       "      <td>2.103005</td>\n",
       "    </tr>\n",
       "    <tr>\n",
       "      <th>8</th>\n",
       "      <td>killer_whale</td>\n",
       "      <td>1</td>\n",
       "      <td>0.880743</td>\n",
       "      <td>1.452757</td>\n",
       "      <td>1.350579</td>\n",
       "    </tr>\n",
       "    <tr>\n",
       "      <th>9</th>\n",
       "      <td>minke_whale</td>\n",
       "      <td>1</td>\n",
       "      <td>1.389732</td>\n",
       "      <td>1.905574</td>\n",
       "      <td>2.565786</td>\n",
       "    </tr>\n",
       "    <tr>\n",
       "      <th>10</th>\n",
       "      <td>bottlenose_dolphin</td>\n",
       "      <td>1</td>\n",
       "      <td>1.363794</td>\n",
       "      <td>1.222732</td>\n",
       "      <td>1.624325</td>\n",
       "    </tr>\n",
       "    <tr>\n",
       "      <th>11</th>\n",
       "      <td>false_killer_whale</td>\n",
       "      <td>1</td>\n",
       "      <td>1.745437</td>\n",
       "      <td>1.074346</td>\n",
       "      <td>1.532323</td>\n",
       "    </tr>\n",
       "    <tr>\n",
       "      <th>12</th>\n",
       "      <td>minor</td>\n",
       "      <td>1</td>\n",
       "      <td>2.375968</td>\n",
       "      <td>2.286051</td>\n",
       "      <td>3.076123</td>\n",
       "    </tr>\n",
       "  </tbody>\n",
       "</table>\n",
       "</div>"
      ],
      "text/plain": [
       "               species  backfin  fullbody  ensemble  backfin_ensemble_spe\n",
       "0           blue_whale        1  1.226488  0.273253              1.051474\n",
       "1               beluga        1  2.990707  1.761358              2.541736\n",
       "2           gray_whale        1  2.299246  1.937649              1.513071\n",
       "3        dusky_dolphin        1  1.349014  2.078466              2.662497\n",
       "4            fin_whale        1  1.990634  1.931170              2.722879\n",
       "5       humpback_whale        1  1.473838  1.200309              1.280695\n",
       "6      spinner_dolphin        1  1.768820  1.174592              3.141465\n",
       "7   melon_headed_whale        1  1.690318  0.616334              2.103005\n",
       "8         killer_whale        1  0.880743  1.452757              1.350579\n",
       "9          minke_whale        1  1.389732  1.905574              2.565786\n",
       "10  bottlenose_dolphin        1  1.363794  1.222732              1.624325\n",
       "11  false_killer_whale        1  1.745437  1.074346              1.532323\n",
       "12               minor        1  2.375968  2.286051              3.076123"
      ]
     },
     "execution_count": 110,
     "metadata": {},
     "output_type": "execute_result"
    }
   ],
   "source": [
    "result_df"
   ]
  },
  {
   "cell_type": "code",
   "execution_count": 111,
   "metadata": {},
   "outputs": [],
   "source": [
    "spe_lis = list(set(result_df.species))\n",
    "\n",
    "for spe in  spe_lis:\n",
    "   # print(spe)\n",
    "    if spe in minor_species or spe==\"frasiers_dolphin\":\n",
    "        #weight = np.array([1] * emb_all_len)       \n",
    "        continue\n",
    "\n",
    "    backfin=1\n",
    "    fullbody=result_df.query(\"species == @spe\").iloc[0].fullbody\n",
    "    ensemble=result_df.query(\"species == @spe\").iloc[0].ensemble\n",
    "    backfin_ensemble=result_df.query(\"species == @spe\").iloc[0].backfin_ensemble_spe\n",
    "        \n",
    "    weight=[backfin] * fold_emb_len + [fullbody] * fold_emb_len + [ensemble] * fold_emb_len  + [backfin_ensemble] * fold_emb_len \n",
    "    \n",
    "    train_ind = train.query(\"species == @spe\").index\n",
    "    test_ind = test_df.query(\"species == @spe\").index\n",
    "    \n",
    "    train_all_preds[train_ind] *= weight\n",
    "    test_preds[test_ind] *= weight"
   ]
  },
  {
   "cell_type": "code",
   "execution_count": 112,
   "metadata": {},
   "outputs": [],
   "source": [
    "train_all_preds=normalize(train_all_preds)\n",
    "test_preds=normalize(test_preds)"
   ]
  },
  {
   "cell_type": "code",
   "execution_count": 113,
   "metadata": {},
   "outputs": [
    {
     "data": {
      "text/plain": [
       "((51033, 10240), (27956, 10240))"
      ]
     },
     "execution_count": 113,
     "metadata": {},
     "output_type": "execute_result"
    }
   ],
   "source": [
    "train_all_preds.shape, test_preds.shape"
   ]
  },
  {
   "cell_type": "markdown",
   "metadata": {},
   "source": [
    "ensemble"
   ]
  },
  {
   "cell_type": "code",
   "execution_count": 114,
   "metadata": {},
   "outputs": [],
   "source": [
    "import bz2\n",
    "import pickle\n",
    "import _pickle as cPickle\n",
    "\n",
    "def compressed_pickle(title, data):\n",
    "    with bz2.BZ2File(title + '.pbz2', 'w') as f:\n",
    "        cPickle.dump(data, f)\n",
    "        \n",
    "def decompress_pickle(file):\n",
    "    data = bz2.BZ2File(file, 'rb')\n",
    "    data = cPickle.load(data)\n",
    "    return data"
   ]
  },
  {
   "cell_type": "code",
   "execution_count": 115,
   "metadata": {},
   "outputs": [],
   "source": [
    "team_files = [\n",
    "    \"exp16v6AugmixB3_fold0.pbz2\",\n",
    "    \"exp16v6AugmixB3_fold1.pbz2\",\n",
    "    \"exp16v6AugmixB3_fold2.pbz2\",\n",
    "    \"exp16v6AugmixB3_fold3.pbz2\",\n",
    "    \"exp16v6AugmixB3_fold4.pbz2\",\n",
    "    \"exp16v6AugmixB4Step2_fold0.pbz2\",\n",
    "    \"exp16v6AugmixB4Step2_fold1.pbz2\",\n",
    "    \"exp16v6AugmixB4Step2_fold2.pbz2\",\n",
    "    \"exp16v6AugmixB4Step2_fold3.pbz2\",\n",
    "    \"exp16v6AugmixB4Step2_fold4.pbz2\",\n",
    "    \"exp16v6Augmix_fold0.pbz2\",\n",
    "    \"exp16v6Augmix_fold1.pbz2\",\n",
    "    \"exp16v6Augmix_fold2.pbz2\",\n",
    "    \"exp16v6Augmix_fold3.pbz2\",\n",
    "    \"exp16v6Augmix_fold4.pbz2\",\n",
    "    \"exp21b6_fold0.pbz2\",\n",
    "    \"exp16v4sampler_fold0.pbz2\",\n",
    "]"
   ]
  },
  {
   "cell_type": "code",
   "execution_count": 116,
   "metadata": {},
   "outputs": [
    {
     "data": {
      "text/plain": [
       "(51033, 8)"
      ]
     },
     "execution_count": 116,
     "metadata": {},
     "output_type": "execute_result"
    }
   ],
   "source": [
    "fold2 = pd.read_csv(\"/kaggle/happywhale/input/whale-21-3-2022/fold2.csv\")\n",
    "fold2.shape"
   ]
  },
  {
   "cell_type": "code",
   "execution_count": 117,
   "metadata": {},
   "outputs": [],
   "source": [
    "fold2_dict=dict()\n",
    "\n",
    "fold2_images = fold2.image.values\n",
    "\n",
    "for i in range(len(fold2)):\n",
    "    fold2_dict[fold2_images[i]] = i\n",
    "\n",
    "new_index = []\n",
    "org_train_image=train.image.values\n",
    "\n",
    "for i in range(len(train)):\n",
    "    new_index.append(fold2_dict[org_train_image[i]])\n",
    "    "
   ]
  },
  {
   "cell_type": "code",
   "execution_count": 119,
   "metadata": {},
   "outputs": [],
   "source": [
    "def get_embeddings(files):\n",
    "    \n",
    "    DIRNAME =\"../input/whale-21-3-2022/\"\n",
    "    data = decompress_pickle(\"../input/whale-21-3-2022/exp16v6AugmixB4Step2_fold4.pbz2\")\n",
    "    \n",
    "    train_emb_lis = []\n",
    "    test_emb_lis  = []\n",
    "    \n",
    "    for fname in files:\n",
    "        print(fname)\n",
    "        data = decompress_pickle(DIRNAME + fname)\n",
    "        \n",
    "        train_emb = normalize(data[\"emb_val\"][new_index,:],axis=1)\n",
    "        test_emb  = normalize(data[\"emb_test\"],axis=1)\n",
    "\n",
    "        train_emb_lis.append(train_emb)\n",
    "        test_emb_lis.append(test_emb)\n",
    "        \n",
    "        print(\"    \",train_emb.shape,test_emb.shape)\n",
    "    \n",
    "    ret_train = normalize(np.concatenate(train_emb_lis,axis=1))\n",
    "    ret_test  = normalize(np.concatenate(test_emb_lis,axis=1))\n",
    "        \n",
    "    return ret_train,ret_test\n",
    "    "
   ]
  },
  {
   "cell_type": "code",
   "execution_count": 120,
   "metadata": {
    "scrolled": false
   },
   "outputs": [
    {
     "name": "stdout",
     "output_type": "stream",
     "text": [
      "exp16v6AugmixB3_fold0.pbz2\n",
      "     (51033, 512) (27956, 512)\n",
      "exp16v6AugmixB3_fold1.pbz2\n",
      "     (51033, 512) (27956, 512)\n",
      "exp16v6AugmixB3_fold2.pbz2\n",
      "     (51033, 512) (27956, 512)\n",
      "exp16v6AugmixB3_fold3.pbz2\n",
      "     (51033, 512) (27956, 512)\n",
      "exp16v6AugmixB3_fold4.pbz2\n",
      "     (51033, 512) (27956, 512)\n",
      "exp16v6AugmixB4Step2_fold0.pbz2\n",
      "     (51033, 512) (27956, 512)\n",
      "exp16v6AugmixB4Step2_fold1.pbz2\n",
      "     (51033, 512) (27956, 512)\n",
      "exp16v6AugmixB4Step2_fold2.pbz2\n",
      "     (51033, 512) (27956, 512)\n",
      "exp16v6AugmixB4Step2_fold3.pbz2\n",
      "     (51033, 512) (27956, 512)\n",
      "exp16v6AugmixB4Step2_fold4.pbz2\n",
      "     (51033, 512) (27956, 512)\n",
      "exp16v6Augmix_fold0.pbz2\n",
      "     (51033, 512) (27956, 512)\n",
      "exp16v6Augmix_fold1.pbz2\n",
      "     (51033, 512) (27956, 512)\n",
      "exp16v6Augmix_fold2.pbz2\n",
      "     (51033, 512) (27956, 512)\n",
      "exp16v6Augmix_fold3.pbz2\n",
      "     (51033, 512) (27956, 512)\n",
      "exp16v6Augmix_fold4.pbz2\n",
      "     (51033, 512) (27956, 512)\n",
      "exp21b6_fold0.pbz2\n",
      "     (51033, 512) (27956, 512)\n",
      "exp16v4sampler_fold0.pbz2\n",
      "     (51033, 512) (27956, 512)\n"
     ]
    }
   ],
   "source": [
    "train_emb,test_emb = get_embeddings(team_files)"
   ]
  },
  {
   "cell_type": "code",
   "execution_count": 121,
   "metadata": {},
   "outputs": [
    {
     "data": {
      "text/plain": [
       "((51033, 8704), (27956, 8704))"
      ]
     },
     "execution_count": 121,
     "metadata": {},
     "output_type": "execute_result"
    }
   ],
   "source": [
    "train_emb.shape, test_emb.shape"
   ]
  },
  {
   "cell_type": "code",
   "execution_count": 122,
   "metadata": {},
   "outputs": [],
   "source": [
    "new_train_emb = np.hstack([train_all_preds,train_emb])"
   ]
  },
  {
   "cell_type": "code",
   "execution_count": 123,
   "metadata": {},
   "outputs": [],
   "source": [
    "new_test_emb = np.hstack([test_preds,test_emb])"
   ]
  },
  {
   "cell_type": "code",
   "execution_count": null,
   "metadata": {},
   "outputs": [],
   "source": []
  },
  {
   "cell_type": "code",
   "execution_count": 124,
   "metadata": {},
   "outputs": [
    {
     "data": {
      "text/plain": [
       "((51033, 18944), (27956, 18944))"
      ]
     },
     "execution_count": 124,
     "metadata": {},
     "output_type": "execute_result"
    }
   ],
   "source": [
    "new_train_emb.shape, new_test_emb.shape"
   ]
  },
  {
   "cell_type": "code",
   "execution_count": 125,
   "metadata": {},
   "outputs": [],
   "source": [
    "new_train_emb = normalize(new_train_emb,axis=1)"
   ]
  },
  {
   "cell_type": "code",
   "execution_count": 126,
   "metadata": {},
   "outputs": [],
   "source": [
    "new_test_emb = normalize(new_test_emb,axis=1)"
   ]
  },
  {
   "cell_type": "code",
   "execution_count": null,
   "metadata": {},
   "outputs": [],
   "source": []
  },
  {
   "cell_type": "code",
   "execution_count": 127,
   "metadata": {},
   "outputs": [
    {
     "name": "stdout",
     "output_type": "stream",
     "text": [
      "CPU times: user 26min 7s, sys: 10min 19s, total: 36min 27s\n",
      "Wall time: 3min\n"
     ]
    }
   ],
   "source": [
    "%%time\n",
    "\n",
    "distances = pairwise_distances(new_test_emb,new_train_emb)"
   ]
  },
  {
   "cell_type": "code",
   "execution_count": 128,
   "metadata": {
    "scrolled": true
   },
   "outputs": [
    {
     "name": "stdout",
     "output_type": "stream",
     "text": [
      "CPU times: user 11.5 s, sys: 4.89 s, total: 16.4 s\n",
      "Wall time: 16.4 s\n"
     ]
    }
   ],
   "source": [
    "%%time\n",
    "\n",
    "K=1000\n",
    "predicted_positions = np.argpartition(distances, K, axis=1)[:, :K]"
   ]
  },
  {
   "cell_type": "code",
   "execution_count": 129,
   "metadata": {},
   "outputs": [
    {
     "data": {
      "text/plain": [
       "[<matplotlib.lines.Line2D at 0x7f8159bb9690>]"
      ]
     },
     "execution_count": 129,
     "metadata": {},
     "output_type": "execute_result"
    },
    {
     "data": {
      "image/png": "[encoded data removed]",
      "text/plain": [
       "<Figure size 432x288 with 1 Axes>"
      ]
     },
     "metadata": {
      "needs_background": "light"
     },
     "output_type": "display_data"
    }
   ],
   "source": [
    "plt.plot(distances[0])"
   ]
  },
  {
   "cell_type": "code",
   "execution_count": null,
   "metadata": {},
   "outputs": [],
   "source": []
  },
  {
   "cell_type": "code",
   "execution_count": 130,
   "metadata": {
    "scrolled": true
   },
   "outputs": [
    {
     "name": "stderr",
     "output_type": "stream",
     "text": [
      "100%|██████████| 27956/27956 [00:30<00:00, 914.14it/s]\n"
     ]
    }
   ],
   "source": [
    "sub_pred_lis = []\n",
    "\n",
    "train_inddividual_id_lis = train[\"individual_id\"].values\n",
    "\n",
    "\n",
    "for i in tqdm(range(predicted_positions.shape[0])):\n",
    "    nearest = [(train_inddividual_id_lis[j], distances[i, j]) for j in predicted_positions[i]]\n",
    "    nearest.sort(key=lambda x: x[1])\n",
    "\n",
    "    prediction = [index_id for index_id, d in nearest]\n",
    "    \n",
    "    done = set()\n",
    "    pred_list = []\n",
    "    for pred_id in prediction:\n",
    "        if pred_id in done:\n",
    "            continue\n",
    "        done.add(pred_id)\n",
    "        pred_list.append(pred_id)\n",
    "        if len(pred_list)==5:\n",
    "            break    \n",
    "\n",
    "            \n",
    "    sub_pred_lis.append(pred_list)"
   ]
  },
  {
   "cell_type": "code",
   "execution_count": 131,
   "metadata": {},
   "outputs": [],
   "source": [
    "pred_lis_joined = []\n",
    "for preds in sub_pred_lis:\n",
    "    pred_lis_joined.append(\" \".join(preds))"
   ]
  },
  {
   "cell_type": "code",
   "execution_count": 132,
   "metadata": {},
   "outputs": [],
   "source": [
    "test_df[\"predictions\"] = pred_lis_joined"
   ]
  },
  {
   "cell_type": "code",
   "execution_count": 133,
   "metadata": {},
   "outputs": [],
   "source": [
    "test_df[[\"image\",\"predictions\"]].to_csv(\"submission_weighted_\" +\"_\".join(exps)+ \".csv\",index=None)"
   ]
  },
  {
   "cell_type": "code",
   "execution_count": 135,
   "metadata": {
    "scrolled": false
   },
   "outputs": [
    {
     "data": {
      "text/html": [
       "<div>\n",
       "<style scoped>\n",
       "    .dataframe tbody tr th:only-of-type {\n",
       "        vertical-align: middle;\n",
       "    }\n",
       "\n",
       "    .dataframe tbody tr th {\n",
       "        vertical-align: top;\n",
       "    }\n",
       "\n",
       "    .dataframe thead th {\n",
       "        text-align: right;\n",
       "    }\n",
       "</style>\n",
       "<table border=\"1\" class=\"dataframe\">\n",
       "  <thead>\n",
       "    <tr style=\"text-align: right;\">\n",
       "      <th></th>\n",
       "      <th>image</th>\n",
       "      <th>predictions</th>\n",
       "      <th>species</th>\n",
       "    </tr>\n",
       "  </thead>\n",
       "  <tbody>\n",
       "    <tr>\n",
       "      <th>0</th>\n",
       "      <td>000110707af0ba.jpg</td>\n",
       "      <td>fbe2b15b5481 6d1cc6d00dca 5ec416e8a0a1 24e212e...</td>\n",
       "      <td>gray_whale</td>\n",
       "    </tr>\n",
       "    <tr>\n",
       "      <th>1</th>\n",
       "      <td>0006287ec424cb.jpg</td>\n",
       "      <td>1424c7fec826 c3b7d902e73c f0efb5bcc5d3 e72a502...</td>\n",
       "      <td>false_killer_whale</td>\n",
       "    </tr>\n",
       "    <tr>\n",
       "      <th>2</th>\n",
       "      <td>000809ecb2ccad.jpg</td>\n",
       "      <td>1ce3ba6a3c29 82f26bb1adae d3cedf439859 c0fd946...</td>\n",
       "      <td>beluga</td>\n",
       "    </tr>\n",
       "    <tr>\n",
       "      <th>3</th>\n",
       "      <td>00098d1376dab2.jpg</td>\n",
       "      <td>c4274d90be60 2781acdf5508 b5db2ecef12d 8b7c290...</td>\n",
       "      <td>humpback_whale</td>\n",
       "    </tr>\n",
       "    <tr>\n",
       "      <th>4</th>\n",
       "      <td>000b8d89c738bd.jpg</td>\n",
       "      <td>cf500d3874bc d4d2cd407a48 56637d420170 396610a...</td>\n",
       "      <td>dusky_dolphin</td>\n",
       "    </tr>\n",
       "    <tr>\n",
       "      <th>...</th>\n",
       "      <td>...</td>\n",
       "      <td>...</td>\n",
       "      <td>...</td>\n",
       "    </tr>\n",
       "    <tr>\n",
       "      <th>27951</th>\n",
       "      <td>fff6ff1989b5cd.jpg</td>\n",
       "      <td>734573d54bef 843297d1983b ec0aa394b7e5 5b64c9d...</td>\n",
       "      <td>spinner_dolphin</td>\n",
       "    </tr>\n",
       "    <tr>\n",
       "      <th>27952</th>\n",
       "      <td>fff8fd932b42cb.jpg</td>\n",
       "      <td>539541f81a32 4e376cb4fd38 b7bd57892597 d02966c...</td>\n",
       "      <td>dusky_dolphin</td>\n",
       "    </tr>\n",
       "    <tr>\n",
       "      <th>27953</th>\n",
       "      <td>fff96371332c16.jpg</td>\n",
       "      <td>dc4082105594 2fad3a13934d 9d86367bdff7 8949de1...</td>\n",
       "      <td>beluga</td>\n",
       "    </tr>\n",
       "    <tr>\n",
       "      <th>27954</th>\n",
       "      <td>fffc1c4d3eabc7.jpg</td>\n",
       "      <td>a8fe10f7b3e0 e7f9e93184b9 d85f2d5186cb fd53cdc...</td>\n",
       "      <td>cuviers_beaked_whale</td>\n",
       "    </tr>\n",
       "    <tr>\n",
       "      <th>27955</th>\n",
       "      <td>fffc50be10c175.jpg</td>\n",
       "      <td>32a8f92d7809 4587a8786179 a012c69541da 3ce8642...</td>\n",
       "      <td>short_finned_pilot_whale</td>\n",
       "    </tr>\n",
       "  </tbody>\n",
       "</table>\n",
       "<p>27956 rows × 3 columns</p>\n",
       "</div>"
      ],
      "text/plain": [
       "                    image                                        predictions  \\\n",
       "0      000110707af0ba.jpg  fbe2b15b5481 6d1cc6d00dca 5ec416e8a0a1 24e212e...   \n",
       "1      0006287ec424cb.jpg  1424c7fec826 c3b7d902e73c f0efb5bcc5d3 e72a502...   \n",
       "2      000809ecb2ccad.jpg  1ce3ba6a3c29 82f26bb1adae d3cedf439859 c0fd946...   \n",
       "3      00098d1376dab2.jpg  c4274d90be60 2781acdf5508 b5db2ecef12d 8b7c290...   \n",
       "4      000b8d89c738bd.jpg  cf500d3874bc d4d2cd407a48 56637d420170 396610a...   \n",
       "...                   ...                                                ...   \n",
       "27951  fff6ff1989b5cd.jpg  734573d54bef 843297d1983b ec0aa394b7e5 5b64c9d...   \n",
       "27952  fff8fd932b42cb.jpg  539541f81a32 4e376cb4fd38 b7bd57892597 d02966c...   \n",
       "27953  fff96371332c16.jpg  dc4082105594 2fad3a13934d 9d86367bdff7 8949de1...   \n",
       "27954  fffc1c4d3eabc7.jpg  a8fe10f7b3e0 e7f9e93184b9 d85f2d5186cb fd53cdc...   \n",
       "27955  fffc50be10c175.jpg  32a8f92d7809 4587a8786179 a012c69541da 3ce8642...   \n",
       "\n",
       "                        species  \n",
       "0                    gray_whale  \n",
       "1            false_killer_whale  \n",
       "2                        beluga  \n",
       "3                humpback_whale  \n",
       "4                 dusky_dolphin  \n",
       "...                         ...  \n",
       "27951           spinner_dolphin  \n",
       "27952             dusky_dolphin  \n",
       "27953                    beluga  \n",
       "27954      cuviers_beaked_whale  \n",
       "27955  short_finned_pilot_whale  \n",
       "\n",
       "[27956 rows x 3 columns]"
      ]
     },
     "execution_count": 135,
     "metadata": {},
     "output_type": "execute_result"
    }
   ],
   "source": [
    "test_df"
   ]
  },
  {
   "cell_type": "code",
   "execution_count": null,
   "metadata": {},
   "outputs": [],
   "source": []
  },
  {
   "cell_type": "code",
   "execution_count": null,
   "metadata": {},
   "outputs": [],
   "source": []
  },
  {
   "cell_type": "markdown",
   "metadata": {},
   "source": [
    "### set new_individual_cnt"
   ]
  },
  {
   "cell_type": "code",
   "execution_count": 136,
   "metadata": {},
   "outputs": [],
   "source": [
    "#test_new_ind_cnt_df = pd.read_csv(\"../input/test_new_ind_ratio_0328.csv\")\n",
    "test_new_ind_cnt_df = pd.read_csv(\"../input/test_new_ind_ratio_0402.csv\")"
   ]
  },
  {
   "cell_type": "code",
   "execution_count": 137,
   "metadata": {},
   "outputs": [],
   "source": [
    "spe_lis = test_new_ind_cnt_df.species.values"
   ]
  },
  {
   "cell_type": "code",
   "execution_count": 138,
   "metadata": {},
   "outputs": [
    {
     "data": {
      "text/html": [
       "<div>\n",
       "<style scoped>\n",
       "    .dataframe tbody tr th:only-of-type {\n",
       "        vertical-align: middle;\n",
       "    }\n",
       "\n",
       "    .dataframe tbody tr th {\n",
       "        vertical-align: top;\n",
       "    }\n",
       "\n",
       "    .dataframe thead th {\n",
       "        text-align: right;\n",
       "    }\n",
       "</style>\n",
       "<table border=\"1\" class=\"dataframe\">\n",
       "  <thead>\n",
       "    <tr style=\"text-align: right;\">\n",
       "      <th></th>\n",
       "      <th>species</th>\n",
       "      <th>test_new_ind_ratio</th>\n",
       "    </tr>\n",
       "  </thead>\n",
       "  <tbody>\n",
       "    <tr>\n",
       "      <th>0</th>\n",
       "      <td>humpback_whale</td>\n",
       "      <td>0.097941</td>\n",
       "    </tr>\n",
       "    <tr>\n",
       "      <th>1</th>\n",
       "      <td>bottlenose_dolphin</td>\n",
       "      <td>0.025106</td>\n",
       "    </tr>\n",
       "    <tr>\n",
       "      <th>2</th>\n",
       "      <td>beluga</td>\n",
       "      <td>0.006468</td>\n",
       "    </tr>\n",
       "    <tr>\n",
       "      <th>3</th>\n",
       "      <td>dusky_dolphin</td>\n",
       "      <td>0.523474</td>\n",
       "    </tr>\n",
       "    <tr>\n",
       "      <th>4</th>\n",
       "      <td>false_killer_whale</td>\n",
       "      <td>0.015609</td>\n",
       "    </tr>\n",
       "    <tr>\n",
       "      <th>5</th>\n",
       "      <td>killer_whale</td>\n",
       "      <td>0.017829</td>\n",
       "    </tr>\n",
       "    <tr>\n",
       "      <th>6</th>\n",
       "      <td>spinner_dolphin</td>\n",
       "      <td>0.064464</td>\n",
       "    </tr>\n",
       "    <tr>\n",
       "      <th>7</th>\n",
       "      <td>blue_whale</td>\n",
       "      <td>0.048034</td>\n",
       "    </tr>\n",
       "    <tr>\n",
       "      <th>8</th>\n",
       "      <td>melon_headed_whale</td>\n",
       "      <td>0.376427</td>\n",
       "    </tr>\n",
       "    <tr>\n",
       "      <th>9</th>\n",
       "      <td>fin_whale</td>\n",
       "      <td>0.101046</td>\n",
       "    </tr>\n",
       "    <tr>\n",
       "      <th>10</th>\n",
       "      <td>short_finned_pilot_whale</td>\n",
       "      <td>0.033927</td>\n",
       "    </tr>\n",
       "    <tr>\n",
       "      <th>11</th>\n",
       "      <td>southern_right_whale</td>\n",
       "      <td>0.084459</td>\n",
       "    </tr>\n",
       "    <tr>\n",
       "      <th>12</th>\n",
       "      <td>gray_whale</td>\n",
       "      <td>0.050000</td>\n",
       "    </tr>\n",
       "    <tr>\n",
       "      <th>13</th>\n",
       "      <td>minke_whale</td>\n",
       "      <td>0.255073</td>\n",
       "    </tr>\n",
       "    <tr>\n",
       "      <th>14</th>\n",
       "      <td>cuviers_beaked_whale</td>\n",
       "      <td>0.373743</td>\n",
       "    </tr>\n",
       "    <tr>\n",
       "      <th>15</th>\n",
       "      <td>spotted_dolphin</td>\n",
       "      <td>0.233616</td>\n",
       "    </tr>\n",
       "    <tr>\n",
       "      <th>16</th>\n",
       "      <td>sei_whale</td>\n",
       "      <td>0.100000</td>\n",
       "    </tr>\n",
       "    <tr>\n",
       "      <th>17</th>\n",
       "      <td>common_dolphin</td>\n",
       "      <td>0.100000</td>\n",
       "    </tr>\n",
       "    <tr>\n",
       "      <th>18</th>\n",
       "      <td>long_finned_pilot_whale</td>\n",
       "      <td>0.100000</td>\n",
       "    </tr>\n",
       "    <tr>\n",
       "      <th>19</th>\n",
       "      <td>white_sided_dolphin</td>\n",
       "      <td>0.187624</td>\n",
       "    </tr>\n",
       "    <tr>\n",
       "      <th>20</th>\n",
       "      <td>brydes_whale</td>\n",
       "      <td>0.100000</td>\n",
       "    </tr>\n",
       "    <tr>\n",
       "      <th>21</th>\n",
       "      <td>pantropic_spotted_dolphin</td>\n",
       "      <td>0.100000</td>\n",
       "    </tr>\n",
       "    <tr>\n",
       "      <th>22</th>\n",
       "      <td>commersons_dolphin</td>\n",
       "      <td>0.100000</td>\n",
       "    </tr>\n",
       "    <tr>\n",
       "      <th>23</th>\n",
       "      <td>pygmy_killer_whale</td>\n",
       "      <td>0.100000</td>\n",
       "    </tr>\n",
       "    <tr>\n",
       "      <th>24</th>\n",
       "      <td>rough_toothed_dolphin</td>\n",
       "      <td>0.100000</td>\n",
       "    </tr>\n",
       "    <tr>\n",
       "      <th>25</th>\n",
       "      <td>frasiers_dolphin</td>\n",
       "      <td>0.100000</td>\n",
       "    </tr>\n",
       "  </tbody>\n",
       "</table>\n",
       "</div>"
      ],
      "text/plain": [
       "                      species  test_new_ind_ratio\n",
       "0              humpback_whale            0.097941\n",
       "1          bottlenose_dolphin            0.025106\n",
       "2                      beluga            0.006468\n",
       "3               dusky_dolphin            0.523474\n",
       "4          false_killer_whale            0.015609\n",
       "5                killer_whale            0.017829\n",
       "6             spinner_dolphin            0.064464\n",
       "7                  blue_whale            0.048034\n",
       "8          melon_headed_whale            0.376427\n",
       "9                   fin_whale            0.101046\n",
       "10   short_finned_pilot_whale            0.033927\n",
       "11       southern_right_whale            0.084459\n",
       "12                 gray_whale            0.050000\n",
       "13                minke_whale            0.255073\n",
       "14       cuviers_beaked_whale            0.373743\n",
       "15            spotted_dolphin            0.233616\n",
       "16                  sei_whale            0.100000\n",
       "17             common_dolphin            0.100000\n",
       "18    long_finned_pilot_whale            0.100000\n",
       "19        white_sided_dolphin            0.187624\n",
       "20               brydes_whale            0.100000\n",
       "21  pantropic_spotted_dolphin            0.100000\n",
       "22         commersons_dolphin            0.100000\n",
       "23         pygmy_killer_whale            0.100000\n",
       "24      rough_toothed_dolphin            0.100000\n",
       "25           frasiers_dolphin            0.100000"
      ]
     },
     "execution_count": 138,
     "metadata": {},
     "output_type": "execute_result"
    }
   ],
   "source": [
    "test_new_ind_cnt_df"
   ]
  },
  {
   "cell_type": "code",
   "execution_count": 139,
   "metadata": {},
   "outputs": [],
   "source": [
    "def get_thr(spe,ratio_target_df,top1=True,multiplier=1.0):\n",
    "    spe_ind_lis = test_df.query(\"species == @spe\").index.values\n",
    "    sub_pred_lis=[]\n",
    "    \n",
    "    for i in spe_ind_lis:\n",
    "        nearest = [(train_inddividual_id_lis[j], distances[i, j]) for j in predicted_positions[i]]\n",
    "        nearest.sort(key=lambda x: x[1])\n",
    "\n",
    "        prediction = [index_id for index_id, d in nearest]\n",
    "        dists = [d for index_id, d in nearest]\n",
    "\n",
    "        done = set()\n",
    "        dist_list = []\n",
    "        for pred_id,dist in zip(prediction,dists):\n",
    "            if pred_id in done:\n",
    "                continue\n",
    "            done.add(pred_id)\n",
    "            dist_list.append(dist)\n",
    "            if len(dist_list)==5:\n",
    "                break    \n",
    "\n",
    "\n",
    "        sub_pred_lis.append(dist_list)\n",
    "    \n",
    "    \n",
    "    \n",
    "    ratio_target = multiplier * ratio_target_df.query(\"species == @spe\").iloc[0][\"test_new_ind_ratio\"]\n",
    "    \n",
    "    return binary(sub_pred_lis,ratio_target,top1)"
   ]
  },
  {
   "cell_type": "code",
   "execution_count": 140,
   "metadata": {},
   "outputs": [],
   "source": [
    "def solve(sub_pred_lis,mid,target_ratio):\n",
    "    ratio_lis = []\n",
    "    for i in range(len(sub_pred_lis)):\n",
    "        ratio = 0\n",
    "        for j in range(5):\n",
    "            if sub_pred_lis[i][j] > mid: # j is new_ind\n",
    "                ratio = 1/(j+1)\n",
    "                break\n",
    "        \n",
    "        ratio_lis.append(ratio)\n",
    "    return np.mean(ratio_lis) < target_ratio\n",
    "\n",
    "def solve_top1(sub_pred_lis,mid,target_ratio):\n",
    "    ratio_lis = []\n",
    "    for i in range(len(sub_pred_lis)):\n",
    "        ratio = 0\n",
    "        for j in range(5):\n",
    "            if sub_pred_lis[i][0] > mid: \n",
    "                ratio = 1\n",
    "                break\n",
    "        \n",
    "        ratio_lis.append(ratio)\n",
    "    return np.mean(ratio_lis) < target_ratio\n",
    "\n",
    "def binary(sub_pred_lis,target_ratio,top1):\n",
    "    ok=2\n",
    "    ng=0\n",
    "    cnt=0\n",
    "    while cnt<100:\n",
    "        cnt+=1\n",
    "        mid = (ok+ng)/2\n",
    "        #ret = solve(sub_pred_lis,mid,target_ratio)\n",
    "        if top1:\n",
    "            ret = solve_top1(sub_pred_lis,mid,target_ratio)\n",
    "        else:\n",
    "            ret = solve(sub_pred_lis,mid,target_ratio)\n",
    "            \n",
    "        if ret:\n",
    "            ok=mid\n",
    "        else:\n",
    "            ng=mid\n",
    "    return ok"
   ]
  },
  {
   "cell_type": "code",
   "execution_count": 141,
   "metadata": {},
   "outputs": [
    {
     "data": {
      "text/plain": [
       "1.2056779861450195"
      ]
     },
     "execution_count": 141,
     "metadata": {},
     "output_type": "execute_result"
    }
   ],
   "source": [
    "get_thr(\"beluga\",test_new_ind_cnt_df,top1=True,multiplier=0.5)"
   ]
  },
  {
   "cell_type": "code",
   "execution_count": 142,
   "metadata": {},
   "outputs": [],
   "source": [
    "MULTIPLIER=1.3"
   ]
  },
  {
   "cell_type": "code",
   "execution_count": 143,
   "metadata": {},
   "outputs": [
    {
     "name": "stderr",
     "output_type": "stream",
     "text": [
      "100%|██████████| 26/26 [00:52<00:00,  2.00s/it]\n"
     ]
    }
   ],
   "source": [
    "thr_lis_top1 = []\n",
    "for spe in tqdm(spe_lis):\n",
    "    thr = get_thr(spe,test_new_ind_cnt_df,top1=True,multiplier=MULTIPLIER)\n",
    "    thr_lis_top1.append(thr)"
   ]
  },
  {
   "cell_type": "code",
   "execution_count": null,
   "metadata": {},
   "outputs": [],
   "source": []
  },
  {
   "cell_type": "code",
   "execution_count": 144,
   "metadata": {},
   "outputs": [],
   "source": [
    "thr_df = pd.DataFrame()\n",
    "thr_df[\"species\"] = spe_lis\n",
    "thr_df[\"thr\"] = thr_lis_top1\n"
   ]
  },
  {
   "cell_type": "code",
   "execution_count": 145,
   "metadata": {},
   "outputs": [
    {
     "data": {
      "text/html": [
       "<div>\n",
       "<style scoped>\n",
       "    .dataframe tbody tr th:only-of-type {\n",
       "        vertical-align: middle;\n",
       "    }\n",
       "\n",
       "    .dataframe tbody tr th {\n",
       "        vertical-align: top;\n",
       "    }\n",
       "\n",
       "    .dataframe thead th {\n",
       "        text-align: right;\n",
       "    }\n",
       "</style>\n",
       "<table border=\"1\" class=\"dataframe\">\n",
       "  <thead>\n",
       "    <tr style=\"text-align: right;\">\n",
       "      <th></th>\n",
       "      <th>species</th>\n",
       "      <th>thr</th>\n",
       "    </tr>\n",
       "  </thead>\n",
       "  <tbody>\n",
       "    <tr>\n",
       "      <th>0</th>\n",
       "      <td>humpback_whale</td>\n",
       "      <td>1.122491</td>\n",
       "    </tr>\n",
       "    <tr>\n",
       "      <th>1</th>\n",
       "      <td>bottlenose_dolphin</td>\n",
       "      <td>1.082591</td>\n",
       "    </tr>\n",
       "    <tr>\n",
       "      <th>2</th>\n",
       "      <td>beluga</td>\n",
       "      <td>1.182442</td>\n",
       "    </tr>\n",
       "    <tr>\n",
       "      <th>3</th>\n",
       "      <td>dusky_dolphin</td>\n",
       "      <td>0.916115</td>\n",
       "    </tr>\n",
       "    <tr>\n",
       "      <th>4</th>\n",
       "      <td>false_killer_whale</td>\n",
       "      <td>1.073289</td>\n",
       "    </tr>\n",
       "    <tr>\n",
       "      <th>5</th>\n",
       "      <td>killer_whale</td>\n",
       "      <td>1.123395</td>\n",
       "    </tr>\n",
       "    <tr>\n",
       "      <th>6</th>\n",
       "      <td>spinner_dolphin</td>\n",
       "      <td>1.056865</td>\n",
       "    </tr>\n",
       "    <tr>\n",
       "      <th>7</th>\n",
       "      <td>blue_whale</td>\n",
       "      <td>1.145641</td>\n",
       "    </tr>\n",
       "    <tr>\n",
       "      <th>8</th>\n",
       "      <td>melon_headed_whale</td>\n",
       "      <td>0.935094</td>\n",
       "    </tr>\n",
       "    <tr>\n",
       "      <th>9</th>\n",
       "      <td>fin_whale</td>\n",
       "      <td>1.073631</td>\n",
       "    </tr>\n",
       "    <tr>\n",
       "      <th>10</th>\n",
       "      <td>short_finned_pilot_whale</td>\n",
       "      <td>1.099241</td>\n",
       "    </tr>\n",
       "    <tr>\n",
       "      <th>11</th>\n",
       "      <td>southern_right_whale</td>\n",
       "      <td>1.094758</td>\n",
       "    </tr>\n",
       "    <tr>\n",
       "      <th>12</th>\n",
       "      <td>gray_whale</td>\n",
       "      <td>1.100391</td>\n",
       "    </tr>\n",
       "    <tr>\n",
       "      <th>13</th>\n",
       "      <td>minke_whale</td>\n",
       "      <td>0.931469</td>\n",
       "    </tr>\n",
       "    <tr>\n",
       "      <th>14</th>\n",
       "      <td>cuviers_beaked_whale</td>\n",
       "      <td>1.021256</td>\n",
       "    </tr>\n",
       "    <tr>\n",
       "      <th>15</th>\n",
       "      <td>spotted_dolphin</td>\n",
       "      <td>0.959337</td>\n",
       "    </tr>\n",
       "    <tr>\n",
       "      <th>16</th>\n",
       "      <td>sei_whale</td>\n",
       "      <td>0.972244</td>\n",
       "    </tr>\n",
       "    <tr>\n",
       "      <th>17</th>\n",
       "      <td>common_dolphin</td>\n",
       "      <td>0.988865</td>\n",
       "    </tr>\n",
       "    <tr>\n",
       "      <th>18</th>\n",
       "      <td>long_finned_pilot_whale</td>\n",
       "      <td>0.908149</td>\n",
       "    </tr>\n",
       "    <tr>\n",
       "      <th>19</th>\n",
       "      <td>white_sided_dolphin</td>\n",
       "      <td>0.980150</td>\n",
       "    </tr>\n",
       "    <tr>\n",
       "      <th>20</th>\n",
       "      <td>brydes_whale</td>\n",
       "      <td>1.031350</td>\n",
       "    </tr>\n",
       "    <tr>\n",
       "      <th>21</th>\n",
       "      <td>pantropic_spotted_dolphin</td>\n",
       "      <td>1.061248</td>\n",
       "    </tr>\n",
       "    <tr>\n",
       "      <th>22</th>\n",
       "      <td>commersons_dolphin</td>\n",
       "      <td>0.982266</td>\n",
       "    </tr>\n",
       "    <tr>\n",
       "      <th>23</th>\n",
       "      <td>pygmy_killer_whale</td>\n",
       "      <td>1.073634</td>\n",
       "    </tr>\n",
       "    <tr>\n",
       "      <th>24</th>\n",
       "      <td>rough_toothed_dolphin</td>\n",
       "      <td>1.034627</td>\n",
       "    </tr>\n",
       "    <tr>\n",
       "      <th>25</th>\n",
       "      <td>frasiers_dolphin</td>\n",
       "      <td>1.158048</td>\n",
       "    </tr>\n",
       "  </tbody>\n",
       "</table>\n",
       "</div>"
      ],
      "text/plain": [
       "                      species       thr\n",
       "0              humpback_whale  1.122491\n",
       "1          bottlenose_dolphin  1.082591\n",
       "2                      beluga  1.182442\n",
       "3               dusky_dolphin  0.916115\n",
       "4          false_killer_whale  1.073289\n",
       "5                killer_whale  1.123395\n",
       "6             spinner_dolphin  1.056865\n",
       "7                  blue_whale  1.145641\n",
       "8          melon_headed_whale  0.935094\n",
       "9                   fin_whale  1.073631\n",
       "10   short_finned_pilot_whale  1.099241\n",
       "11       southern_right_whale  1.094758\n",
       "12                 gray_whale  1.100391\n",
       "13                minke_whale  0.931469\n",
       "14       cuviers_beaked_whale  1.021256\n",
       "15            spotted_dolphin  0.959337\n",
       "16                  sei_whale  0.972244\n",
       "17             common_dolphin  0.988865\n",
       "18    long_finned_pilot_whale  0.908149\n",
       "19        white_sided_dolphin  0.980150\n",
       "20               brydes_whale  1.031350\n",
       "21  pantropic_spotted_dolphin  1.061248\n",
       "22         commersons_dolphin  0.982266\n",
       "23         pygmy_killer_whale  1.073634\n",
       "24      rough_toothed_dolphin  1.034627\n",
       "25           frasiers_dolphin  1.158048"
      ]
     },
     "execution_count": 145,
     "metadata": {},
     "output_type": "execute_result"
    }
   ],
   "source": [
    "thr_df"
   ]
  },
  {
   "cell_type": "code",
   "execution_count": 146,
   "metadata": {},
   "outputs": [
    {
     "name": "stderr",
     "output_type": "stream",
     "text": [
      "100%|██████████| 27956/27956 [01:06<00:00, 417.51it/s]\n"
     ]
    }
   ],
   "source": [
    "sub_pred_lis = []\n",
    "\n",
    "train_inddividual_id_lis = train[\"individual_id\"].values\n",
    "new_ind_1_cnt=0\n",
    "\n",
    "new_ind_index_lis = [] # 1, 0.5 ,0.33, 0.25, 0.2\n",
    "\n",
    "for i in tqdm(range(predicted_positions.shape[0])):\n",
    "    nearest = [(train_inddividual_id_lis[j], distances[i, j]) for j in predicted_positions[i]]\n",
    "    \n",
    "    nearest.sort(key=lambda x: x[1])\n",
    "    \n",
    "    spe = test_pred_species[i]\n",
    "    new_individual_thr = thr_df.query(\"species == @spe\").iloc[0].thr\n",
    "\n",
    "    done = set()\n",
    "    pred_list = []\n",
    "    new_ind_ind = 0\n",
    "    for pred_id, score in nearest:\n",
    "        if score > new_individual_thr and not \"new_individual\" in done:\n",
    "            pred_list.append(\"new_individual\")\n",
    "            done.add(\"new_individual\")\n",
    "            new_ind_index_lis.append(1/len(pred_list))\n",
    "            \n",
    "        if pred_id in done:\n",
    "            continue\n",
    "        done.add(pred_id)\n",
    "        pred_list.append(pred_id)\n",
    "        if len(pred_list)>=5:\n",
    "            break    \n",
    "\n",
    "    if pred_list[0]==\"new_individual\":\n",
    "        new_ind_1_cnt+=1\n",
    "    sub_pred_lis.append(pred_list[:5])"
   ]
  },
  {
   "cell_type": "code",
   "execution_count": 147,
   "metadata": {},
   "outputs": [
    {
     "data": {
      "text/plain": [
       "0.14293890399198741"
      ]
     },
     "execution_count": 147,
     "metadata": {},
     "output_type": "execute_result"
    }
   ],
   "source": [
    "new_ind_1_cnt/len(test_df)"
   ]
  },
  {
   "cell_type": "code",
   "execution_count": 148,
   "metadata": {},
   "outputs": [
    {
     "data": {
      "text/plain": [
       "0.5196090027928372"
      ]
     },
     "execution_count": 148,
     "metadata": {},
     "output_type": "execute_result"
    }
   ],
   "source": [
    "np.mean(new_ind_index_lis)"
   ]
  },
  {
   "cell_type": "code",
   "execution_count": 149,
   "metadata": {},
   "outputs": [],
   "source": [
    "pred_lis_joined = []\n",
    "for preds in sub_pred_lis:\n",
    "    pred_lis_joined.append(\" \".join(preds))"
   ]
  },
  {
   "cell_type": "code",
   "execution_count": 150,
   "metadata": {},
   "outputs": [],
   "source": [
    "test_df[\"predictions\"] = pred_lis_joined"
   ]
  },
  {
   "cell_type": "code",
   "execution_count": 151,
   "metadata": {},
   "outputs": [],
   "source": [
    "test_df[[\"image\",\"predictions\"]].to_csv(\"submission_multi_\" +str(MULTIPLIER)+\".csv\",index=None)"
   ]
  },
  {
   "cell_type": "code",
   "execution_count": 152,
   "metadata": {},
   "outputs": [
    {
     "data": {
      "text/html": [
       "<div>\n",
       "<style scoped>\n",
       "    .dataframe tbody tr th:only-of-type {\n",
       "        vertical-align: middle;\n",
       "    }\n",
       "\n",
       "    .dataframe tbody tr th {\n",
       "        vertical-align: top;\n",
       "    }\n",
       "\n",
       "    .dataframe thead th {\n",
       "        text-align: right;\n",
       "    }\n",
       "</style>\n",
       "<table border=\"1\" class=\"dataframe\">\n",
       "  <thead>\n",
       "    <tr style=\"text-align: right;\">\n",
       "      <th></th>\n",
       "      <th>image</th>\n",
       "      <th>predictions</th>\n",
       "      <th>species</th>\n",
       "    </tr>\n",
       "  </thead>\n",
       "  <tbody>\n",
       "    <tr>\n",
       "      <th>0</th>\n",
       "      <td>000110707af0ba.jpg</td>\n",
       "      <td>fbe2b15b5481 new_individual 6d1cc6d00dca 5ec41...</td>\n",
       "      <td>gray_whale</td>\n",
       "    </tr>\n",
       "    <tr>\n",
       "      <th>1</th>\n",
       "      <td>0006287ec424cb.jpg</td>\n",
       "      <td>1424c7fec826 c3b7d902e73c new_individual f0efb...</td>\n",
       "      <td>false_killer_whale</td>\n",
       "    </tr>\n",
       "    <tr>\n",
       "      <th>2</th>\n",
       "      <td>000809ecb2ccad.jpg</td>\n",
       "      <td>1ce3ba6a3c29 82f26bb1adae d3cedf439859 c0fd946...</td>\n",
       "      <td>beluga</td>\n",
       "    </tr>\n",
       "    <tr>\n",
       "      <th>3</th>\n",
       "      <td>00098d1376dab2.jpg</td>\n",
       "      <td>c4274d90be60 2781acdf5508 b5db2ecef12d 8b7c290...</td>\n",
       "      <td>humpback_whale</td>\n",
       "    </tr>\n",
       "    <tr>\n",
       "      <th>4</th>\n",
       "      <td>000b8d89c738bd.jpg</td>\n",
       "      <td>cf500d3874bc new_individual d4d2cd407a48 56637...</td>\n",
       "      <td>dusky_dolphin</td>\n",
       "    </tr>\n",
       "    <tr>\n",
       "      <th>...</th>\n",
       "      <td>...</td>\n",
       "      <td>...</td>\n",
       "      <td>...</td>\n",
       "    </tr>\n",
       "    <tr>\n",
       "      <th>27951</th>\n",
       "      <td>fff6ff1989b5cd.jpg</td>\n",
       "      <td>734573d54bef 843297d1983b new_individual ec0aa...</td>\n",
       "      <td>spinner_dolphin</td>\n",
       "    </tr>\n",
       "    <tr>\n",
       "      <th>27952</th>\n",
       "      <td>fff8fd932b42cb.jpg</td>\n",
       "      <td>new_individual 539541f81a32 4e376cb4fd38 b7bd5...</td>\n",
       "      <td>dusky_dolphin</td>\n",
       "    </tr>\n",
       "    <tr>\n",
       "      <th>27953</th>\n",
       "      <td>fff96371332c16.jpg</td>\n",
       "      <td>dc4082105594 2fad3a13934d 9d86367bdff7 8949de1...</td>\n",
       "      <td>beluga</td>\n",
       "    </tr>\n",
       "    <tr>\n",
       "      <th>27954</th>\n",
       "      <td>fffc1c4d3eabc7.jpg</td>\n",
       "      <td>new_individual a8fe10f7b3e0 e7f9e93184b9 d85f2...</td>\n",
       "      <td>cuviers_beaked_whale</td>\n",
       "    </tr>\n",
       "    <tr>\n",
       "      <th>27955</th>\n",
       "      <td>fffc50be10c175.jpg</td>\n",
       "      <td>32a8f92d7809 4587a8786179 a012c69541da 3ce8642...</td>\n",
       "      <td>short_finned_pilot_whale</td>\n",
       "    </tr>\n",
       "  </tbody>\n",
       "</table>\n",
       "<p>27956 rows × 3 columns</p>\n",
       "</div>"
      ],
      "text/plain": [
       "                    image                                        predictions  \\\n",
       "0      000110707af0ba.jpg  fbe2b15b5481 new_individual 6d1cc6d00dca 5ec41...   \n",
       "1      0006287ec424cb.jpg  1424c7fec826 c3b7d902e73c new_individual f0efb...   \n",
       "2      000809ecb2ccad.jpg  1ce3ba6a3c29 82f26bb1adae d3cedf439859 c0fd946...   \n",
       "3      00098d1376dab2.jpg  c4274d90be60 2781acdf5508 b5db2ecef12d 8b7c290...   \n",
       "4      000b8d89c738bd.jpg  cf500d3874bc new_individual d4d2cd407a48 56637...   \n",
       "...                   ...                                                ...   \n",
       "27951  fff6ff1989b5cd.jpg  734573d54bef 843297d1983b new_individual ec0aa...   \n",
       "27952  fff8fd932b42cb.jpg  new_individual 539541f81a32 4e376cb4fd38 b7bd5...   \n",
       "27953  fff96371332c16.jpg  dc4082105594 2fad3a13934d 9d86367bdff7 8949de1...   \n",
       "27954  fffc1c4d3eabc7.jpg  new_individual a8fe10f7b3e0 e7f9e93184b9 d85f2...   \n",
       "27955  fffc50be10c175.jpg  32a8f92d7809 4587a8786179 a012c69541da 3ce8642...   \n",
       "\n",
       "                        species  \n",
       "0                    gray_whale  \n",
       "1            false_killer_whale  \n",
       "2                        beluga  \n",
       "3                humpback_whale  \n",
       "4                 dusky_dolphin  \n",
       "...                         ...  \n",
       "27951           spinner_dolphin  \n",
       "27952             dusky_dolphin  \n",
       "27953                    beluga  \n",
       "27954      cuviers_beaked_whale  \n",
       "27955  short_finned_pilot_whale  \n",
       "\n",
       "[27956 rows x 3 columns]"
      ]
     },
     "execution_count": 152,
     "metadata": {},
     "output_type": "execute_result"
    }
   ],
   "source": [
    "test_df"
   ]
  },
  {
   "cell_type": "code",
   "execution_count": null,
   "metadata": {},
   "outputs": [],
   "source": []
  },
  {
   "cell_type": "code",
   "execution_count": 161,
   "metadata": {},
   "outputs": [],
   "source": [
    "lb0852=pd.read_csv(\"rank_ensemble_0852.csv\")\n",
    "lb0843=pd.read_csv(\"lb0843.csv\")"
   ]
  },
  {
   "cell_type": "code",
   "execution_count": 162,
   "metadata": {},
   "outputs": [
    {
     "data": {
      "text/html": [
       "<div>\n",
       "<style scoped>\n",
       "    .dataframe tbody tr th:only-of-type {\n",
       "        vertical-align: middle;\n",
       "    }\n",
       "\n",
       "    .dataframe tbody tr th {\n",
       "        vertical-align: top;\n",
       "    }\n",
       "\n",
       "    .dataframe thead th {\n",
       "        text-align: right;\n",
       "    }\n",
       "</style>\n",
       "<table border=\"1\" class=\"dataframe\">\n",
       "  <thead>\n",
       "    <tr style=\"text-align: right;\">\n",
       "      <th></th>\n",
       "      <th>image</th>\n",
       "      <th>predictions</th>\n",
       "    </tr>\n",
       "  </thead>\n",
       "  <tbody>\n",
       "    <tr>\n",
       "      <th>0</th>\n",
       "      <td>000110707af0ba.jpg</td>\n",
       "      <td>fbe2b15b5481 new_individual 6d1cc6d00dca 5ec41...</td>\n",
       "    </tr>\n",
       "    <tr>\n",
       "      <th>1</th>\n",
       "      <td>0006287ec424cb.jpg</td>\n",
       "      <td>1424c7fec826 c3b7d902e73c new_individual f0efb...</td>\n",
       "    </tr>\n",
       "    <tr>\n",
       "      <th>2</th>\n",
       "      <td>000809ecb2ccad.jpg</td>\n",
       "      <td>1ce3ba6a3c29 82f26bb1adae d3cedf439859 c0fd946...</td>\n",
       "    </tr>\n",
       "    <tr>\n",
       "      <th>3</th>\n",
       "      <td>00098d1376dab2.jpg</td>\n",
       "      <td>c4274d90be60 2781acdf5508 b5db2ecef12d 8b7c290...</td>\n",
       "    </tr>\n",
       "    <tr>\n",
       "      <th>4</th>\n",
       "      <td>000b8d89c738bd.jpg</td>\n",
       "      <td>cf500d3874bc new_individual d4d2cd407a48 56637...</td>\n",
       "    </tr>\n",
       "    <tr>\n",
       "      <th>...</th>\n",
       "      <td>...</td>\n",
       "      <td>...</td>\n",
       "    </tr>\n",
       "    <tr>\n",
       "      <th>27951</th>\n",
       "      <td>fff6ff1989b5cd.jpg</td>\n",
       "      <td>734573d54bef 843297d1983b new_individual ec0aa...</td>\n",
       "    </tr>\n",
       "    <tr>\n",
       "      <th>27952</th>\n",
       "      <td>fff8fd932b42cb.jpg</td>\n",
       "      <td>new_individual 539541f81a32 4e376cb4fd38 b7bd5...</td>\n",
       "    </tr>\n",
       "    <tr>\n",
       "      <th>27953</th>\n",
       "      <td>fff96371332c16.jpg</td>\n",
       "      <td>dc4082105594 2fad3a13934d 8949de1830d1 9d86367...</td>\n",
       "    </tr>\n",
       "    <tr>\n",
       "      <th>27954</th>\n",
       "      <td>fffc1c4d3eabc7.jpg</td>\n",
       "      <td>new_individual a8fe10f7b3e0 e7f9e93184b9 d85f2...</td>\n",
       "    </tr>\n",
       "    <tr>\n",
       "      <th>27955</th>\n",
       "      <td>fffc50be10c175.jpg</td>\n",
       "      <td>32a8f92d7809 4587a8786179 a012c69541da 3ce8642...</td>\n",
       "    </tr>\n",
       "  </tbody>\n",
       "</table>\n",
       "<p>27956 rows × 2 columns</p>\n",
       "</div>"
      ],
      "text/plain": [
       "                    image                                        predictions\n",
       "0      000110707af0ba.jpg  fbe2b15b5481 new_individual 6d1cc6d00dca 5ec41...\n",
       "1      0006287ec424cb.jpg  1424c7fec826 c3b7d902e73c new_individual f0efb...\n",
       "2      000809ecb2ccad.jpg  1ce3ba6a3c29 82f26bb1adae d3cedf439859 c0fd946...\n",
       "3      00098d1376dab2.jpg  c4274d90be60 2781acdf5508 b5db2ecef12d 8b7c290...\n",
       "4      000b8d89c738bd.jpg  cf500d3874bc new_individual d4d2cd407a48 56637...\n",
       "...                   ...                                                ...\n",
       "27951  fff6ff1989b5cd.jpg  734573d54bef 843297d1983b new_individual ec0aa...\n",
       "27952  fff8fd932b42cb.jpg  new_individual 539541f81a32 4e376cb4fd38 b7bd5...\n",
       "27953  fff96371332c16.jpg  dc4082105594 2fad3a13934d 8949de1830d1 9d86367...\n",
       "27954  fffc1c4d3eabc7.jpg  new_individual a8fe10f7b3e0 e7f9e93184b9 d85f2...\n",
       "27955  fffc50be10c175.jpg  32a8f92d7809 4587a8786179 a012c69541da 3ce8642...\n",
       "\n",
       "[27956 rows x 2 columns]"
      ]
     },
     "execution_count": 162,
     "metadata": {},
     "output_type": "execute_result"
    }
   ],
   "source": [
    "lb0843"
   ]
  },
  {
   "cell_type": "code",
   "execution_count": 163,
   "metadata": {},
   "outputs": [],
   "source": [
    "same_count=0\n",
    "diff_count=0\n",
    "for i in range(len(sub_pred_lis)):\n",
    "    top1_team = sub_pred_lis[i][0]\n",
    "    top1_sub = lb0843.predictions.values[i].split()[0]\n",
    "    \n",
    "\n",
    "    if top1_team==top1_sub:\n",
    "        same_count+=1\n",
    "    else:\n",
    "        diff_count+=1"
   ]
  },
  {
   "cell_type": "code",
   "execution_count": 164,
   "metadata": {},
   "outputs": [
    {
     "data": {
      "text/plain": [
       "27698"
      ]
     },
     "execution_count": 164,
     "metadata": {},
     "output_type": "execute_result"
    }
   ],
   "source": [
    "same_count"
   ]
  },
  {
   "cell_type": "code",
   "execution_count": 165,
   "metadata": {},
   "outputs": [
    {
     "data": {
      "text/plain": [
       "258"
      ]
     },
     "execution_count": 165,
     "metadata": {},
     "output_type": "execute_result"
    }
   ],
   "source": [
    "diff_count"
   ]
  },
  {
   "cell_type": "code",
   "execution_count": null,
   "metadata": {},
   "outputs": [],
   "source": []
  }
 ],
 "metadata": {
  "kernelspec": {
   "display_name": "Python 3 (ipykernel)",
   "language": "python",
   "name": "python3"
  },
  "language_info": {
   "codemirror_mode": {
    "name": "ipython",
    "version": 3
   },
   "file_extension": ".py",
   "mimetype": "text/x-python",
   "name": "python",
   "nbconvert_exporter": "python",
   "pygments_lexer": "ipython3",
   "version": "3.7.12"
  }
 },
 "nbformat": 4,
 "nbformat_minor": 4
}
