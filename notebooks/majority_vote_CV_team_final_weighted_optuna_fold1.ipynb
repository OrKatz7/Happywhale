{
 "cells": [
  {
   "cell_type": "markdown",
   "metadata": {},
   "source": [
    "Majority vote from team's CV"
   ]
  },
  {
   "cell_type": "code",
   "execution_count": 1,
   "metadata": {
    "scrolled": true
   },
   "outputs": [],
   "source": [
    "import numpy as np\n",
    "import matplotlib.pyplot as plt\n",
    "import pandas as pd\n",
    "import json\n",
    "import glob\n",
    "\n",
    "from tqdm import tqdm\n",
    "import seaborn as sns\n",
    "from collections import Counter\n",
    "\n",
    "import cv2"
   ]
  },
  {
   "cell_type": "code",
   "execution_count": 2,
   "metadata": {},
   "outputs": [],
   "source": [
    "import cudf, cuml, cupy\n",
    "from cuml.feature_extraction.text import TfidfVectorizer\n",
    "from cuml.neighbors import NearestNeighbors"
   ]
  },
  {
   "cell_type": "code",
   "execution_count": 3,
   "metadata": {},
   "outputs": [],
   "source": [
    "from collections import Counter\n",
    "from sklearn.metrics import pairwise_distances\n",
    "from sklearn.preprocessing import normalize"
   ]
  },
  {
   "cell_type": "code",
   "execution_count": 4,
   "metadata": {},
   "outputs": [],
   "source": [
    "from collections import defaultdict"
   ]
  },
  {
   "cell_type": "code",
   "execution_count": 5,
   "metadata": {},
   "outputs": [],
   "source": [
    "import bz2\n",
    "import pickle\n",
    "import _pickle as cPickle\n",
    "\n",
    "def compressed_pickle(title, data):\n",
    "    with bz2.BZ2File(title + '.pbz2', 'w') as f:\n",
    "        cPickle.dump(data, f)\n",
    "        \n",
    "def decompress_pickle(file):\n",
    "    data = bz2.BZ2File(file, 'rb')\n",
    "    data = cPickle.load(data)\n",
    "    return data"
   ]
  },
  {
   "cell_type": "code",
   "execution_count": 6,
   "metadata": {},
   "outputs": [],
   "source": [
    "#exps = !ls ../input/whale-21-3-2022/ | grep pbz2 | grep fold4\n",
    "#exps"
   ]
  },
  {
   "cell_type": "code",
   "execution_count": null,
   "metadata": {},
   "outputs": [],
   "source": []
  },
  {
   "cell_type": "code",
   "execution_count": 7,
   "metadata": {},
   "outputs": [],
   "source": [
    "FOLD=1"
   ]
  },
  {
   "cell_type": "code",
   "execution_count": 8,
   "metadata": {},
   "outputs": [],
   "source": [
    "exps_all = [\n",
    "    [\n",
    "         'exp16v6Augmix_fold0.pbz2',\n",
    "         'exp16v4sampler_fold0.pbz2',\n",
    "         'exp16v6AugMixNew4_fold0.pbz2',\n",
    "         'exp16v6AugMixNew4_fold0_tta.pbz2',\n",
    "         'exp16v6AugmixB3_fold0.pbz2',\n",
    "         'exp16v6AugmixB4Step2_fold0.pbz2',\n",
    "         'exp16v6AugmixB4Step2_fold0_remove_background.pbz2',\n",
    "         'exp16v6AugmixB4_fold0.pbz2',\n",
    "         'exp16v6AugmixB4_fold0_remove_background.pbz2',\n",
    "         'exp16v6AugmixFullB4_fold0.pbz2',\n",
    "         'exp16v6sampler_fold0.pbz2',\n",
    "         'exp21b6_fold0.pbz2',\n",
    "         'exp21b6_fold0_remove_background.pbz2'\n",
    "    ],\n",
    "    [\n",
    "         'exp16v6Augmix_fold1.pbz2',\n",
    "         'exp16v6AugMixNew4_fold1.pbz2',\n",
    "         'exp16v6AugMixNew4_fold1_tta.pbz2',\n",
    "         'exp16v6AugmixB3_fold1.pbz2',\n",
    "         'exp16v6AugmixB4Step2_fold1.pbz2',\n",
    "         'exp16v6AugmixB4Step2_fold1_remove_background.pbz2',\n",
    "         'exp16v6AugmixB4_fold1.pbz2',\n",
    "         'exp21b6_fold1_remove_background.pbz2'\n",
    "    ],\n",
    "    [\n",
    "         'exp16v6Augmix_fold2.pbz2',\n",
    "         'exp16v6AugMixNew4_fold2.pbz2',\n",
    "         'exp16v6AugMixNew4_fold2_tta.pbz2',\n",
    "         'exp16v6AugmixB3_fold2.pbz2',\n",
    "         'exp16v6AugmixB4Full_fold2.pbz2',\n",
    "         'exp16v6AugmixB4Step2_fold2.pbz2',\n",
    "         'exp16v6AugmixB4_fold2.pbz2',\n",
    "         'exp16v6AugmixB4_fold2_remove_background.pbz2',\n",
    "         'exp21b6_fold2_remove_background.pbz2'\n",
    "    ],\n",
    "    [\n",
    "         'exp16v6Augmix_fold3.pbz2',\n",
    "         'exp16v6AugMix1536_fold3.pbz2',\n",
    "         'exp16v6AugmixB3_fold3.pbz2',\n",
    "         'exp16v6AugmixB4Full_fold3.pbz2',\n",
    "         'exp16v6AugmixB4Step2_fold3.pbz2',\n",
    "         'exp16v6AugmixB4_fold3_remove_background.pbz2',\n",
    "         'exp21b6_fold3_remove_background.pbz2'\n",
    "    ],\n",
    "    [\n",
    "         'exp16v6Augmix_fold4.pbz2',\n",
    "         'exp16v6AugMix1536_fold4.pbz2',\n",
    "         'exp16v6AugmixB3_fold4.pbz2',\n",
    "         'exp16v6AugmixB4Step2_fold4.pbz2',\n",
    "         'exp16v6AugmixB4_fold4_remove_background.pbz2',\n",
    "    ]\n",
    "]"
   ]
  },
  {
   "cell_type": "code",
   "execution_count": 9,
   "metadata": {},
   "outputs": [],
   "source": [
    "exps = exps_all[FOLD]"
   ]
  },
  {
   "cell_type": "code",
   "execution_count": 10,
   "metadata": {
    "scrolled": false
   },
   "outputs": [
    {
     "data": {
      "text/plain": [
       "(51033, 8)"
      ]
     },
     "execution_count": 10,
     "metadata": {},
     "output_type": "execute_result"
    }
   ],
   "source": [
    "fold2 = pd.read_csv(\"/kaggle/happywhale/input/whale-21-3-2022/fold2.csv\")\n",
    "fold2.shape"
   ]
  },
  {
   "cell_type": "code",
   "execution_count": 11,
   "metadata": {},
   "outputs": [],
   "source": [
    "valid = fold2.query(\"fold == @FOLD\").reset_index()\n",
    "train = fold2.query(\"fold != @FOLD\").reset_index()"
   ]
  },
  {
   "cell_type": "code",
   "execution_count": 12,
   "metadata": {},
   "outputs": [],
   "source": [
    "valid_ind = (fold2.fold == FOLD).values\n",
    "train_ind = (fold2.fold != FOLD).values"
   ]
  },
  {
   "cell_type": "code",
   "execution_count": null,
   "metadata": {},
   "outputs": [],
   "source": []
  },
  {
   "cell_type": "code",
   "execution_count": 13,
   "metadata": {},
   "outputs": [],
   "source": [
    "train_inddividual_id_lis = train[\"individual_id\"].values\n",
    "valid_inddividual_id_lis = valid[\"individual_id\"].values\n",
    "\n",
    "def get_result_each(files):\n",
    "    DIRNAME =\"../input/whale-21-3-2022/\"\n",
    "      \n",
    "    ret = []\n",
    "        \n",
    "    for fname in files:\n",
    "        print(fname)\n",
    "        data = decompress_pickle(DIRNAME + fname  )\n",
    "        \n",
    "        train_emb = data[\"emb_val\"]#[new_index,:]\n",
    "        \n",
    "        train_emb=normalize(train_emb)\n",
    "        \n",
    "        valid_preds = train_emb[valid_ind]\n",
    "        train_preds = train_emb[train_ind]\n",
    "        \n",
    "        \n",
    "        distances = pairwise_distances(valid_preds,train_preds)\n",
    "                \n",
    "        K=1000\n",
    "        predicted_positions = np.argpartition(distances, K, axis=1)[:, :K]\n",
    "\n",
    "        all_pred_lis = []\n",
    "        for i in tqdm(range(predicted_positions.shape[0])):\n",
    "            nearest = [(train_inddividual_id_lis[j], distances[i, j]) for j in predicted_positions[i]]\n",
    "            nearest.sort(key=lambda x: x[1])\n",
    "\n",
    "            prediction = [index_id for index_id, d in nearest]\n",
    "\n",
    "            done = set()\n",
    "            pred_list = []\n",
    "            for pred_id in prediction:\n",
    "                if pred_id in done:\n",
    "                    continue\n",
    "                done.add(pred_id)\n",
    "                pred_list.append(pred_id)\n",
    "                if len(pred_list)==20:\n",
    "                    break\n",
    "\n",
    "            all_pred_lis.append(pred_list)\n",
    "        \n",
    "        ret.append(all_pred_lis)\n",
    "        \n",
    "    return ret\n",
    "    "
   ]
  },
  {
   "cell_type": "markdown",
   "metadata": {},
   "source": [
    "### get result for each model"
   ]
  },
  {
   "cell_type": "code",
   "execution_count": 14,
   "metadata": {
    "scrolled": false
   },
   "outputs": [
    {
     "name": "stdout",
     "output_type": "stream",
     "text": [
      "exp16v6Augmix_fold1.pbz2\n"
     ]
    },
    {
     "name": "stderr",
     "output_type": "stream",
     "text": [
      "100%|██████████| 8319/8319 [00:07<00:00, 1101.15it/s]\n"
     ]
    },
    {
     "name": "stdout",
     "output_type": "stream",
     "text": [
      "exp16v6AugMixNew4_fold1.pbz2\n"
     ]
    },
    {
     "name": "stderr",
     "output_type": "stream",
     "text": [
      "100%|██████████| 8319/8319 [00:07<00:00, 1111.50it/s]\n"
     ]
    },
    {
     "name": "stdout",
     "output_type": "stream",
     "text": [
      "exp16v6AugMixNew4_fold1_tta.pbz2\n"
     ]
    },
    {
     "name": "stderr",
     "output_type": "stream",
     "text": [
      "100%|██████████| 8319/8319 [00:07<00:00, 1112.85it/s]\n"
     ]
    },
    {
     "name": "stdout",
     "output_type": "stream",
     "text": [
      "exp16v6AugmixB3_fold1.pbz2\n"
     ]
    },
    {
     "name": "stderr",
     "output_type": "stream",
     "text": [
      "100%|██████████| 8319/8319 [00:07<00:00, 1090.49it/s]\n"
     ]
    },
    {
     "name": "stdout",
     "output_type": "stream",
     "text": [
      "exp16v6AugmixB4Step2_fold1.pbz2\n"
     ]
    },
    {
     "name": "stderr",
     "output_type": "stream",
     "text": [
      "100%|██████████| 8319/8319 [00:07<00:00, 1089.26it/s]\n"
     ]
    },
    {
     "name": "stdout",
     "output_type": "stream",
     "text": [
      "exp16v6AugmixB4Step2_fold1_remove_background.pbz2\n"
     ]
    },
    {
     "name": "stderr",
     "output_type": "stream",
     "text": [
      "100%|██████████| 8319/8319 [00:07<00:00, 1102.38it/s]\n"
     ]
    },
    {
     "name": "stdout",
     "output_type": "stream",
     "text": [
      "exp16v6AugmixB4_fold1.pbz2\n"
     ]
    },
    {
     "name": "stderr",
     "output_type": "stream",
     "text": [
      "100%|██████████| 8319/8319 [00:07<00:00, 1110.78it/s]\n"
     ]
    },
    {
     "name": "stdout",
     "output_type": "stream",
     "text": [
      "exp21b6_fold1_remove_background.pbz2\n"
     ]
    },
    {
     "name": "stderr",
     "output_type": "stream",
     "text": [
      "100%|██████████| 8319/8319 [00:07<00:00, 1113.48it/s]\n"
     ]
    }
   ],
   "source": [
    "ret = get_result_each(exps)"
   ]
  },
  {
   "cell_type": "code",
   "execution_count": 15,
   "metadata": {},
   "outputs": [
    {
     "data": {
      "text/plain": [
       "(8, 8319, 20)"
      ]
     },
     "execution_count": 15,
     "metadata": {},
     "output_type": "execute_result"
    }
   ],
   "source": [
    "len(ret),len(ret[0]),len(ret[0][0])"
   ]
  },
  {
   "cell_type": "code",
   "execution_count": null,
   "metadata": {},
   "outputs": [],
   "source": []
  },
  {
   "cell_type": "code",
   "execution_count": 16,
   "metadata": {},
   "outputs": [],
   "source": [
    "def get_score(weights):\n",
    "    \n",
    "    #train_emb\n",
    "    vote_result = defaultdict(lambda:defaultdict(int))\n",
    "    \n",
    "    for preds, w in zip(ret, weights):\n",
    "        for i in range(len(preds)):\n",
    "            \n",
    "            for j,p in enumerate(preds[i]):\n",
    "                vote_result[i][p] += (w / (j+1))\n",
    "        \n",
    "        \n",
    "    score_lis = []\n",
    "    pred_ids = []\n",
    "\n",
    "    for i in range(len(ret[0])):\n",
    "        pred_list = np.array(sorted(vote_result[i].items(), key=lambda item: item[1])[::-1])[:5,0].tolist()\n",
    "\n",
    "        if valid_inddividual_id_lis[i] in pred_list:\n",
    "            s = 1/(pred_list.index(valid_inddividual_id_lis[i]) + 1)\n",
    "            score_lis.append(s)\n",
    "        else:\n",
    "            score_lis.append(0)\n",
    "    \n",
    "    return np.mean(score_lis)"
   ]
  },
  {
   "cell_type": "code",
   "execution_count": null,
   "metadata": {},
   "outputs": [],
   "source": []
  },
  {
   "cell_type": "code",
   "execution_count": 17,
   "metadata": {},
   "outputs": [
    {
     "data": {
      "text/plain": [
       "0.85759907040109"
      ]
     },
     "execution_count": 17,
     "metadata": {},
     "output_type": "execute_result"
    }
   ],
   "source": [
    "# un-weighted result\n",
    "get_score([1] * len(exps))"
   ]
  },
  {
   "cell_type": "code",
   "execution_count": null,
   "metadata": {},
   "outputs": [],
   "source": []
  },
  {
   "cell_type": "markdown",
   "metadata": {},
   "source": [
    "optimize by optuna"
   ]
  },
  {
   "cell_type": "code",
   "execution_count": 18,
   "metadata": {},
   "outputs": [],
   "source": [
    "import optuna"
   ]
  },
  {
   "cell_type": "code",
   "execution_count": 19,
   "metadata": {},
   "outputs": [],
   "source": [
    "def objective_wrapper(exps):\n",
    "    def objective(trial):\n",
    "\n",
    "        weights = [1]\n",
    "        for i in range(len(exps)-1):\n",
    "            w=trial.suggest_uniform(exps[i+1], 0, 4)\n",
    "            weights.append(w)\n",
    "        \n",
    "        \n",
    "        score_lis = get_score(weights)\n",
    "        score = np.mean(score_lis)\n",
    "        return score\n",
    "    \n",
    "    return objective\n"
   ]
  },
  {
   "cell_type": "code",
   "execution_count": 20,
   "metadata": {
    "scrolled": true
   },
   "outputs": [
    {
     "name": "stderr",
     "output_type": "stream",
     "text": [
      "\u001b[32m[I 2022-04-17 07:36:02,168]\u001b[0m A new study created in memory with name: no-name-4134d034-3d30-49e8-a7c1-357bba0d4d85\u001b[0m\n",
      "\u001b[32m[I 2022-04-17 07:36:03,308]\u001b[0m Trial 0 finished with value: 0.8615799174580279 and parameters: {'exp16v6AugMixNew4_fold1.pbz2': 3.2891669351629576, 'exp16v6AugMixNew4_fold1_tta.pbz2': 2.2331749519119675, 'exp16v6AugmixB3_fold1.pbz2': 3.3824665369159925, 'exp16v6AugmixB4Step2_fold1.pbz2': 2.106206410728921, 'exp16v6AugmixB4Step2_fold1_remove_background.pbz2': 0.14880076291902133, 'exp16v6AugmixB4_fold1.pbz2': 1.2065625084409888, 'exp21b6_fold1_remove_background.pbz2': 3.264666861406923}. Best is trial 0 with value: 0.8615799174580279.\u001b[0m\n",
      "\u001b[32m[I 2022-04-17 07:36:04,449]\u001b[0m Trial 1 finished with value: 0.8540970469207037 and parameters: {'exp16v6AugMixNew4_fold1.pbz2': 1.189756765964697, 'exp16v6AugMixNew4_fold1_tta.pbz2': 1.2670995660730555, 'exp16v6AugmixB3_fold1.pbz2': 0.6141279153728383, 'exp16v6AugmixB4Step2_fold1.pbz2': 0.7324607481059848, 'exp16v6AugmixB4Step2_fold1_remove_background.pbz2': 1.306239779941874, 'exp16v6AugmixB4_fold1.pbz2': 2.863492714271682, 'exp21b6_fold1_remove_background.pbz2': 0.6895362785539687}. Best is trial 0 with value: 0.8615799174580279.\u001b[0m\n",
      "\u001b[32m[I 2022-04-17 07:36:05,591]\u001b[0m Trial 2 finished with value: 0.8427575429739151 and parameters: {'exp16v6AugMixNew4_fold1.pbz2': 1.6389845317113787, 'exp16v6AugMixNew4_fold1_tta.pbz2': 0.3434072613859418, 'exp16v6AugmixB3_fold1.pbz2': 3.0476847536514247, 'exp16v6AugmixB4Step2_fold1.pbz2': 0.12072377119605848, 'exp16v6AugmixB4Step2_fold1_remove_background.pbz2': 1.6239543413755246, 'exp16v6AugmixB4_fold1.pbz2': 3.3301849368263525, 'exp21b6_fold1_remove_background.pbz2': 3.8926020224456463}. Best is trial 0 with value: 0.8615799174580279.\u001b[0m\n",
      "\u001b[32m[I 2022-04-17 07:36:06,757]\u001b[0m Trial 3 finished with value: 0.8645149657410747 and parameters: {'exp16v6AugMixNew4_fold1.pbz2': 2.235416487348236, 'exp16v6AugMixNew4_fold1_tta.pbz2': 3.043369149658017, 'exp16v6AugmixB3_fold1.pbz2': 1.2493065071849072, 'exp16v6AugmixB4Step2_fold1.pbz2': 0.4730421978913806, 'exp16v6AugmixB4Step2_fold1_remove_background.pbz2': 0.3603982659762264, 'exp16v6AugmixB4_fold1.pbz2': 0.07058914200139865, 'exp21b6_fold1_remove_background.pbz2': 3.4643086714859272}. Best is trial 3 with value: 0.8645149657410747.\u001b[0m\n",
      "\u001b[32m[I 2022-04-17 07:36:07,901]\u001b[0m Trial 4 finished with value: 0.852147694033738 and parameters: {'exp16v6AugMixNew4_fold1.pbz2': 1.8571445997055465, 'exp16v6AugMixNew4_fold1_tta.pbz2': 1.6898525931728083, 'exp16v6AugmixB3_fold1.pbz2': 0.6861899227558563, 'exp16v6AugmixB4Step2_fold1.pbz2': 1.7780884192387054, 'exp16v6AugmixB4Step2_fold1_remove_background.pbz2': 2.58112516123663, 'exp16v6AugmixB4_fold1.pbz2': 3.604524254891441, 'exp21b6_fold1_remove_background.pbz2': 1.3969823612844063}. Best is trial 3 with value: 0.8645149657410747.\u001b[0m\n",
      "\u001b[32m[I 2022-04-17 07:36:09,034]\u001b[0m Trial 5 finished with value: 0.8684898024602316 and parameters: {'exp16v6AugMixNew4_fold1.pbz2': 3.642155842816106, 'exp16v6AugMixNew4_fold1_tta.pbz2': 1.9443330044111513, 'exp16v6AugmixB3_fold1.pbz2': 0.7783637355965056, 'exp16v6AugmixB4Step2_fold1.pbz2': 1.7465585102555363, 'exp16v6AugmixB4Step2_fold1_remove_background.pbz2': 1.2854166795759276, 'exp16v6AugmixB4_fold1.pbz2': 0.9786120017892426, 'exp21b6_fold1_remove_background.pbz2': 1.0031811598635363}. Best is trial 5 with value: 0.8684898024602316.\u001b[0m\n",
      "\u001b[32m[I 2022-04-17 07:36:10,171]\u001b[0m Trial 6 finished with value: 0.8519814080217974 and parameters: {'exp16v6AugMixNew4_fold1.pbz2': 1.207654072418964, 'exp16v6AugMixNew4_fold1_tta.pbz2': 3.9635045049752273, 'exp16v6AugmixB3_fold1.pbz2': 1.9322053428928245, 'exp16v6AugmixB4Step2_fold1.pbz2': 2.5255127807100903, 'exp16v6AugmixB4Step2_fold1_remove_background.pbz2': 3.778596572992282, 'exp16v6AugmixB4_fold1.pbz2': 3.7954280114575196, 'exp21b6_fold1_remove_background.pbz2': 0.27641522618204384}. Best is trial 5 with value: 0.8684898024602316.\u001b[0m\n",
      "\u001b[32m[I 2022-04-17 07:36:11,313]\u001b[0m Trial 7 finished with value: 0.8659273951196057 and parameters: {'exp16v6AugMixNew4_fold1.pbz2': 3.7591882658327025, 'exp16v6AugMixNew4_fold1_tta.pbz2': 1.76891593710054, 'exp16v6AugmixB3_fold1.pbz2': 0.9359840968830655, 'exp16v6AugmixB4Step2_fold1.pbz2': 0.23397565753884253, 'exp16v6AugmixB4Step2_fold1_remove_background.pbz2': 1.1222910041986665, 'exp16v6AugmixB4_fold1.pbz2': 3.1631591243729025, 'exp21b6_fold1_remove_background.pbz2': 0.2003588757980097}. Best is trial 5 with value: 0.8684898024602316.\u001b[0m\n",
      "\u001b[32m[I 2022-04-17 07:36:12,461]\u001b[0m Trial 8 finished with value: 0.8497014865568778 and parameters: {'exp16v6AugMixNew4_fold1.pbz2': 0.22582566757332678, 'exp16v6AugMixNew4_fold1_tta.pbz2': 2.8992060839073037, 'exp16v6AugmixB3_fold1.pbz2': 2.506440605004764, 'exp16v6AugmixB4Step2_fold1.pbz2': 3.1782731665068678, 'exp16v6AugmixB4Step2_fold1_remove_background.pbz2': 0.9359276944358759, 'exp16v6AugmixB4_fold1.pbz2': 3.4248517147199924, 'exp21b6_fold1_remove_background.pbz2': 3.0940583278129123}. Best is trial 5 with value: 0.8684898024602316.\u001b[0m\n",
      "\u001b[32m[I 2022-04-17 07:36:13,600]\u001b[0m Trial 9 finished with value: 0.8595784749769604 and parameters: {'exp16v6AugMixNew4_fold1.pbz2': 2.863987845487824, 'exp16v6AugMixNew4_fold1_tta.pbz2': 2.0776331231415415, 'exp16v6AugmixB3_fold1.pbz2': 2.9145830555736105, 'exp16v6AugmixB4Step2_fold1.pbz2': 1.8842303094390371, 'exp16v6AugmixB4Step2_fold1_remove_background.pbz2': 2.3396662549305716, 'exp16v6AugmixB4_fold1.pbz2': 1.2792209590418966, 'exp21b6_fold1_remove_background.pbz2': 0.16681211359748893}. Best is trial 5 with value: 0.8684898024602316.\u001b[0m\n",
      "\u001b[32m[I 2022-04-17 07:36:14,900]\u001b[0m Trial 10 finished with value: 0.851143967624314 and parameters: {'exp16v6AugMixNew4_fold1.pbz2': 3.930143407067298, 'exp16v6AugMixNew4_fold1_tta.pbz2': 0.4990398699310927, 'exp16v6AugmixB3_fold1.pbz2': 3.954192507918023, 'exp16v6AugmixB4Step2_fold1.pbz2': 3.6741666015831433, 'exp16v6AugmixB4Step2_fold1_remove_background.pbz2': 3.2075281870078345, 'exp16v6AugmixB4_fold1.pbz2': 0.009259058767711048, 'exp21b6_fold1_remove_background.pbz2': 2.16746803623712}. Best is trial 5 with value: 0.8684898024602316.\u001b[0m\n",
      "\u001b[32m[I 2022-04-17 07:36:16,057]\u001b[0m Trial 11 finished with value: 0.8685458989461874 and parameters: {'exp16v6AugMixNew4_fold1.pbz2': 3.862791584287468, 'exp16v6AugMixNew4_fold1_tta.pbz2': 1.280911920370586, 'exp16v6AugmixB3_fold1.pbz2': 0.08253259068723329, 'exp16v6AugmixB4Step2_fold1.pbz2': 1.128197553891785, 'exp16v6AugmixB4Step2_fold1_remove_background.pbz2': 0.734149435399586, 'exp16v6AugmixB4_fold1.pbz2': 2.203070401356513, 'exp21b6_fold1_remove_background.pbz2': 1.168148273449283}. Best is trial 11 with value: 0.8685458989461874.\u001b[0m\n",
      "\u001b[32m[I 2022-04-17 07:36:17,221]\u001b[0m Trial 12 finished with value: 0.8654345474215651 and parameters: {'exp16v6AugMixNew4_fold1.pbz2': 3.056764932265404, 'exp16v6AugMixNew4_fold1_tta.pbz2': 0.8993511666132052, 'exp16v6AugmixB3_fold1.pbz2': 0.3489945501564662, 'exp16v6AugmixB4Step2_fold1.pbz2': 1.206365482465507, 'exp16v6AugmixB4Step2_fold1_remove_background.pbz2': 0.6336236191229829, 'exp16v6AugmixB4_fold1.pbz2': 2.127153225263917, 'exp21b6_fold1_remove_background.pbz2': 1.4190904845820056}. Best is trial 11 with value: 0.8685458989461874.\u001b[0m\n",
      "\u001b[32m[I 2022-04-17 07:36:18,376]\u001b[0m Trial 13 finished with value: 0.8637877148695756 and parameters: {'exp16v6AugMixNew4_fold1.pbz2': 2.593306971329824, 'exp16v6AugMixNew4_fold1_tta.pbz2': 1.267106783160631, 'exp16v6AugmixB3_fold1.pbz2': 0.06663524852834435, 'exp16v6AugmixB4Step2_fold1.pbz2': 1.202926412842861, 'exp16v6AugmixB4Step2_fold1_remove_background.pbz2': 1.8283730291100515, 'exp16v6AugmixB4_fold1.pbz2': 1.6073277959211723, 'exp21b6_fold1_remove_background.pbz2': 1.2167346916133228}. Best is trial 11 with value: 0.8685458989461874.\u001b[0m\n",
      "\u001b[32m[I 2022-04-17 07:36:19,535]\u001b[0m Trial 14 finished with value: 0.8675602035501061 and parameters: {'exp16v6AugMixNew4_fold1.pbz2': 3.5482407549787456, 'exp16v6AugMixNew4_fold1_tta.pbz2': 2.7879102830601337, 'exp16v6AugmixB3_fold1.pbz2': 1.493495857400637, 'exp16v6AugmixB4Step2_fold1.pbz2': 1.2560706278116323, 'exp16v6AugmixB4Step2_fold1_remove_background.pbz2': 0.7642487386936091, 'exp16v6AugmixB4_fold1.pbz2': 0.7188592026574065, 'exp21b6_fold1_remove_background.pbz2': 2.3450478633402043}. Best is trial 11 with value: 0.8685458989461874.\u001b[0m\n"
     ]
    },
    {
     "name": "stderr",
     "output_type": "stream",
     "text": [
      "\u001b[32m[I 2022-04-17 07:36:20,692]\u001b[0m Trial 15 finished with value: 0.8580839043154225 and parameters: {'exp16v6AugMixNew4_fold1.pbz2': 3.952977606394085, 'exp16v6AugMixNew4_fold1_tta.pbz2': 0.08473520832891546, 'exp16v6AugmixB3_fold1.pbz2': 0.10093545840104168, 'exp16v6AugmixB4Step2_fold1.pbz2': 2.4572707472842703, 'exp16v6AugmixB4Step2_fold1_remove_background.pbz2': 1.435549218599175, 'exp16v6AugmixB4_fold1.pbz2': 2.4962742286438315, 'exp21b6_fold1_remove_background.pbz2': 0.7804261348184993}. Best is trial 11 with value: 0.8685458989461874.\u001b[0m\n",
      "\u001b[32m[I 2022-04-17 07:36:21,844]\u001b[0m Trial 16 finished with value: 0.8655226990423528 and parameters: {'exp16v6AugMixNew4_fold1.pbz2': 2.627740689588543, 'exp16v6AugMixNew4_fold1_tta.pbz2': 2.518555687115726, 'exp16v6AugmixB3_fold1.pbz2': 1.6934812380398632, 'exp16v6AugmixB4Step2_fold1.pbz2': 0.9578219875997748, 'exp16v6AugmixB4Step2_fold1_remove_background.pbz2': 2.0042754911859513, 'exp16v6AugmixB4_fold1.pbz2': 1.6956597409106204, 'exp21b6_fold1_remove_background.pbz2': 1.821975115532643}. Best is trial 11 with value: 0.8685458989461874.\u001b[0m\n",
      "\u001b[32m[I 2022-04-17 07:36:22,999]\u001b[0m Trial 17 finished with value: 0.8680570581400008 and parameters: {'exp16v6AugMixNew4_fold1.pbz2': 3.3194346553346197, 'exp16v6AugMixNew4_fold1_tta.pbz2': 1.1600195001041862, 'exp16v6AugmixB3_fold1.pbz2': 1.1975887165650203, 'exp16v6AugmixB4Step2_fold1.pbz2': 1.6201041054973582, 'exp16v6AugmixB4Step2_fold1_remove_background.pbz2': 0.08890334141942846, 'exp16v6AugmixB4_fold1.pbz2': 0.6728309672623363, 'exp21b6_fold1_remove_background.pbz2': 0.8664505208236046}. Best is trial 11 with value: 0.8685458989461874.\u001b[0m\n",
      "\u001b[32m[I 2022-04-17 07:36:24,152]\u001b[0m Trial 18 finished with value: 0.8637276114917658 and parameters: {'exp16v6AugMixNew4_fold1.pbz2': 3.4210843858865196, 'exp16v6AugMixNew4_fold1_tta.pbz2': 3.378934173176897, 'exp16v6AugmixB3_fold1.pbz2': 0.6409350018457461, 'exp16v6AugmixB4Step2_fold1.pbz2': 2.5548281496723284, 'exp16v6AugmixB4Step2_fold1_remove_background.pbz2': 2.713456401940397, 'exp16v6AugmixB4_fold1.pbz2': 2.195906848844432, 'exp21b6_fold1_remove_background.pbz2': 2.6412984096834826}. Best is trial 11 with value: 0.8685458989461874.\u001b[0m\n",
      "\u001b[32m[I 2022-04-17 07:36:25,341]\u001b[0m Trial 19 finished with value: 0.8691108706975998 and parameters: {'exp16v6AugMixNew4_fold1.pbz2': 2.574083242529697, 'exp16v6AugMixNew4_fold1_tta.pbz2': 1.748598520603461, 'exp16v6AugmixB3_fold1.pbz2': 0.02604136170164533, 'exp16v6AugmixB4Step2_fold1.pbz2': 1.574139914403915, 'exp16v6AugmixB4Step2_fold1_remove_background.pbz2': 0.544946218053679, 'exp16v6AugmixB4_fold1.pbz2': 1.0106011558032186, 'exp21b6_fold1_remove_background.pbz2': 1.6004131555980279}. Best is trial 19 with value: 0.8691108706975998.\u001b[0m\n",
      "\u001b[32m[I 2022-04-17 07:36:26,524]\u001b[0m Trial 20 finished with value: 0.8478943783307289 and parameters: {'exp16v6AugMixNew4_fold1.pbz2': 0.2662957209211494, 'exp16v6AugMixNew4_fold1_tta.pbz2': 1.5266011678762867, 'exp16v6AugmixB3_fold1.pbz2': 2.379017450786174, 'exp16v6AugmixB4Step2_fold1.pbz2': 0.6708727474527514, 'exp16v6AugmixB4Step2_fold1_remove_background.pbz2': 0.3999514971449174, 'exp16v6AugmixB4_fold1.pbz2': 2.5522705782013846, 'exp21b6_fold1_remove_background.pbz2': 1.7327819151552806}. Best is trial 19 with value: 0.8691108706975998.\u001b[0m\n",
      "\u001b[32m[I 2022-04-17 07:36:27,683]\u001b[0m Trial 21 finished with value: 0.8657390712024682 and parameters: {'exp16v6AugMixNew4_fold1.pbz2': 2.315349198359584, 'exp16v6AugMixNew4_fold1_tta.pbz2': 0.8672434186132718, 'exp16v6AugmixB3_fold1.pbz2': 0.3212644310625187, 'exp16v6AugmixB4Step2_fold1.pbz2': 1.45593746381244, 'exp16v6AugmixB4Step2_fold1_remove_background.pbz2': 0.9353985611388944, 'exp16v6AugmixB4_fold1.pbz2': 0.8216836541254546, 'exp21b6_fold1_remove_background.pbz2': 1.0543301676398769}. Best is trial 19 with value: 0.8691108706975998.\u001b[0m\n",
      "\u001b[32m[I 2022-04-17 07:36:28,859]\u001b[0m Trial 22 finished with value: 0.8678547101013744 and parameters: {'exp16v6AugMixNew4_fold1.pbz2': 2.979328055458717, 'exp16v6AugMixNew4_fold1_tta.pbz2': 2.3706293807565086, 'exp16v6AugmixB3_fold1.pbz2': 0.03498999245356574, 'exp16v6AugmixB4Step2_fold1.pbz2': 2.194988821134186, 'exp16v6AugmixB4Step2_fold1_remove_background.pbz2': 0.5829916151974264, 'exp16v6AugmixB4_fold1.pbz2': 1.603215369667933, 'exp21b6_fold1_remove_background.pbz2': 1.66551860755983}. Best is trial 19 with value: 0.8691108706975998.\u001b[0m\n",
      "\u001b[32m[I 2022-04-17 07:36:30,008]\u001b[0m Trial 23 finished with value: 0.8682493889489922 and parameters: {'exp16v6AugMixNew4_fold1.pbz2': 3.5880491538203194, 'exp16v6AugMixNew4_fold1_tta.pbz2': 1.8877278548260854, 'exp16v6AugmixB3_fold1.pbz2': 0.9546546601541227, 'exp16v6AugmixB4Step2_fold1.pbz2': 1.4786888334833546, 'exp16v6AugmixB4Step2_fold1_remove_background.pbz2': 1.2162143961498155, 'exp16v6AugmixB4_fold1.pbz2': 0.4307211548039298, 'exp21b6_fold1_remove_background.pbz2': 0.5267699846414693}. Best is trial 19 with value: 0.8691108706975998.\u001b[0m\n",
      "\u001b[32m[I 2022-04-17 07:36:31,176]\u001b[0m Trial 24 finished with value: 0.8666406218696158 and parameters: {'exp16v6AugMixNew4_fold1.pbz2': 3.1757532287668595, 'exp16v6AugMixNew4_fold1_tta.pbz2': 1.4402131332389916, 'exp16v6AugmixB3_fold1.pbz2': 0.46991772484047006, 'exp16v6AugmixB4Step2_fold1.pbz2': 3.0072168136235575, 'exp16v6AugmixB4Step2_fold1_remove_background.pbz2': 0.014356347623300403, 'exp16v6AugmixB4_fold1.pbz2': 1.1555644988332436, 'exp21b6_fold1_remove_background.pbz2': 1.0690014701113077}. Best is trial 19 with value: 0.8691108706975998.\u001b[0m\n",
      "\u001b[32m[I 2022-04-17 07:36:32,333]\u001b[0m Trial 25 finished with value: 0.8615238209720719 and parameters: {'exp16v6AugMixNew4_fold1.pbz2': 2.7743567251961108, 'exp16v6AugMixNew4_fold1_tta.pbz2': 0.8370308731644944, 'exp16v6AugmixB3_fold1.pbz2': 0.9231165438662307, 'exp16v6AugmixB4Step2_fold1.pbz2': 1.0362843408997386, 'exp16v6AugmixB4Step2_fold1_remove_background.pbz2': 1.641088774457145, 'exp16v6AugmixB4_fold1.pbz2': 1.9552561655011813, 'exp21b6_fold1_remove_background.pbz2': 1.4432890890304608}. Best is trial 19 with value: 0.8691108706975998.\u001b[0m\n",
      "\u001b[32m[I 2022-04-17 07:36:33,492]\u001b[0m Trial 26 finished with value: 0.8689285571182433 and parameters: {'exp16v6AugMixNew4_fold1.pbz2': 3.985040214403521, 'exp16v6AugMixNew4_fold1_tta.pbz2': 1.946816612182313, 'exp16v6AugmixB3_fold1.pbz2': 0.33656241848550195, 'exp16v6AugmixB4Step2_fold1.pbz2': 1.9752165714357908, 'exp16v6AugmixB4Step2_fold1_remove_background.pbz2': 0.9539260668260653, 'exp16v6AugmixB4_fold1.pbz2': 0.4263196930222769, 'exp21b6_fold1_remove_background.pbz2': 2.0193563146031996}. Best is trial 19 with value: 0.8691108706975998.\u001b[0m\n",
      "\u001b[32m[I 2022-04-17 07:36:34,647]\u001b[0m Trial 27 finished with value: 0.8620266858997475 and parameters: {'exp16v6AugMixNew4_fold1.pbz2': 0.7847566216312474, 'exp16v6AugMixNew4_fold1_tta.pbz2': 2.516094980428626, 'exp16v6AugmixB3_fold1.pbz2': 0.31553732211893015, 'exp16v6AugmixB4Step2_fold1.pbz2': 2.21709699077811, 'exp16v6AugmixB4Step2_fold1_remove_background.pbz2': 0.419027918665542, 'exp16v6AugmixB4_fold1.pbz2': 0.5052570679122339, 'exp21b6_fold1_remove_background.pbz2': 2.510449565027889}. Best is trial 19 with value: 0.8691108706975998.\u001b[0m\n",
      "\u001b[32m[I 2022-04-17 07:36:35,833]\u001b[0m Trial 28 finished with value: 0.8578054253315703 and parameters: {'exp16v6AugMixNew4_fold1.pbz2': 2.4115578473653194, 'exp16v6AugMixNew4_fold1_tta.pbz2': 1.5824933389525522, 'exp16v6AugmixB3_fold1.pbz2': 0.027844148860687534, 'exp16v6AugmixB4Step2_fold1.pbz2': 3.967114935702148, 'exp16v6AugmixB4Step2_fold1_remove_background.pbz2': 0.9393636017321435, 'exp16v6AugmixB4_fold1.pbz2': 0.43981074108206375, 'exp21b6_fold1_remove_background.pbz2': 2.03947545774325}. Best is trial 19 with value: 0.8691108706975998.\u001b[0m\n",
      "\u001b[32m[I 2022-04-17 07:36:36,992]\u001b[0m Trial 29 finished with value: 0.8677765757102215 and parameters: {'exp16v6AugMixNew4_fold1.pbz2': 3.9973358018818805, 'exp16v6AugMixNew4_fold1_tta.pbz2': 2.2016077773423084, 'exp16v6AugmixB3_fold1.pbz2': 1.3741957558059301, 'exp16v6AugmixB4Step2_fold1.pbz2': 2.056371216906668, 'exp16v6AugmixB4Step2_fold1_remove_background.pbz2': 0.23633274293652207, 'exp16v6AugmixB4_fold1.pbz2': 1.3001587163287736, 'exp21b6_fold1_remove_background.pbz2': 2.8769931657929915}. Best is trial 19 with value: 0.8691108706975998.\u001b[0m\n"
     ]
    },
    {
     "name": "stderr",
     "output_type": "stream",
     "text": [
      "\u001b[32m[I 2022-04-17 07:36:38,149]\u001b[0m Trial 30 finished with value: 0.8580217974916857 and parameters: {'exp16v6AugMixNew4_fold1.pbz2': 1.9140546419960576, 'exp16v6AugMixNew4_fold1_tta.pbz2': 1.0562592617247863, 'exp16v6AugmixB3_fold1.pbz2': 0.4070301064146832, 'exp16v6AugmixB4Step2_fold1.pbz2': 2.754764768789325, 'exp16v6AugmixB4Step2_fold1_remove_background.pbz2': 0.7295853969617598, 'exp16v6AugmixB4_fold1.pbz2': 0.2881687126925885, 'exp21b6_fold1_remove_background.pbz2': 2.063278583831114}. Best is trial 19 with value: 0.8691108706975998.\u001b[0m\n",
      "\u001b[32m[I 2022-04-17 07:36:39,308]\u001b[0m Trial 31 finished with value: 0.8688764675241415 and parameters: {'exp16v6AugMixNew4_fold1.pbz2': 3.6507142848271563, 'exp16v6AugMixNew4_fold1_tta.pbz2': 1.8502122504008873, 'exp16v6AugmixB3_fold1.pbz2': 0.7722689603308774, 'exp16v6AugmixB4Step2_fold1.pbz2': 1.7710188557401898, 'exp16v6AugmixB4Step2_fold1_remove_background.pbz2': 1.0624912446428543, 'exp16v6AugmixB4_fold1.pbz2': 1.075713590990104, 'exp21b6_fold1_remove_background.pbz2': 1.7350359806257636}. Best is trial 19 with value: 0.8691108706975998.\u001b[0m\n",
      "\u001b[32m[I 2022-04-17 07:36:40,468]\u001b[0m Trial 32 finished with value: 0.8694674840726048 and parameters: {'exp16v6AugMixNew4_fold1.pbz2': 3.3489845472308195, 'exp16v6AugMixNew4_fold1_tta.pbz2': 2.142062213121263, 'exp16v6AugmixB3_fold1.pbz2': 0.23952699341275818, 'exp16v6AugmixB4Step2_fold1.pbz2': 1.504875652406655, 'exp16v6AugmixB4Step2_fold1_remove_background.pbz2': 0.9204751235759283, 'exp16v6AugmixB4_fold1.pbz2': 1.0334141621997444, 'exp21b6_fold1_remove_background.pbz2': 1.6455530986441356}. Best is trial 32 with value: 0.8694674840726048.\u001b[0m\n",
      "\u001b[32m[I 2022-04-17 07:36:41,626]\u001b[0m Trial 33 finished with value: 0.8681412028689346 and parameters: {'exp16v6AugMixNew4_fold1.pbz2': 3.2777145188087515, 'exp16v6AugMixNew4_fold1_tta.pbz2': 2.1969446987171364, 'exp16v6AugmixB3_fold1.pbz2': 0.5781013871062137, 'exp16v6AugmixB4Step2_fold1.pbz2': 1.9781748369843943, 'exp16v6AugmixB4Step2_fold1_remove_background.pbz2': 1.075975416361232, 'exp16v6AugmixB4_fold1.pbz2': 1.0422649555042458, 'exp21b6_fold1_remove_background.pbz2': 1.7757079339798891}. Best is trial 32 with value: 0.8694674840726048.\u001b[0m\n",
      "\u001b[32m[I 2022-04-17 07:36:42,786]\u001b[0m Trial 34 finished with value: 0.8672656969988379 and parameters: {'exp16v6AugMixNew4_fold1.pbz2': 3.4536388763036268, 'exp16v6AugMixNew4_fold1_tta.pbz2': 1.967103952633496, 'exp16v6AugmixB3_fold1.pbz2': 1.141269042177575, 'exp16v6AugmixB4Step2_fold1.pbz2': 1.4909312945633184, 'exp16v6AugmixB4Step2_fold1_remove_background.pbz2': 1.5536412243412012, 'exp16v6AugmixB4_fold1.pbz2': 1.3900064259223517, 'exp21b6_fold1_remove_background.pbz2': 2.2624808151866374}. Best is trial 32 with value: 0.8694674840726048.\u001b[0m\n",
      "\u001b[32m[I 2022-04-17 07:36:44,098]\u001b[0m Trial 35 finished with value: 0.8682654165164083 and parameters: {'exp16v6AugMixNew4_fold1.pbz2': 3.6820615714144562, 'exp16v6AugMixNew4_fold1_tta.pbz2': 2.495027000234932, 'exp16v6AugmixB3_fold1.pbz2': 0.2831748965516671, 'exp16v6AugmixB4Step2_fold1.pbz2': 2.191046287452734, 'exp16v6AugmixB4Step2_fold1_remove_background.pbz2': 1.8654434202559653, 'exp16v6AugmixB4_fold1.pbz2': 0.9011335567074571, 'exp21b6_fold1_remove_background.pbz2': 1.5508804713655433}. Best is trial 32 with value: 0.8694674840726048.\u001b[0m\n",
      "\u001b[32m[I 2022-04-17 07:36:45,261]\u001b[0m Trial 36 finished with value: 0.8664502945065513 and parameters: {'exp16v6AugMixNew4_fold1.pbz2': 1.5247330442010396, 'exp16v6AugMixNew4_fold1_tta.pbz2': 1.7103904058878654, 'exp16v6AugmixB3_fold1.pbz2': 0.8064887909825746, 'exp16v6AugmixB4Step2_fold1.pbz2': 0.7003551339441216, 'exp16v6AugmixB4Step2_fold1_remove_background.pbz2': 0.49294018527634686, 'exp16v6AugmixB4_fold1.pbz2': 0.19548128582288793, 'exp21b6_fold1_remove_background.pbz2': 1.9560161050269824}. Best is trial 32 with value: 0.8694674840726048.\u001b[0m\n",
      "\u001b[32m[I 2022-04-17 07:36:46,447]\u001b[0m Trial 37 finished with value: 0.8657510918780302 and parameters: {'exp16v6AugMixNew4_fold1.pbz2': 3.1433034671035713, 'exp16v6AugMixNew4_fold1_tta.pbz2': 2.2904513663502946, 'exp16v6AugmixB3_fold1.pbz2': 0.6327337694673558, 'exp16v6AugmixB4Step2_fold1.pbz2': 1.7067472273136899, 'exp16v6AugmixB4Step2_fold1_remove_background.pbz2': 1.3106964665242997, 'exp16v6AugmixB4_fold1.pbz2': 0.7462782363842515, 'exp21b6_fold1_remove_background.pbz2': 3.8346997253003487}. Best is trial 32 with value: 0.8694674840726048.\u001b[0m\n",
      "\u001b[32m[I 2022-04-17 07:36:47,607]\u001b[0m Trial 38 finished with value: 0.8678246584124695 and parameters: {'exp16v6AugMixNew4_fold1.pbz2': 3.7388121737015503, 'exp16v6AugMixNew4_fold1_tta.pbz2': 3.2721560868672523, 'exp16v6AugmixB3_fold1.pbz2': 1.0978754424028263, 'exp16v6AugmixB4Step2_fold1.pbz2': 1.8745817434731762, 'exp16v6AugmixB4Step2_fold1_remove_background.pbz2': 0.21471623602984674, 'exp16v6AugmixB4_fold1.pbz2': 1.8208400661393997, 'exp21b6_fold1_remove_background.pbz2': 2.550033829043427}. Best is trial 32 with value: 0.8694674840726048.\u001b[0m\n",
      "\u001b[32m[I 2022-04-17 07:36:48,775]\u001b[0m Trial 39 finished with value: 0.8671655247024883 and parameters: {'exp16v6AugMixNew4_fold1.pbz2': 2.7452603519705896, 'exp16v6AugMixNew4_fold1_tta.pbz2': 2.7050211729208984, 'exp16v6AugmixB3_fold1.pbz2': 1.8397431262334254, 'exp16v6AugmixB4Step2_fold1.pbz2': 0.4457293436608709, 'exp16v6AugmixB4Step2_fold1_remove_background.pbz2': 1.0123227679210778, 'exp16v6AugmixB4_fold1.pbz2': 0.5473307854487903, 'exp21b6_fold1_remove_background.pbz2': 1.357590158007164}. Best is trial 32 with value: 0.8694674840726048.\u001b[0m\n",
      "\u001b[32m[I 2022-04-17 07:36:49,957]\u001b[0m Trial 40 finished with value: 0.8563429098048644 and parameters: {'exp16v6AugMixNew4_fold1.pbz2': 2.1727167995585197, 'exp16v6AugMixNew4_fold1_tta.pbz2': 1.8574574492035854, 'exp16v6AugmixB3_fold1.pbz2': 2.169494626310488, 'exp16v6AugmixB4Step2_fold1.pbz2': 2.384580428375396, 'exp16v6AugmixB4Step2_fold1_remove_background.pbz2': 2.098308407847003, 'exp16v6AugmixB4_fold1.pbz2': 1.4366949143669632, 'exp21b6_fold1_remove_background.pbz2': 0.5013624095677021}. Best is trial 32 with value: 0.8694674840726048.\u001b[0m\n",
      "\u001b[32m[I 2022-04-17 07:36:51,116]\u001b[0m Trial 41 finished with value: 0.8702428176463517 and parameters: {'exp16v6AugMixNew4_fold1.pbz2': 3.8098885991401037, 'exp16v6AugMixNew4_fold1_tta.pbz2': 1.3627322573297425, 'exp16v6AugmixB3_fold1.pbz2': 0.15475728264598043, 'exp16v6AugmixB4Step2_fold1.pbz2': 1.3449503460751455, 'exp16v6AugmixB4Step2_fold1_remove_background.pbz2': 0.7437465676282133, 'exp16v6AugmixB4_fold1.pbz2': 1.1095169021556412, 'exp21b6_fold1_remove_background.pbz2': 1.1877384659962957}. Best is trial 41 with value: 0.8702428176463517.\u001b[0m\n",
      "\u001b[32m[I 2022-04-17 07:36:52,275]\u001b[0m Trial 42 finished with value: 0.8692671394799054 and parameters: {'exp16v6AugMixNew4_fold1.pbz2': 3.5022919262767696, 'exp16v6AugMixNew4_fold1_tta.pbz2': 2.0570119023847657, 'exp16v6AugmixB3_fold1.pbz2': 0.5479020681603066, 'exp16v6AugmixB4Step2_fold1.pbz2': 1.3910310902943022, 'exp16v6AugmixB4Step2_fold1_remove_background.pbz2': 0.8520815166606959, 'exp16v6AugmixB4_fold1.pbz2': 1.0694013796077932, 'exp21b6_fold1_remove_background.pbz2': 1.6236899892779362}. Best is trial 41 with value: 0.8702428176463517.\u001b[0m\n",
      "\u001b[32m[I 2022-04-17 07:36:53,461]\u001b[0m Trial 43 finished with value: 0.8689766398204913 and parameters: {'exp16v6AugMixNew4_fold1.pbz2': 3.4028229427690397, 'exp16v6AugMixNew4_fold1_tta.pbz2': 2.1028225857734095, 'exp16v6AugmixB3_fold1.pbz2': 0.17748913799650903, 'exp16v6AugmixB4Step2_fold1.pbz2': 0.8602711650508791, 'exp16v6AugmixB4Step2_fold1_remove_background.pbz2': 0.832915081957377, 'exp16v6AugmixB4_fold1.pbz2': 0.9805170805121044, 'exp21b6_fold1_remove_background.pbz2': 1.2962007524291561}. Best is trial 41 with value: 0.8702428176463517.\u001b[0m\n",
      "\u001b[32m[I 2022-04-17 07:36:54,619]\u001b[0m Trial 44 finished with value: 0.8697379492727491 and parameters: {'exp16v6AugMixNew4_fold1.pbz2': 2.9104591405419526, 'exp16v6AugMixNew4_fold1_tta.pbz2': 1.427688674104193, 'exp16v6AugmixB3_fold1.pbz2': 0.22304594935178929, 'exp16v6AugmixB4Step2_fold1.pbz2': 0.9217460106515543, 'exp16v6AugmixB4Step2_fold1_remove_background.pbz2': 0.7403317687348683, 'exp16v6AugmixB4_fold1.pbz2': 0.9572473770577817, 'exp21b6_fold1_remove_background.pbz2': 1.2619913520476704}. Best is trial 41 with value: 0.8702428176463517.\u001b[0m\n"
     ]
    },
    {
     "name": "stderr",
     "output_type": "stream",
     "text": [
      "\u001b[32m[I 2022-04-17 07:36:55,782]\u001b[0m Trial 45 finished with value: 0.8623312096806507 and parameters: {'exp16v6AugMixNew4_fold1.pbz2': 2.954059582117748, 'exp16v6AugMixNew4_fold1_tta.pbz2': 1.3877480609981048, 'exp16v6AugmixB3_fold1.pbz2': 0.518056636894625, 'exp16v6AugmixB4Step2_fold1.pbz2': 0.038434367997768115, 'exp16v6AugmixB4Step2_fold1_remove_background.pbz2': 3.9027445202325084, 'exp16v6AugmixB4_fold1.pbz2': 1.497861066704624, 'exp21b6_fold1_remove_background.pbz2': 1.572370960435502}. Best is trial 41 with value: 0.8702428176463517.\u001b[0m\n",
      "\u001b[32m[I 2022-04-17 07:36:56,982]\u001b[0m Trial 46 finished with value: 0.8606262771967785 and parameters: {'exp16v6AugMixNew4_fold1.pbz2': 2.5438478951433154, 'exp16v6AugMixNew4_fold1_tta.pbz2': 1.6448229727944692, 'exp16v6AugmixB3_fold1.pbz2': 3.2169245427687754, 'exp16v6AugmixB4Step2_fold1.pbz2': 1.318569437173458, 'exp16v6AugmixB4Step2_fold1_remove_background.pbz2': 0.2691881982190293, 'exp16v6AugmixB4_fold1.pbz2': 1.2101569467355102, 'exp21b6_fold1_remove_background.pbz2': 0.6091946245195591}. Best is trial 41 with value: 0.8702428176463517.\u001b[0m\n",
      "\u001b[32m[I 2022-04-17 07:36:58,146]\u001b[0m Trial 47 finished with value: 0.8693572945466203 and parameters: {'exp16v6AugMixNew4_fold1.pbz2': 3.1169276855782377, 'exp16v6AugMixNew4_fold1_tta.pbz2': 0.6350889513344791, 'exp16v6AugmixB3_fold1.pbz2': 0.2122884054972969, 'exp16v6AugmixB4Step2_fold1.pbz2': 0.3675876635530708, 'exp16v6AugmixB4Step2_fold1_remove_background.pbz2': 0.6461645375512164, 'exp16v6AugmixB4_fold1.pbz2': 1.193776042139118, 'exp21b6_fold1_remove_background.pbz2': 0.9067800108307285}. Best is trial 41 with value: 0.8702428176463517.\u001b[0m\n",
      "\u001b[32m[I 2022-04-17 07:36:59,301]\u001b[0m Trial 48 finished with value: 0.8672035901751012 and parameters: {'exp16v6AugMixNew4_fold1.pbz2': 3.246008903221015, 'exp16v6AugMixNew4_fold1_tta.pbz2': 0.36619850310175506, 'exp16v6AugmixB3_fold1.pbz2': 0.17888639052208255, 'exp16v6AugmixB4Step2_fold1.pbz2': 0.28780613502523456, 'exp16v6AugmixB4Step2_fold1_remove_background.pbz2': 1.290745387076143, 'exp16v6AugmixB4_fold1.pbz2': 1.7649669216603343, 'exp21b6_fold1_remove_background.pbz2': 0.3432595709415194}. Best is trial 41 with value: 0.8702428176463517.\u001b[0m\n",
      "\u001b[32m[I 2022-04-17 07:37:00,461]\u001b[0m Trial 49 finished with value: 0.8596365749088433 and parameters: {'exp16v6AugMixNew4_fold1.pbz2': 3.808130952958897, 'exp16v6AugMixNew4_fold1_tta.pbz2': 1.1534217398237774, 'exp16v6AugmixB3_fold1.pbz2': 3.9361309100713706, 'exp16v6AugmixB4Step2_fold1.pbz2': 0.44643786874680147, 'exp16v6AugmixB4Step2_fold1_remove_background.pbz2': 0.7782018076586242, 'exp16v6AugmixB4_fold1.pbz2': 1.2868567118204992, 'exp21b6_fold1_remove_background.pbz2': 0.858278994534011}. Best is trial 41 with value: 0.8702428176463517.\u001b[0m\n",
      "\u001b[32m[I 2022-04-17 07:37:01,619]\u001b[0m Trial 50 finished with value: 0.8554714108266217 and parameters: {'exp16v6AugMixNew4_fold1.pbz2': 3.0060588896929614, 'exp16v6AugMixNew4_fold1_tta.pbz2': 0.6621152685222884, 'exp16v6AugmixB3_fold1.pbz2': 2.8003997120295274, 'exp16v6AugmixB4Step2_fold1.pbz2': 0.8148456239254656, 'exp16v6AugmixB4Step2_fold1_remove_background.pbz2': 3.4407098937578233, 'exp16v6AugmixB4_fold1.pbz2': 0.872392091491233, 'exp21b6_fold1_remove_background.pbz2': 1.1945571200404657}. Best is trial 41 with value: 0.8702428176463517.\u001b[0m\n",
      "\u001b[32m[I 2022-04-17 07:37:02,779]\u001b[0m Trial 51 finished with value: 0.8638938975037065 and parameters: {'exp16v6AugMixNew4_fold1.pbz2': 2.834414205316583, 'exp16v6AugMixNew4_fold1_tta.pbz2': 0.015346516094484342, 'exp16v6AugmixB3_fold1.pbz2': 0.24576864095049472, 'exp16v6AugmixB4Step2_fold1.pbz2': 1.3423704674657095, 'exp16v6AugmixB4Step2_fold1_remove_background.pbz2': 0.5035667347379781, 'exp16v6AugmixB4_fold1.pbz2': 1.0994528193036006, 'exp21b6_fold1_remove_background.pbz2': 1.5189821499786254}. Best is trial 41 with value: 0.8702428176463517.\u001b[0m\n",
      "\u001b[32m[I 2022-04-17 07:37:03,936]\u001b[0m Trial 52 finished with value: 0.8695155667748526 and parameters: {'exp16v6AugMixNew4_fold1.pbz2': 3.50292307244607, 'exp16v6AugMixNew4_fold1_tta.pbz2': 0.6522957075857927, 'exp16v6AugmixB3_fold1.pbz2': 0.48270111396503124, 'exp16v6AugmixB4Step2_fold1.pbz2': 1.0729035842315477, 'exp16v6AugmixB4Step2_fold1_remove_background.pbz2': 0.6321942202482471, 'exp16v6AugmixB4_fold1.pbz2': 0.6544014912198781, 'exp21b6_fold1_remove_background.pbz2': 1.0079520085222469}. Best is trial 41 with value: 0.8702428176463517.\u001b[0m\n",
      "\u001b[32m[I 2022-04-17 07:37:05,096]\u001b[0m Trial 53 finished with value: 0.8694754978563128 and parameters: {'exp16v6AugMixNew4_fold1.pbz2': 3.532817673083388, 'exp16v6AugMixNew4_fold1_tta.pbz2': 0.616553133960102, 'exp16v6AugmixB3_fold1.pbz2': 0.5004870356516102, 'exp16v6AugmixB4Step2_fold1.pbz2': 1.056729112539757, 'exp16v6AugmixB4Step2_fold1_remove_background.pbz2': 0.6259639198531026, 'exp16v6AugmixB4_fold1.pbz2': 0.6406845363660032, 'exp21b6_fold1_remove_background.pbz2': 0.9097867402930017}. Best is trial 41 with value: 0.8702428176463517.\u001b[0m\n",
      "\u001b[32m[I 2022-04-17 07:37:06,256]\u001b[0m Trial 54 finished with value: 0.8684377128661298 and parameters: {'exp16v6AugMixNew4_fold1.pbz2': 3.152782950570254, 'exp16v6AugMixNew4_fold1_tta.pbz2': 0.5847332202917623, 'exp16v6AugmixB3_fold1.pbz2': 0.786401364439561, 'exp16v6AugmixB4Step2_fold1.pbz2': 1.0846371248994577, 'exp16v6AugmixB4Step2_fold1_remove_background.pbz2': 0.5892093738626322, 'exp16v6AugmixB4_fold1.pbz2': 0.6175956150864952, 'exp21b6_fold1_remove_background.pbz2': 0.9304674601311876}. Best is trial 41 with value: 0.8702428176463517.\u001b[0m\n",
      "\u001b[32m[I 2022-04-17 07:37:07,445]\u001b[0m Trial 55 finished with value: 0.8667828665304323 and parameters: {'exp16v6AugMixNew4_fold1.pbz2': 3.3330200238304846, 'exp16v6AugMixNew4_fold1_tta.pbz2': 0.21938236833058045, 'exp16v6AugmixB3_fold1.pbz2': 0.4638630127850555, 'exp16v6AugmixB4Step2_fold1.pbz2': 0.6270222962275958, 'exp16v6AugmixB4Step2_fold1_remove_background.pbz2': 0.3415539218010023, 'exp16v6AugmixB4_fold1.pbz2': 0.20908810419959745, 'exp21b6_fold1_remove_background.pbz2': 0.7239567752662717}. Best is trial 41 with value: 0.8702428176463517.\u001b[0m\n",
      "\u001b[32m[I 2022-04-17 07:37:08,604]\u001b[0m Trial 56 finished with value: 0.8682854509756781 and parameters: {'exp16v6AugMixNew4_fold1.pbz2': 3.8362582293073033, 'exp16v6AugMixNew4_fold1_tta.pbz2': 0.7218368955350609, 'exp16v6AugmixB3_fold1.pbz2': 0.9532908207017878, 'exp16v6AugmixB4Step2_fold1.pbz2': 0.9140990728912153, 'exp16v6AugmixB4Step2_fold1_remove_background.pbz2': 0.6854859791817701, 'exp16v6AugmixB4_fold1.pbz2': 0.7655941735587829, 'exp21b6_fold1_remove_background.pbz2': 1.0795925335065175}. Best is trial 41 with value: 0.8702428176463517.\u001b[0m\n",
      "\u001b[32m[I 2022-04-17 07:37:09,903]\u001b[0m Trial 57 finished with value: 0.8677304964539008 and parameters: {'exp16v6AugMixNew4_fold1.pbz2': 3.564609515475174, 'exp16v6AugMixNew4_fold1_tta.pbz2': 0.38736319028748023, 'exp16v6AugmixB3_fold1.pbz2': 0.1913694333136115, 'exp16v6AugmixB4Step2_fold1.pbz2': 0.16512216225254364, 'exp16v6AugmixB4Step2_fold1_remove_background.pbz2': 1.1849123664058367, 'exp16v6AugmixB4_fold1.pbz2': 0.05092397616576716, 'exp21b6_fold1_remove_background.pbz2': 1.2607082861481012}. Best is trial 41 with value: 0.8702428176463517.\u001b[0m\n",
      "\u001b[32m[I 2022-04-17 07:37:11,061]\u001b[0m Trial 58 finished with value: 0.859712705854069 and parameters: {'exp16v6AugMixNew4_fold1.pbz2': 3.0897993994046398, 'exp16v6AugMixNew4_fold1_tta.pbz2': 1.0229792099378607, 'exp16v6AugmixB3_fold1.pbz2': 0.7084572218676086, 'exp16v6AugmixB4Step2_fold1.pbz2': 1.1902912199752056, 'exp16v6AugmixB4Step2_fold1_remove_background.pbz2': 0.12019201409316738, 'exp16v6AugmixB4_fold1.pbz2': 3.89412988875934, 'exp21b6_fold1_remove_background.pbz2': 0.957591644568754}. Best is trial 41 with value: 0.8702428176463517.\u001b[0m\n",
      "\u001b[32m[I 2022-04-17 07:37:12,221]\u001b[0m Trial 59 finished with value: 0.8667407941659655 and parameters: {'exp16v6AugMixNew4_fold1.pbz2': 3.3871002252995193, 'exp16v6AugMixNew4_fold1_tta.pbz2': 0.49430966973923196, 'exp16v6AugmixB3_fold1.pbz2': 0.40876405554880485, 'exp16v6AugmixB4Step2_fold1.pbz2': 0.5636770482926352, 'exp16v6AugmixB4Step2_fold1_remove_background.pbz2': 2.5600967973971107, 'exp16v6AugmixB4_fold1.pbz2': 0.30221626300311144, 'exp21b6_fold1_remove_background.pbz2': 0.036924255410888174}. Best is trial 41 with value: 0.8702428176463517.\u001b[0m\n"
     ]
    },
    {
     "name": "stderr",
     "output_type": "stream",
     "text": [
      "\u001b[32m[I 2022-04-17 07:37:13,381]\u001b[0m Trial 60 finished with value: 0.8610229594903234 and parameters: {'exp16v6AugMixNew4_fold1.pbz2': 3.697237715797732, 'exp16v6AugMixNew4_fold1_tta.pbz2': 0.23763813241367326, 'exp16v6AugmixB3_fold1.pbz2': 1.5718675015301247, 'exp16v6AugmixB4Step2_fold1.pbz2': 0.3377908424680553, 'exp16v6AugmixB4Step2_fold1_remove_background.pbz2': 0.6568228332113574, 'exp16v6AugmixB4_fold1.pbz2': 3.059571984583323, 'exp21b6_fold1_remove_background.pbz2': 0.37813078507958164}. Best is trial 41 with value: 0.8702428176463517.\u001b[0m\n",
      "\u001b[32m[I 2022-04-17 07:37:14,544]\u001b[0m Trial 61 finished with value: 0.869068798333133 and parameters: {'exp16v6AugMixNew4_fold1.pbz2': 3.4831847944018204, 'exp16v6AugMixNew4_fold1_tta.pbz2': 0.9705797466506391, 'exp16v6AugmixB3_fold1.pbz2': 0.5270200723339247, 'exp16v6AugmixB4Step2_fold1.pbz2': 1.035163885659886, 'exp16v6AugmixB4Step2_fold1_remove_background.pbz2': 0.8688027305603725, 'exp16v6AugmixB4_fold1.pbz2': 0.9015504878397039, 'exp21b6_fold1_remove_background.pbz2': 0.7793940690721372}. Best is trial 41 with value: 0.8702428176463517.\u001b[0m\n",
      "\u001b[32m[I 2022-04-17 07:37:15,711]\u001b[0m Trial 62 finished with value: 0.8686039988780702 and parameters: {'exp16v6AugMixNew4_fold1.pbz2': 3.5757562646561105, 'exp16v6AugMixNew4_fold1_tta.pbz2': 0.797021624885259, 'exp16v6AugmixB3_fold1.pbz2': 0.16036717022647717, 'exp16v6AugmixB4Step2_fold1.pbz2': 1.3516373127824837, 'exp16v6AugmixB4Step2_fold1_remove_background.pbz2': 1.3839809092742623, 'exp16v6AugmixB4_fold1.pbz2': 0.6129895537789419, 'exp21b6_fold1_remove_background.pbz2': 1.157252243327097}. Best is trial 41 with value: 0.8702428176463517.\u001b[0m\n",
      "\u001b[32m[I 2022-04-17 07:37:16,885]\u001b[0m Trial 63 finished with value: 0.8695576391393198 and parameters: {'exp16v6AugMixNew4_fold1.pbz2': 3.2455365417740323, 'exp16v6AugMixNew4_fold1_tta.pbz2': 1.3717362837321647, 'exp16v6AugmixB3_fold1.pbz2': 0.014005696831819847, 'exp16v6AugmixB4Step2_fold1.pbz2': 0.7865754578555975, 'exp16v6AugmixB4Step2_fold1_remove_background.pbz2': 0.4692713045912904, 'exp16v6AugmixB4_fold1.pbz2': 1.1727403198531676, 'exp21b6_fold1_remove_background.pbz2': 1.3964741740568574}. Best is trial 41 with value: 0.8702428176463517.\u001b[0m\n",
      "\u001b[32m[I 2022-04-17 07:37:18,075]\u001b[0m Trial 64 finished with value: 0.8692471050206356 and parameters: {'exp16v6AugMixNew4_fold1.pbz2': 3.3088050162528186, 'exp16v6AugMixNew4_fold1_tta.pbz2': 1.348548006793413, 'exp16v6AugmixB3_fold1.pbz2': 0.044130746179045874, 'exp16v6AugmixB4Step2_fold1.pbz2': 0.7855196034264021, 'exp16v6AugmixB4Step2_fold1_remove_background.pbz2': 0.46937682514502477, 'exp16v6AugmixB4_fold1.pbz2': 1.2227907098390534, 'exp21b6_fold1_remove_background.pbz2': 1.413957345623975}. Best is trial 41 with value: 0.8702428176463517.\u001b[0m\n",
      "\u001b[32m[I 2022-04-17 07:37:19,236]\u001b[0m Trial 65 finished with value: 0.8680891132748328 and parameters: {'exp16v6AugMixNew4_fold1.pbz2': 2.9056699461459203, 'exp16v6AugMixNew4_fold1_tta.pbz2': 1.1950729229543768, 'exp16v6AugmixB3_fold1.pbz2': 0.2996326814662208, 'exp16v6AugmixB4Step2_fold1.pbz2': 0.5669824302114003, 'exp16v6AugmixB4Step2_fold1_remove_background.pbz2': 0.34869037861197116, 'exp16v6AugmixB4_fold1.pbz2': 1.5300905333580042, 'exp21b6_fold1_remove_background.pbz2': 1.8871626200711566}. Best is trial 41 with value: 0.8702428176463517.\u001b[0m\n",
      "\u001b[32m[I 2022-04-17 07:37:20,400]\u001b[0m Trial 66 finished with value: 0.8658712986336498 and parameters: {'exp16v6AugMixNew4_fold1.pbz2': 3.841288959915356, 'exp16v6AugMixNew4_fold1_tta.pbz2': 1.5426446646519685, 'exp16v6AugmixB3_fold1.pbz2': 0.012060439528808503, 'exp16v6AugmixB4Step2_fold1.pbz2': 0.9936182816185927, 'exp16v6AugmixB4Step2_fold1_remove_background.pbz2': 0.028979654334245986, 'exp16v6AugmixB4_fold1.pbz2': 1.3722349276745707, 'exp21b6_fold1_remove_background.pbz2': 0.6398867756831861}. Best is trial 41 with value: 0.8702428176463517.\u001b[0m\n",
      "\u001b[32m[I 2022-04-17 07:37:21,560]\u001b[0m Trial 67 finished with value: 0.8662178947790199 and parameters: {'exp16v6AugMixNew4_fold1.pbz2': 2.696601833286204, 'exp16v6AugMixNew4_fold1_tta.pbz2': 0.5233359520185135, 'exp16v6AugmixB3_fold1.pbz2': 0.4088124376231892, 'exp16v6AugmixB4Step2_fold1.pbz2': 1.6242713445403505, 'exp16v6AugmixB4Step2_fold1_remove_background.pbz2': 0.6293960443042561, 'exp16v6AugmixB4_fold1.pbz2': 0.7770624055569049, 'exp21b6_fold1_remove_background.pbz2': 1.1143815665664054}. Best is trial 41 with value: 0.8702428176463517.\u001b[0m\n",
      "\u001b[32m[I 2022-04-17 07:37:22,720]\u001b[0m Trial 68 finished with value: 0.8656549264735345 and parameters: {'exp16v6AugMixNew4_fold1.pbz2': 3.1824359382129668, 'exp16v6AugMixNew4_fold1_tta.pbz2': 3.8769576769636993, 'exp16v6AugmixB3_fold1.pbz2': 0.1924016658451742, 'exp16v6AugmixB4Step2_fold1.pbz2': 0.9351095157584921, 'exp16v6AugmixB4Step2_fold1_remove_background.pbz2': 1.1491020390494424, 'exp16v6AugmixB4_fold1.pbz2': 0.6701210308757584, 'exp21b6_fold1_remove_background.pbz2': 0.9904618923175176}. Best is trial 41 with value: 0.8702428176463517.\u001b[0m\n",
      "\u001b[32m[I 2022-04-17 07:37:23,877]\u001b[0m Trial 69 finished with value: 0.8684337059742757 and parameters: {'exp16v6AugMixNew4_fold1.pbz2': 2.9936713882129165, 'exp16v6AugMixNew4_fold1_tta.pbz2': 0.9256719795093321, 'exp16v6AugmixB3_fold1.pbz2': 0.8650496481386009, 'exp16v6AugmixB4Step2_fold1.pbz2': 1.1658519783342502, 'exp16v6AugmixB4Step2_fold1_remove_background.pbz2': 0.17200789844083503, 'exp16v6AugmixB4_fold1.pbz2': 0.8934202906082688, 'exp21b6_fold1_remove_background.pbz2': 1.2916196760261818}. Best is trial 41 with value: 0.8702428176463517.\u001b[0m\n",
      "\u001b[32m[I 2022-04-17 07:37:25,037]\u001b[0m Trial 70 finished with value: 0.8607464839523982 and parameters: {'exp16v6AugMixNew4_fold1.pbz2': 2.0891169606347315, 'exp16v6AugMixNew4_fold1_tta.pbz2': 1.108395532567285, 'exp16v6AugmixB3_fold1.pbz2': 0.6558027541788037, 'exp16v6AugmixB4Step2_fold1.pbz2': 0.7439630421992522, 'exp16v6AugmixB4Step2_fold1_remove_background.pbz2': 1.5225171000726283, 'exp16v6AugmixB4_fold1.pbz2': 2.023705227425301, 'exp21b6_fold1_remove_background.pbz2': 0.8690695194082522}. Best is trial 41 with value: 0.8702428176463517.\u001b[0m\n",
      "\u001b[32m[I 2022-04-17 07:37:26,195]\u001b[0m Trial 71 finished with value: 0.8694033738029411 and parameters: {'exp16v6AugMixNew4_fold1.pbz2': 3.560271201762651, 'exp16v6AugMixNew4_fold1_tta.pbz2': 2.0738494096610554, 'exp16v6AugmixB3_fold1.pbz2': 0.459329375745773, 'exp16v6AugmixB4Step2_fold1.pbz2': 1.4246435587661253, 'exp16v6AugmixB4Step2_fold1_remove_background.pbz2': 0.8350929981230364, 'exp16v6AugmixB4_fold1.pbz2': 1.1429282181412024, 'exp21b6_fold1_remove_background.pbz2': 1.670961295065502}. Best is trial 41 with value: 0.8702428176463517.\u001b[0m\n",
      "\u001b[32m[I 2022-04-17 07:37:27,380]\u001b[0m Trial 72 finished with value: 0.8691028569138918 and parameters: {'exp16v6AugMixNew4_fold1.pbz2': 3.677842126478535, 'exp16v6AugMixNew4_fold1_tta.pbz2': 1.44480824214371, 'exp16v6AugmixB3_fold1.pbz2': 0.35211264620648286, 'exp16v6AugmixB4Step2_fold1.pbz2': 1.529497830779727, 'exp16v6AugmixB4Step2_fold1_remove_background.pbz2': 0.7510732785385268, 'exp16v6AugmixB4_fold1.pbz2': 1.2099380808776135, 'exp21b6_fold1_remove_background.pbz2': 1.4538041948536777}. Best is trial 41 with value: 0.8702428176463517.\u001b[0m\n",
      "\u001b[32m[I 2022-04-17 07:37:28,558]\u001b[0m Trial 73 finished with value: 0.8683575750290501 and parameters: {'exp16v6AugMixNew4_fold1.pbz2': 3.474128524816209, 'exp16v6AugMixNew4_fold1_tta.pbz2': 0.7722398903556909, 'exp16v6AugmixB3_fold1.pbz2': 0.12433416079382734, 'exp16v6AugmixB4Step2_fold1.pbz2': 1.2580781908476641, 'exp16v6AugmixB4Step2_fold1_remove_background.pbz2': 0.3914807680131791, 'exp16v6AugmixB4_fold1.pbz2': 1.6250032689120046, 'exp21b6_fold1_remove_background.pbz2': 1.3534176318373068}. Best is trial 41 with value: 0.8702428176463517.\u001b[0m\n",
      "\u001b[32m[I 2022-04-17 07:37:29,715]\u001b[0m Trial 74 finished with value: 0.8689746363745642 and parameters: {'exp16v6AugMixNew4_fold1.pbz2': 3.9051799539686343, 'exp16v6AugMixNew4_fold1_tta.pbz2': 1.2834402118039947, 'exp16v6AugmixB3_fold1.pbz2': 0.28927061077969285, 'exp16v6AugmixB4Step2_fold1.pbz2': 1.120750682798642, 'exp16v6AugmixB4Step2_fold1_remove_background.pbz2': 0.9634068668666113, 'exp16v6AugmixB4_fold1.pbz2': 0.9680235410144447, 'exp21b6_fold1_remove_background.pbz2': 1.8416803374843798}. Best is trial 41 with value: 0.8702428176463517.\u001b[0m\n"
     ]
    },
    {
     "name": "stderr",
     "output_type": "stream",
     "text": [
      "\u001b[32m[I 2022-04-17 07:37:30,873]\u001b[0m Trial 75 finished with value: 0.8692130464398766 and parameters: {'exp16v6AugMixNew4_fold1.pbz2': 3.2384006075556524, 'exp16v6AugMixNew4_fold1_tta.pbz2': 1.780010876094061, 'exp16v6AugmixB3_fold1.pbz2': 0.503017955789026, 'exp16v6AugmixB4Step2_fold1.pbz2': 0.9007965575351731, 'exp16v6AugmixB4Step2_fold1_remove_background.pbz2': 0.5990483435894831, 'exp16v6AugmixB4_fold1.pbz2': 1.1576480360951689, 'exp21b6_fold1_remove_background.pbz2': 1.2188961663819864}. Best is trial 41 with value: 0.8702428176463517.\u001b[0m\n",
      "\u001b[32m[I 2022-04-17 07:37:32,029]\u001b[0m Trial 76 finished with value: 0.8668349561245342 and parameters: {'exp16v6AugMixNew4_fold1.pbz2': 3.583123738357287, 'exp16v6AugMixNew4_fold1_tta.pbz2': 0.6401081383062565, 'exp16v6AugmixB3_fold1.pbz2': 1.0294868894359959, 'exp16v6AugmixB4Step2_fold1.pbz2': 1.6506798034485723, 'exp16v6AugmixB4Step2_fold1_remove_background.pbz2': 0.8024411499339368, 'exp16v6AugmixB4_fold1.pbz2': 0.47663843909808257, 'exp21b6_fold1_remove_background.pbz2': 1.038355939908487}. Best is trial 41 with value: 0.8702428176463517.\u001b[0m\n",
      "\u001b[32m[I 2022-04-17 07:37:33,184]\u001b[0m Trial 77 finished with value: 0.8688624434026525 and parameters: {'exp16v6AugMixNew4_fold1.pbz2': 3.0962269747349715, 'exp16v6AugMixNew4_fold1_tta.pbz2': 2.4220543778476085, 'exp16v6AugmixB3_fold1.pbz2': 0.6649995704279492, 'exp16v6AugmixB4Step2_fold1.pbz2': 1.4200142881332682, 'exp16v6AugmixB4Step2_fold1_remove_background.pbz2': 0.5112367142916374, 'exp16v6AugmixB4_fold1.pbz2': 1.344594143979288, 'exp21b6_fold1_remove_background.pbz2': 1.6940637916602221}. Best is trial 41 with value: 0.8702428176463517.\u001b[0m\n",
      "\u001b[32m[I 2022-04-17 07:37:34,336]\u001b[0m Trial 78 finished with value: 0.8681111511800298 and parameters: {'exp16v6AugMixNew4_fold1.pbz2': 1.5702035773968746, 'exp16v6AugMixNew4_fold1_tta.pbz2': 2.1398714408969974, 'exp16v6AugmixB3_fold1.pbz2': 0.4156244485787145, 'exp16v6AugmixB4Step2_fold1.pbz2': 1.265516454540065, 'exp16v6AugmixB4Step2_fold1_remove_background.pbz2': 0.2719672164284081, 'exp16v6AugmixB4_fold1.pbz2': 0.7858717577284955, 'exp21b6_fold1_remove_background.pbz2': 1.4864948746986448}. Best is trial 41 with value: 0.8702428176463517.\u001b[0m\n",
      "\u001b[32m[I 2022-04-17 07:37:35,496]\u001b[0m Trial 79 finished with value: 0.8458107945666546 and parameters: {'exp16v6AugMixNew4_fold1.pbz2': 0.8688058928981455, 'exp16v6AugMixNew4_fold1_tta.pbz2': 0.2066553557097519, 'exp16v6AugmixB3_fold1.pbz2': 0.08467557747432441, 'exp16v6AugmixB4Step2_fold1.pbz2': 0.38705965231873146, 'exp16v6AugmixB4Step2_fold1_remove_background.pbz2': 0.8916696009903758, 'exp16v6AugmixB4_fold1.pbz2': 2.5834446008224616, 'exp21b6_fold1_remove_background.pbz2': 0.8074073891081419}. Best is trial 41 with value: 0.8702428176463517.\u001b[0m\n",
      "\u001b[32m[I 2022-04-17 07:37:36,790]\u001b[0m Trial 80 finished with value: 0.8696017149497136 and parameters: {'exp16v6AugMixNew4_fold1.pbz2': 3.384915869029033, 'exp16v6AugMixNew4_fold1_tta.pbz2': 2.010728746809966, 'exp16v6AugmixB3_fold1.pbz2': 0.2458717975919536, 'exp16v6AugmixB4Step2_fold1.pbz2': 1.8390974287226585, 'exp16v6AugmixB4Step2_fold1_remove_background.pbz2': 0.6946179676175835, 'exp16v6AugmixB4_fold1.pbz2': 0.3746920711588658, 'exp21b6_fold1_remove_background.pbz2': 1.6350388257440793}. Best is trial 41 with value: 0.8702428176463517.\u001b[0m\n",
      "\u001b[32m[I 2022-04-17 07:37:37,947]\u001b[0m Trial 81 finished with value: 0.8690086949553232 and parameters: {'exp16v6AugMixNew4_fold1.pbz2': 3.3596108320917546, 'exp16v6AugMixNew4_fold1_tta.pbz2': 2.362835387959324, 'exp16v6AugmixB3_fold1.pbz2': 0.2291472070678625, 'exp16v6AugmixB4Step2_fold1.pbz2': 1.7693436400195535, 'exp16v6AugmixB4Step2_fold1_remove_background.pbz2': 1.0783143323025268, 'exp16v6AugmixB4_fold1.pbz2': 0.34773195640296056, 'exp21b6_fold1_remove_background.pbz2': 2.1820644521031127}. Best is trial 41 with value: 0.8702428176463517.\u001b[0m\n",
      "\u001b[32m[I 2022-04-17 07:37:39,149]\u001b[0m Trial 82 finished with value: 0.8687562607685219 and parameters: {'exp16v6AugMixNew4_fold1.pbz2': 3.7283468968239304, 'exp16v6AugMixNew4_fold1_tta.pbz2': 2.2952344116642824, 'exp16v6AugmixB3_fold1.pbz2': 0.0005034298099119826, 'exp16v6AugmixB4Step2_fold1.pbz2': 1.9364334234789253, 'exp16v6AugmixB4Step2_fold1_remove_background.pbz2': 0.6905532956598766, 'exp16v6AugmixB4_fold1.pbz2': 0.1550752377809964, 'exp21b6_fold1_remove_background.pbz2': 1.6127427520954751}. Best is trial 41 with value: 0.8702428176463517.\u001b[0m\n",
      "\u001b[32m[I 2022-04-17 07:37:40,305]\u001b[0m Trial 83 finished with value: 0.8681191649637376 and parameters: {'exp16v6AugMixNew4_fold1.pbz2': 3.446853729023147, 'exp16v6AugMixNew4_fold1_tta.pbz2': 1.994090971530651, 'exp16v6AugmixB3_fold1.pbz2': 1.3191295087779318, 'exp16v6AugmixB4Step2_fold1.pbz2': 1.5452018416207356, 'exp16v6AugmixB4Step2_fold1_remove_background.pbz2': 1.0046831952749316, 'exp16v6AugmixB4_fold1.pbz2': 0.9818155485387458, 'exp21b6_fold1_remove_background.pbz2': 1.9075755380287216}. Best is trial 41 with value: 0.8702428176463517.\u001b[0m\n",
      "\u001b[32m[I 2022-04-17 07:37:41,469]\u001b[0m Trial 84 finished with value: 0.8678747445606443 and parameters: {'exp16v6AugMixNew4_fold1.pbz2': 3.2485487323591533, 'exp16v6AugMixNew4_fold1_tta.pbz2': 2.60660864971993, 'exp16v6AugmixB3_fold1.pbz2': 0.35583837442735, 'exp16v6AugmixB4Step2_fold1.pbz2': 1.0898573651547392, 'exp16v6AugmixB4Step2_fold1_remove_background.pbz2': 0.43120416639600184, 'exp16v6AugmixB4_fold1.pbz2': 0.5615530921849741, 'exp21b6_fold1_remove_background.pbz2': 1.72873892269807}. Best is trial 41 with value: 0.8702428176463517.\u001b[0m\n",
      "\u001b[32m[I 2022-04-17 07:37:42,627]\u001b[0m Trial 85 finished with value: 0.868018992667388 and parameters: {'exp16v6AugMixNew4_fold1.pbz2': 3.6164481715257777, 'exp16v6AugMixNew4_fold1_tta.pbz2': 1.5982884759996596, 'exp16v6AugmixB3_fold1.pbz2': 0.5674334160060006, 'exp16v6AugmixB4Step2_fold1.pbz2': 1.4570906819851046, 'exp16v6AugmixB4Step2_fold1_remove_background.pbz2': 0.5508877208496954, 'exp16v6AugmixB4_fold1.pbz2': 0.6939100918019816, 'exp21b6_fold1_remove_background.pbz2': 0.49745083175983484}. Best is trial 41 with value: 0.8702428176463517.\u001b[0m\n",
      "\u001b[32m[I 2022-04-17 07:37:43,790]\u001b[0m Trial 86 finished with value: 0.8698180871098289 and parameters: {'exp16v6AugMixNew4_fold1.pbz2': 2.8543406514679504, 'exp16v6AugMixNew4_fold1_tta.pbz2': 1.8238636494710805, 'exp16v6AugmixB3_fold1.pbz2': 0.14114002109220403, 'exp16v6AugmixB4Step2_fold1.pbz2': 0.582574048151716, 'exp16v6AugmixB4Step2_fold1_remove_background.pbz2': 0.7932138248719894, 'exp16v6AugmixB4_fold1.pbz2': 1.0966462846468554, 'exp21b6_fold1_remove_background.pbz2': 1.3694547811900069}. Best is trial 41 with value: 0.8702428176463517.\u001b[0m\n",
      "\u001b[32m[I 2022-04-17 07:37:44,965]\u001b[0m Trial 87 finished with value: 0.8657831470128622 and parameters: {'exp16v6AugMixNew4_fold1.pbz2': 3.7691537298951316, 'exp16v6AugMixNew4_fold1_tta.pbz2': 1.7830077258568007, 'exp16v6AugmixB3_fold1.pbz2': 0.10767235615193602, 'exp16v6AugmixB4Step2_fold1.pbz2': 0.5501172501118285, 'exp16v6AugmixB4Step2_fold1_remove_background.pbz2': 0.7606230002116895, 'exp16v6AugmixB4_fold1.pbz2': 0.4124798850000332, 'exp21b6_fold1_remove_background.pbz2': 1.3612711601190501}. Best is trial 41 with value: 0.8702428176463517.\u001b[0m\n",
      "\u001b[32m[I 2022-04-17 07:37:46,125]\u001b[0m Trial 88 finished with value: 0.8693252394117883 and parameters: {'exp16v6AugMixNew4_fold1.pbz2': 2.4467378245171822, 'exp16v6AugMixNew4_fold1_tta.pbz2': 1.9138338765477678, 'exp16v6AugmixB3_fold1.pbz2': 0.7324738398763528, 'exp16v6AugmixB4Step2_fold1.pbz2': 0.7446606646920263, 'exp16v6AugmixB4Step2_fold1_remove_background.pbz2': 0.866042844369754, 'exp16v6AugmixB4_fold1.pbz2': 1.0940404236589414, 'exp21b6_fold1_remove_background.pbz2': 1.1644503054856683}. Best is trial 41 with value: 0.8702428176463517.\u001b[0m\n",
      "\u001b[32m[I 2022-04-17 07:37:47,288]\u001b[0m Trial 89 finished with value: 0.8687542573225949 and parameters: {'exp16v6AugMixNew4_fold1.pbz2': 2.839785986822668, 'exp16v6AugMixNew4_fold1_tta.pbz2': 1.67747056130146, 'exp16v6AugmixB3_fold1.pbz2': 0.4465255430824293, 'exp16v6AugmixB4Step2_fold1.pbz2': 0.8480261292870278, 'exp16v6AugmixB4Step2_fold1_remove_background.pbz2': 1.2207927330198989, 'exp16v6AugmixB4_fold1.pbz2': 0.9360669606605636, 'exp21b6_fold1_remove_background.pbz2': 1.7820716341009475}. Best is trial 41 with value: 0.8702428176463517.\u001b[0m\n"
     ]
    },
    {
     "name": "stderr",
     "output_type": "stream",
     "text": [
      "\u001b[32m[I 2022-04-17 07:37:48,451]\u001b[0m Trial 90 finished with value: 0.8602636534839925 and parameters: {'exp16v6AugMixNew4_fold1.pbz2': 3.369301888951829, 'exp16v6AugMixNew4_fold1_tta.pbz2': 1.4443580218767358, 'exp16v6AugmixB3_fold1.pbz2': 0.26581190863157705, 'exp16v6AugmixB4Step2_fold1.pbz2': 1.8473042306374685, 'exp16v6AugmixB4Step2_fold1_remove_background.pbz2': 2.999234366616058, 'exp16v6AugmixB4_fold1.pbz2': 1.4471852410105182, 'exp21b6_fold1_remove_background.pbz2': 1.5102620485282043}. Best is trial 41 with value: 0.8702428176463517.\u001b[0m\n",
      "\u001b[32m[I 2022-04-17 07:37:49,641]\u001b[0m Trial 91 finished with value: 0.8684757783387427 and parameters: {'exp16v6AugMixNew4_fold1.pbz2': 3.0666100539093497, 'exp16v6AugMixNew4_fold1_tta.pbz2': 2.0972071106492836, 'exp16v6AugmixB3_fold1.pbz2': 0.12592568937245818, 'exp16v6AugmixB4Step2_fold1.pbz2': 0.671391445254647, 'exp16v6AugmixB4Step2_fold1_remove_background.pbz2': 0.6673529694470075, 'exp16v6AugmixB4_fold1.pbz2': 0.824656765383176, 'exp21b6_fold1_remove_background.pbz2': 1.28571804517471}. Best is trial 41 with value: 0.8702428176463517.\u001b[0m\n",
      "\u001b[32m[I 2022-04-17 07:37:50,800]\u001b[0m Trial 92 finished with value: 0.8659654605922187 and parameters: {'exp16v6AugMixNew4_fold1.pbz2': 3.198394211677871, 'exp16v6AugMixNew4_fold1_tta.pbz2': 2.229206200583496, 'exp16v6AugmixB3_fold1.pbz2': 0.23911487657905603, 'exp16v6AugmixB4Step2_fold1.pbz2': 0.2530744634630919, 'exp16v6AugmixB4Step2_fold1_remove_background.pbz2': 0.5601874979391497, 'exp16v6AugmixB4_fold1.pbz2': 1.0590684426928754, 'exp21b6_fold1_remove_background.pbz2': 0.9214683802529419}. Best is trial 41 with value: 0.8702428176463517.\u001b[0m\n",
      "\u001b[32m[I 2022-04-17 07:37:51,959]\u001b[0m Trial 93 finished with value: 0.8666586528829586 and parameters: {'exp16v6AugMixNew4_fold1.pbz2': 3.5516459925536905, 'exp16v6AugMixNew4_fold1_tta.pbz2': 1.841369562542797, 'exp16v6AugmixB3_fold1.pbz2': 0.5855977602438354, 'exp16v6AugmixB4Step2_fold1.pbz2': 0.11750510954941529, 'exp16v6AugmixB4Step2_fold1_remove_background.pbz2': 0.3425644460816948, 'exp16v6AugmixB4_fold1.pbz2': 1.2577837541273527, 'exp21b6_fold1_remove_background.pbz2': 1.6425162518039418}. Best is trial 41 with value: 0.8702428176463517.\u001b[0m\n",
      "\u001b[32m[I 2022-04-17 07:37:53,117]\u001b[0m Trial 94 finished with value: 0.8692310774532195 and parameters: {'exp16v6AugMixNew4_fold1.pbz2': 2.6434415953339485, 'exp16v6AugMixNew4_fold1_tta.pbz2': 1.2610331973494497, 'exp16v6AugmixB3_fold1.pbz2': 0.322712902843966, 'exp16v6AugmixB4Step2_fold1.pbz2': 1.027463328918944, 'exp16v6AugmixB4Step2_fold1_remove_background.pbz2': 0.9997657169118668, 'exp16v6AugmixB4_fold1.pbz2': 0.6663934568201098, 'exp21b6_fold1_remove_background.pbz2': 1.0059891618794419}. Best is trial 41 with value: 0.8702428176463517.\u001b[0m\n",
      "\u001b[32m[I 2022-04-17 07:37:54,273]\u001b[0m Trial 95 finished with value: 0.8692350843450736 and parameters: {'exp16v6AugMixNew4_fold1.pbz2': 2.8925512371975426, 'exp16v6AugMixNew4_fold1_tta.pbz2': 2.003351031974895, 'exp16v6AugmixB3_fold1.pbz2': 0.14326524925165154, 'exp16v6AugmixB4Step2_fold1.pbz2': 1.6838530505144802, 'exp16v6AugmixB4Step2_fold1_remove_background.pbz2': 0.7865231937731705, 'exp16v6AugmixB4_fold1.pbz2': 0.57879331567729, 'exp21b6_fold1_remove_background.pbz2': 0.6975693637510028}. Best is trial 41 with value: 0.8702428176463517.\u001b[0m\n",
      "\u001b[32m[I 2022-04-17 07:37:55,429]\u001b[0m Trial 96 finished with value: 0.8684697680009617 and parameters: {'exp16v6AugMixNew4_fold1.pbz2': 1.7318752471096999, 'exp16v6AugMixNew4_fold1_tta.pbz2': 1.5203018970867888, 'exp16v6AugmixB3_fold1.pbz2': 0.46579583197014607, 'exp16v6AugmixB4Step2_fold1.pbz2': 0.6397427818222254, 'exp16v6AugmixB4Step2_fold1_remove_background.pbz2': 0.4760545376793848, 'exp16v6AugmixB4_fold1.pbz2': 1.158185883569313, 'exp21b6_fold1_remove_background.pbz2': 1.0908938366166945}. Best is trial 41 with value: 0.8702428176463517.\u001b[0m\n",
      "\u001b[32m[I 2022-04-17 07:37:56,585]\u001b[0m Trial 97 finished with value: 0.8652261890451577 and parameters: {'exp16v6AugMixNew4_fold1.pbz2': 3.919166184705138, 'exp16v6AugMixNew4_fold1_tta.pbz2': 0.47401980888289263, 'exp16v6AugmixB3_fold1.pbz2': 0.247730278380204, 'exp16v6AugmixB4Step2_fold1.pbz2': 1.2063027164494537, 'exp16v6AugmixB4Step2_fold1_remove_background.pbz2': 0.9093666193469533, 'exp16v6AugmixB4_fold1.pbz2': 0.8653627330085369, 'exp21b6_fold1_remove_background.pbz2': 3.31589229148007}. Best is trial 41 with value: 0.8702428176463517.\u001b[0m\n",
      "\u001b[32m[I 2022-04-17 07:37:57,749]\u001b[0m Trial 98 finished with value: 0.8671154385543135 and parameters: {'exp16v6AugMixNew4_fold1.pbz2': 3.2846624403018874, 'exp16v6AugMixNew4_fold1_tta.pbz2': 0.8700166944712162, 'exp16v6AugmixB3_fold1.pbz2': 0.3737143348620481, 'exp16v6AugmixB4Step2_fold1.pbz2': 2.0673734267157617, 'exp16v6AugmixB4Step2_fold1_remove_background.pbz2': 0.6673203145327238, 'exp16v6AugmixB4_fold1.pbz2': 1.014527007315889, 'exp21b6_fold1_remove_background.pbz2': 1.3650306999047608}. Best is trial 41 with value: 0.8702428176463517.\u001b[0m\n",
      "\u001b[32m[I 2022-04-17 07:37:58,905]\u001b[0m Trial 99 finished with value: 0.8414713306887845 and parameters: {'exp16v6AugMixNew4_fold1.pbz2': 0.024389646751347804, 'exp16v6AugMixNew4_fold1_tta.pbz2': 0.9904997448661965, 'exp16v6AugmixB3_fold1.pbz2': 2.461089114644424, 'exp16v6AugmixB4Step2_fold1.pbz2': 0.5134520061497378, 'exp16v6AugmixB4Step2_fold1_remove_background.pbz2': 0.31880371370674876, 'exp16v6AugmixB4_fold1.pbz2': 1.321254120997945, 'exp21b6_fold1_remove_background.pbz2': 1.5459425167556922}. Best is trial 41 with value: 0.8702428176463517.\u001b[0m\n",
      "\u001b[32m[I 2022-04-17 07:38:00,083]\u001b[0m Trial 100 finished with value: 0.866877028489001 and parameters: {'exp16v6AugMixNew4_fold1.pbz2': 3.0033895599334985, 'exp16v6AugMixNew4_fold1_tta.pbz2': 0.7144554864239635, 'exp16v6AugmixB3_fold1.pbz2': 0.0998830435527457, 'exp16v6AugmixB4Step2_fold1.pbz2': 0.9749936756690809, 'exp16v6AugmixB4Step2_fold1_remove_background.pbz2': 1.0868455369323078, 'exp16v6AugmixB4_fold1.pbz2': 1.5454611561329583, 'exp21b6_fold1_remove_background.pbz2': 1.2106777573829581}. Best is trial 41 with value: 0.8702428176463517.\u001b[0m\n",
      "\u001b[32m[I 2022-04-17 07:38:01,245]\u001b[0m Trial 101 finished with value: 0.8691028569138919 and parameters: {'exp16v6AugMixNew4_fold1.pbz2': 2.393879258772719, 'exp16v6AugMixNew4_fold1_tta.pbz2': 1.746534063366656, 'exp16v6AugmixB3_fold1.pbz2': 0.7319580348736971, 'exp16v6AugmixB4Step2_fold1.pbz2': 0.8188796614358501, 'exp16v6AugmixB4Step2_fold1_remove_background.pbz2': 0.875157757391065, 'exp16v6AugmixB4_fold1.pbz2': 1.077719408346616, 'exp21b6_fold1_remove_background.pbz2': 1.1596703811483067}. Best is trial 41 with value: 0.8702428176463517.\u001b[0m\n",
      "\u001b[32m[I 2022-04-17 07:38:02,402]\u001b[0m Trial 102 finished with value: 0.8693092118443724 and parameters: {'exp16v6AugMixNew4_fold1.pbz2': 2.549304073268211, 'exp16v6AugMixNew4_fold1_tta.pbz2': 1.8982502058558453, 'exp16v6AugmixB3_fold1.pbz2': 0.5867001727005672, 'exp16v6AugmixB4Step2_fold1.pbz2': 0.7447576827172795, 'exp16v6AugmixB4Step2_fold1_remove_background.pbz2': 0.8252898105859189, 'exp16v6AugmixB4_fold1.pbz2': 1.1016851460558186, 'exp21b6_fold1_remove_background.pbz2': 1.438879766193786}. Best is trial 41 with value: 0.8702428176463517.\u001b[0m\n",
      "\u001b[32m[I 2022-04-17 07:38:03,700]\u001b[0m Trial 103 finished with value: 0.8696237528549104 and parameters: {'exp16v6AugMixNew4_fold1.pbz2': 2.4883454057901906, 'exp16v6AugMixNew4_fold1_tta.pbz2': 2.156321263138744, 'exp16v6AugmixB3_fold1.pbz2': 0.49513421029571314, 'exp16v6AugmixB4Step2_fold1.pbz2': 1.306894805735539, 'exp16v6AugmixB4Step2_fold1_remove_background.pbz2': 0.7438898283793873, 'exp16v6AugmixB4_fold1.pbz2': 1.151357364394561, 'exp21b6_fold1_remove_background.pbz2': 1.142621552735556}. Best is trial 41 with value: 0.8702428176463517.\u001b[0m\n",
      "\u001b[32m[I 2022-04-17 07:38:04,863]\u001b[0m Trial 104 finished with value: 0.8648435308731016 and parameters: {'exp16v6AugMixNew4_fold1.pbz2': 3.1368822579984945, 'exp16v6AugMixNew4_fold1_tta.pbz2': 2.158440164321745, 'exp16v6AugmixB3_fold1.pbz2': 0.20000915868973118, 'exp16v6AugmixB4Step2_fold1.pbz2': 1.3388651113613157, 'exp16v6AugmixB4Step2_fold1_remove_background.pbz2': 0.7251725284970028, 'exp16v6AugmixB4_fold1.pbz2': 3.536434430146879, 'exp21b6_fold1_remove_background.pbz2': 0.8859000542347373}. Best is trial 41 with value: 0.8702428176463517.\u001b[0m\n"
     ]
    },
    {
     "name": "stderr",
     "output_type": "stream",
     "text": [
      "\u001b[32m[I 2022-04-17 07:38:06,022]\u001b[0m Trial 105 finished with value: 0.8691529430620667 and parameters: {'exp16v6AugMixNew4_fold1.pbz2': 2.7841120801252, 'exp16v6AugMixNew4_fold1_tta.pbz2': 2.0217928974687145, 'exp16v6AugmixB3_fold1.pbz2': 0.8564425630656843, 'exp16v6AugmixB4Step2_fold1.pbz2': 1.280080583854591, 'exp16v6AugmixB4Step2_fold1_remove_background.pbz2': 0.6136061266857589, 'exp16v6AugmixB4_fold1.pbz2': 1.3916184319748517, 'exp21b6_fold1_remove_background.pbz2': 1.293694650472795}. Best is trial 41 with value: 0.8702428176463517.\u001b[0m\n",
      "\u001b[32m[I 2022-04-17 07:38:07,181]\u001b[0m Trial 106 finished with value: 0.8680550546940738 and parameters: {'exp16v6AugMixNew4_fold1.pbz2': 3.507341274598698, 'exp16v6AugMixNew4_fold1_tta.pbz2': 2.4464714743822342, 'exp16v6AugmixB3_fold1.pbz2': 0.45292529945667204, 'exp16v6AugmixB4Step2_fold1.pbz2': 1.5858157849835293, 'exp16v6AugmixB4Step2_fold1_remove_background.pbz2': 0.4331400112559197, 'exp16v6AugmixB4_fold1.pbz2': 0.7244583042234323, 'exp21b6_fold1_remove_background.pbz2': 1.0641556083196755}. Best is trial 41 with value: 0.8702428176463517.\u001b[0m\n",
      "\u001b[32m[I 2022-04-17 07:38:08,350]\u001b[0m Trial 107 finished with value: 0.8689505950234403 and parameters: {'exp16v6AugMixNew4_fold1.pbz2': 3.412925758939216, 'exp16v6AugMixNew4_fold1_tta.pbz2': 2.2872230986772295, 'exp16v6AugmixB3_fold1.pbz2': 0.01628964995112786, 'exp16v6AugmixB4Step2_fold1.pbz2': 1.1261298844008996, 'exp16v6AugmixB4Step2_fold1_remove_background.pbz2': 0.5353033646816028, 'exp16v6AugmixB4_fold1.pbz2': 1.1654917278593255, 'exp21b6_fold1_remove_background.pbz2': 1.987997422163903}. Best is trial 41 with value: 0.8702428176463517.\u001b[0m\n",
      "\u001b[32m[I 2022-04-17 07:38:09,510]\u001b[0m Trial 108 finished with value: 0.8662559602516328 and parameters: {'exp16v6AugMixNew4_fold1.pbz2': 2.909761191076436, 'exp16v6AugMixNew4_fold1_tta.pbz2': 1.6131739937455054, 'exp16v6AugmixB3_fold1.pbz2': 0.3469874476814726, 'exp16v6AugmixB4Step2_fold1.pbz2': 1.4762949025990082, 'exp16v6AugmixB4Step2_fold1_remove_background.pbz2': 1.7668597917650823, 'exp16v6AugmixB4_fold1.pbz2': 1.278096189237991, 'exp21b6_fold1_remove_background.pbz2': 0.9847483635105305}. Best is trial 41 with value: 0.8702428176463517.\u001b[0m\n",
      "\u001b[32m[I 2022-04-17 07:38:10,700]\u001b[0m Trial 109 finished with value: 0.8603337740914373 and parameters: {'exp16v6AugMixNew4_fold1.pbz2': 3.66516875304293, 'exp16v6AugMixNew4_fold1_tta.pbz2': 1.3546813312969959, 'exp16v6AugmixB3_fold1.pbz2': 3.7878893407332903, 'exp16v6AugmixB4Step2_fold1.pbz2': 0.38350365981449064, 'exp16v6AugmixB4Step2_fold1_remove_background.pbz2': 0.72154959923166, 'exp16v6AugmixB4_fold1.pbz2': 1.6971872698383188, 'exp21b6_fold1_remove_background.pbz2': 0.7480862668420638}. Best is trial 41 with value: 0.8702428176463517.\u001b[0m\n",
      "\u001b[32m[I 2022-04-17 07:38:11,863]\u001b[0m Trial 110 finished with value: 0.8633910325760308 and parameters: {'exp16v6AugMixNew4_fold1.pbz2': 3.319918556534819, 'exp16v6AugMixNew4_fold1_tta.pbz2': 0.30225954982531156, 'exp16v6AugmixB3_fold1.pbz2': 2.090087472948481, 'exp16v6AugmixB4Step2_fold1.pbz2': 1.4012318030880322, 'exp16v6AugmixB4Step2_fold1_remove_background.pbz2': 0.23279089916260093, 'exp16v6AugmixB4_fold1.pbz2': 0.8344991032694828, 'exp21b6_fold1_remove_background.pbz2': 0.6259084199286895}. Best is trial 41 with value: 0.8702428176463517.\u001b[0m\n",
      "\u001b[32m[I 2022-04-17 07:38:13,041]\u001b[0m Trial 111 finished with value: 0.8689646191449293 and parameters: {'exp16v6AugMixNew4_fold1.pbz2': 2.238696726680743, 'exp16v6AugMixNew4_fold1_tta.pbz2': 1.8142332320913592, 'exp16v6AugmixB3_fold1.pbz2': 0.5100626599549222, 'exp16v6AugmixB4Step2_fold1.pbz2': 0.9132407612674479, 'exp16v6AugmixB4Step2_fold1_remove_background.pbz2': 0.942400947117616, 'exp16v6AugmixB4_fold1.pbz2': 1.0260079278698808, 'exp21b6_fold1_remove_background.pbz2': 1.1760225773950144}. Best is trial 41 with value: 0.8702428176463517.\u001b[0m\n",
      "\u001b[32m[I 2022-04-17 07:38:14,200]\u001b[0m Trial 112 finished with value: 0.8697439596105302 and parameters: {'exp16v6AugMixNew4_fold1.pbz2': 2.447637233061662, 'exp16v6AugMixNew4_fold1_tta.pbz2': 1.9472182893338887, 'exp16v6AugmixB3_fold1.pbz2': 0.1847938729205556, 'exp16v6AugmixB4Step2_fold1.pbz2': 1.0372393698249067, 'exp16v6AugmixB4Step2_fold1_remove_background.pbz2': 0.8265288867779911, 'exp16v6AugmixB4_fold1.pbz2': 0.9243506987318048, 'exp21b6_fold1_remove_background.pbz2': 1.255924113413215}. Best is trial 41 with value: 0.8702428176463517.\u001b[0m\n",
      "\u001b[32m[I 2022-04-17 07:38:15,359]\u001b[0m Trial 113 finished with value: 0.8584124694474496 and parameters: {'exp16v6AugMixNew4_fold1.pbz2': 2.7050582107355385, 'exp16v6AugMixNew4_fold1_tta.pbz2': 2.0465455192471795, 'exp16v6AugmixB3_fold1.pbz2': 0.18783645510163938, 'exp16v6AugmixB4Step2_fold1.pbz2': 3.388641709841712, 'exp16v6AugmixB4Step2_fold1_remove_background.pbz2': 2.139849490580332, 'exp16v6AugmixB4_fold1.pbz2': 0.5237522568180359, 'exp21b6_fold1_remove_background.pbz2': 1.374212025482668}. Best is trial 41 with value: 0.8702428176463517.\u001b[0m\n",
      "\u001b[32m[I 2022-04-17 07:38:16,523]\u001b[0m Trial 114 finished with value: 0.8688223744841126 and parameters: {'exp16v6AugMixNew4_fold1.pbz2': 2.342696847066911, 'exp16v6AugMixNew4_fold1_tta.pbz2': 2.5951534444207343, 'exp16v6AugmixB3_fold1.pbz2': 0.2758931785434112, 'exp16v6AugmixB4Step2_fold1.pbz2': 1.0550046700972335, 'exp16v6AugmixB4Step2_fold1_remove_background.pbz2': 0.6220006807687549, 'exp16v6AugmixB4_fold1.pbz2': 0.9096101823214316, 'exp21b6_fold1_remove_background.pbz2': 1.5893500728388426}. Best is trial 41 with value: 0.8702428176463517.\u001b[0m\n",
      "\u001b[32m[I 2022-04-17 07:38:17,691]\u001b[0m Trial 115 finished with value: 0.865136033978443 and parameters: {'exp16v6AugMixNew4_fold1.pbz2': 2.4933193137524055, 'exp16v6AugMixNew4_fold1_tta.pbz2': 0.5996248989548203, 'exp16v6AugmixB3_fold1.pbz2': 0.10418511755899307, 'exp16v6AugmixB4Step2_fold1.pbz2': 1.1920725595143074, 'exp16v6AugmixB4Step2_fold1_remove_background.pbz2': 0.7885244993686714, 'exp16v6AugmixB4_fold1.pbz2': 1.191155726937517, 'exp21b6_fold1_remove_background.pbz2': 1.4864402205698348}. Best is trial 41 with value: 0.8702428176463517.\u001b[0m\n",
      "\u001b[32m[I 2022-04-17 07:38:18,850]\u001b[0m Trial 116 finished with value: 0.8669912249068397 and parameters: {'exp16v6AugMixNew4_fold1.pbz2': 2.0434831859929035, 'exp16v6AugMixNew4_fold1_tta.pbz2': 2.335489313685941, 'exp16v6AugmixB3_fold1.pbz2': 0.39614392028343426, 'exp16v6AugmixB4Step2_fold1.pbz2': 1.8144290953524793, 'exp16v6AugmixB4Step2_fold1_remove_background.pbz2': 1.208963746986853, 'exp16v6AugmixB4_fold1.pbz2': 0.7321027875880167, 'exp21b6_fold1_remove_background.pbz2': 1.0757909665963261}. Best is trial 41 with value: 0.8702428176463517.\u001b[0m\n",
      "\u001b[32m[I 2022-04-17 07:38:20,011]\u001b[0m Trial 117 finished with value: 0.8698000560964859 and parameters: {'exp16v6AugMixNew4_fold1.pbz2': 3.06691701243514, 'exp16v6AugMixNew4_fold1_tta.pbz2': 2.215464921630617, 'exp16v6AugmixB3_fold1.pbz2': 0.2988093668387217, 'exp16v6AugmixB4Step2_fold1.pbz2': 0.961506075893355, 'exp16v6AugmixB4Step2_fold1_remove_background.pbz2': 1.0153432997771783, 'exp16v6AugmixB4_fold1.pbz2': 0.9332750220424721, 'exp21b6_fold1_remove_background.pbz2': 1.249354200328347}. Best is trial 41 with value: 0.8702428176463517.\u001b[0m\n",
      "\u001b[32m[I 2022-04-17 07:38:21,203]\u001b[0m Trial 118 finished with value: 0.8699402973113756 and parameters: {'exp16v6AugMixNew4_fold1.pbz2': 3.0390839348825205, 'exp16v6AugMixNew4_fold1_tta.pbz2': 2.1678582103107016, 'exp16v6AugmixB3_fold1.pbz2': 0.004676161124919476, 'exp16v6AugmixB4Step2_fold1.pbz2': 1.0181041301669653, 'exp16v6AugmixB4Step2_fold1_remove_background.pbz2': 1.0257464941488017, 'exp16v6AugmixB4_fold1.pbz2': 0.9672138862107399, 'exp21b6_fold1_remove_background.pbz2': 1.2606011862775763}. Best is trial 41 with value: 0.8702428176463517.\u001b[0m\n",
      "\u001b[32m[I 2022-04-17 07:38:22,365]\u001b[0m Trial 119 finished with value: 0.8700244420403094 and parameters: {'exp16v6AugMixNew4_fold1.pbz2': 3.032956612193838, 'exp16v6AugMixNew4_fold1_tta.pbz2': 1.952873475907428, 'exp16v6AugmixB3_fold1.pbz2': 0.003995843175911956, 'exp16v6AugmixB4Step2_fold1.pbz2': 1.005281473277435, 'exp16v6AugmixB4Step2_fold1_remove_background.pbz2': 0.9986390494490087, 'exp16v6AugmixB4_fold1.pbz2': 0.9641081417552978, 'exp21b6_fold1_remove_background.pbz2': 1.2437074501134988}. Best is trial 41 with value: 0.8702428176463517.\u001b[0m\n"
     ]
    },
    {
     "name": "stderr",
     "output_type": "stream",
     "text": [
      "\u001b[32m[I 2022-04-17 07:38:23,525]\u001b[0m Trial 120 finished with value: 0.8701226108907321 and parameters: {'exp16v6AugMixNew4_fold1.pbz2': 2.785221225156991, 'exp16v6AugMixNew4_fold1_tta.pbz2': 1.9228996503259508, 'exp16v6AugmixB3_fold1.pbz2': 0.06700628856058713, 'exp16v6AugmixB4Step2_fold1.pbz2': 0.9499324922812212, 'exp16v6AugmixB4Step2_fold1_remove_background.pbz2': 1.036185350514112, 'exp16v6AugmixB4_fold1.pbz2': 0.6315247907828587, 'exp21b6_fold1_remove_background.pbz2': 1.2615217545416801}. Best is trial 41 with value: 0.8702428176463517.\u001b[0m\n",
      "\u001b[32m[I 2022-04-17 07:38:24,691]\u001b[0m Trial 121 finished with value: 0.8698421284609529 and parameters: {'exp16v6AugMixNew4_fold1.pbz2': 2.8224620788859327, 'exp16v6AugMixNew4_fold1_tta.pbz2': 1.95167358944827, 'exp16v6AugmixB3_fold1.pbz2': 0.009057880744156206, 'exp16v6AugmixB4Step2_fold1.pbz2': 0.9826562290985572, 'exp16v6AugmixB4Step2_fold1_remove_background.pbz2': 1.4007696263019054, 'exp16v6AugmixB4_fold1.pbz2': 0.6553122311479924, 'exp21b6_fold1_remove_background.pbz2': 1.2506321871294153}. Best is trial 41 with value: 0.8702428176463517.\u001b[0m\n",
      "\u001b[32m[I 2022-04-17 07:38:25,866]\u001b[0m Trial 122 finished with value: 0.870186721160396 and parameters: {'exp16v6AugMixNew4_fold1.pbz2': 2.7563940614835207, 'exp16v6AugMixNew4_fold1_tta.pbz2': 1.9314679961858827, 'exp16v6AugmixB3_fold1.pbz2': 9.930065750624962e-05, 'exp16v6AugmixB4Step2_fold1.pbz2': 0.9812833823397148, 'exp16v6AugmixB4Step2_fold1_remove_background.pbz2': 1.3970523160914219, 'exp16v6AugmixB4_fold1.pbz2': 0.35276457286562557, 'exp21b6_fold1_remove_background.pbz2': 1.2113171349763476}. Best is trial 41 with value: 0.8702428176463517.\u001b[0m\n",
      "\u001b[32m[I 2022-04-17 07:38:27,053]\u001b[0m Trial 123 finished with value: 0.869806066434267 and parameters: {'exp16v6AugMixNew4_fold1.pbz2': 2.6517758740213093, 'exp16v6AugMixNew4_fold1_tta.pbz2': 1.970863381722244, 'exp16v6AugmixB3_fold1.pbz2': 0.04578282469780336, 'exp16v6AugmixB4Step2_fold1.pbz2': 0.8862517151433199, 'exp16v6AugmixB4Step2_fold1_remove_background.pbz2': 1.4197634431509565, 'exp16v6AugmixB4_fold1.pbz2': 0.1286801036384303, 'exp21b6_fold1_remove_background.pbz2': 1.2625636258803283}. Best is trial 41 with value: 0.8702428176463517.\u001b[0m\n",
      "\u001b[32m[I 2022-04-17 07:38:28,230]\u001b[0m Trial 124 finished with value: 0.870162679809272 and parameters: {'exp16v6AugMixNew4_fold1.pbz2': 2.6422139503917346, 'exp16v6AugMixNew4_fold1_tta.pbz2': 1.9486958878118263, 'exp16v6AugmixB3_fold1.pbz2': 0.00013002474037113117, 'exp16v6AugmixB4Step2_fold1.pbz2': 0.9182130740431252, 'exp16v6AugmixB4Step2_fold1_remove_background.pbz2': 1.3834406932548169, 'exp16v6AugmixB4_fold1.pbz2': 0.25690740926798, 'exp21b6_fold1_remove_background.pbz2': 1.2519713737391842}. Best is trial 41 with value: 0.8702428176463517.\u001b[0m\n",
      "\u001b[32m[I 2022-04-17 07:38:29,425]\u001b[0m Trial 125 finished with value: 0.8699082421765437 and parameters: {'exp16v6AugMixNew4_fold1.pbz2': 2.6644827784111476, 'exp16v6AugMixNew4_fold1_tta.pbz2': 1.870797935131243, 'exp16v6AugmixB3_fold1.pbz2': 0.004899341664157478, 'exp16v6AugmixB4Step2_fold1.pbz2': 0.9720657064538775, 'exp16v6AugmixB4Step2_fold1_remove_background.pbz2': 1.3953154657845945, 'exp16v6AugmixB4_fold1.pbz2': 0.20463182499771815, 'exp21b6_fold1_remove_background.pbz2': 1.2351864879203103}. Best is trial 41 with value: 0.8702428176463517.\u001b[0m\n",
      "\u001b[32m[I 2022-04-17 07:38:30,722]\u001b[0m Trial 126 finished with value: 0.8697299354890412 and parameters: {'exp16v6AugMixNew4_fold1.pbz2': 2.630109785201932, 'exp16v6AugMixNew4_fold1_tta.pbz2': 1.9174104416794173, 'exp16v6AugmixB3_fold1.pbz2': 0.06372031891757601, 'exp16v6AugmixB4Step2_fold1.pbz2': 0.9522372035315723, 'exp16v6AugmixB4Step2_fold1_remove_background.pbz2': 1.3907531293746145, 'exp16v6AugmixB4_fold1.pbz2': 0.15322150924512218, 'exp21b6_fold1_remove_background.pbz2': 1.2551979272681457}. Best is trial 41 with value: 0.8702428176463517.\u001b[0m\n",
      "\u001b[32m[I 2022-04-17 07:38:31,954]\u001b[0m Trial 127 finished with value: 0.8697219217053332 and parameters: {'exp16v6AugMixNew4_fold1.pbz2': 2.7725333537971886, 'exp16v6AugMixNew4_fold1_tta.pbz2': 1.9235496851536904, 'exp16v6AugmixB3_fold1.pbz2': 0.07250082059951193, 'exp16v6AugmixB4Step2_fold1.pbz2': 0.9725388293918537, 'exp16v6AugmixB4Step2_fold1_remove_background.pbz2': 1.4881446467736186, 'exp16v6AugmixB4_fold1.pbz2': 0.24793297815490323, 'exp21b6_fold1_remove_background.pbz2': 1.294658121411024}. Best is trial 41 with value: 0.8702428176463517.\u001b[0m\n",
      "\u001b[32m[I 2022-04-17 07:38:33,120]\u001b[0m Trial 128 finished with value: 0.8696978803542093 and parameters: {'exp16v6AugMixNew4_fold1.pbz2': 2.6636170954486187, 'exp16v6AugMixNew4_fold1_tta.pbz2': 1.9644728048954576, 'exp16v6AugmixB3_fold1.pbz2': 0.019667041432915047, 'exp16v6AugmixB4Step2_fold1.pbz2': 0.8533190989058399, 'exp16v6AugmixB4Step2_fold1_remove_background.pbz2': 1.70392806277459, 'exp16v6AugmixB4_fold1.pbz2': 0.08487805009274581, 'exp21b6_fold1_remove_background.pbz2': 1.3361558594268788}. Best is trial 41 with value: 0.8702428176463517.\u001b[0m\n",
      "\u001b[32m[I 2022-04-17 07:38:34,286]\u001b[0m Trial 129 finished with value: 0.8692991946147375 and parameters: {'exp16v6AugMixNew4_fold1.pbz2': 2.958530703112925, 'exp16v6AugMixNew4_fold1_tta.pbz2': 1.7011113856068913, 'exp16v6AugmixB3_fold1.pbz2': 0.009645165740059535, 'exp16v6AugmixB4Step2_fold1.pbz2': 0.6220844897787441, 'exp16v6AugmixB4Step2_fold1_remove_background.pbz2': 1.3015438451740344, 'exp16v6AugmixB4_fold1.pbz2': 0.12709755313061039, 'exp21b6_fold1_remove_background.pbz2': 1.2092147076968842}. Best is trial 41 with value: 0.8702428176463517.\u001b[0m\n",
      "\u001b[32m[I 2022-04-17 07:38:35,452]\u001b[0m Trial 130 finished with value: 0.8688764675241416 and parameters: {'exp16v6AugMixNew4_fold1.pbz2': 2.8098642667125664, 'exp16v6AugMixNew4_fold1_tta.pbz2': 2.2173198886518826, 'exp16v6AugmixB3_fold1.pbz2': 0.17270288812653425, 'exp16v6AugmixB4Step2_fold1.pbz2': 0.8928208971486358, 'exp16v6AugmixB4Step2_fold1_remove_background.pbz2': 1.4305902843567875, 'exp16v6AugmixB4_fold1.pbz2': 0.016751209097012776, 'exp21b6_fold1_remove_background.pbz2': 1.426861763359004}. Best is trial 41 with value: 0.8702428176463517.\u001b[0m\n",
      "\u001b[32m[I 2022-04-17 07:38:36,619]\u001b[0m Trial 131 finished with value: 0.8691389189405778 and parameters: {'exp16v6AugMixNew4_fold1.pbz2': 2.5861034156928846, 'exp16v6AugMixNew4_fold1_tta.pbz2': 1.8602845392550846, 'exp16v6AugmixB3_fold1.pbz2': 0.08384537115134975, 'exp16v6AugmixB4Step2_fold1.pbz2': 0.9717991452249041, 'exp16v6AugmixB4Step2_fold1_remove_background.pbz2': 1.6577206829547202, 'exp16v6AugmixB4_fold1.pbz2': 0.22144819018921344, 'exp21b6_fold1_remove_background.pbz2': 1.255625295316304}. Best is trial 41 with value: 0.8702428176463517.\u001b[0m\n",
      "\u001b[32m[I 2022-04-17 07:38:37,779]\u001b[0m Trial 132 finished with value: 0.8689586088071483 and parameters: {'exp16v6AugMixNew4_fold1.pbz2': 2.6941213430390563, 'exp16v6AugMixNew4_fold1_tta.pbz2': 1.754062121190134, 'exp16v6AugmixB3_fold1.pbz2': 0.14235893884951828, 'exp16v6AugmixB4Step2_fold1.pbz2': 1.1397609785950908, 'exp16v6AugmixB4Step2_fold1_remove_background.pbz2': 1.555631669076178, 'exp16v6AugmixB4_fold1.pbz2': 0.2668580725036662, 'exp21b6_fold1_remove_background.pbz2': 1.2758468873906328}. Best is trial 41 with value: 0.8702428176463517.\u001b[0m\n",
      "\u001b[32m[I 2022-04-17 07:38:38,968]\u001b[0m Trial 133 finished with value: 0.869792042312778 and parameters: {'exp16v6AugMixNew4_fold1.pbz2': 2.6052807503548276, 'exp16v6AugMixNew4_fold1_tta.pbz2': 1.9284529421016392, 'exp16v6AugmixB3_fold1.pbz2': 0.08581015349768578, 'exp16v6AugmixB4Step2_fold1.pbz2': 0.7055188519562474, 'exp16v6AugmixB4Step2_fold1_remove_background.pbz2': 1.387863544755464, 'exp16v6AugmixB4_fold1.pbz2': 0.32051587810771576, 'exp21b6_fold1_remove_background.pbz2': 1.112565058646371}. Best is trial 41 with value: 0.8702428176463517.\u001b[0m\n",
      "\u001b[32m[I 2022-04-17 07:38:40,132]\u001b[0m Trial 134 finished with value: 0.869411387586649 and parameters: {'exp16v6AugMixNew4_fold1.pbz2': 2.867266289251441, 'exp16v6AugMixNew4_fold1_tta.pbz2': 2.068406019164104, 'exp16v6AugmixB3_fold1.pbz2': 0.13601477519604444, 'exp16v6AugmixB4Step2_fold1.pbz2': 0.6826146044540602, 'exp16v6AugmixB4Step2_fold1_remove_background.pbz2': 1.3594401740600395, 'exp16v6AugmixB4_fold1.pbz2': 0.3600482412038965, 'exp21b6_fold1_remove_background.pbz2': 1.1144272646912345}. Best is trial 41 with value: 0.8702428176463517.\u001b[0m\n"
     ]
    },
    {
     "name": "stderr",
     "output_type": "stream",
     "text": [
      "\u001b[32m[I 2022-04-17 07:38:41,296]\u001b[0m Trial 135 finished with value: 0.8700945626477542 and parameters: {'exp16v6AugMixNew4_fold1.pbz2': 2.736730583322475, 'exp16v6AugMixNew4_fold1_tta.pbz2': 1.5157429855687936, 'exp16v6AugmixB3_fold1.pbz2': 0.0891226522649377, 'exp16v6AugmixB4Step2_fold1.pbz2': 0.8118645302042402, 'exp16v6AugmixB4Step2_fold1_remove_background.pbz2': 1.2587653291321972, 'exp16v6AugmixB4_fold1.pbz2': 0.490889082568603, 'exp21b6_fold1_remove_background.pbz2': 1.0219139223010907}. Best is trial 41 with value: 0.8702428176463517.\u001b[0m\n",
      "\u001b[32m[I 2022-04-17 07:38:42,489]\u001b[0m Trial 136 finished with value: 0.86980406298834 and parameters: {'exp16v6AugMixNew4_fold1.pbz2': 2.7419183734903165, 'exp16v6AugMixNew4_fold1_tta.pbz2': 1.8629786745803585, 'exp16v6AugmixB3_fold1.pbz2': 0.006024411581180285, 'exp16v6AugmixB4Step2_fold1.pbz2': 0.78960814112639, 'exp16v6AugmixB4Step2_fold1_remove_background.pbz2': 1.1126972212471409, 'exp16v6AugmixB4_fold1.pbz2': 0.4598186179933917, 'exp21b6_fold1_remove_background.pbz2': 1.0551019327208022}. Best is trial 41 with value: 0.8702428176463517.\u001b[0m\n",
      "\u001b[32m[I 2022-04-17 07:38:43,655]\u001b[0m Trial 137 finished with value: 0.8701747004848339 and parameters: {'exp16v6AugMixNew4_fold1.pbz2': 2.7563516535520445, 'exp16v6AugMixNew4_fold1_tta.pbz2': 1.6907749142273905, 'exp16v6AugmixB3_fold1.pbz2': 0.0050156146074545604, 'exp16v6AugmixB4Step2_fold1.pbz2': 0.8003598863070726, 'exp16v6AugmixB4Step2_fold1_remove_background.pbz2': 1.2506517941875663, 'exp16v6AugmixB4_fold1.pbz2': 0.44883503553077675, 'exp21b6_fold1_remove_background.pbz2': 1.0209048038712776}. Best is trial 41 with value: 0.8702428176463517.\u001b[0m\n",
      "\u001b[32m[I 2022-04-17 07:38:44,842]\u001b[0m Trial 138 finished with value: 0.8697299354890412 and parameters: {'exp16v6AugMixNew4_fold1.pbz2': 2.736217636516861, 'exp16v6AugMixNew4_fold1_tta.pbz2': 1.6499542695146516, 'exp16v6AugmixB3_fold1.pbz2': 0.0564922165510297, 'exp16v6AugmixB4Step2_fold1.pbz2': 0.7869342619728928, 'exp16v6AugmixB4Step2_fold1_remove_background.pbz2': 1.1621748783491974, 'exp16v6AugmixB4_fold1.pbz2': 0.39604261749248376, 'exp21b6_fold1_remove_background.pbz2': 1.0092629206958532}. Best is trial 41 with value: 0.8702428176463517.\u001b[0m\n",
      "\u001b[32m[I 2022-04-17 07:38:46,006]\u001b[0m Trial 139 finished with value: 0.8682333613815764 and parameters: {'exp16v6AugMixNew4_fold1.pbz2': 3.049784598591228, 'exp16v6AugMixNew4_fold1_tta.pbz2': 1.8228349925565415, 'exp16v6AugmixB3_fold1.pbz2': 0.0019856385475670096, 'exp16v6AugmixB4Step2_fold1.pbz2': 0.4773841195615933, 'exp16v6AugmixB4Step2_fold1_remove_background.pbz2': 1.0872871390999594, 'exp16v6AugmixB4_fold1.pbz2': 0.5065219351816744, 'exp21b6_fold1_remove_background.pbz2': 0.9557203560668016}. Best is trial 41 with value: 0.8702428176463517.\u001b[0m\n",
      "\u001b[32m[I 2022-04-17 07:38:47,181]\u001b[0m Trial 140 finished with value: 0.8695676563689546 and parameters: {'exp16v6AugMixNew4_fold1.pbz2': 2.8241573318912114, 'exp16v6AugMixNew4_fold1_tta.pbz2': 1.4995547881263682, 'exp16v6AugmixB3_fold1.pbz2': 0.29037343172647995, 'exp16v6AugmixB4Step2_fold1.pbz2': 0.8515695629730745, 'exp16v6AugmixB4Step2_fold1_remove_background.pbz2': 1.258211021841495, 'exp16v6AugmixB4_fold1.pbz2': 0.45453020059722266, 'exp21b6_fold1_remove_background.pbz2': 1.0487376881570123}. Best is trial 41 with value: 0.8702428176463517.\u001b[0m\n",
      "\u001b[32m[I 2022-04-17 07:38:48,358]\u001b[0m Trial 141 finished with value: 0.8700625075129222 and parameters: {'exp16v6AugMixNew4_fold1.pbz2': 2.5784711614163207, 'exp16v6AugMixNew4_fold1_tta.pbz2': 1.6545035094636604, 'exp16v6AugmixB3_fold1.pbz2': 0.11830006060333577, 'exp16v6AugmixB4Step2_fold1.pbz2': 0.7228377103102359, 'exp16v6AugmixB4Step2_fold1_remove_background.pbz2': 1.3191804303815093, 'exp16v6AugmixB4_fold1.pbz2': 0.32084990564691046, 'exp21b6_fold1_remove_background.pbz2': 1.1565328495361975}. Best is trial 41 with value: 0.8702428176463517.\u001b[0m\n",
      "\u001b[32m[I 2022-04-17 07:38:49,524]\u001b[0m Trial 142 finished with value: 0.8699262731898867 and parameters: {'exp16v6AugMixNew4_fold1.pbz2': 2.7368427960857953, 'exp16v6AugMixNew4_fold1_tta.pbz2': 1.6708297683902689, 'exp16v6AugmixB3_fold1.pbz2': 0.004703229084663546, 'exp16v6AugmixB4Step2_fold1.pbz2': 0.6045057585026969, 'exp16v6AugmixB4Step2_fold1_remove_background.pbz2': 1.476560091633556, 'exp16v6AugmixB4_fold1.pbz2': 0.28420536135566554, 'exp21b6_fold1_remove_background.pbz2': 1.165651057303218}. Best is trial 41 with value: 0.8702428176463517.\u001b[0m\n",
      "\u001b[32m[I 2022-04-17 07:38:50,692]\u001b[0m Trial 143 finished with value: 0.869802059542413 and parameters: {'exp16v6AugMixNew4_fold1.pbz2': 2.7425724785453234, 'exp16v6AugMixNew4_fold1_tta.pbz2': 1.6958611338361007, 'exp16v6AugmixB3_fold1.pbz2': 0.0012457893758852675, 'exp16v6AugmixB4Step2_fold1.pbz2': 0.6007905108180859, 'exp16v6AugmixB4Step2_fold1_remove_background.pbz2': 1.4810752708317212, 'exp16v6AugmixB4_fold1.pbz2': 0.2820537531519654, 'exp21b6_fold1_remove_background.pbz2': 1.1594133266591051}. Best is trial 41 with value: 0.8702428176463517.\u001b[0m\n",
      "\u001b[32m[I 2022-04-17 07:38:51,853]\u001b[0m Trial 144 finished with value: 0.8696097287334216 and parameters: {'exp16v6AugMixNew4_fold1.pbz2': 2.547423502731007, 'exp16v6AugMixNew4_fold1_tta.pbz2': 1.5824258809260734, 'exp16v6AugmixB3_fold1.pbz2': 0.14078376261939635, 'exp16v6AugmixB4Step2_fold1.pbz2': 0.7534248085260125, 'exp16v6AugmixB4Step2_fold1_remove_background.pbz2': 1.603705426018101, 'exp16v6AugmixB4_fold1.pbz2': 0.45341213501123745, 'exp21b6_fold1_remove_background.pbz2': 0.8398965766059048}. Best is trial 41 with value: 0.8702428176463517.\u001b[0m\n",
      "\u001b[32m[I 2022-04-17 07:38:53,071]\u001b[0m Trial 145 finished with value: 0.8691128741435268 and parameters: {'exp16v6AugMixNew4_fold1.pbz2': 2.9429520069132984, 'exp16v6AugMixNew4_fold1_tta.pbz2': 1.7479373983653699, 'exp16v6AugmixB3_fold1.pbz2': 0.09883098410661056, 'exp16v6AugmixB4Step2_fold1.pbz2': 0.8304603719632196, 'exp16v6AugmixB4Step2_fold1_remove_background.pbz2': 1.2251993241460295, 'exp16v6AugmixB4_fold1.pbz2': 0.18456487968569502, 'exp21b6_fold1_remove_background.pbz2': 1.3626059029670081}. Best is trial 41 with value: 0.8702428176463517.\u001b[0m\n",
      "\u001b[32m[I 2022-04-17 07:38:54,240]\u001b[0m Trial 146 finished with value: 0.870136635012221 and parameters: {'exp16v6AugMixNew4_fold1.pbz2': 2.2517156359368795, 'exp16v6AugMixNew4_fold1_tta.pbz2': 1.5396791255421023, 'exp16v6AugmixB3_fold1.pbz2': 0.0015351386932248856, 'exp16v6AugmixB4Step2_fold1.pbz2': 0.5419961736568352, 'exp16v6AugmixB4Step2_fold1_remove_background.pbz2': 1.3303784796415836, 'exp16v6AugmixB4_fold1.pbz2': 0.08593044154980614, 'exp21b6_fold1_remove_background.pbz2': 1.1106495844262325}. Best is trial 41 with value: 0.8702428176463517.\u001b[0m\n",
      "\u001b[32m[I 2022-04-17 07:38:55,400]\u001b[0m Trial 147 finished with value: 0.869794045758705 and parameters: {'exp16v6AugMixNew4_fold1.pbz2': 2.3748649742573145, 'exp16v6AugMixNew4_fold1_tta.pbz2': 1.5847032077723562, 'exp16v6AugmixB3_fold1.pbz2': 0.20287102055965045, 'exp16v6AugmixB4Step2_fold1.pbz2': 0.49156667268061127, 'exp16v6AugmixB4Step2_fold1_remove_background.pbz2': 1.3263840496168955, 'exp16v6AugmixB4_fold1.pbz2': 0.09013395539044206, 'exp21b6_fold1_remove_background.pbz2': 1.1752501366871166}. Best is trial 41 with value: 0.8702428176463517.\u001b[0m\n",
      "\u001b[32m[I 2022-04-17 07:38:56,563]\u001b[0m Trial 148 finished with value: 0.8698200905557559 and parameters: {'exp16v6AugMixNew4_fold1.pbz2': 2.166362824569317, 'exp16v6AugMixNew4_fold1_tta.pbz2': 1.5321869841339884, 'exp16v6AugmixB3_fold1.pbz2': 0.12231791943531367, 'exp16v6AugmixB4Step2_fold1.pbz2': 0.573621003951504, 'exp16v6AugmixB4Step2_fold1_remove_background.pbz2': 1.4444806523146814, 'exp16v6AugmixB4_fold1.pbz2': 0.009232410242102543, 'exp21b6_fold1_remove_background.pbz2': 0.946382642772363}. Best is trial 41 with value: 0.8702428176463517.\u001b[0m\n",
      "\u001b[32m[I 2022-04-17 07:38:57,886]\u001b[0m Trial 149 finished with value: 0.8694173979244301 and parameters: {'exp16v6AugMixNew4_fold1.pbz2': 1.9393486567527782, 'exp16v6AugMixNew4_fold1_tta.pbz2': 1.4886270891388655, 'exp16v6AugmixB3_fold1.pbz2': 0.15221941452631255, 'exp16v6AugmixB4Step2_fold1.pbz2': 0.5562627508583453, 'exp16v6AugmixB4Step2_fold1_remove_background.pbz2': 1.3168137273463423, 'exp16v6AugmixB4_fold1.pbz2': 0.016832490504413575, 'exp21b6_fold1_remove_background.pbz2': 0.9445224241182504}. Best is trial 41 with value: 0.8702428176463517.\u001b[0m\n"
     ]
    },
    {
     "name": "stderr",
     "output_type": "stream",
     "text": [
      "\u001b[32m[I 2022-04-17 07:38:59,049]\u001b[0m Trial 150 finished with value: 0.8691489361702127 and parameters: {'exp16v6AugMixNew4_fold1.pbz2': 2.4969903192355853, 'exp16v6AugMixNew4_fold1_tta.pbz2': 1.2685250310914458, 'exp16v6AugmixB3_fold1.pbz2': 0.2296134236096039, 'exp16v6AugmixB4Step2_fold1.pbz2': 0.664846114487292, 'exp16v6AugmixB4Step2_fold1_remove_background.pbz2': 1.547646616042768, 'exp16v6AugmixB4_fold1.pbz2': 0.305272516478678, 'exp21b6_fold1_remove_background.pbz2': 0.8096100354089357}. Best is trial 41 with value: 0.8702428176463517.\u001b[0m\n",
      "\u001b[32m[I 2022-04-17 07:39:00,221]\u001b[0m Trial 151 finished with value: 0.8694194013703571 and parameters: {'exp16v6AugMixNew4_fold1.pbz2': 2.1639361163072173, 'exp16v6AugMixNew4_fold1_tta.pbz2': 1.6813810391824615, 'exp16v6AugmixB3_fold1.pbz2': 0.0926690156538969, 'exp16v6AugmixB4Step2_fold1.pbz2': 0.7099234920114343, 'exp16v6AugmixB4Step2_fold1_remove_background.pbz2': 1.4573312262302562, 'exp16v6AugmixB4_fold1.pbz2': 0.19575693051883686, 'exp21b6_fold1_remove_background.pbz2': 1.104339377478751}. Best is trial 41 with value: 0.8702428176463517.\u001b[0m\n",
      "\u001b[32m[I 2022-04-17 07:39:01,386]\u001b[0m Trial 152 finished with value: 0.8699262731898866 and parameters: {'exp16v6AugMixNew4_fold1.pbz2': 2.2333868307814027, 'exp16v6AugMixNew4_fold1_tta.pbz2': 1.5548429714233318, 'exp16v6AugmixB3_fold1.pbz2': 0.002062222314819474, 'exp16v6AugmixB4Step2_fold1.pbz2': 0.4146277580916296, 'exp16v6AugmixB4Step2_fold1_remove_background.pbz2': 1.2417948310091262, 'exp16v6AugmixB4_fold1.pbz2': 0.12072112273266657, 'exp21b6_fold1_remove_background.pbz2': 1.4265166551678248}. Best is trial 41 with value: 0.8702428176463517.\u001b[0m\n",
      "\u001b[32m[I 2022-04-17 07:39:02,549]\u001b[0m Trial 153 finished with value: 0.869435428937773 and parameters: {'exp16v6AugMixNew4_fold1.pbz2': 2.1425902715934515, 'exp16v6AugMixNew4_fold1_tta.pbz2': 1.5233679917331957, 'exp16v6AugmixB3_fold1.pbz2': 0.1309859955464853, 'exp16v6AugmixB4Step2_fold1.pbz2': 0.31457486622930175, 'exp16v6AugmixB4Step2_fold1_remove_background.pbz2': 1.1345668513162126, 'exp16v6AugmixB4_fold1.pbz2': 0.06909442904019708, 'exp21b6_fold1_remove_background.pbz2': 1.40805092518943}. Best is trial 41 with value: 0.8702428176463517.\u001b[0m\n",
      "\u001b[32m[I 2022-04-17 07:39:03,751]\u001b[0m Trial 154 finished with value: 0.8699783627839885 and parameters: {'exp16v6AugMixNew4_fold1.pbz2': 2.2580596888294795, 'exp16v6AugMixNew4_fold1_tta.pbz2': 1.406376533536091, 'exp16v6AugmixB3_fold1.pbz2': 0.008026893952782306, 'exp16v6AugmixB4Step2_fold1.pbz2': 0.40397591256188076, 'exp16v6AugmixB4Step2_fold1_remove_background.pbz2': 1.2589543663041562, 'exp16v6AugmixB4_fold1.pbz2': 0.5684708431719863, 'exp21b6_fold1_remove_background.pbz2': 1.0038538919116118}. Best is trial 41 with value: 0.8702428176463517.\u001b[0m\n",
      "\u001b[32m[I 2022-04-17 07:39:04,917]\u001b[0m Trial 155 finished with value: 0.8682173338141603 and parameters: {'exp16v6AugMixNew4_fold1.pbz2': 2.074310741010093, 'exp16v6AugMixNew4_fold1_tta.pbz2': 1.3933922707398052, 'exp16v6AugmixB3_fold1.pbz2': 0.014861054020609582, 'exp16v6AugmixB4Step2_fold1.pbz2': 0.3820093596565266, 'exp16v6AugmixB4Step2_fold1_remove_background.pbz2': 1.8940404289820487, 'exp16v6AugmixB4_fold1.pbz2': 0.5656247913769639, 'exp21b6_fold1_remove_background.pbz2': 0.9625134370813805}. Best is trial 41 with value: 0.8702428176463517.\u001b[0m\n",
      "\u001b[32m[I 2022-04-17 07:39:06,084]\u001b[0m Trial 156 finished with value: 0.8699743558921345 and parameters: {'exp16v6AugMixNew4_fold1.pbz2': 1.9879640712005067, 'exp16v6AugMixNew4_fold1_tta.pbz2': 1.6265356709553351, 'exp16v6AugmixB3_fold1.pbz2': 0.21471320372293257, 'exp16v6AugmixB4Step2_fold1.pbz2': 0.4178639906164975, 'exp16v6AugmixB4Step2_fold1_remove_background.pbz2': 1.2753811318522474, 'exp16v6AugmixB4_fold1.pbz2': 0.3727471640286399, 'exp21b6_fold1_remove_background.pbz2': 0.8707121195892858}. Best is trial 41 with value: 0.8702428176463517.\u001b[0m\n",
      "\u001b[32m[I 2022-04-17 07:39:07,251]\u001b[0m Trial 157 finished with value: 0.8696838562327203 and parameters: {'exp16v6AugMixNew4_fold1.pbz2': 1.8427026887952458, 'exp16v6AugMixNew4_fold1_tta.pbz2': 1.6522082496191404, 'exp16v6AugmixB3_fold1.pbz2': 0.002820665086150966, 'exp16v6AugmixB4Step2_fold1.pbz2': 0.2977334551293006, 'exp16v6AugmixB4Step2_fold1_remove_background.pbz2': 1.2764241716794595, 'exp16v6AugmixB4_fold1.pbz2': 0.3823013305025295, 'exp21b6_fold1_remove_background.pbz2': 1.184807177428043}. Best is trial 41 with value: 0.8702428176463517.\u001b[0m\n",
      "\u001b[32m[I 2022-04-17 07:39:08,414]\u001b[0m Trial 158 finished with value: 0.8697219217053331 and parameters: {'exp16v6AugMixNew4_fold1.pbz2': 2.2815663259872894, 'exp16v6AugMixNew4_fold1_tta.pbz2': 1.3104604358843173, 'exp16v6AugmixB3_fold1.pbz2': 0.22827489507781537, 'exp16v6AugmixB4Step2_fold1.pbz2': 0.47259470387507024, 'exp16v6AugmixB4Step2_fold1_remove_background.pbz2': 1.2165717086497105, 'exp16v6AugmixB4_fold1.pbz2': 0.6069216453343402, 'exp21b6_fold1_remove_background.pbz2': 0.8292694776214776}. Best is trial 41 with value: 0.8702428176463517.\u001b[0m\n",
      "\u001b[32m[I 2022-04-17 07:39:09,580]\u001b[0m Trial 159 finished with value: 0.8694133910325761 and parameters: {'exp16v6AugMixNew4_fold1.pbz2': 2.2715376853492586, 'exp16v6AugMixNew4_fold1_tta.pbz2': 1.4340804762746657, 'exp16v6AugmixB3_fold1.pbz2': 0.08850455817422234, 'exp16v6AugmixB4Step2_fold1.pbz2': 0.08310961333779732, 'exp16v6AugmixB4Step2_fold1_remove_background.pbz2': 1.1476877160371863, 'exp16v6AugmixB4_fold1.pbz2': 0.3372527167909898, 'exp21b6_fold1_remove_background.pbz2': 1.0386141779735227}. Best is trial 41 with value: 0.8702428176463517.\u001b[0m\n",
      "\u001b[32m[I 2022-04-17 07:39:10,746]\u001b[0m Trial 160 finished with value: 0.8693993669110871 and parameters: {'exp16v6AugMixNew4_fold1.pbz2': 1.9542914060149452, 'exp16v6AugMixNew4_fold1_tta.pbz2': 1.6082599644273816, 'exp16v6AugmixB3_fold1.pbz2': 0.32884995895325364, 'exp16v6AugmixB4Step2_fold1.pbz2': 0.4481338760957089, 'exp16v6AugmixB4Step2_fold1_remove_background.pbz2': 1.3493980615280738, 'exp16v6AugmixB4_fold1.pbz2': 0.23353973713441664, 'exp21b6_fold1_remove_background.pbz2': 1.1177853894974172}. Best is trial 41 with value: 0.8702428176463517.\u001b[0m\n",
      "\u001b[32m[I 2022-04-17 07:39:11,906]\u001b[0m Trial 161 finished with value: 0.867291741795889 and parameters: {'exp16v6AugMixNew4_fold1.pbz2': 1.8596424486444976, 'exp16v6AugMixNew4_fold1_tta.pbz2': 1.183510062099519, 'exp16v6AugmixB3_fold1.pbz2': 0.16964412645358, 'exp16v6AugmixB4Step2_fold1.pbz2': 0.5392139863911947, 'exp16v6AugmixB4Step2_fold1_remove_background.pbz2': 1.587654964816437, 'exp16v6AugmixB4_fold1.pbz2': 0.5138863770951045, 'exp21b6_fold1_remove_background.pbz2': 0.930148549932308}. Best is trial 41 with value: 0.8702428176463517.\u001b[0m\n",
      "\u001b[32m[I 2022-04-17 07:39:13,072]\u001b[0m Trial 162 finished with value: 0.8586528829586889 and parameters: {'exp16v6AugMixNew4_fold1.pbz2': 2.1922303034695276, 'exp16v6AugMixNew4_fold1_tta.pbz2': 1.5259376849296957, 'exp16v6AugmixB3_fold1.pbz2': 0.0767723144877258, 'exp16v6AugmixB4Step2_fold1.pbz2': 0.6085143565662595, 'exp16v6AugmixB4Step2_fold1_remove_background.pbz2': 1.2507820627733512, 'exp16v6AugmixB4_fold1.pbz2': 0.17175408760432445, 'exp21b6_fold1_remove_background.pbz2': 3.8307366354317587}. Best is trial 41 with value: 0.8702428176463517.\u001b[0m\n",
      "\u001b[32m[I 2022-04-17 07:39:14,260]\u001b[0m Trial 163 finished with value: 0.8692631325880515 and parameters: {'exp16v6AugMixNew4_fold1.pbz2': 2.3894462572512025, 'exp16v6AugMixNew4_fold1_tta.pbz2': 1.7649758690943749, 'exp16v6AugmixB3_fold1.pbz2': 0.24824177001365982, 'exp16v6AugmixB4Step2_fold1.pbz2': 0.3832678775701982, 'exp16v6AugmixB4Step2_fold1_remove_background.pbz2': 1.4763395583999999, 'exp16v6AugmixB4_fold1.pbz2': 0.386479596342463, 'exp21b6_fold1_remove_background.pbz2': 0.7118340581874345}. Best is trial 41 with value: 0.8702428176463517.\u001b[0m\n",
      "\u001b[32m[I 2022-04-17 07:39:15,423]\u001b[0m Trial 164 finished with value: 0.8616059622550788 and parameters: {'exp16v6AugMixNew4_fold1.pbz2': 2.0769543700171846, 'exp16v6AugMixNew4_fold1_tta.pbz2': 1.443366700506441, 'exp16v6AugmixB3_fold1.pbz2': 2.6682847819085787, 'exp16v6AugmixB4Step2_fold1.pbz2': 1.0713226556875115, 'exp16v6AugmixB4Step2_fold1_remove_background.pbz2': 1.0337833592553767, 'exp16v6AugmixB4_fold1.pbz2': 0.28523924569136805, 'exp21b6_fold1_remove_background.pbz2': 1.008658530336386}. Best is trial 41 with value: 0.8702428176463517.\u001b[0m\n"
     ]
    },
    {
     "name": "stderr",
     "output_type": "stream",
     "text": [
      "\u001b[32m[I 2022-04-17 07:39:16,587]\u001b[0m Trial 165 finished with value: 0.8697299354890412 and parameters: {'exp16v6AugMixNew4_fold1.pbz2': 2.24987193421277, 'exp16v6AugMixNew4_fold1_tta.pbz2': 1.584143123720742, 'exp16v6AugmixB3_fold1.pbz2': 0.09732445869079859, 'exp16v6AugmixB4Step2_fold1.pbz2': 0.6871461152655688, 'exp16v6AugmixB4Step2_fold1_remove_background.pbz2': 1.38728767682255, 'exp16v6AugmixB4_fold1.pbz2': 0.10017198507945305, 'exp21b6_fold1_remove_background.pbz2': 0.8955551404768687}. Best is trial 41 with value: 0.8702428176463517.\u001b[0m\n",
      "\u001b[32m[I 2022-04-17 07:39:17,758]\u001b[0m Trial 166 finished with value: 0.8691930119806066 and parameters: {'exp16v6AugMixNew4_fold1.pbz2': 2.5630862637427247, 'exp16v6AugMixNew4_fold1_tta.pbz2': 1.6998065023887037, 'exp16v6AugmixB3_fold1.pbz2': 0.0017890715304027457, 'exp16v6AugmixB4Step2_fold1.pbz2': 0.188865892349579, 'exp16v6AugmixB4Step2_fold1_remove_background.pbz2': 1.2964474301399147, 'exp16v6AugmixB4_fold1.pbz2': 0.2412710804163541, 'exp21b6_fold1_remove_background.pbz2': 1.1958070419895446}. Best is trial 41 with value: 0.8702428176463517.\u001b[0m\n",
      "\u001b[32m[I 2022-04-17 07:39:18,917]\u001b[0m Trial 167 finished with value: 0.8697399527186761 and parameters: {'exp16v6AugMixNew4_fold1.pbz2': 2.803149980091695, 'exp16v6AugMixNew4_fold1_tta.pbz2': 1.4908688562970838, 'exp16v6AugmixB3_fold1.pbz2': 0.17859943916583743, 'exp16v6AugmixB4Step2_fold1.pbz2': 0.4369060897146069, 'exp16v6AugmixB4Step2_fold1_remove_background.pbz2': 1.1825478090796293, 'exp16v6AugmixB4_fold1.pbz2': 0.5374699156144391, 'exp21b6_fold1_remove_background.pbz2': 1.333720081543702}. Best is trial 41 with value: 0.8702428176463517.\u001b[0m\n",
      "\u001b[32m[I 2022-04-17 07:39:20,081]\u001b[0m Trial 168 finished with value: 0.8657150298513444 and parameters: {'exp16v6AugMixNew4_fold1.pbz2': 2.345350059891519, 'exp16v6AugMixNew4_fold1_tta.pbz2': 1.8148611312690652, 'exp16v6AugmixB3_fold1.pbz2': 1.825805511193948, 'exp16v6AugmixB4Step2_fold1.pbz2': 0.1930187221680052, 'exp16v6AugmixB4Step2_fold1_remove_background.pbz2': 1.6877565095082354, 'exp16v6AugmixB4_fold1.pbz2': 0.6410136194655465, 'exp21b6_fold1_remove_background.pbz2': 1.0778117597956696}. Best is trial 41 with value: 0.8702428176463517.\u001b[0m\n",
      "\u001b[32m[I 2022-04-17 07:39:21,244]\u001b[0m Trial 169 finished with value: 0.868698160836639 and parameters: {'exp16v6AugMixNew4_fold1.pbz2': 2.0198085194976207, 'exp16v6AugMixNew4_fold1_tta.pbz2': 1.3834989887145972, 'exp16v6AugmixB3_fold1.pbz2': 0.08996609793103842, 'exp16v6AugmixB4Step2_fold1.pbz2': 0.8866557029722321, 'exp16v6AugmixB4Step2_fold1_remove_background.pbz2': 1.4455365039139818, 'exp16v6AugmixB4_fold1.pbz2': 0.041069136012537116, 'exp21b6_fold1_remove_background.pbz2': 0.778443548139321}. Best is trial 41 with value: 0.8702428176463517.\u001b[0m\n",
      "\u001b[32m[I 2022-04-17 07:39:22,407]\u001b[0m Trial 170 finished with value: 0.8686781263773691 and parameters: {'exp16v6AugMixNew4_fold1.pbz2': 2.6393455822324943, 'exp16v6AugMixNew4_fold1_tta.pbz2': 1.648163767469809, 'exp16v6AugmixB3_fold1.pbz2': 0.2890897914120173, 'exp16v6AugmixB4Step2_fold1.pbz2': 1.0057480927692308, 'exp16v6AugmixB4Step2_fold1_remove_background.pbz2': 1.5332431457085134, 'exp16v6AugmixB4_fold1.pbz2': 0.40020464759406316, 'exp21b6_fold1_remove_background.pbz2': 1.4604304067267322}. Best is trial 41 with value: 0.8702428176463517.\u001b[0m\n",
      "\u001b[32m[I 2022-04-17 07:39:23,565]\u001b[0m Trial 171 finished with value: 0.8677004447649959 and parameters: {'exp16v6AugMixNew4_fold1.pbz2': 2.8449928422137067, 'exp16v6AugMixNew4_fold1_tta.pbz2': 1.8533612570890876, 'exp16v6AugmixB3_fold1.pbz2': 0.1600624309924579, 'exp16v6AugmixB4Step2_fold1.pbz2': 0.5570799498380561, 'exp16v6AugmixB4Step2_fold1_remove_background.pbz2': 1.0275822309860527, 'exp16v6AugmixB4_fold1.pbz2': 0.3233838373901507, 'exp21b6_fold1_remove_background.pbz2': 2.817560723347846}. Best is trial 41 with value: 0.8702428176463517.\u001b[0m\n",
      "\u001b[32m[I 2022-04-17 07:39:24,894]\u001b[0m Trial 172 finished with value: 0.8693733221140362 and parameters: {'exp16v6AugMixNew4_fold1.pbz2': 2.8937447706536084, 'exp16v6AugMixNew4_fold1_tta.pbz2': 1.7666574355765272, 'exp16v6AugmixB3_fold1.pbz2': 0.0051465797006259575, 'exp16v6AugmixB4Step2_fold1.pbz2': 0.6389026084747126, 'exp16v6AugmixB4Step2_fold1_remove_background.pbz2': 1.336013162491133, 'exp16v6AugmixB4_fold1.pbz2': 0.17768672084833267, 'exp21b6_fold1_remove_background.pbz2': 1.3149031227547587}. Best is trial 41 with value: 0.8702428176463517.\u001b[0m\n",
      "\u001b[32m[I 2022-04-17 07:39:26,070]\u001b[0m Trial 173 finished with value: 0.8694053772488681 and parameters: {'exp16v6AugMixNew4_fold1.pbz2': 2.715892505737778, 'exp16v6AugMixNew4_fold1_tta.pbz2': 2.1204061029141013, 'exp16v6AugmixB3_fold1.pbz2': 0.14160696687628008, 'exp16v6AugmixB4Step2_fold1.pbz2': 0.7581840271395298, 'exp16v6AugmixB4Step2_fold1_remove_background.pbz2': 1.1323070604189889, 'exp16v6AugmixB4_fold1.pbz2': 0.456003406074759, 'exp21b6_fold1_remove_background.pbz2': 1.2063269473557463}. Best is trial 41 with value: 0.8702428176463517.\u001b[0m\n",
      "\u001b[32m[I 2022-04-17 07:39:27,244]\u001b[0m Trial 174 finished with value: 0.8676403413871859 and parameters: {'exp16v6AugMixNew4_fold1.pbz2': 2.9956170502407287, 'exp16v6AugMixNew4_fold1_tta.pbz2': 2.0388111858708617, 'exp16v6AugmixB3_fold1.pbz2': 0.08098436294100615, 'exp16v6AugmixB4Step2_fold1.pbz2': 2.7606852515813842, 'exp16v6AugmixB4Step2_fold1_remove_background.pbz2': 1.2630062308929084, 'exp16v6AugmixB4_fold1.pbz2': 0.00427575448707318, 'exp21b6_fold1_remove_background.pbz2': 1.1004744273874003}. Best is trial 41 with value: 0.8702428176463517.\u001b[0m\n",
      "\u001b[32m[I 2022-04-17 07:39:28,409]\u001b[0m Trial 175 finished with value: 0.8702007452818848 and parameters: {'exp16v6AugMixNew4_fold1.pbz2': 2.4835793827651917, 'exp16v6AugMixNew4_fold1_tta.pbz2': 1.5415329488072327, 'exp16v6AugmixB3_fold1.pbz2': 0.20733869472172814, 'exp16v6AugmixB4Step2_fold1.pbz2': 0.5353896260149456, 'exp16v6AugmixB4Step2_fold1_remove_background.pbz2': 0.9591075409397976, 'exp16v6AugmixB4_fold1.pbz2': 0.7087021866415595, 'exp21b6_fold1_remove_background.pbz2': 0.982111452201808}. Best is trial 41 with value: 0.8702428176463517.\u001b[0m\n",
      "\u001b[32m[I 2022-04-17 07:39:29,573]\u001b[0m Trial 176 finished with value: 0.8699382938654485 and parameters: {'exp16v6AugMixNew4_fold1.pbz2': 2.4619514168109746, 'exp16v6AugMixNew4_fold1_tta.pbz2': 1.547771646057367, 'exp16v6AugmixB3_fold1.pbz2': 0.23169888682951703, 'exp16v6AugmixB4Step2_fold1.pbz2': 0.4482101269884609, 'exp16v6AugmixB4Step2_fold1_remove_background.pbz2': 0.9434703037031386, 'exp16v6AugmixB4_fold1.pbz2': 0.7550585904370032, 'exp21b6_fold1_remove_background.pbz2': 0.8964083011086291}. Best is trial 41 with value: 0.8702428176463517.\u001b[0m\n",
      "\u001b[32m[I 2022-04-17 07:39:30,745]\u001b[0m Trial 177 finished with value: 0.8697820250831431 and parameters: {'exp16v6AugMixNew4_fold1.pbz2': 2.563571228221474, 'exp16v6AugMixNew4_fold1_tta.pbz2': 1.339006310992815, 'exp16v6AugmixB3_fold1.pbz2': 0.21287178862161876, 'exp16v6AugmixB4Step2_fold1.pbz2': 0.2729758866027875, 'exp16v6AugmixB4Step2_fold1_remove_background.pbz2': 0.9410219441077822, 'exp16v6AugmixB4_fold1.pbz2': 0.6998587209570042, 'exp21b6_fold1_remove_background.pbz2': 1.0057634828716404}. Best is trial 41 with value: 0.8702428176463517.\u001b[0m\n",
      "\u001b[32m[I 2022-04-17 07:39:31,914]\u001b[0m Trial 178 finished with value: 0.8698441319068797 and parameters: {'exp16v6AugMixNew4_fold1.pbz2': 2.4691617454410286, 'exp16v6AugMixNew4_fold1_tta.pbz2': 1.6235325160225702, 'exp16v6AugmixB3_fold1.pbz2': 0.3474302140936396, 'exp16v6AugmixB4Step2_fold1.pbz2': 0.3639287118222003, 'exp16v6AugmixB4Step2_fold1_remove_background.pbz2': 1.0801276180501704, 'exp16v6AugmixB4_fold1.pbz2': 0.7995899491823824, 'exp21b6_fold1_remove_background.pbz2': 0.8604684292032604}. Best is trial 41 with value: 0.8702428176463517.\u001b[0m\n",
      "\u001b[32m[I 2022-04-17 07:39:33,087]\u001b[0m Trial 179 finished with value: 0.869401370357014 and parameters: {'exp16v6AugMixNew4_fold1.pbz2': 2.4525039791034025, 'exp16v6AugMixNew4_fold1_tta.pbz2': 1.5851352643894772, 'exp16v6AugmixB3_fold1.pbz2': 0.3085758202516482, 'exp16v6AugmixB4Step2_fold1.pbz2': 0.3401904034334555, 'exp16v6AugmixB4Step2_fold1_remove_background.pbz2': 1.0527641344439929, 'exp16v6AugmixB4_fold1.pbz2': 0.6110643839372882, 'exp21b6_fold1_remove_background.pbz2': 0.6149083665745398}. Best is trial 41 with value: 0.8702428176463517.\u001b[0m\n"
     ]
    },
    {
     "name": "stderr",
     "output_type": "stream",
     "text": [
      "\u001b[32m[I 2022-04-17 07:39:34,248]\u001b[0m Trial 180 finished with value: 0.8696718355571583 and parameters: {'exp16v6AugMixNew4_fold1.pbz2': 2.493638732916819, 'exp16v6AugMixNew4_fold1_tta.pbz2': 1.434371872124933, 'exp16v6AugmixB3_fold1.pbz2': 0.35853374893602874, 'exp16v6AugmixB4Step2_fold1.pbz2': 0.4386933930103558, 'exp16v6AugmixB4Step2_fold1_remove_background.pbz2': 1.1801604480846555, 'exp16v6AugmixB4_fold1.pbz2': 0.8052498964128936, 'exp21b6_fold1_remove_background.pbz2': 0.8644488061829269}. Best is trial 41 with value: 0.8702428176463517.\u001b[0m\n",
      "\u001b[32m[I 2022-04-17 07:39:35,447]\u001b[0m Trial 181 finished with value: 0.8700945626477541 and parameters: {'exp16v6AugMixNew4_fold1.pbz2': 2.6394429698982775, 'exp16v6AugMixNew4_fold1_tta.pbz2': 1.7156230149429974, 'exp16v6AugmixB3_fold1.pbz2': 0.0036232959813962034, 'exp16v6AugmixB4Step2_fold1.pbz2': 0.5015695147148571, 'exp16v6AugmixB4Step2_fold1_remove_background.pbz2': 1.0784799772276097, 'exp16v6AugmixB4_fold1.pbz2': 0.8055099294588935, 'exp21b6_fold1_remove_background.pbz2': 1.1364691742815758}. Best is trial 41 with value: 0.8702428176463517.\u001b[0m\n",
      "\u001b[32m[I 2022-04-17 07:39:36,641]\u001b[0m Trial 182 finished with value: 0.8699543214328644 and parameters: {'exp16v6AugMixNew4_fold1.pbz2': 2.3232675363242814, 'exp16v6AugMixNew4_fold1_tta.pbz2': 1.6970443923053509, 'exp16v6AugmixB3_fold1.pbz2': 0.20815824577625158, 'exp16v6AugmixB4Step2_fold1.pbz2': 0.4081466947877821, 'exp16v6AugmixB4Step2_fold1_remove_background.pbz2': 1.0661413198445997, 'exp16v6AugmixB4_fold1.pbz2': 0.7776155085953658, 'exp21b6_fold1_remove_background.pbz2': 1.125865682190947}. Best is trial 41 with value: 0.8702428176463517.\u001b[0m\n",
      "\u001b[32m[I 2022-04-17 07:39:37,811]\u001b[0m Trial 183 finished with value: 0.8699282766358136 and parameters: {'exp16v6AugMixNew4_fold1.pbz2': 2.6129239875946086, 'exp16v6AugMixNew4_fold1_tta.pbz2': 1.741044247139915, 'exp16v6AugmixB3_fold1.pbz2': 0.24080352203206778, 'exp16v6AugmixB4Step2_fold1.pbz2': 0.528763745285221, 'exp16v6AugmixB4Step2_fold1_remove_background.pbz2': 0.9967852573075513, 'exp16v6AugmixB4_fold1.pbz2': 0.7365950068464441, 'exp21b6_fold1_remove_background.pbz2': 1.0992398765117164}. Best is trial 41 with value: 0.8702428176463517.\u001b[0m\n",
      "\u001b[32m[I 2022-04-17 07:39:38,974]\u001b[0m Trial 184 finished with value: 0.8699102456224705 and parameters: {'exp16v6AugMixNew4_fold1.pbz2': 2.301430853719717, 'exp16v6AugMixNew4_fold1_tta.pbz2': 1.712516188868165, 'exp16v6AugmixB3_fold1.pbz2': 0.23228928821706404, 'exp16v6AugmixB4Step2_fold1.pbz2': 0.49391150025965225, 'exp16v6AugmixB4Step2_fold1_remove_background.pbz2': 1.0013901133368703, 'exp16v6AugmixB4_fold1.pbz2': 0.8518849723718678, 'exp21b6_fold1_remove_background.pbz2': 1.049714523683452}. Best is trial 41 with value: 0.8702428176463517.\u001b[0m\n",
      "\u001b[32m[I 2022-04-17 07:39:40,138]\u001b[0m Trial 185 finished with value: 0.8697439596105302 and parameters: {'exp16v6AugMixNew4_fold1.pbz2': 2.4069954203653197, 'exp16v6AugMixNew4_fold1_tta.pbz2': 1.5312075764637743, 'exp16v6AugmixB3_fold1.pbz2': 0.21351162799398912, 'exp16v6AugmixB4Step2_fold1.pbz2': 0.22214830681799888, 'exp16v6AugmixB4Step2_fold1_remove_background.pbz2': 0.9356331074497205, 'exp16v6AugmixB4_fold1.pbz2': 0.6988445227133693, 'exp21b6_fold1_remove_background.pbz2': 1.1347807990096936}. Best is trial 41 with value: 0.8702428176463517.\u001b[0m\n",
      "\u001b[32m[I 2022-04-17 07:39:41,302]\u001b[0m Trial 186 finished with value: 0.8675722242256682 and parameters: {'exp16v6AugMixNew4_fold1.pbz2': 1.35318521449694, 'exp16v6AugMixNew4_fold1_tta.pbz2': 1.2360980089182576, 'exp16v6AugmixB3_fold1.pbz2': 0.09601614145197601, 'exp16v6AugmixB4Step2_fold1.pbz2': 0.41353767236696687, 'exp16v6AugmixB4Step2_fold1_remove_background.pbz2': 0.9571784730416956, 'exp16v6AugmixB4_fold1.pbz2': 0.7532386280932867, 'exp21b6_fold1_remove_background.pbz2': 0.9970275489100445}. Best is trial 41 with value: 0.8702428176463517.\u001b[0m\n",
      "\u001b[32m[I 2022-04-17 07:39:42,467]\u001b[0m Trial 187 finished with value: 0.8697359458268222 and parameters: {'exp16v6AugMixNew4_fold1.pbz2': 2.6208771789498164, 'exp16v6AugMixNew4_fold1_tta.pbz2': 1.7229345568502992, 'exp16v6AugmixB3_fold1.pbz2': 0.1774800421555561, 'exp16v6AugmixB4Step2_fold1.pbz2': 0.5005337432565342, 'exp16v6AugmixB4Step2_fold1_remove_background.pbz2': 1.1091031030363576, 'exp16v6AugmixB4_fold1.pbz2': 0.5546379408483233, 'exp21b6_fold1_remove_background.pbz2': 1.1098365809577584}. Best is trial 41 with value: 0.8702428176463517.\u001b[0m\n",
      "\u001b[32m[I 2022-04-17 07:39:43,644]\u001b[0m Trial 188 finished with value: 0.8698321112313179 and parameters: {'exp16v6AugMixNew4_fold1.pbz2': 2.5339630515599474, 'exp16v6AugMixNew4_fold1_tta.pbz2': 1.649592623300572, 'exp16v6AugmixB3_fold1.pbz2': 0.07772454640452725, 'exp16v6AugmixB4Step2_fold1.pbz2': 0.6222685077291294, 'exp16v6AugmixB4Step2_fold1_remove_background.pbz2': 1.2016369347338745, 'exp16v6AugmixB4_fold1.pbz2': 0.7451284743546782, 'exp21b6_fold1_remove_background.pbz2': 1.1774405146239517}. Best is trial 41 with value: 0.8702428176463517.\u001b[0m\n",
      "\u001b[32m[I 2022-04-17 07:39:44,802]\u001b[0m Trial 189 finished with value: 0.8697519733942382 and parameters: {'exp16v6AugMixNew4_fold1.pbz2': 2.3725839825374004, 'exp16v6AugMixNew4_fold1_tta.pbz2': 1.4863059899155004, 'exp16v6AugmixB3_fold1.pbz2': 0.2547477791714556, 'exp16v6AugmixB4Step2_fold1.pbz2': 0.25009686000304737, 'exp16v6AugmixB4Step2_fold1_remove_background.pbz2': 1.0329703128186318, 'exp16v6AugmixB4_fold1.pbz2': 0.51514986845826, 'exp21b6_fold1_remove_background.pbz2': 0.9361414345403767}. Best is trial 41 with value: 0.8702428176463517.\u001b[0m\n",
      "\u001b[32m[I 2022-04-17 07:39:45,992]\u001b[0m Trial 190 finished with value: 0.8697579837320191 and parameters: {'exp16v6AugMixNew4_fold1.pbz2': 2.684368814048337, 'exp16v6AugMixNew4_fold1_tta.pbz2': 1.7740248458768302, 'exp16v6AugmixB3_fold1.pbz2': 0.15681704131425978, 'exp16v6AugmixB4Step2_fold1.pbz2': 0.5062836696107903, 'exp16v6AugmixB4Step2_fold1_remove_background.pbz2': 0.8708261202936411, 'exp16v6AugmixB4_fold1.pbz2': 0.8536178465915425, 'exp21b6_fold1_remove_background.pbz2': 1.1413590289569158}. Best is trial 41 with value: 0.8702428176463517.\u001b[0m\n",
      "\u001b[32m[I 2022-04-17 07:39:47,152]\u001b[0m Trial 191 finished with value: 0.8704071002123653 and parameters: {'exp16v6AugMixNew4_fold1.pbz2': 2.331027528702219, 'exp16v6AugMixNew4_fold1_tta.pbz2': 1.7127412798725374, 'exp16v6AugmixB3_fold1.pbz2': 0.07509499855191491, 'exp16v6AugmixB4Step2_fold1.pbz2': 0.49769594058408595, 'exp16v6AugmixB4Step2_fold1_remove_background.pbz2': 1.0295618147224392, 'exp16v6AugmixB4_fold1.pbz2': 0.7877368745171532, 'exp21b6_fold1_remove_background.pbz2': 1.0388361272092996}. Best is trial 191 with value: 0.8704071002123653.\u001b[0m\n",
      "\u001b[32m[I 2022-04-17 07:39:48,318]\u001b[0m Trial 192 finished with value: 0.8702768762271107 and parameters: {'exp16v6AugMixNew4_fold1.pbz2': 2.3002544951594177, 'exp16v6AugMixNew4_fold1_tta.pbz2': 1.5958528004826678, 'exp16v6AugmixB3_fold1.pbz2': 0.06665020318468666, 'exp16v6AugmixB4Step2_fold1.pbz2': 0.32720195455970325, 'exp16v6AugmixB4Step2_fold1_remove_background.pbz2': 1.1121420030874796, 'exp16v6AugmixB4_fold1.pbz2': 0.6186309989462521, 'exp21b6_fold1_remove_background.pbz2': 1.0306657405968362}. Best is trial 191 with value: 0.8704071002123653.\u001b[0m\n",
      "\u001b[32m[I 2022-04-17 07:39:49,480]\u001b[0m Trial 193 finished with value: 0.8701326281203671 and parameters: {'exp16v6AugMixNew4_fold1.pbz2': 2.432799066197365, 'exp16v6AugMixNew4_fold1_tta.pbz2': 1.6658920654477778, 'exp16v6AugmixB3_fold1.pbz2': 0.08793094371629978, 'exp16v6AugmixB4Step2_fold1.pbz2': 0.31694195915574686, 'exp16v6AugmixB4Step2_fold1_remove_background.pbz2': 1.1219202751567081, 'exp16v6AugmixB4_fold1.pbz2': 0.603524180906285, 'exp21b6_fold1_remove_background.pbz2': 1.0093992254242492}. Best is trial 191 with value: 0.8704071002123653.\u001b[0m\n",
      "\u001b[32m[I 2022-04-17 07:39:50,647]\u001b[0m Trial 194 finished with value: 0.8698000560964859 and parameters: {'exp16v6AugMixNew4_fold1.pbz2': 2.3255061725244404, 'exp16v6AugMixNew4_fold1_tta.pbz2': 1.798481850203821, 'exp16v6AugmixB3_fold1.pbz2': 0.11780323975981837, 'exp16v6AugmixB4Step2_fold1.pbz2': 0.287431914774985, 'exp16v6AugmixB4Step2_fold1_remove_background.pbz2': 1.1057079862632897, 'exp16v6AugmixB4_fold1.pbz2': 0.6170383992292404, 'exp21b6_fold1_remove_background.pbz2': 1.0213297726073471}. Best is trial 191 with value: 0.8704071002123653.\u001b[0m\n"
     ]
    },
    {
     "name": "stderr",
     "output_type": "stream",
     "text": [
      "\u001b[32m[I 2022-04-17 07:39:51,808]\u001b[0m Trial 195 finished with value: 0.8692130464398766 and parameters: {'exp16v6AugMixNew4_fold1.pbz2': 2.4200749028116837, 'exp16v6AugMixNew4_fold1_tta.pbz2': 1.6014628229755865, 'exp16v6AugmixB3_fold1.pbz2': 0.2557831099031489, 'exp16v6AugmixB4Step2_fold1.pbz2': 0.1598327722546653, 'exp16v6AugmixB4Step2_fold1_remove_background.pbz2': 0.9981306662828754, 'exp16v6AugmixB4_fold1.pbz2': 0.7392349624563649, 'exp21b6_fold1_remove_background.pbz2': 0.7944462275825488}. Best is trial 191 with value: 0.8704071002123653.\u001b[0m\n",
      "\u001b[32m[I 2022-04-17 07:39:53,105]\u001b[0m Trial 196 finished with value: 0.8691228913731619 and parameters: {'exp16v6AugMixNew4_fold1.pbz2': 2.5257344772630708, 'exp16v6AugMixNew4_fold1_tta.pbz2': 1.7078914266397882, 'exp16v6AugmixB3_fold1.pbz2': 0.08180010802054889, 'exp16v6AugmixB4Step2_fold1.pbz2': 0.33526494486468117, 'exp16v6AugmixB4Step2_fold1_remove_background.pbz2': 0.9220281189846026, 'exp16v6AugmixB4_fold1.pbz2': 0.6249080371625937, 'exp21b6_fold1_remove_background.pbz2': 0.8828036847024946}. Best is trial 191 with value: 0.8704071002123653.\u001b[0m\n",
      "\u001b[32m[I 2022-04-17 07:39:54,272]\u001b[0m Trial 197 finished with value: 0.8645510277677606 and parameters: {'exp16v6AugMixNew4_fold1.pbz2': 2.322158221138106, 'exp16v6AugMixNew4_fold1_tta.pbz2': 1.3913042919541299, 'exp16v6AugmixB3_fold1.pbz2': 0.17888459718173766, 'exp16v6AugmixB4Step2_fold1.pbz2': 0.7325473191290657, 'exp16v6AugmixB4Step2_fold1_remove_background.pbz2': 1.1681418263978491, 'exp16v6AugmixB4_fold1.pbz2': 2.3702799993621335, 'exp21b6_fold1_remove_background.pbz2': 1.0272727442678802}. Best is trial 191 with value: 0.8704071002123653.\u001b[0m\n",
      "\u001b[32m[I 2022-04-17 07:39:55,439]\u001b[0m Trial 198 finished with value: 0.868720198741836 and parameters: {'exp16v6AugMixNew4_fold1.pbz2': 2.603285762787565, 'exp16v6AugMixNew4_fold1_tta.pbz2': 1.8774498542064222, 'exp16v6AugmixB3_fold1.pbz2': 0.38698977140155977, 'exp16v6AugmixB4Step2_fold1.pbz2': 0.06261893490374637, 'exp16v6AugmixB4Step2_fold1_remove_background.pbz2': 1.1289799695220761, 'exp16v6AugmixB4_fold1.pbz2': 0.6842858743311167, 'exp21b6_fold1_remove_background.pbz2': 0.933466031513684}. Best is trial 191 with value: 0.8704071002123653.\u001b[0m\n",
      "\u001b[32m[I 2022-04-17 07:39:56,641]\u001b[0m Trial 199 finished with value: 0.8695456184637576 and parameters: {'exp16v6AugMixNew4_fold1.pbz2': 2.1266834441459697, 'exp16v6AugMixNew4_fold1_tta.pbz2': 1.4845785526253037, 'exp16v6AugmixB3_fold1.pbz2': 0.2845267703302122, 'exp16v6AugmixB4Step2_fold1.pbz2': 0.5382908578494057, 'exp16v6AugmixB4Step2_fold1_remove_background.pbz2': 1.0713097240941951, 'exp16v6AugmixB4_fold1.pbz2': 0.8128001089809715, 'exp21b6_fold1_remove_background.pbz2': 1.0664279715348455}. Best is trial 191 with value: 0.8704071002123653.\u001b[0m\n",
      "\u001b[32m[I 2022-04-17 07:39:57,806]\u001b[0m Trial 200 finished with value: 0.86980406298834 and parameters: {'exp16v6AugMixNew4_fold1.pbz2': 2.5265547549150305, 'exp16v6AugMixNew4_fold1_tta.pbz2': 1.6253527531177014, 'exp16v6AugmixB3_fold1.pbz2': 0.07391643752655676, 'exp16v6AugmixB4Step2_fold1.pbz2': 0.42849492455967725, 'exp16v6AugmixB4Step2_fold1_remove_background.pbz2': 0.9785838539576797, 'exp16v6AugmixB4_fold1.pbz2': 0.9773337541072241, 'exp21b6_fold1_remove_background.pbz2': 0.7728690709121}. Best is trial 191 with value: 0.8704071002123653.\u001b[0m\n",
      "\u001b[32m[I 2022-04-17 07:39:58,973]\u001b[0m Trial 201 finished with value: 0.8700785350803382 and parameters: {'exp16v6AugMixNew4_fold1.pbz2': 2.44911423654928, 'exp16v6AugMixNew4_fold1_tta.pbz2': 1.693256887794039, 'exp16v6AugmixB3_fold1.pbz2': 0.06790572126605182, 'exp16v6AugmixB4Step2_fold1.pbz2': 0.6420631271544931, 'exp16v6AugmixB4Step2_fold1_remove_background.pbz2': 1.2767466826160518, 'exp16v6AugmixB4_fold1.pbz2': 0.4695014139925547, 'exp21b6_fold1_remove_background.pbz2': 1.190368051936256}. Best is trial 191 with value: 0.8704071002123653.\u001b[0m\n",
      "\u001b[32m[I 2022-04-17 07:40:00,135]\u001b[0m Trial 202 finished with value: 0.8701186039988781 and parameters: {'exp16v6AugMixNew4_fold1.pbz2': 2.4481940761495973, 'exp16v6AugMixNew4_fold1_tta.pbz2': 1.7459547921879133, 'exp16v6AugmixB3_fold1.pbz2': 0.12988257572411385, 'exp16v6AugmixB4Step2_fold1.pbz2': 0.8121303459009787, 'exp16v6AugmixB4Step2_fold1_remove_background.pbz2': 1.2300375844238005, 'exp16v6AugmixB4_fold1.pbz2': 0.5118760428351221, 'exp21b6_fold1_remove_background.pbz2': 0.9892282270167629}. Best is trial 191 with value: 0.8704071002123653.\u001b[0m\n",
      "\u001b[32m[I 2022-04-17 07:40:01,308]\u001b[0m Trial 203 finished with value: 0.8700044075810394 and parameters: {'exp16v6AugMixNew4_fold1.pbz2': 2.435749632058852, 'exp16v6AugMixNew4_fold1_tta.pbz2': 1.8091591131202773, 'exp16v6AugmixB3_fold1.pbz2': 0.08129516805127769, 'exp16v6AugmixB4Step2_fold1.pbz2': 0.8622191471895922, 'exp16v6AugmixB4Step2_fold1_remove_background.pbz2': 1.274507930043539, 'exp16v6AugmixB4_fold1.pbz2': 0.4835941663639169, 'exp21b6_fold1_remove_background.pbz2': 0.9806236532481443}. Best is trial 191 with value: 0.8704071002123653.\u001b[0m\n",
      "\u001b[32m[I 2022-04-17 07:40:02,474]\u001b[0m Trial 204 finished with value: 0.8698701767039307 and parameters: {'exp16v6AugMixNew4_fold1.pbz2': 2.2244666387467262, 'exp16v6AugMixNew4_fold1_tta.pbz2': 1.8100333077184982, 'exp16v6AugmixB3_fold1.pbz2': 0.09993671448124171, 'exp16v6AugmixB4Step2_fold1.pbz2': 0.7872399870947704, 'exp16v6AugmixB4Step2_fold1_remove_background.pbz2': 1.2295098848144799, 'exp16v6AugmixB4_fold1.pbz2': 0.45285301277661744, 'exp21b6_fold1_remove_background.pbz2': 0.9985368734212631}. Best is trial 191 with value: 0.8704071002123653.\u001b[0m\n",
      "\u001b[32m[I 2022-04-17 07:40:03,640]\u001b[0m Trial 205 finished with value: 0.8696377769763993 and parameters: {'exp16v6AugMixNew4_fold1.pbz2': 2.360056306557435, 'exp16v6AugMixNew4_fold1_tta.pbz2': 1.9239060509667385, 'exp16v6AugmixB3_fold1.pbz2': 0.07179330080888596, 'exp16v6AugmixB4Step2_fold1.pbz2': 0.855472946226196, 'exp16v6AugmixB4Step2_fold1_remove_background.pbz2': 1.2943818549229629, 'exp16v6AugmixB4_fold1.pbz2': 0.4968844799143083, 'exp21b6_fold1_remove_background.pbz2': 1.2081982600882815}. Best is trial 191 with value: 0.8704071002123653.\u001b[0m\n",
      "\u001b[32m[I 2022-04-17 07:40:04,816]\u001b[0m Trial 206 finished with value: 0.8677304964539008 and parameters: {'exp16v6AugMixNew4_fold1.pbz2': 2.421039222581708, 'exp16v6AugMixNew4_fold1_tta.pbz2': 1.681586628873751, 'exp16v6AugmixB3_fold1.pbz2': 0.0027005377315551665, 'exp16v6AugmixB4Step2_fold1.pbz2': 0.8248546608968758, 'exp16v6AugmixB4Step2_fold1_remove_background.pbz2': 1.2947576523404882, 'exp16v6AugmixB4_fold1.pbz2': 0.5625756962761745, 'exp21b6_fold1_remove_background.pbz2': 2.387168586810424}. Best is trial 191 with value: 0.8704071002123653.\u001b[0m\n",
      "\u001b[32m[I 2022-04-17 07:40:05,978]\u001b[0m Trial 207 finished with value: 0.8607404736146171 and parameters: {'exp16v6AugMixNew4_fold1.pbz2': 2.2904252430030803, 'exp16v6AugMixNew4_fold1_tta.pbz2': 1.8354695727464656, 'exp16v6AugmixB3_fold1.pbz2': 3.247444787975425, 'exp16v6AugmixB4Step2_fold1.pbz2': 0.6882432575470796, 'exp16v6AugmixB4Step2_fold1_remove_background.pbz2': 1.1987019392275908, 'exp16v6AugmixB4_fold1.pbz2': 0.5487325439479548, 'exp21b6_fold1_remove_background.pbz2': 0.9995657634120798}. Best is trial 191 with value: 0.8704071002123653.\u001b[0m\n",
      "\u001b[32m[I 2022-04-17 07:40:07,199]\u001b[0m Trial 208 finished with value: 0.8696698321112314 and parameters: {'exp16v6AugMixNew4_fold1.pbz2': 2.407871417801851, 'exp16v6AugMixNew4_fold1_tta.pbz2': 1.7439670206187887, 'exp16v6AugmixB3_fold1.pbz2': 0.13302519229987816, 'exp16v6AugmixB4Step2_fold1.pbz2': 0.7103412156838349, 'exp16v6AugmixB4Step2_fold1_remove_background.pbz2': 1.3364269312519532, 'exp16v6AugmixB4_fold1.pbz2': 0.3992014477955238, 'exp21b6_fold1_remove_background.pbz2': 1.1231395848267527}. Best is trial 191 with value: 0.8704071002123653.\u001b[0m\n",
      "\u001b[32m[I 2022-04-17 07:40:08,392]\u001b[0m Trial 209 finished with value: 0.8601274191609567 and parameters: {'exp16v6AugMixNew4_fold1.pbz2': 2.183115932854821, 'exp16v6AugMixNew4_fold1_tta.pbz2': 2.0012160839725848, 'exp16v6AugmixB3_fold1.pbz2': 0.15600684889150823, 'exp16v6AugmixB4Step2_fold1.pbz2': 0.9213090906297321, 'exp16v6AugmixB4Step2_fold1_remove_background.pbz2': 3.6116620252032963, 'exp16v6AugmixB4_fold1.pbz2': 0.416063705980172, 'exp21b6_fold1_remove_background.pbz2': 1.2249296342039389}. Best is trial 191 with value: 0.8704071002123653.\u001b[0m\n"
     ]
    },
    {
     "name": "stderr",
     "output_type": "stream",
     "text": [
      "\u001b[32m[I 2022-04-17 07:40:09,565]\u001b[0m Trial 210 finished with value: 0.8671174420002403 and parameters: {'exp16v6AugMixNew4_fold1.pbz2': 2.485490437974025, 'exp16v6AugMixNew4_fold1_tta.pbz2': 1.6395451997289097, 'exp16v6AugmixB3_fold1.pbz2': 1.4630599318115687, 'exp16v6AugmixB4Step2_fold1.pbz2': 0.7919493452678434, 'exp16v6AugmixB4Step2_fold1_remove_background.pbz2': 1.1634901433804448, 'exp16v6AugmixB4_fold1.pbz2': 0.479945168716592, 'exp21b6_fold1_remove_background.pbz2': 0.9608867799670482}. Best is trial 191 with value: 0.8704071002123653.\u001b[0m\n",
      "\u001b[32m[I 2022-04-17 07:40:10,729]\u001b[0m Trial 211 finished with value: 0.8699162559602516 and parameters: {'exp16v6AugMixNew4_fold1.pbz2': 2.4733226568237914, 'exp16v6AugMixNew4_fold1_tta.pbz2': 1.5706164591421068, 'exp16v6AugmixB3_fold1.pbz2': 0.07726852408101503, 'exp16v6AugmixB4Step2_fold1.pbz2': 0.3533846292539134, 'exp16v6AugmixB4Step2_fold1_remove_background.pbz2': 1.061735068235126, 'exp16v6AugmixB4_fold1.pbz2': 0.6178268221328637, 'exp21b6_fold1_remove_background.pbz2': 0.8860080330095758}. Best is trial 191 with value: 0.8704071002123653.\u001b[0m\n",
      "\u001b[32m[I 2022-04-17 07:40:11,908]\u001b[0m Trial 212 finished with value: 0.8687642745522298 and parameters: {'exp16v6AugMixNew4_fold1.pbz2': 2.300458407644882, 'exp16v6AugMixNew4_fold1_tta.pbz2': 1.5277699212830633, 'exp16v6AugmixB3_fold1.pbz2': 0.1851618449906067, 'exp16v6AugmixB4Step2_fold1.pbz2': 0.9009509487389102, 'exp16v6AugmixB4Step2_fold1_remove_background.pbz2': 1.2631427421390773, 'exp16v6AugmixB4_fold1.pbz2': 0.6969595250480372, 'exp21b6_fold1_remove_background.pbz2': 1.0611428472385245}. Best is trial 191 with value: 0.8704071002123653.\u001b[0m\n",
      "\u001b[32m[I 2022-04-17 07:40:13,077]\u001b[0m Trial 213 finished with value: 0.8680750891533437 and parameters: {'exp16v6AugMixNew4_fold1.pbz2': 2.5769991817166957, 'exp16v6AugMixNew4_fold1_tta.pbz2': 2.944787326553614, 'exp16v6AugmixB3_fold1.pbz2': 0.003440751264964223, 'exp16v6AugmixB4Step2_fold1.pbz2': 0.6478784161827038, 'exp16v6AugmixB4Step2_fold1_remove_background.pbz2': 1.1267482683007541, 'exp16v6AugmixB4_fold1.pbz2': 0.9096260957128158, 'exp21b6_fold1_remove_background.pbz2': 0.9389419141936727}. Best is trial 191 with value: 0.8704071002123653.\u001b[0m\n",
      "\u001b[32m[I 2022-04-17 07:40:14,239]\u001b[0m Trial 214 finished with value: 0.8685839644188004 and parameters: {'exp16v6AugMixNew4_fold1.pbz2': 2.4246789265259463, 'exp16v6AugMixNew4_fold1_tta.pbz2': 1.4494362593361, 'exp16v6AugmixB3_fold1.pbz2': 0.16218817607882385, 'exp16v6AugmixB4Step2_fold1.pbz2': 1.129806368373842, 'exp16v6AugmixB4Step2_fold1_remove_background.pbz2': 1.2051674514241386, 'exp16v6AugmixB4_fold1.pbz2': 0.5813297383491492, 'exp21b6_fold1_remove_background.pbz2': 0.864997284684845}. Best is trial 191 with value: 0.8704071002123653.\u001b[0m\n",
      "\u001b[32m[I 2022-04-17 07:40:15,429]\u001b[0m Trial 215 finished with value: 0.86947750130224 and parameters: {'exp16v6AugMixNew4_fold1.pbz2': 2.243224842286888, 'exp16v6AugMixNew4_fold1_tta.pbz2': 1.3227962178116552, 'exp16v6AugmixB3_fold1.pbz2': 0.07622644045863738, 'exp16v6AugmixB4Step2_fold1.pbz2': 0.4145686747893975, 'exp16v6AugmixB4Step2_fold1_remove_background.pbz2': 0.8756618590742098, 'exp16v6AugmixB4_fold1.pbz2': 0.3714944978568202, 'exp21b6_fold1_remove_background.pbz2': 1.1370713087785649}. Best is trial 191 with value: 0.8704071002123653.\u001b[0m\n",
      "\u001b[32m[I 2022-04-17 07:40:16,597]\u001b[0m Trial 216 finished with value: 0.8700945626477541 and parameters: {'exp16v6AugMixNew4_fold1.pbz2': 2.6802051722898774, 'exp16v6AugMixNew4_fold1_tta.pbz2': 1.6785053493652362, 'exp16v6AugmixB3_fold1.pbz2': 0.2011598508521761, 'exp16v6AugmixB4Step2_fold1.pbz2': 0.6005687400474866, 'exp16v6AugmixB4Step2_fold1_remove_background.pbz2': 1.3568051996978654, 'exp16v6AugmixB4_fold1.pbz2': 0.49626379284603706, 'exp21b6_fold1_remove_background.pbz2': 1.317983507769368}. Best is trial 191 with value: 0.8704071002123653.\u001b[0m\n",
      "\u001b[32m[I 2022-04-17 07:40:17,780]\u001b[0m Trial 217 finished with value: 0.8704050967664382 and parameters: {'exp16v6AugMixNew4_fold1.pbz2': 2.6971594648608064, 'exp16v6AugMixNew4_fold1_tta.pbz2': 1.820992777939568, 'exp16v6AugmixB3_fold1.pbz2': 0.06994622858200185, 'exp16v6AugmixB4Step2_fold1.pbz2': 0.5832312491401372, 'exp16v6AugmixB4Step2_fold1_remove_background.pbz2': 1.3715277928959981, 'exp16v6AugmixB4_fold1.pbz2': 0.5259693472324256, 'exp21b6_fold1_remove_background.pbz2': 1.302725277530874}. Best is trial 191 with value: 0.8704071002123653.\u001b[0m\n",
      "\u001b[32m[I 2022-04-17 07:40:18,941]\u001b[0m Trial 218 finished with value: 0.8703189485915775 and parameters: {'exp16v6AugMixNew4_fold1.pbz2': 2.6879716145750003, 'exp16v6AugMixNew4_fold1_tta.pbz2': 1.7956405517738183, 'exp16v6AugmixB3_fold1.pbz2': 0.08488728983651052, 'exp16v6AugmixB4Step2_fold1.pbz2': 0.5918709337776046, 'exp16v6AugmixB4Step2_fold1_remove_background.pbz2': 1.322161736331099, 'exp16v6AugmixB4_fold1.pbz2': 0.4925212361454834, 'exp21b6_fold1_remove_background.pbz2': 1.321446123823554}. Best is trial 191 with value: 0.8704071002123653.\u001b[0m\n",
      "\u001b[32m[I 2022-04-17 07:40:20,236]\u001b[0m Trial 219 finished with value: 0.8703690347397525 and parameters: {'exp16v6AugMixNew4_fold1.pbz2': 2.6880118925131797, 'exp16v6AugMixNew4_fold1_tta.pbz2': 1.8913141451317288, 'exp16v6AugmixB3_fold1.pbz2': 0.07961374659405784, 'exp16v6AugmixB4Step2_fold1.pbz2': 0.6010465588412315, 'exp16v6AugmixB4Step2_fold1_remove_background.pbz2': 1.3916574454501534, 'exp16v6AugmixB4_fold1.pbz2': 0.5022376197990639, 'exp21b6_fold1_remove_background.pbz2': 1.315679233836066}. Best is trial 191 with value: 0.8704071002123653.\u001b[0m\n",
      "\u001b[32m[I 2022-04-17 07:40:21,400]\u001b[0m Trial 220 finished with value: 0.8700685178507033 and parameters: {'exp16v6AugMixNew4_fold1.pbz2': 2.754958477389233, 'exp16v6AugMixNew4_fold1_tta.pbz2': 1.8771293309141843, 'exp16v6AugmixB3_fold1.pbz2': 0.07885134919567917, 'exp16v6AugmixB4Step2_fold1.pbz2': 0.6029170629928433, 'exp16v6AugmixB4Step2_fold1_remove_background.pbz2': 1.372543724699537, 'exp16v6AugmixB4_fold1.pbz2': 0.5008476162588722, 'exp21b6_fold1_remove_background.pbz2': 1.3417322695420073}. Best is trial 191 with value: 0.8704071002123653.\u001b[0m\n",
      "\u001b[32m[I 2022-04-17 07:40:22,570]\u001b[0m Trial 221 finished with value: 0.8699723524462075 and parameters: {'exp16v6AugMixNew4_fold1.pbz2': 2.7606716351500316, 'exp16v6AugMixNew4_fold1_tta.pbz2': 1.9005881130588658, 'exp16v6AugmixB3_fold1.pbz2': 0.06449732156824795, 'exp16v6AugmixB4Step2_fold1.pbz2': 0.6243430987298002, 'exp16v6AugmixB4Step2_fold1_remove_background.pbz2': 1.375823016930951, 'exp16v6AugmixB4_fold1.pbz2': 0.4550586582565207, 'exp21b6_fold1_remove_background.pbz2': 1.3237675974728071}. Best is trial 191 with value: 0.8704071002123653.\u001b[0m\n",
      "\u001b[32m[I 2022-04-17 07:40:23,739]\u001b[0m Trial 222 finished with value: 0.8698962215009817 and parameters: {'exp16v6AugMixNew4_fold1.pbz2': 2.6806226683542764, 'exp16v6AugMixNew4_fold1_tta.pbz2': 1.8468795219347371, 'exp16v6AugmixB3_fold1.pbz2': 0.11420946920570868, 'exp16v6AugmixB4Step2_fold1.pbz2': 0.7025845001908819, 'exp16v6AugmixB4Step2_fold1_remove_background.pbz2': 1.3981646212447565, 'exp16v6AugmixB4_fold1.pbz2': 0.53021339028926, 'exp21b6_fold1_remove_background.pbz2': 1.3569544197972272}. Best is trial 191 with value: 0.8704071002123653.\u001b[0m\n",
      "\u001b[32m[I 2022-04-17 07:40:24,905]\u001b[0m Trial 223 finished with value: 0.8696437873141803 and parameters: {'exp16v6AugMixNew4_fold1.pbz2': 2.772859159394317, 'exp16v6AugMixNew4_fold1_tta.pbz2': 1.9758713467089795, 'exp16v6AugmixB3_fold1.pbz2': 0.05863812579289875, 'exp16v6AugmixB4Step2_fold1.pbz2': 0.6147323773723455, 'exp16v6AugmixB4Step2_fold1_remove_background.pbz2': 1.3292922805488978, 'exp16v6AugmixB4_fold1.pbz2': 0.4949861233867034, 'exp21b6_fold1_remove_background.pbz2': 1.2943762716201725}. Best is trial 191 with value: 0.8704071002123653.\u001b[0m\n",
      "\u001b[32m[I 2022-04-17 07:40:26,081]\u001b[0m Trial 224 finished with value: 0.8702067556196659 and parameters: {'exp16v6AugMixNew4_fold1.pbz2': 2.684467907639923, 'exp16v6AugMixNew4_fold1_tta.pbz2': 1.7943549606082516, 'exp16v6AugmixB3_fold1.pbz2': 0.0003745134559312441, 'exp16v6AugmixB4Step2_fold1.pbz2': 0.5452515414793673, 'exp16v6AugmixB4Step2_fold1_remove_background.pbz2': 1.505537621835948, 'exp16v6AugmixB4_fold1.pbz2': 0.5759783922525876, 'exp21b6_fold1_remove_background.pbz2': 1.2527847672988164}. Best is trial 191 with value: 0.8704071002123653.\u001b[0m\n"
     ]
    },
    {
     "name": "stderr",
     "output_type": "stream",
     "text": [
      "\u001b[32m[I 2022-04-17 07:40:27,249]\u001b[0m Trial 225 finished with value: 0.8703189485915774 and parameters: {'exp16v6AugMixNew4_fold1.pbz2': 2.6827576187298914, 'exp16v6AugMixNew4_fold1_tta.pbz2': 1.7910405544256642, 'exp16v6AugmixB3_fold1.pbz2': 0.13793143676648453, 'exp16v6AugmixB4Step2_fold1.pbz2': 0.5857822284708992, 'exp16v6AugmixB4Step2_fold1_remove_background.pbz2': 1.4636267918083616, 'exp16v6AugmixB4_fold1.pbz2': 0.4650242747004857, 'exp21b6_fold1_remove_background.pbz2': 1.314326437521221}. Best is trial 191 with value: 0.8704071002123653.\u001b[0m\n",
      "\u001b[32m[I 2022-04-17 07:40:28,425]\u001b[0m Trial 226 finished with value: 0.8699322835276676 and parameters: {'exp16v6AugMixNew4_fold1.pbz2': 2.666703823948184, 'exp16v6AugMixNew4_fold1_tta.pbz2': 1.8975513863773092, 'exp16v6AugmixB3_fold1.pbz2': 0.14542791417139012, 'exp16v6AugmixB4Step2_fold1.pbz2': 0.5300960272497276, 'exp16v6AugmixB4Step2_fold1_remove_background.pbz2': 1.44031394772534, 'exp16v6AugmixB4_fold1.pbz2': 0.6155620529566783, 'exp21b6_fold1_remove_background.pbz2': 1.523149580875827}. Best is trial 191 with value: 0.8704071002123653.\u001b[0m\n",
      "\u001b[32m[I 2022-04-17 07:40:29,592]\u001b[0m Trial 227 finished with value: 0.8610449973955203 and parameters: {'exp16v6AugMixNew4_fold1.pbz2': 2.718101855591337, 'exp16v6AugMixNew4_fold1_tta.pbz2': 1.78013188051186, 'exp16v6AugmixB3_fold1.pbz2': 3.5845599659494702, 'exp16v6AugmixB4Step2_fold1.pbz2': 0.5585653709820874, 'exp16v6AugmixB4Step2_fold1_remove_background.pbz2': 1.5387380826583963, 'exp16v6AugmixB4_fold1.pbz2': 0.42852642614233677, 'exp21b6_fold1_remove_background.pbz2': 1.3643159775119782}. Best is trial 191 with value: 0.8704071002123653.\u001b[0m\n",
      "\u001b[32m[I 2022-04-17 07:40:30,760]\u001b[0m Trial 228 finished with value: 0.8698741835957848 and parameters: {'exp16v6AugMixNew4_fold1.pbz2': 2.611997520386514, 'exp16v6AugMixNew4_fold1_tta.pbz2': 1.9603757614519, 'exp16v6AugmixB3_fold1.pbz2': 0.13929319102075896, 'exp16v6AugmixB4Step2_fold1.pbz2': 0.6599473927130137, 'exp16v6AugmixB4Step2_fold1_remove_background.pbz2': 1.5115422907734648, 'exp16v6AugmixB4_fold1.pbz2': 0.3355202242757085, 'exp21b6_fold1_remove_background.pbz2': 1.2630277155042158}. Best is trial 191 with value: 0.8704071002123653.\u001b[0m\n",
      "\u001b[32m[I 2022-04-17 07:40:31,961]\u001b[0m Trial 229 finished with value: 0.8700424730536522 and parameters: {'exp16v6AugMixNew4_fold1.pbz2': 2.844907194334474, 'exp16v6AugMixNew4_fold1_tta.pbz2': 1.8627909799705622, 'exp16v6AugmixB3_fold1.pbz2': 0.00012082514589187299, 'exp16v6AugmixB4Step2_fold1.pbz2': 0.7365285513849998, 'exp16v6AugmixB4Step2_fold1_remove_background.pbz2': 1.3566947893645573, 'exp16v6AugmixB4_fold1.pbz2': 0.5470921975375909, 'exp21b6_fold1_remove_background.pbz2': 1.4524257905662061}. Best is trial 191 with value: 0.8704071002123653.\u001b[0m\n",
      "\u001b[32m[I 2022-04-17 07:40:33,123]\u001b[0m Trial 230 finished with value: 0.8695275874504148 and parameters: {'exp16v6AugMixNew4_fold1.pbz2': 2.809769638576757, 'exp16v6AugMixNew4_fold1_tta.pbz2': 1.7637277208723847, 'exp16v6AugmixB3_fold1.pbz2': 0.14715933707739248, 'exp16v6AugmixB4Step2_fold1.pbz2': 0.7449222360641002, 'exp16v6AugmixB4Step2_fold1_remove_background.pbz2': 1.6180986240357726, 'exp16v6AugmixB4_fold1.pbz2': 0.5454272239996063, 'exp21b6_fold1_remove_background.pbz2': 1.4500484159653737}. Best is trial 191 with value: 0.8704071002123653.\u001b[0m\n",
      "\u001b[32m[I 2022-04-17 07:40:34,304]\u001b[0m Trial 231 finished with value: 0.8702207797411547 and parameters: {'exp16v6AugMixNew4_fold1.pbz2': 2.9014977238621267, 'exp16v6AugMixNew4_fold1_tta.pbz2': 1.8601055084752898, 'exp16v6AugmixB3_fold1.pbz2': 0.0026219632024943084, 'exp16v6AugmixB4Step2_fold1.pbz2': 0.5876961418864741, 'exp16v6AugmixB4Step2_fold1_remove_background.pbz2': 1.4024083449501255, 'exp16v6AugmixB4_fold1.pbz2': 0.6418145171746126, 'exp21b6_fold1_remove_background.pbz2': 1.3173606651234495}. Best is trial 191 with value: 0.8704071002123653.\u001b[0m\n",
      "\u001b[32m[I 2022-04-17 07:40:35,482]\u001b[0m Trial 232 finished with value: 0.8702768762271107 and parameters: {'exp16v6AugMixNew4_fold1.pbz2': 2.7156567504965436, 'exp16v6AugMixNew4_fold1_tta.pbz2': 1.8483876139503048, 'exp16v6AugmixB3_fold1.pbz2': 0.0002618039238128783, 'exp16v6AugmixB4Step2_fold1.pbz2': 0.5888878064429798, 'exp16v6AugmixB4Step2_fold1_remove_background.pbz2': 1.3914894737684786, 'exp16v6AugmixB4_fold1.pbz2': 0.6283628310466888, 'exp21b6_fold1_remove_background.pbz2': 1.3916563749214694}. Best is trial 191 with value: 0.8704071002123653.\u001b[0m\n",
      "\u001b[32m[I 2022-04-17 07:40:36,649]\u001b[0m Trial 233 finished with value: 0.8700484833914333 and parameters: {'exp16v6AugMixNew4_fold1.pbz2': 2.716868525233488, 'exp16v6AugMixNew4_fold1_tta.pbz2': 1.7136260826485283, 'exp16v6AugmixB3_fold1.pbz2': 0.08707902314297067, 'exp16v6AugmixB4Step2_fold1.pbz2': 0.5657788992304011, 'exp16v6AugmixB4Step2_fold1_remove_background.pbz2': 1.4010764228163297, 'exp16v6AugmixB4_fold1.pbz2': 0.6448378858021743, 'exp21b6_fold1_remove_background.pbz2': 1.3374553754643252}. Best is trial 191 with value: 0.8704071002123653.\u001b[0m\n",
      "\u001b[32m[I 2022-04-17 07:40:37,829]\u001b[0m Trial 234 finished with value: 0.8648615618864447 and parameters: {'exp16v6AugMixNew4_fold1.pbz2': 2.6423546214624505, 'exp16v6AugMixNew4_fold1_tta.pbz2': 1.8231151370791308, 'exp16v6AugmixB3_fold1.pbz2': 2.2476862694335726, 'exp16v6AugmixB4Step2_fold1.pbz2': 0.5890660640733328, 'exp16v6AugmixB4Step2_fold1_remove_background.pbz2': 1.4971723153867091, 'exp16v6AugmixB4_fold1.pbz2': 0.6622845459582015, 'exp21b6_fold1_remove_background.pbz2': 1.2098297153777813}. Best is trial 191 with value: 0.8704071002123653.\u001b[0m\n",
      "\u001b[32m[I 2022-04-17 07:40:38,996]\u001b[0m Trial 235 finished with value: 0.8703069279160156 and parameters: {'exp16v6AugMixNew4_fold1.pbz2': 2.7496756522715486, 'exp16v6AugMixNew4_fold1_tta.pbz2': 1.7568048858267822, 'exp16v6AugmixB3_fold1.pbz2': 0.06877552535755752, 'exp16v6AugmixB4Step2_fold1.pbz2': 0.648726318841991, 'exp16v6AugmixB4Step2_fold1_remove_background.pbz2': 1.3816960573770118, 'exp16v6AugmixB4_fold1.pbz2': 0.4319362037284659, 'exp21b6_fold1_remove_background.pbz2': 1.3154164659309844}. Best is trial 191 with value: 0.8704071002123653.\u001b[0m\n",
      "\u001b[32m[I 2022-04-17 07:40:40,167]\u001b[0m Trial 236 finished with value: 0.8697099010297712 and parameters: {'exp16v6AugMixNew4_fold1.pbz2': 2.9014382916451376, 'exp16v6AugMixNew4_fold1_tta.pbz2': 1.8906831222539817, 'exp16v6AugmixB3_fold1.pbz2': 0.002664011165545046, 'exp16v6AugmixB4Step2_fold1.pbz2': 0.6037683393204131, 'exp16v6AugmixB4Step2_fold1_remove_background.pbz2': 1.4350814337449938, 'exp16v6AugmixB4_fold1.pbz2': 0.4543461773928942, 'exp21b6_fold1_remove_background.pbz2': 1.3282470249950804}. Best is trial 191 with value: 0.8704071002123653.\u001b[0m\n",
      "\u001b[32m[I 2022-04-17 07:40:41,353]\u001b[0m Trial 237 finished with value: 0.8695696598148815 and parameters: {'exp16v6AugMixNew4_fold1.pbz2': 2.7771615310915805, 'exp16v6AugMixNew4_fold1_tta.pbz2': 2.062797077039919, 'exp16v6AugmixB3_fold1.pbz2': 0.07843394382266194, 'exp16v6AugmixB4Step2_fold1.pbz2': 0.5063226286728936, 'exp16v6AugmixB4Step2_fold1_remove_background.pbz2': 1.3629370004905674, 'exp16v6AugmixB4_fold1.pbz2': 0.5935095638769251, 'exp21b6_fold1_remove_background.pbz2': 1.3685792688032126}. Best is trial 191 with value: 0.8704071002123653.\u001b[0m\n",
      "\u001b[32m[I 2022-04-17 07:40:42,520]\u001b[0m Trial 238 finished with value: 0.8696698321112313 and parameters: {'exp16v6AugMixNew4_fold1.pbz2': 2.695519741119884, 'exp16v6AugMixNew4_fold1_tta.pbz2': 1.7650865783657337, 'exp16v6AugmixB3_fold1.pbz2': 0.17597665530675055, 'exp16v6AugmixB4Step2_fold1.pbz2': 0.6395989103711766, 'exp16v6AugmixB4Step2_fold1_remove_background.pbz2': 1.576964088601511, 'exp16v6AugmixB4_fold1.pbz2': 0.48650226248880146, 'exp21b6_fold1_remove_background.pbz2': 1.2877514712323466}. Best is trial 191 with value: 0.8704071002123653.\u001b[0m\n",
      "\u001b[32m[I 2022-04-17 07:40:43,686]\u001b[0m Trial 239 finished with value: 0.8699883800136234 and parameters: {'exp16v6AugMixNew4_fold1.pbz2': 2.7686270259733896, 'exp16v6AugMixNew4_fold1_tta.pbz2': 1.7794102512104926, 'exp16v6AugmixB3_fold1.pbz2': 0.06863735372392706, 'exp16v6AugmixB4Step2_fold1.pbz2': 0.5114420536308739, 'exp16v6AugmixB4Step2_fold1_remove_background.pbz2': 1.450891334054667, 'exp16v6AugmixB4_fold1.pbz2': 0.4236477320789901, 'exp21b6_fold1_remove_background.pbz2': 1.4353440173066416}. Best is trial 191 with value: 0.8704071002123653.\u001b[0m\n"
     ]
    },
    {
     "name": "stderr",
     "output_type": "stream",
     "text": [
      "\u001b[32m[I 2022-04-17 07:40:44,851]\u001b[0m Trial 240 finished with value: 0.8696337700845453 and parameters: {'exp16v6AugMixNew4_fold1.pbz2': 2.6584081386463017, 'exp16v6AugMixNew4_fold1_tta.pbz2': 1.8605636189503048, 'exp16v6AugmixB3_fold1.pbz2': 0.18877436442077167, 'exp16v6AugmixB4Step2_fold1.pbz2': 0.6873794402877678, 'exp16v6AugmixB4Step2_fold1_remove_background.pbz2': 1.3485854171167253, 'exp16v6AugmixB4_fold1.pbz2': 0.6641575759958277, 'exp21b6_fold1_remove_background.pbz2': 1.5388321213739033}. Best is trial 191 with value: 0.8704071002123653.\u001b[0m\n",
      "\u001b[32m[I 2022-04-17 07:40:46,043]\u001b[0m Trial 241 finished with value: 0.8702688624434026 and parameters: {'exp16v6AugMixNew4_fold1.pbz2': 2.567606512637053, 'exp16v6AugMixNew4_fold1_tta.pbz2': 1.6916294912873417, 'exp16v6AugmixB3_fold1.pbz2': 0.08045501934483262, 'exp16v6AugmixB4Step2_fold1.pbz2': 0.5800748093116282, 'exp16v6AugmixB4Step2_fold1_remove_background.pbz2': 1.3307196916311104, 'exp16v6AugmixB4_fold1.pbz2': 0.3522131007152093, 'exp21b6_fold1_remove_background.pbz2': 1.2046517835779036}. Best is trial 191 with value: 0.8704071002123653.\u001b[0m\n",
      "\u001b[32m[I 2022-04-17 07:40:47,254]\u001b[0m Trial 242 finished with value: 0.864386745201747 and parameters: {'exp16v6AugMixNew4_fold1.pbz2': 2.540397468046593, 'exp16v6AugMixNew4_fold1_tta.pbz2': 1.7241979544044508, 'exp16v6AugmixB3_fold1.pbz2': 0.0034390980223558305, 'exp16v6AugmixB4Step2_fold1.pbz2': 0.5715978753522346, 'exp16v6AugmixB4Step2_fold1_remove_background.pbz2': 1.4170910905560465, 'exp16v6AugmixB4_fold1.pbz2': 2.882395278878172, 'exp21b6_fold1_remove_background.pbz2': 1.2222534618427667}. Best is trial 191 with value: 0.8704071002123653.\u001b[0m\n",
      "\u001b[32m[I 2022-04-17 07:40:48,526]\u001b[0m Trial 243 finished with value: 0.870136635012221 and parameters: {'exp16v6AugMixNew4_fold1.pbz2': 2.721498071778892, 'exp16v6AugMixNew4_fold1_tta.pbz2': 1.65852347421593, 'exp16v6AugmixB3_fold1.pbz2': 0.07597902562992177, 'exp16v6AugmixB4Step2_fold1.pbz2': 0.4930742702203418, 'exp16v6AugmixB4Step2_fold1_remove_background.pbz2': 1.3057559420486087, 'exp16v6AugmixB4_fold1.pbz2': 0.5255855167471303, 'exp21b6_fold1_remove_background.pbz2': 1.3040671074008094}. Best is trial 191 with value: 0.8704071002123653.\u001b[0m\n",
      "\u001b[32m[I 2022-04-17 07:40:49,872]\u001b[0m Trial 244 finished with value: 0.8584946107304564 and parameters: {'exp16v6AugMixNew4_fold1.pbz2': 2.597468343446974, 'exp16v6AugMixNew4_fold1_tta.pbz2': 1.6672439548731914, 'exp16v6AugmixB3_fold1.pbz2': 0.12602195959677334, 'exp16v6AugmixB4Step2_fold1.pbz2': 3.9705372126763523, 'exp16v6AugmixB4Step2_fold1_remove_background.pbz2': 1.2396039575500808, 'exp16v6AugmixB4_fold1.pbz2': 0.36508370631633547, 'exp21b6_fold1_remove_background.pbz2': 1.2726232285345072}. Best is trial 191 with value: 0.8704071002123653.\u001b[0m\n",
      "\u001b[32m[I 2022-04-17 07:40:51,082]\u001b[0m Trial 245 finished with value: 0.8704551829146131 and parameters: {'exp16v6AugMixNew4_fold1.pbz2': 2.68754947649628, 'exp16v6AugMixNew4_fold1_tta.pbz2': 1.6919651463177248, 'exp16v6AugmixB3_fold1.pbz2': 0.061478256930647394, 'exp16v6AugmixB4Step2_fold1.pbz2': 0.504805001940402, 'exp16v6AugmixB4Step2_fold1_remove_background.pbz2': 1.3077181638709203, 'exp16v6AugmixB4_fold1.pbz2': 0.5794563909474894, 'exp21b6_fold1_remove_background.pbz2': 1.2056540242971114}. Best is trial 245 with value: 0.8704551829146131.\u001b[0m\n",
      "\u001b[32m[I 2022-04-17 07:40:52,287]\u001b[0m Trial 246 finished with value: 0.8699623352165725 and parameters: {'exp16v6AugMixNew4_fold1.pbz2': 2.6988609855393104, 'exp16v6AugMixNew4_fold1_tta.pbz2': 1.6277321882247284, 'exp16v6AugmixB3_fold1.pbz2': 0.2743770511948033, 'exp16v6AugmixB4Step2_fold1.pbz2': 0.4942946798528957, 'exp16v6AugmixB4Step2_fold1_remove_background.pbz2': 1.3519627615771896, 'exp16v6AugmixB4_fold1.pbz2': 0.5765700564755702, 'exp21b6_fold1_remove_background.pbz2': 1.3866246333012164}. Best is trial 245 with value: 0.8704551829146131.\u001b[0m\n",
      "\u001b[32m[I 2022-04-17 07:40:53,458]\u001b[0m Trial 247 finished with value: 0.8704071002123653 and parameters: {'exp16v6AugMixNew4_fold1.pbz2': 2.869235775646979, 'exp16v6AugMixNew4_fold1_tta.pbz2': 1.7815395584349416, 'exp16v6AugmixB3_fold1.pbz2': 0.0031071203472619264, 'exp16v6AugmixB4Step2_fold1.pbz2': 0.4853116873554608, 'exp16v6AugmixB4Step2_fold1_remove_background.pbz2': 1.5035731501475902, 'exp16v6AugmixB4_fold1.pbz2': 0.6607825682416475, 'exp21b6_fold1_remove_background.pbz2': 1.2557315196093213}. Best is trial 245 with value: 0.8704551829146131.\u001b[0m\n",
      "\u001b[32m[I 2022-04-17 07:40:54,630]\u001b[0m Trial 248 finished with value: 0.8702668589974757 and parameters: {'exp16v6AugMixNew4_fold1.pbz2': 2.8602300963310126, 'exp16v6AugMixNew4_fold1_tta.pbz2': 1.8086089353975796, 'exp16v6AugmixB3_fold1.pbz2': 0.13590087234850376, 'exp16v6AugmixB4Step2_fold1.pbz2': 0.484505605315911, 'exp16v6AugmixB4Step2_fold1_remove_background.pbz2': 1.507908134453333, 'exp16v6AugmixB4_fold1.pbz2': 0.6483705016801664, 'exp21b6_fold1_remove_background.pbz2': 1.2688386029682273}. Best is trial 245 with value: 0.8704551829146131.\u001b[0m\n",
      "\u001b[32m[I 2022-04-17 07:40:55,807]\u001b[0m Trial 249 finished with value: 0.8701646832551989 and parameters: {'exp16v6AugMixNew4_fold1.pbz2': 2.9104814162628125, 'exp16v6AugMixNew4_fold1_tta.pbz2': 1.8162384209709022, 'exp16v6AugmixB3_fold1.pbz2': 1.1473098008585314e-06, 'exp16v6AugmixB4Step2_fold1.pbz2': 0.47168235432809247, 'exp16v6AugmixB4Step2_fold1_remove_background.pbz2': 1.7274192139602482, 'exp16v6AugmixB4_fold1.pbz2': 0.6752541068351898, 'exp21b6_fold1_remove_background.pbz2': 1.2419441034406298}. Best is trial 245 with value: 0.8704551829146131.\u001b[0m\n",
      "\u001b[32m[I 2022-04-17 07:40:56,990]\u001b[0m Trial 250 finished with value: 0.8701887246063228 and parameters: {'exp16v6AugMixNew4_fold1.pbz2': 2.8837002741970688, 'exp16v6AugMixNew4_fold1_tta.pbz2': 1.9757893971356908, 'exp16v6AugmixB3_fold1.pbz2': 1.3189952191462219e-05, 'exp16v6AugmixB4Step2_fold1.pbz2': 0.4809468931043699, 'exp16v6AugmixB4Step2_fold1_remove_background.pbz2': 1.6833190354828966, 'exp16v6AugmixB4_fold1.pbz2': 0.6980097885125282, 'exp21b6_fold1_remove_background.pbz2': 1.2511651420351513}. Best is trial 245 with value: 0.8704551829146131.\u001b[0m\n",
      "\u001b[32m[I 2022-04-17 07:40:58,169]\u001b[0m Trial 251 finished with value: 0.8700224385943823 and parameters: {'exp16v6AugMixNew4_fold1.pbz2': 2.9331577484035716, 'exp16v6AugMixNew4_fold1_tta.pbz2': 2.017404799776192, 'exp16v6AugmixB3_fold1.pbz2': 0.07782733535359718, 'exp16v6AugmixB4Step2_fold1.pbz2': 0.47167726527643633, 'exp16v6AugmixB4Step2_fold1_remove_background.pbz2': 1.646440352920473, 'exp16v6AugmixB4_fold1.pbz2': 0.6793120823736641, 'exp21b6_fold1_remove_background.pbz2': 1.2596306953601526}. Best is trial 245 with value: 0.8704551829146131.\u001b[0m\n",
      "\u001b[32m[I 2022-04-17 07:40:59,337]\u001b[0m Trial 252 finished with value: 0.8701145971070241 and parameters: {'exp16v6AugMixNew4_fold1.pbz2': 2.8532041739097944, 'exp16v6AugMixNew4_fold1_tta.pbz2': 1.933070878162873, 'exp16v6AugmixB3_fold1.pbz2': 0.021068942496927597, 'exp16v6AugmixB4Step2_fold1.pbz2': 0.4603918491376996, 'exp16v6AugmixB4Step2_fold1_remove_background.pbz2': 1.707112917117451, 'exp16v6AugmixB4_fold1.pbz2': 0.6762264321135095, 'exp21b6_fold1_remove_background.pbz2': 1.2630435673996727}. Best is trial 245 with value: 0.8704551829146131.\u001b[0m\n",
      "\u001b[32m[I 2022-04-17 07:41:00,506]\u001b[0m Trial 253 finished with value: 0.8698942180550546 and parameters: {'exp16v6AugMixNew4_fold1.pbz2': 2.870730277622348, 'exp16v6AugMixNew4_fold1_tta.pbz2': 1.8043327845325516, 'exp16v6AugmixB3_fold1.pbz2': 0.005525143388793077, 'exp16v6AugmixB4Step2_fold1.pbz2': 0.35792084917060907, 'exp16v6AugmixB4Step2_fold1_remove_background.pbz2': 1.5355671592736213, 'exp16v6AugmixB4_fold1.pbz2': 0.6070059015367618, 'exp21b6_fold1_remove_background.pbz2': 1.402664573426804}. Best is trial 245 with value: 0.8704551829146131.\u001b[0m\n",
      "\u001b[32m[I 2022-04-17 07:41:01,679]\u001b[0m Trial 254 finished with value: 0.8700044075810394 and parameters: {'exp16v6AugMixNew4_fold1.pbz2': 2.9799672419629286, 'exp16v6AugMixNew4_fold1_tta.pbz2': 1.9316830051747456, 'exp16v6AugmixB3_fold1.pbz2': 0.14030790524624698, 'exp16v6AugmixB4Step2_fold1.pbz2': 0.28166576087561884, 'exp16v6AugmixB4Step2_fold1_remove_background.pbz2': 1.9775257940947175, 'exp16v6AugmixB4_fold1.pbz2': 0.6945752594365951, 'exp21b6_fold1_remove_background.pbz2': 1.1899354911688973}. Best is trial 245 with value: 0.8704551829146131.\u001b[0m\n"
     ]
    },
    {
     "name": "stderr",
     "output_type": "stream",
     "text": [
      "\u001b[32m[I 2022-04-17 07:41:02,849]\u001b[0m Trial 255 finished with value: 0.8699903834595505 and parameters: {'exp16v6AugMixNew4_fold1.pbz2': 2.827130795892987, 'exp16v6AugMixNew4_fold1_tta.pbz2': 2.028425226755751, 'exp16v6AugmixB3_fold1.pbz2': 0.003980748849481299, 'exp16v6AugmixB4Step2_fold1.pbz2': 0.4879588980355316, 'exp16v6AugmixB4Step2_fold1_remove_background.pbz2': 1.5951343406732421, 'exp16v6AugmixB4_fold1.pbz2': 0.6189132166350798, 'exp21b6_fold1_remove_background.pbz2': 1.2999686560028298}. Best is trial 245 with value: 0.8704551829146131.\u001b[0m\n"
     ]
    },
    {
     "name": "stdout",
     "output_type": "stream",
     "text": [
      "CPU times: user 5min, sys: 1.27 s, total: 5min 2s\n",
      "Wall time: 5min\n"
     ]
    }
   ],
   "source": [
    "%%time\n",
    "\n",
    "study = optuna.create_study(direction='maximize')\n",
    "study.optimize(objective_wrapper(exps), timeout=300)"
   ]
  },
  {
   "cell_type": "code",
   "execution_count": 21,
   "metadata": {},
   "outputs": [
    {
     "data": {
      "text/html": [
       "<div>\n",
       "<style scoped>\n",
       "    .dataframe tbody tr th:only-of-type {\n",
       "        vertical-align: middle;\n",
       "    }\n",
       "\n",
       "    .dataframe tbody tr th {\n",
       "        vertical-align: top;\n",
       "    }\n",
       "\n",
       "    .dataframe thead th {\n",
       "        text-align: right;\n",
       "    }\n",
       "</style>\n",
       "<table border=\"1\" class=\"dataframe\">\n",
       "  <thead>\n",
       "    <tr style=\"text-align: right;\">\n",
       "      <th></th>\n",
       "      <th>number</th>\n",
       "      <th>value</th>\n",
       "      <th>datetime_start</th>\n",
       "      <th>datetime_complete</th>\n",
       "      <th>duration</th>\n",
       "      <th>params_exp16v6AugMixNew4_fold1.pbz2</th>\n",
       "      <th>params_exp16v6AugMixNew4_fold1_tta.pbz2</th>\n",
       "      <th>params_exp16v6AugmixB3_fold1.pbz2</th>\n",
       "      <th>params_exp16v6AugmixB4Step2_fold1.pbz2</th>\n",
       "      <th>params_exp16v6AugmixB4Step2_fold1_remove_background.pbz2</th>\n",
       "      <th>params_exp16v6AugmixB4_fold1.pbz2</th>\n",
       "      <th>params_exp21b6_fold1_remove_background.pbz2</th>\n",
       "      <th>state</th>\n",
       "    </tr>\n",
       "  </thead>\n",
       "  <tbody>\n",
       "    <tr>\n",
       "      <th>99</th>\n",
       "      <td>99</td>\n",
       "      <td>0.841471</td>\n",
       "      <td>2022-04-17 07:37:57.750392</td>\n",
       "      <td>2022-04-17 07:37:58.905284</td>\n",
       "      <td>0 days 00:00:01.154892</td>\n",
       "      <td>0.024390</td>\n",
       "      <td>0.990500</td>\n",
       "      <td>2.461089</td>\n",
       "      <td>0.513452</td>\n",
       "      <td>0.318804</td>\n",
       "      <td>1.321254</td>\n",
       "      <td>1.545943</td>\n",
       "      <td>COMPLETE</td>\n",
       "    </tr>\n",
       "    <tr>\n",
       "      <th>2</th>\n",
       "      <td>2</td>\n",
       "      <td>0.842758</td>\n",
       "      <td>2022-04-17 07:36:04.451019</td>\n",
       "      <td>2022-04-17 07:36:05.590919</td>\n",
       "      <td>0 days 00:00:01.139900</td>\n",
       "      <td>1.638985</td>\n",
       "      <td>0.343407</td>\n",
       "      <td>3.047685</td>\n",
       "      <td>0.120724</td>\n",
       "      <td>1.623954</td>\n",
       "      <td>3.330185</td>\n",
       "      <td>3.892602</td>\n",
       "      <td>COMPLETE</td>\n",
       "    </tr>\n",
       "    <tr>\n",
       "      <th>79</th>\n",
       "      <td>79</td>\n",
       "      <td>0.845811</td>\n",
       "      <td>2022-04-17 07:37:34.338040</td>\n",
       "      <td>2022-04-17 07:37:35.496539</td>\n",
       "      <td>0 days 00:00:01.158499</td>\n",
       "      <td>0.868806</td>\n",
       "      <td>0.206655</td>\n",
       "      <td>0.084676</td>\n",
       "      <td>0.387060</td>\n",
       "      <td>0.891670</td>\n",
       "      <td>2.583445</td>\n",
       "      <td>0.807407</td>\n",
       "      <td>COMPLETE</td>\n",
       "    </tr>\n",
       "    <tr>\n",
       "      <th>20</th>\n",
       "      <td>20</td>\n",
       "      <td>0.847894</td>\n",
       "      <td>2022-04-17 07:36:25.343263</td>\n",
       "      <td>2022-04-17 07:36:26.524280</td>\n",
       "      <td>0 days 00:00:01.181017</td>\n",
       "      <td>0.266296</td>\n",
       "      <td>1.526601</td>\n",
       "      <td>2.379017</td>\n",
       "      <td>0.670873</td>\n",
       "      <td>0.399951</td>\n",
       "      <td>2.552271</td>\n",
       "      <td>1.732782</td>\n",
       "      <td>COMPLETE</td>\n",
       "    </tr>\n",
       "    <tr>\n",
       "      <th>8</th>\n",
       "      <td>8</td>\n",
       "      <td>0.849701</td>\n",
       "      <td>2022-04-17 07:36:11.314948</td>\n",
       "      <td>2022-04-17 07:36:12.461140</td>\n",
       "      <td>0 days 00:00:01.146192</td>\n",
       "      <td>0.225826</td>\n",
       "      <td>2.899206</td>\n",
       "      <td>2.506441</td>\n",
       "      <td>3.178273</td>\n",
       "      <td>0.935928</td>\n",
       "      <td>3.424852</td>\n",
       "      <td>3.094058</td>\n",
       "      <td>COMPLETE</td>\n",
       "    </tr>\n",
       "    <tr>\n",
       "      <th>...</th>\n",
       "      <td>...</td>\n",
       "      <td>...</td>\n",
       "      <td>...</td>\n",
       "      <td>...</td>\n",
       "      <td>...</td>\n",
       "      <td>...</td>\n",
       "      <td>...</td>\n",
       "      <td>...</td>\n",
       "      <td>...</td>\n",
       "      <td>...</td>\n",
       "      <td>...</td>\n",
       "      <td>...</td>\n",
       "      <td>...</td>\n",
       "    </tr>\n",
       "    <tr>\n",
       "      <th>219</th>\n",
       "      <td>219</td>\n",
       "      <td>0.870369</td>\n",
       "      <td>2022-04-17 07:40:18.942682</td>\n",
       "      <td>2022-04-17 07:40:20.235943</td>\n",
       "      <td>0 days 00:00:01.293261</td>\n",
       "      <td>2.688012</td>\n",
       "      <td>1.891314</td>\n",
       "      <td>0.079614</td>\n",
       "      <td>0.601047</td>\n",
       "      <td>1.391657</td>\n",
       "      <td>0.502238</td>\n",
       "      <td>1.315679</td>\n",
       "      <td>COMPLETE</td>\n",
       "    </tr>\n",
       "    <tr>\n",
       "      <th>217</th>\n",
       "      <td>217</td>\n",
       "      <td>0.870405</td>\n",
       "      <td>2022-04-17 07:40:16.599122</td>\n",
       "      <td>2022-04-17 07:40:17.779876</td>\n",
       "      <td>0 days 00:00:01.180754</td>\n",
       "      <td>2.697159</td>\n",
       "      <td>1.820993</td>\n",
       "      <td>0.069946</td>\n",
       "      <td>0.583231</td>\n",
       "      <td>1.371528</td>\n",
       "      <td>0.525969</td>\n",
       "      <td>1.302725</td>\n",
       "      <td>COMPLETE</td>\n",
       "    </tr>\n",
       "    <tr>\n",
       "      <th>191</th>\n",
       "      <td>191</td>\n",
       "      <td>0.870407</td>\n",
       "      <td>2022-04-17 07:39:45.994001</td>\n",
       "      <td>2022-04-17 07:39:47.152344</td>\n",
       "      <td>0 days 00:00:01.158343</td>\n",
       "      <td>2.331028</td>\n",
       "      <td>1.712741</td>\n",
       "      <td>0.075095</td>\n",
       "      <td>0.497696</td>\n",
       "      <td>1.029562</td>\n",
       "      <td>0.787737</td>\n",
       "      <td>1.038836</td>\n",
       "      <td>COMPLETE</td>\n",
       "    </tr>\n",
       "    <tr>\n",
       "      <th>247</th>\n",
       "      <td>247</td>\n",
       "      <td>0.870407</td>\n",
       "      <td>2022-04-17 07:40:52.288780</td>\n",
       "      <td>2022-04-17 07:40:53.458263</td>\n",
       "      <td>0 days 00:00:01.169483</td>\n",
       "      <td>2.869236</td>\n",
       "      <td>1.781540</td>\n",
       "      <td>0.003107</td>\n",
       "      <td>0.485312</td>\n",
       "      <td>1.503573</td>\n",
       "      <td>0.660783</td>\n",
       "      <td>1.255732</td>\n",
       "      <td>COMPLETE</td>\n",
       "    </tr>\n",
       "    <tr>\n",
       "      <th>245</th>\n",
       "      <td>245</td>\n",
       "      <td>0.870455</td>\n",
       "      <td>2022-04-17 07:40:49.873889</td>\n",
       "      <td>2022-04-17 07:40:51.082557</td>\n",
       "      <td>0 days 00:00:01.208668</td>\n",
       "      <td>2.687549</td>\n",
       "      <td>1.691965</td>\n",
       "      <td>0.061478</td>\n",
       "      <td>0.504805</td>\n",
       "      <td>1.307718</td>\n",
       "      <td>0.579456</td>\n",
       "      <td>1.205654</td>\n",
       "      <td>COMPLETE</td>\n",
       "    </tr>\n",
       "  </tbody>\n",
       "</table>\n",
       "<p>256 rows × 13 columns</p>\n",
       "</div>"
      ],
      "text/plain": [
       "     number     value             datetime_start          datetime_complete  \\\n",
       "99       99  0.841471 2022-04-17 07:37:57.750392 2022-04-17 07:37:58.905284   \n",
       "2         2  0.842758 2022-04-17 07:36:04.451019 2022-04-17 07:36:05.590919   \n",
       "79       79  0.845811 2022-04-17 07:37:34.338040 2022-04-17 07:37:35.496539   \n",
       "20       20  0.847894 2022-04-17 07:36:25.343263 2022-04-17 07:36:26.524280   \n",
       "8         8  0.849701 2022-04-17 07:36:11.314948 2022-04-17 07:36:12.461140   \n",
       "..      ...       ...                        ...                        ...   \n",
       "219     219  0.870369 2022-04-17 07:40:18.942682 2022-04-17 07:40:20.235943   \n",
       "217     217  0.870405 2022-04-17 07:40:16.599122 2022-04-17 07:40:17.779876   \n",
       "191     191  0.870407 2022-04-17 07:39:45.994001 2022-04-17 07:39:47.152344   \n",
       "247     247  0.870407 2022-04-17 07:40:52.288780 2022-04-17 07:40:53.458263   \n",
       "245     245  0.870455 2022-04-17 07:40:49.873889 2022-04-17 07:40:51.082557   \n",
       "\n",
       "                  duration  params_exp16v6AugMixNew4_fold1.pbz2  \\\n",
       "99  0 days 00:00:01.154892                             0.024390   \n",
       "2   0 days 00:00:01.139900                             1.638985   \n",
       "79  0 days 00:00:01.158499                             0.868806   \n",
       "20  0 days 00:00:01.181017                             0.266296   \n",
       "8   0 days 00:00:01.146192                             0.225826   \n",
       "..                     ...                                  ...   \n",
       "219 0 days 00:00:01.293261                             2.688012   \n",
       "217 0 days 00:00:01.180754                             2.697159   \n",
       "191 0 days 00:00:01.158343                             2.331028   \n",
       "247 0 days 00:00:01.169483                             2.869236   \n",
       "245 0 days 00:00:01.208668                             2.687549   \n",
       "\n",
       "     params_exp16v6AugMixNew4_fold1_tta.pbz2  \\\n",
       "99                                  0.990500   \n",
       "2                                   0.343407   \n",
       "79                                  0.206655   \n",
       "20                                  1.526601   \n",
       "8                                   2.899206   \n",
       "..                                       ...   \n",
       "219                                 1.891314   \n",
       "217                                 1.820993   \n",
       "191                                 1.712741   \n",
       "247                                 1.781540   \n",
       "245                                 1.691965   \n",
       "\n",
       "     params_exp16v6AugmixB3_fold1.pbz2  \\\n",
       "99                            2.461089   \n",
       "2                             3.047685   \n",
       "79                            0.084676   \n",
       "20                            2.379017   \n",
       "8                             2.506441   \n",
       "..                                 ...   \n",
       "219                           0.079614   \n",
       "217                           0.069946   \n",
       "191                           0.075095   \n",
       "247                           0.003107   \n",
       "245                           0.061478   \n",
       "\n",
       "     params_exp16v6AugmixB4Step2_fold1.pbz2  \\\n",
       "99                                 0.513452   \n",
       "2                                  0.120724   \n",
       "79                                 0.387060   \n",
       "20                                 0.670873   \n",
       "8                                  3.178273   \n",
       "..                                      ...   \n",
       "219                                0.601047   \n",
       "217                                0.583231   \n",
       "191                                0.497696   \n",
       "247                                0.485312   \n",
       "245                                0.504805   \n",
       "\n",
       "     params_exp16v6AugmixB4Step2_fold1_remove_background.pbz2  \\\n",
       "99                                            0.318804          \n",
       "2                                             1.623954          \n",
       "79                                            0.891670          \n",
       "20                                            0.399951          \n",
       "8                                             0.935928          \n",
       "..                                                 ...          \n",
       "219                                           1.391657          \n",
       "217                                           1.371528          \n",
       "191                                           1.029562          \n",
       "247                                           1.503573          \n",
       "245                                           1.307718          \n",
       "\n",
       "     params_exp16v6AugmixB4_fold1.pbz2  \\\n",
       "99                            1.321254   \n",
       "2                             3.330185   \n",
       "79                            2.583445   \n",
       "20                            2.552271   \n",
       "8                             3.424852   \n",
       "..                                 ...   \n",
       "219                           0.502238   \n",
       "217                           0.525969   \n",
       "191                           0.787737   \n",
       "247                           0.660783   \n",
       "245                           0.579456   \n",
       "\n",
       "     params_exp21b6_fold1_remove_background.pbz2     state  \n",
       "99                                      1.545943  COMPLETE  \n",
       "2                                       3.892602  COMPLETE  \n",
       "79                                      0.807407  COMPLETE  \n",
       "20                                      1.732782  COMPLETE  \n",
       "8                                       3.094058  COMPLETE  \n",
       "..                                           ...       ...  \n",
       "219                                     1.315679  COMPLETE  \n",
       "217                                     1.302725  COMPLETE  \n",
       "191                                     1.038836  COMPLETE  \n",
       "247                                     1.255732  COMPLETE  \n",
       "245                                     1.205654  COMPLETE  \n",
       "\n",
       "[256 rows x 13 columns]"
      ]
     },
     "execution_count": 21,
     "metadata": {},
     "output_type": "execute_result"
    }
   ],
   "source": [
    "study.trials_dataframe().sort_values(\"value\")"
   ]
  },
  {
   "cell_type": "code",
   "execution_count": 22,
   "metadata": {},
   "outputs": [
    {
     "data": {
      "text/plain": [
       "{'exp16v6AugMixNew4_fold1.pbz2': 2.68754947649628,\n",
       " 'exp16v6AugMixNew4_fold1_tta.pbz2': 1.6919651463177248,\n",
       " 'exp16v6AugmixB3_fold1.pbz2': 0.061478256930647394,\n",
       " 'exp16v6AugmixB4Step2_fold1.pbz2': 0.504805001940402,\n",
       " 'exp16v6AugmixB4Step2_fold1_remove_background.pbz2': 1.3077181638709203,\n",
       " 'exp16v6AugmixB4_fold1.pbz2': 0.5794563909474894,\n",
       " 'exp21b6_fold1_remove_background.pbz2': 1.2056540242971114}"
      ]
     },
     "execution_count": 22,
     "metadata": {},
     "output_type": "execute_result"
    }
   ],
   "source": [
    "study.best_params"
   ]
  },
  {
   "cell_type": "code",
   "execution_count": 23,
   "metadata": {},
   "outputs": [],
   "source": [
    "best_weights = list(study.best_params.values())"
   ]
  },
  {
   "cell_type": "code",
   "execution_count": 24,
   "metadata": {},
   "outputs": [
    {
     "data": {
      "text/plain": [
       "0.8704551829146131"
      ]
     },
     "execution_count": 24,
     "metadata": {},
     "output_type": "execute_result"
    }
   ],
   "source": [
    "# weighted result\n",
    "get_score([1] + best_weights)"
   ]
  },
  {
   "cell_type": "code",
   "execution_count": 25,
   "metadata": {},
   "outputs": [
    {
     "data": {
      "text/plain": [
       "0.85759907040109"
      ]
     },
     "execution_count": 25,
     "metadata": {},
     "output_type": "execute_result"
    }
   ],
   "source": [
    "# un-weighted result\n",
    "get_score([1] * len(exps))"
   ]
  }
 ],
 "metadata": {
  "kernelspec": {
   "display_name": "Python 3 (ipykernel)",
   "language": "python",
   "name": "python3"
  },
  "language_info": {
   "codemirror_mode": {
    "name": "ipython",
    "version": 3
   },
   "file_extension": ".py",
   "mimetype": "text/x-python",
   "name": "python",
   "nbconvert_exporter": "python",
   "pygments_lexer": "ipython3",
   "version": "3.7.12"
  }
 },
 "nbformat": 4,
 "nbformat_minor": 4
}
