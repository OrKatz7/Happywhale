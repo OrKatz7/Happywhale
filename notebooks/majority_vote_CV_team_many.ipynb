{
 "cells": [
  {
   "cell_type": "markdown",
   "metadata": {},
   "source": [
    "Majority vote from team's CV"
   ]
  },
  {
   "cell_type": "code",
   "execution_count": 1,
   "metadata": {
    "scrolled": true
   },
   "outputs": [],
   "source": [
    "import numpy as np\n",
    "import matplotlib.pyplot as plt\n",
    "import pandas as pd\n",
    "import json\n",
    "import glob\n",
    "\n",
    "from tqdm import tqdm\n",
    "import seaborn as sns\n",
    "from collections import Counter\n",
    "\n",
    "import cv2"
   ]
  },
  {
   "cell_type": "code",
   "execution_count": 2,
   "metadata": {},
   "outputs": [],
   "source": [
    "import cudf, cuml, cupy\n",
    "from cuml.feature_extraction.text import TfidfVectorizer\n",
    "from cuml.neighbors import NearestNeighbors"
   ]
  },
  {
   "cell_type": "code",
   "execution_count": 3,
   "metadata": {},
   "outputs": [],
   "source": [
    "from collections import Counter\n",
    "from sklearn.metrics import pairwise_distances\n",
    "from sklearn.preprocessing import normalize"
   ]
  },
  {
   "cell_type": "code",
   "execution_count": 4,
   "metadata": {},
   "outputs": [],
   "source": [
    "from collections import defaultdict"
   ]
  },
  {
   "cell_type": "code",
   "execution_count": 5,
   "metadata": {},
   "outputs": [],
   "source": [
    "import bz2\n",
    "import pickle\n",
    "import _pickle as cPickle\n",
    "\n",
    "def compressed_pickle(title, data):\n",
    "    with bz2.BZ2File(title + '.pbz2', 'w') as f:\n",
    "        cPickle.dump(data, f)\n",
    "        \n",
    "def decompress_pickle(file):\n",
    "    data = bz2.BZ2File(file, 'rb')\n",
    "    data = cPickle.load(data)\n",
    "    return data"
   ]
  },
  {
   "cell_type": "code",
   "execution_count": 6,
   "metadata": {},
   "outputs": [],
   "source": [
    "def get_embeddings(files):\n",
    "    DIRNAME =\"../input/whale-21-3-2022/\"\n",
    "  \n",
    "    train_emb_lis = []\n",
    "    test_emb_lis  = []\n",
    "    \n",
    "    for fname in files:\n",
    "        print(fname)\n",
    "        data = decompress_pickle(DIRNAME + fname + \".pbz2\")\n",
    "        \n",
    "        train_emb = data[\"emb_val\"]#[new_index,:]\n",
    "        test_emb  = data[\"emb_test\"]\n",
    "        \n",
    "        train_emb=normalize(train_emb)\n",
    "        test_emb=normalize(test_emb)\n",
    "\n",
    "        train_emb_lis.append(train_emb)\n",
    "        test_emb_lis.append(test_emb)\n",
    "        \n",
    "        print(\"    \",train_emb.shape,test_emb.shape)\n",
    "    \n",
    "    ret_train = normalize(np.concatenate(train_emb_lis,axis=1))\n",
    "    ret_test  = normalize(np.concatenate(test_emb_lis,axis=1))\n",
    "        \n",
    "    return ret_train,ret_test\n",
    "    "
   ]
  },
  {
   "cell_type": "code",
   "execution_count": 7,
   "metadata": {},
   "outputs": [],
   "source": [
    "def get_valid_score(distances):\n",
    "    \n",
    "    K=1000\n",
    "    predicted_positions = np.argpartition(distances, K, axis=1)[:, :K]\n",
    "\n",
    "    \n",
    "    score_lis = []\n",
    "\n",
    "    train_inddividual_id_lis = train[\"individual_id\"].values\n",
    "    valid_inddividual_id_lis = valid[\"individual_id\"].values\n",
    "\n",
    "    for i in tqdm(range(predicted_positions.shape[0])):\n",
    "        nearest = [(train_inddividual_id_lis[j], distances[i, j]) for j in predicted_positions[i]]\n",
    "        nearest.sort(key=lambda x: x[1])\n",
    "\n",
    "        prediction = [index_id for index_id, d in nearest]\n",
    "\n",
    "        done = set()\n",
    "        pred_list = []\n",
    "        for pred_id in prediction:\n",
    "            if pred_id in done:\n",
    "                continue\n",
    "            done.add(pred_id)\n",
    "            pred_list.append(pred_id)\n",
    "            if len(pred_list)==5:\n",
    "                break\n",
    "\n",
    "        if valid_inddividual_id_lis[i] in pred_list:\n",
    "            s = 1/(pred_list.index(valid_inddividual_id_lis[i]) + 1)\n",
    "            score_lis.append(s)\n",
    "        else:\n",
    "            score_lis.append(0)    \n",
    "            \n",
    "    return score_lis"
   ]
  },
  {
   "cell_type": "code",
   "execution_count": 8,
   "metadata": {},
   "outputs": [],
   "source": [
    "d={\n",
    "    \"exp16v4sampler_fold0\": 0.8045250039815257,\n",
    "    \"exp16v6AugmixFullB4_fold0\": 0.845,\n",
    "    \"exp16v6AugmixB4Step2_fold0\": 0.8076166587036152,\n",
    "    \"exp16v6AugmixB4Step2_fold0_remove_background\": 0.8076166587036152,\n",
    "    \"exp16v6AugmixB4_fold0\": 0.808689679885332,\n",
    "    \"exp16v6Augmix_fold0\": 0.8142837235228539,\n",
    "    \"exp16v6sampler_fold0\": 0.8119127249562033,\n",
    "    \"exp21b6_fold0\": 0.7997491638795986,}"
   ]
  },
  {
   "cell_type": "code",
   "execution_count": 9,
   "metadata": {
    "scrolled": true
   },
   "outputs": [
    {
     "data": {
      "text/plain": [
       "['exp16v4sampler_fold0',\n",
       " 'exp16v6AugmixFullB4_fold0',\n",
       " 'exp16v6AugmixB4Step2_fold0',\n",
       " 'exp16v6AugmixB4Step2_fold0_remove_background',\n",
       " 'exp16v6AugmixB4_fold0',\n",
       " 'exp16v6Augmix_fold0',\n",
       " 'exp16v6sampler_fold0',\n",
       " 'exp21b6_fold0']"
      ]
     },
     "execution_count": 9,
     "metadata": {},
     "output_type": "execute_result"
    }
   ],
   "source": [
    "exps = list(d.keys())\n",
    "exps"
   ]
  },
  {
   "cell_type": "code",
   "execution_count": 10,
   "metadata": {},
   "outputs": [],
   "source": [
    "FOLD=0"
   ]
  },
  {
   "cell_type": "code",
   "execution_count": 11,
   "metadata": {
    "scrolled": false
   },
   "outputs": [
    {
     "data": {
      "text/plain": [
       "(51033, 8)"
      ]
     },
     "execution_count": 11,
     "metadata": {},
     "output_type": "execute_result"
    }
   ],
   "source": [
    "fold2 = pd.read_csv(\"/kaggle/happywhale/input/whale-21-3-2022/fold2.csv\")\n",
    "fold2.shape"
   ]
  },
  {
   "cell_type": "code",
   "execution_count": 12,
   "metadata": {},
   "outputs": [],
   "source": [
    "valid = fold2.query(\"fold == @FOLD\").reset_index()\n",
    "train = fold2.query(\"fold != @FOLD\").reset_index()"
   ]
  },
  {
   "cell_type": "code",
   "execution_count": 13,
   "metadata": {},
   "outputs": [],
   "source": [
    "valid_ind = (fold2.fold == FOLD).values\n",
    "train_ind = (fold2.fold != FOLD).values"
   ]
  },
  {
   "cell_type": "code",
   "execution_count": null,
   "metadata": {},
   "outputs": [],
   "source": []
  },
  {
   "cell_type": "code",
   "execution_count": null,
   "metadata": {},
   "outputs": [],
   "source": []
  },
  {
   "cell_type": "markdown",
   "metadata": {},
   "source": [
    "### concat result"
   ]
  },
  {
   "cell_type": "code",
   "execution_count": 14,
   "metadata": {
    "scrolled": true
   },
   "outputs": [
    {
     "name": "stdout",
     "output_type": "stream",
     "text": [
      "exp16v4sampler_fold0\n",
      "     (51033, 512) (27956, 512)\n",
      "exp16v6AugmixFullB4_fold0\n",
      "     (51033, 1024) (27956, 1024)\n",
      "exp16v6AugmixB4Step2_fold0\n",
      "     (51033, 512) (27956, 512)\n",
      "exp16v6AugmixB4Step2_fold0_remove_background\n",
      "     (51033, 512) (27956, 512)\n",
      "exp16v6AugmixB4_fold0\n",
      "     (51033, 512) (27956, 512)\n",
      "exp16v6Augmix_fold0\n",
      "     (51033, 512) (27956, 512)\n",
      "exp16v6sampler_fold0\n",
      "     (51033, 512) (27956, 512)\n",
      "exp21b6_fold0\n",
      "     (51033, 512) (27956, 512)\n"
     ]
    }
   ],
   "source": [
    "train_emb, _ = get_embeddings(exps)"
   ]
  },
  {
   "cell_type": "code",
   "execution_count": 15,
   "metadata": {},
   "outputs": [],
   "source": [
    "valid_preds = train_emb[valid_ind]\n",
    "train_preds = train_emb[train_ind]"
   ]
  },
  {
   "cell_type": "code",
   "execution_count": 16,
   "metadata": {
    "scrolled": true
   },
   "outputs": [
    {
     "data": {
      "text/plain": [
       "((42661, 4608), (8372, 4608))"
      ]
     },
     "execution_count": 16,
     "metadata": {},
     "output_type": "execute_result"
    }
   ],
   "source": [
    "train_preds.shape,valid_preds.shape"
   ]
  },
  {
   "cell_type": "code",
   "execution_count": 17,
   "metadata": {},
   "outputs": [],
   "source": [
    "distances = pairwise_distances(valid_preds,train_preds)"
   ]
  },
  {
   "cell_type": "code",
   "execution_count": 18,
   "metadata": {},
   "outputs": [
    {
     "name": "stderr",
     "output_type": "stream",
     "text": [
      "100%|██████████| 8372/8372 [00:08<00:00, 994.59it/s] \n"
     ]
    }
   ],
   "source": [
    "score_lis = get_valid_score(distances)"
   ]
  },
  {
   "cell_type": "code",
   "execution_count": 19,
   "metadata": {
    "scrolled": false
   },
   "outputs": [
    {
     "data": {
      "text/plain": [
       "0.8523590539894887"
      ]
     },
     "execution_count": 19,
     "metadata": {},
     "output_type": "execute_result"
    }
   ],
   "source": [
    "np.mean(score_lis)"
   ]
  },
  {
   "cell_type": "code",
   "execution_count": null,
   "metadata": {},
   "outputs": [],
   "source": []
  },
  {
   "cell_type": "markdown",
   "metadata": {},
   "source": [
    "### majoriy vote result"
   ]
  },
  {
   "cell_type": "code",
   "execution_count": 20,
   "metadata": {},
   "outputs": [],
   "source": [
    "train_inddividual_id_lis = train[\"individual_id\"].values\n",
    "valid_inddividual_id_lis = valid[\"individual_id\"].values\n",
    "def do_vote(exps, vote_result):\n",
    "    \n",
    "    train_emb, _ = get_embeddings(exps)\n",
    "    \n",
    "    valid_preds = train_emb[valid_ind]\n",
    "    train_preds = train_emb[train_ind]\n",
    "\n",
    "    \n",
    "    distances = pairwise_distances(valid_preds,train_preds)\n",
    "    \n",
    "    K=1000\n",
    "    predicted_positions = np.argpartition(distances, K, axis=1)[:, :K]\n",
    "    \n",
    "    for i in tqdm(range(predicted_positions.shape[0])):\n",
    "        nearest = [(train_inddividual_id_lis[j], distances[i, j]) for j in predicted_positions[i]]\n",
    "        nearest.sort(key=lambda x: x[1])\n",
    "\n",
    "        prediction = [index_id for index_id, d in nearest]\n",
    "        \n",
    "        done = set()\n",
    "        pred_list = []\n",
    "        for pred_id in prediction:\n",
    "            if pred_id in done:\n",
    "                continue\n",
    "            done.add(pred_id)\n",
    "            pred_list.append(pred_id)\n",
    "            if len(pred_list)==20:\n",
    "                break\n",
    "\n",
    "        for j,p in enumerate(pred_list):\n",
    "            vote_result[i][p] += 1/(j+1)\n",
    "        "
   ]
  },
  {
   "cell_type": "code",
   "execution_count": 21,
   "metadata": {},
   "outputs": [
    {
     "name": "stdout",
     "output_type": "stream",
     "text": [
      "exp16v4sampler_fold0\n",
      "     (51033, 512) (27956, 512)\n"
     ]
    },
    {
     "name": "stderr",
     "output_type": "stream",
     "text": [
      "100%|██████████| 8372/8372 [00:08<00:00, 975.58it/s] \n"
     ]
    },
    {
     "name": "stdout",
     "output_type": "stream",
     "text": [
      "exp16v6AugmixFullB4_fold0\n",
      "     (51033, 1024) (27956, 1024)\n"
     ]
    },
    {
     "name": "stderr",
     "output_type": "stream",
     "text": [
      "100%|██████████| 8372/8372 [00:08<00:00, 940.06it/s] \n"
     ]
    },
    {
     "name": "stdout",
     "output_type": "stream",
     "text": [
      "exp16v6AugmixB4Step2_fold0\n",
      "     (51033, 512) (27956, 512)\n"
     ]
    },
    {
     "name": "stderr",
     "output_type": "stream",
     "text": [
      "100%|██████████| 8372/8372 [00:08<00:00, 968.73it/s] \n"
     ]
    },
    {
     "name": "stdout",
     "output_type": "stream",
     "text": [
      "exp16v6AugmixB4Step2_fold0_remove_background\n",
      "     (51033, 512) (27956, 512)\n"
     ]
    },
    {
     "name": "stderr",
     "output_type": "stream",
     "text": [
      "100%|██████████| 8372/8372 [00:08<00:00, 958.09it/s] \n"
     ]
    },
    {
     "name": "stdout",
     "output_type": "stream",
     "text": [
      "exp16v6AugmixB4_fold0\n",
      "     (51033, 512) (27956, 512)\n"
     ]
    },
    {
     "name": "stderr",
     "output_type": "stream",
     "text": [
      "100%|██████████| 8372/8372 [00:08<00:00, 962.26it/s] \n"
     ]
    },
    {
     "name": "stdout",
     "output_type": "stream",
     "text": [
      "exp16v6Augmix_fold0\n",
      "     (51033, 512) (27956, 512)\n"
     ]
    },
    {
     "name": "stderr",
     "output_type": "stream",
     "text": [
      "100%|██████████| 8372/8372 [00:08<00:00, 978.69it/s] \n"
     ]
    },
    {
     "name": "stdout",
     "output_type": "stream",
     "text": [
      "exp16v6sampler_fold0\n",
      "     (51033, 512) (27956, 512)\n"
     ]
    },
    {
     "name": "stderr",
     "output_type": "stream",
     "text": [
      "100%|██████████| 8372/8372 [00:08<00:00, 972.55it/s] \n"
     ]
    },
    {
     "name": "stdout",
     "output_type": "stream",
     "text": [
      "exp21b6_fold0\n",
      "     (51033, 512) (27956, 512)\n"
     ]
    },
    {
     "name": "stderr",
     "output_type": "stream",
     "text": [
      "100%|██████████| 8372/8372 [00:08<00:00, 970.35it/s] \n"
     ]
    }
   ],
   "source": [
    "vote_result = defaultdict(lambda:defaultdict(int))\n",
    "for i in range(len(exps)):\n",
    "    do_vote([exps[i]],vote_result)"
   ]
  },
  {
   "cell_type": "code",
   "execution_count": 22,
   "metadata": {},
   "outputs": [],
   "source": [
    "score_lis = []\n",
    "pred_ids = []\n",
    "\n",
    "for i in range(len(valid)):\n",
    "    pred_list = np.array(sorted(vote_result[i].items(), key=lambda item: item[1])[::-1])[:5,0].tolist()\n",
    "    \n",
    "    if valid_inddividual_id_lis[i] in pred_list:\n",
    "        s = 1/(pred_list.index(valid_inddividual_id_lis[i]) + 1)\n",
    "        score_lis.append(s)\n",
    "    else:\n",
    "        score_lis.append(0)"
   ]
  },
  {
   "cell_type": "code",
   "execution_count": 23,
   "metadata": {},
   "outputs": [
    {
     "data": {
      "text/plain": [
       "0.8485985029463291"
      ]
     },
     "execution_count": 23,
     "metadata": {},
     "output_type": "execute_result"
    }
   ],
   "source": [
    "np.mean(score_lis)"
   ]
  },
  {
   "cell_type": "code",
   "execution_count": null,
   "metadata": {},
   "outputs": [],
   "source": []
  },
  {
   "cell_type": "code",
   "execution_count": null,
   "metadata": {},
   "outputs": [],
   "source": []
  },
  {
   "cell_type": "code",
   "execution_count": null,
   "metadata": {},
   "outputs": [],
   "source": []
  },
  {
   "cell_type": "code",
   "execution_count": null,
   "metadata": {},
   "outputs": [],
   "source": []
  },
  {
   "cell_type": "code",
   "execution_count": null,
   "metadata": {},
   "outputs": [],
   "source": []
  },
  {
   "cell_type": "code",
   "execution_count": null,
   "metadata": {},
   "outputs": [],
   "source": []
  },
  {
   "cell_type": "code",
   "execution_count": null,
   "metadata": {},
   "outputs": [],
   "source": []
  },
  {
   "cell_type": "code",
   "execution_count": null,
   "metadata": {},
   "outputs": [],
   "source": []
  },
  {
   "cell_type": "code",
   "execution_count": null,
   "metadata": {},
   "outputs": [],
   "source": []
  }
 ],
 "metadata": {
  "kernelspec": {
   "display_name": "Python 3 (ipykernel)",
   "language": "python",
   "name": "python3"
  },
  "language_info": {
   "codemirror_mode": {
    "name": "ipython",
    "version": 3
   },
   "file_extension": ".py",
   "mimetype": "text/x-python",
   "name": "python",
   "nbconvert_exporter": "python",
   "pygments_lexer": "ipython3",
   "version": "3.7.12"
  }
 },
 "nbformat": 4,
 "nbformat_minor": 4
}
