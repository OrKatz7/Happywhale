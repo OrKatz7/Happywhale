{
 "cells": [
  {
   "cell_type": "markdown",
   "metadata": {},
   "source": [
    "create embeddings concated predictions without new_individual  \n",
    "with weighted-average"
   ]
  },
  {
   "cell_type": "code",
   "execution_count": 1,
   "metadata": {
    "scrolled": true
   },
   "outputs": [],
   "source": [
    "import numpy as np\n",
    "import matplotlib.pyplot as plt\n",
    "import pandas as pd\n",
    "import json\n",
    "import glob\n",
    "\n",
    "from tqdm import tqdm\n",
    "import seaborn as sns\n",
    "from collections import Counter\n",
    "\n",
    "import cv2"
   ]
  },
  {
   "cell_type": "code",
   "execution_count": 2,
   "metadata": {},
   "outputs": [],
   "source": [
    "from sklearn.metrics import pairwise_distances"
   ]
  },
  {
   "cell_type": "code",
   "execution_count": 3,
   "metadata": {},
   "outputs": [],
   "source": [
    "from collections import Counter\n",
    "from sklearn.metrics import pairwise_distances\n",
    "from sklearn.preprocessing import normalize"
   ]
  },
  {
   "cell_type": "code",
   "execution_count": 4,
   "metadata": {},
   "outputs": [],
   "source": [
    "import cudf, cuml, cupy\n",
    "from cuml.feature_extraction.text import TfidfVectorizer\n",
    "from cuml.neighbors import NearestNeighbors"
   ]
  },
  {
   "cell_type": "code",
   "execution_count": 5,
   "metadata": {},
   "outputs": [
    {
     "data": {
      "text/plain": [
       "(51033, 3)"
      ]
     },
     "execution_count": 5,
     "metadata": {},
     "output_type": "execute_result"
    }
   ],
   "source": [
    "train = pd.read_csv(\"/kaggle/happywhale/input/train.csv\")\n",
    "train.shape"
   ]
  },
  {
   "cell_type": "code",
   "execution_count": 6,
   "metadata": {},
   "outputs": [],
   "source": [
    "train.species.replace({\"globis\": \"short_finned_pilot_whale\",\n",
    "                          \"pilot_whale\": \"short_finned_pilot_whale\",\n",
    "                          \"kiler_whale\": \"killer_whale\",\n",
    "                          \"bottlenose_dolpin\": \"bottlenose_dolphin\"}, inplace=True)"
   ]
  },
  {
   "cell_type": "code",
   "execution_count": 7,
   "metadata": {},
   "outputs": [
    {
     "data": {
      "text/plain": [
       "(27956, 2)"
      ]
     },
     "execution_count": 7,
     "metadata": {},
     "output_type": "execute_result"
    }
   ],
   "source": [
    "test_df = pd.read_csv(\"/kaggle/happywhale/input/sample_submission.csv\")\n",
    "test_df.shape"
   ]
  },
  {
   "cell_type": "markdown",
   "metadata": {},
   "source": [
    "### concat ensemble"
   ]
  },
  {
   "cell_type": "code",
   "execution_count": 8,
   "metadata": {},
   "outputs": [],
   "source": [
    "import bz2\n",
    "import pickle\n",
    "import _pickle as cPickle\n",
    "\n",
    "def compressed_pickle(title, data):\n",
    "    with bz2.BZ2File(title + '.pbz2', 'w') as f:\n",
    "        cPickle.dump(data, f)\n",
    "        \n",
    "def decompress_pickle(file):\n",
    "    data = bz2.BZ2File(file, 'rb')\n",
    "    data = cPickle.load(data)\n",
    "    return data"
   ]
  },
  {
   "cell_type": "code",
   "execution_count": 9,
   "metadata": {},
   "outputs": [],
   "source": [
    "d = {\n",
    "    \"exp16v4sampler_fold0\": 0.8045250039815257,\n",
    "    \"exp16v6AugmixFullB4_fold0\": 0.845,\n",
    "    \"exp16v6AugmixB4Full_fold2\": 0.8055555555555555,\n",
    "    \"exp16v6AugmixB4Full_fold3\": 0.794918796274182,\n",
    "    \"exp16v6AugmixB4Step2_fold0\": 0.8076166587036152,\n",
    "    \"exp16v6AugmixB4Step2_fold0_remove_background\": 0.8076166587036152,\n",
    "    \"exp16v6AugmixB4Step2_fold1\": 0.8130304123091717,\n",
    "    \"exp16v6AugmixB4Step2_fold1_remove_background\": 0.8130304123091717,\n",
    "    \"exp16v6AugmixB4Step2_fold2\": 0.8126814653959062,\n",
    "    \"exp16v6AugmixB4Step2_fold3\": 0.8043706711249105,\n",
    "    \"exp16v6AugmixB4Step2_fold4\": 0.7963662272889206,\n",
    "    \"exp16v6AugmixB4_fold0\": 0.808689679885332,\n",
    "    \"exp16v6AugmixB4_fold1\": 0.8042533157030093,\n",
    "    \"exp16v6AugmixB4_fold2\": 0.8105139341295693,\n",
    "    \"exp16v6Augmix_fold0\": 0.8142837235228539,\n",
    "    \"exp16v6Augmix_fold1\": 0.8226249148535482,\n",
    "    \"exp16v6Augmix_fold2\": 0.7819700808300157,\n",
    "    \"exp16v6Augmix_fold3\": 0.7878831303240188,\n",
    "    \"exp16v6Augmix_fold4\": 0.7934904801488343,\n",
    "    \"exp16v6sampler_fold0\": 0.8119127249562033,\n",
    "    \"exp21b6_fold0\": 0.7997491638795986,\n",
    "}"
   ]
  },
  {
   "cell_type": "code",
   "execution_count": 10,
   "metadata": {},
   "outputs": [],
   "source": [
    "team_files = list(d.keys())"
   ]
  },
  {
   "cell_type": "code",
   "execution_count": 11,
   "metadata": {},
   "outputs": [],
   "source": [
    "team_weights = list(d.values())"
   ]
  },
  {
   "cell_type": "code",
   "execution_count": 12,
   "metadata": {},
   "outputs": [
    {
     "data": {
      "text/plain": [
       "21"
      ]
     },
     "execution_count": 12,
     "metadata": {},
     "output_type": "execute_result"
    }
   ],
   "source": [
    "len(team_files )"
   ]
  },
  {
   "cell_type": "code",
   "execution_count": 13,
   "metadata": {},
   "outputs": [
    {
     "data": {
      "text/plain": [
       "[0.8045250039815257,\n",
       " 0.845,\n",
       " 0.8055555555555555,\n",
       " 0.794918796274182,\n",
       " 0.8076166587036152,\n",
       " 0.8076166587036152,\n",
       " 0.8130304123091717,\n",
       " 0.8130304123091717,\n",
       " 0.8126814653959062,\n",
       " 0.8043706711249105,\n",
       " 0.7963662272889206,\n",
       " 0.808689679885332,\n",
       " 0.8042533157030093,\n",
       " 0.8105139341295693,\n",
       " 0.8142837235228539,\n",
       " 0.8226249148535482,\n",
       " 0.7819700808300157,\n",
       " 0.7878831303240188,\n",
       " 0.7934904801488343,\n",
       " 0.8119127249562033,\n",
       " 0.7997491638795986]"
      ]
     },
     "execution_count": 13,
     "metadata": {},
     "output_type": "execute_result"
    }
   ],
   "source": [
    "team_weights"
   ]
  },
  {
   "cell_type": "code",
   "execution_count": 14,
   "metadata": {},
   "outputs": [
    {
     "data": {
      "text/plain": [
       "['exp16v4sampler_fold0',\n",
       " 'exp16v6AugmixFullB4_fold0',\n",
       " 'exp16v6AugmixB4Full_fold2',\n",
       " 'exp16v6AugmixB4Full_fold3',\n",
       " 'exp16v6AugmixB4Step2_fold0',\n",
       " 'exp16v6AugmixB4Step2_fold0_remove_background',\n",
       " 'exp16v6AugmixB4Step2_fold1',\n",
       " 'exp16v6AugmixB4Step2_fold1_remove_background',\n",
       " 'exp16v6AugmixB4Step2_fold2',\n",
       " 'exp16v6AugmixB4Step2_fold3',\n",
       " 'exp16v6AugmixB4Step2_fold4',\n",
       " 'exp16v6AugmixB4_fold0',\n",
       " 'exp16v6AugmixB4_fold1',\n",
       " 'exp16v6AugmixB4_fold2',\n",
       " 'exp16v6Augmix_fold0',\n",
       " 'exp16v6Augmix_fold1',\n",
       " 'exp16v6Augmix_fold2',\n",
       " 'exp16v6Augmix_fold3',\n",
       " 'exp16v6Augmix_fold4',\n",
       " 'exp16v6sampler_fold0',\n",
       " 'exp21b6_fold0']"
      ]
     },
     "execution_count": 14,
     "metadata": {},
     "output_type": "execute_result"
    }
   ],
   "source": [
    "team_files"
   ]
  },
  {
   "cell_type": "code",
   "execution_count": 15,
   "metadata": {},
   "outputs": [
    {
     "data": {
      "text/plain": [
       "(51033, 8)"
      ]
     },
     "execution_count": 15,
     "metadata": {},
     "output_type": "execute_result"
    }
   ],
   "source": [
    "fold2 = pd.read_csv(\"/kaggle/happywhale/input/whale-21-3-2022/fold2.csv\")\n",
    "fold2.shape"
   ]
  },
  {
   "cell_type": "code",
   "execution_count": 16,
   "metadata": {},
   "outputs": [],
   "source": [
    "fold2_dict=dict()\n",
    "\n",
    "fold2_images = fold2.image.values\n",
    "\n",
    "for i in range(len(fold2)):\n",
    "    fold2_dict[fold2_images[i]] = i\n",
    "\n",
    "new_index = []\n",
    "org_train_image=train.image.values\n",
    "\n",
    "for i in range(len(train)):\n",
    "    new_index.append(fold2_dict[org_train_image[i]])\n",
    "    "
   ]
  },
  {
   "cell_type": "code",
   "execution_count": 17,
   "metadata": {},
   "outputs": [],
   "source": [
    "def get_embeddings(files,weights):\n",
    "    \n",
    "    DIRNAME =\"../input/whale-21-3-2022/\"\n",
    "\n",
    "    train_emb_lis = []\n",
    "    test_emb_lis  = []\n",
    "    \n",
    "    for fname,w in zip(files,weights):\n",
    "\n",
    "        wei=w**2\n",
    "        print(fname,wei)\n",
    "        \n",
    "        \n",
    "        data = decompress_pickle(DIRNAME + fname + \".pbz2\")\n",
    "        \n",
    "        train_emb = data[\"emb_val\"][new_index,:]\n",
    "        test_emb  = data[\"emb_test\"]\n",
    "\n",
    "        train_emb=normalize(train_emb)\n",
    "        test_emb=normalize(test_emb)\n",
    "        \n",
    "        train_emb*=wei\n",
    "        test_emb*=wei\n",
    "        \n",
    "        train_emb_lis.append(train_emb)\n",
    "        test_emb_lis.append(test_emb)\n",
    "        \n",
    "        print(\"    \",train_emb.shape,test_emb.shape)\n",
    "    \n",
    "    ret_train = normalize(np.concatenate(train_emb_lis,axis=1))\n",
    "    ret_test  = normalize(np.concatenate(test_emb_lis,axis=1))\n",
    "        \n",
    "    return ret_train,ret_test\n",
    "    "
   ]
  },
  {
   "cell_type": "code",
   "execution_count": 18,
   "metadata": {},
   "outputs": [
    {
     "name": "stdout",
     "output_type": "stream",
     "text": [
      "exp16v4sampler_fold0 0.6472604820314739\n",
      "     (51033, 512) (27956, 512)\n",
      "exp16v6AugmixFullB4_fold0 0.7140249999999999\n",
      "     (51033, 1024) (27956, 1024)\n",
      "exp16v6AugmixB4Full_fold2 0.6489197530864196\n",
      "     (51033, 512) (27956, 512)\n",
      "exp16v6AugmixB4Full_fold3 0.6318958926699946\n",
      "     (51033, 512) (27956, 512)\n",
      "exp16v6AugmixB4Step2_fold0 0.6522446674155917\n",
      "     (51033, 512) (27956, 512)\n",
      "exp16v6AugmixB4Step2_fold0_remove_background 0.6522446674155917\n",
      "     (51033, 512) (27956, 512)\n",
      "exp16v6AugmixB4Step2_fold1 0.6610184513396218\n",
      "     (51033, 512) (27956, 512)\n",
      "exp16v6AugmixB4Step2_fold1_remove_background 0.6610184513396218\n",
      "     (51033, 512) (27956, 512)\n",
      "exp16v6AugmixB4Step2_fold2 0.6604511641980375\n",
      "     (51033, 512) (27956, 512)\n",
      "exp16v6AugmixB4Step2_fold3 0.6470121765659389\n",
      "     (51033, 512) (27956, 512)\n",
      "exp16v6AugmixB4Step2_fold4 0.6341991679663888\n",
      "     (51033, 512) (27956, 512)\n",
      "exp16v6AugmixB4_fold0 0.6539789983530407\n",
      "     (51033, 512) (27956, 512)\n",
      "exp16v6AugmixB4_fold1 0.6468233958192843\n",
      "     (51033, 512) (27956, 512)\n",
      "exp16v6AugmixB4_fold2 0.6569328374181918\n",
      "     (51033, 512) (27956, 512)\n",
      "exp16v6Augmix_fold0 0.6630579823942436\n",
      "     (51033, 512) (27956, 512)\n",
      "exp16v6Augmix_fold1 0.6767117505378074\n",
      "     (51033, 512) (27956, 512)\n",
      "exp16v6Augmix_fold2 0.6114772073133014\n",
      "     (51033, 512) (27956, 512)\n",
      "exp16v6Augmix_fold3 0.6207598270491748\n",
      "     (51033, 512) (27956, 512)\n",
      "exp16v6Augmix_fold4 0.6296271420868276\n",
      "     (51033, 512) (27956, 512)\n",
      "exp16v6sampler_fold0 0.6592022729458074\n",
      "     (51033, 512) (27956, 512)\n",
      "exp21b6_fold0 0.639598725126117\n",
      "     (51033, 512) (27956, 512)\n"
     ]
    }
   ],
   "source": [
    "train_emb,test_emb = get_embeddings(team_files,team_weights)"
   ]
  },
  {
   "cell_type": "code",
   "execution_count": 19,
   "metadata": {},
   "outputs": [
    {
     "data": {
      "text/plain": [
       "((51033, 11264), (27956, 11264))"
      ]
     },
     "execution_count": 19,
     "metadata": {},
     "output_type": "execute_result"
    }
   ],
   "source": [
    "train_emb.shape,test_emb.shape"
   ]
  },
  {
   "cell_type": "code",
   "execution_count": null,
   "metadata": {},
   "outputs": [],
   "source": []
  },
  {
   "cell_type": "markdown",
   "metadata": {},
   "source": [
    "### test pred"
   ]
  },
  {
   "cell_type": "code",
   "execution_count": 20,
   "metadata": {},
   "outputs": [
    {
     "name": "stdout",
     "output_type": "stream",
     "text": [
      "CPU times: user 15min 42s, sys: 6min 37s, total: 22min 19s\n",
      "Wall time: 2min 1s\n"
     ]
    }
   ],
   "source": [
    "%%time\n",
    "\n",
    "#new_distances = cuml.metrics.pairwise_distances(test_emb,train_emb)\n",
    "distances = pairwise_distances(test_emb,train_emb)"
   ]
  },
  {
   "cell_type": "code",
   "execution_count": 21,
   "metadata": {},
   "outputs": [
    {
     "data": {
      "text/plain": [
       "[<matplotlib.lines.Line2D at 0x7fbf018a5510>]"
      ]
     },
     "execution_count": 21,
     "metadata": {},
     "output_type": "execute_result"
    },
    {
     "data": {
      "image/png": "[encoded data removed]",
      "text/plain": [
       "<Figure size 432x288 with 1 Axes>"
      ]
     },
     "metadata": {
      "needs_background": "light"
     },
     "output_type": "display_data"
    }
   ],
   "source": [
    "plt.plot(distances[0])"
   ]
  },
  {
   "cell_type": "code",
   "execution_count": null,
   "metadata": {},
   "outputs": [],
   "source": []
  },
  {
   "cell_type": "code",
   "execution_count": 22,
   "metadata": {
    "scrolled": true
   },
   "outputs": [
    {
     "name": "stdout",
     "output_type": "stream",
     "text": [
      "CPU times: user 11.2 s, sys: 1.45 s, total: 12.7 s\n",
      "Wall time: 12.7 s\n"
     ]
    }
   ],
   "source": [
    "%%time\n",
    "\n",
    "K=1000\n",
    "predicted_positions1 = np.argpartition(distances[:10000], K, axis=1)[:, :K]\n",
    "predicted_positions2 = np.argpartition(distances[10000:20000], K, axis=1)[:, :K]\n",
    "predicted_positions3 = np.argpartition(distances[20000:], K, axis=1)[:, :K]"
   ]
  },
  {
   "cell_type": "code",
   "execution_count": 23,
   "metadata": {},
   "outputs": [
    {
     "data": {
      "text/plain": [
       "(27956, 1000)"
      ]
     },
     "execution_count": 23,
     "metadata": {},
     "output_type": "execute_result"
    }
   ],
   "source": [
    "predicted_positions = np.vstack([predicted_positions1,predicted_positions2,predicted_positions3])\n",
    "predicted_positions.shape"
   ]
  },
  {
   "cell_type": "code",
   "execution_count": 24,
   "metadata": {},
   "outputs": [
    {
     "data": {
      "text/plain": [
       "array([[17196, 50620, 33125, ...,  1535, 41859, 13862],\n",
       "       [37455,  1427, 25644, ..., 42855, 29999,   407],\n",
       "       [20287, 49210, 28619, ...,  9312, 44788,  3574],\n",
       "       ...,\n",
       "       [39201,  3480, 34328, ..., 21616, 33112, 22364],\n",
       "       [24612, 18673, 25177, ..., 36938, 20817,  6954],\n",
       "       [17983, 37945, 37923, ..., 17637, 21467, 11399]])"
      ]
     },
     "execution_count": 24,
     "metadata": {},
     "output_type": "execute_result"
    }
   ],
   "source": [
    "predicted_positions"
   ]
  },
  {
   "cell_type": "code",
   "execution_count": 25,
   "metadata": {},
   "outputs": [
    {
     "name": "stderr",
     "output_type": "stream",
     "text": [
      "100%|██████████| 27956/27956 [00:30<00:00, 925.71it/s]\n"
     ]
    }
   ],
   "source": [
    "sub_pred_lis = []\n",
    "\n",
    "train_inddividual_id_lis = train[\"individual_id\"].values\n",
    "\n",
    "\n",
    "for i in tqdm(range(predicted_positions.shape[0])):\n",
    "    nearest = [(train_inddividual_id_lis[j], distances[i, j]) for j in predicted_positions[i]]\n",
    "    nearest.sort(key=lambda x: x[1])\n",
    "\n",
    "    prediction = [index_id for index_id, d in nearest]\n",
    "    \n",
    "    done = set()\n",
    "    pred_list = []\n",
    "    for pred_id in prediction:\n",
    "        if pred_id in done:\n",
    "            continue\n",
    "        done.add(pred_id)\n",
    "        pred_list.append(pred_id)\n",
    "        if len(pred_list)==5:\n",
    "            break    \n",
    "\n",
    "            \n",
    "    sub_pred_lis.append(pred_list)"
   ]
  },
  {
   "cell_type": "code",
   "execution_count": 26,
   "metadata": {},
   "outputs": [],
   "source": [
    "pred_lis_joined = []\n",
    "for preds in sub_pred_lis:\n",
    "    pred_lis_joined.append(\" \".join(preds))"
   ]
  },
  {
   "cell_type": "code",
   "execution_count": 27,
   "metadata": {},
   "outputs": [],
   "source": [
    "test_df[\"predictions\"] = pred_lis_joined"
   ]
  },
  {
   "cell_type": "code",
   "execution_count": 28,
   "metadata": {},
   "outputs": [
    {
     "data": {
      "text/html": [
       "<div>\n",
       "<style scoped>\n",
       "    .dataframe tbody tr th:only-of-type {\n",
       "        vertical-align: middle;\n",
       "    }\n",
       "\n",
       "    .dataframe tbody tr th {\n",
       "        vertical-align: top;\n",
       "    }\n",
       "\n",
       "    .dataframe thead th {\n",
       "        text-align: right;\n",
       "    }\n",
       "</style>\n",
       "<table border=\"1\" class=\"dataframe\">\n",
       "  <thead>\n",
       "    <tr style=\"text-align: right;\">\n",
       "      <th></th>\n",
       "      <th>image</th>\n",
       "      <th>predictions</th>\n",
       "    </tr>\n",
       "  </thead>\n",
       "  <tbody>\n",
       "    <tr>\n",
       "      <th>0</th>\n",
       "      <td>000110707af0ba.jpg</td>\n",
       "      <td>fbe2b15b5481 6d1cc6d00dca 5ec416e8a0a1 9513dd8...</td>\n",
       "    </tr>\n",
       "    <tr>\n",
       "      <th>1</th>\n",
       "      <td>0006287ec424cb.jpg</td>\n",
       "      <td>1424c7fec826 c3b7d902e73c f0efb5bcc5d3 e72a502...</td>\n",
       "    </tr>\n",
       "    <tr>\n",
       "      <th>2</th>\n",
       "      <td>000809ecb2ccad.jpg</td>\n",
       "      <td>1ce3ba6a3c29 82f26bb1adae 50af5f0533c5 b91c12f...</td>\n",
       "    </tr>\n",
       "    <tr>\n",
       "      <th>3</th>\n",
       "      <td>00098d1376dab2.jpg</td>\n",
       "      <td>c4274d90be60 2781acdf5508 b5db2ecef12d 27be93c...</td>\n",
       "    </tr>\n",
       "    <tr>\n",
       "      <th>4</th>\n",
       "      <td>000b8d89c738bd.jpg</td>\n",
       "      <td>cf500d3874bc c88cb1224033 d4d2cd407a48 396610a...</td>\n",
       "    </tr>\n",
       "    <tr>\n",
       "      <th>...</th>\n",
       "      <td>...</td>\n",
       "      <td>...</td>\n",
       "    </tr>\n",
       "    <tr>\n",
       "      <th>27951</th>\n",
       "      <td>fff6ff1989b5cd.jpg</td>\n",
       "      <td>734573d54bef 843297d1983b ec0aa394b7e5 79d85d2...</td>\n",
       "    </tr>\n",
       "    <tr>\n",
       "      <th>27952</th>\n",
       "      <td>fff8fd932b42cb.jpg</td>\n",
       "      <td>d02966ca2974 6ee0efae585c 4e376cb4fd38 357b067...</td>\n",
       "    </tr>\n",
       "    <tr>\n",
       "      <th>27953</th>\n",
       "      <td>fff96371332c16.jpg</td>\n",
       "      <td>8949de1830d1 dc4082105594 9d86367bdff7 2ea061e...</td>\n",
       "    </tr>\n",
       "    <tr>\n",
       "      <th>27954</th>\n",
       "      <td>fffc1c4d3eabc7.jpg</td>\n",
       "      <td>e7f9e93184b9 a8fe10f7b3e0 d85f2d5186cb fd53cdc...</td>\n",
       "    </tr>\n",
       "    <tr>\n",
       "      <th>27955</th>\n",
       "      <td>fffc50be10c175.jpg</td>\n",
       "      <td>32a8f92d7809 a012c69541da 4587a8786179 9b70331...</td>\n",
       "    </tr>\n",
       "  </tbody>\n",
       "</table>\n",
       "<p>27956 rows × 2 columns</p>\n",
       "</div>"
      ],
      "text/plain": [
       "                    image                                        predictions\n",
       "0      000110707af0ba.jpg  fbe2b15b5481 6d1cc6d00dca 5ec416e8a0a1 9513dd8...\n",
       "1      0006287ec424cb.jpg  1424c7fec826 c3b7d902e73c f0efb5bcc5d3 e72a502...\n",
       "2      000809ecb2ccad.jpg  1ce3ba6a3c29 82f26bb1adae 50af5f0533c5 b91c12f...\n",
       "3      00098d1376dab2.jpg  c4274d90be60 2781acdf5508 b5db2ecef12d 27be93c...\n",
       "4      000b8d89c738bd.jpg  cf500d3874bc c88cb1224033 d4d2cd407a48 396610a...\n",
       "...                   ...                                                ...\n",
       "27951  fff6ff1989b5cd.jpg  734573d54bef 843297d1983b ec0aa394b7e5 79d85d2...\n",
       "27952  fff8fd932b42cb.jpg  d02966ca2974 6ee0efae585c 4e376cb4fd38 357b067...\n",
       "27953  fff96371332c16.jpg  8949de1830d1 dc4082105594 9d86367bdff7 2ea061e...\n",
       "27954  fffc1c4d3eabc7.jpg  e7f9e93184b9 a8fe10f7b3e0 d85f2d5186cb fd53cdc...\n",
       "27955  fffc50be10c175.jpg  32a8f92d7809 a012c69541da 4587a8786179 9b70331...\n",
       "\n",
       "[27956 rows x 2 columns]"
      ]
     },
     "execution_count": 28,
     "metadata": {},
     "output_type": "execute_result"
    }
   ],
   "source": [
    "test_df"
   ]
  },
  {
   "cell_type": "code",
   "execution_count": 29,
   "metadata": {},
   "outputs": [],
   "source": [
    "test_df.to_csv(\"team_21model_concat_weighted_average.csv\",index=None)"
   ]
  },
  {
   "cell_type": "code",
   "execution_count": null,
   "metadata": {},
   "outputs": [],
   "source": []
  }
 ],
 "metadata": {
  "kernelspec": {
   "display_name": "Python 3 (ipykernel)",
   "language": "python",
   "name": "python3"
  },
  "language_info": {
   "codemirror_mode": {
    "name": "ipython",
    "version": 3
   },
   "file_extension": ".py",
   "mimetype": "text/x-python",
   "name": "python",
   "nbconvert_exporter": "python",
   "pygments_lexer": "ipython3",
   "version": "3.7.12"
  }
 },
 "nbformat": 4,
 "nbformat_minor": 4
}
