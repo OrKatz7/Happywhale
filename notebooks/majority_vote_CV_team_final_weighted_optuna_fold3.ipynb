{
 "cells": [
  {
   "cell_type": "markdown",
   "metadata": {},
   "source": [
    "Majority vote from team's CV"
   ]
  },
  {
   "cell_type": "code",
   "execution_count": 1,
   "metadata": {
    "scrolled": true
   },
   "outputs": [],
   "source": [
    "import numpy as np\n",
    "import matplotlib.pyplot as plt\n",
    "import pandas as pd\n",
    "import json\n",
    "import glob\n",
    "\n",
    "from tqdm import tqdm\n",
    "import seaborn as sns\n",
    "from collections import Counter\n",
    "\n",
    "import cv2"
   ]
  },
  {
   "cell_type": "code",
   "execution_count": 2,
   "metadata": {},
   "outputs": [],
   "source": [
    "import cudf, cuml, cupy\n",
    "from cuml.feature_extraction.text import TfidfVectorizer\n",
    "from cuml.neighbors import NearestNeighbors"
   ]
  },
  {
   "cell_type": "code",
   "execution_count": 3,
   "metadata": {},
   "outputs": [],
   "source": [
    "from collections import Counter\n",
    "from sklearn.metrics import pairwise_distances\n",
    "from sklearn.preprocessing import normalize"
   ]
  },
  {
   "cell_type": "code",
   "execution_count": 4,
   "metadata": {},
   "outputs": [],
   "source": [
    "from collections import defaultdict"
   ]
  },
  {
   "cell_type": "code",
   "execution_count": 5,
   "metadata": {},
   "outputs": [],
   "source": [
    "import bz2\n",
    "import pickle\n",
    "import _pickle as cPickle\n",
    "\n",
    "def compressed_pickle(title, data):\n",
    "    with bz2.BZ2File(title + '.pbz2', 'w') as f:\n",
    "        cPickle.dump(data, f)\n",
    "        \n",
    "def decompress_pickle(file):\n",
    "    data = bz2.BZ2File(file, 'rb')\n",
    "    data = cPickle.load(data)\n",
    "    return data"
   ]
  },
  {
   "cell_type": "code",
   "execution_count": 6,
   "metadata": {},
   "outputs": [],
   "source": [
    "#exps = !ls ../input/whale-21-3-2022/ | grep pbz2 | grep fold4\n",
    "#exps"
   ]
  },
  {
   "cell_type": "code",
   "execution_count": null,
   "metadata": {},
   "outputs": [],
   "source": []
  },
  {
   "cell_type": "code",
   "execution_count": 7,
   "metadata": {},
   "outputs": [],
   "source": [
    "FOLD=3"
   ]
  },
  {
   "cell_type": "code",
   "execution_count": 8,
   "metadata": {},
   "outputs": [],
   "source": [
    "exps_all = [\n",
    "    [\n",
    "         'exp16v6Augmix_fold0.pbz2',\n",
    "         'exp16v4sampler_fold0.pbz2',\n",
    "         'exp16v6AugMixNew4_fold0.pbz2',\n",
    "         'exp16v6AugMixNew4_fold0_tta.pbz2',\n",
    "         'exp16v6AugmixB3_fold0.pbz2',\n",
    "         'exp16v6AugmixB4Step2_fold0.pbz2',\n",
    "         'exp16v6AugmixB4Step2_fold0_remove_background.pbz2',\n",
    "         'exp16v6AugmixB4_fold0.pbz2',\n",
    "         'exp16v6AugmixB4_fold0_remove_background.pbz2',\n",
    "         'exp16v6AugmixFullB4_fold0.pbz2',\n",
    "         'exp16v6sampler_fold0.pbz2',\n",
    "         'exp21b6_fold0.pbz2',\n",
    "         'exp21b6_fold0_remove_background.pbz2'\n",
    "    ],\n",
    "    [\n",
    "         'exp16v6Augmix_fold1.pbz2',\n",
    "         'exp16v6AugMixNew4_fold1.pbz2',\n",
    "         'exp16v6AugMixNew4_fold1_tta.pbz2',\n",
    "         'exp16v6AugmixB3_fold1.pbz2',\n",
    "         'exp16v6AugmixB4Step2_fold1.pbz2',\n",
    "         'exp16v6AugmixB4Step2_fold1_remove_background.pbz2',\n",
    "         'exp16v6AugmixB4_fold1.pbz2',\n",
    "         'exp21b6_fold1_remove_background.pbz2'\n",
    "    ],\n",
    "    [\n",
    "         'exp16v6Augmix_fold2.pbz2',\n",
    "         'exp16v6AugMixNew4_fold2.pbz2',\n",
    "         'exp16v6AugMixNew4_fold2_tta.pbz2',\n",
    "         'exp16v6AugmixB3_fold2.pbz2',\n",
    "         'exp16v6AugmixB4Full_fold2.pbz2',\n",
    "         'exp16v6AugmixB4Step2_fold2.pbz2',\n",
    "         'exp16v6AugmixB4_fold2.pbz2',\n",
    "         'exp16v6AugmixB4_fold2_remove_background.pbz2',\n",
    "         'exp21b6_fold2_remove_background.pbz2'\n",
    "    ],\n",
    "    [\n",
    "         'exp16v6Augmix_fold3.pbz2',\n",
    "         'exp16v6AugMix1536_fold3.pbz2',\n",
    "         'exp16v6AugmixB3_fold3.pbz2',\n",
    "         'exp16v6AugmixB4Full_fold3.pbz2',\n",
    "         'exp16v6AugmixB4Step2_fold3.pbz2',\n",
    "         'exp16v6AugmixB4_fold3_remove_background.pbz2',\n",
    "         'exp21b6_fold3_remove_background.pbz2'\n",
    "    ],\n",
    "    [\n",
    "         'exp16v6Augmix_fold4.pbz2',\n",
    "         'exp16v6AugMix1536_fold4.pbz2',\n",
    "         'exp16v6AugmixB3_fold4.pbz2',\n",
    "         'exp16v6AugmixB4Step2_fold4.pbz2',\n",
    "         'exp16v6AugmixB4_fold4_remove_background.pbz2',\n",
    "    ]\n",
    "]"
   ]
  },
  {
   "cell_type": "code",
   "execution_count": 9,
   "metadata": {},
   "outputs": [],
   "source": [
    "exps = exps_all[FOLD]"
   ]
  },
  {
   "cell_type": "code",
   "execution_count": 10,
   "metadata": {
    "scrolled": false
   },
   "outputs": [
    {
     "data": {
      "text/plain": [
       "(51033, 8)"
      ]
     },
     "execution_count": 10,
     "metadata": {},
     "output_type": "execute_result"
    }
   ],
   "source": [
    "fold2 = pd.read_csv(\"/kaggle/happywhale/input/whale-21-3-2022/fold2.csv\")\n",
    "fold2.shape"
   ]
  },
  {
   "cell_type": "code",
   "execution_count": 11,
   "metadata": {},
   "outputs": [],
   "source": [
    "valid = fold2.query(\"fold == @FOLD\").reset_index()\n",
    "train = fold2.query(\"fold != @FOLD\").reset_index()"
   ]
  },
  {
   "cell_type": "code",
   "execution_count": 12,
   "metadata": {},
   "outputs": [],
   "source": [
    "valid_ind = (fold2.fold == FOLD).values\n",
    "train_ind = (fold2.fold != FOLD).values"
   ]
  },
  {
   "cell_type": "code",
   "execution_count": null,
   "metadata": {},
   "outputs": [],
   "source": []
  },
  {
   "cell_type": "code",
   "execution_count": 13,
   "metadata": {},
   "outputs": [],
   "source": [
    "train_inddividual_id_lis = train[\"individual_id\"].values\n",
    "valid_inddividual_id_lis = valid[\"individual_id\"].values\n",
    "\n",
    "def get_result_each(files):\n",
    "    DIRNAME =\"../input/whale-21-3-2022/\"\n",
    "      \n",
    "    ret = []\n",
    "        \n",
    "    for fname in files:\n",
    "        print(fname)\n",
    "        data = decompress_pickle(DIRNAME + fname  )\n",
    "        \n",
    "        train_emb = data[\"emb_val\"]#[new_index,:]\n",
    "        \n",
    "        train_emb=normalize(train_emb)\n",
    "        \n",
    "        valid_preds = train_emb[valid_ind]\n",
    "        train_preds = train_emb[train_ind]\n",
    "        \n",
    "        \n",
    "        distances = pairwise_distances(valid_preds,train_preds)\n",
    "                \n",
    "        K=1000\n",
    "        predicted_positions = np.argpartition(distances, K, axis=1)[:, :K]\n",
    "\n",
    "        all_pred_lis = []\n",
    "        for i in tqdm(range(predicted_positions.shape[0])):\n",
    "            nearest = [(train_inddividual_id_lis[j], distances[i, j]) for j in predicted_positions[i]]\n",
    "            nearest.sort(key=lambda x: x[1])\n",
    "\n",
    "            prediction = [index_id for index_id, d in nearest]\n",
    "\n",
    "            done = set()\n",
    "            pred_list = []\n",
    "            for pred_id in prediction:\n",
    "                if pred_id in done:\n",
    "                    continue\n",
    "                done.add(pred_id)\n",
    "                pred_list.append(pred_id)\n",
    "                if len(pred_list)==20:\n",
    "                    break\n",
    "\n",
    "            all_pred_lis.append(pred_list)\n",
    "        \n",
    "        ret.append(all_pred_lis)\n",
    "        \n",
    "    return ret\n",
    "    "
   ]
  },
  {
   "cell_type": "markdown",
   "metadata": {},
   "source": [
    "### get result for each model"
   ]
  },
  {
   "cell_type": "code",
   "execution_count": 14,
   "metadata": {
    "scrolled": false
   },
   "outputs": [
    {
     "name": "stdout",
     "output_type": "stream",
     "text": [
      "exp16v6Augmix_fold3.pbz2\n"
     ]
    },
    {
     "name": "stderr",
     "output_type": "stream",
     "text": [
      "100%|██████████| 8374/8374 [00:07<00:00, 1102.78it/s]\n"
     ]
    },
    {
     "name": "stdout",
     "output_type": "stream",
     "text": [
      "exp16v6AugMix1536_fold3.pbz2\n"
     ]
    },
    {
     "name": "stderr",
     "output_type": "stream",
     "text": [
      "100%|██████████| 8374/8374 [00:07<00:00, 1106.53it/s]\n"
     ]
    },
    {
     "name": "stdout",
     "output_type": "stream",
     "text": [
      "exp16v6AugmixB3_fold3.pbz2\n"
     ]
    },
    {
     "name": "stderr",
     "output_type": "stream",
     "text": [
      "100%|██████████| 8374/8374 [00:07<00:00, 1095.44it/s]\n"
     ]
    },
    {
     "name": "stdout",
     "output_type": "stream",
     "text": [
      "exp16v6AugmixB4Full_fold3.pbz2\n"
     ]
    },
    {
     "name": "stderr",
     "output_type": "stream",
     "text": [
      "100%|██████████| 8374/8374 [00:07<00:00, 1096.20it/s]\n"
     ]
    },
    {
     "name": "stdout",
     "output_type": "stream",
     "text": [
      "exp16v6AugmixB4Step2_fold3.pbz2\n"
     ]
    },
    {
     "name": "stderr",
     "output_type": "stream",
     "text": [
      "100%|██████████| 8374/8374 [00:07<00:00, 1100.21it/s]\n"
     ]
    },
    {
     "name": "stdout",
     "output_type": "stream",
     "text": [
      "exp16v6AugmixB4_fold3_remove_background.pbz2\n"
     ]
    },
    {
     "name": "stderr",
     "output_type": "stream",
     "text": [
      "100%|██████████| 8374/8374 [00:07<00:00, 1104.83it/s]\n"
     ]
    },
    {
     "name": "stdout",
     "output_type": "stream",
     "text": [
      "exp21b6_fold3_remove_background.pbz2\n"
     ]
    },
    {
     "name": "stderr",
     "output_type": "stream",
     "text": [
      "100%|██████████| 8374/8374 [00:07<00:00, 1112.15it/s]\n"
     ]
    }
   ],
   "source": [
    "ret = get_result_each(exps)"
   ]
  },
  {
   "cell_type": "code",
   "execution_count": 15,
   "metadata": {},
   "outputs": [
    {
     "data": {
      "text/plain": [
       "(7, 8374, 20)"
      ]
     },
     "execution_count": 15,
     "metadata": {},
     "output_type": "execute_result"
    }
   ],
   "source": [
    "len(ret),len(ret[0]),len(ret[0][0])"
   ]
  },
  {
   "cell_type": "code",
   "execution_count": null,
   "metadata": {},
   "outputs": [],
   "source": []
  },
  {
   "cell_type": "code",
   "execution_count": 16,
   "metadata": {},
   "outputs": [],
   "source": [
    "def get_score(weights):\n",
    "    \n",
    "    #train_emb\n",
    "    vote_result = defaultdict(lambda:defaultdict(int))\n",
    "    \n",
    "    for preds, w in zip(ret, weights):\n",
    "        for i in range(len(preds)):\n",
    "            \n",
    "            for j,p in enumerate(preds[i]):\n",
    "                vote_result[i][p] += (w / (j+1))\n",
    "        \n",
    "        \n",
    "    score_lis = []\n",
    "    pred_ids = []\n",
    "\n",
    "    for i in range(len(ret[0])):\n",
    "        pred_list = np.array(sorted(vote_result[i].items(), key=lambda item: item[1])[::-1])[:5,0].tolist()\n",
    "\n",
    "        if valid_inddividual_id_lis[i] in pred_list:\n",
    "            s = 1/(pred_list.index(valid_inddividual_id_lis[i]) + 1)\n",
    "            score_lis.append(s)\n",
    "        else:\n",
    "            score_lis.append(0)\n",
    "    \n",
    "    return np.mean(score_lis)"
   ]
  },
  {
   "cell_type": "code",
   "execution_count": null,
   "metadata": {},
   "outputs": [],
   "source": []
  },
  {
   "cell_type": "code",
   "execution_count": 17,
   "metadata": {},
   "outputs": [
    {
     "data": {
      "text/plain": [
       "0.8517215985988377"
      ]
     },
     "execution_count": 17,
     "metadata": {},
     "output_type": "execute_result"
    }
   ],
   "source": [
    "# un-weighted result\n",
    "get_score([1] * len(exps))"
   ]
  },
  {
   "cell_type": "code",
   "execution_count": null,
   "metadata": {},
   "outputs": [],
   "source": []
  },
  {
   "cell_type": "markdown",
   "metadata": {},
   "source": [
    "optimize by optuna"
   ]
  },
  {
   "cell_type": "code",
   "execution_count": 18,
   "metadata": {},
   "outputs": [],
   "source": [
    "import optuna"
   ]
  },
  {
   "cell_type": "code",
   "execution_count": 19,
   "metadata": {},
   "outputs": [],
   "source": [
    "def objective_wrapper(exps):\n",
    "    def objective(trial):\n",
    "\n",
    "        weights = [1]\n",
    "        for i in range(len(exps)-1):\n",
    "            w=trial.suggest_uniform(exps[i+1], 0, 4)\n",
    "            weights.append(w)\n",
    "        \n",
    "        \n",
    "        score_lis = get_score(weights)\n",
    "        score = np.mean(score_lis)\n",
    "        return score\n",
    "    \n",
    "    return objective\n"
   ]
  },
  {
   "cell_type": "code",
   "execution_count": 20,
   "metadata": {
    "scrolled": true
   },
   "outputs": [
    {
     "name": "stderr",
     "output_type": "stream",
     "text": [
      "\u001b[32m[I 2022-04-17 07:16:39,264]\u001b[0m A new study created in memory with name: no-name-49b6dc4f-dfcb-4f20-b17a-1ea87aaaaece\u001b[0m\n",
      "\u001b[32m[I 2022-04-17 07:16:40,482]\u001b[0m Trial 0 finished with value: 0.85026271793647 and parameters: {'exp16v6AugMix1536_fold3.pbz2': 0.5327470186830929, 'exp16v6AugmixB3_fold3.pbz2': 2.042939858252668, 'exp16v6AugmixB4Full_fold3.pbz2': 3.95165790889262, 'exp16v6AugmixB4Step2_fold3.pbz2': 0.6534111885286888, 'exp16v6AugmixB4_fold3_remove_background.pbz2': 3.212802291750049, 'exp21b6_fold3_remove_background.pbz2': 1.6601877184809606}. Best is trial 0 with value: 0.85026271793647.\u001b[0m\n",
      "\u001b[32m[I 2022-04-17 07:16:41,717]\u001b[0m Trial 1 finished with value: 0.8559449884563332 and parameters: {'exp16v6AugMix1536_fold3.pbz2': 3.676763132913788, 'exp16v6AugmixB3_fold3.pbz2': 3.2237758357971735, 'exp16v6AugmixB4Full_fold3.pbz2': 3.8782234563805957, 'exp16v6AugmixB4Step2_fold3.pbz2': 3.698927513226225, 'exp16v6AugmixB4_fold3_remove_background.pbz2': 2.547103442164431, 'exp21b6_fold3_remove_background.pbz2': 1.5336776422505665}. Best is trial 1 with value: 0.8559449884563332.\u001b[0m\n",
      "\u001b[32m[I 2022-04-17 07:16:42,965]\u001b[0m Trial 2 finished with value: 0.8510329591593027 and parameters: {'exp16v6AugMix1536_fold3.pbz2': 1.2585713393658509, 'exp16v6AugmixB3_fold3.pbz2': 1.6973904982052437, 'exp16v6AugmixB4Full_fold3.pbz2': 3.094037948404426, 'exp16v6AugmixB4Step2_fold3.pbz2': 3.0552399648428503, 'exp16v6AugmixB4_fold3_remove_background.pbz2': 0.9234302392991092, 'exp21b6_fold3_remove_background.pbz2': 3.103173144303876}. Best is trial 1 with value: 0.8559449884563332.\u001b[0m\n",
      "\u001b[32m[I 2022-04-17 07:16:44,303]\u001b[0m Trial 3 finished with value: 0.8620730833532362 and parameters: {'exp16v6AugMix1536_fold3.pbz2': 2.7910723806841657, 'exp16v6AugmixB3_fold3.pbz2': 0.09605413573837884, 'exp16v6AugmixB4Full_fold3.pbz2': 3.839270208623667, 'exp16v6AugmixB4Step2_fold3.pbz2': 3.3172089853740934, 'exp16v6AugmixB4_fold3_remove_background.pbz2': 1.4904698966514682, 'exp21b6_fold3_remove_background.pbz2': 0.2280677319815667}. Best is trial 3 with value: 0.8620730833532362.\u001b[0m\n",
      "\u001b[32m[I 2022-04-17 07:16:45,508]\u001b[0m Trial 4 finished with value: 0.8597265345115835 and parameters: {'exp16v6AugMix1536_fold3.pbz2': 3.6342295926943495, 'exp16v6AugmixB3_fold3.pbz2': 2.4798814382499277, 'exp16v6AugmixB4Full_fold3.pbz2': 3.2197472972871903, 'exp16v6AugmixB4Step2_fold3.pbz2': 1.4746779919678956, 'exp16v6AugmixB4_fold3_remove_background.pbz2': 0.9998873454861918, 'exp21b6_fold3_remove_background.pbz2': 2.386558058219291}. Best is trial 3 with value: 0.8620730833532362.\u001b[0m\n",
      "\u001b[32m[I 2022-04-17 07:16:46,715]\u001b[0m Trial 5 finished with value: 0.8491600987182548 and parameters: {'exp16v6AugMix1536_fold3.pbz2': 0.19309871425727287, 'exp16v6AugmixB3_fold3.pbz2': 1.1778243745113013, 'exp16v6AugmixB4Full_fold3.pbz2': 2.4695506107395917, 'exp16v6AugmixB4Step2_fold3.pbz2': 1.2262917065187082, 'exp16v6AugmixB4_fold3_remove_background.pbz2': 1.8828838577691496, 'exp21b6_fold3_remove_background.pbz2': 0.6741829909167332}. Best is trial 3 with value: 0.8620730833532362.\u001b[0m\n",
      "\u001b[32m[I 2022-04-17 07:16:47,919]\u001b[0m Trial 6 finished with value: 0.8596489133030809 and parameters: {'exp16v6AugMix1536_fold3.pbz2': 3.065377668232536, 'exp16v6AugmixB3_fold3.pbz2': 2.4537007025981876, 'exp16v6AugmixB4Full_fold3.pbz2': 3.5502468857101492, 'exp16v6AugmixB4Step2_fold3.pbz2': 2.611419782149929, 'exp16v6AugmixB4_fold3_remove_background.pbz2': 1.4658443008413324, 'exp21b6_fold3_remove_background.pbz2': 0.871071828382946}. Best is trial 3 with value: 0.8620730833532362.\u001b[0m\n",
      "\u001b[32m[I 2022-04-17 07:16:49,127]\u001b[0m Trial 7 finished with value: 0.8485908765225699 and parameters: {'exp16v6AugMix1536_fold3.pbz2': 0.3661705561149513, 'exp16v6AugmixB3_fold3.pbz2': 0.9977505722430267, 'exp16v6AugmixB4Full_fold3.pbz2': 3.8400176140079427, 'exp16v6AugmixB4Step2_fold3.pbz2': 1.8708137979175095, 'exp16v6AugmixB4_fold3_remove_background.pbz2': 3.5830184622330856, 'exp21b6_fold3_remove_background.pbz2': 3.3324107345007596}. Best is trial 3 with value: 0.8620730833532362.\u001b[0m\n",
      "\u001b[32m[I 2022-04-17 07:16:50,338]\u001b[0m Trial 8 finished with value: 0.8575750338348858 and parameters: {'exp16v6AugMix1536_fold3.pbz2': 3.997103729621338, 'exp16v6AugmixB3_fold3.pbz2': 1.079697217776121, 'exp16v6AugmixB4Full_fold3.pbz2': 2.0747141328819483, 'exp16v6AugmixB4Step2_fold3.pbz2': 3.7120803712384767, 'exp16v6AugmixB4_fold3_remove_background.pbz2': 0.792878739657898, 'exp21b6_fold3_remove_background.pbz2': 0.37290505435597154}. Best is trial 3 with value: 0.8620730833532362.\u001b[0m\n",
      "\u001b[32m[I 2022-04-17 07:16:51,550]\u001b[0m Trial 9 finished with value: 0.8444112729878194 and parameters: {'exp16v6AugMix1536_fold3.pbz2': 2.0175253805064006, 'exp16v6AugmixB3_fold3.pbz2': 0.28953372185282866, 'exp16v6AugmixB4Full_fold3.pbz2': 0.9182933509282698, 'exp16v6AugmixB4Step2_fold3.pbz2': 3.2726838510949117, 'exp16v6AugmixB4_fold3_remove_background.pbz2': 2.9644439200139105, 'exp21b6_fold3_remove_background.pbz2': 1.4421356426005492}. Best is trial 3 with value: 0.8620730833532362.\u001b[0m\n",
      "\u001b[32m[I 2022-04-17 07:16:52,771]\u001b[0m Trial 10 finished with value: 0.8539148953108829 and parameters: {'exp16v6AugMix1536_fold3.pbz2': 2.491109261149577, 'exp16v6AugmixB3_fold3.pbz2': 0.03345009069405447, 'exp16v6AugmixB4Full_fold3.pbz2': 0.7085648580257977, 'exp16v6AugmixB4Step2_fold3.pbz2': 2.4055658251199112, 'exp16v6AugmixB4_fold3_remove_background.pbz2': 0.1536392286097985, 'exp21b6_fold3_remove_background.pbz2': 0.14423534311549385}. Best is trial 3 with value: 0.8620730833532362.\u001b[0m\n",
      "\u001b[32m[I 2022-04-17 07:16:54,012]\u001b[0m Trial 11 finished with value: 0.8517335403232226 and parameters: {'exp16v6AugMix1536_fold3.pbz2': 2.9180354436024576, 'exp16v6AugmixB3_fold3.pbz2': 3.976598052130455, 'exp16v6AugmixB4Full_fold3.pbz2': 2.85987504963703, 'exp16v6AugmixB4Step2_fold3.pbz2': 0.018325516824353016, 'exp16v6AugmixB4_fold3_remove_background.pbz2': 1.1816513117036243, 'exp21b6_fold3_remove_background.pbz2': 2.5829277161416684}. Best is trial 3 with value: 0.8620730833532362.\u001b[0m\n",
      "\u001b[32m[I 2022-04-17 07:16:55,232]\u001b[0m Trial 12 finished with value: 0.853731788870313 and parameters: {'exp16v6AugMix1536_fold3.pbz2': 3.2416146230760488, 'exp16v6AugmixB3_fold3.pbz2': 2.8540143081333493, 'exp16v6AugmixB4Full_fold3.pbz2': 1.5786035188891787, 'exp16v6AugmixB4Step2_fold3.pbz2': 1.5751155158020262, 'exp16v6AugmixB4_fold3_remove_background.pbz2': 0.2555031380327931, 'exp21b6_fold3_remove_background.pbz2': 2.3538109223340142}. Best is trial 3 with value: 0.8620730833532362.\u001b[0m\n",
      "\u001b[32m[I 2022-04-17 07:16:56,449]\u001b[0m Trial 13 finished with value: 0.8500000000000001 and parameters: {'exp16v6AugMix1536_fold3.pbz2': 2.33080042826802, 'exp16v6AugmixB3_fold3.pbz2': 3.460699486424525, 'exp16v6AugmixB4Full_fold3.pbz2': 3.1206832370448776, 'exp16v6AugmixB4Step2_fold3.pbz2': 0.9152880957666424, 'exp16v6AugmixB4_fold3_remove_background.pbz2': 1.979416337235714, 'exp21b6_fold3_remove_background.pbz2': 3.791036526891695}. Best is trial 3 with value: 0.8620730833532362.\u001b[0m\n",
      "\u001b[32m[I 2022-04-17 07:16:57,671]\u001b[0m Trial 14 finished with value: 0.8526630045378553 and parameters: {'exp16v6AugMix1536_fold3.pbz2': 1.5114308707628499, 'exp16v6AugmixB3_fold3.pbz2': 1.9102624979552694, 'exp16v6AugmixB4Full_fold3.pbz2': 2.596858580450166, 'exp16v6AugmixB4Step2_fold3.pbz2': 2.3253410917293693, 'exp16v6AugmixB4_fold3_remove_background.pbz2': 1.5240421887465485, 'exp21b6_fold3_remove_background.pbz2': 2.2129542257445856}. Best is trial 3 with value: 0.8620730833532362.\u001b[0m\n",
      "\u001b[32m[I 2022-04-17 07:16:58,893]\u001b[0m Trial 15 finished with value: 0.8635498766021815 and parameters: {'exp16v6AugMix1536_fold3.pbz2': 3.5500225609073386, 'exp16v6AugmixB3_fold3.pbz2': 0.595295977704229, 'exp16v6AugmixB4Full_fold3.pbz2': 3.3619940122572993, 'exp16v6AugmixB4Step2_fold3.pbz2': 2.9613399327669288, 'exp16v6AugmixB4_fold3_remove_background.pbz2': 0.6578701561083059, 'exp21b6_fold3_remove_background.pbz2': 1.098457047248521}. Best is trial 15 with value: 0.8635498766021815.\u001b[0m\n",
      "\u001b[32m[I 2022-04-17 07:17:00,116]\u001b[0m Trial 16 finished with value: 0.8439734097603693 and parameters: {'exp16v6AugMix1536_fold3.pbz2': 2.697380643100081, 'exp16v6AugmixB3_fold3.pbz2': 0.5037037968097249, 'exp16v6AugmixB4Full_fold3.pbz2': 0.2393878742793092, 'exp16v6AugmixB4Step2_fold3.pbz2': 3.953293589069616, 'exp16v6AugmixB4_fold3_remove_background.pbz2': 0.5214510671108741, 'exp21b6_fold3_remove_background.pbz2': 1.0160720044088936}. Best is trial 15 with value: 0.8635498766021815.\u001b[0m\n"
     ]
    },
    {
     "name": "stderr",
     "output_type": "stream",
     "text": [
      "\u001b[32m[I 2022-04-17 07:17:01,336]\u001b[0m Trial 17 finished with value: 0.8562514927155481 and parameters: {'exp16v6AugMix1536_fold3.pbz2': 3.4097440892625492, 'exp16v6AugmixB3_fold3.pbz2': 0.6676799186494113, 'exp16v6AugmixB4Full_fold3.pbz2': 1.8941577645953567, 'exp16v6AugmixB4Step2_fold3.pbz2': 3.013134948861107, 'exp16v6AugmixB4_fold3_remove_background.pbz2': 2.2253575754803245, 'exp21b6_fold3_remove_background.pbz2': 0.07235797661760196}. Best is trial 15 with value: 0.8635498766021815.\u001b[0m\n",
      "\u001b[32m[I 2022-04-17 07:17:02,564]\u001b[0m Trial 18 finished with value: 0.8554713000557281 and parameters: {'exp16v6AugMix1536_fold3.pbz2': 1.7704331217560438, 'exp16v6AugmixB3_fold3.pbz2': 1.3974262914288613, 'exp16v6AugmixB4Full_fold3.pbz2': 3.6055950495465776, 'exp16v6AugmixB4Step2_fold3.pbz2': 3.2886363271915453, 'exp16v6AugmixB4_fold3_remove_background.pbz2': 1.590562028901024, 'exp21b6_fold3_remove_background.pbz2': 1.131124684319512}. Best is trial 15 with value: 0.8635498766021815.\u001b[0m\n",
      "\u001b[32m[I 2022-04-17 07:17:03,816]\u001b[0m Trial 19 finished with value: 0.863571769763554 and parameters: {'exp16v6AugMix1536_fold3.pbz2': 3.9866432591646346, 'exp16v6AugmixB3_fold3.pbz2': 0.7164936522289935, 'exp16v6AugmixB4Full_fold3.pbz2': 3.4801574131652657, 'exp16v6AugmixB4Step2_fold3.pbz2': 2.756024227531987, 'exp16v6AugmixB4_fold3_remove_background.pbz2': 0.5914116669764734, 'exp21b6_fold3_remove_background.pbz2': 0.5229475233820056}. Best is trial 19 with value: 0.863571769763554.\u001b[0m\n",
      "\u001b[32m[I 2022-04-17 07:17:05,037]\u001b[0m Trial 20 finished with value: 0.8616451715627736 and parameters: {'exp16v6AugMix1536_fold3.pbz2': 3.727956868366937, 'exp16v6AugmixB3_fold3.pbz2': 0.7979612273097568, 'exp16v6AugmixB4Full_fold3.pbz2': 2.4626054242511017, 'exp16v6AugmixB4Step2_fold3.pbz2': 2.600835802922364, 'exp16v6AugmixB4_fold3_remove_background.pbz2': 0.04916568490553952, 'exp21b6_fold3_remove_background.pbz2': 0.5848319832530504}. Best is trial 19 with value: 0.863571769763554.\u001b[0m\n",
      "\u001b[32m[I 2022-04-17 07:17:06,257]\u001b[0m Trial 21 finished with value: 0.8637210413183664 and parameters: {'exp16v6AugMix1536_fold3.pbz2': 3.945674372503962, 'exp16v6AugmixB3_fold3.pbz2': 0.06615971349208562, 'exp16v6AugmixB4Full_fold3.pbz2': 3.4370745264651723, 'exp16v6AugmixB4Step2_fold3.pbz2': 2.8887445702503105, 'exp16v6AugmixB4_fold3_remove_background.pbz2': 0.6009794789781275, 'exp21b6_fold3_remove_background.pbz2': 0.4539128322039524}. Best is trial 21 with value: 0.8637210413183664.\u001b[0m\n",
      "\u001b[32m[I 2022-04-17 07:17:07,496]\u001b[0m Trial 22 finished with value: 0.8631995860202213 and parameters: {'exp16v6AugMix1536_fold3.pbz2': 3.875868881037082, 'exp16v6AugmixB3_fold3.pbz2': 0.6368855277575247, 'exp16v6AugmixB4Full_fold3.pbz2': 3.426636667865575, 'exp16v6AugmixB4Step2_fold3.pbz2': 2.8319975917409983, 'exp16v6AugmixB4_fold3_remove_background.pbz2': 0.5413692345871816, 'exp21b6_fold3_remove_background.pbz2': 1.2664792843525228}. Best is trial 21 with value: 0.8637210413183664.\u001b[0m\n",
      "\u001b[32m[I 2022-04-17 07:17:08,715]\u001b[0m Trial 23 finished with value: 0.8618103654167663 and parameters: {'exp16v6AugMix1536_fold3.pbz2': 3.381862528281794, 'exp16v6AugmixB3_fold3.pbz2': 0.3696641330379161, 'exp16v6AugmixB4Full_fold3.pbz2': 2.724100731033065, 'exp16v6AugmixB4Step2_fold3.pbz2': 2.0809325862714063, 'exp16v6AugmixB4_fold3_remove_background.pbz2': 0.5548756297320627, 'exp21b6_fold3_remove_background.pbz2': 1.8229953422482739}. Best is trial 21 with value: 0.8637210413183664.\u001b[0m\n",
      "\u001b[32m[I 2022-04-17 07:17:09,934]\u001b[0m Trial 24 finished with value: 0.8629607515325213 and parameters: {'exp16v6AugMix1536_fold3.pbz2': 3.4641300824011263, 'exp16v6AugmixB3_fold3.pbz2': 1.4307143733517518, 'exp16v6AugmixB4Full_fold3.pbz2': 2.9837439162591544, 'exp16v6AugmixB4Step2_fold3.pbz2': 2.0484791201893784, 'exp16v6AugmixB4_fold3_remove_background.pbz2': 0.6736684302351759, 'exp21b6_fold3_remove_background.pbz2': 0.5851183727437825}. Best is trial 21 with value: 0.8637210413183664.\u001b[0m\n",
      "\u001b[32m[I 2022-04-17 07:17:11,156]\u001b[0m Trial 25 finished with value: 0.8610600270679087 and parameters: {'exp16v6AugMix1536_fold3.pbz2': 3.8919568587559668, 'exp16v6AugmixB3_fold3.pbz2': 0.05365900147044278, 'exp16v6AugmixB4Full_fold3.pbz2': 2.2728592413644417, 'exp16v6AugmixB4Step2_fold3.pbz2': 2.7897578612349285, 'exp16v6AugmixB4_fold3_remove_background.pbz2': 1.1826169280064724, 'exp21b6_fold3_remove_background.pbz2': 0.7907371445959538}. Best is trial 21 with value: 0.8637210413183664.\u001b[0m\n",
      "\u001b[32m[I 2022-04-17 07:17:12,380]\u001b[0m Trial 26 finished with value: 0.8620691027784413 and parameters: {'exp16v6AugMix1536_fold3.pbz2': 3.1639052648194506, 'exp16v6AugmixB3_fold3.pbz2': 0.9110935686289983, 'exp16v6AugmixB4Full_fold3.pbz2': 3.4131734350371095, 'exp16v6AugmixB4Step2_fold3.pbz2': 3.5254385753612087, 'exp16v6AugmixB4_fold3_remove_background.pbz2': 0.3395866082048054, 'exp21b6_fold3_remove_background.pbz2': 0.4842113240520778}. Best is trial 21 with value: 0.8637210413183664.\u001b[0m\n",
      "\u001b[32m[I 2022-04-17 07:17:13,610]\u001b[0m Trial 27 finished with value: 0.8585184300613009 and parameters: {'exp16v6AugMix1536_fold3.pbz2': 3.5672632728058735, 'exp16v6AugmixB3_fold3.pbz2': 0.3669826376905518, 'exp16v6AugmixB4Full_fold3.pbz2': 1.3223308580474749, 'exp16v6AugmixB4Step2_fold3.pbz2': 2.2532817353413543, 'exp16v6AugmixB4_fold3_remove_background.pbz2': 1.0724412514230242, 'exp21b6_fold3_remove_background.pbz2': 0.02210122851053753}. Best is trial 21 with value: 0.8637210413183664.\u001b[0m\n",
      "\u001b[32m[I 2022-04-17 07:17:14,838]\u001b[0m Trial 28 finished with value: 0.8625607037656239 and parameters: {'exp16v6AugMix1536_fold3.pbz2': 3.9880924353301337, 'exp16v6AugmixB3_fold3.pbz2': 1.3176471048167357, 'exp16v6AugmixB4Full_fold3.pbz2': 3.386556049326696, 'exp16v6AugmixB4Step2_fold3.pbz2': 3.0387376992755453, 'exp16v6AugmixB4_fold3_remove_background.pbz2': 0.3341682111434261, 'exp21b6_fold3_remove_background.pbz2': 1.2118613227765058}. Best is trial 21 with value: 0.8637210413183664.\u001b[0m\n",
      "\u001b[32m[I 2022-04-17 07:17:16,076]\u001b[0m Trial 29 finished with value: 0.8573322187723906 and parameters: {'exp16v6AugMix1536_fold3.pbz2': 2.2477983061128635, 'exp16v6AugmixB3_fold3.pbz2': 1.6700512755348065, 'exp16v6AugmixB4Full_fold3.pbz2': 3.6591853449843437, 'exp16v6AugmixB4Step2_fold3.pbz2': 1.7855943946082768, 'exp16v6AugmixB4_fold3_remove_background.pbz2': 2.6451860514987375, 'exp21b6_fold3_remove_background.pbz2': 1.821021724049293}. Best is trial 21 with value: 0.8637210413183664.\u001b[0m\n",
      "\u001b[32m[I 2022-04-17 07:17:17,316]\u001b[0m Trial 30 finished with value: 0.8457009792213995 and parameters: {'exp16v6AugMix1536_fold3.pbz2': 0.8373734842651848, 'exp16v6AugmixB3_fold3.pbz2': 0.7089809241322774, 'exp16v6AugmixB4Full_fold3.pbz2': 2.864605209842019, 'exp16v6AugmixB4Step2_fold3.pbz2': 2.626722512367217, 'exp16v6AugmixB4_fold3_remove_background.pbz2': 3.6801647904559065, 'exp21b6_fold3_remove_background.pbz2': 0.942192894252518}. Best is trial 21 with value: 0.8637210413183664.\u001b[0m\n",
      "\u001b[32m[I 2022-04-17 07:17:18,537]\u001b[0m Trial 31 finished with value: 0.8634244884961388 and parameters: {'exp16v6AugMix1536_fold3.pbz2': 3.791113076900548, 'exp16v6AugmixB3_fold3.pbz2': 0.5908830509528162, 'exp16v6AugmixB4Full_fold3.pbz2': 3.993396595659882, 'exp16v6AugmixB4Step2_fold3.pbz2': 2.925520669133114, 'exp16v6AugmixB4_fold3_remove_background.pbz2': 0.6311591577951297, 'exp21b6_fold3_remove_background.pbz2': 1.2360476021607378}. Best is trial 21 with value: 0.8637210413183664.\u001b[0m\n",
      "\u001b[32m[I 2022-04-17 07:17:19,761]\u001b[0m Trial 32 finished with value: 0.8633150226892763 and parameters: {'exp16v6AugMix1536_fold3.pbz2': 3.677812341936308, 'exp16v6AugmixB3_fold3.pbz2': 0.2434422435019412, 'exp16v6AugmixB4Full_fold3.pbz2': 3.993271979952564, 'exp16v6AugmixB4Step2_fold3.pbz2': 3.441674143739463, 'exp16v6AugmixB4_fold3_remove_background.pbz2': 0.7212159815076566, 'exp21b6_fold3_remove_background.pbz2': 1.4457098731946671}. Best is trial 21 with value: 0.8637210413183664.\u001b[0m\n",
      "\u001b[32m[I 2022-04-17 07:17:20,979]\u001b[0m Trial 33 finished with value: 0.8635638086139638 and parameters: {'exp16v6AugMix1536_fold3.pbz2': 3.2864897255169487, 'exp16v6AugmixB3_fold3.pbz2': 0.5118332058700895, 'exp16v6AugmixB4Full_fold3.pbz2': 3.735670595425654, 'exp16v6AugmixB4Step2_fold3.pbz2': 2.928611198163887, 'exp16v6AugmixB4_fold3_remove_background.pbz2': 1.243716458264177, 'exp21b6_fold3_remove_background.pbz2': 0.40340395067800594}. Best is trial 21 with value: 0.8637210413183664.\u001b[0m\n"
     ]
    },
    {
     "name": "stderr",
     "output_type": "stream",
     "text": [
      "\u001b[32m[I 2022-04-17 07:17:22,201]\u001b[0m Trial 34 finished with value: 0.8624791019823262 and parameters: {'exp16v6AugMix1536_fold3.pbz2': 3.050971100926793, 'exp16v6AugmixB3_fold3.pbz2': 0.4653898475771197, 'exp16v6AugmixB4Full_fold3.pbz2': 3.2341278527394715, 'exp16v6AugmixB4Step2_fold3.pbz2': 3.1688197951625603, 'exp16v6AugmixB4_fold3_remove_background.pbz2': 0.8983701916130056, 'exp21b6_fold3_remove_background.pbz2': 0.44956806098291585}. Best is trial 21 with value: 0.8637210413183664.\u001b[0m\n",
      "\u001b[32m[I 2022-04-17 07:17:23,426]\u001b[0m Trial 35 finished with value: 0.8632234694689913 and parameters: {'exp16v6AugMix1536_fold3.pbz2': 3.307783730436123, 'exp16v6AugmixB3_fold3.pbz2': 0.8613444950317238, 'exp16v6AugmixB4Full_fold3.pbz2': 3.227658742123908, 'exp16v6AugmixB4Step2_fold3.pbz2': 2.442150900256928, 'exp16v6AugmixB4_fold3_remove_background.pbz2': 1.2612061488324207, 'exp21b6_fold3_remove_background.pbz2': 0.3523974033274263}. Best is trial 21 with value: 0.8637210413183664.\u001b[0m\n",
      "\u001b[32m[I 2022-04-17 07:17:24,689]\u001b[0m Trial 36 finished with value: 0.8590040601862909 and parameters: {'exp16v6AugMix1536_fold3.pbz2': 2.686684496623199, 'exp16v6AugmixB3_fold3.pbz2': 0.2003566550310792, 'exp16v6AugmixB4Full_fold3.pbz2': 3.6560770969992777, 'exp16v6AugmixB4Step2_fold3.pbz2': 3.7089739639201604, 'exp16v6AugmixB4_fold3_remove_background.pbz2': 1.767778042057984, 'exp21b6_fold3_remove_background.pbz2': 0.7518705039846504}. Best is trial 21 with value: 0.8637210413183664.\u001b[0m\n",
      "\u001b[32m[I 2022-04-17 07:17:25,917]\u001b[0m Trial 37 finished with value: 0.8632831780909163 and parameters: {'exp16v6AugMix1536_fold3.pbz2': 3.585136660805493, 'exp16v6AugmixB3_fold3.pbz2': 1.1793143659091012, 'exp16v6AugmixB4Full_fold3.pbz2': 3.790619450340649, 'exp16v6AugmixB4Step2_fold3.pbz2': 2.782141632975184, 'exp16v6AugmixB4_fold3_remove_background.pbz2': 0.9302358214767485, 'exp21b6_fold3_remove_background.pbz2': 0.27764844831436775}. Best is trial 21 with value: 0.8637210413183664.\u001b[0m\n",
      "\u001b[32m[I 2022-04-17 07:17:27,143]\u001b[0m Trial 38 finished with value: 0.84823262479102 and parameters: {'exp16v6AugMix1536_fold3.pbz2': 0.7654458679623504, 'exp16v6AugmixB3_fold3.pbz2': 2.1884966748065415, 'exp16v6AugmixB4Full_fold3.pbz2': 3.3757471771571295, 'exp16v6AugmixB4Step2_fold3.pbz2': 3.4905187432483635, 'exp16v6AugmixB4_fold3_remove_background.pbz2': 1.3765797436570515, 'exp21b6_fold3_remove_background.pbz2': 1.6317566396586423}. Best is trial 21 with value: 0.8637210413183664.\u001b[0m\n",
      "\u001b[32m[I 2022-04-17 07:17:28,368]\u001b[0m Trial 39 finished with value: 0.8616053658148236 and parameters: {'exp16v6AugMix1536_fold3.pbz2': 3.030982810167386, 'exp16v6AugmixB3_fold3.pbz2': 1.0009269722503398, 'exp16v6AugmixB4Full_fold3.pbz2': 2.9239760986535246, 'exp16v6AugmixB4Step2_fold3.pbz2': 3.1428184509732473, 'exp16v6AugmixB4_fold3_remove_background.pbz2': 0.01604576866066254, 'exp21b6_fold3_remove_background.pbz2': 0.7277469225073043}. Best is trial 21 with value: 0.8637210413183664.\u001b[0m\n",
      "\u001b[32m[I 2022-04-17 07:17:29,588]\u001b[0m Trial 40 finished with value: 0.860898813788711 and parameters: {'exp16v6AugMix1536_fold3.pbz2': 3.674161912373946, 'exp16v6AugmixB3_fold3.pbz2': 1.6368092076162395, 'exp16v6AugmixB4Full_fold3.pbz2': 3.7531403267900494, 'exp16v6AugmixB4Step2_fold3.pbz2': 3.9539925838775787, 'exp16v6AugmixB4_fold3_remove_background.pbz2': 0.3928098743685618, 'exp21b6_fold3_remove_background.pbz2': 0.9695764352412782}. Best is trial 21 with value: 0.8637210413183664.\u001b[0m\n",
      "\u001b[32m[I 2022-04-17 07:17:30,812]\u001b[0m Trial 41 finished with value: 0.8638106042512539 and parameters: {'exp16v6AugMix1536_fold3.pbz2': 3.8562644733250813, 'exp16v6AugmixB3_fold3.pbz2': 0.5602428360124714, 'exp16v6AugmixB4Full_fold3.pbz2': 3.9994536372979446, 'exp16v6AugmixB4Step2_fold3.pbz2': 2.912890433465103, 'exp16v6AugmixB4_fold3_remove_background.pbz2': 0.7774664780540083, 'exp21b6_fold3_remove_background.pbz2': 1.231451419313754}. Best is trial 41 with value: 0.8638106042512539.\u001b[0m\n",
      "\u001b[32m[I 2022-04-17 07:17:32,041]\u001b[0m Trial 42 finished with value: 0.8637230316057639 and parameters: {'exp16v6AugMix1536_fold3.pbz2': 3.9671219655304237, 'exp16v6AugmixB3_fold3.pbz2': 0.01272962605509348, 'exp16v6AugmixB4Full_fold3.pbz2': 3.490659871913973, 'exp16v6AugmixB4Step2_fold3.pbz2': 2.592221935532487, 'exp16v6AugmixB4_fold3_remove_background.pbz2': 0.8693333833342899, 'exp21b6_fold3_remove_background.pbz2': 0.1889965570920651}. Best is trial 41 with value: 0.8638106042512539.\u001b[0m\n",
      "\u001b[32m[I 2022-04-17 07:17:33,258]\u001b[0m Trial 43 finished with value: 0.8641967200063688 and parameters: {'exp16v6AugMix1536_fold3.pbz2': 3.9949899874120036, 'exp16v6AugmixB3_fold3.pbz2': 0.0737957715565476, 'exp16v6AugmixB4Full_fold3.pbz2': 3.82944806075628, 'exp16v6AugmixB4Step2_fold3.pbz2': 2.5843690744210397, 'exp16v6AugmixB4_fold3_remove_background.pbz2': 0.9018169713924447, 'exp21b6_fold3_remove_background.pbz2': 0.19272085448315712}. Best is trial 43 with value: 0.8641967200063688.\u001b[0m\n",
      "\u001b[32m[I 2022-04-17 07:17:34,498]\u001b[0m Trial 44 finished with value: 0.8638543905739988 and parameters: {'exp16v6AugMix1536_fold3.pbz2': 3.9915311527609463, 'exp16v6AugmixB3_fold3.pbz2': 0.026865478326886627, 'exp16v6AugmixB4Full_fold3.pbz2': 3.5554179500831777, 'exp16v6AugmixB4Step2_fold3.pbz2': 2.601192099969361, 'exp16v6AugmixB4_fold3_remove_background.pbz2': 0.872964319373781, 'exp21b6_fold3_remove_background.pbz2': 0.2084314372735892}. Best is trial 43 with value: 0.8641967200063688.\u001b[0m\n",
      "\u001b[32m[I 2022-04-17 07:17:35,734]\u001b[0m Trial 45 finished with value: 0.8639499243690789 and parameters: {'exp16v6AugMix1536_fold3.pbz2': 3.7871475031228243, 'exp16v6AugmixB3_fold3.pbz2': 0.1998743826652125, 'exp16v6AugmixB4Full_fold3.pbz2': 3.903132324161309, 'exp16v6AugmixB4Step2_fold3.pbz2': 2.527803825441438, 'exp16v6AugmixB4_fold3_remove_background.pbz2': 1.005081522108207, 'exp21b6_fold3_remove_background.pbz2': 0.2210013362771781}. Best is trial 43 with value: 0.8641967200063688.\u001b[0m\n",
      "\u001b[32m[I 2022-04-17 07:17:36,971]\u001b[0m Trial 46 finished with value: 0.8635439057399888 and parameters: {'exp16v6AugMix1536_fold3.pbz2': 3.7491596929658537, 'exp16v6AugmixB3_fold3.pbz2': 0.0008453399126452932, 'exp16v6AugmixB4Full_fold3.pbz2': 3.872441067335982, 'exp16v6AugmixB4Step2_fold3.pbz2': 2.2327079647868757, 'exp16v6AugmixB4_fold3_remove_background.pbz2': 0.8771235614862009, 'exp21b6_fold3_remove_background.pbz2': 0.20088538210506374}. Best is trial 43 with value: 0.8641967200063688.\u001b[0m\n",
      "\u001b[32m[I 2022-04-17 07:17:38,192]\u001b[0m Trial 47 finished with value: 0.8638703128731788 and parameters: {'exp16v6AugMix1536_fold3.pbz2': 3.7944387435273543, 'exp16v6AugmixB3_fold3.pbz2': 0.22000845201183503, 'exp16v6AugmixB4Full_fold3.pbz2': 3.997647217161285, 'exp16v6AugmixB4Step2_fold3.pbz2': 2.515825181551194, 'exp16v6AugmixB4_fold3_remove_background.pbz2': 1.6884096360244265, 'exp21b6_fold3_remove_background.pbz2': 0.19780894704799068}. Best is trial 43 with value: 0.8641967200063688.\u001b[0m\n",
      "\u001b[32m[I 2022-04-17 07:17:39,426]\u001b[0m Trial 48 finished with value: 0.8627517713557837 and parameters: {'exp16v6AugMix1536_fold3.pbz2': 2.862612648852579, 'exp16v6AugmixB3_fold3.pbz2': 0.27046427436599585, 'exp16v6AugmixB4Full_fold3.pbz2': 3.984751985316022, 'exp16v6AugmixB4Step2_fold3.pbz2': 1.7601779942321822, 'exp16v6AugmixB4_fold3_remove_background.pbz2': 1.7417182864233665, 'exp21b6_fold3_remove_background.pbz2': 0.0002247579188124349}. Best is trial 43 with value: 0.8641967200063688.\u001b[0m\n",
      "\u001b[32m[I 2022-04-17 07:17:40,645]\u001b[0m Trial 49 finished with value: 0.860659979301011 and parameters: {'exp16v6AugMix1536_fold3.pbz2': 3.559461319737981, 'exp16v6AugmixB3_fold3.pbz2': 0.23016717519850224, 'exp16v6AugmixB4Full_fold3.pbz2': 3.8238394193354552, 'exp16v6AugmixB4Step2_fold3.pbz2': 2.5213413607565163, 'exp16v6AugmixB4_fold3_remove_background.pbz2': 2.2219434181514566, 'exp21b6_fold3_remove_background.pbz2': 2.7778335910176306}. Best is trial 43 with value: 0.8641967200063688.\u001b[0m\n",
      "\u001b[32m[I 2022-04-17 07:17:41,869]\u001b[0m Trial 50 finished with value: 0.8472076267813072 and parameters: {'exp16v6AugMix1536_fold3.pbz2': 1.193095383121464, 'exp16v6AugmixB3_fold3.pbz2': 0.39964435886116717, 'exp16v6AugmixB4Full_fold3.pbz2': 3.109036443196448, 'exp16v6AugmixB4Step2_fold3.pbz2': 2.181470290972151, 'exp16v6AugmixB4_fold3_remove_background.pbz2': 3.986280573067165, 'exp21b6_fold3_remove_background.pbz2': 0.24422746445773047}. Best is trial 43 with value: 0.8641967200063688.\u001b[0m\n"
     ]
    },
    {
     "name": "stderr",
     "output_type": "stream",
     "text": [
      "\u001b[32m[I 2022-04-17 07:17:43,089]\u001b[0m Trial 51 finished with value: 0.8639738078178489 and parameters: {'exp16v6AugMix1536_fold3.pbz2': 3.802071795707695, 'exp16v6AugmixB3_fold3.pbz2': 0.16199737879645937, 'exp16v6AugmixB4Full_fold3.pbz2': 3.5930182833673343, 'exp16v6AugmixB4Step2_fold3.pbz2': 2.4709575529444456, 'exp16v6AugmixB4_fold3_remove_background.pbz2': 1.0160292924730434, 'exp21b6_fold3_remove_background.pbz2': 0.2186249870259366}. Best is trial 43 with value: 0.8641967200063688.\u001b[0m\n",
      "\u001b[32m[I 2022-04-17 07:17:44,315]\u001b[0m Trial 52 finished with value: 0.8500199028739751 and parameters: {'exp16v6AugMix1536_fold3.pbz2': 0.008440993446316991, 'exp16v6AugmixB3_fold3.pbz2': 0.1544297215521046, 'exp16v6AugmixB4Full_fold3.pbz2': 3.643375650854924, 'exp16v6AugmixB4Step2_fold3.pbz2': 1.975189697038746, 'exp16v6AugmixB4_fold3_remove_background.pbz2': 1.105799027788579, 'exp21b6_fold3_remove_background.pbz2': 0.6548978556329144}. Best is trial 43 with value: 0.8641967200063688.\u001b[0m\n",
      "\u001b[32m[I 2022-04-17 07:17:45,581]\u001b[0m Trial 53 finished with value: 0.8643240983998088 and parameters: {'exp16v6AugMix1536_fold3.pbz2': 3.822416104558134, 'exp16v6AugmixB3_fold3.pbz2': 0.3630050629260818, 'exp16v6AugmixB4Full_fold3.pbz2': 3.800636334235066, 'exp16v6AugmixB4Step2_fold3.pbz2': 2.467359703574119, 'exp16v6AugmixB4_fold3_remove_background.pbz2': 1.404991069438776, 'exp21b6_fold3_remove_background.pbz2': 0.16057636822565396}. Best is trial 53 with value: 0.8643240983998088.\u001b[0m\n",
      "\u001b[32m[I 2022-04-17 07:17:46,804]\u001b[0m Trial 54 finished with value: 0.8637986625268689 and parameters: {'exp16v6AugMix1536_fold3.pbz2': 3.4323285870723392, 'exp16v6AugmixB3_fold3.pbz2': 0.3445916223133811, 'exp16v6AugmixB4Full_fold3.pbz2': 3.8197947204594342, 'exp16v6AugmixB4Step2_fold3.pbz2': 2.4361038901655907, 'exp16v6AugmixB4_fold3_remove_background.pbz2': 1.385178307592707, 'exp21b6_fold3_remove_background.pbz2': 0.10956074307729799}. Best is trial 53 with value: 0.8643240983998088.\u001b[0m\n",
      "\u001b[32m[I 2022-04-17 07:17:48,033]\u001b[0m Trial 55 finished with value: 0.8638663322983838 and parameters: {'exp16v6AugMix1536_fold3.pbz2': 3.7546872492466186, 'exp16v6AugmixB3_fold3.pbz2': 0.16566209280277264, 'exp16v6AugmixB4Full_fold3.pbz2': 3.5743013724097095, 'exp16v6AugmixB4Step2_fold3.pbz2': 1.2611350960076406, 'exp16v6AugmixB4_fold3_remove_background.pbz2': 1.5830832109601234, 'exp21b6_fold3_remove_background.pbz2': 0.27639210313853935}. Best is trial 53 with value: 0.8643240983998088.\u001b[0m\n",
      "\u001b[32m[I 2022-04-17 07:17:49,255]\u001b[0m Trial 56 finished with value: 0.8616770161611337 and parameters: {'exp16v6AugMix1536_fold3.pbz2': 3.7630305978176497, 'exp16v6AugmixB3_fold3.pbz2': 2.7853709875912136, 'exp16v6AugmixB4Full_fold3.pbz2': 3.258592718225567, 'exp16v6AugmixB4Step2_fold3.pbz2': 1.0157469481088064, 'exp16v6AugmixB4_fold3_remove_background.pbz2': 1.6306017913403474, 'exp21b6_fold3_remove_background.pbz2': 0.3106184073633361}. Best is trial 53 with value: 0.8643240983998088.\u001b[0m\n",
      "\u001b[32m[I 2022-04-17 07:17:50,478]\u001b[0m Trial 57 finished with value: 0.860190271475201 and parameters: {'exp16v6AugMix1536_fold3.pbz2': 3.1746855409679644, 'exp16v6AugmixB3_fold3.pbz2': 0.17275305680490738, 'exp16v6AugmixB4Full_fold3.pbz2': 3.625968128164583, 'exp16v6AugmixB4Step2_fold3.pbz2': 1.494758583182458, 'exp16v6AugmixB4_fold3_remove_background.pbz2': 1.888721818331917, 'exp21b6_fold3_remove_background.pbz2': 3.4224948603981304}. Best is trial 53 with value: 0.8643240983998088.\u001b[0m\n",
      "\u001b[32m[I 2022-04-17 07:17:51,705]\u001b[0m Trial 58 finished with value: 0.8579949844757583 and parameters: {'exp16v6AugMix1536_fold3.pbz2': 3.526358067559596, 'exp16v6AugmixB3_fold3.pbz2': 3.6893129954029913, 'exp16v6AugmixB4Full_fold3.pbz2': 3.807347899964851, 'exp16v6AugmixB4Step2_fold3.pbz2': 0.7553446838448807, 'exp16v6AugmixB4_fold3_remove_background.pbz2': 2.1167324233908493, 'exp21b6_fold3_remove_background.pbz2': 0.023240145001878515}. Best is trial 53 with value: 0.8643240983998088.\u001b[0m\n",
      "\u001b[32m[I 2022-04-17 07:17:52,930]\u001b[0m Trial 59 finished with value: 0.8559051827083832 and parameters: {'exp16v6AugMix1536_fold3.pbz2': 3.814075136724627, 'exp16v6AugmixB3_fold3.pbz2': 0.4514666933270213, 'exp16v6AugmixB4Full_fold3.pbz2': 0.3903786989485336, 'exp16v6AugmixB4Step2_fold3.pbz2': 1.2348335317395043, 'exp16v6AugmixB4_fold3_remove_background.pbz2': 1.4357802022049038, 'exp21b6_fold3_remove_background.pbz2': 0.5909731538060421}. Best is trial 53 with value: 0.8643240983998088.\u001b[0m\n",
      "\u001b[32m[I 2022-04-17 07:17:54,156]\u001b[0m Trial 60 finished with value: 0.8630801687763712 and parameters: {'exp16v6AugMix1536_fold3.pbz2': 3.3698140348597523, 'exp16v6AugmixB3_fold3.pbz2': 0.7469722313290963, 'exp16v6AugmixB4Full_fold3.pbz2': 3.053220355866873, 'exp16v6AugmixB4Step2_fold3.pbz2': 0.007926814975225849, 'exp16v6AugmixB4_fold3_remove_background.pbz2': 2.383843833486596, 'exp21b6_fold3_remove_background.pbz2': 0.8529609467802579}. Best is trial 53 with value: 0.8643240983998088.\u001b[0m\n",
      "\u001b[32m[I 2022-04-17 07:17:55,383]\u001b[0m Trial 61 finished with value: 0.8612650266698512 and parameters: {'exp16v6AugMix1536_fold3.pbz2': 3.6732481294514647, 'exp16v6AugmixB3_fold3.pbz2': 0.1519249615194434, 'exp16v6AugmixB4Full_fold3.pbz2': 3.5204899274888426, 'exp16v6AugmixB4Step2_fold3.pbz2': 0.35178648657427725, 'exp16v6AugmixB4_fold3_remove_background.pbz2': 1.0421390414717207, 'exp21b6_fold3_remove_background.pbz2': 0.18105860937362453}. Best is trial 53 with value: 0.8643240983998088.\u001b[0m\n",
      "\u001b[32m[I 2022-04-17 07:17:56,612]\u001b[0m Trial 62 finished with value: 0.8644076904705039 and parameters: {'exp16v6AugMix1536_fold3.pbz2': 3.9897532295317895, 'exp16v6AugmixB3_fold3.pbz2': 0.3224942333475851, 'exp16v6AugmixB4Full_fold3.pbz2': 3.601407535900339, 'exp16v6AugmixB4Step2_fold3.pbz2': 2.3589989129752977, 'exp16v6AugmixB4_fold3_remove_background.pbz2': 1.716672913425132, 'exp21b6_fold3_remove_background.pbz2': 0.33585817609656415}. Best is trial 62 with value: 0.8644076904705039.\u001b[0m\n",
      "\u001b[32m[I 2022-04-17 07:17:57,838]\u001b[0m Trial 63 finished with value: 0.8642146325929464 and parameters: {'exp16v6AugMix1536_fold3.pbz2': 3.844242433429241, 'exp16v6AugmixB3_fold3.pbz2': 0.2843474128395938, 'exp16v6AugmixB4Full_fold3.pbz2': 3.8995027724718936, 'exp16v6AugmixB4Step2_fold3.pbz2': 2.3030342264848125, 'exp16v6AugmixB4_fold3_remove_background.pbz2': 1.5963260166163793, 'exp21b6_fold3_remove_background.pbz2': 0.3421661517433946}. Best is trial 62 with value: 0.8644076904705039.\u001b[0m\n",
      "\u001b[32m[I 2022-04-17 07:17:59,064]\u001b[0m Trial 64 finished with value: 0.8643459915611814 and parameters: {'exp16v6AugMix1536_fold3.pbz2': 3.856081242078619, 'exp16v6AugmixB3_fold3.pbz2': 0.3058888114810693, 'exp16v6AugmixB4Full_fold3.pbz2': 3.859832076159246, 'exp16v6AugmixB4Step2_fold3.pbz2': 2.337618567941895, 'exp16v6AugmixB4_fold3_remove_background.pbz2': 1.7268115862663356, 'exp21b6_fold3_remove_background.pbz2': 0.3958535206150924}. Best is trial 62 with value: 0.8644076904705039.\u001b[0m\n",
      "\u001b[32m[I 2022-04-17 07:18:00,288]\u001b[0m Trial 65 finished with value: 0.8639379826446938 and parameters: {'exp16v6AugMix1536_fold3.pbz2': 3.617264844124927, 'exp16v6AugmixB3_fold3.pbz2': 0.3430801302820006, 'exp16v6AugmixB4Full_fold3.pbz2': 3.734989818168264, 'exp16v6AugmixB4Step2_fold3.pbz2': 2.3220732598706064, 'exp16v6AugmixB4_fold3_remove_background.pbz2': 1.8907571872625977, 'exp21b6_fold3_remove_background.pbz2': 0.3927606853270155}. Best is trial 62 with value: 0.8644076904705039.\u001b[0m\n",
      "\u001b[32m[I 2022-04-17 07:18:01,509]\u001b[0m Trial 66 finished with value: 0.8588806623676458 and parameters: {'exp16v6AugMix1536_fold3.pbz2': 3.4476759595727695, 'exp16v6AugmixB3_fold3.pbz2': 0.5400891974380888, 'exp16v6AugmixB4Full_fold3.pbz2': 1.3565899129195493, 'exp16v6AugmixB4Step2_fold3.pbz2': 1.9558762499302953, 'exp16v6AugmixB4_fold3_remove_background.pbz2': 1.3237105714839037, 'exp21b6_fold3_remove_background.pbz2': 0.5281788026667358}. Best is trial 62 with value: 0.8644076904705039.\u001b[0m\n",
      "\u001b[32m[I 2022-04-17 07:18:02,727]\u001b[0m Trial 67 finished with value: 0.8636673035586339 and parameters: {'exp16v6AugMix1536_fold3.pbz2': 3.8628935159126185, 'exp16v6AugmixB3_fold3.pbz2': 0.9305500421988426, 'exp16v6AugmixB4Full_fold3.pbz2': 3.876726943604994, 'exp16v6AugmixB4Step2_fold3.pbz2': 2.12864330929707, 'exp16v6AugmixB4_fold3_remove_background.pbz2': 2.048134954714112, 'exp21b6_fold3_remove_background.pbz2': 0.6234042613486239}. Best is trial 62 with value: 0.8644076904705039.\u001b[0m\n"
     ]
    },
    {
     "name": "stderr",
     "output_type": "stream",
     "text": [
      "\u001b[32m[I 2022-04-17 07:18:03,953]\u001b[0m Trial 68 finished with value: 0.8624771116949288 and parameters: {'exp16v6AugMix1536_fold3.pbz2': 3.995839416297361, 'exp16v6AugmixB3_fold3.pbz2': 1.115118261400751, 'exp16v6AugmixB4Full_fold3.pbz2': 3.337660186230847, 'exp16v6AugmixB4Step2_fold3.pbz2': 2.720840240503498, 'exp16v6AugmixB4_fold3_remove_background.pbz2': 1.5274241433359055, 'exp21b6_fold3_remove_background.pbz2': 0.40036707142103173}. Best is trial 62 with value: 0.8644076904705039.\u001b[0m\n",
      "\u001b[32m[I 2022-04-17 07:18:05,172]\u001b[0m Trial 69 finished with value: 0.8634563330944988 and parameters: {'exp16v6AugMix1536_fold3.pbz2': 3.238915493373219, 'exp16v6AugmixB3_fold3.pbz2': 0.6454097258029675, 'exp16v6AugmixB4Full_fold3.pbz2': 3.710642325498956, 'exp16v6AugmixB4Step2_fold3.pbz2': 2.3554977484909316, 'exp16v6AugmixB4_fold3_remove_background.pbz2': 1.1485843166652974, 'exp21b6_fold3_remove_background.pbz2': 0.09057164900949763}. Best is trial 62 with value: 0.8644076904705039.\u001b[0m\n",
      "\u001b[32m[I 2022-04-17 07:18:06,401]\u001b[0m Trial 70 finished with value: 0.8631577899848739 and parameters: {'exp16v6AugMix1536_fold3.pbz2': 3.8728993772156977, 'exp16v6AugmixB3_fold3.pbz2': 0.8077899223225999, 'exp16v6AugmixB4Full_fold3.pbz2': 2.707472410978149, 'exp16v6AugmixB4Step2_fold3.pbz2': 1.8803343118275935, 'exp16v6AugmixB4_fold3_remove_background.pbz2': 1.7860934385396154, 'exp21b6_fold3_remove_background.pbz2': 0.5124740733619142}. Best is trial 62 with value: 0.8644076904705039.\u001b[0m\n",
      "\u001b[32m[I 2022-04-17 07:18:07,622]\u001b[0m Trial 71 finished with value: 0.8639957009792213 and parameters: {'exp16v6AugMix1536_fold3.pbz2': 3.6206499358701296, 'exp16v6AugmixB3_fold3.pbz2': 0.36965904152929174, 'exp16v6AugmixB4Full_fold3.pbz2': 3.7082016864428553, 'exp16v6AugmixB4Step2_fold3.pbz2': 2.298647373421372, 'exp16v6AugmixB4_fold3_remove_background.pbz2': 1.9103786841824197, 'exp21b6_fold3_remove_background.pbz2': 0.356678111719291}. Best is trial 62 with value: 0.8644076904705039.\u001b[0m\n",
      "\u001b[32m[I 2022-04-17 07:18:08,846]\u001b[0m Trial 72 finished with value: 0.8638941963219489 and parameters: {'exp16v6AugMix1536_fold3.pbz2': 3.6412862864820386, 'exp16v6AugmixB3_fold3.pbz2': 0.4301572951247693, 'exp16v6AugmixB4Full_fold3.pbz2': 3.8631380102289454, 'exp16v6AugmixB4Step2_fold3.pbz2': 2.2933974873593805, 'exp16v6AugmixB4_fold3_remove_background.pbz2': 2.0104505018443226, 'exp21b6_fold3_remove_background.pbz2': 0.33124157281925315}. Best is trial 62 with value: 0.8644076904705039.\u001b[0m\n",
      "\u001b[32m[I 2022-04-17 07:18:10,061]\u001b[0m Trial 73 finished with value: 0.8639598758060664 and parameters: {'exp16v6AugMix1536_fold3.pbz2': 3.51433618535132, 'exp16v6AugmixB3_fold3.pbz2': 0.3168577569408785, 'exp16v6AugmixB4Full_fold3.pbz2': 3.552191376591422, 'exp16v6AugmixB4Step2_fold3.pbz2': 2.1587525872509463, 'exp16v6AugmixB4_fold3_remove_background.pbz2': 1.4904578898828138, 'exp21b6_fold3_remove_background.pbz2': 0.7340462173055328}. Best is trial 62 with value: 0.8644076904705039.\u001b[0m\n",
      "\u001b[32m[I 2022-04-17 07:18:11,310]\u001b[0m Trial 74 finished with value: 0.8638026431016638 and parameters: {'exp16v6AugMix1536_fold3.pbz2': 3.511800235036581, 'exp16v6AugmixB3_fold3.pbz2': 0.3235840722587393, 'exp16v6AugmixB4Full_fold3.pbz2': 3.294586795822556, 'exp16v6AugmixB4Step2_fold3.pbz2': 2.121228609445348, 'exp16v6AugmixB4_fold3_remove_background.pbz2': 1.4805596481602643, 'exp21b6_fold3_remove_background.pbz2': 0.8169428486421066}. Best is trial 62 with value: 0.8644076904705039.\u001b[0m\n",
      "\u001b[32m[I 2022-04-17 07:18:12,530]\u001b[0m Trial 75 finished with value: 0.8593881856540084 and parameters: {'exp16v6AugMix1536_fold3.pbz2': 2.0242638203038754, 'exp16v6AugmixB3_fold3.pbz2': 0.47558044586921655, 'exp16v6AugmixB4Full_fold3.pbz2': 3.4939204427927666, 'exp16v6AugmixB4Step2_fold3.pbz2': 2.6999244949759036, 'exp16v6AugmixB4_fold3_remove_background.pbz2': 1.8231505132551664, 'exp21b6_fold3_remove_background.pbz2': 0.714623184064461}. Best is trial 62 with value: 0.8644076904705039.\u001b[0m\n",
      "\u001b[32m[I 2022-04-17 07:18:13,755]\u001b[0m Trial 76 finished with value: 0.8586736724783058 and parameters: {'exp16v6AugMix1536_fold3.pbz2': 3.8805474150677073, 'exp16v6AugmixB3_fold3.pbz2': 0.6747839904601882, 'exp16v6AugmixB4Full_fold3.pbz2': 1.7912571872735086, 'exp16v6AugmixB4Step2_fold3.pbz2': 1.6952424872711416, 'exp16v6AugmixB4_fold3_remove_background.pbz2': 2.6851081448419283, 'exp21b6_fold3_remove_background.pbz2': 0.44978804454685983}. Best is trial 62 with value: 0.8644076904705039.\u001b[0m\n",
      "\u001b[32m[I 2022-04-17 07:18:14,975]\u001b[0m Trial 77 finished with value: 0.8637508956293289 and parameters: {'exp16v6AugMix1536_fold3.pbz2': 3.6331827903518916, 'exp16v6AugmixB3_fold3.pbz2': 0.12411214356873668, 'exp16v6AugmixB4Full_fold3.pbz2': 3.1758154889924106, 'exp16v6AugmixB4Step2_fold3.pbz2': 2.200365951456585, 'exp16v6AugmixB4_fold3_remove_background.pbz2': 1.2900063903850372, 'exp21b6_fold3_remove_background.pbz2': 0.10321557336002835}. Best is trial 62 with value: 0.8644076904705039.\u001b[0m\n",
      "\u001b[32m[I 2022-04-17 07:18:16,210]\u001b[0m Trial 78 finished with value: 0.8642046811559588 and parameters: {'exp16v6AugMix1536_fold3.pbz2': 3.3661593816342172, 'exp16v6AugmixB3_fold3.pbz2': 0.3247430866318095, 'exp16v6AugmixB4Full_fold3.pbz2': 3.6753741396384543, 'exp16v6AugmixB4Step2_fold3.pbz2': 2.049493483830278, 'exp16v6AugmixB4_fold3_remove_background.pbz2': 1.642397080482004, 'exp21b6_fold3_remove_background.pbz2': 1.0445180186188983}. Best is trial 62 with value: 0.8644076904705039.\u001b[0m\n",
      "\u001b[32m[I 2022-04-17 07:18:17,433]\u001b[0m Trial 79 finished with value: 0.860946580686251 and parameters: {'exp16v6AugMix1536_fold3.pbz2': 3.3905965455919933, 'exp16v6AugmixB3_fold3.pbz2': 0.5496921020773988, 'exp16v6AugmixB4Full_fold3.pbz2': 3.6652841845639474, 'exp16v6AugmixB4Step2_fold3.pbz2': 2.4099915912918832, 'exp16v6AugmixB4_fold3_remove_background.pbz2': 2.202585066574358, 'exp21b6_fold3_remove_background.pbz2': 2.1103520427301405}. Best is trial 62 with value: 0.8644076904705039.\u001b[0m\n",
      "\u001b[32m[I 2022-04-17 07:18:18,658]\u001b[0m Trial 80 finished with value: 0.8603116790064486 and parameters: {'exp16v6AugMix1536_fold3.pbz2': 3.1219043850172516, 'exp16v6AugmixB3_fold3.pbz2': 1.8918001875425081, 'exp16v6AugmixB4Full_fold3.pbz2': 3.690219454953528, 'exp16v6AugmixB4Step2_fold3.pbz2': 2.046261067941088, 'exp16v6AugmixB4_fold3_remove_background.pbz2': 2.381695896286776, 'exp21b6_fold3_remove_background.pbz2': 1.0740360415626684}. Best is trial 62 with value: 0.8644076904705039.\u001b[0m\n",
      "\u001b[32m[I 2022-04-17 07:18:19,884]\u001b[0m Trial 81 finished with value: 0.8637588567789187 and parameters: {'exp16v6AugMix1536_fold3.pbz2': 3.903782183751545, 'exp16v6AugmixB3_fold3.pbz2': 0.29510395221710756, 'exp16v6AugmixB4Full_fold3.pbz2': 3.5820883088677062, 'exp16v6AugmixB4Step2_fold3.pbz2': 1.9437338588760893, 'exp16v6AugmixB4_fold3_remove_background.pbz2': 1.6552864938731566, 'exp21b6_fold3_remove_background.pbz2': 0.9442385543700988}. Best is trial 62 with value: 0.8644076904705039.\u001b[0m\n",
      "\u001b[32m[I 2022-04-17 07:18:21,110]\u001b[0m Trial 82 finished with value: 0.8635976434997213 and parameters: {'exp16v6AugMix1536_fold3.pbz2': 3.4988557224424714, 'exp16v6AugmixB3_fold3.pbz2': 0.1079349434580188, 'exp16v6AugmixB4Full_fold3.pbz2': 3.3931755600523266, 'exp16v6AugmixB4Step2_fold3.pbz2': 2.2978052492577126, 'exp16v6AugmixB4_fold3_remove_background.pbz2': 1.908140210224619, 'exp21b6_fold3_remove_background.pbz2': 0.5370342417622882}. Best is trial 62 with value: 0.8644076904705039.\u001b[0m\n",
      "\u001b[32m[I 2022-04-17 07:18:22,335]\u001b[0m Trial 83 finished with value: 0.8638842448849614 and parameters: {'exp16v6AugMix1536_fold3.pbz2': 3.689698492720225, 'exp16v6AugmixB3_fold3.pbz2': 0.428842548089569, 'exp16v6AugmixB4Full_fold3.pbz2': 3.485906205339744, 'exp16v6AugmixB4Step2_fold3.pbz2': 1.6549582924429664, 'exp16v6AugmixB4_fold3_remove_background.pbz2': 1.5030571572453388, 'exp21b6_fold3_remove_background.pbz2': 0.685828284376833}. Best is trial 62 with value: 0.8644076904705039.\u001b[0m\n",
      "\u001b[32m[I 2022-04-17 07:18:23,556]\u001b[0m Trial 84 finished with value: 0.8641648754080089 and parameters: {'exp16v6AugMix1536_fold3.pbz2': 3.7274787121198854, 'exp16v6AugmixB3_fold3.pbz2': 0.31543964241096756, 'exp16v6AugmixB4Full_fold3.pbz2': 3.7712170791847384, 'exp16v6AugmixB4Step2_fold3.pbz2': 2.4729102906465372, 'exp16v6AugmixB4_fold3_remove_background.pbz2': 1.1849455148644776, 'exp21b6_fold3_remove_background.pbz2': 0.34073436564585863}. Best is trial 62 with value: 0.8644076904705039.\u001b[0m\n"
     ]
    },
    {
     "name": "stderr",
     "output_type": "stream",
     "text": [
      "\u001b[32m[I 2022-04-17 07:18:24,778]\u001b[0m Trial 85 finished with value: 0.8641549239710214 and parameters: {'exp16v6AugMix1536_fold3.pbz2': 3.998329608772821, 'exp16v6AugmixB3_fold3.pbz2': 0.08171858328887698, 'exp16v6AugmixB4Full_fold3.pbz2': 3.913856766434023, 'exp16v6AugmixB4Step2_fold3.pbz2': 2.6860133968633364, 'exp16v6AugmixB4_fold3_remove_background.pbz2': 1.7138263800431546, 'exp21b6_fold3_remove_background.pbz2': 0.3302968270736844}. Best is trial 62 with value: 0.8644076904705039.\u001b[0m\n",
      "\u001b[32m[I 2022-04-17 07:18:26,000]\u001b[0m Trial 86 finished with value: 0.8645450203009314 and parameters: {'exp16v6AugMix1536_fold3.pbz2': 3.911459265272539, 'exp16v6AugmixB3_fold3.pbz2': 0.01253961021442912, 'exp16v6AugmixB4Full_fold3.pbz2': 3.9115090038906315, 'exp16v6AugmixB4Step2_fold3.pbz2': 2.7020809824089236, 'exp16v6AugmixB4_fold3_remove_background.pbz2': 1.2147518916462352, 'exp21b6_fold3_remove_background.pbz2': 0.35154442696239313}. Best is trial 86 with value: 0.8645450203009314.\u001b[0m\n",
      "\u001b[32m[I 2022-04-17 07:18:27,222]\u001b[0m Trial 87 finished with value: 0.8643101663880265 and parameters: {'exp16v6AugMix1536_fold3.pbz2': 3.9272898345223832, 'exp16v6AugmixB3_fold3.pbz2': 0.07009715514502357, 'exp16v6AugmixB4Full_fold3.pbz2': 3.8890078154902192, 'exp16v6AugmixB4Step2_fold3.pbz2': 2.6666111280113998, 'exp16v6AugmixB4_fold3_remove_background.pbz2': 1.2290174436851982, 'exp21b6_fold3_remove_background.pbz2': 0.1009426993333719}. Best is trial 86 with value: 0.8645450203009314.\u001b[0m\n",
      "\u001b[32m[I 2022-04-17 07:18:28,466]\u001b[0m Trial 88 finished with value: 0.863659342409044 and parameters: {'exp16v6AugMix1536_fold3.pbz2': 3.7177458313126053, 'exp16v6AugmixB3_fold3.pbz2': 0.014841504654031022, 'exp16v6AugmixB4Full_fold3.pbz2': 3.7949605087878093, 'exp16v6AugmixB4Step2_fold3.pbz2': 3.1468972227148186, 'exp16v6AugmixB4_fold3_remove_background.pbz2': 1.1765616595582884, 'exp21b6_fold3_remove_background.pbz2': 0.12202025867440837}. Best is trial 86 with value: 0.8645450203009314.\u001b[0m\n",
      "\u001b[32m[I 2022-04-17 07:18:29,695]\u001b[0m Trial 89 finished with value: 0.8643738555847464 and parameters: {'exp16v6AugMix1536_fold3.pbz2': 3.9133237328633004, 'exp16v6AugmixB3_fold3.pbz2': 0.29426911429347846, 'exp16v6AugmixB4Full_fold3.pbz2': 3.9105459676049916, 'exp16v6AugmixB4Step2_fold3.pbz2': 2.796203122567498, 'exp16v6AugmixB4_fold3_remove_background.pbz2': 1.3391552101076076, 'exp21b6_fold3_remove_background.pbz2': 0.01536624420384447}. Best is trial 86 with value: 0.8645450203009314.\u001b[0m\n",
      "\u001b[32m[I 2022-04-17 07:18:30,923]\u001b[0m Trial 90 finished with value: 0.8643141469628214 and parameters: {'exp16v6AugMix1536_fold3.pbz2': 3.90247068298044, 'exp16v6AugmixB3_fold3.pbz2': 0.6140957410378738, 'exp16v6AugmixB4Full_fold3.pbz2': 3.906406996710185, 'exp16v6AugmixB4Step2_fold3.pbz2': 2.8186473661096416, 'exp16v6AugmixB4_fold3_remove_background.pbz2': 1.3770580084398807, 'exp21b6_fold3_remove_background.pbz2': 0.011117947571344006}. Best is trial 86 with value: 0.8645450203009314.\u001b[0m\n",
      "\u001b[32m[I 2022-04-17 07:18:32,143]\u001b[0m Trial 91 finished with value: 0.864363904147759 and parameters: {'exp16v6AugMix1536_fold3.pbz2': 3.917476998068882, 'exp16v6AugmixB3_fold3.pbz2': 0.25305504796820055, 'exp16v6AugmixB4Full_fold3.pbz2': 3.8951211272895185, 'exp16v6AugmixB4Step2_fold3.pbz2': 2.8134040418285733, 'exp16v6AugmixB4_fold3_remove_background.pbz2': 1.337018533784914, 'exp21b6_fold3_remove_background.pbz2': 0.05467990849421763}. Best is trial 86 with value: 0.8645450203009314.\u001b[0m\n",
      "\u001b[32m[I 2022-04-17 07:18:33,363]\u001b[0m Trial 92 finished with value: 0.8640474484515565 and parameters: {'exp16v6AugMix1536_fold3.pbz2': 3.901331621977785, 'exp16v6AugmixB3_fold3.pbz2': 0.6098247500070926, 'exp16v6AugmixB4Full_fold3.pbz2': 3.9171704002513885, 'exp16v6AugmixB4Step2_fold3.pbz2': 3.051235385853284, 'exp16v6AugmixB4_fold3_remove_background.pbz2': 1.360166016887444, 'exp21b6_fold3_remove_background.pbz2': 0.03807234381808805}. Best is trial 86 with value: 0.8645450203009314.\u001b[0m\n",
      "\u001b[32m[I 2022-04-17 07:18:34,587]\u001b[0m Trial 93 finished with value: 0.8641210890852639 and parameters: {'exp16v6AugMix1536_fold3.pbz2': 3.9074504752111, 'exp16v6AugmixB3_fold3.pbz2': 0.24551174417822744, 'exp16v6AugmixB4Full_fold3.pbz2': 3.9236683813496804, 'exp16v6AugmixB4Step2_fold3.pbz2': 2.830597957134616, 'exp16v6AugmixB4_fold3_remove_background.pbz2': 1.5987599299302189, 'exp21b6_fold3_remove_background.pbz2': 0.0022531289175201086}. Best is trial 86 with value: 0.8645450203009314.\u001b[0m\n",
      "\u001b[32m[I 2022-04-17 07:18:35,804]\u001b[0m Trial 94 finished with value: 0.8640693416129288 and parameters: {'exp16v6AugMix1536_fold3.pbz2': 3.7968481609421247, 'exp16v6AugmixB3_fold3.pbz2': 0.4985357864863876, 'exp16v6AugmixB4Full_fold3.pbz2': 3.9274434744294604, 'exp16v6AugmixB4Step2_fold3.pbz2': 2.975142176901077, 'exp16v6AugmixB4_fold3_remove_background.pbz2': 1.2289243204007503, 'exp21b6_fold3_remove_background.pbz2': 0.11296780998620298}. Best is trial 86 with value: 0.8645450203009314.\u001b[0m\n",
      "\u001b[32m[I 2022-04-17 07:18:37,060]\u001b[0m Trial 95 finished with value: 0.860150465727251 and parameters: {'exp16v6AugMix1536_fold3.pbz2': 2.434476139651469, 'exp16v6AugmixB3_fold3.pbz2': 0.2577507825112099, 'exp16v6AugmixB4Full_fold3.pbz2': 3.7743861773022656, 'exp16v6AugmixB4Step2_fold3.pbz2': 3.36210730348363, 'exp16v6AugmixB4_fold3_remove_background.pbz2': 1.4287511986487655, 'exp21b6_fold3_remove_background.pbz2': 0.27850939522234563}. Best is trial 86 with value: 0.8645450203009314.\u001b[0m\n",
      "\u001b[32m[I 2022-04-17 07:18:38,282]\u001b[0m Trial 96 finished with value: 0.8638563808613964 and parameters: {'exp16v6AugMix1536_fold3.pbz2': 3.9166014159793496, 'exp16v6AugmixB3_fold3.pbz2': 0.7486977231880205, 'exp16v6AugmixB4Full_fold3.pbz2': 3.8872300609517176, 'exp16v6AugmixB4Step2_fold3.pbz2': 2.849285387661308, 'exp16v6AugmixB4_fold3_remove_background.pbz2': 1.5626377077558902, 'exp21b6_fold3_remove_background.pbz2': 0.42588821593886633}. Best is trial 86 with value: 0.8645450203009314.\u001b[0m\n",
      "\u001b[32m[I 2022-04-17 07:18:39,502]\u001b[0m Trial 97 finished with value: 0.8642007005811639 and parameters: {'exp16v6AugMix1536_fold3.pbz2': 3.8264573055780238, 'exp16v6AugmixB3_fold3.pbz2': 0.42664457146474805, 'exp16v6AugmixB4Full_fold3.pbz2': 3.6575237188104075, 'exp16v6AugmixB4Step2_fold3.pbz2': 2.697722153218731, 'exp16v6AugmixB4_fold3_remove_background.pbz2': 1.3871068831190787, 'exp21b6_fold3_remove_background.pbz2': 0.10663470520929648}. Best is trial 86 with value: 0.8645450203009314.\u001b[0m\n",
      "\u001b[32m[I 2022-04-17 07:18:40,725]\u001b[0m Trial 98 finished with value: 0.8570515882493432 and parameters: {'exp16v6AugMix1536_fold3.pbz2': 1.4758597274279595, 'exp16v6AugmixB3_fold3.pbz2': 0.5848757223373449, 'exp16v6AugmixB4Full_fold3.pbz2': 3.9983817593129287, 'exp16v6AugmixB4Step2_fold3.pbz2': 3.2181013424501512, 'exp16v6AugmixB4_fold3_remove_background.pbz2': 1.2972027470424952, 'exp21b6_fold3_remove_background.pbz2': 1.3812132282661551}. Best is trial 86 with value: 0.8645450203009314.\u001b[0m\n",
      "\u001b[32m[I 2022-04-17 07:18:41,945]\u001b[0m Trial 99 finished with value: 0.8604927951596212 and parameters: {'exp16v6AugMix1536_fold3.pbz2': 3.7211835894665017, 'exp16v6AugmixB3_fold3.pbz2': 2.290281472891154, 'exp16v6AugmixB4Full_fold3.pbz2': 3.7461344936935412, 'exp16v6AugmixB4Step2_fold3.pbz2': 2.6326792602207574, 'exp16v6AugmixB4_fold3_remove_background.pbz2': 1.6924925954080483, 'exp21b6_fold3_remove_background.pbz2': 1.836739144230902}. Best is trial 86 with value: 0.8645450203009314.\u001b[0m\n",
      "\u001b[32m[I 2022-04-17 07:18:43,167]\u001b[0m Trial 100 finished with value: 0.8548622721120931 and parameters: {'exp16v6AugMix1536_fold3.pbz2': 3.3536627504748706, 'exp16v6AugmixB3_fold3.pbz2': 0.09163676190956987, 'exp16v6AugmixB4Full_fold3.pbz2': 1.0075223530319173, 'exp16v6AugmixB4Step2_fold3.pbz2': 2.5432330798287928, 'exp16v6AugmixB4_fold3_remove_background.pbz2': 1.8123767990680462, 'exp21b6_fold3_remove_background.pbz2': 0.4765016226933161}. Best is trial 86 with value: 0.8645450203009314.\u001b[0m\n",
      "\u001b[32m[I 2022-04-17 07:18:44,391]\u001b[0m Trial 101 finished with value: 0.8639200700581164 and parameters: {'exp16v6AugMix1536_fold3.pbz2': 3.826284129321043, 'exp16v6AugmixB3_fold3.pbz2': 0.4006373786233512, 'exp16v6AugmixB4Full_fold3.pbz2': 3.6424826767704688, 'exp16v6AugmixB4Step2_fold3.pbz2': 2.7917730664714506, 'exp16v6AugmixB4_fold3_remove_background.pbz2': 1.3726437027770173, 'exp21b6_fold3_remove_background.pbz2': 0.13965646252920375}. Best is trial 86 with value: 0.8645450203009314.\u001b[0m\n"
     ]
    },
    {
     "name": "stderr",
     "output_type": "stream",
     "text": [
      "\u001b[32m[I 2022-04-17 07:18:45,614]\u001b[0m Trial 102 finished with value: 0.8641947297189713 and parameters: {'exp16v6AugMix1536_fold3.pbz2': 3.938766956759535, 'exp16v6AugmixB3_fold3.pbz2': 0.22947354595009584, 'exp16v6AugmixB4Full_fold3.pbz2': 3.8564991789889085, 'exp16v6AugmixB4Step2_fold3.pbz2': 2.688401384869662, 'exp16v6AugmixB4_fold3_remove_background.pbz2': 1.0975993436568594, 'exp21b6_fold3_remove_background.pbz2': 0.07845906699813462}. Best is trial 86 with value: 0.8645450203009314.\u001b[0m\n",
      "\u001b[32m[I 2022-04-17 07:18:46,834]\u001b[0m Trial 103 finished with value: 0.8638324974126265 and parameters: {'exp16v6AugMix1536_fold3.pbz2': 3.5813592206359446, 'exp16v6AugmixB3_fold3.pbz2': 0.46894058989849663, 'exp16v6AugmixB4Full_fold3.pbz2': 3.6944240980431204, 'exp16v6AugmixB4Step2_fold3.pbz2': 2.8998772123331786, 'exp16v6AugmixB4_fold3_remove_background.pbz2': 1.2820175383268748, 'exp21b6_fold3_remove_background.pbz2': 0.25902951247385086}. Best is trial 86 with value: 0.8645450203009314.\u001b[0m\n",
      "\u001b[32m[I 2022-04-17 07:18:48,076]\u001b[0m Trial 104 finished with value: 0.8640554096011464 and parameters: {'exp16v6AugMix1536_fold3.pbz2': 3.8455256328971896, 'exp16v6AugmixB3_fold3.pbz2': 0.39375478496431426, 'exp16v6AugmixB4Full_fold3.pbz2': 3.4658405603085907, 'exp16v6AugmixB4Step2_fold3.pbz2': 2.40390560907285, 'exp16v6AugmixB4_fold3_remove_background.pbz2': 1.5936692743552157, 'exp21b6_fold3_remove_background.pbz2': 0.15111634378231018}. Best is trial 86 with value: 0.8645450203009314.\u001b[0m\n",
      "\u001b[32m[I 2022-04-17 07:18:49,299]\u001b[0m Trial 105 finished with value: 0.860082795955736 and parameters: {'exp16v6AugMix1536_fold3.pbz2': 3.7444855854563412, 'exp16v6AugmixB3_fold3.pbz2': 0.10263613727656462, 'exp16v6AugmixB4Full_fold3.pbz2': 2.167226268100348, 'exp16v6AugmixB4Step2_fold3.pbz2': 3.0742531857509428, 'exp16v6AugmixB4_fold3_remove_background.pbz2': 1.4064851701196228, 'exp21b6_fold3_remove_background.pbz2': 0.04629551030535879}. Best is trial 86 with value: 0.8645450203009314.\u001b[0m\n",
      "\u001b[32m[I 2022-04-17 07:18:50,524]\u001b[0m Trial 106 finished with value: 0.8641668656954063 and parameters: {'exp16v6AugMix1536_fold3.pbz2': 3.827074450246977, 'exp16v6AugmixB3_fold3.pbz2': 0.007223154355358734, 'exp16v6AugmixB4Full_fold3.pbz2': 3.793758757002333, 'exp16v6AugmixB4Step2_fold3.pbz2': 2.750692888307275, 'exp16v6AugmixB4_fold3_remove_background.pbz2': 1.520508218326115, 'exp21b6_fold3_remove_background.pbz2': 0.288240781345994}. Best is trial 86 with value: 0.8645450203009314.\u001b[0m\n",
      "\u001b[32m[I 2022-04-17 07:18:51,747]\u001b[0m Trial 107 finished with value: 0.8595255154844359 and parameters: {'exp16v6AugMix1536_fold3.pbz2': 3.6640576829051303, 'exp16v6AugmixB3_fold3.pbz2': 0.8566025625817357, 'exp16v6AugmixB4Full_fold3.pbz2': 3.9407367347266518, 'exp16v6AugmixB4Step2_fold3.pbz2': 2.6157212502478555, 'exp16v6AugmixB4_fold3_remove_background.pbz2': 0.9698137661527807, 'exp21b6_fold3_remove_background.pbz2': 3.938346884426002}. Best is trial 86 with value: 0.8645450203009314.\u001b[0m\n",
      "\u001b[32m[I 2022-04-17 07:18:52,979]\u001b[0m Trial 108 finished with value: 0.8635279834408088 and parameters: {'exp16v6AugMix1536_fold3.pbz2': 3.9524458840501913, 'exp16v6AugmixB3_fold3.pbz2': 0.27466526346159675, 'exp16v6AugmixB4Full_fold3.pbz2': 3.602548025304423, 'exp16v6AugmixB4Step2_fold3.pbz2': 2.970987136523929, 'exp16v6AugmixB4_fold3_remove_background.pbz2': 1.666702920291497, 'exp21b6_fold3_remove_background.pbz2': 0.0010841149614279639}. Best is trial 86 with value: 0.8645450203009314.\u001b[0m\n",
      "\u001b[32m[I 2022-04-17 07:18:54,208]\u001b[0m Trial 109 finished with value: 0.8618442003025236 and parameters: {'exp16v6AugMix1536_fold3.pbz2': 3.5623083330998693, 'exp16v6AugmixB3_fold3.pbz2': 0.18788926590513083, 'exp16v6AugmixB4Full_fold3.pbz2': 3.993598903194143, 'exp16v6AugmixB4Step2_fold3.pbz2': 2.3792808514959463, 'exp16v6AugmixB4_fold3_remove_background.pbz2': 1.47020079472202, 'exp21b6_fold3_remove_background.pbz2': 2.6457175618034547}. Best is trial 86 with value: 0.8645450203009314.\u001b[0m\n",
      "\u001b[32m[I 2022-04-17 07:18:55,430]\u001b[0m Trial 110 finished with value: 0.8585980415572009 and parameters: {'exp16v6AugMix1536_fold3.pbz2': 2.960079708400672, 'exp16v6AugmixB3_fold3.pbz2': 3.0739636725531465, 'exp16v6AugmixB4Full_fold3.pbz2': 3.8093333269250915, 'exp16v6AugmixB4Step2_fold3.pbz2': 2.4965928864961553, 'exp16v6AugmixB4_fold3_remove_background.pbz2': 1.1195642180530863, 'exp21b6_fold3_remove_background.pbz2': 0.5641485134426255}. Best is trial 86 with value: 0.8645450203009314.\u001b[0m\n",
      "\u001b[32m[I 2022-04-17 07:18:56,664]\u001b[0m Trial 111 finished with value: 0.8613784730515086 and parameters: {'exp16v6AugMix1536_fold3.pbz2': 3.9744868134295457, 'exp16v6AugmixB3_fold3.pbz2': 0.07208101440178932, 'exp16v6AugmixB4Full_fold3.pbz2': 2.423318065416096, 'exp16v6AugmixB4Step2_fold3.pbz2': 2.567262693135546, 'exp16v6AugmixB4_fold3_remove_background.pbz2': 0.7993451424630793, 'exp21b6_fold3_remove_background.pbz2': 0.21440837569311158}. Best is trial 86 with value: 0.8645450203009314.\u001b[0m\n",
      "\u001b[32m[I 2022-04-17 07:18:57,924]\u001b[0m Trial 112 finished with value: 0.8644693893798264 and parameters: {'exp16v6AugMix1536_fold3.pbz2': 3.8254691648371586, 'exp16v6AugmixB3_fold3.pbz2': 0.16656070577094512, 'exp16v6AugmixB4Full_fold3.pbz2': 3.869242154370696, 'exp16v6AugmixB4Step2_fold3.pbz2': 2.6499016695565865, 'exp16v6AugmixB4_fold3_remove_background.pbz2': 1.2414024805928336, 'exp21b6_fold3_remove_background.pbz2': 0.1486634385485003}. Best is trial 86 with value: 0.8645450203009314.\u001b[0m\n",
      "\u001b[32m[I 2022-04-17 07:18:59,144]\u001b[0m Trial 113 finished with value: 0.864228564604729 and parameters: {'exp16v6AugMix1536_fold3.pbz2': 3.81194751043623, 'exp16v6AugmixB3_fold3.pbz2': 0.5194805146012472, 'exp16v6AugmixB4Full_fold3.pbz2': 3.8525193531001296, 'exp16v6AugmixB4Step2_fold3.pbz2': 2.6709052713185564, 'exp16v6AugmixB4_fold3_remove_background.pbz2': 1.223212454196039, 'exp21b6_fold3_remove_background.pbz2': 0.3956574490940687}. Best is trial 86 with value: 0.8645450203009314.\u001b[0m\n",
      "\u001b[32m[I 2022-04-17 07:19:00,367]\u001b[0m Trial 114 finished with value: 0.8641111376482764 and parameters: {'exp16v6AugMix1536_fold3.pbz2': 3.754977363686625, 'exp16v6AugmixB3_fold3.pbz2': 0.340558669649065, 'exp16v6AugmixB4Full_fold3.pbz2': 3.8888170156578155, 'exp16v6AugmixB4Step2_fold3.pbz2': 2.240992978538856, 'exp16v6AugmixB4_fold3_remove_background.pbz2': 1.2435680352169318, 'exp21b6_fold3_remove_background.pbz2': 0.41722645107943596}. Best is trial 86 with value: 0.8645450203009314.\u001b[0m\n",
      "\u001b[32m[I 2022-04-17 07:19:01,589]\u001b[0m Trial 115 finished with value: 0.8624074516360163 and parameters: {'exp16v6AugMix1536_fold3.pbz2': 2.686529031841121, 'exp16v6AugmixB3_fold3.pbz2': 0.5299084359981185, 'exp16v6AugmixB4Full_fold3.pbz2': 3.7273927039407857, 'exp16v6AugmixB4Step2_fold3.pbz2': 2.8365065008800388, 'exp16v6AugmixB4_fold3_remove_background.pbz2': 1.3267036019020546, 'exp21b6_fold3_remove_background.pbz2': 0.16900464620493533}. Best is trial 86 with value: 0.8645450203009314.\u001b[0m\n",
      "\u001b[32m[I 2022-04-17 07:19:02,807]\u001b[0m Trial 116 finished with value: 0.8636175463736964 and parameters: {'exp16v6AugMix1536_fold3.pbz2': 3.901906143681092, 'exp16v6AugmixB3_fold3.pbz2': 0.6623376938367886, 'exp16v6AugmixB4Full_fold3.pbz2': 3.529186545957516, 'exp16v6AugmixB4Step2_fold3.pbz2': 2.6220618166562737, 'exp16v6AugmixB4_fold3_remove_background.pbz2': 1.0321256652441477, 'exp21b6_fold3_remove_background.pbz2': 0.3627527138892149}. Best is trial 86 with value: 0.8645450203009314.\u001b[0m\n",
      "\u001b[32m[I 2022-04-17 07:19:04,026]\u001b[0m Trial 117 finished with value: 0.8619835204203486 and parameters: {'exp16v6AugMix1536_fold3.pbz2': 3.6380609059702746, 'exp16v6AugmixB3_fold3.pbz2': 0.17160567718440822, 'exp16v6AugmixB4Full_fold3.pbz2': 3.839443535971698, 'exp16v6AugmixB4Step2_fold3.pbz2': 2.068380316761666, 'exp16v6AugmixB4_fold3_remove_background.pbz2': 3.236370585370505, 'exp21b6_fold3_remove_background.pbz2': 0.6236978689203168}. Best is trial 86 with value: 0.8645450203009314.\u001b[0m\n",
      "\u001b[32m[I 2022-04-17 07:19:05,251]\u001b[0m Trial 118 finished with value: 0.8638424488496139 and parameters: {'exp16v6AugMix1536_fold3.pbz2': 3.4431316596419714, 'exp16v6AugmixB3_fold3.pbz2': 0.27470373938927894, 'exp16v6AugmixB4Full_fold3.pbz2': 3.9293508213331987, 'exp16v6AugmixB4Step2_fold3.pbz2': 2.769107665093491, 'exp16v6AugmixB4_fold3_remove_background.pbz2': 1.209261639457946, 'exp21b6_fold3_remove_background.pbz2': 0.27128291802731624}. Best is trial 86 with value: 0.8645450203009314.\u001b[0m\n"
     ]
    },
    {
     "name": "stderr",
     "output_type": "stream",
     "text": [
      "\u001b[32m[I 2022-04-17 07:19:06,487]\u001b[0m Trial 119 finished with value: 0.864013613565799 and parameters: {'exp16v6AugMix1536_fold3.pbz2': 3.9927605922138345, 'exp16v6AugmixB3_fold3.pbz2': 0.5031071778658359, 'exp16v6AugmixB4Full_fold3.pbz2': 3.7332322231926867, 'exp16v6AugmixB4Step2_fold3.pbz2': 2.4532740731249403, 'exp16v6AugmixB4_fold3_remove_background.pbz2': 1.7724396411158927, 'exp21b6_fold3_remove_background.pbz2': 0.4908149729268382}. Best is trial 86 with value: 0.8645450203009314.\u001b[0m\n",
      "\u001b[32m[I 2022-04-17 07:19:07,707]\u001b[0m Trial 120 finished with value: 0.8642783217896663 and parameters: {'exp16v6AugMix1536_fold3.pbz2': 3.7058420871484214, 'exp16v6AugmixB3_fold3.pbz2': 0.2028625108924227, 'exp16v6AugmixB4Full_fold3.pbz2': 3.6045908240844926, 'exp16v6AugmixB4Step2_fold3.pbz2': 2.363714628208436, 'exp16v6AugmixB4_fold3_remove_background.pbz2': 1.5485866526902115, 'exp21b6_fold3_remove_background.pbz2': 0.1735628199222365}. Best is trial 86 with value: 0.8645450203009314.\u001b[0m\n",
      "\u001b[32m[I 2022-04-17 07:19:08,930]\u001b[0m Trial 121 finished with value: 0.8643758458721439 and parameters: {'exp16v6AugMix1536_fold3.pbz2': 3.8124924684426538, 'exp16v6AugmixB3_fold3.pbz2': 0.21244074256286258, 'exp16v6AugmixB4Full_fold3.pbz2': 3.602770667078064, 'exp16v6AugmixB4Step2_fold3.pbz2': 2.3405899517494615, 'exp16v6AugmixB4_fold3_remove_background.pbz2': 1.4326640174158642, 'exp21b6_fold3_remove_background.pbz2': 0.1834539383605003}. Best is trial 86 with value: 0.8645450203009314.\u001b[0m\n",
      "\u001b[32m[I 2022-04-17 07:19:10,154]\u001b[0m Trial 122 finished with value: 0.8639340020698989 and parameters: {'exp16v6AugMix1536_fold3.pbz2': 3.825949869204971, 'exp16v6AugmixB3_fold3.pbz2': 0.14648611350679297, 'exp16v6AugmixB4Full_fold3.pbz2': 3.4228320747976, 'exp16v6AugmixB4Step2_fold3.pbz2': 2.3555314728475794, 'exp16v6AugmixB4_fold3_remove_background.pbz2': 1.4690409115110177, 'exp21b6_fold3_remove_background.pbz2': 0.1798692269948842}. Best is trial 86 with value: 0.8645450203009314.\u001b[0m\n",
      "\u001b[32m[I 2022-04-17 07:19:11,377]\u001b[0m Trial 123 finished with value: 0.8641449725340339 and parameters: {'exp16v6AugMix1536_fold3.pbz2': 3.7000327207936423, 'exp16v6AugmixB3_fold3.pbz2': 0.22798012672007062, 'exp16v6AugmixB4Full_fold3.pbz2': 3.8293480663993833, 'exp16v6AugmixB4Step2_fold3.pbz2': 2.5050716088285263, 'exp16v6AugmixB4_fold3_remove_background.pbz2': 1.145953864546815, 'exp21b6_fold3_remove_background.pbz2': 0.2573635657646739}. Best is trial 86 with value: 0.8645450203009314.\u001b[0m\n",
      "\u001b[32m[I 2022-04-17 07:19:12,603]\u001b[0m Trial 124 finished with value: 0.8521913064246477 and parameters: {'exp16v6AugMix1536_fold3.pbz2': 3.8906798862357577, 'exp16v6AugmixB3_fold3.pbz2': 0.08238515329811252, 'exp16v6AugmixB4Full_fold3.pbz2': 0.03610707517023659, 'exp16v6AugmixB4Step2_fold3.pbz2': 2.2436422728196477, 'exp16v6AugmixB4_fold3_remove_background.pbz2': 1.3213089284970725, 'exp21b6_fold3_remove_background.pbz2': 0.08851141915612765}. Best is trial 86 with value: 0.8645450203009314.\u001b[0m\n",
      "\u001b[32m[I 2022-04-17 07:19:13,823]\u001b[0m Trial 125 finished with value: 0.863878274022769 and parameters: {'exp16v6AugMix1536_fold3.pbz2': 3.7691204391707185, 'exp16v6AugmixB3_fold3.pbz2': 0.38296741041557464, 'exp16v6AugmixB4Full_fold3.pbz2': 3.6039919846900625, 'exp16v6AugmixB4Step2_fold3.pbz2': 2.65213602799238, 'exp16v6AugmixB4_fold3_remove_background.pbz2': 1.4293037438154532, 'exp21b6_fold3_remove_background.pbz2': 0.3646681542809246}. Best is trial 86 with value: 0.8645450203009314.\u001b[0m\n",
      "\u001b[32m[I 2022-04-17 07:19:15,050]\u001b[0m Trial 126 finished with value: 0.8640892444869039 and parameters: {'exp16v6AugMix1536_fold3.pbz2': 3.5904962791217097, 'exp16v6AugmixB3_fold3.pbz2': 0.006656045219483819, 'exp16v6AugmixB4Full_fold3.pbz2': 3.867129974990142, 'exp16v6AugmixB4Step2_fold3.pbz2': 2.3794983946132473, 'exp16v6AugmixB4_fold3_remove_background.pbz2': 1.5409173301406154, 'exp21b6_fold3_remove_background.pbz2': 0.16388867146847688}. Best is trial 86 with value: 0.8645450203009314.\u001b[0m\n",
      "\u001b[32m[I 2022-04-17 07:19:16,272]\u001b[0m Trial 127 finished with value: 0.8612132791975162 and parameters: {'exp16v6AugMix1536_fold3.pbz2': 3.9000888281863233, 'exp16v6AugmixB3_fold3.pbz2': 0.2078556923309429, 'exp16v6AugmixB4Full_fold3.pbz2': 3.9764392766748835, 'exp16v6AugmixB4Step2_fold3.pbz2': 2.8858200514469874, 'exp16v6AugmixB4_fold3_remove_background.pbz2': 1.0501780430575909, 'exp21b6_fold3_remove_background.pbz2': 3.0256779682646715}. Best is trial 86 with value: 0.8645450203009314.\u001b[0m\n",
      "\u001b[32m[I 2022-04-17 07:19:17,493]\u001b[0m Trial 128 finished with value: 0.8631259453865138 and parameters: {'exp16v6AugMix1536_fold3.pbz2': 3.6973319176165504, 'exp16v6AugmixB3_fold3.pbz2': 1.5814993755051803, 'exp16v6AugmixB4Full_fold3.pbz2': 3.7614122730210093, 'exp16v6AugmixB4Step2_fold3.pbz2': 2.566199771989842, 'exp16v6AugmixB4_fold3_remove_background.pbz2': 1.2365708914236437, 'exp21b6_fold3_remove_background.pbz2': 0.2995381204495506}. Best is trial 86 with value: 0.8645450203009314.\u001b[0m\n",
      "\u001b[32m[I 2022-04-17 07:19:18,763]\u001b[0m Trial 129 finished with value: 0.8626900724464613 and parameters: {'exp16v6AugMix1536_fold3.pbz2': 3.8042294110971566, 'exp16v6AugmixB3_fold3.pbz2': 0.5892894331630276, 'exp16v6AugmixB4Full_fold3.pbz2': 3.5476794606447872, 'exp16v6AugmixB4Step2_fold3.pbz2': 2.7370302600844916, 'exp16v6AugmixB4_fold3_remove_background.pbz2': 1.9594996606374993, 'exp21b6_fold3_remove_background.pbz2': 0.0016881220282298076}. Best is trial 86 with value: 0.8645450203009314.\u001b[0m\n",
      "\u001b[32m[I 2022-04-17 07:19:19,998]\u001b[0m Trial 130 finished with value: 0.8636613326964414 and parameters: {'exp16v6AugMix1536_fold3.pbz2': 3.9295857092650794, 'exp16v6AugmixB3_fold3.pbz2': 0.3108531393346118, 'exp16v6AugmixB4Full_fold3.pbz2': 3.3388055619021806, 'exp16v6AugmixB4Step2_fold3.pbz2': 2.453935664899018, 'exp16v6AugmixB4_fold3_remove_background.pbz2': 1.608605722917832, 'exp21b6_fold3_remove_background.pbz2': 0.38468152995056987}. Best is trial 86 with value: 0.8645450203009314.\u001b[0m\n",
      "\u001b[32m[I 2022-04-17 07:19:21,231]\u001b[0m Trial 131 finished with value: 0.8646047289228564 and parameters: {'exp16v6AugMix1536_fold3.pbz2': 3.8381045942463112, 'exp16v6AugmixB3_fold3.pbz2': 0.32333237871377296, 'exp16v6AugmixB4Full_fold3.pbz2': 3.6658035887922242, 'exp16v6AugmixB4Step2_fold3.pbz2': 2.098321539154567, 'exp16v6AugmixB4_fold3_remove_background.pbz2': 1.6930136530353637, 'exp21b6_fold3_remove_background.pbz2': 0.06502580806710855}. Best is trial 131 with value: 0.8646047289228564.\u001b[0m\n",
      "\u001b[32m[I 2022-04-17 07:19:22,457]\u001b[0m Trial 132 finished with value: 0.8638782740227688 and parameters: {'exp16v6AugMix1536_fold3.pbz2': 3.9921292841218534, 'exp16v6AugmixB3_fold3.pbz2': 0.43076780347919896, 'exp16v6AugmixB4Full_fold3.pbz2': 3.636535538862863, 'exp16v6AugmixB4Step2_fold3.pbz2': 2.3168382752487657, 'exp16v6AugmixB4_fold3_remove_background.pbz2': 1.3308526237078657, 'exp21b6_fold3_remove_background.pbz2': 0.21848593872253444}. Best is trial 131 with value: 0.8646047289228564.\u001b[0m\n",
      "\u001b[32m[I 2022-04-17 07:19:23,679]\u001b[0m Trial 133 finished with value: 0.8641827879945865 and parameters: {'exp16v6AugMix1536_fold3.pbz2': 3.7518367266990658, 'exp16v6AugmixB3_fold3.pbz2': 0.13516010992753563, 'exp16v6AugmixB4Full_fold3.pbz2': 3.826321863735956, 'exp16v6AugmixB4Step2_fold3.pbz2': 2.216815279344163, 'exp16v6AugmixB4_fold3_remove_background.pbz2': 1.7288874575620259, 'exp21b6_fold3_remove_background.pbz2': 0.07078077982279704}. Best is trial 131 with value: 0.8646047289228564.\u001b[0m\n",
      "\u001b[32m[I 2022-04-17 07:19:24,900]\u001b[0m Trial 134 finished with value: 0.8644196321948889 and parameters: {'exp16v6AugMix1536_fold3.pbz2': 3.8397383736056816, 'exp16v6AugmixB3_fold3.pbz2': 0.2559367976620634, 'exp16v6AugmixB4Full_fold3.pbz2': 3.715981123464117, 'exp16v6AugmixB4Step2_fold3.pbz2': 1.893189057417571, 'exp16v6AugmixB4_fold3_remove_background.pbz2': 1.5526396329245244, 'exp21b6_fold3_remove_background.pbz2': 0.13039030862111567}. Best is trial 131 with value: 0.8646047289228564.\u001b[0m\n",
      "\u001b[32m[I 2022-04-17 07:19:26,124]\u001b[0m Trial 135 finished with value: 0.8647540004776689 and parameters: {'exp16v6AugMix1536_fold3.pbz2': 3.652126520903504, 'exp16v6AugmixB3_fold3.pbz2': 0.20821616991473024, 'exp16v6AugmixB4Full_fold3.pbz2': 3.708881406656878, 'exp16v6AugmixB4Step2_fold3.pbz2': 1.7961919757727869, 'exp16v6AugmixB4_fold3_remove_background.pbz2': 1.8153066485115996, 'exp21b6_fold3_remove_background.pbz2': 0.13374609582134891}. Best is trial 135 with value: 0.8647540004776689.\u001b[0m\n"
     ]
    },
    {
     "name": "stderr",
     "output_type": "stream",
     "text": [
      "\u001b[32m[I 2022-04-17 07:19:27,351]\u001b[0m Trial 136 finished with value: 0.8644713796672239 and parameters: {'exp16v6AugMix1536_fold3.pbz2': 3.643267352370705, 'exp16v6AugmixB3_fold3.pbz2': 0.20246750873920344, 'exp16v6AugmixB4Full_fold3.pbz2': 3.464305171178289, 'exp16v6AugmixB4Step2_fold3.pbz2': 1.8443642136255076, 'exp16v6AugmixB4_fold3_remove_background.pbz2': 1.777280392529911, 'exp21b6_fold3_remove_background.pbz2': 0.12500735937616436}. Best is trial 135 with value: 0.8647540004776689.\u001b[0m\n",
      "\u001b[32m[I 2022-04-17 07:19:28,577]\u001b[0m Trial 137 finished with value: 0.8643101663880264 and parameters: {'exp16v6AugMix1536_fold3.pbz2': 3.6134949024897844, 'exp16v6AugmixB3_fold3.pbz2': 0.12145059893084126, 'exp16v6AugmixB4Full_fold3.pbz2': 3.458321290911095, 'exp16v6AugmixB4Step2_fold3.pbz2': 1.8408437947788612, 'exp16v6AugmixB4_fold3_remove_background.pbz2': 2.0023403037677405, 'exp21b6_fold3_remove_background.pbz2': 0.06463301676330913}. Best is trial 135 with value: 0.8647540004776689.\u001b[0m\n",
      "\u001b[32m[I 2022-04-17 07:19:29,803]\u001b[0m Trial 138 finished with value: 0.8647340976036939 and parameters: {'exp16v6AugMix1536_fold3.pbz2': 3.4904977549586205, 'exp16v6AugmixB3_fold3.pbz2': 0.360556510648121, 'exp16v6AugmixB4Full_fold3.pbz2': 3.7121461974268715, 'exp16v6AugmixB4Step2_fold3.pbz2': 1.5633096875055903, 'exp16v6AugmixB4_fold3_remove_background.pbz2': 1.8108807390580108, 'exp21b6_fold3_remove_background.pbz2': 0.12183136797922126}. Best is trial 135 with value: 0.8647540004776689.\u001b[0m\n",
      "\u001b[32m[I 2022-04-17 07:19:31,033]\u001b[0m Trial 139 finished with value: 0.8520698988934001 and parameters: {'exp16v6AugMix1536_fold3.pbz2': 0.4989690745787039, 'exp16v6AugmixB3_fold3.pbz2': 0.37539346758309006, 'exp16v6AugmixB4Full_fold3.pbz2': 3.7350898663467964, 'exp16v6AugmixB4Step2_fold3.pbz2': 1.7493290816474527, 'exp16v6AugmixB4_fold3_remove_background.pbz2': 2.0773833179210364, 'exp21b6_fold3_remove_background.pbz2': 0.004464520517623222}. Best is trial 135 with value: 0.8647540004776689.\u001b[0m\n",
      "\u001b[32m[I 2022-04-17 07:19:32,254]\u001b[0m Trial 140 finished with value: 0.8613127935673912 and parameters: {'exp16v6AugMix1536_fold3.pbz2': 3.4722162671794368, 'exp16v6AugmixB3_fold3.pbz2': 2.5840046513384864, 'exp16v6AugmixB4Full_fold3.pbz2': 3.4945873603091644, 'exp16v6AugmixB4Step2_fold3.pbz2': 1.5033035313250842, 'exp16v6AugmixB4_fold3_remove_background.pbz2': 1.8399567966079355, 'exp21b6_fold3_remove_background.pbz2': 0.2432633441338451}. Best is trial 135 with value: 0.8647540004776689.\u001b[0m\n",
      "\u001b[32m[I 2022-04-17 07:19:33,476]\u001b[0m Trial 141 finished with value: 0.8646047289228564 and parameters: {'exp16v6AugMix1536_fold3.pbz2': 3.8776405096278177, 'exp16v6AugmixB3_fold3.pbz2': 0.2439980763159258, 'exp16v6AugmixB4Full_fold3.pbz2': 3.685080048059066, 'exp16v6AugmixB4Step2_fold3.pbz2': 1.9594850425135428, 'exp16v6AugmixB4_fold3_remove_background.pbz2': 1.7419217829482898, 'exp21b6_fold3_remove_background.pbz2': 0.12556809892125417}. Best is trial 135 with value: 0.8647540004776689.\u001b[0m\n",
      "\u001b[32m[I 2022-04-17 07:19:34,700]\u001b[0m Trial 142 finished with value: 0.8642604092030889 and parameters: {'exp16v6AugMix1536_fold3.pbz2': 3.5296090071682946, 'exp16v6AugmixB3_fold3.pbz2': 0.29144134566136876, 'exp16v6AugmixB4Full_fold3.pbz2': 3.681478493373489, 'exp16v6AugmixB4Step2_fold3.pbz2': 1.8754046072269057, 'exp16v6AugmixB4_fold3_remove_background.pbz2': 1.7309077549302097, 'exp21b6_fold3_remove_background.pbz2': 0.12162186367981197}. Best is trial 135 with value: 0.8647540004776689.\u001b[0m\n",
      "\u001b[32m[I 2022-04-17 07:19:35,928]\u001b[0m Trial 143 finished with value: 0.864383807021734 and parameters: {'exp16v6AugMix1536_fold3.pbz2': 3.863883684311073, 'exp16v6AugmixB3_fold3.pbz2': 0.232726627717657, 'exp16v6AugmixB4Full_fold3.pbz2': 3.5511135934035307, 'exp16v6AugmixB4Step2_fold3.pbz2': 1.6455400154675728, 'exp16v6AugmixB4_fold3_remove_background.pbz2': 1.8602209008354005, 'exp21b6_fold3_remove_background.pbz2': 0.14872612822665565}. Best is trial 135 with value: 0.8647540004776689.\u001b[0m\n",
      "\u001b[32m[I 2022-04-17 07:19:37,151]\u001b[0m Trial 144 finished with value: 0.8639996815540164 and parameters: {'exp16v6AugMix1536_fold3.pbz2': 3.6615249254021203, 'exp16v6AugmixB3_fold3.pbz2': 0.22231398125989726, 'exp16v6AugmixB4Full_fold3.pbz2': 3.3977945199210184, 'exp16v6AugmixB4Step2_fold3.pbz2': 1.590910158845524, 'exp16v6AugmixB4_fold3_remove_background.pbz2': 2.1589558051443074, 'exp21b6_fold3_remove_background.pbz2': 0.21908409533685314}. Best is trial 135 with value: 0.8647540004776689.\u001b[0m\n",
      "\u001b[32m[I 2022-04-17 07:19:38,379]\u001b[0m Trial 145 finished with value: 0.8612809489690312 and parameters: {'exp16v6AugMix1536_fold3.pbz2': 1.8796146503965663, 'exp16v6AugmixB3_fold3.pbz2': 0.3515853260266901, 'exp16v6AugmixB4Full_fold3.pbz2': 3.2674022248612804, 'exp16v6AugmixB4Step2_fold3.pbz2': 1.4404322526897642, 'exp16v6AugmixB4_fold3_remove_background.pbz2': 1.950855420153455, 'exp21b6_fold3_remove_background.pbz2': 0.2900507339663115}. Best is trial 135 with value: 0.8647540004776689.\u001b[0m\n",
      "\u001b[32m[I 2022-04-17 07:19:39,658]\u001b[0m Trial 146 finished with value: 0.8643340498367964 and parameters: {'exp16v6AugMix1536_fold3.pbz2': 3.8363387396971653, 'exp16v6AugmixB3_fold3.pbz2': 0.14713272557378398, 'exp16v6AugmixB4Full_fold3.pbz2': 3.5260730716862225, 'exp16v6AugmixB4Step2_fold3.pbz2': 1.6756343842019508, 'exp16v6AugmixB4_fold3_remove_background.pbz2': 1.838297268566556, 'exp21b6_fold3_remove_background.pbz2': 0.1434040943039096}. Best is trial 135 with value: 0.8647540004776689.\u001b[0m\n",
      "\u001b[32m[I 2022-04-17 07:19:40,883]\u001b[0m Trial 147 finished with value: 0.8647559907650664 and parameters: {'exp16v6AugMix1536_fold3.pbz2': 3.767606618597635, 'exp16v6AugmixB3_fold3.pbz2': 0.16385382736352774, 'exp16v6AugmixB4Full_fold3.pbz2': 3.5292956720465902, 'exp16v6AugmixB4Step2_fold3.pbz2': 1.4100817799517211, 'exp16v6AugmixB4_fold3_remove_background.pbz2': 1.8727797514722873, 'exp21b6_fold3_remove_background.pbz2': 0.13340968019305285}. Best is trial 147 with value: 0.8647559907650664.\u001b[0m\n",
      "\u001b[32m[I 2022-04-17 07:19:42,113]\u001b[0m Trial 148 finished with value: 0.8628811400366214 and parameters: {'exp16v6AugMix1536_fold3.pbz2': 3.5641698056046223, 'exp16v6AugmixB3_fold3.pbz2': 0.008132227995167801, 'exp16v6AugmixB4Full_fold3.pbz2': 3.3328521022196544, 'exp16v6AugmixB4Step2_fold3.pbz2': 1.3646352160379893, 'exp16v6AugmixB4_fold3_remove_background.pbz2': 1.7965704378232508, 'exp21b6_fold3_remove_background.pbz2': 2.347575284339682}. Best is trial 147 with value: 0.8647559907650664.\u001b[0m\n",
      "\u001b[32m[I 2022-04-17 07:19:43,341]\u001b[0m Trial 149 finished with value: 0.8641509433962264 and parameters: {'exp16v6AugMix1536_fold3.pbz2': 3.749811108103107, 'exp16v6AugmixB3_fold3.pbz2': 0.25283960767858626, 'exp16v6AugmixB4Full_fold3.pbz2': 3.5701424982251058, 'exp16v6AugmixB4Step2_fold3.pbz2': 1.6068473225680244, 'exp16v6AugmixB4_fold3_remove_background.pbz2': 2.2954605216725508, 'exp21b6_fold3_remove_background.pbz2': 0.4585337515655199}. Best is trial 147 with value: 0.8647559907650664.\u001b[0m\n",
      "\u001b[32m[I 2022-04-17 07:19:44,561]\u001b[0m Trial 150 finished with value: 0.8643380304115915 and parameters: {'exp16v6AugMix1536_fold3.pbz2': 3.9996463149382, 'exp16v6AugmixB3_fold3.pbz2': 0.4312070048578921, 'exp16v6AugmixB4Full_fold3.pbz2': 3.6474966094824564, 'exp16v6AugmixB4Step2_fold3.pbz2': 1.7807339087007688, 'exp16v6AugmixB4_fold3_remove_background.pbz2': 1.8892415416389816, 'exp21b6_fold3_remove_background.pbz2': 0.08411710026993394}. Best is trial 147 with value: 0.8647559907650664.\u001b[0m\n",
      "\u001b[32m[I 2022-04-17 07:19:45,784]\u001b[0m Trial 151 finished with value: 0.8644693893798264 and parameters: {'exp16v6AugMix1536_fold3.pbz2': 3.885722875811971, 'exp16v6AugmixB3_fold3.pbz2': 0.4453152371308915, 'exp16v6AugmixB4Full_fold3.pbz2': 3.652840969434548, 'exp16v6AugmixB4Step2_fold3.pbz2': 1.7915042223426225, 'exp16v6AugmixB4_fold3_remove_background.pbz2': 1.8673164744523985, 'exp21b6_fold3_remove_background.pbz2': 0.09376078541102743}. Best is trial 147 with value: 0.8647559907650664.\u001b[0m\n",
      "\u001b[32m[I 2022-04-17 07:19:47,018]\u001b[0m Trial 152 finished with value: 0.8644116710452989 and parameters: {'exp16v6AugMix1536_fold3.pbz2': 3.874564903768803, 'exp16v6AugmixB3_fold3.pbz2': 0.18155855378583463, 'exp16v6AugmixB4Full_fold3.pbz2': 3.712608723870249, 'exp16v6AugmixB4Step2_fold3.pbz2': 1.9473465882005636, 'exp16v6AugmixB4_fold3_remove_background.pbz2': 2.0153664851372417, 'exp21b6_fold3_remove_background.pbz2': 0.15141703057035488}. Best is trial 147 with value: 0.8647559907650664.\u001b[0m\n"
     ]
    },
    {
     "name": "stderr",
     "output_type": "stream",
     "text": [
      "\u001b[32m[I 2022-04-17 07:19:48,250]\u001b[0m Trial 153 finished with value: 0.8634145370591513 and parameters: {'exp16v6AugMix1536_fold3.pbz2': 3.658866622284595, 'exp16v6AugmixB3_fold3.pbz2': 0.17476217362427968, 'exp16v6AugmixB4Full_fold3.pbz2': 3.1942256209575532, 'exp16v6AugmixB4Step2_fold3.pbz2': 1.9464315548247453, 'exp16v6AugmixB4_fold3_remove_background.pbz2': 2.070862388364857, 'exp21b6_fold3_remove_background.pbz2': 0.2029263457379688}. Best is trial 147 with value: 0.8647559907650664.\u001b[0m\n",
      "\u001b[32m[I 2022-04-17 07:19:49,475]\u001b[0m Trial 154 finished with value: 0.8645907969110739 and parameters: {'exp16v6AugMix1536_fold3.pbz2': 3.754387389151135, 'exp16v6AugmixB3_fold3.pbz2': 0.08350778870928756, 'exp16v6AugmixB4Full_fold3.pbz2': 3.719306745257026, 'exp16v6AugmixB4Step2_fold3.pbz2': 1.828948900754849, 'exp16v6AugmixB4_fold3_remove_background.pbz2': 1.9093130049326974, 'exp21b6_fold3_remove_background.pbz2': 0.07766352543612777}. Best is trial 147 with value: 0.8647559907650664.\u001b[0m\n",
      "\u001b[32m[I 2022-04-17 07:19:50,691]\u001b[0m Trial 155 finished with value: 0.8645629328875089 and parameters: {'exp16v6AugMix1536_fold3.pbz2': 3.7052881486386475, 'exp16v6AugmixB3_fold3.pbz2': 0.09124827914908386, 'exp16v6AugmixB4Full_fold3.pbz2': 3.460688306147392, 'exp16v6AugmixB4Step2_fold3.pbz2': 1.838110992082359, 'exp16v6AugmixB4_fold3_remove_background.pbz2': 1.9492468017627158, 'exp21b6_fold3_remove_background.pbz2': 0.13833495597845474}. Best is trial 147 with value: 0.8647559907650664.\u001b[0m\n",
      "\u001b[32m[I 2022-04-17 07:19:51,916]\u001b[0m Trial 156 finished with value: 0.8640932250616989 and parameters: {'exp16v6AugMix1536_fold3.pbz2': 3.754121638904001, 'exp16v6AugmixB3_fold3.pbz2': 0.061937276845416, 'exp16v6AugmixB4Full_fold3.pbz2': 3.422008711461365, 'exp16v6AugmixB4Step2_fold3.pbz2': 1.8299597646144505, 'exp16v6AugmixB4_fold3_remove_background.pbz2': 1.9998504334963032, 'exp21b6_fold3_remove_background.pbz2': 0.3000945133159004}. Best is trial 147 with value: 0.8647559907650664.\u001b[0m\n",
      "\u001b[32m[I 2022-04-17 07:19:53,133]\u001b[0m Trial 157 finished with value: 0.8646365735212164 and parameters: {'exp16v6AugMix1536_fold3.pbz2': 3.6280823411584917, 'exp16v6AugmixB3_fold3.pbz2': 0.08596230695145846, 'exp16v6AugmixB4Full_fold3.pbz2': 3.467942756946372, 'exp16v6AugmixB4Step2_fold3.pbz2': 1.99002817936482, 'exp16v6AugmixB4_fold3_remove_background.pbz2': 1.8766564319984873, 'exp21b6_fold3_remove_background.pbz2': 0.14073093749804405}. Best is trial 147 with value: 0.8647559907650664.\u001b[0m\n",
      "\u001b[32m[I 2022-04-17 07:19:54,356]\u001b[0m Trial 158 finished with value: 0.8636056046493114 and parameters: {'exp16v6AugMix1536_fold3.pbz2': 3.293253457288696, 'exp16v6AugmixB3_fold3.pbz2': 0.08436203574603798, 'exp16v6AugmixB4Full_fold3.pbz2': 3.468714612366916, 'exp16v6AugmixB4Step2_fold3.pbz2': 1.9944484413364272, 'exp16v6AugmixB4_fold3_remove_background.pbz2': 2.141033192290611, 'exp21b6_fold3_remove_background.pbz2': 0.12669998617443043}. Best is trial 147 with value: 0.8647559907650664.\u001b[0m\n",
      "\u001b[32m[I 2022-04-17 07:19:55,574]\u001b[0m Trial 159 finished with value: 0.864718175304514 and parameters: {'exp16v6AugMix1536_fold3.pbz2': 3.4927974185893134, 'exp16v6AugmixB3_fold3.pbz2': 0.14604234621638326, 'exp16v6AugmixB4Full_fold3.pbz2': 3.3606289849491873, 'exp16v6AugmixB4Step2_fold3.pbz2': 1.7034552782039463, 'exp16v6AugmixB4_fold3_remove_background.pbz2': 1.9294734382855525, 'exp21b6_fold3_remove_background.pbz2': 0.30178390990516185}. Best is trial 147 with value: 0.8647559907650664.\u001b[0m\n",
      "\u001b[32m[I 2022-04-17 07:19:56,798]\u001b[0m Trial 160 finished with value: 0.8634961388424489 and parameters: {'exp16v6AugMix1536_fold3.pbz2': 3.4935574141029404, 'exp16v6AugmixB3_fold3.pbz2': 0.014566416399275, 'exp16v6AugmixB4Full_fold3.pbz2': 3.0194542939531503, 'exp16v6AugmixB4Step2_fold3.pbz2': 1.7510745992072605, 'exp16v6AugmixB4_fold3_remove_background.pbz2': 1.9751719657179354, 'exp21b6_fold3_remove_background.pbz2': 0.26758335495207386}. Best is trial 147 with value: 0.8647559907650664.\u001b[0m\n",
      "\u001b[32m[I 2022-04-17 07:19:58,021]\u001b[0m Trial 161 finished with value: 0.8643997293209139 and parameters: {'exp16v6AugMix1536_fold3.pbz2': 3.6030802622799376, 'exp16v6AugmixB3_fold3.pbz2': 0.11656317789185913, 'exp16v6AugmixB4Full_fold3.pbz2': 3.34540486333824, 'exp16v6AugmixB4Step2_fold3.pbz2': 1.8946238322780073, 'exp16v6AugmixB4_fold3_remove_background.pbz2': 1.8865186989366676, 'exp21b6_fold3_remove_background.pbz2': 0.12079429438822442}. Best is trial 147 with value: 0.8647559907650664.\u001b[0m\n",
      "\u001b[32m[I 2022-04-17 07:19:59,377]\u001b[0m Trial 162 finished with value: 0.864137011384444 and parameters: {'exp16v6AugMix1536_fold3.pbz2': 3.6073377647925535, 'exp16v6AugmixB3_fold3.pbz2': 0.12334088800836163, 'exp16v6AugmixB4Full_fold3.pbz2': 3.3292125521397997, 'exp16v6AugmixB4Step2_fold3.pbz2': 1.9068933673792008, 'exp16v6AugmixB4_fold3_remove_background.pbz2': 1.9373498104060929, 'exp21b6_fold3_remove_background.pbz2': 0.08291567979962378}. Best is trial 147 with value: 0.8647559907650664.\u001b[0m\n",
      "\u001b[32m[I 2022-04-17 07:20:00,615]\u001b[0m Trial 163 finished with value: 0.8646166706472415 and parameters: {'exp16v6AugMix1536_fold3.pbz2': 3.5542904163057534, 'exp16v6AugmixB3_fold3.pbz2': 0.13776810368456976, 'exp16v6AugmixB4Full_fold3.pbz2': 3.3912819793252686, 'exp16v6AugmixB4Step2_fold3.pbz2': 1.813572251793918, 'exp16v6AugmixB4_fold3_remove_background.pbz2': 2.081988602566084, 'exp21b6_fold3_remove_background.pbz2': 0.23306042074125793}. Best is trial 147 with value: 0.8647559907650664.\u001b[0m\n",
      "\u001b[32m[I 2022-04-17 07:20:01,862]\u001b[0m Trial 164 finished with value: 0.8635240028660138 and parameters: {'exp16v6AugMix1536_fold3.pbz2': 3.438031985788653, 'exp16v6AugmixB3_fold3.pbz2': 0.0065360431602916325, 'exp16v6AugmixB4Full_fold3.pbz2': 3.2531808970888507, 'exp16v6AugmixB4Step2_fold3.pbz2': 2.016244773112415, 'exp16v6AugmixB4_fold3_remove_background.pbz2': 2.26961175647291, 'exp21b6_fold3_remove_background.pbz2': 0.33075340287715516}. Best is trial 147 with value: 0.8647559907650664.\u001b[0m\n",
      "\u001b[32m[I 2022-04-17 07:20:03,094]\u001b[0m Trial 165 finished with value: 0.8649570097922139 and parameters: {'exp16v6AugMix1536_fold3.pbz2': 3.52189593515268, 'exp16v6AugmixB3_fold3.pbz2': 0.16125416249880134, 'exp16v6AugmixB4Full_fold3.pbz2': 3.4189049267398244, 'exp16v6AugmixB4Step2_fold3.pbz2': 1.512505783345602, 'exp16v6AugmixB4_fold3_remove_background.pbz2': 1.7697984577096895, 'exp21b6_fold3_remove_background.pbz2': 0.21529052676207822}. Best is trial 165 with value: 0.8649570097922139.\u001b[0m\n",
      "\u001b[32m[I 2022-04-17 07:20:04,315]\u001b[0m Trial 166 finished with value: 0.8641330308096488 and parameters: {'exp16v6AugMix1536_fold3.pbz2': 3.3349798481711153, 'exp16v6AugmixB3_fold3.pbz2': 0.09870583498258628, 'exp16v6AugmixB4Full_fold3.pbz2': 3.161967844068157, 'exp16v6AugmixB4Step2_fold3.pbz2': 1.3831915774565766, 'exp16v6AugmixB4_fold3_remove_background.pbz2': 2.073549383738909, 'exp21b6_fold3_remove_background.pbz2': 0.19251123039685142}. Best is trial 165 with value: 0.8649570097922139.\u001b[0m\n",
      "\u001b[32m[I 2022-04-17 07:20:05,545]\u001b[0m Trial 167 finished with value: 0.864690311280949 and parameters: {'exp16v6AugMix1536_fold3.pbz2': 3.532434721507374, 'exp16v6AugmixB3_fold3.pbz2': 0.1865172223608906, 'exp16v6AugmixB4Full_fold3.pbz2': 3.4402664378697927, 'exp16v6AugmixB4Step2_fold3.pbz2': 1.5358833019879787, 'exp16v6AugmixB4_fold3_remove_background.pbz2': 1.7897386653856708, 'exp21b6_fold3_remove_background.pbz2': 0.2509036622478379}. Best is trial 165 with value: 0.8649570097922139.\u001b[0m\n",
      "\u001b[32m[I 2022-04-17 07:20:06,777]\u001b[0m Trial 168 finished with value: 0.8647321073162965 and parameters: {'exp16v6AugMix1536_fold3.pbz2': 3.2326345174822717, 'exp16v6AugmixB3_fold3.pbz2': 0.15400738783056866, 'exp16v6AugmixB4Full_fold3.pbz2': 3.414618966706045, 'exp16v6AugmixB4Step2_fold3.pbz2': 1.534738047615506, 'exp16v6AugmixB4_fold3_remove_background.pbz2': 1.7389990433464395, 'exp21b6_fold3_remove_background.pbz2': 0.24731921442193266}. Best is trial 165 with value: 0.8649570097922139.\u001b[0m\n",
      "\u001b[32m[I 2022-04-17 07:20:08,001]\u001b[0m Trial 169 finished with value: 0.8639340020698989 and parameters: {'exp16v6AugMix1536_fold3.pbz2': 3.400772758389568, 'exp16v6AugmixB3_fold3.pbz2': 0.14881718771904476, 'exp16v6AugmixB4Full_fold3.pbz2': 3.075164368334094, 'exp16v6AugmixB4Step2_fold3.pbz2': 1.5062218594296446, 'exp16v6AugmixB4_fold3_remove_background.pbz2': 1.6753839122654066, 'exp21b6_fold3_remove_background.pbz2': 0.24058710346500994}. Best is trial 165 with value: 0.8649570097922139.\u001b[0m\n"
     ]
    },
    {
     "name": "stderr",
     "output_type": "stream",
     "text": [
      "\u001b[32m[I 2022-04-17 07:20:09,225]\u001b[0m Trial 170 finished with value: 0.859955417562296 and parameters: {'exp16v6AugMix1536_fold3.pbz2': 3.270362402870311, 'exp16v6AugmixB3_fold3.pbz2': 0.06296236980735324, 'exp16v6AugmixB4Full_fold3.pbz2': 3.4089163946268837, 'exp16v6AugmixB4Step2_fold3.pbz2': 1.1176663723747737, 'exp16v6AugmixB4_fold3_remove_background.pbz2': 1.7791040595766263, 'exp21b6_fold3_remove_background.pbz2': 3.5480087098645514}. Best is trial 165 with value: 0.8649570097922139.\u001b[0m\n",
      "\u001b[32m[I 2022-04-17 07:20:10,456]\u001b[0m Trial 171 finished with value: 0.864773903351644 and parameters: {'exp16v6AugMix1536_fold3.pbz2': 3.4911539876837536, 'exp16v6AugmixB3_fold3.pbz2': 0.17746117914347817, 'exp16v6AugmixB4Full_fold3.pbz2': 3.4852058047006222, 'exp16v6AugmixB4Step2_fold3.pbz2': 1.544751154491002, 'exp16v6AugmixB4_fold3_remove_background.pbz2': 1.8181212473309982, 'exp21b6_fold3_remove_background.pbz2': 0.24810662499518807}. Best is trial 165 with value: 0.8649570097922139.\u001b[0m\n",
      "\u001b[32m[I 2022-04-17 07:20:11,684]\u001b[0m Trial 172 finished with value: 0.8649311360560465 and parameters: {'exp16v6AugMix1536_fold3.pbz2': 3.497349382526879, 'exp16v6AugmixB3_fold3.pbz2': 0.17094272447310233, 'exp16v6AugmixB4Full_fold3.pbz2': 3.4884865860279124, 'exp16v6AugmixB4Step2_fold3.pbz2': 1.6940510083594116, 'exp16v6AugmixB4_fold3_remove_background.pbz2': 1.839259791334799, 'exp21b6_fold3_remove_background.pbz2': 0.2576018787960407}. Best is trial 165 with value: 0.8649570097922139.\u001b[0m\n",
      "\u001b[32m[I 2022-04-17 07:20:12,914]\u001b[0m Trial 173 finished with value: 0.8644375447814665 and parameters: {'exp16v6AugMix1536_fold3.pbz2': 3.511183829754959, 'exp16v6AugmixB3_fold3.pbz2': 0.07412897459893827, 'exp16v6AugmixB4Full_fold3.pbz2': 3.4452994553761678, 'exp16v6AugmixB4Step2_fold3.pbz2': 1.562195171775029, 'exp16v6AugmixB4_fold3_remove_background.pbz2': 1.8428264671171057, 'exp21b6_fold3_remove_background.pbz2': 0.3168960109758453}. Best is trial 165 with value: 0.8649570097922139.\u001b[0m\n",
      "\u001b[32m[I 2022-04-17 07:20:14,151]\u001b[0m Trial 174 finished with value: 0.8645330785765465 and parameters: {'exp16v6AugMix1536_fold3.pbz2': 3.414679541351239, 'exp16v6AugmixB3_fold3.pbz2': 0.16638431954290506, 'exp16v6AugmixB4Full_fold3.pbz2': 3.298639197380434, 'exp16v6AugmixB4Step2_fold3.pbz2': 1.2803186117346455, 'exp16v6AugmixB4_fold3_remove_background.pbz2': 1.944229302936649, 'exp21b6_fold3_remove_background.pbz2': 0.44819086235872807}. Best is trial 165 with value: 0.8649570097922139.\u001b[0m\n",
      "\u001b[32m[I 2022-04-17 07:20:15,374]\u001b[0m Trial 175 finished with value: 0.8561559589204683 and parameters: {'exp16v6AugMix1536_fold3.pbz2': 3.1796573673884683, 'exp16v6AugmixB3_fold3.pbz2': 3.8855007436440006, 'exp16v6AugmixB4Full_fold3.pbz2': 3.2674869402733124, 'exp16v6AugmixB4Step2_fold3.pbz2': 1.3210936952069878, 'exp16v6AugmixB4_fold3_remove_background.pbz2': 1.7698775669545468, 'exp21b6_fold3_remove_background.pbz2': 0.42951029468715973}. Best is trial 165 with value: 0.8649570097922139.\u001b[0m\n",
      "\u001b[32m[I 2022-04-17 07:20:16,603]\u001b[0m Trial 176 finished with value: 0.8645012339781865 and parameters: {'exp16v6AugMix1536_fold3.pbz2': 3.429518942709541, 'exp16v6AugmixB3_fold3.pbz2': 0.006351002216468088, 'exp16v6AugmixB4Full_fold3.pbz2': 3.1438738803569803, 'exp16v6AugmixB4Step2_fold3.pbz2': 1.1513048814509232, 'exp16v6AugmixB4_fold3_remove_background.pbz2': 1.9357414498015846, 'exp21b6_fold3_remove_background.pbz2': 0.5286333315025409}. Best is trial 165 with value: 0.8649570097922139.\u001b[0m\n",
      "\u001b[32m[I 2022-04-17 07:20:17,825]\u001b[0m Trial 177 finished with value: 0.8645211368521614 and parameters: {'exp16v6AugMix1536_fold3.pbz2': 3.425111260191237, 'exp16v6AugmixB3_fold3.pbz2': 0.007412460686670341, 'exp16v6AugmixB4Full_fold3.pbz2': 3.2348773560105046, 'exp16v6AugmixB4Step2_fold3.pbz2': 1.1943788040836096, 'exp16v6AugmixB4_fold3_remove_background.pbz2': 1.949250751447281, 'exp21b6_fold3_remove_background.pbz2': 0.5083798879812014}. Best is trial 165 with value: 0.8649570097922139.\u001b[0m\n",
      "\u001b[32m[I 2022-04-17 07:20:19,045]\u001b[0m Trial 178 finished with value: 0.8643897778839265 and parameters: {'exp16v6AugMix1536_fold3.pbz2': 3.3223370098965317, 'exp16v6AugmixB3_fold3.pbz2': 0.10065764826017497, 'exp16v6AugmixB4Full_fold3.pbz2': 3.3161476010775113, 'exp16v6AugmixB4Step2_fold3.pbz2': 1.4265225223026572, 'exp16v6AugmixB4_fold3_remove_background.pbz2': 2.109236536772921, 'exp21b6_fold3_remove_background.pbz2': 0.4831233390720068}. Best is trial 165 with value: 0.8649570097922139.\u001b[0m\n",
      "\u001b[32m[I 2022-04-17 07:20:20,306]\u001b[0m Trial 179 finished with value: 0.8646325929464215 and parameters: {'exp16v6AugMix1536_fold3.pbz2': 3.252397586454629, 'exp16v6AugmixB3_fold3.pbz2': 0.004642341586802157, 'exp16v6AugmixB4Full_fold3.pbz2': 3.3866841187571493, 'exp16v6AugmixB4Step2_fold3.pbz2': 1.2946542093457325, 'exp16v6AugmixB4_fold3_remove_background.pbz2': 2.0466954224303238, 'exp21b6_fold3_remove_background.pbz2': 0.39240013535475776}. Best is trial 165 with value: 0.8649570097922139.\u001b[0m\n",
      "\u001b[32m[I 2022-04-17 07:20:21,533]\u001b[0m Trial 180 finished with value: 0.8636513812594538 and parameters: {'exp16v6AugMix1536_fold3.pbz2': 3.0671403100371144, 'exp16v6AugmixB3_fold3.pbz2': 0.16858996119251013, 'exp16v6AugmixB4Full_fold3.pbz2': 2.9332087391544386, 'exp16v6AugmixB4Step2_fold3.pbz2': 1.5564744839420035, 'exp16v6AugmixB4_fold3_remove_background.pbz2': 2.0470230434732892, 'exp21b6_fold3_remove_background.pbz2': 0.33518637641577026}. Best is trial 165 with value: 0.8649570097922139.\u001b[0m\n",
      "\u001b[32m[I 2022-04-17 07:20:22,778]\u001b[0m Trial 181 finished with value: 0.8645290980017516 and parameters: {'exp16v6AugMix1536_fold3.pbz2': 3.253690304843153, 'exp16v6AugmixB3_fold3.pbz2': 0.010845791769987078, 'exp16v6AugmixB4Full_fold3.pbz2': 3.2421272040262794, 'exp16v6AugmixB4Step2_fold3.pbz2': 1.288050755786912, 'exp16v6AugmixB4_fold3_remove_background.pbz2': 2.203859156897438, 'exp21b6_fold3_remove_background.pbz2': 0.2654389729037023}. Best is trial 165 with value: 0.8649570097922139.\u001b[0m\n",
      "\u001b[32m[I 2022-04-17 07:20:24,002]\u001b[0m Trial 182 finished with value: 0.8640693416129289 and parameters: {'exp16v6AugMix1536_fold3.pbz2': 3.181265383847859, 'exp16v6AugmixB3_fold3.pbz2': 0.08268292192662745, 'exp16v6AugmixB4Full_fold3.pbz2': 3.4106392874891185, 'exp16v6AugmixB4Step2_fold3.pbz2': 1.3117912785952959, 'exp16v6AugmixB4_fold3_remove_background.pbz2': 2.4052178395883956, 'exp21b6_fold3_remove_background.pbz2': 0.25354255877949144}. Best is trial 165 with value: 0.8649570097922139.\u001b[0m\n",
      "\u001b[32m[I 2022-04-17 07:20:25,226]\u001b[0m Trial 183 finished with value: 0.864670408406974 and parameters: {'exp16v6AugMix1536_fold3.pbz2': 3.250608905779918, 'exp16v6AugmixB3_fold3.pbz2': 0.15522453663377925, 'exp16v6AugmixB4Full_fold3.pbz2': 3.5185740441613493, 'exp16v6AugmixB4Step2_fold3.pbz2': 1.6943783204938891, 'exp16v6AugmixB4_fold3_remove_background.pbz2': 2.1960900192048323, 'exp21b6_fold3_remove_background.pbz2': 0.39619082312820253}. Best is trial 165 with value: 0.8649570097922139.\u001b[0m\n",
      "\u001b[32m[I 2022-04-17 07:20:26,453]\u001b[0m Trial 184 finished with value: 0.864550991163124 and parameters: {'exp16v6AugMix1536_fold3.pbz2': 3.3623091421842326, 'exp16v6AugmixB3_fold3.pbz2': 0.28282727344995073, 'exp16v6AugmixB4Full_fold3.pbz2': 3.5275855026772627, 'exp16v6AugmixB4Step2_fold3.pbz2': 1.7041972824048979, 'exp16v6AugmixB4_fold3_remove_background.pbz2': 2.305043685495518, 'exp21b6_fold3_remove_background.pbz2': 0.4109475695198731}. Best is trial 165 with value: 0.8649570097922139.\u001b[0m\n",
      "\u001b[32m[I 2022-04-17 07:20:27,677]\u001b[0m Trial 185 finished with value: 0.8643957487461189 and parameters: {'exp16v6AugMix1536_fold3.pbz2': 3.5311664417324353, 'exp16v6AugmixB3_fold3.pbz2': 0.297360736801429, 'exp16v6AugmixB4Full_fold3.pbz2': 3.5058984152655643, 'exp16v6AugmixB4Step2_fold3.pbz2': 1.7036062683815445, 'exp16v6AugmixB4_fold3_remove_background.pbz2': 2.157289350042271, 'exp21b6_fold3_remove_background.pbz2': 0.396290824733}. Best is trial 165 with value: 0.8649570097922139.\u001b[0m\n",
      "\u001b[32m[I 2022-04-17 07:20:28,904]\u001b[0m Trial 186 finished with value: 0.863997691266619 and parameters: {'exp16v6AugMix1536_fold3.pbz2': 3.3432880405382552, 'exp16v6AugmixB3_fold3.pbz2': 0.25036128297895444, 'exp16v6AugmixB4Full_fold3.pbz2': 3.5337070145626073, 'exp16v6AugmixB4Step2_fold3.pbz2': 1.6737806336486363, 'exp16v6AugmixB4_fold3_remove_background.pbz2': 2.483376522900942, 'exp21b6_fold3_remove_background.pbz2': 0.3539354378163446}. Best is trial 165 with value: 0.8649570097922139.\u001b[0m\n"
     ]
    },
    {
     "name": "stderr",
     "output_type": "stream",
     "text": [
      "\u001b[32m[I 2022-04-17 07:20:30,132]\u001b[0m Trial 187 finished with value: 0.8640076427036064 and parameters: {'exp16v6AugMix1536_fold3.pbz2': 3.106230532787811, 'exp16v6AugmixB3_fold3.pbz2': 0.34658373632842926, 'exp16v6AugmixB4Full_fold3.pbz2': 3.380833066523496, 'exp16v6AugmixB4Step2_fold3.pbz2': 1.5179222996978603, 'exp16v6AugmixB4_fold3_remove_background.pbz2': 2.335730927219096, 'exp21b6_fold3_remove_background.pbz2': 0.24084138014041115}. Best is trial 165 with value: 0.8649570097922139.\u001b[0m\n",
      "\u001b[32m[I 2022-04-17 07:20:31,356]\u001b[0m Trial 188 finished with value: 0.8647082238675264 and parameters: {'exp16v6AugMix1536_fold3.pbz2': 3.4944834689497135, 'exp16v6AugmixB3_fold3.pbz2': 0.1458312623067566, 'exp16v6AugmixB4Full_fold3.pbz2': 3.544577045343423, 'exp16v6AugmixB4Step2_fold3.pbz2': 1.6102326129070836, 'exp16v6AugmixB4_fold3_remove_background.pbz2': 2.0361146746276324, 'exp21b6_fold3_remove_background.pbz2': 0.605493259778642}. Best is trial 165 with value: 0.8649570097922139.\u001b[0m\n",
      "\u001b[32m[I 2022-04-17 07:20:32,580]\u001b[0m Trial 189 finished with value: 0.8640773027625189 and parameters: {'exp16v6AugMix1536_fold3.pbz2': 3.2304025057778314, 'exp16v6AugmixB3_fold3.pbz2': 0.22681775920100966, 'exp16v6AugmixB4Full_fold3.pbz2': 3.5455175250196045, 'exp16v6AugmixB4Step2_fold3.pbz2': 1.7320717604331912, 'exp16v6AugmixB4_fold3_remove_background.pbz2': 2.2406181479143807, 'exp21b6_fold3_remove_background.pbz2': 0.5817559677608788}. Best is trial 165 with value: 0.8649570097922139.\u001b[0m\n",
      "\u001b[32m[I 2022-04-17 07:20:33,804]\u001b[0m Trial 190 finished with value: 0.8646087094976515 and parameters: {'exp16v6AugMix1536_fold3.pbz2': 3.4934298326671724, 'exp16v6AugmixB3_fold3.pbz2': 0.14599214501163998, 'exp16v6AugmixB4Full_fold3.pbz2': 3.455033031427945, 'exp16v6AugmixB4Step2_fold3.pbz2': 1.6163793059032572, 'exp16v6AugmixB4_fold3_remove_background.pbz2': 1.6692499367501121, 'exp21b6_fold3_remove_background.pbz2': 0.2092139929437019}. Best is trial 165 with value: 0.8649570097922139.\u001b[0m\n",
      "\u001b[32m[I 2022-04-17 07:20:35,026]\u001b[0m Trial 191 finished with value: 0.864678369556564 and parameters: {'exp16v6AugMix1536_fold3.pbz2': 3.476692654406498, 'exp16v6AugmixB3_fold3.pbz2': 0.14309818169954514, 'exp16v6AugmixB4Full_fold3.pbz2': 3.4039869239935427, 'exp16v6AugmixB4Step2_fold3.pbz2': 1.6338126153553956, 'exp16v6AugmixB4_fold3_remove_background.pbz2': 1.6583647638079122, 'exp21b6_fold3_remove_background.pbz2': 0.21139939997278523}. Best is trial 165 with value: 0.8649570097922139.\u001b[0m\n",
      "\u001b[32m[I 2022-04-17 07:20:36,248]\u001b[0m Trial 192 finished with value: 0.8645390494387389 and parameters: {'exp16v6AugMix1536_fold3.pbz2': 3.4824990173570067, 'exp16v6AugmixB3_fold3.pbz2': 0.1433570227659825, 'exp16v6AugmixB4Full_fold3.pbz2': 3.4042855978601247, 'exp16v6AugmixB4Step2_fold3.pbz2': 1.423678172271311, 'exp16v6AugmixB4_fold3_remove_background.pbz2': 1.6549981201715707, 'exp21b6_fold3_remove_background.pbz2': 0.20918954442950416}. Best is trial 165 with value: 0.8649570097922139.\u001b[0m\n",
      "\u001b[32m[I 2022-04-17 07:20:37,468]\u001b[0m Trial 193 finished with value: 0.8647281267415015 and parameters: {'exp16v6AugMix1536_fold3.pbz2': 3.5553567749362145, 'exp16v6AugmixB3_fold3.pbz2': 0.1151343747501586, 'exp16v6AugmixB4Full_fold3.pbz2': 3.4756524973787344, 'exp16v6AugmixB4Step2_fold3.pbz2': 1.6232475262577377, 'exp16v6AugmixB4_fold3_remove_background.pbz2': 1.710800373690165, 'exp21b6_fold3_remove_background.pbz2': 0.22008014946427745}. Best is trial 165 with value: 0.8649570097922139.\u001b[0m\n",
      "\u001b[32m[I 2022-04-17 07:20:38,695]\u001b[0m Trial 194 finished with value: 0.864574874611894 and parameters: {'exp16v6AugMix1536_fold3.pbz2': 3.5404805967836026, 'exp16v6AugmixB3_fold3.pbz2': 0.19972643399800222, 'exp16v6AugmixB4Full_fold3.pbz2': 3.349644526297509, 'exp16v6AugmixB4Step2_fold3.pbz2': 1.5590778820293067, 'exp16v6AugmixB4_fold3_remove_background.pbz2': 1.7012912376369829, 'exp21b6_fold3_remove_background.pbz2': 0.2786016011925999}. Best is trial 165 with value: 0.8649570097922139.\u001b[0m\n",
      "\u001b[32m[I 2022-04-17 07:20:39,918]\u001b[0m Trial 195 finished with value: 0.8646684181195764 and parameters: {'exp16v6AugMix1536_fold3.pbz2': 3.4787318785720753, 'exp16v6AugmixB3_fold3.pbz2': 0.13691581233767683, 'exp16v6AugmixB4Full_fold3.pbz2': 3.578609900581568, 'exp16v6AugmixB4Step2_fold3.pbz2': 1.617485054303125, 'exp16v6AugmixB4_fold3_remove_background.pbz2': 1.8153729866630344, 'exp21b6_fold3_remove_background.pbz2': 0.22089026889789273}. Best is trial 165 with value: 0.8649570097922139.\u001b[0m\n",
      "\u001b[32m[I 2022-04-17 07:20:41,187]\u001b[0m Trial 196 finished with value: 0.8647241461667065 and parameters: {'exp16v6AugMix1536_fold3.pbz2': 3.467056639925278, 'exp16v6AugmixB3_fold3.pbz2': 0.17394679777444857, 'exp16v6AugmixB4Full_fold3.pbz2': 3.4633678121899645, 'exp16v6AugmixB4Step2_fold3.pbz2': 1.6375129819601033, 'exp16v6AugmixB4_fold3_remove_background.pbz2': 1.7944989942605374, 'exp21b6_fold3_remove_background.pbz2': 0.32176239398137335}. Best is trial 165 with value: 0.8649570097922139.\u001b[0m\n",
      "\u001b[32m[I 2022-04-17 07:20:42,417]\u001b[0m Trial 197 finished with value: 0.8647639519146565 and parameters: {'exp16v6AugMix1536_fold3.pbz2': 3.4806527648819103, 'exp16v6AugmixB3_fold3.pbz2': 0.1653934060008144, 'exp16v6AugmixB4Full_fold3.pbz2': 3.4717432530811436, 'exp16v6AugmixB4Step2_fold3.pbz2': 1.5964760520392036, 'exp16v6AugmixB4_fold3_remove_background.pbz2': 1.8116511202185481, 'exp21b6_fold3_remove_background.pbz2': 0.3261667213250243}. Best is trial 165 with value: 0.8649570097922139.\u001b[0m\n",
      "\u001b[32m[I 2022-04-17 07:20:43,642]\u001b[0m Trial 198 finished with value: 0.8647699227768489 and parameters: {'exp16v6AugMix1536_fold3.pbz2': 3.467000223411911, 'exp16v6AugmixB3_fold3.pbz2': 0.14350713409185226, 'exp16v6AugmixB4Full_fold3.pbz2': 3.4725034024445933, 'exp16v6AugmixB4Step2_fold3.pbz2': 1.6116743053288074, 'exp16v6AugmixB4_fold3_remove_background.pbz2': 1.812109372347914, 'exp21b6_fold3_remove_background.pbz2': 0.35298853254095364}. Best is trial 165 with value: 0.8649570097922139.\u001b[0m\n",
      "\u001b[32m[I 2022-04-17 07:20:44,862]\u001b[0m Trial 199 finished with value: 0.864801767375209 and parameters: {'exp16v6AugMix1536_fold3.pbz2': 3.3825631624923607, 'exp16v6AugmixB3_fold3.pbz2': 0.17567096459367415, 'exp16v6AugmixB4Full_fold3.pbz2': 3.354803110376586, 'exp16v6AugmixB4Step2_fold3.pbz2': 1.6389225557342937, 'exp16v6AugmixB4_fold3_remove_background.pbz2': 1.7883272588720636, 'exp21b6_fold3_remove_background.pbz2': 0.3835007139268963}. Best is trial 165 with value: 0.8649570097922139.\u001b[0m\n",
      "\u001b[32m[I 2022-04-17 07:20:46,089]\u001b[0m Trial 200 finished with value: 0.8647878353634265 and parameters: {'exp16v6AugMix1536_fold3.pbz2': 3.280169921820922, 'exp16v6AugmixB3_fold3.pbz2': 0.19239450677942033, 'exp16v6AugmixB4Full_fold3.pbz2': 3.5744813097356527, 'exp16v6AugmixB4Step2_fold3.pbz2': 1.4659195963383123, 'exp16v6AugmixB4_fold3_remove_background.pbz2': 1.8124252252972146, 'exp21b6_fold3_remove_background.pbz2': 0.42677990905162105}. Best is trial 165 with value: 0.8649570097922139.\u001b[0m\n",
      "\u001b[32m[I 2022-04-17 07:20:47,307]\u001b[0m Trial 201 finished with value: 0.8648913303080965 and parameters: {'exp16v6AugMix1536_fold3.pbz2': 3.3162394804889073, 'exp16v6AugmixB3_fold3.pbz2': 0.20178199809593392, 'exp16v6AugmixB4Full_fold3.pbz2': 3.5813626037667583, 'exp16v6AugmixB4Step2_fold3.pbz2': 1.47796197692808, 'exp16v6AugmixB4_fold3_remove_background.pbz2': 1.8197073034429798, 'exp21b6_fold3_remove_background.pbz2': 0.4387570484323354}. Best is trial 165 with value: 0.8649570097922139.\u001b[0m\n",
      "\u001b[32m[I 2022-04-17 07:20:48,537]\u001b[0m Trial 202 finished with value: 0.8649331263434441 and parameters: {'exp16v6AugMix1536_fold3.pbz2': 3.3678671096947403, 'exp16v6AugmixB3_fold3.pbz2': 0.19461966646618034, 'exp16v6AugmixB4Full_fold3.pbz2': 3.5562611952312535, 'exp16v6AugmixB4Step2_fold3.pbz2': 1.450227940492885, 'exp16v6AugmixB4_fold3_remove_background.pbz2': 1.8224536803449007, 'exp21b6_fold3_remove_background.pbz2': 0.46990532340214275}. Best is trial 165 with value: 0.8649570097922139.\u001b[0m\n",
      "\u001b[32m[I 2022-04-17 07:20:49,763]\u001b[0m Trial 203 finished with value: 0.864761961627259 and parameters: {'exp16v6AugMix1536_fold3.pbz2': 3.361765645049276, 'exp16v6AugmixB3_fold3.pbz2': 0.21359892540843287, 'exp16v6AugmixB4Full_fold3.pbz2': 3.5887597081329496, 'exp16v6AugmixB4Step2_fold3.pbz2': 1.4797786952946612, 'exp16v6AugmixB4_fold3_remove_background.pbz2': 1.7785356224663968, 'exp21b6_fold3_remove_background.pbz2': 0.6568006157585851}. Best is trial 165 with value: 0.8649570097922139.\u001b[0m\n"
     ]
    },
    {
     "name": "stderr",
     "output_type": "stream",
     "text": [
      "\u001b[32m[I 2022-04-17 07:20:50,990]\u001b[0m Trial 204 finished with value: 0.8647858450760291 and parameters: {'exp16v6AugMix1536_fold3.pbz2': 3.3487286945420927, 'exp16v6AugmixB3_fold3.pbz2': 0.3295822364677097, 'exp16v6AugmixB4Full_fold3.pbz2': 3.556580612192035, 'exp16v6AugmixB4Step2_fold3.pbz2': 1.5068802724658854, 'exp16v6AugmixB4_fold3_remove_background.pbz2': 1.7945103599934897, 'exp21b6_fold3_remove_background.pbz2': 0.5957685018985122}. Best is trial 165 with value: 0.8649570097922139.\u001b[0m\n",
      "\u001b[32m[I 2022-04-17 07:20:52,214]\u001b[0m Trial 205 finished with value: 0.8649430777804316 and parameters: {'exp16v6AugMix1536_fold3.pbz2': 3.3442673773912612, 'exp16v6AugmixB3_fold3.pbz2': 0.360825623029255, 'exp16v6AugmixB4Full_fold3.pbz2': 3.5859115429819193, 'exp16v6AugmixB4Step2_fold3.pbz2': 1.476633981953331, 'exp16v6AugmixB4_fold3_remove_background.pbz2': 1.7914108199611294, 'exp21b6_fold3_remove_background.pbz2': 0.6541943330093867}. Best is trial 165 with value: 0.8649570097922139.\u001b[0m\n",
      "\u001b[32m[I 2022-04-17 07:20:53,438]\u001b[0m Trial 206 finished with value: 0.8649052623198791 and parameters: {'exp16v6AugMix1536_fold3.pbz2': 3.353405457091899, 'exp16v6AugmixB3_fold3.pbz2': 0.38469174498479397, 'exp16v6AugmixB4Full_fold3.pbz2': 3.593701903356018, 'exp16v6AugmixB4Step2_fold3.pbz2': 1.4675789035851543, 'exp16v6AugmixB4_fold3_remove_background.pbz2': 1.7755495507261498, 'exp21b6_fold3_remove_background.pbz2': 0.629624251862891}. Best is trial 165 with value: 0.8649570097922139.\u001b[0m\n",
      "\u001b[32m[I 2022-04-17 07:20:54,682]\u001b[0m Trial 207 finished with value: 0.8650147281267415 and parameters: {'exp16v6AugMix1536_fold3.pbz2': 3.3443415273953114, 'exp16v6AugmixB3_fold3.pbz2': 0.36991609971657624, 'exp16v6AugmixB4Full_fold3.pbz2': 3.5559781927108185, 'exp16v6AugmixB4Step2_fold3.pbz2': 1.3922111825681582, 'exp16v6AugmixB4_fold3_remove_background.pbz2': 1.8255495766630523, 'exp21b6_fold3_remove_background.pbz2': 0.6632423142375208}. Best is trial 207 with value: 0.8650147281267415.\u001b[0m\n",
      "\u001b[32m[I 2022-04-17 07:20:55,909]\u001b[0m Trial 208 finished with value: 0.8646126900724465 and parameters: {'exp16v6AugMix1536_fold3.pbz2': 3.3310626151649254, 'exp16v6AugmixB3_fold3.pbz2': 0.3793682307014892, 'exp16v6AugmixB4Full_fold3.pbz2': 3.6040654780715036, 'exp16v6AugmixB4Step2_fold3.pbz2': 1.4831960405048514, 'exp16v6AugmixB4_fold3_remove_background.pbz2': 1.826237458568519, 'exp21b6_fold3_remove_background.pbz2': 0.7798916990352799}. Best is trial 207 with value: 0.8650147281267415.\u001b[0m\n",
      "\u001b[32m[I 2022-04-17 07:20:57,134]\u001b[0m Trial 209 finished with value: 0.8649550195048165 and parameters: {'exp16v6AugMix1536_fold3.pbz2': 3.3771286648952143, 'exp16v6AugmixB3_fold3.pbz2': 0.3844725254457604, 'exp16v6AugmixB4Full_fold3.pbz2': 3.603591326891534, 'exp16v6AugmixB4Step2_fold3.pbz2': 1.392269060181739, 'exp16v6AugmixB4_fold3_remove_background.pbz2': 1.777970255253002, 'exp21b6_fold3_remove_background.pbz2': 0.6380030756192625}. Best is trial 207 with value: 0.8650147281267415.\u001b[0m\n",
      "\u001b[32m[I 2022-04-17 07:20:58,359]\u001b[0m Trial 210 finished with value: 0.8645231271395589 and parameters: {'exp16v6AugMix1536_fold3.pbz2': 3.1613408777635095, 'exp16v6AugmixB3_fold3.pbz2': 0.39197394209869796, 'exp16v6AugmixB4Full_fold3.pbz2': 3.5922329132468764, 'exp16v6AugmixB4Step2_fold3.pbz2': 1.4038840330559106, 'exp16v6AugmixB4_fold3_remove_background.pbz2': 1.7392670866263185, 'exp21b6_fold3_remove_background.pbz2': 0.6305900584266382}. Best is trial 207 with value: 0.8650147281267415.\u001b[0m\n",
      "\u001b[32m[I 2022-04-17 07:20:59,583]\u001b[0m Trial 211 finished with value: 0.864960990367009 and parameters: {'exp16v6AugMix1536_fold3.pbz2': 3.368714301336764, 'exp16v6AugmixB3_fold3.pbz2': 0.32667532298971935, 'exp16v6AugmixB4Full_fold3.pbz2': 3.5843249146365825, 'exp16v6AugmixB4Step2_fold3.pbz2': 1.4610750073556606, 'exp16v6AugmixB4_fold3_remove_background.pbz2': 1.8121459158881164, 'exp21b6_fold3_remove_background.pbz2': 0.697221500123421}. Best is trial 207 with value: 0.8650147281267415.\u001b[0m\n",
      "\u001b[32m[I 2022-04-17 07:21:00,805]\u001b[0m Trial 212 finished with value: 0.864913223469469 and parameters: {'exp16v6AugMix1536_fold3.pbz2': 3.348867683224618, 'exp16v6AugmixB3_fold3.pbz2': 0.4571857984137567, 'exp16v6AugmixB4Full_fold3.pbz2': 3.6306477332063625, 'exp16v6AugmixB4Step2_fold3.pbz2': 1.4600863107769455, 'exp16v6AugmixB4_fold3_remove_background.pbz2': 1.8027773229250803, 'exp21b6_fold3_remove_background.pbz2': 0.6898038377751892}. Best is trial 207 with value: 0.8650147281267415.\u001b[0m\n",
      "\u001b[32m[I 2022-04-17 07:21:02,044]\u001b[0m Trial 213 finished with value: 0.8647918159382214 and parameters: {'exp16v6AugMix1536_fold3.pbz2': 3.357057554210509, 'exp16v6AugmixB3_fold3.pbz2': 0.46577285948217007, 'exp16v6AugmixB4Full_fold3.pbz2': 3.6161689995605593, 'exp16v6AugmixB4Step2_fold3.pbz2': 1.4639652298102352, 'exp16v6AugmixB4_fold3_remove_background.pbz2': 1.7429956915137481, 'exp21b6_fold3_remove_background.pbz2': 0.6882065430087406}. Best is trial 207 with value: 0.8650147281267415.\u001b[0m\n",
      "\u001b[32m[I 2022-04-17 07:21:03,264]\u001b[0m Trial 214 finished with value: 0.8645907969110739 and parameters: {'exp16v6AugMix1536_fold3.pbz2': 3.3752167339831334, 'exp16v6AugmixB3_fold3.pbz2': 0.45737275462952465, 'exp16v6AugmixB4Full_fold3.pbz2': 3.6297467491158635, 'exp16v6AugmixB4Step2_fold3.pbz2': 1.4347335203493579, 'exp16v6AugmixB4_fold3_remove_background.pbz2': 1.8352012769322394, 'exp21b6_fold3_remove_background.pbz2': 0.894885782926646}. Best is trial 207 with value: 0.8650147281267415.\u001b[0m\n",
      "\u001b[32m[I 2022-04-17 07:21:04,485]\u001b[0m Trial 215 finished with value: 0.8643698750099513 and parameters: {'exp16v6AugMix1536_fold3.pbz2': 3.2860237452259327, 'exp16v6AugmixB3_fold3.pbz2': 0.47771131536855277, 'exp16v6AugmixB4Full_fold3.pbz2': 3.6130626197986255, 'exp16v6AugmixB4Step2_fold3.pbz2': 1.458759800662477, 'exp16v6AugmixB4_fold3_remove_background.pbz2': 1.6116730969224928, 'exp21b6_fold3_remove_background.pbz2': 0.656573486881575}. Best is trial 207 with value: 0.8650147281267415.\u001b[0m\n",
      "\u001b[32m[I 2022-04-17 07:21:05,713]\u001b[0m Trial 216 finished with value: 0.864479340816814 and parameters: {'exp16v6AugMix1536_fold3.pbz2': 3.206781642237982, 'exp16v6AugmixB3_fold3.pbz2': 0.35622055136447023, 'exp16v6AugmixB4Full_fold3.pbz2': 3.5713761034609988, 'exp16v6AugmixB4Step2_fold3.pbz2': 1.372057615938541, 'exp16v6AugmixB4_fold3_remove_background.pbz2': 1.753187611424914, 'exp21b6_fold3_remove_background.pbz2': 0.7632298262400734}. Best is trial 207 with value: 0.8650147281267415.\u001b[0m\n",
      "\u001b[32m[I 2022-04-17 07:21:06,942]\u001b[0m Trial 217 finished with value: 0.8602260966483559 and parameters: {'exp16v6AugMix1536_fold3.pbz2': 3.3333341244837276, 'exp16v6AugmixB3_fold3.pbz2': 0.5085927889018992, 'exp16v6AugmixB4Full_fold3.pbz2': 1.7472662204316558, 'exp16v6AugmixB4Step2_fold3.pbz2': 1.4911413326937524, 'exp16v6AugmixB4_fold3_remove_background.pbz2': 1.846898890342316, 'exp21b6_fold3_remove_background.pbz2': 0.6739482285875897}. Best is trial 207 with value: 0.8650147281267415.\u001b[0m\n",
      "\u001b[32m[I 2022-04-17 07:21:08,168]\u001b[0m Trial 218 finished with value: 0.864387787596529 and parameters: {'exp16v6AugMix1536_fold3.pbz2': 2.9624526308814585, 'exp16v6AugmixB3_fold3.pbz2': 0.30209751947065966, 'exp16v6AugmixB4Full_fold3.pbz2': 3.635795988138879, 'exp16v6AugmixB4Step2_fold3.pbz2': 1.3645658483740686, 'exp16v6AugmixB4_fold3_remove_background.pbz2': 1.864769958837059, 'exp21b6_fold3_remove_background.pbz2': 0.7260062526807465}. Best is trial 207 with value: 0.8650147281267415.\u001b[0m\n",
      "\u001b[32m[I 2022-04-17 07:21:09,395]\u001b[0m Trial 219 finished with value: 0.8644136613326964 and parameters: {'exp16v6AugMix1536_fold3.pbz2': 3.35659745952319, 'exp16v6AugmixB3_fold3.pbz2': 0.3942480282732505, 'exp16v6AugmixB4Full_fold3.pbz2': 3.6972723368673766, 'exp16v6AugmixB4Step2_fold3.pbz2': 1.4842588219318935, 'exp16v6AugmixB4_fold3_remove_background.pbz2': 1.7445140506631667, 'exp21b6_fold3_remove_background.pbz2': 0.8495998132163269}. Best is trial 207 with value: 0.8650147281267415.\u001b[0m\n",
      "\u001b[32m[I 2022-04-17 07:21:10,617]\u001b[0m Trial 220 finished with value: 0.8648236605365816 and parameters: {'exp16v6AugMix1536_fold3.pbz2': 3.3970862134935103, 'exp16v6AugmixB3_fold3.pbz2': 0.323373713450794, 'exp16v6AugmixB4Full_fold3.pbz2': 3.536317905334388, 'exp16v6AugmixB4Step2_fold3.pbz2': 1.5339561900357073, 'exp16v6AugmixB4_fold3_remove_background.pbz2': 1.61133471636903, 'exp21b6_fold3_remove_background.pbz2': 0.5628409149855779}. Best is trial 207 with value: 0.8650147281267415.\u001b[0m\n"
     ]
    },
    {
     "name": "stderr",
     "output_type": "stream",
     "text": [
      "\u001b[32m[I 2022-04-17 07:21:11,870]\u001b[0m Trial 221 finished with value: 0.8646843404187565 and parameters: {'exp16v6AugMix1536_fold3.pbz2': 3.3895232566009104, 'exp16v6AugmixB3_fold3.pbz2': 0.3080529873969067, 'exp16v6AugmixB4Full_fold3.pbz2': 3.517913083933236, 'exp16v6AugmixB4Step2_fold3.pbz2': 1.5491527512155778, 'exp16v6AugmixB4_fold3_remove_background.pbz2': 1.621370009416088, 'exp21b6_fold3_remove_background.pbz2': 0.5686069983556012}. Best is trial 207 with value: 0.8650147281267415.\u001b[0m\n",
      "\u001b[32m[I 2022-04-17 07:21:13,097]\u001b[0m Trial 222 finished with value: 0.8650465727251014 and parameters: {'exp16v6AugMix1536_fold3.pbz2': 3.295290456092752, 'exp16v6AugmixB3_fold3.pbz2': 0.4093657585825101, 'exp16v6AugmixB4Full_fold3.pbz2': 3.5530387878095318, 'exp16v6AugmixB4Step2_fold3.pbz2': 1.3865105824991601, 'exp16v6AugmixB4_fold3_remove_background.pbz2': 1.7813136043136013, 'exp21b6_fold3_remove_background.pbz2': 0.663427189869461}. Best is trial 222 with value: 0.8650465727251014.\u001b[0m\n",
      "\u001b[32m[I 2022-04-17 07:21:14,322]\u001b[0m Trial 223 finished with value: 0.8649649709418039 and parameters: {'exp16v6AugMix1536_fold3.pbz2': 3.304145486934487, 'exp16v6AugmixB3_fold3.pbz2': 0.43168090463287306, 'exp16v6AugmixB4Full_fold3.pbz2': 3.595963690716398, 'exp16v6AugmixB4Step2_fold3.pbz2': 1.3594637872704012, 'exp16v6AugmixB4_fold3_remove_background.pbz2': 1.8203827843553544, 'exp21b6_fold3_remove_background.pbz2': 0.7037821469283636}. Best is trial 222 with value: 0.8650465727251014.\u001b[0m\n",
      "\u001b[32m[I 2022-04-17 07:21:15,541]\u001b[0m Trial 224 finished with value: 0.8650226892763315 and parameters: {'exp16v6AugMix1536_fold3.pbz2': 3.295907940539739, 'exp16v6AugmixB3_fold3.pbz2': 0.4655446762243096, 'exp16v6AugmixB4Full_fold3.pbz2': 3.574464583869743, 'exp16v6AugmixB4Step2_fold3.pbz2': 1.2069955208340928, 'exp16v6AugmixB4_fold3_remove_background.pbz2': 1.856749796762826, 'exp21b6_fold3_remove_background.pbz2': 0.6930127047672658}. Best is trial 222 with value: 0.8650465727251014.\u001b[0m\n",
      "\u001b[32m[I 2022-04-17 07:21:16,766]\u001b[0m Trial 225 finished with value: 0.8646425443834089 and parameters: {'exp16v6AugMix1536_fold3.pbz2': 3.152992354855071, 'exp16v6AugmixB3_fold3.pbz2': 0.5858909731181794, 'exp16v6AugmixB4Full_fold3.pbz2': 3.563670893524532, 'exp16v6AugmixB4Step2_fold3.pbz2': 1.0456120197358534, 'exp16v6AugmixB4_fold3_remove_background.pbz2': 1.8971771978225118, 'exp21b6_fold3_remove_background.pbz2': 0.7126136914834229}. Best is trial 222 with value: 0.8650465727251014.\u001b[0m\n",
      "\u001b[32m[I 2022-04-17 07:21:17,992]\u001b[0m Trial 226 finished with value: 0.8644216224822865 and parameters: {'exp16v6AugMix1536_fold3.pbz2': 3.2971963747634785, 'exp16v6AugmixB3_fold3.pbz2': 0.4508594858756588, 'exp16v6AugmixB4Full_fold3.pbz2': 3.615646120744047, 'exp16v6AugmixB4Step2_fold3.pbz2': 1.3616512690569806, 'exp16v6AugmixB4_fold3_remove_background.pbz2': 1.6667640420284107, 'exp21b6_fold3_remove_background.pbz2': 0.8037930027494908}. Best is trial 222 with value: 0.8650465727251014.\u001b[0m\n",
      "\u001b[32m[I 2022-04-17 07:21:19,218]\u001b[0m Trial 227 finished with value: 0.8648813788711089 and parameters: {'exp16v6AugMix1536_fold3.pbz2': 3.386031390906277, 'exp16v6AugmixB3_fold3.pbz2': 0.5447729938923936, 'exp16v6AugmixB4Full_fold3.pbz2': 3.5289065524685848, 'exp16v6AugmixB4Step2_fold3.pbz2': 1.249257901251199, 'exp16v6AugmixB4_fold3_remove_background.pbz2': 1.7719605481046556, 'exp21b6_fold3_remove_background.pbz2': 0.5728393112190654}. Best is trial 222 with value: 0.8650465727251014.\u001b[0m\n",
      "\u001b[32m[I 2022-04-17 07:21:20,442]\u001b[0m Trial 228 finished with value: 0.8645430300135339 and parameters: {'exp16v6AugMix1536_fold3.pbz2': 3.3965002543830525, 'exp16v6AugmixB3_fold3.pbz2': 0.5548656821199343, 'exp16v6AugmixB4Full_fold3.pbz2': 3.5196943619444068, 'exp16v6AugmixB4Step2_fold3.pbz2': 1.2477842573460713, 'exp16v6AugmixB4_fold3_remove_background.pbz2': 1.7607584249370967, 'exp21b6_fold3_remove_background.pbz2': 0.6786163222697507}. Best is trial 222 with value: 0.8650465727251014.\u001b[0m\n",
      "\u001b[32m[I 2022-04-17 07:21:21,670]\u001b[0m Trial 229 finished with value: 0.8645529814505214 and parameters: {'exp16v6AugMix1536_fold3.pbz2': 3.3037501086545187, 'exp16v6AugmixB3_fold3.pbz2': 0.5254835722923947, 'exp16v6AugmixB4Full_fold3.pbz2': 3.6297006017201823, 'exp16v6AugmixB4Step2_fold3.pbz2': 1.1813873737116134, 'exp16v6AugmixB4_fold3_remove_background.pbz2': 1.6188888627328262, 'exp21b6_fold3_remove_background.pbz2': 0.5710076644931169}. Best is trial 222 with value: 0.8650465727251014.\u001b[0m\n",
      "\u001b[32m[I 2022-04-17 07:21:22,896]\u001b[0m Trial 230 finished with value: 0.8636115755115038 and parameters: {'exp16v6AugMix1536_fold3.pbz2': 3.0839394687894606, 'exp16v6AugmixB3_fold3.pbz2': 1.2926127151061029, 'exp16v6AugmixB4Full_fold3.pbz2': 3.5751601974744363, 'exp16v6AugmixB4Step2_fold3.pbz2': 1.345509295479597, 'exp16v6AugmixB4_fold3_remove_background.pbz2': 1.7091936719544576, 'exp21b6_fold3_remove_background.pbz2': 0.6217376262163338}. Best is trial 222 with value: 0.8650465727251014.\u001b[0m\n",
      "\u001b[32m[I 2022-04-17 07:21:24,118]\u001b[0m Trial 231 finished with value: 0.864479340816814 and parameters: {'exp16v6AugMix1536_fold3.pbz2': 3.389920566191349, 'exp16v6AugmixB3_fold3.pbz2': 0.43376588238994024, 'exp16v6AugmixB4Full_fold3.pbz2': 3.507163105848397, 'exp16v6AugmixB4Step2_fold3.pbz2': 1.4336463193727231, 'exp16v6AugmixB4_fold3_remove_background.pbz2': 1.8783939872246807, 'exp21b6_fold3_remove_background.pbz2': 0.7538690882630206}. Best is trial 222 with value: 0.8650465727251014.\u001b[0m\n",
      "\u001b[32m[I 2022-04-17 07:21:25,350]\u001b[0m Trial 232 finished with value: 0.8646226415094339 and parameters: {'exp16v6AugMix1536_fold3.pbz2': 3.2163443198221486, 'exp16v6AugmixB3_fold3.pbz2': 0.3931903879619486, 'exp16v6AugmixB4Full_fold3.pbz2': 3.5212993997476683, 'exp16v6AugmixB4Step2_fold3.pbz2': 1.240398279044555, 'exp16v6AugmixB4_fold3_remove_background.pbz2': 1.809228403967254, 'exp21b6_fold3_remove_background.pbz2': 0.882439147912483}. Best is trial 222 with value: 0.8650465727251014.\u001b[0m\n",
      "\u001b[32m[I 2022-04-17 07:21:26,574]\u001b[0m Trial 233 finished with value: 0.8641827879945865 and parameters: {'exp16v6AugMix1536_fold3.pbz2': 3.3092456097044103, 'exp16v6AugmixB3_fold3.pbz2': 0.6932257778081039, 'exp16v6AugmixB4Full_fold3.pbz2': 3.652351458344014, 'exp16v6AugmixB4Step2_fold3.pbz2': 1.4389856361769668, 'exp16v6AugmixB4_fold3_remove_background.pbz2': 1.9041673276924276, 'exp21b6_fold3_remove_background.pbz2': 0.6721686639869053}. Best is trial 222 with value: 0.8650465727251014.\u001b[0m\n",
      "\u001b[32m[I 2022-04-17 07:21:27,802]\u001b[0m Trial 234 finished with value: 0.8651142424966166 and parameters: {'exp16v6AugMix1536_fold3.pbz2': 3.410812907201681, 'exp16v6AugmixB3_fold3.pbz2': 0.3253592293500862, 'exp16v6AugmixB4Full_fold3.pbz2': 3.5813776716857, 'exp16v6AugmixB4Step2_fold3.pbz2': 1.3773329852920193, 'exp16v6AugmixB4_fold3_remove_background.pbz2': 1.7882337805993531, 'exp21b6_fold3_remove_background.pbz2': 0.5318774359238284}. Best is trial 234 with value: 0.8651142424966166.\u001b[0m\n",
      "\u001b[32m[I 2022-04-17 07:21:29,024]\u001b[0m Trial 235 finished with value: 0.8651341453705914 and parameters: {'exp16v6AugMix1536_fold3.pbz2': 3.386816684889561, 'exp16v6AugmixB3_fold3.pbz2': 0.47983335878908695, 'exp16v6AugmixB4Full_fold3.pbz2': 3.585087261884701, 'exp16v6AugmixB4Step2_fold3.pbz2': 1.3031034094501783, 'exp16v6AugmixB4_fold3_remove_background.pbz2': 1.7710281641378367, 'exp21b6_fold3_remove_background.pbz2': 0.5294771289417232}. Best is trial 235 with value: 0.8651341453705914.\u001b[0m\n",
      "\u001b[32m[I 2022-04-17 07:21:30,253]\u001b[0m Trial 236 finished with value: 0.8645848260488814 and parameters: {'exp16v6AugMix1536_fold3.pbz2': 3.4016798631147864, 'exp16v6AugmixB3_fold3.pbz2': 0.5042322691071416, 'exp16v6AugmixB4Full_fold3.pbz2': 3.7627951196542693, 'exp16v6AugmixB4Step2_fold3.pbz2': 1.087558175852653, 'exp16v6AugmixB4_fold3_remove_background.pbz2': 1.6900887584143476, 'exp21b6_fold3_remove_background.pbz2': 0.5292493861649049}. Best is trial 235 with value: 0.8651341453705914.\u001b[0m\n",
      "\u001b[32m[I 2022-04-17 07:21:31,491]\u001b[0m Trial 237 finished with value: 0.8645907969110739 and parameters: {'exp16v6AugMix1536_fold3.pbz2': 3.3012858571775454, 'exp16v6AugmixB3_fold3.pbz2': 0.44867238944020427, 'exp16v6AugmixB4Full_fold3.pbz2': 3.6526140671925296, 'exp16v6AugmixB4Step2_fold3.pbz2': 1.3053194004584723, 'exp16v6AugmixB4_fold3_remove_background.pbz2': 1.5829753174276817, 'exp21b6_fold3_remove_background.pbz2': 0.5071296963643537}. Best is trial 235 with value: 0.8651341453705914.\u001b[0m\n"
     ]
    },
    {
     "name": "stderr",
     "output_type": "stream",
     "text": [
      "\u001b[32m[I 2022-04-17 07:21:32,757]\u001b[0m Trial 238 finished with value: 0.8648435634105566 and parameters: {'exp16v6AugMix1536_fold3.pbz2': 3.4323926118671286, 'exp16v6AugmixB3_fold3.pbz2': 0.3408992289283589, 'exp16v6AugmixB4Full_fold3.pbz2': 3.4627795765562412, 'exp16v6AugmixB4Step2_fold3.pbz2': 1.1880600556971284, 'exp16v6AugmixB4_fold3_remove_background.pbz2': 1.7992350232683092, 'exp21b6_fold3_remove_background.pbz2': 0.5748640137436476}. Best is trial 235 with value: 0.8651341453705914.\u001b[0m\n",
      "\u001b[32m[I 2022-04-17 07:21:33,984]\u001b[0m Trial 239 finished with value: 0.864403709895709 and parameters: {'exp16v6AugMix1536_fold3.pbz2': 3.238394405337151, 'exp16v6AugmixB3_fold3.pbz2': 0.5710941288191143, 'exp16v6AugmixB4Full_fold3.pbz2': 3.5731115652407084, 'exp16v6AugmixB4Step2_fold3.pbz2': 1.368918065319662, 'exp16v6AugmixB4_fold3_remove_background.pbz2': 1.9805250808266603, 'exp21b6_fold3_remove_background.pbz2': 0.5735697935216283}. Best is trial 235 with value: 0.8651341453705914.\u001b[0m\n",
      "\u001b[32m[I 2022-04-17 07:21:35,209]\u001b[0m Trial 240 finished with value: 0.864435554494069 and parameters: {'exp16v6AugMix1536_fold3.pbz2': 3.4151096172424564, 'exp16v6AugmixB3_fold3.pbz2': 0.35214376324378344, 'exp16v6AugmixB4Full_fold3.pbz2': 3.4871597241530745, 'exp16v6AugmixB4Step2_fold3.pbz2': 1.2383441642590538, 'exp16v6AugmixB4_fold3_remove_background.pbz2': 1.7425346342725725, 'exp21b6_fold3_remove_background.pbz2': 0.7897139482278683}. Best is trial 235 with value: 0.8651341453705914.\u001b[0m\n",
      "\u001b[32m[I 2022-04-17 07:21:36,441]\u001b[0m Trial 241 finished with value: 0.8650246795637291 and parameters: {'exp16v6AugMix1536_fold3.pbz2': 3.4341391262663556, 'exp16v6AugmixB3_fold3.pbz2': 0.31956588281967196, 'exp16v6AugmixB4Full_fold3.pbz2': 3.494003736619431, 'exp16v6AugmixB4Step2_fold3.pbz2': 1.167880237921731, 'exp16v6AugmixB4_fold3_remove_background.pbz2': 1.8591766079377336, 'exp21b6_fold3_remove_background.pbz2': 0.4945627496625361}. Best is trial 235 with value: 0.8651341453705914.\u001b[0m\n",
      "\u001b[32m[I 2022-04-17 07:21:37,675]\u001b[0m Trial 242 finished with value: 0.864825650823979 and parameters: {'exp16v6AugMix1536_fold3.pbz2': 3.406366057903763, 'exp16v6AugmixB3_fold3.pbz2': 0.3970803305187156, 'exp16v6AugmixB4Full_fold3.pbz2': 3.6660117276657744, 'exp16v6AugmixB4Step2_fold3.pbz2': 0.985973754607022, 'exp16v6AugmixB4_fold3_remove_background.pbz2': 1.808446804151855, 'exp21b6_fold3_remove_background.pbz2': 0.6020526016515348}. Best is trial 235 with value: 0.8651341453705914.\u001b[0m\n",
      "\u001b[32m[I 2022-04-17 07:21:39,051]\u001b[0m Trial 243 finished with value: 0.8647122044423216 and parameters: {'exp16v6AugMix1536_fold3.pbz2': 3.305592981772601, 'exp16v6AugmixB3_fold3.pbz2': 0.43296714187019447, 'exp16v6AugmixB4Full_fold3.pbz2': 3.656291848147861, 'exp16v6AugmixB4Step2_fold3.pbz2': 0.8461731246886118, 'exp16v6AugmixB4_fold3_remove_background.pbz2': 1.892216167260619, 'exp21b6_fold3_remove_background.pbz2': 0.5907143612670088}. Best is trial 235 with value: 0.8651341453705914.\u001b[0m\n",
      "\u001b[32m[I 2022-04-17 07:21:40,281]\u001b[0m Trial 244 finished with value: 0.864726136454104 and parameters: {'exp16v6AugMix1536_fold3.pbz2': 3.395278802509961, 'exp16v6AugmixB3_fold3.pbz2': 0.3368213138361887, 'exp16v6AugmixB4Full_fold3.pbz2': 3.5868386678650563, 'exp16v6AugmixB4Step2_fold3.pbz2': 0.9580546195652218, 'exp16v6AugmixB4_fold3_remove_background.pbz2': 1.700569848203515, 'exp21b6_fold3_remove_background.pbz2': 0.5093389038734978}. Best is trial 235 with value: 0.8651341453705914.\u001b[0m\n"
     ]
    },
    {
     "name": "stdout",
     "output_type": "stream",
     "text": [
      "CPU times: user 5min 1s, sys: 831 ms, total: 5min 1s\n",
      "Wall time: 5min 1s\n"
     ]
    }
   ],
   "source": [
    "%%time\n",
    "\n",
    "study = optuna.create_study(direction='maximize')\n",
    "study.optimize(objective_wrapper(exps), timeout=300)"
   ]
  },
  {
   "cell_type": "code",
   "execution_count": 21,
   "metadata": {},
   "outputs": [
    {
     "data": {
      "text/html": [
       "<div>\n",
       "<style scoped>\n",
       "    .dataframe tbody tr th:only-of-type {\n",
       "        vertical-align: middle;\n",
       "    }\n",
       "\n",
       "    .dataframe tbody tr th {\n",
       "        vertical-align: top;\n",
       "    }\n",
       "\n",
       "    .dataframe thead th {\n",
       "        text-align: right;\n",
       "    }\n",
       "</style>\n",
       "<table border=\"1\" class=\"dataframe\">\n",
       "  <thead>\n",
       "    <tr style=\"text-align: right;\">\n",
       "      <th></th>\n",
       "      <th>number</th>\n",
       "      <th>value</th>\n",
       "      <th>datetime_start</th>\n",
       "      <th>datetime_complete</th>\n",
       "      <th>duration</th>\n",
       "      <th>params_exp16v6AugMix1536_fold3.pbz2</th>\n",
       "      <th>params_exp16v6AugmixB3_fold3.pbz2</th>\n",
       "      <th>params_exp16v6AugmixB4Full_fold3.pbz2</th>\n",
       "      <th>params_exp16v6AugmixB4Step2_fold3.pbz2</th>\n",
       "      <th>params_exp16v6AugmixB4_fold3_remove_background.pbz2</th>\n",
       "      <th>params_exp21b6_fold3_remove_background.pbz2</th>\n",
       "      <th>state</th>\n",
       "    </tr>\n",
       "  </thead>\n",
       "  <tbody>\n",
       "    <tr>\n",
       "      <th>16</th>\n",
       "      <td>16</td>\n",
       "      <td>0.843973</td>\n",
       "      <td>2022-04-17 07:16:58.894567</td>\n",
       "      <td>2022-04-17 07:17:00.115997</td>\n",
       "      <td>0 days 00:00:01.221430</td>\n",
       "      <td>2.697381</td>\n",
       "      <td>0.503704</td>\n",
       "      <td>0.239388</td>\n",
       "      <td>3.953294</td>\n",
       "      <td>0.521451</td>\n",
       "      <td>1.016072</td>\n",
       "      <td>COMPLETE</td>\n",
       "    </tr>\n",
       "    <tr>\n",
       "      <th>9</th>\n",
       "      <td>9</td>\n",
       "      <td>0.844411</td>\n",
       "      <td>2022-04-17 07:16:50.339211</td>\n",
       "      <td>2022-04-17 07:16:51.549694</td>\n",
       "      <td>0 days 00:00:01.210483</td>\n",
       "      <td>2.017525</td>\n",
       "      <td>0.289534</td>\n",
       "      <td>0.918293</td>\n",
       "      <td>3.272684</td>\n",
       "      <td>2.964444</td>\n",
       "      <td>1.442136</td>\n",
       "      <td>COMPLETE</td>\n",
       "    </tr>\n",
       "    <tr>\n",
       "      <th>30</th>\n",
       "      <td>30</td>\n",
       "      <td>0.845701</td>\n",
       "      <td>2022-04-17 07:17:16.077154</td>\n",
       "      <td>2022-04-17 07:17:17.316063</td>\n",
       "      <td>0 days 00:00:01.238909</td>\n",
       "      <td>0.837373</td>\n",
       "      <td>0.708981</td>\n",
       "      <td>2.864605</td>\n",
       "      <td>2.626723</td>\n",
       "      <td>3.680165</td>\n",
       "      <td>0.942193</td>\n",
       "      <td>COMPLETE</td>\n",
       "    </tr>\n",
       "    <tr>\n",
       "      <th>50</th>\n",
       "      <td>50</td>\n",
       "      <td>0.847208</td>\n",
       "      <td>2022-04-17 07:17:40.646479</td>\n",
       "      <td>2022-04-17 07:17:41.868997</td>\n",
       "      <td>0 days 00:00:01.222518</td>\n",
       "      <td>1.193095</td>\n",
       "      <td>0.399644</td>\n",
       "      <td>3.109036</td>\n",
       "      <td>2.181470</td>\n",
       "      <td>3.986281</td>\n",
       "      <td>0.244227</td>\n",
       "      <td>COMPLETE</td>\n",
       "    </tr>\n",
       "    <tr>\n",
       "      <th>38</th>\n",
       "      <td>38</td>\n",
       "      <td>0.848233</td>\n",
       "      <td>2022-04-17 07:17:25.918507</td>\n",
       "      <td>2022-04-17 07:17:27.143196</td>\n",
       "      <td>0 days 00:00:01.224689</td>\n",
       "      <td>0.765446</td>\n",
       "      <td>2.188497</td>\n",
       "      <td>3.375747</td>\n",
       "      <td>3.490519</td>\n",
       "      <td>1.376580</td>\n",
       "      <td>1.631757</td>\n",
       "      <td>COMPLETE</td>\n",
       "    </tr>\n",
       "    <tr>\n",
       "      <th>...</th>\n",
       "      <td>...</td>\n",
       "      <td>...</td>\n",
       "      <td>...</td>\n",
       "      <td>...</td>\n",
       "      <td>...</td>\n",
       "      <td>...</td>\n",
       "      <td>...</td>\n",
       "      <td>...</td>\n",
       "      <td>...</td>\n",
       "      <td>...</td>\n",
       "      <td>...</td>\n",
       "      <td>...</td>\n",
       "    </tr>\n",
       "    <tr>\n",
       "      <th>224</th>\n",
       "      <td>224</td>\n",
       "      <td>0.865023</td>\n",
       "      <td>2022-04-17 07:21:14.324021</td>\n",
       "      <td>2022-04-17 07:21:15.541378</td>\n",
       "      <td>0 days 00:00:01.217357</td>\n",
       "      <td>3.295908</td>\n",
       "      <td>0.465545</td>\n",
       "      <td>3.574465</td>\n",
       "      <td>1.206996</td>\n",
       "      <td>1.856750</td>\n",
       "      <td>0.693013</td>\n",
       "      <td>COMPLETE</td>\n",
       "    </tr>\n",
       "    <tr>\n",
       "      <th>241</th>\n",
       "      <td>241</td>\n",
       "      <td>0.865025</td>\n",
       "      <td>2022-04-17 07:21:35.210511</td>\n",
       "      <td>2022-04-17 07:21:36.440732</td>\n",
       "      <td>0 days 00:00:01.230221</td>\n",
       "      <td>3.434139</td>\n",
       "      <td>0.319566</td>\n",
       "      <td>3.494004</td>\n",
       "      <td>1.167880</td>\n",
       "      <td>1.859177</td>\n",
       "      <td>0.494563</td>\n",
       "      <td>COMPLETE</td>\n",
       "    </tr>\n",
       "    <tr>\n",
       "      <th>222</th>\n",
       "      <td>222</td>\n",
       "      <td>0.865047</td>\n",
       "      <td>2022-04-17 07:21:11.871971</td>\n",
       "      <td>2022-04-17 07:21:13.097472</td>\n",
       "      <td>0 days 00:00:01.225501</td>\n",
       "      <td>3.295290</td>\n",
       "      <td>0.409366</td>\n",
       "      <td>3.553039</td>\n",
       "      <td>1.386511</td>\n",
       "      <td>1.781314</td>\n",
       "      <td>0.663427</td>\n",
       "      <td>COMPLETE</td>\n",
       "    </tr>\n",
       "    <tr>\n",
       "      <th>234</th>\n",
       "      <td>234</td>\n",
       "      <td>0.865114</td>\n",
       "      <td>2022-04-17 07:21:26.575431</td>\n",
       "      <td>2022-04-17 07:21:27.802349</td>\n",
       "      <td>0 days 00:00:01.226918</td>\n",
       "      <td>3.410813</td>\n",
       "      <td>0.325359</td>\n",
       "      <td>3.581378</td>\n",
       "      <td>1.377333</td>\n",
       "      <td>1.788234</td>\n",
       "      <td>0.531877</td>\n",
       "      <td>COMPLETE</td>\n",
       "    </tr>\n",
       "    <tr>\n",
       "      <th>235</th>\n",
       "      <td>235</td>\n",
       "      <td>0.865134</td>\n",
       "      <td>2022-04-17 07:21:27.803890</td>\n",
       "      <td>2022-04-17 07:21:29.023713</td>\n",
       "      <td>0 days 00:00:01.219823</td>\n",
       "      <td>3.386817</td>\n",
       "      <td>0.479833</td>\n",
       "      <td>3.585087</td>\n",
       "      <td>1.303103</td>\n",
       "      <td>1.771028</td>\n",
       "      <td>0.529477</td>\n",
       "      <td>COMPLETE</td>\n",
       "    </tr>\n",
       "  </tbody>\n",
       "</table>\n",
       "<p>245 rows × 12 columns</p>\n",
       "</div>"
      ],
      "text/plain": [
       "     number     value             datetime_start          datetime_complete  \\\n",
       "16       16  0.843973 2022-04-17 07:16:58.894567 2022-04-17 07:17:00.115997   \n",
       "9         9  0.844411 2022-04-17 07:16:50.339211 2022-04-17 07:16:51.549694   \n",
       "30       30  0.845701 2022-04-17 07:17:16.077154 2022-04-17 07:17:17.316063   \n",
       "50       50  0.847208 2022-04-17 07:17:40.646479 2022-04-17 07:17:41.868997   \n",
       "38       38  0.848233 2022-04-17 07:17:25.918507 2022-04-17 07:17:27.143196   \n",
       "..      ...       ...                        ...                        ...   \n",
       "224     224  0.865023 2022-04-17 07:21:14.324021 2022-04-17 07:21:15.541378   \n",
       "241     241  0.865025 2022-04-17 07:21:35.210511 2022-04-17 07:21:36.440732   \n",
       "222     222  0.865047 2022-04-17 07:21:11.871971 2022-04-17 07:21:13.097472   \n",
       "234     234  0.865114 2022-04-17 07:21:26.575431 2022-04-17 07:21:27.802349   \n",
       "235     235  0.865134 2022-04-17 07:21:27.803890 2022-04-17 07:21:29.023713   \n",
       "\n",
       "                  duration  params_exp16v6AugMix1536_fold3.pbz2  \\\n",
       "16  0 days 00:00:01.221430                             2.697381   \n",
       "9   0 days 00:00:01.210483                             2.017525   \n",
       "30  0 days 00:00:01.238909                             0.837373   \n",
       "50  0 days 00:00:01.222518                             1.193095   \n",
       "38  0 days 00:00:01.224689                             0.765446   \n",
       "..                     ...                                  ...   \n",
       "224 0 days 00:00:01.217357                             3.295908   \n",
       "241 0 days 00:00:01.230221                             3.434139   \n",
       "222 0 days 00:00:01.225501                             3.295290   \n",
       "234 0 days 00:00:01.226918                             3.410813   \n",
       "235 0 days 00:00:01.219823                             3.386817   \n",
       "\n",
       "     params_exp16v6AugmixB3_fold3.pbz2  params_exp16v6AugmixB4Full_fold3.pbz2  \\\n",
       "16                            0.503704                               0.239388   \n",
       "9                             0.289534                               0.918293   \n",
       "30                            0.708981                               2.864605   \n",
       "50                            0.399644                               3.109036   \n",
       "38                            2.188497                               3.375747   \n",
       "..                                 ...                                    ...   \n",
       "224                           0.465545                               3.574465   \n",
       "241                           0.319566                               3.494004   \n",
       "222                           0.409366                               3.553039   \n",
       "234                           0.325359                               3.581378   \n",
       "235                           0.479833                               3.585087   \n",
       "\n",
       "     params_exp16v6AugmixB4Step2_fold3.pbz2  \\\n",
       "16                                 3.953294   \n",
       "9                                  3.272684   \n",
       "30                                 2.626723   \n",
       "50                                 2.181470   \n",
       "38                                 3.490519   \n",
       "..                                      ...   \n",
       "224                                1.206996   \n",
       "241                                1.167880   \n",
       "222                                1.386511   \n",
       "234                                1.377333   \n",
       "235                                1.303103   \n",
       "\n",
       "     params_exp16v6AugmixB4_fold3_remove_background.pbz2  \\\n",
       "16                                            0.521451     \n",
       "9                                             2.964444     \n",
       "30                                            3.680165     \n",
       "50                                            3.986281     \n",
       "38                                            1.376580     \n",
       "..                                                 ...     \n",
       "224                                           1.856750     \n",
       "241                                           1.859177     \n",
       "222                                           1.781314     \n",
       "234                                           1.788234     \n",
       "235                                           1.771028     \n",
       "\n",
       "     params_exp21b6_fold3_remove_background.pbz2     state  \n",
       "16                                      1.016072  COMPLETE  \n",
       "9                                       1.442136  COMPLETE  \n",
       "30                                      0.942193  COMPLETE  \n",
       "50                                      0.244227  COMPLETE  \n",
       "38                                      1.631757  COMPLETE  \n",
       "..                                           ...       ...  \n",
       "224                                     0.693013  COMPLETE  \n",
       "241                                     0.494563  COMPLETE  \n",
       "222                                     0.663427  COMPLETE  \n",
       "234                                     0.531877  COMPLETE  \n",
       "235                                     0.529477  COMPLETE  \n",
       "\n",
       "[245 rows x 12 columns]"
      ]
     },
     "execution_count": 21,
     "metadata": {},
     "output_type": "execute_result"
    }
   ],
   "source": [
    "study.trials_dataframe().sort_values(\"value\")"
   ]
  },
  {
   "cell_type": "code",
   "execution_count": 22,
   "metadata": {},
   "outputs": [
    {
     "data": {
      "text/plain": [
       "{'exp16v6AugMix1536_fold3.pbz2': 3.386816684889561,\n",
       " 'exp16v6AugmixB3_fold3.pbz2': 0.47983335878908695,\n",
       " 'exp16v6AugmixB4Full_fold3.pbz2': 3.585087261884701,\n",
       " 'exp16v6AugmixB4Step2_fold3.pbz2': 1.3031034094501783,\n",
       " 'exp16v6AugmixB4_fold3_remove_background.pbz2': 1.7710281641378367,\n",
       " 'exp21b6_fold3_remove_background.pbz2': 0.5294771289417232}"
      ]
     },
     "execution_count": 22,
     "metadata": {},
     "output_type": "execute_result"
    }
   ],
   "source": [
    "study.best_params"
   ]
  },
  {
   "cell_type": "code",
   "execution_count": 23,
   "metadata": {},
   "outputs": [],
   "source": [
    "best_weights = list(study.best_params.values())"
   ]
  },
  {
   "cell_type": "code",
   "execution_count": 24,
   "metadata": {},
   "outputs": [
    {
     "data": {
      "text/plain": [
       "0.8651341453705914"
      ]
     },
     "execution_count": 24,
     "metadata": {},
     "output_type": "execute_result"
    }
   ],
   "source": [
    "# weighted result\n",
    "get_score([1] + best_weights)"
   ]
  },
  {
   "cell_type": "code",
   "execution_count": 25,
   "metadata": {},
   "outputs": [
    {
     "data": {
      "text/plain": [
       "0.8517215985988377"
      ]
     },
     "execution_count": 25,
     "metadata": {},
     "output_type": "execute_result"
    }
   ],
   "source": [
    "# un-weighted result\n",
    "get_score([1] * len(exps))"
   ]
  }
 ],
 "metadata": {
  "kernelspec": {
   "display_name": "Python 3 (ipykernel)",
   "language": "python",
   "name": "python3"
  },
  "language_info": {
   "codemirror_mode": {
    "name": "ipython",
    "version": 3
   },
   "file_extension": ".py",
   "mimetype": "text/x-python",
   "name": "python",
   "nbconvert_exporter": "python",
   "pygments_lexer": "ipython3",
   "version": "3.7.12"
  }
 },
 "nbformat": 4,
 "nbformat_minor": 4
}
