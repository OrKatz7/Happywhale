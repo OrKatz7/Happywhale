{
 "cells": [
  {
   "cell_type": "code",
   "execution_count": 1,
   "metadata": {
    "scrolled": true
   },
   "outputs": [],
   "source": [
    "import numpy as np\n",
    "import matplotlib.pyplot as plt\n",
    "import pandas as pd\n",
    "import json\n",
    "import glob\n",
    "\n",
    "from tqdm import tqdm\n",
    "import seaborn as sns\n",
    "from collections import Counter\n",
    "\n",
    "import cv2"
   ]
  },
  {
   "cell_type": "code",
   "execution_count": 2,
   "metadata": {},
   "outputs": [],
   "source": [
    "from glob import glob\n",
    "from sklearn.model_selection import GroupKFold, StratifiedKFold\n",
    "from skimage import io\n",
    "import torch\n",
    "from torch import nn\n",
    "import os\n",
    "from datetime import datetime\n",
    "import time\n",
    "import random\n",
    "import cv2\n",
    "import torchvision\n",
    "from torchvision import transforms\n",
    "import pandas as pd\n",
    "import numpy as np\n",
    "from tqdm import tqdm\n",
    "\n",
    "import matplotlib.pyplot as plt\n",
    "from torch.utils.data import Dataset,DataLoader\n",
    "from torch.utils.data.sampler import SequentialSampler, RandomSampler\n",
    "from torch.cuda.amp import autocast, GradScaler\n",
    "from torch.nn.modules.loss import _WeightedLoss\n",
    "import torch.nn.functional as F\n",
    "\n",
    "import sklearn\n",
    "import warnings\n",
    "import joblib\n",
    "from sklearn.metrics import roc_auc_score, log_loss\n",
    "from sklearn import metrics\n",
    "import warnings\n",
    "import cv2\n",
    "#from efficientnet_pytorch import EfficientNet\n",
    "from scipy.ndimage.interpolation import zoom"
   ]
  },
  {
   "cell_type": "code",
   "execution_count": 3,
   "metadata": {},
   "outputs": [],
   "source": [
    "import cudf, cuml, cupy\n",
    "from cuml.feature_extraction.text import TfidfVectorizer\n",
    "from cuml.neighbors import NearestNeighbors"
   ]
  },
  {
   "cell_type": "code",
   "execution_count": 4,
   "metadata": {
    "scrolled": true
   },
   "outputs": [
    {
     "data": {
      "text/plain": [
       "(51033, 3)"
      ]
     },
     "execution_count": 4,
     "metadata": {},
     "output_type": "execute_result"
    }
   ],
   "source": [
    "train = pd.read_csv(\"/kaggle/happywhale/input/train.csv\")\n",
    "train.shape"
   ]
  },
  {
   "cell_type": "code",
   "execution_count": 5,
   "metadata": {},
   "outputs": [],
   "source": [
    "train.species.replace({\"globis\": \"short_finned_pilot_whale\",\n",
    "                          \"pilot_whale\": \"short_finned_pilot_whale\",\n",
    "                          \"kiler_whale\": \"killer_whale\",\n",
    "                          \"bottlenose_dolpin\": \"bottlenose_dolphin\"}, inplace=True)"
   ]
  },
  {
   "cell_type": "code",
   "execution_count": 6,
   "metadata": {},
   "outputs": [],
   "source": [
    "FOLD=4"
   ]
  },
  {
   "cell_type": "code",
   "execution_count": 7,
   "metadata": {},
   "outputs": [],
   "source": [
    "fold_lis = []\n",
    "for i in range(len(train)):\n",
    "    fold_lis.append(i%5)\n",
    "    \n",
    "train[\"fold\"] = fold_lis"
   ]
  },
  {
   "cell_type": "code",
   "execution_count": 8,
   "metadata": {},
   "outputs": [],
   "source": [
    "all_only_val_set = set()\n",
    "\n",
    "for fold in range(5):\n",
    "    tr = train[train.fold!=fold]\n",
    "    val = train[train.fold==fold]\n",
    "\n",
    "    train_id_set = set(tr.individual_id)\n",
    "    val_id_set = set(val.individual_id)\n",
    "\n",
    "    only_val_set = val_id_set- train_id_set\n",
    "\n",
    "    for val_id in list(only_val_set):\n",
    "        all_only_val_set.add(str(fold) +\"_\"+ val_id)"
   ]
  },
  {
   "cell_type": "code",
   "execution_count": 9,
   "metadata": {},
   "outputs": [],
   "source": [
    "train_df = train[train.fold!=FOLD].copy()\n",
    "valid_df = train[train.fold==FOLD].copy()\n",
    "\n",
    "train_df = train_df.reset_index(drop=True)\n",
    "valid_df = valid_df.reset_index(drop=True)"
   ]
  },
  {
   "cell_type": "code",
   "execution_count": 10,
   "metadata": {},
   "outputs": [],
   "source": [
    "use_val_id_during_traing = []\n",
    "\n",
    "for val_id in valid_df.individual_id.values:\n",
    "\n",
    "    if str(FOLD) + \"_\" + val_id in all_only_val_set:\n",
    "        use_val_id_during_traing.append(False)\n",
    "    else:\n",
    "        use_val_id_during_traing.append(True)\n",
    "\n",
    "\n",
    "valid_df[\"use_in_train\"] = use_val_id_during_traing"
   ]
  },
  {
   "cell_type": "code",
   "execution_count": 11,
   "metadata": {},
   "outputs": [],
   "source": [
    "from collections import defaultdict\n",
    "d = defaultdict(lambda: -1)\n",
    "now=0\n",
    "\n",
    "new_label_group = []\n",
    "\n",
    "for i,row in train_df.iterrows():\n",
    "    if d[row[\"individual_id\"]]==-1:\n",
    "        d[row[\"individual_id\"]]=now\n",
    "        now+=1\n",
    "    \n",
    "    new_label_group.append(d[row[\"individual_id\"]])"
   ]
  },
  {
   "cell_type": "code",
   "execution_count": 12,
   "metadata": {},
   "outputs": [],
   "source": [
    "train_df[\"new_individual_id\"]  = new_label_group"
   ]
  },
  {
   "cell_type": "code",
   "execution_count": 13,
   "metadata": {},
   "outputs": [],
   "source": [
    "valid_df_for_train = valid_df[valid_df.use_in_train].copy()\n",
    "valid_df_for_train = valid_df_for_train.reset_index(drop=True)"
   ]
  },
  {
   "cell_type": "code",
   "execution_count": 14,
   "metadata": {},
   "outputs": [],
   "source": [
    "new_individual_id_lis = []\n",
    "\n",
    "\n",
    "for val_id in valid_df_for_train.individual_id.values:\n",
    "    new_individual_id_lis.append(d[val_id])"
   ]
  },
  {
   "cell_type": "code",
   "execution_count": 15,
   "metadata": {},
   "outputs": [],
   "source": [
    "valid_df_for_train[\"new_individual_id\"] = new_individual_id_lis"
   ]
  },
  {
   "cell_type": "code",
   "execution_count": null,
   "metadata": {},
   "outputs": [],
   "source": []
  },
  {
   "cell_type": "code",
   "execution_count": 16,
   "metadata": {},
   "outputs": [],
   "source": [
    "from sklearn.preprocessing import normalize\n",
    "from scipy.spatial import distance"
   ]
  },
  {
   "cell_type": "code",
   "execution_count": 17,
   "metadata": {},
   "outputs": [],
   "source": [
    "import pickle\n",
    "\n",
    "def load_emb(exp_names,pickle_name):\n",
    "    # train/valid   train_all/test\n",
    "    emb_lis = []\n",
    "    for exp in exp_names:\n",
    "        \n",
    "        dirname = \"/kaggle/happywhale/working/\" + exp\n",
    "        \n",
    "        with open(dirname + '/' + pickle_name + '.pickle', 'rb') as f:\n",
    "            valid_preds = pickle.load(f)\n",
    "        emb_lis.append(valid_preds)\n",
    "        print(valid_preds.shape)\n",
    "    \n",
    "    return normalize(np.concatenate(emb_lis,axis=1))\n",
    "        "
   ]
  },
  {
   "cell_type": "code",
   "execution_count": 18,
   "metadata": {},
   "outputs": [],
   "source": [
    "exps = [\"exp113\"]"
   ]
  },
  {
   "cell_type": "code",
   "execution_count": 19,
   "metadata": {},
   "outputs": [],
   "source": [
    "assert len(exps) == len(set(exps))"
   ]
  },
  {
   "cell_type": "code",
   "execution_count": null,
   "metadata": {},
   "outputs": [],
   "source": []
  },
  {
   "cell_type": "code",
   "execution_count": 20,
   "metadata": {},
   "outputs": [
    {
     "data": {
      "text/plain": [
       "(27956, 2)"
      ]
     },
     "execution_count": 20,
     "metadata": {},
     "output_type": "execute_result"
    }
   ],
   "source": [
    "test_df =pd.read_csv(\"../input/sample_submission.csv\")\n",
    "test_df.shape"
   ]
  },
  {
   "cell_type": "markdown",
   "metadata": {},
   "source": [
    "### predict nearest species for each test"
   ]
  },
  {
   "cell_type": "code",
   "execution_count": 21,
   "metadata": {},
   "outputs": [
    {
     "name": "stdout",
     "output_type": "stream",
     "text": [
      "(27956, 512)\n",
      "(51033, 512)\n"
     ]
    }
   ],
   "source": [
    "test_preds      = load_emb(exps,\"test\")\n",
    "train_all_preds = load_emb(exps,\"train_all\")"
   ]
  },
  {
   "cell_type": "code",
   "execution_count": 22,
   "metadata": {},
   "outputs": [],
   "source": [
    "from sklearn.metrics import pairwise_distances"
   ]
  },
  {
   "cell_type": "code",
   "execution_count": 23,
   "metadata": {},
   "outputs": [
    {
     "name": "stdout",
     "output_type": "stream",
     "text": [
      "CPU times: user 53.2 s, sys: 1min 16s, total: 2min 9s\n",
      "Wall time: 18.4 s\n"
     ]
    }
   ],
   "source": [
    "%%time\n",
    "\n",
    "#distances = cuml.metrics.pairwise_distances(test_preds,train_all_preds)\n",
    "distances =pairwise_distances(test_preds,train_all_preds)"
   ]
  },
  {
   "cell_type": "code",
   "execution_count": 24,
   "metadata": {},
   "outputs": [
    {
     "name": "stdout",
     "output_type": "stream",
     "text": [
      "CPU times: user 4.59 s, sys: 5.73 s, total: 10.3 s\n",
      "Wall time: 10.4 s\n"
     ]
    }
   ],
   "source": [
    "%%time\n",
    "\n",
    "K=1\n",
    "predicted_positions = np.argpartition(distances, K, axis=1)[:, :K]"
   ]
  },
  {
   "cell_type": "code",
   "execution_count": 25,
   "metadata": {},
   "outputs": [
    {
     "data": {
      "text/plain": [
       "(27956, 1)"
      ]
     },
     "execution_count": 25,
     "metadata": {},
     "output_type": "execute_result"
    }
   ],
   "source": [
    "predicted_positions.shape"
   ]
  },
  {
   "cell_type": "code",
   "execution_count": 26,
   "metadata": {},
   "outputs": [],
   "source": [
    "train_species_lis = train.species.values\n",
    "test_pred_species = []\n",
    "\n",
    "\n",
    "for i in range(len(predicted_positions)):\n",
    "    train_species = train_species_lis[predicted_positions[i]][0]\n",
    "    test_pred_species.append(train_species)"
   ]
  },
  {
   "cell_type": "code",
   "execution_count": 27,
   "metadata": {},
   "outputs": [],
   "source": [
    "test_df[\"species\"] = test_pred_species"
   ]
  },
  {
   "cell_type": "code",
   "execution_count": 28,
   "metadata": {},
   "outputs": [
    {
     "data": {
      "text/html": [
       "<div>\n",
       "<style scoped>\n",
       "    .dataframe tbody tr th:only-of-type {\n",
       "        vertical-align: middle;\n",
       "    }\n",
       "\n",
       "    .dataframe tbody tr th {\n",
       "        vertical-align: top;\n",
       "    }\n",
       "\n",
       "    .dataframe thead th {\n",
       "        text-align: right;\n",
       "    }\n",
       "</style>\n",
       "<table border=\"1\" class=\"dataframe\">\n",
       "  <thead>\n",
       "    <tr style=\"text-align: right;\">\n",
       "      <th></th>\n",
       "      <th>image</th>\n",
       "      <th>predictions</th>\n",
       "      <th>species</th>\n",
       "    </tr>\n",
       "  </thead>\n",
       "  <tbody>\n",
       "    <tr>\n",
       "      <th>0</th>\n",
       "      <td>000110707af0ba.jpg</td>\n",
       "      <td>37c7aba965a5 114207cab555 a6e325d8e924 19fbb96...</td>\n",
       "      <td>gray_whale</td>\n",
       "    </tr>\n",
       "    <tr>\n",
       "      <th>1</th>\n",
       "      <td>0006287ec424cb.jpg</td>\n",
       "      <td>37c7aba965a5 114207cab555 a6e325d8e924 19fbb96...</td>\n",
       "      <td>false_killer_whale</td>\n",
       "    </tr>\n",
       "    <tr>\n",
       "      <th>2</th>\n",
       "      <td>000809ecb2ccad.jpg</td>\n",
       "      <td>37c7aba965a5 114207cab555 a6e325d8e924 19fbb96...</td>\n",
       "      <td>beluga</td>\n",
       "    </tr>\n",
       "    <tr>\n",
       "      <th>3</th>\n",
       "      <td>00098d1376dab2.jpg</td>\n",
       "      <td>37c7aba965a5 114207cab555 a6e325d8e924 19fbb96...</td>\n",
       "      <td>humpback_whale</td>\n",
       "    </tr>\n",
       "    <tr>\n",
       "      <th>4</th>\n",
       "      <td>000b8d89c738bd.jpg</td>\n",
       "      <td>37c7aba965a5 114207cab555 a6e325d8e924 19fbb96...</td>\n",
       "      <td>dusky_dolphin</td>\n",
       "    </tr>\n",
       "  </tbody>\n",
       "</table>\n",
       "</div>"
      ],
      "text/plain": [
       "                image                                        predictions  \\\n",
       "0  000110707af0ba.jpg  37c7aba965a5 114207cab555 a6e325d8e924 19fbb96...   \n",
       "1  0006287ec424cb.jpg  37c7aba965a5 114207cab555 a6e325d8e924 19fbb96...   \n",
       "2  000809ecb2ccad.jpg  37c7aba965a5 114207cab555 a6e325d8e924 19fbb96...   \n",
       "3  00098d1376dab2.jpg  37c7aba965a5 114207cab555 a6e325d8e924 19fbb96...   \n",
       "4  000b8d89c738bd.jpg  37c7aba965a5 114207cab555 a6e325d8e924 19fbb96...   \n",
       "\n",
       "              species  \n",
       "0          gray_whale  \n",
       "1  false_killer_whale  \n",
       "2              beluga  \n",
       "3      humpback_whale  \n",
       "4       dusky_dolphin  "
      ]
     },
     "execution_count": 28,
     "metadata": {},
     "output_type": "execute_result"
    }
   ],
   "source": [
    "test_df.head()"
   ]
  },
  {
   "cell_type": "markdown",
   "metadata": {},
   "source": [
    "### normal prediction(without new_individual)"
   ]
  },
  {
   "cell_type": "code",
   "execution_count": 29,
   "metadata": {},
   "outputs": [
    {
     "name": "stdout",
     "output_type": "stream",
     "text": [
      "(27956, 512)\n",
      "(51033, 512)\n"
     ]
    }
   ],
   "source": [
    "test_preds      = load_emb(exps,\"test\")\n",
    "train_all_preds = load_emb(exps,\"train_all\")"
   ]
  },
  {
   "cell_type": "code",
   "execution_count": 30,
   "metadata": {
    "scrolled": false
   },
   "outputs": [
    {
     "data": {
      "text/plain": [
       "(27956, 512)"
      ]
     },
     "execution_count": 30,
     "metadata": {},
     "output_type": "execute_result"
    }
   ],
   "source": [
    "test_preds.shape"
   ]
  },
  {
   "cell_type": "code",
   "execution_count": 31,
   "metadata": {},
   "outputs": [
    {
     "data": {
      "text/plain": [
       "(51033, 512)"
      ]
     },
     "execution_count": 31,
     "metadata": {},
     "output_type": "execute_result"
    }
   ],
   "source": [
    "train_all_preds.shape"
   ]
  },
  {
   "cell_type": "code",
   "execution_count": 32,
   "metadata": {
    "scrolled": false
   },
   "outputs": [
    {
     "name": "stdout",
     "output_type": "stream",
     "text": [
      "CPU times: user 55.7 s, sys: 1min 15s, total: 2min 11s\n",
      "Wall time: 21.8 s\n"
     ]
    }
   ],
   "source": [
    "%%time\n",
    "\n",
    "#distances = cuml.metrics.pairwise_distances(test_preds,train_all_preds)\n",
    "distances =pairwise_distances(test_preds,train_all_preds)"
   ]
  },
  {
   "cell_type": "code",
   "execution_count": 33,
   "metadata": {
    "scrolled": true
   },
   "outputs": [
    {
     "name": "stdout",
     "output_type": "stream",
     "text": [
      "CPU times: user 15.5 s, sys: 8.88 s, total: 24.4 s\n",
      "Wall time: 34 s\n"
     ]
    }
   ],
   "source": [
    "%%time\n",
    "\n",
    "K=1000\n",
    "predicted_positions = np.argpartition(distances, K, axis=1)[:, :K]"
   ]
  },
  {
   "cell_type": "code",
   "execution_count": 34,
   "metadata": {},
   "outputs": [
    {
     "name": "stderr",
     "output_type": "stream",
     "text": [
      "100%|██████████| 27956/27956 [00:30<00:00, 915.28it/s] \n"
     ]
    }
   ],
   "source": [
    "sub_pred_lis = []\n",
    "\n",
    "train_inddividual_id_lis = train[\"individual_id\"].values\n",
    "\n",
    "\n",
    "for i in tqdm(range(predicted_positions.shape[0])):\n",
    "    nearest = [(train_inddividual_id_lis[j], distances[i, j]) for j in predicted_positions[i]]\n",
    "    nearest.sort(key=lambda x: x[1])\n",
    "\n",
    "    prediction = [index_id for index_id, d in nearest]\n",
    "    \n",
    "    done = set()\n",
    "    pred_list = []\n",
    "    for pred_id in prediction:\n",
    "        if pred_id in done:\n",
    "            continue\n",
    "        done.add(pred_id)\n",
    "        pred_list.append(pred_id)\n",
    "        if len(pred_list)==5:\n",
    "            break    \n",
    "\n",
    "            \n",
    "    sub_pred_lis.append(pred_list)"
   ]
  },
  {
   "cell_type": "code",
   "execution_count": 35,
   "metadata": {},
   "outputs": [],
   "source": [
    "pred_lis_joined = []\n",
    "for preds in sub_pred_lis:\n",
    "    pred_lis_joined.append(\" \".join(preds))"
   ]
  },
  {
   "cell_type": "code",
   "execution_count": 36,
   "metadata": {},
   "outputs": [],
   "source": [
    "test_df[\"predictions\"] = pred_lis_joined"
   ]
  },
  {
   "cell_type": "code",
   "execution_count": 37,
   "metadata": {},
   "outputs": [
    {
     "data": {
      "text/html": [
       "<div>\n",
       "<style scoped>\n",
       "    .dataframe tbody tr th:only-of-type {\n",
       "        vertical-align: middle;\n",
       "    }\n",
       "\n",
       "    .dataframe tbody tr th {\n",
       "        vertical-align: top;\n",
       "    }\n",
       "\n",
       "    .dataframe thead th {\n",
       "        text-align: right;\n",
       "    }\n",
       "</style>\n",
       "<table border=\"1\" class=\"dataframe\">\n",
       "  <thead>\n",
       "    <tr style=\"text-align: right;\">\n",
       "      <th></th>\n",
       "      <th>image</th>\n",
       "      <th>predictions</th>\n",
       "      <th>species</th>\n",
       "    </tr>\n",
       "  </thead>\n",
       "  <tbody>\n",
       "    <tr>\n",
       "      <th>0</th>\n",
       "      <td>000110707af0ba.jpg</td>\n",
       "      <td>fbe2b15b5481 836708f5e690 5a199d197c45 7e7ee27...</td>\n",
       "      <td>gray_whale</td>\n",
       "    </tr>\n",
       "    <tr>\n",
       "      <th>1</th>\n",
       "      <td>0006287ec424cb.jpg</td>\n",
       "      <td>1424c7fec826 e72a5024c4ad 8870c00f2eda 5325e39...</td>\n",
       "      <td>false_killer_whale</td>\n",
       "    </tr>\n",
       "    <tr>\n",
       "      <th>2</th>\n",
       "      <td>000809ecb2ccad.jpg</td>\n",
       "      <td>1ce3ba6a3c29 9c011e5bbf3b 9e788f1982d6 9a41dd5...</td>\n",
       "      <td>beluga</td>\n",
       "    </tr>\n",
       "    <tr>\n",
       "      <th>3</th>\n",
       "      <td>00098d1376dab2.jpg</td>\n",
       "      <td>c4274d90be60 27be93c53673 6a6fa3ec3810 69c3563...</td>\n",
       "      <td>humpback_whale</td>\n",
       "    </tr>\n",
       "    <tr>\n",
       "      <th>4</th>\n",
       "      <td>000b8d89c738bd.jpg</td>\n",
       "      <td>cf500d3874bc c88cb1224033 ebd4f2c3e8d1 d4d2cd4...</td>\n",
       "      <td>dusky_dolphin</td>\n",
       "    </tr>\n",
       "    <tr>\n",
       "      <th>...</th>\n",
       "      <td>...</td>\n",
       "      <td>...</td>\n",
       "      <td>...</td>\n",
       "    </tr>\n",
       "    <tr>\n",
       "      <th>27951</th>\n",
       "      <td>fff6ff1989b5cd.jpg</td>\n",
       "      <td>734573d54bef ec0aa394b7e5 33f637e7d02c 79d85d2...</td>\n",
       "      <td>spinner_dolphin</td>\n",
       "    </tr>\n",
       "    <tr>\n",
       "      <th>27952</th>\n",
       "      <td>fff8fd932b42cb.jpg</td>\n",
       "      <td>129a9e2703f0 34ae492ed158 d3ddb92fb6ea 42d32d5...</td>\n",
       "      <td>dusky_dolphin</td>\n",
       "    </tr>\n",
       "    <tr>\n",
       "      <th>27953</th>\n",
       "      <td>fff96371332c16.jpg</td>\n",
       "      <td>2fad3a13934d d322fe55b12e 8dc43144e9cb ed8e5aa...</td>\n",
       "      <td>beluga</td>\n",
       "    </tr>\n",
       "    <tr>\n",
       "      <th>27954</th>\n",
       "      <td>fffc1c4d3eabc7.jpg</td>\n",
       "      <td>a8fe10f7b3e0 3c06337d5955 3295906b0cc8 f9a293d...</td>\n",
       "      <td>cuviers_beaked_whale</td>\n",
       "    </tr>\n",
       "    <tr>\n",
       "      <th>27955</th>\n",
       "      <td>fffc50be10c175.jpg</td>\n",
       "      <td>ad4557cf336c 3ce86421dc8b 64bb5df01cdf 6063cf5...</td>\n",
       "      <td>bottlenose_dolphin</td>\n",
       "    </tr>\n",
       "  </tbody>\n",
       "</table>\n",
       "<p>27956 rows × 3 columns</p>\n",
       "</div>"
      ],
      "text/plain": [
       "                    image                                        predictions  \\\n",
       "0      000110707af0ba.jpg  fbe2b15b5481 836708f5e690 5a199d197c45 7e7ee27...   \n",
       "1      0006287ec424cb.jpg  1424c7fec826 e72a5024c4ad 8870c00f2eda 5325e39...   \n",
       "2      000809ecb2ccad.jpg  1ce3ba6a3c29 9c011e5bbf3b 9e788f1982d6 9a41dd5...   \n",
       "3      00098d1376dab2.jpg  c4274d90be60 27be93c53673 6a6fa3ec3810 69c3563...   \n",
       "4      000b8d89c738bd.jpg  cf500d3874bc c88cb1224033 ebd4f2c3e8d1 d4d2cd4...   \n",
       "...                   ...                                                ...   \n",
       "27951  fff6ff1989b5cd.jpg  734573d54bef ec0aa394b7e5 33f637e7d02c 79d85d2...   \n",
       "27952  fff8fd932b42cb.jpg  129a9e2703f0 34ae492ed158 d3ddb92fb6ea 42d32d5...   \n",
       "27953  fff96371332c16.jpg  2fad3a13934d d322fe55b12e 8dc43144e9cb ed8e5aa...   \n",
       "27954  fffc1c4d3eabc7.jpg  a8fe10f7b3e0 3c06337d5955 3295906b0cc8 f9a293d...   \n",
       "27955  fffc50be10c175.jpg  ad4557cf336c 3ce86421dc8b 64bb5df01cdf 6063cf5...   \n",
       "\n",
       "                    species  \n",
       "0                gray_whale  \n",
       "1        false_killer_whale  \n",
       "2                    beluga  \n",
       "3            humpback_whale  \n",
       "4             dusky_dolphin  \n",
       "...                     ...  \n",
       "27951       spinner_dolphin  \n",
       "27952         dusky_dolphin  \n",
       "27953                beluga  \n",
       "27954  cuviers_beaked_whale  \n",
       "27955    bottlenose_dolphin  \n",
       "\n",
       "[27956 rows x 3 columns]"
      ]
     },
     "execution_count": 37,
     "metadata": {},
     "output_type": "execute_result"
    }
   ],
   "source": [
    "test_df"
   ]
  },
  {
   "cell_type": "code",
   "execution_count": 38,
   "metadata": {},
   "outputs": [],
   "source": [
    "test_df.to_csv(\"submission_\" +\"_\".join(exps)+ \".csv\",index=None)"
   ]
  },
  {
   "cell_type": "code",
   "execution_count": null,
   "metadata": {},
   "outputs": [],
   "source": []
  },
  {
   "cell_type": "markdown",
   "metadata": {},
   "source": [
    "### add new_individual by fixed threshold "
   ]
  },
  {
   "cell_type": "code",
   "execution_count": 39,
   "metadata": {},
   "outputs": [],
   "source": [
    "new_individual_thr=1.0"
   ]
  },
  {
   "cell_type": "code",
   "execution_count": 40,
   "metadata": {},
   "outputs": [
    {
     "name": "stderr",
     "output_type": "stream",
     "text": [
      "100%|██████████| 27956/27956 [00:30<00:00, 918.63it/s]\n"
     ]
    }
   ],
   "source": [
    "sub_pred_lis = []\n",
    "\n",
    "train_inddividual_id_lis = train[\"individual_id\"].values\n",
    "new_ind_1_cnt=0\n",
    "\n",
    "for i in tqdm(range(predicted_positions.shape[0])):\n",
    "    nearest = [(train_inddividual_id_lis[j], distances[i, j]) for j in predicted_positions[i]]\n",
    "    \n",
    "    nearest.sort(key=lambda x: x[1])\n",
    "\n",
    "    done = set()\n",
    "    pred_list = []\n",
    "    for pred_id, score in nearest:\n",
    "        if score > new_individual_thr and not \"new_individual\" in done:\n",
    "            pred_list.append(\"new_individual\")\n",
    "            done.add(\"new_individual\")\n",
    "            \n",
    "        if pred_id in done:\n",
    "            continue\n",
    "        done.add(pred_id)\n",
    "        pred_list.append(pred_id)\n",
    "        if len(pred_list)>=5:\n",
    "            break    \n",
    "\n",
    "    if pred_list[0]==\"new_individual\":\n",
    "        new_ind_1_cnt+=1\n",
    "    sub_pred_lis.append(pred_list[:5])"
   ]
  },
  {
   "cell_type": "code",
   "execution_count": 41,
   "metadata": {},
   "outputs": [
    {
     "data": {
      "text/plain": [
       "0.3029045643153527"
      ]
     },
     "execution_count": 41,
     "metadata": {},
     "output_type": "execute_result"
    }
   ],
   "source": [
    "new_ind_1_cnt/len(test_df)"
   ]
  },
  {
   "cell_type": "code",
   "execution_count": 42,
   "metadata": {},
   "outputs": [],
   "source": [
    "pred_lis_joined = []\n",
    "for preds in sub_pred_lis:\n",
    "    pred_lis_joined.append(\" \".join(preds))"
   ]
  },
  {
   "cell_type": "code",
   "execution_count": 43,
   "metadata": {},
   "outputs": [],
   "source": [
    "test_df[\"predictions\"] = pred_lis_joined"
   ]
  },
  {
   "cell_type": "code",
   "execution_count": 44,
   "metadata": {},
   "outputs": [
    {
     "data": {
      "text/html": [
       "<div>\n",
       "<style scoped>\n",
       "    .dataframe tbody tr th:only-of-type {\n",
       "        vertical-align: middle;\n",
       "    }\n",
       "\n",
       "    .dataframe tbody tr th {\n",
       "        vertical-align: top;\n",
       "    }\n",
       "\n",
       "    .dataframe thead th {\n",
       "        text-align: right;\n",
       "    }\n",
       "</style>\n",
       "<table border=\"1\" class=\"dataframe\">\n",
       "  <thead>\n",
       "    <tr style=\"text-align: right;\">\n",
       "      <th></th>\n",
       "      <th>image</th>\n",
       "      <th>predictions</th>\n",
       "      <th>species</th>\n",
       "    </tr>\n",
       "  </thead>\n",
       "  <tbody>\n",
       "    <tr>\n",
       "      <th>0</th>\n",
       "      <td>000110707af0ba.jpg</td>\n",
       "      <td>fbe2b15b5481 836708f5e690 new_individual 5a199...</td>\n",
       "      <td>gray_whale</td>\n",
       "    </tr>\n",
       "    <tr>\n",
       "      <th>1</th>\n",
       "      <td>0006287ec424cb.jpg</td>\n",
       "      <td>1424c7fec826 new_individual e72a5024c4ad 8870c...</td>\n",
       "      <td>false_killer_whale</td>\n",
       "    </tr>\n",
       "    <tr>\n",
       "      <th>2</th>\n",
       "      <td>000809ecb2ccad.jpg</td>\n",
       "      <td>1ce3ba6a3c29 new_individual 9c011e5bbf3b 9e788...</td>\n",
       "      <td>beluga</td>\n",
       "    </tr>\n",
       "    <tr>\n",
       "      <th>3</th>\n",
       "      <td>00098d1376dab2.jpg</td>\n",
       "      <td>c4274d90be60 27be93c53673 new_individual 6a6fa...</td>\n",
       "      <td>humpback_whale</td>\n",
       "    </tr>\n",
       "    <tr>\n",
       "      <th>4</th>\n",
       "      <td>000b8d89c738bd.jpg</td>\n",
       "      <td>cf500d3874bc new_individual c88cb1224033 ebd4f...</td>\n",
       "      <td>dusky_dolphin</td>\n",
       "    </tr>\n",
       "    <tr>\n",
       "      <th>...</th>\n",
       "      <td>...</td>\n",
       "      <td>...</td>\n",
       "      <td>...</td>\n",
       "    </tr>\n",
       "    <tr>\n",
       "      <th>27951</th>\n",
       "      <td>fff6ff1989b5cd.jpg</td>\n",
       "      <td>734573d54bef new_individual ec0aa394b7e5 33f63...</td>\n",
       "      <td>spinner_dolphin</td>\n",
       "    </tr>\n",
       "    <tr>\n",
       "      <th>27952</th>\n",
       "      <td>fff8fd932b42cb.jpg</td>\n",
       "      <td>new_individual 129a9e2703f0 34ae492ed158 d3ddb...</td>\n",
       "      <td>dusky_dolphin</td>\n",
       "    </tr>\n",
       "    <tr>\n",
       "      <th>27953</th>\n",
       "      <td>fff96371332c16.jpg</td>\n",
       "      <td>new_individual 2fad3a13934d d322fe55b12e 8dc43...</td>\n",
       "      <td>beluga</td>\n",
       "    </tr>\n",
       "    <tr>\n",
       "      <th>27954</th>\n",
       "      <td>fffc1c4d3eabc7.jpg</td>\n",
       "      <td>new_individual a8fe10f7b3e0 3c06337d5955 32959...</td>\n",
       "      <td>cuviers_beaked_whale</td>\n",
       "    </tr>\n",
       "    <tr>\n",
       "      <th>27955</th>\n",
       "      <td>fffc50be10c175.jpg</td>\n",
       "      <td>new_individual ad4557cf336c 3ce86421dc8b 64bb5...</td>\n",
       "      <td>bottlenose_dolphin</td>\n",
       "    </tr>\n",
       "  </tbody>\n",
       "</table>\n",
       "<p>27956 rows × 3 columns</p>\n",
       "</div>"
      ],
      "text/plain": [
       "                    image                                        predictions  \\\n",
       "0      000110707af0ba.jpg  fbe2b15b5481 836708f5e690 new_individual 5a199...   \n",
       "1      0006287ec424cb.jpg  1424c7fec826 new_individual e72a5024c4ad 8870c...   \n",
       "2      000809ecb2ccad.jpg  1ce3ba6a3c29 new_individual 9c011e5bbf3b 9e788...   \n",
       "3      00098d1376dab2.jpg  c4274d90be60 27be93c53673 new_individual 6a6fa...   \n",
       "4      000b8d89c738bd.jpg  cf500d3874bc new_individual c88cb1224033 ebd4f...   \n",
       "...                   ...                                                ...   \n",
       "27951  fff6ff1989b5cd.jpg  734573d54bef new_individual ec0aa394b7e5 33f63...   \n",
       "27952  fff8fd932b42cb.jpg  new_individual 129a9e2703f0 34ae492ed158 d3ddb...   \n",
       "27953  fff96371332c16.jpg  new_individual 2fad3a13934d d322fe55b12e 8dc43...   \n",
       "27954  fffc1c4d3eabc7.jpg  new_individual a8fe10f7b3e0 3c06337d5955 32959...   \n",
       "27955  fffc50be10c175.jpg  new_individual ad4557cf336c 3ce86421dc8b 64bb5...   \n",
       "\n",
       "                    species  \n",
       "0                gray_whale  \n",
       "1        false_killer_whale  \n",
       "2                    beluga  \n",
       "3            humpback_whale  \n",
       "4             dusky_dolphin  \n",
       "...                     ...  \n",
       "27951       spinner_dolphin  \n",
       "27952         dusky_dolphin  \n",
       "27953                beluga  \n",
       "27954  cuviers_beaked_whale  \n",
       "27955    bottlenose_dolphin  \n",
       "\n",
       "[27956 rows x 3 columns]"
      ]
     },
     "execution_count": 44,
     "metadata": {},
     "output_type": "execute_result"
    }
   ],
   "source": [
    "test_df"
   ]
  },
  {
   "cell_type": "code",
   "execution_count": 45,
   "metadata": {},
   "outputs": [],
   "source": [
    "test_df.to_csv(\"submission_\" +str(new_individual_thr)+\".csv\",index=None)"
   ]
  },
  {
   "cell_type": "code",
   "execution_count": null,
   "metadata": {},
   "outputs": [],
   "source": []
  },
  {
   "cell_type": "markdown",
   "metadata": {},
   "source": [
    "### set new_individual threshold"
   ]
  },
  {
   "cell_type": "code",
   "execution_count": 46,
   "metadata": {},
   "outputs": [],
   "source": [
    "test_new_ind_cnt_df = pd.read_csv(\"../input/test_new_ind_ratio_0402.csv\")"
   ]
  },
  {
   "cell_type": "code",
   "execution_count": 47,
   "metadata": {},
   "outputs": [
    {
     "data": {
      "text/html": [
       "<div>\n",
       "<style scoped>\n",
       "    .dataframe tbody tr th:only-of-type {\n",
       "        vertical-align: middle;\n",
       "    }\n",
       "\n",
       "    .dataframe tbody tr th {\n",
       "        vertical-align: top;\n",
       "    }\n",
       "\n",
       "    .dataframe thead th {\n",
       "        text-align: right;\n",
       "    }\n",
       "</style>\n",
       "<table border=\"1\" class=\"dataframe\">\n",
       "  <thead>\n",
       "    <tr style=\"text-align: right;\">\n",
       "      <th></th>\n",
       "      <th>species</th>\n",
       "      <th>test_new_ind_ratio</th>\n",
       "    </tr>\n",
       "  </thead>\n",
       "  <tbody>\n",
       "    <tr>\n",
       "      <th>0</th>\n",
       "      <td>humpback_whale</td>\n",
       "      <td>0.097941</td>\n",
       "    </tr>\n",
       "    <tr>\n",
       "      <th>1</th>\n",
       "      <td>bottlenose_dolphin</td>\n",
       "      <td>0.025106</td>\n",
       "    </tr>\n",
       "    <tr>\n",
       "      <th>2</th>\n",
       "      <td>beluga</td>\n",
       "      <td>0.006468</td>\n",
       "    </tr>\n",
       "    <tr>\n",
       "      <th>3</th>\n",
       "      <td>dusky_dolphin</td>\n",
       "      <td>0.523474</td>\n",
       "    </tr>\n",
       "    <tr>\n",
       "      <th>4</th>\n",
       "      <td>false_killer_whale</td>\n",
       "      <td>0.015609</td>\n",
       "    </tr>\n",
       "    <tr>\n",
       "      <th>5</th>\n",
       "      <td>killer_whale</td>\n",
       "      <td>0.017829</td>\n",
       "    </tr>\n",
       "    <tr>\n",
       "      <th>6</th>\n",
       "      <td>spinner_dolphin</td>\n",
       "      <td>0.064464</td>\n",
       "    </tr>\n",
       "    <tr>\n",
       "      <th>7</th>\n",
       "      <td>blue_whale</td>\n",
       "      <td>0.048034</td>\n",
       "    </tr>\n",
       "    <tr>\n",
       "      <th>8</th>\n",
       "      <td>melon_headed_whale</td>\n",
       "      <td>0.376427</td>\n",
       "    </tr>\n",
       "    <tr>\n",
       "      <th>9</th>\n",
       "      <td>fin_whale</td>\n",
       "      <td>0.101046</td>\n",
       "    </tr>\n",
       "    <tr>\n",
       "      <th>10</th>\n",
       "      <td>short_finned_pilot_whale</td>\n",
       "      <td>0.033927</td>\n",
       "    </tr>\n",
       "    <tr>\n",
       "      <th>11</th>\n",
       "      <td>southern_right_whale</td>\n",
       "      <td>0.084459</td>\n",
       "    </tr>\n",
       "    <tr>\n",
       "      <th>12</th>\n",
       "      <td>gray_whale</td>\n",
       "      <td>0.050000</td>\n",
       "    </tr>\n",
       "    <tr>\n",
       "      <th>13</th>\n",
       "      <td>minke_whale</td>\n",
       "      <td>0.255073</td>\n",
       "    </tr>\n",
       "    <tr>\n",
       "      <th>14</th>\n",
       "      <td>cuviers_beaked_whale</td>\n",
       "      <td>0.373743</td>\n",
       "    </tr>\n",
       "    <tr>\n",
       "      <th>15</th>\n",
       "      <td>spotted_dolphin</td>\n",
       "      <td>0.233616</td>\n",
       "    </tr>\n",
       "    <tr>\n",
       "      <th>16</th>\n",
       "      <td>sei_whale</td>\n",
       "      <td>0.100000</td>\n",
       "    </tr>\n",
       "    <tr>\n",
       "      <th>17</th>\n",
       "      <td>common_dolphin</td>\n",
       "      <td>0.100000</td>\n",
       "    </tr>\n",
       "    <tr>\n",
       "      <th>18</th>\n",
       "      <td>long_finned_pilot_whale</td>\n",
       "      <td>0.100000</td>\n",
       "    </tr>\n",
       "    <tr>\n",
       "      <th>19</th>\n",
       "      <td>white_sided_dolphin</td>\n",
       "      <td>0.187624</td>\n",
       "    </tr>\n",
       "    <tr>\n",
       "      <th>20</th>\n",
       "      <td>brydes_whale</td>\n",
       "      <td>0.100000</td>\n",
       "    </tr>\n",
       "    <tr>\n",
       "      <th>21</th>\n",
       "      <td>pantropic_spotted_dolphin</td>\n",
       "      <td>0.100000</td>\n",
       "    </tr>\n",
       "    <tr>\n",
       "      <th>22</th>\n",
       "      <td>commersons_dolphin</td>\n",
       "      <td>0.100000</td>\n",
       "    </tr>\n",
       "    <tr>\n",
       "      <th>23</th>\n",
       "      <td>pygmy_killer_whale</td>\n",
       "      <td>0.100000</td>\n",
       "    </tr>\n",
       "    <tr>\n",
       "      <th>24</th>\n",
       "      <td>rough_toothed_dolphin</td>\n",
       "      <td>0.100000</td>\n",
       "    </tr>\n",
       "    <tr>\n",
       "      <th>25</th>\n",
       "      <td>frasiers_dolphin</td>\n",
       "      <td>0.100000</td>\n",
       "    </tr>\n",
       "  </tbody>\n",
       "</table>\n",
       "</div>"
      ],
      "text/plain": [
       "                      species  test_new_ind_ratio\n",
       "0              humpback_whale            0.097941\n",
       "1          bottlenose_dolphin            0.025106\n",
       "2                      beluga            0.006468\n",
       "3               dusky_dolphin            0.523474\n",
       "4          false_killer_whale            0.015609\n",
       "5                killer_whale            0.017829\n",
       "6             spinner_dolphin            0.064464\n",
       "7                  blue_whale            0.048034\n",
       "8          melon_headed_whale            0.376427\n",
       "9                   fin_whale            0.101046\n",
       "10   short_finned_pilot_whale            0.033927\n",
       "11       southern_right_whale            0.084459\n",
       "12                 gray_whale            0.050000\n",
       "13                minke_whale            0.255073\n",
       "14       cuviers_beaked_whale            0.373743\n",
       "15            spotted_dolphin            0.233616\n",
       "16                  sei_whale            0.100000\n",
       "17             common_dolphin            0.100000\n",
       "18    long_finned_pilot_whale            0.100000\n",
       "19        white_sided_dolphin            0.187624\n",
       "20               brydes_whale            0.100000\n",
       "21  pantropic_spotted_dolphin            0.100000\n",
       "22         commersons_dolphin            0.100000\n",
       "23         pygmy_killer_whale            0.100000\n",
       "24      rough_toothed_dolphin            0.100000\n",
       "25           frasiers_dolphin            0.100000"
      ]
     },
     "execution_count": 47,
     "metadata": {},
     "output_type": "execute_result"
    }
   ],
   "source": [
    "test_new_ind_cnt_df"
   ]
  },
  {
   "cell_type": "code",
   "execution_count": 48,
   "metadata": {},
   "outputs": [],
   "source": [
    "# Multiply test_new_ind_ratio by \"multiplier\"\n",
    "# e.g. beluga's test_new_ind_ratio is 0.006468, \n",
    "# if multiplier = 2.0, set threshold for beluga 0.006468*2=0.012936\n",
    "# if multiplier = 0.5, set threshold for beluga 0.006468/2=0.003234\n",
    "\n",
    "# we have to find best multiplier for LB\n",
    "# (again, it must be overfit to LB)\n",
    "\n",
    "def get_thr(spe,ratio_target_df,top1=True,multiplier=1.0):\n",
    "    spe_ind_lis = test_df.query(\"species == @spe\").index.values\n",
    "    sub_pred_lis=[]\n",
    "    \n",
    "    for i in spe_ind_lis:\n",
    "        nearest = [(train_inddividual_id_lis[j], distances[i, j]) for j in predicted_positions[i]]\n",
    "        nearest.sort(key=lambda x: x[1])\n",
    "\n",
    "        prediction = [index_id for index_id, d in nearest]\n",
    "        dists = [d for index_id, d in nearest]\n",
    "\n",
    "        done = set()\n",
    "        dist_list = []\n",
    "        for pred_id,dist in zip(prediction,dists):\n",
    "            if pred_id in done:\n",
    "                continue\n",
    "            done.add(pred_id)\n",
    "            dist_list.append(dist)\n",
    "            if len(dist_list)==5:\n",
    "                break    \n",
    "\n",
    "\n",
    "        sub_pred_lis.append(dist_list)\n",
    "    \n",
    "    ratio_target = multiplier * ratio_target_df.query(\"species == @spe\").iloc[0][\"test_new_ind_ratio\"]\n",
    "    \n",
    "    return binary(sub_pred_lis,ratio_target,top1)"
   ]
  },
  {
   "cell_type": "code",
   "execution_count": 49,
   "metadata": {},
   "outputs": [],
   "source": [
    "# binary search methods\n",
    "\n",
    "def solve(sub_pred_lis,mid,target_ratio):\n",
    "    ratio_lis = []\n",
    "    for i in range(len(sub_pred_lis)):\n",
    "        ratio = 0\n",
    "        for j in range(5):\n",
    "            if sub_pred_lis[i][j] > mid: # j is new_ind\n",
    "                ratio = 1/(j+1)\n",
    "                break\n",
    "        \n",
    "        ratio_lis.append(ratio)\n",
    "    return np.mean(ratio_lis) < target_ratio\n",
    "\n",
    "def solve_top1(sub_pred_lis,mid,target_ratio):\n",
    "    ratio_lis = []\n",
    "    for i in range(len(sub_pred_lis)):\n",
    "        ratio = 0\n",
    "        for j in range(5):\n",
    "            if sub_pred_lis[i][0] > mid: \n",
    "                ratio = 1\n",
    "                break\n",
    "        \n",
    "        ratio_lis.append(ratio)\n",
    "    return np.mean(ratio_lis) < target_ratio\n",
    "\n",
    "def binary(sub_pred_lis,target_ratio,top1):\n",
    "    ok=2\n",
    "    ng=0\n",
    "    cnt=0\n",
    "    while cnt<100:\n",
    "        cnt+=1\n",
    "        mid = (ok+ng)/2\n",
    "        #ret = solve(sub_pred_lis,mid,target_ratio)\n",
    "        if top1:\n",
    "            ret = solve_top1(sub_pred_lis,mid,target_ratio)\n",
    "        else:\n",
    "            ret = solve(sub_pred_lis,mid,target_ratio)\n",
    "            \n",
    "        if ret:\n",
    "            ok=mid\n",
    "        else:\n",
    "            ng=mid\n",
    "    return ok"
   ]
  },
  {
   "cell_type": "code",
   "execution_count": null,
   "metadata": {},
   "outputs": [],
   "source": []
  },
  {
   "cell_type": "code",
   "execution_count": 50,
   "metadata": {},
   "outputs": [
    {
     "data": {
      "text/plain": [
       "1.140183448791504"
      ]
     },
     "execution_count": 50,
     "metadata": {},
     "output_type": "execute_result"
    }
   ],
   "source": [
    "# if we set beluga's threshold 1.14, we can expect beluga has 0.003234 new_individual\n",
    "get_thr(\"beluga\",test_new_ind_cnt_df,top1=True,multiplier=0.5)"
   ]
  },
  {
   "cell_type": "code",
   "execution_count": 51,
   "metadata": {
    "scrolled": true
   },
   "outputs": [
    {
     "data": {
      "text/plain": [
       "1.1302247047424316"
      ]
     },
     "execution_count": 51,
     "metadata": {},
     "output_type": "execute_result"
    }
   ],
   "source": [
    "get_thr(\"beluga\",test_new_ind_cnt_df,top1=True,multiplier=1.0)"
   ]
  },
  {
   "cell_type": "code",
   "execution_count": 52,
   "metadata": {},
   "outputs": [
    {
     "data": {
      "text/plain": [
       "1.1199551820755005"
      ]
     },
     "execution_count": 52,
     "metadata": {},
     "output_type": "execute_result"
    }
   ],
   "source": [
    "get_thr(\"beluga\",test_new_ind_cnt_df,top1=True,multiplier=1.5)"
   ]
  },
  {
   "cell_type": "code",
   "execution_count": 53,
   "metadata": {},
   "outputs": [
    {
     "data": {
      "text/plain": [
       "1.0311923027038574"
      ]
     },
     "execution_count": 53,
     "metadata": {},
     "output_type": "execute_result"
    }
   ],
   "source": [
    "get_thr(\"dusky_dolphin\",test_new_ind_cnt_df,top1=True)"
   ]
  },
  {
   "cell_type": "code",
   "execution_count": null,
   "metadata": {},
   "outputs": [],
   "source": []
  },
  {
   "cell_type": "code",
   "execution_count": null,
   "metadata": {},
   "outputs": [],
   "source": []
  },
  {
   "cell_type": "code",
   "execution_count": 54,
   "metadata": {},
   "outputs": [],
   "source": [
    "spe_lis = test_new_ind_cnt_df.species.values"
   ]
  },
  {
   "cell_type": "markdown",
   "metadata": {},
   "source": [
    "### Add new_individual by new_ind_ratio"
   ]
  },
  {
   "cell_type": "code",
   "execution_count": 55,
   "metadata": {},
   "outputs": [],
   "source": [
    "MULTIPLIER=1.3"
   ]
  },
  {
   "cell_type": "code",
   "execution_count": 56,
   "metadata": {},
   "outputs": [
    {
     "name": "stderr",
     "output_type": "stream",
     "text": [
      "100%|██████████| 26/26 [00:52<00:00,  2.02s/it]\n"
     ]
    }
   ],
   "source": [
    "thr_lis_top1 = []\n",
    "for spe in tqdm(spe_lis):\n",
    "    thr = get_thr(spe,test_new_ind_cnt_df,top1=True,multiplier=MULTIPLIER)\n",
    "    thr_lis_top1.append(thr)"
   ]
  },
  {
   "cell_type": "code",
   "execution_count": 57,
   "metadata": {},
   "outputs": [],
   "source": [
    "thr_df = pd.DataFrame()\n",
    "thr_df[\"species\"] = spe_lis\n",
    "thr_df[\"thr\"] = thr_lis_top1"
   ]
  },
  {
   "cell_type": "code",
   "execution_count": 58,
   "metadata": {},
   "outputs": [
    {
     "data": {
      "text/html": [
       "<div>\n",
       "<style scoped>\n",
       "    .dataframe tbody tr th:only-of-type {\n",
       "        vertical-align: middle;\n",
       "    }\n",
       "\n",
       "    .dataframe tbody tr th {\n",
       "        vertical-align: top;\n",
       "    }\n",
       "\n",
       "    .dataframe thead th {\n",
       "        text-align: right;\n",
       "    }\n",
       "</style>\n",
       "<table border=\"1\" class=\"dataframe\">\n",
       "  <thead>\n",
       "    <tr style=\"text-align: right;\">\n",
       "      <th></th>\n",
       "      <th>species</th>\n",
       "      <th>thr</th>\n",
       "    </tr>\n",
       "  </thead>\n",
       "  <tbody>\n",
       "    <tr>\n",
       "      <th>0</th>\n",
       "      <td>humpback_whale</td>\n",
       "      <td>1.098942</td>\n",
       "    </tr>\n",
       "    <tr>\n",
       "      <th>1</th>\n",
       "      <td>bottlenose_dolphin</td>\n",
       "      <td>1.084660</td>\n",
       "    </tr>\n",
       "    <tr>\n",
       "      <th>2</th>\n",
       "      <td>beluga</td>\n",
       "      <td>1.123397</td>\n",
       "    </tr>\n",
       "    <tr>\n",
       "      <th>3</th>\n",
       "      <td>dusky_dolphin</td>\n",
       "      <td>0.953195</td>\n",
       "    </tr>\n",
       "    <tr>\n",
       "      <th>4</th>\n",
       "      <td>false_killer_whale</td>\n",
       "      <td>1.098881</td>\n",
       "    </tr>\n",
       "    <tr>\n",
       "      <th>5</th>\n",
       "      <td>killer_whale</td>\n",
       "      <td>1.099415</td>\n",
       "    </tr>\n",
       "    <tr>\n",
       "      <th>6</th>\n",
       "      <td>spinner_dolphin</td>\n",
       "      <td>1.095389</td>\n",
       "    </tr>\n",
       "    <tr>\n",
       "      <th>7</th>\n",
       "      <td>blue_whale</td>\n",
       "      <td>1.117441</td>\n",
       "    </tr>\n",
       "    <tr>\n",
       "      <th>8</th>\n",
       "      <td>melon_headed_whale</td>\n",
       "      <td>0.985881</td>\n",
       "    </tr>\n",
       "    <tr>\n",
       "      <th>9</th>\n",
       "      <td>fin_whale</td>\n",
       "      <td>1.061359</td>\n",
       "    </tr>\n",
       "    <tr>\n",
       "      <th>10</th>\n",
       "      <td>short_finned_pilot_whale</td>\n",
       "      <td>1.095198</td>\n",
       "    </tr>\n",
       "    <tr>\n",
       "      <th>11</th>\n",
       "      <td>southern_right_whale</td>\n",
       "      <td>1.108136</td>\n",
       "    </tr>\n",
       "    <tr>\n",
       "      <th>12</th>\n",
       "      <td>gray_whale</td>\n",
       "      <td>1.098441</td>\n",
       "    </tr>\n",
       "    <tr>\n",
       "      <th>13</th>\n",
       "      <td>minke_whale</td>\n",
       "      <td>0.876554</td>\n",
       "    </tr>\n",
       "    <tr>\n",
       "      <th>14</th>\n",
       "      <td>cuviers_beaked_whale</td>\n",
       "      <td>0.984737</td>\n",
       "    </tr>\n",
       "    <tr>\n",
       "      <th>15</th>\n",
       "      <td>spotted_dolphin</td>\n",
       "      <td>1.009019</td>\n",
       "    </tr>\n",
       "    <tr>\n",
       "      <th>16</th>\n",
       "      <td>sei_whale</td>\n",
       "      <td>1.033248</td>\n",
       "    </tr>\n",
       "    <tr>\n",
       "      <th>17</th>\n",
       "      <td>common_dolphin</td>\n",
       "      <td>1.005326</td>\n",
       "    </tr>\n",
       "    <tr>\n",
       "      <th>18</th>\n",
       "      <td>long_finned_pilot_whale</td>\n",
       "      <td>1.017462</td>\n",
       "    </tr>\n",
       "    <tr>\n",
       "      <th>19</th>\n",
       "      <td>white_sided_dolphin</td>\n",
       "      <td>1.030111</td>\n",
       "    </tr>\n",
       "    <tr>\n",
       "      <th>20</th>\n",
       "      <td>brydes_whale</td>\n",
       "      <td>1.064501</td>\n",
       "    </tr>\n",
       "    <tr>\n",
       "      <th>21</th>\n",
       "      <td>pantropic_spotted_dolphin</td>\n",
       "      <td>1.083378</td>\n",
       "    </tr>\n",
       "    <tr>\n",
       "      <th>22</th>\n",
       "      <td>commersons_dolphin</td>\n",
       "      <td>1.069672</td>\n",
       "    </tr>\n",
       "    <tr>\n",
       "      <th>23</th>\n",
       "      <td>pygmy_killer_whale</td>\n",
       "      <td>1.076615</td>\n",
       "    </tr>\n",
       "    <tr>\n",
       "      <th>24</th>\n",
       "      <td>rough_toothed_dolphin</td>\n",
       "      <td>1.043599</td>\n",
       "    </tr>\n",
       "    <tr>\n",
       "      <th>25</th>\n",
       "      <td>frasiers_dolphin</td>\n",
       "      <td>1.105583</td>\n",
       "    </tr>\n",
       "  </tbody>\n",
       "</table>\n",
       "</div>"
      ],
      "text/plain": [
       "                      species       thr\n",
       "0              humpback_whale  1.098942\n",
       "1          bottlenose_dolphin  1.084660\n",
       "2                      beluga  1.123397\n",
       "3               dusky_dolphin  0.953195\n",
       "4          false_killer_whale  1.098881\n",
       "5                killer_whale  1.099415\n",
       "6             spinner_dolphin  1.095389\n",
       "7                  blue_whale  1.117441\n",
       "8          melon_headed_whale  0.985881\n",
       "9                   fin_whale  1.061359\n",
       "10   short_finned_pilot_whale  1.095198\n",
       "11       southern_right_whale  1.108136\n",
       "12                 gray_whale  1.098441\n",
       "13                minke_whale  0.876554\n",
       "14       cuviers_beaked_whale  0.984737\n",
       "15            spotted_dolphin  1.009019\n",
       "16                  sei_whale  1.033248\n",
       "17             common_dolphin  1.005326\n",
       "18    long_finned_pilot_whale  1.017462\n",
       "19        white_sided_dolphin  1.030111\n",
       "20               brydes_whale  1.064501\n",
       "21  pantropic_spotted_dolphin  1.083378\n",
       "22         commersons_dolphin  1.069672\n",
       "23         pygmy_killer_whale  1.076615\n",
       "24      rough_toothed_dolphin  1.043599\n",
       "25           frasiers_dolphin  1.105583"
      ]
     },
     "execution_count": 58,
     "metadata": {},
     "output_type": "execute_result"
    }
   ],
   "source": [
    "thr_df"
   ]
  },
  {
   "cell_type": "code",
   "execution_count": 59,
   "metadata": {},
   "outputs": [
    {
     "name": "stderr",
     "output_type": "stream",
     "text": [
      "100%|██████████| 27956/27956 [01:06<00:00, 418.35it/s]\n"
     ]
    }
   ],
   "source": [
    "sub_pred_lis = []\n",
    "\n",
    "train_inddividual_id_lis = train[\"individual_id\"].values\n",
    "new_ind_1_cnt=0\n",
    "\n",
    "new_ind_index_lis = [] # 1, 0.5 ,0.33, 0.25, 0.2\n",
    "\n",
    "for i in tqdm(range(predicted_positions.shape[0])):\n",
    "    nearest = [(train_inddividual_id_lis[j], distances[i, j]) for j in predicted_positions[i]]\n",
    "    \n",
    "    nearest.sort(key=lambda x: x[1])\n",
    "    \n",
    "    spe = test_pred_species[i]\n",
    "    new_individual_thr = thr_df.query(\"species == @spe\").iloc[0].thr\n",
    "\n",
    "    done = set()\n",
    "    pred_list = []\n",
    "    new_ind_ind = 0\n",
    "    for pred_id, score in nearest:\n",
    "        if score > new_individual_thr and not \"new_individual\" in done:\n",
    "            pred_list.append(\"new_individual\")\n",
    "            done.add(\"new_individual\")\n",
    "            new_ind_index_lis.append(1/len(pred_list))\n",
    "            \n",
    "        if pred_id in done:\n",
    "            continue\n",
    "        done.add(pred_id)\n",
    "        pred_list.append(pred_id)\n",
    "        if len(pred_list)>=5:\n",
    "            break    \n",
    "\n",
    "    if pred_list[0]==\"new_individual\":\n",
    "        new_ind_1_cnt+=1\n",
    "    sub_pred_lis.append(pred_list[:5])"
   ]
  },
  {
   "cell_type": "code",
   "execution_count": 60,
   "metadata": {},
   "outputs": [
    {
     "data": {
      "text/plain": [
       "0.14097152668479038"
      ]
     },
     "execution_count": 60,
     "metadata": {},
     "output_type": "execute_result"
    }
   ],
   "source": [
    "new_ind_1_cnt/len(test_df)"
   ]
  },
  {
   "cell_type": "code",
   "execution_count": 61,
   "metadata": {
    "scrolled": true
   },
   "outputs": [
    {
     "data": {
      "text/plain": [
       "0.48062190660641274"
      ]
     },
     "execution_count": 61,
     "metadata": {},
     "output_type": "execute_result"
    }
   ],
   "source": [
    "np.mean(new_ind_index_lis)"
   ]
  },
  {
   "cell_type": "code",
   "execution_count": 62,
   "metadata": {},
   "outputs": [],
   "source": [
    "pred_lis_joined = []\n",
    "for preds in sub_pred_lis:\n",
    "    pred_lis_joined.append(\" \".join(preds))"
   ]
  },
  {
   "cell_type": "code",
   "execution_count": 63,
   "metadata": {},
   "outputs": [],
   "source": [
    "test_df[\"predictions\"] = pred_lis_joined"
   ]
  },
  {
   "cell_type": "code",
   "execution_count": 64,
   "metadata": {},
   "outputs": [],
   "source": [
    "test_df[[\"image\",\"predictions\"]].to_csv(\"submission_multi_\" +str(MULTIPLIER)+\".csv\",index=None)"
   ]
  },
  {
   "cell_type": "code",
   "execution_count": 65,
   "metadata": {},
   "outputs": [
    {
     "data": {
      "text/html": [
       "<div>\n",
       "<style scoped>\n",
       "    .dataframe tbody tr th:only-of-type {\n",
       "        vertical-align: middle;\n",
       "    }\n",
       "\n",
       "    .dataframe tbody tr th {\n",
       "        vertical-align: top;\n",
       "    }\n",
       "\n",
       "    .dataframe thead th {\n",
       "        text-align: right;\n",
       "    }\n",
       "</style>\n",
       "<table border=\"1\" class=\"dataframe\">\n",
       "  <thead>\n",
       "    <tr style=\"text-align: right;\">\n",
       "      <th></th>\n",
       "      <th>image</th>\n",
       "      <th>predictions</th>\n",
       "      <th>species</th>\n",
       "    </tr>\n",
       "  </thead>\n",
       "  <tbody>\n",
       "    <tr>\n",
       "      <th>0</th>\n",
       "      <td>000110707af0ba.jpg</td>\n",
       "      <td>fbe2b15b5481 836708f5e690 new_individual 5a199...</td>\n",
       "      <td>gray_whale</td>\n",
       "    </tr>\n",
       "    <tr>\n",
       "      <th>1</th>\n",
       "      <td>0006287ec424cb.jpg</td>\n",
       "      <td>1424c7fec826 e72a5024c4ad new_individual 8870c...</td>\n",
       "      <td>false_killer_whale</td>\n",
       "    </tr>\n",
       "    <tr>\n",
       "      <th>2</th>\n",
       "      <td>000809ecb2ccad.jpg</td>\n",
       "      <td>1ce3ba6a3c29 9c011e5bbf3b 9e788f1982d6 9a41dd5...</td>\n",
       "      <td>beluga</td>\n",
       "    </tr>\n",
       "    <tr>\n",
       "      <th>3</th>\n",
       "      <td>00098d1376dab2.jpg</td>\n",
       "      <td>c4274d90be60 27be93c53673 new_individual 6a6fa...</td>\n",
       "      <td>humpback_whale</td>\n",
       "    </tr>\n",
       "    <tr>\n",
       "      <th>4</th>\n",
       "      <td>000b8d89c738bd.jpg</td>\n",
       "      <td>cf500d3874bc new_individual c88cb1224033 ebd4f...</td>\n",
       "      <td>dusky_dolphin</td>\n",
       "    </tr>\n",
       "    <tr>\n",
       "      <th>...</th>\n",
       "      <td>...</td>\n",
       "      <td>...</td>\n",
       "      <td>...</td>\n",
       "    </tr>\n",
       "    <tr>\n",
       "      <th>27951</th>\n",
       "      <td>fff6ff1989b5cd.jpg</td>\n",
       "      <td>734573d54bef ec0aa394b7e5 new_individual 33f63...</td>\n",
       "      <td>spinner_dolphin</td>\n",
       "    </tr>\n",
       "    <tr>\n",
       "      <th>27952</th>\n",
       "      <td>fff8fd932b42cb.jpg</td>\n",
       "      <td>new_individual 129a9e2703f0 34ae492ed158 d3ddb...</td>\n",
       "      <td>dusky_dolphin</td>\n",
       "    </tr>\n",
       "    <tr>\n",
       "      <th>27953</th>\n",
       "      <td>fff96371332c16.jpg</td>\n",
       "      <td>2fad3a13934d d322fe55b12e 8dc43144e9cb ed8e5aa...</td>\n",
       "      <td>beluga</td>\n",
       "    </tr>\n",
       "    <tr>\n",
       "      <th>27954</th>\n",
       "      <td>fffc1c4d3eabc7.jpg</td>\n",
       "      <td>new_individual a8fe10f7b3e0 3c06337d5955 32959...</td>\n",
       "      <td>cuviers_beaked_whale</td>\n",
       "    </tr>\n",
       "    <tr>\n",
       "      <th>27955</th>\n",
       "      <td>fffc50be10c175.jpg</td>\n",
       "      <td>ad4557cf336c new_individual 3ce86421dc8b 64bb5...</td>\n",
       "      <td>bottlenose_dolphin</td>\n",
       "    </tr>\n",
       "  </tbody>\n",
       "</table>\n",
       "<p>27956 rows × 3 columns</p>\n",
       "</div>"
      ],
      "text/plain": [
       "                    image                                        predictions  \\\n",
       "0      000110707af0ba.jpg  fbe2b15b5481 836708f5e690 new_individual 5a199...   \n",
       "1      0006287ec424cb.jpg  1424c7fec826 e72a5024c4ad new_individual 8870c...   \n",
       "2      000809ecb2ccad.jpg  1ce3ba6a3c29 9c011e5bbf3b 9e788f1982d6 9a41dd5...   \n",
       "3      00098d1376dab2.jpg  c4274d90be60 27be93c53673 new_individual 6a6fa...   \n",
       "4      000b8d89c738bd.jpg  cf500d3874bc new_individual c88cb1224033 ebd4f...   \n",
       "...                   ...                                                ...   \n",
       "27951  fff6ff1989b5cd.jpg  734573d54bef ec0aa394b7e5 new_individual 33f63...   \n",
       "27952  fff8fd932b42cb.jpg  new_individual 129a9e2703f0 34ae492ed158 d3ddb...   \n",
       "27953  fff96371332c16.jpg  2fad3a13934d d322fe55b12e 8dc43144e9cb ed8e5aa...   \n",
       "27954  fffc1c4d3eabc7.jpg  new_individual a8fe10f7b3e0 3c06337d5955 32959...   \n",
       "27955  fffc50be10c175.jpg  ad4557cf336c new_individual 3ce86421dc8b 64bb5...   \n",
       "\n",
       "                    species  \n",
       "0                gray_whale  \n",
       "1        false_killer_whale  \n",
       "2                    beluga  \n",
       "3            humpback_whale  \n",
       "4             dusky_dolphin  \n",
       "...                     ...  \n",
       "27951       spinner_dolphin  \n",
       "27952         dusky_dolphin  \n",
       "27953                beluga  \n",
       "27954  cuviers_beaked_whale  \n",
       "27955    bottlenose_dolphin  \n",
       "\n",
       "[27956 rows x 3 columns]"
      ]
     },
     "execution_count": 65,
     "metadata": {},
     "output_type": "execute_result"
    }
   ],
   "source": [
    "test_df"
   ]
  },
  {
   "cell_type": "code",
   "execution_count": null,
   "metadata": {},
   "outputs": [],
   "source": []
  },
  {
   "cell_type": "markdown",
   "metadata": {},
   "source": [
    "check result"
   ]
  },
  {
   "cell_type": "code",
   "execution_count": 66,
   "metadata": {},
   "outputs": [],
   "source": [
    "top1_new_ind_spe = defaultdict(list)\n",
    "new_ind_score_spe = defaultdict(list)\n",
    "\n",
    "for i in range(len(test_pred_species)):\n",
    "    spe = test_pred_species[i]\n",
    "    \n",
    "    if sub_pred_lis[i][0] == \"new_individual\":\n",
    "        top1_new_ind_spe[spe].append(1)\n",
    "    else:\n",
    "        top1_new_ind_spe[spe].append(0)\n",
    "        \n",
    "    if \"new_individual\" in sub_pred_lis[i]:\n",
    "        ind = sub_pred_lis[i].index(\"new_individual\")\n",
    "        new_ind_score_spe[spe].append(1/(ind+1))\n",
    "    else:\n",
    "        new_ind_score_spe[spe].append(0)"
   ]
  },
  {
   "cell_type": "code",
   "execution_count": 67,
   "metadata": {},
   "outputs": [],
   "source": [
    "spe_lis = []\n",
    "top1_lis = []\n",
    "cnt_lis = []\n",
    "ratio_lis = []\n",
    "\n",
    "all_sum = 0\n",
    "for k,v in top1_new_ind_spe.items():\n",
    "    spe_lis.append(k)\n",
    "    \n",
    "    cnt = len(v)\n",
    "    sum1 = np.sum(v)\n",
    "    top1_lis.append(sum1/cnt)\n",
    "    cnt_lis.append(cnt)\n",
    "    \n",
    "    ratios = new_ind_score_spe[k]\n",
    "    ratio_lis.append(np.mean(ratios))"
   ]
  },
  {
   "cell_type": "code",
   "execution_count": null,
   "metadata": {},
   "outputs": [],
   "source": []
  },
  {
   "cell_type": "code",
   "execution_count": 68,
   "metadata": {},
   "outputs": [],
   "source": [
    "df = pd.DataFrame()"
   ]
  },
  {
   "cell_type": "code",
   "execution_count": 69,
   "metadata": {},
   "outputs": [],
   "source": [
    "df[\"species\"] = spe_lis\n",
    "df[\"top1\"] = top1_lis\n",
    "df[\"ratio\"] = ratio_lis\n",
    "df[\"cnt\"] = cnt_lis"
   ]
  },
  {
   "cell_type": "markdown",
   "metadata": {},
   "source": [
    "multiplier is 1.3  \n",
    "beluga has 0.006468 * 1.3 = 0.0084084 top_1 ratio"
   ]
  },
  {
   "cell_type": "code",
   "execution_count": 70,
   "metadata": {},
   "outputs": [
    {
     "data": {
      "text/html": [
       "<div>\n",
       "<style scoped>\n",
       "    .dataframe tbody tr th:only-of-type {\n",
       "        vertical-align: middle;\n",
       "    }\n",
       "\n",
       "    .dataframe tbody tr th {\n",
       "        vertical-align: top;\n",
       "    }\n",
       "\n",
       "    .dataframe thead th {\n",
       "        text-align: right;\n",
       "    }\n",
       "</style>\n",
       "<table border=\"1\" class=\"dataframe\">\n",
       "  <thead>\n",
       "    <tr style=\"text-align: right;\">\n",
       "      <th></th>\n",
       "      <th>species</th>\n",
       "      <th>top1</th>\n",
       "      <th>ratio</th>\n",
       "      <th>cnt</th>\n",
       "    </tr>\n",
       "  </thead>\n",
       "  <tbody>\n",
       "    <tr>\n",
       "      <th>21</th>\n",
       "      <td>white_sided_dolphin</td>\n",
       "      <td>0.241611</td>\n",
       "      <td>0.559508</td>\n",
       "      <td>149</td>\n",
       "    </tr>\n",
       "    <tr>\n",
       "      <th>13</th>\n",
       "      <td>long_finned_pilot_whale</td>\n",
       "      <td>0.125654</td>\n",
       "      <td>0.535340</td>\n",
       "      <td>191</td>\n",
       "    </tr>\n",
       "    <tr>\n",
       "      <th>17</th>\n",
       "      <td>common_dolphin</td>\n",
       "      <td>0.128079</td>\n",
       "      <td>0.420279</td>\n",
       "      <td>203</td>\n",
       "    </tr>\n",
       "    <tr>\n",
       "      <th>14</th>\n",
       "      <td>sei_whale</td>\n",
       "      <td>0.127586</td>\n",
       "      <td>0.443448</td>\n",
       "      <td>290</td>\n",
       "    </tr>\n",
       "    <tr>\n",
       "      <th>19</th>\n",
       "      <td>spotted_dolphin</td>\n",
       "      <td>0.302326</td>\n",
       "      <td>0.605669</td>\n",
       "      <td>344</td>\n",
       "    </tr>\n",
       "    <tr>\n",
       "      <th>7</th>\n",
       "      <td>cuviers_beaked_whale</td>\n",
       "      <td>0.485175</td>\n",
       "      <td>0.712084</td>\n",
       "      <td>371</td>\n",
       "    </tr>\n",
       "    <tr>\n",
       "      <th>18</th>\n",
       "      <td>minke_whale</td>\n",
       "      <td>0.330935</td>\n",
       "      <td>0.609502</td>\n",
       "      <td>556</td>\n",
       "    </tr>\n",
       "    <tr>\n",
       "      <th>0</th>\n",
       "      <td>gray_whale</td>\n",
       "      <td>0.063665</td>\n",
       "      <td>0.222697</td>\n",
       "      <td>644</td>\n",
       "    </tr>\n",
       "    <tr>\n",
       "      <th>8</th>\n",
       "      <td>southern_right_whale</td>\n",
       "      <td>0.109256</td>\n",
       "      <td>0.311052</td>\n",
       "      <td>659</td>\n",
       "    </tr>\n",
       "    <tr>\n",
       "      <th>20</th>\n",
       "      <td>short_finned_pilot_whale</td>\n",
       "      <td>0.043970</td>\n",
       "      <td>0.342525</td>\n",
       "      <td>796</td>\n",
       "    </tr>\n",
       "    <tr>\n",
       "      <th>12</th>\n",
       "      <td>fin_whale</td>\n",
       "      <td>0.130488</td>\n",
       "      <td>0.402663</td>\n",
       "      <td>820</td>\n",
       "    </tr>\n",
       "    <tr>\n",
       "      <th>16</th>\n",
       "      <td>melon_headed_whale</td>\n",
       "      <td>0.488479</td>\n",
       "      <td>0.736713</td>\n",
       "      <td>1085</td>\n",
       "    </tr>\n",
       "    <tr>\n",
       "      <th>9</th>\n",
       "      <td>blue_whale</td>\n",
       "      <td>0.062290</td>\n",
       "      <td>0.218813</td>\n",
       "      <td>1188</td>\n",
       "    </tr>\n",
       "    <tr>\n",
       "      <th>6</th>\n",
       "      <td>spinner_dolphin</td>\n",
       "      <td>0.083647</td>\n",
       "      <td>0.345077</td>\n",
       "      <td>1327</td>\n",
       "    </tr>\n",
       "    <tr>\n",
       "      <th>10</th>\n",
       "      <td>killer_whale</td>\n",
       "      <td>0.022945</td>\n",
       "      <td>0.171542</td>\n",
       "      <td>1569</td>\n",
       "    </tr>\n",
       "    <tr>\n",
       "      <th>1</th>\n",
       "      <td>false_killer_whale</td>\n",
       "      <td>0.019769</td>\n",
       "      <td>0.280313</td>\n",
       "      <td>1821</td>\n",
       "    </tr>\n",
       "    <tr>\n",
       "      <th>4</th>\n",
       "      <td>dusky_dolphin</td>\n",
       "      <td>0.680198</td>\n",
       "      <td>0.837581</td>\n",
       "      <td>2217</td>\n",
       "    </tr>\n",
       "    <tr>\n",
       "      <th>2</th>\n",
       "      <td>beluga</td>\n",
       "      <td>0.008255</td>\n",
       "      <td>0.065054</td>\n",
       "      <td>4361</td>\n",
       "    </tr>\n",
       "    <tr>\n",
       "      <th>5</th>\n",
       "      <td>bottlenose_dolphin</td>\n",
       "      <td>0.032575</td>\n",
       "      <td>0.258181</td>\n",
       "      <td>4482</td>\n",
       "    </tr>\n",
       "    <tr>\n",
       "      <th>3</th>\n",
       "      <td>humpback_whale</td>\n",
       "      <td>0.127111</td>\n",
       "      <td>0.389293</td>\n",
       "      <td>4500</td>\n",
       "    </tr>\n",
       "  </tbody>\n",
       "</table>\n",
       "</div>"
      ],
      "text/plain": [
       "                     species      top1     ratio   cnt\n",
       "21       white_sided_dolphin  0.241611  0.559508   149\n",
       "13   long_finned_pilot_whale  0.125654  0.535340   191\n",
       "17            common_dolphin  0.128079  0.420279   203\n",
       "14                 sei_whale  0.127586  0.443448   290\n",
       "19           spotted_dolphin  0.302326  0.605669   344\n",
       "7       cuviers_beaked_whale  0.485175  0.712084   371\n",
       "18               minke_whale  0.330935  0.609502   556\n",
       "0                 gray_whale  0.063665  0.222697   644\n",
       "8       southern_right_whale  0.109256  0.311052   659\n",
       "20  short_finned_pilot_whale  0.043970  0.342525   796\n",
       "12                 fin_whale  0.130488  0.402663   820\n",
       "16        melon_headed_whale  0.488479  0.736713  1085\n",
       "9                 blue_whale  0.062290  0.218813  1188\n",
       "6            spinner_dolphin  0.083647  0.345077  1327\n",
       "10              killer_whale  0.022945  0.171542  1569\n",
       "1         false_killer_whale  0.019769  0.280313  1821\n",
       "4              dusky_dolphin  0.680198  0.837581  2217\n",
       "2                     beluga  0.008255  0.065054  4361\n",
       "5         bottlenose_dolphin  0.032575  0.258181  4482\n",
       "3             humpback_whale  0.127111  0.389293  4500"
      ]
     },
     "execution_count": 70,
     "metadata": {},
     "output_type": "execute_result"
    }
   ],
   "source": [
    "\n",
    "df.query(\"cnt > 100\").sort_values(\"cnt\")\n"
   ]
  },
  {
   "cell_type": "code",
   "execution_count": 71,
   "metadata": {
    "scrolled": true
   },
   "outputs": [
    {
     "data": {
      "image/png": "[encoded data removed]",
      "text/plain": [
       "<Figure size 432x288 with 1 Axes>"
      ]
     },
     "metadata": {
      "needs_background": "light"
     },
     "output_type": "display_data"
    }
   ],
   "source": [
    "plt.scatter(df.top1,df.ratio)\n",
    "plt.grid()"
   ]
  }
 ],
 "metadata": {
  "kernelspec": {
   "display_name": "Python 3 (ipykernel)",
   "language": "python",
   "name": "python3"
  },
  "language_info": {
   "codemirror_mode": {
    "name": "ipython",
    "version": 3
   },
   "file_extension": ".py",
   "mimetype": "text/x-python",
   "name": "python",
   "nbconvert_exporter": "python",
   "pygments_lexer": "ipython3",
   "version": "3.7.12"
  }
 },
 "nbformat": 4,
 "nbformat_minor": 4
}
